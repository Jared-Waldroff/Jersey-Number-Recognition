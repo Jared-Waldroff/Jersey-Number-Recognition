{
 "cells": [
  {
   "cell_type": "markdown",
   "metadata": {},
   "source": [
    "## Colin's active development sandbox"
   ]
  },
  {
   "cell_type": "code",
   "execution_count": 34,
   "metadata": {},
   "outputs": [
    {
     "name": "stderr",
     "output_type": "stream",
     "text": [
      "[2025-02-26 09:40:07] - [INFO]: ROOT_DATA_DIR: c:\\Users\\colin\\OneDrive\\Desktop\\UBC\\Jersey-Number-Recognition\\data\\SoccerNet\\jersey-2023\\extracted\n",
      "[2025-02-26 09:40:07] - [INFO]: TRAIN_DATA_DIR: c:\\Users\\colin\\OneDrive\\Desktop\\UBC\\Jersey-Number-Recognition\\data\\SoccerNet\\jersey-2023\\extracted\\train\\images\n",
      "[2025-02-26 09:40:07] - [INFO]: TEST_DATA_DIR: c:\\Users\\colin\\OneDrive\\Desktop\\UBC\\Jersey-Number-Recognition\\data\\SoccerNet\\jersey-2023\\extracted\\test\\images\n",
      "[2025-02-26 09:40:07] - [INFO]: VAL_DATA_DIR: c:\\Users\\colin\\OneDrive\\Desktop\\UBC\\Jersey-Number-Recognition\\data\\SoccerNet\\jersey-2023\\extracted\\challenge\\images\n",
      "[2025-02-26 09:40:07] - [INFO]: Using device: cuda\n"
     ]
    }
   ],
   "source": [
    "from enum import Enum\n",
    "from pathlib import Path\n",
    "import logging\n",
    "import time\n",
    "import torch\n",
    "import torch.nn as nn\n",
    "import torch.optim as optim\n",
    "import torchvision as tv\n",
    "import torchvision.transforms as transforms\n",
    "import matplotlib.pyplot as plt\n",
    "import numpy as np\n",
    "import tqdm.auto as tqdm\n",
    "import os\n",
    "import re\n",
    "\n",
    "for handler in logging.root.handlers[:]:\n",
    "    logging.root.removeHandler(handler)\n",
    "\n",
    "logging.basicConfig(\n",
    "    level=logging.INFO,\n",
    "    format='[%(asctime)s] - [%(levelname)s]: %(message)s',\n",
    "    datefmt='%Y-%m-%d %H:%M:%S'\n",
    ")\n",
    "\n",
    "class DataPaths(Enum):\n",
    "    ROOT_DATA_DIR = str(Path.cwd().parent / 'data' / 'SoccerNet' / 'jersey-2023' / 'extracted')\n",
    "    TEST_DATA_DIR = str(Path(ROOT_DATA_DIR) / 'test' / 'images')\n",
    "    TRAIN_DATA_DIR = str(Path(ROOT_DATA_DIR) / 'train' / 'images')\n",
    "    VALIDATION_DATA_DIR = str(Path(ROOT_DATA_DIR) / 'challenge' / 'images')\n",
    "\n",
    "device = torch.device('cuda' if torch.cuda.is_available() else 'cpu')\n",
    "logging.info(f\"ROOT_DATA_DIR: {DataPaths.ROOT_DATA_DIR.value}\")\n",
    "logging.info(f\"TRAIN_DATA_DIR: {DataPaths.TRAIN_DATA_DIR.value}\")\n",
    "logging.info(f\"TEST_DATA_DIR: {DataPaths.TEST_DATA_DIR.value}\")\n",
    "logging.info(f\"VAL_DATA_DIR: {DataPaths.VALIDATION_DATA_DIR.value}\")\n",
    "logging.info(f\"Using device: {device}\")\n"
   ]
  },
  {
   "cell_type": "markdown",
   "metadata": {},
   "source": [
    "### Tracklet iterator"
   ]
  },
  {
   "cell_type": "code",
   "execution_count": 35,
   "metadata": {},
   "outputs": [
    {
     "name": "stderr",
     "output_type": "stream",
     "text": [
      "[2025-02-26 09:40:07] - [INFO]: ['0', '1', '10', '100', '1000', '1001', '1002', '1003', '1004', '1005']\n",
      "[2025-02-26 09:40:07] - [INFO]: Min tracklet: 0\n",
      "[2025-02-26 09:40:07] - [INFO]: Max tracklet: 1426\n"
     ]
    }
   ],
   "source": [
    "# Ignore the .DS_Store files\n",
    "tracks = [t for t in os.listdir(DataPaths.TRAIN_DATA_DIR.value) if not t.startswith('.')]\n",
    "logging.info(tracks[0:10])\n",
    "\n",
    "# Extract numerical part and convert to integer for comparison\n",
    "def extract_number(track):\n",
    "    match = re.search(r'(\\d+)', track)  # Extracts the first sequence of digits\n",
    "    if match:\n",
    "        return int(match.group(1))\n",
    "    return -1  # Provide a default value if no number is found\n",
    "\n",
    "# Find min and max tracklets based on the extracted number\n",
    "if tracks:\n",
    "    min_track = min(tracks, key=extract_number)\n",
    "    max_track = max(tracks, key=extract_number)\n",
    "\n",
    "    logging.info(f\"Min tracklet: {min_track}\")\n",
    "    logging.info(f\"Max tracklet: {max_track}\")\n",
    "else:\n",
    "    logging.warning(\"No tracklets found.\")"
   ]
  }
 ],
 "metadata": {
  "kernelspec": {
   "display_name": "UBC",
   "language": "python",
   "name": "python3"
  },
  "language_info": {
   "codemirror_mode": {
    "name": "ipython",
    "version": 3
   },
   "file_extension": ".py",
   "mimetype": "text/x-python",
   "name": "python",
   "nbconvert_exporter": "python",
   "pygments_lexer": "ipython3",
   "version": "3.13.1"
  }
 },
 "nbformat": 4,
 "nbformat_minor": 2
}
