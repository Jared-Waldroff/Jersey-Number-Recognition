{
 "cells": [
  {
   "cell_type": "markdown",
   "metadata": {},
   "source": [
    "## 4-way cache merge\n",
    "1. \"C:\\Users\\colin\\OneDrive\\Desktop\\SUBMISSION\\Batch0_0_600\\final_results.json\"\n",
    "2. \"C:\\Users\\colin\\OneDrive\\Desktop\\SUBMISSION\\Batch1_Backfill_601_711\\final_results.json\"\n",
    "3. \"C:\\Users\\colin\\OneDrive\\Desktop\\SUBMISSION\\Batch2_Results_712_1424\\final_results.json\"\n",
    "4. \"C:\\Users\\colin\\OneDrive\\Desktop\\SUBMISSION\\Last_Tracklet_1425\\final_results.json\""
   ]
  },
  {
   "cell_type": "code",
   "execution_count": 1,
   "metadata": {},
   "outputs": [],
   "source": [
    "import json\n",
    "\n",
    "# File paths\n",
    "path1 = r\"C:\\Users\\colin\\OneDrive\\Desktop\\SUBMISSION\\Batch0_0_600\\final_results.json\"\n",
    "path2 = r\"C:\\Users\\colin\\OneDrive\\Desktop\\SUBMISSION\\Batch1_Backfill_601_711\\final_results.json\"\n",
    "path3 = r\"C:\\Users\\colin\\OneDrive\\Desktop\\SUBMISSION\\Batch2_Results_712_1424\\final_results.json\"\n",
    "path4 = r\"C:\\Users\\colin\\OneDrive\\Desktop\\SUBMISSION\\Last_Tracklet_1425\\final_results.json\"\n",
    "\n",
    "merged_data = {}\n",
    "\n",
    "# 1) Load 0..600 from path1\n",
    "with open(path1, \"r\", encoding=\"utf-8\") as f:\n",
    "    data1 = json.load(f)\n",
    "for key_str, value in data1.items():\n",
    "    key_int = int(key_str)\n",
    "    if 0 <= key_int <= 600:\n",
    "        merged_data[key_str] = value\n",
    "\n",
    "# 2) Load 601..711 from path2\n",
    "with open(path2, \"r\", encoding=\"utf-8\") as f:\n",
    "    data2 = json.load(f)\n",
    "for key_str, value in data2.items():\n",
    "    key_int = int(key_str)\n",
    "    if 601 <= key_int <= 711:\n",
    "        merged_data[key_str] = value\n",
    "\n",
    "# 3) Load 712..1424 from path3\n",
    "with open(path3, \"r\", encoding=\"utf-8\") as f:\n",
    "    data3 = json.load(f)\n",
    "for key_str, value in data3.items():\n",
    "    key_int = int(key_str)\n",
    "    if 712 <= key_int <= 1424:\n",
    "        merged_data[key_str] = value\n",
    "\n",
    "# 4) Load key=1425 from path4\n",
    "with open(path4, \"r\", encoding=\"utf-8\") as f:\n",
    "    data4 = json.load(f)\n",
    "# Just add the single key-value pair for 1425\n",
    "if \"1425\" in data4:\n",
    "    merged_data[\"1425\"] = data4[\"1425\"]\n",
    "\n",
    "# Write out the merged results to a new JSON file\n",
    "output_path = r\"C:\\Users\\colin\\OneDrive\\Desktop\\SUBMISSION\\merged_results.json\"\n",
    "with open(output_path, \"w\", encoding=\"utf-8\") as out:\n",
    "    json.dump(merged_data, out, indent=4)"
   ]
  }
 ],
 "metadata": {
  "kernelspec": {
   "display_name": "UBC",
   "language": "python",
   "name": "python3"
  },
  "language_info": {
   "codemirror_mode": {
    "name": "ipython",
    "version": 3
   },
   "file_extension": ".py",
   "mimetype": "text/x-python",
   "name": "python",
   "nbconvert_exporter": "python",
   "pygments_lexer": "ipython3",
   "version": "3.13.1"
  }
 },
 "nbformat": 4,
 "nbformat_minor": 2
}
