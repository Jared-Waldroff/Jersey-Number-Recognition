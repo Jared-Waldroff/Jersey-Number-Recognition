{
 "cells": [
  {
   "cell_type": "markdown",
   "metadata": {},
   "source": [
    "### Quick Run Block"
   ]
  },
  {
   "cell_type": "code",
   "execution_count": 1,
   "metadata": {},
   "outputs": [],
   "source": [
    "# import torch\n",
    "# from pytorch_lightning.callbacks import ModelCheckpoint\n",
    "\n",
    "# # Path to the problematic checkpoint\n",
    "# checkpoint_path = r\"c:\\Users\\colin\\OneDrive\\Desktop\\Jersey-Number-Recognition\\data\\pre_trained_models\\reid\\dukemtmcreid_resnet50_256_128_epoch_120.ckpt\"\n",
    "\n",
    "# # Allow loading of ModelCheckpoint objects (since PyTorch 2.6 blocks this by default)\n",
    "# torch.serialization.add_safe_globals([ModelCheckpoint])\n",
    "\n",
    "# # Load the checkpoint safely\n",
    "# checkpoint = torch.load(checkpoint_path, map_location=\"cpu\", weights_only=False)\n",
    "\n",
    "# # Print out keys to inspect conflicting ones\n",
    "# print(\"Checkpoint keys:\", checkpoint.keys())\n",
    "\n",
    "# # Remove ModelCheckpoint states (if they exist)\n",
    "# keys_to_remove = [key for key in checkpoint.keys() if \"ModelCheckpoint\" in key]\n",
    "# for key in keys_to_remove:\n",
    "#     del checkpoint[key]\n",
    "\n",
    "# # Save the cleaned checkpoint\n",
    "# fixed_checkpoint_path = checkpoint_path.replace(\".ckpt\", \"_fixed.ckpt\")\n",
    "# torch.save(checkpoint, fixed_checkpoint_path)\n",
    "\n",
    "# print(f\"Fixed checkpoint saved to: {fixed_checkpoint_path}\")"
   ]
  },
  {
   "cell_type": "markdown",
   "metadata": {},
   "source": [
    "## Code"
   ]
  },
  {
   "cell_type": "code",
   "execution_count": 2,
   "metadata": {},
   "outputs": [
    {
     "name": "stdout",
     "output_type": "stream",
     "text": [
      "c:\\Users\\colin\\OneDrive\\Desktop\\Jersey-Number-Recognition\n",
      "Current working directory:  c:\\Users\\colin\\OneDrive\\Desktop\\Jersey-Number-Recognition\\ModelDevelopment\\experiments\n"
     ]
    }
   ],
   "source": [
    "import sys\n",
    "from pathlib import Path\n",
    "import os\n",
    "\n",
    "sys.path.append(str(Path.cwd().parent.parent))\n",
    "print(str(Path.cwd().parent.parent))\n",
    "print(\"Current working directory: \", os.getcwd())\n",
    "\n",
    "from ModelDevelopment.CentralPipeline import CentralPipeline\n",
    "from ModelDevelopment.ImageBatchPipeline import ImageBatchPipeline\n",
    "from DataProcessing.DataPreProcessing import DataPaths"
   ]
  },
  {
   "cell_type": "markdown",
   "metadata": {},
   "source": [
    "## Multithreaded Studies Research Findings\n",
    "- ThreadPoolExecutor works best for CentralPipeline pre-processing step (i.e. everything before run_pose)\n",
    "- Time taken to process one batch of 32 tracklets: 251 seconds => (251*32)/3600 = 2.35 hours ETA @ 200 images per batch cap, num_threads = 6x3 = 18\n",
    "- Note on the GPU_SEMAPHORE constant inside ImageFeatureTransformPipeline: this is always capped at 1 so we only offload 1 batch of images to the GPU\n",
    "- Since this gate is capped at 1, we can control the amount of data offloaded to the GPU via the image_batch_size param to CentralPipeline and only that\n",
    "- Since caching is implemented, you can try setting the gate to 2 for even faster results, and if the process crashes, keep restarting with use_cache=True"
   ]
  },
  {
   "cell_type": "code",
   "execution_count": 3,
   "metadata": {},
   "outputs": [
    {
     "name": "stdout",
     "output_type": "stream",
     "text": [
      "2025-03-25 20:06:29 [INFO] DataPreProcessing initialized. Universe of available data paths:\n",
      "2025-03-25 20:06:29 [INFO] ROOT_DATA_DIR: c:\\Users\\colin\\OneDrive\\Desktop\\Jersey-Number-Recognition\\data\\SoccerNet\\jersey-2023\\extracted\n",
      "2025-03-25 20:06:29 [INFO] TEST_DATA_GT: c:\\Users\\colin\\OneDrive\\Desktop\\Jersey-Number-Recognition\\data\\SoccerNet\\jersey-2023\\extracted\\test\\test_gt.json\n",
      "2025-03-25 20:06:29 [INFO] TRAIN_DATA_GT: c:\\Users\\colin\\OneDrive\\Desktop\\Jersey-Number-Recognition\\data\\SoccerNet\\jersey-2023\\extracted\\train\\train_gt.json\n",
      "2025-03-25 20:06:29 [INFO] TEST_DATA_DIR: c:\\Users\\colin\\OneDrive\\Desktop\\Jersey-Number-Recognition\\data\\SoccerNet\\jersey-2023\\extracted\\test\\images\n",
      "2025-03-25 20:06:29 [INFO] TRAIN_DATA_DIR: c:\\Users\\colin\\OneDrive\\Desktop\\Jersey-Number-Recognition\\data\\SoccerNet\\jersey-2023\\extracted\\train\\images\n",
      "2025-03-25 20:06:29 [INFO] CHALLENGE_DATA_DIR: c:\\Users\\colin\\OneDrive\\Desktop\\Jersey-Number-Recognition\\data\\SoccerNet\\jersey-2023\\extracted\\challenge\\images\n",
      "2025-03-25 20:06:29 [INFO] PRE_TRAINED_MODELS_DIR: c:\\Users\\colin\\OneDrive\\Desktop\\Jersey-Number-Recognition\\data\\pre_trained_models\n",
      "2025-03-25 20:06:29 [INFO] REID_PRE_TRAINED: c:\\Users\\colin\\OneDrive\\Desktop\\Jersey-Number-Recognition\\data\\pre_trained_models\\reid\n",
      "2025-03-25 20:06:29 [INFO] STR_PRE_TRAINED: c:\\Users\\colin\\OneDrive\\Desktop\\Jersey-Number-Recognition\\data\\pre_trained_models\\str\n",
      "2025-03-25 20:06:29 [INFO] STR_MODEL: c:\\Users\\colin\\OneDrive\\Desktop\\Jersey-Number-Recognition\\data\\pre_trained_models\\str\\parseq_epoch=24-step=2575-val_accuracy=95.6044-val_NED=96.3255.ckpt\n",
      "2025-03-25 20:06:29 [INFO] REID_MODEL_1: c:\\Users\\colin\\OneDrive\\Desktop\\Jersey-Number-Recognition\\data\\pre_trained_models\\reid\\dukemtmcreid_resnet50_256_128_epoch_120.ckpt\n",
      "2025-03-25 20:06:29 [INFO] REID_MODEL_2: c:\\Users\\colin\\OneDrive\\Desktop\\Jersey-Number-Recognition\\data\\pre_trained_models\\reid\\market1501_resnet50_256_128_epoch_120.ckpt\n",
      "2025-03-25 20:06:29 [INFO] REID_CONFIG_YAML: c:\\Users\\colin\\OneDrive\\Desktop\\Jersey-Number-Recognition\\data\\pre_trained_models\\reid\\configs\\256_resnet50.yml\n",
      "2025-03-25 20:06:29 [INFO] RESNET_MODEL: c:\\Users\\colin\\OneDrive\\Desktop\\Jersey-Number-Recognition\\data\\pre_trained_models\\resnet\\legibility_resnet34_soccer_20240215.pth\n",
      "2025-03-25 20:06:29 [INFO] PROCESSED_DATA_OUTPUT_DIR: c:\\Users\\colin\\OneDrive\\Desktop\\Jersey-Number-Recognition\\data\\SoccerNet\\jersey-2023\\processed_data\n",
      "2025-03-25 20:06:29 [INFO] PROCESSED_DATA_OUTPUT_DIR_TRAIN: c:\\Users\\colin\\OneDrive\\Desktop\\Jersey-Number-Recognition\\data\\SoccerNet\\jersey-2023\\processed_data\\train\n",
      "2025-03-25 20:06:29 [INFO] PROCESSED_DATA_OUTPUT_DIR_TEST: c:\\Users\\colin\\OneDrive\\Desktop\\Jersey-Number-Recognition\\data\\SoccerNet\\jersey-2023\\processed_data\\test\n",
      "2025-03-25 20:06:29 [INFO] PROCESSED_DATA_OUTPUT_DIR_CHALLENGE: c:\\Users\\colin\\OneDrive\\Desktop\\Jersey-Number-Recognition\\data\\SoccerNet\\jersey-2023\\processed_data\\challenge\n",
      "2025-03-25 20:06:29 [INFO] COMMON_PROCESSED_OUTPUT_DATA_TRAIN: c:\\Users\\colin\\OneDrive\\Desktop\\Jersey-Number-Recognition\\data\\SoccerNet\\jersey-2023\\processed_data\\train\\common_data\n",
      "2025-03-25 20:06:29 [INFO] COMMON_PROCESSED_OUTPUT_DATA_TEST: c:\\Users\\colin\\OneDrive\\Desktop\\Jersey-Number-Recognition\\data\\SoccerNet\\jersey-2023\\processed_data\\test\\common_data\n",
      "2025-03-25 20:06:29 [INFO] COMMON_PROCESSED_OUTPUT_DATA_CHALLENGE: c:\\Users\\colin\\OneDrive\\Desktop\\Jersey-Number-Recognition\\data\\SoccerNet\\jersey-2023\\processed_data\\challenge\\common_data\n",
      "2025-03-25 20:06:29 [INFO] STREAMLINED_PIPELINE: c:\\Users\\colin\\OneDrive\\Desktop\\Jersey-Number-Recognition\\StreamlinedPipelineScripts\n",
      "2025-03-25 20:06:29 [INFO] ['0', '1', '2', '3', '4', '5', '6', '7', '8', '9']\n",
      "2025-03-25 20:06:29 [INFO] Min tracklet: 0\n",
      "2025-03-25 20:06:29 [INFO] Max tracklet: 1210\n",
      "2025-03-25 20:06:29 [INFO] Using device: cuda\n",
      "2025-03-25 20:06:29 [INFO] ['0', '1', '2', '3', '4', '5', '6', '7', '8', '9']\n",
      "2025-03-25 20:06:29 [INFO] Min tracklet: 0\n",
      "2025-03-25 20:06:29 [INFO] Max tracklet: 1210\n"
     ]
    }
   ],
   "source": [
    "pipeline = CentralPipeline(\n",
    "  #tracklets_to_process_override=[\"1\"],\n",
    "  #num_tracklets=1210,\n",
    "  #num_images_per_tracklet=50,\n",
    "  input_data_path=DataPaths.TEST_DATA_DIR.value,\n",
    "  output_processed_data_path=DataPaths.PROCESSED_DATA_OUTPUT_DIR_TEST.value,\n",
    "  common_processed_data_dir=DataPaths.COMMON_PROCESSED_OUTPUT_DATA_TEST.value,\n",
    "  gt_data_path=DataPaths.TEST_DATA_GT.value,\n",
    "  single_image_pipeline=False,\n",
    "  display_transformed_image_sample=False, # NOTE: DO NOT USE. Code is parallelized so we cannot show images anymore. Code breaks, but first one will show if True.\n",
    "  num_image_samples=1,\n",
    "  use_cache=True, # Set to false if you encounter data inconsistencies.\n",
    "  suppress_logging=False,\n",
    "  \n",
    "  # --- PARALLELIZATION PARAMS --- These settings are optimal for an NVIDIA RTX 3070 Ti Laptop GPU.\n",
    "  num_workers=4,            # CRITICAL optimisation param. Adjust accordingly. 6\n",
    "  tracklet_batch_size=32,   # CRITICAL optimisation param. Adjust accordingly. 32\n",
    "  image_batch_size=200,     # CRITICAL optimisation param. Adjust accordingly. 200\n",
    "  num_threads_multiplier=3  # CRITICAL optimisation param. Adjust accordingly. 3. Interpretation: num_threads = num_workers * num_threads_multiplier\n",
    "  )"
   ]
  },
  {
   "cell_type": "markdown",
   "metadata": {},
   "source": [
    "### To Do\n",
    "- Investigate why last tracklet is not generated (1210 is skipped, probably something to do with batching)"
   ]
  },
  {
   "cell_type": "code",
   "execution_count": null,
   "metadata": {},
   "outputs": [
    {
     "name": "stdout",
     "output_type": "stream",
     "text": [
      "2025-03-25 20:06:29 [INFO] Running the SoccerNet pipeline.\n",
      "2025-03-25 20:06:29 [INFO] Generating json for pose\n",
      "2025-03-25 20:06:29 [INFO] Reading legible & illegible results from cache (both global files exist).\n",
      "2025-03-25 20:06:29 [INFO] Used cached data for pose JSON\n"
     ]
    },
    {
     "data": {
      "application/vnd.jupyter.widget-view+json": {
       "model_id": "875a0f83411b4b06ac74786a33ecd9a4",
       "version_major": 2,
       "version_minor": 0
      },
      "text/plain": [
       "Generating pose JSON:   0%|          | 0/1210 [00:00<?, ?it/s]"
      ]
     },
     "metadata": {},
     "output_type": "display_data"
    },
    {
     "name": "stdout",
     "output_type": "stream",
     "text": [
      "2025-03-25 20:06:29 [INFO] Completed generating JSON for pose\n",
      "2025-03-25 20:06:29 [INFO] Detecting pose\n"
     ]
    },
    {
     "data": {
      "application/vnd.jupyter.widget-view+json": {
       "model_id": "82e64b5e5afd4ebd872f054d8b2aca54",
       "version_major": 2,
       "version_minor": 0
      },
      "text/plain": [
       "Running pose estimation:   0%|          | 0/836 [00:00<?, ?it/s]"
      ]
     },
     "metadata": {},
     "output_type": "display_data"
    },
    {
     "name": "stdout",
     "output_type": "stream",
     "text": [
      "2025-03-25 20:07:18 [INFO] [780] Current working directory: c:\\Users\\colin\\OneDrive\\Desktop\\Jersey-Number-Recognition\n",
      "2025-03-25 20:07:18 [INFO] [780] loading annotations into memory...\n",
      "2025-03-25 20:07:18 [INFO] [780] Done (t=0.00s)\n",
      "2025-03-25 20:07:18 [INFO] [964] Current working directory: c:\\Users\\colin\\OneDrive\\Desktop\\Jersey-Number-Recognition\n",
      "2025-03-25 20:07:18 [INFO] [780] creating index...\n",
      "2025-03-25 20:07:18 [INFO] [964] loading annotations into memory...\n",
      "2025-03-25 20:07:18 [INFO] [780] index created!\n",
      "2025-03-25 20:07:18 [INFO] [964] Done (t=0.00s)\n",
      "2025-03-25 20:07:18 [INFO] [780] \n",
      "2025-03-25 20:07:18 [INFO] [522] Current working directory: c:\\Users\\colin\\OneDrive\\Desktop\\Jersey-Number-Recognition\n",
      "2025-03-25 20:07:18 [INFO] [964] creating index...\n",
      "2025-03-25 20:07:18 [INFO] [780] The process cannot access the file because it is being used by another process.\n",
      "2025-03-25 20:07:18 [INFO] [579] Current working directory: c:\\Users\\colin\\OneDrive\\Desktop\\Jersey-Number-Recognition\n",
      "2025-03-25 20:07:18 [INFO] [522] loading annotations into memory...\n",
      "2025-03-25 20:07:18 [INFO] [964] index created!\n",
      "2025-03-25 20:07:18 [INFO] [780] The system cannot find the file specified.\n",
      "2025-03-25 20:07:18 [INFO] [579] loading annotations into memory...\n",
      "2025-03-25 20:07:18 [INFO] [522] Done (t=0.00s)\n",
      "2025-03-25 20:07:18 [INFO] [964] \n",
      "2025-03-25 20:07:18 [INFO] [780] Could Not Find C:\\Users\\colin\\miniconda3\\envs\\vitpose\\Library\\etc\\OpenCL\\vendors\\temp.txt\n",
      "2025-03-25 20:07:18 [INFO] [579] Done (t=0.00s)\n",
      "2025-03-25 20:07:18 [INFO] [522] creating index...\n",
      "2025-03-25 20:07:18 [INFO] [964] ERROR conda.cli.main_run:execute(125): `conda run python -u c:\\Users\\colin\\OneDrive\\Desktop\\Jersey-Number-Recognition\\StreamlinedPipelineScripts\\pose.py pose/ViTPose/configs/body/2d_kpt_sview_rgb_img/topdown_heatmap/coco/ViTPose_huge_coco_256x192.py pose/ViTPose/checkpoints/vitpose-h.pth --img-root / --json-file c:\\Users\\colin\\OneDrive\\Desktop\\Jersey-Number-Recognition\\data\\SoccerNet\\jersey-2023\\processed_data\\test\\964\\pose_input.json --out-json c:\\Users\\colin\\OneDrive\\Desktop\\Jersey-Number-Recognition\\data\\SoccerNet\\jersey-2023\\processed_data\\test\\964\\pose_results.json` failed. (See above for error)\n",
      "2025-03-25 20:07:18 [INFO] [780] \n",
      "2025-03-25 20:07:18 [INFO] [579] creating index...\n",
      "2025-03-25 20:07:18 [INFO] [522] index created!\n",
      "2025-03-25 20:07:18 [INFO] [780] ERROR conda.cli.main_run:execute(125): `conda run python -u c:\\Users\\colin\\OneDrive\\Desktop\\Jersey-Number-Recognition\\StreamlinedPipelineScripts\\pose.py pose/ViTPose/configs/body/2d_kpt_sview_rgb_img/topdown_heatmap/coco/ViTPose_huge_coco_256x192.py pose/ViTPose/checkpoints/vitpose-h.pth --img-root / --json-file c:\\Users\\colin\\OneDrive\\Desktop\\Jersey-Number-Recognition\\data\\SoccerNet\\jersey-2023\\processed_data\\test\\780\\pose_input.json --out-json c:\\Users\\colin\\OneDrive\\Desktop\\Jersey-Number-Recognition\\data\\SoccerNet\\jersey-2023\\processed_data\\test\\780\\pose_results.json` failed. (See above for error)\n",
      "2025-03-25 20:07:18 [INFO] [579] index created!\n",
      "2025-03-25 20:07:18 [INFO] [522] \n",
      "2025-03-25 20:07:18 [INFO] [579] \n",
      "2025-03-25 20:07:18 [INFO] [522] The system cannot find the file specified.\n",
      "2025-03-25 20:07:18 [INFO] [579] ERROR conda.cli.main_run:execute(125): `conda run python -u c:\\Users\\colin\\OneDrive\\Desktop\\Jersey-Number-Recognition\\StreamlinedPipelineScripts\\pose.py pose/ViTPose/configs/body/2d_kpt_sview_rgb_img/topdown_heatmap/coco/ViTPose_huge_coco_256x192.py pose/ViTPose/checkpoints/vitpose-h.pth --img-root / --json-file c:\\Users\\colin\\OneDrive\\Desktop\\Jersey-Number-Recognition\\data\\SoccerNet\\jersey-2023\\processed_data\\test\\579\\pose_input.json --out-json c:\\Users\\colin\\OneDrive\\Desktop\\Jersey-Number-Recognition\\data\\SoccerNet\\jersey-2023\\processed_data\\test\\579\\pose_results.json` failed. (See above for error)\n",
      "2025-03-25 20:07:18 [INFO] [522] Could Not Find C:\\Users\\colin\\miniconda3\\envs\\vitpose\\Library\\etc\\OpenCL\\vendors\\temp.txt\n",
      "2025-03-25 20:07:18 [INFO] [522] \n",
      "2025-03-25 20:07:18 [INFO] [522] ERROR conda.cli.main_run:execute(125): `conda run python -u c:\\Users\\colin\\OneDrive\\Desktop\\Jersey-Number-Recognition\\StreamlinedPipelineScripts\\pose.py pose/ViTPose/configs/body/2d_kpt_sview_rgb_img/topdown_heatmap/coco/ViTPose_huge_coco_256x192.py pose/ViTPose/checkpoints/vitpose-h.pth --img-root / --json-file c:\\Users\\colin\\OneDrive\\Desktop\\Jersey-Number-Recognition\\data\\SoccerNet\\jersey-2023\\processed_data\\test\\522\\pose_input.json --out-json c:\\Users\\colin\\OneDrive\\Desktop\\Jersey-Number-Recognition\\data\\SoccerNet\\jersey-2023\\processed_data\\test\\522\\pose_results.json` failed. (See above for error)\n",
      "2025-03-25 20:07:18 [ERROR] [780] Process returned non-zero exit code: 4294967295\n",
      "2025-03-25 20:07:18 [ERROR] [964] Process returned non-zero exit code: 4294967295\n",
      "2025-03-25 20:07:18 [ERROR] [579] Process returned non-zero exit code: 4294967295\n",
      "2025-03-25 20:07:18 [ERROR] [522] Process returned non-zero exit code: 4294967295\n",
      "2025-03-25 20:07:23 [INFO] [206] Current working directory: c:\\Users\\colin\\OneDrive\\Desktop\\Jersey-Number-Recognition\n",
      "2025-03-25 20:07:23 [INFO] [30] Current working directory: c:\\Users\\colin\\OneDrive\\Desktop\\Jersey-Number-Recognition\n",
      "2025-03-25 20:07:23 [INFO] [206] loading annotations into memory...\n",
      "2025-03-25 20:07:23 [INFO] [30] loading annotations into memory...\n",
      "2025-03-25 20:07:23 [INFO] [206] Done (t=0.00s)\n",
      "2025-03-25 20:07:23 [INFO] [30] Done (t=0.00s)\n",
      "2025-03-25 20:07:23 [INFO] [206] creating index...\n",
      "2025-03-25 20:07:23 [INFO] [380] Current working directory: c:\\Users\\colin\\OneDrive\\Desktop\\Jersey-Number-Recognition\n",
      "2025-03-25 20:07:23 [INFO] [30] creating index...\n",
      "2025-03-25 20:07:23 [INFO] [2] Current working directory: c:\\Users\\colin\\OneDrive\\Desktop\\Jersey-Number-Recognition\n",
      "2025-03-25 20:07:23 [INFO] [2] loading annotations into memory...\n",
      "2025-03-25 20:07:23 [INFO] [2] Done (t=0.01s)\n",
      "2025-03-25 20:07:23 [INFO] [2] creating index...\n",
      "2025-03-25 20:07:23 [INFO] [2] index created!\n",
      "2025-03-25 20:07:23 [INFO] [30] index created!\n",
      "2025-03-25 20:07:23 [INFO] [397] Current working directory: c:\\Users\\colin\\OneDrive\\Desktop\\Jersey-Number-Recognition\n",
      "2025-03-25 20:07:23 [INFO] [1061] Current working directory: c:\\Users\\colin\\OneDrive\\Desktop\\Jersey-Number-Recognition\n",
      "2025-03-25 20:07:23 [INFO] [206] index created!\n",
      "2025-03-25 20:07:23 [INFO] [665] Current working directory: c:\\Users\\colin\\OneDrive\\Desktop\\Jersey-Number-Recognition\n",
      "2025-03-25 20:07:23 [INFO] [665] loading annotations into memory...\n",
      "2025-03-25 20:07:23 [INFO] [2] \n",
      "2025-03-25 20:07:23 [INFO] [30] \n",
      "2025-03-25 20:07:23 [INFO] [397] loading annotations into memory...\n",
      "2025-03-25 20:07:23 [INFO] [1061] loading annotations into memory...\n",
      "2025-03-25 20:07:23 [INFO] [206] \n",
      "2025-03-25 20:07:23 [INFO] [380] loading annotations into memory...\n",
      "2025-03-25 20:07:23 [INFO] [665] Done (t=0.00s)\n",
      "2025-03-25 20:07:23 [INFO] [2] ERROR conda.cli.main_run:execute(125): `conda run python -u c:\\Users\\colin\\OneDrive\\Desktop\\Jersey-Number-Recognition\\StreamlinedPipelineScripts\\pose.py pose/ViTPose/configs/body/2d_kpt_sview_rgb_img/topdown_heatmap/coco/ViTPose_huge_coco_256x192.py pose/ViTPose/checkpoints/vitpose-h.pth --img-root / --json-file c:\\Users\\colin\\OneDrive\\Desktop\\Jersey-Number-Recognition\\data\\SoccerNet\\jersey-2023\\processed_data\\test\\2\\pose_input.json --out-json c:\\Users\\colin\\OneDrive\\Desktop\\Jersey-Number-Recognition\\data\\SoccerNet\\jersey-2023\\processed_data\\test\\2\\pose_results.json` failed. (See above for error)\n",
      "2025-03-25 20:07:23 [INFO] [30] ERROR conda.cli.main_run:execute(125): `conda run python -u c:\\Users\\colin\\OneDrive\\Desktop\\Jersey-Number-Recognition\\StreamlinedPipelineScripts\\pose.py pose/ViTPose/configs/body/2d_kpt_sview_rgb_img/topdown_heatmap/coco/ViTPose_huge_coco_256x192.py pose/ViTPose/checkpoints/vitpose-h.pth --img-root / --json-file c:\\Users\\colin\\OneDrive\\Desktop\\Jersey-Number-Recognition\\data\\SoccerNet\\jersey-2023\\processed_data\\test\\30\\pose_input.json --out-json c:\\Users\\colin\\OneDrive\\Desktop\\Jersey-Number-Recognition\\data\\SoccerNet\\jersey-2023\\processed_data\\test\\30\\pose_results.json` failed. (See above for error)\n",
      "2025-03-25 20:07:23 [INFO] [397] Done (t=0.00s)\n",
      "2025-03-25 20:07:23 [INFO] [1061] Done (t=0.00s)\n",
      "2025-03-25 20:07:23 [INFO] [206] ERROR conda.cli.main_run:execute(125): `conda run python -u c:\\Users\\colin\\OneDrive\\Desktop\\Jersey-Number-Recognition\\StreamlinedPipelineScripts\\pose.py pose/ViTPose/configs/body/2d_kpt_sview_rgb_img/topdown_heatmap/coco/ViTPose_huge_coco_256x192.py pose/ViTPose/checkpoints/vitpose-h.pth --img-root / --json-file c:\\Users\\colin\\OneDrive\\Desktop\\Jersey-Number-Recognition\\data\\SoccerNet\\jersey-2023\\processed_data\\test\\206\\pose_input.json --out-json c:\\Users\\colin\\OneDrive\\Desktop\\Jersey-Number-Recognition\\data\\SoccerNet\\jersey-2023\\processed_data\\test\\206\\pose_results.json` failed. (See above for error)\n",
      "2025-03-25 20:07:23 [INFO] [380] Done (t=0.00s)\n",
      "2025-03-25 20:07:23 [INFO] [665] creating index...\n",
      "2025-03-25 20:07:23 [INFO] [397] creating index...\n",
      "2025-03-25 20:07:23 [INFO] [1061] creating index...\n",
      "2025-03-25 20:07:23 [INFO] [380] creating index...\n",
      "2025-03-25 20:07:23 [INFO] [665] index created!\n",
      "2025-03-25 20:07:23 [INFO] [397] index created!\n",
      "2025-03-25 20:07:23 [INFO] [1061] index created!\n",
      "2025-03-25 20:07:23 [INFO] [380] index created!\n",
      "2025-03-25 20:07:23 [INFO] [665] \n",
      "2025-03-25 20:07:23 [INFO] [665] The system cannot find the file specified.\n",
      "2025-03-25 20:07:23 [INFO] [1061] \n",
      "2025-03-25 20:07:23 [INFO] [380] \n",
      "2025-03-25 20:07:23 [INFO] [380] ERROR conda.cli.main_run:execute(125): `conda run python -u c:\\Users\\colin\\OneDrive\\Desktop\\Jersey-Number-Recognition\\StreamlinedPipelineScripts\\pose.py pose/ViTPose/configs/body/2d_kpt_sview_rgb_img/topdown_heatmap/coco/ViTPose_huge_coco_256x192.py pose/ViTPose/checkpoints/vitpose-h.pth --img-root / --json-file c:\\Users\\colin\\OneDrive\\Desktop\\Jersey-Number-Recognition\\data\\SoccerNet\\jersey-2023\\processed_data\\test\\380\\pose_input.json --out-json c:\\Users\\colin\\OneDrive\\Desktop\\Jersey-Number-Recognition\\data\\SoccerNet\\jersey-2023\\processed_data\\test\\380\\pose_results.json` failed. (See above for error)\n",
      "2025-03-25 20:07:23 [INFO] [665] Could Not Find C:\\Users\\colin\\miniconda3\\envs\\vitpose\\Library\\etc\\OpenCL\\vendors\\temp.txt\n",
      "2025-03-25 20:07:23 [INFO] [1061] ERROR conda.cli.main_run:execute(125): `conda run python -u c:\\Users\\colin\\OneDrive\\Desktop\\Jersey-Number-Recognition\\StreamlinedPipelineScripts\\pose.py pose/ViTPose/configs/body/2d_kpt_sview_rgb_img/topdown_heatmap/coco/ViTPose_huge_coco_256x192.py pose/ViTPose/checkpoints/vitpose-h.pth --img-root / --json-file c:\\Users\\colin\\OneDrive\\Desktop\\Jersey-Number-Recognition\\data\\SoccerNet\\jersey-2023\\processed_data\\test\\1061\\pose_input.json --out-json c:\\Users\\colin\\OneDrive\\Desktop\\Jersey-Number-Recognition\\data\\SoccerNet\\jersey-2023\\processed_data\\test\\1061\\pose_results.json` failed. (See above for error)\n",
      "2025-03-25 20:07:23 [INFO] [397] \n",
      "2025-03-25 20:07:24 [INFO] [665] \n",
      "2025-03-25 20:07:24 [INFO] [397] ERROR conda.cli.main_run:execute(125): `conda run python -u c:\\Users\\colin\\OneDrive\\Desktop\\Jersey-Number-Recognition\\StreamlinedPipelineScripts\\pose.py pose/ViTPose/configs/body/2d_kpt_sview_rgb_img/topdown_heatmap/coco/ViTPose_huge_coco_256x192.py pose/ViTPose/checkpoints/vitpose-h.pth --img-root / --json-file c:\\Users\\colin\\OneDrive\\Desktop\\Jersey-Number-Recognition\\data\\SoccerNet\\jersey-2023\\processed_data\\test\\397\\pose_input.json --out-json c:\\Users\\colin\\OneDrive\\Desktop\\Jersey-Number-Recognition\\data\\SoccerNet\\jersey-2023\\processed_data\\test\\397\\pose_results.json` failed. (See above for error)\n",
      "2025-03-25 20:07:24 [INFO] [665] ERROR conda.cli.main_run:execute(125): `conda run python -u c:\\Users\\colin\\OneDrive\\Desktop\\Jersey-Number-Recognition\\StreamlinedPipelineScripts\\pose.py pose/ViTPose/configs/body/2d_kpt_sview_rgb_img/topdown_heatmap/coco/ViTPose_huge_coco_256x192.py pose/ViTPose/checkpoints/vitpose-h.pth --img-root / --json-file c:\\Users\\colin\\OneDrive\\Desktop\\Jersey-Number-Recognition\\data\\SoccerNet\\jersey-2023\\processed_data\\test\\665\\pose_input.json --out-json c:\\Users\\colin\\OneDrive\\Desktop\\Jersey-Number-Recognition\\data\\SoccerNet\\jersey-2023\\processed_data\\test\\665\\pose_results.json` failed. (See above for error)\n",
      "2025-03-25 20:07:24 [ERROR] [206] Process returned non-zero exit code: 4294967295\n",
      "2025-03-25 20:07:24 [ERROR] [30] Process returned non-zero exit code: 4294967295\n",
      "2025-03-25 20:07:24 [ERROR] [665] Process returned non-zero exit code: 4294967295\n",
      "2025-03-25 20:07:24 [ERROR] [397] Process returned non-zero exit code: 4294967295\n",
      "2025-03-25 20:07:24 [ERROR] [380] Process returned non-zero exit code: 4294967295\n",
      "2025-03-25 20:07:24 [ERROR] [1061] Process returned non-zero exit code: 4294967295\n",
      "2025-03-25 20:07:24 [ERROR] [2] Process returned non-zero exit code: 4294967295\n",
      "2025-03-25 20:07:46 [INFO] [357] Current working directory: c:\\Users\\colin\\OneDrive\\Desktop\\Jersey-Number-Recognition\n",
      "2025-03-25 20:07:46 [INFO] [556] Current working directory: c:\\Users\\colin\\OneDrive\\Desktop\\Jersey-Number-Recognition\n",
      "2025-03-25 20:07:46 [INFO] [1183] Current working directory: c:\\Users\\colin\\OneDrive\\Desktop\\Jersey-Number-Recognition\n",
      "2025-03-25 20:07:46 [INFO] [357] loading annotations into memory...\n",
      "2025-03-25 20:07:46 [INFO] [556] loading annotations into memory...\n",
      "2025-03-25 20:07:46 [INFO] [1183] loading annotations into memory...\n",
      "2025-03-25 20:07:46 [INFO] [357] Done (t=0.00s)\n",
      "2025-03-25 20:07:46 [INFO] [556] Done (t=0.00s)\n",
      "2025-03-25 20:07:46 [INFO] [1183] Done (t=0.00s)\n",
      "2025-03-25 20:07:46 [INFO] [357] creating index...\n",
      "2025-03-25 20:07:46 [INFO] [556] creating index...\n",
      "2025-03-25 20:07:46 [INFO] [1183] creating index...\n",
      "2025-03-25 20:07:46 [INFO] [357] index created!\n",
      "2025-03-25 20:07:46 [INFO] [556] index created!\n",
      "2025-03-25 20:07:46 [INFO] [1183] index created!\n",
      "2025-03-25 20:07:46 [INFO] [357] \n",
      "2025-03-25 20:07:46 [INFO] [556] \n",
      "2025-03-25 20:07:46 [INFO] [1183] \n",
      "2025-03-25 20:07:46 [INFO] [357] ERROR conda.cli.main_run:execute(125): `conda run python -u c:\\Users\\colin\\OneDrive\\Desktop\\Jersey-Number-Recognition\\StreamlinedPipelineScripts\\pose.py pose/ViTPose/configs/body/2d_kpt_sview_rgb_img/topdown_heatmap/coco/ViTPose_huge_coco_256x192.py pose/ViTPose/checkpoints/vitpose-h.pth --img-root / --json-file c:\\Users\\colin\\OneDrive\\Desktop\\Jersey-Number-Recognition\\data\\SoccerNet\\jersey-2023\\processed_data\\test\\357\\pose_input.json --out-json c:\\Users\\colin\\OneDrive\\Desktop\\Jersey-Number-Recognition\\data\\SoccerNet\\jersey-2023\\processed_data\\test\\357\\pose_results.json` failed. (See above for error)\n",
      "2025-03-25 20:07:46 [INFO] [556] ERROR conda.cli.main_run:execute(125): `conda run python -u c:\\Users\\colin\\OneDrive\\Desktop\\Jersey-Number-Recognition\\StreamlinedPipelineScripts\\pose.py pose/ViTPose/configs/body/2d_kpt_sview_rgb_img/topdown_heatmap/coco/ViTPose_huge_coco_256x192.py pose/ViTPose/checkpoints/vitpose-h.pth --img-root / --json-file c:\\Users\\colin\\OneDrive\\Desktop\\Jersey-Number-Recognition\\data\\SoccerNet\\jersey-2023\\processed_data\\test\\556\\pose_input.json --out-json c:\\Users\\colin\\OneDrive\\Desktop\\Jersey-Number-Recognition\\data\\SoccerNet\\jersey-2023\\processed_data\\test\\556\\pose_results.json` failed. (See above for error)\n",
      "2025-03-25 20:07:46 [INFO] [1183] ERROR conda.cli.main_run:execute(125): `conda run python -u c:\\Users\\colin\\OneDrive\\Desktop\\Jersey-Number-Recognition\\StreamlinedPipelineScripts\\pose.py pose/ViTPose/configs/body/2d_kpt_sview_rgb_img/topdown_heatmap/coco/ViTPose_huge_coco_256x192.py pose/ViTPose/checkpoints/vitpose-h.pth --img-root / --json-file c:\\Users\\colin\\OneDrive\\Desktop\\Jersey-Number-Recognition\\data\\SoccerNet\\jersey-2023\\processed_data\\test\\1183\\pose_input.json --out-json c:\\Users\\colin\\OneDrive\\Desktop\\Jersey-Number-Recognition\\data\\SoccerNet\\jersey-2023\\processed_data\\test\\1183\\pose_results.json` failed. (See above for error)\n",
      "2025-03-25 20:07:46 [INFO] [1055] Current working directory: c:\\Users\\colin\\OneDrive\\Desktop\\Jersey-Number-Recognition\n",
      "2025-03-25 20:07:46 [INFO] [1055] loading annotations into memory...\n",
      "2025-03-25 20:07:46 [INFO] [1055] Done (t=0.00s)\n",
      "2025-03-25 20:07:46 [INFO] [1055] creating index...\n",
      "2025-03-25 20:07:46 [INFO] [1055] index created!\n",
      "2025-03-25 20:07:46 [INFO] [1055] \n",
      "2025-03-25 20:07:46 [INFO] [1055] ERROR conda.cli.main_run:execute(125): `conda run python -u c:\\Users\\colin\\OneDrive\\Desktop\\Jersey-Number-Recognition\\StreamlinedPipelineScripts\\pose.py pose/ViTPose/configs/body/2d_kpt_sview_rgb_img/topdown_heatmap/coco/ViTPose_huge_coco_256x192.py pose/ViTPose/checkpoints/vitpose-h.pth --img-root / --json-file c:\\Users\\colin\\OneDrive\\Desktop\\Jersey-Number-Recognition\\data\\SoccerNet\\jersey-2023\\processed_data\\test\\1055\\pose_input.json --out-json c:\\Users\\colin\\OneDrive\\Desktop\\Jersey-Number-Recognition\\data\\SoccerNet\\jersey-2023\\processed_data\\test\\1055\\pose_results.json` failed. (See above for error)\n",
      "2025-03-25 20:07:46 [ERROR] [1183] Process returned non-zero exit code: 4294967295\n",
      "2025-03-25 20:07:46 [ERROR] [556] Process returned non-zero exit code: 4294967295\n",
      "2025-03-25 20:07:46 [ERROR] [357] Process returned non-zero exit code: 4294967295\n",
      "2025-03-25 20:07:46 [ERROR] [1055] Process returned non-zero exit code: 4294967295\n",
      "2025-03-25 20:07:47 [INFO] [112] Current working directory: c:\\Users\\colin\\OneDrive\\Desktop\\Jersey-Number-Recognition\n",
      "2025-03-25 20:07:47 [INFO] [112] loading annotations into memory...\n",
      "2025-03-25 20:07:47 [INFO] [112] Done (t=0.00s)\n",
      "2025-03-25 20:07:47 [INFO] [112] creating index...\n",
      "2025-03-25 20:07:47 [INFO] [112] index created!\n",
      "2025-03-25 20:07:47 [INFO] [112] load checkpoint from local path: pose/ViTPose/checkpoints/vitpose-h.pth\n",
      "2025-03-25 20:07:47 [INFO] [112] 2025-03-25 20:07:45 [INFO] Wrote pose results to file: c:\\Users\\colin\\OneDrive\\Desktop\\Jersey-Number-Recognition\\data\\SoccerNet\\jersey-2023\\processed_data\\test\\112\\pose_results.json\n",
      "2025-03-25 20:07:47 [INFO] [112] \n",
      "2025-03-25 20:07:47 [INFO] [112] C:\\Users\\colin\\miniconda3\\envs\\vitpose\\lib\\site-packages\\mmcv\\runner\\checkpoint.py:302: FutureWarning: You are using `torch.load` with `weights_only=False` (the current default value), which uses the default pickle module implicitly. It is possible to construct malicious pickle data which will execute arbitrary code during unpickling (See https://github.com/pytorch/pytorch/blob/main/SECURITY.md#untrusted-models for more details). In a future release, the default value for `weights_only` will be flipped to `True`. This limits the functions that could be executed during unpickling. Arbitrary objects will no longer be allowed to be loaded via this mode unless they are explicitly allowlisted by the user via `torch.serialization.add_safe_globals`. We recommend you start setting `weights_only=True` for any use case where you don't have full control of the loaded file. Please open an issue on GitHub for any issues related to this experimental feature.\n",
      "2025-03-25 20:07:47 [INFO] [112] checkpoint = torch.load(filename, map_location=map_location)\n",
      "2025-03-25 20:07:47 [INFO] [112] \n",
      "2025-03-25 20:07:52 [INFO] [398] Current working directory: c:\\Users\\colin\\OneDrive\\Desktop\\Jersey-Number-Recognition\n",
      "2025-03-25 20:07:52 [INFO] [398] loading annotations into memory...\n",
      "2025-03-25 20:07:52 [INFO] [398] Done (t=0.00s)\n",
      "2025-03-25 20:07:52 [INFO] [398] creating index...\n",
      "2025-03-25 20:07:52 [INFO] [398] index created!\n",
      "2025-03-25 20:07:52 [INFO] [398] \n",
      "2025-03-25 20:07:52 [INFO] [398] ERROR conda.cli.main_run:execute(125): `conda run python -u c:\\Users\\colin\\OneDrive\\Desktop\\Jersey-Number-Recognition\\StreamlinedPipelineScripts\\pose.py pose/ViTPose/configs/body/2d_kpt_sview_rgb_img/topdown_heatmap/coco/ViTPose_huge_coco_256x192.py pose/ViTPose/checkpoints/vitpose-h.pth --img-root / --json-file c:\\Users\\colin\\OneDrive\\Desktop\\Jersey-Number-Recognition\\data\\SoccerNet\\jersey-2023\\processed_data\\test\\398\\pose_input.json --out-json c:\\Users\\colin\\OneDrive\\Desktop\\Jersey-Number-Recognition\\data\\SoccerNet\\jersey-2023\\processed_data\\test\\398\\pose_results.json` failed. (See above for error)\n",
      "2025-03-25 20:07:52 [INFO] [46] Current working directory: c:\\Users\\colin\\OneDrive\\Desktop\\Jersey-Number-Recognition\n",
      "2025-03-25 20:07:52 [INFO] [46] loading annotations into memory...\n",
      "2025-03-25 20:07:52 [INFO] [46] Done (t=0.00s)\n",
      "2025-03-25 20:07:52 [INFO] [46] creating index...\n",
      "2025-03-25 20:07:52 [INFO] [46] index created!\n",
      "2025-03-25 20:07:52 [INFO] [46] \n",
      "2025-03-25 20:07:52 [INFO] [46] ERROR conda.cli.main_run:execute(125): `conda run python -u c:\\Users\\colin\\OneDrive\\Desktop\\Jersey-Number-Recognition\\StreamlinedPipelineScripts\\pose.py pose/ViTPose/configs/body/2d_kpt_sview_rgb_img/topdown_heatmap/coco/ViTPose_huge_coco_256x192.py pose/ViTPose/checkpoints/vitpose-h.pth --img-root / --json-file c:\\Users\\colin\\OneDrive\\Desktop\\Jersey-Number-Recognition\\data\\SoccerNet\\jersey-2023\\processed_data\\test\\46\\pose_input.json --out-json c:\\Users\\colin\\OneDrive\\Desktop\\Jersey-Number-Recognition\\data\\SoccerNet\\jersey-2023\\processed_data\\test\\46\\pose_results.json` failed. (See above for error)\n",
      "2025-03-25 20:07:52 [ERROR] [398] Process returned non-zero exit code: 4294967295\n",
      "2025-03-25 20:07:52 [ERROR] [46] Process returned non-zero exit code: 4294967295\n"
     ]
    }
   ],
   "source": [
    "pipeline.run_soccernet(\n",
    "  run_soccer_ball_filter=False,\n",
    "  generate_features=False,\n",
    "  run_filter=False,\n",
    "  run_legible=False,\n",
    "  run_legible_eval=False,\n",
    "  run_pose=True,\n",
    "  run_crops=False,\n",
    "  run_str=False,\n",
    "  run_combine=False,\n",
    "  run_eval=False)"
   ]
  }
 ],
 "metadata": {
  "kernelspec": {
   "display_name": "UBC",
   "language": "python",
   "name": "python3"
  },
  "language_info": {
   "codemirror_mode": {
    "name": "ipython",
    "version": 3
   },
   "file_extension": ".py",
   "mimetype": "text/x-python",
   "name": "python",
   "nbconvert_exporter": "python",
   "pygments_lexer": "ipython3",
   "version": "3.13.1"
  }
 },
 "nbformat": 4,
 "nbformat_minor": 2
}
