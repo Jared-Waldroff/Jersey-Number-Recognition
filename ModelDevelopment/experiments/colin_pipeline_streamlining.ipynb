{
 "cells": [
  {
   "cell_type": "markdown",
   "metadata": {},
   "source": [
    "### Quick Run Block"
   ]
  },
  {
   "cell_type": "code",
   "execution_count": 1,
   "metadata": {},
   "outputs": [],
   "source": [
    "# import torch\n",
    "\n",
    "# # Define your checkpoint file path\n",
    "# checkpoint_path = r\"c:\\Users\\colin\\OneDrive\\Desktop\\Jersey-Number-Recognition\\data\\pre_trained_models\\reid\\dukemtmcreid_resnet50_256_128_epoch_120.ckpt\"\n",
    "# new_checkpoint_path = checkpoint_path.replace(\".ckpt\", \"_updated.ckpt\")  # Save new version\n",
    "\n",
    "# # Load the checkpoint with weights_only=False\n",
    "# checkpoint = torch.load(checkpoint_path, weights_only=False)  # Ensures all data is loaded\n",
    "\n",
    "# # Save the checkpoint again in an updated format\n",
    "# torch.save(checkpoint, new_checkpoint_path)\n",
    "\n",
    "# print(f\"Checkpoint upgraded and saved to: {new_checkpoint_path}\")"
   ]
  },
  {
   "cell_type": "markdown",
   "metadata": {},
   "source": [
    "## Code"
   ]
  },
  {
   "cell_type": "code",
   "execution_count": 2,
   "metadata": {},
   "outputs": [
    {
     "name": "stdout",
     "output_type": "stream",
     "text": [
      "c:\\Users\\colin\\OneDrive\\Desktop\\Jersey-Number-Recognition\n",
      "Current working directory:  c:\\Users\\colin\\OneDrive\\Desktop\\Jersey-Number-Recognition\\ModelDevelopment\\experiments\n"
     ]
    }
   ],
   "source": [
    "import sys\n",
    "from pathlib import Path\n",
    "import os\n",
    "\n",
    "sys.path.append(str(Path.cwd().parent.parent))\n",
    "print(str(Path.cwd().parent.parent))\n",
    "print(\"Current working directory: \", os.getcwd())\n",
    "\n",
    "from ModelDevelopment.CentralPipeline import CentralPipeline\n",
    "from ModelDevelopment.ImageBatchPipeline import ImageBatchPipeline\n",
    "from DataProcessing.DataPreProcessing import DataPaths"
   ]
  },
  {
   "cell_type": "markdown",
   "metadata": {},
   "source": [
    "## Multithreaded Studies Research Findings\n",
    "- ThreadPoolExecutor works best for CentralPipeline pre-processing step (i.e. everything before run_pose)\n",
    "- Time for one batch of 32 tracklets = 5 minutes, implying 9.3 seconds per tracklet, so ETA = (9.3*1210)/3600 = 3 hours pre-processing step execution\n",
    "- (new, after image-level batching in reid centroid): 7s per tracklet => 2.35 hours w/ GPU gate=1\n",
    "- (new, after above change + GPU gate=2): 6s. GPU memory usage: 2.0/8.0 GB. Suggested increase to gate=4\n",
    "- GPU begins to crash after some time even with a gate bottleneck setting of 1 (only offload 1 tracklet to the GPU at a time)\n",
    "- Solution to GPU crashing is to just let the process run once, then run it again with use_cache=True to catch up failed tracklets (will be fast as few fail)"
   ]
  },
  {
   "cell_type": "code",
   "execution_count": 3,
   "metadata": {},
   "outputs": [
    {
     "name": "stdout",
     "output_type": "stream",
     "text": [
      "2025-03-23 11:48:28 [INFO] DataPreProcessing initialized. Universe of available data paths:\n",
      "2025-03-23 11:48:28 [INFO] ROOT_DATA_DIR: c:\\Users\\colin\\OneDrive\\Desktop\\Jersey-Number-Recognition\\data\\SoccerNet\\jersey-2023\\extracted\n",
      "2025-03-23 11:48:28 [INFO] TEST_DATA_GT: c:\\Users\\colin\\OneDrive\\Desktop\\Jersey-Number-Recognition\\data\\SoccerNet\\jersey-2023\\extracted\\test\\test_gt.json\n",
      "2025-03-23 11:48:28 [INFO] TRAIN_DATA_GT: c:\\Users\\colin\\OneDrive\\Desktop\\Jersey-Number-Recognition\\data\\SoccerNet\\jersey-2023\\extracted\\train\\train_gt.json\n",
      "2025-03-23 11:48:28 [INFO] TEST_DATA_DIR: c:\\Users\\colin\\OneDrive\\Desktop\\Jersey-Number-Recognition\\data\\SoccerNet\\jersey-2023\\extracted\\test\\images\n",
      "2025-03-23 11:48:28 [INFO] TRAIN_DATA_DIR: c:\\Users\\colin\\OneDrive\\Desktop\\Jersey-Number-Recognition\\data\\SoccerNet\\jersey-2023\\extracted\\train\\images\n",
      "2025-03-23 11:48:28 [INFO] CHALLENGE_DATA_DIR: c:\\Users\\colin\\OneDrive\\Desktop\\Jersey-Number-Recognition\\data\\SoccerNet\\jersey-2023\\extracted\\challenge\\images\n",
      "2025-03-23 11:48:28 [INFO] PRE_TRAINED_MODELS_DIR: c:\\Users\\colin\\OneDrive\\Desktop\\Jersey-Number-Recognition\\data\\pre_trained_models\n",
      "2025-03-23 11:48:28 [INFO] REID_PRE_TRAINED: c:\\Users\\colin\\OneDrive\\Desktop\\Jersey-Number-Recognition\\data\\pre_trained_models\\reid\n",
      "2025-03-23 11:48:28 [INFO] STR_PRE_TRAINED: c:\\Users\\colin\\OneDrive\\Desktop\\Jersey-Number-Recognition\\data\\pre_trained_models\\str\n",
      "2025-03-23 11:48:28 [INFO] STR_MODEL: c:\\Users\\colin\\OneDrive\\Desktop\\Jersey-Number-Recognition\\data\\pre_trained_models\\str\\parseq_epoch=24-step=2575-val_accuracy=95.6044-val_NED=96.3255.ckpt\n",
      "2025-03-23 11:48:28 [INFO] REID_MODEL_1: c:\\Users\\colin\\OneDrive\\Desktop\\Jersey-Number-Recognition\\data\\pre_trained_models\\reid\\dukemtmcreid_resnet50_256_128_epoch_120.ckpt\n",
      "2025-03-23 11:48:28 [INFO] REID_MODEL_2: c:\\Users\\colin\\OneDrive\\Desktop\\Jersey-Number-Recognition\\data\\pre_trained_models\\reid\\market1501_resnet50_256_128_epoch_120.ckpt\n",
      "2025-03-23 11:48:28 [INFO] REID_CONFIG_YAML: c:\\Users\\colin\\OneDrive\\Desktop\\Jersey-Number-Recognition\\data\\pre_trained_models\\reid\\configs\\256_resnet50.yml\n",
      "2025-03-23 11:48:28 [INFO] RESNET_MODEL: c:\\Users\\colin\\OneDrive\\Desktop\\Jersey-Number-Recognition\\data\\pre_trained_models\\resnet\\legibility_resnet34_soccer_20240215.pth\n",
      "2025-03-23 11:48:28 [INFO] PROCESSED_DATA_OUTPUT_DIR: c:\\Users\\colin\\OneDrive\\Desktop\\Jersey-Number-Recognition\\data\\SoccerNet\\jersey-2023\\processed_data\n",
      "2025-03-23 11:48:28 [INFO] PROCESSED_DATA_OUTPUT_DIR_TRAIN: c:\\Users\\colin\\OneDrive\\Desktop\\Jersey-Number-Recognition\\data\\SoccerNet\\jersey-2023\\processed_data\\train\n",
      "2025-03-23 11:48:28 [INFO] PROCESSED_DATA_OUTPUT_DIR_TEST: c:\\Users\\colin\\OneDrive\\Desktop\\Jersey-Number-Recognition\\data\\SoccerNet\\jersey-2023\\processed_data\\test\n",
      "2025-03-23 11:48:28 [INFO] PROCESSED_DATA_OUTPUT_DIR_CHALLENGE: c:\\Users\\colin\\OneDrive\\Desktop\\Jersey-Number-Recognition\\data\\SoccerNet\\jersey-2023\\processed_data\\challenge\n",
      "2025-03-23 11:48:28 [INFO] COMMON_PROCESSED_OUTPUT_DATA_TRAIN: c:\\Users\\colin\\OneDrive\\Desktop\\Jersey-Number-Recognition\\data\\SoccerNet\\jersey-2023\\processed_data\\train\\common_data\n",
      "2025-03-23 11:48:28 [INFO] COMMON_PROCESSED_OUTPUT_DATA_TEST: c:\\Users\\colin\\OneDrive\\Desktop\\Jersey-Number-Recognition\\data\\SoccerNet\\jersey-2023\\processed_data\\test\\common_data\n",
      "2025-03-23 11:48:28 [INFO] COMMON_PROCESSED_OUTPUT_DATA_CHALLENGE: c:\\Users\\colin\\OneDrive\\Desktop\\Jersey-Number-Recognition\\data\\SoccerNet\\jersey-2023\\processed_data\\challenge\\common_data\n",
      "2025-03-23 11:48:28 [INFO] STREAMLINED_PIPELINE: c:\\Users\\colin\\OneDrive\\Desktop\\Jersey-Number-Recognition\\StreamlinedPipelineScripts\n",
      "2025-03-23 11:48:28 [INFO] ['0', '1', '2', '3', '4', '5', '6', '7', '8', '9']\n",
      "2025-03-23 11:48:28 [INFO] Min tracklet: 0\n",
      "2025-03-23 11:48:28 [INFO] Max tracklet: 1210\n",
      "2025-03-23 11:48:28 [INFO] Using device: cuda\n",
      "2025-03-23 11:48:28 [INFO] ['0', '1', '2', '3', '4', '5', '6', '7', '8', '9']\n",
      "2025-03-23 11:48:28 [INFO] Min tracklet: 0\n",
      "2025-03-23 11:48:28 [INFO] Max tracklet: 1210\n"
     ]
    }
   ],
   "source": [
    "# TODO: Add tracklets_override to pass a list of tracklets to process; tracklets_override=[\"8\", \"9\", \"10\"]\n",
    "# NOTE: It is recommended you delete the entire processed_data/{challenge/test/train} before running this to 100% avoid issues with old data.\n",
    "# Furthermore, you should always restart your kernel before every new run because sometimes there are problems with paths\n",
    "pipeline = CentralPipeline(\n",
    "  num_tracklets=1210,\n",
    "  #num_images_per_tracklet=1,\n",
    "  input_data_path=DataPaths.TEST_DATA_DIR.value,\n",
    "  output_processed_data_path=DataPaths.PROCESSED_DATA_OUTPUT_DIR_TEST.value,\n",
    "  common_processed_data_dir=DataPaths.COMMON_PROCESSED_OUTPUT_DATA_TEST.value,\n",
    "  gt_data_path=DataPaths.TEST_DATA_GT.value,\n",
    "  single_image_pipeline=False,\n",
    "  display_transformed_image_sample=False, # NOTE: DO NOT USE. Code is parallelized so we cannot show images anymore. Code breaks, but first one will show if True.\n",
    "  num_image_samples=1,\n",
    "  use_cache=True, # Set to false if you encounter data inconsistencies.\n",
    "  suppress_logging=False,\n",
    "  num_workers=6, # CRITICAL optimisation param. Anything more than 6 and your PC explodes.\n",
    "  tracklet_batch_size=32 # CRITICAL optimisation param. 32 is a nice spot.\n",
    "  )"
   ]
  },
  {
   "cell_type": "code",
   "execution_count": null,
   "metadata": {},
   "outputs": [
    {
     "name": "stdout",
     "output_type": "stream",
     "text": [
      "2025-03-23 11:48:28 [INFO] Running the SoccerNet pipeline.\n"
     ]
    },
    {
     "data": {
      "application/vnd.jupyter.widget-view+json": {
       "model_id": "1f24cbe5960843bd8d81ef77bdd30c69",
       "version_major": 2,
       "version_minor": 0
      },
      "text/plain": [
       "  0%|          | 0/38 [00:00<?, ?it/s]"
      ]
     },
     "metadata": {},
     "output_type": "display_data"
    },
    {
     "name": "stdout",
     "output_type": "stream",
     "text": [
      "2025-03-23 11:48:28 [INFO] Skipping preprocessing for tracklet: c:\\Users\\colin\\OneDrive\\Desktop\\Jersey-Number-Recognition\\data\\SoccerNet\\jersey-2023\\processed_data\\test\\0\n",
      "2025-03-23 11:48:28 [INFO] Skipping preprocessing for tracklet: c:\\Users\\colin\\OneDrive\\Desktop\\Jersey-Number-Recognition\\data\\SoccerNet\\jersey-2023\\processed_data\\test\\1\n",
      "2025-03-23 11:48:28 [INFO] Skipping preprocessing for tracklet: c:\\Users\\colin\\OneDrive\\Desktop\\Jersey-Number-Recognition\\data\\SoccerNet\\jersey-2023\\processed_data\\test\\2\n",
      "2025-03-23 11:48:28 [INFO] Skipping preprocessing for tracklet: c:\\Users\\colin\\OneDrive\\Desktop\\Jersey-Number-Recognition\\data\\SoccerNet\\jersey-2023\\processed_data\\test\\3\n",
      "2025-03-23 11:48:28 [INFO] Skipping preprocessing for tracklet: c:\\Users\\colin\\OneDrive\\Desktop\\Jersey-Number-Recognition\\data\\SoccerNet\\jersey-2023\\processed_data\\test\\4\n",
      "2025-03-23 11:48:28 [INFO] Skipping preprocessing for tracklet: c:\\Users\\colin\\OneDrive\\Desktop\\Jersey-Number-Recognition\\data\\SoccerNet\\jersey-2023\\processed_data\\test\\5\n",
      "2025-03-23 11:48:28 [INFO] Skipping preprocessing for tracklet: c:\\Users\\colin\\OneDrive\\Desktop\\Jersey-Number-Recognition\\data\\SoccerNet\\jersey-2023\\processed_data\\test\\6\n",
      "2025-03-23 11:48:28 [INFO] Skipping preprocessing for tracklet: c:\\Users\\colin\\OneDrive\\Desktop\\Jersey-Number-Recognition\\data\\SoccerNet\\jersey-2023\\processed_data\\test\\7\n",
      "2025-03-23 11:48:28 [INFO] Skipping preprocessing for tracklet: c:\\Users\\colin\\OneDrive\\Desktop\\Jersey-Number-Recognition\\data\\SoccerNet\\jersey-2023\\processed_data\\test\\8\n",
      "2025-03-23 11:48:28 [INFO] Skipping preprocessing for tracklet: c:\\Users\\colin\\OneDrive\\Desktop\\Jersey-Number-Recognition\\data\\SoccerNet\\jersey-2023\\processed_data\\test\\9\n",
      "2025-03-23 11:48:28 [INFO] Skipping preprocessing for tracklet: c:\\Users\\colin\\OneDrive\\Desktop\\Jersey-Number-Recognition\\data\\SoccerNet\\jersey-2023\\processed_data\\test\\10\n",
      "2025-03-23 11:48:28 [INFO] Skipping preprocessing for tracklet: c:\\Users\\colin\\OneDrive\\Desktop\\Jersey-Number-Recognition\\data\\SoccerNet\\jersey-2023\\processed_data\\test\\11\n",
      "2025-03-23 11:48:28 [INFO] Skipping preprocessing for tracklet: c:\\Users\\colin\\OneDrive\\Desktop\\Jersey-Number-Recognition\\data\\SoccerNet\\jersey-2023\\processed_data\\test\\12\n",
      "2025-03-23 11:48:28 [INFO] Skipping preprocessing for tracklet: c:\\Users\\colin\\OneDrive\\Desktop\\Jersey-Number-Recognition\\data\\SoccerNet\\jersey-2023\\processed_data\\test\\13\n",
      "2025-03-23 11:48:28 [INFO] Skipping preprocessing for tracklet: c:\\Users\\colin\\OneDrive\\Desktop\\Jersey-Number-Recognition\\data\\SoccerNet\\jersey-2023\\processed_data\\test\\14\n",
      "2025-03-23 11:48:28 [INFO] Skipping preprocessing for tracklet: c:\\Users\\colin\\OneDrive\\Desktop\\Jersey-Number-Recognition\\data\\SoccerNet\\jersey-2023\\processed_data\\test\\15\n",
      "2025-03-23 11:48:28 [INFO] Skipping preprocessing for tracklet: c:\\Users\\colin\\OneDrive\\Desktop\\Jersey-Number-Recognition\\data\\SoccerNet\\jersey-2023\\processed_data\\test\\16\n",
      "2025-03-23 11:48:28 [INFO] Skipping preprocessing for tracklet: c:\\Users\\colin\\OneDrive\\Desktop\\Jersey-Number-Recognition\\data\\SoccerNet\\jersey-2023\\processed_data\\test\\17\n",
      "2025-03-23 11:48:28 [INFO] Skipping preprocessing for tracklet: c:\\Users\\colin\\OneDrive\\Desktop\\Jersey-Number-Recognition\\data\\SoccerNet\\jersey-2023\\processed_data\\test\\18\n",
      "2025-03-23 11:48:28 [INFO] Skipping preprocessing for tracklet: c:\\Users\\colin\\OneDrive\\Desktop\\Jersey-Number-Recognition\\data\\SoccerNet\\jersey-2023\\processed_data\\test\\19\n",
      "2025-03-23 11:48:28 [INFO] Skipping preprocessing for tracklet: c:\\Users\\colin\\OneDrive\\Desktop\\Jersey-Number-Recognition\\data\\SoccerNet\\jersey-2023\\processed_data\\test\\20\n",
      "2025-03-23 11:48:28 [INFO] Skipping preprocessing for tracklet: c:\\Users\\colin\\OneDrive\\Desktop\\Jersey-Number-Recognition\\data\\SoccerNet\\jersey-2023\\processed_data\\test\\21\n",
      "2025-03-23 11:48:28 [INFO] Skipping preprocessing for tracklet: c:\\Users\\colin\\OneDrive\\Desktop\\Jersey-Number-Recognition\\data\\SoccerNet\\jersey-2023\\processed_data\\test\\22\n",
      "2025-03-23 11:48:28 [INFO] Skipping preprocessing for tracklet: c:\\Users\\colin\\OneDrive\\Desktop\\Jersey-Number-Recognition\\data\\SoccerNet\\jersey-2023\\processed_data\\test\\23\n",
      "2025-03-23 11:48:28 [INFO] Skipping preprocessing for tracklet: c:\\Users\\colin\\OneDrive\\Desktop\\Jersey-Number-Recognition\\data\\SoccerNet\\jersey-2023\\processed_data\\test\\24\n",
      "2025-03-23 11:48:28 [INFO] Skipping preprocessing for tracklet: c:\\Users\\colin\\OneDrive\\Desktop\\Jersey-Number-Recognition\\data\\SoccerNet\\jersey-2023\\processed_data\\test\\25\n",
      "2025-03-23 11:48:28 [INFO] Skipping preprocessing for tracklet: c:\\Users\\colin\\OneDrive\\Desktop\\Jersey-Number-Recognition\\data\\SoccerNet\\jersey-2023\\processed_data\\test\\26\n",
      "2025-03-23 11:48:28 [INFO] Skipping preprocessing for tracklet: c:\\Users\\colin\\OneDrive\\Desktop\\Jersey-Number-Recognition\\data\\SoccerNet\\jersey-2023\\processed_data\\test\\27\n",
      "2025-03-23 11:48:28 [INFO] Skipping preprocessing for tracklet: c:\\Users\\colin\\OneDrive\\Desktop\\Jersey-Number-Recognition\\data\\SoccerNet\\jersey-2023\\processed_data\\test\\28\n",
      "2025-03-23 11:48:28 [INFO] Skipping preprocessing for tracklet: c:\\Users\\colin\\OneDrive\\Desktop\\Jersey-Number-Recognition\\data\\SoccerNet\\jersey-2023\\processed_data\\test\\29\n",
      "2025-03-23 11:48:28 [INFO] Skipping preprocessing for tracklet: c:\\Users\\colin\\OneDrive\\Desktop\\Jersey-Number-Recognition\\data\\SoccerNet\\jersey-2023\\processed_data\\test\\30\n",
      "2025-03-23 11:48:28 [INFO] Skipping preprocessing for tracklet: c:\\Users\\colin\\OneDrive\\Desktop\\Jersey-Number-Recognition\\data\\SoccerNet\\jersey-2023\\processed_data\\test\\31\n",
      "2025-03-23 11:48:28 [INFO] All tracklets in 0-32 are cached. Skipping feature generation.\n",
      "2025-03-23 11:48:28 [INFO] Using double parallelization: multiprocessing + CUDA batch processing.\n"
     ]
    },
    {
     "data": {
      "application/vnd.jupyter.widget-view+json": {
       "model_id": "fc084a1ff2a241018edad4502eb4ba35",
       "version_major": 2,
       "version_minor": 0
      },
      "text/plain": [
       "Processing tracklets (CUDA + CPU):   0%|          | 0/32 [00:00<?, ?it/s]"
      ]
     },
     "metadata": {},
     "output_type": "display_data"
    },
    {
     "name": "stdout",
     "output_type": "stream",
     "text": [
      "2025-03-23 11:48:43 [INFO] DEBUG: Number of images per tracklet in batch: 466\n",
      "2025-03-23 11:48:43 [INFO] Creating placeholder data files for Soccer Ball Filter.\n",
      "2025-03-23 11:48:43 [INFO] Creating placeholder data files for Legibility Classifier.\n",
      "2025-03-23 11:48:43 [INFO] DEBUG: Just before getting args for workers\n",
      "2025-03-23 11:48:43 [INFO] Determine soccer balls in image(s) using pre-trained model.\n",
      "2025-03-23 11:48:43 [INFO] Determine soccer balls in image(s) using pre-trained model.\n",
      "2025-03-23 11:48:43 [INFO] Determine soccer balls in image(s) using pre-trained model.\n",
      "2025-03-23 11:48:43 [INFO] Determine soccer balls in image(s) using pre-trained model.\n",
      "2025-03-23 11:48:43 [INFO] Determine soccer balls in image(s) using pre-trained model.\n",
      "2025-03-23 11:48:43 [INFO] Determine soccer balls in image(s) using pre-trained model.\n",
      "2025-03-23 11:48:43 [INFO] Determine soccer balls in image(s) using pre-trained model.\n",
      "2025-03-23 11:48:43 [INFO] Determine soccer balls in image(s) using pre-trained model.\n",
      "2025-03-23 11:48:43 [INFO] Determine soccer balls in image(s) using pre-trained model.\n",
      "2025-03-23 11:48:43 [INFO] Determine soccer balls in image(s) using pre-trained model.\n",
      "2025-03-23 11:48:43 [INFO] Determine soccer balls in image(s) using pre-trained model.\n",
      "2025-03-23 11:48:43 [INFO] Determine soccer balls in image(s) using pre-trained model.\n",
      "2025-03-23 11:48:43 [INFO] Determine soccer balls in image(s) using pre-trained model.\n",
      "2025-03-23 11:48:43 [INFO] Determine soccer balls in image(s) using pre-trained model.\n",
      "2025-03-23 11:48:43 [INFO] Determine soccer balls in image(s) using pre-trained model.\n",
      "2025-03-23 11:48:43 [INFO] Determine soccer balls in image(s) using pre-trained model.\n",
      "2025-03-23 11:48:43 [INFO] Determine soccer balls in image(s) using pre-trained model.\n",
      "2025-03-23 11:48:43 [INFO] Determine soccer balls in image(s) using pre-trained model.\n",
      "2025-03-23 11:48:43 [INFO] Found 0 balls, Ball list: []\n"
     ]
    },
    {
     "data": {
      "application/vnd.jupyter.widget-view+json": {
       "model_id": "36f0bedbc49c44a8b2bfc73719b38c0b",
       "version_major": 2,
       "version_minor": 0
      },
      "text/plain": [
       "Processing Batch Tracklets (32-64):   0%|          | 0/32 [00:00<?, ?it/s]"
      ]
     },
     "metadata": {},
     "output_type": "display_data"
    },
    {
     "name": "stdout",
     "output_type": "stream",
     "text": [
      "2025-03-23 11:48:43 [INFO] Found 0 balls, Ball list: []\n",
      "2025-03-23 11:48:43 [INFO] Found 0 balls, Ball list: []\n",
      "2025-03-23 11:48:43 [INFO] Found 0 balls, Ball list: []\n",
      "2025-03-23 11:48:43 [INFO] Found 0 balls, Ball list: []\n",
      "2025-03-23 11:48:43 [INFO] Found 0 balls, Ball list: []\n",
      "2025-03-23 11:48:43 [INFO] Found 0 balls, Ball list: []\n",
      "2025-03-23 11:48:43 [INFO] Found 0 balls, Ball list: []\n",
      "2025-03-23 11:48:43 [INFO] Found 0 balls, Ball list: []\n",
      "2025-03-23 11:48:43 [INFO] Found 0 balls, Ball list: []\n",
      "2025-03-23 11:48:43 [INFO] Found 0 balls, Ball list: []\n",
      "2025-03-23 11:48:43 [INFO] Found 0 balls, Ball list: []\n",
      "2025-03-23 11:48:43 [INFO] Found 0 balls, Ball list: []\n",
      "2025-03-23 11:48:43 [INFO] Found 0 balls, Ball list: []\n",
      "2025-03-23 11:48:43 [INFO] Found 0 balls, Ball list: []\n",
      "2025-03-23 11:48:43 [INFO] Found 0 balls, Ball list: []\n",
      "2025-03-23 11:48:43 [INFO] Found 0 balls, Ball list: []\n",
      "2025-03-23 11:48:43 [INFO] Found 1 balls, Ball list: ['34']\n"
     ]
    },
    {
     "name": "stderr",
     "output_type": "stream",
     "text": [
      "c:\\Users\\colin\\miniconda3\\envs\\UBC\\Lib\\site-packages\\pytorch_lightning\\utilities\\migration\\migration.py:208: You have multiple `ModelCheckpoint` callback states in this checkpoint, but we found state keys that would end up colliding with each other after an upgrade, which means we can't differentiate which of your checkpoint callbacks needs which states. At least one of your `ModelCheckpoint` callbacks will not be able to reload the state.\n",
      "Lightning automatically upgraded your loaded checkpoint from v1.1.4 to v2.5.0.post0. To apply the upgrade to your files permanently, run `python -m pytorch_lightning.utilities.upgrade_checkpoint c:\\Users\\colin\\OneDrive\\Desktop\\Jersey-Number-Recognition\\data\\pre_trained_models\\reid\\dukemtmcreid_resnet50_256_128_epoch_120.ckpt`\n",
      "Lightning automatically upgraded your loaded checkpoint from v1.1.4 to v2.5.0.post0. To apply the upgrade to your files permanently, run `python -m pytorch_lightning.utilities.upgrade_checkpoint c:\\Users\\colin\\OneDrive\\Desktop\\Jersey-Number-Recognition\\data\\pre_trained_models\\reid\\dukemtmcreid_resnet50_256_128_epoch_120.ckpt`\n"
     ]
    },
    {
     "name": "stdout",
     "output_type": "stream",
     "text": [
      "2025-03-23 11:48:45 [INFO] Saved features for tracklet with shape (24, 2048) to c:\\Users\\colin\\OneDrive\\Desktop\\Jersey-Number-Recognition\\data\\SoccerNet\\jersey-2023\\processed_data\\test\\41\\features.npy\n",
      "2025-03-23 11:48:45 [INFO] Identifying and removing outliers by calling gaussian_outliers_streamlined.py on feature file\n",
      "2025-03-23 11:48:45 [INFO] Saved features for tracklet with shape (34, 2048) to c:\\Users\\colin\\OneDrive\\Desktop\\Jersey-Number-Recognition\\data\\SoccerNet\\jersey-2023\\processed_data\\test\\40\\features.npy\n",
      "2025-03-23 11:48:45 [INFO] Identifying and removing outliers by calling gaussian_outliers_streamlined.py on feature file\n"
     ]
    },
    {
     "name": "stderr",
     "output_type": "stream",
     "text": [
      "Lightning automatically upgraded your loaded checkpoint from v1.1.4 to v2.5.0.post0. To apply the upgrade to your files permanently, run `python -m pytorch_lightning.utilities.upgrade_checkpoint c:\\Users\\colin\\OneDrive\\Desktop\\Jersey-Number-Recognition\\data\\pre_trained_models\\reid\\dukemtmcreid_resnet50_256_128_epoch_120.ckpt`\n",
      "Lightning automatically upgraded your loaded checkpoint from v1.1.4 to v2.5.0.post0. To apply the upgrade to your files permanently, run `python -m pytorch_lightning.utilities.upgrade_checkpoint c:\\Users\\colin\\OneDrive\\Desktop\\Jersey-Number-Recognition\\data\\pre_trained_models\\reid\\dukemtmcreid_resnet50_256_128_epoch_120.ckpt`\n"
     ]
    },
    {
     "name": "stdout",
     "output_type": "stream",
     "text": [
      "2025-03-23 11:48:47 [INFO] Saved features for tracklet with shape (36, 2048) to c:\\Users\\colin\\OneDrive\\Desktop\\Jersey-Number-Recognition\\data\\SoccerNet\\jersey-2023\\processed_data\\test\\49\\features.npy\n",
      "2025-03-23 11:48:47 [INFO] Identifying and removing outliers by calling gaussian_outliers_streamlined.py on feature file\n"
     ]
    },
    {
     "name": "stderr",
     "output_type": "stream",
     "text": [
      "Lightning automatically upgraded your loaded checkpoint from v1.1.4 to v2.5.0.post0. To apply the upgrade to your files permanently, run `python -m pytorch_lightning.utilities.upgrade_checkpoint c:\\Users\\colin\\OneDrive\\Desktop\\Jersey-Number-Recognition\\data\\pre_trained_models\\reid\\dukemtmcreid_resnet50_256_128_epoch_120.ckpt`\n"
     ]
    },
    {
     "name": "stdout",
     "output_type": "stream",
     "text": [
      "2025-03-23 11:48:49 [INFO] Saved features for tracklet with shape (213, 2048) to c:\\Users\\colin\\OneDrive\\Desktop\\Jersey-Number-Recognition\\data\\SoccerNet\\jersey-2023\\processed_data\\test\\37\\features.npy\n",
      "2025-03-23 11:48:49 [INFO] Identifying and removing outliers by calling gaussian_outliers_streamlined.py on feature file\n"
     ]
    },
    {
     "name": "stderr",
     "output_type": "stream",
     "text": [
      "Lightning automatically upgraded your loaded checkpoint from v1.1.4 to v2.5.0.post0. To apply the upgrade to your files permanently, run `python -m pytorch_lightning.utilities.upgrade_checkpoint c:\\Users\\colin\\OneDrive\\Desktop\\Jersey-Number-Recognition\\data\\pre_trained_models\\reid\\dukemtmcreid_resnet50_256_128_epoch_120.ckpt`\n"
     ]
    },
    {
     "name": "stdout",
     "output_type": "stream",
     "text": [
      "2025-03-23 11:48:51 [INFO] Saved features for tracklet with shape (255, 2048) to c:\\Users\\colin\\OneDrive\\Desktop\\Jersey-Number-Recognition\\data\\SoccerNet\\jersey-2023\\processed_data\\test\\42\\features.npy\n",
      "2025-03-23 11:48:51 [INFO] Identifying and removing outliers by calling gaussian_outliers_streamlined.py on feature file\n"
     ]
    },
    {
     "name": "stderr",
     "output_type": "stream",
     "text": [
      "Lightning automatically upgraded your loaded checkpoint from v1.1.4 to v2.5.0.post0. To apply the upgrade to your files permanently, run `python -m pytorch_lightning.utilities.upgrade_checkpoint c:\\Users\\colin\\OneDrive\\Desktop\\Jersey-Number-Recognition\\data\\pre_trained_models\\reid\\dukemtmcreid_resnet50_256_128_epoch_120.ckpt`\n"
     ]
    },
    {
     "name": "stdout",
     "output_type": "stream",
     "text": [
      "2025-03-23 11:48:54 [INFO] Saved features for tracklet with shape (310, 2048) to c:\\Users\\colin\\OneDrive\\Desktop\\Jersey-Number-Recognition\\data\\SoccerNet\\jersey-2023\\processed_data\\test\\36\\features.npy\n",
      "2025-03-23 11:48:54 [INFO] Identifying and removing outliers by calling gaussian_outliers_streamlined.py on feature file\n"
     ]
    },
    {
     "name": "stderr",
     "output_type": "stream",
     "text": [
      "Lightning automatically upgraded your loaded checkpoint from v1.1.4 to v2.5.0.post0. To apply the upgrade to your files permanently, run `python -m pytorch_lightning.utilities.upgrade_checkpoint c:\\Users\\colin\\OneDrive\\Desktop\\Jersey-Number-Recognition\\data\\pre_trained_models\\reid\\dukemtmcreid_resnet50_256_128_epoch_120.ckpt`\n"
     ]
    },
    {
     "name": "stdout",
     "output_type": "stream",
     "text": [
      "2025-03-23 11:48:58 [INFO] \n",
      "2025-03-23 11:48:58 [INFO] Done removing outliers\n",
      "2025-03-23 11:48:58 [INFO] Running model chain on preprocessed image(s).\n",
      "2025-03-23 11:48:58 [INFO] Classifying legibility of image(s) using pre-trained model.\n",
      "2025-03-23 11:48:58 [WARNING] No soccer ball list found. Skipping exclusion of soccer balls.\n",
      "2025-03-23 11:48:58 [INFO] Path checked: c:\\Users\\colin\\OneDrive\\Desktop\\Jersey-Number-Recognition\\data\\SoccerNet\\jersey-2023\\processed_data\\test\\common_data\\soccer_ball.json\n"
     ]
    },
    {
     "name": "stderr",
     "output_type": "stream",
     "text": [
      "c:\\Users\\colin\\miniconda3\\envs\\UBC\\Lib\\site-packages\\torchvision\\models\\_utils.py:208: UserWarning: The parameter 'pretrained' is deprecated since 0.13 and may be removed in the future, please use 'weights' instead.\n",
      "  warnings.warn(\n",
      "c:\\Users\\colin\\miniconda3\\envs\\UBC\\Lib\\site-packages\\torchvision\\models\\_utils.py:223: UserWarning: Arguments other than a weight enum or `None` for 'weights' are deprecated since 0.13 and may be removed in the future. The current behavior is equivalent to passing `weights=ResNet34_Weights.IMAGENET1K_V1`. You can also use `weights=ResNet34_Weights.DEFAULT` to get the most up-to-date weights.\n",
      "  warnings.warn(msg)\n"
     ]
    },
    {
     "name": "stdout",
     "output_type": "stream",
     "text": [
      "2025-03-23 11:48:58 [INFO] Saved features for tracklet with shape (414, 2048) to c:\\Users\\colin\\OneDrive\\Desktop\\Jersey-Number-Recognition\\data\\SoccerNet\\jersey-2023\\processed_data\\test\\45\\features.npy\n",
      "2025-03-23 11:48:59 [INFO] Identifying and removing outliers by calling gaussian_outliers_streamlined.py on feature file\n"
     ]
    },
    {
     "name": "stderr",
     "output_type": "stream",
     "text": [
      "Lightning automatically upgraded your loaded checkpoint from v1.1.4 to v2.5.0.post0. To apply the upgrade to your files permanently, run `python -m pytorch_lightning.utilities.upgrade_checkpoint c:\\Users\\colin\\OneDrive\\Desktop\\Jersey-Number-Recognition\\data\\pre_trained_models\\reid\\dukemtmcreid_resnet50_256_128_epoch_120.ckpt`\n"
     ]
    },
    {
     "name": "stdout",
     "output_type": "stream",
     "text": [
      "2025-03-23 11:49:00 [INFO] \n",
      "2025-03-23 11:49:00 [INFO] Done removing outliers\n",
      "2025-03-23 11:49:00 [INFO] Running model chain on preprocessed image(s).\n",
      "2025-03-23 11:49:00 [INFO] Classifying legibility of image(s) using pre-trained model.\n",
      "2025-03-23 11:49:00 [WARNING] No soccer ball list found. Skipping exclusion of soccer balls.\n",
      "2025-03-23 11:49:00 [INFO] Path checked: c:\\Users\\colin\\OneDrive\\Desktop\\Jersey-Number-Recognition\\data\\SoccerNet\\jersey-2023\\processed_data\\test\\common_data\\soccer_ball.json\n",
      "2025-03-23 11:49:02 [INFO] \n",
      "2025-03-23 11:49:02 [INFO] Done removing outliers\n",
      "2025-03-23 11:49:02 [INFO] Running model chain on preprocessed image(s).\n",
      "2025-03-23 11:49:02 [INFO] Classifying legibility of image(s) using pre-trained model.\n",
      "2025-03-23 11:49:02 [WARNING] No soccer ball list found. Skipping exclusion of soccer balls.\n",
      "2025-03-23 11:49:02 [INFO] Path checked: c:\\Users\\colin\\OneDrive\\Desktop\\Jersey-Number-Recognition\\data\\SoccerNet\\jersey-2023\\processed_data\\test\\common_data\\soccer_ball.json\n",
      "2025-03-23 11:49:04 [INFO] Saved features for tracklet with shape (393, 2048) to c:\\Users\\colin\\OneDrive\\Desktop\\Jersey-Number-Recognition\\data\\SoccerNet\\jersey-2023\\processed_data\\test\\47\\features.npy\n",
      "2025-03-23 11:49:04 [INFO] Identifying and removing outliers by calling gaussian_outliers_streamlined.py on feature file\n"
     ]
    },
    {
     "name": "stderr",
     "output_type": "stream",
     "text": [
      "Lightning automatically upgraded your loaded checkpoint from v1.1.4 to v2.5.0.post0. To apply the upgrade to your files permanently, run `python -m pytorch_lightning.utilities.upgrade_checkpoint c:\\Users\\colin\\OneDrive\\Desktop\\Jersey-Number-Recognition\\data\\pre_trained_models\\reid\\dukemtmcreid_resnet50_256_128_epoch_120.ckpt`\n"
     ]
    },
    {
     "name": "stdout",
     "output_type": "stream",
     "text": [
      "2025-03-23 11:49:05 [INFO] \n",
      "2025-03-23 11:49:05 [INFO] Done removing outliers\n",
      "2025-03-23 11:49:05 [INFO] Running model chain on preprocessed image(s).\n",
      "2025-03-23 11:49:05 [INFO] Classifying legibility of image(s) using pre-trained model.\n",
      "2025-03-23 11:49:05 [WARNING] No soccer ball list found. Skipping exclusion of soccer balls.\n",
      "2025-03-23 11:49:05 [INFO] Path checked: c:\\Users\\colin\\OneDrive\\Desktop\\Jersey-Number-Recognition\\data\\SoccerNet\\jersey-2023\\processed_data\\test\\common_data\\soccer_ball.json\n",
      "2025-03-23 11:49:09 [INFO] Saved features for tracklet with shape (72, 2048) to c:\\Users\\colin\\OneDrive\\Desktop\\Jersey-Number-Recognition\\data\\SoccerNet\\jersey-2023\\processed_data\\test\\38\\features.npy\n",
      "2025-03-23 11:49:10 [INFO] Identifying and removing outliers by calling gaussian_outliers_streamlined.py on feature file\n",
      "2025-03-23 11:49:10 [INFO] \n",
      "2025-03-23 11:49:10 [INFO] Done removing outliers\n",
      "2025-03-23 11:49:10 [INFO] Running model chain on preprocessed image(s).\n",
      "2025-03-23 11:49:10 [INFO] Classifying legibility of image(s) using pre-trained model.\n",
      "2025-03-23 11:49:10 [WARNING] No soccer ball list found. Skipping exclusion of soccer balls.\n",
      "2025-03-23 11:49:10 [INFO] Path checked: c:\\Users\\colin\\OneDrive\\Desktop\\Jersey-Number-Recognition\\data\\SoccerNet\\jersey-2023\\processed_data\\test\\common_data\\soccer_ball.json\n"
     ]
    },
    {
     "name": "stderr",
     "output_type": "stream",
     "text": [
      "Lightning automatically upgraded your loaded checkpoint from v1.1.4 to v2.5.0.post0. To apply the upgrade to your files permanently, run `python -m pytorch_lightning.utilities.upgrade_checkpoint c:\\Users\\colin\\OneDrive\\Desktop\\Jersey-Number-Recognition\\data\\pre_trained_models\\reid\\dukemtmcreid_resnet50_256_128_epoch_120.ckpt`\n"
     ]
    },
    {
     "name": "stdout",
     "output_type": "stream",
     "text": [
      "2025-03-23 11:49:13 [INFO] Saved features for tracklet with shape (538, 2048) to c:\\Users\\colin\\OneDrive\\Desktop\\Jersey-Number-Recognition\\data\\SoccerNet\\jersey-2023\\processed_data\\test\\43\\features.npy\n",
      "2025-03-23 11:49:13 [INFO] Identifying and removing outliers by calling gaussian_outliers_streamlined.py on feature file\n"
     ]
    },
    {
     "name": "stderr",
     "output_type": "stream",
     "text": [
      "Lightning automatically upgraded your loaded checkpoint from v1.1.4 to v2.5.0.post0. To apply the upgrade to your files permanently, run `python -m pytorch_lightning.utilities.upgrade_checkpoint c:\\Users\\colin\\OneDrive\\Desktop\\Jersey-Number-Recognition\\data\\pre_trained_models\\reid\\dukemtmcreid_resnet50_256_128_epoch_120.ckpt`\n"
     ]
    },
    {
     "name": "stdout",
     "output_type": "stream",
     "text": [
      "2025-03-23 11:49:16 [INFO] \n",
      "2025-03-23 11:49:16 [INFO] Done removing outliers\n",
      "2025-03-23 11:49:16 [INFO] Running model chain on preprocessed image(s).\n",
      "2025-03-23 11:49:16 [INFO] Classifying legibility of image(s) using pre-trained model.\n",
      "2025-03-23 11:49:16 [WARNING] No soccer ball list found. Skipping exclusion of soccer balls.\n",
      "2025-03-23 11:49:16 [INFO] Path checked: c:\\Users\\colin\\OneDrive\\Desktop\\Jersey-Number-Recognition\\data\\SoccerNet\\jersey-2023\\processed_data\\test\\common_data\\soccer_ball.json\n",
      "2025-03-23 11:49:18 [INFO] Saving legible_tracklets to: c:\\Users\\colin\\OneDrive\\Desktop\\Jersey-Number-Recognition\\data\\SoccerNet\\jersey-2023\\processed_data\\test\\41\\legible_results.json\n",
      "2025-03-23 11:49:18 [INFO] Saved legible_tracklets to: c:\\Users\\colin\\OneDrive\\Desktop\\Jersey-Number-Recognition\\data\\SoccerNet\\jersey-2023\\processed_data\\test\\41\\legible_results.json\n",
      "2025-03-23 11:49:18 [INFO] Saving illegible_tracklets to: c:\\Users\\colin\\OneDrive\\Desktop\\Jersey-Number-Recognition\\data\\SoccerNet\\jersey-2023\\processed_data\\test\\41\\illegible_results.json\n",
      "2025-03-23 11:49:18 [INFO] Saved illegible_tracklets to: c:\\Users\\colin\\OneDrive\\Desktop\\Jersey-Number-Recognition\\data\\SoccerNet\\jersey-2023\\processed_data\\test\\41\\illegible_results.json\n",
      "2025-03-23 11:49:18 [INFO] Legibility classification complete.\n",
      "2025-03-23 11:49:18 [INFO] Determine soccer balls in image(s) using pre-trained model.\n",
      "2025-03-23 11:49:18 [INFO] Processed tracklet: 41\n",
      "2025-03-23 11:49:18 [INFO] Found 0 balls, Ball list: []\n",
      "2025-03-23 11:49:20 [INFO] Saved features for tracklet with shape (354, 2048) to c:\\Users\\colin\\OneDrive\\Desktop\\Jersey-Number-Recognition\\data\\SoccerNet\\jersey-2023\\processed_data\\test\\35\\features.npy\n",
      "2025-03-23 11:49:21 [INFO] Identifying and removing outliers by calling gaussian_outliers_streamlined.py on feature file\n"
     ]
    },
    {
     "name": "stderr",
     "output_type": "stream",
     "text": [
      "Lightning automatically upgraded your loaded checkpoint from v1.1.4 to v2.5.0.post0. To apply the upgrade to your files permanently, run `python -m pytorch_lightning.utilities.upgrade_checkpoint c:\\Users\\colin\\OneDrive\\Desktop\\Jersey-Number-Recognition\\data\\pre_trained_models\\reid\\dukemtmcreid_resnet50_256_128_epoch_120.ckpt`\n"
     ]
    },
    {
     "name": "stdout",
     "output_type": "stream",
     "text": [
      "2025-03-23 11:49:23 [INFO] Saving legible_tracklets to: c:\\Users\\colin\\OneDrive\\Desktop\\Jersey-Number-Recognition\\data\\SoccerNet\\jersey-2023\\processed_data\\test\\40\\legible_results.json\n",
      "2025-03-23 11:49:23 [INFO] Saved legible_tracklets to: c:\\Users\\colin\\OneDrive\\Desktop\\Jersey-Number-Recognition\\data\\SoccerNet\\jersey-2023\\processed_data\\test\\40\\legible_results.json\n",
      "2025-03-23 11:49:23 [INFO] Saving illegible_tracklets to: c:\\Users\\colin\\OneDrive\\Desktop\\Jersey-Number-Recognition\\data\\SoccerNet\\jersey-2023\\processed_data\\test\\40\\illegible_results.json\n",
      "2025-03-23 11:49:23 [INFO] Saved illegible_tracklets to: c:\\Users\\colin\\OneDrive\\Desktop\\Jersey-Number-Recognition\\data\\SoccerNet\\jersey-2023\\processed_data\\test\\40\\illegible_results.json\n",
      "2025-03-23 11:49:23 [INFO] Legibility classification complete.\n",
      "2025-03-23 11:49:23 [INFO] Determine soccer balls in image(s) using pre-trained model.\n",
      "2025-03-23 11:49:23 [INFO] Processed tracklet: 40\n",
      "2025-03-23 11:49:23 [INFO] Found 0 balls, Ball list: []\n",
      "2025-03-23 11:49:26 [INFO] Saving legible_tracklets to: c:\\Users\\colin\\OneDrive\\Desktop\\Jersey-Number-Recognition\\data\\SoccerNet\\jersey-2023\\processed_data\\test\\49\\legible_results.json\n",
      "2025-03-23 11:49:26 [INFO] Saved legible_tracklets to: c:\\Users\\colin\\OneDrive\\Desktop\\Jersey-Number-Recognition\\data\\SoccerNet\\jersey-2023\\processed_data\\test\\49\\legible_results.json\n",
      "2025-03-23 11:49:26 [INFO] Saving illegible_tracklets to: c:\\Users\\colin\\OneDrive\\Desktop\\Jersey-Number-Recognition\\data\\SoccerNet\\jersey-2023\\processed_data\\test\\49\\illegible_results.json\n",
      "2025-03-23 11:49:26 [INFO] Saved illegible_tracklets to: c:\\Users\\colin\\OneDrive\\Desktop\\Jersey-Number-Recognition\\data\\SoccerNet\\jersey-2023\\processed_data\\test\\49\\illegible_results.json\n",
      "2025-03-23 11:49:26 [INFO] Legibility classification complete.\n",
      "2025-03-23 11:49:26 [INFO] Determine soccer balls in image(s) using pre-trained model.\n",
      "2025-03-23 11:49:26 [INFO] Processed tracklet: 49\n",
      "2025-03-23 11:49:26 [INFO] Found 0 balls, Ball list: []\n",
      "2025-03-23 11:49:28 [INFO] \n",
      "2025-03-23 11:49:28 [INFO] Done removing outliers\n",
      "2025-03-23 11:49:28 [INFO] Running model chain on preprocessed image(s).\n",
      "2025-03-23 11:49:28 [INFO] Classifying legibility of image(s) using pre-trained model.\n",
      "2025-03-23 11:49:28 [WARNING] No soccer ball list found. Skipping exclusion of soccer balls.\n",
      "2025-03-23 11:49:28 [INFO] Path checked: c:\\Users\\colin\\OneDrive\\Desktop\\Jersey-Number-Recognition\\data\\SoccerNet\\jersey-2023\\processed_data\\test\\common_data\\soccer_ball.json\n",
      "2025-03-23 11:49:29 [INFO] Saved features for tracklet with shape (549, 2048) to c:\\Users\\colin\\OneDrive\\Desktop\\Jersey-Number-Recognition\\data\\SoccerNet\\jersey-2023\\processed_data\\test\\33\\features.npy\n",
      "2025-03-23 11:49:29 [INFO] Identifying and removing outliers by calling gaussian_outliers_streamlined.py on feature file\n"
     ]
    },
    {
     "name": "stderr",
     "output_type": "stream",
     "text": [
      "Lightning automatically upgraded your loaded checkpoint from v1.1.4 to v2.5.0.post0. To apply the upgrade to your files permanently, run `python -m pytorch_lightning.utilities.upgrade_checkpoint c:\\Users\\colin\\OneDrive\\Desktop\\Jersey-Number-Recognition\\data\\pre_trained_models\\reid\\dukemtmcreid_resnet50_256_128_epoch_120.ckpt`\n"
     ]
    },
    {
     "name": "stdout",
     "output_type": "stream",
     "text": [
      "2025-03-23 11:49:33 [INFO] Saved features for tracklet with shape (379, 2048) to c:\\Users\\colin\\OneDrive\\Desktop\\Jersey-Number-Recognition\\data\\SoccerNet\\jersey-2023\\processed_data\\test\\48\\features.npy\n",
      "2025-03-23 11:49:33 [INFO] Identifying and removing outliers by calling gaussian_outliers_streamlined.py on feature file\n",
      "2025-03-23 11:49:34 [INFO] Saving legible_tracklets to: c:\\Users\\colin\\OneDrive\\Desktop\\Jersey-Number-Recognition\\data\\SoccerNet\\jersey-2023\\processed_data\\test\\37\\legible_results.json\n",
      "2025-03-23 11:49:34 [INFO] Saved legible_tracklets to: c:\\Users\\colin\\OneDrive\\Desktop\\Jersey-Number-Recognition\\data\\SoccerNet\\jersey-2023\\processed_data\\test\\37\\legible_results.json\n",
      "2025-03-23 11:49:34 [INFO] Saving illegible_tracklets to: c:\\Users\\colin\\OneDrive\\Desktop\\Jersey-Number-Recognition\\data\\SoccerNet\\jersey-2023\\processed_data\\test\\37\\illegible_results.json\n",
      "2025-03-23 11:49:34 [INFO] Saved illegible_tracklets to: c:\\Users\\colin\\OneDrive\\Desktop\\Jersey-Number-Recognition\\data\\SoccerNet\\jersey-2023\\processed_data\\test\\37\\illegible_results.json\n",
      "2025-03-23 11:49:34 [INFO] Legibility classification complete.\n",
      "2025-03-23 11:49:34 [INFO] Determine soccer balls in image(s) using pre-trained model.\n",
      "2025-03-23 11:49:34 [INFO] Processed tracklet: 37\n",
      "2025-03-23 11:49:34 [INFO] Found 0 balls, Ball list: []\n"
     ]
    },
    {
     "name": "stderr",
     "output_type": "stream",
     "text": [
      "Lightning automatically upgraded your loaded checkpoint from v1.1.4 to v2.5.0.post0. To apply the upgrade to your files permanently, run `python -m pytorch_lightning.utilities.upgrade_checkpoint c:\\Users\\colin\\OneDrive\\Desktop\\Jersey-Number-Recognition\\data\\pre_trained_models\\reid\\dukemtmcreid_resnet50_256_128_epoch_120.ckpt`\n"
     ]
    },
    {
     "name": "stdout",
     "output_type": "stream",
     "text": [
      "2025-03-23 11:49:35 [INFO] Saving legible_tracklets to: c:\\Users\\colin\\OneDrive\\Desktop\\Jersey-Number-Recognition\\data\\SoccerNet\\jersey-2023\\processed_data\\test\\42\\legible_results.json\n",
      "2025-03-23 11:49:35 [INFO] Saved legible_tracklets to: c:\\Users\\colin\\OneDrive\\Desktop\\Jersey-Number-Recognition\\data\\SoccerNet\\jersey-2023\\processed_data\\test\\42\\legible_results.json\n",
      "2025-03-23 11:49:35 [INFO] Saving illegible_tracklets to: c:\\Users\\colin\\OneDrive\\Desktop\\Jersey-Number-Recognition\\data\\SoccerNet\\jersey-2023\\processed_data\\test\\42\\illegible_results.json\n",
      "2025-03-23 11:49:35 [INFO] Saved illegible_tracklets to: c:\\Users\\colin\\OneDrive\\Desktop\\Jersey-Number-Recognition\\data\\SoccerNet\\jersey-2023\\processed_data\\test\\42\\illegible_results.json\n",
      "2025-03-23 11:49:35 [INFO] Legibility classification complete.\n",
      "2025-03-23 11:49:35 [INFO] Determine soccer balls in image(s) using pre-trained model.\n",
      "2025-03-23 11:49:35 [INFO] Processed tracklet: 42\n",
      "2025-03-23 11:49:35 [INFO] Found 0 balls, Ball list: []\n",
      "2025-03-23 11:49:36 [INFO] \n",
      "2025-03-23 11:49:36 [INFO] Done removing outliers\n",
      "2025-03-23 11:49:36 [INFO] Running model chain on preprocessed image(s).\n",
      "2025-03-23 11:49:36 [INFO] Classifying legibility of image(s) using pre-trained model.\n",
      "2025-03-23 11:49:36 [WARNING] No soccer ball list found. Skipping exclusion of soccer balls.\n",
      "2025-03-23 11:49:36 [INFO] Path checked: c:\\Users\\colin\\OneDrive\\Desktop\\Jersey-Number-Recognition\\data\\SoccerNet\\jersey-2023\\processed_data\\test\\common_data\\soccer_ball.json\n",
      "2025-03-23 11:49:39 [INFO] \n",
      "2025-03-23 11:49:39 [INFO] Done removing outliers\n",
      "2025-03-23 11:49:39 [INFO] Running model chain on preprocessed image(s).\n",
      "2025-03-23 11:49:39 [INFO] Classifying legibility of image(s) using pre-trained model.\n",
      "2025-03-23 11:49:39 [WARNING] No soccer ball list found. Skipping exclusion of soccer balls.\n",
      "2025-03-23 11:49:39 [INFO] Path checked: c:\\Users\\colin\\OneDrive\\Desktop\\Jersey-Number-Recognition\\data\\SoccerNet\\jersey-2023\\processed_data\\test\\common_data\\soccer_ball.json\n",
      "2025-03-23 11:49:41 [INFO] \n",
      "2025-03-23 11:49:41 [INFO] Done removing outliers\n",
      "2025-03-23 11:49:41 [INFO] Running model chain on preprocessed image(s).\n",
      "2025-03-23 11:49:41 [INFO] Classifying legibility of image(s) using pre-trained model.\n",
      "2025-03-23 11:49:41 [WARNING] No soccer ball list found. Skipping exclusion of soccer balls.\n",
      "2025-03-23 11:49:41 [INFO] Path checked: c:\\Users\\colin\\OneDrive\\Desktop\\Jersey-Number-Recognition\\data\\SoccerNet\\jersey-2023\\processed_data\\test\\common_data\\soccer_ball.json\n",
      "2025-03-23 11:49:42 [INFO] Saving legible_tracklets to: c:\\Users\\colin\\OneDrive\\Desktop\\Jersey-Number-Recognition\\data\\SoccerNet\\jersey-2023\\processed_data\\test\\36\\legible_results.json\n",
      "2025-03-23 11:49:42 [INFO] Saved legible_tracklets to: c:\\Users\\colin\\OneDrive\\Desktop\\Jersey-Number-Recognition\\data\\SoccerNet\\jersey-2023\\processed_data\\test\\36\\legible_results.json\n",
      "2025-03-23 11:49:42 [INFO] Saving illegible_tracklets to: c:\\Users\\colin\\OneDrive\\Desktop\\Jersey-Number-Recognition\\data\\SoccerNet\\jersey-2023\\processed_data\\test\\36\\illegible_results.json\n",
      "2025-03-23 11:49:42 [INFO] Saved illegible_tracklets to: c:\\Users\\colin\\OneDrive\\Desktop\\Jersey-Number-Recognition\\data\\SoccerNet\\jersey-2023\\processed_data\\test\\36\\illegible_results.json\n",
      "2025-03-23 11:49:42 [INFO] Legibility classification complete.\n",
      "2025-03-23 11:49:42 [INFO] Determine soccer balls in image(s) using pre-trained model.\n",
      "2025-03-23 11:49:42 [INFO] Processed tracklet: 36\n",
      "2025-03-23 11:49:42 [INFO] Found 0 balls, Ball list: []\n",
      "2025-03-23 11:49:46 [INFO] \n",
      "2025-03-23 11:49:46 [INFO] Done removing outliers\n",
      "2025-03-23 11:49:46 [INFO] Running model chain on preprocessed image(s).\n",
      "2025-03-23 11:49:46 [INFO] Classifying legibility of image(s) using pre-trained model.\n",
      "2025-03-23 11:49:46 [WARNING] No soccer ball list found. Skipping exclusion of soccer balls.\n",
      "2025-03-23 11:49:46 [INFO] Path checked: c:\\Users\\colin\\OneDrive\\Desktop\\Jersey-Number-Recognition\\data\\SoccerNet\\jersey-2023\\processed_data\\test\\common_data\\soccer_ball.json\n",
      "2025-03-23 11:49:48 [INFO] Saved features for tracklet with shape (466, 2048) to c:\\Users\\colin\\OneDrive\\Desktop\\Jersey-Number-Recognition\\data\\SoccerNet\\jersey-2023\\processed_data\\test\\32\\features.npy\n",
      "2025-03-23 11:49:48 [INFO] Identifying and removing outliers by calling gaussian_outliers_streamlined.py on feature file\n"
     ]
    },
    {
     "name": "stderr",
     "output_type": "stream",
     "text": [
      "Lightning automatically upgraded your loaded checkpoint from v1.1.4 to v2.5.0.post0. To apply the upgrade to your files permanently, run `python -m pytorch_lightning.utilities.upgrade_checkpoint c:\\Users\\colin\\OneDrive\\Desktop\\Jersey-Number-Recognition\\data\\pre_trained_models\\reid\\dukemtmcreid_resnet50_256_128_epoch_120.ckpt`\n"
     ]
    },
    {
     "name": "stdout",
     "output_type": "stream",
     "text": [
      "2025-03-23 11:49:50 [INFO] Saving legible_tracklets to: c:\\Users\\colin\\OneDrive\\Desktop\\Jersey-Number-Recognition\\data\\SoccerNet\\jersey-2023\\processed_data\\test\\45\\legible_results.json\n",
      "2025-03-23 11:49:50 [INFO] Saved legible_tracklets to: c:\\Users\\colin\\OneDrive\\Desktop\\Jersey-Number-Recognition\\data\\SoccerNet\\jersey-2023\\processed_data\\test\\45\\legible_results.json\n",
      "2025-03-23 11:49:50 [INFO] Saving illegible_tracklets to: c:\\Users\\colin\\OneDrive\\Desktop\\Jersey-Number-Recognition\\data\\SoccerNet\\jersey-2023\\processed_data\\test\\45\\illegible_results.json\n",
      "2025-03-23 11:49:50 [INFO] Saved illegible_tracklets to: c:\\Users\\colin\\OneDrive\\Desktop\\Jersey-Number-Recognition\\data\\SoccerNet\\jersey-2023\\processed_data\\test\\45\\illegible_results.json\n",
      "2025-03-23 11:49:50 [INFO] Legibility classification complete.\n",
      "2025-03-23 11:49:50 [INFO] Determine soccer balls in image(s) using pre-trained model.\n",
      "2025-03-23 11:49:50 [INFO] Processed tracklet: 45\n",
      "2025-03-23 11:49:50 [INFO] Found 0 balls, Ball list: []\n"
     ]
    },
    {
     "name": "stderr",
     "output_type": "stream",
     "text": [
      "Lightning automatically upgraded your loaded checkpoint from v1.1.4 to v2.5.0.post0. To apply the upgrade to your files permanently, run `python -m pytorch_lightning.utilities.upgrade_checkpoint c:\\Users\\colin\\OneDrive\\Desktop\\Jersey-Number-Recognition\\data\\pre_trained_models\\reid\\dukemtmcreid_resnet50_256_128_epoch_120.ckpt`\n"
     ]
    },
    {
     "name": "stdout",
     "output_type": "stream",
     "text": [
      "2025-03-23 11:49:51 [INFO] Saved features for tracklet with shape (734, 2048) to c:\\Users\\colin\\OneDrive\\Desktop\\Jersey-Number-Recognition\\data\\SoccerNet\\jersey-2023\\processed_data\\test\\34\\features.npy\n",
      "2025-03-23 11:49:51 [INFO] Identifying and removing outliers by calling gaussian_outliers_streamlined.py on feature file\n"
     ]
    },
    {
     "name": "stderr",
     "output_type": "stream",
     "text": [
      "Lightning automatically upgraded your loaded checkpoint from v1.1.4 to v2.5.0.post0. To apply the upgrade to your files permanently, run `python -m pytorch_lightning.utilities.upgrade_checkpoint c:\\Users\\colin\\OneDrive\\Desktop\\Jersey-Number-Recognition\\data\\pre_trained_models\\reid\\dukemtmcreid_resnet50_256_128_epoch_120.ckpt`\n"
     ]
    },
    {
     "name": "stdout",
     "output_type": "stream",
     "text": [
      "2025-03-23 11:49:54 [INFO] \n",
      "2025-03-23 11:49:54 [INFO] Done removing outliers\n",
      "2025-03-23 11:49:54 [INFO] Running model chain on preprocessed image(s).\n",
      "2025-03-23 11:49:54 [INFO] Classifying legibility of image(s) using pre-trained model.\n",
      "2025-03-23 11:49:54 [WARNING] No soccer ball list found. Skipping exclusion of soccer balls.\n",
      "2025-03-23 11:49:54 [INFO] Path checked: c:\\Users\\colin\\OneDrive\\Desktop\\Jersey-Number-Recognition\\data\\SoccerNet\\jersey-2023\\processed_data\\test\\common_data\\soccer_ball.json\n",
      "2025-03-23 11:49:58 [INFO] \n",
      "2025-03-23 11:49:58 [INFO] Done removing outliers\n",
      "2025-03-23 11:49:58 [INFO] Running model chain on preprocessed image(s).\n",
      "2025-03-23 11:49:58 [INFO] Classifying legibility of image(s) using pre-trained model.\n",
      "2025-03-23 11:49:58 [WARNING] No soccer ball list found. Skipping exclusion of soccer balls.\n",
      "2025-03-23 11:49:58 [INFO] Path checked: c:\\Users\\colin\\OneDrive\\Desktop\\Jersey-Number-Recognition\\data\\SoccerNet\\jersey-2023\\processed_data\\test\\common_data\\soccer_ball.json\n",
      "2025-03-23 11:49:58 [INFO] Saved features for tracklet with shape (63, 2048) to c:\\Users\\colin\\OneDrive\\Desktop\\Jersey-Number-Recognition\\data\\SoccerNet\\jersey-2023\\processed_data\\test\\51\\features.npy\n",
      "2025-03-23 11:49:58 [INFO] Identifying and removing outliers by calling gaussian_outliers_streamlined.py on feature file\n",
      "2025-03-23 11:50:00 [INFO] Saving legible_tracklets to: c:\\Users\\colin\\OneDrive\\Desktop\\Jersey-Number-Recognition\\data\\SoccerNet\\jersey-2023\\processed_data\\test\\47\\legible_results.json\n",
      "2025-03-23 11:50:00 [INFO] Saved legible_tracklets to: c:\\Users\\colin\\OneDrive\\Desktop\\Jersey-Number-Recognition\\data\\SoccerNet\\jersey-2023\\processed_data\\test\\47\\legible_results.json\n",
      "2025-03-23 11:50:00 [INFO] Saving illegible_tracklets to: c:\\Users\\colin\\OneDrive\\Desktop\\Jersey-Number-Recognition\\data\\SoccerNet\\jersey-2023\\processed_data\\test\\47\\illegible_results.json\n",
      "2025-03-23 11:50:00 [INFO] Saved illegible_tracklets to: c:\\Users\\colin\\OneDrive\\Desktop\\Jersey-Number-Recognition\\data\\SoccerNet\\jersey-2023\\processed_data\\test\\47\\illegible_results.json\n",
      "2025-03-23 11:50:00 [INFO] Legibility classification complete.\n",
      "2025-03-23 11:50:00 [INFO] Determine soccer balls in image(s) using pre-trained model.\n",
      "2025-03-23 11:50:00 [INFO] Processed tracklet: 47\n",
      "2025-03-23 11:50:00 [INFO] Found 1 balls, Ball list: ['57']\n"
     ]
    },
    {
     "name": "stderr",
     "output_type": "stream",
     "text": [
      "Lightning automatically upgraded your loaded checkpoint from v1.1.4 to v2.5.0.post0. To apply the upgrade to your files permanently, run `python -m pytorch_lightning.utilities.upgrade_checkpoint c:\\Users\\colin\\OneDrive\\Desktop\\Jersey-Number-Recognition\\data\\pre_trained_models\\reid\\dukemtmcreid_resnet50_256_128_epoch_120.ckpt`\n"
     ]
    },
    {
     "name": "stdout",
     "output_type": "stream",
     "text": [
      "2025-03-23 11:50:00 [INFO] Saving legible_tracklets to: c:\\Users\\colin\\OneDrive\\Desktop\\Jersey-Number-Recognition\\data\\SoccerNet\\jersey-2023\\processed_data\\test\\38\\legible_results.json\n",
      "2025-03-23 11:50:00 [INFO] Saved legible_tracklets to: c:\\Users\\colin\\OneDrive\\Desktop\\Jersey-Number-Recognition\\data\\SoccerNet\\jersey-2023\\processed_data\\test\\38\\legible_results.json\n",
      "2025-03-23 11:50:00 [INFO] Saving illegible_tracklets to: c:\\Users\\colin\\OneDrive\\Desktop\\Jersey-Number-Recognition\\data\\SoccerNet\\jersey-2023\\processed_data\\test\\38\\illegible_results.json\n",
      "2025-03-23 11:50:00 [INFO] Saved illegible_tracklets to: c:\\Users\\colin\\OneDrive\\Desktop\\Jersey-Number-Recognition\\data\\SoccerNet\\jersey-2023\\processed_data\\test\\38\\illegible_results.json\n",
      "2025-03-23 11:50:00 [INFO] Legibility classification complete.\n",
      "2025-03-23 11:50:00 [INFO] Determine soccer balls in image(s) using pre-trained model.\n",
      "2025-03-23 11:50:00 [INFO] Processed tracklet: 38\n",
      "2025-03-23 11:50:00 [INFO] Found 0 balls, Ball list: []\n",
      "2025-03-23 11:50:03 [INFO] Saved features for tracklet with shape (62, 2048) to c:\\Users\\colin\\OneDrive\\Desktop\\Jersey-Number-Recognition\\data\\SoccerNet\\jersey-2023\\processed_data\\test\\53\\features.npy\n",
      "2025-03-23 11:50:03 [INFO] Identifying and removing outliers by calling gaussian_outliers_streamlined.py on feature file\n"
     ]
    },
    {
     "name": "stderr",
     "output_type": "stream",
     "text": [
      "Lightning automatically upgraded your loaded checkpoint from v1.1.4 to v2.5.0.post0. To apply the upgrade to your files permanently, run `python -m pytorch_lightning.utilities.upgrade_checkpoint c:\\Users\\colin\\OneDrive\\Desktop\\Jersey-Number-Recognition\\data\\pre_trained_models\\reid\\dukemtmcreid_resnet50_256_128_epoch_120.ckpt`\n"
     ]
    },
    {
     "name": "stdout",
     "output_type": "stream",
     "text": [
      "2025-03-23 11:50:07 [INFO] Saving legible_tracklets to: c:\\Users\\colin\\OneDrive\\Desktop\\Jersey-Number-Recognition\\data\\SoccerNet\\jersey-2023\\processed_data\\test\\43\\legible_results.json\n",
      "2025-03-23 11:50:07 [INFO] Saved legible_tracklets to: c:\\Users\\colin\\OneDrive\\Desktop\\Jersey-Number-Recognition\\data\\SoccerNet\\jersey-2023\\processed_data\\test\\43\\legible_results.json\n",
      "2025-03-23 11:50:07 [INFO] Saving illegible_tracklets to: c:\\Users\\colin\\OneDrive\\Desktop\\Jersey-Number-Recognition\\data\\SoccerNet\\jersey-2023\\processed_data\\test\\43\\illegible_results.json\n",
      "2025-03-23 11:50:07 [INFO] Saved illegible_tracklets to: c:\\Users\\colin\\OneDrive\\Desktop\\Jersey-Number-Recognition\\data\\SoccerNet\\jersey-2023\\processed_data\\test\\43\\illegible_results.json\n",
      "2025-03-23 11:50:07 [INFO] Legibility classification complete.\n",
      "2025-03-23 11:50:07 [INFO] Determine soccer balls in image(s) using pre-trained model.\n",
      "2025-03-23 11:50:07 [INFO] Processed tracklet: 43\n",
      "2025-03-23 11:50:07 [INFO] Found 0 balls, Ball list: []\n",
      "2025-03-23 11:50:10 [INFO] Saving legible_tracklets to: c:\\Users\\colin\\OneDrive\\Desktop\\Jersey-Number-Recognition\\data\\SoccerNet\\jersey-2023\\processed_data\\test\\35\\legible_results.json\n",
      "2025-03-23 11:50:10 [INFO] Saved legible_tracklets to: c:\\Users\\colin\\OneDrive\\Desktop\\Jersey-Number-Recognition\\data\\SoccerNet\\jersey-2023\\processed_data\\test\\35\\legible_results.json\n",
      "2025-03-23 11:50:10 [INFO] Saving illegible_tracklets to: c:\\Users\\colin\\OneDrive\\Desktop\\Jersey-Number-Recognition\\data\\SoccerNet\\jersey-2023\\processed_data\\test\\35\\illegible_results.json\n",
      "2025-03-23 11:50:10 [INFO] Saved illegible_tracklets to: c:\\Users\\colin\\OneDrive\\Desktop\\Jersey-Number-Recognition\\data\\SoccerNet\\jersey-2023\\processed_data\\test\\35\\illegible_results.json\n",
      "2025-03-23 11:50:10 [INFO] Legibility classification complete.\n",
      "2025-03-23 11:50:10 [INFO] Determine soccer balls in image(s) using pre-trained model.\n",
      "2025-03-23 11:50:10 [INFO] Processed tracklet: 35\n",
      "2025-03-23 11:50:10 [INFO] Found 0 balls, Ball list: []\n",
      "2025-03-23 11:50:10 [INFO] Saved features for tracklet with shape (491, 2048) to c:\\Users\\colin\\OneDrive\\Desktop\\Jersey-Number-Recognition\\data\\SoccerNet\\jersey-2023\\processed_data\\test\\44\\features.npy\n",
      "2025-03-23 11:50:10 [INFO] Identifying and removing outliers by calling gaussian_outliers_streamlined.py on feature file\n"
     ]
    },
    {
     "name": "stderr",
     "output_type": "stream",
     "text": [
      "Lightning automatically upgraded your loaded checkpoint from v1.1.4 to v2.5.0.post0. To apply the upgrade to your files permanently, run `python -m pytorch_lightning.utilities.upgrade_checkpoint c:\\Users\\colin\\OneDrive\\Desktop\\Jersey-Number-Recognition\\data\\pre_trained_models\\reid\\dukemtmcreid_resnet50_256_128_epoch_120.ckpt`\n"
     ]
    },
    {
     "name": "stdout",
     "output_type": "stream",
     "text": [
      "2025-03-23 11:50:11 [INFO] Saved features for tracklet with shape (199, 2048) to c:\\Users\\colin\\OneDrive\\Desktop\\Jersey-Number-Recognition\\data\\SoccerNet\\jersey-2023\\processed_data\\test\\54\\features.npy\n",
      "2025-03-23 11:50:11 [INFO] Identifying and removing outliers by calling gaussian_outliers_streamlined.py on feature file\n",
      "2025-03-23 11:50:13 [INFO] \n",
      "2025-03-23 11:50:13 [INFO] Done removing outliers\n",
      "2025-03-23 11:50:13 [INFO] Running model chain on preprocessed image(s).\n",
      "2025-03-23 11:50:13 [INFO] Classifying legibility of image(s) using pre-trained model.\n",
      "2025-03-23 11:50:13 [WARNING] No soccer ball list found. Skipping exclusion of soccer balls.\n",
      "2025-03-23 11:50:13 [INFO] Path checked: c:\\Users\\colin\\OneDrive\\Desktop\\Jersey-Number-Recognition\\data\\SoccerNet\\jersey-2023\\processed_data\\test\\common_data\\soccer_ball.json\n",
      "2025-03-23 11:50:14 [INFO] \n",
      "2025-03-23 11:50:14 [INFO] Done removing outliers\n",
      "2025-03-23 11:50:14 [INFO] Running model chain on preprocessed image(s).\n",
      "2025-03-23 11:50:14 [INFO] Classifying legibility of image(s) using pre-trained model.\n",
      "2025-03-23 11:50:14 [WARNING] No soccer ball list found. Skipping exclusion of soccer balls.\n",
      "2025-03-23 11:50:14 [INFO] Path checked: c:\\Users\\colin\\OneDrive\\Desktop\\Jersey-Number-Recognition\\data\\SoccerNet\\jersey-2023\\processed_data\\test\\common_data\\soccer_ball.json\n",
      "2025-03-23 11:50:14 [INFO] Saved features for tracklet with shape (91, 2048) to c:\\Users\\colin\\OneDrive\\Desktop\\Jersey-Number-Recognition\\data\\SoccerNet\\jersey-2023\\processed_data\\test\\50\\features.npy\n",
      "2025-03-23 11:50:15 [INFO] Identifying and removing outliers by calling gaussian_outliers_streamlined.py on feature file\n"
     ]
    },
    {
     "name": "stderr",
     "output_type": "stream",
     "text": [
      "Lightning automatically upgraded your loaded checkpoint from v1.1.4 to v2.5.0.post0. To apply the upgrade to your files permanently, run `python -m pytorch_lightning.utilities.upgrade_checkpoint c:\\Users\\colin\\OneDrive\\Desktop\\Jersey-Number-Recognition\\data\\pre_trained_models\\reid\\dukemtmcreid_resnet50_256_128_epoch_120.ckpt`\n"
     ]
    },
    {
     "name": "stdout",
     "output_type": "stream",
     "text": [
      "2025-03-23 11:50:19 [INFO] Saved features for tracklet with shape (192, 2048) to c:\\Users\\colin\\OneDrive\\Desktop\\Jersey-Number-Recognition\\data\\SoccerNet\\jersey-2023\\processed_data\\test\\56\\features.npy\n",
      "2025-03-23 11:50:19 [INFO] Identifying and removing outliers by calling gaussian_outliers_streamlined.py on feature file\n",
      "2025-03-23 11:50:20 [INFO] \n",
      "2025-03-23 11:50:20 [INFO] Done removing outliers\n",
      "2025-03-23 11:50:20 [INFO] Running model chain on preprocessed image(s).\n",
      "2025-03-23 11:50:20 [INFO] Classifying legibility of image(s) using pre-trained model.\n",
      "2025-03-23 11:50:20 [WARNING] No soccer ball list found. Skipping exclusion of soccer balls.\n",
      "2025-03-23 11:50:20 [INFO] Path checked: c:\\Users\\colin\\OneDrive\\Desktop\\Jersey-Number-Recognition\\data\\SoccerNet\\jersey-2023\\processed_data\\test\\common_data\\soccer_ball.json\n",
      "2025-03-23 11:50:20 [INFO] Saving legible_tracklets to: c:\\Users\\colin\\OneDrive\\Desktop\\Jersey-Number-Recognition\\data\\SoccerNet\\jersey-2023\\processed_data\\test\\33\\legible_results.json\n",
      "2025-03-23 11:50:20 [INFO] Saved legible_tracklets to: c:\\Users\\colin\\OneDrive\\Desktop\\Jersey-Number-Recognition\\data\\SoccerNet\\jersey-2023\\processed_data\\test\\33\\legible_results.json\n",
      "2025-03-23 11:50:20 [INFO] Saving illegible_tracklets to: c:\\Users\\colin\\OneDrive\\Desktop\\Jersey-Number-Recognition\\data\\SoccerNet\\jersey-2023\\processed_data\\test\\33\\illegible_results.json\n",
      "2025-03-23 11:50:20 [INFO] Saved illegible_tracklets to: c:\\Users\\colin\\OneDrive\\Desktop\\Jersey-Number-Recognition\\data\\SoccerNet\\jersey-2023\\processed_data\\test\\33\\illegible_results.json\n",
      "2025-03-23 11:50:20 [INFO] Legibility classification complete.\n",
      "2025-03-23 11:50:20 [INFO] Determine soccer balls in image(s) using pre-trained model.\n",
      "2025-03-23 11:50:20 [INFO] Processed tracklet: 33\n",
      "2025-03-23 11:50:20 [INFO] Found 0 balls, Ball list: []\n"
     ]
    },
    {
     "name": "stderr",
     "output_type": "stream",
     "text": [
      "Lightning automatically upgraded your loaded checkpoint from v1.1.4 to v2.5.0.post0. To apply the upgrade to your files permanently, run `python -m pytorch_lightning.utilities.upgrade_checkpoint c:\\Users\\colin\\OneDrive\\Desktop\\Jersey-Number-Recognition\\data\\pre_trained_models\\reid\\dukemtmcreid_resnet50_256_128_epoch_120.ckpt`\n"
     ]
    },
    {
     "name": "stdout",
     "output_type": "stream",
     "text": [
      "2025-03-23 11:50:20 [INFO] Saving legible_tracklets to: c:\\Users\\colin\\OneDrive\\Desktop\\Jersey-Number-Recognition\\data\\SoccerNet\\jersey-2023\\processed_data\\test\\48\\legible_results.json\n",
      "2025-03-23 11:50:20 [INFO] Saved legible_tracklets to: c:\\Users\\colin\\OneDrive\\Desktop\\Jersey-Number-Recognition\\data\\SoccerNet\\jersey-2023\\processed_data\\test\\48\\legible_results.json\n",
      "2025-03-23 11:50:20 [INFO] Saving illegible_tracklets to: c:\\Users\\colin\\OneDrive\\Desktop\\Jersey-Number-Recognition\\data\\SoccerNet\\jersey-2023\\processed_data\\test\\48\\illegible_results.json\n",
      "2025-03-23 11:50:20 [INFO] Saved illegible_tracklets to: c:\\Users\\colin\\OneDrive\\Desktop\\Jersey-Number-Recognition\\data\\SoccerNet\\jersey-2023\\processed_data\\test\\48\\illegible_results.json\n",
      "2025-03-23 11:50:20 [INFO] Legibility classification complete.\n",
      "2025-03-23 11:50:20 [INFO] Determine soccer balls in image(s) using pre-trained model.\n",
      "2025-03-23 11:50:20 [INFO] Processed tracklet: 48\n",
      "2025-03-23 11:50:20 [INFO] Found 0 balls, Ball list: []\n",
      "2025-03-23 11:50:22 [INFO] Saved features for tracklet with shape (148, 2048) to c:\\Users\\colin\\OneDrive\\Desktop\\Jersey-Number-Recognition\\data\\SoccerNet\\jersey-2023\\processed_data\\test\\39\\features.npy\n",
      "2025-03-23 11:50:22 [INFO] Identifying and removing outliers by calling gaussian_outliers_streamlined.py on feature file\n"
     ]
    },
    {
     "name": "stderr",
     "output_type": "stream",
     "text": [
      "Lightning automatically upgraded your loaded checkpoint from v1.1.4 to v2.5.0.post0. To apply the upgrade to your files permanently, run `python -m pytorch_lightning.utilities.upgrade_checkpoint c:\\Users\\colin\\OneDrive\\Desktop\\Jersey-Number-Recognition\\data\\pre_trained_models\\reid\\dukemtmcreid_resnet50_256_128_epoch_120.ckpt`\n"
     ]
    },
    {
     "name": "stdout",
     "output_type": "stream",
     "text": [
      "2025-03-23 11:50:25 [INFO] \n",
      "2025-03-23 11:50:25 [INFO] Done removing outliers\n",
      "2025-03-23 11:50:25 [INFO] Running model chain on preprocessed image(s).\n",
      "2025-03-23 11:50:25 [INFO] Classifying legibility of image(s) using pre-trained model.\n",
      "2025-03-23 11:50:25 [WARNING] No soccer ball list found. Skipping exclusion of soccer balls.\n",
      "2025-03-23 11:50:25 [INFO] Path checked: c:\\Users\\colin\\OneDrive\\Desktop\\Jersey-Number-Recognition\\data\\SoccerNet\\jersey-2023\\processed_data\\test\\common_data\\soccer_ball.json\n",
      "2025-03-23 11:50:31 [INFO] \n",
      "2025-03-23 11:50:31 [INFO] Done removing outliers\n",
      "2025-03-23 11:50:31 [INFO] Running model chain on preprocessed image(s).\n",
      "2025-03-23 11:50:31 [INFO] Classifying legibility of image(s) using pre-trained model.\n",
      "2025-03-23 11:50:31 [WARNING] No soccer ball list found. Skipping exclusion of soccer balls.\n",
      "2025-03-23 11:50:31 [INFO] Path checked: c:\\Users\\colin\\OneDrive\\Desktop\\Jersey-Number-Recognition\\data\\SoccerNet\\jersey-2023\\processed_data\\test\\common_data\\soccer_ball.json\n",
      "2025-03-23 11:50:31 [INFO] Saved features for tracklet with shape (197, 2048) to c:\\Users\\colin\\OneDrive\\Desktop\\Jersey-Number-Recognition\\data\\SoccerNet\\jersey-2023\\processed_data\\test\\55\\features.npy\n",
      "2025-03-23 11:50:32 [INFO] Identifying and removing outliers by calling gaussian_outliers_streamlined.py on feature file\n",
      "2025-03-23 11:50:32 [INFO] \n",
      "2025-03-23 11:50:32 [INFO] Done removing outliers\n",
      "2025-03-23 11:50:32 [INFO] Running model chain on preprocessed image(s).\n",
      "2025-03-23 11:50:32 [INFO] Classifying legibility of image(s) using pre-trained model.\n",
      "2025-03-23 11:50:32 [WARNING] No soccer ball list found. Skipping exclusion of soccer balls.\n",
      "2025-03-23 11:50:32 [INFO] Path checked: c:\\Users\\colin\\OneDrive\\Desktop\\Jersey-Number-Recognition\\data\\SoccerNet\\jersey-2023\\processed_data\\test\\common_data\\soccer_ball.json\n"
     ]
    },
    {
     "name": "stderr",
     "output_type": "stream",
     "text": [
      "Lightning automatically upgraded your loaded checkpoint from v1.1.4 to v2.5.0.post0. To apply the upgrade to your files permanently, run `python -m pytorch_lightning.utilities.upgrade_checkpoint c:\\Users\\colin\\OneDrive\\Desktop\\Jersey-Number-Recognition\\data\\pre_trained_models\\reid\\dukemtmcreid_resnet50_256_128_epoch_120.ckpt`\n"
     ]
    },
    {
     "name": "stdout",
     "output_type": "stream",
     "text": [
      "2025-03-23 11:50:34 [INFO] Saving legible_tracklets to: c:\\Users\\colin\\OneDrive\\Desktop\\Jersey-Number-Recognition\\data\\SoccerNet\\jersey-2023\\processed_data\\test\\32\\legible_results.json\n",
      "2025-03-23 11:50:34 [INFO] Saved legible_tracklets to: c:\\Users\\colin\\OneDrive\\Desktop\\Jersey-Number-Recognition\\data\\SoccerNet\\jersey-2023\\processed_data\\test\\32\\legible_results.json\n",
      "2025-03-23 11:50:34 [INFO] Saving illegible_tracklets to: c:\\Users\\colin\\OneDrive\\Desktop\\Jersey-Number-Recognition\\data\\SoccerNet\\jersey-2023\\processed_data\\test\\32\\illegible_results.json\n",
      "2025-03-23 11:50:34 [INFO] Saved illegible_tracklets to: c:\\Users\\colin\\OneDrive\\Desktop\\Jersey-Number-Recognition\\data\\SoccerNet\\jersey-2023\\processed_data\\test\\32\\illegible_results.json\n",
      "2025-03-23 11:50:34 [INFO] Legibility classification complete.\n",
      "2025-03-23 11:50:34 [INFO] Determine soccer balls in image(s) using pre-trained model.\n",
      "2025-03-23 11:50:34 [INFO] Processed tracklet: 32\n",
      "2025-03-23 11:50:34 [INFO] Found 0 balls, Ball list: []\n",
      "2025-03-23 11:50:38 [INFO] Saving legible_tracklets to: c:\\Users\\colin\\OneDrive\\Desktop\\Jersey-Number-Recognition\\data\\SoccerNet\\jersey-2023\\processed_data\\test\\51\\legible_results.json\n",
      "2025-03-23 11:50:38 [INFO] Saved legible_tracklets to: c:\\Users\\colin\\OneDrive\\Desktop\\Jersey-Number-Recognition\\data\\SoccerNet\\jersey-2023\\processed_data\\test\\51\\legible_results.json\n",
      "2025-03-23 11:50:38 [INFO] Saving illegible_tracklets to: c:\\Users\\colin\\OneDrive\\Desktop\\Jersey-Number-Recognition\\data\\SoccerNet\\jersey-2023\\processed_data\\test\\51\\illegible_results.json\n",
      "2025-03-23 11:50:38 [INFO] Saved illegible_tracklets to: c:\\Users\\colin\\OneDrive\\Desktop\\Jersey-Number-Recognition\\data\\SoccerNet\\jersey-2023\\processed_data\\test\\51\\illegible_results.json\n",
      "2025-03-23 11:50:38 [INFO] Legibility classification complete.\n",
      "2025-03-23 11:50:38 [INFO] Processed tracklet: 51\n",
      "2025-03-23 11:50:38 [INFO] \n",
      "2025-03-23 11:50:38 [INFO] Done removing outliers\n",
      "2025-03-23 11:50:38 [INFO] Running model chain on preprocessed image(s).\n",
      "2025-03-23 11:50:38 [INFO] Classifying legibility of image(s) using pre-trained model.\n",
      "2025-03-23 11:50:38 [WARNING] No soccer ball list found. Skipping exclusion of soccer balls.\n",
      "2025-03-23 11:50:38 [INFO] Path checked: c:\\Users\\colin\\OneDrive\\Desktop\\Jersey-Number-Recognition\\data\\SoccerNet\\jersey-2023\\processed_data\\test\\common_data\\soccer_ball.json\n",
      "2025-03-23 11:50:43 [INFO] Saving legible_tracklets to: c:\\Users\\colin\\OneDrive\\Desktop\\Jersey-Number-Recognition\\data\\SoccerNet\\jersey-2023\\processed_data\\test\\53\\legible_results.json\n",
      "2025-03-23 11:50:43 [INFO] Saved legible_tracklets to: c:\\Users\\colin\\OneDrive\\Desktop\\Jersey-Number-Recognition\\data\\SoccerNet\\jersey-2023\\processed_data\\test\\53\\legible_results.json\n",
      "2025-03-23 11:50:43 [INFO] Saving illegible_tracklets to: c:\\Users\\colin\\OneDrive\\Desktop\\Jersey-Number-Recognition\\data\\SoccerNet\\jersey-2023\\processed_data\\test\\53\\illegible_results.json\n",
      "2025-03-23 11:50:43 [INFO] Saved illegible_tracklets to: c:\\Users\\colin\\OneDrive\\Desktop\\Jersey-Number-Recognition\\data\\SoccerNet\\jersey-2023\\processed_data\\test\\53\\illegible_results.json\n",
      "2025-03-23 11:50:43 [INFO] Legibility classification complete.\n",
      "2025-03-23 11:50:43 [INFO] Processed tracklet: 53\n",
      "2025-03-23 11:50:44 [INFO] \n",
      "2025-03-23 11:50:44 [INFO] Done removing outliers\n",
      "2025-03-23 11:50:44 [INFO] Running model chain on preprocessed image(s).\n",
      "2025-03-23 11:50:44 [INFO] Classifying legibility of image(s) using pre-trained model.\n",
      "2025-03-23 11:50:44 [WARNING] No soccer ball list found. Skipping exclusion of soccer balls.\n",
      "2025-03-23 11:50:44 [INFO] Path checked: c:\\Users\\colin\\OneDrive\\Desktop\\Jersey-Number-Recognition\\data\\SoccerNet\\jersey-2023\\processed_data\\test\\common_data\\soccer_ball.json\n",
      "2025-03-23 11:50:45 [INFO] Saved features for tracklet with shape (666, 2048) to c:\\Users\\colin\\OneDrive\\Desktop\\Jersey-Number-Recognition\\data\\SoccerNet\\jersey-2023\\processed_data\\test\\58\\features.npy\n",
      "2025-03-23 11:50:45 [INFO] Identifying and removing outliers by calling gaussian_outliers_streamlined.py on feature file\n"
     ]
    },
    {
     "name": "stderr",
     "output_type": "stream",
     "text": [
      "Lightning automatically upgraded your loaded checkpoint from v1.1.4 to v2.5.0.post0. To apply the upgrade to your files permanently, run `python -m pytorch_lightning.utilities.upgrade_checkpoint c:\\Users\\colin\\OneDrive\\Desktop\\Jersey-Number-Recognition\\data\\pre_trained_models\\reid\\dukemtmcreid_resnet50_256_128_epoch_120.ckpt`\n"
     ]
    },
    {
     "name": "stdout",
     "output_type": "stream",
     "text": [
      "2025-03-23 11:50:47 [INFO] \n",
      "2025-03-23 11:50:47 [INFO] Done removing outliers\n",
      "2025-03-23 11:50:47 [INFO] Running model chain on preprocessed image(s).\n",
      "2025-03-23 11:50:47 [INFO] Classifying legibility of image(s) using pre-trained model.\n",
      "2025-03-23 11:50:47 [WARNING] No soccer ball list found. Skipping exclusion of soccer balls.\n",
      "2025-03-23 11:50:47 [INFO] Path checked: c:\\Users\\colin\\OneDrive\\Desktop\\Jersey-Number-Recognition\\data\\SoccerNet\\jersey-2023\\processed_data\\test\\common_data\\soccer_ball.json\n",
      "2025-03-23 11:50:48 [INFO] Saved features for tracklet with shape (46, 2048) to c:\\Users\\colin\\OneDrive\\Desktop\\Jersey-Number-Recognition\\data\\SoccerNet\\jersey-2023\\processed_data\\test\\57\\features.npy\n",
      "2025-03-23 11:50:48 [INFO] Identifying and removing outliers by calling gaussian_outliers_streamlined.py on feature file\n"
     ]
    },
    {
     "name": "stderr",
     "output_type": "stream",
     "text": [
      "Lightning automatically upgraded your loaded checkpoint from v1.1.4 to v2.5.0.post0. To apply the upgrade to your files permanently, run `python -m pytorch_lightning.utilities.upgrade_checkpoint c:\\Users\\colin\\OneDrive\\Desktop\\Jersey-Number-Recognition\\data\\pre_trained_models\\reid\\dukemtmcreid_resnet50_256_128_epoch_120.ckpt`\n"
     ]
    },
    {
     "name": "stdout",
     "output_type": "stream",
     "text": [
      "2025-03-23 11:50:51 [INFO] Saved features for tracklet with shape (750, 2048) to c:\\Users\\colin\\OneDrive\\Desktop\\Jersey-Number-Recognition\\data\\SoccerNet\\jersey-2023\\processed_data\\test\\60\\features.npy\n",
      "2025-03-23 11:50:51 [INFO] Identifying and removing outliers by calling gaussian_outliers_streamlined.py on feature file\n"
     ]
    },
    {
     "name": "stderr",
     "output_type": "stream",
     "text": [
      "Lightning automatically upgraded your loaded checkpoint from v1.1.4 to v2.5.0.post0. To apply the upgrade to your files permanently, run `python -m pytorch_lightning.utilities.upgrade_checkpoint c:\\Users\\colin\\OneDrive\\Desktop\\Jersey-Number-Recognition\\data\\pre_trained_models\\reid\\dukemtmcreid_resnet50_256_128_epoch_120.ckpt`\n"
     ]
    },
    {
     "name": "stdout",
     "output_type": "stream",
     "text": [
      "2025-03-23 11:50:56 [INFO] Saving legible_tracklets to: c:\\Users\\colin\\OneDrive\\Desktop\\Jersey-Number-Recognition\\data\\SoccerNet\\jersey-2023\\processed_data\\test\\54\\legible_results.json\n",
      "2025-03-23 11:50:56 [INFO] Saved legible_tracklets to: c:\\Users\\colin\\OneDrive\\Desktop\\Jersey-Number-Recognition\\data\\SoccerNet\\jersey-2023\\processed_data\\test\\54\\legible_results.json\n",
      "2025-03-23 11:50:56 [INFO] Saving illegible_tracklets to: c:\\Users\\colin\\OneDrive\\Desktop\\Jersey-Number-Recognition\\data\\SoccerNet\\jersey-2023\\processed_data\\test\\54\\illegible_results.json\n",
      "2025-03-23 11:50:56 [INFO] Saved illegible_tracklets to: c:\\Users\\colin\\OneDrive\\Desktop\\Jersey-Number-Recognition\\data\\SoccerNet\\jersey-2023\\processed_data\\test\\54\\illegible_results.json\n",
      "2025-03-23 11:50:56 [INFO] Legibility classification complete.\n",
      "2025-03-23 11:50:56 [INFO] Processed tracklet: 54\n",
      "2025-03-23 11:50:58 [INFO] Saving legible_tracklets to: c:\\Users\\colin\\OneDrive\\Desktop\\Jersey-Number-Recognition\\data\\SoccerNet\\jersey-2023\\processed_data\\test\\44\\legible_results.json\n",
      "2025-03-23 11:50:58 [INFO] Saved legible_tracklets to: c:\\Users\\colin\\OneDrive\\Desktop\\Jersey-Number-Recognition\\data\\SoccerNet\\jersey-2023\\processed_data\\test\\44\\legible_results.json\n",
      "2025-03-23 11:50:58 [INFO] Saving illegible_tracklets to: c:\\Users\\colin\\OneDrive\\Desktop\\Jersey-Number-Recognition\\data\\SoccerNet\\jersey-2023\\processed_data\\test\\44\\illegible_results.json\n",
      "2025-03-23 11:50:58 [INFO] Saved illegible_tracklets to: c:\\Users\\colin\\OneDrive\\Desktop\\Jersey-Number-Recognition\\data\\SoccerNet\\jersey-2023\\processed_data\\test\\44\\illegible_results.json\n",
      "2025-03-23 11:50:58 [INFO] Legibility classification complete.\n",
      "2025-03-23 11:50:58 [INFO] Processed tracklet: 44\n",
      "2025-03-23 11:51:00 [INFO] \n",
      "2025-03-23 11:51:00 [INFO] Done removing outliers\n",
      "2025-03-23 11:51:00 [INFO] Running model chain on preprocessed image(s).\n",
      "2025-03-23 11:51:00 [INFO] Classifying legibility of image(s) using pre-trained model.\n",
      "2025-03-23 11:51:00 [WARNING] No soccer ball list found. Skipping exclusion of soccer balls.\n",
      "2025-03-23 11:51:00 [INFO] Path checked: c:\\Users\\colin\\OneDrive\\Desktop\\Jersey-Number-Recognition\\data\\SoccerNet\\jersey-2023\\processed_data\\test\\common_data\\soccer_ball.json\n",
      "2025-03-23 11:51:01 [INFO] Saving legible_tracklets to: c:\\Users\\colin\\OneDrive\\Desktop\\Jersey-Number-Recognition\\data\\SoccerNet\\jersey-2023\\processed_data\\test\\50\\legible_results.json\n",
      "2025-03-23 11:51:01 [INFO] Saved legible_tracklets to: c:\\Users\\colin\\OneDrive\\Desktop\\Jersey-Number-Recognition\\data\\SoccerNet\\jersey-2023\\processed_data\\test\\50\\legible_results.json\n",
      "2025-03-23 11:51:01 [INFO] Saving illegible_tracklets to: c:\\Users\\colin\\OneDrive\\Desktop\\Jersey-Number-Recognition\\data\\SoccerNet\\jersey-2023\\processed_data\\test\\50\\illegible_results.json\n",
      "2025-03-23 11:51:01 [INFO] Saved illegible_tracklets to: c:\\Users\\colin\\OneDrive\\Desktop\\Jersey-Number-Recognition\\data\\SoccerNet\\jersey-2023\\processed_data\\test\\50\\illegible_results.json\n",
      "2025-03-23 11:51:01 [INFO] Legibility classification complete.\n",
      "2025-03-23 11:51:01 [INFO] Processed tracklet: 50\n",
      "2025-03-23 11:51:06 [INFO] Saving legible_tracklets to: c:\\Users\\colin\\OneDrive\\Desktop\\Jersey-Number-Recognition\\data\\SoccerNet\\jersey-2023\\processed_data\\test\\56\\legible_results.json\n",
      "2025-03-23 11:51:06 [INFO] Saved legible_tracklets to: c:\\Users\\colin\\OneDrive\\Desktop\\Jersey-Number-Recognition\\data\\SoccerNet\\jersey-2023\\processed_data\\test\\56\\legible_results.json\n",
      "2025-03-23 11:51:06 [INFO] Saving illegible_tracklets to: c:\\Users\\colin\\OneDrive\\Desktop\\Jersey-Number-Recognition\\data\\SoccerNet\\jersey-2023\\processed_data\\test\\56\\illegible_results.json\n",
      "2025-03-23 11:51:06 [INFO] Saved illegible_tracklets to: c:\\Users\\colin\\OneDrive\\Desktop\\Jersey-Number-Recognition\\data\\SoccerNet\\jersey-2023\\processed_data\\test\\56\\illegible_results.json\n",
      "2025-03-23 11:51:06 [INFO] Legibility classification complete.\n",
      "2025-03-23 11:51:06 [INFO] Processed tracklet: 56\n",
      "2025-03-23 11:51:10 [INFO] Saving legible_tracklets to: c:\\Users\\colin\\OneDrive\\Desktop\\Jersey-Number-Recognition\\data\\SoccerNet\\jersey-2023\\processed_data\\test\\39\\legible_results.json\n",
      "2025-03-23 11:51:10 [INFO] Saved legible_tracklets to: c:\\Users\\colin\\OneDrive\\Desktop\\Jersey-Number-Recognition\\data\\SoccerNet\\jersey-2023\\processed_data\\test\\39\\legible_results.json\n",
      "2025-03-23 11:51:10 [INFO] Saving illegible_tracklets to: c:\\Users\\colin\\OneDrive\\Desktop\\Jersey-Number-Recognition\\data\\SoccerNet\\jersey-2023\\processed_data\\test\\39\\illegible_results.json\n",
      "2025-03-23 11:51:10 [INFO] Saved illegible_tracklets to: c:\\Users\\colin\\OneDrive\\Desktop\\Jersey-Number-Recognition\\data\\SoccerNet\\jersey-2023\\processed_data\\test\\39\\illegible_results.json\n",
      "2025-03-23 11:51:10 [INFO] Legibility classification complete.\n",
      "2025-03-23 11:51:10 [INFO] Processed tracklet: 39\n",
      "2025-03-23 11:51:10 [INFO] Saved features for tracklet with shape (750, 2048) to c:\\Users\\colin\\OneDrive\\Desktop\\Jersey-Number-Recognition\\data\\SoccerNet\\jersey-2023\\processed_data\\test\\62\\features.npy\n",
      "2025-03-23 11:51:10 [INFO] Identifying and removing outliers by calling gaussian_outliers_streamlined.py on feature file\n"
     ]
    },
    {
     "name": "stderr",
     "output_type": "stream",
     "text": [
      "Lightning automatically upgraded your loaded checkpoint from v1.1.4 to v2.5.0.post0. To apply the upgrade to your files permanently, run `python -m pytorch_lightning.utilities.upgrade_checkpoint c:\\Users\\colin\\OneDrive\\Desktop\\Jersey-Number-Recognition\\data\\pre_trained_models\\reid\\dukemtmcreid_resnet50_256_128_epoch_120.ckpt`\n"
     ]
    },
    {
     "name": "stdout",
     "output_type": "stream",
     "text": [
      "2025-03-23 11:51:11 [INFO] \n",
      "2025-03-23 11:51:11 [INFO] Done removing outliers\n",
      "2025-03-23 11:51:11 [INFO] Running model chain on preprocessed image(s).\n",
      "2025-03-23 11:51:11 [INFO] Classifying legibility of image(s) using pre-trained model.\n",
      "2025-03-23 11:51:11 [WARNING] No soccer ball list found. Skipping exclusion of soccer balls.\n",
      "2025-03-23 11:51:11 [INFO] Path checked: c:\\Users\\colin\\OneDrive\\Desktop\\Jersey-Number-Recognition\\data\\SoccerNet\\jersey-2023\\processed_data\\test\\common_data\\soccer_ball.json\n",
      "2025-03-23 11:51:13 [INFO] \n",
      "2025-03-23 11:51:13 [INFO] Done removing outliers\n",
      "2025-03-23 11:51:13 [INFO] Running model chain on preprocessed image(s).\n",
      "2025-03-23 11:51:13 [INFO] Classifying legibility of image(s) using pre-trained model.\n",
      "2025-03-23 11:51:13 [WARNING] No soccer ball list found. Skipping exclusion of soccer balls.\n",
      "2025-03-23 11:51:13 [INFO] Path checked: c:\\Users\\colin\\OneDrive\\Desktop\\Jersey-Number-Recognition\\data\\SoccerNet\\jersey-2023\\processed_data\\test\\common_data\\soccer_ball.json\n",
      "2025-03-23 11:51:14 [INFO] Saved features for tracklet with shape (750, 2048) to c:\\Users\\colin\\OneDrive\\Desktop\\Jersey-Number-Recognition\\data\\SoccerNet\\jersey-2023\\processed_data\\test\\59\\features.npy\n",
      "2025-03-23 11:51:14 [INFO] \n",
      "2025-03-23 11:51:15 [INFO] Done removing outliers\n",
      "2025-03-23 11:51:15 [INFO] Running model chain on preprocessed image(s).\n",
      "2025-03-23 11:51:15 [INFO] Classifying legibility of image(s) using pre-trained model.\n",
      "2025-03-23 11:51:15 [WARNING] No soccer ball list found. Skipping exclusion of soccer balls.\n",
      "2025-03-23 11:51:15 [INFO] Path checked: c:\\Users\\colin\\OneDrive\\Desktop\\Jersey-Number-Recognition\\data\\SoccerNet\\jersey-2023\\processed_data\\test\\common_data\\soccer_ball.json\n",
      "2025-03-23 11:51:15 [INFO] Identifying and removing outliers by calling gaussian_outliers_streamlined.py on feature file\n"
     ]
    },
    {
     "name": "stderr",
     "output_type": "stream",
     "text": [
      "Lightning automatically upgraded your loaded checkpoint from v1.1.4 to v2.5.0.post0. To apply the upgrade to your files permanently, run `python -m pytorch_lightning.utilities.upgrade_checkpoint c:\\Users\\colin\\OneDrive\\Desktop\\Jersey-Number-Recognition\\data\\pre_trained_models\\reid\\dukemtmcreid_resnet50_256_128_epoch_120.ckpt`\n"
     ]
    },
    {
     "name": "stdout",
     "output_type": "stream",
     "text": [
      "2025-03-23 11:51:18 [INFO] Saving legible_tracklets to: c:\\Users\\colin\\OneDrive\\Desktop\\Jersey-Number-Recognition\\data\\SoccerNet\\jersey-2023\\processed_data\\test\\55\\legible_results.json\n",
      "2025-03-23 11:51:18 [INFO] Saved legible_tracklets to: c:\\Users\\colin\\OneDrive\\Desktop\\Jersey-Number-Recognition\\data\\SoccerNet\\jersey-2023\\processed_data\\test\\55\\legible_results.json\n",
      "2025-03-23 11:51:18 [INFO] Saving illegible_tracklets to: c:\\Users\\colin\\OneDrive\\Desktop\\Jersey-Number-Recognition\\data\\SoccerNet\\jersey-2023\\processed_data\\test\\55\\illegible_results.json\n",
      "2025-03-23 11:51:18 [INFO] Saved illegible_tracklets to: c:\\Users\\colin\\OneDrive\\Desktop\\Jersey-Number-Recognition\\data\\SoccerNet\\jersey-2023\\processed_data\\test\\55\\illegible_results.json\n",
      "2025-03-23 11:51:18 [INFO] Legibility classification complete.\n",
      "2025-03-23 11:51:18 [INFO] Processed tracklet: 55\n",
      "2025-03-23 11:51:22 [INFO] Saved features for tracklet with shape (293, 2048) to c:\\Users\\colin\\OneDrive\\Desktop\\Jersey-Number-Recognition\\data\\SoccerNet\\jersey-2023\\processed_data\\test\\63\\features.npy\n",
      "2025-03-23 11:51:22 [INFO] Identifying and removing outliers by calling gaussian_outliers_streamlined.py on feature file\n",
      "2025-03-23 11:51:22 [INFO] Saving legible_tracklets to: c:\\Users\\colin\\OneDrive\\Desktop\\Jersey-Number-Recognition\\data\\SoccerNet\\jersey-2023\\processed_data\\test\\34\\legible_results.json\n",
      "2025-03-23 11:51:22 [INFO] Saved legible_tracklets to: c:\\Users\\colin\\OneDrive\\Desktop\\Jersey-Number-Recognition\\data\\SoccerNet\\jersey-2023\\processed_data\\test\\34\\legible_results.json\n",
      "2025-03-23 11:51:22 [INFO] Saving illegible_tracklets to: c:\\Users\\colin\\OneDrive\\Desktop\\Jersey-Number-Recognition\\data\\SoccerNet\\jersey-2023\\processed_data\\test\\34\\illegible_results.json\n",
      "2025-03-23 11:51:22 [INFO] Saved illegible_tracklets to: c:\\Users\\colin\\OneDrive\\Desktop\\Jersey-Number-Recognition\\data\\SoccerNet\\jersey-2023\\processed_data\\test\\34\\illegible_results.json\n",
      "2025-03-23 11:51:22 [INFO] Legibility classification complete.\n",
      "2025-03-23 11:51:22 [INFO] Processed tracklet: 34\n"
     ]
    },
    {
     "name": "stderr",
     "output_type": "stream",
     "text": [
      "Lightning automatically upgraded your loaded checkpoint from v1.1.4 to v2.5.0.post0. To apply the upgrade to your files permanently, run `python -m pytorch_lightning.utilities.upgrade_checkpoint c:\\Users\\colin\\OneDrive\\Desktop\\Jersey-Number-Recognition\\data\\pre_trained_models\\reid\\dukemtmcreid_resnet50_256_128_epoch_120.ckpt`\n"
     ]
    },
    {
     "name": "stdout",
     "output_type": "stream",
     "text": [
      "2025-03-23 11:51:26 [INFO] Saving legible_tracklets to: c:\\Users\\colin\\OneDrive\\Desktop\\Jersey-Number-Recognition\\data\\SoccerNet\\jersey-2023\\processed_data\\test\\57\\legible_results.json\n",
      "2025-03-23 11:51:26 [INFO] Saved legible_tracklets to: c:\\Users\\colin\\OneDrive\\Desktop\\Jersey-Number-Recognition\\data\\SoccerNet\\jersey-2023\\processed_data\\test\\57\\legible_results.json\n",
      "2025-03-23 11:51:26 [INFO] Saving illegible_tracklets to: c:\\Users\\colin\\OneDrive\\Desktop\\Jersey-Number-Recognition\\data\\SoccerNet\\jersey-2023\\processed_data\\test\\57\\illegible_results.json\n",
      "2025-03-23 11:51:26 [INFO] Saved illegible_tracklets to: c:\\Users\\colin\\OneDrive\\Desktop\\Jersey-Number-Recognition\\data\\SoccerNet\\jersey-2023\\processed_data\\test\\57\\illegible_results.json\n",
      "2025-03-23 11:51:26 [INFO] Legibility classification complete.\n",
      "2025-03-23 11:51:26 [INFO] Processed tracklet: 57\n",
      "2025-03-23 11:51:26 [INFO] Saved features for tracklet with shape (401, 2048) to c:\\Users\\colin\\OneDrive\\Desktop\\Jersey-Number-Recognition\\data\\SoccerNet\\jersey-2023\\processed_data\\test\\46\\features.npy\n",
      "2025-03-23 11:51:26 [INFO] Identifying and removing outliers by calling gaussian_outliers_streamlined.py on feature file\n"
     ]
    },
    {
     "name": "stderr",
     "output_type": "stream",
     "text": [
      "Lightning automatically upgraded your loaded checkpoint from v1.1.4 to v2.5.0.post0. To apply the upgrade to your files permanently, run `python -m pytorch_lightning.utilities.upgrade_checkpoint c:\\Users\\colin\\OneDrive\\Desktop\\Jersey-Number-Recognition\\data\\pre_trained_models\\reid\\dukemtmcreid_resnet50_256_128_epoch_120.ckpt`\n"
     ]
    },
    {
     "name": "stdout",
     "output_type": "stream",
     "text": [
      "2025-03-23 11:51:28 [INFO] \n",
      "2025-03-23 11:51:28 [INFO] Done removing outliers\n",
      "2025-03-23 11:51:28 [INFO] Running model chain on preprocessed image(s).\n",
      "2025-03-23 11:51:28 [INFO] Classifying legibility of image(s) using pre-trained model.\n",
      "2025-03-23 11:51:28 [WARNING] No soccer ball list found. Skipping exclusion of soccer balls.\n",
      "2025-03-23 11:51:28 [INFO] Path checked: c:\\Users\\colin\\OneDrive\\Desktop\\Jersey-Number-Recognition\\data\\SoccerNet\\jersey-2023\\processed_data\\test\\common_data\\soccer_ball.json\n",
      "2025-03-23 11:51:29 [INFO] Saved features for tracklet with shape (77, 2048) to c:\\Users\\colin\\OneDrive\\Desktop\\Jersey-Number-Recognition\\data\\SoccerNet\\jersey-2023\\processed_data\\test\\52\\features.npy\n",
      "2025-03-23 11:51:29 [INFO] Identifying and removing outliers by calling gaussian_outliers_streamlined.py on feature file\n",
      "2025-03-23 11:51:32 [INFO] Saved features for tracklet with shape (592, 2048) to c:\\Users\\colin\\OneDrive\\Desktop\\Jersey-Number-Recognition\\data\\SoccerNet\\jersey-2023\\processed_data\\test\\61\\features.npy\n",
      "2025-03-23 11:51:32 [INFO] Identifying and removing outliers by calling gaussian_outliers_streamlined.py on feature file\n",
      "2025-03-23 11:51:32 [INFO] \n",
      "2025-03-23 11:51:32 [INFO] Done removing outliers\n",
      "2025-03-23 11:51:32 [INFO] Running model chain on preprocessed image(s).\n",
      "2025-03-23 11:51:32 [INFO] Classifying legibility of image(s) using pre-trained model.\n",
      "2025-03-23 11:51:32 [WARNING] No soccer ball list found. Skipping exclusion of soccer balls.\n",
      "2025-03-23 11:51:32 [INFO] Path checked: c:\\Users\\colin\\OneDrive\\Desktop\\Jersey-Number-Recognition\\data\\SoccerNet\\jersey-2023\\processed_data\\test\\common_data\\soccer_ball.json\n",
      "2025-03-23 11:51:37 [INFO] \n",
      "2025-03-23 11:51:37 [INFO] Done removing outliers\n",
      "2025-03-23 11:51:37 [INFO] Running model chain on preprocessed image(s).\n",
      "2025-03-23 11:51:37 [INFO] Classifying legibility of image(s) using pre-trained model.\n",
      "2025-03-23 11:51:37 [WARNING] No soccer ball list found. Skipping exclusion of soccer balls.\n",
      "2025-03-23 11:51:37 [INFO] Path checked: c:\\Users\\colin\\OneDrive\\Desktop\\Jersey-Number-Recognition\\data\\SoccerNet\\jersey-2023\\processed_data\\test\\common_data\\soccer_ball.json\n",
      "2025-03-23 11:51:41 [INFO] \n",
      "2025-03-23 11:51:41 [INFO] Done removing outliers\n",
      "2025-03-23 11:51:41 [INFO] Running model chain on preprocessed image(s).\n",
      "2025-03-23 11:51:41 [INFO] Classifying legibility of image(s) using pre-trained model.\n",
      "2025-03-23 11:51:41 [WARNING] No soccer ball list found. Skipping exclusion of soccer balls.\n",
      "2025-03-23 11:51:41 [INFO] Path checked: c:\\Users\\colin\\OneDrive\\Desktop\\Jersey-Number-Recognition\\data\\SoccerNet\\jersey-2023\\processed_data\\test\\common_data\\soccer_ball.json\n",
      "2025-03-23 11:51:44 [INFO] \n",
      "2025-03-23 11:51:44 [INFO] Done removing outliers\n",
      "2025-03-23 11:51:44 [INFO] Running model chain on preprocessed image(s).\n",
      "2025-03-23 11:51:44 [INFO] Classifying legibility of image(s) using pre-trained model.\n",
      "2025-03-23 11:51:44 [WARNING] No soccer ball list found. Skipping exclusion of soccer balls.\n",
      "2025-03-23 11:51:44 [INFO] Path checked: c:\\Users\\colin\\OneDrive\\Desktop\\Jersey-Number-Recognition\\data\\SoccerNet\\jersey-2023\\processed_data\\test\\common_data\\soccer_ball.json\n",
      "2025-03-23 11:51:47 [INFO] \n",
      "2025-03-23 11:51:47 [INFO] Done removing outliers\n",
      "2025-03-23 11:51:47 [INFO] Running model chain on preprocessed image(s).\n",
      "2025-03-23 11:51:47 [INFO] Classifying legibility of image(s) using pre-trained model.\n",
      "2025-03-23 11:51:47 [WARNING] No soccer ball list found. Skipping exclusion of soccer balls.\n",
      "2025-03-23 11:51:47 [INFO] Path checked: c:\\Users\\colin\\OneDrive\\Desktop\\Jersey-Number-Recognition\\data\\SoccerNet\\jersey-2023\\processed_data\\test\\common_data\\soccer_ball.json\n",
      "2025-03-23 11:51:51 [ERROR] Exception in process_tracklet_worker\n",
      "Traceback (most recent call last):\n",
      "  File \"c:\\Users\\colin\\OneDrive\\Desktop\\Jersey-Number-Recognition\\ModelDevelopment\\CentralPipeline.py\", line 92, in process_tracklet_worker\n",
      "    pipeline.run_model_chain()\n",
      "    ~~~~~~~~~~~~~~~~~~~~~~~~^^\n",
      "  File \"c:\\Users\\colin\\OneDrive\\Desktop\\Jersey-Number-Recognition\\ModelDevelopment\\ImageBatchPipeline.py\", line 211, in run_model_chain\n",
      "    self.pass_through_legibility_classifier()\n",
      "    ~~~~~~~~~~~~~~~~~~~~~~~~~~~~~~~~~~~~~~~^^\n",
      "  File \"c:\\Users\\colin\\OneDrive\\Desktop\\Jersey-Number-Recognition\\ModelDevelopment\\ImageBatchPipeline.py\", line 177, in pass_through_legibility_classifier\n",
      "    track_results = lc.run(images_full_path, DataPaths.RESNET_MODEL.value, arch=config.dataset['SoccerNet']['legibility_model_arch'], threshold=0.5)\n",
      "  File \"c:\\Users\\colin\\OneDrive\\Desktop\\Jersey-Number-Recognition\\legibility_classifier.py\", line 372, in run\n",
      "    for inputs in dataloader:\n",
      "                  ^^^^^^^^^^\n",
      "  File \"c:\\Users\\colin\\miniconda3\\envs\\UBC\\Lib\\site-packages\\torch\\utils\\data\\dataloader.py\", line 708, in __next__\n",
      "    data = self._next_data()\n",
      "  File \"c:\\Users\\colin\\miniconda3\\envs\\UBC\\Lib\\site-packages\\torch\\utils\\data\\dataloader.py\", line 1480, in _next_data\n",
      "    return self._process_data(data)\n",
      "           ~~~~~~~~~~~~~~~~~~^^^^^^\n",
      "  File \"c:\\Users\\colin\\miniconda3\\envs\\UBC\\Lib\\site-packages\\torch\\utils\\data\\dataloader.py\", line 1505, in _process_data\n",
      "    data.reraise()\n",
      "    ~~~~~~~~~~~~^^\n",
      "  File \"c:\\Users\\colin\\miniconda3\\envs\\UBC\\Lib\\site-packages\\torch\\_utils.py\", line 733, in reraise\n",
      "    raise exception\n",
      "RuntimeError: Caught RuntimeError in DataLoader worker process 2.\n",
      "Original Traceback (most recent call last):\n",
      "  File \"c:\\Users\\colin\\miniconda3\\envs\\UBC\\Lib\\site-packages\\torch\\utils\\data\\_utils\\worker.py\", line 349, in _worker_loop\n",
      "    data = fetcher.fetch(index)  # type: ignore[possibly-undefined]\n",
      "  File \"c:\\Users\\colin\\miniconda3\\envs\\UBC\\Lib\\site-packages\\torch\\utils\\data\\_utils\\fetch.py\", line 55, in fetch\n",
      "    return self.collate_fn(data)\n",
      "           ~~~~~~~~~~~~~~~^^^^^^\n",
      "  File \"c:\\Users\\colin\\miniconda3\\envs\\UBC\\Lib\\site-packages\\torch\\utils\\data\\_utils\\collate.py\", line 398, in default_collate\n",
      "    return collate(batch, collate_fn_map=default_collate_fn_map)\n",
      "  File \"c:\\Users\\colin\\miniconda3\\envs\\UBC\\Lib\\site-packages\\torch\\utils\\data\\_utils\\collate.py\", line 155, in collate\n",
      "    return collate_fn_map[elem_type](batch, collate_fn_map=collate_fn_map)\n",
      "           ~~~~~~~~~~~~~~~~~~~~~~~~~^^^^^^^^^^^^^^^^^^^^^^^^^^^^^^^^^^^^^^\n",
      "  File \"c:\\Users\\colin\\miniconda3\\envs\\UBC\\Lib\\site-packages\\torch\\utils\\data\\_utils\\collate.py\", line 270, in collate_tensor_fn\n",
      "    storage = elem._typed_storage()._new_shared(numel, device=elem.device)\n",
      "  File \"c:\\Users\\colin\\miniconda3\\envs\\UBC\\Lib\\site-packages\\torch\\storage.py\", line 1198, in _new_shared\n",
      "    untyped_storage = torch.UntypedStorage._new_shared(\n",
      "        size * self._element_size(), device=device\n",
      "    )\n",
      "  File \"c:\\Users\\colin\\miniconda3\\envs\\UBC\\Lib\\site-packages\\torch\\storage.py\", line 413, in _new_shared\n",
      "    return cls._new_using_filename_cpu(size)\n",
      "           ~~~~~~~~~~~~~~~~~~~~~~~~~~~^^^^^^\n",
      "RuntimeError: Couldn't open shared file mapping: <torch_53768_3015606584_15>, error code: <1455>\n",
      "\n",
      "2025-03-23 11:51:51 [ERROR] Worker crashed for tracklet 58: Caught RuntimeError in DataLoader worker process 2.\n",
      "Original Traceback (most recent call last):\n",
      "  File \"c:\\Users\\colin\\miniconda3\\envs\\UBC\\Lib\\site-packages\\torch\\utils\\data\\_utils\\worker.py\", line 349, in _worker_loop\n",
      "    data = fetcher.fetch(index)  # type: ignore[possibly-undefined]\n",
      "  File \"c:\\Users\\colin\\miniconda3\\envs\\UBC\\Lib\\site-packages\\torch\\utils\\data\\_utils\\fetch.py\", line 55, in fetch\n",
      "    return self.collate_fn(data)\n",
      "           ~~~~~~~~~~~~~~~^^^^^^\n",
      "  File \"c:\\Users\\colin\\miniconda3\\envs\\UBC\\Lib\\site-packages\\torch\\utils\\data\\_utils\\collate.py\", line 398, in default_collate\n",
      "    return collate(batch, collate_fn_map=default_collate_fn_map)\n",
      "  File \"c:\\Users\\colin\\miniconda3\\envs\\UBC\\Lib\\site-packages\\torch\\utils\\data\\_utils\\collate.py\", line 155, in collate\n",
      "    return collate_fn_map[elem_type](batch, collate_fn_map=collate_fn_map)\n",
      "           ~~~~~~~~~~~~~~~~~~~~~~~~~^^^^^^^^^^^^^^^^^^^^^^^^^^^^^^^^^^^^^^\n",
      "  File \"c:\\Users\\colin\\miniconda3\\envs\\UBC\\Lib\\site-packages\\torch\\utils\\data\\_utils\\collate.py\", line 270, in collate_tensor_fn\n",
      "    storage = elem._typed_storage()._new_shared(numel, device=elem.device)\n",
      "  File \"c:\\Users\\colin\\miniconda3\\envs\\UBC\\Lib\\site-packages\\torch\\storage.py\", line 1198, in _new_shared\n",
      "    untyped_storage = torch.UntypedStorage._new_shared(\n",
      "        size * self._element_size(), device=device\n",
      "    )\n",
      "  File \"c:\\Users\\colin\\miniconda3\\envs\\UBC\\Lib\\site-packages\\torch\\storage.py\", line 413, in _new_shared\n",
      "    return cls._new_using_filename_cpu(size)\n",
      "           ~~~~~~~~~~~~~~~~~~~~~~~~~~~^^^^^^\n",
      "RuntimeError: Couldn't open shared file mapping: <torch_53768_3015606584_15>, error code: <1455>\n",
      "NoneType: None\n",
      "2025-03-23 11:51:53 [INFO] Saving legible_tracklets to: c:\\Users\\colin\\OneDrive\\Desktop\\Jersey-Number-Recognition\\data\\SoccerNet\\jersey-2023\\processed_data\\test\\63\\legible_results.json\n",
      "2025-03-23 11:51:53 [INFO] Saved legible_tracklets to: c:\\Users\\colin\\OneDrive\\Desktop\\Jersey-Number-Recognition\\data\\SoccerNet\\jersey-2023\\processed_data\\test\\63\\legible_results.json\n",
      "2025-03-23 11:51:53 [INFO] Saving illegible_tracklets to: c:\\Users\\colin\\OneDrive\\Desktop\\Jersey-Number-Recognition\\data\\SoccerNet\\jersey-2023\\processed_data\\test\\63\\illegible_results.json\n",
      "2025-03-23 11:51:53 [INFO] Saved illegible_tracklets to: c:\\Users\\colin\\OneDrive\\Desktop\\Jersey-Number-Recognition\\data\\SoccerNet\\jersey-2023\\processed_data\\test\\63\\illegible_results.json\n",
      "2025-03-23 11:51:53 [INFO] Legibility classification complete.\n",
      "2025-03-23 11:51:53 [INFO] Processed tracklet: 63\n",
      "2025-03-23 11:51:55 [ERROR] Exception in process_tracklet_worker\n",
      "Traceback (most recent call last):\n",
      "  File \"c:\\Users\\colin\\miniconda3\\envs\\UBC\\Lib\\site-packages\\torch\\utils\\data\\dataloader.py\", line 1251, in _try_get_data\n",
      "    data = self._data_queue.get(timeout=timeout)\n",
      "  File \"c:\\Users\\colin\\miniconda3\\envs\\UBC\\Lib\\multiprocessing\\queues.py\", line 112, in get\n",
      "    raise Empty\n",
      "_queue.Empty\n",
      "\n",
      "The above exception was the direct cause of the following exception:\n",
      "\n",
      "Traceback (most recent call last):\n",
      "  File \"c:\\Users\\colin\\OneDrive\\Desktop\\Jersey-Number-Recognition\\ModelDevelopment\\CentralPipeline.py\", line 92, in process_tracklet_worker\n",
      "    pipeline.run_model_chain()\n",
      "    ~~~~~~~~~~~~~~~~~~~~~~~~^^\n",
      "  File \"c:\\Users\\colin\\OneDrive\\Desktop\\Jersey-Number-Recognition\\ModelDevelopment\\ImageBatchPipeline.py\", line 211, in run_model_chain\n",
      "    self.pass_through_legibility_classifier()\n",
      "    ~~~~~~~~~~~~~~~~~~~~~~~~~~~~~~~~~~~~~~~^^\n",
      "  File \"c:\\Users\\colin\\OneDrive\\Desktop\\Jersey-Number-Recognition\\ModelDevelopment\\ImageBatchPipeline.py\", line 177, in pass_through_legibility_classifier\n",
      "    track_results = lc.run(images_full_path, DataPaths.RESNET_MODEL.value, arch=config.dataset['SoccerNet']['legibility_model_arch'], threshold=0.5)\n",
      "  File \"c:\\Users\\colin\\OneDrive\\Desktop\\Jersey-Number-Recognition\\legibility_classifier.py\", line 372, in run\n",
      "    for inputs in dataloader:\n",
      "                  ^^^^^^^^^^\n",
      "  File \"c:\\Users\\colin\\miniconda3\\envs\\UBC\\Lib\\site-packages\\torch\\utils\\data\\dataloader.py\", line 708, in __next__\n",
      "    data = self._next_data()\n",
      "  File \"c:\\Users\\colin\\miniconda3\\envs\\UBC\\Lib\\site-packages\\torch\\utils\\data\\dataloader.py\", line 1458, in _next_data\n",
      "    idx, data = self._get_data()\n",
      "                ~~~~~~~~~~~~~~^^\n",
      "  File \"c:\\Users\\colin\\miniconda3\\envs\\UBC\\Lib\\site-packages\\torch\\utils\\data\\dataloader.py\", line 1420, in _get_data\n",
      "    success, data = self._try_get_data()\n",
      "                    ~~~~~~~~~~~~~~~~~~^^\n",
      "  File \"c:\\Users\\colin\\miniconda3\\envs\\UBC\\Lib\\site-packages\\torch\\utils\\data\\dataloader.py\", line 1264, in _try_get_data\n",
      "    raise RuntimeError(\n",
      "        f\"DataLoader worker (pid(s) {pids_str}) exited unexpectedly\"\n",
      "    ) from e\n",
      "RuntimeError: DataLoader worker (pid(s) 54752) exited unexpectedly\n",
      "2025-03-23 11:51:55 [ERROR] Worker crashed for tracklet 61: DataLoader worker (pid(s) 54752) exited unexpectedly\n",
      "NoneType: None\n",
      "2025-03-23 11:51:59 [INFO] Saving legible_tracklets to: c:\\Users\\colin\\OneDrive\\Desktop\\Jersey-Number-Recognition\\data\\SoccerNet\\jersey-2023\\processed_data\\test\\46\\legible_results.json\n",
      "2025-03-23 11:51:59 [INFO] Saved legible_tracklets to: c:\\Users\\colin\\OneDrive\\Desktop\\Jersey-Number-Recognition\\data\\SoccerNet\\jersey-2023\\processed_data\\test\\46\\legible_results.json\n",
      "2025-03-23 11:51:59 [INFO] Saving illegible_tracklets to: c:\\Users\\colin\\OneDrive\\Desktop\\Jersey-Number-Recognition\\data\\SoccerNet\\jersey-2023\\processed_data\\test\\46\\illegible_results.json\n",
      "2025-03-23 11:51:59 [INFO] Saved illegible_tracklets to: c:\\Users\\colin\\OneDrive\\Desktop\\Jersey-Number-Recognition\\data\\SoccerNet\\jersey-2023\\processed_data\\test\\46\\illegible_results.json\n",
      "2025-03-23 11:51:59 [INFO] Legibility classification complete.\n",
      "2025-03-23 11:51:59 [INFO] Processed tracklet: 46\n",
      "2025-03-23 11:52:00 [INFO] Saving legible_tracklets to: c:\\Users\\colin\\OneDrive\\Desktop\\Jersey-Number-Recognition\\data\\SoccerNet\\jersey-2023\\processed_data\\test\\52\\legible_results.json\n",
      "2025-03-23 11:52:00 [INFO] Saved legible_tracklets to: c:\\Users\\colin\\OneDrive\\Desktop\\Jersey-Number-Recognition\\data\\SoccerNet\\jersey-2023\\processed_data\\test\\52\\legible_results.json\n",
      "2025-03-23 11:52:00 [INFO] Saving illegible_tracklets to: c:\\Users\\colin\\OneDrive\\Desktop\\Jersey-Number-Recognition\\data\\SoccerNet\\jersey-2023\\processed_data\\test\\52\\illegible_results.json\n",
      "2025-03-23 11:52:00 [INFO] Saved illegible_tracklets to: c:\\Users\\colin\\OneDrive\\Desktop\\Jersey-Number-Recognition\\data\\SoccerNet\\jersey-2023\\processed_data\\test\\52\\illegible_results.json\n",
      "2025-03-23 11:52:00 [INFO] Legibility classification complete.\n",
      "2025-03-23 11:52:00 [INFO] Processed tracklet: 52\n",
      "2025-03-23 11:52:00 [INFO] Saving legible_tracklets to: c:\\Users\\colin\\OneDrive\\Desktop\\Jersey-Number-Recognition\\data\\SoccerNet\\jersey-2023\\processed_data\\test\\60\\legible_results.json\n",
      "2025-03-23 11:52:00 [INFO] Saved legible_tracklets to: c:\\Users\\colin\\OneDrive\\Desktop\\Jersey-Number-Recognition\\data\\SoccerNet\\jersey-2023\\processed_data\\test\\60\\legible_results.json\n",
      "2025-03-23 11:52:00 [INFO] Saving illegible_tracklets to: c:\\Users\\colin\\OneDrive\\Desktop\\Jersey-Number-Recognition\\data\\SoccerNet\\jersey-2023\\processed_data\\test\\60\\illegible_results.json\n",
      "2025-03-23 11:52:00 [INFO] Saved illegible_tracklets to: c:\\Users\\colin\\OneDrive\\Desktop\\Jersey-Number-Recognition\\data\\SoccerNet\\jersey-2023\\processed_data\\test\\60\\illegible_results.json\n",
      "2025-03-23 11:52:00 [INFO] Legibility classification complete.\n",
      "2025-03-23 11:52:00 [INFO] Processed tracklet: 60\n",
      "2025-03-23 11:52:07 [INFO] Saving legible_tracklets to: c:\\Users\\colin\\OneDrive\\Desktop\\Jersey-Number-Recognition\\data\\SoccerNet\\jersey-2023\\processed_data\\test\\62\\legible_results.json\n",
      "2025-03-23 11:52:07 [INFO] Saved legible_tracklets to: c:\\Users\\colin\\OneDrive\\Desktop\\Jersey-Number-Recognition\\data\\SoccerNet\\jersey-2023\\processed_data\\test\\62\\legible_results.json\n",
      "2025-03-23 11:52:07 [INFO] Saving illegible_tracklets to: c:\\Users\\colin\\OneDrive\\Desktop\\Jersey-Number-Recognition\\data\\SoccerNet\\jersey-2023\\processed_data\\test\\62\\illegible_results.json\n",
      "2025-03-23 11:52:07 [INFO] Saved illegible_tracklets to: c:\\Users\\colin\\OneDrive\\Desktop\\Jersey-Number-Recognition\\data\\SoccerNet\\jersey-2023\\processed_data\\test\\62\\illegible_results.json\n",
      "2025-03-23 11:52:07 [INFO] Legibility classification complete.\n",
      "2025-03-23 11:52:07 [INFO] Processed tracklet: 62\n",
      "2025-03-23 11:52:09 [INFO] Saving legible_tracklets to: c:\\Users\\colin\\OneDrive\\Desktop\\Jersey-Number-Recognition\\data\\SoccerNet\\jersey-2023\\processed_data\\test\\59\\legible_results.json\n",
      "2025-03-23 11:52:09 [INFO] Saved legible_tracklets to: c:\\Users\\colin\\OneDrive\\Desktop\\Jersey-Number-Recognition\\data\\SoccerNet\\jersey-2023\\processed_data\\test\\59\\legible_results.json\n",
      "2025-03-23 11:52:09 [INFO] Saving illegible_tracklets to: c:\\Users\\colin\\OneDrive\\Desktop\\Jersey-Number-Recognition\\data\\SoccerNet\\jersey-2023\\processed_data\\test\\59\\illegible_results.json\n",
      "2025-03-23 11:52:09 [INFO] Saved illegible_tracklets to: c:\\Users\\colin\\OneDrive\\Desktop\\Jersey-Number-Recognition\\data\\SoccerNet\\jersey-2023\\processed_data\\test\\59\\illegible_results.json\n",
      "2025-03-23 11:52:09 [INFO] Legibility classification complete.\n",
      "2025-03-23 11:52:09 [INFO] Processed tracklet: 59\n",
      "2025-03-23 11:52:09 [INFO] Using double parallelization: multiprocessing + CUDA batch processing.\n"
     ]
    },
    {
     "data": {
      "application/vnd.jupyter.widget-view+json": {
       "model_id": "4af35e11bc634c63851438447260730c",
       "version_major": 2,
       "version_minor": 0
      },
      "text/plain": [
       "Processing tracklets (CUDA + CPU):   0%|          | 0/32 [00:00<?, ?it/s]"
      ]
     },
     "metadata": {},
     "output_type": "display_data"
    },
    {
     "name": "stdout",
     "output_type": "stream",
     "text": [
      "2025-03-23 11:52:36 [INFO] DEBUG: Number of images per tracklet in batch: 750\n",
      "2025-03-23 11:52:36 [INFO] Creating placeholder data files for Soccer Ball Filter.\n",
      "2025-03-23 11:52:36 [INFO] Creating placeholder data files for Legibility Classifier.\n",
      "2025-03-23 11:52:36 [INFO] DEBUG: Just before getting args for workers\n",
      "2025-03-23 11:52:37 [INFO] Determine soccer balls in image(s) using pre-trained model.\n",
      "2025-03-23 11:52:37 [INFO] Determine soccer balls in image(s) using pre-trained model.\n",
      "2025-03-23 11:52:37 [INFO] Determine soccer balls in image(s) using pre-trained model.\n",
      "2025-03-23 11:52:37 [INFO] Determine soccer balls in image(s) using pre-trained model.\n",
      "2025-03-23 11:52:37 [INFO] Determine soccer balls in image(s) using pre-trained model.\n",
      "2025-03-23 11:52:37 [INFO] Determine soccer balls in image(s) using pre-trained model.\n",
      "2025-03-23 11:52:37 [INFO] Determine soccer balls in image(s) using pre-trained model.\n",
      "2025-03-23 11:52:37 [INFO] Determine soccer balls in image(s) using pre-trained model.\n",
      "2025-03-23 11:52:37 [INFO] Determine soccer balls in image(s) using pre-trained model.\n",
      "2025-03-23 11:52:37 [INFO] Determine soccer balls in image(s) using pre-trained model.\n",
      "2025-03-23 11:52:37 [INFO] Determine soccer balls in image(s) using pre-trained model.\n",
      "2025-03-23 11:52:37 [INFO] Determine soccer balls in image(s) using pre-trained model.\n",
      "2025-03-23 11:52:37 [INFO] Determine soccer balls in image(s) using pre-trained model.\n",
      "2025-03-23 11:52:37 [INFO] Determine soccer balls in image(s) using pre-trained model.\n",
      "2025-03-23 11:52:37 [INFO] Determine soccer balls in image(s) using pre-trained model.\n",
      "2025-03-23 11:52:37 [INFO] Determine soccer balls in image(s) using pre-trained model.\n",
      "2025-03-23 11:52:37 [INFO] Determine soccer balls in image(s) using pre-trained model.\n",
      "2025-03-23 11:52:37 [INFO] Determine soccer balls in image(s) using pre-trained model.\n",
      "2025-03-23 11:52:37 [INFO] Found 0 balls, Ball list: []\n",
      "2025-03-23 11:52:37 [INFO] Found 0 balls, Ball list: []\n",
      "2025-03-23 11:52:37 [INFO] Found 0 balls, Ball list: []\n",
      "2025-03-23 11:52:37 [INFO] Found 0 balls, Ball list: []\n",
      "2025-03-23 11:52:37 [INFO] Found 0 balls, Ball list: []\n",
      "2025-03-23 11:52:37 [INFO] Found 0 balls, Ball list: []\n",
      "2025-03-23 11:52:37 [INFO] Found 1 balls, Ball list: ['67']\n",
      "2025-03-23 11:52:37 [INFO] Found 0 balls, Ball list: []\n",
      "2025-03-23 11:52:37 [INFO] Found 1 balls, Ball list: ['68']\n",
      "2025-03-23 11:52:37 [INFO] Found 0 balls, Ball list: []\n",
      "2025-03-23 11:52:37 [INFO] Found 0 balls, Ball list: []\n",
      "2025-03-23 11:52:37 [INFO] Found 0 balls, Ball list: []\n",
      "2025-03-23 11:52:37 [INFO] Found 0 balls, Ball list: []\n",
      "2025-03-23 11:52:37 [INFO] Found 0 balls, Ball list: []\n",
      "2025-03-23 11:52:37 [INFO] Found 0 balls, Ball list: []\n",
      "2025-03-23 11:52:37 [INFO] Found 0 balls, Ball list: []\n",
      "2025-03-23 11:52:37 [INFO] Found 0 balls, Ball list: []\n",
      "2025-03-23 11:52:37 [INFO] Found 0 balls, Ball list: []\n"
     ]
    },
    {
     "name": "stderr",
     "output_type": "stream",
     "text": [
      "Lightning automatically upgraded your loaded checkpoint from v1.1.4 to v2.5.0.post0. To apply the upgrade to your files permanently, run `python -m pytorch_lightning.utilities.upgrade_checkpoint c:\\Users\\colin\\OneDrive\\Desktop\\Jersey-Number-Recognition\\data\\pre_trained_models\\reid\\dukemtmcreid_resnet50_256_128_epoch_120.ckpt`\n"
     ]
    },
    {
     "data": {
      "application/vnd.jupyter.widget-view+json": {
       "model_id": "29fdb5a9d2034be99a6aa441930c6aa6",
       "version_major": 2,
       "version_minor": 0
      },
      "text/plain": [
       "Processing Batch Tracklets (64-96):   0%|          | 0/32 [00:00<?, ?it/s]"
      ]
     },
     "metadata": {},
     "output_type": "display_data"
    },
    {
     "name": "stderr",
     "output_type": "stream",
     "text": [
      "Lightning automatically upgraded your loaded checkpoint from v1.1.4 to v2.5.0.post0. To apply the upgrade to your files permanently, run `python -m pytorch_lightning.utilities.upgrade_checkpoint c:\\Users\\colin\\OneDrive\\Desktop\\Jersey-Number-Recognition\\data\\pre_trained_models\\reid\\dukemtmcreid_resnet50_256_128_epoch_120.ckpt`\n"
     ]
    },
    {
     "name": "stdout",
     "output_type": "stream",
     "text": [
      "2025-03-23 11:52:39 [INFO] Saved features for tracklet with shape (54, 2048) to c:\\Users\\colin\\OneDrive\\Desktop\\Jersey-Number-Recognition\\data\\SoccerNet\\jersey-2023\\processed_data\\test\\76\\features.npy\n",
      "2025-03-23 11:52:39 [INFO] Identifying and removing outliers by calling gaussian_outliers_streamlined.py on feature file\n",
      "2025-03-23 11:52:39 [INFO] Saved features for tracklet with shape (67, 2048) to c:\\Users\\colin\\OneDrive\\Desktop\\Jersey-Number-Recognition\\data\\SoccerNet\\jersey-2023\\processed_data\\test\\74\\features.npy\n",
      "2025-03-23 11:52:39 [INFO] Identifying and removing outliers by calling gaussian_outliers_streamlined.py on feature file\n"
     ]
    },
    {
     "name": "stderr",
     "output_type": "stream",
     "text": [
      "Lightning automatically upgraded your loaded checkpoint from v1.1.4 to v2.5.0.post0. To apply the upgrade to your files permanently, run `python -m pytorch_lightning.utilities.upgrade_checkpoint c:\\Users\\colin\\OneDrive\\Desktop\\Jersey-Number-Recognition\\data\\pre_trained_models\\reid\\dukemtmcreid_resnet50_256_128_epoch_120.ckpt`\n",
      "Lightning automatically upgraded your loaded checkpoint from v1.1.4 to v2.5.0.post0. To apply the upgrade to your files permanently, run `python -m pytorch_lightning.utilities.upgrade_checkpoint c:\\Users\\colin\\OneDrive\\Desktop\\Jersey-Number-Recognition\\data\\pre_trained_models\\reid\\dukemtmcreid_resnet50_256_128_epoch_120.ckpt`\n"
     ]
    },
    {
     "name": "stdout",
     "output_type": "stream",
     "text": [
      "2025-03-23 11:52:41 [INFO] Saved features for tracklet with shape (87, 2048) to c:\\Users\\colin\\OneDrive\\Desktop\\Jersey-Number-Recognition\\data\\SoccerNet\\jersey-2023\\processed_data\\test\\75\\features.npy\n",
      "2025-03-23 11:52:41 [INFO] Identifying and removing outliers by calling gaussian_outliers_streamlined.py on feature file\n"
     ]
    },
    {
     "name": "stderr",
     "output_type": "stream",
     "text": [
      "Lightning automatically upgraded your loaded checkpoint from v1.1.4 to v2.5.0.post0. To apply the upgrade to your files permanently, run `python -m pytorch_lightning.utilities.upgrade_checkpoint c:\\Users\\colin\\OneDrive\\Desktop\\Jersey-Number-Recognition\\data\\pre_trained_models\\reid\\dukemtmcreid_resnet50_256_128_epoch_120.ckpt`\n"
     ]
    },
    {
     "name": "stdout",
     "output_type": "stream",
     "text": [
      "2025-03-23 11:52:43 [INFO] Saved features for tracklet with shape (53, 2048) to c:\\Users\\colin\\OneDrive\\Desktop\\Jersey-Number-Recognition\\data\\SoccerNet\\jersey-2023\\processed_data\\test\\78\\features.npy\n",
      "2025-03-23 11:52:43 [INFO] Identifying and removing outliers by calling gaussian_outliers_streamlined.py on feature file\n"
     ]
    },
    {
     "name": "stderr",
     "output_type": "stream",
     "text": [
      "Lightning automatically upgraded your loaded checkpoint from v1.1.4 to v2.5.0.post0. To apply the upgrade to your files permanently, run `python -m pytorch_lightning.utilities.upgrade_checkpoint c:\\Users\\colin\\OneDrive\\Desktop\\Jersey-Number-Recognition\\data\\pre_trained_models\\reid\\dukemtmcreid_resnet50_256_128_epoch_120.ckpt`\n"
     ]
    },
    {
     "name": "stdout",
     "output_type": "stream",
     "text": [
      "2025-03-23 11:52:48 [INFO] Saved features for tracklet with shape (406, 2048) to c:\\Users\\colin\\OneDrive\\Desktop\\Jersey-Number-Recognition\\data\\SoccerNet\\jersey-2023\\processed_data\\test\\72\\features.npy\n",
      "2025-03-23 11:52:48 [INFO] Identifying and removing outliers by calling gaussian_outliers_streamlined.py on feature file\n"
     ]
    },
    {
     "name": "stderr",
     "output_type": "stream",
     "text": [
      "Lightning automatically upgraded your loaded checkpoint from v1.1.4 to v2.5.0.post0. To apply the upgrade to your files permanently, run `python -m pytorch_lightning.utilities.upgrade_checkpoint c:\\Users\\colin\\OneDrive\\Desktop\\Jersey-Number-Recognition\\data\\pre_trained_models\\reid\\dukemtmcreid_resnet50_256_128_epoch_120.ckpt`\n"
     ]
    },
    {
     "name": "stdout",
     "output_type": "stream",
     "text": [
      "2025-03-23 11:52:49 [INFO] Saved features for tracklet with shape (372, 2048) to c:\\Users\\colin\\OneDrive\\Desktop\\Jersey-Number-Recognition\\data\\SoccerNet\\jersey-2023\\processed_data\\test\\80\\features.npy\n",
      "2025-03-23 11:52:49 [INFO] Identifying and removing outliers by calling gaussian_outliers_streamlined.py on feature file\n"
     ]
    },
    {
     "name": "stderr",
     "output_type": "stream",
     "text": [
      "Lightning automatically upgraded your loaded checkpoint from v1.1.4 to v2.5.0.post0. To apply the upgrade to your files permanently, run `python -m pytorch_lightning.utilities.upgrade_checkpoint c:\\Users\\colin\\OneDrive\\Desktop\\Jersey-Number-Recognition\\data\\pre_trained_models\\reid\\dukemtmcreid_resnet50_256_128_epoch_120.ckpt`\n"
     ]
    },
    {
     "name": "stdout",
     "output_type": "stream",
     "text": [
      "2025-03-23 11:52:52 [INFO] \n",
      "2025-03-23 11:52:52 [INFO] \n",
      "2025-03-23 11:52:52 [INFO] Done removing outliers\n",
      "2025-03-23 11:52:52 [INFO] Done removing outliers\n",
      "2025-03-23 11:52:52 [INFO] Running model chain on preprocessed image(s).\n",
      "2025-03-23 11:52:52 [INFO] Running model chain on preprocessed image(s).\n",
      "2025-03-23 11:52:52 [INFO] Classifying legibility of image(s) using pre-trained model.\n",
      "2025-03-23 11:52:52 [INFO] Classifying legibility of image(s) using pre-trained model.\n",
      "2025-03-23 11:52:52 [WARNING] No soccer ball list found. Skipping exclusion of soccer balls.\n",
      "2025-03-23 11:52:52 [INFO] Path checked: c:\\Users\\colin\\OneDrive\\Desktop\\Jersey-Number-Recognition\\data\\SoccerNet\\jersey-2023\\processed_data\\test\\common_data\\soccer_ball.json\n",
      "2025-03-23 11:52:52 [WARNING] No soccer ball list found. Skipping exclusion of soccer balls.\n",
      "2025-03-23 11:52:52 [INFO] Path checked: c:\\Users\\colin\\OneDrive\\Desktop\\Jersey-Number-Recognition\\data\\SoccerNet\\jersey-2023\\processed_data\\test\\common_data\\soccer_ball.json\n",
      "2025-03-23 11:52:54 [INFO] \n",
      "2025-03-23 11:52:54 [INFO] Done removing outliers\n",
      "2025-03-23 11:52:54 [INFO] Running model chain on preprocessed image(s).\n",
      "2025-03-23 11:52:54 [INFO] Classifying legibility of image(s) using pre-trained model.\n",
      "2025-03-23 11:52:54 [WARNING] No soccer ball list found. Skipping exclusion of soccer balls.\n",
      "2025-03-23 11:52:54 [INFO] Path checked: c:\\Users\\colin\\OneDrive\\Desktop\\Jersey-Number-Recognition\\data\\SoccerNet\\jersey-2023\\processed_data\\test\\common_data\\soccer_ball.json\n",
      "2025-03-23 11:52:58 [INFO] \n",
      "2025-03-23 11:52:58 [INFO] Done removing outliers\n",
      "2025-03-23 11:52:58 [INFO] Running model chain on preprocessed image(s).\n",
      "2025-03-23 11:52:58 [INFO] Classifying legibility of image(s) using pre-trained model.\n",
      "2025-03-23 11:52:58 [WARNING] No soccer ball list found. Skipping exclusion of soccer balls.\n",
      "2025-03-23 11:52:58 [INFO] Path checked: c:\\Users\\colin\\OneDrive\\Desktop\\Jersey-Number-Recognition\\data\\SoccerNet\\jersey-2023\\processed_data\\test\\common_data\\soccer_ball.json\n",
      "2025-03-23 11:53:07 [INFO] \n",
      "2025-03-23 11:53:07 [INFO] Done removing outliers\n",
      "2025-03-23 11:53:07 [INFO] Running model chain on preprocessed image(s).\n",
      "2025-03-23 11:53:07 [INFO] Classifying legibility of image(s) using pre-trained model.\n",
      "2025-03-23 11:53:07 [WARNING] No soccer ball list found. Skipping exclusion of soccer balls.\n",
      "2025-03-23 11:53:07 [INFO] Path checked: c:\\Users\\colin\\OneDrive\\Desktop\\Jersey-Number-Recognition\\data\\SoccerNet\\jersey-2023\\processed_data\\test\\common_data\\soccer_ball.json\n",
      "2025-03-23 11:53:09 [INFO] \n",
      "2025-03-23 11:53:09 [INFO] Done removing outliers\n",
      "2025-03-23 11:53:09 [INFO] Running model chain on preprocessed image(s).\n",
      "2025-03-23 11:53:09 [INFO] Classifying legibility of image(s) using pre-trained model.\n",
      "2025-03-23 11:53:09 [WARNING] No soccer ball list found. Skipping exclusion of soccer balls.\n",
      "2025-03-23 11:53:09 [INFO] Path checked: c:\\Users\\colin\\OneDrive\\Desktop\\Jersey-Number-Recognition\\data\\SoccerNet\\jersey-2023\\processed_data\\test\\common_data\\soccer_ball.json\n",
      "2025-03-23 11:53:12 [INFO] Saved features for tracklet with shape (750, 2048) to c:\\Users\\colin\\OneDrive\\Desktop\\Jersey-Number-Recognition\\data\\SoccerNet\\jersey-2023\\processed_data\\test\\64\\features.npy\n",
      "2025-03-23 11:53:12 [INFO] Identifying and removing outliers by calling gaussian_outliers_streamlined.py on feature file\n",
      "2025-03-23 11:53:13 [INFO] Saving legible_tracklets to: c:\\Users\\colin\\OneDrive\\Desktop\\Jersey-Number-Recognition\\data\\SoccerNet\\jersey-2023\\processed_data\\test\\76\\legible_results.json\n",
      "2025-03-23 11:53:13 [INFO] Saved legible_tracklets to: c:\\Users\\colin\\OneDrive\\Desktop\\Jersey-Number-Recognition\\data\\SoccerNet\\jersey-2023\\processed_data\\test\\76\\legible_results.json\n",
      "2025-03-23 11:53:13 [INFO] Saving illegible_tracklets to: c:\\Users\\colin\\OneDrive\\Desktop\\Jersey-Number-Recognition\\data\\SoccerNet\\jersey-2023\\processed_data\\test\\76\\illegible_results.json\n",
      "2025-03-23 11:53:13 [INFO] Saved illegible_tracklets to: c:\\Users\\colin\\OneDrive\\Desktop\\Jersey-Number-Recognition\\data\\SoccerNet\\jersey-2023\\processed_data\\test\\76\\illegible_results.json\n",
      "2025-03-23 11:53:13 [INFO] Legibility classification complete.\n",
      "2025-03-23 11:53:13 [INFO] Determine soccer balls in image(s) using pre-trained model.\n",
      "2025-03-23 11:53:13 [INFO] Processed tracklet: 76\n",
      "2025-03-23 11:53:13 [INFO] Found 0 balls, Ball list: []\n",
      "2025-03-23 11:53:13 [INFO] Saving legible_tracklets to: c:\\Users\\colin\\OneDrive\\Desktop\\Jersey-Number-Recognition\\data\\SoccerNet\\jersey-2023\\processed_data\\test\\74\\legible_results.json\n",
      "2025-03-23 11:53:13 [INFO] Saved legible_tracklets to: c:\\Users\\colin\\OneDrive\\Desktop\\Jersey-Number-Recognition\\data\\SoccerNet\\jersey-2023\\processed_data\\test\\74\\legible_results.json\n",
      "2025-03-23 11:53:13 [INFO] Saving illegible_tracklets to: c:\\Users\\colin\\OneDrive\\Desktop\\Jersey-Number-Recognition\\data\\SoccerNet\\jersey-2023\\processed_data\\test\\74\\illegible_results.json\n",
      "2025-03-23 11:53:13 [INFO] Saved illegible_tracklets to: c:\\Users\\colin\\OneDrive\\Desktop\\Jersey-Number-Recognition\\data\\SoccerNet\\jersey-2023\\processed_data\\test\\74\\illegible_results.json\n",
      "2025-03-23 11:53:13 [INFO] Legibility classification complete.\n",
      "2025-03-23 11:53:13 [INFO] Determine soccer balls in image(s) using pre-trained model.\n",
      "2025-03-23 11:53:13 [INFO] Processed tracklet: 74\n",
      "2025-03-23 11:53:13 [INFO] Found 0 balls, Ball list: []\n"
     ]
    },
    {
     "name": "stderr",
     "output_type": "stream",
     "text": [
      "Lightning automatically upgraded your loaded checkpoint from v1.1.4 to v2.5.0.post0. To apply the upgrade to your files permanently, run `python -m pytorch_lightning.utilities.upgrade_checkpoint c:\\Users\\colin\\OneDrive\\Desktop\\Jersey-Number-Recognition\\data\\pre_trained_models\\reid\\dukemtmcreid_resnet50_256_128_epoch_120.ckpt`\n"
     ]
    },
    {
     "name": "stdout",
     "output_type": "stream",
     "text": [
      "2025-03-23 11:53:14 [INFO] Saving legible_tracklets to: c:\\Users\\colin\\OneDrive\\Desktop\\Jersey-Number-Recognition\\data\\SoccerNet\\jersey-2023\\processed_data\\test\\75\\legible_results.json\n",
      "2025-03-23 11:53:14 [INFO] Saved legible_tracklets to: c:\\Users\\colin\\OneDrive\\Desktop\\Jersey-Number-Recognition\\data\\SoccerNet\\jersey-2023\\processed_data\\test\\75\\legible_results.json\n",
      "2025-03-23 11:53:14 [INFO] Saving illegible_tracklets to: c:\\Users\\colin\\OneDrive\\Desktop\\Jersey-Number-Recognition\\data\\SoccerNet\\jersey-2023\\processed_data\\test\\75\\illegible_results.json\n",
      "2025-03-23 11:53:14 [INFO] Saved illegible_tracklets to: c:\\Users\\colin\\OneDrive\\Desktop\\Jersey-Number-Recognition\\data\\SoccerNet\\jersey-2023\\processed_data\\test\\75\\illegible_results.json\n",
      "2025-03-23 11:53:14 [INFO] Legibility classification complete.\n",
      "2025-03-23 11:53:14 [INFO] Determine soccer balls in image(s) using pre-trained model.\n",
      "2025-03-23 11:53:14 [INFO] Processed tracklet: 75\n",
      "2025-03-23 11:53:14 [INFO] Found 0 balls, Ball list: []\n",
      "2025-03-23 11:53:16 [INFO] Saved features for tracklet with shape (750, 2048) to c:\\Users\\colin\\OneDrive\\Desktop\\Jersey-Number-Recognition\\data\\SoccerNet\\jersey-2023\\processed_data\\test\\65\\features.npy\n",
      "2025-03-23 11:53:16 [INFO] Identifying and removing outliers by calling gaussian_outliers_streamlined.py on feature file\n"
     ]
    },
    {
     "name": "stderr",
     "output_type": "stream",
     "text": [
      "Lightning automatically upgraded your loaded checkpoint from v1.1.4 to v2.5.0.post0. To apply the upgrade to your files permanently, run `python -m pytorch_lightning.utilities.upgrade_checkpoint c:\\Users\\colin\\OneDrive\\Desktop\\Jersey-Number-Recognition\\data\\pre_trained_models\\reid\\dukemtmcreid_resnet50_256_128_epoch_120.ckpt`\n"
     ]
    },
    {
     "name": "stdout",
     "output_type": "stream",
     "text": [
      "2025-03-23 11:53:18 [INFO] Saving legible_tracklets to: c:\\Users\\colin\\OneDrive\\Desktop\\Jersey-Number-Recognition\\data\\SoccerNet\\jersey-2023\\processed_data\\test\\78\\legible_results.json\n",
      "2025-03-23 11:53:18 [INFO] Saved legible_tracklets to: c:\\Users\\colin\\OneDrive\\Desktop\\Jersey-Number-Recognition\\data\\SoccerNet\\jersey-2023\\processed_data\\test\\78\\legible_results.json\n",
      "2025-03-23 11:53:18 [INFO] Saving illegible_tracklets to: c:\\Users\\colin\\OneDrive\\Desktop\\Jersey-Number-Recognition\\data\\SoccerNet\\jersey-2023\\processed_data\\test\\78\\illegible_results.json\n",
      "2025-03-23 11:53:18 [INFO] Saved illegible_tracklets to: c:\\Users\\colin\\OneDrive\\Desktop\\Jersey-Number-Recognition\\data\\SoccerNet\\jersey-2023\\processed_data\\test\\78\\illegible_results.json\n",
      "2025-03-23 11:53:18 [INFO] Legibility classification complete.\n",
      "2025-03-23 11:53:18 [INFO] Determine soccer balls in image(s) using pre-trained model.\n",
      "2025-03-23 11:53:18 [INFO] Processed tracklet: 78\n",
      "2025-03-23 11:53:18 [INFO] Found 0 balls, Ball list: []\n",
      "2025-03-23 11:53:19 [INFO] Saved features for tracklet with shape (58, 2048) to c:\\Users\\colin\\OneDrive\\Desktop\\Jersey-Number-Recognition\\data\\SoccerNet\\jersey-2023\\processed_data\\test\\79\\features.npy\n",
      "2025-03-23 11:53:19 [INFO] Identifying and removing outliers by calling gaussian_outliers_streamlined.py on feature file\n"
     ]
    },
    {
     "name": "stderr",
     "output_type": "stream",
     "text": [
      "Lightning automatically upgraded your loaded checkpoint from v1.1.4 to v2.5.0.post0. To apply the upgrade to your files permanently, run `python -m pytorch_lightning.utilities.upgrade_checkpoint c:\\Users\\colin\\OneDrive\\Desktop\\Jersey-Number-Recognition\\data\\pre_trained_models\\reid\\dukemtmcreid_resnet50_256_128_epoch_120.ckpt`\n"
     ]
    },
    {
     "name": "stdout",
     "output_type": "stream",
     "text": [
      "2025-03-23 11:53:29 [INFO] Saving legible_tracklets to: c:\\Users\\colin\\OneDrive\\Desktop\\Jersey-Number-Recognition\\data\\SoccerNet\\jersey-2023\\processed_data\\test\\72\\legible_results.json\n",
      "2025-03-23 11:53:29 [INFO] Saved legible_tracklets to: c:\\Users\\colin\\OneDrive\\Desktop\\Jersey-Number-Recognition\\data\\SoccerNet\\jersey-2023\\processed_data\\test\\72\\legible_results.json\n",
      "2025-03-23 11:53:29 [INFO] Saving illegible_tracklets to: c:\\Users\\colin\\OneDrive\\Desktop\\Jersey-Number-Recognition\\data\\SoccerNet\\jersey-2023\\processed_data\\test\\72\\illegible_results.json\n",
      "2025-03-23 11:53:29 [INFO] Saved illegible_tracklets to: c:\\Users\\colin\\OneDrive\\Desktop\\Jersey-Number-Recognition\\data\\SoccerNet\\jersey-2023\\processed_data\\test\\72\\illegible_results.json\n",
      "2025-03-23 11:53:29 [INFO] Legibility classification complete.\n",
      "2025-03-23 11:53:29 [INFO] Determine soccer balls in image(s) using pre-trained model.\n",
      "2025-03-23 11:53:29 [INFO] Processed tracklet: 72\n",
      "2025-03-23 11:53:29 [INFO] Found 0 balls, Ball list: []\n",
      "2025-03-23 11:53:30 [INFO] Saving legible_tracklets to: c:\\Users\\colin\\OneDrive\\Desktop\\Jersey-Number-Recognition\\data\\SoccerNet\\jersey-2023\\processed_data\\test\\80\\legible_results.json\n",
      "2025-03-23 11:53:30 [INFO] Saved legible_tracklets to: c:\\Users\\colin\\OneDrive\\Desktop\\Jersey-Number-Recognition\\data\\SoccerNet\\jersey-2023\\processed_data\\test\\80\\legible_results.json\n",
      "2025-03-23 11:53:30 [INFO] Saving illegible_tracklets to: c:\\Users\\colin\\OneDrive\\Desktop\\Jersey-Number-Recognition\\data\\SoccerNet\\jersey-2023\\processed_data\\test\\80\\illegible_results.json\n",
      "2025-03-23 11:53:30 [INFO] Saved illegible_tracklets to: c:\\Users\\colin\\OneDrive\\Desktop\\Jersey-Number-Recognition\\data\\SoccerNet\\jersey-2023\\processed_data\\test\\80\\illegible_results.json\n",
      "2025-03-23 11:53:30 [INFO] Legibility classification complete.\n",
      "2025-03-23 11:53:30 [INFO] Determine soccer balls in image(s) using pre-trained model.\n",
      "2025-03-23 11:53:30 [INFO] Processed tracklet: 80\n",
      "2025-03-23 11:53:30 [INFO] Found 0 balls, Ball list: []\n",
      "2025-03-23 11:53:31 [INFO] Saved features for tracklet with shape (345, 2048) to c:\\Users\\colin\\OneDrive\\Desktop\\Jersey-Number-Recognition\\data\\SoccerNet\\jersey-2023\\processed_data\\test\\67\\features.npy\n",
      "2025-03-23 11:53:31 [INFO] Identifying and removing outliers by calling gaussian_outliers_streamlined.py on feature file\n",
      "2025-03-23 11:53:31 [INFO] \n",
      "2025-03-23 11:53:31 [INFO] Done removing outliers\n",
      "2025-03-23 11:53:31 [INFO] Running model chain on preprocessed image(s).\n",
      "2025-03-23 11:53:31 [INFO] Classifying legibility of image(s) using pre-trained model.\n",
      "2025-03-23 11:53:31 [WARNING] No soccer ball list found. Skipping exclusion of soccer balls.\n",
      "2025-03-23 11:53:31 [INFO] Path checked: c:\\Users\\colin\\OneDrive\\Desktop\\Jersey-Number-Recognition\\data\\SoccerNet\\jersey-2023\\processed_data\\test\\common_data\\soccer_ball.json\n"
     ]
    },
    {
     "name": "stderr",
     "output_type": "stream",
     "text": [
      "Lightning automatically upgraded your loaded checkpoint from v1.1.4 to v2.5.0.post0. To apply the upgrade to your files permanently, run `python -m pytorch_lightning.utilities.upgrade_checkpoint c:\\Users\\colin\\OneDrive\\Desktop\\Jersey-Number-Recognition\\data\\pre_trained_models\\reid\\dukemtmcreid_resnet50_256_128_epoch_120.ckpt`\n"
     ]
    },
    {
     "name": "stdout",
     "output_type": "stream",
     "text": [
      "2025-03-23 11:53:32 [INFO] Saved features for tracklet with shape (696, 2048) to c:\\Users\\colin\\OneDrive\\Desktop\\Jersey-Number-Recognition\\data\\SoccerNet\\jersey-2023\\processed_data\\test\\71\\features.npy\n",
      "2025-03-23 11:53:32 [INFO] Identifying and removing outliers by calling gaussian_outliers_streamlined.py on feature file\n"
     ]
    },
    {
     "name": "stderr",
     "output_type": "stream",
     "text": [
      "Lightning automatically upgraded your loaded checkpoint from v1.1.4 to v2.5.0.post0. To apply the upgrade to your files permanently, run `python -m pytorch_lightning.utilities.upgrade_checkpoint c:\\Users\\colin\\OneDrive\\Desktop\\Jersey-Number-Recognition\\data\\pre_trained_models\\reid\\dukemtmcreid_resnet50_256_128_epoch_120.ckpt`\n"
     ]
    },
    {
     "name": "stdout",
     "output_type": "stream",
     "text": [
      "2025-03-23 11:53:34 [INFO] \n",
      "2025-03-23 11:53:34 [INFO] Done removing outliers\n",
      "2025-03-23 11:53:34 [INFO] Running model chain on preprocessed image(s).\n",
      "2025-03-23 11:53:34 [INFO] Classifying legibility of image(s) using pre-trained model.\n",
      "2025-03-23 11:53:34 [WARNING] No soccer ball list found. Skipping exclusion of soccer balls.\n",
      "2025-03-23 11:53:34 [INFO] Path checked: c:\\Users\\colin\\OneDrive\\Desktop\\Jersey-Number-Recognition\\data\\SoccerNet\\jersey-2023\\processed_data\\test\\common_data\\soccer_ball.json\n",
      "2025-03-23 11:53:35 [INFO] \n",
      "2025-03-23 11:53:35 [INFO] Done removing outliers\n",
      "2025-03-23 11:53:35 [INFO] Running model chain on preprocessed image(s).\n",
      "2025-03-23 11:53:35 [INFO] Classifying legibility of image(s) using pre-trained model.\n",
      "2025-03-23 11:53:35 [WARNING] No soccer ball list found. Skipping exclusion of soccer balls.\n",
      "2025-03-23 11:53:35 [INFO] Path checked: c:\\Users\\colin\\OneDrive\\Desktop\\Jersey-Number-Recognition\\data\\SoccerNet\\jersey-2023\\processed_data\\test\\common_data\\soccer_ball.json\n",
      "2025-03-23 11:53:42 [INFO] Saved features for tracklet with shape (433, 2048) to c:\\Users\\colin\\OneDrive\\Desktop\\Jersey-Number-Recognition\\data\\SoccerNet\\jersey-2023\\processed_data\\test\\77\\features.npy\n",
      "2025-03-23 11:53:42 [INFO] Identifying and removing outliers by calling gaussian_outliers_streamlined.py on feature file\n"
     ]
    },
    {
     "name": "stderr",
     "output_type": "stream",
     "text": [
      "Lightning automatically upgraded your loaded checkpoint from v1.1.4 to v2.5.0.post0. To apply the upgrade to your files permanently, run `python -m pytorch_lightning.utilities.upgrade_checkpoint c:\\Users\\colin\\OneDrive\\Desktop\\Jersey-Number-Recognition\\data\\pre_trained_models\\reid\\dukemtmcreid_resnet50_256_128_epoch_120.ckpt`\n"
     ]
    },
    {
     "name": "stdout",
     "output_type": "stream",
     "text": [
      "2025-03-23 11:53:44 [INFO] Saved features for tracklet with shape (25, 2048) to c:\\Users\\colin\\OneDrive\\Desktop\\Jersey-Number-Recognition\\data\\SoccerNet\\jersey-2023\\processed_data\\test\\82\\features.npy\n",
      "2025-03-23 11:53:44 [INFO] Identifying and removing outliers by calling gaussian_outliers_streamlined.py on feature file\n"
     ]
    },
    {
     "name": "stderr",
     "output_type": "stream",
     "text": [
      "Lightning automatically upgraded your loaded checkpoint from v1.1.4 to v2.5.0.post0. To apply the upgrade to your files permanently, run `python -m pytorch_lightning.utilities.upgrade_checkpoint c:\\Users\\colin\\OneDrive\\Desktop\\Jersey-Number-Recognition\\data\\pre_trained_models\\reid\\dukemtmcreid_resnet50_256_128_epoch_120.ckpt`\n"
     ]
    },
    {
     "name": "stdout",
     "output_type": "stream",
     "text": [
      "2025-03-23 11:53:47 [INFO] Saved features for tracklet with shape (641, 2048) to c:\\Users\\colin\\OneDrive\\Desktop\\Jersey-Number-Recognition\\data\\SoccerNet\\jersey-2023\\processed_data\\test\\66\\features.npy\n",
      "2025-03-23 11:53:47 [INFO] Identifying and removing outliers by calling gaussian_outliers_streamlined.py on feature file\n",
      "2025-03-23 11:53:47 [INFO] \n",
      "2025-03-23 11:53:47 [INFO] Done removing outliers\n",
      "2025-03-23 11:53:47 [INFO] Running model chain on preprocessed image(s).\n",
      "2025-03-23 11:53:47 [INFO] Classifying legibility of image(s) using pre-trained model.\n",
      "2025-03-23 11:53:47 [WARNING] No soccer ball list found. Skipping exclusion of soccer balls.\n",
      "2025-03-23 11:53:47 [INFO] Path checked: c:\\Users\\colin\\OneDrive\\Desktop\\Jersey-Number-Recognition\\data\\SoccerNet\\jersey-2023\\processed_data\\test\\common_data\\soccer_ball.json\n"
     ]
    },
    {
     "name": "stderr",
     "output_type": "stream",
     "text": [
      "Lightning automatically upgraded your loaded checkpoint from v1.1.4 to v2.5.0.post0. To apply the upgrade to your files permanently, run `python -m pytorch_lightning.utilities.upgrade_checkpoint c:\\Users\\colin\\OneDrive\\Desktop\\Jersey-Number-Recognition\\data\\pre_trained_models\\reid\\dukemtmcreid_resnet50_256_128_epoch_120.ckpt`\n"
     ]
    },
    {
     "name": "stdout",
     "output_type": "stream",
     "text": [
      "2025-03-23 11:53:48 [INFO] Saving legible_tracklets to: c:\\Users\\colin\\OneDrive\\Desktop\\Jersey-Number-Recognition\\data\\SoccerNet\\jersey-2023\\processed_data\\test\\79\\legible_results.json\n",
      "2025-03-23 11:53:48 [INFO] Saved legible_tracklets to: c:\\Users\\colin\\OneDrive\\Desktop\\Jersey-Number-Recognition\\data\\SoccerNet\\jersey-2023\\processed_data\\test\\79\\legible_results.json\n",
      "2025-03-23 11:53:48 [INFO] Saving illegible_tracklets to: c:\\Users\\colin\\OneDrive\\Desktop\\Jersey-Number-Recognition\\data\\SoccerNet\\jersey-2023\\processed_data\\test\\79\\illegible_results.json\n",
      "2025-03-23 11:53:48 [INFO] Saved illegible_tracklets to: c:\\Users\\colin\\OneDrive\\Desktop\\Jersey-Number-Recognition\\data\\SoccerNet\\jersey-2023\\processed_data\\test\\79\\illegible_results.json\n",
      "2025-03-23 11:53:48 [INFO] Legibility classification complete.\n",
      "2025-03-23 11:53:48 [INFO] Determine soccer balls in image(s) using pre-trained model.\n",
      "2025-03-23 11:53:48 [INFO] Processed tracklet: 79\n",
      "2025-03-23 11:53:48 [INFO] Found 1 balls, Ball list: ['88']\n",
      "2025-03-23 11:53:49 [INFO] \n",
      "2025-03-23 11:53:49 [INFO] Done removing outliers\n",
      "2025-03-23 11:53:49 [INFO] Running model chain on preprocessed image(s).\n",
      "2025-03-23 11:53:49 [INFO] Classifying legibility of image(s) using pre-trained model.\n",
      "2025-03-23 11:53:49 [WARNING] No soccer ball list found. Skipping exclusion of soccer balls.\n",
      "2025-03-23 11:53:49 [INFO] Path checked: c:\\Users\\colin\\OneDrive\\Desktop\\Jersey-Number-Recognition\\data\\SoccerNet\\jersey-2023\\processed_data\\test\\common_data\\soccer_ball.json\n",
      "2025-03-23 11:53:50 [INFO] Saved features for tracklet with shape (36, 2048) to c:\\Users\\colin\\OneDrive\\Desktop\\Jersey-Number-Recognition\\data\\SoccerNet\\jersey-2023\\processed_data\\test\\81\\features.npy\n",
      "2025-03-23 11:53:50 [INFO] Identifying and removing outliers by calling gaussian_outliers_streamlined.py on feature file\n"
     ]
    },
    {
     "name": "stderr",
     "output_type": "stream",
     "text": [
      "Lightning automatically upgraded your loaded checkpoint from v1.1.4 to v2.5.0.post0. To apply the upgrade to your files permanently, run `python -m pytorch_lightning.utilities.upgrade_checkpoint c:\\Users\\colin\\OneDrive\\Desktop\\Jersey-Number-Recognition\\data\\pre_trained_models\\reid\\dukemtmcreid_resnet50_256_128_epoch_120.ckpt`\n"
     ]
    }
   ],
   "source": [
    "pipeline.run_soccernet(\n",
    "  run_soccer_ball_filter=True,\n",
    "  generate_features=True,\n",
    "  run_filter=True,\n",
    "  run_legible=True,\n",
    "  run_legible_eval=True,\n",
    "  run_pose=False,\n",
    "  run_crops=False,\n",
    "  run_str=False,\n",
    "  run_combine=False,\n",
    "  run_eval=False)"
   ]
  }
 ],
 "metadata": {
  "kernelspec": {
   "display_name": "UBC",
   "language": "python",
   "name": "python3"
  },
  "language_info": {
   "codemirror_mode": {
    "name": "ipython",
    "version": 3
   },
   "file_extension": ".py",
   "mimetype": "text/x-python",
   "name": "python",
   "nbconvert_exporter": "python",
   "pygments_lexer": "ipython3",
   "version": "3.13.1"
  }
 },
 "nbformat": 4,
 "nbformat_minor": 2
}
