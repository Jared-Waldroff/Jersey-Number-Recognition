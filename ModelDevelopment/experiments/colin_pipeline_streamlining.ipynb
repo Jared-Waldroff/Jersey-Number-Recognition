{
 "cells": [
  {
   "cell_type": "markdown",
   "metadata": {},
   "source": [
    "### Quick Run Block"
   ]
  },
  {
   "cell_type": "code",
   "execution_count": 1,
   "metadata": {},
   "outputs": [],
   "source": [
    "# import torch\n",
    "\n",
    "# # Define your checkpoint file path\n",
    "# checkpoint_path = r\"c:\\Users\\colin\\OneDrive\\Desktop\\Jersey-Number-Recognition\\data\\pre_trained_models\\reid\\dukemtmcreid_resnet50_256_128_epoch_120.ckpt\"\n",
    "# new_checkpoint_path = checkpoint_path.replace(\".ckpt\", \"_updated.ckpt\")  # Save new version\n",
    "\n",
    "# # Load the checkpoint with weights_only=False\n",
    "# checkpoint = torch.load(checkpoint_path, weights_only=False)  # Ensures all data is loaded\n",
    "\n",
    "# # Save the checkpoint again in an updated format\n",
    "# torch.save(checkpoint, new_checkpoint_path)\n",
    "\n",
    "# print(f\"Checkpoint upgraded and saved to: {new_checkpoint_path}\")"
   ]
  },
  {
   "cell_type": "markdown",
   "metadata": {},
   "source": [
    "## Code"
   ]
  },
  {
   "cell_type": "code",
   "execution_count": 2,
   "metadata": {},
   "outputs": [
    {
     "name": "stdout",
     "output_type": "stream",
     "text": [
      "c:\\Users\\colin\\OneDrive\\Desktop\\Jersey-Number-Recognition\n",
      "Current working directory:  c:\\Users\\colin\\OneDrive\\Desktop\\Jersey-Number-Recognition\\ModelDevelopment\\experiments\n"
     ]
    }
   ],
   "source": [
    "import sys\n",
    "from pathlib import Path\n",
    "import os\n",
    "\n",
    "sys.path.append(str(Path.cwd().parent.parent))\n",
    "print(str(Path.cwd().parent.parent))\n",
    "print(\"Current working directory: \", os.getcwd())\n",
    "\n",
    "from ModelDevelopment.CentralPipeline import CentralPipeline\n",
    "from ModelDevelopment.ImageBatchPipeline import ImageBatchPipeline\n",
    "from DataProcessing.DataPreProcessing import DataPaths"
   ]
  },
  {
   "cell_type": "markdown",
   "metadata": {},
   "source": [
    "## Multithreaded Studies Research Findings\n",
    "- ThreadPoolExecutor works best for CentralPipeline pre-processing step (i.e. everything before run_pose)\n",
    "- Time for one batch of 32 tracklets = 5 minutes, implying 9.3 seconds per tracklet, so ETA = (9.3*1210)/3600 = 3 hours pre-processing step execution\n",
    "- GPU begins to crash after some time even with a gate bottleneck setting of 1 (only offload 1 tracklet to the GPU at a time)\n",
    "- Solution to GPU crashing is to just let the process run once, then run it again with use_cache=True to catch up failed tracklets (will be fast as few fail)"
   ]
  },
  {
   "cell_type": "code",
   "execution_count": 3,
   "metadata": {},
   "outputs": [
    {
     "name": "stdout",
     "output_type": "stream",
     "text": [
      "2025-03-23 11:43:50 [INFO] DataPreProcessing initialized. Universe of available data paths:\n",
      "2025-03-23 11:43:50 [INFO] ROOT_DATA_DIR: c:\\Users\\colin\\OneDrive\\Desktop\\Jersey-Number-Recognition\\data\\SoccerNet\\jersey-2023\\extracted\n",
      "2025-03-23 11:43:50 [INFO] TEST_DATA_GT: c:\\Users\\colin\\OneDrive\\Desktop\\Jersey-Number-Recognition\\data\\SoccerNet\\jersey-2023\\extracted\\test\\test_gt.json\n",
      "2025-03-23 11:43:50 [INFO] TRAIN_DATA_GT: c:\\Users\\colin\\OneDrive\\Desktop\\Jersey-Number-Recognition\\data\\SoccerNet\\jersey-2023\\extracted\\train\\train_gt.json\n",
      "2025-03-23 11:43:50 [INFO] TEST_DATA_DIR: c:\\Users\\colin\\OneDrive\\Desktop\\Jersey-Number-Recognition\\data\\SoccerNet\\jersey-2023\\extracted\\test\\images\n",
      "2025-03-23 11:43:50 [INFO] TRAIN_DATA_DIR: c:\\Users\\colin\\OneDrive\\Desktop\\Jersey-Number-Recognition\\data\\SoccerNet\\jersey-2023\\extracted\\train\\images\n",
      "2025-03-23 11:43:50 [INFO] CHALLENGE_DATA_DIR: c:\\Users\\colin\\OneDrive\\Desktop\\Jersey-Number-Recognition\\data\\SoccerNet\\jersey-2023\\extracted\\challenge\\images\n",
      "2025-03-23 11:43:50 [INFO] PRE_TRAINED_MODELS_DIR: c:\\Users\\colin\\OneDrive\\Desktop\\Jersey-Number-Recognition\\data\\pre_trained_models\n",
      "2025-03-23 11:43:50 [INFO] REID_PRE_TRAINED: c:\\Users\\colin\\OneDrive\\Desktop\\Jersey-Number-Recognition\\data\\pre_trained_models\\reid\n",
      "2025-03-23 11:43:50 [INFO] STR_PRE_TRAINED: c:\\Users\\colin\\OneDrive\\Desktop\\Jersey-Number-Recognition\\data\\pre_trained_models\\str\n",
      "2025-03-23 11:43:50 [INFO] STR_MODEL: c:\\Users\\colin\\OneDrive\\Desktop\\Jersey-Number-Recognition\\data\\pre_trained_models\\str\\parseq_epoch=24-step=2575-val_accuracy=95.6044-val_NED=96.3255.ckpt\n",
      "2025-03-23 11:43:50 [INFO] REID_MODEL_1: c:\\Users\\colin\\OneDrive\\Desktop\\Jersey-Number-Recognition\\data\\pre_trained_models\\reid\\dukemtmcreid_resnet50_256_128_epoch_120.ckpt\n",
      "2025-03-23 11:43:50 [INFO] REID_MODEL_2: c:\\Users\\colin\\OneDrive\\Desktop\\Jersey-Number-Recognition\\data\\pre_trained_models\\reid\\market1501_resnet50_256_128_epoch_120.ckpt\n",
      "2025-03-23 11:43:50 [INFO] REID_CONFIG_YAML: c:\\Users\\colin\\OneDrive\\Desktop\\Jersey-Number-Recognition\\data\\pre_trained_models\\reid\\configs\\256_resnet50.yml\n",
      "2025-03-23 11:43:50 [INFO] RESNET_MODEL: c:\\Users\\colin\\OneDrive\\Desktop\\Jersey-Number-Recognition\\data\\pre_trained_models\\resnet\\legibility_resnet34_soccer_20240215.pth\n",
      "2025-03-23 11:43:50 [INFO] PROCESSED_DATA_OUTPUT_DIR: c:\\Users\\colin\\OneDrive\\Desktop\\Jersey-Number-Recognition\\data\\SoccerNet\\jersey-2023\\processed_data\n",
      "2025-03-23 11:43:50 [INFO] PROCESSED_DATA_OUTPUT_DIR_TRAIN: c:\\Users\\colin\\OneDrive\\Desktop\\Jersey-Number-Recognition\\data\\SoccerNet\\jersey-2023\\processed_data\\train\n",
      "2025-03-23 11:43:50 [INFO] PROCESSED_DATA_OUTPUT_DIR_TEST: c:\\Users\\colin\\OneDrive\\Desktop\\Jersey-Number-Recognition\\data\\SoccerNet\\jersey-2023\\processed_data\\test\n",
      "2025-03-23 11:43:50 [INFO] PROCESSED_DATA_OUTPUT_DIR_CHALLENGE: c:\\Users\\colin\\OneDrive\\Desktop\\Jersey-Number-Recognition\\data\\SoccerNet\\jersey-2023\\processed_data\\challenge\n",
      "2025-03-23 11:43:50 [INFO] COMMON_PROCESSED_OUTPUT_DATA_TRAIN: c:\\Users\\colin\\OneDrive\\Desktop\\Jersey-Number-Recognition\\data\\SoccerNet\\jersey-2023\\processed_data\\train\\common_data\n",
      "2025-03-23 11:43:50 [INFO] COMMON_PROCESSED_OUTPUT_DATA_TEST: c:\\Users\\colin\\OneDrive\\Desktop\\Jersey-Number-Recognition\\data\\SoccerNet\\jersey-2023\\processed_data\\test\\common_data\n",
      "2025-03-23 11:43:50 [INFO] COMMON_PROCESSED_OUTPUT_DATA_CHALLENGE: c:\\Users\\colin\\OneDrive\\Desktop\\Jersey-Number-Recognition\\data\\SoccerNet\\jersey-2023\\processed_data\\challenge\\common_data\n",
      "2025-03-23 11:43:50 [INFO] STREAMLINED_PIPELINE: c:\\Users\\colin\\OneDrive\\Desktop\\Jersey-Number-Recognition\\StreamlinedPipelineScripts\n",
      "2025-03-23 11:43:50 [INFO] Created directory: c:\\Users\\colin\\OneDrive\\Desktop\\Jersey-Number-Recognition\\data\\SoccerNet\\jersey-2023\\processed_data\\test\n",
      "2025-03-23 11:43:50 [INFO] Created directory: c:\\Users\\colin\\OneDrive\\Desktop\\Jersey-Number-Recognition\\data\\SoccerNet\\jersey-2023\\processed_data\\test\\common_data\n",
      "2025-03-23 11:43:50 [INFO] ['0', '1', '2', '3', '4', '5', '6', '7', '8', '9']\n",
      "2025-03-23 11:43:50 [INFO] Min tracklet: 0\n",
      "2025-03-23 11:43:50 [INFO] Max tracklet: 1210\n",
      "2025-03-23 11:43:50 [INFO] Using device: cuda\n",
      "2025-03-23 11:43:50 [INFO] ['0', '1', '2', '3', '4', '5', '6', '7', '8', '9']\n",
      "2025-03-23 11:43:50 [INFO] Min tracklet: 0\n",
      "2025-03-23 11:43:50 [INFO] Max tracklet: 1210\n"
     ]
    }
   ],
   "source": [
    "# TODO: Add tracklets_override to pass a list of tracklets to process; tracklets_override=[\"8\", \"9\", \"10\"]\n",
    "# NOTE: It is recommended you delete the entire processed_data/{challenge/test/train} before running this to 100% avoid issues with old data.\n",
    "# Furthermore, you should always restart your kernel before every new run because sometimes there are problems with paths\n",
    "pipeline = CentralPipeline(\n",
    "  num_tracklets=1210,\n",
    "  #num_images_per_tracklet=1,\n",
    "  input_data_path=DataPaths.TEST_DATA_DIR.value,\n",
    "  output_processed_data_path=DataPaths.PROCESSED_DATA_OUTPUT_DIR_TEST.value,\n",
    "  common_processed_data_dir=DataPaths.COMMON_PROCESSED_OUTPUT_DATA_TEST.value,\n",
    "  gt_data_path=DataPaths.TEST_DATA_GT.value,\n",
    "  single_image_pipeline=False,\n",
    "  display_transformed_image_sample=False, # NOTE: DO NOT USE. Code is parallelized so we cannot show images anymore. Code breaks, but first one will show if True.\n",
    "  num_image_samples=1,\n",
    "  use_cache=True, # Set to false if you encounter data inconsistencies.\n",
    "  suppress_logging=False,\n",
    "  num_workers=6, # CRITICAL optimisation param. Anything more than 6 and your PC explodes.\n",
    "  tracklet_batch_size=32 # CRITICAL optimisation param. 32 is a nice spot.\n",
    "  )"
   ]
  },
  {
   "cell_type": "code",
   "execution_count": null,
   "metadata": {},
   "outputs": [
    {
     "name": "stdout",
     "output_type": "stream",
     "text": [
      "2025-03-23 11:43:50 [INFO] Running the SoccerNet pipeline.\n"
     ]
    },
    {
     "data": {
      "application/vnd.jupyter.widget-view+json": {
       "model_id": "dde4438d5f564434b725243fdb43ead6",
       "version_major": 2,
       "version_minor": 0
      },
      "text/plain": [
       "  0%|          | 0/38 [00:00<?, ?it/s]"
      ]
     },
     "metadata": {},
     "output_type": "display_data"
    },
    {
     "name": "stdout",
     "output_type": "stream",
     "text": [
      "2025-03-23 11:43:50 [INFO] Using double parallelization: multiprocessing + CUDA batch processing.\n"
     ]
    },
    {
     "data": {
      "application/vnd.jupyter.widget-view+json": {
       "model_id": "4f63840e0dc24687b7f5ac26dd0371ac",
       "version_major": 2,
       "version_minor": 0
      },
      "text/plain": [
       "Processing tracklets (CUDA + CPU):   0%|          | 0/32 [00:00<?, ?it/s]"
      ]
     },
     "metadata": {},
     "output_type": "display_data"
    },
    {
     "name": "stdout",
     "output_type": "stream",
     "text": [
      "2025-03-23 11:44:05 [INFO] DEBUG: Number of images per tracklet in batch: 465\n",
      "2025-03-23 11:44:05 [INFO] Creating placeholder data files for Soccer Ball Filter.\n",
      "2025-03-23 11:44:05 [INFO] Creating placeholder data files for Legibility Classifier.\n",
      "2025-03-23 11:44:05 [INFO] DEBUG: Just before getting args for workers\n",
      "2025-03-23 11:44:05 [INFO] Determine soccer balls in image(s) using pre-trained model.\n",
      "2025-03-23 11:44:05 [INFO] Determine soccer balls in image(s) using pre-trained model.\n",
      "2025-03-23 11:44:05 [INFO] Determine soccer balls in image(s) using pre-trained model.\n",
      "2025-03-23 11:44:05 [INFO] Determine soccer balls in image(s) using pre-trained model.\n",
      "2025-03-23 11:44:06 [INFO] Determine soccer balls in image(s) using pre-trained model.\n",
      "2025-03-23 11:44:06 [INFO] Determine soccer balls in image(s) using pre-trained model.\n",
      "2025-03-23 11:44:06 [INFO] Determine soccer balls in image(s) using pre-trained model.\n",
      "2025-03-23 11:44:06 [INFO] Determine soccer balls in image(s) using pre-trained model.\n",
      "2025-03-23 11:44:06 [INFO] Determine soccer balls in image(s) using pre-trained model.\n",
      "2025-03-23 11:44:06 [INFO] Determine soccer balls in image(s) using pre-trained model.\n",
      "2025-03-23 11:44:06 [INFO] Determine soccer balls in image(s) using pre-trained model.\n",
      "2025-03-23 11:44:06 [INFO] Determine soccer balls in image(s) using pre-trained model.\n",
      "2025-03-23 11:44:06 [INFO] Determine soccer balls in image(s) using pre-trained model.\n",
      "2025-03-23 11:44:06 [INFO] Determine soccer balls in image(s) using pre-trained model.\n",
      "2025-03-23 11:44:06 [INFO] Determine soccer balls in image(s) using pre-trained model.\n",
      "2025-03-23 11:44:06 [INFO] Determine soccer balls in image(s) using pre-trained model.\n",
      "2025-03-23 11:44:06 [INFO] Determine soccer balls in image(s) using pre-trained model.\n",
      "2025-03-23 11:44:06 [INFO] Determine soccer balls in image(s) using pre-trained model.\n"
     ]
    },
    {
     "data": {
      "application/vnd.jupyter.widget-view+json": {
       "model_id": "0e4e0c5ceb754654b17d905f3a7a240e",
       "version_major": 2,
       "version_minor": 0
      },
      "text/plain": [
       "Processing Batch Tracklets (0-32):   0%|          | 0/32 [00:00<?, ?it/s]"
      ]
     },
     "metadata": {},
     "output_type": "display_data"
    },
    {
     "name": "stdout",
     "output_type": "stream",
     "text": [
      "2025-03-23 11:44:06 [INFO] Found 0 balls, Ball list: []\n",
      "2025-03-23 11:44:06 [INFO] Found 0 balls, Ball list: []\n",
      "2025-03-23 11:44:06 [INFO] Found 0 balls, Ball list: []\n",
      "2025-03-23 11:44:06 [INFO] Found 0 balls, Ball list: []\n",
      "2025-03-23 11:44:06 [INFO] Found 0 balls, Ball list: []\n",
      "2025-03-23 11:44:06 [INFO] Found 0 balls, Ball list: []\n",
      "2025-03-23 11:44:06 [INFO] Found 0 balls, Ball list: []\n",
      "2025-03-23 11:44:06 [INFO] Found 0 balls, Ball list: []\n",
      "2025-03-23 11:44:06 [INFO] Found 0 balls, Ball list: []\n",
      "2025-03-23 11:44:06 [INFO] Found 0 balls, Ball list: []\n",
      "2025-03-23 11:44:06 [INFO] Found 0 balls, Ball list: []\n",
      "2025-03-23 11:44:06 [INFO] Found 0 balls, Ball list: []\n",
      "2025-03-23 11:44:06 [INFO] Found 0 balls, Ball list: []\n",
      "2025-03-23 11:44:06 [INFO] Found 0 balls, Ball list: []\n",
      "2025-03-23 11:44:06 [INFO] Found 0 balls, Ball list: []\n",
      "2025-03-23 11:44:06 [INFO] Found 0 balls, Ball list: []\n",
      "2025-03-23 11:44:06 [INFO] Found 0 balls, Ball list: []\n",
      "2025-03-23 11:44:06 [INFO] Found 0 balls, Ball list: []\n"
     ]
    },
    {
     "name": "stderr",
     "output_type": "stream",
     "text": [
      "c:\\Users\\colin\\miniconda3\\envs\\UBC\\Lib\\site-packages\\pytorch_lightning\\utilities\\migration\\migration.py:208: You have multiple `ModelCheckpoint` callback states in this checkpoint, but we found state keys that would end up colliding with each other after an upgrade, which means we can't differentiate which of your checkpoint callbacks needs which states. At least one of your `ModelCheckpoint` callbacks will not be able to reload the state.\n",
      "Lightning automatically upgraded your loaded checkpoint from v1.1.4 to v2.5.0.post0. To apply the upgrade to your files permanently, run `python -m pytorch_lightning.utilities.upgrade_checkpoint c:\\Users\\colin\\OneDrive\\Desktop\\Jersey-Number-Recognition\\data\\pre_trained_models\\reid\\dukemtmcreid_resnet50_256_128_epoch_120.ckpt`\n"
     ]
    },
    {
     "name": "stdout",
     "output_type": "stream",
     "text": [
      "2025-03-23 11:44:08 [INFO] Saved features for tracklet with shape (311, 2048) to c:\\Users\\colin\\OneDrive\\Desktop\\Jersey-Number-Recognition\\data\\SoccerNet\\jersey-2023\\processed_data\\test\\4\\features.npy\n",
      "2025-03-23 11:44:08 [INFO] Identifying and removing outliers by calling gaussian_outliers_streamlined.py on feature file\n"
     ]
    },
    {
     "name": "stderr",
     "output_type": "stream",
     "text": [
      "Lightning automatically upgraded your loaded checkpoint from v1.1.4 to v2.5.0.post0. To apply the upgrade to your files permanently, run `python -m pytorch_lightning.utilities.upgrade_checkpoint c:\\Users\\colin\\OneDrive\\Desktop\\Jersey-Number-Recognition\\data\\pre_trained_models\\reid\\dukemtmcreid_resnet50_256_128_epoch_120.ckpt`\n"
     ]
    },
    {
     "name": "stdout",
     "output_type": "stream",
     "text": [
      "2025-03-23 11:44:10 [INFO] Saved features for tracklet with shape (354, 2048) to c:\\Users\\colin\\OneDrive\\Desktop\\Jersey-Number-Recognition\\data\\SoccerNet\\jersey-2023\\processed_data\\test\\1\\features.npy\n",
      "2025-03-23 11:44:10 [INFO] Identifying and removing outliers by calling gaussian_outliers_streamlined.py on feature file\n"
     ]
    },
    {
     "name": "stderr",
     "output_type": "stream",
     "text": [
      "Lightning automatically upgraded your loaded checkpoint from v1.1.4 to v2.5.0.post0. To apply the upgrade to your files permanently, run `python -m pytorch_lightning.utilities.upgrade_checkpoint c:\\Users\\colin\\OneDrive\\Desktop\\Jersey-Number-Recognition\\data\\pre_trained_models\\reid\\dukemtmcreid_resnet50_256_128_epoch_120.ckpt`\n"
     ]
    },
    {
     "name": "stdout",
     "output_type": "stream",
     "text": [
      "2025-03-23 11:44:13 [INFO] Saved features for tracklet with shape (465, 2048) to c:\\Users\\colin\\OneDrive\\Desktop\\Jersey-Number-Recognition\\data\\SoccerNet\\jersey-2023\\processed_data\\test\\0\\features.npy\n",
      "2025-03-23 11:44:13 [INFO] Identifying and removing outliers by calling gaussian_outliers_streamlined.py on feature file\n"
     ]
    },
    {
     "name": "stderr",
     "output_type": "stream",
     "text": [
      "Lightning automatically upgraded your loaded checkpoint from v1.1.4 to v2.5.0.post0. To apply the upgrade to your files permanently, run `python -m pytorch_lightning.utilities.upgrade_checkpoint c:\\Users\\colin\\OneDrive\\Desktop\\Jersey-Number-Recognition\\data\\pre_trained_models\\reid\\dukemtmcreid_resnet50_256_128_epoch_120.ckpt`\n"
     ]
    },
    {
     "name": "stdout",
     "output_type": "stream",
     "text": [
      "2025-03-23 11:44:17 [INFO] \n",
      "2025-03-23 11:44:17 [INFO] Done removing outliers\n",
      "2025-03-23 11:44:17 [INFO] Running model chain on preprocessed image(s).\n",
      "2025-03-23 11:44:17 [INFO] Classifying legibility of image(s) using pre-trained model.\n",
      "2025-03-23 11:44:17 [WARNING] No soccer ball list found. Skipping exclusion of soccer balls.\n",
      "2025-03-23 11:44:17 [INFO] Path checked: c:\\Users\\colin\\OneDrive\\Desktop\\Jersey-Number-Recognition\\data\\SoccerNet\\jersey-2023\\processed_data\\test\\common_data\\soccer_ball.json\n"
     ]
    },
    {
     "name": "stderr",
     "output_type": "stream",
     "text": [
      "c:\\Users\\colin\\miniconda3\\envs\\UBC\\Lib\\site-packages\\torchvision\\models\\_utils.py:208: UserWarning: The parameter 'pretrained' is deprecated since 0.13 and may be removed in the future, please use 'weights' instead.\n",
      "  warnings.warn(\n",
      "c:\\Users\\colin\\miniconda3\\envs\\UBC\\Lib\\site-packages\\torchvision\\models\\_utils.py:223: UserWarning: Arguments other than a weight enum or `None` for 'weights' are deprecated since 0.13 and may be removed in the future. The current behavior is equivalent to passing `weights=ResNet34_Weights.IMAGENET1K_V1`. You can also use `weights=ResNet34_Weights.DEFAULT` to get the most up-to-date weights.\n",
      "  warnings.warn(msg)\n"
     ]
    },
    {
     "name": "stdout",
     "output_type": "stream",
     "text": [
      "2025-03-23 11:44:17 [INFO] Saved features for tracklet with shape (490, 2048) to c:\\Users\\colin\\OneDrive\\Desktop\\Jersey-Number-Recognition\\data\\SoccerNet\\jersey-2023\\processed_data\\test\\6\\features.npy\n",
      "2025-03-23 11:44:17 [INFO] Identifying and removing outliers by calling gaussian_outliers_streamlined.py on feature file\n"
     ]
    },
    {
     "name": "stderr",
     "output_type": "stream",
     "text": [
      "Lightning automatically upgraded your loaded checkpoint from v1.1.4 to v2.5.0.post0. To apply the upgrade to your files permanently, run `python -m pytorch_lightning.utilities.upgrade_checkpoint c:\\Users\\colin\\OneDrive\\Desktop\\Jersey-Number-Recognition\\data\\pre_trained_models\\reid\\dukemtmcreid_resnet50_256_128_epoch_120.ckpt`\n"
     ]
    },
    {
     "name": "stdout",
     "output_type": "stream",
     "text": [
      "2025-03-23 11:44:19 [INFO] \n",
      "2025-03-23 11:44:19 [INFO] Done removing outliers\n",
      "2025-03-23 11:44:19 [INFO] Running model chain on preprocessed image(s).\n",
      "2025-03-23 11:44:19 [INFO] Classifying legibility of image(s) using pre-trained model.\n",
      "2025-03-23 11:44:19 [WARNING] No soccer ball list found. Skipping exclusion of soccer balls.\n",
      "2025-03-23 11:44:19 [INFO] Path checked: c:\\Users\\colin\\OneDrive\\Desktop\\Jersey-Number-Recognition\\data\\SoccerNet\\jersey-2023\\processed_data\\test\\common_data\\soccer_ball.json\n",
      "2025-03-23 11:44:24 [INFO] Saved features for tracklet with shape (544, 2048) to c:\\Users\\colin\\OneDrive\\Desktop\\Jersey-Number-Recognition\\data\\SoccerNet\\jersey-2023\\processed_data\\test\\8\\features.npy\n",
      "2025-03-23 11:44:24 [INFO] Identifying and removing outliers by calling gaussian_outliers_streamlined.py on feature file\n"
     ]
    },
    {
     "name": "stderr",
     "output_type": "stream",
     "text": [
      "Lightning automatically upgraded your loaded checkpoint from v1.1.4 to v2.5.0.post0. To apply the upgrade to your files permanently, run `python -m pytorch_lightning.utilities.upgrade_checkpoint c:\\Users\\colin\\OneDrive\\Desktop\\Jersey-Number-Recognition\\data\\pre_trained_models\\reid\\dukemtmcreid_resnet50_256_128_epoch_120.ckpt`\n"
     ]
    },
    {
     "name": "stdout",
     "output_type": "stream",
     "text": [
      "2025-03-23 11:44:25 [INFO] \n",
      "2025-03-23 11:44:25 [INFO] Done removing outliers\n",
      "2025-03-23 11:44:25 [INFO] Running model chain on preprocessed image(s).\n",
      "2025-03-23 11:44:25 [INFO] Classifying legibility of image(s) using pre-trained model.\n",
      "2025-03-23 11:44:25 [WARNING] No soccer ball list found. Skipping exclusion of soccer balls.\n",
      "2025-03-23 11:44:25 [INFO] Path checked: c:\\Users\\colin\\OneDrive\\Desktop\\Jersey-Number-Recognition\\data\\SoccerNet\\jersey-2023\\processed_data\\test\\common_data\\soccer_ball.json\n",
      "2025-03-23 11:44:28 [INFO] Saving legible_tracklets to: c:\\Users\\colin\\OneDrive\\Desktop\\Jersey-Number-Recognition\\data\\SoccerNet\\jersey-2023\\processed_data\\test\\4\\legible_results.json\n",
      "2025-03-23 11:44:28 [INFO] Saved legible_tracklets to: c:\\Users\\colin\\OneDrive\\Desktop\\Jersey-Number-Recognition\\data\\SoccerNet\\jersey-2023\\processed_data\\test\\4\\legible_results.json\n",
      "2025-03-23 11:44:28 [INFO] Saving illegible_tracklets to: c:\\Users\\colin\\OneDrive\\Desktop\\Jersey-Number-Recognition\\data\\SoccerNet\\jersey-2023\\processed_data\\test\\4\\illegible_results.json\n",
      "2025-03-23 11:44:28 [INFO] Saved illegible_tracklets to: c:\\Users\\colin\\OneDrive\\Desktop\\Jersey-Number-Recognition\\data\\SoccerNet\\jersey-2023\\processed_data\\test\\4\\illegible_results.json\n",
      "2025-03-23 11:44:28 [INFO] Legibility classification complete.\n",
      "2025-03-23 11:44:28 [INFO] Determine soccer balls in image(s) using pre-trained model.\n",
      "2025-03-23 11:44:28 [INFO] Processed tracklet: 4\n",
      "2025-03-23 11:44:28 [INFO] Found 0 balls, Ball list: []\n",
      "2025-03-23 11:44:32 [INFO] Saving legible_tracklets to: c:\\Users\\colin\\OneDrive\\Desktop\\Jersey-Number-Recognition\\data\\SoccerNet\\jersey-2023\\processed_data\\test\\1\\legible_results.json\n",
      "2025-03-23 11:44:32 [INFO] Saved legible_tracklets to: c:\\Users\\colin\\OneDrive\\Desktop\\Jersey-Number-Recognition\\data\\SoccerNet\\jersey-2023\\processed_data\\test\\1\\legible_results.json\n",
      "2025-03-23 11:44:32 [INFO] Saving illegible_tracklets to: c:\\Users\\colin\\OneDrive\\Desktop\\Jersey-Number-Recognition\\data\\SoccerNet\\jersey-2023\\processed_data\\test\\1\\illegible_results.json\n",
      "2025-03-23 11:44:32 [INFO] Saved illegible_tracklets to: c:\\Users\\colin\\OneDrive\\Desktop\\Jersey-Number-Recognition\\data\\SoccerNet\\jersey-2023\\processed_data\\test\\1\\illegible_results.json\n",
      "2025-03-23 11:44:32 [INFO] Legibility classification complete.\n",
      "2025-03-23 11:44:32 [INFO] Determine soccer balls in image(s) using pre-trained model.\n",
      "2025-03-23 11:44:32 [INFO] Processed tracklet: 1\n",
      "2025-03-23 11:44:32 [INFO] Found 1 balls, Ball list: ['19']\n",
      "2025-03-23 11:44:32 [INFO] \n",
      "2025-03-23 11:44:32 [INFO] Done removing outliers\n",
      "2025-03-23 11:44:32 [INFO] Running model chain on preprocessed image(s).\n",
      "2025-03-23 11:44:32 [INFO] Classifying legibility of image(s) using pre-trained model.\n",
      "2025-03-23 11:44:32 [WARNING] No soccer ball list found. Skipping exclusion of soccer balls.\n",
      "2025-03-23 11:44:32 [INFO] Path checked: c:\\Users\\colin\\OneDrive\\Desktop\\Jersey-Number-Recognition\\data\\SoccerNet\\jersey-2023\\processed_data\\test\\common_data\\soccer_ball.json\n",
      "2025-03-23 11:44:33 [INFO] Saved features for tracklet with shape (661, 2048) to c:\\Users\\colin\\OneDrive\\Desktop\\Jersey-Number-Recognition\\data\\SoccerNet\\jersey-2023\\processed_data\\test\\7\\features.npy\n",
      "2025-03-23 11:44:33 [INFO] Identifying and removing outliers by calling gaussian_outliers_streamlined.py on feature file\n"
     ]
    },
    {
     "name": "stderr",
     "output_type": "stream",
     "text": [
      "Lightning automatically upgraded your loaded checkpoint from v1.1.4 to v2.5.0.post0. To apply the upgrade to your files permanently, run `python -m pytorch_lightning.utilities.upgrade_checkpoint c:\\Users\\colin\\OneDrive\\Desktop\\Jersey-Number-Recognition\\data\\pre_trained_models\\reid\\dukemtmcreid_resnet50_256_128_epoch_120.ckpt`\n"
     ]
    },
    {
     "name": "stdout",
     "output_type": "stream",
     "text": [
      "2025-03-23 11:44:37 [INFO] Saving legible_tracklets to: c:\\Users\\colin\\OneDrive\\Desktop\\Jersey-Number-Recognition\\data\\SoccerNet\\jersey-2023\\processed_data\\test\\0\\legible_results.json\n",
      "2025-03-23 11:44:37 [INFO] Saved legible_tracklets to: c:\\Users\\colin\\OneDrive\\Desktop\\Jersey-Number-Recognition\\data\\SoccerNet\\jersey-2023\\processed_data\\test\\0\\legible_results.json\n",
      "2025-03-23 11:44:37 [INFO] Saving illegible_tracklets to: c:\\Users\\colin\\OneDrive\\Desktop\\Jersey-Number-Recognition\\data\\SoccerNet\\jersey-2023\\processed_data\\test\\0\\illegible_results.json\n",
      "2025-03-23 11:44:37 [INFO] Saved illegible_tracklets to: c:\\Users\\colin\\OneDrive\\Desktop\\Jersey-Number-Recognition\\data\\SoccerNet\\jersey-2023\\processed_data\\test\\0\\illegible_results.json\n",
      "2025-03-23 11:44:37 [INFO] Legibility classification complete.\n",
      "2025-03-23 11:44:37 [INFO] Determine soccer balls in image(s) using pre-trained model.\n",
      "2025-03-23 11:44:37 [INFO] Processed tracklet: 0\n",
      "2025-03-23 11:44:37 [INFO] Found 0 balls, Ball list: []\n",
      "2025-03-23 11:44:38 [INFO] \n",
      "2025-03-23 11:44:38 [INFO] Done removing outliers\n",
      "2025-03-23 11:44:38 [INFO] Running model chain on preprocessed image(s).\n",
      "2025-03-23 11:44:38 [INFO] Classifying legibility of image(s) using pre-trained model.\n",
      "2025-03-23 11:44:38 [WARNING] No soccer ball list found. Skipping exclusion of soccer balls.\n",
      "2025-03-23 11:44:38 [INFO] Path checked: c:\\Users\\colin\\OneDrive\\Desktop\\Jersey-Number-Recognition\\data\\SoccerNet\\jersey-2023\\processed_data\\test\\common_data\\soccer_ball.json\n",
      "2025-03-23 11:44:40 [INFO] Saved features for tracklet with shape (457, 2048) to c:\\Users\\colin\\OneDrive\\Desktop\\Jersey-Number-Recognition\\data\\SoccerNet\\jersey-2023\\processed_data\\test\\16\\features.npy\n",
      "2025-03-23 11:44:40 [INFO] Identifying and removing outliers by calling gaussian_outliers_streamlined.py on feature file\n"
     ]
    },
    {
     "name": "stderr",
     "output_type": "stream",
     "text": [
      "Lightning automatically upgraded your loaded checkpoint from v1.1.4 to v2.5.0.post0. To apply the upgrade to your files permanently, run `python -m pytorch_lightning.utilities.upgrade_checkpoint c:\\Users\\colin\\OneDrive\\Desktop\\Jersey-Number-Recognition\\data\\pre_trained_models\\reid\\dukemtmcreid_resnet50_256_128_epoch_120.ckpt`\n"
     ]
    },
    {
     "name": "stdout",
     "output_type": "stream",
     "text": [
      "2025-03-23 11:44:45 [INFO] Saving legible_tracklets to: c:\\Users\\colin\\OneDrive\\Desktop\\Jersey-Number-Recognition\\data\\SoccerNet\\jersey-2023\\processed_data\\test\\6\\legible_results.json\n",
      "2025-03-23 11:44:45 [INFO] Saved legible_tracklets to: c:\\Users\\colin\\OneDrive\\Desktop\\Jersey-Number-Recognition\\data\\SoccerNet\\jersey-2023\\processed_data\\test\\6\\legible_results.json\n",
      "2025-03-23 11:44:45 [INFO] Saving illegible_tracklets to: c:\\Users\\colin\\OneDrive\\Desktop\\Jersey-Number-Recognition\\data\\SoccerNet\\jersey-2023\\processed_data\\test\\6\\illegible_results.json\n",
      "2025-03-23 11:44:45 [INFO] Saved illegible_tracklets to: c:\\Users\\colin\\OneDrive\\Desktop\\Jersey-Number-Recognition\\data\\SoccerNet\\jersey-2023\\processed_data\\test\\6\\illegible_results.json\n",
      "2025-03-23 11:44:45 [INFO] Legibility classification complete.\n",
      "2025-03-23 11:44:45 [INFO] Determine soccer balls in image(s) using pre-trained model.\n",
      "2025-03-23 11:44:45 [INFO] Processed tracklet: 6\n",
      "2025-03-23 11:44:45 [INFO] Found 0 balls, Ball list: []\n",
      "2025-03-23 11:44:48 [INFO] \n",
      "2025-03-23 11:44:48 [INFO] Done removing outliers\n",
      "2025-03-23 11:44:48 [INFO] Running model chain on preprocessed image(s).\n",
      "2025-03-23 11:44:48 [INFO] Classifying legibility of image(s) using pre-trained model.\n",
      "2025-03-23 11:44:48 [WARNING] No soccer ball list found. Skipping exclusion of soccer balls.\n",
      "2025-03-23 11:44:48 [INFO] Path checked: c:\\Users\\colin\\OneDrive\\Desktop\\Jersey-Number-Recognition\\data\\SoccerNet\\jersey-2023\\processed_data\\test\\common_data\\soccer_ball.json\n",
      "2025-03-23 11:44:48 [INFO] Saved features for tracklet with shape (554, 2048) to c:\\Users\\colin\\OneDrive\\Desktop\\Jersey-Number-Recognition\\data\\SoccerNet\\jersey-2023\\processed_data\\test\\15\\features.npy\n",
      "2025-03-23 11:44:48 [INFO] Identifying and removing outliers by calling gaussian_outliers_streamlined.py on feature file\n"
     ]
    },
    {
     "name": "stderr",
     "output_type": "stream",
     "text": [
      "Lightning automatically upgraded your loaded checkpoint from v1.1.4 to v2.5.0.post0. To apply the upgrade to your files permanently, run `python -m pytorch_lightning.utilities.upgrade_checkpoint c:\\Users\\colin\\OneDrive\\Desktop\\Jersey-Number-Recognition\\data\\pre_trained_models\\reid\\dukemtmcreid_resnet50_256_128_epoch_120.ckpt`\n"
     ]
    },
    {
     "name": "stdout",
     "output_type": "stream",
     "text": [
      "2025-03-23 11:44:51 [INFO] Saving legible_tracklets to: c:\\Users\\colin\\OneDrive\\Desktop\\Jersey-Number-Recognition\\data\\SoccerNet\\jersey-2023\\processed_data\\test\\8\\legible_results.json\n",
      "2025-03-23 11:44:51 [INFO] Saved legible_tracklets to: c:\\Users\\colin\\OneDrive\\Desktop\\Jersey-Number-Recognition\\data\\SoccerNet\\jersey-2023\\processed_data\\test\\8\\legible_results.json\n",
      "2025-03-23 11:44:51 [INFO] Saving illegible_tracklets to: c:\\Users\\colin\\OneDrive\\Desktop\\Jersey-Number-Recognition\\data\\SoccerNet\\jersey-2023\\processed_data\\test\\8\\illegible_results.json\n",
      "2025-03-23 11:44:51 [INFO] Saved illegible_tracklets to: c:\\Users\\colin\\OneDrive\\Desktop\\Jersey-Number-Recognition\\data\\SoccerNet\\jersey-2023\\processed_data\\test\\8\\illegible_results.json\n",
      "2025-03-23 11:44:51 [INFO] Legibility classification complete.\n",
      "2025-03-23 11:44:51 [INFO] Determine soccer balls in image(s) using pre-trained model.\n",
      "2025-03-23 11:44:51 [INFO] Processed tracklet: 8\n",
      "2025-03-23 11:44:51 [INFO] Found 0 balls, Ball list: []\n",
      "2025-03-23 11:44:52 [INFO] \n",
      "2025-03-23 11:44:52 [INFO] Done removing outliers\n",
      "2025-03-23 11:44:52 [INFO] Running model chain on preprocessed image(s).\n",
      "2025-03-23 11:44:52 [INFO] Classifying legibility of image(s) using pre-trained model.\n",
      "2025-03-23 11:44:52 [WARNING] No soccer ball list found. Skipping exclusion of soccer balls.\n",
      "2025-03-23 11:44:52 [INFO] Path checked: c:\\Users\\colin\\OneDrive\\Desktop\\Jersey-Number-Recognition\\data\\SoccerNet\\jersey-2023\\processed_data\\test\\common_data\\soccer_ball.json\n",
      "2025-03-23 11:44:54 [INFO] Saved features for tracklet with shape (664, 2048) to c:\\Users\\colin\\OneDrive\\Desktop\\Jersey-Number-Recognition\\data\\SoccerNet\\jersey-2023\\processed_data\\test\\17\\features.npy\n",
      "2025-03-23 11:44:54 [INFO] Identifying and removing outliers by calling gaussian_outliers_streamlined.py on feature file\n"
     ]
    },
    {
     "name": "stderr",
     "output_type": "stream",
     "text": [
      "Lightning automatically upgraded your loaded checkpoint from v1.1.4 to v2.5.0.post0. To apply the upgrade to your files permanently, run `python -m pytorch_lightning.utilities.upgrade_checkpoint c:\\Users\\colin\\OneDrive\\Desktop\\Jersey-Number-Recognition\\data\\pre_trained_models\\reid\\dukemtmcreid_resnet50_256_128_epoch_120.ckpt`\n"
     ]
    },
    {
     "name": "stdout",
     "output_type": "stream",
     "text": [
      "2025-03-23 11:44:58 [INFO] Saved features for tracklet with shape (349, 2048) to c:\\Users\\colin\\OneDrive\\Desktop\\Jersey-Number-Recognition\\data\\SoccerNet\\jersey-2023\\processed_data\\test\\2\\features.npy\n",
      "2025-03-23 11:44:58 [INFO] Identifying and removing outliers by calling gaussian_outliers_streamlined.py on feature file\n"
     ]
    },
    {
     "name": "stderr",
     "output_type": "stream",
     "text": [
      "Lightning automatically upgraded your loaded checkpoint from v1.1.4 to v2.5.0.post0. To apply the upgrade to your files permanently, run `python -m pytorch_lightning.utilities.upgrade_checkpoint c:\\Users\\colin\\OneDrive\\Desktop\\Jersey-Number-Recognition\\data\\pre_trained_models\\reid\\dukemtmcreid_resnet50_256_128_epoch_120.ckpt`\n"
     ]
    },
    {
     "name": "stdout",
     "output_type": "stream",
     "text": [
      "2025-03-23 11:44:59 [INFO] \n",
      "2025-03-23 11:44:59 [INFO] Done removing outliers\n",
      "2025-03-23 11:44:59 [INFO] Running model chain on preprocessed image(s).\n",
      "2025-03-23 11:44:59 [INFO] Classifying legibility of image(s) using pre-trained model.\n",
      "2025-03-23 11:44:59 [WARNING] No soccer ball list found. Skipping exclusion of soccer balls.\n",
      "2025-03-23 11:44:59 [INFO] Path checked: c:\\Users\\colin\\OneDrive\\Desktop\\Jersey-Number-Recognition\\data\\SoccerNet\\jersey-2023\\processed_data\\test\\common_data\\soccer_ball.json\n",
      "2025-03-23 11:45:03 [INFO] Saving legible_tracklets to: c:\\Users\\colin\\OneDrive\\Desktop\\Jersey-Number-Recognition\\data\\SoccerNet\\jersey-2023\\processed_data\\test\\16\\legible_results.json\n",
      "2025-03-23 11:45:03 [INFO] Saved legible_tracklets to: c:\\Users\\colin\\OneDrive\\Desktop\\Jersey-Number-Recognition\\data\\SoccerNet\\jersey-2023\\processed_data\\test\\16\\legible_results.json\n",
      "2025-03-23 11:45:03 [INFO] Saving illegible_tracklets to: c:\\Users\\colin\\OneDrive\\Desktop\\Jersey-Number-Recognition\\data\\SoccerNet\\jersey-2023\\processed_data\\test\\16\\illegible_results.json\n",
      "2025-03-23 11:45:03 [INFO] Saved illegible_tracklets to: c:\\Users\\colin\\OneDrive\\Desktop\\Jersey-Number-Recognition\\data\\SoccerNet\\jersey-2023\\processed_data\\test\\16\\illegible_results.json\n",
      "2025-03-23 11:45:03 [INFO] Legibility classification complete.\n",
      "2025-03-23 11:45:03 [INFO] Determine soccer balls in image(s) using pre-trained model.\n",
      "2025-03-23 11:45:03 [INFO] Processed tracklet: 16\n",
      "2025-03-23 11:45:03 [INFO] Found 0 balls, Ball list: []\n",
      "2025-03-23 11:45:05 [INFO] Saved features for tracklet with shape (452, 2048) to c:\\Users\\colin\\OneDrive\\Desktop\\Jersey-Number-Recognition\\data\\SoccerNet\\jersey-2023\\processed_data\\test\\12\\features.npy\n",
      "2025-03-23 11:45:05 [INFO] Identifying and removing outliers by calling gaussian_outliers_streamlined.py on feature file\n"
     ]
    },
    {
     "name": "stderr",
     "output_type": "stream",
     "text": [
      "Lightning automatically upgraded your loaded checkpoint from v1.1.4 to v2.5.0.post0. To apply the upgrade to your files permanently, run `python -m pytorch_lightning.utilities.upgrade_checkpoint c:\\Users\\colin\\OneDrive\\Desktop\\Jersey-Number-Recognition\\data\\pre_trained_models\\reid\\dukemtmcreid_resnet50_256_128_epoch_120.ckpt`\n"
     ]
    },
    {
     "name": "stdout",
     "output_type": "stream",
     "text": [
      "2025-03-23 11:45:07 [INFO] \n",
      "2025-03-23 11:45:07 [INFO] Done removing outliers\n",
      "2025-03-23 11:45:07 [INFO] Running model chain on preprocessed image(s).\n",
      "2025-03-23 11:45:07 [INFO] Classifying legibility of image(s) using pre-trained model.\n",
      "2025-03-23 11:45:07 [WARNING] No soccer ball list found. Skipping exclusion of soccer balls.\n",
      "2025-03-23 11:45:07 [INFO] Path checked: c:\\Users\\colin\\OneDrive\\Desktop\\Jersey-Number-Recognition\\data\\SoccerNet\\jersey-2023\\processed_data\\test\\common_data\\soccer_ball.json\n",
      "2025-03-23 11:45:11 [INFO] Saving legible_tracklets to: c:\\Users\\colin\\OneDrive\\Desktop\\Jersey-Number-Recognition\\data\\SoccerNet\\jersey-2023\\processed_data\\test\\15\\legible_results.json\n",
      "2025-03-23 11:45:11 [INFO] Saved legible_tracklets to: c:\\Users\\colin\\OneDrive\\Desktop\\Jersey-Number-Recognition\\data\\SoccerNet\\jersey-2023\\processed_data\\test\\15\\legible_results.json\n",
      "2025-03-23 11:45:11 [INFO] Saving illegible_tracklets to: c:\\Users\\colin\\OneDrive\\Desktop\\Jersey-Number-Recognition\\data\\SoccerNet\\jersey-2023\\processed_data\\test\\15\\illegible_results.json\n",
      "2025-03-23 11:45:11 [INFO] Saved illegible_tracklets to: c:\\Users\\colin\\OneDrive\\Desktop\\Jersey-Number-Recognition\\data\\SoccerNet\\jersey-2023\\processed_data\\test\\15\\illegible_results.json\n",
      "2025-03-23 11:45:11 [INFO] Legibility classification complete.\n",
      "2025-03-23 11:45:11 [INFO] Determine soccer balls in image(s) using pre-trained model.\n",
      "2025-03-23 11:45:11 [INFO] Processed tracklet: 15\n",
      "2025-03-23 11:45:11 [INFO] Found 0 balls, Ball list: []\n",
      "2025-03-23 11:45:11 [INFO] Saved features for tracklet with shape (549, 2048) to c:\\Users\\colin\\OneDrive\\Desktop\\Jersey-Number-Recognition\\data\\SoccerNet\\jersey-2023\\processed_data\\test\\10\\features.npy\n",
      "2025-03-23 11:45:11 [INFO] Identifying and removing outliers by calling gaussian_outliers_streamlined.py on feature file\n",
      "2025-03-23 11:45:11 [INFO] \n",
      "2025-03-23 11:45:11 [INFO] Done removing outliers\n",
      "2025-03-23 11:45:11 [INFO] Running model chain on preprocessed image(s).\n",
      "2025-03-23 11:45:11 [INFO] Classifying legibility of image(s) using pre-trained model.\n",
      "2025-03-23 11:45:11 [WARNING] No soccer ball list found. Skipping exclusion of soccer balls.\n",
      "2025-03-23 11:45:11 [INFO] Path checked: c:\\Users\\colin\\OneDrive\\Desktop\\Jersey-Number-Recognition\\data\\SoccerNet\\jersey-2023\\processed_data\\test\\common_data\\soccer_ball.json\n"
     ]
    },
    {
     "name": "stderr",
     "output_type": "stream",
     "text": [
      "Lightning automatically upgraded your loaded checkpoint from v1.1.4 to v2.5.0.post0. To apply the upgrade to your files permanently, run `python -m pytorch_lightning.utilities.upgrade_checkpoint c:\\Users\\colin\\OneDrive\\Desktop\\Jersey-Number-Recognition\\data\\pre_trained_models\\reid\\dukemtmcreid_resnet50_256_128_epoch_120.ckpt`\n"
     ]
    },
    {
     "name": "stdout",
     "output_type": "stream",
     "text": [
      "2025-03-23 11:45:18 [INFO] Saving legible_tracklets to: c:\\Users\\colin\\OneDrive\\Desktop\\Jersey-Number-Recognition\\data\\SoccerNet\\jersey-2023\\processed_data\\test\\7\\legible_results.json\n",
      "2025-03-23 11:45:18 [INFO] Saved legible_tracklets to: c:\\Users\\colin\\OneDrive\\Desktop\\Jersey-Number-Recognition\\data\\SoccerNet\\jersey-2023\\processed_data\\test\\7\\legible_results.json\n",
      "2025-03-23 11:45:18 [INFO] Saving illegible_tracklets to: c:\\Users\\colin\\OneDrive\\Desktop\\Jersey-Number-Recognition\\data\\SoccerNet\\jersey-2023\\processed_data\\test\\7\\illegible_results.json\n",
      "2025-03-23 11:45:18 [INFO] Saved illegible_tracklets to: c:\\Users\\colin\\OneDrive\\Desktop\\Jersey-Number-Recognition\\data\\SoccerNet\\jersey-2023\\processed_data\\test\\7\\illegible_results.json\n",
      "2025-03-23 11:45:18 [INFO] Legibility classification complete.\n",
      "2025-03-23 11:45:18 [INFO] Determine soccer balls in image(s) using pre-trained model.\n",
      "2025-03-23 11:45:18 [INFO] Processed tracklet: 7\n",
      "2025-03-23 11:45:18 [INFO] Found 0 balls, Ball list: []\n",
      "2025-03-23 11:45:18 [INFO] \n",
      "2025-03-23 11:45:18 [INFO] Done removing outliers\n",
      "2025-03-23 11:45:18 [INFO] Running model chain on preprocessed image(s).\n",
      "2025-03-23 11:45:18 [INFO] Classifying legibility of image(s) using pre-trained model.\n",
      "2025-03-23 11:45:18 [WARNING] No soccer ball list found. Skipping exclusion of soccer balls.\n",
      "2025-03-23 11:45:18 [INFO] Path checked: c:\\Users\\colin\\OneDrive\\Desktop\\Jersey-Number-Recognition\\data\\SoccerNet\\jersey-2023\\processed_data\\test\\common_data\\soccer_ball.json\n",
      "2025-03-23 11:45:19 [INFO] Saved features for tracklet with shape (601, 2048) to c:\\Users\\colin\\OneDrive\\Desktop\\Jersey-Number-Recognition\\data\\SoccerNet\\jersey-2023\\processed_data\\test\\18\\features.npy\n",
      "2025-03-23 11:45:19 [INFO] Identifying and removing outliers by calling gaussian_outliers_streamlined.py on feature file\n"
     ]
    },
    {
     "name": "stderr",
     "output_type": "stream",
     "text": [
      "Lightning automatically upgraded your loaded checkpoint from v1.1.4 to v2.5.0.post0. To apply the upgrade to your files permanently, run `python -m pytorch_lightning.utilities.upgrade_checkpoint c:\\Users\\colin\\OneDrive\\Desktop\\Jersey-Number-Recognition\\data\\pre_trained_models\\reid\\dukemtmcreid_resnet50_256_128_epoch_120.ckpt`\n"
     ]
    },
    {
     "name": "stdout",
     "output_type": "stream",
     "text": [
      "2025-03-23 11:45:24 [INFO] Saving legible_tracklets to: c:\\Users\\colin\\OneDrive\\Desktop\\Jersey-Number-Recognition\\data\\SoccerNet\\jersey-2023\\processed_data\\test\\2\\legible_results.json\n",
      "2025-03-23 11:45:24 [INFO] Saved legible_tracklets to: c:\\Users\\colin\\OneDrive\\Desktop\\Jersey-Number-Recognition\\data\\SoccerNet\\jersey-2023\\processed_data\\test\\2\\legible_results.json\n",
      "2025-03-23 11:45:24 [INFO] Saving illegible_tracklets to: c:\\Users\\colin\\OneDrive\\Desktop\\Jersey-Number-Recognition\\data\\SoccerNet\\jersey-2023\\processed_data\\test\\2\\illegible_results.json\n",
      "2025-03-23 11:45:24 [INFO] Saved illegible_tracklets to: c:\\Users\\colin\\OneDrive\\Desktop\\Jersey-Number-Recognition\\data\\SoccerNet\\jersey-2023\\processed_data\\test\\2\\illegible_results.json\n",
      "2025-03-23 11:45:24 [INFO] Legibility classification complete.\n",
      "2025-03-23 11:45:24 [INFO] Determine soccer balls in image(s) using pre-trained model.\n",
      "2025-03-23 11:45:24 [INFO] Processed tracklet: 2\n",
      "2025-03-23 11:45:24 [INFO] Found 0 balls, Ball list: []\n",
      "2025-03-23 11:45:25 [INFO] \n",
      "2025-03-23 11:45:25 [INFO] Done removing outliers\n",
      "2025-03-23 11:45:25 [INFO] Running model chain on preprocessed image(s).\n",
      "2025-03-23 11:45:25 [INFO] Classifying legibility of image(s) using pre-trained model.\n",
      "2025-03-23 11:45:25 [WARNING] No soccer ball list found. Skipping exclusion of soccer balls.\n",
      "2025-03-23 11:45:25 [INFO] Path checked: c:\\Users\\colin\\OneDrive\\Desktop\\Jersey-Number-Recognition\\data\\SoccerNet\\jersey-2023\\processed_data\\test\\common_data\\soccer_ball.json\n",
      "2025-03-23 11:45:26 [INFO] Saved features for tracklet with shape (575, 2048) to c:\\Users\\colin\\OneDrive\\Desktop\\Jersey-Number-Recognition\\data\\SoccerNet\\jersey-2023\\processed_data\\test\\14\\features.npy\n",
      "2025-03-23 11:45:26 [INFO] Identifying and removing outliers by calling gaussian_outliers_streamlined.py on feature file\n"
     ]
    },
    {
     "name": "stderr",
     "output_type": "stream",
     "text": [
      "Lightning automatically upgraded your loaded checkpoint from v1.1.4 to v2.5.0.post0. To apply the upgrade to your files permanently, run `python -m pytorch_lightning.utilities.upgrade_checkpoint c:\\Users\\colin\\OneDrive\\Desktop\\Jersey-Number-Recognition\\data\\pre_trained_models\\reid\\dukemtmcreid_resnet50_256_128_epoch_120.ckpt`\n"
     ]
    },
    {
     "name": "stdout",
     "output_type": "stream",
     "text": [
      "2025-03-23 11:45:30 [INFO] Saving legible_tracklets to: c:\\Users\\colin\\OneDrive\\Desktop\\Jersey-Number-Recognition\\data\\SoccerNet\\jersey-2023\\processed_data\\test\\12\\legible_results.json\n",
      "2025-03-23 11:45:30 [INFO] Saved legible_tracklets to: c:\\Users\\colin\\OneDrive\\Desktop\\Jersey-Number-Recognition\\data\\SoccerNet\\jersey-2023\\processed_data\\test\\12\\legible_results.json\n",
      "2025-03-23 11:45:30 [INFO] Saving illegible_tracklets to: c:\\Users\\colin\\OneDrive\\Desktop\\Jersey-Number-Recognition\\data\\SoccerNet\\jersey-2023\\processed_data\\test\\12\\illegible_results.json\n",
      "2025-03-23 11:45:30 [INFO] Saved illegible_tracklets to: c:\\Users\\colin\\OneDrive\\Desktop\\Jersey-Number-Recognition\\data\\SoccerNet\\jersey-2023\\processed_data\\test\\12\\illegible_results.json\n",
      "2025-03-23 11:45:30 [INFO] Legibility classification complete.\n",
      "2025-03-23 11:45:30 [INFO] Determine soccer balls in image(s) using pre-trained model.\n",
      "2025-03-23 11:45:30 [INFO] Processed tracklet: 12\n",
      "2025-03-23 11:45:30 [INFO] Found 0 balls, Ball list: []\n",
      "2025-03-23 11:45:33 [INFO] \n",
      "2025-03-23 11:45:33 [INFO] Done removing outliers\n",
      "2025-03-23 11:45:33 [INFO] Running model chain on preprocessed image(s).\n",
      "2025-03-23 11:45:33 [INFO] Classifying legibility of image(s) using pre-trained model.\n",
      "2025-03-23 11:45:33 [WARNING] No soccer ball list found. Skipping exclusion of soccer balls.\n",
      "2025-03-23 11:45:33 [INFO] Path checked: c:\\Users\\colin\\OneDrive\\Desktop\\Jersey-Number-Recognition\\data\\SoccerNet\\jersey-2023\\processed_data\\test\\common_data\\soccer_ball.json\n",
      "2025-03-23 11:45:33 [INFO] Saved features for tracklet with shape (627, 2048) to c:\\Users\\colin\\OneDrive\\Desktop\\Jersey-Number-Recognition\\data\\SoccerNet\\jersey-2023\\processed_data\\test\\5\\features.npy\n",
      "2025-03-23 11:45:33 [INFO] Identifying and removing outliers by calling gaussian_outliers_streamlined.py on feature file\n"
     ]
    },
    {
     "name": "stderr",
     "output_type": "stream",
     "text": [
      "Lightning automatically upgraded your loaded checkpoint from v1.1.4 to v2.5.0.post0. To apply the upgrade to your files permanently, run `python -m pytorch_lightning.utilities.upgrade_checkpoint c:\\Users\\colin\\OneDrive\\Desktop\\Jersey-Number-Recognition\\data\\pre_trained_models\\reid\\dukemtmcreid_resnet50_256_128_epoch_120.ckpt`\n"
     ]
    },
    {
     "name": "stdout",
     "output_type": "stream",
     "text": [
      "2025-03-23 11:45:38 [INFO] Saving legible_tracklets to: c:\\Users\\colin\\OneDrive\\Desktop\\Jersey-Number-Recognition\\data\\SoccerNet\\jersey-2023\\processed_data\\test\\10\\legible_results.json\n",
      "2025-03-23 11:45:38 [INFO] Saved legible_tracklets to: c:\\Users\\colin\\OneDrive\\Desktop\\Jersey-Number-Recognition\\data\\SoccerNet\\jersey-2023\\processed_data\\test\\10\\legible_results.json\n",
      "2025-03-23 11:45:38 [INFO] Saving illegible_tracklets to: c:\\Users\\colin\\OneDrive\\Desktop\\Jersey-Number-Recognition\\data\\SoccerNet\\jersey-2023\\processed_data\\test\\10\\illegible_results.json\n",
      "2025-03-23 11:45:38 [INFO] Saved illegible_tracklets to: c:\\Users\\colin\\OneDrive\\Desktop\\Jersey-Number-Recognition\\data\\SoccerNet\\jersey-2023\\processed_data\\test\\10\\illegible_results.json\n",
      "2025-03-23 11:45:38 [INFO] Legibility classification complete.\n",
      "2025-03-23 11:45:38 [INFO] Determine soccer balls in image(s) using pre-trained model.\n",
      "2025-03-23 11:45:38 [INFO] Processed tracklet: 10\n",
      "2025-03-23 11:45:38 [INFO] Found 0 balls, Ball list: []\n",
      "2025-03-23 11:45:40 [INFO] \n",
      "2025-03-23 11:45:40 [INFO] Done removing outliers\n",
      "2025-03-23 11:45:40 [INFO] Running model chain on preprocessed image(s).\n",
      "2025-03-23 11:45:40 [INFO] Classifying legibility of image(s) using pre-trained model.\n",
      "2025-03-23 11:45:40 [WARNING] No soccer ball list found. Skipping exclusion of soccer balls.\n",
      "2025-03-23 11:45:40 [INFO] Path checked: c:\\Users\\colin\\OneDrive\\Desktop\\Jersey-Number-Recognition\\data\\SoccerNet\\jersey-2023\\processed_data\\test\\common_data\\soccer_ball.json\n",
      "2025-03-23 11:45:42 [INFO] Saving legible_tracklets to: c:\\Users\\colin\\OneDrive\\Desktop\\Jersey-Number-Recognition\\data\\SoccerNet\\jersey-2023\\processed_data\\test\\17\\legible_results.json\n",
      "2025-03-23 11:45:42 [INFO] Saved legible_tracklets to: c:\\Users\\colin\\OneDrive\\Desktop\\Jersey-Number-Recognition\\data\\SoccerNet\\jersey-2023\\processed_data\\test\\17\\legible_results.json\n",
      "2025-03-23 11:45:42 [INFO] Saving illegible_tracklets to: c:\\Users\\colin\\OneDrive\\Desktop\\Jersey-Number-Recognition\\data\\SoccerNet\\jersey-2023\\processed_data\\test\\17\\illegible_results.json\n",
      "2025-03-23 11:45:42 [INFO] Saved illegible_tracklets to: c:\\Users\\colin\\OneDrive\\Desktop\\Jersey-Number-Recognition\\data\\SoccerNet\\jersey-2023\\processed_data\\test\\17\\illegible_results.json\n",
      "2025-03-23 11:45:42 [INFO] Legibility classification complete.\n",
      "2025-03-23 11:45:42 [INFO] Determine soccer balls in image(s) using pre-trained model.\n",
      "2025-03-23 11:45:42 [INFO] Processed tracklet: 17\n",
      "2025-03-23 11:45:42 [INFO] Found 0 balls, Ball list: []\n",
      "2025-03-23 11:45:43 [INFO] Saved features for tracklet with shape (595, 2048) to c:\\Users\\colin\\OneDrive\\Desktop\\Jersey-Number-Recognition\\data\\SoccerNet\\jersey-2023\\processed_data\\test\\9\\features.npy\n",
      "2025-03-23 11:45:43 [INFO] Identifying and removing outliers by calling gaussian_outliers_streamlined.py on feature file\n"
     ]
    },
    {
     "name": "stderr",
     "output_type": "stream",
     "text": [
      "Lightning automatically upgraded your loaded checkpoint from v1.1.4 to v2.5.0.post0. To apply the upgrade to your files permanently, run `python -m pytorch_lightning.utilities.upgrade_checkpoint c:\\Users\\colin\\OneDrive\\Desktop\\Jersey-Number-Recognition\\data\\pre_trained_models\\reid\\dukemtmcreid_resnet50_256_128_epoch_120.ckpt`\n"
     ]
    },
    {
     "name": "stdout",
     "output_type": "stream",
     "text": [
      "2025-03-23 11:45:46 [INFO] Saving legible_tracklets to: c:\\Users\\colin\\OneDrive\\Desktop\\Jersey-Number-Recognition\\data\\SoccerNet\\jersey-2023\\processed_data\\test\\18\\legible_results.json\n",
      "2025-03-23 11:45:46 [INFO] Saved legible_tracklets to: c:\\Users\\colin\\OneDrive\\Desktop\\Jersey-Number-Recognition\\data\\SoccerNet\\jersey-2023\\processed_data\\test\\18\\legible_results.json\n",
      "2025-03-23 11:45:46 [INFO] Saving illegible_tracklets to: c:\\Users\\colin\\OneDrive\\Desktop\\Jersey-Number-Recognition\\data\\SoccerNet\\jersey-2023\\processed_data\\test\\18\\illegible_results.json\n",
      "2025-03-23 11:45:46 [INFO] Saved illegible_tracklets to: c:\\Users\\colin\\OneDrive\\Desktop\\Jersey-Number-Recognition\\data\\SoccerNet\\jersey-2023\\processed_data\\test\\18\\illegible_results.json\n",
      "2025-03-23 11:45:46 [INFO] Legibility classification complete.\n",
      "2025-03-23 11:45:46 [INFO] Determine soccer balls in image(s) using pre-trained model.\n",
      "2025-03-23 11:45:46 [INFO] Processed tracklet: 18\n",
      "2025-03-23 11:45:46 [INFO] Found 0 balls, Ball list: []\n",
      "2025-03-23 11:45:48 [INFO] \n",
      "2025-03-23 11:45:48 [INFO] Done removing outliers\n",
      "2025-03-23 11:45:48 [INFO] Running model chain on preprocessed image(s).\n",
      "2025-03-23 11:45:48 [INFO] Classifying legibility of image(s) using pre-trained model.\n",
      "2025-03-23 11:45:48 [WARNING] No soccer ball list found. Skipping exclusion of soccer balls.\n",
      "2025-03-23 11:45:48 [INFO] Path checked: c:\\Users\\colin\\OneDrive\\Desktop\\Jersey-Number-Recognition\\data\\SoccerNet\\jersey-2023\\processed_data\\test\\common_data\\soccer_ball.json\n",
      "2025-03-23 11:45:49 [INFO] Saved features for tracklet with shape (461, 2048) to c:\\Users\\colin\\OneDrive\\Desktop\\Jersey-Number-Recognition\\data\\SoccerNet\\jersey-2023\\processed_data\\test\\3\\features.npy\n",
      "2025-03-23 11:45:50 [INFO] Identifying and removing outliers by calling gaussian_outliers_streamlined.py on feature file\n"
     ]
    },
    {
     "name": "stderr",
     "output_type": "stream",
     "text": [
      "Lightning automatically upgraded your loaded checkpoint from v1.1.4 to v2.5.0.post0. To apply the upgrade to your files permanently, run `python -m pytorch_lightning.utilities.upgrade_checkpoint c:\\Users\\colin\\OneDrive\\Desktop\\Jersey-Number-Recognition\\data\\pre_trained_models\\reid\\dukemtmcreid_resnet50_256_128_epoch_120.ckpt`\n"
     ]
    },
    {
     "name": "stdout",
     "output_type": "stream",
     "text": [
      "2025-03-23 11:45:52 [INFO] Saved features for tracklet with shape (131, 2048) to c:\\Users\\colin\\OneDrive\\Desktop\\Jersey-Number-Recognition\\data\\SoccerNet\\jersey-2023\\processed_data\\test\\23\\features.npy\n",
      "2025-03-23 11:45:52 [INFO] Identifying and removing outliers by calling gaussian_outliers_streamlined.py on feature file\n"
     ]
    },
    {
     "name": "stderr",
     "output_type": "stream",
     "text": [
      "Lightning automatically upgraded your loaded checkpoint from v1.1.4 to v2.5.0.post0. To apply the upgrade to your files permanently, run `python -m pytorch_lightning.utilities.upgrade_checkpoint c:\\Users\\colin\\OneDrive\\Desktop\\Jersey-Number-Recognition\\data\\pre_trained_models\\reid\\dukemtmcreid_resnet50_256_128_epoch_120.ckpt`\n"
     ]
    },
    {
     "name": "stdout",
     "output_type": "stream",
     "text": [
      "2025-03-23 11:45:53 [INFO] Saving legible_tracklets to: c:\\Users\\colin\\OneDrive\\Desktop\\Jersey-Number-Recognition\\data\\SoccerNet\\jersey-2023\\processed_data\\test\\14\\legible_results.json\n",
      "2025-03-23 11:45:53 [INFO] Saved legible_tracklets to: c:\\Users\\colin\\OneDrive\\Desktop\\Jersey-Number-Recognition\\data\\SoccerNet\\jersey-2023\\processed_data\\test\\14\\legible_results.json\n",
      "2025-03-23 11:45:53 [INFO] Saving illegible_tracklets to: c:\\Users\\colin\\OneDrive\\Desktop\\Jersey-Number-Recognition\\data\\SoccerNet\\jersey-2023\\processed_data\\test\\14\\illegible_results.json\n",
      "2025-03-23 11:45:53 [INFO] Saved illegible_tracklets to: c:\\Users\\colin\\OneDrive\\Desktop\\Jersey-Number-Recognition\\data\\SoccerNet\\jersey-2023\\processed_data\\test\\14\\illegible_results.json\n",
      "2025-03-23 11:45:53 [INFO] Legibility classification complete.\n",
      "2025-03-23 11:45:53 [INFO] Determine soccer balls in image(s) using pre-trained model.\n",
      "2025-03-23 11:45:53 [INFO] Processed tracklet: 14\n",
      "2025-03-23 11:45:53 [INFO] Found 0 balls, Ball list: []\n",
      "2025-03-23 11:45:54 [INFO] Saved features for tracklet with shape (124, 2048) to c:\\Users\\colin\\OneDrive\\Desktop\\Jersey-Number-Recognition\\data\\SoccerNet\\jersey-2023\\processed_data\\test\\24\\features.npy\n",
      "2025-03-23 11:45:54 [INFO] Identifying and removing outliers by calling gaussian_outliers_streamlined.py on feature file\n"
     ]
    },
    {
     "name": "stderr",
     "output_type": "stream",
     "text": [
      "Lightning automatically upgraded your loaded checkpoint from v1.1.4 to v2.5.0.post0. To apply the upgrade to your files permanently, run `python -m pytorch_lightning.utilities.upgrade_checkpoint c:\\Users\\colin\\OneDrive\\Desktop\\Jersey-Number-Recognition\\data\\pre_trained_models\\reid\\dukemtmcreid_resnet50_256_128_epoch_120.ckpt`\n"
     ]
    },
    {
     "name": "stdout",
     "output_type": "stream",
     "text": [
      "2025-03-23 11:45:57 [INFO] \n",
      "2025-03-23 11:45:57 [INFO] Done removing outliers\n",
      "2025-03-23 11:45:57 [INFO] Running model chain on preprocessed image(s).\n",
      "2025-03-23 11:45:57 [INFO] Classifying legibility of image(s) using pre-trained model.\n",
      "2025-03-23 11:45:57 [WARNING] No soccer ball list found. Skipping exclusion of soccer balls.\n",
      "2025-03-23 11:45:57 [INFO] Path checked: c:\\Users\\colin\\OneDrive\\Desktop\\Jersey-Number-Recognition\\data\\SoccerNet\\jersey-2023\\processed_data\\test\\common_data\\soccer_ball.json\n",
      "2025-03-23 11:45:57 [INFO] Saved features for tracklet with shape (123, 2048) to c:\\Users\\colin\\OneDrive\\Desktop\\Jersey-Number-Recognition\\data\\SoccerNet\\jersey-2023\\processed_data\\test\\25\\features.npy\n",
      "2025-03-23 11:45:57 [INFO] Identifying and removing outliers by calling gaussian_outliers_streamlined.py on feature file\n"
     ]
    },
    {
     "name": "stderr",
     "output_type": "stream",
     "text": [
      "Lightning automatically upgraded your loaded checkpoint from v1.1.4 to v2.5.0.post0. To apply the upgrade to your files permanently, run `python -m pytorch_lightning.utilities.upgrade_checkpoint c:\\Users\\colin\\OneDrive\\Desktop\\Jersey-Number-Recognition\\data\\pre_trained_models\\reid\\dukemtmcreid_resnet50_256_128_epoch_120.ckpt`\n"
     ]
    },
    {
     "name": "stdout",
     "output_type": "stream",
     "text": [
      "2025-03-23 11:46:00 [INFO] Saved features for tracklet with shape (120, 2048) to c:\\Users\\colin\\OneDrive\\Desktop\\Jersey-Number-Recognition\\data\\SoccerNet\\jersey-2023\\processed_data\\test\\26\\features.npy\n",
      "2025-03-23 11:46:00 [INFO] Identifying and removing outliers by calling gaussian_outliers_streamlined.py on feature file\n"
     ]
    },
    {
     "name": "stderr",
     "output_type": "stream",
     "text": [
      "Lightning automatically upgraded your loaded checkpoint from v1.1.4 to v2.5.0.post0. To apply the upgrade to your files permanently, run `python -m pytorch_lightning.utilities.upgrade_checkpoint c:\\Users\\colin\\OneDrive\\Desktop\\Jersey-Number-Recognition\\data\\pre_trained_models\\reid\\dukemtmcreid_resnet50_256_128_epoch_120.ckpt`\n"
     ]
    },
    {
     "name": "stdout",
     "output_type": "stream",
     "text": [
      "2025-03-23 11:46:01 [INFO] Saving legible_tracklets to: c:\\Users\\colin\\OneDrive\\Desktop\\Jersey-Number-Recognition\\data\\SoccerNet\\jersey-2023\\processed_data\\test\\5\\legible_results.json\n",
      "2025-03-23 11:46:01 [INFO] Saved legible_tracklets to: c:\\Users\\colin\\OneDrive\\Desktop\\Jersey-Number-Recognition\\data\\SoccerNet\\jersey-2023\\processed_data\\test\\5\\legible_results.json\n",
      "2025-03-23 11:46:01 [INFO] Saving illegible_tracklets to: c:\\Users\\colin\\OneDrive\\Desktop\\Jersey-Number-Recognition\\data\\SoccerNet\\jersey-2023\\processed_data\\test\\5\\illegible_results.json\n",
      "2025-03-23 11:46:01 [INFO] Saved illegible_tracklets to: c:\\Users\\colin\\OneDrive\\Desktop\\Jersey-Number-Recognition\\data\\SoccerNet\\jersey-2023\\processed_data\\test\\5\\illegible_results.json\n",
      "2025-03-23 11:46:01 [INFO] Legibility classification complete.\n",
      "2025-03-23 11:46:01 [INFO] Processed tracklet: 5\n",
      "2025-03-23 11:46:03 [INFO] \n",
      "2025-03-23 11:46:03 [INFO] Done removing outliers\n",
      "2025-03-23 11:46:03 [INFO] Running model chain on preprocessed image(s).\n",
      "2025-03-23 11:46:03 [INFO] Classifying legibility of image(s) using pre-trained model.\n",
      "2025-03-23 11:46:03 [WARNING] No soccer ball list found. Skipping exclusion of soccer balls.\n",
      "2025-03-23 11:46:03 [INFO] Path checked: c:\\Users\\colin\\OneDrive\\Desktop\\Jersey-Number-Recognition\\data\\SoccerNet\\jersey-2023\\processed_data\\test\\common_data\\soccer_ball.json\n",
      "2025-03-23 11:46:06 [INFO] \n",
      "2025-03-23 11:46:06 [INFO] Done removing outliers\n",
      "2025-03-23 11:46:06 [INFO] Running model chain on preprocessed image(s).\n",
      "2025-03-23 11:46:06 [INFO] Classifying legibility of image(s) using pre-trained model.\n",
      "2025-03-23 11:46:06 [WARNING] No soccer ball list found. Skipping exclusion of soccer balls.\n",
      "2025-03-23 11:46:06 [INFO] Path checked: c:\\Users\\colin\\OneDrive\\Desktop\\Jersey-Number-Recognition\\data\\SoccerNet\\jersey-2023\\processed_data\\test\\common_data\\soccer_ball.json\n"
     ]
    }
   ],
   "source": [
    "pipeline.run_soccernet(\n",
    "  run_soccer_ball_filter=True,\n",
    "  generate_features=True,\n",
    "  run_filter=True,\n",
    "  run_legible=True,\n",
    "  run_legible_eval=True,\n",
    "  run_pose=False,\n",
    "  run_crops=False,\n",
    "  run_str=False,\n",
    "  run_combine=False,\n",
    "  run_eval=False)"
   ]
  }
 ],
 "metadata": {
  "kernelspec": {
   "display_name": "UBC",
   "language": "python",
   "name": "python3"
  },
  "language_info": {
   "codemirror_mode": {
    "name": "ipython",
    "version": 3
   },
   "file_extension": ".py",
   "mimetype": "text/x-python",
   "name": "python",
   "nbconvert_exporter": "python",
   "pygments_lexer": "ipython3",
   "version": "3.13.1"
  }
 },
 "nbformat": 4,
 "nbformat_minor": 2
}
