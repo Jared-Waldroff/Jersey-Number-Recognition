{
 "cells": [
  {
   "cell_type": "markdown",
   "metadata": {},
   "source": [
    "## Colin's Pipeline Experiments\n",
    "### Objectives:\n",
    "- Create a SingleImagePipeline so we can run fast-iteration experiments on just a single image\n",
    "- Create a CentraPipeline that calls SingleImagePipeline\n",
    "- Modularize the soccer_net_pipeline and migrate all operations to SingleImagePipeline\n",
    "- Run all systematic ops from CentralPipeline (more than one tracklet)\n",
    "\n",
    "### Main benefit from creating a `BatchImagePipeline` and a `CentralPipeline`\n",
    "Decoupling large-scale systematic training versus testing. The main pipeline trains the model, creates output processed images and does so by systematically traversing all the tracklets. I want to be able to see what pre-processing is happening to the image so I can understand what is being fed to the model. I also just want to be able to pass a single raw image to the model so I can get fast results. Right now everything is coupled together by all the tracklets, and I don't want to traverse all of them or even a single tracklet, but maybe only a single image from a single tracklet."
   ]
  },
  {
   "cell_type": "markdown",
   "metadata": {},
   "source": [
    "### Quick Run Block"
   ]
  },
  {
   "cell_type": "code",
   "execution_count": 1,
   "metadata": {},
   "outputs": [],
   "source": [
    "#pip install yacs\n",
    "#%pip install pytorch_lightning"
   ]
  },
  {
   "cell_type": "markdown",
   "metadata": {},
   "source": [
    "## Code"
   ]
  },
  {
   "cell_type": "code",
   "execution_count": 2,
   "metadata": {},
   "outputs": [
    {
     "name": "stdout",
     "output_type": "stream",
     "text": [
      "c:\\Users\\colin\\OneDrive\\Desktop\\UBC\\Jersey-Number-Recognition\n",
      "Current working directory:  c:\\Users\\colin\\OneDrive\\Desktop\\UBC\\Jersey-Number-Recognition\\ModelDevelopment\\experiments\n"
     ]
    }
   ],
   "source": [
    "import sys\n",
    "from pathlib import Path\n",
    "import os\n",
    "\n",
    "sys.path.append(str(Path.cwd().parent.parent))\n",
    "print(str(Path.cwd().parent.parent))\n",
    "print(\"Current working directory: \", os.getcwd())\n",
    "\n",
    "from ModelDevelopment.CentralPipeline import CentralPipeline\n",
    "from ModelDevelopment.ImageBatchPipeline import ImageBatchPipeline\n",
    "from DataProcessing.DataPreProcessing import DataPaths"
   ]
  },
  {
   "cell_type": "code",
   "execution_count": 3,
   "metadata": {},
   "outputs": [
    {
     "name": "stdout",
     "output_type": "stream",
     "text": [
      "2025-03-06 20:32:51 [INFO] DataPreProcessing initialized. Universe of available data paths:\n",
      "2025-03-06 20:32:51 [INFO] ROOT_DATA_DIR: c:\\Users\\colin\\OneDrive\\Desktop\\UBC\\Jersey-Number-Recognition\\data\\SoccerNet\\jersey-2023\\extracted\n",
      "2025-03-06 20:32:51 [INFO] TEST_DATA_DIR: c:\\Users\\colin\\OneDrive\\Desktop\\UBC\\Jersey-Number-Recognition\\data\\SoccerNet\\jersey-2023\\extracted\\test\\images\n",
      "2025-03-06 20:32:51 [INFO] TRAIN_DATA_DIR: c:\\Users\\colin\\OneDrive\\Desktop\\UBC\\Jersey-Number-Recognition\\data\\SoccerNet\\jersey-2023\\extracted\\train\\images\n",
      "2025-03-06 20:32:51 [INFO] CHALLENGE_DATA_DIR: c:\\Users\\colin\\OneDrive\\Desktop\\UBC\\Jersey-Number-Recognition\\data\\SoccerNet\\jersey-2023\\extracted\\challenge\\images\n",
      "2025-03-06 20:32:51 [INFO] PRE_TRAINED_MODELS_DIR: c:\\Users\\colin\\OneDrive\\Desktop\\UBC\\Jersey-Number-Recognition\\data\\pre_trained_models\n",
      "2025-03-06 20:32:51 [INFO] REID_PRE_TRAINED: c:\\Users\\colin\\OneDrive\\Desktop\\UBC\\Jersey-Number-Recognition\\data\\pre_trained_models\\reid\n",
      "2025-03-06 20:32:51 [INFO] REID_MODEL_1: c:\\Users\\colin\\OneDrive\\Desktop\\UBC\\Jersey-Number-Recognition\\data\\pre_trained_models\\reid\\dukemtmcreid_resnet50_256_128_epoch_120.ckpt\n",
      "2025-03-06 20:32:51 [INFO] REID_MODEL_2: c:\\Users\\colin\\OneDrive\\Desktop\\UBC\\Jersey-Number-Recognition\\data\\pre_trained_models\\reid\\market1501_resnet50_256_128_epoch_120.ckpt\n",
      "2025-03-06 20:32:51 [INFO] REID_CONFIG_YAML: c:\\Users\\colin\\OneDrive\\Desktop\\UBC\\Jersey-Number-Recognition\\data\\pre_trained_models\\reid\\configs\\256_resnet50.yml\n",
      "2025-03-06 20:32:51 [INFO] RESNET_MODEL: c:\\Users\\colin\\OneDrive\\Desktop\\UBC\\Jersey-Number-Recognition\\data\\pre_trained_models\\resnet\\legibility_resnet34_soccer_20240215.pth\n",
      "2025-03-06 20:32:51 [INFO] PROCESSED_DATA_OUTPUT_DIR: c:\\Users\\colin\\OneDrive\\Desktop\\UBC\\Jersey-Number-Recognition\\data\\SoccerNet\\jersey-2023\\processed_data\n",
      "2025-03-06 20:32:51 [INFO] PROCESSED_DATA_OUTPUT_DIR_TRAIN: c:\\Users\\colin\\OneDrive\\Desktop\\UBC\\Jersey-Number-Recognition\\data\\SoccerNet\\jersey-2023\\processed_data\\train\n",
      "2025-03-06 20:32:51 [INFO] PROCESSED_DATA_OUTPUT_DIR_TEST: c:\\Users\\colin\\OneDrive\\Desktop\\UBC\\Jersey-Number-Recognition\\data\\SoccerNet\\jersey-2023\\processed_data\\test\n",
      "2025-03-06 20:32:51 [INFO] PROCESSED_DATA_OUTPUT_DIR_CHALLENGE: c:\\Users\\colin\\OneDrive\\Desktop\\UBC\\Jersey-Number-Recognition\\data\\SoccerNet\\jersey-2023\\processed_data\\challenge\n",
      "2025-03-06 20:32:51 [INFO] STREAMLINED_PIPELINE: c:\\Users\\colin\\OneDrive\\Desktop\\UBC\\Jersey-Number-Recognition\\StreamlinedPipelineScripts\n",
      "2025-03-06 20:32:51 [INFO] ['0', '1', '2', '3', '4', '5', '6', '7', '8', '9']\n",
      "2025-03-06 20:32:51 [INFO] Min tracklet: 0\n",
      "2025-03-06 20:32:51 [INFO] Max tracklet: 1426\n",
      "2025-03-06 20:32:51 [INFO] Using device: cuda\n",
      "2025-03-06 20:32:51 [INFO] ['0', '1', '2', '3', '4', '5', '6', '7', '8', '9']\n",
      "2025-03-06 20:32:51 [INFO] Min tracklet: 0\n",
      "2025-03-06 20:32:51 [INFO] Max tracklet: 1426\n"
     ]
    }
   ],
   "source": [
    "pipeline = CentralPipeline(\n",
    "  input_data_path=DataPaths.TRAIN_DATA_DIR.value,\n",
    "  output_processed_data_path=DataPaths.PROCESSED_DATA_OUTPUT_DIR_TRAIN.value,\n",
    "  single_image_pipeline=False,\n",
    "  display_transformed_image_sample=True,\n",
    "  num_image_samples=1,\n",
    "  use_cache=False,\n",
    "  suppress_logging=False\n",
    "  )"
   ]
  },
  {
   "cell_type": "code",
   "execution_count": null,
   "metadata": {},
   "outputs": [
    {
     "name": "stdout",
     "output_type": "stream",
     "text": [
      "2025-03-06 20:32:51 [INFO] Running the SoccerNet pipeline.\n",
      "2025-03-06 20:32:51 [INFO] Using single-process GPU mode to generate features.\n"
     ]
    },
    {
     "data": {
      "application/vnd.jupyter.widget-view+json": {
       "model_id": "f1f5eab7a0b24d329c9ff9675ab6e997",
       "version_major": 2,
       "version_minor": 0
      },
      "text/plain": [
       "Loading tracklets (GPU):   0%|          | 0/1 [00:00<?, ?it/s]"
      ]
     },
     "metadata": {},
     "output_type": "display_data"
    },
    {
     "name": "stderr",
     "output_type": "stream",
     "text": [
      "Central Pipeline Progress:   0%|          | 0/1 [00:00<?, ?it/s]"
     ]
    },
    {
     "name": "stdout",
     "output_type": "stream",
     "text": [
      "2025-03-06 20:32:52 [INFO] Removed cached tracklet feature file (use_cache: False): c:\\Users\\colin\\OneDrive\\Desktop\\UBC\\Jersey-Number-Recognition\\data\\SoccerNet\\jersey-2023\\processed_data\\train\\0\\features.npy\n"
     ]
    },
    {
     "name": "stderr",
     "output_type": "stream",
     "text": [
      "c:\\Users\\colin\\miniconda3\\envs\\UBC\\Lib\\site-packages\\pytorch_lightning\\utilities\\migration\\migration.py:208: You have multiple `ModelCheckpoint` callback states in this checkpoint, but we found state keys that would end up colliding with each other after an upgrade, which means we can't differentiate which of your checkpoint callbacks needs which states. At least one of your `ModelCheckpoint` callbacks will not be able to reload the state.\n",
      "Lightning automatically upgraded your loaded checkpoint from v1.1.4 to v2.5.0.post0. To apply the upgrade to your files permanently, run `python -m pytorch_lightning.utilities.upgrade_checkpoint c:\\Users\\colin\\OneDrive\\Desktop\\UBC\\Jersey-Number-Recognition\\data\\pre_trained_models\\reid\\dukemtmcreid_resnet50_256_128_epoch_120.ckpt`\n"
     ]
    },
    {
     "name": "stdout",
     "output_type": "stream",
     "text": [
      "using GPU\n",
      "2025-03-06 20:32:54 [INFO] Saved features for tracklet with shape (1, 2048) to c:\\Users\\colin\\OneDrive\\Desktop\\UBC\\Jersey-Number-Recognition\\data\\SoccerNet\\jersey-2023\\processed_data\\train\\0\\features.npy\n",
      "2025-03-06 20:32:54 [INFO] Identifying and removing outliers by calling gaussian_outliers_streamlined.py on feature file\n"
     ]
    }
   ],
   "source": [
    "pipeline.run_soccernet(\n",
    "  num_tracklets=1,\n",
    "  num_images_per_tracklet=1)"
   ]
  }
 ],
 "metadata": {
  "kernelspec": {
   "display_name": "UBC",
   "language": "python",
   "name": "python3"
  },
  "language_info": {
   "codemirror_mode": {
    "name": "ipython",
    "version": 3
   },
   "file_extension": ".py",
   "mimetype": "text/x-python",
   "name": "python",
   "nbconvert_exporter": "python",
   "pygments_lexer": "ipython3",
   "version": "3.13.1"
  }
 },
 "nbformat": 4,
 "nbformat_minor": 2
}
