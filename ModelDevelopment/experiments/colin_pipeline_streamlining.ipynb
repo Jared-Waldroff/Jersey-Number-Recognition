{
 "cells": [
  {
   "cell_type": "markdown",
   "metadata": {},
   "source": [
    "### Quick Run Block"
   ]
  },
  {
   "cell_type": "code",
   "execution_count": 1,
   "metadata": {},
   "outputs": [],
   "source": [
    "# import torch\n",
    "\n",
    "# # Define your checkpoint file path\n",
    "# checkpoint_path = r\"c:\\Users\\colin\\OneDrive\\Desktop\\Jersey-Number-Recognition\\data\\pre_trained_models\\reid\\dukemtmcreid_resnet50_256_128_epoch_120.ckpt\"\n",
    "# new_checkpoint_path = checkpoint_path.replace(\".ckpt\", \"_updated.ckpt\")  # Save new version\n",
    "\n",
    "# # Load the checkpoint with weights_only=False\n",
    "# checkpoint = torch.load(checkpoint_path, weights_only=False)  # Ensures all data is loaded\n",
    "\n",
    "# # Save the checkpoint again in an updated format\n",
    "# torch.save(checkpoint, new_checkpoint_path)\n",
    "\n",
    "# print(f\"Checkpoint upgraded and saved to: {new_checkpoint_path}\")"
   ]
  },
  {
   "cell_type": "markdown",
   "metadata": {},
   "source": [
    "## Code"
   ]
  },
  {
   "cell_type": "code",
   "execution_count": 2,
   "metadata": {},
   "outputs": [
    {
     "name": "stdout",
     "output_type": "stream",
     "text": [
      "c:\\Users\\colin\\OneDrive\\Desktop\\Jersey-Number-Recognition\n",
      "Current working directory:  c:\\Users\\colin\\OneDrive\\Desktop\\Jersey-Number-Recognition\\ModelDevelopment\\experiments\n"
     ]
    }
   ],
   "source": [
    "import sys\n",
    "from pathlib import Path\n",
    "import os\n",
    "\n",
    "sys.path.append(str(Path.cwd().parent.parent))\n",
    "print(str(Path.cwd().parent.parent))\n",
    "print(\"Current working directory: \", os.getcwd())\n",
    "\n",
    "from ModelDevelopment.CentralPipeline import CentralPipeline\n",
    "from ModelDevelopment.ImageBatchPipeline import ImageBatchPipeline\n",
    "from DataProcessing.DataPreProcessing import DataPaths"
   ]
  },
  {
   "cell_type": "markdown",
   "metadata": {},
   "source": [
    "## Multithreaded Studies Research Findings\n",
    "- ThreadPoolExecutor works best for CentralPipeline pre-processing step (i.e. everything before run_pose)\n",
    "- Time taken to process one batch of 32 tracklets: 251 seconds => (251*32)/3600 = 2.35 hours ETA @ GPU gate = 1, image batch size = 2, num_threads = 6x3 = 18\n",
    "- By introducing an image-batch size of 2, and only offloading half of the images at a time for a given tracklet, we avoid CUDA out-of-memory issues\n",
    "- If you change the GPU gate to 2 inside ImageFeatureTransformPipeline (GPU_SEMAPHORE), you may hit some out-of-memory issues.\n",
    "- Since caching is implemented, you can try setting the gate to 2 for even faster results, and if the process crashes, keep restarting with use_cache=True"
   ]
  },
  {
   "cell_type": "code",
   "execution_count": 3,
   "metadata": {},
   "outputs": [
    {
     "name": "stdout",
     "output_type": "stream",
     "text": [
      "2025-03-23 12:09:05 [INFO] DataPreProcessing initialized. Universe of available data paths:\n",
      "2025-03-23 12:09:05 [INFO] ROOT_DATA_DIR: c:\\Users\\colin\\OneDrive\\Desktop\\Jersey-Number-Recognition\\data\\SoccerNet\\jersey-2023\\extracted\n",
      "2025-03-23 12:09:05 [INFO] TEST_DATA_GT: c:\\Users\\colin\\OneDrive\\Desktop\\Jersey-Number-Recognition\\data\\SoccerNet\\jersey-2023\\extracted\\test\\test_gt.json\n",
      "2025-03-23 12:09:05 [INFO] TRAIN_DATA_GT: c:\\Users\\colin\\OneDrive\\Desktop\\Jersey-Number-Recognition\\data\\SoccerNet\\jersey-2023\\extracted\\train\\train_gt.json\n",
      "2025-03-23 12:09:05 [INFO] TEST_DATA_DIR: c:\\Users\\colin\\OneDrive\\Desktop\\Jersey-Number-Recognition\\data\\SoccerNet\\jersey-2023\\extracted\\test\\images\n",
      "2025-03-23 12:09:05 [INFO] TRAIN_DATA_DIR: c:\\Users\\colin\\OneDrive\\Desktop\\Jersey-Number-Recognition\\data\\SoccerNet\\jersey-2023\\extracted\\train\\images\n",
      "2025-03-23 12:09:05 [INFO] CHALLENGE_DATA_DIR: c:\\Users\\colin\\OneDrive\\Desktop\\Jersey-Number-Recognition\\data\\SoccerNet\\jersey-2023\\extracted\\challenge\\images\n",
      "2025-03-23 12:09:05 [INFO] PRE_TRAINED_MODELS_DIR: c:\\Users\\colin\\OneDrive\\Desktop\\Jersey-Number-Recognition\\data\\pre_trained_models\n",
      "2025-03-23 12:09:05 [INFO] REID_PRE_TRAINED: c:\\Users\\colin\\OneDrive\\Desktop\\Jersey-Number-Recognition\\data\\pre_trained_models\\reid\n",
      "2025-03-23 12:09:05 [INFO] STR_PRE_TRAINED: c:\\Users\\colin\\OneDrive\\Desktop\\Jersey-Number-Recognition\\data\\pre_trained_models\\str\n",
      "2025-03-23 12:09:05 [INFO] STR_MODEL: c:\\Users\\colin\\OneDrive\\Desktop\\Jersey-Number-Recognition\\data\\pre_trained_models\\str\\parseq_epoch=24-step=2575-val_accuracy=95.6044-val_NED=96.3255.ckpt\n",
      "2025-03-23 12:09:05 [INFO] REID_MODEL_1: c:\\Users\\colin\\OneDrive\\Desktop\\Jersey-Number-Recognition\\data\\pre_trained_models\\reid\\dukemtmcreid_resnet50_256_128_epoch_120.ckpt\n",
      "2025-03-23 12:09:05 [INFO] REID_MODEL_2: c:\\Users\\colin\\OneDrive\\Desktop\\Jersey-Number-Recognition\\data\\pre_trained_models\\reid\\market1501_resnet50_256_128_epoch_120.ckpt\n",
      "2025-03-23 12:09:05 [INFO] REID_CONFIG_YAML: c:\\Users\\colin\\OneDrive\\Desktop\\Jersey-Number-Recognition\\data\\pre_trained_models\\reid\\configs\\256_resnet50.yml\n",
      "2025-03-23 12:09:05 [INFO] RESNET_MODEL: c:\\Users\\colin\\OneDrive\\Desktop\\Jersey-Number-Recognition\\data\\pre_trained_models\\resnet\\legibility_resnet34_soccer_20240215.pth\n",
      "2025-03-23 12:09:05 [INFO] PROCESSED_DATA_OUTPUT_DIR: c:\\Users\\colin\\OneDrive\\Desktop\\Jersey-Number-Recognition\\data\\SoccerNet\\jersey-2023\\processed_data\n",
      "2025-03-23 12:09:05 [INFO] PROCESSED_DATA_OUTPUT_DIR_TRAIN: c:\\Users\\colin\\OneDrive\\Desktop\\Jersey-Number-Recognition\\data\\SoccerNet\\jersey-2023\\processed_data\\train\n",
      "2025-03-23 12:09:05 [INFO] PROCESSED_DATA_OUTPUT_DIR_TEST: c:\\Users\\colin\\OneDrive\\Desktop\\Jersey-Number-Recognition\\data\\SoccerNet\\jersey-2023\\processed_data\\test\n",
      "2025-03-23 12:09:05 [INFO] PROCESSED_DATA_OUTPUT_DIR_CHALLENGE: c:\\Users\\colin\\OneDrive\\Desktop\\Jersey-Number-Recognition\\data\\SoccerNet\\jersey-2023\\processed_data\\challenge\n",
      "2025-03-23 12:09:05 [INFO] COMMON_PROCESSED_OUTPUT_DATA_TRAIN: c:\\Users\\colin\\OneDrive\\Desktop\\Jersey-Number-Recognition\\data\\SoccerNet\\jersey-2023\\processed_data\\train\\common_data\n",
      "2025-03-23 12:09:05 [INFO] COMMON_PROCESSED_OUTPUT_DATA_TEST: c:\\Users\\colin\\OneDrive\\Desktop\\Jersey-Number-Recognition\\data\\SoccerNet\\jersey-2023\\processed_data\\test\\common_data\n",
      "2025-03-23 12:09:05 [INFO] COMMON_PROCESSED_OUTPUT_DATA_CHALLENGE: c:\\Users\\colin\\OneDrive\\Desktop\\Jersey-Number-Recognition\\data\\SoccerNet\\jersey-2023\\processed_data\\challenge\\common_data\n",
      "2025-03-23 12:09:05 [INFO] STREAMLINED_PIPELINE: c:\\Users\\colin\\OneDrive\\Desktop\\Jersey-Number-Recognition\\StreamlinedPipelineScripts\n",
      "2025-03-23 12:09:05 [INFO] Created directory: c:\\Users\\colin\\OneDrive\\Desktop\\Jersey-Number-Recognition\\data\\SoccerNet\\jersey-2023\\processed_data\\test\n",
      "2025-03-23 12:09:05 [INFO] Created directory: c:\\Users\\colin\\OneDrive\\Desktop\\Jersey-Number-Recognition\\data\\SoccerNet\\jersey-2023\\processed_data\\test\\common_data\n",
      "2025-03-23 12:09:05 [INFO] ['0', '1', '2', '3', '4', '5', '6', '7', '8', '9']\n",
      "2025-03-23 12:09:05 [INFO] Min tracklet: 0\n",
      "2025-03-23 12:09:05 [INFO] Max tracklet: 1210\n",
      "2025-03-23 12:09:06 [INFO] Using device: cuda\n",
      "2025-03-23 12:09:06 [INFO] ['0', '1', '2', '3', '4', '5', '6', '7', '8', '9']\n",
      "2025-03-23 12:09:06 [INFO] Min tracklet: 0\n",
      "2025-03-23 12:09:06 [INFO] Max tracklet: 1210\n"
     ]
    }
   ],
   "source": [
    "# TODO: Add tracklets_override to pass a list of tracklets to process; tracklets_override=[\"8\", \"9\", \"10\"]\n",
    "# NOTE: It is recommended you delete the entire processed_data/{challenge/test/train} before running this to 100% avoid issues with old data.\n",
    "# Furthermore, you should always restart your kernel before every new run because sometimes there are problems with paths\n",
    "pipeline = CentralPipeline(\n",
    "  num_tracklets=1210,\n",
    "  #num_images_per_tracklet=1,\n",
    "  input_data_path=DataPaths.TEST_DATA_DIR.value,\n",
    "  output_processed_data_path=DataPaths.PROCESSED_DATA_OUTPUT_DIR_TEST.value,\n",
    "  common_processed_data_dir=DataPaths.COMMON_PROCESSED_OUTPUT_DATA_TEST.value,\n",
    "  gt_data_path=DataPaths.TEST_DATA_GT.value,\n",
    "  single_image_pipeline=False,\n",
    "  display_transformed_image_sample=False, # NOTE: DO NOT USE. Code is parallelized so we cannot show images anymore. Code breaks, but first one will show if True.\n",
    "  num_image_samples=1,\n",
    "  use_cache=True, # Set to false if you encounter data inconsistencies.\n",
    "  suppress_logging=False,\n",
    "  num_workers=6, # CRITICAL optimisation param. Anything more than 6 and your PC explodes.\n",
    "  tracklet_batch_size=32 # CRITICAL optimisation param. 32 is a nice spot.\n",
    "  )"
   ]
  },
  {
   "cell_type": "markdown",
   "metadata": {},
   "source": [
    "Error running gaussian_outliers_streamlined.py: Command '['python', 'c:\\\\Users\\\\colin\\\\OneDrive\\\\Desktop\\\\Jersey-Number-Recognition\\\\StreamlinedPipelineScripts\\\\gaussian_outliers.py', '--current_tracklet', '99', '--current_tracklet_images_input_dir', 'c:\\\\Users\\\\colin\\\\OneDrive\\\\Desktop\\\\Jersey-Number-Recognition\\\\data\\\\SoccerNet\\\\jersey-2023\\\\extracted\\\\test\\\\images\\\\99', '--current_tracklet_processed_data_dir', 'c:\\\\Users\\\\colin\\\\OneDrive\\\\Desktop\\\\Jersey-Number-Recognition\\\\data\\\\SoccerNet\\\\jersey-2023\\\\processed_data\\\\test\\\\99', '--common_processed_data_dir', 'c:\\\\Users\\\\colin\\\\OneDrive\\\\Desktop\\\\Jersey-Number-Recognition\\\\data\\\\SoccerNet\\\\jersey-2023\\\\processed_data\\\\test\\\\common_data', '--use_cache']' returned non-zero exit status 1."
   ]
  },
  {
   "cell_type": "code",
   "execution_count": null,
   "metadata": {},
   "outputs": [
    {
     "name": "stdout",
     "output_type": "stream",
     "text": [
      "2025-03-23 12:09:06 [INFO] Running the SoccerNet pipeline.\n"
     ]
    },
    {
     "data": {
      "application/vnd.jupyter.widget-view+json": {
       "model_id": "af1282464bb34e0f96fda107c745ecf3",
       "version_major": 2,
       "version_minor": 0
      },
      "text/plain": [
       "  0%|          | 0/38 [00:00<?, ?it/s]"
      ]
     },
     "metadata": {},
     "output_type": "display_data"
    },
    {
     "name": "stdout",
     "output_type": "stream",
     "text": [
      "2025-03-23 12:09:06 [INFO] Using double parallelization: multiprocessing + CUDA batch processing.\n"
     ]
    },
    {
     "data": {
      "application/vnd.jupyter.widget-view+json": {
       "model_id": "7163c77b9eec499186c1053afd324ef5",
       "version_major": 2,
       "version_minor": 0
      },
      "text/plain": [
       "Processing tracklets (CUDA + CPU):   0%|          | 0/32 [00:00<?, ?it/s]"
      ]
     },
     "metadata": {},
     "output_type": "display_data"
    },
    {
     "name": "stdout",
     "output_type": "stream",
     "text": [
      "2025-03-23 12:09:22 [INFO] DEBUG: Number of images per tracklet in batch: 465\n",
      "2025-03-23 12:09:22 [INFO] Creating placeholder data files for Soccer Ball Filter.\n",
      "2025-03-23 12:09:22 [INFO] Creating placeholder data files for Legibility Classifier.\n",
      "2025-03-23 12:09:22 [INFO] DEBUG: Just before getting args for workers\n",
      "2025-03-23 12:09:22 [INFO] Determine soccer balls in image(s) using pre-trained model.\n",
      "2025-03-23 12:09:22 [INFO] Determine soccer balls in image(s) using pre-trained model.\n",
      "2025-03-23 12:09:22 [INFO] Determine soccer balls in image(s) using pre-trained model.\n",
      "2025-03-23 12:09:22 [INFO] Determine soccer balls in image(s) using pre-trained model.\n",
      "2025-03-23 12:09:22 [INFO] Determine soccer balls in image(s) using pre-trained model.\n",
      "2025-03-23 12:09:22 [INFO] Determine soccer balls in image(s) using pre-trained model.\n",
      "2025-03-23 12:09:22 [INFO] Determine soccer balls in image(s) using pre-trained model.\n",
      "2025-03-23 12:09:22 [INFO] Determine soccer balls in image(s) using pre-trained model.\n",
      "2025-03-23 12:09:22 [INFO] Determine soccer balls in image(s) using pre-trained model.\n",
      "2025-03-23 12:09:22 [INFO] Determine soccer balls in image(s) using pre-trained model.\n",
      "2025-03-23 12:09:22 [INFO] Determine soccer balls in image(s) using pre-trained model.\n",
      "2025-03-23 12:09:22 [INFO] Determine soccer balls in image(s) using pre-trained model.\n",
      "2025-03-23 12:09:22 [INFO] Determine soccer balls in image(s) using pre-trained model.\n",
      "2025-03-23 12:09:22 [INFO] Determine soccer balls in image(s) using pre-trained model.\n",
      "2025-03-23 12:09:22 [INFO] Determine soccer balls in image(s) using pre-trained model.\n",
      "2025-03-23 12:09:22 [INFO] Determine soccer balls in image(s) using pre-trained model.\n",
      "2025-03-23 12:09:22 [INFO] Determine soccer balls in image(s) using pre-trained model.\n",
      "2025-03-23 12:09:22 [INFO] Determine soccer balls in image(s) using pre-trained model.\n"
     ]
    },
    {
     "data": {
      "application/vnd.jupyter.widget-view+json": {
       "model_id": "80e1031ca806423bb1c7fc2aefe3b907",
       "version_major": 2,
       "version_minor": 0
      },
      "text/plain": [
       "Processing Batch Tracklets (0-32):   0%|          | 0/32 [00:00<?, ?it/s]"
      ]
     },
     "metadata": {},
     "output_type": "display_data"
    },
    {
     "name": "stdout",
     "output_type": "stream",
     "text": [
      "2025-03-23 12:09:22 [INFO] Found 0 balls, Ball list: []\n",
      "2025-03-23 12:09:22 [INFO] Found 0 balls, Ball list: []\n",
      "2025-03-23 12:09:22 [INFO] Found 0 balls, Ball list: []\n",
      "2025-03-23 12:09:22 [INFO] Found 0 balls, Ball list: []\n",
      "2025-03-23 12:09:22 [INFO] Found 0 balls, Ball list: []\n",
      "2025-03-23 12:09:22 [INFO] Found 0 balls, Ball list: []\n",
      "2025-03-23 12:09:22 [INFO] Found 0 balls, Ball list: []\n",
      "2025-03-23 12:09:22 [INFO] Found 0 balls, Ball list: []\n",
      "2025-03-23 12:09:22 [INFO] Found 0 balls, Ball list: []\n",
      "2025-03-23 12:09:22 [INFO] Found 0 balls, Ball list: []\n",
      "2025-03-23 12:09:23 [INFO] Found 0 balls, Ball list: []\n",
      "2025-03-23 12:09:23 [INFO] Found 0 balls, Ball list: []\n",
      "2025-03-23 12:09:23 [INFO] Found 0 balls, Ball list: []\n",
      "2025-03-23 12:09:23 [INFO] Found 0 balls, Ball list: []\n",
      "2025-03-23 12:09:23 [INFO] Found 0 balls, Ball list: []\n",
      "2025-03-23 12:09:23 [INFO] Found 0 balls, Ball list: []\n",
      "2025-03-23 12:09:23 [INFO] Found 0 balls, Ball list: []\n",
      "2025-03-23 12:09:23 [INFO] Found 0 balls, Ball list: []\n"
     ]
    },
    {
     "name": "stderr",
     "output_type": "stream",
     "text": [
      "c:\\Users\\colin\\miniconda3\\envs\\UBC\\Lib\\site-packages\\pytorch_lightning\\utilities\\migration\\migration.py:208: You have multiple `ModelCheckpoint` callback states in this checkpoint, but we found state keys that would end up colliding with each other after an upgrade, which means we can't differentiate which of your checkpoint callbacks needs which states. At least one of your `ModelCheckpoint` callbacks will not be able to reload the state.\n",
      "Lightning automatically upgraded your loaded checkpoint from v1.1.4 to v2.5.0.post0. To apply the upgrade to your files permanently, run `python -m pytorch_lightning.utilities.upgrade_checkpoint c:\\Users\\colin\\OneDrive\\Desktop\\Jersey-Number-Recognition\\data\\pre_trained_models\\reid\\dukemtmcreid_resnet50_256_128_epoch_120.ckpt`\n"
     ]
    },
    {
     "name": "stdout",
     "output_type": "stream",
     "text": [
      "2025-03-23 12:09:26 [INFO] Saved features for tracklet with shape (465, 2048) to c:\\Users\\colin\\OneDrive\\Desktop\\Jersey-Number-Recognition\\data\\SoccerNet\\jersey-2023\\processed_data\\test\\0\\features.npy\n",
      "2025-03-23 12:09:26 [INFO] Identifying and removing outliers by calling gaussian_outliers_streamlined.py on feature file\n"
     ]
    },
    {
     "name": "stderr",
     "output_type": "stream",
     "text": [
      "Lightning automatically upgraded your loaded checkpoint from v1.1.4 to v2.5.0.post0. To apply the upgrade to your files permanently, run `python -m pytorch_lightning.utilities.upgrade_checkpoint c:\\Users\\colin\\OneDrive\\Desktop\\Jersey-Number-Recognition\\data\\pre_trained_models\\reid\\dukemtmcreid_resnet50_256_128_epoch_120.ckpt`\n"
     ]
    },
    {
     "name": "stdout",
     "output_type": "stream",
     "text": [
      "2025-03-23 12:09:29 [INFO] Saved features for tracklet with shape (354, 2048) to c:\\Users\\colin\\OneDrive\\Desktop\\Jersey-Number-Recognition\\data\\SoccerNet\\jersey-2023\\processed_data\\test\\1\\features.npy\n",
      "2025-03-23 12:09:29 [INFO] Identifying and removing outliers by calling gaussian_outliers_streamlined.py on feature file\n"
     ]
    },
    {
     "name": "stderr",
     "output_type": "stream",
     "text": [
      "Lightning automatically upgraded your loaded checkpoint from v1.1.4 to v2.5.0.post0. To apply the upgrade to your files permanently, run `python -m pytorch_lightning.utilities.upgrade_checkpoint c:\\Users\\colin\\OneDrive\\Desktop\\Jersey-Number-Recognition\\data\\pre_trained_models\\reid\\dukemtmcreid_resnet50_256_128_epoch_120.ckpt`\n"
     ]
    },
    {
     "name": "stdout",
     "output_type": "stream",
     "text": [
      "2025-03-23 12:09:31 [INFO] Saved features for tracklet with shape (452, 2048) to c:\\Users\\colin\\OneDrive\\Desktop\\Jersey-Number-Recognition\\data\\SoccerNet\\jersey-2023\\processed_data\\test\\12\\features.npy\n",
      "2025-03-23 12:09:31 [INFO] Identifying and removing outliers by calling gaussian_outliers_streamlined.py on feature file\n"
     ]
    },
    {
     "name": "stderr",
     "output_type": "stream",
     "text": [
      "Lightning automatically upgraded your loaded checkpoint from v1.1.4 to v2.5.0.post0. To apply the upgrade to your files permanently, run `python -m pytorch_lightning.utilities.upgrade_checkpoint c:\\Users\\colin\\OneDrive\\Desktop\\Jersey-Number-Recognition\\data\\pre_trained_models\\reid\\dukemtmcreid_resnet50_256_128_epoch_120.ckpt`\n"
     ]
    },
    {
     "name": "stdout",
     "output_type": "stream",
     "text": [
      "2025-03-23 12:09:35 [INFO] Saved features for tracklet with shape (461, 2048) to c:\\Users\\colin\\OneDrive\\Desktop\\Jersey-Number-Recognition\\data\\SoccerNet\\jersey-2023\\processed_data\\test\\3\\features.npy\n",
      "2025-03-23 12:09:36 [INFO] Identifying and removing outliers by calling gaussian_outliers_streamlined.py on feature file\n"
     ]
    },
    {
     "name": "stderr",
     "output_type": "stream",
     "text": [
      "Lightning automatically upgraded your loaded checkpoint from v1.1.4 to v2.5.0.post0. To apply the upgrade to your files permanently, run `python -m pytorch_lightning.utilities.upgrade_checkpoint c:\\Users\\colin\\OneDrive\\Desktop\\Jersey-Number-Recognition\\data\\pre_trained_models\\reid\\dukemtmcreid_resnet50_256_128_epoch_120.ckpt`\n"
     ]
    },
    {
     "name": "stdout",
     "output_type": "stream",
     "text": [
      "2025-03-23 12:09:36 [INFO] \n",
      "2025-03-23 12:09:36 [ERROR] \n",
      "2025-03-23 12:09:36 [INFO] Done removing outliers\n",
      "2025-03-23 12:09:36 [INFO] Running model chain on preprocessed image(s).\n",
      "2025-03-23 12:09:36 [INFO] Classifying legibility of image(s) using pre-trained model.\n",
      "2025-03-23 12:09:36 [WARNING] No soccer ball list found. Skipping exclusion of soccer balls.\n",
      "2025-03-23 12:09:36 [INFO] Path checked: c:\\Users\\colin\\OneDrive\\Desktop\\Jersey-Number-Recognition\\data\\SoccerNet\\jersey-2023\\processed_data\\test\\common_data\\soccer_ball.json\n"
     ]
    },
    {
     "name": "stderr",
     "output_type": "stream",
     "text": [
      "c:\\Users\\colin\\miniconda3\\envs\\UBC\\Lib\\site-packages\\torchvision\\models\\_utils.py:208: UserWarning: The parameter 'pretrained' is deprecated since 0.13 and may be removed in the future, please use 'weights' instead.\n",
      "  warnings.warn(\n",
      "c:\\Users\\colin\\miniconda3\\envs\\UBC\\Lib\\site-packages\\torchvision\\models\\_utils.py:223: UserWarning: Arguments other than a weight enum or `None` for 'weights' are deprecated since 0.13 and may be removed in the future. The current behavior is equivalent to passing `weights=ResNet34_Weights.IMAGENET1K_V1`. You can also use `weights=ResNet34_Weights.DEFAULT` to get the most up-to-date weights.\n",
      "  warnings.warn(msg)\n"
     ]
    },
    {
     "name": "stdout",
     "output_type": "stream",
     "text": [
      "2025-03-23 12:09:40 [INFO] \n",
      "2025-03-23 12:09:40 [ERROR] \n",
      "2025-03-23 12:09:40 [INFO] Done removing outliers\n",
      "2025-03-23 12:09:40 [INFO] Running model chain on preprocessed image(s).\n",
      "2025-03-23 12:09:40 [INFO] Classifying legibility of image(s) using pre-trained model.\n",
      "2025-03-23 12:09:40 [WARNING] No soccer ball list found. Skipping exclusion of soccer balls.\n",
      "2025-03-23 12:09:40 [INFO] Path checked: c:\\Users\\colin\\OneDrive\\Desktop\\Jersey-Number-Recognition\\data\\SoccerNet\\jersey-2023\\processed_data\\test\\common_data\\soccer_ball.json\n",
      "2025-03-23 12:09:42 [INFO] Saved features for tracklet with shape (490, 2048) to c:\\Users\\colin\\OneDrive\\Desktop\\Jersey-Number-Recognition\\data\\SoccerNet\\jersey-2023\\processed_data\\test\\6\\features.npy\n",
      "2025-03-23 12:09:42 [INFO] Identifying and removing outliers by calling gaussian_outliers_streamlined.py on feature file\n"
     ]
    },
    {
     "name": "stderr",
     "output_type": "stream",
     "text": [
      "Lightning automatically upgraded your loaded checkpoint from v1.1.4 to v2.5.0.post0. To apply the upgrade to your files permanently, run `python -m pytorch_lightning.utilities.upgrade_checkpoint c:\\Users\\colin\\OneDrive\\Desktop\\Jersey-Number-Recognition\\data\\pre_trained_models\\reid\\dukemtmcreid_resnet50_256_128_epoch_120.ckpt`\n"
     ]
    },
    {
     "name": "stdout",
     "output_type": "stream",
     "text": [
      "2025-03-23 12:09:46 [INFO] \n",
      "2025-03-23 12:09:46 [ERROR] \n",
      "2025-03-23 12:09:46 [INFO] Done removing outliers\n",
      "2025-03-23 12:09:46 [INFO] Running model chain on preprocessed image(s).\n",
      "2025-03-23 12:09:46 [INFO] Classifying legibility of image(s) using pre-trained model.\n",
      "2025-03-23 12:09:46 [WARNING] No soccer ball list found. Skipping exclusion of soccer balls.\n",
      "2025-03-23 12:09:46 [INFO] Path checked: c:\\Users\\colin\\OneDrive\\Desktop\\Jersey-Number-Recognition\\data\\SoccerNet\\jersey-2023\\processed_data\\test\\common_data\\soccer_ball.json\n",
      "2025-03-23 12:09:51 [INFO] Saving legible_tracklets to: c:\\Users\\colin\\OneDrive\\Desktop\\Jersey-Number-Recognition\\data\\SoccerNet\\jersey-2023\\processed_data\\test\\0\\legible_results.json\n",
      "2025-03-23 12:09:51 [INFO] Saved legible_tracklets to: c:\\Users\\colin\\OneDrive\\Desktop\\Jersey-Number-Recognition\\data\\SoccerNet\\jersey-2023\\processed_data\\test\\0\\legible_results.json\n",
      "2025-03-23 12:09:51 [INFO] Saving illegible_tracklets to: c:\\Users\\colin\\OneDrive\\Desktop\\Jersey-Number-Recognition\\data\\SoccerNet\\jersey-2023\\processed_data\\test\\0\\illegible_results.json\n",
      "2025-03-23 12:09:51 [INFO] Saved illegible_tracklets to: c:\\Users\\colin\\OneDrive\\Desktop\\Jersey-Number-Recognition\\data\\SoccerNet\\jersey-2023\\processed_data\\test\\0\\illegible_results.json\n",
      "2025-03-23 12:09:51 [INFO] Legibility classification complete.\n",
      "2025-03-23 12:09:51 [INFO] Determine soccer balls in image(s) using pre-trained model.\n",
      "2025-03-23 12:09:51 [INFO] Processed tracklet: 0\n",
      "2025-03-23 12:09:51 [INFO] Found 0 balls, Ball list: []\n",
      "2025-03-23 12:09:52 [INFO] Saved features for tracklet with shape (575, 2048) to c:\\Users\\colin\\OneDrive\\Desktop\\Jersey-Number-Recognition\\data\\SoccerNet\\jersey-2023\\processed_data\\test\\14\\features.npy\n",
      "2025-03-23 12:09:52 [INFO] Identifying and removing outliers by calling gaussian_outliers_streamlined.py on feature file\n"
     ]
    },
    {
     "name": "stderr",
     "output_type": "stream",
     "text": [
      "Lightning automatically upgraded your loaded checkpoint from v1.1.4 to v2.5.0.post0. To apply the upgrade to your files permanently, run `python -m pytorch_lightning.utilities.upgrade_checkpoint c:\\Users\\colin\\OneDrive\\Desktop\\Jersey-Number-Recognition\\data\\pre_trained_models\\reid\\dukemtmcreid_resnet50_256_128_epoch_120.ckpt`\n"
     ]
    },
    {
     "name": "stdout",
     "output_type": "stream",
     "text": [
      "2025-03-23 12:09:53 [INFO] \n",
      "2025-03-23 12:09:53 [ERROR] \n",
      "2025-03-23 12:09:53 [INFO] Done removing outliers\n",
      "2025-03-23 12:09:53 [INFO] Running model chain on preprocessed image(s).\n",
      "2025-03-23 12:09:53 [INFO] Classifying legibility of image(s) using pre-trained model.\n",
      "2025-03-23 12:09:53 [WARNING] No soccer ball list found. Skipping exclusion of soccer balls.\n",
      "2025-03-23 12:09:53 [INFO] Path checked: c:\\Users\\colin\\OneDrive\\Desktop\\Jersey-Number-Recognition\\data\\SoccerNet\\jersey-2023\\processed_data\\test\\common_data\\soccer_ball.json\n",
      "2025-03-23 12:09:56 [INFO] Saving legible_tracklets to: c:\\Users\\colin\\OneDrive\\Desktop\\Jersey-Number-Recognition\\data\\SoccerNet\\jersey-2023\\processed_data\\test\\1\\legible_results.json\n",
      "2025-03-23 12:09:56 [INFO] Saved legible_tracklets to: c:\\Users\\colin\\OneDrive\\Desktop\\Jersey-Number-Recognition\\data\\SoccerNet\\jersey-2023\\processed_data\\test\\1\\legible_results.json\n",
      "2025-03-23 12:09:56 [INFO] Saving illegible_tracklets to: c:\\Users\\colin\\OneDrive\\Desktop\\Jersey-Number-Recognition\\data\\SoccerNet\\jersey-2023\\processed_data\\test\\1\\illegible_results.json\n",
      "2025-03-23 12:09:56 [INFO] Saved illegible_tracklets to: c:\\Users\\colin\\OneDrive\\Desktop\\Jersey-Number-Recognition\\data\\SoccerNet\\jersey-2023\\processed_data\\test\\1\\illegible_results.json\n",
      "2025-03-23 12:09:56 [INFO] Legibility classification complete.\n",
      "2025-03-23 12:09:56 [INFO] Determine soccer balls in image(s) using pre-trained model.\n",
      "2025-03-23 12:09:56 [INFO] Processed tracklet: 1\n",
      "2025-03-23 12:09:56 [INFO] Found 1 balls, Ball list: ['19']\n",
      "2025-03-23 12:09:59 [INFO] \n",
      "2025-03-23 12:09:59 [ERROR] \n",
      "2025-03-23 12:09:59 [INFO] Done removing outliers\n",
      "2025-03-23 12:09:59 [INFO] Running model chain on preprocessed image(s).\n",
      "2025-03-23 12:09:59 [INFO] Classifying legibility of image(s) using pre-trained model.\n",
      "2025-03-23 12:10:00 [WARNING] No soccer ball list found. Skipping exclusion of soccer balls.\n",
      "2025-03-23 12:10:00 [INFO] Path checked: c:\\Users\\colin\\OneDrive\\Desktop\\Jersey-Number-Recognition\\data\\SoccerNet\\jersey-2023\\processed_data\\test\\common_data\\soccer_ball.json\n",
      "2025-03-23 12:10:01 [INFO] Saved features for tracklet with shape (554, 2048) to c:\\Users\\colin\\OneDrive\\Desktop\\Jersey-Number-Recognition\\data\\SoccerNet\\jersey-2023\\processed_data\\test\\15\\features.npy\n",
      "2025-03-23 12:10:01 [INFO] Identifying and removing outliers by calling gaussian_outliers_streamlined.py on feature file\n",
      "2025-03-23 12:10:01 [INFO] Saving legible_tracklets to: c:\\Users\\colin\\OneDrive\\Desktop\\Jersey-Number-Recognition\\data\\SoccerNet\\jersey-2023\\processed_data\\test\\12\\legible_results.json\n",
      "2025-03-23 12:10:01 [INFO] Saved legible_tracklets to: c:\\Users\\colin\\OneDrive\\Desktop\\Jersey-Number-Recognition\\data\\SoccerNet\\jersey-2023\\processed_data\\test\\12\\legible_results.json\n",
      "2025-03-23 12:10:01 [INFO] Saving illegible_tracklets to: c:\\Users\\colin\\OneDrive\\Desktop\\Jersey-Number-Recognition\\data\\SoccerNet\\jersey-2023\\processed_data\\test\\12\\illegible_results.json\n",
      "2025-03-23 12:10:01 [INFO] Saved illegible_tracklets to: c:\\Users\\colin\\OneDrive\\Desktop\\Jersey-Number-Recognition\\data\\SoccerNet\\jersey-2023\\processed_data\\test\\12\\illegible_results.json\n",
      "2025-03-23 12:10:01 [INFO] Legibility classification complete.\n",
      "2025-03-23 12:10:01 [INFO] Determine soccer balls in image(s) using pre-trained model.\n",
      "2025-03-23 12:10:01 [INFO] Processed tracklet: 12\n",
      "2025-03-23 12:10:01 [INFO] Found 0 balls, Ball list: []\n"
     ]
    },
    {
     "name": "stderr",
     "output_type": "stream",
     "text": [
      "Lightning automatically upgraded your loaded checkpoint from v1.1.4 to v2.5.0.post0. To apply the upgrade to your files permanently, run `python -m pytorch_lightning.utilities.upgrade_checkpoint c:\\Users\\colin\\OneDrive\\Desktop\\Jersey-Number-Recognition\\data\\pre_trained_models\\reid\\dukemtmcreid_resnet50_256_128_epoch_120.ckpt`\n"
     ]
    },
    {
     "name": "stdout",
     "output_type": "stream",
     "text": [
      "2025-03-23 12:10:06 [INFO] Saving legible_tracklets to: c:\\Users\\colin\\OneDrive\\Desktop\\Jersey-Number-Recognition\\data\\SoccerNet\\jersey-2023\\processed_data\\test\\3\\legible_results.json\n",
      "2025-03-23 12:10:06 [INFO] Saved legible_tracklets to: c:\\Users\\colin\\OneDrive\\Desktop\\Jersey-Number-Recognition\\data\\SoccerNet\\jersey-2023\\processed_data\\test\\3\\legible_results.json\n",
      "2025-03-23 12:10:06 [INFO] Saving illegible_tracklets to: c:\\Users\\colin\\OneDrive\\Desktop\\Jersey-Number-Recognition\\data\\SoccerNet\\jersey-2023\\processed_data\\test\\3\\illegible_results.json\n",
      "2025-03-23 12:10:06 [INFO] Saved illegible_tracklets to: c:\\Users\\colin\\OneDrive\\Desktop\\Jersey-Number-Recognition\\data\\SoccerNet\\jersey-2023\\processed_data\\test\\3\\illegible_results.json\n",
      "2025-03-23 12:10:06 [INFO] Legibility classification complete.\n",
      "2025-03-23 12:10:06 [INFO] Determine soccer balls in image(s) using pre-trained model.\n",
      "2025-03-23 12:10:06 [INFO] Processed tracklet: 3\n",
      "2025-03-23 12:10:06 [INFO] Found 0 balls, Ball list: []\n",
      "2025-03-23 12:10:07 [INFO] \n",
      "2025-03-23 12:10:07 [ERROR] \n",
      "2025-03-23 12:10:07 [INFO] Done removing outliers\n",
      "2025-03-23 12:10:07 [INFO] Running model chain on preprocessed image(s).\n",
      "2025-03-23 12:10:07 [INFO] Classifying legibility of image(s) using pre-trained model.\n",
      "2025-03-23 12:10:07 [WARNING] No soccer ball list found. Skipping exclusion of soccer balls.\n",
      "2025-03-23 12:10:07 [INFO] Path checked: c:\\Users\\colin\\OneDrive\\Desktop\\Jersey-Number-Recognition\\data\\SoccerNet\\jersey-2023\\processed_data\\test\\common_data\\soccer_ball.json\n",
      "2025-03-23 12:10:08 [INFO] Saved features for tracklet with shape (549, 2048) to c:\\Users\\colin\\OneDrive\\Desktop\\Jersey-Number-Recognition\\data\\SoccerNet\\jersey-2023\\processed_data\\test\\10\\features.npy\n",
      "2025-03-23 12:10:08 [INFO] Identifying and removing outliers by calling gaussian_outliers_streamlined.py on feature file\n"
     ]
    },
    {
     "name": "stderr",
     "output_type": "stream",
     "text": [
      "Lightning automatically upgraded your loaded checkpoint from v1.1.4 to v2.5.0.post0. To apply the upgrade to your files permanently, run `python -m pytorch_lightning.utilities.upgrade_checkpoint c:\\Users\\colin\\OneDrive\\Desktop\\Jersey-Number-Recognition\\data\\pre_trained_models\\reid\\dukemtmcreid_resnet50_256_128_epoch_120.ckpt`\n"
     ]
    },
    {
     "name": "stdout",
     "output_type": "stream",
     "text": [
      "2025-03-23 12:10:12 [INFO] Saving legible_tracklets to: c:\\Users\\colin\\OneDrive\\Desktop\\Jersey-Number-Recognition\\data\\SoccerNet\\jersey-2023\\processed_data\\test\\6\\legible_results.json\n",
      "2025-03-23 12:10:12 [INFO] Saved legible_tracklets to: c:\\Users\\colin\\OneDrive\\Desktop\\Jersey-Number-Recognition\\data\\SoccerNet\\jersey-2023\\processed_data\\test\\6\\legible_results.json\n",
      "2025-03-23 12:10:12 [INFO] Saving illegible_tracklets to: c:\\Users\\colin\\OneDrive\\Desktop\\Jersey-Number-Recognition\\data\\SoccerNet\\jersey-2023\\processed_data\\test\\6\\illegible_results.json\n",
      "2025-03-23 12:10:12 [INFO] Saved illegible_tracklets to: c:\\Users\\colin\\OneDrive\\Desktop\\Jersey-Number-Recognition\\data\\SoccerNet\\jersey-2023\\processed_data\\test\\6\\illegible_results.json\n",
      "2025-03-23 12:10:12 [INFO] Legibility classification complete.\n",
      "2025-03-23 12:10:12 [INFO] Determine soccer balls in image(s) using pre-trained model.\n",
      "2025-03-23 12:10:12 [INFO] Found 0 balls, Ball list: []\n",
      "2025-03-23 12:10:14 [INFO] \n",
      "2025-03-23 12:10:14 [ERROR] \n",
      "2025-03-23 12:10:14 [INFO] Done removing outliers\n",
      "2025-03-23 12:10:14 [INFO] Running model chain on preprocessed image(s).\n",
      "2025-03-23 12:10:14 [INFO] Classifying legibility of image(s) using pre-trained model.\n",
      "2025-03-23 12:10:14 [WARNING] No soccer ball list found. Skipping exclusion of soccer balls.\n",
      "2025-03-23 12:10:14 [INFO] Path checked: c:\\Users\\colin\\OneDrive\\Desktop\\Jersey-Number-Recognition\\data\\SoccerNet\\jersey-2023\\processed_data\\test\\common_data\\soccer_ball.json\n",
      "2025-03-23 12:10:15 [INFO] Saved features for tracklet with shape (664, 2048) to c:\\Users\\colin\\OneDrive\\Desktop\\Jersey-Number-Recognition\\data\\SoccerNet\\jersey-2023\\processed_data\\test\\17\\features.npy\n",
      "2025-03-23 12:10:15 [INFO] Identifying and removing outliers by calling gaussian_outliers_streamlined.py on feature file\n"
     ]
    },
    {
     "name": "stderr",
     "output_type": "stream",
     "text": [
      "Lightning automatically upgraded your loaded checkpoint from v1.1.4 to v2.5.0.post0. To apply the upgrade to your files permanently, run `python -m pytorch_lightning.utilities.upgrade_checkpoint c:\\Users\\colin\\OneDrive\\Desktop\\Jersey-Number-Recognition\\data\\pre_trained_models\\reid\\dukemtmcreid_resnet50_256_128_epoch_120.ckpt`\n"
     ]
    },
    {
     "name": "stdout",
     "output_type": "stream",
     "text": [
      "2025-03-23 12:10:19 [INFO] Saving legible_tracklets to: c:\\Users\\colin\\OneDrive\\Desktop\\Jersey-Number-Recognition\\data\\SoccerNet\\jersey-2023\\processed_data\\test\\14\\legible_results.json\n",
      "2025-03-23 12:10:19 [INFO] Saved legible_tracklets to: c:\\Users\\colin\\OneDrive\\Desktop\\Jersey-Number-Recognition\\data\\SoccerNet\\jersey-2023\\processed_data\\test\\14\\legible_results.json\n",
      "2025-03-23 12:10:19 [INFO] Saving illegible_tracklets to: c:\\Users\\colin\\OneDrive\\Desktop\\Jersey-Number-Recognition\\data\\SoccerNet\\jersey-2023\\processed_data\\test\\14\\illegible_results.json\n",
      "2025-03-23 12:10:19 [INFO] Saved illegible_tracklets to: c:\\Users\\colin\\OneDrive\\Desktop\\Jersey-Number-Recognition\\data\\SoccerNet\\jersey-2023\\processed_data\\test\\14\\illegible_results.json\n",
      "2025-03-23 12:10:19 [INFO] Legibility classification complete.\n",
      "2025-03-23 12:10:19 [INFO] Determine soccer balls in image(s) using pre-trained model.\n",
      "2025-03-23 12:10:19 [INFO] Processed tracklet: 14\n",
      "2025-03-23 12:10:19 [INFO] Found 0 balls, Ball list: []\n",
      "2025-03-23 12:10:20 [INFO] Saved features for tracklet with shape (311, 2048) to c:\\Users\\colin\\OneDrive\\Desktop\\Jersey-Number-Recognition\\data\\SoccerNet\\jersey-2023\\processed_data\\test\\4\\features.npy\n",
      "2025-03-23 12:10:20 [INFO] Identifying and removing outliers by calling gaussian_outliers_streamlined.py on feature file\n"
     ]
    },
    {
     "name": "stderr",
     "output_type": "stream",
     "text": [
      "Lightning automatically upgraded your loaded checkpoint from v1.1.4 to v2.5.0.post0. To apply the upgrade to your files permanently, run `python -m pytorch_lightning.utilities.upgrade_checkpoint c:\\Users\\colin\\OneDrive\\Desktop\\Jersey-Number-Recognition\\data\\pre_trained_models\\reid\\dukemtmcreid_resnet50_256_128_epoch_120.ckpt`\n"
     ]
    },
    {
     "name": "stdout",
     "output_type": "stream",
     "text": [
      "2025-03-23 12:10:21 [INFO] \n",
      "2025-03-23 12:10:21 [ERROR] \n",
      "2025-03-23 12:10:21 [INFO] Done removing outliers\n",
      "2025-03-23 12:10:21 [INFO] Running model chain on preprocessed image(s).\n",
      "2025-03-23 12:10:21 [INFO] Classifying legibility of image(s) using pre-trained model.\n",
      "2025-03-23 12:10:21 [WARNING] No soccer ball list found. Skipping exclusion of soccer balls.\n",
      "2025-03-23 12:10:21 [INFO] Path checked: c:\\Users\\colin\\OneDrive\\Desktop\\Jersey-Number-Recognition\\data\\SoccerNet\\jersey-2023\\processed_data\\test\\common_data\\soccer_ball.json\n",
      "2025-03-23 12:10:26 [INFO] Saving legible_tracklets to: c:\\Users\\colin\\OneDrive\\Desktop\\Jersey-Number-Recognition\\data\\SoccerNet\\jersey-2023\\processed_data\\test\\15\\legible_results.json\n",
      "2025-03-23 12:10:26 [INFO] Saved legible_tracklets to: c:\\Users\\colin\\OneDrive\\Desktop\\Jersey-Number-Recognition\\data\\SoccerNet\\jersey-2023\\processed_data\\test\\15\\legible_results.json\n",
      "2025-03-23 12:10:26 [INFO] Saving illegible_tracklets to: c:\\Users\\colin\\OneDrive\\Desktop\\Jersey-Number-Recognition\\data\\SoccerNet\\jersey-2023\\processed_data\\test\\15\\illegible_results.json\n",
      "2025-03-23 12:10:26 [INFO] Saved illegible_tracklets to: c:\\Users\\colin\\OneDrive\\Desktop\\Jersey-Number-Recognition\\data\\SoccerNet\\jersey-2023\\processed_data\\test\\15\\illegible_results.json\n",
      "2025-03-23 12:10:26 [INFO] Legibility classification complete.\n",
      "2025-03-23 12:10:26 [INFO] Determine soccer balls in image(s) using pre-trained model.\n",
      "2025-03-23 12:10:26 [INFO] Processed tracklet: 15\n",
      "2025-03-23 12:10:26 [INFO] Found 0 balls, Ball list: []\n",
      "2025-03-23 12:10:27 [INFO] Saved features for tracklet with shape (544, 2048) to c:\\Users\\colin\\OneDrive\\Desktop\\Jersey-Number-Recognition\\data\\SoccerNet\\jersey-2023\\processed_data\\test\\8\\features.npy\n",
      "2025-03-23 12:10:27 [INFO] Identifying and removing outliers by calling gaussian_outliers_streamlined.py on feature file\n"
     ]
    },
    {
     "name": "stderr",
     "output_type": "stream",
     "text": [
      "Lightning automatically upgraded your loaded checkpoint from v1.1.4 to v2.5.0.post0. To apply the upgrade to your files permanently, run `python -m pytorch_lightning.utilities.upgrade_checkpoint c:\\Users\\colin\\OneDrive\\Desktop\\Jersey-Number-Recognition\\data\\pre_trained_models\\reid\\dukemtmcreid_resnet50_256_128_epoch_120.ckpt`\n"
     ]
    },
    {
     "name": "stdout",
     "output_type": "stream",
     "text": [
      "2025-03-23 12:10:29 [INFO] \n",
      "2025-03-23 12:10:29 [ERROR] \n",
      "2025-03-23 12:10:29 [INFO] Done removing outliers\n",
      "2025-03-23 12:10:29 [INFO] Running model chain on preprocessed image(s).\n",
      "2025-03-23 12:10:29 [INFO] Classifying legibility of image(s) using pre-trained model.\n",
      "2025-03-23 12:10:29 [WARNING] No soccer ball list found. Skipping exclusion of soccer balls.\n",
      "2025-03-23 12:10:29 [INFO] Path checked: c:\\Users\\colin\\OneDrive\\Desktop\\Jersey-Number-Recognition\\data\\SoccerNet\\jersey-2023\\processed_data\\test\\common_data\\soccer_ball.json\n",
      "2025-03-23 12:10:32 [INFO] Saved features for tracklet with shape (467, 2048) to c:\\Users\\colin\\OneDrive\\Desktop\\Jersey-Number-Recognition\\data\\SoccerNet\\jersey-2023\\processed_data\\test\\13\\features.npy\n",
      "2025-03-23 12:10:32 [INFO] Identifying and removing outliers by calling gaussian_outliers_streamlined.py on feature file\n",
      "2025-03-23 12:10:32 [INFO] Saving legible_tracklets to: c:\\Users\\colin\\OneDrive\\Desktop\\Jersey-Number-Recognition\\data\\SoccerNet\\jersey-2023\\processed_data\\test\\10\\legible_results.json\n",
      "2025-03-23 12:10:33 [INFO] Saved legible_tracklets to: c:\\Users\\colin\\OneDrive\\Desktop\\Jersey-Number-Recognition\\data\\SoccerNet\\jersey-2023\\processed_data\\test\\10\\legible_results.json\n",
      "2025-03-23 12:10:33 [INFO] Saving illegible_tracklets to: c:\\Users\\colin\\OneDrive\\Desktop\\Jersey-Number-Recognition\\data\\SoccerNet\\jersey-2023\\processed_data\\test\\10\\illegible_results.json\n",
      "2025-03-23 12:10:33 [INFO] Saved illegible_tracklets to: c:\\Users\\colin\\OneDrive\\Desktop\\Jersey-Number-Recognition\\data\\SoccerNet\\jersey-2023\\processed_data\\test\\10\\illegible_results.json\n",
      "2025-03-23 12:10:33 [INFO] Legibility classification complete.\n",
      "2025-03-23 12:10:33 [INFO] Determine soccer balls in image(s) using pre-trained model.\n",
      "2025-03-23 12:10:33 [INFO] Processed tracklet: 10\n",
      "2025-03-23 12:10:33 [INFO] Found 0 balls, Ball list: []\n",
      "2025-03-23 12:10:33 [INFO] \n",
      "2025-03-23 12:10:33 [ERROR] \n",
      "2025-03-23 12:10:33 [INFO] Done removing outliers\n",
      "2025-03-23 12:10:33 [INFO] Running model chain on preprocessed image(s).\n",
      "2025-03-23 12:10:33 [INFO] Classifying legibility of image(s) using pre-trained model.\n",
      "2025-03-23 12:10:33 [WARNING] No soccer ball list found. Skipping exclusion of soccer balls.\n",
      "2025-03-23 12:10:33 [INFO] Path checked: c:\\Users\\colin\\OneDrive\\Desktop\\Jersey-Number-Recognition\\data\\SoccerNet\\jersey-2023\\processed_data\\test\\common_data\\soccer_ball.json\n"
     ]
    },
    {
     "name": "stderr",
     "output_type": "stream",
     "text": [
      "Lightning automatically upgraded your loaded checkpoint from v1.1.4 to v2.5.0.post0. To apply the upgrade to your files permanently, run `python -m pytorch_lightning.utilities.upgrade_checkpoint c:\\Users\\colin\\OneDrive\\Desktop\\Jersey-Number-Recognition\\data\\pre_trained_models\\reid\\dukemtmcreid_resnet50_256_128_epoch_120.ckpt`\n"
     ]
    },
    {
     "name": "stdout",
     "output_type": "stream",
     "text": [
      "2025-03-23 12:10:37 [INFO] Saved features for tracklet with shape (601, 2048) to c:\\Users\\colin\\OneDrive\\Desktop\\Jersey-Number-Recognition\\data\\SoccerNet\\jersey-2023\\processed_data\\test\\18\\features.npy\n",
      "2025-03-23 12:10:37 [INFO] Identifying and removing outliers by calling gaussian_outliers_streamlined.py on feature file\n"
     ]
    },
    {
     "name": "stderr",
     "output_type": "stream",
     "text": [
      "Lightning automatically upgraded your loaded checkpoint from v1.1.4 to v2.5.0.post0. To apply the upgrade to your files permanently, run `python -m pytorch_lightning.utilities.upgrade_checkpoint c:\\Users\\colin\\OneDrive\\Desktop\\Jersey-Number-Recognition\\data\\pre_trained_models\\reid\\dukemtmcreid_resnet50_256_128_epoch_120.ckpt`\n"
     ]
    },
    {
     "name": "stdout",
     "output_type": "stream",
     "text": [
      "2025-03-23 12:10:39 [INFO] \n",
      "2025-03-23 12:10:39 [ERROR] \n",
      "2025-03-23 12:10:39 [INFO] Done removing outliers\n",
      "2025-03-23 12:10:39 [INFO] Running model chain on preprocessed image(s).\n",
      "2025-03-23 12:10:39 [INFO] Classifying legibility of image(s) using pre-trained model.\n",
      "2025-03-23 12:10:39 [WARNING] No soccer ball list found. Skipping exclusion of soccer balls.\n",
      "2025-03-23 12:10:39 [INFO] Path checked: c:\\Users\\colin\\OneDrive\\Desktop\\Jersey-Number-Recognition\\data\\SoccerNet\\jersey-2023\\processed_data\\test\\common_data\\soccer_ball.json\n",
      "2025-03-23 12:10:44 [INFO] Saving legible_tracklets to: c:\\Users\\colin\\OneDrive\\Desktop\\Jersey-Number-Recognition\\data\\SoccerNet\\jersey-2023\\processed_data\\test\\4\\legible_results.json\n",
      "2025-03-23 12:10:44 [INFO] Saved legible_tracklets to: c:\\Users\\colin\\OneDrive\\Desktop\\Jersey-Number-Recognition\\data\\SoccerNet\\jersey-2023\\processed_data\\test\\4\\legible_results.json\n",
      "2025-03-23 12:10:44 [INFO] Saving illegible_tracklets to: c:\\Users\\colin\\OneDrive\\Desktop\\Jersey-Number-Recognition\\data\\SoccerNet\\jersey-2023\\processed_data\\test\\4\\illegible_results.json\n",
      "2025-03-23 12:10:44 [INFO] Saved illegible_tracklets to: c:\\Users\\colin\\OneDrive\\Desktop\\Jersey-Number-Recognition\\data\\SoccerNet\\jersey-2023\\processed_data\\test\\4\\illegible_results.json\n",
      "2025-03-23 12:10:44 [INFO] Legibility classification complete.\n",
      "2025-03-23 12:10:44 [INFO] Determine soccer balls in image(s) using pre-trained model.\n",
      "2025-03-23 12:10:44 [INFO] Processed tracklet: 4\n",
      "2025-03-23 12:10:44 [INFO] Found 0 balls, Ball list: []\n",
      "2025-03-23 12:10:46 [INFO] Saved features for tracklet with shape (724, 2048) to c:\\Users\\colin\\OneDrive\\Desktop\\Jersey-Number-Recognition\\data\\SoccerNet\\jersey-2023\\processed_data\\test\\19\\features.npy\n",
      "2025-03-23 12:10:46 [INFO] Identifying and removing outliers by calling gaussian_outliers_streamlined.py on feature file\n",
      "2025-03-23 12:10:46 [INFO] \n",
      "2025-03-23 12:10:46 [ERROR] \n",
      "2025-03-23 12:10:46 [INFO] Done removing outliers\n",
      "2025-03-23 12:10:46 [INFO] Running model chain on preprocessed image(s).\n",
      "2025-03-23 12:10:46 [INFO] Classifying legibility of image(s) using pre-trained model.\n",
      "2025-03-23 12:10:46 [WARNING] No soccer ball list found. Skipping exclusion of soccer balls.\n",
      "2025-03-23 12:10:46 [INFO] Path checked: c:\\Users\\colin\\OneDrive\\Desktop\\Jersey-Number-Recognition\\data\\SoccerNet\\jersey-2023\\processed_data\\test\\common_data\\soccer_ball.json\n"
     ]
    },
    {
     "name": "stderr",
     "output_type": "stream",
     "text": [
      "Lightning automatically upgraded your loaded checkpoint from v1.1.4 to v2.5.0.post0. To apply the upgrade to your files permanently, run `python -m pytorch_lightning.utilities.upgrade_checkpoint c:\\Users\\colin\\OneDrive\\Desktop\\Jersey-Number-Recognition\\data\\pre_trained_models\\reid\\dukemtmcreid_resnet50_256_128_epoch_120.ckpt`\n"
     ]
    },
    {
     "name": "stdout",
     "output_type": "stream",
     "text": [
      "2025-03-23 12:10:52 [INFO] \n",
      "2025-03-23 12:10:52 [ERROR] \n",
      "2025-03-23 12:10:52 [INFO] Done removing outliers\n",
      "2025-03-23 12:10:52 [INFO] Running model chain on preprocessed image(s).\n",
      "2025-03-23 12:10:52 [INFO] Classifying legibility of image(s) using pre-trained model.\n",
      "2025-03-23 12:10:52 [WARNING] No soccer ball list found. Skipping exclusion of soccer balls.\n",
      "2025-03-23 12:10:52 [INFO] Path checked: c:\\Users\\colin\\OneDrive\\Desktop\\Jersey-Number-Recognition\\data\\SoccerNet\\jersey-2023\\processed_data\\test\\common_data\\soccer_ball.json\n",
      "2025-03-23 12:10:53 [INFO] Saving legible_tracklets to: c:\\Users\\colin\\OneDrive\\Desktop\\Jersey-Number-Recognition\\data\\SoccerNet\\jersey-2023\\processed_data\\test\\8\\legible_results.json\n",
      "2025-03-23 12:10:53 [INFO] Saved legible_tracklets to: c:\\Users\\colin\\OneDrive\\Desktop\\Jersey-Number-Recognition\\data\\SoccerNet\\jersey-2023\\processed_data\\test\\8\\legible_results.json\n",
      "2025-03-23 12:10:53 [INFO] Saving illegible_tracklets to: c:\\Users\\colin\\OneDrive\\Desktop\\Jersey-Number-Recognition\\data\\SoccerNet\\jersey-2023\\processed_data\\test\\8\\illegible_results.json\n",
      "2025-03-23 12:10:53 [INFO] Saved illegible_tracklets to: c:\\Users\\colin\\OneDrive\\Desktop\\Jersey-Number-Recognition\\data\\SoccerNet\\jersey-2023\\processed_data\\test\\8\\illegible_results.json\n",
      "2025-03-23 12:10:53 [INFO] Legibility classification complete.\n",
      "2025-03-23 12:10:53 [INFO] Determine soccer balls in image(s) using pre-trained model.\n",
      "2025-03-23 12:10:53 [INFO] Processed tracklet: 8\n",
      "2025-03-23 12:10:53 [INFO] Found 0 balls, Ball list: []\n",
      "2025-03-23 12:10:55 [INFO] Saved features for tracklet with shape (627, 2048) to c:\\Users\\colin\\OneDrive\\Desktop\\Jersey-Number-Recognition\\data\\SoccerNet\\jersey-2023\\processed_data\\test\\5\\features.npy\n",
      "2025-03-23 12:10:55 [INFO] Identifying and removing outliers by calling gaussian_outliers_streamlined.py on feature file\n"
     ]
    },
    {
     "name": "stderr",
     "output_type": "stream",
     "text": [
      "Lightning automatically upgraded your loaded checkpoint from v1.1.4 to v2.5.0.post0. To apply the upgrade to your files permanently, run `python -m pytorch_lightning.utilities.upgrade_checkpoint c:\\Users\\colin\\OneDrive\\Desktop\\Jersey-Number-Recognition\\data\\pre_trained_models\\reid\\dukemtmcreid_resnet50_256_128_epoch_120.ckpt`\n"
     ]
    },
    {
     "name": "stdout",
     "output_type": "stream",
     "text": [
      "2025-03-23 12:11:01 [INFO] Saving legible_tracklets to: c:\\Users\\colin\\OneDrive\\Desktop\\Jersey-Number-Recognition\\data\\SoccerNet\\jersey-2023\\processed_data\\test\\13\\legible_results.json\n",
      "2025-03-23 12:11:01 [INFO] Saved legible_tracklets to: c:\\Users\\colin\\OneDrive\\Desktop\\Jersey-Number-Recognition\\data\\SoccerNet\\jersey-2023\\processed_data\\test\\13\\legible_results.json\n",
      "2025-03-23 12:11:01 [INFO] Saving illegible_tracklets to: c:\\Users\\colin\\OneDrive\\Desktop\\Jersey-Number-Recognition\\data\\SoccerNet\\jersey-2023\\processed_data\\test\\13\\illegible_results.json\n",
      "2025-03-23 12:11:01 [INFO] Saved illegible_tracklets to: c:\\Users\\colin\\OneDrive\\Desktop\\Jersey-Number-Recognition\\data\\SoccerNet\\jersey-2023\\processed_data\\test\\13\\illegible_results.json\n",
      "2025-03-23 12:11:01 [INFO] Legibility classification complete.\n",
      "2025-03-23 12:11:01 [INFO] Processed tracklet: 13\n",
      "2025-03-23 12:11:01 [INFO] Determine soccer balls in image(s) using pre-trained model.\n",
      "2025-03-23 12:11:01 [INFO] Found 0 balls, Ball list: []\n",
      "2025-03-23 12:11:02 [INFO] \n",
      "2025-03-23 12:11:02 [ERROR] \n",
      "2025-03-23 12:11:02 [INFO] Done removing outliers\n",
      "2025-03-23 12:11:02 [INFO] Running model chain on preprocessed image(s).\n",
      "2025-03-23 12:11:02 [INFO] Classifying legibility of image(s) using pre-trained model.\n",
      "2025-03-23 12:11:02 [WARNING] No soccer ball list found. Skipping exclusion of soccer balls.\n",
      "2025-03-23 12:11:02 [INFO] Path checked: c:\\Users\\colin\\OneDrive\\Desktop\\Jersey-Number-Recognition\\data\\SoccerNet\\jersey-2023\\processed_data\\test\\common_data\\soccer_ball.json\n",
      "2025-03-23 12:11:06 [INFO] Saving legible_tracklets to: c:\\Users\\colin\\OneDrive\\Desktop\\Jersey-Number-Recognition\\data\\SoccerNet\\jersey-2023\\processed_data\\test\\17\\legible_results.json\n",
      "2025-03-23 12:11:06 [INFO] Saved legible_tracklets to: c:\\Users\\colin\\OneDrive\\Desktop\\Jersey-Number-Recognition\\data\\SoccerNet\\jersey-2023\\processed_data\\test\\17\\legible_results.json\n",
      "2025-03-23 12:11:06 [INFO] Saving illegible_tracklets to: c:\\Users\\colin\\OneDrive\\Desktop\\Jersey-Number-Recognition\\data\\SoccerNet\\jersey-2023\\processed_data\\test\\17\\illegible_results.json\n",
      "2025-03-23 12:11:06 [INFO] Saved illegible_tracklets to: c:\\Users\\colin\\OneDrive\\Desktop\\Jersey-Number-Recognition\\data\\SoccerNet\\jersey-2023\\processed_data\\test\\17\\illegible_results.json\n",
      "2025-03-23 12:11:06 [INFO] Legibility classification complete.\n",
      "2025-03-23 12:11:06 [INFO] Determine soccer balls in image(s) using pre-trained model.\n",
      "2025-03-23 12:11:06 [INFO] Processed tracklet: 17\n",
      "2025-03-23 12:11:06 [INFO] Found 0 balls, Ball list: []\n",
      "2025-03-23 12:11:07 [INFO] Saved features for tracklet with shape (641, 2048) to c:\\Users\\colin\\OneDrive\\Desktop\\Jersey-Number-Recognition\\data\\SoccerNet\\jersey-2023\\processed_data\\test\\11\\features.npy\n",
      "2025-03-23 12:11:07 [INFO] Identifying and removing outliers by calling gaussian_outliers_streamlined.py on feature file\n",
      "2025-03-23 12:11:07 [INFO] Saving legible_tracklets to: c:\\Users\\colin\\OneDrive\\Desktop\\Jersey-Number-Recognition\\data\\SoccerNet\\jersey-2023\\processed_data\\test\\18\\legible_results.json\n",
      "2025-03-23 12:11:07 [INFO] Saved legible_tracklets to: c:\\Users\\colin\\OneDrive\\Desktop\\Jersey-Number-Recognition\\data\\SoccerNet\\jersey-2023\\processed_data\\test\\18\\legible_results.json\n",
      "2025-03-23 12:11:07 [INFO] Saving illegible_tracklets to: c:\\Users\\colin\\OneDrive\\Desktop\\Jersey-Number-Recognition\\data\\SoccerNet\\jersey-2023\\processed_data\\test\\18\\illegible_results.json\n",
      "2025-03-23 12:11:07 [INFO] Saved illegible_tracklets to: c:\\Users\\colin\\OneDrive\\Desktop\\Jersey-Number-Recognition\\data\\SoccerNet\\jersey-2023\\processed_data\\test\\18\\illegible_results.json\n",
      "2025-03-23 12:11:07 [INFO] Legibility classification complete.\n",
      "2025-03-23 12:11:07 [INFO] Determine soccer balls in image(s) using pre-trained model.\n",
      "2025-03-23 12:11:07 [INFO] Processed tracklet: 18\n",
      "2025-03-23 12:11:07 [INFO] Found 0 balls, Ball list: []\n"
     ]
    },
    {
     "name": "stderr",
     "output_type": "stream",
     "text": [
      "Lightning automatically upgraded your loaded checkpoint from v1.1.4 to v2.5.0.post0. To apply the upgrade to your files permanently, run `python -m pytorch_lightning.utilities.upgrade_checkpoint c:\\Users\\colin\\OneDrive\\Desktop\\Jersey-Number-Recognition\\data\\pre_trained_models\\reid\\dukemtmcreid_resnet50_256_128_epoch_120.ckpt`\n"
     ]
    },
    {
     "name": "stdout",
     "output_type": "stream",
     "text": [
      "2025-03-23 12:11:10 [INFO] \n",
      "2025-03-23 12:11:10 [ERROR] \n",
      "2025-03-23 12:11:10 [INFO] Done removing outliers\n",
      "2025-03-23 12:11:10 [INFO] Running model chain on preprocessed image(s).\n",
      "2025-03-23 12:11:10 [INFO] Classifying legibility of image(s) using pre-trained model.\n",
      "2025-03-23 12:11:10 [WARNING] No soccer ball list found. Skipping exclusion of soccer balls.\n",
      "2025-03-23 12:11:10 [INFO] Path checked: c:\\Users\\colin\\OneDrive\\Desktop\\Jersey-Number-Recognition\\data\\SoccerNet\\jersey-2023\\processed_data\\test\\common_data\\soccer_ball.json\n",
      "2025-03-23 12:11:10 [INFO] Saved features for tracklet with shape (349, 2048) to c:\\Users\\colin\\OneDrive\\Desktop\\Jersey-Number-Recognition\\data\\SoccerNet\\jersey-2023\\processed_data\\test\\2\\features.npy\n",
      "2025-03-23 12:11:10 [INFO] Identifying and removing outliers by calling gaussian_outliers_streamlined.py on feature file\n"
     ]
    },
    {
     "name": "stderr",
     "output_type": "stream",
     "text": [
      "Lightning automatically upgraded your loaded checkpoint from v1.1.4 to v2.5.0.post0. To apply the upgrade to your files permanently, run `python -m pytorch_lightning.utilities.upgrade_checkpoint c:\\Users\\colin\\OneDrive\\Desktop\\Jersey-Number-Recognition\\data\\pre_trained_models\\reid\\dukemtmcreid_resnet50_256_128_epoch_120.ckpt`\n"
     ]
    },
    {
     "name": "stdout",
     "output_type": "stream",
     "text": [
      "2025-03-23 12:11:15 [INFO] Saved features for tracklet with shape (457, 2048) to c:\\Users\\colin\\OneDrive\\Desktop\\Jersey-Number-Recognition\\data\\SoccerNet\\jersey-2023\\processed_data\\test\\16\\features.npy\n",
      "2025-03-23 12:11:15 [INFO] Identifying and removing outliers by calling gaussian_outliers_streamlined.py on feature file\n"
     ]
    },
    {
     "name": "stderr",
     "output_type": "stream",
     "text": [
      "Lightning automatically upgraded your loaded checkpoint from v1.1.4 to v2.5.0.post0. To apply the upgrade to your files permanently, run `python -m pytorch_lightning.utilities.upgrade_checkpoint c:\\Users\\colin\\OneDrive\\Desktop\\Jersey-Number-Recognition\\data\\pre_trained_models\\reid\\dukemtmcreid_resnet50_256_128_epoch_120.ckpt`\n"
     ]
    },
    {
     "name": "stdout",
     "output_type": "stream",
     "text": [
      "2025-03-23 12:11:20 [INFO] \n",
      "2025-03-23 12:11:20 [ERROR] \n",
      "2025-03-23 12:11:20 [INFO] Done removing outliers\n",
      "2025-03-23 12:11:20 [INFO] Running model chain on preprocessed image(s).\n",
      "2025-03-23 12:11:20 [INFO] Classifying legibility of image(s) using pre-trained model.\n",
      "2025-03-23 12:11:20 [WARNING] No soccer ball list found. Skipping exclusion of soccer balls.\n",
      "2025-03-23 12:11:20 [INFO] Path checked: c:\\Users\\colin\\OneDrive\\Desktop\\Jersey-Number-Recognition\\data\\SoccerNet\\jersey-2023\\processed_data\\test\\common_data\\soccer_ball.json\n",
      "2025-03-23 12:11:23 [INFO] Saving legible_tracklets to: c:\\Users\\colin\\OneDrive\\Desktop\\Jersey-Number-Recognition\\data\\SoccerNet\\jersey-2023\\processed_data\\test\\5\\legible_results.json\n",
      "2025-03-23 12:11:23 [INFO] Saved legible_tracklets to: c:\\Users\\colin\\OneDrive\\Desktop\\Jersey-Number-Recognition\\data\\SoccerNet\\jersey-2023\\processed_data\\test\\5\\legible_results.json\n",
      "2025-03-23 12:11:23 [INFO] Saving illegible_tracklets to: c:\\Users\\colin\\OneDrive\\Desktop\\Jersey-Number-Recognition\\data\\SoccerNet\\jersey-2023\\processed_data\\test\\5\\illegible_results.json\n",
      "2025-03-23 12:11:23 [INFO] Saved illegible_tracklets to: c:\\Users\\colin\\OneDrive\\Desktop\\Jersey-Number-Recognition\\data\\SoccerNet\\jersey-2023\\processed_data\\test\\5\\illegible_results.json\n",
      "2025-03-23 12:11:23 [INFO] Legibility classification complete.\n",
      "2025-03-23 12:11:23 [INFO] Determine soccer balls in image(s) using pre-trained model.\n",
      "2025-03-23 12:11:23 [INFO] Processed tracklet: 5\n",
      "2025-03-23 12:11:23 [INFO] Found 0 balls, Ball list: []\n",
      "2025-03-23 12:11:24 [INFO] Saved features for tracklet with shape (661, 2048) to c:\\Users\\colin\\OneDrive\\Desktop\\Jersey-Number-Recognition\\data\\SoccerNet\\jersey-2023\\processed_data\\test\\7\\features.npy\n",
      "2025-03-23 12:11:24 [INFO] Identifying and removing outliers by calling gaussian_outliers_streamlined.py on feature file\n"
     ]
    },
    {
     "name": "stderr",
     "output_type": "stream",
     "text": [
      "Lightning automatically upgraded your loaded checkpoint from v1.1.4 to v2.5.0.post0. To apply the upgrade to your files permanently, run `python -m pytorch_lightning.utilities.upgrade_checkpoint c:\\Users\\colin\\OneDrive\\Desktop\\Jersey-Number-Recognition\\data\\pre_trained_models\\reid\\dukemtmcreid_resnet50_256_128_epoch_120.ckpt`\n"
     ]
    },
    {
     "name": "stdout",
     "output_type": "stream",
     "text": [
      "2025-03-23 12:11:24 [INFO] \n",
      "2025-03-23 12:11:24 [ERROR] \n",
      "2025-03-23 12:11:24 [INFO] Done removing outliers\n",
      "2025-03-23 12:11:24 [INFO] Running model chain on preprocessed image(s).\n",
      "2025-03-23 12:11:24 [INFO] Classifying legibility of image(s) using pre-trained model.\n",
      "2025-03-23 12:11:24 [WARNING] No soccer ball list found. Skipping exclusion of soccer balls.\n",
      "2025-03-23 12:11:24 [INFO] Path checked: c:\\Users\\colin\\OneDrive\\Desktop\\Jersey-Number-Recognition\\data\\SoccerNet\\jersey-2023\\processed_data\\test\\common_data\\soccer_ball.json\n",
      "2025-03-23 12:11:29 [INFO] \n",
      "2025-03-23 12:11:29 [ERROR] \n",
      "2025-03-23 12:11:29 [INFO] Done removing outliers\n",
      "2025-03-23 12:11:29 [INFO] Running model chain on preprocessed image(s).\n",
      "2025-03-23 12:11:29 [INFO] Classifying legibility of image(s) using pre-trained model.\n",
      "2025-03-23 12:11:29 [WARNING] No soccer ball list found. Skipping exclusion of soccer balls.\n",
      "2025-03-23 12:11:29 [INFO] Path checked: c:\\Users\\colin\\OneDrive\\Desktop\\Jersey-Number-Recognition\\data\\SoccerNet\\jersey-2023\\processed_data\\test\\common_data\\soccer_ball.json\n",
      "2025-03-23 12:11:30 [INFO] Saved features for tracklet with shape (595, 2048) to c:\\Users\\colin\\OneDrive\\Desktop\\Jersey-Number-Recognition\\data\\SoccerNet\\jersey-2023\\processed_data\\test\\9\\features.npy\n",
      "2025-03-23 12:11:30 [INFO] Identifying and removing outliers by calling gaussian_outliers_streamlined.py on feature file\n"
     ]
    },
    {
     "name": "stderr",
     "output_type": "stream",
     "text": [
      "Lightning automatically upgraded your loaded checkpoint from v1.1.4 to v2.5.0.post0. To apply the upgrade to your files permanently, run `python -m pytorch_lightning.utilities.upgrade_checkpoint c:\\Users\\colin\\OneDrive\\Desktop\\Jersey-Number-Recognition\\data\\pre_trained_models\\reid\\dukemtmcreid_resnet50_256_128_epoch_120.ckpt`\n"
     ]
    },
    {
     "name": "stdout",
     "output_type": "stream",
     "text": [
      "2025-03-23 12:11:33 [INFO] Saved features for tracklet with shape (120, 2048) to c:\\Users\\colin\\OneDrive\\Desktop\\Jersey-Number-Recognition\\data\\SoccerNet\\jersey-2023\\processed_data\\test\\26\\features.npy\n",
      "2025-03-23 12:11:33 [INFO] Identifying and removing outliers by calling gaussian_outliers_streamlined.py on feature file\n"
     ]
    },
    {
     "name": "stderr",
     "output_type": "stream",
     "text": [
      "Lightning automatically upgraded your loaded checkpoint from v1.1.4 to v2.5.0.post0. To apply the upgrade to your files permanently, run `python -m pytorch_lightning.utilities.upgrade_checkpoint c:\\Users\\colin\\OneDrive\\Desktop\\Jersey-Number-Recognition\\data\\pre_trained_models\\reid\\dukemtmcreid_resnet50_256_128_epoch_120.ckpt`\n"
     ]
    },
    {
     "name": "stdout",
     "output_type": "stream",
     "text": [
      "2025-03-23 12:11:40 [INFO] Saving legible_tracklets to: c:\\Users\\colin\\OneDrive\\Desktop\\Jersey-Number-Recognition\\data\\SoccerNet\\jersey-2023\\processed_data\\test\\2\\legible_results.json\n",
      "2025-03-23 12:11:40 [INFO] Saved legible_tracklets to: c:\\Users\\colin\\OneDrive\\Desktop\\Jersey-Number-Recognition\\data\\SoccerNet\\jersey-2023\\processed_data\\test\\2\\legible_results.json\n",
      "2025-03-23 12:11:40 [INFO] Saving illegible_tracklets to: c:\\Users\\colin\\OneDrive\\Desktop\\Jersey-Number-Recognition\\data\\SoccerNet\\jersey-2023\\processed_data\\test\\2\\illegible_results.json\n",
      "2025-03-23 12:11:40 [INFO] Saved illegible_tracklets to: c:\\Users\\colin\\OneDrive\\Desktop\\Jersey-Number-Recognition\\data\\SoccerNet\\jersey-2023\\processed_data\\test\\2\\illegible_results.json\n",
      "2025-03-23 12:11:40 [INFO] Legibility classification complete.\n",
      "2025-03-23 12:11:40 [INFO] Processed tracklet: 2\n",
      "2025-03-23 12:11:40 [INFO] Saving legible_tracklets to: c:\\Users\\colin\\OneDrive\\Desktop\\Jersey-Number-Recognition\\data\\SoccerNet\\jersey-2023\\processed_data\\test\\19\\legible_results.json\n",
      "2025-03-23 12:11:40 [INFO] Saved legible_tracklets to: c:\\Users\\colin\\OneDrive\\Desktop\\Jersey-Number-Recognition\\data\\SoccerNet\\jersey-2023\\processed_data\\test\\19\\legible_results.json\n",
      "2025-03-23 12:11:40 [INFO] Saving illegible_tracklets to: c:\\Users\\colin\\OneDrive\\Desktop\\Jersey-Number-Recognition\\data\\SoccerNet\\jersey-2023\\processed_data\\test\\19\\illegible_results.json\n",
      "2025-03-23 12:11:40 [INFO] Saved illegible_tracklets to: c:\\Users\\colin\\OneDrive\\Desktop\\Jersey-Number-Recognition\\data\\SoccerNet\\jersey-2023\\processed_data\\test\\19\\illegible_results.json\n",
      "2025-03-23 12:11:40 [INFO] Legibility classification complete.\n",
      "2025-03-23 12:11:40 [INFO] Processed tracklet: 19\n",
      "2025-03-23 12:11:41 [INFO] \n",
      "2025-03-23 12:11:41 [ERROR] \n",
      "2025-03-23 12:11:41 [INFO] Done removing outliers\n",
      "2025-03-23 12:11:41 [INFO] Running model chain on preprocessed image(s).\n",
      "2025-03-23 12:11:41 [INFO] Classifying legibility of image(s) using pre-trained model.\n",
      "2025-03-23 12:11:41 [WARNING] No soccer ball list found. Skipping exclusion of soccer balls.\n",
      "2025-03-23 12:11:41 [INFO] Path checked: c:\\Users\\colin\\OneDrive\\Desktop\\Jersey-Number-Recognition\\data\\SoccerNet\\jersey-2023\\processed_data\\test\\common_data\\soccer_ball.json\n",
      "2025-03-23 12:11:44 [INFO] Saved features for tracklet with shape (563, 2048) to c:\\Users\\colin\\OneDrive\\Desktop\\Jersey-Number-Recognition\\data\\SoccerNet\\jersey-2023\\processed_data\\test\\27\\features.npy\n",
      "2025-03-23 12:11:45 [INFO] Identifying and removing outliers by calling gaussian_outliers_streamlined.py on feature file\n",
      "2025-03-23 12:11:45 [INFO] Saving legible_tracklets to: c:\\Users\\colin\\OneDrive\\Desktop\\Jersey-Number-Recognition\\data\\SoccerNet\\jersey-2023\\processed_data\\test\\16\\legible_results.json\n",
      "2025-03-23 12:11:45 [INFO] Saved legible_tracklets to: c:\\Users\\colin\\OneDrive\\Desktop\\Jersey-Number-Recognition\\data\\SoccerNet\\jersey-2023\\processed_data\\test\\16\\legible_results.json\n",
      "2025-03-23 12:11:45 [INFO] Saving illegible_tracklets to: c:\\Users\\colin\\OneDrive\\Desktop\\Jersey-Number-Recognition\\data\\SoccerNet\\jersey-2023\\processed_data\\test\\16\\illegible_results.json\n",
      "2025-03-23 12:11:45 [INFO] Saved illegible_tracklets to: c:\\Users\\colin\\OneDrive\\Desktop\\Jersey-Number-Recognition\\data\\SoccerNet\\jersey-2023\\processed_data\\test\\16\\illegible_results.json\n",
      "2025-03-23 12:11:45 [INFO] Legibility classification complete.\n",
      "2025-03-23 12:11:45 [INFO] Processed tracklet: 16\n"
     ]
    },
    {
     "name": "stderr",
     "output_type": "stream",
     "text": [
      "Lightning automatically upgraded your loaded checkpoint from v1.1.4 to v2.5.0.post0. To apply the upgrade to your files permanently, run `python -m pytorch_lightning.utilities.upgrade_checkpoint c:\\Users\\colin\\OneDrive\\Desktop\\Jersey-Number-Recognition\\data\\pre_trained_models\\reid\\dukemtmcreid_resnet50_256_128_epoch_120.ckpt`\n"
     ]
    },
    {
     "name": "stdout",
     "output_type": "stream",
     "text": [
      "2025-03-23 12:11:47 [INFO] \n",
      "2025-03-23 12:11:47 [ERROR] \n",
      "2025-03-23 12:11:47 [INFO] Done removing outliers\n",
      "2025-03-23 12:11:47 [INFO] Running model chain on preprocessed image(s).\n",
      "2025-03-23 12:11:47 [INFO] Classifying legibility of image(s) using pre-trained model.\n",
      "2025-03-23 12:11:47 [WARNING] No soccer ball list found. Skipping exclusion of soccer balls.\n",
      "2025-03-23 12:11:47 [INFO] Path checked: c:\\Users\\colin\\OneDrive\\Desktop\\Jersey-Number-Recognition\\data\\SoccerNet\\jersey-2023\\processed_data\\test\\common_data\\soccer_ball.json\n",
      "2025-03-23 12:11:50 [INFO] \n",
      "2025-03-23 12:11:50 [ERROR] \n",
      "2025-03-23 12:11:50 [INFO] Done removing outliers\n",
      "2025-03-23 12:11:50 [INFO] Running model chain on preprocessed image(s).\n",
      "2025-03-23 12:11:50 [INFO] Classifying legibility of image(s) using pre-trained model.\n",
      "2025-03-23 12:11:50 [WARNING] No soccer ball list found. Skipping exclusion of soccer balls.\n",
      "2025-03-23 12:11:50 [INFO] Path checked: c:\\Users\\colin\\OneDrive\\Desktop\\Jersey-Number-Recognition\\data\\SoccerNet\\jersey-2023\\processed_data\\test\\common_data\\soccer_ball.json\n",
      "2025-03-23 12:11:51 [INFO] Saved features for tracklet with shape (595, 2048) to c:\\Users\\colin\\OneDrive\\Desktop\\Jersey-Number-Recognition\\data\\SoccerNet\\jersey-2023\\processed_data\\test\\28\\features.npy\n",
      "2025-03-23 12:11:51 [INFO] Identifying and removing outliers by calling gaussian_outliers_streamlined.py on feature file\n"
     ]
    },
    {
     "name": "stderr",
     "output_type": "stream",
     "text": [
      "Lightning automatically upgraded your loaded checkpoint from v1.1.4 to v2.5.0.post0. To apply the upgrade to your files permanently, run `python -m pytorch_lightning.utilities.upgrade_checkpoint c:\\Users\\colin\\OneDrive\\Desktop\\Jersey-Number-Recognition\\data\\pre_trained_models\\reid\\dukemtmcreid_resnet50_256_128_epoch_120.ckpt`\n"
     ]
    },
    {
     "name": "stdout",
     "output_type": "stream",
     "text": [
      "2025-03-23 12:11:58 [INFO] Saved features for tracklet with shape (404, 2048) to c:\\Users\\colin\\OneDrive\\Desktop\\Jersey-Number-Recognition\\data\\SoccerNet\\jersey-2023\\processed_data\\test\\30\\features.npy\n",
      "2025-03-23 12:11:58 [INFO] Identifying and removing outliers by calling gaussian_outliers_streamlined.py on feature file\n"
     ]
    },
    {
     "name": "stderr",
     "output_type": "stream",
     "text": [
      "Lightning automatically upgraded your loaded checkpoint from v1.1.4 to v2.5.0.post0. To apply the upgrade to your files permanently, run `python -m pytorch_lightning.utilities.upgrade_checkpoint c:\\Users\\colin\\OneDrive\\Desktop\\Jersey-Number-Recognition\\data\\pre_trained_models\\reid\\dukemtmcreid_resnet50_256_128_epoch_120.ckpt`\n"
     ]
    },
    {
     "name": "stdout",
     "output_type": "stream",
     "text": [
      "2025-03-23 12:12:03 [INFO] Saved features for tracklet with shape (124, 2048) to c:\\Users\\colin\\OneDrive\\Desktop\\Jersey-Number-Recognition\\data\\SoccerNet\\jersey-2023\\processed_data\\test\\24\\features.npy\n",
      "2025-03-23 12:12:03 [INFO] Identifying and removing outliers by calling gaussian_outliers_streamlined.py on feature file\n",
      "2025-03-23 12:12:03 [INFO] \n",
      "2025-03-23 12:12:03 [ERROR] \n",
      "2025-03-23 12:12:03 [INFO] Done removing outliers\n",
      "2025-03-23 12:12:03 [INFO] Running model chain on preprocessed image(s).\n",
      "2025-03-23 12:12:03 [INFO] Classifying legibility of image(s) using pre-trained model.\n",
      "2025-03-23 12:12:03 [WARNING] No soccer ball list found. Skipping exclusion of soccer balls.\n",
      "2025-03-23 12:12:03 [INFO] Path checked: c:\\Users\\colin\\OneDrive\\Desktop\\Jersey-Number-Recognition\\data\\SoccerNet\\jersey-2023\\processed_data\\test\\common_data\\soccer_ball.json\n"
     ]
    },
    {
     "name": "stderr",
     "output_type": "stream",
     "text": [
      "Lightning automatically upgraded your loaded checkpoint from v1.1.4 to v2.5.0.post0. To apply the upgrade to your files permanently, run `python -m pytorch_lightning.utilities.upgrade_checkpoint c:\\Users\\colin\\OneDrive\\Desktop\\Jersey-Number-Recognition\\data\\pre_trained_models\\reid\\dukemtmcreid_resnet50_256_128_epoch_120.ckpt`\n"
     ]
    },
    {
     "name": "stdout",
     "output_type": "stream",
     "text": [
      "2025-03-23 12:12:07 [INFO] Saving legible_tracklets to: c:\\Users\\colin\\OneDrive\\Desktop\\Jersey-Number-Recognition\\data\\SoccerNet\\jersey-2023\\processed_data\\test\\26\\legible_results.json\n",
      "2025-03-23 12:12:07 [INFO] Saved legible_tracklets to: c:\\Users\\colin\\OneDrive\\Desktop\\Jersey-Number-Recognition\\data\\SoccerNet\\jersey-2023\\processed_data\\test\\26\\legible_results.json\n",
      "2025-03-23 12:12:07 [INFO] Saving illegible_tracklets to: c:\\Users\\colin\\OneDrive\\Desktop\\Jersey-Number-Recognition\\data\\SoccerNet\\jersey-2023\\processed_data\\test\\26\\illegible_results.json\n",
      "2025-03-23 12:12:07 [INFO] Saved illegible_tracklets to: c:\\Users\\colin\\OneDrive\\Desktop\\Jersey-Number-Recognition\\data\\SoccerNet\\jersey-2023\\processed_data\\test\\26\\illegible_results.json\n",
      "2025-03-23 12:12:07 [INFO] Legibility classification complete.\n",
      "2025-03-23 12:12:07 [INFO] Processed tracklet: 26\n",
      "2025-03-23 12:12:07 [INFO] Saving legible_tracklets to: c:\\Users\\colin\\OneDrive\\Desktop\\Jersey-Number-Recognition\\data\\SoccerNet\\jersey-2023\\processed_data\\test\\11\\legible_results.json\n",
      "2025-03-23 12:12:07 [INFO] Saved legible_tracklets to: c:\\Users\\colin\\OneDrive\\Desktop\\Jersey-Number-Recognition\\data\\SoccerNet\\jersey-2023\\processed_data\\test\\11\\legible_results.json\n",
      "2025-03-23 12:12:07 [INFO] Saving illegible_tracklets to: c:\\Users\\colin\\OneDrive\\Desktop\\Jersey-Number-Recognition\\data\\SoccerNet\\jersey-2023\\processed_data\\test\\11\\illegible_results.json\n",
      "2025-03-23 12:12:07 [INFO] Saved illegible_tracklets to: c:\\Users\\colin\\OneDrive\\Desktop\\Jersey-Number-Recognition\\data\\SoccerNet\\jersey-2023\\processed_data\\test\\11\\illegible_results.json\n",
      "2025-03-23 12:12:07 [INFO] Legibility classification complete.\n",
      "2025-03-23 12:12:07 [INFO] Processed tracklet: 11\n",
      "2025-03-23 12:12:08 [INFO] Saving legible_tracklets to: c:\\Users\\colin\\OneDrive\\Desktop\\Jersey-Number-Recognition\\data\\SoccerNet\\jersey-2023\\processed_data\\test\\9\\legible_results.json\n",
      "2025-03-23 12:12:08 [INFO] Saved legible_tracklets to: c:\\Users\\colin\\OneDrive\\Desktop\\Jersey-Number-Recognition\\data\\SoccerNet\\jersey-2023\\processed_data\\test\\9\\legible_results.json\n",
      "2025-03-23 12:12:08 [INFO] Saving illegible_tracklets to: c:\\Users\\colin\\OneDrive\\Desktop\\Jersey-Number-Recognition\\data\\SoccerNet\\jersey-2023\\processed_data\\test\\9\\illegible_results.json\n",
      "2025-03-23 12:12:08 [INFO] Saved illegible_tracklets to: c:\\Users\\colin\\OneDrive\\Desktop\\Jersey-Number-Recognition\\data\\SoccerNet\\jersey-2023\\processed_data\\test\\9\\illegible_results.json\n",
      "2025-03-23 12:12:08 [INFO] Legibility classification complete.\n",
      "2025-03-23 12:12:08 [INFO] Processed tracklet: 9\n",
      "2025-03-23 12:12:12 [INFO] \n",
      "2025-03-23 12:12:12 [ERROR] \n",
      "2025-03-23 12:12:12 [INFO] Done removing outliers\n",
      "2025-03-23 12:12:12 [INFO] Running model chain on preprocessed image(s).\n",
      "2025-03-23 12:12:12 [INFO] Classifying legibility of image(s) using pre-trained model.\n",
      "2025-03-23 12:12:12 [WARNING] No soccer ball list found. Skipping exclusion of soccer balls.\n",
      "2025-03-23 12:12:12 [INFO] Path checked: c:\\Users\\colin\\OneDrive\\Desktop\\Jersey-Number-Recognition\\data\\SoccerNet\\jersey-2023\\processed_data\\test\\common_data\\soccer_ball.json\n",
      "2025-03-23 12:12:12 [INFO] Saved features for tracklet with shape (431, 2048) to c:\\Users\\colin\\OneDrive\\Desktop\\Jersey-Number-Recognition\\data\\SoccerNet\\jersey-2023\\processed_data\\test\\31\\features.npy\n",
      "2025-03-23 12:12:12 [INFO] Identifying and removing outliers by calling gaussian_outliers_streamlined.py on feature file\n"
     ]
    },
    {
     "name": "stderr",
     "output_type": "stream",
     "text": [
      "Lightning automatically upgraded your loaded checkpoint from v1.1.4 to v2.5.0.post0. To apply the upgrade to your files permanently, run `python -m pytorch_lightning.utilities.upgrade_checkpoint c:\\Users\\colin\\OneDrive\\Desktop\\Jersey-Number-Recognition\\data\\pre_trained_models\\reid\\dukemtmcreid_resnet50_256_128_epoch_120.ckpt`\n"
     ]
    },
    {
     "name": "stdout",
     "output_type": "stream",
     "text": [
      "2025-03-23 12:12:15 [INFO] Saved features for tracklet with shape (145, 2048) to c:\\Users\\colin\\OneDrive\\Desktop\\Jersey-Number-Recognition\\data\\SoccerNet\\jersey-2023\\processed_data\\test\\21\\features.npy\n",
      "2025-03-23 12:12:15 [INFO] Identifying and removing outliers by calling gaussian_outliers_streamlined.py on feature file\n"
     ]
    },
    {
     "name": "stderr",
     "output_type": "stream",
     "text": [
      "Lightning automatically upgraded your loaded checkpoint from v1.1.4 to v2.5.0.post0. To apply the upgrade to your files permanently, run `python -m pytorch_lightning.utilities.upgrade_checkpoint c:\\Users\\colin\\OneDrive\\Desktop\\Jersey-Number-Recognition\\data\\pre_trained_models\\reid\\dukemtmcreid_resnet50_256_128_epoch_120.ckpt`\n"
     ]
    },
    {
     "name": "stdout",
     "output_type": "stream",
     "text": [
      "2025-03-23 12:12:18 [INFO] \n",
      "2025-03-23 12:12:18 [ERROR] \n",
      "2025-03-23 12:12:18 [INFO] Done removing outliers\n",
      "2025-03-23 12:12:18 [INFO] Running model chain on preprocessed image(s).\n",
      "2025-03-23 12:12:18 [INFO] Classifying legibility of image(s) using pre-trained model.\n",
      "2025-03-23 12:12:18 [WARNING] No soccer ball list found. Skipping exclusion of soccer balls.\n",
      "2025-03-23 12:12:18 [INFO] Path checked: c:\\Users\\colin\\OneDrive\\Desktop\\Jersey-Number-Recognition\\data\\SoccerNet\\jersey-2023\\processed_data\\test\\common_data\\soccer_ball.json\n",
      "2025-03-23 12:12:23 [INFO] Saving legible_tracklets to: c:\\Users\\colin\\OneDrive\\Desktop\\Jersey-Number-Recognition\\data\\SoccerNet\\jersey-2023\\processed_data\\test\\27\\legible_results.json\n",
      "2025-03-23 12:12:23 [INFO] Saved legible_tracklets to: c:\\Users\\colin\\OneDrive\\Desktop\\Jersey-Number-Recognition\\data\\SoccerNet\\jersey-2023\\processed_data\\test\\27\\legible_results.json\n",
      "2025-03-23 12:12:23 [INFO] Saving illegible_tracklets to: c:\\Users\\colin\\OneDrive\\Desktop\\Jersey-Number-Recognition\\data\\SoccerNet\\jersey-2023\\processed_data\\test\\27\\illegible_results.json\n",
      "2025-03-23 12:12:23 [INFO] Saved illegible_tracklets to: c:\\Users\\colin\\OneDrive\\Desktop\\Jersey-Number-Recognition\\data\\SoccerNet\\jersey-2023\\processed_data\\test\\27\\illegible_results.json\n",
      "2025-03-23 12:12:23 [INFO] Legibility classification complete.\n",
      "2025-03-23 12:12:23 [INFO] Processed tracklet: 27\n",
      "2025-03-23 12:12:24 [INFO] \n",
      "2025-03-23 12:12:24 [ERROR] \n",
      "2025-03-23 12:12:24 [INFO] Done removing outliers\n",
      "2025-03-23 12:12:24 [INFO] Running model chain on preprocessed image(s).\n",
      "2025-03-23 12:12:24 [INFO] Classifying legibility of image(s) using pre-trained model.\n",
      "2025-03-23 12:12:24 [WARNING] No soccer ball list found. Skipping exclusion of soccer balls.\n",
      "2025-03-23 12:12:24 [INFO] Path checked: c:\\Users\\colin\\OneDrive\\Desktop\\Jersey-Number-Recognition\\data\\SoccerNet\\jersey-2023\\processed_data\\test\\common_data\\soccer_ball.json\n",
      "2025-03-23 12:12:27 [INFO] Saved features for tracklet with shape (440, 2048) to c:\\Users\\colin\\OneDrive\\Desktop\\Jersey-Number-Recognition\\data\\SoccerNet\\jersey-2023\\processed_data\\test\\29\\features.npy\n",
      "2025-03-23 12:12:28 [INFO] Identifying and removing outliers by calling gaussian_outliers_streamlined.py on feature file\n"
     ]
    },
    {
     "name": "stderr",
     "output_type": "stream",
     "text": [
      "Lightning automatically upgraded your loaded checkpoint from v1.1.4 to v2.5.0.post0. To apply the upgrade to your files permanently, run `python -m pytorch_lightning.utilities.upgrade_checkpoint c:\\Users\\colin\\OneDrive\\Desktop\\Jersey-Number-Recognition\\data\\pre_trained_models\\reid\\dukemtmcreid_resnet50_256_128_epoch_120.ckpt`\n",
      "Lightning automatically upgraded your loaded checkpoint from v1.1.4 to v2.5.0.post0. To apply the upgrade to your files permanently, run `python -m pytorch_lightning.utilities.upgrade_checkpoint c:\\Users\\colin\\OneDrive\\Desktop\\Jersey-Number-Recognition\\data\\pre_trained_models\\reid\\dukemtmcreid_resnet50_256_128_epoch_120.ckpt`\n"
     ]
    },
    {
     "name": "stdout",
     "output_type": "stream",
     "text": [
      "2025-03-23 12:12:31 [INFO] Saving legible_tracklets to: c:\\Users\\colin\\OneDrive\\Desktop\\Jersey-Number-Recognition\\data\\SoccerNet\\jersey-2023\\processed_data\\test\\7\\legible_results.json\n",
      "2025-03-23 12:12:31 [INFO] Saved legible_tracklets to: c:\\Users\\colin\\OneDrive\\Desktop\\Jersey-Number-Recognition\\data\\SoccerNet\\jersey-2023\\processed_data\\test\\7\\legible_results.json\n",
      "2025-03-23 12:12:31 [INFO] Saving illegible_tracklets to: c:\\Users\\colin\\OneDrive\\Desktop\\Jersey-Number-Recognition\\data\\SoccerNet\\jersey-2023\\processed_data\\test\\7\\illegible_results.json\n",
      "2025-03-23 12:12:31 [INFO] Saved illegible_tracklets to: c:\\Users\\colin\\OneDrive\\Desktop\\Jersey-Number-Recognition\\data\\SoccerNet\\jersey-2023\\processed_data\\test\\7\\illegible_results.json\n",
      "2025-03-23 12:12:31 [INFO] Legibility classification complete.\n",
      "2025-03-23 12:12:31 [INFO] Processed tracklet: 7\n",
      "2025-03-23 12:12:33 [INFO] Saving legible_tracklets to: c:\\Users\\colin\\OneDrive\\Desktop\\Jersey-Number-Recognition\\data\\SoccerNet\\jersey-2023\\processed_data\\test\\28\\legible_results.json\n",
      "2025-03-23 12:12:33 [INFO] Saved legible_tracklets to: c:\\Users\\colin\\OneDrive\\Desktop\\Jersey-Number-Recognition\\data\\SoccerNet\\jersey-2023\\processed_data\\test\\28\\legible_results.json\n",
      "2025-03-23 12:12:33 [INFO] Saving illegible_tracklets to: c:\\Users\\colin\\OneDrive\\Desktop\\Jersey-Number-Recognition\\data\\SoccerNet\\jersey-2023\\processed_data\\test\\28\\illegible_results.json\n",
      "2025-03-23 12:12:33 [INFO] Saved illegible_tracklets to: c:\\Users\\colin\\OneDrive\\Desktop\\Jersey-Number-Recognition\\data\\SoccerNet\\jersey-2023\\processed_data\\test\\28\\illegible_results.json\n",
      "2025-03-23 12:12:33 [INFO] Legibility classification complete.\n",
      "2025-03-23 12:12:33 [INFO] Processed tracklet: 28\n",
      "2025-03-23 12:12:33 [INFO] \n",
      "2025-03-23 12:12:33 [ERROR] \n",
      "2025-03-23 12:12:33 [INFO] Done removing outliers\n",
      "2025-03-23 12:12:33 [INFO] Running model chain on preprocessed image(s).\n",
      "2025-03-23 12:12:33 [INFO] Classifying legibility of image(s) using pre-trained model.\n",
      "2025-03-23 12:12:33 [WARNING] No soccer ball list found. Skipping exclusion of soccer balls.\n",
      "2025-03-23 12:12:33 [INFO] Path checked: c:\\Users\\colin\\OneDrive\\Desktop\\Jersey-Number-Recognition\\data\\SoccerNet\\jersey-2023\\processed_data\\test\\common_data\\soccer_ball.json\n",
      "2025-03-23 12:12:33 [INFO] Saved features for tracklet with shape (132, 2048) to c:\\Users\\colin\\OneDrive\\Desktop\\Jersey-Number-Recognition\\data\\SoccerNet\\jersey-2023\\processed_data\\test\\20\\features.npy\n",
      "2025-03-23 12:12:34 [INFO] Identifying and removing outliers by calling gaussian_outliers_streamlined.py on feature file\n"
     ]
    },
    {
     "name": "stderr",
     "output_type": "stream",
     "text": [
      "Lightning automatically upgraded your loaded checkpoint from v1.1.4 to v2.5.0.post0. To apply the upgrade to your files permanently, run `python -m pytorch_lightning.utilities.upgrade_checkpoint c:\\Users\\colin\\OneDrive\\Desktop\\Jersey-Number-Recognition\\data\\pre_trained_models\\reid\\dukemtmcreid_resnet50_256_128_epoch_120.ckpt`\n"
     ]
    },
    {
     "name": "stdout",
     "output_type": "stream",
     "text": [
      "2025-03-23 12:12:37 [INFO] \n",
      "2025-03-23 12:12:37 [ERROR] \n",
      "2025-03-23 12:12:37 [INFO] Done removing outliers\n",
      "2025-03-23 12:12:37 [INFO] Running model chain on preprocessed image(s).\n",
      "2025-03-23 12:12:37 [INFO] Classifying legibility of image(s) using pre-trained model.\n",
      "2025-03-23 12:12:37 [WARNING] No soccer ball list found. Skipping exclusion of soccer balls.\n",
      "2025-03-23 12:12:37 [INFO] Path checked: c:\\Users\\colin\\OneDrive\\Desktop\\Jersey-Number-Recognition\\data\\SoccerNet\\jersey-2023\\processed_data\\test\\common_data\\soccer_ball.json\n",
      "2025-03-23 12:12:37 [INFO] Saving legible_tracklets to: c:\\Users\\colin\\OneDrive\\Desktop\\Jersey-Number-Recognition\\data\\SoccerNet\\jersey-2023\\processed_data\\test\\30\\legible_results.json\n",
      "2025-03-23 12:12:37 [INFO] Saved legible_tracklets to: c:\\Users\\colin\\OneDrive\\Desktop\\Jersey-Number-Recognition\\data\\SoccerNet\\jersey-2023\\processed_data\\test\\30\\legible_results.json\n",
      "2025-03-23 12:12:37 [INFO] Saving illegible_tracklets to: c:\\Users\\colin\\OneDrive\\Desktop\\Jersey-Number-Recognition\\data\\SoccerNet\\jersey-2023\\processed_data\\test\\30\\illegible_results.json\n",
      "2025-03-23 12:12:37 [INFO] Saved illegible_tracklets to: c:\\Users\\colin\\OneDrive\\Desktop\\Jersey-Number-Recognition\\data\\SoccerNet\\jersey-2023\\processed_data\\test\\30\\illegible_results.json\n",
      "2025-03-23 12:12:37 [INFO] Legibility classification complete.\n",
      "2025-03-23 12:12:37 [INFO] Processed tracklet: 30\n",
      "2025-03-23 12:12:38 [INFO] Saved features for tracklet with shape (131, 2048) to c:\\Users\\colin\\OneDrive\\Desktop\\Jersey-Number-Recognition\\data\\SoccerNet\\jersey-2023\\processed_data\\test\\23\\features.npy\n",
      "2025-03-23 12:12:38 [INFO] Identifying and removing outliers by calling gaussian_outliers_streamlined.py on feature file\n"
     ]
    },
    {
     "name": "stderr",
     "output_type": "stream",
     "text": [
      "Lightning automatically upgraded your loaded checkpoint from v1.1.4 to v2.5.0.post0. To apply the upgrade to your files permanently, run `python -m pytorch_lightning.utilities.upgrade_checkpoint c:\\Users\\colin\\OneDrive\\Desktop\\Jersey-Number-Recognition\\data\\pre_trained_models\\reid\\dukemtmcreid_resnet50_256_128_epoch_120.ckpt`\n"
     ]
    },
    {
     "name": "stdout",
     "output_type": "stream",
     "text": [
      "2025-03-23 12:12:41 [INFO] Saving legible_tracklets to: c:\\Users\\colin\\OneDrive\\Desktop\\Jersey-Number-Recognition\\data\\SoccerNet\\jersey-2023\\processed_data\\test\\24\\legible_results.json\n",
      "2025-03-23 12:12:41 [INFO] Saved legible_tracklets to: c:\\Users\\colin\\OneDrive\\Desktop\\Jersey-Number-Recognition\\data\\SoccerNet\\jersey-2023\\processed_data\\test\\24\\legible_results.json\n",
      "2025-03-23 12:12:41 [INFO] Saving illegible_tracklets to: c:\\Users\\colin\\OneDrive\\Desktop\\Jersey-Number-Recognition\\data\\SoccerNet\\jersey-2023\\processed_data\\test\\24\\illegible_results.json\n",
      "2025-03-23 12:12:41 [INFO] Saved illegible_tracklets to: c:\\Users\\colin\\OneDrive\\Desktop\\Jersey-Number-Recognition\\data\\SoccerNet\\jersey-2023\\processed_data\\test\\24\\illegible_results.json\n",
      "2025-03-23 12:12:41 [INFO] Legibility classification complete.\n",
      "2025-03-23 12:12:41 [INFO] Processed tracklet: 24\n",
      "2025-03-23 12:12:42 [INFO] Saved features for tracklet with shape (144, 2048) to c:\\Users\\colin\\OneDrive\\Desktop\\Jersey-Number-Recognition\\data\\SoccerNet\\jersey-2023\\processed_data\\test\\22\\features.npy\n",
      "2025-03-23 12:12:42 [INFO] Identifying and removing outliers by calling gaussian_outliers_streamlined.py on feature file\n",
      "2025-03-23 12:12:44 [INFO] Saved features for tracklet with shape (123, 2048) to c:\\Users\\colin\\OneDrive\\Desktop\\Jersey-Number-Recognition\\data\\SoccerNet\\jersey-2023\\processed_data\\test\\25\\features.npy\n",
      "2025-03-23 12:12:44 [INFO] Identifying and removing outliers by calling gaussian_outliers_streamlined.py on feature file\n",
      "2025-03-23 12:12:49 [INFO] \n",
      "2025-03-23 12:12:49 [ERROR] \n",
      "2025-03-23 12:12:49 [INFO] Done removing outliers\n",
      "2025-03-23 12:12:49 [INFO] Running model chain on preprocessed image(s).\n",
      "2025-03-23 12:12:49 [INFO] Classifying legibility of image(s) using pre-trained model.\n",
      "2025-03-23 12:12:49 [WARNING] No soccer ball list found. Skipping exclusion of soccer balls.\n",
      "2025-03-23 12:12:49 [INFO] Path checked: c:\\Users\\colin\\OneDrive\\Desktop\\Jersey-Number-Recognition\\data\\SoccerNet\\jersey-2023\\processed_data\\test\\common_data\\soccer_ball.json\n",
      "2025-03-23 12:12:51 [INFO] Saving legible_tracklets to: c:\\Users\\colin\\OneDrive\\Desktop\\Jersey-Number-Recognition\\data\\SoccerNet\\jersey-2023\\processed_data\\test\\31\\legible_results.json\n",
      "2025-03-23 12:12:51 [INFO] Saved legible_tracklets to: c:\\Users\\colin\\OneDrive\\Desktop\\Jersey-Number-Recognition\\data\\SoccerNet\\jersey-2023\\processed_data\\test\\31\\legible_results.json\n",
      "2025-03-23 12:12:51 [INFO] Saving illegible_tracklets to: c:\\Users\\colin\\OneDrive\\Desktop\\Jersey-Number-Recognition\\data\\SoccerNet\\jersey-2023\\processed_data\\test\\31\\illegible_results.json\n",
      "2025-03-23 12:12:51 [INFO] Saved illegible_tracklets to: c:\\Users\\colin\\OneDrive\\Desktop\\Jersey-Number-Recognition\\data\\SoccerNet\\jersey-2023\\processed_data\\test\\31\\illegible_results.json\n",
      "2025-03-23 12:12:51 [INFO] Legibility classification complete.\n",
      "2025-03-23 12:12:51 [INFO] Processed tracklet: 31\n",
      "2025-03-23 12:12:52 [INFO] Saving legible_tracklets to: c:\\Users\\colin\\OneDrive\\Desktop\\Jersey-Number-Recognition\\data\\SoccerNet\\jersey-2023\\processed_data\\test\\21\\legible_results.json\n",
      "2025-03-23 12:12:52 [INFO] Saved legible_tracklets to: c:\\Users\\colin\\OneDrive\\Desktop\\Jersey-Number-Recognition\\data\\SoccerNet\\jersey-2023\\processed_data\\test\\21\\legible_results.json\n",
      "2025-03-23 12:12:52 [INFO] Saving illegible_tracklets to: c:\\Users\\colin\\OneDrive\\Desktop\\Jersey-Number-Recognition\\data\\SoccerNet\\jersey-2023\\processed_data\\test\\21\\illegible_results.json\n",
      "2025-03-23 12:12:52 [INFO] Saved illegible_tracklets to: c:\\Users\\colin\\OneDrive\\Desktop\\Jersey-Number-Recognition\\data\\SoccerNet\\jersey-2023\\processed_data\\test\\21\\illegible_results.json\n",
      "2025-03-23 12:12:52 [INFO] Legibility classification complete.\n",
      "2025-03-23 12:12:52 [INFO] Processed tracklet: 21\n",
      "2025-03-23 12:12:54 [INFO] \n",
      "2025-03-23 12:12:54 [ERROR] \n",
      "2025-03-23 12:12:54 [INFO] Done removing outliers\n",
      "2025-03-23 12:12:54 [INFO] Running model chain on preprocessed image(s).\n",
      "2025-03-23 12:12:54 [INFO] Classifying legibility of image(s) using pre-trained model.\n",
      "2025-03-23 12:12:54 [WARNING] No soccer ball list found. Skipping exclusion of soccer balls.\n",
      "2025-03-23 12:12:54 [INFO] Path checked: c:\\Users\\colin\\OneDrive\\Desktop\\Jersey-Number-Recognition\\data\\SoccerNet\\jersey-2023\\processed_data\\test\\common_data\\soccer_ball.json\n",
      "2025-03-23 12:12:57 [INFO] \n",
      "2025-03-23 12:12:57 [ERROR] \n",
      "2025-03-23 12:12:57 [INFO] Done removing outliers\n",
      "2025-03-23 12:12:57 [INFO] Running model chain on preprocessed image(s).\n",
      "2025-03-23 12:12:57 [INFO] Classifying legibility of image(s) using pre-trained model.\n",
      "2025-03-23 12:12:57 [WARNING] No soccer ball list found. Skipping exclusion of soccer balls.\n",
      "2025-03-23 12:12:57 [INFO] Path checked: c:\\Users\\colin\\OneDrive\\Desktop\\Jersey-Number-Recognition\\data\\SoccerNet\\jersey-2023\\processed_data\\test\\common_data\\soccer_ball.json\n",
      "2025-03-23 12:13:00 [INFO] \n",
      "2025-03-23 12:13:00 [ERROR] \n",
      "2025-03-23 12:13:00 [INFO] Done removing outliers\n",
      "2025-03-23 12:13:00 [INFO] Running model chain on preprocessed image(s).\n",
      "2025-03-23 12:13:00 [INFO] Classifying legibility of image(s) using pre-trained model.\n",
      "2025-03-23 12:13:00 [WARNING] No soccer ball list found. Skipping exclusion of soccer balls.\n",
      "2025-03-23 12:13:00 [INFO] Path checked: c:\\Users\\colin\\OneDrive\\Desktop\\Jersey-Number-Recognition\\data\\SoccerNet\\jersey-2023\\processed_data\\test\\common_data\\soccer_ball.json\n",
      "2025-03-23 12:13:02 [INFO] \n",
      "2025-03-23 12:13:02 [ERROR] \n",
      "2025-03-23 12:13:02 [INFO] Done removing outliers\n",
      "2025-03-23 12:13:02 [INFO] Running model chain on preprocessed image(s).\n",
      "2025-03-23 12:13:02 [INFO] Classifying legibility of image(s) using pre-trained model.\n",
      "2025-03-23 12:13:02 [WARNING] No soccer ball list found. Skipping exclusion of soccer balls.\n",
      "2025-03-23 12:13:02 [INFO] Path checked: c:\\Users\\colin\\OneDrive\\Desktop\\Jersey-Number-Recognition\\data\\SoccerNet\\jersey-2023\\processed_data\\test\\common_data\\soccer_ball.json\n",
      "2025-03-23 12:13:04 [INFO] Saving legible_tracklets to: c:\\Users\\colin\\OneDrive\\Desktop\\Jersey-Number-Recognition\\data\\SoccerNet\\jersey-2023\\processed_data\\test\\29\\legible_results.json\n",
      "2025-03-23 12:13:04 [INFO] Saved legible_tracklets to: c:\\Users\\colin\\OneDrive\\Desktop\\Jersey-Number-Recognition\\data\\SoccerNet\\jersey-2023\\processed_data\\test\\29\\legible_results.json\n",
      "2025-03-23 12:13:04 [INFO] Saving illegible_tracklets to: c:\\Users\\colin\\OneDrive\\Desktop\\Jersey-Number-Recognition\\data\\SoccerNet\\jersey-2023\\processed_data\\test\\29\\illegible_results.json\n",
      "2025-03-23 12:13:04 [INFO] Saved illegible_tracklets to: c:\\Users\\colin\\OneDrive\\Desktop\\Jersey-Number-Recognition\\data\\SoccerNet\\jersey-2023\\processed_data\\test\\29\\illegible_results.json\n",
      "2025-03-23 12:13:04 [INFO] Legibility classification complete.\n",
      "2025-03-23 12:13:04 [INFO] Processed tracklet: 29\n",
      "2025-03-23 12:13:09 [INFO] Saving legible_tracklets to: c:\\Users\\colin\\OneDrive\\Desktop\\Jersey-Number-Recognition\\data\\SoccerNet\\jersey-2023\\processed_data\\test\\20\\legible_results.json\n",
      "2025-03-23 12:13:09 [INFO] Saved legible_tracklets to: c:\\Users\\colin\\OneDrive\\Desktop\\Jersey-Number-Recognition\\data\\SoccerNet\\jersey-2023\\processed_data\\test\\20\\legible_results.json\n",
      "2025-03-23 12:13:09 [INFO] Saving illegible_tracklets to: c:\\Users\\colin\\OneDrive\\Desktop\\Jersey-Number-Recognition\\data\\SoccerNet\\jersey-2023\\processed_data\\test\\20\\illegible_results.json\n",
      "2025-03-23 12:13:09 [INFO] Saved illegible_tracklets to: c:\\Users\\colin\\OneDrive\\Desktop\\Jersey-Number-Recognition\\data\\SoccerNet\\jersey-2023\\processed_data\\test\\20\\illegible_results.json\n",
      "2025-03-23 12:13:09 [INFO] Legibility classification complete.\n",
      "2025-03-23 12:13:09 [INFO] Processed tracklet: 20\n",
      "2025-03-23 12:13:13 [INFO] Saving legible_tracklets to: c:\\Users\\colin\\OneDrive\\Desktop\\Jersey-Number-Recognition\\data\\SoccerNet\\jersey-2023\\processed_data\\test\\23\\legible_results.json\n",
      "2025-03-23 12:13:13 [INFO] Saved legible_tracklets to: c:\\Users\\colin\\OneDrive\\Desktop\\Jersey-Number-Recognition\\data\\SoccerNet\\jersey-2023\\processed_data\\test\\23\\legible_results.json\n",
      "2025-03-23 12:13:13 [INFO] Saving illegible_tracklets to: c:\\Users\\colin\\OneDrive\\Desktop\\Jersey-Number-Recognition\\data\\SoccerNet\\jersey-2023\\processed_data\\test\\23\\illegible_results.json\n",
      "2025-03-23 12:13:13 [INFO] Saved illegible_tracklets to: c:\\Users\\colin\\OneDrive\\Desktop\\Jersey-Number-Recognition\\data\\SoccerNet\\jersey-2023\\processed_data\\test\\23\\illegible_results.json\n",
      "2025-03-23 12:13:13 [INFO] Legibility classification complete.\n",
      "2025-03-23 12:13:13 [INFO] Processed tracklet: 23\n",
      "2025-03-23 12:13:15 [INFO] Saving legible_tracklets to: c:\\Users\\colin\\OneDrive\\Desktop\\Jersey-Number-Recognition\\data\\SoccerNet\\jersey-2023\\processed_data\\test\\22\\legible_results.json\n",
      "2025-03-23 12:13:15 [INFO] Saved legible_tracklets to: c:\\Users\\colin\\OneDrive\\Desktop\\Jersey-Number-Recognition\\data\\SoccerNet\\jersey-2023\\processed_data\\test\\22\\legible_results.json\n",
      "2025-03-23 12:13:15 [INFO] Saving illegible_tracklets to: c:\\Users\\colin\\OneDrive\\Desktop\\Jersey-Number-Recognition\\data\\SoccerNet\\jersey-2023\\processed_data\\test\\22\\illegible_results.json\n",
      "2025-03-23 12:13:15 [INFO] Saved illegible_tracklets to: c:\\Users\\colin\\OneDrive\\Desktop\\Jersey-Number-Recognition\\data\\SoccerNet\\jersey-2023\\processed_data\\test\\22\\illegible_results.json\n",
      "2025-03-23 12:13:15 [INFO] Legibility classification complete.\n",
      "2025-03-23 12:13:15 [INFO] Processed tracklet: 22\n",
      "2025-03-23 12:13:17 [INFO] Saving legible_tracklets to: c:\\Users\\colin\\OneDrive\\Desktop\\Jersey-Number-Recognition\\data\\SoccerNet\\jersey-2023\\processed_data\\test\\25\\legible_results.json\n",
      "2025-03-23 12:13:17 [INFO] Saved legible_tracklets to: c:\\Users\\colin\\OneDrive\\Desktop\\Jersey-Number-Recognition\\data\\SoccerNet\\jersey-2023\\processed_data\\test\\25\\legible_results.json\n",
      "2025-03-23 12:13:17 [INFO] Saving illegible_tracklets to: c:\\Users\\colin\\OneDrive\\Desktop\\Jersey-Number-Recognition\\data\\SoccerNet\\jersey-2023\\processed_data\\test\\25\\illegible_results.json\n",
      "2025-03-23 12:13:17 [INFO] Saved illegible_tracklets to: c:\\Users\\colin\\OneDrive\\Desktop\\Jersey-Number-Recognition\\data\\SoccerNet\\jersey-2023\\processed_data\\test\\25\\illegible_results.json\n",
      "2025-03-23 12:13:17 [INFO] Legibility classification complete.\n",
      "2025-03-23 12:13:17 [INFO] Processed tracklet: 25\n",
      "2025-03-23 12:13:17 [INFO] Using double parallelization: multiprocessing + CUDA batch processing.\n"
     ]
    },
    {
     "data": {
      "application/vnd.jupyter.widget-view+json": {
       "model_id": "3375f1d3edbf469cb7bd071240b70579",
       "version_major": 2,
       "version_minor": 0
      },
      "text/plain": [
       "Processing tracklets (CUDA + CPU):   0%|          | 0/32 [00:00<?, ?it/s]"
      ]
     },
     "metadata": {},
     "output_type": "display_data"
    },
    {
     "name": "stdout",
     "output_type": "stream",
     "text": [
      "2025-03-23 12:13:40 [INFO] DEBUG: Number of images per tracklet in batch: 466\n",
      "2025-03-23 12:13:40 [INFO] Creating placeholder data files for Soccer Ball Filter.\n",
      "2025-03-23 12:13:40 [INFO] Creating placeholder data files for Legibility Classifier.\n",
      "2025-03-23 12:13:40 [INFO] DEBUG: Just before getting args for workers\n",
      "2025-03-23 12:13:41 [INFO] Determine soccer balls in image(s) using pre-trained model.\n",
      "2025-03-23 12:13:41 [INFO] Determine soccer balls in image(s) using pre-trained model.\n",
      "2025-03-23 12:13:41 [INFO] Determine soccer balls in image(s) using pre-trained model.\n",
      "2025-03-23 12:13:41 [INFO] Determine soccer balls in image(s) using pre-trained model.\n",
      "2025-03-23 12:13:41 [INFO] Determine soccer balls in image(s) using pre-trained model.\n",
      "2025-03-23 12:13:41 [INFO] Determine soccer balls in image(s) using pre-trained model.\n",
      "2025-03-23 12:13:41 [INFO] Determine soccer balls in image(s) using pre-trained model.\n",
      "2025-03-23 12:13:41 [INFO] Determine soccer balls in image(s) using pre-trained model.\n",
      "2025-03-23 12:13:41 [INFO] Determine soccer balls in image(s) using pre-trained model.\n",
      "2025-03-23 12:13:41 [INFO] Determine soccer balls in image(s) using pre-trained model.\n",
      "2025-03-23 12:13:41 [INFO] Determine soccer balls in image(s) using pre-trained model.\n",
      "2025-03-23 12:13:41 [INFO] Determine soccer balls in image(s) using pre-trained model.\n",
      "2025-03-23 12:13:41 [INFO] Determine soccer balls in image(s) using pre-trained model.\n",
      "2025-03-23 12:13:42 [INFO] Determine soccer balls in image(s) using pre-trained model.\n",
      "2025-03-23 12:13:42 [INFO] Determine soccer balls in image(s) using pre-trained model.\n",
      "2025-03-23 12:13:42 [INFO] Determine soccer balls in image(s) using pre-trained model.\n",
      "2025-03-23 12:13:42 [INFO] Determine soccer balls in image(s) using pre-trained model.\n",
      "2025-03-23 12:13:42 [INFO] Determine soccer balls in image(s) using pre-trained model.\n",
      "2025-03-23 12:13:42 [INFO] Found 0 balls, Ball list: []\n"
     ]
    },
    {
     "data": {
      "application/vnd.jupyter.widget-view+json": {
       "model_id": "0f6d61b51c254e59853128403e448ab4",
       "version_major": 2,
       "version_minor": 0
      },
      "text/plain": [
       "Processing Batch Tracklets (32-64):   0%|          | 0/32 [00:00<?, ?it/s]"
      ]
     },
     "metadata": {},
     "output_type": "display_data"
    },
    {
     "name": "stdout",
     "output_type": "stream",
     "text": [
      "2025-03-23 12:13:42 [INFO] Found 0 balls, Ball list: []\n",
      "2025-03-23 12:13:42 [INFO] Found 0 balls, Ball list: []\n",
      "2025-03-23 12:13:42 [INFO] Found 0 balls, Ball list: []\n",
      "2025-03-23 12:13:42 [INFO] Found 0 balls, Ball list: []\n",
      "2025-03-23 12:13:42 [INFO] Found 0 balls, Ball list: []\n",
      "2025-03-23 12:13:42 [INFO] Found 0 balls, Ball list: []\n",
      "2025-03-23 12:13:42 [INFO] Found 0 balls, Ball list: []\n",
      "2025-03-23 12:13:42 [INFO] Found 0 balls, Ball list: []\n",
      "2025-03-23 12:13:42 [INFO] Found 0 balls, Ball list: []\n",
      "2025-03-23 12:13:42 [INFO] Found 0 balls, Ball list: []\n",
      "2025-03-23 12:13:42 [INFO] Found 0 balls, Ball list: []\n",
      "2025-03-23 12:13:42 [INFO] Found 0 balls, Ball list: []\n",
      "2025-03-23 12:13:42 [INFO] Found 0 balls, Ball list: []\n",
      "2025-03-23 12:13:42 [INFO] Found 0 balls, Ball list: []\n",
      "2025-03-23 12:13:42 [INFO] Found 1 balls, Ball list: ['34']\n",
      "2025-03-23 12:13:42 [INFO] Found 0 balls, Ball list: []\n",
      "2025-03-23 12:13:42 [INFO] Found 0 balls, Ball list: []\n"
     ]
    },
    {
     "name": "stderr",
     "output_type": "stream",
     "text": [
      "Lightning automatically upgraded your loaded checkpoint from v1.1.4 to v2.5.0.post0. To apply the upgrade to your files permanently, run `python -m pytorch_lightning.utilities.upgrade_checkpoint c:\\Users\\colin\\OneDrive\\Desktop\\Jersey-Number-Recognition\\data\\pre_trained_models\\reid\\dukemtmcreid_resnet50_256_128_epoch_120.ckpt`\n"
     ]
    },
    {
     "name": "stdout",
     "output_type": "stream",
     "text": [
      "2025-03-23 12:13:43 [INFO] Saved features for tracklet with shape (34, 2048) to c:\\Users\\colin\\OneDrive\\Desktop\\Jersey-Number-Recognition\\data\\SoccerNet\\jersey-2023\\processed_data\\test\\40\\features.npy\n",
      "2025-03-23 12:13:44 [INFO] Identifying and removing outliers by calling gaussian_outliers_streamlined.py on feature file\n"
     ]
    },
    {
     "name": "stderr",
     "output_type": "stream",
     "text": [
      "Lightning automatically upgraded your loaded checkpoint from v1.1.4 to v2.5.0.post0. To apply the upgrade to your files permanently, run `python -m pytorch_lightning.utilities.upgrade_checkpoint c:\\Users\\colin\\OneDrive\\Desktop\\Jersey-Number-Recognition\\data\\pre_trained_models\\reid\\dukemtmcreid_resnet50_256_128_epoch_120.ckpt`\n"
     ]
    },
    {
     "name": "stdout",
     "output_type": "stream",
     "text": [
      "2025-03-23 12:13:45 [INFO] Saved features for tracklet with shape (24, 2048) to c:\\Users\\colin\\OneDrive\\Desktop\\Jersey-Number-Recognition\\data\\SoccerNet\\jersey-2023\\processed_data\\test\\41\\features.npy\n",
      "2025-03-23 12:13:45 [INFO] Identifying and removing outliers by calling gaussian_outliers_streamlined.py on feature file\n"
     ]
    },
    {
     "name": "stderr",
     "output_type": "stream",
     "text": [
      "Lightning automatically upgraded your loaded checkpoint from v1.1.4 to v2.5.0.post0. To apply the upgrade to your files permanently, run `python -m pytorch_lightning.utilities.upgrade_checkpoint c:\\Users\\colin\\OneDrive\\Desktop\\Jersey-Number-Recognition\\data\\pre_trained_models\\reid\\dukemtmcreid_resnet50_256_128_epoch_120.ckpt`\n"
     ]
    },
    {
     "name": "stdout",
     "output_type": "stream",
     "text": [
      "2025-03-23 12:13:46 [INFO] Saved features for tracklet with shape (36, 2048) to c:\\Users\\colin\\OneDrive\\Desktop\\Jersey-Number-Recognition\\data\\SoccerNet\\jersey-2023\\processed_data\\test\\49\\features.npy\n",
      "2025-03-23 12:13:46 [INFO] Identifying and removing outliers by calling gaussian_outliers_streamlined.py on feature file\n"
     ]
    },
    {
     "name": "stderr",
     "output_type": "stream",
     "text": [
      "Lightning automatically upgraded your loaded checkpoint from v1.1.4 to v2.5.0.post0. To apply the upgrade to your files permanently, run `python -m pytorch_lightning.utilities.upgrade_checkpoint c:\\Users\\colin\\OneDrive\\Desktop\\Jersey-Number-Recognition\\data\\pre_trained_models\\reid\\dukemtmcreid_resnet50_256_128_epoch_120.ckpt`\n"
     ]
    },
    {
     "name": "stdout",
     "output_type": "stream",
     "text": [
      "2025-03-23 12:13:50 [INFO] Saved features for tracklet with shape (310, 2048) to c:\\Users\\colin\\OneDrive\\Desktop\\Jersey-Number-Recognition\\data\\SoccerNet\\jersey-2023\\processed_data\\test\\36\\features.npy\n",
      "2025-03-23 12:13:50 [INFO] Identifying and removing outliers by calling gaussian_outliers_streamlined.py on feature file\n"
     ]
    },
    {
     "name": "stderr",
     "output_type": "stream",
     "text": [
      "Lightning automatically upgraded your loaded checkpoint from v1.1.4 to v2.5.0.post0. To apply the upgrade to your files permanently, run `python -m pytorch_lightning.utilities.upgrade_checkpoint c:\\Users\\colin\\OneDrive\\Desktop\\Jersey-Number-Recognition\\data\\pre_trained_models\\reid\\dukemtmcreid_resnet50_256_128_epoch_120.ckpt`\n"
     ]
    },
    {
     "name": "stdout",
     "output_type": "stream",
     "text": [
      "2025-03-23 12:13:55 [INFO] Saved features for tracklet with shape (466, 2048) to c:\\Users\\colin\\OneDrive\\Desktop\\Jersey-Number-Recognition\\data\\SoccerNet\\jersey-2023\\processed_data\\test\\32\\features.npy\n",
      "2025-03-23 12:13:55 [INFO] Identifying and removing outliers by calling gaussian_outliers_streamlined.py on feature file\n"
     ]
    },
    {
     "name": "stderr",
     "output_type": "stream",
     "text": [
      "Lightning automatically upgraded your loaded checkpoint from v1.1.4 to v2.5.0.post0. To apply the upgrade to your files permanently, run `python -m pytorch_lightning.utilities.upgrade_checkpoint c:\\Users\\colin\\OneDrive\\Desktop\\Jersey-Number-Recognition\\data\\pre_trained_models\\reid\\dukemtmcreid_resnet50_256_128_epoch_120.ckpt`\n"
     ]
    },
    {
     "name": "stdout",
     "output_type": "stream",
     "text": [
      "2025-03-23 12:13:56 [INFO] \n",
      "2025-03-23 12:13:56 [ERROR] \n",
      "2025-03-23 12:13:56 [INFO] Done removing outliers\n",
      "2025-03-23 12:13:56 [INFO] Running model chain on preprocessed image(s).\n",
      "2025-03-23 12:13:56 [INFO] Classifying legibility of image(s) using pre-trained model.\n",
      "2025-03-23 12:13:56 [WARNING] No soccer ball list found. Skipping exclusion of soccer balls.\n",
      "2025-03-23 12:13:56 [INFO] Path checked: c:\\Users\\colin\\OneDrive\\Desktop\\Jersey-Number-Recognition\\data\\SoccerNet\\jersey-2023\\processed_data\\test\\common_data\\soccer_ball.json\n",
      "2025-03-23 12:13:57 [INFO] \n",
      "2025-03-23 12:13:57 [ERROR] \n",
      "2025-03-23 12:13:57 [INFO] Done removing outliers\n",
      "2025-03-23 12:13:57 [INFO] Running model chain on preprocessed image(s).\n",
      "2025-03-23 12:13:57 [INFO] Classifying legibility of image(s) using pre-trained model.\n",
      "2025-03-23 12:13:57 [WARNING] No soccer ball list found. Skipping exclusion of soccer balls.\n",
      "2025-03-23 12:13:57 [INFO] Path checked: c:\\Users\\colin\\OneDrive\\Desktop\\Jersey-Number-Recognition\\data\\SoccerNet\\jersey-2023\\processed_data\\test\\common_data\\soccer_ball.json\n",
      "2025-03-23 12:13:59 [INFO] \n",
      "2025-03-23 12:13:59 [ERROR] \n",
      "2025-03-23 12:13:59 [INFO] Done removing outliers\n",
      "2025-03-23 12:13:59 [INFO] Running model chain on preprocessed image(s).\n",
      "2025-03-23 12:13:59 [INFO] Classifying legibility of image(s) using pre-trained model.\n",
      "2025-03-23 12:13:59 [WARNING] No soccer ball list found. Skipping exclusion of soccer balls.\n",
      "2025-03-23 12:13:59 [INFO] Path checked: c:\\Users\\colin\\OneDrive\\Desktop\\Jersey-Number-Recognition\\data\\SoccerNet\\jersey-2023\\processed_data\\test\\common_data\\soccer_ball.json\n",
      "2025-03-23 12:14:07 [INFO] \n",
      "2025-03-23 12:14:07 [ERROR] \n",
      "2025-03-23 12:14:07 [INFO] Done removing outliers\n",
      "2025-03-23 12:14:07 [INFO] Running model chain on preprocessed image(s).\n",
      "2025-03-23 12:14:07 [INFO] Classifying legibility of image(s) using pre-trained model.\n",
      "2025-03-23 12:14:07 [WARNING] No soccer ball list found. Skipping exclusion of soccer balls.\n",
      "2025-03-23 12:14:07 [INFO] Path checked: c:\\Users\\colin\\OneDrive\\Desktop\\Jersey-Number-Recognition\\data\\SoccerNet\\jersey-2023\\processed_data\\test\\common_data\\soccer_ball.json\n",
      "2025-03-23 12:14:07 [INFO] Saved features for tracklet with shape (549, 2048) to c:\\Users\\colin\\OneDrive\\Desktop\\Jersey-Number-Recognition\\data\\SoccerNet\\jersey-2023\\processed_data\\test\\33\\features.npy\n",
      "2025-03-23 12:14:07 [INFO] Identifying and removing outliers by calling gaussian_outliers_streamlined.py on feature file\n"
     ]
    },
    {
     "name": "stderr",
     "output_type": "stream",
     "text": [
      "Lightning automatically upgraded your loaded checkpoint from v1.1.4 to v2.5.0.post0. To apply the upgrade to your files permanently, run `python -m pytorch_lightning.utilities.upgrade_checkpoint c:\\Users\\colin\\OneDrive\\Desktop\\Jersey-Number-Recognition\\data\\pre_trained_models\\reid\\dukemtmcreid_resnet50_256_128_epoch_120.ckpt`\n"
     ]
    },
    {
     "name": "stdout",
     "output_type": "stream",
     "text": [
      "2025-03-23 12:14:12 [INFO] Saving legible_tracklets to: c:\\Users\\colin\\OneDrive\\Desktop\\Jersey-Number-Recognition\\data\\SoccerNet\\jersey-2023\\processed_data\\test\\40\\legible_results.json\n",
      "2025-03-23 12:14:12 [INFO] Saved legible_tracklets to: c:\\Users\\colin\\OneDrive\\Desktop\\Jersey-Number-Recognition\\data\\SoccerNet\\jersey-2023\\processed_data\\test\\40\\legible_results.json\n",
      "2025-03-23 12:14:12 [INFO] Saving illegible_tracklets to: c:\\Users\\colin\\OneDrive\\Desktop\\Jersey-Number-Recognition\\data\\SoccerNet\\jersey-2023\\processed_data\\test\\40\\illegible_results.json\n",
      "2025-03-23 12:14:12 [INFO] Saved illegible_tracklets to: c:\\Users\\colin\\OneDrive\\Desktop\\Jersey-Number-Recognition\\data\\SoccerNet\\jersey-2023\\processed_data\\test\\40\\illegible_results.json\n",
      "2025-03-23 12:14:12 [INFO] Legibility classification complete.\n",
      "2025-03-23 12:14:12 [INFO] Determine soccer balls in image(s) using pre-trained model.\n",
      "2025-03-23 12:14:12 [INFO] Processed tracklet: 40\n",
      "2025-03-23 12:14:12 [INFO] Found 0 balls, Ball list: []\n",
      "2025-03-23 12:14:14 [INFO] Saving legible_tracklets to: c:\\Users\\colin\\OneDrive\\Desktop\\Jersey-Number-Recognition\\data\\SoccerNet\\jersey-2023\\processed_data\\test\\41\\legible_results.json\n",
      "2025-03-23 12:14:14 [INFO] Saved legible_tracklets to: c:\\Users\\colin\\OneDrive\\Desktop\\Jersey-Number-Recognition\\data\\SoccerNet\\jersey-2023\\processed_data\\test\\41\\legible_results.json\n",
      "2025-03-23 12:14:14 [INFO] Saving illegible_tracklets to: c:\\Users\\colin\\OneDrive\\Desktop\\Jersey-Number-Recognition\\data\\SoccerNet\\jersey-2023\\processed_data\\test\\41\\illegible_results.json\n",
      "2025-03-23 12:14:14 [INFO] Saved illegible_tracklets to: c:\\Users\\colin\\OneDrive\\Desktop\\Jersey-Number-Recognition\\data\\SoccerNet\\jersey-2023\\processed_data\\test\\41\\illegible_results.json\n",
      "2025-03-23 12:14:14 [INFO] Legibility classification complete.\n",
      "2025-03-23 12:14:14 [INFO] Determine soccer balls in image(s) using pre-trained model.\n",
      "2025-03-23 12:14:14 [INFO] Processed tracklet: 41\n",
      "2025-03-23 12:14:14 [INFO] Found 0 balls, Ball list: []\n",
      "2025-03-23 12:14:17 [INFO] Saving legible_tracklets to: c:\\Users\\colin\\OneDrive\\Desktop\\Jersey-Number-Recognition\\data\\SoccerNet\\jersey-2023\\processed_data\\test\\49\\legible_results.json\n",
      "2025-03-23 12:14:17 [INFO] Saved legible_tracklets to: c:\\Users\\colin\\OneDrive\\Desktop\\Jersey-Number-Recognition\\data\\SoccerNet\\jersey-2023\\processed_data\\test\\49\\legible_results.json\n",
      "2025-03-23 12:14:17 [INFO] Saving illegible_tracklets to: c:\\Users\\colin\\OneDrive\\Desktop\\Jersey-Number-Recognition\\data\\SoccerNet\\jersey-2023\\processed_data\\test\\49\\illegible_results.json\n",
      "2025-03-23 12:14:17 [INFO] Saved illegible_tracklets to: c:\\Users\\colin\\OneDrive\\Desktop\\Jersey-Number-Recognition\\data\\SoccerNet\\jersey-2023\\processed_data\\test\\49\\illegible_results.json\n",
      "2025-03-23 12:14:17 [INFO] Legibility classification complete.\n",
      "2025-03-23 12:14:17 [INFO] Determine soccer balls in image(s) using pre-trained model.\n",
      "2025-03-23 12:14:17 [INFO] Processed tracklet: 49\n",
      "2025-03-23 12:14:17 [INFO] Found 0 balls, Ball list: []\n",
      "2025-03-23 12:14:17 [INFO] \n",
      "2025-03-23 12:14:17 [ERROR] \n",
      "2025-03-23 12:14:17 [INFO] Done removing outliers\n",
      "2025-03-23 12:14:17 [INFO] Running model chain on preprocessed image(s).\n",
      "2025-03-23 12:14:17 [INFO] Saved features for tracklet with shape (379, 2048) to c:\\Users\\colin\\OneDrive\\Desktop\\Jersey-Number-Recognition\\data\\SoccerNet\\jersey-2023\\processed_data\\test\\48\\features.npy\n",
      "2025-03-23 12:14:17 [INFO] Classifying legibility of image(s) using pre-trained model.\n",
      "2025-03-23 12:14:17 [WARNING] No soccer ball list found. Skipping exclusion of soccer balls.\n",
      "2025-03-23 12:14:17 [INFO] Path checked: c:\\Users\\colin\\OneDrive\\Desktop\\Jersey-Number-Recognition\\data\\SoccerNet\\jersey-2023\\processed_data\\test\\common_data\\soccer_ball.json\n",
      "2025-03-23 12:14:18 [INFO] Identifying and removing outliers by calling gaussian_outliers_streamlined.py on feature file\n"
     ]
    },
    {
     "name": "stderr",
     "output_type": "stream",
     "text": [
      "Lightning automatically upgraded your loaded checkpoint from v1.1.4 to v2.5.0.post0. To apply the upgrade to your files permanently, run `python -m pytorch_lightning.utilities.upgrade_checkpoint c:\\Users\\colin\\OneDrive\\Desktop\\Jersey-Number-Recognition\\data\\pre_trained_models\\reid\\dukemtmcreid_resnet50_256_128_epoch_120.ckpt`\n"
     ]
    },
    {
     "name": "stdout",
     "output_type": "stream",
     "text": [
      "2025-03-23 12:14:24 [INFO] Saving legible_tracklets to: c:\\Users\\colin\\OneDrive\\Desktop\\Jersey-Number-Recognition\\data\\SoccerNet\\jersey-2023\\processed_data\\test\\36\\legible_results.json\n",
      "2025-03-23 12:14:24 [INFO] Saved legible_tracklets to: c:\\Users\\colin\\OneDrive\\Desktop\\Jersey-Number-Recognition\\data\\SoccerNet\\jersey-2023\\processed_data\\test\\36\\legible_results.json\n",
      "2025-03-23 12:14:24 [INFO] Saving illegible_tracklets to: c:\\Users\\colin\\OneDrive\\Desktop\\Jersey-Number-Recognition\\data\\SoccerNet\\jersey-2023\\processed_data\\test\\36\\illegible_results.json\n",
      "2025-03-23 12:14:24 [INFO] Saved illegible_tracklets to: c:\\Users\\colin\\OneDrive\\Desktop\\Jersey-Number-Recognition\\data\\SoccerNet\\jersey-2023\\processed_data\\test\\36\\illegible_results.json\n",
      "2025-03-23 12:14:24 [INFO] Legibility classification complete.\n",
      "2025-03-23 12:14:24 [INFO] Determine soccer balls in image(s) using pre-trained model.\n",
      "2025-03-23 12:14:24 [INFO] Processed tracklet: 36\n",
      "2025-03-23 12:14:24 [INFO] Found 0 balls, Ball list: []\n",
      "2025-03-23 12:14:25 [INFO] Saved features for tracklet with shape (393, 2048) to c:\\Users\\colin\\OneDrive\\Desktop\\Jersey-Number-Recognition\\data\\SoccerNet\\jersey-2023\\processed_data\\test\\47\\features.npy\n",
      "2025-03-23 12:14:25 [INFO] Identifying and removing outliers by calling gaussian_outliers_streamlined.py on feature file\n"
     ]
    },
    {
     "name": "stderr",
     "output_type": "stream",
     "text": [
      "Lightning automatically upgraded your loaded checkpoint from v1.1.4 to v2.5.0.post0. To apply the upgrade to your files permanently, run `python -m pytorch_lightning.utilities.upgrade_checkpoint c:\\Users\\colin\\OneDrive\\Desktop\\Jersey-Number-Recognition\\data\\pre_trained_models\\reid\\dukemtmcreid_resnet50_256_128_epoch_120.ckpt`\n"
     ]
    },
    {
     "name": "stdout",
     "output_type": "stream",
     "text": [
      "2025-03-23 12:14:27 [INFO] \n",
      "2025-03-23 12:14:27 [ERROR] \n",
      "2025-03-23 12:14:27 [INFO] Done removing outliers\n",
      "2025-03-23 12:14:27 [INFO] Running model chain on preprocessed image(s).\n",
      "2025-03-23 12:14:27 [INFO] Classifying legibility of image(s) using pre-trained model.\n",
      "2025-03-23 12:14:27 [WARNING] No soccer ball list found. Skipping exclusion of soccer balls.\n",
      "2025-03-23 12:14:27 [INFO] Path checked: c:\\Users\\colin\\OneDrive\\Desktop\\Jersey-Number-Recognition\\data\\SoccerNet\\jersey-2023\\processed_data\\test\\common_data\\soccer_ball.json\n",
      "2025-03-23 12:14:33 [INFO] Saving legible_tracklets to: c:\\Users\\colin\\OneDrive\\Desktop\\Jersey-Number-Recognition\\data\\SoccerNet\\jersey-2023\\processed_data\\test\\32\\legible_results.json\n",
      "2025-03-23 12:14:33 [INFO] Saved legible_tracklets to: c:\\Users\\colin\\OneDrive\\Desktop\\Jersey-Number-Recognition\\data\\SoccerNet\\jersey-2023\\processed_data\\test\\32\\legible_results.json\n",
      "2025-03-23 12:14:33 [INFO] Saving illegible_tracklets to: c:\\Users\\colin\\OneDrive\\Desktop\\Jersey-Number-Recognition\\data\\SoccerNet\\jersey-2023\\processed_data\\test\\32\\illegible_results.json\n",
      "2025-03-23 12:14:33 [INFO] Saved illegible_tracklets to: c:\\Users\\colin\\OneDrive\\Desktop\\Jersey-Number-Recognition\\data\\SoccerNet\\jersey-2023\\processed_data\\test\\32\\illegible_results.json\n",
      "2025-03-23 12:14:33 [INFO] Legibility classification complete.\n",
      "2025-03-23 12:14:33 [INFO] Determine soccer balls in image(s) using pre-trained model.\n",
      "2025-03-23 12:14:33 [INFO] Processed tracklet: 32\n",
      "2025-03-23 12:14:33 [INFO] Found 0 balls, Ball list: []\n",
      "2025-03-23 12:14:33 [INFO] Saved features for tracklet with shape (491, 2048) to c:\\Users\\colin\\OneDrive\\Desktop\\Jersey-Number-Recognition\\data\\SoccerNet\\jersey-2023\\processed_data\\test\\44\\features.npy\n",
      "2025-03-23 12:14:33 [INFO] Identifying and removing outliers by calling gaussian_outliers_streamlined.py on feature file\n"
     ]
    },
    {
     "name": "stderr",
     "output_type": "stream",
     "text": [
      "Lightning automatically upgraded your loaded checkpoint from v1.1.4 to v2.5.0.post0. To apply the upgrade to your files permanently, run `python -m pytorch_lightning.utilities.upgrade_checkpoint c:\\Users\\colin\\OneDrive\\Desktop\\Jersey-Number-Recognition\\data\\pre_trained_models\\reid\\dukemtmcreid_resnet50_256_128_epoch_120.ckpt`\n"
     ]
    },
    {
     "name": "stdout",
     "output_type": "stream",
     "text": [
      "2025-03-23 12:14:34 [INFO] \n",
      "2025-03-23 12:14:34 [ERROR] \n",
      "2025-03-23 12:14:34 [INFO] Done removing outliers\n",
      "2025-03-23 12:14:34 [INFO] Running model chain on preprocessed image(s).\n",
      "2025-03-23 12:14:34 [INFO] Classifying legibility of image(s) using pre-trained model.\n",
      "2025-03-23 12:14:34 [WARNING] No soccer ball list found. Skipping exclusion of soccer balls.\n",
      "2025-03-23 12:14:34 [INFO] Path checked: c:\\Users\\colin\\OneDrive\\Desktop\\Jersey-Number-Recognition\\data\\SoccerNet\\jersey-2023\\processed_data\\test\\common_data\\soccer_ball.json\n",
      "2025-03-23 12:14:35 [INFO] Saved features for tracklet with shape (72, 2048) to c:\\Users\\colin\\OneDrive\\Desktop\\Jersey-Number-Recognition\\data\\SoccerNet\\jersey-2023\\processed_data\\test\\38\\features.npy\n",
      "2025-03-23 12:14:35 [INFO] Identifying and removing outliers by calling gaussian_outliers_streamlined.py on feature file\n"
     ]
    },
    {
     "name": "stderr",
     "output_type": "stream",
     "text": [
      "Lightning automatically upgraded your loaded checkpoint from v1.1.4 to v2.5.0.post0. To apply the upgrade to your files permanently, run `python -m pytorch_lightning.utilities.upgrade_checkpoint c:\\Users\\colin\\OneDrive\\Desktop\\Jersey-Number-Recognition\\data\\pre_trained_models\\reid\\dukemtmcreid_resnet50_256_128_epoch_120.ckpt`\n"
     ]
    },
    {
     "name": "stdout",
     "output_type": "stream",
     "text": [
      "2025-03-23 12:14:40 [INFO] \n",
      "2025-03-23 12:14:40 [ERROR] \n",
      "2025-03-23 12:14:40 [INFO] Done removing outliers\n",
      "2025-03-23 12:14:40 [INFO] Running model chain on preprocessed image(s).\n",
      "2025-03-23 12:14:40 [INFO] Classifying legibility of image(s) using pre-trained model.\n",
      "2025-03-23 12:14:40 [WARNING] No soccer ball list found. Skipping exclusion of soccer balls.\n",
      "2025-03-23 12:14:40 [INFO] Path checked: c:\\Users\\colin\\OneDrive\\Desktop\\Jersey-Number-Recognition\\data\\SoccerNet\\jersey-2023\\processed_data\\test\\common_data\\soccer_ball.json\n",
      "2025-03-23 12:14:41 [INFO] Saving legible_tracklets to: c:\\Users\\colin\\OneDrive\\Desktop\\Jersey-Number-Recognition\\data\\SoccerNet\\jersey-2023\\processed_data\\test\\33\\legible_results.json\n",
      "2025-03-23 12:14:41 [INFO] Saved legible_tracklets to: c:\\Users\\colin\\OneDrive\\Desktop\\Jersey-Number-Recognition\\data\\SoccerNet\\jersey-2023\\processed_data\\test\\33\\legible_results.json\n",
      "2025-03-23 12:14:41 [INFO] Saving illegible_tracklets to: c:\\Users\\colin\\OneDrive\\Desktop\\Jersey-Number-Recognition\\data\\SoccerNet\\jersey-2023\\processed_data\\test\\33\\illegible_results.json\n",
      "2025-03-23 12:14:41 [INFO] Saved illegible_tracklets to: c:\\Users\\colin\\OneDrive\\Desktop\\Jersey-Number-Recognition\\data\\SoccerNet\\jersey-2023\\processed_data\\test\\33\\illegible_results.json\n",
      "2025-03-23 12:14:41 [INFO] Legibility classification complete.\n",
      "2025-03-23 12:14:41 [INFO] Determine soccer balls in image(s) using pre-trained model.\n",
      "2025-03-23 12:14:41 [INFO] Processed tracklet: 33\n",
      "2025-03-23 12:14:41 [INFO] Found 0 balls, Ball list: []\n",
      "2025-03-23 12:14:41 [INFO] Saved features for tracklet with shape (213, 2048) to c:\\Users\\colin\\OneDrive\\Desktop\\Jersey-Number-Recognition\\data\\SoccerNet\\jersey-2023\\processed_data\\test\\37\\features.npy\n",
      "2025-03-23 12:14:41 [INFO] Identifying and removing outliers by calling gaussian_outliers_streamlined.py on feature file\n"
     ]
    },
    {
     "name": "stderr",
     "output_type": "stream",
     "text": [
      "Lightning automatically upgraded your loaded checkpoint from v1.1.4 to v2.5.0.post0. To apply the upgrade to your files permanently, run `python -m pytorch_lightning.utilities.upgrade_checkpoint c:\\Users\\colin\\OneDrive\\Desktop\\Jersey-Number-Recognition\\data\\pre_trained_models\\reid\\dukemtmcreid_resnet50_256_128_epoch_120.ckpt`\n"
     ]
    },
    {
     "name": "stdout",
     "output_type": "stream",
     "text": [
      "2025-03-23 12:14:49 [INFO] Saved features for tracklet with shape (354, 2048) to c:\\Users\\colin\\OneDrive\\Desktop\\Jersey-Number-Recognition\\data\\SoccerNet\\jersey-2023\\processed_data\\test\\35\\features.npy\n",
      "2025-03-23 12:14:49 [INFO] Identifying and removing outliers by calling gaussian_outliers_streamlined.py on feature file\n",
      "2025-03-23 12:14:50 [INFO] Saving legible_tracklets to: c:\\Users\\colin\\OneDrive\\Desktop\\Jersey-Number-Recognition\\data\\SoccerNet\\jersey-2023\\processed_data\\test\\48\\legible_results.json\n",
      "2025-03-23 12:14:50 [INFO] Saved legible_tracklets to: c:\\Users\\colin\\OneDrive\\Desktop\\Jersey-Number-Recognition\\data\\SoccerNet\\jersey-2023\\processed_data\\test\\48\\legible_results.json\n",
      "2025-03-23 12:14:50 [INFO] Saving illegible_tracklets to: c:\\Users\\colin\\OneDrive\\Desktop\\Jersey-Number-Recognition\\data\\SoccerNet\\jersey-2023\\processed_data\\test\\48\\illegible_results.json\n",
      "2025-03-23 12:14:50 [INFO] Saved illegible_tracklets to: c:\\Users\\colin\\OneDrive\\Desktop\\Jersey-Number-Recognition\\data\\SoccerNet\\jersey-2023\\processed_data\\test\\48\\illegible_results.json\n",
      "2025-03-23 12:14:50 [INFO] Legibility classification complete.\n",
      "2025-03-23 12:14:50 [INFO] Determine soccer balls in image(s) using pre-trained model.\n",
      "2025-03-23 12:14:50 [INFO] Processed tracklet: 48\n",
      "2025-03-23 12:14:50 [INFO] Found 0 balls, Ball list: []\n"
     ]
    },
    {
     "name": "stderr",
     "output_type": "stream",
     "text": [
      "Lightning automatically upgraded your loaded checkpoint from v1.1.4 to v2.5.0.post0. To apply the upgrade to your files permanently, run `python -m pytorch_lightning.utilities.upgrade_checkpoint c:\\Users\\colin\\OneDrive\\Desktop\\Jersey-Number-Recognition\\data\\pre_trained_models\\reid\\dukemtmcreid_resnet50_256_128_epoch_120.ckpt`\n"
     ]
    },
    {
     "name": "stdout",
     "output_type": "stream",
     "text": [
      "2025-03-23 12:14:50 [INFO] \n",
      "2025-03-23 12:14:50 [ERROR] \n",
      "2025-03-23 12:14:50 [INFO] Done removing outliers\n",
      "2025-03-23 12:14:50 [INFO] Running model chain on preprocessed image(s).\n",
      "2025-03-23 12:14:50 [INFO] Classifying legibility of image(s) using pre-trained model.\n",
      "2025-03-23 12:14:50 [WARNING] No soccer ball list found. Skipping exclusion of soccer balls.\n",
      "2025-03-23 12:14:50 [INFO] Path checked: c:\\Users\\colin\\OneDrive\\Desktop\\Jersey-Number-Recognition\\data\\SoccerNet\\jersey-2023\\processed_data\\test\\common_data\\soccer_ball.json\n",
      "2025-03-23 12:14:53 [INFO] \n",
      "2025-03-23 12:14:53 [ERROR] \n",
      "2025-03-23 12:14:53 [INFO] Done removing outliers\n",
      "2025-03-23 12:14:53 [INFO] Running model chain on preprocessed image(s).\n",
      "2025-03-23 12:14:53 [INFO] Classifying legibility of image(s) using pre-trained model.\n",
      "2025-03-23 12:14:53 [WARNING] No soccer ball list found. Skipping exclusion of soccer balls.\n",
      "2025-03-23 12:14:53 [INFO] Path checked: c:\\Users\\colin\\OneDrive\\Desktop\\Jersey-Number-Recognition\\data\\SoccerNet\\jersey-2023\\processed_data\\test\\common_data\\soccer_ball.json\n",
      "2025-03-23 12:14:56 [INFO] Saving legible_tracklets to: c:\\Users\\colin\\OneDrive\\Desktop\\Jersey-Number-Recognition\\data\\SoccerNet\\jersey-2023\\processed_data\\test\\47\\legible_results.json\n",
      "2025-03-23 12:14:56 [INFO] Saved legible_tracklets to: c:\\Users\\colin\\OneDrive\\Desktop\\Jersey-Number-Recognition\\data\\SoccerNet\\jersey-2023\\processed_data\\test\\47\\legible_results.json\n",
      "2025-03-23 12:14:56 [INFO] Saving illegible_tracklets to: c:\\Users\\colin\\OneDrive\\Desktop\\Jersey-Number-Recognition\\data\\SoccerNet\\jersey-2023\\processed_data\\test\\47\\illegible_results.json\n",
      "2025-03-23 12:14:56 [INFO] Saved illegible_tracklets to: c:\\Users\\colin\\OneDrive\\Desktop\\Jersey-Number-Recognition\\data\\SoccerNet\\jersey-2023\\processed_data\\test\\47\\illegible_results.json\n",
      "2025-03-23 12:14:56 [INFO] Legibility classification complete.\n",
      "2025-03-23 12:14:56 [INFO] Determine soccer balls in image(s) using pre-trained model.\n",
      "2025-03-23 12:14:56 [INFO] Processed tracklet: 47\n",
      "2025-03-23 12:14:56 [INFO] Found 1 balls, Ball list: ['57']\n",
      "2025-03-23 12:14:57 [INFO] Saved features for tracklet with shape (414, 2048) to c:\\Users\\colin\\OneDrive\\Desktop\\Jersey-Number-Recognition\\data\\SoccerNet\\jersey-2023\\processed_data\\test\\45\\features.npy\n",
      "2025-03-23 12:14:57 [INFO] Identifying and removing outliers by calling gaussian_outliers_streamlined.py on feature file\n"
     ]
    },
    {
     "name": "stderr",
     "output_type": "stream",
     "text": [
      "Lightning automatically upgraded your loaded checkpoint from v1.1.4 to v2.5.0.post0. To apply the upgrade to your files permanently, run `python -m pytorch_lightning.utilities.upgrade_checkpoint c:\\Users\\colin\\OneDrive\\Desktop\\Jersey-Number-Recognition\\data\\pre_trained_models\\reid\\dukemtmcreid_resnet50_256_128_epoch_120.ckpt`\n"
     ]
    },
    {
     "name": "stdout",
     "output_type": "stream",
     "text": [
      "2025-03-23 12:14:59 [INFO] Saved features for tracklet with shape (63, 2048) to c:\\Users\\colin\\OneDrive\\Desktop\\Jersey-Number-Recognition\\data\\SoccerNet\\jersey-2023\\processed_data\\test\\51\\features.npy\n",
      "2025-03-23 12:14:59 [INFO] \n",
      "2025-03-23 12:14:59 [ERROR] \n",
      "2025-03-23 12:14:59 [INFO] Done removing outliers\n",
      "2025-03-23 12:14:59 [INFO] Running model chain on preprocessed image(s).\n",
      "2025-03-23 12:14:59 [INFO] Classifying legibility of image(s) using pre-trained model.\n",
      "2025-03-23 12:14:59 [WARNING] No soccer ball list found. Skipping exclusion of soccer balls.\n",
      "2025-03-23 12:14:59 [INFO] Path checked: c:\\Users\\colin\\OneDrive\\Desktop\\Jersey-Number-Recognition\\data\\SoccerNet\\jersey-2023\\processed_data\\test\\common_data\\soccer_ball.json\n",
      "2025-03-23 12:14:59 [INFO] Identifying and removing outliers by calling gaussian_outliers_streamlined.py on feature file\n"
     ]
    },
    {
     "name": "stderr",
     "output_type": "stream",
     "text": [
      "Lightning automatically upgraded your loaded checkpoint from v1.1.4 to v2.5.0.post0. To apply the upgrade to your files permanently, run `python -m pytorch_lightning.utilities.upgrade_checkpoint c:\\Users\\colin\\OneDrive\\Desktop\\Jersey-Number-Recognition\\data\\pre_trained_models\\reid\\dukemtmcreid_resnet50_256_128_epoch_120.ckpt`\n"
     ]
    },
    {
     "name": "stdout",
     "output_type": "stream",
     "text": [
      "2025-03-23 12:15:07 [INFO] Saving legible_tracklets to: c:\\Users\\colin\\OneDrive\\Desktop\\Jersey-Number-Recognition\\data\\SoccerNet\\jersey-2023\\processed_data\\test\\44\\legible_results.json\n",
      "2025-03-23 12:15:07 [INFO] Saved legible_tracklets to: c:\\Users\\colin\\OneDrive\\Desktop\\Jersey-Number-Recognition\\data\\SoccerNet\\jersey-2023\\processed_data\\test\\44\\legible_results.json\n",
      "2025-03-23 12:15:07 [INFO] Saving illegible_tracklets to: c:\\Users\\colin\\OneDrive\\Desktop\\Jersey-Number-Recognition\\data\\SoccerNet\\jersey-2023\\processed_data\\test\\44\\illegible_results.json\n",
      "2025-03-23 12:15:07 [INFO] Saved illegible_tracklets to: c:\\Users\\colin\\OneDrive\\Desktop\\Jersey-Number-Recognition\\data\\SoccerNet\\jersey-2023\\processed_data\\test\\44\\illegible_results.json\n",
      "2025-03-23 12:15:07 [INFO] Legibility classification complete.\n",
      "2025-03-23 12:15:07 [INFO] Determine soccer balls in image(s) using pre-trained model.\n",
      "2025-03-23 12:15:07 [INFO] Processed tracklet: 44\n",
      "2025-03-23 12:15:07 [INFO] Found 0 balls, Ball list: []\n",
      "2025-03-23 12:15:07 [INFO] Saving legible_tracklets to: c:\\Users\\colin\\OneDrive\\Desktop\\Jersey-Number-Recognition\\data\\SoccerNet\\jersey-2023\\processed_data\\test\\38\\legible_results.json\n",
      "2025-03-23 12:15:07 [INFO] Saved legible_tracklets to: c:\\Users\\colin\\OneDrive\\Desktop\\Jersey-Number-Recognition\\data\\SoccerNet\\jersey-2023\\processed_data\\test\\38\\legible_results.json\n",
      "2025-03-23 12:15:07 [INFO] Saving illegible_tracklets to: c:\\Users\\colin\\OneDrive\\Desktop\\Jersey-Number-Recognition\\data\\SoccerNet\\jersey-2023\\processed_data\\test\\38\\illegible_results.json\n",
      "2025-03-23 12:15:07 [INFO] Saved illegible_tracklets to: c:\\Users\\colin\\OneDrive\\Desktop\\Jersey-Number-Recognition\\data\\SoccerNet\\jersey-2023\\processed_data\\test\\38\\illegible_results.json\n",
      "2025-03-23 12:15:07 [INFO] Legibility classification complete.\n",
      "2025-03-23 12:15:07 [INFO] Determine soccer balls in image(s) using pre-trained model.\n",
      "2025-03-23 12:15:07 [INFO] Processed tracklet: 38\n",
      "2025-03-23 12:15:07 [INFO] Found 0 balls, Ball list: []\n",
      "2025-03-23 12:15:08 [INFO] \n",
      "2025-03-23 12:15:08 [ERROR] \n",
      "2025-03-23 12:15:08 [INFO] Done removing outliers\n",
      "2025-03-23 12:15:08 [INFO] Running model chain on preprocessed image(s).\n",
      "2025-03-23 12:15:08 [INFO] Classifying legibility of image(s) using pre-trained model.\n",
      "2025-03-23 12:15:08 [WARNING] No soccer ball list found. Skipping exclusion of soccer balls.\n",
      "2025-03-23 12:15:08 [INFO] Path checked: c:\\Users\\colin\\OneDrive\\Desktop\\Jersey-Number-Recognition\\data\\SoccerNet\\jersey-2023\\processed_data\\test\\common_data\\soccer_ball.json\n",
      "2025-03-23 12:15:13 [INFO] Saved features for tracklet with shape (734, 2048) to c:\\Users\\colin\\OneDrive\\Desktop\\Jersey-Number-Recognition\\data\\SoccerNet\\jersey-2023\\processed_data\\test\\34\\features.npy\n",
      "2025-03-23 12:15:13 [INFO] Identifying and removing outliers by calling gaussian_outliers_streamlined.py on feature file\n"
     ]
    },
    {
     "name": "stderr",
     "output_type": "stream",
     "text": [
      "Lightning automatically upgraded your loaded checkpoint from v1.1.4 to v2.5.0.post0. To apply the upgrade to your files permanently, run `python -m pytorch_lightning.utilities.upgrade_checkpoint c:\\Users\\colin\\OneDrive\\Desktop\\Jersey-Number-Recognition\\data\\pre_trained_models\\reid\\dukemtmcreid_resnet50_256_128_epoch_120.ckpt`\n",
      "Lightning automatically upgraded your loaded checkpoint from v1.1.4 to v2.5.0.post0. To apply the upgrade to your files permanently, run `python -m pytorch_lightning.utilities.upgrade_checkpoint c:\\Users\\colin\\OneDrive\\Desktop\\Jersey-Number-Recognition\\data\\pre_trained_models\\reid\\dukemtmcreid_resnet50_256_128_epoch_120.ckpt`\n"
     ]
    },
    {
     "name": "stdout",
     "output_type": "stream",
     "text": [
      "2025-03-23 12:15:15 [INFO] Saving legible_tracklets to: c:\\Users\\colin\\OneDrive\\Desktop\\Jersey-Number-Recognition\\data\\SoccerNet\\jersey-2023\\processed_data\\test\\37\\legible_results.json\n",
      "2025-03-23 12:15:15 [INFO] Saved legible_tracklets to: c:\\Users\\colin\\OneDrive\\Desktop\\Jersey-Number-Recognition\\data\\SoccerNet\\jersey-2023\\processed_data\\test\\37\\legible_results.json\n",
      "2025-03-23 12:15:15 [INFO] Saving illegible_tracklets to: c:\\Users\\colin\\OneDrive\\Desktop\\Jersey-Number-Recognition\\data\\SoccerNet\\jersey-2023\\processed_data\\test\\37\\illegible_results.json\n",
      "2025-03-23 12:15:15 [INFO] Saved illegible_tracklets to: c:\\Users\\colin\\OneDrive\\Desktop\\Jersey-Number-Recognition\\data\\SoccerNet\\jersey-2023\\processed_data\\test\\37\\illegible_results.json\n",
      "2025-03-23 12:15:15 [INFO] Legibility classification complete.\n",
      "2025-03-23 12:15:15 [INFO] Determine soccer balls in image(s) using pre-trained model.\n",
      "2025-03-23 12:15:15 [INFO] Processed tracklet: 37\n",
      "2025-03-23 12:15:15 [INFO] Found 0 balls, Ball list: []\n",
      "2025-03-23 12:15:16 [INFO] \n",
      "2025-03-23 12:15:16 [ERROR] \n",
      "2025-03-23 12:15:16 [INFO] Done removing outliers\n",
      "2025-03-23 12:15:16 [INFO] Running model chain on preprocessed image(s).\n",
      "2025-03-23 12:15:16 [INFO] Classifying legibility of image(s) using pre-trained model.\n",
      "2025-03-23 12:15:16 [WARNING] No soccer ball list found. Skipping exclusion of soccer balls.\n",
      "2025-03-23 12:15:16 [INFO] Path checked: c:\\Users\\colin\\OneDrive\\Desktop\\Jersey-Number-Recognition\\data\\SoccerNet\\jersey-2023\\processed_data\\test\\common_data\\soccer_ball.json\n",
      "2025-03-23 12:15:18 [INFO] Saved features for tracklet with shape (199, 2048) to c:\\Users\\colin\\OneDrive\\Desktop\\Jersey-Number-Recognition\\data\\SoccerNet\\jersey-2023\\processed_data\\test\\54\\features.npy\n",
      "2025-03-23 12:15:18 [INFO] Identifying and removing outliers by calling gaussian_outliers_streamlined.py on feature file\n",
      "2025-03-23 12:15:18 [INFO] \n",
      "2025-03-23 12:15:18 [ERROR] \n",
      "2025-03-23 12:15:18 [INFO] Done removing outliers\n",
      "2025-03-23 12:15:18 [INFO] Running model chain on preprocessed image(s).\n",
      "2025-03-23 12:15:18 [INFO] Classifying legibility of image(s) using pre-trained model.\n",
      "2025-03-23 12:15:18 [WARNING] No soccer ball list found. Skipping exclusion of soccer balls.\n",
      "2025-03-23 12:15:18 [INFO] Path checked: c:\\Users\\colin\\OneDrive\\Desktop\\Jersey-Number-Recognition\\data\\SoccerNet\\jersey-2023\\processed_data\\test\\common_data\\soccer_ball.json\n"
     ]
    },
    {
     "name": "stderr",
     "output_type": "stream",
     "text": [
      "Lightning automatically upgraded your loaded checkpoint from v1.1.4 to v2.5.0.post0. To apply the upgrade to your files permanently, run `python -m pytorch_lightning.utilities.upgrade_checkpoint c:\\Users\\colin\\OneDrive\\Desktop\\Jersey-Number-Recognition\\data\\pre_trained_models\\reid\\dukemtmcreid_resnet50_256_128_epoch_120.ckpt`\n"
     ]
    },
    {
     "name": "stdout",
     "output_type": "stream",
     "text": [
      "2025-03-23 12:15:22 [INFO] Saving legible_tracklets to: c:\\Users\\colin\\OneDrive\\Desktop\\Jersey-Number-Recognition\\data\\SoccerNet\\jersey-2023\\processed_data\\test\\35\\legible_results.json\n",
      "2025-03-23 12:15:22 [INFO] Saved legible_tracklets to: c:\\Users\\colin\\OneDrive\\Desktop\\Jersey-Number-Recognition\\data\\SoccerNet\\jersey-2023\\processed_data\\test\\35\\legible_results.json\n",
      "2025-03-23 12:15:22 [INFO] Saving illegible_tracklets to: c:\\Users\\colin\\OneDrive\\Desktop\\Jersey-Number-Recognition\\data\\SoccerNet\\jersey-2023\\processed_data\\test\\35\\illegible_results.json\n",
      "2025-03-23 12:15:22 [INFO] Saved illegible_tracklets to: c:\\Users\\colin\\OneDrive\\Desktop\\Jersey-Number-Recognition\\data\\SoccerNet\\jersey-2023\\processed_data\\test\\35\\illegible_results.json\n",
      "2025-03-23 12:15:22 [INFO] Legibility classification complete.\n",
      "2025-03-23 12:15:22 [INFO] Determine soccer balls in image(s) using pre-trained model.\n",
      "2025-03-23 12:15:22 [INFO] Processed tracklet: 35\n",
      "2025-03-23 12:15:22 [INFO] Found 0 balls, Ball list: []\n",
      "2025-03-23 12:15:24 [INFO] Saved features for tracklet with shape (255, 2048) to c:\\Users\\colin\\OneDrive\\Desktop\\Jersey-Number-Recognition\\data\\SoccerNet\\jersey-2023\\processed_data\\test\\42\\features.npy\n",
      "2025-03-23 12:15:24 [INFO] Identifying and removing outliers by calling gaussian_outliers_streamlined.py on feature file\n"
     ]
    },
    {
     "name": "stderr",
     "output_type": "stream",
     "text": [
      "Lightning automatically upgraded your loaded checkpoint from v1.1.4 to v2.5.0.post0. To apply the upgrade to your files permanently, run `python -m pytorch_lightning.utilities.upgrade_checkpoint c:\\Users\\colin\\OneDrive\\Desktop\\Jersey-Number-Recognition\\data\\pre_trained_models\\reid\\dukemtmcreid_resnet50_256_128_epoch_120.ckpt`\n"
     ]
    },
    {
     "name": "stdout",
     "output_type": "stream",
     "text": [
      "2025-03-23 12:15:30 [INFO] \n",
      "2025-03-23 12:15:30 [ERROR] \n",
      "2025-03-23 12:15:30 [INFO] Done removing outliers\n",
      "2025-03-23 12:15:30 [INFO] Running model chain on preprocessed image(s).\n",
      "2025-03-23 12:15:30 [INFO] Classifying legibility of image(s) using pre-trained model.\n",
      "2025-03-23 12:15:30 [WARNING] No soccer ball list found. Skipping exclusion of soccer balls.\n",
      "2025-03-23 12:15:30 [INFO] Path checked: c:\\Users\\colin\\OneDrive\\Desktop\\Jersey-Number-Recognition\\data\\SoccerNet\\jersey-2023\\processed_data\\test\\common_data\\soccer_ball.json\n",
      "2025-03-23 12:15:30 [INFO] Saving legible_tracklets to: c:\\Users\\colin\\OneDrive\\Desktop\\Jersey-Number-Recognition\\data\\SoccerNet\\jersey-2023\\processed_data\\test\\45\\legible_results.json\n",
      "2025-03-23 12:15:30 [INFO] Saved legible_tracklets to: c:\\Users\\colin\\OneDrive\\Desktop\\Jersey-Number-Recognition\\data\\SoccerNet\\jersey-2023\\processed_data\\test\\45\\legible_results.json\n",
      "2025-03-23 12:15:30 [INFO] Saving illegible_tracklets to: c:\\Users\\colin\\OneDrive\\Desktop\\Jersey-Number-Recognition\\data\\SoccerNet\\jersey-2023\\processed_data\\test\\45\\illegible_results.json\n",
      "2025-03-23 12:15:30 [INFO] Saved illegible_tracklets to: c:\\Users\\colin\\OneDrive\\Desktop\\Jersey-Number-Recognition\\data\\SoccerNet\\jersey-2023\\processed_data\\test\\45\\illegible_results.json\n",
      "2025-03-23 12:15:30 [INFO] Legibility classification complete.\n",
      "2025-03-23 12:15:30 [INFO] Determine soccer balls in image(s) using pre-trained model.\n",
      "2025-03-23 12:15:30 [INFO] Processed tracklet: 45\n",
      "2025-03-23 12:15:30 [INFO] Found 0 balls, Ball list: []\n",
      "2025-03-23 12:15:32 [INFO] Saved features for tracklet with shape (401, 2048) to c:\\Users\\colin\\OneDrive\\Desktop\\Jersey-Number-Recognition\\data\\SoccerNet\\jersey-2023\\processed_data\\test\\46\\features.npy\n",
      "2025-03-23 12:15:32 [INFO] Identifying and removing outliers by calling gaussian_outliers_streamlined.py on feature file\n",
      "2025-03-23 12:15:32 [INFO] Saving legible_tracklets to: c:\\Users\\colin\\OneDrive\\Desktop\\Jersey-Number-Recognition\\data\\SoccerNet\\jersey-2023\\processed_data\\test\\51\\legible_results.json\n",
      "2025-03-23 12:15:32 [INFO] Saved legible_tracklets to: c:\\Users\\colin\\OneDrive\\Desktop\\Jersey-Number-Recognition\\data\\SoccerNet\\jersey-2023\\processed_data\\test\\51\\legible_results.json\n",
      "2025-03-23 12:15:32 [INFO] Saving illegible_tracklets to: c:\\Users\\colin\\OneDrive\\Desktop\\Jersey-Number-Recognition\\data\\SoccerNet\\jersey-2023\\processed_data\\test\\51\\illegible_results.json\n",
      "2025-03-23 12:15:32 [INFO] Saved illegible_tracklets to: c:\\Users\\colin\\OneDrive\\Desktop\\Jersey-Number-Recognition\\data\\SoccerNet\\jersey-2023\\processed_data\\test\\51\\illegible_results.json\n",
      "2025-03-23 12:15:32 [INFO] Legibility classification complete.\n",
      "2025-03-23 12:15:32 [INFO] Determine soccer balls in image(s) using pre-trained model.\n",
      "2025-03-23 12:15:32 [INFO] Processed tracklet: 51\n",
      "2025-03-23 12:15:32 [INFO] Found 0 balls, Ball list: []\n"
     ]
    },
    {
     "name": "stderr",
     "output_type": "stream",
     "text": [
      "Lightning automatically upgraded your loaded checkpoint from v1.1.4 to v2.5.0.post0. To apply the upgrade to your files permanently, run `python -m pytorch_lightning.utilities.upgrade_checkpoint c:\\Users\\colin\\OneDrive\\Desktop\\Jersey-Number-Recognition\\data\\pre_trained_models\\reid\\dukemtmcreid_resnet50_256_128_epoch_120.ckpt`\n"
     ]
    },
    {
     "name": "stdout",
     "output_type": "stream",
     "text": [
      "2025-03-23 12:15:34 [INFO] Saved features for tracklet with shape (91, 2048) to c:\\Users\\colin\\OneDrive\\Desktop\\Jersey-Number-Recognition\\data\\SoccerNet\\jersey-2023\\processed_data\\test\\50\\features.npy\n",
      "2025-03-23 12:15:34 [INFO] Identifying and removing outliers by calling gaussian_outliers_streamlined.py on feature file\n"
     ]
    },
    {
     "name": "stderr",
     "output_type": "stream",
     "text": [
      "Lightning automatically upgraded your loaded checkpoint from v1.1.4 to v2.5.0.post0. To apply the upgrade to your files permanently, run `python -m pytorch_lightning.utilities.upgrade_checkpoint c:\\Users\\colin\\OneDrive\\Desktop\\Jersey-Number-Recognition\\data\\pre_trained_models\\reid\\dukemtmcreid_resnet50_256_128_epoch_120.ckpt`\n"
     ]
    },
    {
     "name": "stdout",
     "output_type": "stream",
     "text": [
      "2025-03-23 12:15:35 [INFO] \n",
      "2025-03-23 12:15:35 [ERROR] \n",
      "2025-03-23 12:15:35 [INFO] Done removing outliers\n",
      "2025-03-23 12:15:35 [INFO] Running model chain on preprocessed image(s).\n",
      "2025-03-23 12:15:35 [INFO] Classifying legibility of image(s) using pre-trained model.\n",
      "2025-03-23 12:15:35 [WARNING] No soccer ball list found. Skipping exclusion of soccer balls.\n",
      "2025-03-23 12:15:35 [INFO] Path checked: c:\\Users\\colin\\OneDrive\\Desktop\\Jersey-Number-Recognition\\data\\SoccerNet\\jersey-2023\\processed_data\\test\\common_data\\soccer_ball.json\n",
      "2025-03-23 12:15:35 [INFO] Saved features for tracklet with shape (77, 2048) to c:\\Users\\colin\\OneDrive\\Desktop\\Jersey-Number-Recognition\\data\\SoccerNet\\jersey-2023\\processed_data\\test\\52\\features.npy\n",
      "2025-03-23 12:15:35 [INFO] Identifying and removing outliers by calling gaussian_outliers_streamlined.py on feature file\n"
     ]
    },
    {
     "name": "stderr",
     "output_type": "stream",
     "text": [
      "Lightning automatically upgraded your loaded checkpoint from v1.1.4 to v2.5.0.post0. To apply the upgrade to your files permanently, run `python -m pytorch_lightning.utilities.upgrade_checkpoint c:\\Users\\colin\\OneDrive\\Desktop\\Jersey-Number-Recognition\\data\\pre_trained_models\\reid\\dukemtmcreid_resnet50_256_128_epoch_120.ckpt`\n"
     ]
    },
    {
     "name": "stdout",
     "output_type": "stream",
     "text": [
      "2025-03-23 12:15:39 [INFO] \n",
      "2025-03-23 12:15:39 [ERROR] \n",
      "2025-03-23 12:15:39 [INFO] Done removing outliers\n",
      "2025-03-23 12:15:39 [INFO] Running model chain on preprocessed image(s).\n",
      "2025-03-23 12:15:39 [INFO] Classifying legibility of image(s) using pre-trained model.\n",
      "2025-03-23 12:15:39 [WARNING] No soccer ball list found. Skipping exclusion of soccer balls.\n",
      "2025-03-23 12:15:39 [INFO] Path checked: c:\\Users\\colin\\OneDrive\\Desktop\\Jersey-Number-Recognition\\data\\SoccerNet\\jersey-2023\\processed_data\\test\\common_data\\soccer_ball.json\n",
      "2025-03-23 12:15:44 [INFO] Saved features for tracklet with shape (666, 2048) to c:\\Users\\colin\\OneDrive\\Desktop\\Jersey-Number-Recognition\\data\\SoccerNet\\jersey-2023\\processed_data\\test\\58\\features.npy\n",
      "2025-03-23 12:15:44 [INFO] Identifying and removing outliers by calling gaussian_outliers_streamlined.py on feature file\n",
      "2025-03-23 12:15:48 [INFO] \n",
      "2025-03-23 12:15:48 [ERROR] \n",
      "2025-03-23 12:15:48 [INFO] Done removing outliers\n",
      "2025-03-23 12:15:48 [INFO] Running model chain on preprocessed image(s).\n",
      "2025-03-23 12:15:48 [INFO] Classifying legibility of image(s) using pre-trained model.\n",
      "2025-03-23 12:15:48 [WARNING] No soccer ball list found. Skipping exclusion of soccer balls.\n",
      "2025-03-23 12:15:48 [INFO] Path checked: c:\\Users\\colin\\OneDrive\\Desktop\\Jersey-Number-Recognition\\data\\SoccerNet\\jersey-2023\\processed_data\\test\\common_data\\soccer_ball.json\n",
      "2025-03-23 12:15:49 [INFO] Saving legible_tracklets to: c:\\Users\\colin\\OneDrive\\Desktop\\Jersey-Number-Recognition\\data\\SoccerNet\\jersey-2023\\processed_data\\test\\54\\legible_results.json\n",
      "2025-03-23 12:15:49 [INFO] Saved legible_tracklets to: c:\\Users\\colin\\OneDrive\\Desktop\\Jersey-Number-Recognition\\data\\SoccerNet\\jersey-2023\\processed_data\\test\\54\\legible_results.json\n",
      "2025-03-23 12:15:49 [INFO] Saving illegible_tracklets to: c:\\Users\\colin\\OneDrive\\Desktop\\Jersey-Number-Recognition\\data\\SoccerNet\\jersey-2023\\processed_data\\test\\54\\illegible_results.json\n",
      "2025-03-23 12:15:49 [INFO] Saved illegible_tracklets to: c:\\Users\\colin\\OneDrive\\Desktop\\Jersey-Number-Recognition\\data\\SoccerNet\\jersey-2023\\processed_data\\test\\54\\illegible_results.json\n",
      "2025-03-23 12:15:49 [INFO] Legibility classification complete.\n",
      "2025-03-23 12:15:49 [INFO] Processed tracklet: 54\n",
      "2025-03-23 12:15:51 [INFO] \n",
      "2025-03-23 12:15:51 [ERROR] \n",
      "2025-03-23 12:15:51 [INFO] Done removing outliers\n",
      "2025-03-23 12:15:51 [INFO] Running model chain on preprocessed image(s).\n",
      "2025-03-23 12:15:51 [INFO] Classifying legibility of image(s) using pre-trained model.\n",
      "2025-03-23 12:15:51 [WARNING] No soccer ball list found. Skipping exclusion of soccer balls.\n",
      "2025-03-23 12:15:51 [INFO] Path checked: c:\\Users\\colin\\OneDrive\\Desktop\\Jersey-Number-Recognition\\data\\SoccerNet\\jersey-2023\\processed_data\\test\\common_data\\soccer_ball.json\n",
      "2025-03-23 12:15:53 [INFO] Saved features for tracklet with shape (538, 2048) to c:\\Users\\colin\\OneDrive\\Desktop\\Jersey-Number-Recognition\\data\\SoccerNet\\jersey-2023\\processed_data\\test\\43\\features.npy\n",
      "2025-03-23 12:15:53 [INFO] Identifying and removing outliers by calling gaussian_outliers_streamlined.py on feature file\n"
     ]
    },
    {
     "name": "stderr",
     "output_type": "stream",
     "text": [
      "Lightning automatically upgraded your loaded checkpoint from v1.1.4 to v2.5.0.post0. To apply the upgrade to your files permanently, run `python -m pytorch_lightning.utilities.upgrade_checkpoint c:\\Users\\colin\\OneDrive\\Desktop\\Jersey-Number-Recognition\\data\\pre_trained_models\\reid\\dukemtmcreid_resnet50_256_128_epoch_120.ckpt`\n"
     ]
    },
    {
     "name": "stdout",
     "output_type": "stream",
     "text": [
      "2025-03-23 12:15:54 [INFO] \n",
      "2025-03-23 12:15:54 [ERROR] \n",
      "2025-03-23 12:15:54 [INFO] Done removing outliers\n",
      "2025-03-23 12:15:54 [INFO] Running model chain on preprocessed image(s).\n",
      "2025-03-23 12:15:54 [INFO] Classifying legibility of image(s) using pre-trained model.\n",
      "2025-03-23 12:15:54 [WARNING] No soccer ball list found. Skipping exclusion of soccer balls.\n",
      "2025-03-23 12:15:54 [INFO] Path checked: c:\\Users\\colin\\OneDrive\\Desktop\\Jersey-Number-Recognition\\data\\SoccerNet\\jersey-2023\\processed_data\\test\\common_data\\soccer_ball.json\n"
     ]
    },
    {
     "name": "stderr",
     "output_type": "stream",
     "text": [
      "Lightning automatically upgraded your loaded checkpoint from v1.1.4 to v2.5.0.post0. To apply the upgrade to your files permanently, run `python -m pytorch_lightning.utilities.upgrade_checkpoint c:\\Users\\colin\\OneDrive\\Desktop\\Jersey-Number-Recognition\\data\\pre_trained_models\\reid\\dukemtmcreid_resnet50_256_128_epoch_120.ckpt`\n"
     ]
    },
    {
     "name": "stdout",
     "output_type": "stream",
     "text": [
      "2025-03-23 12:15:55 [INFO] Saving legible_tracklets to: c:\\Users\\colin\\OneDrive\\Desktop\\Jersey-Number-Recognition\\data\\SoccerNet\\jersey-2023\\processed_data\\test\\42\\legible_results.json\n",
      "2025-03-23 12:15:55 [INFO] Saved legible_tracklets to: c:\\Users\\colin\\OneDrive\\Desktop\\Jersey-Number-Recognition\\data\\SoccerNet\\jersey-2023\\processed_data\\test\\42\\legible_results.json\n",
      "2025-03-23 12:15:55 [INFO] Saving illegible_tracklets to: c:\\Users\\colin\\OneDrive\\Desktop\\Jersey-Number-Recognition\\data\\SoccerNet\\jersey-2023\\processed_data\\test\\42\\illegible_results.json\n",
      "2025-03-23 12:15:55 [INFO] Saved illegible_tracklets to: c:\\Users\\colin\\OneDrive\\Desktop\\Jersey-Number-Recognition\\data\\SoccerNet\\jersey-2023\\processed_data\\test\\42\\illegible_results.json\n",
      "2025-03-23 12:15:55 [INFO] Legibility classification complete.\n",
      "2025-03-23 12:15:55 [INFO] Processed tracklet: 42\n",
      "2025-03-23 12:15:59 [INFO] Saved features for tracklet with shape (148, 2048) to c:\\Users\\colin\\OneDrive\\Desktop\\Jersey-Number-Recognition\\data\\SoccerNet\\jersey-2023\\processed_data\\test\\39\\features.npy\n",
      "2025-03-23 12:15:59 [INFO] Identifying and removing outliers by calling gaussian_outliers_streamlined.py on feature file\n"
     ]
    },
    {
     "name": "stderr",
     "output_type": "stream",
     "text": [
      "Lightning automatically upgraded your loaded checkpoint from v1.1.4 to v2.5.0.post0. To apply the upgrade to your files permanently, run `python -m pytorch_lightning.utilities.upgrade_checkpoint c:\\Users\\colin\\OneDrive\\Desktop\\Jersey-Number-Recognition\\data\\pre_trained_models\\reid\\dukemtmcreid_resnet50_256_128_epoch_120.ckpt`\n"
     ]
    },
    {
     "name": "stdout",
     "output_type": "stream",
     "text": [
      "2025-03-23 12:16:06 [INFO] \n",
      "2025-03-23 12:16:06 [ERROR] \n",
      "2025-03-23 12:16:06 [INFO] Done removing outliers\n",
      "2025-03-23 12:16:06 [INFO] Running model chain on preprocessed image(s).\n",
      "2025-03-23 12:16:06 [INFO] Classifying legibility of image(s) using pre-trained model.\n",
      "2025-03-23 12:16:06 [WARNING] No soccer ball list found. Skipping exclusion of soccer balls.\n",
      "2025-03-23 12:16:06 [INFO] Path checked: c:\\Users\\colin\\OneDrive\\Desktop\\Jersey-Number-Recognition\\data\\SoccerNet\\jersey-2023\\processed_data\\test\\common_data\\soccer_ball.json\n",
      "2025-03-23 12:16:07 [INFO] Saving legible_tracklets to: c:\\Users\\colin\\OneDrive\\Desktop\\Jersey-Number-Recognition\\data\\SoccerNet\\jersey-2023\\processed_data\\test\\46\\legible_results.json\n",
      "2025-03-23 12:16:07 [INFO] Saved legible_tracklets to: c:\\Users\\colin\\OneDrive\\Desktop\\Jersey-Number-Recognition\\data\\SoccerNet\\jersey-2023\\processed_data\\test\\46\\legible_results.json\n",
      "2025-03-23 12:16:07 [INFO] Saving illegible_tracklets to: c:\\Users\\colin\\OneDrive\\Desktop\\Jersey-Number-Recognition\\data\\SoccerNet\\jersey-2023\\processed_data\\test\\46\\illegible_results.json\n",
      "2025-03-23 12:16:07 [INFO] Saved illegible_tracklets to: c:\\Users\\colin\\OneDrive\\Desktop\\Jersey-Number-Recognition\\data\\SoccerNet\\jersey-2023\\processed_data\\test\\46\\illegible_results.json\n",
      "2025-03-23 12:16:07 [INFO] Legibility classification complete.\n",
      "2025-03-23 12:16:07 [INFO] Processed tracklet: 46\n",
      "2025-03-23 12:16:08 [INFO] Saving legible_tracklets to: c:\\Users\\colin\\OneDrive\\Desktop\\Jersey-Number-Recognition\\data\\SoccerNet\\jersey-2023\\processed_data\\test\\50\\legible_results.json\n",
      "2025-03-23 12:16:08 [INFO] Saved legible_tracklets to: c:\\Users\\colin\\OneDrive\\Desktop\\Jersey-Number-Recognition\\data\\SoccerNet\\jersey-2023\\processed_data\\test\\50\\legible_results.json\n",
      "2025-03-23 12:16:08 [INFO] Saving illegible_tracklets to: c:\\Users\\colin\\OneDrive\\Desktop\\Jersey-Number-Recognition\\data\\SoccerNet\\jersey-2023\\processed_data\\test\\50\\illegible_results.json\n",
      "2025-03-23 12:16:08 [INFO] Saved illegible_tracklets to: c:\\Users\\colin\\OneDrive\\Desktop\\Jersey-Number-Recognition\\data\\SoccerNet\\jersey-2023\\processed_data\\test\\50\\illegible_results.json\n",
      "2025-03-23 12:16:08 [INFO] Legibility classification complete.\n",
      "2025-03-23 12:16:08 [INFO] Processed tracklet: 50\n",
      "2025-03-23 12:16:10 [INFO] Saved features for tracklet with shape (592, 2048) to c:\\Users\\colin\\OneDrive\\Desktop\\Jersey-Number-Recognition\\data\\SoccerNet\\jersey-2023\\processed_data\\test\\61\\features.npy\n",
      "2025-03-23 12:16:10 [INFO] Identifying and removing outliers by calling gaussian_outliers_streamlined.py on feature file\n",
      "2025-03-23 12:16:10 [INFO] Saving legible_tracklets to: c:\\Users\\colin\\OneDrive\\Desktop\\Jersey-Number-Recognition\\data\\SoccerNet\\jersey-2023\\processed_data\\test\\52\\legible_results.json\n",
      "2025-03-23 12:16:10 [INFO] Saved legible_tracklets to: c:\\Users\\colin\\OneDrive\\Desktop\\Jersey-Number-Recognition\\data\\SoccerNet\\jersey-2023\\processed_data\\test\\52\\legible_results.json\n",
      "2025-03-23 12:16:10 [INFO] Saving illegible_tracklets to: c:\\Users\\colin\\OneDrive\\Desktop\\Jersey-Number-Recognition\\data\\SoccerNet\\jersey-2023\\processed_data\\test\\52\\illegible_results.json\n",
      "2025-03-23 12:16:10 [INFO] Saved illegible_tracklets to: c:\\Users\\colin\\OneDrive\\Desktop\\Jersey-Number-Recognition\\data\\SoccerNet\\jersey-2023\\processed_data\\test\\52\\illegible_results.json\n",
      "2025-03-23 12:16:10 [INFO] Legibility classification complete.\n",
      "2025-03-23 12:16:10 [INFO] Processed tracklet: 52\n"
     ]
    },
    {
     "name": "stderr",
     "output_type": "stream",
     "text": [
      "Lightning automatically upgraded your loaded checkpoint from v1.1.4 to v2.5.0.post0. To apply the upgrade to your files permanently, run `python -m pytorch_lightning.utilities.upgrade_checkpoint c:\\Users\\colin\\OneDrive\\Desktop\\Jersey-Number-Recognition\\data\\pre_trained_models\\reid\\dukemtmcreid_resnet50_256_128_epoch_120.ckpt`\n"
     ]
    },
    {
     "name": "stdout",
     "output_type": "stream",
     "text": [
      "2025-03-23 12:16:13 [INFO] \n",
      "2025-03-23 12:16:13 [ERROR] \n",
      "2025-03-23 12:16:13 [INFO] Done removing outliers\n",
      "2025-03-23 12:16:13 [INFO] Running model chain on preprocessed image(s).\n",
      "2025-03-23 12:16:13 [INFO] Classifying legibility of image(s) using pre-trained model.\n",
      "2025-03-23 12:16:13 [WARNING] No soccer ball list found. Skipping exclusion of soccer balls.\n",
      "2025-03-23 12:16:13 [INFO] Path checked: c:\\Users\\colin\\OneDrive\\Desktop\\Jersey-Number-Recognition\\data\\SoccerNet\\jersey-2023\\processed_data\\test\\common_data\\soccer_ball.json\n",
      "2025-03-23 12:16:17 [INFO] Saving legible_tracklets to: c:\\Users\\colin\\OneDrive\\Desktop\\Jersey-Number-Recognition\\data\\SoccerNet\\jersey-2023\\processed_data\\test\\34\\legible_results.json\n",
      "2025-03-23 12:16:17 [INFO] Saved legible_tracklets to: c:\\Users\\colin\\OneDrive\\Desktop\\Jersey-Number-Recognition\\data\\SoccerNet\\jersey-2023\\processed_data\\test\\34\\legible_results.json\n",
      "2025-03-23 12:16:17 [INFO] Saving illegible_tracklets to: c:\\Users\\colin\\OneDrive\\Desktop\\Jersey-Number-Recognition\\data\\SoccerNet\\jersey-2023\\processed_data\\test\\34\\illegible_results.json\n",
      "2025-03-23 12:16:17 [INFO] Saved illegible_tracklets to: c:\\Users\\colin\\OneDrive\\Desktop\\Jersey-Number-Recognition\\data\\SoccerNet\\jersey-2023\\processed_data\\test\\34\\illegible_results.json\n",
      "2025-03-23 12:16:17 [INFO] Legibility classification complete.\n",
      "2025-03-23 12:16:17 [INFO] Processed tracklet: 34\n",
      "2025-03-23 12:16:17 [INFO] \n",
      "2025-03-23 12:16:17 [ERROR] \n",
      "2025-03-23 12:16:17 [INFO] Done removing outliers\n",
      "2025-03-23 12:16:17 [INFO] Running model chain on preprocessed image(s).\n",
      "2025-03-23 12:16:17 [INFO] Classifying legibility of image(s) using pre-trained model.\n",
      "2025-03-23 12:16:17 [WARNING] No soccer ball list found. Skipping exclusion of soccer balls.\n",
      "2025-03-23 12:16:17 [INFO] Path checked: c:\\Users\\colin\\OneDrive\\Desktop\\Jersey-Number-Recognition\\data\\SoccerNet\\jersey-2023\\processed_data\\test\\common_data\\soccer_ball.json\n",
      "2025-03-23 12:16:20 [INFO] Saved features for tracklet with shape (750, 2048) to c:\\Users\\colin\\OneDrive\\Desktop\\Jersey-Number-Recognition\\data\\SoccerNet\\jersey-2023\\processed_data\\test\\62\\features.npy\n",
      "2025-03-23 12:16:20 [INFO] Identifying and removing outliers by calling gaussian_outliers_streamlined.py on feature file\n"
     ]
    },
    {
     "name": "stderr",
     "output_type": "stream",
     "text": [
      "Lightning automatically upgraded your loaded checkpoint from v1.1.4 to v2.5.0.post0. To apply the upgrade to your files permanently, run `python -m pytorch_lightning.utilities.upgrade_checkpoint c:\\Users\\colin\\OneDrive\\Desktop\\Jersey-Number-Recognition\\data\\pre_trained_models\\reid\\dukemtmcreid_resnet50_256_128_epoch_120.ckpt`\n"
     ]
    },
    {
     "name": "stdout",
     "output_type": "stream",
     "text": [
      "2025-03-23 12:16:22 [INFO] Saved features for tracklet with shape (46, 2048) to c:\\Users\\colin\\OneDrive\\Desktop\\Jersey-Number-Recognition\\data\\SoccerNet\\jersey-2023\\processed_data\\test\\57\\features.npy\n",
      "2025-03-23 12:16:22 [INFO] Identifying and removing outliers by calling gaussian_outliers_streamlined.py on feature file\n"
     ]
    },
    {
     "name": "stderr",
     "output_type": "stream",
     "text": [
      "Lightning automatically upgraded your loaded checkpoint from v1.1.4 to v2.5.0.post0. To apply the upgrade to your files permanently, run `python -m pytorch_lightning.utilities.upgrade_checkpoint c:\\Users\\colin\\OneDrive\\Desktop\\Jersey-Number-Recognition\\data\\pre_trained_models\\reid\\dukemtmcreid_resnet50_256_128_epoch_120.ckpt`\n"
     ]
    },
    {
     "name": "stdout",
     "output_type": "stream",
     "text": [
      "2025-03-23 12:16:27 [INFO] \n",
      "2025-03-23 12:16:27 [ERROR] \n",
      "2025-03-23 12:16:27 [INFO] Done removing outliers\n",
      "2025-03-23 12:16:27 [INFO] Running model chain on preprocessed image(s).\n",
      "2025-03-23 12:16:27 [INFO] Classifying legibility of image(s) using pre-trained model.\n",
      "2025-03-23 12:16:27 [WARNING] No soccer ball list found. Skipping exclusion of soccer balls.\n",
      "2025-03-23 12:16:27 [INFO] Path checked: c:\\Users\\colin\\OneDrive\\Desktop\\Jersey-Number-Recognition\\data\\SoccerNet\\jersey-2023\\processed_data\\test\\common_data\\soccer_ball.json\n",
      "2025-03-23 12:16:30 [INFO] Saving legible_tracklets to: c:\\Users\\colin\\OneDrive\\Desktop\\Jersey-Number-Recognition\\data\\SoccerNet\\jersey-2023\\processed_data\\test\\43\\legible_results.json\n",
      "2025-03-23 12:16:30 [INFO] Saved legible_tracklets to: c:\\Users\\colin\\OneDrive\\Desktop\\Jersey-Number-Recognition\\data\\SoccerNet\\jersey-2023\\processed_data\\test\\43\\legible_results.json\n",
      "2025-03-23 12:16:30 [INFO] Saving illegible_tracklets to: c:\\Users\\colin\\OneDrive\\Desktop\\Jersey-Number-Recognition\\data\\SoccerNet\\jersey-2023\\processed_data\\test\\43\\illegible_results.json\n",
      "2025-03-23 12:16:30 [INFO] Saved illegible_tracklets to: c:\\Users\\colin\\OneDrive\\Desktop\\Jersey-Number-Recognition\\data\\SoccerNet\\jersey-2023\\processed_data\\test\\43\\illegible_results.json\n",
      "2025-03-23 12:16:30 [INFO] Legibility classification complete.\n",
      "2025-03-23 12:16:30 [INFO] Processed tracklet: 43\n",
      "2025-03-23 12:16:31 [INFO] Saving legible_tracklets to: c:\\Users\\colin\\OneDrive\\Desktop\\Jersey-Number-Recognition\\data\\SoccerNet\\jersey-2023\\processed_data\\test\\39\\legible_results.json\n",
      "2025-03-23 12:16:31 [INFO] Saved legible_tracklets to: c:\\Users\\colin\\OneDrive\\Desktop\\Jersey-Number-Recognition\\data\\SoccerNet\\jersey-2023\\processed_data\\test\\39\\legible_results.json\n",
      "2025-03-23 12:16:31 [INFO] Saving illegible_tracklets to: c:\\Users\\colin\\OneDrive\\Desktop\\Jersey-Number-Recognition\\data\\SoccerNet\\jersey-2023\\processed_data\\test\\39\\illegible_results.json\n",
      "2025-03-23 12:16:31 [INFO] Saved illegible_tracklets to: c:\\Users\\colin\\OneDrive\\Desktop\\Jersey-Number-Recognition\\data\\SoccerNet\\jersey-2023\\processed_data\\test\\39\\illegible_results.json\n",
      "2025-03-23 12:16:31 [INFO] Legibility classification complete.\n",
      "2025-03-23 12:16:31 [INFO] Processed tracklet: 39\n",
      "2025-03-23 12:16:34 [INFO] Saved features for tracklet with shape (750, 2048) to c:\\Users\\colin\\OneDrive\\Desktop\\Jersey-Number-Recognition\\data\\SoccerNet\\jersey-2023\\processed_data\\test\\59\\features.npy\n",
      "2025-03-23 12:16:34 [INFO] Identifying and removing outliers by calling gaussian_outliers_streamlined.py on feature file\n"
     ]
    },
    {
     "name": "stderr",
     "output_type": "stream",
     "text": [
      "Lightning automatically upgraded your loaded checkpoint from v1.1.4 to v2.5.0.post0. To apply the upgrade to your files permanently, run `python -m pytorch_lightning.utilities.upgrade_checkpoint c:\\Users\\colin\\OneDrive\\Desktop\\Jersey-Number-Recognition\\data\\pre_trained_models\\reid\\dukemtmcreid_resnet50_256_128_epoch_120.ckpt`\n"
     ]
    },
    {
     "name": "stdout",
     "output_type": "stream",
     "text": [
      "2025-03-23 12:16:37 [INFO] Saved features for tracklet with shape (197, 2048) to c:\\Users\\colin\\OneDrive\\Desktop\\Jersey-Number-Recognition\\data\\SoccerNet\\jersey-2023\\processed_data\\test\\55\\features.npy\n",
      "2025-03-23 12:16:37 [INFO] Identifying and removing outliers by calling gaussian_outliers_streamlined.py on feature file\n"
     ]
    },
    {
     "name": "stderr",
     "output_type": "stream",
     "text": [
      "Lightning automatically upgraded your loaded checkpoint from v1.1.4 to v2.5.0.post0. To apply the upgrade to your files permanently, run `python -m pytorch_lightning.utilities.upgrade_checkpoint c:\\Users\\colin\\OneDrive\\Desktop\\Jersey-Number-Recognition\\data\\pre_trained_models\\reid\\dukemtmcreid_resnet50_256_128_epoch_120.ckpt`\n"
     ]
    },
    {
     "name": "stdout",
     "output_type": "stream",
     "text": [
      "2025-03-23 12:16:38 [INFO] \n",
      "2025-03-23 12:16:38 [ERROR] \n",
      "2025-03-23 12:16:38 [INFO] Done removing outliers\n",
      "2025-03-23 12:16:38 [INFO] Running model chain on preprocessed image(s).\n",
      "2025-03-23 12:16:38 [INFO] Classifying legibility of image(s) using pre-trained model.\n",
      "2025-03-23 12:16:38 [WARNING] No soccer ball list found. Skipping exclusion of soccer balls.\n",
      "2025-03-23 12:16:38 [INFO] Path checked: c:\\Users\\colin\\OneDrive\\Desktop\\Jersey-Number-Recognition\\data\\SoccerNet\\jersey-2023\\processed_data\\test\\common_data\\soccer_ball.json\n",
      "2025-03-23 12:16:39 [INFO] \n",
      "2025-03-23 12:16:39 [ERROR] \n",
      "2025-03-23 12:16:39 [INFO] Done removing outliers\n",
      "2025-03-23 12:16:39 [INFO] Running model chain on preprocessed image(s).\n",
      "2025-03-23 12:16:39 [INFO] Classifying legibility of image(s) using pre-trained model.\n",
      "2025-03-23 12:16:40 [WARNING] No soccer ball list found. Skipping exclusion of soccer balls.\n",
      "2025-03-23 12:16:40 [INFO] Path checked: c:\\Users\\colin\\OneDrive\\Desktop\\Jersey-Number-Recognition\\data\\SoccerNet\\jersey-2023\\processed_data\\test\\common_data\\soccer_ball.json\n",
      "2025-03-23 12:16:42 [INFO] Saving legible_tracklets to: c:\\Users\\colin\\OneDrive\\Desktop\\Jersey-Number-Recognition\\data\\SoccerNet\\jersey-2023\\processed_data\\test\\61\\legible_results.json\n",
      "2025-03-23 12:16:42 [INFO] Saved legible_tracklets to: c:\\Users\\colin\\OneDrive\\Desktop\\Jersey-Number-Recognition\\data\\SoccerNet\\jersey-2023\\processed_data\\test\\61\\legible_results.json\n",
      "2025-03-23 12:16:42 [INFO] Saving illegible_tracklets to: c:\\Users\\colin\\OneDrive\\Desktop\\Jersey-Number-Recognition\\data\\SoccerNet\\jersey-2023\\processed_data\\test\\61\\illegible_results.json\n",
      "2025-03-23 12:16:42 [INFO] Saved illegible_tracklets to: c:\\Users\\colin\\OneDrive\\Desktop\\Jersey-Number-Recognition\\data\\SoccerNet\\jersey-2023\\processed_data\\test\\61\\illegible_results.json\n",
      "2025-03-23 12:16:42 [INFO] Legibility classification complete.\n",
      "2025-03-23 12:16:42 [INFO] Processed tracklet: 61\n",
      "2025-03-23 12:16:43 [INFO] Saved features for tracklet with shape (293, 2048) to c:\\Users\\colin\\OneDrive\\Desktop\\Jersey-Number-Recognition\\data\\SoccerNet\\jersey-2023\\processed_data\\test\\63\\features.npy\n",
      "2025-03-23 12:16:43 [INFO] Identifying and removing outliers by calling gaussian_outliers_streamlined.py on feature file\n",
      "2025-03-23 12:16:49 [INFO] Saving legible_tracklets to: c:\\Users\\colin\\OneDrive\\Desktop\\Jersey-Number-Recognition\\data\\SoccerNet\\jersey-2023\\processed_data\\test\\58\\legible_results.json\n",
      "2025-03-23 12:16:49 [INFO] Saved legible_tracklets to: c:\\Users\\colin\\OneDrive\\Desktop\\Jersey-Number-Recognition\\data\\SoccerNet\\jersey-2023\\processed_data\\test\\58\\legible_results.json\n",
      "2025-03-23 12:16:49 [INFO] Saving illegible_tracklets to: c:\\Users\\colin\\OneDrive\\Desktop\\Jersey-Number-Recognition\\data\\SoccerNet\\jersey-2023\\processed_data\\test\\58\\illegible_results.json\n",
      "2025-03-23 12:16:49 [INFO] Saved illegible_tracklets to: c:\\Users\\colin\\OneDrive\\Desktop\\Jersey-Number-Recognition\\data\\SoccerNet\\jersey-2023\\processed_data\\test\\58\\illegible_results.json\n",
      "2025-03-23 12:16:49 [INFO] Legibility classification complete.\n",
      "2025-03-23 12:16:49 [INFO] Processed tracklet: 58\n",
      "2025-03-23 12:16:51 [INFO] \n",
      "2025-03-23 12:16:51 [ERROR] \n",
      "2025-03-23 12:16:51 [INFO] Done removing outliers\n",
      "2025-03-23 12:16:51 [INFO] Running model chain on preprocessed image(s).\n",
      "2025-03-23 12:16:51 [INFO] Classifying legibility of image(s) using pre-trained model.\n",
      "2025-03-23 12:16:51 [WARNING] No soccer ball list found. Skipping exclusion of soccer balls.\n",
      "2025-03-23 12:16:51 [INFO] Path checked: c:\\Users\\colin\\OneDrive\\Desktop\\Jersey-Number-Recognition\\data\\SoccerNet\\jersey-2023\\processed_data\\test\\common_data\\soccer_ball.json\n",
      "2025-03-23 12:16:52 [INFO] Saving legible_tracklets to: c:\\Users\\colin\\OneDrive\\Desktop\\Jersey-Number-Recognition\\data\\SoccerNet\\jersey-2023\\processed_data\\test\\57\\legible_results.json\n",
      "2025-03-23 12:16:53 [INFO] Saved legible_tracklets to: c:\\Users\\colin\\OneDrive\\Desktop\\Jersey-Number-Recognition\\data\\SoccerNet\\jersey-2023\\processed_data\\test\\57\\legible_results.json\n",
      "2025-03-23 12:16:53 [INFO] Saving illegible_tracklets to: c:\\Users\\colin\\OneDrive\\Desktop\\Jersey-Number-Recognition\\data\\SoccerNet\\jersey-2023\\processed_data\\test\\57\\illegible_results.json\n",
      "2025-03-23 12:16:53 [INFO] Saved illegible_tracklets to: c:\\Users\\colin\\OneDrive\\Desktop\\Jersey-Number-Recognition\\data\\SoccerNet\\jersey-2023\\processed_data\\test\\57\\illegible_results.json\n",
      "2025-03-23 12:16:53 [INFO] Legibility classification complete.\n",
      "2025-03-23 12:16:53 [INFO] Processed tracklet: 57\n",
      "2025-03-23 12:16:53 [INFO] Saved features for tracklet with shape (750, 2048) to c:\\Users\\colin\\OneDrive\\Desktop\\Jersey-Number-Recognition\\data\\SoccerNet\\jersey-2023\\processed_data\\test\\60\\features.npy\n",
      "2025-03-23 12:16:53 [INFO] Identifying and removing outliers by calling gaussian_outliers_streamlined.py on feature file\n"
     ]
    },
    {
     "name": "stderr",
     "output_type": "stream",
     "text": [
      "Lightning automatically upgraded your loaded checkpoint from v1.1.4 to v2.5.0.post0. To apply the upgrade to your files permanently, run `python -m pytorch_lightning.utilities.upgrade_checkpoint c:\\Users\\colin\\OneDrive\\Desktop\\Jersey-Number-Recognition\\data\\pre_trained_models\\reid\\dukemtmcreid_resnet50_256_128_epoch_120.ckpt`\n"
     ]
    },
    {
     "name": "stdout",
     "output_type": "stream",
     "text": [
      "2025-03-23 12:16:54 [INFO] \n",
      "2025-03-23 12:16:54 [ERROR] \n",
      "2025-03-23 12:16:54 [INFO] Done removing outliers\n",
      "2025-03-23 12:16:54 [INFO] Running model chain on preprocessed image(s).\n",
      "2025-03-23 12:16:54 [INFO] Classifying legibility of image(s) using pre-trained model.\n",
      "2025-03-23 12:16:54 [WARNING] No soccer ball list found. Skipping exclusion of soccer balls.\n",
      "2025-03-23 12:16:54 [INFO] Path checked: c:\\Users\\colin\\OneDrive\\Desktop\\Jersey-Number-Recognition\\data\\SoccerNet\\jersey-2023\\processed_data\\test\\common_data\\soccer_ball.json\n",
      "2025-03-23 12:16:55 [INFO] Saved features for tracklet with shape (192, 2048) to c:\\Users\\colin\\OneDrive\\Desktop\\Jersey-Number-Recognition\\data\\SoccerNet\\jersey-2023\\processed_data\\test\\56\\features.npy\n",
      "2025-03-23 12:16:55 [INFO] Identifying and removing outliers by calling gaussian_outliers_streamlined.py on feature file\n"
     ]
    },
    {
     "name": "stderr",
     "output_type": "stream",
     "text": [
      "Lightning automatically upgraded your loaded checkpoint from v1.1.4 to v2.5.0.post0. To apply the upgrade to your files permanently, run `python -m pytorch_lightning.utilities.upgrade_checkpoint c:\\Users\\colin\\OneDrive\\Desktop\\Jersey-Number-Recognition\\data\\pre_trained_models\\reid\\dukemtmcreid_resnet50_256_128_epoch_120.ckpt`\n"
     ]
    },
    {
     "name": "stdout",
     "output_type": "stream",
     "text": [
      "2025-03-23 12:16:57 [INFO] Saved features for tracklet with shape (62, 2048) to c:\\Users\\colin\\OneDrive\\Desktop\\Jersey-Number-Recognition\\data\\SoccerNet\\jersey-2023\\processed_data\\test\\53\\features.npy\n",
      "2025-03-23 12:16:57 [INFO] Identifying and removing outliers by calling gaussian_outliers_streamlined.py on feature file\n",
      "2025-03-23 12:16:59 [INFO] \n",
      "2025-03-23 12:16:59 [ERROR] \n",
      "2025-03-23 12:16:59 [INFO] Done removing outliers\n",
      "2025-03-23 12:16:59 [INFO] Running model chain on preprocessed image(s).\n",
      "2025-03-23 12:16:59 [INFO] Classifying legibility of image(s) using pre-trained model.\n",
      "2025-03-23 12:16:59 [WARNING] No soccer ball list found. Skipping exclusion of soccer balls.\n",
      "2025-03-23 12:16:59 [INFO] Path checked: c:\\Users\\colin\\OneDrive\\Desktop\\Jersey-Number-Recognition\\data\\SoccerNet\\jersey-2023\\processed_data\\test\\common_data\\soccer_ball.json\n",
      "2025-03-23 12:17:06 [INFO] Saving legible_tracklets to: c:\\Users\\colin\\OneDrive\\Desktop\\Jersey-Number-Recognition\\data\\SoccerNet\\jersey-2023\\processed_data\\test\\55\\legible_results.json\n",
      "2025-03-23 12:17:07 [INFO] Saved legible_tracklets to: c:\\Users\\colin\\OneDrive\\Desktop\\Jersey-Number-Recognition\\data\\SoccerNet\\jersey-2023\\processed_data\\test\\55\\legible_results.json\n",
      "2025-03-23 12:17:07 [INFO] Saving illegible_tracklets to: c:\\Users\\colin\\OneDrive\\Desktop\\Jersey-Number-Recognition\\data\\SoccerNet\\jersey-2023\\processed_data\\test\\55\\illegible_results.json\n",
      "2025-03-23 12:17:07 [INFO] Saved illegible_tracklets to: c:\\Users\\colin\\OneDrive\\Desktop\\Jersey-Number-Recognition\\data\\SoccerNet\\jersey-2023\\processed_data\\test\\55\\illegible_results.json\n",
      "2025-03-23 12:17:07 [INFO] Legibility classification complete.\n",
      "2025-03-23 12:17:07 [INFO] Processed tracklet: 55\n",
      "2025-03-23 12:17:09 [INFO] \n",
      "2025-03-23 12:17:09 [ERROR] \n",
      "2025-03-23 12:17:09 [INFO] Done removing outliers\n",
      "2025-03-23 12:17:09 [INFO] Running model chain on preprocessed image(s).\n",
      "2025-03-23 12:17:09 [INFO] Classifying legibility of image(s) using pre-trained model.\n",
      "2025-03-23 12:17:09 [WARNING] No soccer ball list found. Skipping exclusion of soccer balls.\n",
      "2025-03-23 12:17:09 [INFO] Path checked: c:\\Users\\colin\\OneDrive\\Desktop\\Jersey-Number-Recognition\\data\\SoccerNet\\jersey-2023\\processed_data\\test\\common_data\\soccer_ball.json\n",
      "2025-03-23 12:17:12 [INFO] \n",
      "2025-03-23 12:17:12 [ERROR] \n",
      "2025-03-23 12:17:12 [INFO] Done removing outliers\n",
      "2025-03-23 12:17:12 [INFO] Running model chain on preprocessed image(s).\n",
      "2025-03-23 12:17:12 [INFO] Classifying legibility of image(s) using pre-trained model.\n",
      "2025-03-23 12:17:12 [WARNING] No soccer ball list found. Skipping exclusion of soccer balls.\n",
      "2025-03-23 12:17:12 [INFO] Path checked: c:\\Users\\colin\\OneDrive\\Desktop\\Jersey-Number-Recognition\\data\\SoccerNet\\jersey-2023\\processed_data\\test\\common_data\\soccer_ball.json\n",
      "2025-03-23 12:17:12 [INFO] Saving legible_tracklets to: c:\\Users\\colin\\OneDrive\\Desktop\\Jersey-Number-Recognition\\data\\SoccerNet\\jersey-2023\\processed_data\\test\\63\\legible_results.json\n",
      "2025-03-23 12:17:12 [INFO] Saved legible_tracklets to: c:\\Users\\colin\\OneDrive\\Desktop\\Jersey-Number-Recognition\\data\\SoccerNet\\jersey-2023\\processed_data\\test\\63\\legible_results.json\n",
      "2025-03-23 12:17:12 [INFO] Saving illegible_tracklets to: c:\\Users\\colin\\OneDrive\\Desktop\\Jersey-Number-Recognition\\data\\SoccerNet\\jersey-2023\\processed_data\\test\\63\\illegible_results.json\n",
      "2025-03-23 12:17:12 [INFO] Saved illegible_tracklets to: c:\\Users\\colin\\OneDrive\\Desktop\\Jersey-Number-Recognition\\data\\SoccerNet\\jersey-2023\\processed_data\\test\\63\\illegible_results.json\n",
      "2025-03-23 12:17:12 [INFO] Legibility classification complete.\n",
      "2025-03-23 12:17:12 [INFO] Processed tracklet: 63\n",
      "2025-03-23 12:17:13 [INFO] \n",
      "2025-03-23 12:17:13 [ERROR] \n",
      "2025-03-23 12:17:13 [INFO] Done removing outliers\n",
      "2025-03-23 12:17:13 [INFO] Running model chain on preprocessed image(s).\n",
      "2025-03-23 12:17:13 [INFO] Classifying legibility of image(s) using pre-trained model.\n",
      "2025-03-23 12:17:13 [WARNING] No soccer ball list found. Skipping exclusion of soccer balls.\n",
      "2025-03-23 12:17:13 [INFO] Path checked: c:\\Users\\colin\\OneDrive\\Desktop\\Jersey-Number-Recognition\\data\\SoccerNet\\jersey-2023\\processed_data\\test\\common_data\\soccer_ball.json\n",
      "2025-03-23 12:17:19 [INFO] Saving legible_tracklets to: c:\\Users\\colin\\OneDrive\\Desktop\\Jersey-Number-Recognition\\data\\SoccerNet\\jersey-2023\\processed_data\\test\\62\\legible_results.json\n",
      "2025-03-23 12:17:19 [INFO] Saved legible_tracklets to: c:\\Users\\colin\\OneDrive\\Desktop\\Jersey-Number-Recognition\\data\\SoccerNet\\jersey-2023\\processed_data\\test\\62\\legible_results.json\n",
      "2025-03-23 12:17:19 [INFO] Saving illegible_tracklets to: c:\\Users\\colin\\OneDrive\\Desktop\\Jersey-Number-Recognition\\data\\SoccerNet\\jersey-2023\\processed_data\\test\\62\\illegible_results.json\n",
      "2025-03-23 12:17:19 [INFO] Saved illegible_tracklets to: c:\\Users\\colin\\OneDrive\\Desktop\\Jersey-Number-Recognition\\data\\SoccerNet\\jersey-2023\\processed_data\\test\\62\\illegible_results.json\n",
      "2025-03-23 12:17:19 [INFO] Legibility classification complete.\n",
      "2025-03-23 12:17:19 [INFO] Processed tracklet: 62\n",
      "2025-03-23 12:17:24 [INFO] Saving legible_tracklets to: c:\\Users\\colin\\OneDrive\\Desktop\\Jersey-Number-Recognition\\data\\SoccerNet\\jersey-2023\\processed_data\\test\\56\\legible_results.json\n",
      "2025-03-23 12:17:24 [INFO] Saved legible_tracklets to: c:\\Users\\colin\\OneDrive\\Desktop\\Jersey-Number-Recognition\\data\\SoccerNet\\jersey-2023\\processed_data\\test\\56\\legible_results.json\n",
      "2025-03-23 12:17:24 [INFO] Saving illegible_tracklets to: c:\\Users\\colin\\OneDrive\\Desktop\\Jersey-Number-Recognition\\data\\SoccerNet\\jersey-2023\\processed_data\\test\\56\\illegible_results.json\n",
      "2025-03-23 12:17:24 [INFO] Saved illegible_tracklets to: c:\\Users\\colin\\OneDrive\\Desktop\\Jersey-Number-Recognition\\data\\SoccerNet\\jersey-2023\\processed_data\\test\\56\\illegible_results.json\n",
      "2025-03-23 12:17:24 [INFO] Legibility classification complete.\n",
      "2025-03-23 12:17:24 [INFO] Processed tracklet: 56\n",
      "2025-03-23 12:17:25 [INFO] Saving legible_tracklets to: c:\\Users\\colin\\OneDrive\\Desktop\\Jersey-Number-Recognition\\data\\SoccerNet\\jersey-2023\\processed_data\\test\\53\\legible_results.json\n",
      "2025-03-23 12:17:25 [INFO] Saved legible_tracklets to: c:\\Users\\colin\\OneDrive\\Desktop\\Jersey-Number-Recognition\\data\\SoccerNet\\jersey-2023\\processed_data\\test\\53\\legible_results.json\n",
      "2025-03-23 12:17:25 [INFO] Saving illegible_tracklets to: c:\\Users\\colin\\OneDrive\\Desktop\\Jersey-Number-Recognition\\data\\SoccerNet\\jersey-2023\\processed_data\\test\\53\\illegible_results.json\n",
      "2025-03-23 12:17:25 [INFO] Saved illegible_tracklets to: c:\\Users\\colin\\OneDrive\\Desktop\\Jersey-Number-Recognition\\data\\SoccerNet\\jersey-2023\\processed_data\\test\\53\\illegible_results.json\n",
      "2025-03-23 12:17:25 [INFO] Legibility classification complete.\n",
      "2025-03-23 12:17:25 [INFO] Processed tracklet: 53\n",
      "2025-03-23 12:17:29 [INFO] Saving legible_tracklets to: c:\\Users\\colin\\OneDrive\\Desktop\\Jersey-Number-Recognition\\data\\SoccerNet\\jersey-2023\\processed_data\\test\\59\\legible_results.json\n",
      "2025-03-23 12:17:29 [INFO] Saved legible_tracklets to: c:\\Users\\colin\\OneDrive\\Desktop\\Jersey-Number-Recognition\\data\\SoccerNet\\jersey-2023\\processed_data\\test\\59\\legible_results.json\n",
      "2025-03-23 12:17:29 [INFO] Saving illegible_tracklets to: c:\\Users\\colin\\OneDrive\\Desktop\\Jersey-Number-Recognition\\data\\SoccerNet\\jersey-2023\\processed_data\\test\\59\\illegible_results.json\n",
      "2025-03-23 12:17:29 [INFO] Saved illegible_tracklets to: c:\\Users\\colin\\OneDrive\\Desktop\\Jersey-Number-Recognition\\data\\SoccerNet\\jersey-2023\\processed_data\\test\\59\\illegible_results.json\n",
      "2025-03-23 12:17:29 [INFO] Legibility classification complete.\n",
      "2025-03-23 12:17:29 [INFO] Processed tracklet: 59\n",
      "2025-03-23 12:17:37 [INFO] Saving legible_tracklets to: c:\\Users\\colin\\OneDrive\\Desktop\\Jersey-Number-Recognition\\data\\SoccerNet\\jersey-2023\\processed_data\\test\\60\\legible_results.json\n",
      "2025-03-23 12:17:37 [INFO] Saved legible_tracklets to: c:\\Users\\colin\\OneDrive\\Desktop\\Jersey-Number-Recognition\\data\\SoccerNet\\jersey-2023\\processed_data\\test\\60\\legible_results.json\n",
      "2025-03-23 12:17:37 [INFO] Saving illegible_tracklets to: c:\\Users\\colin\\OneDrive\\Desktop\\Jersey-Number-Recognition\\data\\SoccerNet\\jersey-2023\\processed_data\\test\\60\\illegible_results.json\n",
      "2025-03-23 12:17:37 [INFO] Saved illegible_tracklets to: c:\\Users\\colin\\OneDrive\\Desktop\\Jersey-Number-Recognition\\data\\SoccerNet\\jersey-2023\\processed_data\\test\\60\\illegible_results.json\n",
      "2025-03-23 12:17:37 [INFO] Legibility classification complete.\n",
      "2025-03-23 12:17:37 [INFO] Processed tracklet: 60\n",
      "2025-03-23 12:17:37 [INFO] Using double parallelization: multiprocessing + CUDA batch processing.\n"
     ]
    },
    {
     "data": {
      "application/vnd.jupyter.widget-view+json": {
       "model_id": "597b274a1b33413dad2cd2e1cb6ccdb0",
       "version_major": 2,
       "version_minor": 0
      },
      "text/plain": [
       "Processing tracklets (CUDA + CPU):   0%|          | 0/32 [00:00<?, ?it/s]"
      ]
     },
     "metadata": {},
     "output_type": "display_data"
    },
    {
     "name": "stdout",
     "output_type": "stream",
     "text": [
      "2025-03-23 12:17:55 [INFO] DEBUG: Number of images per tracklet in batch: 750\n",
      "2025-03-23 12:17:55 [INFO] Creating placeholder data files for Soccer Ball Filter.\n",
      "2025-03-23 12:17:55 [INFO] Creating placeholder data files for Legibility Classifier.\n",
      "2025-03-23 12:17:55 [INFO] DEBUG: Just before getting args for workers\n",
      "2025-03-23 12:17:56 [INFO] Determine soccer balls in image(s) using pre-trained model.\n",
      "2025-03-23 12:17:56 [INFO] Determine soccer balls in image(s) using pre-trained model.\n",
      "2025-03-23 12:17:56 [INFO] Determine soccer balls in image(s) using pre-trained model.\n",
      "2025-03-23 12:17:56 [INFO] Determine soccer balls in image(s) using pre-trained model.\n",
      "2025-03-23 12:17:56 [INFO] Determine soccer balls in image(s) using pre-trained model.\n",
      "2025-03-23 12:17:56 [INFO] Determine soccer balls in image(s) using pre-trained model.\n",
      "2025-03-23 12:17:56 [INFO] Determine soccer balls in image(s) using pre-trained model.\n",
      "2025-03-23 12:17:56 [INFO] Determine soccer balls in image(s) using pre-trained model.\n",
      "2025-03-23 12:17:56 [INFO] Determine soccer balls in image(s) using pre-trained model.\n",
      "2025-03-23 12:17:56 [INFO] Determine soccer balls in image(s) using pre-trained model.\n",
      "2025-03-23 12:17:56 [INFO] Determine soccer balls in image(s) using pre-trained model.\n",
      "2025-03-23 12:17:56 [INFO] Determine soccer balls in image(s) using pre-trained model.\n",
      "2025-03-23 12:17:56 [INFO] Determine soccer balls in image(s) using pre-trained model.\n",
      "2025-03-23 12:17:56 [INFO] Determine soccer balls in image(s) using pre-trained model.\n",
      "2025-03-23 12:17:56 [INFO] Determine soccer balls in image(s) using pre-trained model.\n",
      "2025-03-23 12:17:56 [INFO] Determine soccer balls in image(s) using pre-trained model.\n",
      "2025-03-23 12:17:56 [INFO] Determine soccer balls in image(s) using pre-trained model.\n",
      "2025-03-23 12:17:56 [INFO] Determine soccer balls in image(s) using pre-trained model.\n",
      "2025-03-23 12:17:56 [INFO] Found 0 balls, Ball list: []\n"
     ]
    },
    {
     "data": {
      "application/vnd.jupyter.widget-view+json": {
       "model_id": "7e101edabce2427cb88f77ce0aedf74d",
       "version_major": 2,
       "version_minor": 0
      },
      "text/plain": [
       "Processing Batch Tracklets (64-96):   0%|          | 0/32 [00:00<?, ?it/s]"
      ]
     },
     "metadata": {},
     "output_type": "display_data"
    },
    {
     "name": "stdout",
     "output_type": "stream",
     "text": [
      "2025-03-23 12:17:56 [INFO] Found 0 balls, Ball list: []\n",
      "2025-03-23 12:17:56 [INFO] Found 0 balls, Ball list: []\n",
      "2025-03-23 12:17:56 [INFO] Found 0 balls, Ball list: []\n",
      "2025-03-23 12:17:56 [INFO] Found 0 balls, Ball list: []\n",
      "2025-03-23 12:17:56 [INFO] Found 0 balls, Ball list: []\n",
      "2025-03-23 12:17:56 [INFO] Found 0 balls, Ball list: []\n",
      "2025-03-23 12:17:56 [INFO] Found 1 balls, Ball list: ['68']\n",
      "2025-03-23 12:17:56 [INFO] Found 1 balls, Ball list: ['67']\n",
      "2025-03-23 12:17:56 [INFO] Found 0 balls, Ball list: []\n",
      "2025-03-23 12:17:56 [INFO] Found 0 balls, Ball list: []\n",
      "2025-03-23 12:17:56 [INFO] Found 0 balls, Ball list: []\n",
      "2025-03-23 12:17:56 [INFO] Found 0 balls, Ball list: []\n",
      "2025-03-23 12:17:56 [INFO] Found 0 balls, Ball list: []\n",
      "2025-03-23 12:17:56 [INFO] Found 0 balls, Ball list: []\n",
      "2025-03-23 12:17:56 [INFO] Found 0 balls, Ball list: []\n",
      "2025-03-23 12:17:56 [INFO] Found 0 balls, Ball list: []\n",
      "2025-03-23 12:17:56 [INFO] Found 0 balls, Ball list: []\n"
     ]
    },
    {
     "name": "stderr",
     "output_type": "stream",
     "text": [
      "Lightning automatically upgraded your loaded checkpoint from v1.1.4 to v2.5.0.post0. To apply the upgrade to your files permanently, run `python -m pytorch_lightning.utilities.upgrade_checkpoint c:\\Users\\colin\\OneDrive\\Desktop\\Jersey-Number-Recognition\\data\\pre_trained_models\\reid\\dukemtmcreid_resnet50_256_128_epoch_120.ckpt`\n"
     ]
    },
    {
     "name": "stdout",
     "output_type": "stream",
     "text": [
      "2025-03-23 12:17:58 [INFO] Saved features for tracklet with shape (54, 2048) to c:\\Users\\colin\\OneDrive\\Desktop\\Jersey-Number-Recognition\\data\\SoccerNet\\jersey-2023\\processed_data\\test\\76\\features.npy\n",
      "2025-03-23 12:17:58 [INFO] Identifying and removing outliers by calling gaussian_outliers_streamlined.py on feature file\n"
     ]
    },
    {
     "name": "stderr",
     "output_type": "stream",
     "text": [
      "Lightning automatically upgraded your loaded checkpoint from v1.1.4 to v2.5.0.post0. To apply the upgrade to your files permanently, run `python -m pytorch_lightning.utilities.upgrade_checkpoint c:\\Users\\colin\\OneDrive\\Desktop\\Jersey-Number-Recognition\\data\\pre_trained_models\\reid\\dukemtmcreid_resnet50_256_128_epoch_120.ckpt`\n"
     ]
    },
    {
     "name": "stdout",
     "output_type": "stream",
     "text": [
      "2025-03-23 12:18:00 [INFO] Saved features for tracklet with shape (67, 2048) to c:\\Users\\colin\\OneDrive\\Desktop\\Jersey-Number-Recognition\\data\\SoccerNet\\jersey-2023\\processed_data\\test\\74\\features.npy\n",
      "2025-03-23 12:18:00 [INFO] Identifying and removing outliers by calling gaussian_outliers_streamlined.py on feature file\n"
     ]
    },
    {
     "name": "stderr",
     "output_type": "stream",
     "text": [
      "Lightning automatically upgraded your loaded checkpoint from v1.1.4 to v2.5.0.post0. To apply the upgrade to your files permanently, run `python -m pytorch_lightning.utilities.upgrade_checkpoint c:\\Users\\colin\\OneDrive\\Desktop\\Jersey-Number-Recognition\\data\\pre_trained_models\\reid\\dukemtmcreid_resnet50_256_128_epoch_120.ckpt`\n"
     ]
    },
    {
     "name": "stdout",
     "output_type": "stream",
     "text": [
      "2025-03-23 12:18:01 [INFO] Saved features for tracklet with shape (58, 2048) to c:\\Users\\colin\\OneDrive\\Desktop\\Jersey-Number-Recognition\\data\\SoccerNet\\jersey-2023\\processed_data\\test\\79\\features.npy\n",
      "2025-03-23 12:18:01 [INFO] Identifying and removing outliers by calling gaussian_outliers_streamlined.py on feature file\n"
     ]
    },
    {
     "name": "stderr",
     "output_type": "stream",
     "text": [
      "Lightning automatically upgraded your loaded checkpoint from v1.1.4 to v2.5.0.post0. To apply the upgrade to your files permanently, run `python -m pytorch_lightning.utilities.upgrade_checkpoint c:\\Users\\colin\\OneDrive\\Desktop\\Jersey-Number-Recognition\\data\\pre_trained_models\\reid\\dukemtmcreid_resnet50_256_128_epoch_120.ckpt`\n"
     ]
    },
    {
     "name": "stdout",
     "output_type": "stream",
     "text": [
      "2025-03-23 12:18:08 [INFO] Saved features for tracklet with shape (750, 2048) to c:\\Users\\colin\\OneDrive\\Desktop\\Jersey-Number-Recognition\\data\\SoccerNet\\jersey-2023\\processed_data\\test\\64\\features.npy\n",
      "2025-03-23 12:18:08 [INFO] Identifying and removing outliers by calling gaussian_outliers_streamlined.py on feature file\n"
     ]
    },
    {
     "name": "stderr",
     "output_type": "stream",
     "text": [
      "Lightning automatically upgraded your loaded checkpoint from v1.1.4 to v2.5.0.post0. To apply the upgrade to your files permanently, run `python -m pytorch_lightning.utilities.upgrade_checkpoint c:\\Users\\colin\\OneDrive\\Desktop\\Jersey-Number-Recognition\\data\\pre_trained_models\\reid\\dukemtmcreid_resnet50_256_128_epoch_120.ckpt`\n"
     ]
    },
    {
     "name": "stdout",
     "output_type": "stream",
     "text": [
      "2025-03-23 12:18:11 [INFO] \n",
      "2025-03-23 12:18:11 [ERROR] \n",
      "2025-03-23 12:18:11 [INFO] Done removing outliers\n",
      "2025-03-23 12:18:11 [INFO] Running model chain on preprocessed image(s).\n",
      "2025-03-23 12:18:11 [INFO] Classifying legibility of image(s) using pre-trained model.\n",
      "2025-03-23 12:18:11 [WARNING] No soccer ball list found. Skipping exclusion of soccer balls.\n",
      "2025-03-23 12:18:11 [INFO] Path checked: c:\\Users\\colin\\OneDrive\\Desktop\\Jersey-Number-Recognition\\data\\SoccerNet\\jersey-2023\\processed_data\\test\\common_data\\soccer_ball.json\n",
      "2025-03-23 12:18:12 [INFO] \n",
      "2025-03-23 12:18:12 [ERROR] \n",
      "2025-03-23 12:18:12 [INFO] Done removing outliers\n",
      "2025-03-23 12:18:12 [INFO] Running model chain on preprocessed image(s).\n",
      "2025-03-23 12:18:12 [INFO] Classifying legibility of image(s) using pre-trained model.\n",
      "2025-03-23 12:18:12 [WARNING] No soccer ball list found. Skipping exclusion of soccer balls.\n",
      "2025-03-23 12:18:12 [INFO] Path checked: c:\\Users\\colin\\OneDrive\\Desktop\\Jersey-Number-Recognition\\data\\SoccerNet\\jersey-2023\\processed_data\\test\\common_data\\soccer_ball.json\n",
      "2025-03-23 12:18:14 [INFO] Saved features for tracklet with shape (345, 2048) to c:\\Users\\colin\\OneDrive\\Desktop\\Jersey-Number-Recognition\\data\\SoccerNet\\jersey-2023\\processed_data\\test\\67\\features.npy\n",
      "2025-03-23 12:18:14 [INFO] Identifying and removing outliers by calling gaussian_outliers_streamlined.py on feature file\n",
      "2025-03-23 12:18:14 [INFO] \n",
      "2025-03-23 12:18:14 [ERROR] \n",
      "2025-03-23 12:18:14 [INFO] Done removing outliers\n",
      "2025-03-23 12:18:14 [INFO] Running model chain on preprocessed image(s).\n",
      "2025-03-23 12:18:14 [INFO] Classifying legibility of image(s) using pre-trained model.\n",
      "2025-03-23 12:18:14 [WARNING] No soccer ball list found. Skipping exclusion of soccer balls.\n",
      "2025-03-23 12:18:14 [INFO] Path checked: c:\\Users\\colin\\OneDrive\\Desktop\\Jersey-Number-Recognition\\data\\SoccerNet\\jersey-2023\\processed_data\\test\\common_data\\soccer_ball.json\n"
     ]
    },
    {
     "name": "stderr",
     "output_type": "stream",
     "text": [
      "Lightning automatically upgraded your loaded checkpoint from v1.1.4 to v2.5.0.post0. To apply the upgrade to your files permanently, run `python -m pytorch_lightning.utilities.upgrade_checkpoint c:\\Users\\colin\\OneDrive\\Desktop\\Jersey-Number-Recognition\\data\\pre_trained_models\\reid\\dukemtmcreid_resnet50_256_128_epoch_120.ckpt`\n"
     ]
    },
    {
     "name": "stdout",
     "output_type": "stream",
     "text": [
      "2025-03-23 12:18:26 [INFO] Saving legible_tracklets to: c:\\Users\\colin\\OneDrive\\Desktop\\Jersey-Number-Recognition\\data\\SoccerNet\\jersey-2023\\processed_data\\test\\76\\legible_results.json\n",
      "2025-03-23 12:18:26 [INFO] Saved legible_tracklets to: c:\\Users\\colin\\OneDrive\\Desktop\\Jersey-Number-Recognition\\data\\SoccerNet\\jersey-2023\\processed_data\\test\\76\\legible_results.json\n",
      "2025-03-23 12:18:26 [INFO] Saving illegible_tracklets to: c:\\Users\\colin\\OneDrive\\Desktop\\Jersey-Number-Recognition\\data\\SoccerNet\\jersey-2023\\processed_data\\test\\76\\illegible_results.json\n",
      "2025-03-23 12:18:26 [INFO] Saved illegible_tracklets to: c:\\Users\\colin\\OneDrive\\Desktop\\Jersey-Number-Recognition\\data\\SoccerNet\\jersey-2023\\processed_data\\test\\76\\illegible_results.json\n",
      "2025-03-23 12:18:26 [INFO] Legibility classification complete.\n",
      "2025-03-23 12:18:26 [INFO] Determine soccer balls in image(s) using pre-trained model.\n",
      "2025-03-23 12:18:26 [INFO] Processed tracklet: 76\n",
      "2025-03-23 12:18:26 [INFO] Found 0 balls, Ball list: []\n",
      "2025-03-23 12:18:27 [INFO] \n",
      "2025-03-23 12:18:27 [ERROR] \n",
      "2025-03-23 12:18:27 [INFO] Done removing outliers\n",
      "2025-03-23 12:18:27 [INFO] Running model chain on preprocessed image(s).\n",
      "2025-03-23 12:18:27 [INFO] Classifying legibility of image(s) using pre-trained model.\n",
      "2025-03-23 12:18:27 [WARNING] No soccer ball list found. Skipping exclusion of soccer balls.\n",
      "2025-03-23 12:18:27 [INFO] Path checked: c:\\Users\\colin\\OneDrive\\Desktop\\Jersey-Number-Recognition\\data\\SoccerNet\\jersey-2023\\processed_data\\test\\common_data\\soccer_ball.json\n",
      "2025-03-23 12:18:28 [INFO] Saving legible_tracklets to: c:\\Users\\colin\\OneDrive\\Desktop\\Jersey-Number-Recognition\\data\\SoccerNet\\jersey-2023\\processed_data\\test\\74\\legible_results.json\n",
      "2025-03-23 12:18:28 [INFO] Saved legible_tracklets to: c:\\Users\\colin\\OneDrive\\Desktop\\Jersey-Number-Recognition\\data\\SoccerNet\\jersey-2023\\processed_data\\test\\74\\legible_results.json\n",
      "2025-03-23 12:18:28 [INFO] Saving illegible_tracklets to: c:\\Users\\colin\\OneDrive\\Desktop\\Jersey-Number-Recognition\\data\\SoccerNet\\jersey-2023\\processed_data\\test\\74\\illegible_results.json\n",
      "2025-03-23 12:18:28 [INFO] Saved illegible_tracklets to: c:\\Users\\colin\\OneDrive\\Desktop\\Jersey-Number-Recognition\\data\\SoccerNet\\jersey-2023\\processed_data\\test\\74\\illegible_results.json\n",
      "2025-03-23 12:18:28 [INFO] Legibility classification complete.\n",
      "2025-03-23 12:18:28 [INFO] Determine soccer balls in image(s) using pre-trained model.\n",
      "2025-03-23 12:18:28 [INFO] Processed tracklet: 74\n",
      "2025-03-23 12:18:28 [INFO] Found 0 balls, Ball list: []\n",
      "2025-03-23 12:18:29 [INFO] Saved features for tracklet with shape (641, 2048) to c:\\Users\\colin\\OneDrive\\Desktop\\Jersey-Number-Recognition\\data\\SoccerNet\\jersey-2023\\processed_data\\test\\66\\features.npy\n",
      "2025-03-23 12:18:29 [INFO] Identifying and removing outliers by calling gaussian_outliers_streamlined.py on feature file\n"
     ]
    },
    {
     "name": "stderr",
     "output_type": "stream",
     "text": [
      "Lightning automatically upgraded your loaded checkpoint from v1.1.4 to v2.5.0.post0. To apply the upgrade to your files permanently, run `python -m pytorch_lightning.utilities.upgrade_checkpoint c:\\Users\\colin\\OneDrive\\Desktop\\Jersey-Number-Recognition\\data\\pre_trained_models\\reid\\dukemtmcreid_resnet50_256_128_epoch_120.ckpt`\n"
     ]
    },
    {
     "name": "stdout",
     "output_type": "stream",
     "text": [
      "2025-03-23 12:18:30 [INFO] Saving legible_tracklets to: c:\\Users\\colin\\OneDrive\\Desktop\\Jersey-Number-Recognition\\data\\SoccerNet\\jersey-2023\\processed_data\\test\\79\\legible_results.json\n",
      "2025-03-23 12:18:30 [INFO] Saved legible_tracklets to: c:\\Users\\colin\\OneDrive\\Desktop\\Jersey-Number-Recognition\\data\\SoccerNet\\jersey-2023\\processed_data\\test\\79\\legible_results.json\n",
      "2025-03-23 12:18:30 [INFO] Saving illegible_tracklets to: c:\\Users\\colin\\OneDrive\\Desktop\\Jersey-Number-Recognition\\data\\SoccerNet\\jersey-2023\\processed_data\\test\\79\\illegible_results.json\n",
      "2025-03-23 12:18:30 [INFO] Saved illegible_tracklets to: c:\\Users\\colin\\OneDrive\\Desktop\\Jersey-Number-Recognition\\data\\SoccerNet\\jersey-2023\\processed_data\\test\\79\\illegible_results.json\n",
      "2025-03-23 12:18:30 [INFO] Legibility classification complete.\n",
      "2025-03-23 12:18:30 [INFO] Determine soccer balls in image(s) using pre-trained model.\n",
      "2025-03-23 12:18:30 [INFO] Processed tracklet: 79\n",
      "2025-03-23 12:18:30 [INFO] Found 0 balls, Ball list: []\n",
      "2025-03-23 12:18:33 [INFO] \n",
      "2025-03-23 12:18:33 [ERROR] \n",
      "2025-03-23 12:18:33 [INFO] Done removing outliers\n",
      "2025-03-23 12:18:33 [INFO] Running model chain on preprocessed image(s).\n",
      "2025-03-23 12:18:33 [INFO] Classifying legibility of image(s) using pre-trained model.\n",
      "2025-03-23 12:18:33 [WARNING] No soccer ball list found. Skipping exclusion of soccer balls.\n",
      "2025-03-23 12:18:33 [INFO] Path checked: c:\\Users\\colin\\OneDrive\\Desktop\\Jersey-Number-Recognition\\data\\SoccerNet\\jersey-2023\\processed_data\\test\\common_data\\soccer_ball.json\n",
      "2025-03-23 12:18:33 [INFO] Saved features for tracklet with shape (433, 2048) to c:\\Users\\colin\\OneDrive\\Desktop\\Jersey-Number-Recognition\\data\\SoccerNet\\jersey-2023\\processed_data\\test\\77\\features.npy\n",
      "2025-03-23 12:18:33 [INFO] Identifying and removing outliers by calling gaussian_outliers_streamlined.py on feature file\n"
     ]
    },
    {
     "name": "stderr",
     "output_type": "stream",
     "text": [
      "Lightning automatically upgraded your loaded checkpoint from v1.1.4 to v2.5.0.post0. To apply the upgrade to your files permanently, run `python -m pytorch_lightning.utilities.upgrade_checkpoint c:\\Users\\colin\\OneDrive\\Desktop\\Jersey-Number-Recognition\\data\\pre_trained_models\\reid\\dukemtmcreid_resnet50_256_128_epoch_120.ckpt`\n"
     ]
    },
    {
     "name": "stdout",
     "output_type": "stream",
     "text": [
      "2025-03-23 12:18:41 [INFO] Saved features for tracklet with shape (750, 2048) to c:\\Users\\colin\\OneDrive\\Desktop\\Jersey-Number-Recognition\\data\\SoccerNet\\jersey-2023\\processed_data\\test\\65\\features.npy\n",
      "2025-03-23 12:18:41 [INFO] Identifying and removing outliers by calling gaussian_outliers_streamlined.py on feature file\n"
     ]
    },
    {
     "name": "stderr",
     "output_type": "stream",
     "text": [
      "Lightning automatically upgraded your loaded checkpoint from v1.1.4 to v2.5.0.post0. To apply the upgrade to your files permanently, run `python -m pytorch_lightning.utilities.upgrade_checkpoint c:\\Users\\colin\\OneDrive\\Desktop\\Jersey-Number-Recognition\\data\\pre_trained_models\\reid\\dukemtmcreid_resnet50_256_128_epoch_120.ckpt`\n"
     ]
    },
    {
     "name": "stdout",
     "output_type": "stream",
     "text": [
      "2025-03-23 12:18:43 [INFO] \n",
      "2025-03-23 12:18:43 [ERROR] \n",
      "2025-03-23 12:18:43 [INFO] Done removing outliers\n",
      "2025-03-23 12:18:43 [INFO] Running model chain on preprocessed image(s).\n",
      "2025-03-23 12:18:43 [INFO] Classifying legibility of image(s) using pre-trained model.\n",
      "2025-03-23 12:18:43 [WARNING] No soccer ball list found. Skipping exclusion of soccer balls.\n",
      "2025-03-23 12:18:43 [INFO] Path checked: c:\\Users\\colin\\OneDrive\\Desktop\\Jersey-Number-Recognition\\data\\SoccerNet\\jersey-2023\\processed_data\\test\\common_data\\soccer_ball.json\n",
      "2025-03-23 12:18:45 [INFO] Saving legible_tracklets to: c:\\Users\\colin\\OneDrive\\Desktop\\Jersey-Number-Recognition\\data\\SoccerNet\\jersey-2023\\processed_data\\test\\67\\legible_results.json\n",
      "2025-03-23 12:18:45 [INFO] Saved legible_tracklets to: c:\\Users\\colin\\OneDrive\\Desktop\\Jersey-Number-Recognition\\data\\SoccerNet\\jersey-2023\\processed_data\\test\\67\\legible_results.json\n",
      "2025-03-23 12:18:45 [INFO] Saving illegible_tracklets to: c:\\Users\\colin\\OneDrive\\Desktop\\Jersey-Number-Recognition\\data\\SoccerNet\\jersey-2023\\processed_data\\test\\67\\illegible_results.json\n",
      "2025-03-23 12:18:45 [INFO] Saved illegible_tracklets to: c:\\Users\\colin\\OneDrive\\Desktop\\Jersey-Number-Recognition\\data\\SoccerNet\\jersey-2023\\processed_data\\test\\67\\illegible_results.json\n",
      "2025-03-23 12:18:45 [INFO] Legibility classification complete.\n",
      "2025-03-23 12:18:45 [INFO] Determine soccer balls in image(s) using pre-trained model.\n",
      "2025-03-23 12:18:45 [INFO] Processed tracklet: 67\n",
      "2025-03-23 12:18:45 [INFO] Found 0 balls, Ball list: []\n",
      "2025-03-23 12:18:48 [INFO] \n",
      "2025-03-23 12:18:48 [ERROR] \n",
      "2025-03-23 12:18:48 [INFO] Done removing outliers\n",
      "2025-03-23 12:18:48 [INFO] Running model chain on preprocessed image(s).\n",
      "2025-03-23 12:18:48 [INFO] Classifying legibility of image(s) using pre-trained model.\n",
      "2025-03-23 12:18:48 [WARNING] No soccer ball list found. Skipping exclusion of soccer balls.\n",
      "2025-03-23 12:18:48 [INFO] Path checked: c:\\Users\\colin\\OneDrive\\Desktop\\Jersey-Number-Recognition\\data\\SoccerNet\\jersey-2023\\processed_data\\test\\common_data\\soccer_ball.json\n",
      "2025-03-23 12:18:50 [INFO] Saved features for tracklet with shape (696, 2048) to c:\\Users\\colin\\OneDrive\\Desktop\\Jersey-Number-Recognition\\data\\SoccerNet\\jersey-2023\\processed_data\\test\\71\\features.npy\n",
      "2025-03-23 12:18:50 [INFO] Identifying and removing outliers by calling gaussian_outliers_streamlined.py on feature file\n"
     ]
    },
    {
     "name": "stderr",
     "output_type": "stream",
     "text": [
      "Lightning automatically upgraded your loaded checkpoint from v1.1.4 to v2.5.0.post0. To apply the upgrade to your files permanently, run `python -m pytorch_lightning.utilities.upgrade_checkpoint c:\\Users\\colin\\OneDrive\\Desktop\\Jersey-Number-Recognition\\data\\pre_trained_models\\reid\\dukemtmcreid_resnet50_256_128_epoch_120.ckpt`\n"
     ]
    },
    {
     "name": "stdout",
     "output_type": "stream",
     "text": [
      "2025-03-23 12:18:53 [INFO] Saved features for tracklet with shape (87, 2048) to c:\\Users\\colin\\OneDrive\\Desktop\\Jersey-Number-Recognition\\data\\SoccerNet\\jersey-2023\\processed_data\\test\\75\\features.npy\n",
      "2025-03-23 12:18:53 [INFO] Identifying and removing outliers by calling gaussian_outliers_streamlined.py on feature file\n"
     ]
    },
    {
     "name": "stderr",
     "output_type": "stream",
     "text": [
      "Lightning automatically upgraded your loaded checkpoint from v1.1.4 to v2.5.0.post0. To apply the upgrade to your files permanently, run `python -m pytorch_lightning.utilities.upgrade_checkpoint c:\\Users\\colin\\OneDrive\\Desktop\\Jersey-Number-Recognition\\data\\pre_trained_models\\reid\\dukemtmcreid_resnet50_256_128_epoch_120.ckpt`\n"
     ]
    },
    {
     "name": "stdout",
     "output_type": "stream",
     "text": [
      "2025-03-23 12:18:55 [INFO] Saved features for tracklet with shape (36, 2048) to c:\\Users\\colin\\OneDrive\\Desktop\\Jersey-Number-Recognition\\data\\SoccerNet\\jersey-2023\\processed_data\\test\\81\\features.npy\n",
      "2025-03-23 12:18:56 [INFO] Identifying and removing outliers by calling gaussian_outliers_streamlined.py on feature file\n"
     ]
    },
    {
     "name": "stderr",
     "output_type": "stream",
     "text": [
      "Lightning automatically upgraded your loaded checkpoint from v1.1.4 to v2.5.0.post0. To apply the upgrade to your files permanently, run `python -m pytorch_lightning.utilities.upgrade_checkpoint c:\\Users\\colin\\OneDrive\\Desktop\\Jersey-Number-Recognition\\data\\pre_trained_models\\reid\\dukemtmcreid_resnet50_256_128_epoch_120.ckpt`\n"
     ]
    },
    {
     "name": "stdout",
     "output_type": "stream",
     "text": [
      "2025-03-23 12:18:57 [INFO] \n",
      "2025-03-23 12:18:57 [ERROR] \n",
      "2025-03-23 12:18:57 [INFO] Done removing outliers\n",
      "2025-03-23 12:18:57 [INFO] Running model chain on preprocessed image(s).\n",
      "2025-03-23 12:18:57 [INFO] Classifying legibility of image(s) using pre-trained model.\n",
      "2025-03-23 12:18:57 [WARNING] No soccer ball list found. Skipping exclusion of soccer balls.\n",
      "2025-03-23 12:18:57 [INFO] Path checked: c:\\Users\\colin\\OneDrive\\Desktop\\Jersey-Number-Recognition\\data\\SoccerNet\\jersey-2023\\processed_data\\test\\common_data\\soccer_ball.json\n",
      "2025-03-23 12:18:59 [INFO] Saving legible_tracklets to: c:\\Users\\colin\\OneDrive\\Desktop\\Jersey-Number-Recognition\\data\\SoccerNet\\jersey-2023\\processed_data\\test\\66\\legible_results.json\n",
      "2025-03-23 12:18:59 [INFO] Saved legible_tracklets to: c:\\Users\\colin\\OneDrive\\Desktop\\Jersey-Number-Recognition\\data\\SoccerNet\\jersey-2023\\processed_data\\test\\66\\legible_results.json\n",
      "2025-03-23 12:18:59 [INFO] Saving illegible_tracklets to: c:\\Users\\colin\\OneDrive\\Desktop\\Jersey-Number-Recognition\\data\\SoccerNet\\jersey-2023\\processed_data\\test\\66\\illegible_results.json\n",
      "2025-03-23 12:18:59 [INFO] Saved illegible_tracklets to: c:\\Users\\colin\\OneDrive\\Desktop\\Jersey-Number-Recognition\\data\\SoccerNet\\jersey-2023\\processed_data\\test\\66\\illegible_results.json\n",
      "2025-03-23 12:18:59 [INFO] Legibility classification complete.\n",
      "2025-03-23 12:18:59 [INFO] Determine soccer balls in image(s) using pre-trained model.\n",
      "2025-03-23 12:18:59 [INFO] Processed tracklet: 66\n",
      "2025-03-23 12:18:59 [INFO] Found 0 balls, Ball list: []\n",
      "2025-03-23 12:19:04 [INFO] Saving legible_tracklets to: c:\\Users\\colin\\OneDrive\\Desktop\\Jersey-Number-Recognition\\data\\SoccerNet\\jersey-2023\\processed_data\\test\\77\\legible_results.json\n",
      "2025-03-23 12:19:04 [INFO] Saved legible_tracklets to: c:\\Users\\colin\\OneDrive\\Desktop\\Jersey-Number-Recognition\\data\\SoccerNet\\jersey-2023\\processed_data\\test\\77\\legible_results.json\n",
      "2025-03-23 12:19:04 [INFO] Saving illegible_tracklets to: c:\\Users\\colin\\OneDrive\\Desktop\\Jersey-Number-Recognition\\data\\SoccerNet\\jersey-2023\\processed_data\\test\\77\\illegible_results.json\n",
      "2025-03-23 12:19:04 [INFO] Saved illegible_tracklets to: c:\\Users\\colin\\OneDrive\\Desktop\\Jersey-Number-Recognition\\data\\SoccerNet\\jersey-2023\\processed_data\\test\\77\\illegible_results.json\n",
      "2025-03-23 12:19:04 [INFO] Legibility classification complete.\n",
      "2025-03-23 12:19:04 [INFO] Determine soccer balls in image(s) using pre-trained model.\n",
      "2025-03-23 12:19:04 [INFO] Processed tracklet: 77\n",
      "2025-03-23 12:19:04 [INFO] Found 0 balls, Ball list: []\n",
      "2025-03-23 12:19:05 [INFO] Saved features for tracklet with shape (406, 2048) to c:\\Users\\colin\\OneDrive\\Desktop\\Jersey-Number-Recognition\\data\\SoccerNet\\jersey-2023\\processed_data\\test\\72\\features.npy\n",
      "2025-03-23 12:19:05 [INFO] Identifying and removing outliers by calling gaussian_outliers_streamlined.py on feature file\n"
     ]
    },
    {
     "name": "stderr",
     "output_type": "stream",
     "text": [
      "Lightning automatically upgraded your loaded checkpoint from v1.1.4 to v2.5.0.post0. To apply the upgrade to your files permanently, run `python -m pytorch_lightning.utilities.upgrade_checkpoint c:\\Users\\colin\\OneDrive\\Desktop\\Jersey-Number-Recognition\\data\\pre_trained_models\\reid\\dukemtmcreid_resnet50_256_128_epoch_120.ckpt`\n"
     ]
    },
    {
     "name": "stdout",
     "output_type": "stream",
     "text": [
      "2025-03-23 12:19:06 [INFO] Saved features for tracklet with shape (25, 2048) to c:\\Users\\colin\\OneDrive\\Desktop\\Jersey-Number-Recognition\\data\\SoccerNet\\jersey-2023\\processed_data\\test\\82\\features.npy\n",
      "2025-03-23 12:19:06 [INFO] Identifying and removing outliers by calling gaussian_outliers_streamlined.py on feature file\n"
     ]
    },
    {
     "name": "stderr",
     "output_type": "stream",
     "text": [
      "Lightning automatically upgraded your loaded checkpoint from v1.1.4 to v2.5.0.post0. To apply the upgrade to your files permanently, run `python -m pytorch_lightning.utilities.upgrade_checkpoint c:\\Users\\colin\\OneDrive\\Desktop\\Jersey-Number-Recognition\\data\\pre_trained_models\\reid\\dukemtmcreid_resnet50_256_128_epoch_120.ckpt`\n"
     ]
    },
    {
     "name": "stdout",
     "output_type": "stream",
     "text": [
      "2025-03-23 12:19:07 [INFO] \n",
      "2025-03-23 12:19:07 [ERROR] \n",
      "2025-03-23 12:19:07 [INFO] Done removing outliers\n",
      "2025-03-23 12:19:07 [INFO] Running model chain on preprocessed image(s).\n",
      "2025-03-23 12:19:07 [INFO] Classifying legibility of image(s) using pre-trained model.\n",
      "2025-03-23 12:19:07 [WARNING] No soccer ball list found. Skipping exclusion of soccer balls.\n",
      "2025-03-23 12:19:07 [INFO] Path checked: c:\\Users\\colin\\OneDrive\\Desktop\\Jersey-Number-Recognition\\data\\SoccerNet\\jersey-2023\\processed_data\\test\\common_data\\soccer_ball.json\n",
      "2025-03-23 12:19:07 [INFO] Saving legible_tracklets to: c:\\Users\\colin\\OneDrive\\Desktop\\Jersey-Number-Recognition\\data\\SoccerNet\\jersey-2023\\processed_data\\test\\64\\legible_results.json\n",
      "2025-03-23 12:19:07 [INFO] Saved legible_tracklets to: c:\\Users\\colin\\OneDrive\\Desktop\\Jersey-Number-Recognition\\data\\SoccerNet\\jersey-2023\\processed_data\\test\\64\\legible_results.json\n",
      "2025-03-23 12:19:07 [INFO] Saving illegible_tracklets to: c:\\Users\\colin\\OneDrive\\Desktop\\Jersey-Number-Recognition\\data\\SoccerNet\\jersey-2023\\processed_data\\test\\64\\illegible_results.json\n",
      "2025-03-23 12:19:07 [INFO] Saved illegible_tracklets to: c:\\Users\\colin\\OneDrive\\Desktop\\Jersey-Number-Recognition\\data\\SoccerNet\\jersey-2023\\processed_data\\test\\64\\illegible_results.json\n",
      "2025-03-23 12:19:07 [INFO] Legibility classification complete.\n",
      "2025-03-23 12:19:07 [INFO] Determine soccer balls in image(s) using pre-trained model.\n",
      "2025-03-23 12:19:07 [INFO] Processed tracklet: 64\n",
      "2025-03-23 12:19:07 [INFO] Found 1 balls, Ball list: ['88']\n",
      "2025-03-23 12:19:09 [INFO] \n",
      "2025-03-23 12:19:09 [ERROR] \n",
      "2025-03-23 12:19:09 [INFO] Done removing outliers\n",
      "2025-03-23 12:19:09 [INFO] Running model chain on preprocessed image(s).\n",
      "2025-03-23 12:19:09 [INFO] Classifying legibility of image(s) using pre-trained model.\n",
      "2025-03-23 12:19:09 [WARNING] No soccer ball list found. Skipping exclusion of soccer balls.\n",
      "2025-03-23 12:19:09 [INFO] Path checked: c:\\Users\\colin\\OneDrive\\Desktop\\Jersey-Number-Recognition\\data\\SoccerNet\\jersey-2023\\processed_data\\test\\common_data\\soccer_ball.json\n",
      "2025-03-23 12:19:11 [INFO] Saved features for tracklet with shape (326, 2048) to c:\\Users\\colin\\OneDrive\\Desktop\\Jersey-Number-Recognition\\data\\SoccerNet\\jersey-2023\\processed_data\\test\\84\\features.npy\n",
      "2025-03-23 12:19:11 [INFO] Identifying and removing outliers by calling gaussian_outliers_streamlined.py on feature file\n"
     ]
    },
    {
     "name": "stderr",
     "output_type": "stream",
     "text": [
      "Lightning automatically upgraded your loaded checkpoint from v1.1.4 to v2.5.0.post0. To apply the upgrade to your files permanently, run `python -m pytorch_lightning.utilities.upgrade_checkpoint c:\\Users\\colin\\OneDrive\\Desktop\\Jersey-Number-Recognition\\data\\pre_trained_models\\reid\\dukemtmcreid_resnet50_256_128_epoch_120.ckpt`\n"
     ]
    },
    {
     "name": "stdout",
     "output_type": "stream",
     "text": [
      "2025-03-23 12:19:12 [INFO] \n",
      "2025-03-23 12:19:12 [ERROR] \n",
      "2025-03-23 12:19:12 [INFO] Done removing outliers\n",
      "2025-03-23 12:19:12 [INFO] Running model chain on preprocessed image(s).\n",
      "2025-03-23 12:19:12 [INFO] Classifying legibility of image(s) using pre-trained model.\n",
      "2025-03-23 12:19:12 [WARNING] No soccer ball list found. Skipping exclusion of soccer balls.\n",
      "2025-03-23 12:19:12 [INFO] Path checked: c:\\Users\\colin\\OneDrive\\Desktop\\Jersey-Number-Recognition\\data\\SoccerNet\\jersey-2023\\processed_data\\test\\common_data\\soccer_ball.json\n",
      "2025-03-23 12:19:22 [INFO] Saved features for tracklet with shape (604, 2048) to c:\\Users\\colin\\OneDrive\\Desktop\\Jersey-Number-Recognition\\data\\SoccerNet\\jersey-2023\\processed_data\\test\\73\\features.npy\n",
      "2025-03-23 12:19:22 [INFO] Identifying and removing outliers by calling gaussian_outliers_streamlined.py on feature file\n"
     ]
    },
    {
     "name": "stderr",
     "output_type": "stream",
     "text": [
      "Lightning automatically upgraded your loaded checkpoint from v1.1.4 to v2.5.0.post0. To apply the upgrade to your files permanently, run `python -m pytorch_lightning.utilities.upgrade_checkpoint c:\\Users\\colin\\OneDrive\\Desktop\\Jersey-Number-Recognition\\data\\pre_trained_models\\reid\\dukemtmcreid_resnet50_256_128_epoch_120.ckpt`\n"
     ]
    }
   ],
   "source": [
    "pipeline.run_soccernet(\n",
    "  run_soccer_ball_filter=True,\n",
    "  generate_features=True,\n",
    "  run_filter=True,\n",
    "  run_legible=True,\n",
    "  run_legible_eval=True,\n",
    "  run_pose=False,\n",
    "  run_crops=False,\n",
    "  run_str=False,\n",
    "  run_combine=False,\n",
    "  run_eval=False)"
   ]
  }
 ],
 "metadata": {
  "kernelspec": {
   "display_name": "UBC",
   "language": "python",
   "name": "python3"
  },
  "language_info": {
   "codemirror_mode": {
    "name": "ipython",
    "version": 3
   },
   "file_extension": ".py",
   "mimetype": "text/x-python",
   "name": "python",
   "nbconvert_exporter": "python",
   "pygments_lexer": "ipython3",
   "version": "3.13.1"
  }
 },
 "nbformat": 4,
 "nbformat_minor": 2
}
