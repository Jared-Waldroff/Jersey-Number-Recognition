{
 "cells": [
  {
   "cell_type": "markdown",
   "metadata": {},
   "source": [
    "## Colin's Pipeline Experiments\n",
    "### Objectives:\n",
    "- Create a SingleImagePipeline so we can run fast-iteration experiments on just a single image\n",
    "- Create a CentraPipeline that calls SingleImagePipeline\n",
    "- Modularize the soccer_net_pipeline and migrate all operations to SingleImagePipeline\n",
    "- Run all systematic ops from CentralPipeline (more than one tracklet)\n",
    "\n",
    "### Main benefit from creating a `SingleImagePipeline` and a `CentralPipeline`\n",
    "Decoupling large-scale systematic training versus testing. The main pipeline trains the model, creates output processed images and does so by systematically traversing all the tracklets. I want to be able to see what pre-processing is happening to the image so I can understand what is being fed to the model. I also just want to be able to pass a single raw image to the model so I can get fast results. Right now everything is coupled together by all the tracklets, and I don't want to traverse all of them or even a single tracklet, but maybe only a single image from a single tracklet."
   ]
  },
  {
   "cell_type": "code",
   "execution_count": 1,
   "metadata": {},
   "outputs": [
    {
     "name": "stdout",
     "output_type": "stream",
     "text": [
      "c:\\Users\\colin\\OneDrive\\Desktop\\UBC\\Jersey-Number-Recognition\n",
      "Current working directory:  c:\\Users\\colin\\OneDrive\\Desktop\\UBC\\Jersey-Number-Recognition\\ModelDevelopment\\experiments\n"
     ]
    }
   ],
   "source": [
    "import sys\n",
    "from pathlib import Path\n",
    "import os\n",
    "\n",
    "sys.path.append(str(Path.cwd().parent.parent))\n",
    "print(str(Path.cwd().parent.parent))\n",
    "print(\"Current working directory: \", os.getcwd())\n",
    "\n",
    "from ModelDevelopment.CentralPipeline import CentralPipeline\n",
    "from ModelDevelopment.SingleImagePipeline import SingleImagePipeline\n",
    "from DataProcessing.DataPreProcessing import DataPaths"
   ]
  },
  {
   "cell_type": "code",
   "execution_count": 2,
   "metadata": {},
   "outputs": [
    {
     "name": "stderr",
     "output_type": "stream",
     "text": [
      "[2025-03-02 20:25:25] - [INFO]: DataPreProcessing initialized. Universe of available data paths:\n",
      "[2025-03-02 20:25:25] - [INFO]: ROOT_DATA_DIR: c:\\Users\\colin\\OneDrive\\Desktop\\UBC\\Jersey-Number-Recognition\\data\\SoccerNet\\jersey-2023\\extracted\n",
      "[2025-03-02 20:25:25] - [INFO]: TEST_DATA_DIR: c:\\Users\\colin\\OneDrive\\Desktop\\UBC\\Jersey-Number-Recognition\\data\\SoccerNet\\jersey-2023\\extracted\\test\\images\n",
      "[2025-03-02 20:25:25] - [INFO]: TRAIN_DATA_DIR: c:\\Users\\colin\\OneDrive\\Desktop\\UBC\\Jersey-Number-Recognition\\data\\SoccerNet\\jersey-2023\\extracted\\train\\images\n",
      "[2025-03-02 20:25:25] - [INFO]: CHALLENGE_DATA_DIR: c:\\Users\\colin\\OneDrive\\Desktop\\UBC\\Jersey-Number-Recognition\\data\\SoccerNet\\jersey-2023\\extracted\\challenge\\images\n",
      "[2025-03-02 20:25:25] - [INFO]: PRE_TRAINED_MODELS_DIR: c:\\Users\\colin\\OneDrive\\Desktop\\UBC\\Jersey-Number-Recognition\\data\\pre_trained_models\n",
      "[2025-03-02 20:25:25] - [INFO]: REID_PRE_TRAINED: c:\\Users\\colin\\OneDrive\\Desktop\\UBC\\Jersey-Number-Recognition\\data\\pre_trained_models\\reid\n",
      "[2025-03-02 20:25:25] - [INFO]: PROCESSED_DATA_OUTPUT_DIR: c:\\Users\\colin\\OneDrive\\Desktop\\UBC\\Jersey-Number-Recognition\\data\\SoccerNet\\jersey-2023\\processed_data\n",
      "[2025-03-02 20:25:25] - [INFO]: PROCESSED_DATA_OUTPUT_DIR_TRAIN: c:\\Users\\colin\\OneDrive\\Desktop\\UBC\\Jersey-Number-Recognition\\data\\SoccerNet\\jersey-2023\\processed_data\\train\n",
      "[2025-03-02 20:25:25] - [INFO]: PROCESSED_DATA_OUTPUT_DIR_TEST: c:\\Users\\colin\\OneDrive\\Desktop\\UBC\\Jersey-Number-Recognition\\data\\SoccerNet\\jersey-2023\\processed_data\\test\n",
      "[2025-03-02 20:25:25] - [INFO]: PROCESSED_DATA_OUTPUT_DIR_CHALLENGE: c:\\Users\\colin\\OneDrive\\Desktop\\UBC\\Jersey-Number-Recognition\\data\\SoccerNet\\jersey-2023\\processed_data\\challenge\n",
      "[2025-03-02 20:25:25] - [INFO]: Using device: cuda\n",
      "[2025-03-02 20:25:25] - [INFO]: ['0', '1', '10', '100', '1000', '1001', '1002', '1003', '1004', '1005']\n",
      "[2025-03-02 20:25:25] - [INFO]: Min tracklet: 0\n",
      "[2025-03-02 20:25:25] - [INFO]: Max tracklet: 1426\n",
      "[2025-03-02 20:25:25] - [INFO]: Running the SoccerNet pipeline.\n",
      "[2025-03-02 20:25:25] - [INFO]: num_tracklets: 1\n"
     ]
    },
    {
     "data": {
      "application/vnd.jupyter.widget-view+json": {
       "model_id": "2775ae472206420989cf04df72a3e6a5",
       "version_major": 2,
       "version_minor": 0
      },
      "text/plain": [
       "Loading tracklets:   0%|          | 0/1 [00:00<?, ?it/s]"
      ]
     },
     "metadata": {},
     "output_type": "display_data"
    }
   ],
   "source": [
    "pipeline = CentralPipeline(input_data_path=DataPaths.TRAIN_DATA_DIR.value, output_processed_data_path=DataPaths.PROCESSED_DATA_OUTPUT_DIR_TRAIN.value)\n",
    "pipeline.run_soccernet_pipeline(num_tracklets=1, num_images_per_tracklet=1)"
   ]
  },
  {
   "cell_type": "code",
   "execution_count": null,
   "metadata": {},
   "outputs": [],
   "source": []
  }
 ],
 "metadata": {
  "kernelspec": {
   "display_name": "UBC",
   "language": "python",
   "name": "python3"
  },
  "language_info": {
   "codemirror_mode": {
    "name": "ipython",
    "version": 3
   },
   "file_extension": ".py",
   "mimetype": "text/x-python",
   "name": "python",
   "nbconvert_exporter": "python",
   "pygments_lexer": "ipython3",
   "version": "3.13.1"
  }
 },
 "nbformat": 4,
 "nbformat_minor": 2
}
