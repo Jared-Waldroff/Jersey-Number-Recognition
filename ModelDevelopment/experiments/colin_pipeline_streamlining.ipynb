{
 "cells": [
  {
   "cell_type": "markdown",
   "metadata": {},
   "source": [
    "### Quick Run Block"
   ]
  },
  {
   "cell_type": "code",
   "execution_count": 1,
   "metadata": {},
   "outputs": [],
   "source": [
    "# import torch\n",
    "# from pytorch_lightning.callbacks import ModelCheckpoint\n",
    "\n",
    "# # Path to the problematic checkpoint\n",
    "# checkpoint_path = r\"c:\\Users\\colin\\OneDrive\\Desktop\\Jersey-Number-Recognition\\data\\pre_trained_models\\reid\\dukemtmcreid_resnet50_256_128_epoch_120.ckpt\"\n",
    "\n",
    "# # Allow loading of ModelCheckpoint objects (since PyTorch 2.6 blocks this by default)\n",
    "# torch.serialization.add_safe_globals([ModelCheckpoint])\n",
    "\n",
    "# # Load the checkpoint safely\n",
    "# checkpoint = torch.load(checkpoint_path, map_location=\"cpu\", weights_only=False)\n",
    "\n",
    "# # Print out keys to inspect conflicting ones\n",
    "# print(\"Checkpoint keys:\", checkpoint.keys())\n",
    "\n",
    "# # Remove ModelCheckpoint states (if they exist)\n",
    "# keys_to_remove = [key for key in checkpoint.keys() if \"ModelCheckpoint\" in key]\n",
    "# for key in keys_to_remove:\n",
    "#     del checkpoint[key]\n",
    "\n",
    "# # Save the cleaned checkpoint\n",
    "# fixed_checkpoint_path = checkpoint_path.replace(\".ckpt\", \"_fixed.ckpt\")\n",
    "# torch.save(checkpoint, fixed_checkpoint_path)\n",
    "\n",
    "# print(f\"Fixed checkpoint saved to: {fixed_checkpoint_path}\")"
   ]
  },
  {
   "cell_type": "markdown",
   "metadata": {},
   "source": [
    "## Code"
   ]
  },
  {
   "cell_type": "code",
   "execution_count": null,
   "metadata": {},
   "outputs": [
    {
     "name": "stdout",
     "output_type": "stream",
     "text": [
      "c:\\Users\\colin\\OneDrive\\Desktop\\Jersey-Number-Recognition\n",
      "Current working directory:  c:\\Users\\colin\\OneDrive\\Desktop\\Jersey-Number-Recognition\\ModelDevelopment\\experiments\n"
     ]
    }
   ],
   "source": [
    "import sys\n",
    "from pathlib import Path\n",
    "import os\n",
    "\n",
    "sys.path.append(str(Path.cwd().parent.parent))\n",
    "print(str(Path.cwd().parent.parent))\n",
    "print(\"Current working directory: \", os.getcwd())\n",
    "\n",
    "from ModelDevelopment.CentralPipeline import CentralPipeline\n",
    "from ModelDevelopment.ImageBatchPipeline import ImageBatchPipeline\n",
    "from DataProcessing.DataPreProcessing import DataPaths"
   ]
  },
  {
   "cell_type": "markdown",
   "metadata": {},
   "source": [
    "## Multithreaded Studies Research Findings\n",
    "- ThreadPoolExecutor works best for CentralPipeline pre-processing step (i.e. everything before run_pose)\n",
    "- Time taken to process one batch of 32 tracklets: 251 seconds => (251*32)/3600 = 2.35 hours ETA @ 200 images per batch cap, num_threads = 6x3 = 18\n",
    "- Note on the GPU_SEMAPHORE constant inside ImageFeatureTransformPipeline: this is always capped at 1 so we only offload 1 batch of images to the GPU\n",
    "- Since this gate is capped at 1, we can control the amount of data offloaded to the GPU via the image_batch_size param to CentralPipeline and only that\n",
    "- Since caching is implemented, you can try setting the gate to 2 for even faster results, and if the process crashes, keep restarting with use_cache=True"
   ]
  },
  {
   "cell_type": "code",
   "execution_count": null,
   "metadata": {},
   "outputs": [
    {
     "name": "stdout",
     "output_type": "stream",
     "text": [
      "2025-03-23 22:45:37 [INFO] DataPreProcessing initialized. Universe of available data paths:\n",
      "2025-03-23 22:45:37 [INFO] ROOT_DATA_DIR: c:\\Users\\colin\\OneDrive\\Desktop\\Jersey-Number-Recognition\\data\\SoccerNet\\jersey-2023\\extracted\n",
      "2025-03-23 22:45:37 [INFO] TEST_DATA_GT: c:\\Users\\colin\\OneDrive\\Desktop\\Jersey-Number-Recognition\\data\\SoccerNet\\jersey-2023\\extracted\\test\\test_gt.json\n",
      "2025-03-23 22:45:37 [INFO] TRAIN_DATA_GT: c:\\Users\\colin\\OneDrive\\Desktop\\Jersey-Number-Recognition\\data\\SoccerNet\\jersey-2023\\extracted\\train\\train_gt.json\n",
      "2025-03-23 22:45:37 [INFO] TEST_DATA_DIR: c:\\Users\\colin\\OneDrive\\Desktop\\Jersey-Number-Recognition\\data\\SoccerNet\\jersey-2023\\extracted\\test\\images\n",
      "2025-03-23 22:45:37 [INFO] TRAIN_DATA_DIR: c:\\Users\\colin\\OneDrive\\Desktop\\Jersey-Number-Recognition\\data\\SoccerNet\\jersey-2023\\extracted\\train\\images\n",
      "2025-03-23 22:45:37 [INFO] CHALLENGE_DATA_DIR: c:\\Users\\colin\\OneDrive\\Desktop\\Jersey-Number-Recognition\\data\\SoccerNet\\jersey-2023\\extracted\\challenge\\images\n",
      "2025-03-23 22:45:37 [INFO] PRE_TRAINED_MODELS_DIR: c:\\Users\\colin\\OneDrive\\Desktop\\Jersey-Number-Recognition\\data\\pre_trained_models\n",
      "2025-03-23 22:45:37 [INFO] REID_PRE_TRAINED: c:\\Users\\colin\\OneDrive\\Desktop\\Jersey-Number-Recognition\\data\\pre_trained_models\\reid\n",
      "2025-03-23 22:45:37 [INFO] STR_PRE_TRAINED: c:\\Users\\colin\\OneDrive\\Desktop\\Jersey-Number-Recognition\\data\\pre_trained_models\\str\n",
      "2025-03-23 22:45:37 [INFO] STR_MODEL: c:\\Users\\colin\\OneDrive\\Desktop\\Jersey-Number-Recognition\\data\\pre_trained_models\\str\\parseq_epoch=24-step=2575-val_accuracy=95.6044-val_NED=96.3255.ckpt\n",
      "2025-03-23 22:45:37 [INFO] REID_MODEL_1: c:\\Users\\colin\\OneDrive\\Desktop\\Jersey-Number-Recognition\\data\\pre_trained_models\\reid\\dukemtmcreid_resnet50_256_128_epoch_120.ckpt\n",
      "2025-03-23 22:45:37 [INFO] REID_MODEL_2: c:\\Users\\colin\\OneDrive\\Desktop\\Jersey-Number-Recognition\\data\\pre_trained_models\\reid\\market1501_resnet50_256_128_epoch_120.ckpt\n",
      "2025-03-23 22:45:37 [INFO] REID_CONFIG_YAML: c:\\Users\\colin\\OneDrive\\Desktop\\Jersey-Number-Recognition\\data\\pre_trained_models\\reid\\configs\\256_resnet50.yml\n",
      "2025-03-23 22:45:37 [INFO] RESNET_MODEL: c:\\Users\\colin\\OneDrive\\Desktop\\Jersey-Number-Recognition\\data\\pre_trained_models\\resnet\\legibility_resnet34_soccer_20240215.pth\n",
      "2025-03-23 22:45:37 [INFO] PROCESSED_DATA_OUTPUT_DIR: c:\\Users\\colin\\OneDrive\\Desktop\\Jersey-Number-Recognition\\data\\SoccerNet\\jersey-2023\\processed_data\n",
      "2025-03-23 22:45:37 [INFO] PROCESSED_DATA_OUTPUT_DIR_TRAIN: c:\\Users\\colin\\OneDrive\\Desktop\\Jersey-Number-Recognition\\data\\SoccerNet\\jersey-2023\\processed_data\\train\n",
      "2025-03-23 22:45:37 [INFO] PROCESSED_DATA_OUTPUT_DIR_TEST: c:\\Users\\colin\\OneDrive\\Desktop\\Jersey-Number-Recognition\\data\\SoccerNet\\jersey-2023\\processed_data\\test\n",
      "2025-03-23 22:45:37 [INFO] PROCESSED_DATA_OUTPUT_DIR_CHALLENGE: c:\\Users\\colin\\OneDrive\\Desktop\\Jersey-Number-Recognition\\data\\SoccerNet\\jersey-2023\\processed_data\\challenge\n",
      "2025-03-23 22:45:37 [INFO] COMMON_PROCESSED_OUTPUT_DATA_TRAIN: c:\\Users\\colin\\OneDrive\\Desktop\\Jersey-Number-Recognition\\data\\SoccerNet\\jersey-2023\\processed_data\\train\\common_data\n",
      "2025-03-23 22:45:37 [INFO] COMMON_PROCESSED_OUTPUT_DATA_TEST: c:\\Users\\colin\\OneDrive\\Desktop\\Jersey-Number-Recognition\\data\\SoccerNet\\jersey-2023\\processed_data\\test\\common_data\n",
      "2025-03-23 22:45:37 [INFO] COMMON_PROCESSED_OUTPUT_DATA_CHALLENGE: c:\\Users\\colin\\OneDrive\\Desktop\\Jersey-Number-Recognition\\data\\SoccerNet\\jersey-2023\\processed_data\\challenge\\common_data\n",
      "2025-03-23 22:45:37 [INFO] STREAMLINED_PIPELINE: c:\\Users\\colin\\OneDrive\\Desktop\\Jersey-Number-Recognition\\StreamlinedPipelineScripts\n",
      "2025-03-23 22:45:37 [INFO] ['0', '1', '2', '3', '4', '5', '6', '7', '8', '9']\n",
      "2025-03-23 22:45:37 [INFO] Min tracklet: 0\n",
      "2025-03-23 22:45:37 [INFO] Max tracklet: 1210\n",
      "2025-03-23 22:45:37 [INFO] Using device: cuda\n",
      "2025-03-23 22:45:37 [INFO] ['0', '1', '2', '3', '4', '5', '6', '7', '8', '9']\n",
      "2025-03-23 22:45:37 [INFO] Min tracklet: 0\n",
      "2025-03-23 22:45:37 [INFO] Max tracklet: 1210\n"
     ]
    }
   ],
   "source": [
    "pipeline = CentralPipeline(\n",
    "  #tracklets_to_process_override=[\"34\"],\n",
    "  num_tracklets=1210,\n",
    "  #num_images_per_tracklet=50,\n",
    "  input_data_path=DataPaths.TEST_DATA_DIR.value,\n",
    "  output_processed_data_path=DataPaths.PROCESSED_DATA_OUTPUT_DIR_TEST.value,\n",
    "  common_processed_data_dir=DataPaths.COMMON_PROCESSED_OUTPUT_DATA_TEST.value,\n",
    "  gt_data_path=DataPaths.TEST_DATA_GT.value,\n",
    "  single_image_pipeline=False,\n",
    "  display_transformed_image_sample=False, # NOTE: DO NOT USE. Code is parallelized so we cannot show images anymore. Code breaks, but first one will show if True.\n",
    "  num_image_samples=1,\n",
    "  use_cache=True, # Set to false if you encounter data inconsistencies.\n",
    "  suppress_logging=False,\n",
    "  \n",
    "  # --- PARALLELIZATION PARAMS --- These settings are optimal for an NVIDIA RTX 3070 Ti Laptop GPU.\n",
    "  num_workers=2,            # CRITICAL optimisation param. Adjust accordingly. 6\n",
    "  tracklet_batch_size=32,   # CRITICAL optimisation param. Adjust accordingly. 32\n",
    "  image_batch_size=100,     # CRITICAL optimisation param. Adjust accordingly. 200\n",
    "  num_threads_multiplier=2  # CRITICAL optimisation param. Adjust accordingly. 3. Interpretation: num_threads = num_workers * num_threads_multiplier\n",
    "  )"
   ]
  },
  {
   "cell_type": "code",
   "execution_count": null,
   "metadata": {},
   "outputs": [
    {
     "name": "stdout",
     "output_type": "stream",
     "text": [
      "2025-03-23 22:45:37 [INFO] Running the SoccerNet pipeline.\n",
      "2025-03-23 22:45:37 [INFO] Evaluating legibility results on 1210 tracklets\n"
     ]
    },
    {
     "data": {
      "application/vnd.jupyter.widget-view+json": {
       "model_id": "ce751d86c81a497b9a0892c6bf541038",
       "version_major": 2,
       "version_minor": 0
      },
      "text/plain": [
       "Evaluating legibility:   0%|          | 0/1210 [00:00<?, ?it/s]"
      ]
     },
     "metadata": {},
     "output_type": "display_data"
    },
    {
     "name": "stdout",
     "output_type": "stream",
     "text": [
      "2025-03-23 22:45:37 [INFO] FP: 39\n",
      "2025-03-23 22:45:37 [INFO] FP: 61\n",
      "2025-03-23 22:45:37 [INFO] FP: 87\n",
      "2025-03-23 22:45:37 [INFO] FP: 89\n",
      "2025-03-23 22:45:37 [INFO] FP: 97\n",
      "2025-03-23 22:45:37 [INFO] FP: 134\n",
      "2025-03-23 22:45:37 [INFO] FP: 162\n",
      "2025-03-23 22:45:37 [INFO] FP: 164\n",
      "2025-03-23 22:45:37 [INFO] FP: 167\n",
      "2025-03-23 22:45:37 [INFO] FP: 168\n",
      "2025-03-23 22:45:37 [INFO] FP: 172\n",
      "2025-03-23 22:45:37 [INFO] FP: 199\n",
      "2025-03-23 22:45:37 [INFO] FP: 215\n",
      "2025-03-23 22:45:37 [INFO] FP: 260\n",
      "2025-03-23 22:45:37 [INFO] FP: 267\n",
      "2025-03-23 22:45:37 [INFO] FP: 269\n",
      "2025-03-23 22:45:37 [INFO] FP: 276\n",
      "2025-03-23 22:45:37 [INFO] FP: 281\n",
      "2025-03-23 22:45:37 [INFO] FP: 288\n",
      "2025-03-23 22:45:37 [INFO] FP: 295\n",
      "2025-03-23 22:45:37 [INFO] FP: 317\n",
      "2025-03-23 22:45:37 [INFO] FP: 325\n",
      "2025-03-23 22:45:37 [INFO] FP: 340\n",
      "2025-03-23 22:45:37 [INFO] FP: 345\n",
      "2025-03-23 22:45:37 [INFO] FP: 374\n",
      "2025-03-23 22:45:37 [INFO] FP: 386\n",
      "2025-03-23 22:45:37 [INFO] FP: 388\n",
      "2025-03-23 22:45:37 [INFO] FP: 391\n",
      "2025-03-23 22:45:37 [INFO] FP: 394\n",
      "2025-03-23 22:45:37 [INFO] FP: 406\n",
      "2025-03-23 22:45:37 [INFO] FP: 408\n",
      "2025-03-23 22:45:37 [INFO] FP: 434\n",
      "2025-03-23 22:45:37 [INFO] FP: 437\n",
      "2025-03-23 22:45:37 [INFO] FP: 459\n",
      "2025-03-23 22:45:37 [INFO] FP: 471\n",
      "2025-03-23 22:45:37 [INFO] FP: 514\n",
      "2025-03-23 22:45:37 [INFO] FP: 532\n",
      "2025-03-23 22:45:37 [INFO] FP: 558\n",
      "2025-03-23 22:45:37 [INFO] FP: 683\n",
      "2025-03-23 22:45:37 [INFO] FP: 748\n",
      "2025-03-23 22:45:37 [INFO] FP: 770\n",
      "2025-03-23 22:45:37 [INFO] FP: 790\n",
      "2025-03-23 22:45:37 [INFO] FP: 802\n",
      "2025-03-23 22:45:38 [INFO] FP: 827\n",
      "2025-03-23 22:45:38 [INFO] FP: 861\n",
      "2025-03-23 22:45:38 [INFO] FP: 869\n",
      "2025-03-23 22:45:38 [INFO] FP: 879\n",
      "2025-03-23 22:45:38 [INFO] FP: 895\n",
      "2025-03-23 22:45:38 [INFO] FP: 897\n",
      "2025-03-23 22:45:38 [INFO] FP: 909\n",
      "2025-03-23 22:45:38 [INFO] FP: 964\n",
      "2025-03-23 22:45:38 [INFO] FP: 981\n",
      "2025-03-23 22:45:38 [INFO] FP: 999\n",
      "2025-03-23 22:45:38 [INFO] FP: 1023\n",
      "2025-03-23 22:45:38 [INFO] FP: 1025\n",
      "2025-03-23 22:45:38 [INFO] FP: 1030\n",
      "2025-03-23 22:45:38 [INFO] FP: 1031\n",
      "2025-03-23 22:45:38 [INFO] FP: 1033\n",
      "2025-03-23 22:45:38 [INFO] FP: 1055\n",
      "2025-03-23 22:45:38 [INFO] FP: 1087\n",
      "2025-03-23 22:45:38 [INFO] FP: 1088\n",
      "2025-03-23 22:45:38 [INFO] FP: 1169\n",
      "2025-03-23 22:45:38 [INFO] FP: 1170\n",
      "2025-03-23 22:45:38 [INFO] FP: 1173\n",
      "2025-03-23 22:45:38 [INFO] FP: 1174\n",
      "2025-03-23 22:45:38 [INFO] FP: 1175\n",
      "2025-03-23 22:45:38 [INFO] FP: 1179\n",
      "2025-03-23 22:45:38 [INFO] FP: 1183\n",
      "2025-03-23 22:45:38 [INFO] FP: 1184\n",
      "2025-03-23 22:45:38 [INFO] FP: 1185\n",
      "2025-03-23 22:45:38 [INFO] Correct 1051 out of 1210. Accuracy 86.85950413223141%.\n",
      "2025-03-23 22:45:38 [INFO] TP=766, TN=285, FP=70, FN=89\n",
      "2025-03-23 22:45:38 [INFO] Precision=0.916267942583732, Recall=0.895906432748538\n",
      "2025-03-23 22:45:38 [INFO] F1=0.9059727971614429\n"
     ]
    }
   ],
   "source": [
    "pipeline.run_soccernet(\n",
    "  run_soccer_ball_filter=False,\n",
    "  generate_features=False,\n",
    "  run_filter=False,\n",
    "  run_legible=False,\n",
    "  run_legible_eval=True,\n",
    "  run_pose=False,\n",
    "  run_crops=False,\n",
    "  run_str=False,\n",
    "  run_combine=False,\n",
    "  run_eval=False)"
   ]
  }
 ],
 "metadata": {
  "kernelspec": {
   "display_name": "UBC",
   "language": "python",
   "name": "python3"
  },
  "language_info": {
   "codemirror_mode": {
    "name": "ipython",
    "version": 3
   },
   "file_extension": ".py",
   "mimetype": "text/x-python",
   "name": "python",
   "nbconvert_exporter": "python",
   "pygments_lexer": "ipython3",
   "version": "3.13.1"
  }
 },
 "nbformat": 4,
 "nbformat_minor": 2
}
