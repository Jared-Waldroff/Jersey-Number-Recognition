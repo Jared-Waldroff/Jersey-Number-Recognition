{
 "cells": [
  {
   "cell_type": "markdown",
   "metadata": {},
   "source": [
    "## Colin's Pipeline Experiments\n",
    "### Objectives:\n",
    "- Create a SingleImagePipeline so we can run fast-iteration experiments on just a single image\n",
    "- Create a CentraPipeline that calls SingleImagePipeline\n",
    "- Modularize the soccer_net_pipeline and migrate all operations to SingleImagePipeline\n",
    "- Run all systematic ops from CentralPipeline (more than one tracklet)\n",
    "\n",
    "### Main benefit from creating a `BatchImagePipeline` and a `CentralPipeline`\n",
    "Decoupling large-scale systematic training versus testing. The main pipeline trains the model, creates output processed images and does so by systematically traversing all the tracklets. I want to be able to see what pre-processing is happening to the image so I can understand what is being fed to the model. I also just want to be able to pass a single raw image to the model so I can get fast results. Right now everything is coupled together by all the tracklets, and I don't want to traverse all of them or even a single tracklet, but maybe only a single image from a single tracklet."
   ]
  },
  {
   "cell_type": "markdown",
   "metadata": {},
   "source": [
    "### Quick Run Block"
   ]
  },
  {
   "cell_type": "code",
   "execution_count": null,
   "metadata": {},
   "outputs": [],
   "source": []
  },
  {
   "cell_type": "markdown",
   "metadata": {},
   "source": [
    "## Code"
   ]
  },
  {
   "cell_type": "code",
   "execution_count": 1,
   "metadata": {},
   "outputs": [
    {
     "name": "stdout",
     "output_type": "stream",
     "text": [
      "c:\\Users\\colin\\OneDrive\\Desktop\\UBC\\Jersey-Number-Recognition\n",
      "Current working directory:  c:\\Users\\colin\\OneDrive\\Desktop\\UBC\\Jersey-Number-Recognition\\ModelDevelopment\\experiments\n"
     ]
    }
   ],
   "source": [
    "import sys\n",
    "from pathlib import Path\n",
    "import os\n",
    "\n",
    "sys.path.append(str(Path.cwd().parent.parent))\n",
    "print(str(Path.cwd().parent.parent))\n",
    "print(\"Current working directory: \", os.getcwd())\n",
    "\n",
    "from ModelDevelopment.CentralPipeline import CentralPipeline\n",
    "from ModelDevelopment.ImageBatchPipeline import ImageBatchPipeline\n",
    "from DataProcessing.DataPreProcessing import DataPaths"
   ]
  },
  {
   "cell_type": "code",
   "execution_count": 2,
   "metadata": {},
   "outputs": [
    {
     "name": "stdout",
     "output_type": "stream",
     "text": [
      "2025-03-21 20:44:20 [INFO] DataPreProcessing initialized. Universe of available data paths:\n",
      "2025-03-21 20:44:20 [INFO] ROOT_DATA_DIR: c:\\Users\\colin\\OneDrive\\Desktop\\UBC\\Jersey-Number-Recognition\\data\\SoccerNet\\jersey-2023\\extracted\n",
      "2025-03-21 20:44:20 [INFO] TEST_DATA_GT: c:\\Users\\colin\\OneDrive\\Desktop\\UBC\\Jersey-Number-Recognition\\data\\SoccerNet\\jersey-2023\\extracted\\test\\test_gt.json\n",
      "2025-03-21 20:44:20 [INFO] TRAIN_DATA_GT: c:\\Users\\colin\\OneDrive\\Desktop\\UBC\\Jersey-Number-Recognition\\data\\SoccerNet\\jersey-2023\\extracted\\train\\train_gt.json\n",
      "2025-03-21 20:44:20 [INFO] TEST_DATA_DIR: c:\\Users\\colin\\OneDrive\\Desktop\\UBC\\Jersey-Number-Recognition\\data\\SoccerNet\\jersey-2023\\extracted\\test\\images\n",
      "2025-03-21 20:44:20 [INFO] TRAIN_DATA_DIR: c:\\Users\\colin\\OneDrive\\Desktop\\UBC\\Jersey-Number-Recognition\\data\\SoccerNet\\jersey-2023\\extracted\\train\\images\n",
      "2025-03-21 20:44:20 [INFO] CHALLENGE_DATA_DIR: c:\\Users\\colin\\OneDrive\\Desktop\\UBC\\Jersey-Number-Recognition\\data\\SoccerNet\\jersey-2023\\extracted\\challenge\\images\n",
      "2025-03-21 20:44:20 [INFO] PRE_TRAINED_MODELS_DIR: c:\\Users\\colin\\OneDrive\\Desktop\\UBC\\Jersey-Number-Recognition\\data\\pre_trained_models\n",
      "2025-03-21 20:44:20 [INFO] REID_PRE_TRAINED: c:\\Users\\colin\\OneDrive\\Desktop\\UBC\\Jersey-Number-Recognition\\data\\pre_trained_models\\reid\n",
      "2025-03-21 20:44:20 [INFO] STR_PRE_TRAINED: c:\\Users\\colin\\OneDrive\\Desktop\\UBC\\Jersey-Number-Recognition\\data\\pre_trained_models\\str\n",
      "2025-03-21 20:44:20 [INFO] STR_MODEL: c:\\Users\\colin\\OneDrive\\Desktop\\UBC\\Jersey-Number-Recognition\\data\\pre_trained_models\\str\\parseq_epoch=24-step=2575-val_accuracy=95.6044-val_NED=96.3255.ckpt\n",
      "2025-03-21 20:44:20 [INFO] REID_MODEL_1: c:\\Users\\colin\\OneDrive\\Desktop\\UBC\\Jersey-Number-Recognition\\data\\pre_trained_models\\reid\\dukemtmcreid_resnet50_256_128_epoch_120.ckpt\n",
      "2025-03-21 20:44:20 [INFO] REID_MODEL_2: c:\\Users\\colin\\OneDrive\\Desktop\\UBC\\Jersey-Number-Recognition\\data\\pre_trained_models\\reid\\market1501_resnet50_256_128_epoch_120.ckpt\n",
      "2025-03-21 20:44:20 [INFO] REID_CONFIG_YAML: c:\\Users\\colin\\OneDrive\\Desktop\\UBC\\Jersey-Number-Recognition\\data\\pre_trained_models\\reid\\configs\\256_resnet50.yml\n",
      "2025-03-21 20:44:20 [INFO] RESNET_MODEL: c:\\Users\\colin\\OneDrive\\Desktop\\UBC\\Jersey-Number-Recognition\\data\\pre_trained_models\\resnet\\legibility_resnet34_soccer_20240215.pth\n",
      "2025-03-21 20:44:20 [INFO] PROCESSED_DATA_OUTPUT_DIR: c:\\Users\\colin\\OneDrive\\Desktop\\UBC\\Jersey-Number-Recognition\\data\\SoccerNet\\jersey-2023\\processed_data\n",
      "2025-03-21 20:44:20 [INFO] PROCESSED_DATA_OUTPUT_DIR_TRAIN: c:\\Users\\colin\\OneDrive\\Desktop\\UBC\\Jersey-Number-Recognition\\data\\SoccerNet\\jersey-2023\\processed_data\\train\n",
      "2025-03-21 20:44:20 [INFO] PROCESSED_DATA_OUTPUT_DIR_TEST: c:\\Users\\colin\\OneDrive\\Desktop\\UBC\\Jersey-Number-Recognition\\data\\SoccerNet\\jersey-2023\\processed_data\\test\n",
      "2025-03-21 20:44:20 [INFO] PROCESSED_DATA_OUTPUT_DIR_CHALLENGE: c:\\Users\\colin\\OneDrive\\Desktop\\UBC\\Jersey-Number-Recognition\\data\\SoccerNet\\jersey-2023\\processed_data\\challenge\n",
      "2025-03-21 20:44:20 [INFO] COMMON_PROCESSED_OUTPUT_DATA_TRAIN: c:\\Users\\colin\\OneDrive\\Desktop\\UBC\\Jersey-Number-Recognition\\data\\SoccerNet\\jersey-2023\\processed_data\\train\\common_data\n",
      "2025-03-21 20:44:20 [INFO] COMMON_PROCESSED_OUTPUT_DATA_TEST: c:\\Users\\colin\\OneDrive\\Desktop\\UBC\\Jersey-Number-Recognition\\data\\SoccerNet\\jersey-2023\\processed_data\\test\\common_data\n",
      "2025-03-21 20:44:20 [INFO] COMMON_PROCESSED_OUTPUT_DATA_CHALLENGE: c:\\Users\\colin\\OneDrive\\Desktop\\UBC\\Jersey-Number-Recognition\\data\\SoccerNet\\jersey-2023\\processed_data\\challenge\\common_data\n",
      "2025-03-21 20:44:20 [INFO] STREAMLINED_PIPELINE: c:\\Users\\colin\\OneDrive\\Desktop\\UBC\\Jersey-Number-Recognition\\StreamlinedPipelineScripts\n",
      "2025-03-21 20:44:20 [INFO] Created directory: c:\\Users\\colin\\OneDrive\\Desktop\\UBC\\Jersey-Number-Recognition\\data\\SoccerNet\\jersey-2023\\processed_data\\train\n",
      "2025-03-21 20:44:20 [INFO] Created directory: c:\\Users\\colin\\OneDrive\\Desktop\\UBC\\Jersey-Number-Recognition\\data\\SoccerNet\\jersey-2023\\processed_data\\train\\common_data\n",
      "2025-03-21 20:44:20 [INFO] ['0', '1', '2', '3', '4', '5', '6', '7', '8', '9']\n",
      "2025-03-21 20:44:20 [INFO] Min tracklet: 0\n",
      "2025-03-21 20:44:20 [INFO] Max tracklet: 1426\n",
      "2025-03-21 20:44:20 [INFO] Using device: cuda\n",
      "2025-03-21 20:44:20 [INFO] ['0', '1', '2', '3', '4', '5', '6', '7', '8', '9']\n",
      "2025-03-21 20:44:20 [INFO] Min tracklet: 0\n",
      "2025-03-21 20:44:20 [INFO] Max tracklet: 1426\n"
     ]
    }
   ],
   "source": [
    "pipeline = CentralPipeline(\n",
    "  num_tracklets=2,\n",
    "  num_images_per_tracklet=1,\n",
    "  input_data_path=DataPaths.TRAIN_DATA_DIR.value,\n",
    "  output_processed_data_path=DataPaths.PROCESSED_DATA_OUTPUT_DIR_TRAIN.value,\n",
    "  common_processed_data_dir=DataPaths.COMMON_PROCESSED_OUTPUT_DATA_TRAIN.value,\n",
    "  gt_data_path=DataPaths.TRAIN_DATA_GT.value,\n",
    "  single_image_pipeline=False,\n",
    "  display_transformed_image_sample=False, # NOTE: DO NOT USE. Code is parallelized so we cannot show images anymore. Code breaks, but first one will show if True.\n",
    "  num_image_samples=1,\n",
    "  use_cache=False,\n",
    "  suppress_logging=False\n",
    "  )"
   ]
  },
  {
   "cell_type": "code",
   "execution_count": 3,
   "metadata": {},
   "outputs": [
    {
     "name": "stdout",
     "output_type": "stream",
     "text": [
      "2025-03-21 20:44:20 [INFO] Running the SoccerNet pipeline.\n",
      "2025-03-21 20:44:20 [INFO] Using double parallelization: multiprocessing + CUDA batch processing.\n"
     ]
    },
    {
     "data": {
      "application/vnd.jupyter.widget-view+json": {
       "model_id": "209fdfd1af0f4e188c4451f1a26d339f",
       "version_major": 2,
       "version_minor": 0
      },
      "text/plain": [
       "Processing tracklets (CUDA + CPU):   0%|          | 0/2 [00:00<?, ?it/s]"
      ]
     },
     "metadata": {},
     "output_type": "display_data"
    },
    {
     "name": "stdout",
     "output_type": "stream",
     "text": [
      "2025-03-21 20:44:28 [INFO] DEBUG Number of images per tracklet (should be < max (1400+)): 578\n",
      "2025-03-21 20:44:28 [INFO] Creating placeholder data files for Soccer Ball Filter.\n",
      "2025-03-21 20:44:28 [INFO] Creating placeholder data files for Legibility Classifier.\n",
      "2025-03-21 20:44:28 [INFO] Removed cached tracklet feature file (use_cache: False): c:\\Users\\colin\\OneDrive\\Desktop\\UBC\\Jersey-Number-Recognition\\data\\SoccerNet\\jersey-2023\\processed_data\\train\\0\\features.npy\n",
      "2025-03-21 20:44:28 [INFO] Removed cached tracklet feature file (use_cache: False): c:\\Users\\colin\\OneDrive\\Desktop\\UBC\\Jersey-Number-Recognition\\data\\SoccerNet\\jersey-2023\\processed_data\\train\\1\\features.npy\n",
      "2025-03-21 20:44:28 [INFO] Determine soccer balls in image(s) using pre-trained model.\n",
      "2025-03-21 20:44:28 [INFO] Determine soccer balls in image(s) using pre-trained model.\n"
     ]
    },
    {
     "name": "stderr",
     "output_type": "stream",
     "text": [
      "Phase 1: Data Pre-Processing Pipeline Progress:   0%|          | 0/2 [00:00<?, ?it/s]"
     ]
    },
    {
     "name": "stdout",
     "output_type": "stream",
     "text": [
      "2025-03-21 20:44:28 [INFO] Found 0 balls, Ball list: []\n",
      "2025-03-21 20:44:28 [INFO] Found 0 balls, Ball list: []\n"
     ]
    },
    {
     "name": "stderr",
     "output_type": "stream",
     "text": [
      "c:\\Users\\colin\\miniconda3\\envs\\UBC\\Lib\\site-packages\\pytorch_lightning\\utilities\\migration\\migration.py:208: You have multiple `ModelCheckpoint` callback states in this checkpoint, but we found state keys that would end up colliding with each other after an upgrade, which means we can't differentiate which of your checkpoint callbacks needs which states. At least one of your `ModelCheckpoint` callbacks will not be able to reload the state.\n",
      "Lightning automatically upgraded your loaded checkpoint from v1.1.4 to v2.5.0.post0. To apply the upgrade to your files permanently, run `python -m pytorch_lightning.utilities.upgrade_checkpoint c:\\Users\\colin\\OneDrive\\Desktop\\UBC\\Jersey-Number-Recognition\\data\\pre_trained_models\\reid\\dukemtmcreid_resnet50_256_128_epoch_120.ckpt`\n",
      "Lightning automatically upgraded your loaded checkpoint from v1.1.4 to v2.5.0.post0. To apply the upgrade to your files permanently, run `python -m pytorch_lightning.utilities.upgrade_checkpoint c:\\Users\\colin\\OneDrive\\Desktop\\UBC\\Jersey-Number-Recognition\\data\\pre_trained_models\\reid\\dukemtmcreid_resnet50_256_128_epoch_120.ckpt`\n"
     ]
    },
    {
     "name": "stdout",
     "output_type": "stream",
     "text": [
      "using GPU\n",
      "using GPU\n",
      "2025-03-21 20:44:30 [INFO] Saved features for tracklet with shape (1, 2048) to c:\\Users\\colin\\OneDrive\\Desktop\\UBC\\Jersey-Number-Recognition\\data\\SoccerNet\\jersey-2023\\processed_data\\train\\1\\features.npy\n",
      "2025-03-21 20:44:30 [INFO] Saved features for tracklet with shape (1, 2048) to c:\\Users\\colin\\OneDrive\\Desktop\\UBC\\Jersey-Number-Recognition\\data\\SoccerNet\\jersey-2023\\processed_data\\train\\0\\features.npy\n",
      "2025-03-21 20:44:30 [INFO] Identifying and removing outliers by calling gaussian_outliers_streamlined.py on feature file\n",
      "2025-03-21 20:44:30 [INFO] Identifying and removing outliers by calling gaussian_outliers_streamlined.py on feature file\n",
      "2025-03-21 20:44:37 [INFO] \n",
      "2025-03-21 20:44:37 [ERROR] \n",
      "2025-03-21 20:44:37 [INFO] Done removing outliers\n",
      "2025-03-21 20:44:37 [INFO] Running model chain on preprocessed image(s).\n",
      "2025-03-21 20:44:37 [INFO] Classifying legibility of image(s) using pre-trained model.\n",
      "2025-03-21 20:44:37 [WARNING] No soccer ball list found. Skipping exclusion of soccer balls.\n",
      "2025-03-21 20:44:37 [INFO] Path checked: c:\\Users\\colin\\OneDrive\\Desktop\\UBC\\Jersey-Number-Recognition\\data\\SoccerNet\\jersey-2023\\processed_data\\train\\common_data\\soccer_ball.json\n",
      "2025-03-21 20:44:37 [INFO] \n",
      "2025-03-21 20:44:37 [ERROR] \n",
      "2025-03-21 20:44:37 [INFO] Done removing outliers\n",
      "2025-03-21 20:44:37 [INFO] Running model chain on preprocessed image(s).\n",
      "2025-03-21 20:44:37 [INFO] Classifying legibility of image(s) using pre-trained model.\n",
      "2025-03-21 20:44:37 [WARNING] No soccer ball list found. Skipping exclusion of soccer balls.\n",
      "2025-03-21 20:44:37 [INFO] Path checked: c:\\Users\\colin\\OneDrive\\Desktop\\UBC\\Jersey-Number-Recognition\\data\\SoccerNet\\jersey-2023\\processed_data\\train\\common_data\\soccer_ball.json\n"
     ]
    },
    {
     "name": "stderr",
     "output_type": "stream",
     "text": [
      "c:\\Users\\colin\\miniconda3\\envs\\UBC\\Lib\\site-packages\\torchvision\\models\\_utils.py:208: UserWarning: The parameter 'pretrained' is deprecated since 0.13 and may be removed in the future, please use 'weights' instead.\n",
      "  warnings.warn(\n",
      "c:\\Users\\colin\\miniconda3\\envs\\UBC\\Lib\\site-packages\\torchvision\\models\\_utils.py:223: UserWarning: Arguments other than a weight enum or `None` for 'weights' are deprecated since 0.13 and may be removed in the future. The current behavior is equivalent to passing `weights=ResNet34_Weights.IMAGENET1K_V1`. You can also use `weights=ResNet34_Weights.DEFAULT` to get the most up-to-date weights.\n",
      "  warnings.warn(msg)\n"
     ]
    },
    {
     "name": "stdout",
     "output_type": "stream",
     "text": [
      "2025-03-21 20:44:49 [INFO] Saving legible_tracklets to: c:\\Users\\colin\\OneDrive\\Desktop\\UBC\\Jersey-Number-Recognition\\data\\SoccerNet\\jersey-2023\\processed_data\\train\\1\\legible_results.json\n",
      "2025-03-21 20:44:49 [INFO] Saved legible_tracklets to: c:\\Users\\colin\\OneDrive\\Desktop\\UBC\\Jersey-Number-Recognition\\data\\SoccerNet\\jersey-2023\\processed_data\\train\\1\\legible_results.json\n",
      "2025-03-21 20:44:49 [INFO] Saving illegible_tracklets to: c:\\Users\\colin\\OneDrive\\Desktop\\UBC\\Jersey-Number-Recognition\\data\\SoccerNet\\jersey-2023\\processed_data\\train\\1\\illegible_results.json\n",
      "2025-03-21 20:44:49 [INFO] Saved illegible_tracklets to: c:\\Users\\colin\\OneDrive\\Desktop\\UBC\\Jersey-Number-Recognition\\data\\SoccerNet\\jersey-2023\\processed_data\\train\\1\\illegible_results.json\n",
      "2025-03-21 20:44:49 [INFO] Legibility classification complete.\n",
      "2025-03-21 20:44:49 [INFO] Processed tracklet: 1\n"
     ]
    },
    {
     "name": "stderr",
     "output_type": "stream",
     "text": [
      "Phase 1: Data Pre-Processing Pipeline Progress:  50%|█████     | 1/2 [00:20<00:20, 20.30s/it]"
     ]
    },
    {
     "name": "stdout",
     "output_type": "stream",
     "text": [
      "2025-03-21 20:44:49 [INFO] Saving legible_tracklets to: c:\\Users\\colin\\OneDrive\\Desktop\\UBC\\Jersey-Number-Recognition\\data\\SoccerNet\\jersey-2023\\processed_data\\train\\0\\legible_results.json\n",
      "2025-03-21 20:44:49 [INFO] Saved legible_tracklets to: c:\\Users\\colin\\OneDrive\\Desktop\\UBC\\Jersey-Number-Recognition\\data\\SoccerNet\\jersey-2023\\processed_data\\train\\0\\legible_results.json\n",
      "2025-03-21 20:44:49 [INFO] Saving illegible_tracklets to: c:\\Users\\colin\\OneDrive\\Desktop\\UBC\\Jersey-Number-Recognition\\data\\SoccerNet\\jersey-2023\\processed_data\\train\\0\\illegible_results.json\n",
      "2025-03-21 20:44:49 [INFO] Saved illegible_tracklets to: c:\\Users\\colin\\OneDrive\\Desktop\\UBC\\Jersey-Number-Recognition\\data\\SoccerNet\\jersey-2023\\processed_data\\train\\0\\illegible_results.json\n",
      "2025-03-21 20:44:49 [INFO] Legibility classification complete.\n",
      "2025-03-21 20:44:49 [INFO] Processed tracklet: 0\n"
     ]
    },
    {
     "name": "stderr",
     "output_type": "stream",
     "text": [
      "Phase 1: Data Pre-Processing Pipeline Progress: 100%|██████████| 2/2 [00:20<00:00, 10.16s/it]"
     ]
    },
    {
     "name": "stdout",
     "output_type": "stream",
     "text": [
      "2025-03-21 20:44:49 [INFO] Evaluating legibility results on 2 tracklets\n"
     ]
    },
    {
     "name": "stderr",
     "output_type": "stream",
     "text": [
      "\n",
      "Evaluating legibility: 100%|██████████| 2/2 [00:00<00:00, 13086.75it/s]"
     ]
    },
    {
     "name": "stdout",
     "output_type": "stream",
     "text": [
      "2025-03-21 20:44:49 [INFO] Correct 2 out of 2. Accuracy 100.0%.\n",
      "2025-03-21 20:44:49 [INFO] TP=2, TN=0, FP=0, FN=0\n",
      "2025-03-21 20:44:49 [INFO] Precision=1.0, Recall=1.0\n",
      "2025-03-21 20:44:49 [INFO] F1=1.0\n",
      "2025-03-21 20:44:49 [INFO] Generating json for pose\n",
      "2025-03-21 20:44:49 [INFO] Done generating json for pose\n",
      "2025-03-21 20:44:49 [INFO] Detecting pose\n"
     ]
    },
    {
     "name": "stderr",
     "output_type": "stream",
     "text": [
      "\n"
     ]
    },
    {
     "name": "stdout",
     "output_type": "stream",
     "text": [
      "2025-03-21 20:45:02 [INFO] Current working directory:  c:\\Users\\colin\\OneDrive\\Desktop\\UBC\\Jersey-Number-Recognition\\ModelDevelopment\\experiments\n",
      "apex is not installed\n",
      "apex is not installed\n",
      "apex is not installed\n",
      "Show: False Out img root: \n",
      "loading annotations into memory...\n",
      "Done (t=0.00s)\n",
      "creating index...\n",
      "index created!\n",
      "Total images: 2, Already processed: 0, Remaining: 2\n",
      "Current working directory:  c:\\Users\\colin\\OneDrive\\Desktop\\UBC\\Jersey-Number-Recognition\\ModelDevelopment\\experiments\n",
      "Current working directory:  c:\\Users\\colin\\OneDrive\\Desktop\\UBC\\Jersey-Number-Recognition\\ModelDevelopment\\experiments\n",
      "Current working directory:  c:\\Users\\colin\\OneDrive\\Desktop\\UBC\\Jersey-Number-Recognition\\ModelDevelopment\\experiments\n",
      "Current working directory:  c:\\Users\\colin\\OneDrive\\Desktop\\UBC\\Jersey-Number-Recognition\\ModelDevelopment\\experiments\n",
      "apex is not installed\n",
      "apex is not installed\n",
      "apex is not installed\n",
      "apex is not installed\n",
      "apex is not installed\n",
      "apex is not installed\n",
      "apex is not installed\n",
      "apex is not installed\n",
      "apex is not installed\n",
      "apex is not installed\n",
      "apex is not installed\n",
      "apex is not installed\n",
      "loading annotations into memory...\n",
      "Done (t=0.00s)\n",
      "creating index...\n",
      "index created!\n",
      "loading annotations into memory...\n",
      "Done (t=0.00s)\n",
      "creating index...\n",
      "index created!\n",
      "loading annotations into memory...\n",
      "Done (t=0.00s)\n",
      "creating index...\n",
      "index created!\n",
      "loading annotations into memory...\n",
      "Done (t=0.00s)\n",
      "creating index...\n",
      "index created!\n",
      "Error processing image 0: A process in the process pool was terminated abruptly while the future was running or pending.\n",
      "Error processing image 1: A process in the process pool was terminated abruptly while the future was running or pending.\n",
      "Saved combined results to c:\\Users\\colin\\OneDrive\\Desktop\\UBC\\Jersey-Number-Recognition\\data\\SoccerNet\\jersey-2023\\processed_data\\train\\common_data\\pose_results.json\n",
      "\n",
      "\n",
      "2025-03-21 20:45:02 [ERROR] \n",
      "Processing pose estimation:   0%|          | 0/2 [00:00<?, ?it/s]Exception in initializer:\n",
      "Traceback (most recent call last):\n",
      "  File \"C:\\Users\\colin\\miniconda3\\envs\\vitpose\\lib\\concurrent\\futures\\process.py\", line 226, in _process_worker\n",
      "    initializer(*initargs)\n",
      "  File \"c:\\Users\\colin\\OneDrive\\Desktop\\UBC\\Jersey-Number-Recognition\\StreamlinedPipelineScripts\\pose.py\", line 37, in worker_init\n",
      "    global_pose_model = init_pose_model(args.pose_config, args.pose_checkpoint, device=args.device.lower())\n",
      "  File \"c:\\users\\colin\\onedrive\\desktop\\ubc\\jersey-number-recognition\\pose\\vitpose\\mmpose\\apis\\inference.py\", line 34, in init_pose_model\n",
      "    config = mmcv.Config.fromfile(config)\n",
      "  File \"C:\\Users\\colin\\miniconda3\\envs\\vitpose\\lib\\site-packages\\mmcv\\utils\\config.py\", line 337, in fromfile\n",
      "    cfg_dict, cfg_text = Config._file2dict(filename,\n",
      "  File \"C:\\Users\\colin\\miniconda3\\envs\\vitpose\\lib\\site-packages\\mmcv\\utils\\config.py\", line 182, in _file2dict\n",
      "    check_file_exist(filename)\n",
      "  File \"C:\\Users\\colin\\miniconda3\\envs\\vitpose\\lib\\site-packages\\mmcv\\utils\\path.py\", line 23, in check_file_exist\n",
      "    raise FileNotFoundError(msg_tmpl.format(filename))\n",
      "FileNotFoundError: file \"c:\\Users\\colin\\OneDrive\\Desktop\\UBC\\Jersey-Number-Recognition\\ModelDevelopment\\experiments\\pose\\ViTPose\\configs\\body\\2d_kpt_sview_rgb_img\\topdown_heatmap\\coco\\ViTPose_huge_coco_256x192.py\" does not exist\n",
      "Exception in initializer:\n",
      "Traceback (most recent call last):\n",
      "  File \"C:\\Users\\colin\\miniconda3\\envs\\vitpose\\lib\\concurrent\\futures\\process.py\", line 226, in _process_worker\n",
      "    initializer(*initargs)\n",
      "  File \"c:\\Users\\colin\\OneDrive\\Desktop\\UBC\\Jersey-Number-Recognition\\StreamlinedPipelineScripts\\pose.py\", line 37, in worker_init\n",
      "    global_pose_model = init_pose_model(args.pose_config, args.pose_checkpoint, device=args.device.lower())\n",
      "  File \"c:\\users\\colin\\onedrive\\desktop\\ubc\\jersey-number-recognition\\pose\\vitpose\\mmpose\\apis\\inference.py\", line 34, in init_pose_model\n",
      "    config = mmcv.Config.fromfile(config)\n",
      "  File \"C:\\Users\\colin\\miniconda3\\envs\\vitpose\\lib\\site-packages\\mmcv\\utils\\config.py\", line 337, in fromfile\n",
      "    cfg_dict, cfg_text = Config._file2dict(filename,\n",
      "  File \"C:\\Users\\colin\\miniconda3\\envs\\vitpose\\lib\\site-packages\\mmcv\\utils\\config.py\", line 182, in _file2dict\n",
      "    check_file_exist(filename)\n",
      "  File \"C:\\Users\\colin\\miniconda3\\envs\\vitpose\\lib\\site-packages\\mmcv\\utils\\path.py\", line 23, in check_file_exist\n",
      "    raise FileNotFoundError(msg_tmpl.format(filename))\n",
      "FileNotFoundError: file \"c:\\Users\\colin\\OneDrive\\Desktop\\UBC\\Jersey-Number-Recognition\\ModelDevelopment\\experiments\\pose\\ViTPose\\configs\\body\\2d_kpt_sview_rgb_img\\topdown_heatmap\\coco\\ViTPose_huge_coco_256x192.py\" does not exist\n",
      "Exception in initializer:\n",
      "Traceback (most recent call last):\n",
      "  File \"C:\\Users\\colin\\miniconda3\\envs\\vitpose\\lib\\concurrent\\futures\\process.py\", line 226, in _process_worker\n",
      "    initializer(*initargs)\n",
      "  File \"c:\\Users\\colin\\OneDrive\\Desktop\\UBC\\Jersey-Number-Recognition\\StreamlinedPipelineScripts\\pose.py\", line 37, in worker_init\n",
      "    global_pose_model = init_pose_model(args.pose_config, args.pose_checkpoint, device=args.device.lower())\n",
      "  File \"c:\\users\\colin\\onedrive\\desktop\\ubc\\jersey-number-recognition\\pose\\vitpose\\mmpose\\apis\\inference.py\", line 34, in init_pose_model\n",
      "    config = mmcv.Config.fromfile(config)\n",
      "  File \"C:\\Users\\colin\\miniconda3\\envs\\vitpose\\lib\\site-packages\\mmcv\\utils\\config.py\", line 337, in fromfile\n",
      "    cfg_dict, cfg_text = Config._file2dict(filename,\n",
      "  File \"C:\\Users\\colin\\miniconda3\\envs\\vitpose\\lib\\site-packages\\mmcv\\utils\\config.py\", line 182, in _file2dict\n",
      "    check_file_exist(filename)\n",
      "  File \"C:\\Users\\colin\\miniconda3\\envs\\vitpose\\lib\\site-packages\\mmcv\\utils\\path.py\", line 23, in check_file_exist\n",
      "    raise FileNotFoundError(msg_tmpl.format(filename))\n",
      "FileNotFoundError: file \"c:\\Users\\colin\\OneDrive\\Desktop\\UBC\\Jersey-Number-Recognition\\ModelDevelopment\\experiments\\pose\\ViTPose\\configs\\body\\2d_kpt_sview_rgb_img\\topdown_heatmap\\coco\\ViTPose_huge_coco_256x192.py\" does not exist\n",
      "Exception in initializer:\n",
      "Traceback (most recent call last):\n",
      "  File \"C:\\Users\\colin\\miniconda3\\envs\\vitpose\\lib\\concurrent\\futures\\process.py\", line 226, in _process_worker\n",
      "    initializer(*initargs)\n",
      "  File \"c:\\Users\\colin\\OneDrive\\Desktop\\UBC\\Jersey-Number-Recognition\\StreamlinedPipelineScripts\\pose.py\", line 37, in worker_init\n",
      "    global_pose_model = init_pose_model(args.pose_config, args.pose_checkpoint, device=args.device.lower())\n",
      "  File \"c:\\users\\colin\\onedrive\\desktop\\ubc\\jersey-number-recognition\\pose\\vitpose\\mmpose\\apis\\inference.py\", line 34, in init_pose_model\n",
      "    config = mmcv.Config.fromfile(config)\n",
      "  File \"C:\\Users\\colin\\miniconda3\\envs\\vitpose\\lib\\site-packages\\mmcv\\utils\\config.py\", line 337, in fromfile\n",
      "    cfg_dict, cfg_text = Config._file2dict(filename,\n",
      "  File \"C:\\Users\\colin\\miniconda3\\envs\\vitpose\\lib\\site-packages\\mmcv\\utils\\config.py\", line 182, in _file2dict\n",
      "    check_file_exist(filename)\n",
      "  File \"C:\\Users\\colin\\miniconda3\\envs\\vitpose\\lib\\site-packages\\mmcv\\utils\\path.py\", line 23, in check_file_exist\n",
      "    raise FileNotFoundError(msg_tmpl.format(filename))\n",
      "FileNotFoundError: file \"c:\\Users\\colin\\OneDrive\\Desktop\\UBC\\Jersey-Number-Recognition\\ModelDevelopment\\experiments\\pose\\ViTPose\\configs\\body\\2d_kpt_sview_rgb_img\\topdown_heatmap\\coco\\ViTPose_huge_coco_256x192.py\" does not exist\n",
      "\n",
      "Processing pose estimation:  50%|█████     | 1/2 [00:06<00:06,  6.75s/it]\n",
      "Processing pose estimation: 100%|██████████| 2/2 [00:06<00:00,  3.38s/it]\n",
      "\n",
      "\n",
      "2025-03-21 20:45:02 [INFO] Done detecting pose\n"
     ]
    }
   ],
   "source": [
    "pipeline.run_soccernet(\n",
    "  run_soccer_ball_filter=True,\n",
    "  generate_features=True,\n",
    "  run_filter=True,\n",
    "  run_legible=True,\n",
    "  run_legible_eval=True,\n",
    "  run_pose=True,\n",
    "  run_crops=False,\n",
    "  run_str=False,\n",
    "  run_combine=False,\n",
    "  run_eval=False)"
   ]
  }
 ],
 "metadata": {
  "kernelspec": {
   "display_name": "UBC",
   "language": "python",
   "name": "python3"
  },
  "language_info": {
   "codemirror_mode": {
    "name": "ipython",
    "version": 3
   },
   "file_extension": ".py",
   "mimetype": "text/x-python",
   "name": "python",
   "nbconvert_exporter": "python",
   "pygments_lexer": "ipython3",
   "version": "3.13.1"
  }
 },
 "nbformat": 4,
 "nbformat_minor": 2
}
