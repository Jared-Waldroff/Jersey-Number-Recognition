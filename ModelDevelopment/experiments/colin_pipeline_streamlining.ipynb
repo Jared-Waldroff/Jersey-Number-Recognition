{
 "cells": [
  {
   "cell_type": "markdown",
   "metadata": {},
   "source": [
    "### Quick Run Block"
   ]
  },
  {
   "cell_type": "code",
   "execution_count": null,
   "metadata": {},
   "outputs": [],
   "source": []
  },
  {
   "cell_type": "markdown",
   "metadata": {},
   "source": [
    "## Code"
   ]
  },
  {
   "cell_type": "code",
   "execution_count": 1,
   "metadata": {},
   "outputs": [
    {
     "name": "stdout",
     "output_type": "stream",
     "text": [
      "c:\\Users\\colin\\OneDrive\\Desktop\\Jersey-Number-Recognition\n",
      "Current working directory:  c:\\Users\\colin\\OneDrive\\Desktop\\Jersey-Number-Recognition\\ModelDevelopment\\experiments\n"
     ]
    }
   ],
   "source": [
    "import sys\n",
    "from pathlib import Path\n",
    "import os\n",
    "\n",
    "sys.path.append(str(Path.cwd().parent.parent))\n",
    "print(str(Path.cwd().parent.parent))\n",
    "print(\"Current working directory: \", os.getcwd())\n",
    "\n",
    "from ModelDevelopment.CentralPipeline import CentralPipeline\n",
    "from ModelDevelopment.ImageBatchPipeline import ImageBatchPipeline\n",
    "from DataProcessing.DataPreProcessing import DataPaths"
   ]
  },
  {
   "cell_type": "code",
   "execution_count": 2,
   "metadata": {},
   "outputs": [
    {
     "name": "stdout",
     "output_type": "stream",
     "text": [
      "2025-03-22 22:03:26 [INFO] DataPreProcessing initialized. Universe of available data paths:\n",
      "2025-03-22 22:03:26 [INFO] ROOT_DATA_DIR: c:\\Users\\colin\\OneDrive\\Desktop\\Jersey-Number-Recognition\\data\\SoccerNet\\jersey-2023\\extracted\n",
      "2025-03-22 22:03:26 [INFO] TEST_DATA_GT: c:\\Users\\colin\\OneDrive\\Desktop\\Jersey-Number-Recognition\\data\\SoccerNet\\jersey-2023\\extracted\\test\\test_gt.json\n",
      "2025-03-22 22:03:26 [INFO] TRAIN_DATA_GT: c:\\Users\\colin\\OneDrive\\Desktop\\Jersey-Number-Recognition\\data\\SoccerNet\\jersey-2023\\extracted\\train\\train_gt.json\n",
      "2025-03-22 22:03:26 [INFO] TEST_DATA_DIR: c:\\Users\\colin\\OneDrive\\Desktop\\Jersey-Number-Recognition\\data\\SoccerNet\\jersey-2023\\extracted\\test\\images\n",
      "2025-03-22 22:03:26 [INFO] TRAIN_DATA_DIR: c:\\Users\\colin\\OneDrive\\Desktop\\Jersey-Number-Recognition\\data\\SoccerNet\\jersey-2023\\extracted\\train\\images\n",
      "2025-03-22 22:03:26 [INFO] CHALLENGE_DATA_DIR: c:\\Users\\colin\\OneDrive\\Desktop\\Jersey-Number-Recognition\\data\\SoccerNet\\jersey-2023\\extracted\\challenge\\images\n",
      "2025-03-22 22:03:26 [INFO] PRE_TRAINED_MODELS_DIR: c:\\Users\\colin\\OneDrive\\Desktop\\Jersey-Number-Recognition\\data\\pre_trained_models\n",
      "2025-03-22 22:03:26 [INFO] REID_PRE_TRAINED: c:\\Users\\colin\\OneDrive\\Desktop\\Jersey-Number-Recognition\\data\\pre_trained_models\\reid\n",
      "2025-03-22 22:03:26 [INFO] STR_PRE_TRAINED: c:\\Users\\colin\\OneDrive\\Desktop\\Jersey-Number-Recognition\\data\\pre_trained_models\\str\n",
      "2025-03-22 22:03:26 [INFO] STR_MODEL: c:\\Users\\colin\\OneDrive\\Desktop\\Jersey-Number-Recognition\\data\\pre_trained_models\\str\\parseq_epoch=24-step=2575-val_accuracy=95.6044-val_NED=96.3255.ckpt\n",
      "2025-03-22 22:03:26 [INFO] REID_MODEL_1: c:\\Users\\colin\\OneDrive\\Desktop\\Jersey-Number-Recognition\\data\\pre_trained_models\\reid\\dukemtmcreid_resnet50_256_128_epoch_120.ckpt\n",
      "2025-03-22 22:03:26 [INFO] REID_MODEL_2: c:\\Users\\colin\\OneDrive\\Desktop\\Jersey-Number-Recognition\\data\\pre_trained_models\\reid\\market1501_resnet50_256_128_epoch_120.ckpt\n",
      "2025-03-22 22:03:26 [INFO] REID_CONFIG_YAML: c:\\Users\\colin\\OneDrive\\Desktop\\Jersey-Number-Recognition\\data\\pre_trained_models\\reid\\configs\\256_resnet50.yml\n",
      "2025-03-22 22:03:26 [INFO] RESNET_MODEL: c:\\Users\\colin\\OneDrive\\Desktop\\Jersey-Number-Recognition\\data\\pre_trained_models\\resnet\\legibility_resnet34_soccer_20240215.pth\n",
      "2025-03-22 22:03:26 [INFO] PROCESSED_DATA_OUTPUT_DIR: c:\\Users\\colin\\OneDrive\\Desktop\\Jersey-Number-Recognition\\data\\SoccerNet\\jersey-2023\\processed_data\n",
      "2025-03-22 22:03:26 [INFO] PROCESSED_DATA_OUTPUT_DIR_TRAIN: c:\\Users\\colin\\OneDrive\\Desktop\\Jersey-Number-Recognition\\data\\SoccerNet\\jersey-2023\\processed_data\\train\n",
      "2025-03-22 22:03:26 [INFO] PROCESSED_DATA_OUTPUT_DIR_TEST: c:\\Users\\colin\\OneDrive\\Desktop\\Jersey-Number-Recognition\\data\\SoccerNet\\jersey-2023\\processed_data\\test\n",
      "2025-03-22 22:03:26 [INFO] PROCESSED_DATA_OUTPUT_DIR_CHALLENGE: c:\\Users\\colin\\OneDrive\\Desktop\\Jersey-Number-Recognition\\data\\SoccerNet\\jersey-2023\\processed_data\\challenge\n",
      "2025-03-22 22:03:26 [INFO] COMMON_PROCESSED_OUTPUT_DATA_TRAIN: c:\\Users\\colin\\OneDrive\\Desktop\\Jersey-Number-Recognition\\data\\SoccerNet\\jersey-2023\\processed_data\\train\\common_data\n",
      "2025-03-22 22:03:26 [INFO] COMMON_PROCESSED_OUTPUT_DATA_TEST: c:\\Users\\colin\\OneDrive\\Desktop\\Jersey-Number-Recognition\\data\\SoccerNet\\jersey-2023\\processed_data\\test\\common_data\n",
      "2025-03-22 22:03:26 [INFO] COMMON_PROCESSED_OUTPUT_DATA_CHALLENGE: c:\\Users\\colin\\OneDrive\\Desktop\\Jersey-Number-Recognition\\data\\SoccerNet\\jersey-2023\\processed_data\\challenge\\common_data\n",
      "2025-03-22 22:03:26 [INFO] STREAMLINED_PIPELINE: c:\\Users\\colin\\OneDrive\\Desktop\\Jersey-Number-Recognition\\StreamlinedPipelineScripts\n",
      "2025-03-22 22:03:26 [INFO] ['0', '1', '2', '3', '4', '5', '6', '7', '8', '9']\n",
      "2025-03-22 22:03:26 [INFO] Min tracklet: 0\n",
      "2025-03-22 22:03:26 [INFO] Max tracklet: 1210\n",
      "2025-03-22 22:03:26 [INFO] Using device: cuda\n",
      "2025-03-22 22:03:26 [INFO] ['0', '1', '2', '3', '4', '5', '6', '7', '8', '9']\n",
      "2025-03-22 22:03:26 [INFO] Min tracklet: 0\n",
      "2025-03-22 22:03:26 [INFO] Max tracklet: 1210\n"
     ]
    }
   ],
   "source": [
    "# TODO: Add tracklets_override to pass a list of tracklets to process; tracklets_override=[\"8\", \"9\", \"10\"]\n",
    "# NOTE: It is recommended you delete the entire processed_data/{challenge/test/train} before running this to 100% avoid issues with old data.\n",
    "# Furthermore, you should always restart your kernel before every new run because sometimes there are problems with paths\n",
    "pipeline = CentralPipeline(\n",
    "  num_tracklets=1210,\n",
    "  #num_images_per_tracklet=1,\n",
    "  input_data_path=DataPaths.TEST_DATA_DIR.value,\n",
    "  output_processed_data_path=DataPaths.PROCESSED_DATA_OUTPUT_DIR_TEST.value,\n",
    "  common_processed_data_dir=DataPaths.COMMON_PROCESSED_OUTPUT_DATA_TEST.value,\n",
    "  gt_data_path=DataPaths.TEST_DATA_GT.value,\n",
    "  single_image_pipeline=False,\n",
    "  display_transformed_image_sample=False, # NOTE: DO NOT USE. Code is parallelized so we cannot show images anymore. Code breaks, but first one will show if True.\n",
    "  num_image_samples=1,\n",
    "  use_cache=True, # Should be stable  for pre-processing step, but anything after like crops and str may be buggy (though try it out, as a quite unlikely)\n",
    "  suppress_logging=False,\n",
    "  num_workers=6, # CRITICAL optimisation param\n",
    "  tracklet_batch_size=32 # CRITICAL optimisation param\n",
    "  )"
   ]
  },
  {
   "cell_type": "code",
   "execution_count": null,
   "metadata": {},
   "outputs": [
    {
     "name": "stdout",
     "output_type": "stream",
     "text": [
      "2025-03-22 22:03:26 [INFO] Running the SoccerNet pipeline.\n"
     ]
    },
    {
     "name": "stderr",
     "output_type": "stream",
     "text": [
      "Batch Processing Tracklets:   0%|          | 0/38 [00:00<?, ?it/s]"
     ]
    },
    {
     "name": "stdout",
     "output_type": "stream",
     "text": [
      "2025-03-22 22:03:26 [INFO] Processing batch with tracklets: ['0', '1', '2', '3', '4', '5', '6', '7', '8', '9', '10', '11', '12', '13', '14', '15', '16', '17', '18', '19', '20', '21', '22', '23', '24', '25', '26', '27', '28', '29', '30', '31']\n",
      "2025-03-22 22:03:26 [INFO] Using double parallelization: multiprocessing + CUDA batch processing.\n"
     ]
    },
    {
     "data": {
      "application/vnd.jupyter.widget-view+json": {
       "model_id": "a83c08aac183415893a7d25b8b1487d0",
       "version_major": 2,
       "version_minor": 0
      },
      "text/plain": [
       "Processing tracklets (CUDA + CPU):   0%|          | 0/32 [00:00<?, ?it/s]"
      ]
     },
     "metadata": {},
     "output_type": "display_data"
    },
    {
     "name": "stdout",
     "output_type": "stream",
     "text": [
      "2025-03-22 22:03:41 [INFO] DEBUG: Number of images per tracklet in batch: 465\n",
      "2025-03-22 22:03:41 [INFO] Creating placeholder data files for Soccer Ball Filter.\n",
      "2025-03-22 22:03:41 [INFO] Creating placeholder data files for Legibility Classifier.\n",
      "2025-03-22 22:03:41 [INFO] Skipping preprocessing for tracklet: c:\\Users\\colin\\OneDrive\\Desktop\\Jersey-Number-Recognition\\data\\SoccerNet\\jersey-2023\\processed_data\\test\\0\n",
      "2025-03-22 22:03:41 [INFO] All required files exist for 0 – skipping.\n",
      "2025-03-22 22:03:41 [INFO] Skipping preprocessing for tracklet: c:\\Users\\colin\\OneDrive\\Desktop\\Jersey-Number-Recognition\\data\\SoccerNet\\jersey-2023\\processed_data\\test\\1\n",
      "2025-03-22 22:03:41 [INFO] All required files exist for 1 – skipping.\n",
      "2025-03-22 22:03:41 [INFO] Skipping preprocessing for tracklet: c:\\Users\\colin\\OneDrive\\Desktop\\Jersey-Number-Recognition\\data\\SoccerNet\\jersey-2023\\processed_data\\test\\2\n",
      "2025-03-22 22:03:41 [INFO] All required files exist for 2 – skipping.\n",
      "2025-03-22 22:03:41 [INFO] Skipping preprocessing for tracklet: c:\\Users\\colin\\OneDrive\\Desktop\\Jersey-Number-Recognition\\data\\SoccerNet\\jersey-2023\\processed_data\\test\\3\n",
      "2025-03-22 22:03:41 [INFO] All required files exist for 3 – skipping.\n",
      "2025-03-22 22:03:41 [INFO] Skipping preprocessing for tracklet: c:\\Users\\colin\\OneDrive\\Desktop\\Jersey-Number-Recognition\\data\\SoccerNet\\jersey-2023\\processed_data\\test\\4\n",
      "2025-03-22 22:03:41 [INFO] All required files exist for 4 – skipping.\n",
      "2025-03-22 22:03:41 [INFO] Skipping preprocessing for tracklet: c:\\Users\\colin\\OneDrive\\Desktop\\Jersey-Number-Recognition\\data\\SoccerNet\\jersey-2023\\processed_data\\test\\5\n",
      "2025-03-22 22:03:41 [INFO] All required files exist for 5 – skipping.\n",
      "2025-03-22 22:03:41 [INFO] Skipping preprocessing for tracklet: c:\\Users\\colin\\OneDrive\\Desktop\\Jersey-Number-Recognition\\data\\SoccerNet\\jersey-2023\\processed_data\\test\\6\n",
      "2025-03-22 22:03:41 [INFO] All required files exist for 6 – skipping.\n",
      "2025-03-22 22:03:41 [INFO] Skipping preprocessing for tracklet: c:\\Users\\colin\\OneDrive\\Desktop\\Jersey-Number-Recognition\\data\\SoccerNet\\jersey-2023\\processed_data\\test\\7\n",
      "2025-03-22 22:03:41 [INFO] All required files exist for 7 – skipping.\n",
      "2025-03-22 22:03:41 [INFO] Skipping preprocessing for tracklet: c:\\Users\\colin\\OneDrive\\Desktop\\Jersey-Number-Recognition\\data\\SoccerNet\\jersey-2023\\processed_data\\test\\8\n",
      "2025-03-22 22:03:41 [INFO] All required files exist for 8 – skipping.\n",
      "2025-03-22 22:03:41 [INFO] Skipping preprocessing for tracklet: c:\\Users\\colin\\OneDrive\\Desktop\\Jersey-Number-Recognition\\data\\SoccerNet\\jersey-2023\\processed_data\\test\\9\n",
      "2025-03-22 22:03:41 [INFO] All required files exist for 9 – skipping.\n",
      "2025-03-22 22:03:41 [INFO] Skipping preprocessing for tracklet: c:\\Users\\colin\\OneDrive\\Desktop\\Jersey-Number-Recognition\\data\\SoccerNet\\jersey-2023\\processed_data\\test\\10\n",
      "2025-03-22 22:03:41 [INFO] All required files exist for 10 – skipping.\n",
      "2025-03-22 22:03:41 [INFO] Skipping preprocessing for tracklet: c:\\Users\\colin\\OneDrive\\Desktop\\Jersey-Number-Recognition\\data\\SoccerNet\\jersey-2023\\processed_data\\test\\11\n",
      "2025-03-22 22:03:41 [INFO] All required files exist for 11 – skipping.\n",
      "2025-03-22 22:03:41 [INFO] Skipping preprocessing for tracklet: c:\\Users\\colin\\OneDrive\\Desktop\\Jersey-Number-Recognition\\data\\SoccerNet\\jersey-2023\\processed_data\\test\\12\n",
      "2025-03-22 22:03:41 [INFO] All required files exist for 12 – skipping.\n",
      "2025-03-22 22:03:41 [INFO] Skipping preprocessing for tracklet: c:\\Users\\colin\\OneDrive\\Desktop\\Jersey-Number-Recognition\\data\\SoccerNet\\jersey-2023\\processed_data\\test\\13\n",
      "2025-03-22 22:03:41 [INFO] All required files exist for 13 – skipping.\n",
      "2025-03-22 22:03:41 [INFO] Skipping preprocessing for tracklet: c:\\Users\\colin\\OneDrive\\Desktop\\Jersey-Number-Recognition\\data\\SoccerNet\\jersey-2023\\processed_data\\test\\14\n",
      "2025-03-22 22:03:41 [INFO] All required files exist for 14 – skipping.\n",
      "2025-03-22 22:03:41 [INFO] Skipping preprocessing for tracklet: c:\\Users\\colin\\OneDrive\\Desktop\\Jersey-Number-Recognition\\data\\SoccerNet\\jersey-2023\\processed_data\\test\\15\n",
      "2025-03-22 22:03:41 [INFO] All required files exist for 15 – skipping.\n",
      "2025-03-22 22:03:41 [INFO] Skipping preprocessing for tracklet: c:\\Users\\colin\\OneDrive\\Desktop\\Jersey-Number-Recognition\\data\\SoccerNet\\jersey-2023\\processed_data\\test\\16\n",
      "2025-03-22 22:03:41 [INFO] All required files exist for 16 – skipping.\n",
      "2025-03-22 22:03:41 [INFO] Skipping preprocessing for tracklet: c:\\Users\\colin\\OneDrive\\Desktop\\Jersey-Number-Recognition\\data\\SoccerNet\\jersey-2023\\processed_data\\test\\17\n",
      "2025-03-22 22:03:41 [INFO] All required files exist for 17 – skipping.\n",
      "2025-03-22 22:03:41 [INFO] Skipping preprocessing for tracklet: c:\\Users\\colin\\OneDrive\\Desktop\\Jersey-Number-Recognition\\data\\SoccerNet\\jersey-2023\\processed_data\\test\\18\n",
      "2025-03-22 22:03:41 [INFO] All required files exist for 18 – skipping.\n",
      "2025-03-22 22:03:41 [INFO] Skipping preprocessing for tracklet: c:\\Users\\colin\\OneDrive\\Desktop\\Jersey-Number-Recognition\\data\\SoccerNet\\jersey-2023\\processed_data\\test\\20\n",
      "2025-03-22 22:03:41 [INFO] All required files exist for 20 – skipping.\n",
      "2025-03-22 22:03:41 [INFO] Skipping preprocessing for tracklet: c:\\Users\\colin\\OneDrive\\Desktop\\Jersey-Number-Recognition\\data\\SoccerNet\\jersey-2023\\processed_data\\test\\21\n",
      "2025-03-22 22:03:41 [INFO] All required files exist for 21 – skipping.\n",
      "2025-03-22 22:03:41 [INFO] Skipping preprocessing for tracklet: c:\\Users\\colin\\OneDrive\\Desktop\\Jersey-Number-Recognition\\data\\SoccerNet\\jersey-2023\\processed_data\\test\\22\n",
      "2025-03-22 22:03:41 [INFO] All required files exist for 22 – skipping.\n",
      "2025-03-22 22:03:41 [INFO] Skipping preprocessing for tracklet: c:\\Users\\colin\\OneDrive\\Desktop\\Jersey-Number-Recognition\\data\\SoccerNet\\jersey-2023\\processed_data\\test\\23\n",
      "2025-03-22 22:03:41 [INFO] All required files exist for 23 – skipping.\n",
      "2025-03-22 22:03:41 [INFO] Skipping preprocessing for tracklet: c:\\Users\\colin\\OneDrive\\Desktop\\Jersey-Number-Recognition\\data\\SoccerNet\\jersey-2023\\processed_data\\test\\24\n",
      "2025-03-22 22:03:41 [INFO] All required files exist for 24 – skipping.\n",
      "2025-03-22 22:03:41 [INFO] Skipping preprocessing for tracklet: c:\\Users\\colin\\OneDrive\\Desktop\\Jersey-Number-Recognition\\data\\SoccerNet\\jersey-2023\\processed_data\\test\\25\n",
      "2025-03-22 22:03:41 [INFO] All required files exist for 25 – skipping.\n",
      "2025-03-22 22:03:41 [INFO] Skipping preprocessing for tracklet: c:\\Users\\colin\\OneDrive\\Desktop\\Jersey-Number-Recognition\\data\\SoccerNet\\jersey-2023\\processed_data\\test\\26\n",
      "2025-03-22 22:03:41 [INFO] All required files exist for 26 – skipping.\n",
      "2025-03-22 22:03:41 [INFO] Skipping preprocessing for tracklet: c:\\Users\\colin\\OneDrive\\Desktop\\Jersey-Number-Recognition\\data\\SoccerNet\\jersey-2023\\processed_data\\test\\27\n",
      "2025-03-22 22:03:41 [INFO] All required files exist for 27 – skipping.\n",
      "2025-03-22 22:03:41 [INFO] Skipping preprocessing for tracklet: c:\\Users\\colin\\OneDrive\\Desktop\\Jersey-Number-Recognition\\data\\SoccerNet\\jersey-2023\\processed_data\\test\\28\n",
      "2025-03-22 22:03:41 [INFO] All required files exist for 28 – skipping.\n",
      "2025-03-22 22:03:41 [INFO] Skipping preprocessing for tracklet: c:\\Users\\colin\\OneDrive\\Desktop\\Jersey-Number-Recognition\\data\\SoccerNet\\jersey-2023\\processed_data\\test\\29\n",
      "2025-03-22 22:03:41 [INFO] All required files exist for 29 – skipping.\n",
      "2025-03-22 22:03:41 [INFO] Skipping preprocessing for tracklet: c:\\Users\\colin\\OneDrive\\Desktop\\Jersey-Number-Recognition\\data\\SoccerNet\\jersey-2023\\processed_data\\test\\30\n",
      "2025-03-22 22:03:41 [INFO] All required files exist for 30 – skipping.\n",
      "2025-03-22 22:03:41 [INFO] Skipping preprocessing for tracklet: c:\\Users\\colin\\OneDrive\\Desktop\\Jersey-Number-Recognition\\data\\SoccerNet\\jersey-2023\\processed_data\\test\\31\n",
      "2025-03-22 22:03:41 [INFO] All required files exist for 31 – skipping.\n",
      "2025-03-22 22:03:41 [INFO] Determine soccer balls in image(s) using pre-trained model.\n",
      "2025-03-22 22:03:41 [INFO] Skipping soccer ball filter for tracklet 19 as cache exists.\n"
     ]
    },
    {
     "name": "stderr",
     "output_type": "stream",
     "text": [
      "c:\\Users\\colin\\miniconda3\\envs\\UBC\\Lib\\site-packages\\pytorch_lightning\\utilities\\migration\\migration.py:208: You have multiple `ModelCheckpoint` callback states in this checkpoint, but we found state keys that would end up colliding with each other after an upgrade, which means we can't differentiate which of your checkpoint callbacks needs which states. At least one of your `ModelCheckpoint` callbacks will not be able to reload the state.\n",
      "Lightning automatically upgraded your loaded checkpoint from v1.1.4 to v2.5.0.post0. To apply the upgrade to your files permanently, run `python -m pytorch_lightning.utilities.upgrade_checkpoint c:\\Users\\colin\\OneDrive\\Desktop\\Jersey-Number-Recognition\\data\\pre_trained_models\\reid\\dukemtmcreid_resnet50_256_128_epoch_120.ckpt`\n"
     ]
    },
    {
     "name": "stdout",
     "output_type": "stream",
     "text": [
      "using GPU\n",
      "2025-03-22 22:03:50 [INFO] Saved features for tracklet with shape (724, 2048) to c:\\Users\\colin\\OneDrive\\Desktop\\Jersey-Number-Recognition\\data\\SoccerNet\\jersey-2023\\processed_data\\test\\19\\features.npy\n",
      "2025-03-22 22:03:50 [INFO] Identifying and removing outliers by calling gaussian_outliers_streamlined.py on feature file\n",
      "2025-03-22 22:03:50 [INFO] Skipping outlier removal for tracklet 19 as cache exists.\n",
      "2025-03-22 22:03:50 [INFO] Running model chain on preprocessed image(s).\n",
      "2025-03-22 22:03:50 [INFO] Classifying legibility of image(s) using pre-trained model.\n",
      "2025-03-22 22:03:50 [ERROR] Error processing tracklet 19: [Errno 2] No such file or directory: 'c:\\\\Users\\\\colin\\\\OneDrive\\\\Desktop\\\\Jersey-Number-Recognition\\\\data\\\\SoccerNet\\\\jersey-2023\\\\processed_data\\\\test\\\\19\\\\main_subject_gauss_th=3.5_r=3.json'\n"
     ]
    },
    {
     "name": "stderr",
     "output_type": "stream",
     "text": [
      "Processing Batch Tracklets: 100%|██████████| 1/1 [00:08<00:00,  8.65s/it]\n",
      "Batch Processing Tracklets:   3%|▎         | 1/38 [00:23<14:47, 23.98s/it]"
     ]
    },
    {
     "name": "stdout",
     "output_type": "stream",
     "text": [
      "2025-03-22 22:03:50 [INFO] Processing batch with tracklets: ['32', '33', '34', '35', '36', '37', '38', '39', '40', '41', '42', '43', '44', '45', '46', '47', '48', '49', '50', '51', '52', '53', '54', '55', '56', '57', '58', '59', '60', '61', '62', '63']\n",
      "2025-03-22 22:03:50 [INFO] Using double parallelization: multiprocessing + CUDA batch processing.\n"
     ]
    },
    {
     "data": {
      "application/vnd.jupyter.widget-view+json": {
       "model_id": "9cfd2ecbe96545289ad3f1df5d990ef4",
       "version_major": 2,
       "version_minor": 0
      },
      "text/plain": [
       "Processing tracklets (CUDA + CPU):   0%|          | 0/32 [00:00<?, ?it/s]"
      ]
     },
     "metadata": {},
     "output_type": "display_data"
    }
   ],
   "source": [
    "pipeline.run_soccernet(\n",
    "  run_soccer_ball_filter=True,\n",
    "  generate_features=True,\n",
    "  run_filter=True,\n",
    "  run_legible=True,\n",
    "  run_legible_eval=True,\n",
    "  run_pose=False,\n",
    "  run_crops=False,\n",
    "  run_str=False,\n",
    "  run_combine=False,\n",
    "  run_eval=False)"
   ]
  }
 ],
 "metadata": {
  "kernelspec": {
   "display_name": "UBC",
   "language": "python",
   "name": "python3"
  },
  "language_info": {
   "codemirror_mode": {
    "name": "ipython",
    "version": 3
   },
   "file_extension": ".py",
   "mimetype": "text/x-python",
   "name": "python",
   "nbconvert_exporter": "python",
   "pygments_lexer": "ipython3",
   "version": "3.13.1"
  }
 },
 "nbformat": 4,
 "nbformat_minor": 2
}
