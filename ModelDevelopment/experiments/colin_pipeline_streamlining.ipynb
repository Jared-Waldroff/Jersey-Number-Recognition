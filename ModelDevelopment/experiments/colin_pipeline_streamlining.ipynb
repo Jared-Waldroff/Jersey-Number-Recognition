{
 "cells": [
  {
   "cell_type": "markdown",
   "metadata": {},
   "source": [
    "### Quick Run Block"
   ]
  },
  {
   "cell_type": "code",
   "execution_count": 1,
   "metadata": {},
   "outputs": [],
   "source": [
    "# import torch\n",
    "# from pytorch_lightning.callbacks import ModelCheckpoint\n",
    "\n",
    "# # Path to the problematic checkpoint\n",
    "# checkpoint_path = r\"c:\\Users\\colin\\OneDrive\\Desktop\\Jersey-Number-Recognition\\data\\pre_trained_models\\reid\\dukemtmcreid_resnet50_256_128_epoch_120.ckpt\"\n",
    "\n",
    "# # Allow loading of ModelCheckpoint objects (since PyTorch 2.6 blocks this by default)\n",
    "# torch.serialization.add_safe_globals([ModelCheckpoint])\n",
    "\n",
    "# # Load the checkpoint safely\n",
    "# checkpoint = torch.load(checkpoint_path, map_location=\"cpu\", weights_only=False)\n",
    "\n",
    "# # Print out keys to inspect conflicting ones\n",
    "# print(\"Checkpoint keys:\", checkpoint.keys())\n",
    "\n",
    "# # Remove ModelCheckpoint states (if they exist)\n",
    "# keys_to_remove = [key for key in checkpoint.keys() if \"ModelCheckpoint\" in key]\n",
    "# for key in keys_to_remove:\n",
    "#     del checkpoint[key]\n",
    "\n",
    "# # Save the cleaned checkpoint\n",
    "# fixed_checkpoint_path = checkpoint_path.replace(\".ckpt\", \"_fixed.ckpt\")\n",
    "# torch.save(checkpoint, fixed_checkpoint_path)\n",
    "\n",
    "# print(f\"Fixed checkpoint saved to: {fixed_checkpoint_path}\")"
   ]
  },
  {
   "cell_type": "markdown",
   "metadata": {},
   "source": [
    "## Code"
   ]
  },
  {
   "cell_type": "code",
   "execution_count": 2,
   "metadata": {},
   "outputs": [
    {
     "name": "stdout",
     "output_type": "stream",
     "text": [
      "c:\\Users\\colin\\OneDrive\\Desktop\\Jersey-Number-Recognition\n",
      "Current working directory:  c:\\Users\\colin\\OneDrive\\Desktop\\Jersey-Number-Recognition\\ModelDevelopment\\experiments\n"
     ]
    }
   ],
   "source": [
    "import sys\n",
    "from pathlib import Path\n",
    "import os\n",
    "\n",
    "sys.path.append(str(Path.cwd().parent.parent))\n",
    "print(str(Path.cwd().parent.parent))\n",
    "print(\"Current working directory: \", os.getcwd())\n",
    "\n",
    "from ModelDevelopment.CentralPipeline import CentralPipeline\n",
    "from ModelDevelopment.ImageBatchPipeline import ImageBatchPipeline\n",
    "from DataProcessing.DataPreProcessing import DataPaths"
   ]
  },
  {
   "cell_type": "markdown",
   "metadata": {},
   "source": [
    "## Multithreaded Studies Research Findings\n",
    "- ThreadPoolExecutor works best for CentralPipeline pre-processing step (i.e. everything before run_pose)\n",
    "- Time taken to process one batch of 32 tracklets: 251 seconds => (251*32)/3600 = 2.35 hours ETA @ 200 images per batch cap, num_threads = 6x3 = 18\n",
    "- Note on the GPU_SEMAPHORE constant inside ImageFeatureTransformPipeline: this is always capped at 1 so we only offload 1 batch of images to the GPU\n",
    "- Since this gate is capped at 1, we can control the amount of data offloaded to the GPU via the image_batch_size param to CentralPipeline and only that\n",
    "- Since caching is implemented, you can try setting the gate to 2 for even faster results, and if the process crashes, keep restarting with use_cache=True"
   ]
  },
  {
   "cell_type": "code",
   "execution_count": 3,
   "metadata": {},
   "outputs": [
    {
     "name": "stdout",
     "output_type": "stream",
     "text": [
      "2025-03-26 08:20:40 [INFO] DataPreProcessing initialized. Universe of available data paths:\n",
      "2025-03-26 08:20:40 [INFO] ROOT_DATA_DIR: c:\\Users\\colin\\OneDrive\\Desktop\\Jersey-Number-Recognition\\data\\SoccerNet\\jersey-2023\\extracted\n",
      "2025-03-26 08:20:40 [INFO] TEST_DATA_GT: c:\\Users\\colin\\OneDrive\\Desktop\\Jersey-Number-Recognition\\data\\SoccerNet\\jersey-2023\\extracted\\test\\test_gt.json\n",
      "2025-03-26 08:20:40 [INFO] TRAIN_DATA_GT: c:\\Users\\colin\\OneDrive\\Desktop\\Jersey-Number-Recognition\\data\\SoccerNet\\jersey-2023\\extracted\\train\\train_gt.json\n",
      "2025-03-26 08:20:40 [INFO] TEST_DATA_DIR: c:\\Users\\colin\\OneDrive\\Desktop\\Jersey-Number-Recognition\\data\\SoccerNet\\jersey-2023\\extracted\\test\\images\n",
      "2025-03-26 08:20:40 [INFO] TRAIN_DATA_DIR: c:\\Users\\colin\\OneDrive\\Desktop\\Jersey-Number-Recognition\\data\\SoccerNet\\jersey-2023\\extracted\\train\\images\n",
      "2025-03-26 08:20:40 [INFO] CHALLENGE_DATA_DIR: c:\\Users\\colin\\OneDrive\\Desktop\\Jersey-Number-Recognition\\data\\SoccerNet\\jersey-2023\\extracted\\challenge\\images\n",
      "2025-03-26 08:20:40 [INFO] PRE_TRAINED_MODELS_DIR: c:\\Users\\colin\\OneDrive\\Desktop\\Jersey-Number-Recognition\\data\\pre_trained_models\n",
      "2025-03-26 08:20:40 [INFO] REID_PRE_TRAINED: c:\\Users\\colin\\OneDrive\\Desktop\\Jersey-Number-Recognition\\data\\pre_trained_models\\reid\n",
      "2025-03-26 08:20:40 [INFO] STR_PRE_TRAINED: c:\\Users\\colin\\OneDrive\\Desktop\\Jersey-Number-Recognition\\data\\pre_trained_models\\str\n",
      "2025-03-26 08:20:40 [INFO] STR_MODEL: c:\\Users\\colin\\OneDrive\\Desktop\\Jersey-Number-Recognition\\data\\pre_trained_models\\str\\parseq_epoch=24-step=2575-val_accuracy=95.6044-val_NED=96.3255.ckpt\n",
      "2025-03-26 08:20:40 [INFO] REID_MODEL_1: c:\\Users\\colin\\OneDrive\\Desktop\\Jersey-Number-Recognition\\data\\pre_trained_models\\reid\\dukemtmcreid_resnet50_256_128_epoch_120.ckpt\n",
      "2025-03-26 08:20:40 [INFO] REID_MODEL_2: c:\\Users\\colin\\OneDrive\\Desktop\\Jersey-Number-Recognition\\data\\pre_trained_models\\reid\\market1501_resnet50_256_128_epoch_120.ckpt\n",
      "2025-03-26 08:20:40 [INFO] REID_CONFIG_YAML: c:\\Users\\colin\\OneDrive\\Desktop\\Jersey-Number-Recognition\\data\\pre_trained_models\\reid\\configs\\256_resnet50.yml\n",
      "2025-03-26 08:20:40 [INFO] RESNET_MODEL: c:\\Users\\colin\\OneDrive\\Desktop\\Jersey-Number-Recognition\\data\\pre_trained_models\\resnet\\legibility_resnet34_soccer_20240215.pth\n",
      "2025-03-26 08:20:40 [INFO] PROCESSED_DATA_OUTPUT_DIR: c:\\Users\\colin\\OneDrive\\Desktop\\Jersey-Number-Recognition\\data\\SoccerNet\\jersey-2023\\processed_data\n",
      "2025-03-26 08:20:40 [INFO] PROCESSED_DATA_OUTPUT_DIR_TRAIN: c:\\Users\\colin\\OneDrive\\Desktop\\Jersey-Number-Recognition\\data\\SoccerNet\\jersey-2023\\processed_data\\train\n",
      "2025-03-26 08:20:40 [INFO] PROCESSED_DATA_OUTPUT_DIR_TEST: c:\\Users\\colin\\OneDrive\\Desktop\\Jersey-Number-Recognition\\data\\SoccerNet\\jersey-2023\\processed_data\\test\n",
      "2025-03-26 08:20:40 [INFO] PROCESSED_DATA_OUTPUT_DIR_CHALLENGE: c:\\Users\\colin\\OneDrive\\Desktop\\Jersey-Number-Recognition\\data\\SoccerNet\\jersey-2023\\processed_data\\challenge\n",
      "2025-03-26 08:20:40 [INFO] COMMON_PROCESSED_OUTPUT_DATA_TRAIN: c:\\Users\\colin\\OneDrive\\Desktop\\Jersey-Number-Recognition\\data\\SoccerNet\\jersey-2023\\processed_data\\train\\common_data\n",
      "2025-03-26 08:20:40 [INFO] COMMON_PROCESSED_OUTPUT_DATA_TEST: c:\\Users\\colin\\OneDrive\\Desktop\\Jersey-Number-Recognition\\data\\SoccerNet\\jersey-2023\\processed_data\\test\\common_data\n",
      "2025-03-26 08:20:40 [INFO] COMMON_PROCESSED_OUTPUT_DATA_CHALLENGE: c:\\Users\\colin\\OneDrive\\Desktop\\Jersey-Number-Recognition\\data\\SoccerNet\\jersey-2023\\processed_data\\challenge\\common_data\n",
      "2025-03-26 08:20:40 [INFO] STREAMLINED_PIPELINE: c:\\Users\\colin\\OneDrive\\Desktop\\Jersey-Number-Recognition\\StreamlinedPipelineScripts\n",
      "2025-03-26 08:20:40 [INFO] ['0', '1', '2', '3', '4', '5', '6', '7', '8', '9']\n",
      "2025-03-26 08:20:40 [INFO] Min tracklet: 0\n",
      "2025-03-26 08:20:40 [INFO] Max tracklet: 1210\n",
      "2025-03-26 08:20:40 [INFO] Using device: cuda\n",
      "2025-03-26 08:20:40 [INFO] ['0', '1', '2', '3', '4', '5', '6', '7', '8', '9']\n",
      "2025-03-26 08:20:40 [INFO] Min tracklet: 0\n",
      "2025-03-26 08:20:40 [INFO] Max tracklet: 1210\n"
     ]
    }
   ],
   "source": [
    "pipeline = CentralPipeline(\n",
    "  #tracklets_to_process_override=[\"1\"],\n",
    "  #num_tracklets=1210,\n",
    "  #num_images_per_tracklet=50,\n",
    "  input_data_path=DataPaths.TEST_DATA_DIR.value,\n",
    "  output_processed_data_path=DataPaths.PROCESSED_DATA_OUTPUT_DIR_TEST.value,\n",
    "  common_processed_data_dir=DataPaths.COMMON_PROCESSED_OUTPUT_DATA_TEST.value,\n",
    "  gt_data_path=DataPaths.TEST_DATA_GT.value,\n",
    "  single_image_pipeline=False,\n",
    "  display_transformed_image_sample=False, # NOTE: DO NOT USE. Code is parallelized so we cannot show images anymore. Code breaks, but first one will show if True.\n",
    "  num_image_samples=1,\n",
    "  use_cache=True, # Set to false if you encounter data inconsistencies.\n",
    "  suppress_logging=False,\n",
    "  \n",
    "  # --- PARALLELIZATION PARAMS --- These settings are optimal for an NVIDIA RTX 3070 Ti Laptop GPU.\n",
    "  num_workers=2,            # CRITICAL optimisation param. Adjust accordingly. 6\n",
    "  tracklet_batch_size=32,   # CRITICAL optimisation param. Adjust accordingly. 32\n",
    "  image_batch_size=100,     # CRITICAL optimisation param. Adjust accordingly. 200\n",
    "  num_threads_multiplier=2  # CRITICAL optimisation param. Adjust accordingly. 3. Interpretation: num_threads = num_workers * num_threads_multiplier\n",
    "  )"
   ]
  },
  {
   "cell_type": "markdown",
   "metadata": {},
   "source": [
    "### To Do\n",
    "- Investigate why last tracklet is not generated (1210 is skipped, probably something to do with batching)"
   ]
  },
  {
   "cell_type": "code",
   "execution_count": null,
   "metadata": {},
   "outputs": [
    {
     "name": "stdout",
     "output_type": "stream",
     "text": [
      "2025-03-26 08:20:40 [INFO] Running the SoccerNet pipeline.\n",
      "2025-03-26 08:20:40 [INFO] Generating json for pose\n",
      "2025-03-26 08:20:40 [INFO] Reading legible & illegible results from cache (both global files exist).\n",
      "2025-03-26 08:20:40 [INFO] Used cached data for pose JSON\n"
     ]
    },
    {
     "data": {
      "application/vnd.jupyter.widget-view+json": {
       "model_id": "5f216a1474f54692a8796a4fd840a96c",
       "version_major": 2,
       "version_minor": 0
      },
      "text/plain": [
       "Generating pose JSON:   0%|          | 0/1210 [00:00<?, ?it/s]"
      ]
     },
     "metadata": {},
     "output_type": "display_data"
    },
    {
     "name": "stdout",
     "output_type": "stream",
     "text": [
      "2025-03-26 08:20:41 [INFO] Completed generating JSON for pose\n",
      "2025-03-26 08:20:41 [INFO] Detecting pose\n",
      "2025-03-26 08:20:41 [INFO] Running pose estimation with multithreading with 2 threads\n"
     ]
    },
    {
     "data": {
      "application/vnd.jupyter.widget-view+json": {
       "model_id": "157923c78ff542299a53672de1a4ca53",
       "version_major": 2,
       "version_minor": 0
      },
      "text/plain": [
       "Running pose estimation:   0%|          | 0/836 [00:00<?, ?it/s]"
      ]
     },
     "metadata": {},
     "output_type": "display_data"
    },
    {
     "name": "stdout",
     "output_type": "stream",
     "text": [
      "2025-03-26 08:22:11 [INFO] [103] (prextcoco) Current working directory: c:\\Users\\colin\\OneDrive\\Desktop\\Jersey-Number-Recognition\\pose\\ViTPose\n",
      "2025-03-26 08:22:11 [INFO] [103] Current working directory:  c:\\Users\\colin\\OneDrive\\Desktop\\Jersey-Number-Recognition\\pose\\ViTPose\n",
      "2025-03-26 08:22:11 [INFO] [103] loading annotations into memory...\n",
      "2025-03-26 08:22:11 [INFO] [103] Done (t=0.03s)\n",
      "2025-03-26 08:22:11 [INFO] [103] creating index...\n",
      "2025-03-26 08:22:11 [INFO] [103] index created!\n",
      "2025-03-26 08:22:11 [INFO] [103] load checkpoint from local path: c:\\Users\\colin\\OneDrive\\Desktop\\Jersey-Number-Recognition\\pose\\ViTPose\\checkpoints\\vitpose-h.pth\n",
      "2025-03-26 08:22:11 [INFO] [103] 2025-03-26 08:22:10 [INFO] Wrote pose results to file: c:\\Users\\colin\\OneDrive\\Desktop\\Jersey-Number-Recognition\\data\\SoccerNet\\jersey-2023\\processed_data\\test\\103\\pose_results.json\n",
      "2025-03-26 08:22:11 [INFO] [103] \n",
      "2025-03-26 08:22:11 [INFO] [103] The system cannot find the file specified.\n",
      "2025-03-26 08:22:11 [INFO] [103] Could Not Find C:\\Users\\colin\\miniconda3\\envs\\vitpose\\Library\\etc\\OpenCL\\vendors\\temp.txt\n",
      "2025-03-26 08:22:11 [INFO] [103] C:\\Users\\colin\\miniconda3\\envs\\vitpose\\lib\\site-packages\\mmcv\\runner\\checkpoint.py:302: FutureWarning: You are using `torch.load` with `weights_only=False` (the current default value), which uses the default pickle module implicitly. It is possible to construct malicious pickle data which will execute arbitrary code during unpickling (See https://github.com/pytorch/pytorch/blob/main/SECURITY.md#untrusted-models for more details). In a future release, the default value for `weights_only` will be flipped to `True`. This limits the functions that could be executed during unpickling. Arbitrary objects will no longer be allowed to be loaded via this mode unless they are explicitly allowlisted by the user via `torch.serialization.add_safe_globals`. We recommend you start setting `weights_only=True` for any use case where you don't have full control of the loaded file. Please open an issue on GitHub for any issues related to this experimental feature.\n",
      "2025-03-26 08:22:11 [INFO] [103] checkpoint = torch.load(filename, map_location=map_location)\n",
      "2025-03-26 08:22:11 [INFO] [103] \n",
      "2025-03-26 08:22:11 [INFO] [103] Processing batches:   0%|          | 0/3 [00:00<?, ?it/s]\n",
      "2025-03-26 08:22:11 [INFO] [103] Processing batches:  33%|███▎      | 1/3 [00:24<00:49, 24.93s/it]\n",
      "2025-03-26 08:22:11 [INFO] [103] Processing batches:  67%|██████▋   | 2/3 [00:50<00:25, 25.57s/it]\n",
      "2025-03-26 08:22:11 [INFO] [103] Processing batches: 100%|██████████| 3/3 [00:55<00:00, 16.04s/it]\n",
      "2025-03-26 08:22:11 [INFO] [103] Processing batches: 100%|██████████| 3/3 [00:55<00:00, 18.55s/it]\n",
      "2025-03-26 08:22:11 [INFO] [103] \n",
      "2025-03-26 08:22:11 [INFO] [1029] (prextcoco) Current working directory: c:\\Users\\colin\\OneDrive\\Desktop\\Jersey-Number-Recognition\\pose\\ViTPose\n",
      "2025-03-26 08:22:11 [INFO] [1029] Current working directory:  c:\\Users\\colin\\OneDrive\\Desktop\\Jersey-Number-Recognition\\pose\\ViTPose\n",
      "2025-03-26 08:22:11 [INFO] [1029] loading annotations into memory...\n",
      "2025-03-26 08:22:11 [INFO] [1029] Done (t=0.03s)\n",
      "2025-03-26 08:22:11 [INFO] [1029] creating index...\n",
      "2025-03-26 08:22:11 [INFO] [1029] index created!\n",
      "2025-03-26 08:22:11 [INFO] [1029] load checkpoint from local path: c:\\Users\\colin\\OneDrive\\Desktop\\Jersey-Number-Recognition\\pose\\ViTPose\\checkpoints\\vitpose-h.pth\n",
      "2025-03-26 08:22:11 [INFO] [1029] 2025-03-26 08:22:10 [INFO] Wrote pose results to file: c:\\Users\\colin\\OneDrive\\Desktop\\Jersey-Number-Recognition\\data\\SoccerNet\\jersey-2023\\processed_data\\test\\1029\\pose_results.json\n",
      "2025-03-26 08:22:11 [INFO] [1029] \n",
      "2025-03-26 08:22:11 [INFO] [1029] C:\\Users\\colin\\miniconda3\\envs\\vitpose\\lib\\site-packages\\mmcv\\runner\\checkpoint.py:302: FutureWarning: You are using `torch.load` with `weights_only=False` (the current default value), which uses the default pickle module implicitly. It is possible to construct malicious pickle data which will execute arbitrary code during unpickling (See https://github.com/pytorch/pytorch/blob/main/SECURITY.md#untrusted-models for more details). In a future release, the default value for `weights_only` will be flipped to `True`. This limits the functions that could be executed during unpickling. Arbitrary objects will no longer be allowed to be loaded via this mode unless they are explicitly allowlisted by the user via `torch.serialization.add_safe_globals`. We recommend you start setting `weights_only=True` for any use case where you don't have full control of the loaded file. Please open an issue on GitHub for any issues related to this experimental feature.\n",
      "2025-03-26 08:22:11 [INFO] [1029] checkpoint = torch.load(filename, map_location=map_location)\n",
      "2025-03-26 08:22:11 [INFO] [1029] \n",
      "2025-03-26 08:22:11 [INFO] [1029] Processing batches:   0%|          | 0/3 [00:00<?, ?it/s]\n",
      "2025-03-26 08:22:11 [INFO] [1029] Processing batches:  33%|███▎      | 1/3 [00:23<00:46, 23.29s/it]\n",
      "2025-03-26 08:22:11 [INFO] [1029] Processing batches:  67%|██████▋   | 2/3 [00:47<00:23, 23.70s/it]\n",
      "2025-03-26 08:22:11 [INFO] [1029] Processing batches: 100%|██████████| 3/3 [00:55<00:00, 16.75s/it]\n",
      "2025-03-26 08:22:11 [INFO] [1029] Processing batches: 100%|██████████| 3/3 [00:55<00:00, 18.58s/it]\n",
      "2025-03-26 08:22:11 [INFO] [1029] \n",
      "2025-03-26 08:22:35 [INFO] [1030] C:\\Users\\colin\\miniconda3\\envs\\vitpose\\Library\\etc\\OpenCL\\vendors\\temp.txt\n",
      "2025-03-26 08:22:35 [INFO] [1030] (prextcoco) Current working directory: c:\\Users\\colin\\OneDrive\\Desktop\\Jersey-Number-Recognition\\pose\\ViTPose\n",
      "2025-03-26 08:22:35 [INFO] [1030] Current working directory:  c:\\Users\\colin\\OneDrive\\Desktop\\Jersey-Number-Recognition\\pose\\ViTPose\n",
      "2025-03-26 08:22:35 [INFO] [1030] loading annotations into memory...\n",
      "2025-03-26 08:22:35 [INFO] [1030] Done (t=0.02s)\n",
      "2025-03-26 08:22:35 [INFO] [1030] creating index...\n",
      "2025-03-26 08:22:35 [INFO] [1030] index created!\n",
      "2025-03-26 08:22:35 [INFO] [1030] load checkpoint from local path: c:\\Users\\colin\\OneDrive\\Desktop\\Jersey-Number-Recognition\\pose\\ViTPose\\checkpoints\\vitpose-h.pth\n",
      "2025-03-26 08:22:35 [INFO] [1030] 2025-03-26 08:22:34 [INFO] Wrote pose results to file: c:\\Users\\colin\\OneDrive\\Desktop\\Jersey-Number-Recognition\\data\\SoccerNet\\jersey-2023\\processed_data\\test\\1030\\pose_results.json\n",
      "2025-03-26 08:22:35 [INFO] [1030] \n",
      "2025-03-26 08:22:35 [INFO] [1030] The system cannot find the file specified.\n",
      "2025-03-26 08:22:35 [INFO] [1030] C:\\Users\\colin\\miniconda3\\envs\\vitpose\\lib\\site-packages\\mmcv\\runner\\checkpoint.py:302: FutureWarning: You are using `torch.load` with `weights_only=False` (the current default value), which uses the default pickle module implicitly. It is possible to construct malicious pickle data which will execute arbitrary code during unpickling (See https://github.com/pytorch/pytorch/blob/main/SECURITY.md#untrusted-models for more details). In a future release, the default value for `weights_only` will be flipped to `True`. This limits the functions that could be executed during unpickling. Arbitrary objects will no longer be allowed to be loaded via this mode unless they are explicitly allowlisted by the user via `torch.serialization.add_safe_globals`. We recommend you start setting `weights_only=True` for any use case where you don't have full control of the loaded file. Please open an issue on GitHub for any issues related to this experimental feature.\n",
      "2025-03-26 08:22:35 [INFO] [1030] checkpoint = torch.load(filename, map_location=map_location)\n",
      "2025-03-26 08:22:35 [INFO] [1030] \n",
      "2025-03-26 08:22:35 [INFO] [1030] Processing batches:   0%|          | 0/1 [00:00<?, ?it/s]\n",
      "2025-03-26 08:22:35 [INFO] [1030] Processing batches: 100%|██████████| 1/1 [00:00<00:00,  1.21it/s]\n",
      "2025-03-26 08:22:35 [INFO] [1030] Processing batches: 100%|██████████| 1/1 [00:00<00:00,  1.21it/s]\n",
      "2025-03-26 08:22:35 [INFO] [1030] \n",
      "2025-03-26 08:22:36 [INFO] [1031] (prextcoco) Current working directory: c:\\Users\\colin\\OneDrive\\Desktop\\Jersey-Number-Recognition\\pose\\ViTPose\n",
      "2025-03-26 08:22:36 [INFO] [1031] Current working directory:  c:\\Users\\colin\\OneDrive\\Desktop\\Jersey-Number-Recognition\\pose\\ViTPose\n",
      "2025-03-26 08:22:36 [INFO] [1031] loading annotations into memory...\n",
      "2025-03-26 08:22:36 [INFO] [1031] Done (t=0.01s)\n",
      "2025-03-26 08:22:36 [INFO] [1031] creating index...\n",
      "2025-03-26 08:22:36 [INFO] [1031] index created!\n",
      "2025-03-26 08:22:36 [INFO] [1031] load checkpoint from local path: c:\\Users\\colin\\OneDrive\\Desktop\\Jersey-Number-Recognition\\pose\\ViTPose\\checkpoints\\vitpose-h.pth\n",
      "2025-03-26 08:22:36 [INFO] [1031] 2025-03-26 08:22:35 [INFO] Wrote pose results to file: c:\\Users\\colin\\OneDrive\\Desktop\\Jersey-Number-Recognition\\data\\SoccerNet\\jersey-2023\\processed_data\\test\\1031\\pose_results.json\n",
      "2025-03-26 08:22:36 [INFO] [1031] \n",
      "2025-03-26 08:22:36 [INFO] [1031] C:\\Users\\colin\\miniconda3\\envs\\vitpose\\lib\\site-packages\\mmcv\\runner\\checkpoint.py:302: FutureWarning: You are using `torch.load` with `weights_only=False` (the current default value), which uses the default pickle module implicitly. It is possible to construct malicious pickle data which will execute arbitrary code during unpickling (See https://github.com/pytorch/pytorch/blob/main/SECURITY.md#untrusted-models for more details). In a future release, the default value for `weights_only` will be flipped to `True`. This limits the functions that could be executed during unpickling. Arbitrary objects will no longer be allowed to be loaded via this mode unless they are explicitly allowlisted by the user via `torch.serialization.add_safe_globals`. We recommend you start setting `weights_only=True` for any use case where you don't have full control of the loaded file. Please open an issue on GitHub for any issues related to this experimental feature.\n",
      "2025-03-26 08:22:36 [INFO] [1031] checkpoint = torch.load(filename, map_location=map_location)\n",
      "2025-03-26 08:22:36 [INFO] [1031] \n",
      "2025-03-26 08:22:36 [INFO] [1031] Processing batches:   0%|          | 0/1 [00:00<?, ?it/s]\n",
      "2025-03-26 08:22:36 [INFO] [1031] Processing batches: 100%|██████████| 1/1 [00:02<00:00,  2.28s/it]\n",
      "2025-03-26 08:22:36 [INFO] [1031] Processing batches: 100%|██████████| 1/1 [00:02<00:00,  2.28s/it]\n",
      "2025-03-26 08:22:36 [INFO] [1031] \n"
     ]
    }
   ],
   "source": [
    "pipeline.run_soccernet(\n",
    "  run_soccer_ball_filter=False,\n",
    "  generate_features=False,\n",
    "  run_filter=False,\n",
    "  run_legible=False,\n",
    "  run_legible_eval=False,\n",
    "  run_pose=True,\n",
    "  run_crops=False,\n",
    "  run_str=False,\n",
    "  run_combine=False,\n",
    "  run_eval=False)"
   ]
  }
 ],
 "metadata": {
  "kernelspec": {
   "display_name": "UBC",
   "language": "python",
   "name": "python3"
  },
  "language_info": {
   "codemirror_mode": {
    "name": "ipython",
    "version": 3
   },
   "file_extension": ".py",
   "mimetype": "text/x-python",
   "name": "python",
   "nbconvert_exporter": "python",
   "pygments_lexer": "ipython3",
   "version": "3.13.1"
  }
 },
 "nbformat": 4,
 "nbformat_minor": 2
}
