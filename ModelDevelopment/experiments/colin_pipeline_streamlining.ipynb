{
 "cells": [
  {
   "cell_type": "markdown",
   "metadata": {},
   "source": [
    "### Quick Run Block"
   ]
  },
  {
   "cell_type": "code",
   "execution_count": null,
   "metadata": {},
   "outputs": [],
   "source": []
  },
  {
   "cell_type": "markdown",
   "metadata": {},
   "source": [
    "## Code"
   ]
  },
  {
   "cell_type": "code",
   "execution_count": 1,
   "metadata": {},
   "outputs": [
    {
     "name": "stdout",
     "output_type": "stream",
     "text": [
      "c:\\Users\\colin\\OneDrive\\Desktop\\Jersey-Number-Recognition\n",
      "Current working directory:  c:\\Users\\colin\\OneDrive\\Desktop\\Jersey-Number-Recognition\\ModelDevelopment\\experiments\n"
     ]
    }
   ],
   "source": [
    "import sys\n",
    "from pathlib import Path\n",
    "import os\n",
    "\n",
    "sys.path.append(str(Path.cwd().parent.parent))\n",
    "print(str(Path.cwd().parent.parent))\n",
    "print(\"Current working directory: \", os.getcwd())\n",
    "\n",
    "from ModelDevelopment.CentralPipeline import CentralPipeline\n",
    "from ModelDevelopment.ImageBatchPipeline import ImageBatchPipeline\n",
    "from DataProcessing.DataPreProcessing import DataPaths"
   ]
  },
  {
   "cell_type": "code",
   "execution_count": 2,
   "metadata": {},
   "outputs": [
    {
     "name": "stdout",
     "output_type": "stream",
     "text": [
      "2025-03-22 21:29:45 [INFO] DataPreProcessing initialized. Universe of available data paths:\n",
      "2025-03-22 21:29:45 [INFO] ROOT_DATA_DIR: c:\\Users\\colin\\OneDrive\\Desktop\\Jersey-Number-Recognition\\data\\SoccerNet\\jersey-2023\\extracted\n",
      "2025-03-22 21:29:45 [INFO] TEST_DATA_GT: c:\\Users\\colin\\OneDrive\\Desktop\\Jersey-Number-Recognition\\data\\SoccerNet\\jersey-2023\\extracted\\test\\test_gt.json\n",
      "2025-03-22 21:29:45 [INFO] TRAIN_DATA_GT: c:\\Users\\colin\\OneDrive\\Desktop\\Jersey-Number-Recognition\\data\\SoccerNet\\jersey-2023\\extracted\\train\\train_gt.json\n",
      "2025-03-22 21:29:45 [INFO] TEST_DATA_DIR: c:\\Users\\colin\\OneDrive\\Desktop\\Jersey-Number-Recognition\\data\\SoccerNet\\jersey-2023\\extracted\\test\\images\n",
      "2025-03-22 21:29:45 [INFO] TRAIN_DATA_DIR: c:\\Users\\colin\\OneDrive\\Desktop\\Jersey-Number-Recognition\\data\\SoccerNet\\jersey-2023\\extracted\\train\\images\n",
      "2025-03-22 21:29:45 [INFO] CHALLENGE_DATA_DIR: c:\\Users\\colin\\OneDrive\\Desktop\\Jersey-Number-Recognition\\data\\SoccerNet\\jersey-2023\\extracted\\challenge\\images\n",
      "2025-03-22 21:29:45 [INFO] PRE_TRAINED_MODELS_DIR: c:\\Users\\colin\\OneDrive\\Desktop\\Jersey-Number-Recognition\\data\\pre_trained_models\n",
      "2025-03-22 21:29:45 [INFO] REID_PRE_TRAINED: c:\\Users\\colin\\OneDrive\\Desktop\\Jersey-Number-Recognition\\data\\pre_trained_models\\reid\n",
      "2025-03-22 21:29:45 [INFO] STR_PRE_TRAINED: c:\\Users\\colin\\OneDrive\\Desktop\\Jersey-Number-Recognition\\data\\pre_trained_models\\str\n",
      "2025-03-22 21:29:45 [INFO] STR_MODEL: c:\\Users\\colin\\OneDrive\\Desktop\\Jersey-Number-Recognition\\data\\pre_trained_models\\str\\parseq_epoch=24-step=2575-val_accuracy=95.6044-val_NED=96.3255.ckpt\n",
      "2025-03-22 21:29:45 [INFO] REID_MODEL_1: c:\\Users\\colin\\OneDrive\\Desktop\\Jersey-Number-Recognition\\data\\pre_trained_models\\reid\\dukemtmcreid_resnet50_256_128_epoch_120.ckpt\n",
      "2025-03-22 21:29:45 [INFO] REID_MODEL_2: c:\\Users\\colin\\OneDrive\\Desktop\\Jersey-Number-Recognition\\data\\pre_trained_models\\reid\\market1501_resnet50_256_128_epoch_120.ckpt\n",
      "2025-03-22 21:29:45 [INFO] REID_CONFIG_YAML: c:\\Users\\colin\\OneDrive\\Desktop\\Jersey-Number-Recognition\\data\\pre_trained_models\\reid\\configs\\256_resnet50.yml\n",
      "2025-03-22 21:29:45 [INFO] RESNET_MODEL: c:\\Users\\colin\\OneDrive\\Desktop\\Jersey-Number-Recognition\\data\\pre_trained_models\\resnet\\legibility_resnet34_soccer_20240215.pth\n",
      "2025-03-22 21:29:45 [INFO] PROCESSED_DATA_OUTPUT_DIR: c:\\Users\\colin\\OneDrive\\Desktop\\Jersey-Number-Recognition\\data\\SoccerNet\\jersey-2023\\processed_data\n",
      "2025-03-22 21:29:45 [INFO] PROCESSED_DATA_OUTPUT_DIR_TRAIN: c:\\Users\\colin\\OneDrive\\Desktop\\Jersey-Number-Recognition\\data\\SoccerNet\\jersey-2023\\processed_data\\train\n",
      "2025-03-22 21:29:45 [INFO] PROCESSED_DATA_OUTPUT_DIR_TEST: c:\\Users\\colin\\OneDrive\\Desktop\\Jersey-Number-Recognition\\data\\SoccerNet\\jersey-2023\\processed_data\\test\n",
      "2025-03-22 21:29:45 [INFO] PROCESSED_DATA_OUTPUT_DIR_CHALLENGE: c:\\Users\\colin\\OneDrive\\Desktop\\Jersey-Number-Recognition\\data\\SoccerNet\\jersey-2023\\processed_data\\challenge\n",
      "2025-03-22 21:29:45 [INFO] COMMON_PROCESSED_OUTPUT_DATA_TRAIN: c:\\Users\\colin\\OneDrive\\Desktop\\Jersey-Number-Recognition\\data\\SoccerNet\\jersey-2023\\processed_data\\train\\common_data\n",
      "2025-03-22 21:29:45 [INFO] COMMON_PROCESSED_OUTPUT_DATA_TEST: c:\\Users\\colin\\OneDrive\\Desktop\\Jersey-Number-Recognition\\data\\SoccerNet\\jersey-2023\\processed_data\\test\\common_data\n",
      "2025-03-22 21:29:45 [INFO] COMMON_PROCESSED_OUTPUT_DATA_CHALLENGE: c:\\Users\\colin\\OneDrive\\Desktop\\Jersey-Number-Recognition\\data\\SoccerNet\\jersey-2023\\processed_data\\challenge\\common_data\n",
      "2025-03-22 21:29:45 [INFO] STREAMLINED_PIPELINE: c:\\Users\\colin\\OneDrive\\Desktop\\Jersey-Number-Recognition\\StreamlinedPipelineScripts\n",
      "2025-03-22 21:29:45 [INFO] ['0', '1', '2', '3', '4', '5', '6', '7', '8', '9']\n",
      "2025-03-22 21:29:45 [INFO] Min tracklet: 0\n",
      "2025-03-22 21:29:45 [INFO] Max tracklet: 1210\n",
      "2025-03-22 21:29:45 [INFO] Using device: cuda\n",
      "2025-03-22 21:29:45 [INFO] ['0', '1', '2', '3', '4', '5', '6', '7', '8', '9']\n",
      "2025-03-22 21:29:45 [INFO] Min tracklet: 0\n",
      "2025-03-22 21:29:45 [INFO] Max tracklet: 1210\n"
     ]
    }
   ],
   "source": [
    "# TODO: Add tracklets_override to pass a list of tracklets to process; tracklets_override=[\"8\", \"9\", \"10\"]\n",
    "# NOTE: It is recommended you delete the entire processed_data/{challenge/test/train} before running this to 100% avoid issues with old data.\n",
    "# Furthermore, you should always restart your kernel before every new run because sometimes there are problems with paths\n",
    "pipeline = CentralPipeline(\n",
    "  num_tracklets=1210,\n",
    "  #num_images_per_tracklet=1,\n",
    "  input_data_path=DataPaths.TEST_DATA_DIR.value,\n",
    "  output_processed_data_path=DataPaths.PROCESSED_DATA_OUTPUT_DIR_TEST.value,\n",
    "  common_processed_data_dir=DataPaths.COMMON_PROCESSED_OUTPUT_DATA_TEST.value,\n",
    "  gt_data_path=DataPaths.TEST_DATA_GT.value,\n",
    "  single_image_pipeline=False,\n",
    "  display_transformed_image_sample=False, # NOTE: DO NOT USE. Code is parallelized so we cannot show images anymore. Code breaks, but first one will show if True.\n",
    "  num_image_samples=1,\n",
    "  use_cache=False, # Better set to false, not stable\n",
    "  suppress_logging=False,\n",
    "  num_workers=6, # CRITICAL optimisation param\n",
    "  tracklet_batch_size=32 # CRITICAL optimisation param\n",
    "  )"
   ]
  },
  {
   "cell_type": "code",
   "execution_count": null,
   "metadata": {},
   "outputs": [
    {
     "name": "stdout",
     "output_type": "stream",
     "text": [
      "2025-03-22 21:29:45 [INFO] Running the SoccerNet pipeline.\n"
     ]
    },
    {
     "name": "stderr",
     "output_type": "stream",
     "text": [
      "Batch Processing Tracklets:   0%|          | 0/38 [00:00<?, ?it/s]"
     ]
    },
    {
     "name": "stdout",
     "output_type": "stream",
     "text": [
      "2025-03-22 21:29:45 [INFO] Processing batch with tracklets: ['0', '1', '2', '3', '4', '5', '6', '7', '8', '9', '10', '11', '12', '13', '14', '15', '16', '17', '18', '19', '20', '21', '22', '23', '24', '25', '26', '27', '28', '29', '30', '31']\n",
      "2025-03-22 21:29:45 [INFO] Using double parallelization: multiprocessing + CUDA batch processing.\n"
     ]
    },
    {
     "data": {
      "application/vnd.jupyter.widget-view+json": {
       "model_id": "de8f5990eddf4c47ad11ab2e92735b44",
       "version_major": 2,
       "version_minor": 0
      },
      "text/plain": [
       "Processing tracklets (CUDA + CPU):   0%|          | 0/32 [00:00<?, ?it/s]"
      ]
     },
     "metadata": {},
     "output_type": "display_data"
    },
    {
     "name": "stdout",
     "output_type": "stream",
     "text": [
      "2025-03-22 21:30:02 [INFO] DEBUG: Number of images per tracklet in batch: 465\n",
      "2025-03-22 21:30:02 [INFO] Creating placeholder data files for Soccer Ball Filter.\n",
      "2025-03-22 21:30:02 [INFO] Creating placeholder data files for Legibility Classifier.\n",
      "2025-03-22 21:30:02 [INFO] Removed cached tracklet feature file (use_cache: False): c:\\Users\\colin\\OneDrive\\Desktop\\Jersey-Number-Recognition\\data\\SoccerNet\\jersey-2023\\processed_data\\test\\0\\features.npy\n",
      "2025-03-22 21:30:02 [INFO] Removed cached tracklet feature file (use_cache: False): c:\\Users\\colin\\OneDrive\\Desktop\\Jersey-Number-Recognition\\data\\SoccerNet\\jersey-2023\\processed_data\\test\\1\\features.npy\n",
      "2025-03-22 21:30:02 [INFO] Removed cached tracklet feature file (use_cache: False): c:\\Users\\colin\\OneDrive\\Desktop\\Jersey-Number-Recognition\\data\\SoccerNet\\jersey-2023\\processed_data\\test\\2\\features.npy\n",
      "2025-03-22 21:30:02 [INFO] Determine soccer balls in image(s) using pre-trained model.\n",
      "2025-03-22 21:30:02 [INFO] Removed cached tracklet feature file (use_cache: False): c:\\Users\\colin\\OneDrive\\Desktop\\Jersey-Number-Recognition\\data\\SoccerNet\\jersey-2023\\processed_data\\test\\3\\features.npy\n",
      "2025-03-22 21:30:02 [INFO] Removed cached tracklet feature file (use_cache: False): c:\\Users\\colin\\OneDrive\\Desktop\\Jersey-Number-Recognition\\data\\SoccerNet\\jersey-2023\\processed_data\\test\\4\\features.npy\n",
      "2025-03-22 21:30:02 [INFO] Determine soccer balls in image(s) using pre-trained model.\n",
      "2025-03-22 21:30:02 [INFO] Determine soccer balls in image(s) using pre-trained model.\n",
      "2025-03-22 21:30:02 [INFO] Removed cached tracklet feature file (use_cache: False): c:\\Users\\colin\\OneDrive\\Desktop\\Jersey-Number-Recognition\\data\\SoccerNet\\jersey-2023\\processed_data\\test\\5\\features.npy\n",
      "2025-03-22 21:30:02 [INFO] Determine soccer balls in image(s) using pre-trained model.\n",
      "2025-03-22 21:30:02 [INFO] Determine soccer balls in image(s) using pre-trained model.\n"
     ]
    },
    {
     "name": "stderr",
     "output_type": "stream",
     "text": [
      "\n",
      "Processing Batch Tracklets:   0%|          | 0/32 [00:00<?, ?it/s]"
     ]
    },
    {
     "name": "stdout",
     "output_type": "stream",
     "text": [
      "2025-03-22 21:30:02 [INFO] Determine soccer balls in image(s) using pre-trained model.\n"
     ]
    },
    {
     "name": "stderr",
     "output_type": "stream",
     "text": [
      "\u001b[A"
     ]
    },
    {
     "name": "stdout",
     "output_type": "stream",
     "text": [
      "2025-03-22 21:30:02 [INFO] Found 0 balls, Ball list: []\n",
      "2025-03-22 21:30:02 [INFO] Found 0 balls, Ball list: []\n",
      "2025-03-22 21:30:02 [INFO] Found 0 balls, Ball list: []\n",
      "2025-03-22 21:30:02 [INFO] Found 0 balls, Ball list: []\n",
      "2025-03-22 21:30:02 [INFO] Found 0 balls, Ball list: []\n",
      "2025-03-22 21:30:02 [INFO] Found 0 balls, Ball list: []\n"
     ]
    },
    {
     "name": "stderr",
     "output_type": "stream",
     "text": [
      "c:\\Users\\colin\\miniconda3\\envs\\UBC\\Lib\\site-packages\\pytorch_lightning\\utilities\\migration\\migration.py:208: You have multiple `ModelCheckpoint` callback states in this checkpoint, but we found state keys that would end up colliding with each other after an upgrade, which means we can't differentiate which of your checkpoint callbacks needs which states. At least one of your `ModelCheckpoint` callbacks will not be able to reload the state.\n",
      "Lightning automatically upgraded your loaded checkpoint from v1.1.4 to v2.5.0.post0. To apply the upgrade to your files permanently, run `python -m pytorch_lightning.utilities.upgrade_checkpoint c:\\Users\\colin\\OneDrive\\Desktop\\Jersey-Number-Recognition\\data\\pre_trained_models\\reid\\dukemtmcreid_resnet50_256_128_epoch_120.ckpt`\n",
      "Lightning automatically upgraded your loaded checkpoint from v1.1.4 to v2.5.0.post0. To apply the upgrade to your files permanently, run `python -m pytorch_lightning.utilities.upgrade_checkpoint c:\\Users\\colin\\OneDrive\\Desktop\\Jersey-Number-Recognition\\data\\pre_trained_models\\reid\\dukemtmcreid_resnet50_256_128_epoch_120.ckpt`\n"
     ]
    },
    {
     "name": "stdout",
     "output_type": "stream",
     "text": [
      "using GPU\n"
     ]
    },
    {
     "name": "stderr",
     "output_type": "stream",
     "text": [
      "Lightning automatically upgraded your loaded checkpoint from v1.1.4 to v2.5.0.post0. To apply the upgrade to your files permanently, run `python -m pytorch_lightning.utilities.upgrade_checkpoint c:\\Users\\colin\\OneDrive\\Desktop\\Jersey-Number-Recognition\\data\\pre_trained_models\\reid\\dukemtmcreid_resnet50_256_128_epoch_120.ckpt`\n"
     ]
    },
    {
     "name": "stdout",
     "output_type": "stream",
     "text": [
      "using GPU\n",
      "2025-03-22 21:30:11 [INFO] Saved features for tracklet with shape (461, 2048) to c:\\Users\\colin\\OneDrive\\Desktop\\Jersey-Number-Recognition\\data\\SoccerNet\\jersey-2023\\processed_data\\test\\3\\features.npy\n",
      "2025-03-22 21:30:12 [INFO] Identifying and removing outliers by calling gaussian_outliers_streamlined.py on feature file\n",
      "2025-03-22 21:30:14 [INFO] Saved features for tracklet with shape (465, 2048) to c:\\Users\\colin\\OneDrive\\Desktop\\Jersey-Number-Recognition\\data\\SoccerNet\\jersey-2023\\processed_data\\test\\0\\features.npy\n",
      "2025-03-22 21:30:14 [INFO] Identifying and removing outliers by calling gaussian_outliers_streamlined.py on feature file\n"
     ]
    },
    {
     "name": "stderr",
     "output_type": "stream",
     "text": [
      "Lightning automatically upgraded your loaded checkpoint from v1.1.4 to v2.5.0.post0. To apply the upgrade to your files permanently, run `python -m pytorch_lightning.utilities.upgrade_checkpoint c:\\Users\\colin\\OneDrive\\Desktop\\Jersey-Number-Recognition\\data\\pre_trained_models\\reid\\dukemtmcreid_resnet50_256_128_epoch_120.ckpt`\n"
     ]
    },
    {
     "name": "stdout",
     "output_type": "stream",
     "text": [
      "using GPU\n"
     ]
    },
    {
     "name": "stderr",
     "output_type": "stream",
     "text": [
      "Lightning automatically upgraded your loaded checkpoint from v1.1.4 to v2.5.0.post0. To apply the upgrade to your files permanently, run `python -m pytorch_lightning.utilities.upgrade_checkpoint c:\\Users\\colin\\OneDrive\\Desktop\\Jersey-Number-Recognition\\data\\pre_trained_models\\reid\\dukemtmcreid_resnet50_256_128_epoch_120.ckpt`\n"
     ]
    },
    {
     "name": "stdout",
     "output_type": "stream",
     "text": [
      "2025-03-22 21:30:18 [INFO] Saved features for tracklet with shape (349, 2048) to c:\\Users\\colin\\OneDrive\\Desktop\\Jersey-Number-Recognition\\data\\SoccerNet\\jersey-2023\\processed_data\\test\\2\\features.npy\n",
      "2025-03-22 21:30:18 [INFO] Identifying and removing outliers by calling gaussian_outliers_streamlined.py on feature file\n",
      "using GPU\n",
      "using GPU\n",
      "2025-03-22 21:30:21 [INFO] \n",
      "2025-03-22 21:30:21 [INFO] Done removing outliers\n",
      "2025-03-22 21:30:21 [INFO] Running model chain on preprocessed image(s).\n",
      "2025-03-22 21:30:21 [INFO] Classifying legibility of image(s) using pre-trained model.\n"
     ]
    },
    {
     "name": "stderr",
     "output_type": "stream",
     "text": [
      "Lightning automatically upgraded your loaded checkpoint from v1.1.4 to v2.5.0.post0. To apply the upgrade to your files permanently, run `python -m pytorch_lightning.utilities.upgrade_checkpoint c:\\Users\\colin\\OneDrive\\Desktop\\Jersey-Number-Recognition\\data\\pre_trained_models\\reid\\dukemtmcreid_resnet50_256_128_epoch_120.ckpt`\n"
     ]
    },
    {
     "name": "stdout",
     "output_type": "stream",
     "text": [
      "2025-03-22 21:30:21 [WARNING] No soccer ball list found. Skipping exclusion of soccer balls.\n",
      "2025-03-22 21:30:21 [INFO] Path checked: c:\\Users\\colin\\OneDrive\\Desktop\\Jersey-Number-Recognition\\data\\SoccerNet\\jersey-2023\\processed_data\\test\\common_data\\soccer_ball.json\n",
      "2025-03-22 21:30:24 [INFO] Saved features for tracklet with shape (311, 2048) to c:\\Users\\colin\\OneDrive\\Desktop\\Jersey-Number-Recognition\\data\\SoccerNet\\jersey-2023\\processed_data\\test\\4\\features.npy\n",
      "2025-03-22 21:30:24 [INFO] Identifying and removing outliers by calling gaussian_outliers_streamlined.py on feature file\n"
     ]
    },
    {
     "name": "stderr",
     "output_type": "stream",
     "text": [
      "c:\\Users\\colin\\miniconda3\\envs\\UBC\\Lib\\site-packages\\torchvision\\models\\_utils.py:208: UserWarning: The parameter 'pretrained' is deprecated since 0.13 and may be removed in the future, please use 'weights' instead.\n",
      "  warnings.warn(\n",
      "c:\\Users\\colin\\miniconda3\\envs\\UBC\\Lib\\site-packages\\torchvision\\models\\_utils.py:223: UserWarning: Arguments other than a weight enum or `None` for 'weights' are deprecated since 0.13 and may be removed in the future. The current behavior is equivalent to passing `weights=ResNet34_Weights.IMAGENET1K_V1`. You can also use `weights=ResNet34_Weights.DEFAULT` to get the most up-to-date weights.\n",
      "  warnings.warn(msg)\n"
     ]
    },
    {
     "name": "stdout",
     "output_type": "stream",
     "text": [
      "2025-03-22 21:30:24 [INFO] \n",
      "2025-03-22 21:30:24 [INFO] Done removing outliers\n",
      "2025-03-22 21:30:24 [INFO] Running model chain on preprocessed image(s).\n",
      "2025-03-22 21:30:24 [INFO] Classifying legibility of image(s) using pre-trained model.\n",
      "2025-03-22 21:30:24 [WARNING] No soccer ball list found. Skipping exclusion of soccer balls.\n",
      "2025-03-22 21:30:24 [INFO] Path checked: c:\\Users\\colin\\OneDrive\\Desktop\\Jersey-Number-Recognition\\data\\SoccerNet\\jersey-2023\\processed_data\\test\\common_data\\soccer_ball.json\n",
      "using GPU\n",
      "2025-03-22 21:30:27 [INFO] Saved features for tracklet with shape (354, 2048) to c:\\Users\\colin\\OneDrive\\Desktop\\Jersey-Number-Recognition\\data\\SoccerNet\\jersey-2023\\processed_data\\test\\1\\features.npy\n",
      "2025-03-22 21:30:27 [INFO] Identifying and removing outliers by calling gaussian_outliers_streamlined.py on feature file\n",
      "2025-03-22 21:30:29 [INFO] \n",
      "2025-03-22 21:30:29 [INFO] Done removing outliers\n",
      "2025-03-22 21:30:29 [INFO] Running model chain on preprocessed image(s).\n",
      "2025-03-22 21:30:29 [INFO] Classifying legibility of image(s) using pre-trained model.\n",
      "2025-03-22 21:30:29 [WARNING] No soccer ball list found. Skipping exclusion of soccer balls.\n",
      "2025-03-22 21:30:29 [INFO] Path checked: c:\\Users\\colin\\OneDrive\\Desktop\\Jersey-Number-Recognition\\data\\SoccerNet\\jersey-2023\\processed_data\\test\\common_data\\soccer_ball.json\n",
      "2025-03-22 21:30:33 [INFO] Saved features for tracklet with shape (627, 2048) to c:\\Users\\colin\\OneDrive\\Desktop\\Jersey-Number-Recognition\\data\\SoccerNet\\jersey-2023\\processed_data\\test\\5\\features.npy\n",
      "2025-03-22 21:30:33 [INFO] Identifying and removing outliers by calling gaussian_outliers_streamlined.py on feature file\n",
      "2025-03-22 21:30:37 [INFO] \n",
      "2025-03-22 21:30:37 [INFO] Done removing outliers\n",
      "2025-03-22 21:30:37 [INFO] Running model chain on preprocessed image(s).\n",
      "2025-03-22 21:30:37 [INFO] Classifying legibility of image(s) using pre-trained model.\n",
      "2025-03-22 21:30:37 [WARNING] No soccer ball list found. Skipping exclusion of soccer balls.\n",
      "2025-03-22 21:30:37 [INFO] Path checked: c:\\Users\\colin\\OneDrive\\Desktop\\Jersey-Number-Recognition\\data\\SoccerNet\\jersey-2023\\processed_data\\test\\common_data\\soccer_ball.json\n",
      "2025-03-22 21:30:42 [INFO] Saving legible_tracklets to: c:\\Users\\colin\\OneDrive\\Desktop\\Jersey-Number-Recognition\\data\\SoccerNet\\jersey-2023\\processed_data\\test\\3\\legible_results.json\n",
      "2025-03-22 21:30:42 [INFO] Saved legible_tracklets to: c:\\Users\\colin\\OneDrive\\Desktop\\Jersey-Number-Recognition\\data\\SoccerNet\\jersey-2023\\processed_data\\test\\3\\legible_results.json\n",
      "2025-03-22 21:30:42 [INFO] Saving illegible_tracklets to: c:\\Users\\colin\\OneDrive\\Desktop\\Jersey-Number-Recognition\\data\\SoccerNet\\jersey-2023\\processed_data\\test\\3\\illegible_results.json\n",
      "2025-03-22 21:30:42 [INFO] Saved illegible_tracklets to: c:\\Users\\colin\\OneDrive\\Desktop\\Jersey-Number-Recognition\\data\\SoccerNet\\jersey-2023\\processed_data\\test\\3\\illegible_results.json\n",
      "2025-03-22 21:30:42 [INFO] Legibility classification complete.\n",
      "2025-03-22 21:30:42 [INFO] Processed tracklet: 3\n",
      "2025-03-22 21:30:42 [INFO] Removed cached tracklet feature file (use_cache: False): c:\\Users\\colin\\OneDrive\\Desktop\\Jersey-Number-Recognition\\data\\SoccerNet\\jersey-2023\\processed_data\\test\\6\\features.npy\n"
     ]
    },
    {
     "name": "stderr",
     "output_type": "stream",
     "text": [
      "\n"
     ]
    },
    {
     "name": "stdout",
     "output_type": "stream",
     "text": [
      "2025-03-22 21:30:42 [INFO] Determine soccer balls in image(s) using pre-trained model.\n"
     ]
    },
    {
     "name": "stderr",
     "output_type": "stream",
     "text": [
      "Processing Batch Tracklets:   3%|▎         | 1/32 [00:40<20:46, 40.23s/it]\u001b[A"
     ]
    },
    {
     "name": "stdout",
     "output_type": "stream",
     "text": [
      "2025-03-22 21:30:42 [INFO] Found 0 balls, Ball list: []\n"
     ]
    },
    {
     "name": "stderr",
     "output_type": "stream",
     "text": [
      "Lightning automatically upgraded your loaded checkpoint from v1.1.4 to v2.5.0.post0. To apply the upgrade to your files permanently, run `python -m pytorch_lightning.utilities.upgrade_checkpoint c:\\Users\\colin\\OneDrive\\Desktop\\Jersey-Number-Recognition\\data\\pre_trained_models\\reid\\dukemtmcreid_resnet50_256_128_epoch_120.ckpt`\n"
     ]
    },
    {
     "name": "stdout",
     "output_type": "stream",
     "text": [
      "using GPU\n",
      "2025-03-22 21:30:45 [INFO] Saving legible_tracklets to: c:\\Users\\colin\\OneDrive\\Desktop\\Jersey-Number-Recognition\\data\\SoccerNet\\jersey-2023\\processed_data\\test\\0\\legible_results.json\n",
      "2025-03-22 21:30:45 [INFO] Saved legible_tracklets to: c:\\Users\\colin\\OneDrive\\Desktop\\Jersey-Number-Recognition\\data\\SoccerNet\\jersey-2023\\processed_data\\test\\0\\legible_results.json\n",
      "2025-03-22 21:30:45 [INFO] Saving illegible_tracklets to: c:\\Users\\colin\\OneDrive\\Desktop\\Jersey-Number-Recognition\\data\\SoccerNet\\jersey-2023\\processed_data\\test\\0\\illegible_results.json\n",
      "2025-03-22 21:30:45 [INFO] Saved illegible_tracklets to: c:\\Users\\colin\\OneDrive\\Desktop\\Jersey-Number-Recognition\\data\\SoccerNet\\jersey-2023\\processed_data\\test\\0\\illegible_results.json\n",
      "2025-03-22 21:30:45 [INFO] Legibility classification complete.\n",
      "2025-03-22 21:30:45 [INFO] Removed cached tracklet feature file (use_cache: False): c:\\Users\\colin\\OneDrive\\Desktop\\Jersey-Number-Recognition\\data\\SoccerNet\\jersey-2023\\processed_data\\test\\7\\features.npy\n",
      "2025-03-22 21:30:45 [INFO] Determine soccer balls in image(s) using pre-trained model.\n",
      "2025-03-22 21:30:45 [INFO] Processed tracklet: 0\n"
     ]
    },
    {
     "name": "stderr",
     "output_type": "stream",
     "text": []
    },
    {
     "name": "stdout",
     "output_type": "stream",
     "text": [
      "2025-03-22 21:30:45 [INFO] Found 0 balls, Ball list: []\n",
      "2025-03-22 21:30:45 [INFO] \n",
      "2025-03-22 21:30:45 [INFO] Done removing outliers\n",
      "2025-03-22 21:30:45 [INFO] Running model chain on preprocessed image(s).\n",
      "2025-03-22 21:30:45 [INFO] Classifying legibility of image(s) using pre-trained model.\n",
      "2025-03-22 21:30:45 [WARNING] No soccer ball list found. Skipping exclusion of soccer balls.\n",
      "2025-03-22 21:30:45 [INFO] Path checked: c:\\Users\\colin\\OneDrive\\Desktop\\Jersey-Number-Recognition\\data\\SoccerNet\\jersey-2023\\processed_data\\test\\common_data\\soccer_ball.json\n",
      "2025-03-22 21:30:50 [INFO] Saved features for tracklet with shape (490, 2048) to c:\\Users\\colin\\OneDrive\\Desktop\\Jersey-Number-Recognition\\data\\SoccerNet\\jersey-2023\\processed_data\\test\\6\\features.npy\n",
      "2025-03-22 21:30:50 [INFO] Identifying and removing outliers by calling gaussian_outliers_streamlined.py on feature file\n"
     ]
    },
    {
     "name": "stderr",
     "output_type": "stream",
     "text": [
      "Lightning automatically upgraded your loaded checkpoint from v1.1.4 to v2.5.0.post0. To apply the upgrade to your files permanently, run `python -m pytorch_lightning.utilities.upgrade_checkpoint c:\\Users\\colin\\OneDrive\\Desktop\\Jersey-Number-Recognition\\data\\pre_trained_models\\reid\\dukemtmcreid_resnet50_256_128_epoch_120.ckpt`\n"
     ]
    },
    {
     "name": "stdout",
     "output_type": "stream",
     "text": [
      "2025-03-22 21:30:51 [INFO] \n",
      "2025-03-22 21:30:51 [INFO] Done removing outliers\n",
      "2025-03-22 21:30:51 [INFO] Running model chain on preprocessed image(s).\n",
      "2025-03-22 21:30:51 [INFO] Classifying legibility of image(s) using pre-trained model.\n",
      "2025-03-22 21:30:51 [WARNING] No soccer ball list found. Skipping exclusion of soccer balls.\n",
      "2025-03-22 21:30:51 [INFO] Path checked: c:\\Users\\colin\\OneDrive\\Desktop\\Jersey-Number-Recognition\\data\\SoccerNet\\jersey-2023\\processed_data\\test\\common_data\\soccer_ball.json\n",
      "using GPU\n",
      "2025-03-22 21:30:59 [INFO] Saved features for tracklet with shape (661, 2048) to c:\\Users\\colin\\OneDrive\\Desktop\\Jersey-Number-Recognition\\data\\SoccerNet\\jersey-2023\\processed_data\\test\\7\\features.npy\n",
      "2025-03-22 21:30:59 [INFO] Identifying and removing outliers by calling gaussian_outliers_streamlined.py on feature file\n",
      "2025-03-22 21:30:59 [INFO] Saving legible_tracklets to: c:\\Users\\colin\\OneDrive\\Desktop\\Jersey-Number-Recognition\\data\\SoccerNet\\jersey-2023\\processed_data\\test\\4\\legible_results.json\n",
      "2025-03-22 21:30:59 [INFO] Saved legible_tracklets to: c:\\Users\\colin\\OneDrive\\Desktop\\Jersey-Number-Recognition\\data\\SoccerNet\\jersey-2023\\processed_data\\test\\4\\legible_results.json\n",
      "2025-03-22 21:30:59 [INFO] Saving illegible_tracklets to: c:\\Users\\colin\\OneDrive\\Desktop\\Jersey-Number-Recognition\\data\\SoccerNet\\jersey-2023\\processed_data\\test\\4\\illegible_results.json\n",
      "2025-03-22 21:30:59 [INFO] Saved illegible_tracklets to: c:\\Users\\colin\\OneDrive\\Desktop\\Jersey-Number-Recognition\\data\\SoccerNet\\jersey-2023\\processed_data\\test\\4\\illegible_results.json\n",
      "2025-03-22 21:30:59 [INFO] Legibility classification complete.\n",
      "2025-03-22 21:30:59 [INFO] Processed tracklet: 4\n"
     ]
    },
    {
     "name": "stderr",
     "output_type": "stream",
     "text": [
      "\n"
     ]
    },
    {
     "name": "stdout",
     "output_type": "stream",
     "text": [
      "2025-03-22 21:30:59 [INFO] Removed cached tracklet feature file (use_cache: False): c:\\Users\\colin\\OneDrive\\Desktop\\Jersey-Number-Recognition\\data\\SoccerNet\\jersey-2023\\processed_data\\test\\8\\features.npy\n",
      "2025-03-22 21:30:59 [INFO] Determine soccer balls in image(s) using pre-trained model.\n"
     ]
    },
    {
     "name": "stderr",
     "output_type": "stream",
     "text": [
      "Processing Batch Tracklets:   9%|▉         | 3/32 [00:57<07:56, 16.43s/it]\u001b[A"
     ]
    },
    {
     "name": "stdout",
     "output_type": "stream",
     "text": [
      "2025-03-22 21:30:59 [INFO] Found 0 balls, Ball list: []\n"
     ]
    },
    {
     "name": "stderr",
     "output_type": "stream",
     "text": [
      "Lightning automatically upgraded your loaded checkpoint from v1.1.4 to v2.5.0.post0. To apply the upgrade to your files permanently, run `python -m pytorch_lightning.utilities.upgrade_checkpoint c:\\Users\\colin\\OneDrive\\Desktop\\Jersey-Number-Recognition\\data\\pre_trained_models\\reid\\dukemtmcreid_resnet50_256_128_epoch_120.ckpt`\n"
     ]
    },
    {
     "name": "stdout",
     "output_type": "stream",
     "text": [
      "using GPU\n",
      "2025-03-22 21:31:01 [INFO] Saving legible_tracklets to: c:\\Users\\colin\\OneDrive\\Desktop\\Jersey-Number-Recognition\\data\\SoccerNet\\jersey-2023\\processed_data\\test\\2\\legible_results.json\n",
      "2025-03-22 21:31:01 [INFO] Saved legible_tracklets to: c:\\Users\\colin\\OneDrive\\Desktop\\Jersey-Number-Recognition\\data\\SoccerNet\\jersey-2023\\processed_data\\test\\2\\legible_results.json\n",
      "2025-03-22 21:31:01 [INFO] Saving illegible_tracklets to: c:\\Users\\colin\\OneDrive\\Desktop\\Jersey-Number-Recognition\\data\\SoccerNet\\jersey-2023\\processed_data\\test\\2\\illegible_results.json\n",
      "2025-03-22 21:31:01 [INFO] Saved illegible_tracklets to: c:\\Users\\colin\\OneDrive\\Desktop\\Jersey-Number-Recognition\\data\\SoccerNet\\jersey-2023\\processed_data\\test\\2\\illegible_results.json\n",
      "2025-03-22 21:31:01 [INFO] Legibility classification complete.\n",
      "2025-03-22 21:31:01 [INFO] Processed tracklet: 2\n"
     ]
    },
    {
     "name": "stderr",
     "output_type": "stream",
     "text": [
      "\n"
     ]
    },
    {
     "name": "stdout",
     "output_type": "stream",
     "text": [
      "2025-03-22 21:31:01 [INFO] Removed cached tracklet feature file (use_cache: False): c:\\Users\\colin\\OneDrive\\Desktop\\Jersey-Number-Recognition\\data\\SoccerNet\\jersey-2023\\processed_data\\test\\9\\features.npy\n",
      "2025-03-22 21:31:01 [INFO] Determine soccer balls in image(s) using pre-trained model.\n"
     ]
    },
    {
     "name": "stderr",
     "output_type": "stream",
     "text": [
      "Processing Batch Tracklets:  12%|█▎        | 4/32 [00:58<04:55, 10.54s/it]\u001b[A"
     ]
    },
    {
     "name": "stdout",
     "output_type": "stream",
     "text": [
      "2025-03-22 21:31:01 [INFO] Found 0 balls, Ball list: []\n",
      "2025-03-22 21:31:06 [INFO] \n",
      "2025-03-22 21:31:06 [INFO] Done removing outliers\n",
      "2025-03-22 21:31:06 [INFO] Running model chain on preprocessed image(s).\n",
      "2025-03-22 21:31:06 [INFO] Classifying legibility of image(s) using pre-trained model.\n",
      "2025-03-22 21:31:06 [WARNING] No soccer ball list found. Skipping exclusion of soccer balls.\n",
      "2025-03-22 21:31:06 [INFO] Path checked: c:\\Users\\colin\\OneDrive\\Desktop\\Jersey-Number-Recognition\\data\\SoccerNet\\jersey-2023\\processed_data\\test\\common_data\\soccer_ball.json\n",
      "2025-03-22 21:31:08 [INFO] Saved features for tracklet with shape (544, 2048) to c:\\Users\\colin\\OneDrive\\Desktop\\Jersey-Number-Recognition\\data\\SoccerNet\\jersey-2023\\processed_data\\test\\8\\features.npy\n",
      "2025-03-22 21:31:08 [INFO] Identifying and removing outliers by calling gaussian_outliers_streamlined.py on feature file\n"
     ]
    },
    {
     "name": "stderr",
     "output_type": "stream",
     "text": [
      "Lightning automatically upgraded your loaded checkpoint from v1.1.4 to v2.5.0.post0. To apply the upgrade to your files permanently, run `python -m pytorch_lightning.utilities.upgrade_checkpoint c:\\Users\\colin\\OneDrive\\Desktop\\Jersey-Number-Recognition\\data\\pre_trained_models\\reid\\dukemtmcreid_resnet50_256_128_epoch_120.ckpt`\n"
     ]
    },
    {
     "name": "stdout",
     "output_type": "stream",
     "text": [
      "using GPU\n",
      "2025-03-22 21:31:12 [INFO] \n",
      "2025-03-22 21:31:12 [INFO] Done removing outliers\n",
      "2025-03-22 21:31:12 [INFO] Running model chain on preprocessed image(s).\n",
      "2025-03-22 21:31:12 [INFO] Classifying legibility of image(s) using pre-trained model.\n",
      "2025-03-22 21:31:12 [WARNING] No soccer ball list found. Skipping exclusion of soccer balls.\n",
      "2025-03-22 21:31:12 [INFO] Path checked: c:\\Users\\colin\\OneDrive\\Desktop\\Jersey-Number-Recognition\\data\\SoccerNet\\jersey-2023\\processed_data\\test\\common_data\\soccer_ball.json\n",
      "2025-03-22 21:31:15 [INFO] Saving legible_tracklets to: c:\\Users\\colin\\OneDrive\\Desktop\\Jersey-Number-Recognition\\data\\SoccerNet\\jersey-2023\\processed_data\\test\\1\\legible_results.json\n",
      "2025-03-22 21:31:15 [INFO] Saved legible_tracklets to: c:\\Users\\colin\\OneDrive\\Desktop\\Jersey-Number-Recognition\\data\\SoccerNet\\jersey-2023\\processed_data\\test\\1\\legible_results.json\n",
      "2025-03-22 21:31:15 [INFO] Saving illegible_tracklets to: c:\\Users\\colin\\OneDrive\\Desktop\\Jersey-Number-Recognition\\data\\SoccerNet\\jersey-2023\\processed_data\\test\\1\\illegible_results.json\n",
      "2025-03-22 21:31:15 [INFO] Saved illegible_tracklets to: c:\\Users\\colin\\OneDrive\\Desktop\\Jersey-Number-Recognition\\data\\SoccerNet\\jersey-2023\\processed_data\\test\\1\\illegible_results.json\n",
      "2025-03-22 21:31:15 [INFO] Legibility classification complete.\n",
      "2025-03-22 21:31:15 [INFO] Processed tracklet: 1\n",
      "2025-03-22 21:31:15 [INFO] Removed cached tracklet feature file (use_cache: False): c:\\Users\\colin\\OneDrive\\Desktop\\Jersey-Number-Recognition\\data\\SoccerNet\\jersey-2023\\processed_data\\test\\10\\features.npy\n"
     ]
    },
    {
     "name": "stderr",
     "output_type": "stream",
     "text": [
      "\n",
      "Processing Batch Tracklets:  16%|█▌        | 5/32 [01:12<05:17, 11.77s/it]"
     ]
    },
    {
     "name": "stdout",
     "output_type": "stream",
     "text": [
      "2025-03-22 21:31:15 [INFO] Determine soccer balls in image(s) using pre-trained model.\n"
     ]
    },
    {
     "name": "stderr",
     "output_type": "stream",
     "text": [
      "\u001b[A"
     ]
    },
    {
     "name": "stdout",
     "output_type": "stream",
     "text": [
      "2025-03-22 21:31:15 [INFO] Found 0 balls, Ball list: []\n",
      "2025-03-22 21:31:16 [INFO] Saved features for tracklet with shape (595, 2048) to c:\\Users\\colin\\OneDrive\\Desktop\\Jersey-Number-Recognition\\data\\SoccerNet\\jersey-2023\\processed_data\\test\\9\\features.npy\n",
      "2025-03-22 21:31:16 [INFO] Identifying and removing outliers by calling gaussian_outliers_streamlined.py on feature file\n"
     ]
    },
    {
     "name": "stderr",
     "output_type": "stream",
     "text": [
      "Lightning automatically upgraded your loaded checkpoint from v1.1.4 to v2.5.0.post0. To apply the upgrade to your files permanently, run `python -m pytorch_lightning.utilities.upgrade_checkpoint c:\\Users\\colin\\OneDrive\\Desktop\\Jersey-Number-Recognition\\data\\pre_trained_models\\reid\\dukemtmcreid_resnet50_256_128_epoch_120.ckpt`\n"
     ]
    },
    {
     "name": "stdout",
     "output_type": "stream",
     "text": [
      "using GPU\n",
      "2025-03-22 21:31:20 [INFO] \n",
      "2025-03-22 21:31:20 [INFO] Done removing outliers\n",
      "2025-03-22 21:31:20 [INFO] Running model chain on preprocessed image(s).\n",
      "2025-03-22 21:31:20 [INFO] Classifying legibility of image(s) using pre-trained model.\n",
      "2025-03-22 21:31:20 [WARNING] No soccer ball list found. Skipping exclusion of soccer balls.\n",
      "2025-03-22 21:31:20 [INFO] Path checked: c:\\Users\\colin\\OneDrive\\Desktop\\Jersey-Number-Recognition\\data\\SoccerNet\\jersey-2023\\processed_data\\test\\common_data\\soccer_ball.json\n",
      "2025-03-22 21:31:21 [INFO] Saving legible_tracklets to: c:\\Users\\colin\\OneDrive\\Desktop\\Jersey-Number-Recognition\\data\\SoccerNet\\jersey-2023\\processed_data\\test\\5\\legible_results.json\n",
      "2025-03-22 21:31:21 [INFO] Saved legible_tracklets to: c:\\Users\\colin\\OneDrive\\Desktop\\Jersey-Number-Recognition\\data\\SoccerNet\\jersey-2023\\processed_data\\test\\5\\legible_results.json\n",
      "2025-03-22 21:31:21 [INFO] Saving illegible_tracklets to: c:\\Users\\colin\\OneDrive\\Desktop\\Jersey-Number-Recognition\\data\\SoccerNet\\jersey-2023\\processed_data\\test\\5\\illegible_results.json\n",
      "2025-03-22 21:31:22 [INFO] Saved illegible_tracklets to: c:\\Users\\colin\\OneDrive\\Desktop\\Jersey-Number-Recognition\\data\\SoccerNet\\jersey-2023\\processed_data\\test\\5\\illegible_results.json\n",
      "2025-03-22 21:31:22 [INFO] Legibility classification complete.\n",
      "2025-03-22 21:31:22 [INFO] Processed tracklet: 5\n",
      "2025-03-22 21:31:22 [INFO] Removed cached tracklet feature file (use_cache: False): c:\\Users\\colin\\OneDrive\\Desktop\\Jersey-Number-Recognition\\data\\SoccerNet\\jersey-2023\\processed_data\\test\\11\\features.npy\n"
     ]
    },
    {
     "name": "stderr",
     "output_type": "stream",
     "text": [
      "\n"
     ]
    },
    {
     "name": "stdout",
     "output_type": "stream",
     "text": [
      "2025-03-22 21:31:22 [INFO] Determine soccer balls in image(s) using pre-trained model.\n"
     ]
    },
    {
     "name": "stderr",
     "output_type": "stream",
     "text": [
      "Processing Batch Tracklets:  19%|█▉        | 6/32 [01:19<04:22, 10.11s/it]\u001b[A"
     ]
    },
    {
     "name": "stdout",
     "output_type": "stream",
     "text": [
      "2025-03-22 21:31:22 [INFO] Found 0 balls, Ball list: []\n",
      "2025-03-22 21:31:24 [INFO] Saved features for tracklet with shape (549, 2048) to c:\\Users\\colin\\OneDrive\\Desktop\\Jersey-Number-Recognition\\data\\SoccerNet\\jersey-2023\\processed_data\\test\\10\\features.npy\n",
      "2025-03-22 21:31:24 [INFO] Identifying and removing outliers by calling gaussian_outliers_streamlined.py on feature file\n"
     ]
    },
    {
     "name": "stderr",
     "output_type": "stream",
     "text": [
      "Lightning automatically upgraded your loaded checkpoint from v1.1.4 to v2.5.0.post0. To apply the upgrade to your files permanently, run `python -m pytorch_lightning.utilities.upgrade_checkpoint c:\\Users\\colin\\OneDrive\\Desktop\\Jersey-Number-Recognition\\data\\pre_trained_models\\reid\\dukemtmcreid_resnet50_256_128_epoch_120.ckpt`\n"
     ]
    },
    {
     "name": "stdout",
     "output_type": "stream",
     "text": [
      "using GPU\n",
      "2025-03-22 21:31:27 [INFO] \n",
      "2025-03-22 21:31:27 [INFO] Done removing outliers\n",
      "2025-03-22 21:31:27 [INFO] Running model chain on preprocessed image(s).\n",
      "2025-03-22 21:31:27 [INFO] Classifying legibility of image(s) using pre-trained model.\n",
      "2025-03-22 21:31:27 [WARNING] No soccer ball list found. Skipping exclusion of soccer balls.\n",
      "2025-03-22 21:31:27 [INFO] Path checked: c:\\Users\\colin\\OneDrive\\Desktop\\Jersey-Number-Recognition\\data\\SoccerNet\\jersey-2023\\processed_data\\test\\common_data\\soccer_ball.json\n",
      "2025-03-22 21:31:31 [INFO] Saving legible_tracklets to: c:\\Users\\colin\\OneDrive\\Desktop\\Jersey-Number-Recognition\\data\\SoccerNet\\jersey-2023\\processed_data\\test\\6\\legible_results.json\n",
      "2025-03-22 21:31:31 [INFO] Saved legible_tracklets to: c:\\Users\\colin\\OneDrive\\Desktop\\Jersey-Number-Recognition\\data\\SoccerNet\\jersey-2023\\processed_data\\test\\6\\legible_results.json\n",
      "2025-03-22 21:31:31 [INFO] Saving illegible_tracklets to: c:\\Users\\colin\\OneDrive\\Desktop\\Jersey-Number-Recognition\\data\\SoccerNet\\jersey-2023\\processed_data\\test\\6\\illegible_results.json\n",
      "2025-03-22 21:31:31 [INFO] Saved illegible_tracklets to: c:\\Users\\colin\\OneDrive\\Desktop\\Jersey-Number-Recognition\\data\\SoccerNet\\jersey-2023\\processed_data\\test\\6\\illegible_results.json\n",
      "2025-03-22 21:31:31 [INFO] Legibility classification complete.\n",
      "2025-03-22 21:31:31 [INFO] Processed tracklet: 6\n"
     ]
    },
    {
     "name": "stderr",
     "output_type": "stream",
     "text": [
      "\n"
     ]
    },
    {
     "name": "stdout",
     "output_type": "stream",
     "text": [
      "2025-03-22 21:31:31 [INFO] Removed cached tracklet feature file (use_cache: False): c:\\Users\\colin\\OneDrive\\Desktop\\Jersey-Number-Recognition\\data\\SoccerNet\\jersey-2023\\processed_data\\test\\12\\features.npy\n"
     ]
    },
    {
     "name": "stderr",
     "output_type": "stream",
     "text": [
      "Processing Batch Tracklets:  22%|██▏       | 7/32 [01:28<04:05,  9.81s/it]"
     ]
    },
    {
     "name": "stdout",
     "output_type": "stream",
     "text": [
      "2025-03-22 21:31:31 [INFO] Determine soccer balls in image(s) using pre-trained model.\n"
     ]
    },
    {
     "name": "stderr",
     "output_type": "stream",
     "text": [
      "\u001b[A"
     ]
    },
    {
     "name": "stdout",
     "output_type": "stream",
     "text": [
      "2025-03-22 21:31:31 [INFO] Found 0 balls, Ball list: []\n",
      "2025-03-22 21:31:32 [INFO] Saved features for tracklet with shape (641, 2048) to c:\\Users\\colin\\OneDrive\\Desktop\\Jersey-Number-Recognition\\data\\SoccerNet\\jersey-2023\\processed_data\\test\\11\\features.npy\n",
      "2025-03-22 21:31:32 [INFO] Identifying and removing outliers by calling gaussian_outliers_streamlined.py on feature file\n"
     ]
    },
    {
     "name": "stderr",
     "output_type": "stream",
     "text": [
      "Lightning automatically upgraded your loaded checkpoint from v1.1.4 to v2.5.0.post0. To apply the upgrade to your files permanently, run `python -m pytorch_lightning.utilities.upgrade_checkpoint c:\\Users\\colin\\OneDrive\\Desktop\\Jersey-Number-Recognition\\data\\pre_trained_models\\reid\\dukemtmcreid_resnet50_256_128_epoch_120.ckpt`\n"
     ]
    },
    {
     "name": "stdout",
     "output_type": "stream",
     "text": [
      "using GPU\n",
      "2025-03-22 21:31:37 [INFO] \n",
      "2025-03-22 21:31:37 [INFO] Done removing outliers\n",
      "2025-03-22 21:31:37 [INFO] Running model chain on preprocessed image(s).\n",
      "2025-03-22 21:31:37 [INFO] Classifying legibility of image(s) using pre-trained model.\n",
      "2025-03-22 21:31:37 [WARNING] No soccer ball list found. Skipping exclusion of soccer balls.\n",
      "2025-03-22 21:31:37 [INFO] Path checked: c:\\Users\\colin\\OneDrive\\Desktop\\Jersey-Number-Recognition\\data\\SoccerNet\\jersey-2023\\processed_data\\test\\common_data\\soccer_ball.json\n",
      "2025-03-22 21:31:39 [INFO] Saved features for tracklet with shape (452, 2048) to c:\\Users\\colin\\OneDrive\\Desktop\\Jersey-Number-Recognition\\data\\SoccerNet\\jersey-2023\\processed_data\\test\\12\\features.npy\n",
      "2025-03-22 21:31:39 [INFO] Identifying and removing outliers by calling gaussian_outliers_streamlined.py on feature file\n",
      "2025-03-22 21:31:40 [INFO] Saving legible_tracklets to: c:\\Users\\colin\\OneDrive\\Desktop\\Jersey-Number-Recognition\\data\\SoccerNet\\jersey-2023\\processed_data\\test\\8\\legible_results.json\n",
      "2025-03-22 21:31:40 [INFO] Saved legible_tracklets to: c:\\Users\\colin\\OneDrive\\Desktop\\Jersey-Number-Recognition\\data\\SoccerNet\\jersey-2023\\processed_data\\test\\8\\legible_results.json\n",
      "2025-03-22 21:31:40 [INFO] Saving illegible_tracklets to: c:\\Users\\colin\\OneDrive\\Desktop\\Jersey-Number-Recognition\\data\\SoccerNet\\jersey-2023\\processed_data\\test\\8\\illegible_results.json\n",
      "2025-03-22 21:31:40 [INFO] Saved illegible_tracklets to: c:\\Users\\colin\\OneDrive\\Desktop\\Jersey-Number-Recognition\\data\\SoccerNet\\jersey-2023\\processed_data\\test\\8\\illegible_results.json\n",
      "2025-03-22 21:31:40 [INFO] Legibility classification complete.\n",
      "2025-03-22 21:31:40 [INFO] Processed tracklet: 8\n"
     ]
    },
    {
     "name": "stderr",
     "output_type": "stream",
     "text": [
      "\n"
     ]
    },
    {
     "name": "stdout",
     "output_type": "stream",
     "text": [
      "2025-03-22 21:31:40 [INFO] Removed cached tracklet feature file (use_cache: False): c:\\Users\\colin\\OneDrive\\Desktop\\Jersey-Number-Recognition\\data\\SoccerNet\\jersey-2023\\processed_data\\test\\13\\features.npy\n",
      "2025-03-22 21:31:40 [INFO] Determine soccer balls in image(s) using pre-trained model.\n"
     ]
    },
    {
     "name": "stderr",
     "output_type": "stream",
     "text": [
      "Processing Batch Tracklets:  25%|██▌       | 8/32 [01:38<03:52,  9.68s/it]\u001b[A"
     ]
    },
    {
     "name": "stdout",
     "output_type": "stream",
     "text": [
      "2025-03-22 21:31:40 [INFO] Found 0 balls, Ball list: []\n"
     ]
    },
    {
     "name": "stderr",
     "output_type": "stream",
     "text": [
      "Lightning automatically upgraded your loaded checkpoint from v1.1.4 to v2.5.0.post0. To apply the upgrade to your files permanently, run `python -m pytorch_lightning.utilities.upgrade_checkpoint c:\\Users\\colin\\OneDrive\\Desktop\\Jersey-Number-Recognition\\data\\pre_trained_models\\reid\\dukemtmcreid_resnet50_256_128_epoch_120.ckpt`\n"
     ]
    },
    {
     "name": "stdout",
     "output_type": "stream",
     "text": [
      "using GPU\n",
      "2025-03-22 21:31:47 [INFO] \n",
      "2025-03-22 21:31:47 [INFO] Done removing outliers\n",
      "2025-03-22 21:31:47 [INFO] Running model chain on preprocessed image(s).\n",
      "2025-03-22 21:31:47 [INFO] Classifying legibility of image(s) using pre-trained model.\n",
      "2025-03-22 21:31:47 [WARNING] No soccer ball list found. Skipping exclusion of soccer balls.\n",
      "2025-03-22 21:31:47 [INFO] Path checked: c:\\Users\\colin\\OneDrive\\Desktop\\Jersey-Number-Recognition\\data\\SoccerNet\\jersey-2023\\processed_data\\test\\common_data\\soccer_ball.json\n",
      "2025-03-22 21:31:48 [INFO] Saved features for tracklet with shape (467, 2048) to c:\\Users\\colin\\OneDrive\\Desktop\\Jersey-Number-Recognition\\data\\SoccerNet\\jersey-2023\\processed_data\\test\\13\\features.npy\n",
      "2025-03-22 21:31:48 [INFO] Identifying and removing outliers by calling gaussian_outliers_streamlined.py on feature file\n",
      "2025-03-22 21:31:49 [INFO] Saving legible_tracklets to: c:\\Users\\colin\\OneDrive\\Desktop\\Jersey-Number-Recognition\\data\\SoccerNet\\jersey-2023\\processed_data\\test\\9\\legible_results.json\n",
      "2025-03-22 21:31:49 [INFO] Saved legible_tracklets to: c:\\Users\\colin\\OneDrive\\Desktop\\Jersey-Number-Recognition\\data\\SoccerNet\\jersey-2023\\processed_data\\test\\9\\legible_results.json\n",
      "2025-03-22 21:31:49 [INFO] Saving illegible_tracklets to: c:\\Users\\colin\\OneDrive\\Desktop\\Jersey-Number-Recognition\\data\\SoccerNet\\jersey-2023\\processed_data\\test\\9\\illegible_results.json\n",
      "2025-03-22 21:31:49 [INFO] Saved illegible_tracklets to: c:\\Users\\colin\\OneDrive\\Desktop\\Jersey-Number-Recognition\\data\\SoccerNet\\jersey-2023\\processed_data\\test\\9\\illegible_results.json\n",
      "2025-03-22 21:31:49 [INFO] Legibility classification complete.\n",
      "2025-03-22 21:31:49 [INFO] Removed cached tracklet feature file (use_cache: False): c:\\Users\\colin\\OneDrive\\Desktop\\Jersey-Number-Recognition\\data\\SoccerNet\\jersey-2023\\processed_data\\test\\14\\features.npy\n",
      "2025-03-22 21:31:49 [INFO] Determine soccer balls in image(s) using pre-trained model.\n",
      "2025-03-22 21:31:49 [INFO] Processed tracklet: 9\n"
     ]
    },
    {
     "name": "stderr",
     "output_type": "stream",
     "text": []
    },
    {
     "name": "stdout",
     "output_type": "stream",
     "text": [
      "2025-03-22 21:31:49 [INFO] Found 0 balls, Ball list: []\n"
     ]
    },
    {
     "name": "stderr",
     "output_type": "stream",
     "text": [
      "Lightning automatically upgraded your loaded checkpoint from v1.1.4 to v2.5.0.post0. To apply the upgrade to your files permanently, run `python -m pytorch_lightning.utilities.upgrade_checkpoint c:\\Users\\colin\\OneDrive\\Desktop\\Jersey-Number-Recognition\\data\\pre_trained_models\\reid\\dukemtmcreid_resnet50_256_128_epoch_120.ckpt`\n"
     ]
    },
    {
     "name": "stdout",
     "output_type": "stream",
     "text": [
      "using GPU\n",
      "2025-03-22 21:31:54 [INFO] \n",
      "2025-03-22 21:31:54 [INFO] Done removing outliers\n",
      "2025-03-22 21:31:54 [INFO] Running model chain on preprocessed image(s).\n",
      "2025-03-22 21:31:54 [INFO] Classifying legibility of image(s) using pre-trained model.\n",
      "2025-03-22 21:31:54 [WARNING] No soccer ball list found. Skipping exclusion of soccer balls.\n",
      "2025-03-22 21:31:54 [INFO] Path checked: c:\\Users\\colin\\OneDrive\\Desktop\\Jersey-Number-Recognition\\data\\SoccerNet\\jersey-2023\\processed_data\\test\\common_data\\soccer_ball.json\n",
      "2025-03-22 21:31:57 [INFO] Saved features for tracklet with shape (575, 2048) to c:\\Users\\colin\\OneDrive\\Desktop\\Jersey-Number-Recognition\\data\\SoccerNet\\jersey-2023\\processed_data\\test\\14\\features.npy\n",
      "2025-03-22 21:31:57 [INFO] Identifying and removing outliers by calling gaussian_outliers_streamlined.py on feature file\n",
      "2025-03-22 21:31:59 [INFO] Saving legible_tracklets to: c:\\Users\\colin\\OneDrive\\Desktop\\Jersey-Number-Recognition\\data\\SoccerNet\\jersey-2023\\processed_data\\test\\7\\legible_results.json\n",
      "2025-03-22 21:31:59 [INFO] Saved legible_tracklets to: c:\\Users\\colin\\OneDrive\\Desktop\\Jersey-Number-Recognition\\data\\SoccerNet\\jersey-2023\\processed_data\\test\\7\\legible_results.json\n",
      "2025-03-22 21:31:59 [INFO] Saving illegible_tracklets to: c:\\Users\\colin\\OneDrive\\Desktop\\Jersey-Number-Recognition\\data\\SoccerNet\\jersey-2023\\processed_data\\test\\7\\illegible_results.json\n",
      "2025-03-22 21:31:59 [INFO] Saved illegible_tracklets to: c:\\Users\\colin\\OneDrive\\Desktop\\Jersey-Number-Recognition\\data\\SoccerNet\\jersey-2023\\processed_data\\test\\7\\illegible_results.json\n",
      "2025-03-22 21:31:59 [INFO] Legibility classification complete.\n",
      "2025-03-22 21:31:59 [INFO] Removed cached tracklet feature file (use_cache: False): c:\\Users\\colin\\OneDrive\\Desktop\\Jersey-Number-Recognition\\data\\SoccerNet\\jersey-2023\\processed_data\\test\\15\\features.npy\n",
      "2025-03-22 21:31:59 [INFO] Determine soccer balls in image(s) using pre-trained model.\n",
      "2025-03-22 21:31:59 [INFO] Processed tracklet: 7\n"
     ]
    },
    {
     "name": "stderr",
     "output_type": "stream",
     "text": []
    },
    {
     "name": "stdout",
     "output_type": "stream",
     "text": [
      "2025-03-22 21:31:59 [INFO] Found 0 balls, Ball list: []\n"
     ]
    },
    {
     "name": "stderr",
     "output_type": "stream",
     "text": [
      "Lightning automatically upgraded your loaded checkpoint from v1.1.4 to v2.5.0.post0. To apply the upgrade to your files permanently, run `python -m pytorch_lightning.utilities.upgrade_checkpoint c:\\Users\\colin\\OneDrive\\Desktop\\Jersey-Number-Recognition\\data\\pre_trained_models\\reid\\dukemtmcreid_resnet50_256_128_epoch_120.ckpt`\n"
     ]
    },
    {
     "name": "stdout",
     "output_type": "stream",
     "text": [
      "2025-03-22 21:31:59 [INFO] \n",
      "2025-03-22 21:31:59 [INFO] Done removing outliers\n",
      "2025-03-22 21:31:59 [INFO] Running model chain on preprocessed image(s).\n",
      "2025-03-22 21:31:59 [INFO] Classifying legibility of image(s) using pre-trained model.\n",
      "2025-03-22 21:31:59 [WARNING] No soccer ball list found. Skipping exclusion of soccer balls.\n",
      "2025-03-22 21:31:59 [INFO] Path checked: c:\\Users\\colin\\OneDrive\\Desktop\\Jersey-Number-Recognition\\data\\SoccerNet\\jersey-2023\\processed_data\\test\\common_data\\soccer_ball.json\n",
      "2025-03-22 21:31:59 [INFO] Saving legible_tracklets to: c:\\Users\\colin\\OneDrive\\Desktop\\Jersey-Number-Recognition\\data\\SoccerNet\\jersey-2023\\processed_data\\test\\10\\legible_results.json\n",
      "2025-03-22 21:31:59 [INFO] Saved legible_tracklets to: c:\\Users\\colin\\OneDrive\\Desktop\\Jersey-Number-Recognition\\data\\SoccerNet\\jersey-2023\\processed_data\\test\\10\\legible_results.json\n",
      "2025-03-22 21:31:59 [INFO] Saving illegible_tracklets to: c:\\Users\\colin\\OneDrive\\Desktop\\Jersey-Number-Recognition\\data\\SoccerNet\\jersey-2023\\processed_data\\test\\10\\illegible_results.json\n",
      "2025-03-22 21:31:59 [INFO] Saved illegible_tracklets to: c:\\Users\\colin\\OneDrive\\Desktop\\Jersey-Number-Recognition\\data\\SoccerNet\\jersey-2023\\processed_data\\test\\10\\illegible_results.json\n",
      "2025-03-22 21:31:59 [INFO] Legibility classification complete.\n",
      "2025-03-22 21:31:59 [INFO] Processed tracklet: 10\n"
     ]
    },
    {
     "name": "stderr",
     "output_type": "stream",
     "text": [
      "\n"
     ]
    },
    {
     "name": "stdout",
     "output_type": "stream",
     "text": [
      "2025-03-22 21:31:59 [INFO] Removed cached tracklet feature file (use_cache: False): c:\\Users\\colin\\OneDrive\\Desktop\\Jersey-Number-Recognition\\data\\SoccerNet\\jersey-2023\\processed_data\\test\\16\\features.npy\n"
     ]
    },
    {
     "name": "stderr",
     "output_type": "stream",
     "text": [
      "Processing Batch Tracklets:  34%|███▍      | 11/32 [01:57<02:23,  6.83s/it]"
     ]
    },
    {
     "name": "stdout",
     "output_type": "stream",
     "text": [
      "2025-03-22 21:31:59 [INFO] Determine soccer balls in image(s) using pre-trained model.\n"
     ]
    },
    {
     "name": "stderr",
     "output_type": "stream",
     "text": [
      "\u001b[A"
     ]
    },
    {
     "name": "stdout",
     "output_type": "stream",
     "text": [
      "2025-03-22 21:32:00 [INFO] Found 0 balls, Ball list: []\n",
      "using GPU\n"
     ]
    },
    {
     "name": "stderr",
     "output_type": "stream",
     "text": [
      "Lightning automatically upgraded your loaded checkpoint from v1.1.4 to v2.5.0.post0. To apply the upgrade to your files permanently, run `python -m pytorch_lightning.utilities.upgrade_checkpoint c:\\Users\\colin\\OneDrive\\Desktop\\Jersey-Number-Recognition\\data\\pre_trained_models\\reid\\dukemtmcreid_resnet50_256_128_epoch_120.ckpt`\n"
     ]
    },
    {
     "name": "stdout",
     "output_type": "stream",
     "text": [
      "2025-03-22 21:32:06 [INFO] Saved features for tracklet with shape (554, 2048) to c:\\Users\\colin\\OneDrive\\Desktop\\Jersey-Number-Recognition\\data\\SoccerNet\\jersey-2023\\processed_data\\test\\15\\features.npy\n",
      "2025-03-22 21:32:06 [INFO] Identifying and removing outliers by calling gaussian_outliers_streamlined.py on feature file\n",
      "using GPU\n",
      "2025-03-22 21:32:11 [INFO] \n",
      "2025-03-22 21:32:11 [INFO] Done removing outliers\n",
      "2025-03-22 21:32:11 [INFO] Running model chain on preprocessed image(s).\n",
      "2025-03-22 21:32:11 [INFO] Classifying legibility of image(s) using pre-trained model.\n",
      "2025-03-22 21:32:11 [WARNING] No soccer ball list found. Skipping exclusion of soccer balls.\n",
      "2025-03-22 21:32:11 [INFO] Path checked: c:\\Users\\colin\\OneDrive\\Desktop\\Jersey-Number-Recognition\\data\\SoccerNet\\jersey-2023\\processed_data\\test\\common_data\\soccer_ball.json\n",
      "2025-03-22 21:32:12 [INFO] Saved features for tracklet with shape (457, 2048) to c:\\Users\\colin\\OneDrive\\Desktop\\Jersey-Number-Recognition\\data\\SoccerNet\\jersey-2023\\processed_data\\test\\16\\features.npy\n",
      "2025-03-22 21:32:12 [INFO] Identifying and removing outliers by calling gaussian_outliers_streamlined.py on feature file\n",
      "2025-03-22 21:32:13 [INFO] Saving legible_tracklets to: c:\\Users\\colin\\OneDrive\\Desktop\\Jersey-Number-Recognition\\data\\SoccerNet\\jersey-2023\\processed_data\\test\\12\\legible_results.json\n",
      "2025-03-22 21:32:13 [INFO] Saved legible_tracklets to: c:\\Users\\colin\\OneDrive\\Desktop\\Jersey-Number-Recognition\\data\\SoccerNet\\jersey-2023\\processed_data\\test\\12\\legible_results.json\n",
      "2025-03-22 21:32:13 [INFO] Saving illegible_tracklets to: c:\\Users\\colin\\OneDrive\\Desktop\\Jersey-Number-Recognition\\data\\SoccerNet\\jersey-2023\\processed_data\\test\\12\\illegible_results.json\n",
      "2025-03-22 21:32:13 [INFO] Saved illegible_tracklets to: c:\\Users\\colin\\OneDrive\\Desktop\\Jersey-Number-Recognition\\data\\SoccerNet\\jersey-2023\\processed_data\\test\\12\\illegible_results.json\n",
      "2025-03-22 21:32:13 [INFO] Legibility classification complete.\n",
      "2025-03-22 21:32:13 [INFO] Processed tracklet: 12\n"
     ]
    },
    {
     "name": "stderr",
     "output_type": "stream",
     "text": [
      "\n"
     ]
    },
    {
     "name": "stdout",
     "output_type": "stream",
     "text": [
      "2025-03-22 21:32:13 [INFO] Removed cached tracklet feature file (use_cache: False): c:\\Users\\colin\\OneDrive\\Desktop\\Jersey-Number-Recognition\\data\\SoccerNet\\jersey-2023\\processed_data\\test\\17\\features.npy\n",
      "2025-03-22 21:32:13 [INFO] Determine soccer balls in image(s) using pre-trained model.\n"
     ]
    },
    {
     "name": "stderr",
     "output_type": "stream",
     "text": [
      "Processing Batch Tracklets:  38%|███▊      | 12/32 [02:10<02:54,  8.73s/it]\u001b[A"
     ]
    },
    {
     "name": "stdout",
     "output_type": "stream",
     "text": [
      "2025-03-22 21:32:13 [INFO] Found 0 balls, Ball list: []\n"
     ]
    },
    {
     "name": "stderr",
     "output_type": "stream",
     "text": [
      "Lightning automatically upgraded your loaded checkpoint from v1.1.4 to v2.5.0.post0. To apply the upgrade to your files permanently, run `python -m pytorch_lightning.utilities.upgrade_checkpoint c:\\Users\\colin\\OneDrive\\Desktop\\Jersey-Number-Recognition\\data\\pre_trained_models\\reid\\dukemtmcreid_resnet50_256_128_epoch_120.ckpt`\n"
     ]
    },
    {
     "name": "stdout",
     "output_type": "stream",
     "text": [
      "using GPU\n",
      "2025-03-22 21:32:18 [INFO] Saving legible_tracklets to: c:\\Users\\colin\\OneDrive\\Desktop\\Jersey-Number-Recognition\\data\\SoccerNet\\jersey-2023\\processed_data\\test\\13\\legible_results.json\n",
      "2025-03-22 21:32:18 [INFO] Saved legible_tracklets to: c:\\Users\\colin\\OneDrive\\Desktop\\Jersey-Number-Recognition\\data\\SoccerNet\\jersey-2023\\processed_data\\test\\13\\legible_results.json\n",
      "2025-03-22 21:32:18 [INFO] Saving illegible_tracklets to: c:\\Users\\colin\\OneDrive\\Desktop\\Jersey-Number-Recognition\\data\\SoccerNet\\jersey-2023\\processed_data\\test\\13\\illegible_results.json\n",
      "2025-03-22 21:32:18 [INFO] Saved illegible_tracklets to: c:\\Users\\colin\\OneDrive\\Desktop\\Jersey-Number-Recognition\\data\\SoccerNet\\jersey-2023\\processed_data\\test\\13\\illegible_results.json\n",
      "2025-03-22 21:32:18 [INFO] Legibility classification complete.\n",
      "2025-03-22 21:32:18 [INFO] Processed tracklet: 13\n"
     ]
    },
    {
     "name": "stderr",
     "output_type": "stream",
     "text": [
      "\n"
     ]
    },
    {
     "name": "stdout",
     "output_type": "stream",
     "text": [
      "2025-03-22 21:32:18 [INFO] Removed cached tracklet feature file (use_cache: False): c:\\Users\\colin\\OneDrive\\Desktop\\Jersey-Number-Recognition\\data\\SoccerNet\\jersey-2023\\processed_data\\test\\18\\features.npy\n"
     ]
    },
    {
     "name": "stderr",
     "output_type": "stream",
     "text": [
      "Processing Batch Tracklets:  41%|████      | 13/32 [02:16<02:26,  7.73s/it]\u001b[A"
     ]
    },
    {
     "name": "stdout",
     "output_type": "stream",
     "text": [
      "2025-03-22 21:32:18 [INFO] Determine soccer balls in image(s) using pre-trained model.\n",
      "2025-03-22 21:32:18 [INFO] Found 0 balls, Ball list: []\n",
      "2025-03-22 21:32:19 [INFO] \n",
      "2025-03-22 21:32:19 [INFO] Done removing outliers\n",
      "2025-03-22 21:32:19 [INFO] Running model chain on preprocessed image(s).\n",
      "2025-03-22 21:32:19 [INFO] Classifying legibility of image(s) using pre-trained model.\n",
      "2025-03-22 21:32:19 [WARNING] No soccer ball list found. Skipping exclusion of soccer balls.\n",
      "2025-03-22 21:32:19 [INFO] Path checked: c:\\Users\\colin\\OneDrive\\Desktop\\Jersey-Number-Recognition\\data\\SoccerNet\\jersey-2023\\processed_data\\test\\common_data\\soccer_ball.json\n",
      "2025-03-22 21:32:21 [INFO] Saved features for tracklet with shape (664, 2048) to c:\\Users\\colin\\OneDrive\\Desktop\\Jersey-Number-Recognition\\data\\SoccerNet\\jersey-2023\\processed_data\\test\\17\\features.npy\n",
      "2025-03-22 21:32:21 [INFO] Identifying and removing outliers by calling gaussian_outliers_streamlined.py on feature file\n"
     ]
    },
    {
     "name": "stderr",
     "output_type": "stream",
     "text": [
      "Lightning automatically upgraded your loaded checkpoint from v1.1.4 to v2.5.0.post0. To apply the upgrade to your files permanently, run `python -m pytorch_lightning.utilities.upgrade_checkpoint c:\\Users\\colin\\OneDrive\\Desktop\\Jersey-Number-Recognition\\data\\pre_trained_models\\reid\\dukemtmcreid_resnet50_256_128_epoch_120.ckpt`\n"
     ]
    },
    {
     "name": "stdout",
     "output_type": "stream",
     "text": [
      "using GPU\n",
      "2025-03-22 21:32:24 [INFO] \n",
      "2025-03-22 21:32:24 [INFO] Done removing outliers\n",
      "2025-03-22 21:32:24 [INFO] Running model chain on preprocessed image(s).\n",
      "2025-03-22 21:32:24 [INFO] Classifying legibility of image(s) using pre-trained model.\n",
      "2025-03-22 21:32:24 [WARNING] No soccer ball list found. Skipping exclusion of soccer balls.\n",
      "2025-03-22 21:32:24 [INFO] Path checked: c:\\Users\\colin\\OneDrive\\Desktop\\Jersey-Number-Recognition\\data\\SoccerNet\\jersey-2023\\processed_data\\test\\common_data\\soccer_ball.json\n",
      "2025-03-22 21:32:30 [INFO] Saved features for tracklet with shape (601, 2048) to c:\\Users\\colin\\OneDrive\\Desktop\\Jersey-Number-Recognition\\data\\SoccerNet\\jersey-2023\\processed_data\\test\\18\\features.npy\n",
      "2025-03-22 21:32:30 [INFO] Identifying and removing outliers by calling gaussian_outliers_streamlined.py on feature file\n",
      "2025-03-22 21:32:33 [INFO] Saving legible_tracklets to: c:\\Users\\colin\\OneDrive\\Desktop\\Jersey-Number-Recognition\\data\\SoccerNet\\jersey-2023\\processed_data\\test\\11\\legible_results.json\n",
      "2025-03-22 21:32:33 [INFO] Saved legible_tracklets to: c:\\Users\\colin\\OneDrive\\Desktop\\Jersey-Number-Recognition\\data\\SoccerNet\\jersey-2023\\processed_data\\test\\11\\legible_results.json\n",
      "2025-03-22 21:32:33 [INFO] Saving illegible_tracklets to: c:\\Users\\colin\\OneDrive\\Desktop\\Jersey-Number-Recognition\\data\\SoccerNet\\jersey-2023\\processed_data\\test\\11\\illegible_results.json\n",
      "2025-03-22 21:32:33 [INFO] Saved illegible_tracklets to: c:\\Users\\colin\\OneDrive\\Desktop\\Jersey-Number-Recognition\\data\\SoccerNet\\jersey-2023\\processed_data\\test\\11\\illegible_results.json\n",
      "2025-03-22 21:32:33 [INFO] Legibility classification complete.\n",
      "2025-03-22 21:32:33 [INFO] Removed cached tracklet feature file (use_cache: False): c:\\Users\\colin\\OneDrive\\Desktop\\Jersey-Number-Recognition\\data\\SoccerNet\\jersey-2023\\processed_data\\test\\19\\features.npy\n",
      "2025-03-22 21:32:33 [INFO] Determine soccer balls in image(s) using pre-trained model.\n",
      "2025-03-22 21:32:33 [INFO] Processed tracklet: 11\n"
     ]
    },
    {
     "name": "stderr",
     "output_type": "stream",
     "text": []
    },
    {
     "name": "stdout",
     "output_type": "stream",
     "text": [
      "2025-03-22 21:32:33 [ERROR] Error processing tracklet 19: name 'track' is not defined\n",
      "2025-03-22 21:32:33 [INFO] Removed cached tracklet feature file (use_cache: False): c:\\Users\\colin\\OneDrive\\Desktop\\Jersey-Number-Recognition\\data\\SoccerNet\\jersey-2023\\processed_data\\test\\20\\features.npy\n",
      "2025-03-22 21:32:33 [INFO] Determine soccer balls in image(s) using pre-trained model.\n",
      "2025-03-22 21:32:33 [INFO] Found 0 balls, Ball list: []\n",
      "2025-03-22 21:32:33 [INFO] Saving legible_tracklets to: c:\\Users\\colin\\OneDrive\\Desktop\\Jersey-Number-Recognition\\data\\SoccerNet\\jersey-2023\\processed_data\\test\\14\\legible_results.json\n",
      "2025-03-22 21:32:33 [INFO] Saved legible_tracklets to: c:\\Users\\colin\\OneDrive\\Desktop\\Jersey-Number-Recognition\\data\\SoccerNet\\jersey-2023\\processed_data\\test\\14\\legible_results.json\n",
      "2025-03-22 21:32:33 [INFO] Saving illegible_tracklets to: c:\\Users\\colin\\OneDrive\\Desktop\\Jersey-Number-Recognition\\data\\SoccerNet\\jersey-2023\\processed_data\\test\\14\\illegible_results.json\n",
      "2025-03-22 21:32:33 [INFO] Saved illegible_tracklets to: c:\\Users\\colin\\OneDrive\\Desktop\\Jersey-Number-Recognition\\data\\SoccerNet\\jersey-2023\\processed_data\\test\\14\\illegible_results.json\n",
      "2025-03-22 21:32:33 [INFO] Legibility classification complete.\n",
      "2025-03-22 21:32:33 [INFO] Removed cached tracklet feature file (use_cache: False): c:\\Users\\colin\\OneDrive\\Desktop\\Jersey-Number-Recognition\\data\\SoccerNet\\jersey-2023\\processed_data\\test\\21\\features.npy\n",
      "2025-03-22 21:32:34 [INFO] Determine soccer balls in image(s) using pre-trained model.\n",
      "2025-03-22 21:32:33 [INFO] Processed tracklet: 14\n"
     ]
    },
    {
     "name": "stderr",
     "output_type": "stream",
     "text": []
    },
    {
     "name": "stdout",
     "output_type": "stream",
     "text": [
      "2025-03-22 21:32:34 [INFO] Found 0 balls, Ball list: []\n",
      "2025-03-22 21:32:34 [INFO] \n",
      "2025-03-22 21:32:34 [INFO] Done removing outliers\n",
      "2025-03-22 21:32:34 [INFO] Running model chain on preprocessed image(s).\n",
      "2025-03-22 21:32:34 [INFO] Classifying legibility of image(s) using pre-trained model.\n",
      "2025-03-22 21:32:34 [WARNING] No soccer ball list found. Skipping exclusion of soccer balls.\n",
      "2025-03-22 21:32:34 [INFO] Path checked: c:\\Users\\colin\\OneDrive\\Desktop\\Jersey-Number-Recognition\\data\\SoccerNet\\jersey-2023\\processed_data\\test\\common_data\\soccer_ball.json\n"
     ]
    },
    {
     "name": "stderr",
     "output_type": "stream",
     "text": [
      "Lightning automatically upgraded your loaded checkpoint from v1.1.4 to v2.5.0.post0. To apply the upgrade to your files permanently, run `python -m pytorch_lightning.utilities.upgrade_checkpoint c:\\Users\\colin\\OneDrive\\Desktop\\Jersey-Number-Recognition\\data\\pre_trained_models\\reid\\dukemtmcreid_resnet50_256_128_epoch_120.ckpt`\n"
     ]
    },
    {
     "name": "stdout",
     "output_type": "stream",
     "text": [
      "2025-03-22 21:32:35 [INFO] Saving legible_tracklets to: c:\\Users\\colin\\OneDrive\\Desktop\\Jersey-Number-Recognition\\data\\SoccerNet\\jersey-2023\\processed_data\\test\\15\\legible_results.json\n",
      "2025-03-22 21:32:35 [INFO] Saved legible_tracklets to: c:\\Users\\colin\\OneDrive\\Desktop\\Jersey-Number-Recognition\\data\\SoccerNet\\jersey-2023\\processed_data\\test\\15\\legible_results.json\n",
      "2025-03-22 21:32:35 [INFO] Saving illegible_tracklets to: c:\\Users\\colin\\OneDrive\\Desktop\\Jersey-Number-Recognition\\data\\SoccerNet\\jersey-2023\\processed_data\\test\\15\\illegible_results.json\n",
      "2025-03-22 21:32:35 [INFO] Saved illegible_tracklets to: c:\\Users\\colin\\OneDrive\\Desktop\\Jersey-Number-Recognition\\data\\SoccerNet\\jersey-2023\\processed_data\\test\\15\\illegible_results.json\n",
      "2025-03-22 21:32:35 [INFO] Legibility classification complete.\n",
      "2025-03-22 21:32:35 [INFO] Removed cached tracklet feature file (use_cache: False): c:\\Users\\colin\\OneDrive\\Desktop\\Jersey-Number-Recognition\\data\\SoccerNet\\jersey-2023\\processed_data\\test\\22\\features.npy\n",
      "2025-03-22 21:32:35 [INFO] Determine soccer balls in image(s) using pre-trained model.\n",
      "2025-03-22 21:32:35 [INFO] Processed tracklet: 15\n"
     ]
    },
    {
     "name": "stderr",
     "output_type": "stream",
     "text": [
      "Lightning automatically upgraded your loaded checkpoint from v1.1.4 to v2.5.0.post0. To apply the upgrade to your files permanently, run `python -m pytorch_lightning.utilities.upgrade_checkpoint c:\\Users\\colin\\OneDrive\\Desktop\\Jersey-Number-Recognition\\data\\pre_trained_models\\reid\\dukemtmcreid_resnet50_256_128_epoch_120.ckpt`\n"
     ]
    },
    {
     "name": "stdout",
     "output_type": "stream",
     "text": [
      "2025-03-22 21:32:35 [INFO] Found 0 balls, Ball list: []\n",
      "using GPU\n"
     ]
    },
    {
     "name": "stderr",
     "output_type": "stream",
     "text": [
      "Lightning automatically upgraded your loaded checkpoint from v1.1.4 to v2.5.0.post0. To apply the upgrade to your files permanently, run `python -m pytorch_lightning.utilities.upgrade_checkpoint c:\\Users\\colin\\OneDrive\\Desktop\\Jersey-Number-Recognition\\data\\pre_trained_models\\reid\\dukemtmcreid_resnet50_256_128_epoch_120.ckpt`\n"
     ]
    },
    {
     "name": "stdout",
     "output_type": "stream",
     "text": [
      "using GPU\n",
      "2025-03-22 21:32:38 [INFO] Saved features for tracklet with shape (132, 2048) to c:\\Users\\colin\\OneDrive\\Desktop\\Jersey-Number-Recognition\\data\\SoccerNet\\jersey-2023\\processed_data\\test\\20\\features.npy\n",
      "2025-03-22 21:32:38 [INFO] Identifying and removing outliers by calling gaussian_outliers_streamlined.py on feature file\n",
      "using GPU\n",
      "2025-03-22 21:32:39 [INFO] Saved features for tracklet with shape (145, 2048) to c:\\Users\\colin\\OneDrive\\Desktop\\Jersey-Number-Recognition\\data\\SoccerNet\\jersey-2023\\processed_data\\test\\21\\features.npy\n",
      "2025-03-22 21:32:39 [INFO] Identifying and removing outliers by calling gaussian_outliers_streamlined.py on feature file\n",
      "2025-03-22 21:32:41 [INFO] Saved features for tracklet with shape (144, 2048) to c:\\Users\\colin\\OneDrive\\Desktop\\Jersey-Number-Recognition\\data\\SoccerNet\\jersey-2023\\processed_data\\test\\22\\features.npy\n",
      "2025-03-22 21:32:41 [INFO] Identifying and removing outliers by calling gaussian_outliers_streamlined.py on feature file\n",
      "2025-03-22 21:32:41 [INFO] Saving legible_tracklets to: c:\\Users\\colin\\OneDrive\\Desktop\\Jersey-Number-Recognition\\data\\SoccerNet\\jersey-2023\\processed_data\\test\\16\\legible_results.json\n",
      "2025-03-22 21:32:41 [INFO] Saved legible_tracklets to: c:\\Users\\colin\\OneDrive\\Desktop\\Jersey-Number-Recognition\\data\\SoccerNet\\jersey-2023\\processed_data\\test\\16\\legible_results.json\n",
      "2025-03-22 21:32:41 [INFO] Saving illegible_tracklets to: c:\\Users\\colin\\OneDrive\\Desktop\\Jersey-Number-Recognition\\data\\SoccerNet\\jersey-2023\\processed_data\\test\\16\\illegible_results.json\n",
      "2025-03-22 21:32:41 [INFO] Saved illegible_tracklets to: c:\\Users\\colin\\OneDrive\\Desktop\\Jersey-Number-Recognition\\data\\SoccerNet\\jersey-2023\\processed_data\\test\\16\\illegible_results.json\n",
      "2025-03-22 21:32:41 [INFO] Legibility classification complete.\n",
      "2025-03-22 21:32:41 [INFO] Removed cached tracklet feature file (use_cache: False): c:\\Users\\colin\\OneDrive\\Desktop\\Jersey-Number-Recognition\\data\\SoccerNet\\jersey-2023\\processed_data\\test\\23\\features.npy\n",
      "2025-03-22 21:32:41 [INFO] Determine soccer balls in image(s) using pre-trained model.\n",
      "2025-03-22 21:32:41 [INFO] Processed tracklet: 16\n"
     ]
    },
    {
     "name": "stderr",
     "output_type": "stream",
     "text": []
    },
    {
     "name": "stdout",
     "output_type": "stream",
     "text": [
      "2025-03-22 21:32:41 [INFO] Found 0 balls, Ball list: []\n"
     ]
    },
    {
     "name": "stderr",
     "output_type": "stream",
     "text": [
      "Lightning automatically upgraded your loaded checkpoint from v1.1.4 to v2.5.0.post0. To apply the upgrade to your files permanently, run `python -m pytorch_lightning.utilities.upgrade_checkpoint c:\\Users\\colin\\OneDrive\\Desktop\\Jersey-Number-Recognition\\data\\pre_trained_models\\reid\\dukemtmcreid_resnet50_256_128_epoch_120.ckpt`\n"
     ]
    },
    {
     "name": "stdout",
     "output_type": "stream",
     "text": [
      "using GPU\n",
      "2025-03-22 21:32:44 [INFO] Saved features for tracklet with shape (131, 2048) to c:\\Users\\colin\\OneDrive\\Desktop\\Jersey-Number-Recognition\\data\\SoccerNet\\jersey-2023\\processed_data\\test\\23\\features.npy\n",
      "2025-03-22 21:32:44 [INFO] Identifying and removing outliers by calling gaussian_outliers_streamlined.py on feature file\n",
      "2025-03-22 21:32:44 [INFO] \n",
      "2025-03-22 21:32:44 [INFO] Done removing outliers\n",
      "2025-03-22 21:32:44 [INFO] Running model chain on preprocessed image(s).\n",
      "2025-03-22 21:32:44 [INFO] Classifying legibility of image(s) using pre-trained model.\n",
      "2025-03-22 21:32:44 [WARNING] No soccer ball list found. Skipping exclusion of soccer balls.\n",
      "2025-03-22 21:32:44 [INFO] Path checked: c:\\Users\\colin\\OneDrive\\Desktop\\Jersey-Number-Recognition\\data\\SoccerNet\\jersey-2023\\processed_data\\test\\common_data\\soccer_ball.json\n",
      "2025-03-22 21:32:52 [INFO] \n",
      "2025-03-22 21:32:52 [INFO] Done removing outliers\n",
      "2025-03-22 21:32:52 [INFO] Running model chain on preprocessed image(s).\n",
      "2025-03-22 21:32:52 [INFO] Classifying legibility of image(s) using pre-trained model.\n",
      "2025-03-22 21:32:52 [WARNING] No soccer ball list found. Skipping exclusion of soccer balls.\n",
      "2025-03-22 21:32:52 [INFO] Path checked: c:\\Users\\colin\\OneDrive\\Desktop\\Jersey-Number-Recognition\\data\\SoccerNet\\jersey-2023\\processed_data\\test\\common_data\\soccer_ball.json\n",
      "2025-03-22 21:32:54 [INFO] \n",
      "2025-03-22 21:32:54 [INFO] Done removing outliers\n",
      "2025-03-22 21:32:54 [INFO] Running model chain on preprocessed image(s).\n",
      "2025-03-22 21:32:54 [INFO] Classifying legibility of image(s) using pre-trained model.\n",
      "2025-03-22 21:32:54 [WARNING] No soccer ball list found. Skipping exclusion of soccer balls.\n",
      "2025-03-22 21:32:54 [INFO] Path checked: c:\\Users\\colin\\OneDrive\\Desktop\\Jersey-Number-Recognition\\data\\SoccerNet\\jersey-2023\\processed_data\\test\\common_data\\soccer_ball.json\n",
      "2025-03-22 21:32:56 [INFO] \n",
      "2025-03-22 21:32:56 [INFO] Done removing outliers\n",
      "2025-03-22 21:32:56 [INFO] Running model chain on preprocessed image(s).\n",
      "2025-03-22 21:32:56 [INFO] Classifying legibility of image(s) using pre-trained model.\n",
      "2025-03-22 21:32:56 [WARNING] No soccer ball list found. Skipping exclusion of soccer balls.\n",
      "2025-03-22 21:32:56 [INFO] Path checked: c:\\Users\\colin\\OneDrive\\Desktop\\Jersey-Number-Recognition\\data\\SoccerNet\\jersey-2023\\processed_data\\test\\common_data\\soccer_ball.json\n",
      "2025-03-22 21:33:00 [INFO] Saving legible_tracklets to: c:\\Users\\colin\\OneDrive\\Desktop\\Jersey-Number-Recognition\\data\\SoccerNet\\jersey-2023\\processed_data\\test\\18\\legible_results.json\n",
      "2025-03-22 21:33:00 [INFO] Saved legible_tracklets to: c:\\Users\\colin\\OneDrive\\Desktop\\Jersey-Number-Recognition\\data\\SoccerNet\\jersey-2023\\processed_data\\test\\18\\legible_results.json\n",
      "2025-03-22 21:33:00 [INFO] Saving illegible_tracklets to: c:\\Users\\colin\\OneDrive\\Desktop\\Jersey-Number-Recognition\\data\\SoccerNet\\jersey-2023\\processed_data\\test\\18\\illegible_results.json\n",
      "2025-03-22 21:33:00 [INFO] Saved illegible_tracklets to: c:\\Users\\colin\\OneDrive\\Desktop\\Jersey-Number-Recognition\\data\\SoccerNet\\jersey-2023\\processed_data\\test\\18\\illegible_results.json\n",
      "2025-03-22 21:33:00 [INFO] Legibility classification complete.\n",
      "2025-03-22 21:33:00 [INFO] Processed tracklet: 18\n",
      "2025-03-22 21:33:00 [INFO] Removed cached tracklet feature file (use_cache: False): c:\\Users\\colin\\OneDrive\\Desktop\\Jersey-Number-Recognition\\data\\SoccerNet\\jersey-2023\\processed_data\\test\\24\\features.npy\n"
     ]
    },
    {
     "name": "stderr",
     "output_type": "stream",
     "text": [
      "\n"
     ]
    },
    {
     "name": "stdout",
     "output_type": "stream",
     "text": [
      "2025-03-22 21:33:00 [INFO] Determine soccer balls in image(s) using pre-trained model.\n"
     ]
    },
    {
     "name": "stderr",
     "output_type": "stream",
     "text": [
      "Processing Batch Tracklets:  59%|█████▉    | 19/32 [02:57<01:51,  8.57s/it]\u001b[A"
     ]
    },
    {
     "name": "stdout",
     "output_type": "stream",
     "text": [
      "2025-03-22 21:33:00 [INFO] Found 0 balls, Ball list: []\n",
      "2025-03-22 21:33:00 [INFO] \n",
      "2025-03-22 21:33:00 [INFO] Done removing outliers\n",
      "2025-03-22 21:33:00 [INFO] Running model chain on preprocessed image(s).\n",
      "2025-03-22 21:33:00 [INFO] Classifying legibility of image(s) using pre-trained model.\n",
      "2025-03-22 21:33:00 [WARNING] No soccer ball list found. Skipping exclusion of soccer balls.\n",
      "2025-03-22 21:33:00 [INFO] Path checked: c:\\Users\\colin\\OneDrive\\Desktop\\Jersey-Number-Recognition\\data\\SoccerNet\\jersey-2023\\processed_data\\test\\common_data\\soccer_ball.json\n"
     ]
    },
    {
     "name": "stderr",
     "output_type": "stream",
     "text": [
      "Lightning automatically upgraded your loaded checkpoint from v1.1.4 to v2.5.0.post0. To apply the upgrade to your files permanently, run `python -m pytorch_lightning.utilities.upgrade_checkpoint c:\\Users\\colin\\OneDrive\\Desktop\\Jersey-Number-Recognition\\data\\pre_trained_models\\reid\\dukemtmcreid_resnet50_256_128_epoch_120.ckpt`\n"
     ]
    },
    {
     "name": "stdout",
     "output_type": "stream",
     "text": [
      "using GPU\n",
      "2025-03-22 21:33:04 [INFO] Saved features for tracklet with shape (124, 2048) to c:\\Users\\colin\\OneDrive\\Desktop\\Jersey-Number-Recognition\\data\\SoccerNet\\jersey-2023\\processed_data\\test\\24\\features.npy\n",
      "2025-03-22 21:33:04 [INFO] Identifying and removing outliers by calling gaussian_outliers_streamlined.py on feature file\n",
      "2025-03-22 21:33:08 [INFO] Saving legible_tracklets to: c:\\Users\\colin\\OneDrive\\Desktop\\Jersey-Number-Recognition\\data\\SoccerNet\\jersey-2023\\processed_data\\test\\20\\legible_results.json\n",
      "2025-03-22 21:33:08 [INFO] Saved legible_tracklets to: c:\\Users\\colin\\OneDrive\\Desktop\\Jersey-Number-Recognition\\data\\SoccerNet\\jersey-2023\\processed_data\\test\\20\\legible_results.json\n",
      "2025-03-22 21:33:08 [INFO] Saving illegible_tracklets to: c:\\Users\\colin\\OneDrive\\Desktop\\Jersey-Number-Recognition\\data\\SoccerNet\\jersey-2023\\processed_data\\test\\20\\illegible_results.json\n",
      "2025-03-22 21:33:08 [INFO] Saved illegible_tracklets to: c:\\Users\\colin\\OneDrive\\Desktop\\Jersey-Number-Recognition\\data\\SoccerNet\\jersey-2023\\processed_data\\test\\20\\illegible_results.json\n",
      "2025-03-22 21:33:08 [INFO] Legibility classification complete.\n",
      "2025-03-22 21:33:08 [INFO] Processed tracklet: 20\n"
     ]
    },
    {
     "name": "stderr",
     "output_type": "stream",
     "text": [
      "\n"
     ]
    },
    {
     "name": "stdout",
     "output_type": "stream",
     "text": [
      "2025-03-22 21:33:08 [INFO] Removed cached tracklet feature file (use_cache: False): c:\\Users\\colin\\OneDrive\\Desktop\\Jersey-Number-Recognition\\data\\SoccerNet\\jersey-2023\\processed_data\\test\\25\\features.npy\n"
     ]
    },
    {
     "name": "stderr",
     "output_type": "stream",
     "text": [
      "Processing Batch Tracklets:  62%|██████▎   | 20/32 [03:06<01:42,  8.52s/it]"
     ]
    },
    {
     "name": "stdout",
     "output_type": "stream",
     "text": [
      "2025-03-22 21:33:08 [INFO] Determine soccer balls in image(s) using pre-trained model.\n"
     ]
    },
    {
     "name": "stderr",
     "output_type": "stream",
     "text": [
      "\u001b[A"
     ]
    },
    {
     "name": "stdout",
     "output_type": "stream",
     "text": [
      "2025-03-22 21:33:08 [INFO] Found 0 balls, Ball list: []\n"
     ]
    },
    {
     "name": "stderr",
     "output_type": "stream",
     "text": [
      "Lightning automatically upgraded your loaded checkpoint from v1.1.4 to v2.5.0.post0. To apply the upgrade to your files permanently, run `python -m pytorch_lightning.utilities.upgrade_checkpoint c:\\Users\\colin\\OneDrive\\Desktop\\Jersey-Number-Recognition\\data\\pre_trained_models\\reid\\dukemtmcreid_resnet50_256_128_epoch_120.ckpt`\n"
     ]
    },
    {
     "name": "stdout",
     "output_type": "stream",
     "text": [
      "using GPU\n",
      "2025-03-22 21:33:11 [INFO] Saving legible_tracklets to: c:\\Users\\colin\\OneDrive\\Desktop\\Jersey-Number-Recognition\\data\\SoccerNet\\jersey-2023\\processed_data\\test\\21\\legible_results.json\n",
      "2025-03-22 21:33:11 [INFO] Saved legible_tracklets to: c:\\Users\\colin\\OneDrive\\Desktop\\Jersey-Number-Recognition\\data\\SoccerNet\\jersey-2023\\processed_data\\test\\21\\legible_results.json\n",
      "2025-03-22 21:33:11 [INFO] Saving illegible_tracklets to: c:\\Users\\colin\\OneDrive\\Desktop\\Jersey-Number-Recognition\\data\\SoccerNet\\jersey-2023\\processed_data\\test\\21\\illegible_results.json\n",
      "2025-03-22 21:33:11 [INFO] Saved illegible_tracklets to: c:\\Users\\colin\\OneDrive\\Desktop\\Jersey-Number-Recognition\\data\\SoccerNet\\jersey-2023\\processed_data\\test\\21\\illegible_results.json\n",
      "2025-03-22 21:33:11 [INFO] Legibility classification complete.\n",
      "2025-03-22 21:33:11 [INFO] Removed cached tracklet feature file (use_cache: False): c:\\Users\\colin\\OneDrive\\Desktop\\Jersey-Number-Recognition\\data\\SoccerNet\\jersey-2023\\processed_data\\test\\26\\features.npy\n",
      "2025-03-22 21:33:11 [INFO] Determine soccer balls in image(s) using pre-trained model.\n",
      "2025-03-22 21:33:11 [INFO] Processed tracklet: 21\n"
     ]
    },
    {
     "name": "stderr",
     "output_type": "stream",
     "text": []
    },
    {
     "name": "stdout",
     "output_type": "stream",
     "text": [
      "2025-03-22 21:33:11 [INFO] Found 0 balls, Ball list: []\n",
      "2025-03-22 21:33:11 [INFO] Saved features for tracklet with shape (123, 2048) to c:\\Users\\colin\\OneDrive\\Desktop\\Jersey-Number-Recognition\\data\\SoccerNet\\jersey-2023\\processed_data\\test\\25\\features.npy\n",
      "2025-03-22 21:33:11 [INFO] Identifying and removing outliers by calling gaussian_outliers_streamlined.py on feature file\n"
     ]
    },
    {
     "name": "stderr",
     "output_type": "stream",
     "text": [
      "Lightning automatically upgraded your loaded checkpoint from v1.1.4 to v2.5.0.post0. To apply the upgrade to your files permanently, run `python -m pytorch_lightning.utilities.upgrade_checkpoint c:\\Users\\colin\\OneDrive\\Desktop\\Jersey-Number-Recognition\\data\\pre_trained_models\\reid\\dukemtmcreid_resnet50_256_128_epoch_120.ckpt`\n"
     ]
    },
    {
     "name": "stdout",
     "output_type": "stream",
     "text": [
      "2025-03-22 21:33:12 [INFO] Saving legible_tracklets to: c:\\Users\\colin\\OneDrive\\Desktop\\Jersey-Number-Recognition\\data\\SoccerNet\\jersey-2023\\processed_data\\test\\22\\legible_results.json\n",
      "2025-03-22 21:33:12 [INFO] Saved legible_tracklets to: c:\\Users\\colin\\OneDrive\\Desktop\\Jersey-Number-Recognition\\data\\SoccerNet\\jersey-2023\\processed_data\\test\\22\\legible_results.json\n",
      "2025-03-22 21:33:12 [INFO] Saving illegible_tracklets to: c:\\Users\\colin\\OneDrive\\Desktop\\Jersey-Number-Recognition\\data\\SoccerNet\\jersey-2023\\processed_data\\test\\22\\illegible_results.json\n",
      "2025-03-22 21:33:12 [INFO] Saved illegible_tracklets to: c:\\Users\\colin\\OneDrive\\Desktop\\Jersey-Number-Recognition\\data\\SoccerNet\\jersey-2023\\processed_data\\test\\22\\illegible_results.json\n",
      "2025-03-22 21:33:12 [INFO] Legibility classification complete.\n",
      "2025-03-22 21:33:12 [INFO] Removed cached tracklet feature file (use_cache: False): c:\\Users\\colin\\OneDrive\\Desktop\\Jersey-Number-Recognition\\data\\SoccerNet\\jersey-2023\\processed_data\\test\\27\\features.npy\n",
      "2025-03-22 21:33:12 [INFO] Determine soccer balls in image(s) using pre-trained model.\n",
      "2025-03-22 21:33:12 [INFO] Processed tracklet: 22\n"
     ]
    },
    {
     "name": "stderr",
     "output_type": "stream",
     "text": []
    },
    {
     "name": "stdout",
     "output_type": "stream",
     "text": [
      "2025-03-22 21:33:12 [INFO] Found 0 balls, Ball list: []\n"
     ]
    },
    {
     "name": "stderr",
     "output_type": "stream",
     "text": [
      "Lightning automatically upgraded your loaded checkpoint from v1.1.4 to v2.5.0.post0. To apply the upgrade to your files permanently, run `python -m pytorch_lightning.utilities.upgrade_checkpoint c:\\Users\\colin\\OneDrive\\Desktop\\Jersey-Number-Recognition\\data\\pre_trained_models\\reid\\dukemtmcreid_resnet50_256_128_epoch_120.ckpt`\n"
     ]
    },
    {
     "name": "stdout",
     "output_type": "stream",
     "text": [
      "using GPU\n",
      "using GPU\n",
      "2025-03-22 21:33:16 [INFO] Saved features for tracklet with shape (120, 2048) to c:\\Users\\colin\\OneDrive\\Desktop\\Jersey-Number-Recognition\\data\\SoccerNet\\jersey-2023\\processed_data\\test\\26\\features.npy\n",
      "2025-03-22 21:33:16 [INFO] Identifying and removing outliers by calling gaussian_outliers_streamlined.py on feature file\n",
      "2025-03-22 21:33:18 [INFO] \n",
      "2025-03-22 21:33:18 [INFO] Done removing outliers\n",
      "2025-03-22 21:33:18 [INFO] Running model chain on preprocessed image(s).\n",
      "2025-03-22 21:33:18 [INFO] Classifying legibility of image(s) using pre-trained model.\n",
      "2025-03-22 21:33:18 [WARNING] No soccer ball list found. Skipping exclusion of soccer balls.\n",
      "2025-03-22 21:33:18 [INFO] Path checked: c:\\Users\\colin\\OneDrive\\Desktop\\Jersey-Number-Recognition\\data\\SoccerNet\\jersey-2023\\processed_data\\test\\common_data\\soccer_ball.json\n",
      "2025-03-22 21:33:19 [INFO] Saving legible_tracklets to: c:\\Users\\colin\\OneDrive\\Desktop\\Jersey-Number-Recognition\\data\\SoccerNet\\jersey-2023\\processed_data\\test\\23\\legible_results.json\n",
      "2025-03-22 21:33:19 [INFO] Saved legible_tracklets to: c:\\Users\\colin\\OneDrive\\Desktop\\Jersey-Number-Recognition\\data\\SoccerNet\\jersey-2023\\processed_data\\test\\23\\legible_results.json\n",
      "2025-03-22 21:33:19 [INFO] Saving illegible_tracklets to: c:\\Users\\colin\\OneDrive\\Desktop\\Jersey-Number-Recognition\\data\\SoccerNet\\jersey-2023\\processed_data\\test\\23\\illegible_results.json\n",
      "2025-03-22 21:33:19 [INFO] Saved illegible_tracklets to: c:\\Users\\colin\\OneDrive\\Desktop\\Jersey-Number-Recognition\\data\\SoccerNet\\jersey-2023\\processed_data\\test\\23\\illegible_results.json\n",
      "2025-03-22 21:33:19 [INFO] Legibility classification complete.\n",
      "2025-03-22 21:33:19 [INFO] Processed tracklet: 23\n"
     ]
    },
    {
     "name": "stderr",
     "output_type": "stream",
     "text": [
      "\n"
     ]
    },
    {
     "name": "stdout",
     "output_type": "stream",
     "text": [
      "2025-03-22 21:33:19 [INFO] Removed cached tracklet feature file (use_cache: False): c:\\Users\\colin\\OneDrive\\Desktop\\Jersey-Number-Recognition\\data\\SoccerNet\\jersey-2023\\processed_data\\test\\28\\features.npy\n"
     ]
    },
    {
     "name": "stderr",
     "output_type": "stream",
     "text": [
      "Processing Batch Tracklets:  72%|███████▏  | 23/32 [03:17<00:52,  5.82s/it]"
     ]
    },
    {
     "name": "stdout",
     "output_type": "stream",
     "text": [
      "2025-03-22 21:33:19 [INFO] Determine soccer balls in image(s) using pre-trained model.\n"
     ]
    },
    {
     "name": "stderr",
     "output_type": "stream",
     "text": [
      "\u001b[A"
     ]
    },
    {
     "name": "stdout",
     "output_type": "stream",
     "text": [
      "2025-03-22 21:33:19 [INFO] Found 0 balls, Ball list: []\n",
      "2025-03-22 21:33:20 [INFO] Saved features for tracklet with shape (563, 2048) to c:\\Users\\colin\\OneDrive\\Desktop\\Jersey-Number-Recognition\\data\\SoccerNet\\jersey-2023\\processed_data\\test\\27\\features.npy\n",
      "2025-03-22 21:33:20 [INFO] Identifying and removing outliers by calling gaussian_outliers_streamlined.py on feature file\n"
     ]
    },
    {
     "name": "stderr",
     "output_type": "stream",
     "text": [
      "Lightning automatically upgraded your loaded checkpoint from v1.1.4 to v2.5.0.post0. To apply the upgrade to your files permanently, run `python -m pytorch_lightning.utilities.upgrade_checkpoint c:\\Users\\colin\\OneDrive\\Desktop\\Jersey-Number-Recognition\\data\\pre_trained_models\\reid\\dukemtmcreid_resnet50_256_128_epoch_120.ckpt`\n"
     ]
    },
    {
     "name": "stdout",
     "output_type": "stream",
     "text": [
      "using GPU\n",
      "2025-03-22 21:33:22 [INFO] \n",
      "2025-03-22 21:33:22 [INFO] Done removing outliers\n",
      "2025-03-22 21:33:22 [INFO] Running model chain on preprocessed image(s).\n",
      "2025-03-22 21:33:22 [INFO] Classifying legibility of image(s) using pre-trained model.\n",
      "2025-03-22 21:33:22 [WARNING] No soccer ball list found. Skipping exclusion of soccer balls.\n",
      "2025-03-22 21:33:22 [INFO] Path checked: c:\\Users\\colin\\OneDrive\\Desktop\\Jersey-Number-Recognition\\data\\SoccerNet\\jersey-2023\\processed_data\\test\\common_data\\soccer_ball.json\n",
      "2025-03-22 21:33:26 [INFO] Saving legible_tracklets to: c:\\Users\\colin\\OneDrive\\Desktop\\Jersey-Number-Recognition\\data\\SoccerNet\\jersey-2023\\processed_data\\test\\17\\legible_results.json\n",
      "2025-03-22 21:33:26 [INFO] Saved legible_tracklets to: c:\\Users\\colin\\OneDrive\\Desktop\\Jersey-Number-Recognition\\data\\SoccerNet\\jersey-2023\\processed_data\\test\\17\\legible_results.json\n",
      "2025-03-22 21:33:26 [INFO] Saving illegible_tracklets to: c:\\Users\\colin\\OneDrive\\Desktop\\Jersey-Number-Recognition\\data\\SoccerNet\\jersey-2023\\processed_data\\test\\17\\illegible_results.json\n",
      "2025-03-22 21:33:26 [INFO] Saved illegible_tracklets to: c:\\Users\\colin\\OneDrive\\Desktop\\Jersey-Number-Recognition\\data\\SoccerNet\\jersey-2023\\processed_data\\test\\17\\illegible_results.json\n",
      "2025-03-22 21:33:26 [INFO] Legibility classification complete.\n",
      "2025-03-22 21:33:26 [INFO] Processed tracklet: 17\n"
     ]
    },
    {
     "name": "stderr",
     "output_type": "stream",
     "text": [
      "\n"
     ]
    },
    {
     "name": "stdout",
     "output_type": "stream",
     "text": [
      "2025-03-22 21:33:26 [INFO] Removed cached tracklet feature file (use_cache: False): c:\\Users\\colin\\OneDrive\\Desktop\\Jersey-Number-Recognition\\data\\SoccerNet\\jersey-2023\\processed_data\\test\\29\\features.npy\n",
      "2025-03-22 21:33:26 [INFO] Determine soccer balls in image(s) using pre-trained model.\n"
     ]
    },
    {
     "name": "stderr",
     "output_type": "stream",
     "text": [
      "Processing Batch Tracklets:  75%|███████▌  | 24/32 [03:24<00:49,  6.18s/it]\u001b[A"
     ]
    },
    {
     "name": "stdout",
     "output_type": "stream",
     "text": [
      "2025-03-22 21:33:26 [INFO] Found 0 balls, Ball list: []\n",
      "2025-03-22 21:33:27 [INFO] \n",
      "2025-03-22 21:33:27 [INFO] Done removing outliers\n",
      "2025-03-22 21:33:27 [INFO] Running model chain on preprocessed image(s).\n",
      "2025-03-22 21:33:27 [INFO] Classifying legibility of image(s) using pre-trained model.\n",
      "2025-03-22 21:33:27 [WARNING] No soccer ball list found. Skipping exclusion of soccer balls.\n",
      "2025-03-22 21:33:27 [INFO] Path checked: c:\\Users\\colin\\OneDrive\\Desktop\\Jersey-Number-Recognition\\data\\SoccerNet\\jersey-2023\\processed_data\\test\\common_data\\soccer_ball.json\n",
      "2025-03-22 21:33:28 [INFO] Saved features for tracklet with shape (595, 2048) to c:\\Users\\colin\\OneDrive\\Desktop\\Jersey-Number-Recognition\\data\\SoccerNet\\jersey-2023\\processed_data\\test\\28\\features.npy\n",
      "2025-03-22 21:33:28 [INFO] Identifying and removing outliers by calling gaussian_outliers_streamlined.py on feature file\n"
     ]
    },
    {
     "name": "stderr",
     "output_type": "stream",
     "text": [
      "Lightning automatically upgraded your loaded checkpoint from v1.1.4 to v2.5.0.post0. To apply the upgrade to your files permanently, run `python -m pytorch_lightning.utilities.upgrade_checkpoint c:\\Users\\colin\\OneDrive\\Desktop\\Jersey-Number-Recognition\\data\\pre_trained_models\\reid\\dukemtmcreid_resnet50_256_128_epoch_120.ckpt`\n"
     ]
    },
    {
     "name": "stdout",
     "output_type": "stream",
     "text": [
      "using GPU\n",
      "2025-03-22 21:33:33 [INFO] Saving legible_tracklets to: c:\\Users\\colin\\OneDrive\\Desktop\\Jersey-Number-Recognition\\data\\SoccerNet\\jersey-2023\\processed_data\\test\\24\\legible_results.json\n",
      "2025-03-22 21:33:33 [INFO] Saved legible_tracklets to: c:\\Users\\colin\\OneDrive\\Desktop\\Jersey-Number-Recognition\\data\\SoccerNet\\jersey-2023\\processed_data\\test\\24\\legible_results.json\n",
      "2025-03-22 21:33:33 [INFO] Saving illegible_tracklets to: c:\\Users\\colin\\OneDrive\\Desktop\\Jersey-Number-Recognition\\data\\SoccerNet\\jersey-2023\\processed_data\\test\\24\\illegible_results.json\n",
      "2025-03-22 21:33:33 [INFO] Saved illegible_tracklets to: c:\\Users\\colin\\OneDrive\\Desktop\\Jersey-Number-Recognition\\data\\SoccerNet\\jersey-2023\\processed_data\\test\\24\\illegible_results.json\n",
      "2025-03-22 21:33:33 [INFO] Legibility classification complete.\n",
      "2025-03-22 21:33:33 [INFO] Removed cached tracklet feature file (use_cache: False): c:\\Users\\colin\\OneDrive\\Desktop\\Jersey-Number-Recognition\\data\\SoccerNet\\jersey-2023\\processed_data\\test\\30\\features.npy\n",
      "2025-03-22 21:33:33 [INFO] Determine soccer balls in image(s) using pre-trained model.\n",
      "2025-03-22 21:33:33 [INFO] Processed tracklet: 24\n"
     ]
    },
    {
     "name": "stderr",
     "output_type": "stream",
     "text": []
    },
    {
     "name": "stdout",
     "output_type": "stream",
     "text": [
      "2025-03-22 21:33:33 [INFO] Found 0 balls, Ball list: []\n",
      "2025-03-22 21:33:35 [INFO] \n",
      "2025-03-22 21:33:35 [INFO] Done removing outliers\n",
      "2025-03-22 21:33:35 [INFO] Running model chain on preprocessed image(s).\n",
      "2025-03-22 21:33:35 [INFO] Classifying legibility of image(s) using pre-trained model.\n",
      "2025-03-22 21:33:35 [WARNING] No soccer ball list found. Skipping exclusion of soccer balls.\n",
      "2025-03-22 21:33:35 [INFO] Path checked: c:\\Users\\colin\\OneDrive\\Desktop\\Jersey-Number-Recognition\\data\\SoccerNet\\jersey-2023\\processed_data\\test\\common_data\\soccer_ball.json\n",
      "2025-03-22 21:33:35 [INFO] Saved features for tracklet with shape (440, 2048) to c:\\Users\\colin\\OneDrive\\Desktop\\Jersey-Number-Recognition\\data\\SoccerNet\\jersey-2023\\processed_data\\test\\29\\features.npy\n",
      "2025-03-22 21:33:35 [INFO] Identifying and removing outliers by calling gaussian_outliers_streamlined.py on feature file\n"
     ]
    },
    {
     "name": "stderr",
     "output_type": "stream",
     "text": [
      "Lightning automatically upgraded your loaded checkpoint from v1.1.4 to v2.5.0.post0. To apply the upgrade to your files permanently, run `python -m pytorch_lightning.utilities.upgrade_checkpoint c:\\Users\\colin\\OneDrive\\Desktop\\Jersey-Number-Recognition\\data\\pre_trained_models\\reid\\dukemtmcreid_resnet50_256_128_epoch_120.ckpt`\n"
     ]
    },
    {
     "name": "stdout",
     "output_type": "stream",
     "text": [
      "using GPU\n",
      "2025-03-22 21:33:40 [INFO] Saving legible_tracklets to: c:\\Users\\colin\\OneDrive\\Desktop\\Jersey-Number-Recognition\\data\\SoccerNet\\jersey-2023\\processed_data\\test\\25\\legible_results.json\n",
      "2025-03-22 21:33:40 [INFO] Saved legible_tracklets to: c:\\Users\\colin\\OneDrive\\Desktop\\Jersey-Number-Recognition\\data\\SoccerNet\\jersey-2023\\processed_data\\test\\25\\legible_results.json\n",
      "2025-03-22 21:33:40 [INFO] Saving illegible_tracklets to: c:\\Users\\colin\\OneDrive\\Desktop\\Jersey-Number-Recognition\\data\\SoccerNet\\jersey-2023\\processed_data\\test\\25\\illegible_results.json\n",
      "2025-03-22 21:33:40 [INFO] Saved illegible_tracklets to: c:\\Users\\colin\\OneDrive\\Desktop\\Jersey-Number-Recognition\\data\\SoccerNet\\jersey-2023\\processed_data\\test\\25\\illegible_results.json\n",
      "2025-03-22 21:33:40 [INFO] Legibility classification complete.\n",
      "2025-03-22 21:33:40 [INFO] Processed tracklet: 25\n",
      "2025-03-22 21:33:40 [INFO] Removed cached tracklet feature file (use_cache: False): c:\\Users\\colin\\OneDrive\\Desktop\\Jersey-Number-Recognition\\data\\SoccerNet\\jersey-2023\\processed_data\\test\\31\\features.npy\n"
     ]
    },
    {
     "name": "stderr",
     "output_type": "stream",
     "text": [
      "\n",
      "Processing Batch Tracklets:  81%|████████▏ | 26/32 [03:38<00:39,  6.64s/it]"
     ]
    },
    {
     "name": "stdout",
     "output_type": "stream",
     "text": [
      "2025-03-22 21:33:40 [INFO] Determine soccer balls in image(s) using pre-trained model.\n"
     ]
    },
    {
     "name": "stderr",
     "output_type": "stream",
     "text": [
      "\u001b[A"
     ]
    },
    {
     "name": "stdout",
     "output_type": "stream",
     "text": [
      "2025-03-22 21:33:40 [INFO] Found 0 balls, Ball list: []\n",
      "2025-03-22 21:33:42 [INFO] Saving legible_tracklets to: c:\\Users\\colin\\OneDrive\\Desktop\\Jersey-Number-Recognition\\data\\SoccerNet\\jersey-2023\\processed_data\\test\\26\\legible_results.json\n",
      "2025-03-22 21:33:42 [INFO] Saved legible_tracklets to: c:\\Users\\colin\\OneDrive\\Desktop\\Jersey-Number-Recognition\\data\\SoccerNet\\jersey-2023\\processed_data\\test\\26\\legible_results.json\n",
      "2025-03-22 21:33:42 [INFO] Saving illegible_tracklets to: c:\\Users\\colin\\OneDrive\\Desktop\\Jersey-Number-Recognition\\data\\SoccerNet\\jersey-2023\\processed_data\\test\\26\\illegible_results.json\n",
      "2025-03-22 21:33:42 [INFO] Saved features for tracklet with shape (404, 2048) to c:\\Users\\colin\\OneDrive\\Desktop\\Jersey-Number-Recognition\\data\\SoccerNet\\jersey-2023\\processed_data\\test\\30\\features.npy\n",
      "2025-03-22 21:33:42 [INFO] Saved illegible_tracklets to: c:\\Users\\colin\\OneDrive\\Desktop\\Jersey-Number-Recognition\\data\\SoccerNet\\jersey-2023\\processed_data\\test\\26\\illegible_results.json\n",
      "2025-03-22 21:33:42 [INFO] Legibility classification complete.\n",
      "2025-03-22 21:33:42 [INFO] Processed tracklet: 26\n"
     ]
    },
    {
     "name": "stderr",
     "output_type": "stream",
     "text": []
    },
    {
     "name": "stdout",
     "output_type": "stream",
     "text": [
      "2025-03-22 21:33:42 [INFO] Identifying and removing outliers by calling gaussian_outliers_streamlined.py on feature file\n"
     ]
    },
    {
     "name": "stderr",
     "output_type": "stream",
     "text": [
      "Lightning automatically upgraded your loaded checkpoint from v1.1.4 to v2.5.0.post0. To apply the upgrade to your files permanently, run `python -m pytorch_lightning.utilities.upgrade_checkpoint c:\\Users\\colin\\OneDrive\\Desktop\\Jersey-Number-Recognition\\data\\pre_trained_models\\reid\\dukemtmcreid_resnet50_256_128_epoch_120.ckpt`\n"
     ]
    },
    {
     "name": "stdout",
     "output_type": "stream",
     "text": [
      "using GPU\n",
      "2025-03-22 21:33:44 [INFO] \n",
      "2025-03-22 21:33:44 [INFO] Done removing outliers\n",
      "2025-03-22 21:33:44 [INFO] Running model chain on preprocessed image(s).\n",
      "2025-03-22 21:33:44 [INFO] Classifying legibility of image(s) using pre-trained model.\n",
      "2025-03-22 21:33:44 [WARNING] No soccer ball list found. Skipping exclusion of soccer balls.\n",
      "2025-03-22 21:33:44 [INFO] Path checked: c:\\Users\\colin\\OneDrive\\Desktop\\Jersey-Number-Recognition\\data\\SoccerNet\\jersey-2023\\processed_data\\test\\common_data\\soccer_ball.json\n",
      "2025-03-22 21:33:48 [INFO] \n",
      "2025-03-22 21:33:48 [INFO] Done removing outliers\n",
      "2025-03-22 21:33:48 [INFO] Running model chain on preprocessed image(s).\n",
      "2025-03-22 21:33:48 [INFO] Classifying legibility of image(s) using pre-trained model.\n",
      "2025-03-22 21:33:48 [WARNING] No soccer ball list found. Skipping exclusion of soccer balls.\n",
      "2025-03-22 21:33:48 [INFO] Path checked: c:\\Users\\colin\\OneDrive\\Desktop\\Jersey-Number-Recognition\\data\\SoccerNet\\jersey-2023\\processed_data\\test\\common_data\\soccer_ball.json\n",
      "2025-03-22 21:33:48 [INFO] Saved features for tracklet with shape (431, 2048) to c:\\Users\\colin\\OneDrive\\Desktop\\Jersey-Number-Recognition\\data\\SoccerNet\\jersey-2023\\processed_data\\test\\31\\features.npy\n",
      "2025-03-22 21:33:48 [INFO] Identifying and removing outliers by calling gaussian_outliers_streamlined.py on feature file\n",
      "2025-03-22 21:33:51 [INFO] Saving legible_tracklets to: c:\\Users\\colin\\OneDrive\\Desktop\\Jersey-Number-Recognition\\data\\SoccerNet\\jersey-2023\\processed_data\\test\\27\\legible_results.json\n",
      "2025-03-22 21:33:51 [INFO] Saved legible_tracklets to: c:\\Users\\colin\\OneDrive\\Desktop\\Jersey-Number-Recognition\\data\\SoccerNet\\jersey-2023\\processed_data\\test\\27\\legible_results.json\n",
      "2025-03-22 21:33:51 [INFO] Saving illegible_tracklets to: c:\\Users\\colin\\OneDrive\\Desktop\\Jersey-Number-Recognition\\data\\SoccerNet\\jersey-2023\\processed_data\\test\\27\\illegible_results.json\n",
      "2025-03-22 21:33:51 [INFO] Saved illegible_tracklets to: c:\\Users\\colin\\OneDrive\\Desktop\\Jersey-Number-Recognition\\data\\SoccerNet\\jersey-2023\\processed_data\\test\\27\\illegible_results.json\n",
      "2025-03-22 21:33:51 [INFO] Legibility classification complete.\n",
      "2025-03-22 21:33:51 [INFO] Processed tracklet: 27\n"
     ]
    },
    {
     "name": "stderr",
     "output_type": "stream",
     "text": []
    },
    {
     "name": "stdout",
     "output_type": "stream",
     "text": [
      "2025-03-22 21:33:54 [INFO] \n",
      "2025-03-22 21:33:54 [INFO] Done removing outliers\n",
      "2025-03-22 21:33:54 [INFO] Running model chain on preprocessed image(s).\n",
      "2025-03-22 21:33:54 [INFO] Classifying legibility of image(s) using pre-trained model.\n",
      "2025-03-22 21:33:54 [WARNING] No soccer ball list found. Skipping exclusion of soccer balls.\n",
      "2025-03-22 21:33:54 [INFO] Path checked: c:\\Users\\colin\\OneDrive\\Desktop\\Jersey-Number-Recognition\\data\\SoccerNet\\jersey-2023\\processed_data\\test\\common_data\\soccer_ball.json\n",
      "2025-03-22 21:34:03 [INFO] Saving legible_tracklets to: c:\\Users\\colin\\OneDrive\\Desktop\\Jersey-Number-Recognition\\data\\SoccerNet\\jersey-2023\\processed_data\\test\\28\\legible_results.json\n",
      "2025-03-22 21:34:03 [INFO] Saved legible_tracklets to: c:\\Users\\colin\\OneDrive\\Desktop\\Jersey-Number-Recognition\\data\\SoccerNet\\jersey-2023\\processed_data\\test\\28\\legible_results.json\n",
      "2025-03-22 21:34:03 [INFO] Saving illegible_tracklets to: c:\\Users\\colin\\OneDrive\\Desktop\\Jersey-Number-Recognition\\data\\SoccerNet\\jersey-2023\\processed_data\\test\\28\\illegible_results.json\n",
      "2025-03-22 21:34:03 [INFO] Saved illegible_tracklets to: c:\\Users\\colin\\OneDrive\\Desktop\\Jersey-Number-Recognition\\data\\SoccerNet\\jersey-2023\\processed_data\\test\\28\\illegible_results.json\n",
      "2025-03-22 21:34:03 [INFO] Legibility classification complete.\n",
      "2025-03-22 21:34:03 [INFO] Processed tracklet: 28\n"
     ]
    },
    {
     "name": "stderr",
     "output_type": "stream",
     "text": []
    },
    {
     "name": "stdout",
     "output_type": "stream",
     "text": [
      "2025-03-22 21:34:03 [INFO] Saving legible_tracklets to: c:\\Users\\colin\\OneDrive\\Desktop\\Jersey-Number-Recognition\\data\\SoccerNet\\jersey-2023\\processed_data\\test\\29\\legible_results.json\n",
      "2025-03-22 21:34:03 [INFO] Saved legible_tracklets to: c:\\Users\\colin\\OneDrive\\Desktop\\Jersey-Number-Recognition\\data\\SoccerNet\\jersey-2023\\processed_data\\test\\29\\legible_results.json\n",
      "2025-03-22 21:34:03 [INFO] Saving illegible_tracklets to: c:\\Users\\colin\\OneDrive\\Desktop\\Jersey-Number-Recognition\\data\\SoccerNet\\jersey-2023\\processed_data\\test\\29\\illegible_results.json\n",
      "2025-03-22 21:34:03 [INFO] Saved illegible_tracklets to: c:\\Users\\colin\\OneDrive\\Desktop\\Jersey-Number-Recognition\\data\\SoccerNet\\jersey-2023\\processed_data\\test\\29\\illegible_results.json\n",
      "2025-03-22 21:34:03 [INFO] Legibility classification complete.\n",
      "2025-03-22 21:34:03 [INFO] Processed tracklet: 29\n"
     ]
    },
    {
     "name": "stderr",
     "output_type": "stream",
     "text": []
    },
    {
     "name": "stdout",
     "output_type": "stream",
     "text": [
      "2025-03-22 21:34:04 [INFO] \n",
      "2025-03-22 21:34:04 [INFO] Done removing outliers\n",
      "2025-03-22 21:34:04 [INFO] Running model chain on preprocessed image(s).\n",
      "2025-03-22 21:34:04 [INFO] Classifying legibility of image(s) using pre-trained model.\n",
      "2025-03-22 21:34:04 [WARNING] No soccer ball list found. Skipping exclusion of soccer balls.\n",
      "2025-03-22 21:34:04 [INFO] Path checked: c:\\Users\\colin\\OneDrive\\Desktop\\Jersey-Number-Recognition\\data\\SoccerNet\\jersey-2023\\processed_data\\test\\common_data\\soccer_ball.json\n",
      "2025-03-22 21:34:06 [INFO] Saving legible_tracklets to: c:\\Users\\colin\\OneDrive\\Desktop\\Jersey-Number-Recognition\\data\\SoccerNet\\jersey-2023\\processed_data\\test\\30\\legible_results.json\n",
      "2025-03-22 21:34:06 [INFO] Saved legible_tracklets to: c:\\Users\\colin\\OneDrive\\Desktop\\Jersey-Number-Recognition\\data\\SoccerNet\\jersey-2023\\processed_data\\test\\30\\legible_results.json\n",
      "2025-03-22 21:34:07 [INFO] Saving illegible_tracklets to: c:\\Users\\colin\\OneDrive\\Desktop\\Jersey-Number-Recognition\\data\\SoccerNet\\jersey-2023\\processed_data\\test\\30\\illegible_results.json\n",
      "2025-03-22 21:34:07 [INFO] Saved illegible_tracklets to: c:\\Users\\colin\\OneDrive\\Desktop\\Jersey-Number-Recognition\\data\\SoccerNet\\jersey-2023\\processed_data\\test\\30\\illegible_results.json\n",
      "2025-03-22 21:34:07 [INFO] Legibility classification complete.\n",
      "2025-03-22 21:34:07 [INFO] Processed tracklet: 30\n"
     ]
    },
    {
     "name": "stderr",
     "output_type": "stream",
     "text": []
    },
    {
     "name": "stdout",
     "output_type": "stream",
     "text": [
      "2025-03-22 21:34:13 [INFO] Saving legible_tracklets to: c:\\Users\\colin\\OneDrive\\Desktop\\Jersey-Number-Recognition\\data\\SoccerNet\\jersey-2023\\processed_data\\test\\31\\legible_results.json\n",
      "2025-03-22 21:34:13 [INFO] Saved legible_tracklets to: c:\\Users\\colin\\OneDrive\\Desktop\\Jersey-Number-Recognition\\data\\SoccerNet\\jersey-2023\\processed_data\\test\\31\\legible_results.json\n",
      "2025-03-22 21:34:13 [INFO] Saving illegible_tracklets to: c:\\Users\\colin\\OneDrive\\Desktop\\Jersey-Number-Recognition\\data\\SoccerNet\\jersey-2023\\processed_data\\test\\31\\illegible_results.json\n",
      "2025-03-22 21:34:13 [INFO] Saved illegible_tracklets to: c:\\Users\\colin\\OneDrive\\Desktop\\Jersey-Number-Recognition\\data\\SoccerNet\\jersey-2023\\processed_data\\test\\31\\illegible_results.json\n",
      "2025-03-22 21:34:13 [INFO] Legibility classification complete.\n",
      "2025-03-22 21:34:13 [INFO] Processed tracklet: 31\n"
     ]
    },
    {
     "name": "stderr",
     "output_type": "stream",
     "text": [
      "Processing Batch Tracklets: 100%|██████████| 32/32 [04:10<00:00,  7.83s/it]\n",
      "Batch Processing Tracklets:   3%|▎         | 1/38 [04:27<2:45:09, 267.83s/it]"
     ]
    },
    {
     "name": "stdout",
     "output_type": "stream",
     "text": [
      "2025-03-22 21:34:13 [INFO] Processing batch with tracklets: ['32', '33', '34', '35', '36', '37', '38', '39', '40', '41', '42', '43', '44', '45', '46', '47', '48', '49', '50', '51', '52', '53', '54', '55', '56', '57', '58', '59', '60', '61', '62', '63']\n",
      "2025-03-22 21:34:13 [INFO] Using double parallelization: multiprocessing + CUDA batch processing.\n"
     ]
    },
    {
     "data": {
      "application/vnd.jupyter.widget-view+json": {
       "model_id": "0baae61e1a364ba0bd699d3e3de48b03",
       "version_major": 2,
       "version_minor": 0
      },
      "text/plain": [
       "Processing tracklets (CUDA + CPU):   0%|          | 0/32 [00:00<?, ?it/s]"
      ]
     },
     "metadata": {},
     "output_type": "display_data"
    },
    {
     "name": "stdout",
     "output_type": "stream",
     "text": [
      "2025-03-22 21:34:30 [INFO] DEBUG: Number of images per tracklet in batch: 466\n",
      "2025-03-22 21:34:30 [INFO] Creating placeholder data files for Soccer Ball Filter.\n",
      "2025-03-22 21:34:30 [INFO] Creating placeholder data files for Legibility Classifier.\n",
      "2025-03-22 21:34:31 [INFO] Removed cached tracklet feature file (use_cache: False): c:\\Users\\colin\\OneDrive\\Desktop\\Jersey-Number-Recognition\\data\\SoccerNet\\jersey-2023\\processed_data\\test\\32\\features.npy\n",
      "2025-03-22 21:34:31 [INFO] Removed cached tracklet feature file (use_cache: False): c:\\Users\\colin\\OneDrive\\Desktop\\Jersey-Number-Recognition\\data\\SoccerNet\\jersey-2023\\processed_data\\test\\33\\features.npy\n",
      "2025-03-22 21:34:31 [INFO] Determine soccer balls in image(s) using pre-trained model.\n",
      "2025-03-22 21:34:31 [INFO] Removed cached tracklet feature file (use_cache: False): c:\\Users\\colin\\OneDrive\\Desktop\\Jersey-Number-Recognition\\data\\SoccerNet\\jersey-2023\\processed_data\\test\\34\\features.npy\n",
      "2025-03-22 21:34:31 [INFO] Removed cached tracklet feature file (use_cache: False): c:\\Users\\colin\\OneDrive\\Desktop\\Jersey-Number-Recognition\\data\\SoccerNet\\jersey-2023\\processed_data\\test\\35\\features.npy\n",
      "2025-03-22 21:34:31 [INFO] Removed cached tracklet feature file (use_cache: False): c:\\Users\\colin\\OneDrive\\Desktop\\Jersey-Number-Recognition\\data\\SoccerNet\\jersey-2023\\processed_data\\test\\36\\features.npy\n",
      "2025-03-22 21:34:31 [INFO] Determine soccer balls in image(s) using pre-trained model.\n",
      "2025-03-22 21:34:31 [INFO] Determine soccer balls in image(s) using pre-trained model.\n",
      "2025-03-22 21:34:31 [INFO] Determine soccer balls in image(s) using pre-trained model.\n",
      "2025-03-22 21:34:31 [INFO] Determine soccer balls in image(s) using pre-trained model.\n",
      "2025-03-22 21:34:31 [INFO] Removed cached tracklet feature file (use_cache: False): c:\\Users\\colin\\OneDrive\\Desktop\\Jersey-Number-Recognition\\data\\SoccerNet\\jersey-2023\\processed_data\\test\\37\\features.npy\n",
      "2025-03-22 21:34:31 [INFO] Determine soccer balls in image(s) using pre-trained model.\n"
     ]
    },
    {
     "name": "stderr",
     "output_type": "stream",
     "text": []
    },
    {
     "name": "stdout",
     "output_type": "stream",
     "text": [
      "2025-03-22 21:34:31 [INFO] Found 0 balls, Ball list: []\n",
      "2025-03-22 21:34:31 [INFO] Found 0 balls, Ball list: []\n",
      "2025-03-22 21:34:31 [INFO] Found 0 balls, Ball list: []\n",
      "2025-03-22 21:34:31 [ERROR] Error processing tracklet 34: name 'track' is not defined\n",
      "2025-03-22 21:34:31 [INFO] Found 0 balls, Ball list: []\n",
      "2025-03-22 21:34:31 [INFO] Removed cached tracklet feature file (use_cache: False): c:\\Users\\colin\\OneDrive\\Desktop\\Jersey-Number-Recognition\\data\\SoccerNet\\jersey-2023\\processed_data\\test\\38\\features.npy\n",
      "2025-03-22 21:34:31 [INFO] Determine soccer balls in image(s) using pre-trained model.\n",
      "2025-03-22 21:34:31 [INFO] Found 0 balls, Ball list: []\n",
      "2025-03-22 21:34:31 [INFO] Found 0 balls, Ball list: []\n"
     ]
    },
    {
     "name": "stderr",
     "output_type": "stream",
     "text": [
      "Lightning automatically upgraded your loaded checkpoint from v1.1.4 to v2.5.0.post0. To apply the upgrade to your files permanently, run `python -m pytorch_lightning.utilities.upgrade_checkpoint c:\\Users\\colin\\OneDrive\\Desktop\\Jersey-Number-Recognition\\data\\pre_trained_models\\reid\\dukemtmcreid_resnet50_256_128_epoch_120.ckpt`\n"
     ]
    },
    {
     "name": "stdout",
     "output_type": "stream",
     "text": [
      "using GPU\n"
     ]
    },
    {
     "name": "stderr",
     "output_type": "stream",
     "text": [
      "Lightning automatically upgraded your loaded checkpoint from v1.1.4 to v2.5.0.post0. To apply the upgrade to your files permanently, run `python -m pytorch_lightning.utilities.upgrade_checkpoint c:\\Users\\colin\\OneDrive\\Desktop\\Jersey-Number-Recognition\\data\\pre_trained_models\\reid\\dukemtmcreid_resnet50_256_128_epoch_120.ckpt`\n"
     ]
    },
    {
     "name": "stdout",
     "output_type": "stream",
     "text": [
      "2025-03-22 21:34:36 [INFO] Saved features for tracklet with shape (354, 2048) to c:\\Users\\colin\\OneDrive\\Desktop\\Jersey-Number-Recognition\\data\\SoccerNet\\jersey-2023\\processed_data\\test\\35\\features.npy\n",
      "2025-03-22 21:34:36 [INFO] Identifying and removing outliers by calling gaussian_outliers_streamlined.py on feature file\n"
     ]
    },
    {
     "name": "stderr",
     "output_type": "stream",
     "text": [
      "Lightning automatically upgraded your loaded checkpoint from v1.1.4 to v2.5.0.post0. To apply the upgrade to your files permanently, run `python -m pytorch_lightning.utilities.upgrade_checkpoint c:\\Users\\colin\\OneDrive\\Desktop\\Jersey-Number-Recognition\\data\\pre_trained_models\\reid\\dukemtmcreid_resnet50_256_128_epoch_120.ckpt`\n"
     ]
    },
    {
     "name": "stdout",
     "output_type": "stream",
     "text": [
      "using GPU\n"
     ]
    },
    {
     "name": "stderr",
     "output_type": "stream",
     "text": [
      "Lightning automatically upgraded your loaded checkpoint from v1.1.4 to v2.5.0.post0. To apply the upgrade to your files permanently, run `python -m pytorch_lightning.utilities.upgrade_checkpoint c:\\Users\\colin\\OneDrive\\Desktop\\Jersey-Number-Recognition\\data\\pre_trained_models\\reid\\dukemtmcreid_resnet50_256_128_epoch_120.ckpt`\n"
     ]
    },
    {
     "name": "stdout",
     "output_type": "stream",
     "text": [
      "2025-03-22 21:34:40 [INFO] Saved features for tracklet with shape (310, 2048) to c:\\Users\\colin\\OneDrive\\Desktop\\Jersey-Number-Recognition\\data\\SoccerNet\\jersey-2023\\processed_data\\test\\36\\features.npy\n",
      "2025-03-22 21:34:40 [INFO] Identifying and removing outliers by calling gaussian_outliers_streamlined.py on feature file\n",
      "using GPU\n"
     ]
    },
    {
     "name": "stderr",
     "output_type": "stream",
     "text": [
      "Lightning automatically upgraded your loaded checkpoint from v1.1.4 to v2.5.0.post0. To apply the upgrade to your files permanently, run `python -m pytorch_lightning.utilities.upgrade_checkpoint c:\\Users\\colin\\OneDrive\\Desktop\\Jersey-Number-Recognition\\data\\pre_trained_models\\reid\\dukemtmcreid_resnet50_256_128_epoch_120.ckpt`\n"
     ]
    },
    {
     "name": "stdout",
     "output_type": "stream",
     "text": [
      "2025-03-22 21:34:43 [INFO] Saved features for tracklet with shape (213, 2048) to c:\\Users\\colin\\OneDrive\\Desktop\\Jersey-Number-Recognition\\data\\SoccerNet\\jersey-2023\\processed_data\\test\\37\\features.npy\n",
      "using GPU\n",
      "2025-03-22 21:34:43 [INFO] Identifying and removing outliers by calling gaussian_outliers_streamlined.py on feature file\n",
      "2025-03-22 21:34:46 [INFO] \n",
      "2025-03-22 21:34:46 [INFO] Done removing outliers\n",
      "2025-03-22 21:34:46 [INFO] Running model chain on preprocessed image(s).\n",
      "2025-03-22 21:34:46 [INFO] Classifying legibility of image(s) using pre-trained model.\n",
      "2025-03-22 21:34:46 [WARNING] No soccer ball list found. Skipping exclusion of soccer balls.\n",
      "2025-03-22 21:34:46 [INFO] Path checked: c:\\Users\\colin\\OneDrive\\Desktop\\Jersey-Number-Recognition\\data\\SoccerNet\\jersey-2023\\processed_data\\test\\common_data\\soccer_ball.json\n"
     ]
    },
    {
     "name": "stderr",
     "output_type": "stream",
     "text": [
      "Lightning automatically upgraded your loaded checkpoint from v1.1.4 to v2.5.0.post0. To apply the upgrade to your files permanently, run `python -m pytorch_lightning.utilities.upgrade_checkpoint c:\\Users\\colin\\OneDrive\\Desktop\\Jersey-Number-Recognition\\data\\pre_trained_models\\reid\\dukemtmcreid_resnet50_256_128_epoch_120.ckpt`\n"
     ]
    },
    {
     "name": "stdout",
     "output_type": "stream",
     "text": [
      "using GPU\n",
      "2025-03-22 21:34:49 [INFO] Saved features for tracklet with shape (549, 2048) to c:\\Users\\colin\\OneDrive\\Desktop\\Jersey-Number-Recognition\\data\\SoccerNet\\jersey-2023\\processed_data\\test\\33\\features.npy\n",
      "2025-03-22 21:34:49 [INFO] Identifying and removing outliers by calling gaussian_outliers_streamlined.py on feature file\n",
      "2025-03-22 21:34:50 [INFO] \n",
      "2025-03-22 21:34:50 [INFO] Done removing outliers\n",
      "2025-03-22 21:34:50 [INFO] Running model chain on preprocessed image(s).\n",
      "2025-03-22 21:34:50 [INFO] Classifying legibility of image(s) using pre-trained model.\n",
      "2025-03-22 21:34:50 [WARNING] No soccer ball list found. Skipping exclusion of soccer balls.\n",
      "2025-03-22 21:34:50 [INFO] Path checked: c:\\Users\\colin\\OneDrive\\Desktop\\Jersey-Number-Recognition\\data\\SoccerNet\\jersey-2023\\processed_data\\test\\common_data\\soccer_ball.json\n",
      "using GPU\n",
      "2025-03-22 21:34:54 [INFO] \n",
      "2025-03-22 21:34:54 [INFO] Done removing outliers\n",
      "2025-03-22 21:34:54 [INFO] Running model chain on preprocessed image(s).\n",
      "2025-03-22 21:34:54 [INFO] Classifying legibility of image(s) using pre-trained model.\n",
      "2025-03-22 21:34:54 [WARNING] No soccer ball list found. Skipping exclusion of soccer balls.\n",
      "2025-03-22 21:34:54 [INFO] Path checked: c:\\Users\\colin\\OneDrive\\Desktop\\Jersey-Number-Recognition\\data\\SoccerNet\\jersey-2023\\processed_data\\test\\common_data\\soccer_ball.json\n",
      "2025-03-22 21:34:55 [INFO] Saved features for tracklet with shape (466, 2048) to c:\\Users\\colin\\OneDrive\\Desktop\\Jersey-Number-Recognition\\data\\SoccerNet\\jersey-2023\\processed_data\\test\\32\\features.npy\n",
      "2025-03-22 21:34:55 [INFO] Identifying and removing outliers by calling gaussian_outliers_streamlined.py on feature file\n",
      "2025-03-22 21:34:55 [INFO] Saved features for tracklet with shape (72, 2048) to c:\\Users\\colin\\OneDrive\\Desktop\\Jersey-Number-Recognition\\data\\SoccerNet\\jersey-2023\\processed_data\\test\\38\\features.npy\n",
      "2025-03-22 21:34:55 [INFO] Identifying and removing outliers by calling gaussian_outliers_streamlined.py on feature file\n",
      "2025-03-22 21:35:07 [INFO] Saving legible_tracklets to: c:\\Users\\colin\\OneDrive\\Desktop\\Jersey-Number-Recognition\\data\\SoccerNet\\jersey-2023\\processed_data\\test\\35\\legible_results.json\n",
      "2025-03-22 21:35:07 [INFO] Saved legible_tracklets to: c:\\Users\\colin\\OneDrive\\Desktop\\Jersey-Number-Recognition\\data\\SoccerNet\\jersey-2023\\processed_data\\test\\35\\legible_results.json\n",
      "2025-03-22 21:35:07 [INFO] Saving illegible_tracklets to: c:\\Users\\colin\\OneDrive\\Desktop\\Jersey-Number-Recognition\\data\\SoccerNet\\jersey-2023\\processed_data\\test\\35\\illegible_results.json\n",
      "2025-03-22 21:35:07 [INFO] Saved illegible_tracklets to: c:\\Users\\colin\\OneDrive\\Desktop\\Jersey-Number-Recognition\\data\\SoccerNet\\jersey-2023\\processed_data\\test\\35\\illegible_results.json\n",
      "2025-03-22 21:35:07 [INFO] Legibility classification complete.\n",
      "2025-03-22 21:35:07 [INFO] Removed cached tracklet feature file (use_cache: False): c:\\Users\\colin\\OneDrive\\Desktop\\Jersey-Number-Recognition\\data\\SoccerNet\\jersey-2023\\processed_data\\test\\39\\features.npy\n",
      "2025-03-22 21:35:07 [INFO] Determine soccer balls in image(s) using pre-trained model.\n",
      "2025-03-22 21:35:07 [INFO] Processed tracklet: 35\n"
     ]
    },
    {
     "name": "stderr",
     "output_type": "stream",
     "text": []
    },
    {
     "name": "stdout",
     "output_type": "stream",
     "text": [
      "2025-03-22 21:35:07 [INFO] Found 0 balls, Ball list: []\n",
      "2025-03-22 21:35:07 [INFO] \n",
      "2025-03-22 21:35:07 [INFO] Done removing outliers\n",
      "2025-03-22 21:35:07 [INFO] Running model chain on preprocessed image(s).\n",
      "2025-03-22 21:35:07 [INFO] Classifying legibility of image(s) using pre-trained model.\n",
      "2025-03-22 21:35:07 [WARNING] No soccer ball list found. Skipping exclusion of soccer balls.\n",
      "2025-03-22 21:35:07 [INFO] Path checked: c:\\Users\\colin\\OneDrive\\Desktop\\Jersey-Number-Recognition\\data\\SoccerNet\\jersey-2023\\processed_data\\test\\common_data\\soccer_ball.json\n"
     ]
    },
    {
     "name": "stderr",
     "output_type": "stream",
     "text": [
      "Lightning automatically upgraded your loaded checkpoint from v1.1.4 to v2.5.0.post0. To apply the upgrade to your files permanently, run `python -m pytorch_lightning.utilities.upgrade_checkpoint c:\\Users\\colin\\OneDrive\\Desktop\\Jersey-Number-Recognition\\data\\pre_trained_models\\reid\\dukemtmcreid_resnet50_256_128_epoch_120.ckpt`\n"
     ]
    },
    {
     "name": "stdout",
     "output_type": "stream",
     "text": [
      "using GPU\n",
      "2025-03-22 21:35:11 [INFO] Saved features for tracklet with shape (148, 2048) to c:\\Users\\colin\\OneDrive\\Desktop\\Jersey-Number-Recognition\\data\\SoccerNet\\jersey-2023\\processed_data\\test\\39\\features.npy\n",
      "2025-03-22 21:35:11 [INFO] Identifying and removing outliers by calling gaussian_outliers_streamlined.py on feature file\n",
      "2025-03-22 21:35:12 [INFO] Saving legible_tracklets to: c:\\Users\\colin\\OneDrive\\Desktop\\Jersey-Number-Recognition\\data\\SoccerNet\\jersey-2023\\processed_data\\test\\36\\legible_results.json\n",
      "2025-03-22 21:35:12 [INFO] Saved legible_tracklets to: c:\\Users\\colin\\OneDrive\\Desktop\\Jersey-Number-Recognition\\data\\SoccerNet\\jersey-2023\\processed_data\\test\\36\\legible_results.json\n",
      "2025-03-22 21:35:12 [INFO] Saving illegible_tracklets to: c:\\Users\\colin\\OneDrive\\Desktop\\Jersey-Number-Recognition\\data\\SoccerNet\\jersey-2023\\processed_data\\test\\36\\illegible_results.json\n",
      "2025-03-22 21:35:12 [INFO] Saved illegible_tracklets to: c:\\Users\\colin\\OneDrive\\Desktop\\Jersey-Number-Recognition\\data\\SoccerNet\\jersey-2023\\processed_data\\test\\36\\illegible_results.json\n",
      "2025-03-22 21:35:12 [INFO] Legibility classification complete.\n",
      "2025-03-22 21:35:12 [INFO] Removed cached tracklet feature file (use_cache: False): c:\\Users\\colin\\OneDrive\\Desktop\\Jersey-Number-Recognition\\data\\SoccerNet\\jersey-2023\\processed_data\\test\\40\\features.npy\n",
      "2025-03-22 21:35:12 [INFO] Determine soccer balls in image(s) using pre-trained model.\n",
      "2025-03-22 21:35:12 [INFO] Processed tracklet: 36\n"
     ]
    },
    {
     "name": "stderr",
     "output_type": "stream",
     "text": []
    },
    {
     "name": "stdout",
     "output_type": "stream",
     "text": [
      "2025-03-22 21:35:12 [INFO] Found 0 balls, Ball list: []\n",
      "2025-03-22 21:35:12 [INFO] Saving legible_tracklets to: c:\\Users\\colin\\OneDrive\\Desktop\\Jersey-Number-Recognition\\data\\SoccerNet\\jersey-2023\\processed_data\\test\\37\\legible_results.json\n",
      "2025-03-22 21:35:12 [INFO] Saved legible_tracklets to: c:\\Users\\colin\\OneDrive\\Desktop\\Jersey-Number-Recognition\\data\\SoccerNet\\jersey-2023\\processed_data\\test\\37\\legible_results.json\n",
      "2025-03-22 21:35:12 [INFO] Saving illegible_tracklets to: c:\\Users\\colin\\OneDrive\\Desktop\\Jersey-Number-Recognition\\data\\SoccerNet\\jersey-2023\\processed_data\\test\\37\\illegible_results.json\n",
      "2025-03-22 21:35:12 [INFO] Saved illegible_tracklets to: c:\\Users\\colin\\OneDrive\\Desktop\\Jersey-Number-Recognition\\data\\SoccerNet\\jersey-2023\\processed_data\\test\\37\\illegible_results.json\n",
      "2025-03-22 21:35:12 [INFO] Legibility classification complete.\n",
      "2025-03-22 21:35:12 [INFO] Processed tracklet: 37\n"
     ]
    },
    {
     "name": "stderr",
     "output_type": "stream",
     "text": [
      "\n"
     ]
    },
    {
     "name": "stdout",
     "output_type": "stream",
     "text": [
      "2025-03-22 21:35:12 [INFO] Removed cached tracklet feature file (use_cache: False): c:\\Users\\colin\\OneDrive\\Desktop\\Jersey-Number-Recognition\\data\\SoccerNet\\jersey-2023\\processed_data\\test\\41\\features.npy\n"
     ]
    },
    {
     "name": "stderr",
     "output_type": "stream",
     "text": [
      "Processing Batch Tracklets:  12%|█▎        | 4/32 [00:41<03:45,  8.04s/it]"
     ]
    },
    {
     "name": "stdout",
     "output_type": "stream",
     "text": [
      "2025-03-22 21:35:12 [INFO] Determine soccer balls in image(s) using pre-trained model.\n"
     ]
    },
    {
     "name": "stderr",
     "output_type": "stream",
     "text": [
      "\u001b[A"
     ]
    },
    {
     "name": "stdout",
     "output_type": "stream",
     "text": [
      "2025-03-22 21:35:12 [INFO] Found 0 balls, Ball list: []\n"
     ]
    },
    {
     "name": "stderr",
     "output_type": "stream",
     "text": [
      "Lightning automatically upgraded your loaded checkpoint from v1.1.4 to v2.5.0.post0. To apply the upgrade to your files permanently, run `python -m pytorch_lightning.utilities.upgrade_checkpoint c:\\Users\\colin\\OneDrive\\Desktop\\Jersey-Number-Recognition\\data\\pre_trained_models\\reid\\dukemtmcreid_resnet50_256_128_epoch_120.ckpt`\n"
     ]
    },
    {
     "name": "stdout",
     "output_type": "stream",
     "text": [
      "2025-03-22 21:35:13 [INFO] \n",
      "2025-03-22 21:35:13 [INFO] Done removing outliers\n",
      "2025-03-22 21:35:13 [INFO] Running model chain on preprocessed image(s).\n",
      "2025-03-22 21:35:13 [INFO] Classifying legibility of image(s) using pre-trained model.\n",
      "2025-03-22 21:35:13 [WARNING] No soccer ball list found. Skipping exclusion of soccer balls.\n",
      "2025-03-22 21:35:13 [INFO] Path checked: c:\\Users\\colin\\OneDrive\\Desktop\\Jersey-Number-Recognition\\data\\SoccerNet\\jersey-2023\\processed_data\\test\\common_data\\soccer_ball.json\n"
     ]
    },
    {
     "name": "stderr",
     "output_type": "stream",
     "text": [
      "Lightning automatically upgraded your loaded checkpoint from v1.1.4 to v2.5.0.post0. To apply the upgrade to your files permanently, run `python -m pytorch_lightning.utilities.upgrade_checkpoint c:\\Users\\colin\\OneDrive\\Desktop\\Jersey-Number-Recognition\\data\\pre_trained_models\\reid\\dukemtmcreid_resnet50_256_128_epoch_120.ckpt`\n"
     ]
    },
    {
     "name": "stdout",
     "output_type": "stream",
     "text": [
      "using GPU\n",
      "2025-03-22 21:35:14 [INFO] \n",
      "2025-03-22 21:35:14 [INFO] Done removing outliers\n",
      "2025-03-22 21:35:14 [INFO] Running model chain on preprocessed image(s).\n",
      "2025-03-22 21:35:14 [INFO] Classifying legibility of image(s) using pre-trained model.\n",
      "2025-03-22 21:35:14 [WARNING] No soccer ball list found. Skipping exclusion of soccer balls.\n",
      "2025-03-22 21:35:14 [INFO] Path checked: c:\\Users\\colin\\OneDrive\\Desktop\\Jersey-Number-Recognition\\data\\SoccerNet\\jersey-2023\\processed_data\\test\\common_data\\soccer_ball.json\n",
      "using GPU\n",
      "2025-03-22 21:35:14 [INFO] Saved features for tracklet with shape (34, 2048) to c:\\Users\\colin\\OneDrive\\Desktop\\Jersey-Number-Recognition\\data\\SoccerNet\\jersey-2023\\processed_data\\test\\40\\features.npy\n",
      "2025-03-22 21:35:14 [INFO] Identifying and removing outliers by calling gaussian_outliers_streamlined.py on feature file\n",
      "2025-03-22 21:35:15 [INFO] Saved features for tracklet with shape (24, 2048) to c:\\Users\\colin\\OneDrive\\Desktop\\Jersey-Number-Recognition\\data\\SoccerNet\\jersey-2023\\processed_data\\test\\41\\features.npy\n",
      "2025-03-22 21:35:15 [INFO] Identifying and removing outliers by calling gaussian_outliers_streamlined.py on feature file\n",
      "2025-03-22 21:35:24 [INFO] Saving legible_tracklets to: c:\\Users\\colin\\OneDrive\\Desktop\\Jersey-Number-Recognition\\data\\SoccerNet\\jersey-2023\\processed_data\\test\\33\\legible_results.json\n",
      "2025-03-22 21:35:24 [INFO] Saved legible_tracklets to: c:\\Users\\colin\\OneDrive\\Desktop\\Jersey-Number-Recognition\\data\\SoccerNet\\jersey-2023\\processed_data\\test\\33\\legible_results.json\n",
      "2025-03-22 21:35:24 [INFO] Saving illegible_tracklets to: c:\\Users\\colin\\OneDrive\\Desktop\\Jersey-Number-Recognition\\data\\SoccerNet\\jersey-2023\\processed_data\\test\\33\\illegible_results.json\n",
      "2025-03-22 21:35:24 [INFO] Saved illegible_tracklets to: c:\\Users\\colin\\OneDrive\\Desktop\\Jersey-Number-Recognition\\data\\SoccerNet\\jersey-2023\\processed_data\\test\\33\\illegible_results.json\n",
      "2025-03-22 21:35:24 [INFO] Legibility classification complete.\n",
      "2025-03-22 21:35:24 [INFO] Processed tracklet: 33\n"
     ]
    },
    {
     "name": "stderr",
     "output_type": "stream",
     "text": [
      "\n"
     ]
    },
    {
     "name": "stdout",
     "output_type": "stream",
     "text": [
      "2025-03-22 21:35:24 [INFO] Removed cached tracklet feature file (use_cache: False): c:\\Users\\colin\\OneDrive\\Desktop\\Jersey-Number-Recognition\\data\\SoccerNet\\jersey-2023\\processed_data\\test\\42\\features.npy\n"
     ]
    },
    {
     "name": "stderr",
     "output_type": "stream",
     "text": [
      "Processing Batch Tracklets:  16%|█▌        | 5/32 [00:53<04:14,  9.43s/it]"
     ]
    },
    {
     "name": "stdout",
     "output_type": "stream",
     "text": [
      "2025-03-22 21:35:24 [INFO] Determine soccer balls in image(s) using pre-trained model.\n"
     ]
    },
    {
     "name": "stderr",
     "output_type": "stream",
     "text": [
      "\u001b[A"
     ]
    },
    {
     "name": "stdout",
     "output_type": "stream",
     "text": [
      "2025-03-22 21:35:24 [INFO] Found 0 balls, Ball list: []\n"
     ]
    },
    {
     "name": "stderr",
     "output_type": "stream",
     "text": [
      "Lightning automatically upgraded your loaded checkpoint from v1.1.4 to v2.5.0.post0. To apply the upgrade to your files permanently, run `python -m pytorch_lightning.utilities.upgrade_checkpoint c:\\Users\\colin\\OneDrive\\Desktop\\Jersey-Number-Recognition\\data\\pre_trained_models\\reid\\dukemtmcreid_resnet50_256_128_epoch_120.ckpt`\n"
     ]
    },
    {
     "name": "stdout",
     "output_type": "stream",
     "text": [
      "using GPU\n"
     ]
    }
   ],
   "source": [
    "pipeline.run_soccernet(\n",
    "  run_soccer_ball_filter=True,\n",
    "  generate_features=True,\n",
    "  run_filter=True,\n",
    "  run_legible=True,\n",
    "  run_legible_eval=True,\n",
    "  run_pose=False,\n",
    "  run_crops=False,\n",
    "  run_str=False,\n",
    "  run_combine=False,\n",
    "  run_eval=False)"
   ]
  }
 ],
 "metadata": {
  "kernelspec": {
   "display_name": "UBC",
   "language": "python",
   "name": "python3"
  },
  "language_info": {
   "codemirror_mode": {
    "name": "ipython",
    "version": 3
   },
   "file_extension": ".py",
   "mimetype": "text/x-python",
   "name": "python",
   "nbconvert_exporter": "python",
   "pygments_lexer": "ipython3",
   "version": "3.13.1"
  }
 },
 "nbformat": 4,
 "nbformat_minor": 2
}
