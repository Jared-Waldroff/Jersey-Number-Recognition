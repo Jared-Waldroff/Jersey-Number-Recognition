{
 "cells": [
  {
   "cell_type": "markdown",
   "metadata": {},
   "source": [
    "### Quick Run Block"
   ]
  },
  {
   "cell_type": "code",
   "execution_count": null,
   "metadata": {},
   "outputs": [],
   "source": []
  },
  {
   "cell_type": "markdown",
   "metadata": {},
   "source": [
    "## Code"
   ]
  },
  {
   "cell_type": "code",
   "execution_count": 1,
   "metadata": {},
   "outputs": [
    {
     "name": "stdout",
     "output_type": "stream",
     "text": [
      "c:\\Users\\colin\\OneDrive\\Desktop\\Jersey-Number-Recognition\n",
      "Current working directory:  c:\\Users\\colin\\OneDrive\\Desktop\\Jersey-Number-Recognition\\ModelDevelopment\\experiments\n"
     ]
    }
   ],
   "source": [
    "import sys\n",
    "from pathlib import Path\n",
    "import os\n",
    "\n",
    "sys.path.append(str(Path.cwd().parent.parent))\n",
    "print(str(Path.cwd().parent.parent))\n",
    "print(\"Current working directory: \", os.getcwd())\n",
    "\n",
    "from ModelDevelopment.CentralPipeline import CentralPipeline\n",
    "from ModelDevelopment.ImageBatchPipeline import ImageBatchPipeline\n",
    "from DataProcessing.DataPreProcessing import DataPaths"
   ]
  },
  {
   "cell_type": "code",
   "execution_count": null,
   "metadata": {},
   "outputs": [
    {
     "name": "stdout",
     "output_type": "stream",
     "text": [
      "2025-03-22 22:08:09 [INFO] DataPreProcessing initialized. Universe of available data paths:\n",
      "2025-03-22 22:08:09 [INFO] ROOT_DATA_DIR: c:\\Users\\colin\\OneDrive\\Desktop\\Jersey-Number-Recognition\\data\\SoccerNet\\jersey-2023\\extracted\n",
      "2025-03-22 22:08:09 [INFO] TEST_DATA_GT: c:\\Users\\colin\\OneDrive\\Desktop\\Jersey-Number-Recognition\\data\\SoccerNet\\jersey-2023\\extracted\\test\\test_gt.json\n",
      "2025-03-22 22:08:09 [INFO] TRAIN_DATA_GT: c:\\Users\\colin\\OneDrive\\Desktop\\Jersey-Number-Recognition\\data\\SoccerNet\\jersey-2023\\extracted\\train\\train_gt.json\n",
      "2025-03-22 22:08:09 [INFO] TEST_DATA_DIR: c:\\Users\\colin\\OneDrive\\Desktop\\Jersey-Number-Recognition\\data\\SoccerNet\\jersey-2023\\extracted\\test\\images\n",
      "2025-03-22 22:08:09 [INFO] TRAIN_DATA_DIR: c:\\Users\\colin\\OneDrive\\Desktop\\Jersey-Number-Recognition\\data\\SoccerNet\\jersey-2023\\extracted\\train\\images\n",
      "2025-03-22 22:08:09 [INFO] CHALLENGE_DATA_DIR: c:\\Users\\colin\\OneDrive\\Desktop\\Jersey-Number-Recognition\\data\\SoccerNet\\jersey-2023\\extracted\\challenge\\images\n",
      "2025-03-22 22:08:09 [INFO] PRE_TRAINED_MODELS_DIR: c:\\Users\\colin\\OneDrive\\Desktop\\Jersey-Number-Recognition\\data\\pre_trained_models\n",
      "2025-03-22 22:08:09 [INFO] REID_PRE_TRAINED: c:\\Users\\colin\\OneDrive\\Desktop\\Jersey-Number-Recognition\\data\\pre_trained_models\\reid\n",
      "2025-03-22 22:08:09 [INFO] STR_PRE_TRAINED: c:\\Users\\colin\\OneDrive\\Desktop\\Jersey-Number-Recognition\\data\\pre_trained_models\\str\n",
      "2025-03-22 22:08:09 [INFO] STR_MODEL: c:\\Users\\colin\\OneDrive\\Desktop\\Jersey-Number-Recognition\\data\\pre_trained_models\\str\\parseq_epoch=24-step=2575-val_accuracy=95.6044-val_NED=96.3255.ckpt\n",
      "2025-03-22 22:08:09 [INFO] REID_MODEL_1: c:\\Users\\colin\\OneDrive\\Desktop\\Jersey-Number-Recognition\\data\\pre_trained_models\\reid\\dukemtmcreid_resnet50_256_128_epoch_120.ckpt\n",
      "2025-03-22 22:08:09 [INFO] REID_MODEL_2: c:\\Users\\colin\\OneDrive\\Desktop\\Jersey-Number-Recognition\\data\\pre_trained_models\\reid\\market1501_resnet50_256_128_epoch_120.ckpt\n",
      "2025-03-22 22:08:09 [INFO] REID_CONFIG_YAML: c:\\Users\\colin\\OneDrive\\Desktop\\Jersey-Number-Recognition\\data\\pre_trained_models\\reid\\configs\\256_resnet50.yml\n",
      "2025-03-22 22:08:09 [INFO] RESNET_MODEL: c:\\Users\\colin\\OneDrive\\Desktop\\Jersey-Number-Recognition\\data\\pre_trained_models\\resnet\\legibility_resnet34_soccer_20240215.pth\n",
      "2025-03-22 22:08:09 [INFO] PROCESSED_DATA_OUTPUT_DIR: c:\\Users\\colin\\OneDrive\\Desktop\\Jersey-Number-Recognition\\data\\SoccerNet\\jersey-2023\\processed_data\n",
      "2025-03-22 22:08:09 [INFO] PROCESSED_DATA_OUTPUT_DIR_TRAIN: c:\\Users\\colin\\OneDrive\\Desktop\\Jersey-Number-Recognition\\data\\SoccerNet\\jersey-2023\\processed_data\\train\n",
      "2025-03-22 22:08:09 [INFO] PROCESSED_DATA_OUTPUT_DIR_TEST: c:\\Users\\colin\\OneDrive\\Desktop\\Jersey-Number-Recognition\\data\\SoccerNet\\jersey-2023\\processed_data\\test\n",
      "2025-03-22 22:08:09 [INFO] PROCESSED_DATA_OUTPUT_DIR_CHALLENGE: c:\\Users\\colin\\OneDrive\\Desktop\\Jersey-Number-Recognition\\data\\SoccerNet\\jersey-2023\\processed_data\\challenge\n",
      "2025-03-22 22:08:09 [INFO] COMMON_PROCESSED_OUTPUT_DATA_TRAIN: c:\\Users\\colin\\OneDrive\\Desktop\\Jersey-Number-Recognition\\data\\SoccerNet\\jersey-2023\\processed_data\\train\\common_data\n",
      "2025-03-22 22:08:09 [INFO] COMMON_PROCESSED_OUTPUT_DATA_TEST: c:\\Users\\colin\\OneDrive\\Desktop\\Jersey-Number-Recognition\\data\\SoccerNet\\jersey-2023\\processed_data\\test\\common_data\n",
      "2025-03-22 22:08:09 [INFO] COMMON_PROCESSED_OUTPUT_DATA_CHALLENGE: c:\\Users\\colin\\OneDrive\\Desktop\\Jersey-Number-Recognition\\data\\SoccerNet\\jersey-2023\\processed_data\\challenge\\common_data\n",
      "2025-03-22 22:08:09 [INFO] STREAMLINED_PIPELINE: c:\\Users\\colin\\OneDrive\\Desktop\\Jersey-Number-Recognition\\StreamlinedPipelineScripts\n",
      "2025-03-22 22:08:09 [INFO] ['0', '1', '2', '3', '4', '5', '6', '7', '8', '9']\n",
      "2025-03-22 22:08:09 [INFO] Min tracklet: 0\n",
      "2025-03-22 22:08:09 [INFO] Max tracklet: 1210\n",
      "2025-03-22 22:08:09 [INFO] Using device: cuda\n",
      "2025-03-22 22:08:09 [INFO] ['0', '1', '2', '3', '4', '5', '6', '7', '8', '9']\n",
      "2025-03-22 22:08:09 [INFO] Min tracklet: 0\n",
      "2025-03-22 22:08:09 [INFO] Max tracklet: 1210\n"
     ]
    }
   ],
   "source": [
    "# TODO: Add tracklets_override to pass a list of tracklets to process; tracklets_override=[\"8\", \"9\", \"10\"]\n",
    "# NOTE: It is recommended you delete the entire processed_data/{challenge/test/train} before running this to 100% avoid issues with old data.\n",
    "# Furthermore, you should always restart your kernel before every new run because sometimes there are problems with paths\n",
    "pipeline = CentralPipeline(\n",
    "  num_tracklets=1210,\n",
    "  #num_images_per_tracklet=1,\n",
    "  input_data_path=DataPaths.TEST_DATA_DIR.value,\n",
    "  output_processed_data_path=DataPaths.PROCESSED_DATA_OUTPUT_DIR_TEST.value,\n",
    "  common_processed_data_dir=DataPaths.COMMON_PROCESSED_OUTPUT_DATA_TEST.value,\n",
    "  gt_data_path=DataPaths.TEST_DATA_GT.value,\n",
    "  single_image_pipeline=False,\n",
    "  display_transformed_image_sample=False, # NOTE: DO NOT USE. Code is parallelized so we cannot show images anymore. Code breaks, but first one will show if True.\n",
    "  num_image_samples=1,\n",
    "  use_cache=True, # Set to false if you encounter data inconsistencies.\n",
    "  suppress_logging=False,\n",
    "  num_workers=6, # CRITICAL optimisation param. Anything more than 6 and your PC explodes.\n",
    "  tracklet_batch_size=32 # CRITICAL optimisation param. 32 is a nice spot.\n",
    "  )"
   ]
  },
  {
   "cell_type": "code",
   "execution_count": null,
   "metadata": {},
   "outputs": [
    {
     "name": "stdout",
     "output_type": "stream",
     "text": [
      "2025-03-22 22:08:09 [INFO] Running the SoccerNet pipeline.\n"
     ]
    },
    {
     "name": "stderr",
     "output_type": "stream",
     "text": [
      "Batch Processing Tracklets:   0%|          | 0/38 [00:00<?, ?it/s]"
     ]
    },
    {
     "name": "stdout",
     "output_type": "stream",
     "text": [
      "2025-03-22 22:08:09 [INFO] Processing batch with tracklets: ['0', '1', '2', '3', '4', '5', '6', '7', '8', '9', '10', '11', '12', '13', '14', '15', '16', '17', '18', '19', '20', '21', '22', '23', '24', '25', '26', '27', '28', '29', '30', '31']\n",
      "2025-03-22 22:08:09 [INFO] Using double parallelization: multiprocessing + CUDA batch processing.\n"
     ]
    },
    {
     "data": {
      "application/vnd.jupyter.widget-view+json": {
       "model_id": "be70bcee7830452dba474494b023c0fc",
       "version_major": 2,
       "version_minor": 0
      },
      "text/plain": [
       "Processing tracklets (CUDA + CPU):   0%|          | 0/32 [00:00<?, ?it/s]"
      ]
     },
     "metadata": {},
     "output_type": "display_data"
    },
    {
     "name": "stdout",
     "output_type": "stream",
     "text": [
      "2025-03-22 22:08:26 [INFO] DEBUG: Number of images per tracklet in batch: 465\n",
      "2025-03-22 22:08:26 [INFO] Creating placeholder data files for Soccer Ball Filter.\n",
      "2025-03-22 22:08:26 [INFO] Creating placeholder data files for Legibility Classifier.\n",
      "2025-03-22 22:08:26 [INFO] Determine soccer balls in image(s) using pre-trained model.\n",
      "2025-03-22 22:08:26 [INFO] Determine soccer balls in image(s) using pre-trained model.\n",
      "2025-03-22 22:08:26 [INFO] Determine soccer balls in image(s) using pre-trained model.\n",
      "2025-03-22 22:08:26 [INFO] Determine soccer balls in image(s) using pre-trained model.\n",
      "2025-03-22 22:08:26 [INFO] Skipping soccer ball filter for tracklet 0 as cache exists.\n",
      "2025-03-22 22:08:26 [INFO] Skipping soccer ball filter for tracklet 2 as cache exists.\n",
      "2025-03-22 22:08:26 [INFO] Skipping soccer ball filter for tracklet 3 as cache exists.\n",
      "2025-03-22 22:08:26 [INFO] Determine soccer balls in image(s) using pre-trained model.\n",
      "2025-03-22 22:08:26 [INFO] Skipping soccer ball filter for tracklet 4 as cache exists.\n",
      "2025-03-22 22:08:26 [INFO] Determine soccer balls in image(s) using pre-trained model.\n",
      "2025-03-22 22:08:26 [INFO] Skipping soccer ball filter for tracklet 1 as cache exists.\n",
      "2025-03-22 22:08:26 [INFO] Skipping soccer ball filter for tracklet 5 as cache exists.\n"
     ]
    },
    {
     "name": "stderr",
     "output_type": "stream",
     "text": [
      "c:\\Users\\colin\\miniconda3\\envs\\UBC\\Lib\\site-packages\\pytorch_lightning\\utilities\\migration\\migration.py:208: You have multiple `ModelCheckpoint` callback states in this checkpoint, but we found state keys that would end up colliding with each other after an upgrade, which means we can't differentiate which of your checkpoint callbacks needs which states. At least one of your `ModelCheckpoint` callbacks will not be able to reload the state.\n",
      "Lightning automatically upgraded your loaded checkpoint from v1.1.4 to v2.5.0.post0. To apply the upgrade to your files permanently, run `python -m pytorch_lightning.utilities.upgrade_checkpoint c:\\Users\\colin\\OneDrive\\Desktop\\Jersey-Number-Recognition\\data\\pre_trained_models\\reid\\dukemtmcreid_resnet50_256_128_epoch_120.ckpt`\n",
      "Lightning automatically upgraded your loaded checkpoint from v1.1.4 to v2.5.0.post0. To apply the upgrade to your files permanently, run `python -m pytorch_lightning.utilities.upgrade_checkpoint c:\\Users\\colin\\OneDrive\\Desktop\\Jersey-Number-Recognition\\data\\pre_trained_models\\reid\\dukemtmcreid_resnet50_256_128_epoch_120.ckpt`\n"
     ]
    },
    {
     "name": "stdout",
     "output_type": "stream",
     "text": [
      "using GPU\n"
     ]
    },
    {
     "name": "stderr",
     "output_type": "stream",
     "text": [
      "Lightning automatically upgraded your loaded checkpoint from v1.1.4 to v2.5.0.post0. To apply the upgrade to your files permanently, run `python -m pytorch_lightning.utilities.upgrade_checkpoint c:\\Users\\colin\\OneDrive\\Desktop\\Jersey-Number-Recognition\\data\\pre_trained_models\\reid\\dukemtmcreid_resnet50_256_128_epoch_120.ckpt`\n"
     ]
    },
    {
     "name": "stdout",
     "output_type": "stream",
     "text": [
      "using GPU\n",
      "2025-03-22 22:08:32 [INFO] Saved features for tracklet with shape (311, 2048) to c:\\Users\\colin\\OneDrive\\Desktop\\Jersey-Number-Recognition\\data\\SoccerNet\\jersey-2023\\processed_data\\test\\4\\features.npy\n",
      "2025-03-22 22:08:32 [INFO] Identifying and removing outliers by calling gaussian_outliers_streamlined.py on feature file\n",
      "2025-03-22 22:08:32 [INFO] Skipping outlier removal for tracklet 4 as cache exists.\n",
      "2025-03-22 22:08:32 [INFO] Running model chain on preprocessed image(s).\n",
      "2025-03-22 22:08:32 [INFO] Classifying legibility of image(s) using pre-trained model.\n",
      "2025-03-22 22:08:32 [INFO] Determine soccer balls in image(s) using pre-trained model.\n",
      "2025-03-22 22:08:32 [ERROR] Error processing tracklet 4: [Errno 2] No such file or directory: 'c:\\\\Users\\\\colin\\\\OneDrive\\\\Desktop\\\\Jersey-Number-Recognition\\\\data\\\\SoccerNet\\\\jersey-2023\\\\processed_data\\\\test\\\\4\\\\main_subject_gauss_th=3.5_r=3.json'\n",
      "2025-03-22 22:08:32 [INFO] Skipping soccer ball filter for tracklet 6 as cache exists.\n"
     ]
    },
    {
     "name": "stderr",
     "output_type": "stream",
     "text": [
      "Lightning automatically upgraded your loaded checkpoint from v1.1.4 to v2.5.0.post0. To apply the upgrade to your files permanently, run `python -m pytorch_lightning.utilities.upgrade_checkpoint c:\\Users\\colin\\OneDrive\\Desktop\\Jersey-Number-Recognition\\data\\pre_trained_models\\reid\\dukemtmcreid_resnet50_256_128_epoch_120.ckpt`\n"
     ]
    },
    {
     "name": "stdout",
     "output_type": "stream",
     "text": [
      "2025-03-22 22:08:35 [INFO] Saved features for tracklet with shape (354, 2048) to c:\\Users\\colin\\OneDrive\\Desktop\\Jersey-Number-Recognition\\data\\SoccerNet\\jersey-2023\\processed_data\\test\\1\\features.npy\n",
      "2025-03-22 22:08:35 [INFO] Identifying and removing outliers by calling gaussian_outliers_streamlined.py on feature file\n",
      "2025-03-22 22:08:35 [INFO] Skipping outlier removal for tracklet 1 as cache exists.\n",
      "2025-03-22 22:08:35 [INFO] Running model chain on preprocessed image(s).\n",
      "2025-03-22 22:08:35 [INFO] Classifying legibility of image(s) using pre-trained model.\n",
      "2025-03-22 22:08:35 [INFO] Determine soccer balls in image(s) using pre-trained model.\n",
      "2025-03-22 22:08:35 [ERROR] Error processing tracklet 1: [Errno 2] No such file or directory: 'c:\\\\Users\\\\colin\\\\OneDrive\\\\Desktop\\\\Jersey-Number-Recognition\\\\data\\\\SoccerNet\\\\jersey-2023\\\\processed_data\\\\test\\\\1\\\\main_subject_gauss_th=3.5_r=3.json'\n"
     ]
    },
    {
     "name": "stderr",
     "output_type": "stream",
     "text": [
      "\n"
     ]
    },
    {
     "name": "stdout",
     "output_type": "stream",
     "text": [
      "2025-03-22 22:08:35 [INFO] Skipping soccer ball filter for tracklet 7 as cache exists.\n"
     ]
    },
    {
     "name": "stderr",
     "output_type": "stream",
     "text": [
      "Processing Batch Tracklets:   6%|▋         | 2/32 [00:09<02:12,  4.40s/it]\u001b[A"
     ]
    },
    {
     "name": "stdout",
     "output_type": "stream",
     "text": [
      "using GPU\n"
     ]
    },
    {
     "name": "stderr",
     "output_type": "stream",
     "text": [
      "Lightning automatically upgraded your loaded checkpoint from v1.1.4 to v2.5.0.post0. To apply the upgrade to your files permanently, run `python -m pytorch_lightning.utilities.upgrade_checkpoint c:\\Users\\colin\\OneDrive\\Desktop\\Jersey-Number-Recognition\\data\\pre_trained_models\\reid\\dukemtmcreid_resnet50_256_128_epoch_120.ckpt`\n"
     ]
    },
    {
     "name": "stdout",
     "output_type": "stream",
     "text": [
      "2025-03-22 22:08:42 [INFO] Saved features for tracklet with shape (627, 2048) to c:\\Users\\colin\\OneDrive\\Desktop\\Jersey-Number-Recognition\\data\\SoccerNet\\jersey-2023\\processed_data\\test\\5\\features.npy\n",
      "using GPU\n",
      "2025-03-22 22:08:42 [INFO] Identifying and removing outliers by calling gaussian_outliers_streamlined.py on feature file\n",
      "2025-03-22 22:08:42 [INFO] Skipping outlier removal for tracklet 5 as cache exists.\n",
      "2025-03-22 22:08:42 [INFO] Running model chain on preprocessed image(s).\n",
      "2025-03-22 22:08:42 [INFO] Classifying legibility of image(s) using pre-trained model.\n",
      "2025-03-22 22:08:42 [INFO] Determine soccer balls in image(s) using pre-trained model.\n",
      "2025-03-22 22:08:42 [ERROR] Error processing tracklet 5: [Errno 2] No such file or directory: 'c:\\\\Users\\\\colin\\\\OneDrive\\\\Desktop\\\\Jersey-Number-Recognition\\\\data\\\\SoccerNet\\\\jersey-2023\\\\processed_data\\\\test\\\\5\\\\main_subject_gauss_th=3.5_r=3.json'\n"
     ]
    },
    {
     "name": "stderr",
     "output_type": "stream",
     "text": [
      "\n"
     ]
    },
    {
     "name": "stdout",
     "output_type": "stream",
     "text": [
      "2025-03-22 22:08:42 [INFO] Skipping soccer ball filter for tracklet 8 as cache exists.\n"
     ]
    },
    {
     "name": "stderr",
     "output_type": "stream",
     "text": [
      "Processing Batch Tracklets:   9%|▉         | 3/32 [00:16<02:39,  5.51s/it]\u001b[A"
     ]
    },
    {
     "name": "stdout",
     "output_type": "stream",
     "text": [
      "using GPU\n"
     ]
    },
    {
     "name": "stderr",
     "output_type": "stream",
     "text": [
      "Lightning automatically upgraded your loaded checkpoint from v1.1.4 to v2.5.0.post0. To apply the upgrade to your files permanently, run `python -m pytorch_lightning.utilities.upgrade_checkpoint c:\\Users\\colin\\OneDrive\\Desktop\\Jersey-Number-Recognition\\data\\pre_trained_models\\reid\\dukemtmcreid_resnet50_256_128_epoch_120.ckpt`\n"
     ]
    },
    {
     "name": "stdout",
     "output_type": "stream",
     "text": [
      "2025-03-22 22:08:48 [INFO] Saved features for tracklet with shape (461, 2048) to c:\\Users\\colin\\OneDrive\\Desktop\\Jersey-Number-Recognition\\data\\SoccerNet\\jersey-2023\\processed_data\\test\\3\\features.npy\n",
      "2025-03-22 22:08:48 [INFO] Identifying and removing outliers by calling gaussian_outliers_streamlined.py on feature file\n",
      "2025-03-22 22:08:48 [INFO] Skipping outlier removal for tracklet 3 as cache exists.\n",
      "2025-03-22 22:08:48 [INFO] Running model chain on preprocessed image(s).\n",
      "2025-03-22 22:08:48 [INFO] Classifying legibility of image(s) using pre-trained model.\n",
      "2025-03-22 22:08:48 [INFO] Determine soccer balls in image(s) using pre-trained model.\n",
      "2025-03-22 22:08:48 [ERROR] Error processing tracklet 3: [Errno 2] No such file or directory: 'c:\\\\Users\\\\colin\\\\OneDrive\\\\Desktop\\\\Jersey-Number-Recognition\\\\data\\\\SoccerNet\\\\jersey-2023\\\\processed_data\\\\test\\\\3\\\\main_subject_gauss_th=3.5_r=3.json'\n"
     ]
    },
    {
     "name": "stderr",
     "output_type": "stream",
     "text": [
      "\n"
     ]
    },
    {
     "name": "stdout",
     "output_type": "stream",
     "text": [
      "2025-03-22 22:08:48 [INFO] Skipping soccer ball filter for tracklet 9 as cache exists.\n"
     ]
    },
    {
     "name": "stderr",
     "output_type": "stream",
     "text": [
      "Processing Batch Tracklets:  12%|█▎        | 4/32 [00:22<02:42,  5.82s/it]\u001b[A"
     ]
    },
    {
     "name": "stdout",
     "output_type": "stream",
     "text": [
      "2025-03-22 22:08:52 [INFO] Saved features for tracklet with shape (465, 2048) to c:\\Users\\colin\\OneDrive\\Desktop\\Jersey-Number-Recognition\\data\\SoccerNet\\jersey-2023\\processed_data\\test\\0\\features.npy\n",
      "2025-03-22 22:08:52 [INFO] Identifying and removing outliers by calling gaussian_outliers_streamlined.py on feature file\n",
      "2025-03-22 22:08:52 [INFO] Skipping outlier removal for tracklet 0 as cache exists.\n",
      "2025-03-22 22:08:52 [INFO] Running model chain on preprocessed image(s).\n",
      "2025-03-22 22:08:52 [INFO] Classifying legibility of image(s) using pre-trained model.\n",
      "2025-03-22 22:08:52 [INFO] Determine soccer balls in image(s) using pre-trained model.\n",
      "2025-03-22 22:08:52 [ERROR] Error processing tracklet 0: [Errno 2] No such file or directory: 'c:\\\\Users\\\\colin\\\\OneDrive\\\\Desktop\\\\Jersey-Number-Recognition\\\\data\\\\SoccerNet\\\\jersey-2023\\\\processed_data\\\\test\\\\0\\\\main_subject_gauss_th=3.5_r=3.json'\n",
      "2025-03-22 22:08:52 [INFO] Skipping soccer ball filter for tracklet 10 as cache exists.\n"
     ]
    },
    {
     "name": "stderr",
     "output_type": "stream",
     "text": [
      "Lightning automatically upgraded your loaded checkpoint from v1.1.4 to v2.5.0.post0. To apply the upgrade to your files permanently, run `python -m pytorch_lightning.utilities.upgrade_checkpoint c:\\Users\\colin\\OneDrive\\Desktop\\Jersey-Number-Recognition\\data\\pre_trained_models\\reid\\dukemtmcreid_resnet50_256_128_epoch_120.ckpt`\n"
     ]
    },
    {
     "name": "stdout",
     "output_type": "stream",
     "text": [
      "using GPU\n"
     ]
    },
    {
     "name": "stderr",
     "output_type": "stream",
     "text": [
      "Lightning automatically upgraded your loaded checkpoint from v1.1.4 to v2.5.0.post0. To apply the upgrade to your files permanently, run `python -m pytorch_lightning.utilities.upgrade_checkpoint c:\\Users\\colin\\OneDrive\\Desktop\\Jersey-Number-Recognition\\data\\pre_trained_models\\reid\\dukemtmcreid_resnet50_256_128_epoch_120.ckpt`\n"
     ]
    },
    {
     "name": "stdout",
     "output_type": "stream",
     "text": [
      "2025-03-22 22:08:56 [INFO] Saved features for tracklet with shape (349, 2048) to c:\\Users\\colin\\OneDrive\\Desktop\\Jersey-Number-Recognition\\data\\SoccerNet\\jersey-2023\\processed_data\\test\\2\\features.npy\n",
      "2025-03-22 22:08:56 [INFO] Identifying and removing outliers by calling gaussian_outliers_streamlined.py on feature file\n",
      "2025-03-22 22:08:56 [INFO] Skipping outlier removal for tracklet 2 as cache exists.\n",
      "2025-03-22 22:08:56 [INFO] Running model chain on preprocessed image(s).\n",
      "2025-03-22 22:08:56 [INFO] Classifying legibility of image(s) using pre-trained model.\n",
      "2025-03-22 22:08:56 [INFO] Determine soccer balls in image(s) using pre-trained model.\n",
      "2025-03-22 22:08:56 [ERROR] Error processing tracklet 2: [Errno 2] No such file or directory: 'c:\\\\Users\\\\colin\\\\OneDrive\\\\Desktop\\\\Jersey-Number-Recognition\\\\data\\\\SoccerNet\\\\jersey-2023\\\\processed_data\\\\test\\\\2\\\\main_subject_gauss_th=3.5_r=3.json'\n"
     ]
    },
    {
     "name": "stderr",
     "output_type": "stream",
     "text": [
      "\n"
     ]
    },
    {
     "name": "stdout",
     "output_type": "stream",
     "text": [
      "2025-03-22 22:08:56 [INFO] Skipping soccer ball filter for tracklet 11 as cache exists.\n"
     ]
    },
    {
     "name": "stderr",
     "output_type": "stream",
     "text": [
      "Processing Batch Tracklets:  19%|█▉        | 6/32 [00:30<02:02,  4.73s/it]\u001b[A"
     ]
    },
    {
     "name": "stdout",
     "output_type": "stream",
     "text": [
      "using GPU\n"
     ]
    },
    {
     "name": "stderr",
     "output_type": "stream",
     "text": [
      "Lightning automatically upgraded your loaded checkpoint from v1.1.4 to v2.5.0.post0. To apply the upgrade to your files permanently, run `python -m pytorch_lightning.utilities.upgrade_checkpoint c:\\Users\\colin\\OneDrive\\Desktop\\Jersey-Number-Recognition\\data\\pre_trained_models\\reid\\dukemtmcreid_resnet50_256_128_epoch_120.ckpt`\n"
     ]
    },
    {
     "name": "stdout",
     "output_type": "stream",
     "text": [
      "2025-03-22 22:09:02 [INFO] Saved features for tracklet with shape (490, 2048) to c:\\Users\\colin\\OneDrive\\Desktop\\Jersey-Number-Recognition\\data\\SoccerNet\\jersey-2023\\processed_data\\test\\6\\features.npy\n",
      "using GPU\n",
      "2025-03-22 22:09:02 [INFO] Identifying and removing outliers by calling gaussian_outliers_streamlined.py on feature file\n",
      "2025-03-22 22:09:02 [INFO] Skipping outlier removal for tracklet 6 as cache exists.\n",
      "2025-03-22 22:09:02 [INFO] Running model chain on preprocessed image(s).\n",
      "2025-03-22 22:09:02 [INFO] Classifying legibility of image(s) using pre-trained model.\n",
      "2025-03-22 22:09:02 [INFO] Determine soccer balls in image(s) using pre-trained model.\n",
      "2025-03-22 22:09:02 [ERROR] Error processing tracklet 6: [Errno 2] No such file or directory: 'c:\\\\Users\\\\colin\\\\OneDrive\\\\Desktop\\\\Jersey-Number-Recognition\\\\data\\\\SoccerNet\\\\jersey-2023\\\\processed_data\\\\test\\\\6\\\\main_subject_gauss_th=3.5_r=3.json'\n"
     ]
    },
    {
     "name": "stderr",
     "output_type": "stream",
     "text": [
      "\n"
     ]
    },
    {
     "name": "stdout",
     "output_type": "stream",
     "text": [
      "2025-03-22 22:09:02 [INFO] Skipping soccer ball filter for tracklet 12 as cache exists.\n"
     ]
    },
    {
     "name": "stderr",
     "output_type": "stream",
     "text": [
      "Processing Batch Tracklets:  22%|██▏       | 7/32 [00:36<02:08,  5.13s/it]\u001b[ALightning automatically upgraded your loaded checkpoint from v1.1.4 to v2.5.0.post0. To apply the upgrade to your files permanently, run `python -m pytorch_lightning.utilities.upgrade_checkpoint c:\\Users\\colin\\OneDrive\\Desktop\\Jersey-Number-Recognition\\data\\pre_trained_models\\reid\\dukemtmcreid_resnet50_256_128_epoch_120.ckpt`\n"
     ]
    },
    {
     "name": "stdout",
     "output_type": "stream",
     "text": [
      "using GPU\n",
      "2025-03-22 22:09:12 [INFO] Saved features for tracklet with shape (661, 2048) to c:\\Users\\colin\\OneDrive\\Desktop\\Jersey-Number-Recognition\\data\\SoccerNet\\jersey-2023\\processed_data\\test\\7\\features.npy\n",
      "2025-03-22 22:09:12 [INFO] Identifying and removing outliers by calling gaussian_outliers_streamlined.py on feature file\n",
      "2025-03-22 22:09:12 [INFO] Skipping outlier removal for tracklet 7 as cache exists.\n",
      "2025-03-22 22:09:12 [INFO] Running model chain on preprocessed image(s).\n",
      "2025-03-22 22:09:12 [INFO] Classifying legibility of image(s) using pre-trained model.\n",
      "2025-03-22 22:09:12 [INFO] Determine soccer balls in image(s) using pre-trained model.\n",
      "2025-03-22 22:09:12 [ERROR] Error processing tracklet 7: [Errno 2] No such file or directory: 'c:\\\\Users\\\\colin\\\\OneDrive\\\\Desktop\\\\Jersey-Number-Recognition\\\\data\\\\SoccerNet\\\\jersey-2023\\\\processed_data\\\\test\\\\7\\\\main_subject_gauss_th=3.5_r=3.json'\n"
     ]
    },
    {
     "name": "stderr",
     "output_type": "stream",
     "text": [
      "\n"
     ]
    },
    {
     "name": "stdout",
     "output_type": "stream",
     "text": [
      "2025-03-22 22:09:12 [INFO] Skipping soccer ball filter for tracklet 13 as cache exists.\n"
     ]
    },
    {
     "name": "stderr",
     "output_type": "stream",
     "text": [
      "Processing Batch Tracklets:  25%|██▌       | 8/32 [00:46<02:42,  6.76s/it]\u001b[ALightning automatically upgraded your loaded checkpoint from v1.1.4 to v2.5.0.post0. To apply the upgrade to your files permanently, run `python -m pytorch_lightning.utilities.upgrade_checkpoint c:\\Users\\colin\\OneDrive\\Desktop\\Jersey-Number-Recognition\\data\\pre_trained_models\\reid\\dukemtmcreid_resnet50_256_128_epoch_120.ckpt`\n"
     ]
    },
    {
     "name": "stdout",
     "output_type": "stream",
     "text": [
      "using GPU\n",
      "2025-03-22 22:09:18 [INFO] Saved features for tracklet with shape (544, 2048) to c:\\Users\\colin\\OneDrive\\Desktop\\Jersey-Number-Recognition\\data\\SoccerNet\\jersey-2023\\processed_data\\test\\8\\features.npy\n",
      "2025-03-22 22:09:18 [INFO] Identifying and removing outliers by calling gaussian_outliers_streamlined.py on feature file\n",
      "2025-03-22 22:09:18 [INFO] Skipping outlier removal for tracklet 8 as cache exists.\n",
      "2025-03-22 22:09:18 [INFO] Running model chain on preprocessed image(s).\n",
      "2025-03-22 22:09:18 [INFO] Classifying legibility of image(s) using pre-trained model.\n",
      "2025-03-22 22:09:18 [INFO] Determine soccer balls in image(s) using pre-trained model.\n",
      "2025-03-22 22:09:18 [ERROR] Error processing tracklet 8: [Errno 2] No such file or directory: 'c:\\\\Users\\\\colin\\\\OneDrive\\\\Desktop\\\\Jersey-Number-Recognition\\\\data\\\\SoccerNet\\\\jersey-2023\\\\processed_data\\\\test\\\\8\\\\main_subject_gauss_th=3.5_r=3.json'\n",
      "2025-03-22 22:09:18 [INFO] Skipping soccer ball filter for tracklet 14 as cache exists.\n"
     ]
    },
    {
     "name": "stderr",
     "output_type": "stream",
     "text": [
      "Lightning automatically upgraded your loaded checkpoint from v1.1.4 to v2.5.0.post0. To apply the upgrade to your files permanently, run `python -m pytorch_lightning.utilities.upgrade_checkpoint c:\\Users\\colin\\OneDrive\\Desktop\\Jersey-Number-Recognition\\data\\pre_trained_models\\reid\\dukemtmcreid_resnet50_256_128_epoch_120.ckpt`\n"
     ]
    },
    {
     "name": "stdout",
     "output_type": "stream",
     "text": [
      "using GPU\n",
      "2025-03-22 22:09:24 [INFO] Saved features for tracklet with shape (595, 2048) to c:\\Users\\colin\\OneDrive\\Desktop\\Jersey-Number-Recognition\\data\\SoccerNet\\jersey-2023\\processed_data\\test\\9\\features.npy\n",
      "2025-03-22 22:09:24 [INFO] Identifying and removing outliers by calling gaussian_outliers_streamlined.py on feature file\n",
      "2025-03-22 22:09:24 [INFO] Skipping outlier removal for tracklet 9 as cache exists.\n",
      "2025-03-22 22:09:24 [INFO] Running model chain on preprocessed image(s).\n",
      "2025-03-22 22:09:24 [INFO] Classifying legibility of image(s) using pre-trained model.\n",
      "2025-03-22 22:09:25 [INFO] Determine soccer balls in image(s) using pre-trained model.\n",
      "2025-03-22 22:09:25 [ERROR] Error processing tracklet 9: [Errno 2] No such file or directory: 'c:\\\\Users\\\\colin\\\\OneDrive\\\\Desktop\\\\Jersey-Number-Recognition\\\\data\\\\SoccerNet\\\\jersey-2023\\\\processed_data\\\\test\\\\9\\\\main_subject_gauss_th=3.5_r=3.json'\n"
     ]
    },
    {
     "name": "stderr",
     "output_type": "stream",
     "text": [
      "\n"
     ]
    },
    {
     "name": "stdout",
     "output_type": "stream",
     "text": [
      "2025-03-22 22:09:25 [INFO] Skipping soccer ball filter for tracklet 15 as cache exists.\n"
     ]
    },
    {
     "name": "stderr",
     "output_type": "stream",
     "text": [
      "Processing Batch Tracklets:  31%|███▏      | 10/32 [00:58<02:22,  6.46s/it]\u001b[ALightning automatically upgraded your loaded checkpoint from v1.1.4 to v2.5.0.post0. To apply the upgrade to your files permanently, run `python -m pytorch_lightning.utilities.upgrade_checkpoint c:\\Users\\colin\\OneDrive\\Desktop\\Jersey-Number-Recognition\\data\\pre_trained_models\\reid\\dukemtmcreid_resnet50_256_128_epoch_120.ckpt`\n"
     ]
    },
    {
     "name": "stdout",
     "output_type": "stream",
     "text": [
      "2025-03-22 22:09:30 [INFO] Saved features for tracklet with shape (549, 2048) to c:\\Users\\colin\\OneDrive\\Desktop\\Jersey-Number-Recognition\\data\\SoccerNet\\jersey-2023\\processed_data\\test\\10\\features.npy\n",
      "2025-03-22 22:09:30 [INFO] Identifying and removing outliers by calling gaussian_outliers_streamlined.py on feature file\n",
      "2025-03-22 22:09:30 [INFO] Skipping outlier removal for tracklet 10 as cache exists.\n",
      "2025-03-22 22:09:30 [INFO] Running model chain on preprocessed image(s).\n",
      "2025-03-22 22:09:30 [INFO] Classifying legibility of image(s) using pre-trained model.\n",
      "2025-03-22 22:09:30 [INFO] Determine soccer balls in image(s) using pre-trained model.\n",
      "2025-03-22 22:09:30 [ERROR] Error processing tracklet 10: [Errno 2] No such file or directory: 'c:\\\\Users\\\\colin\\\\OneDrive\\\\Desktop\\\\Jersey-Number-Recognition\\\\data\\\\SoccerNet\\\\jersey-2023\\\\processed_data\\\\test\\\\10\\\\main_subject_gauss_th=3.5_r=3.json'\n"
     ]
    },
    {
     "name": "stderr",
     "output_type": "stream",
     "text": [
      "\n"
     ]
    },
    {
     "name": "stdout",
     "output_type": "stream",
     "text": [
      "2025-03-22 22:09:30 [INFO] Skipping soccer ball filter for tracklet 16 as cache exists.\n"
     ]
    },
    {
     "name": "stderr",
     "output_type": "stream",
     "text": [
      "Processing Batch Tracklets:  34%|███▍      | 11/32 [01:03<02:07,  6.06s/it]\u001b[A"
     ]
    },
    {
     "name": "stdout",
     "output_type": "stream",
     "text": [
      "using GPU\n"
     ]
    },
    {
     "name": "stderr",
     "output_type": "stream",
     "text": [
      "Lightning automatically upgraded your loaded checkpoint from v1.1.4 to v2.5.0.post0. To apply the upgrade to your files permanently, run `python -m pytorch_lightning.utilities.upgrade_checkpoint c:\\Users\\colin\\OneDrive\\Desktop\\Jersey-Number-Recognition\\data\\pre_trained_models\\reid\\dukemtmcreid_resnet50_256_128_epoch_120.ckpt`\n"
     ]
    },
    {
     "name": "stdout",
     "output_type": "stream",
     "text": [
      "using GPU\n",
      "2025-03-22 22:09:37 [INFO] Saved features for tracklet with shape (641, 2048) to c:\\Users\\colin\\OneDrive\\Desktop\\Jersey-Number-Recognition\\data\\SoccerNet\\jersey-2023\\processed_data\\test\\11\\features.npy\n",
      "2025-03-22 22:09:37 [INFO] Identifying and removing outliers by calling gaussian_outliers_streamlined.py on feature file\n",
      "2025-03-22 22:09:37 [INFO] Skipping outlier removal for tracklet 11 as cache exists.\n",
      "2025-03-22 22:09:37 [INFO] Running model chain on preprocessed image(s).\n",
      "2025-03-22 22:09:37 [INFO] Classifying legibility of image(s) using pre-trained model.\n",
      "2025-03-22 22:09:37 [INFO] Determine soccer balls in image(s) using pre-trained model.\n",
      "2025-03-22 22:09:37 [INFO] Skipping soccer ball filter for tracklet 17 as cache exists.\n",
      "2025-03-22 22:09:37 [ERROR] Error processing tracklet 11: [Errno 2] No such file or directory: 'c:\\\\Users\\\\colin\\\\OneDrive\\\\Desktop\\\\Jersey-Number-Recognition\\\\data\\\\SoccerNet\\\\jersey-2023\\\\processed_data\\\\test\\\\11\\\\main_subject_gauss_th=3.5_r=3.json'\n"
     ]
    },
    {
     "name": "stderr",
     "output_type": "stream",
     "text": [
      "Lightning automatically upgraded your loaded checkpoint from v1.1.4 to v2.5.0.post0. To apply the upgrade to your files permanently, run `python -m pytorch_lightning.utilities.upgrade_checkpoint c:\\Users\\colin\\OneDrive\\Desktop\\Jersey-Number-Recognition\\data\\pre_trained_models\\reid\\dukemtmcreid_resnet50_256_128_epoch_120.ckpt`\n"
     ]
    },
    {
     "name": "stdout",
     "output_type": "stream",
     "text": [
      "using GPU\n",
      "2025-03-22 22:09:42 [INFO] Saved features for tracklet with shape (452, 2048) to c:\\Users\\colin\\OneDrive\\Desktop\\Jersey-Number-Recognition\\data\\SoccerNet\\jersey-2023\\processed_data\\test\\12\\features.npy\n",
      "2025-03-22 22:09:42 [INFO] Identifying and removing outliers by calling gaussian_outliers_streamlined.py on feature file\n",
      "2025-03-22 22:09:42 [INFO] Skipping outlier removal for tracklet 12 as cache exists.\n",
      "2025-03-22 22:09:42 [INFO] Running model chain on preprocessed image(s).\n",
      "2025-03-22 22:09:42 [INFO] Classifying legibility of image(s) using pre-trained model.\n",
      "2025-03-22 22:09:42 [INFO] Determine soccer balls in image(s) using pre-trained model.\n",
      "2025-03-22 22:09:42 [ERROR] Error processing tracklet 12: [Errno 2] No such file or directory: 'c:\\\\Users\\\\colin\\\\OneDrive\\\\Desktop\\\\Jersey-Number-Recognition\\\\data\\\\SoccerNet\\\\jersey-2023\\\\processed_data\\\\test\\\\12\\\\main_subject_gauss_th=3.5_r=3.json'\n"
     ]
    },
    {
     "name": "stderr",
     "output_type": "stream",
     "text": [
      "\n"
     ]
    },
    {
     "name": "stdout",
     "output_type": "stream",
     "text": [
      "2025-03-22 22:09:42 [INFO] Skipping soccer ball filter for tracklet 18 as cache exists.\n"
     ]
    },
    {
     "name": "stderr",
     "output_type": "stream",
     "text": [
      "Processing Batch Tracklets:  41%|████      | 13/32 [01:16<01:55,  6.08s/it]\u001b[ALightning automatically upgraded your loaded checkpoint from v1.1.4 to v2.5.0.post0. To apply the upgrade to your files permanently, run `python -m pytorch_lightning.utilities.upgrade_checkpoint c:\\Users\\colin\\OneDrive\\Desktop\\Jersey-Number-Recognition\\data\\pre_trained_models\\reid\\dukemtmcreid_resnet50_256_128_epoch_120.ckpt`\n"
     ]
    },
    {
     "name": "stdout",
     "output_type": "stream",
     "text": [
      "using GPU\n",
      "2025-03-22 22:09:48 [INFO] Saved features for tracklet with shape (467, 2048) to c:\\Users\\colin\\OneDrive\\Desktop\\Jersey-Number-Recognition\\data\\SoccerNet\\jersey-2023\\processed_data\\test\\13\\features.npy\n",
      "2025-03-22 22:09:48 [INFO] Identifying and removing outliers by calling gaussian_outliers_streamlined.py on feature file\n",
      "2025-03-22 22:09:48 [INFO] Skipping outlier removal for tracklet 13 as cache exists.\n",
      "2025-03-22 22:09:48 [INFO] Running model chain on preprocessed image(s).\n",
      "2025-03-22 22:09:48 [INFO] Classifying legibility of image(s) using pre-trained model.\n",
      "2025-03-22 22:09:48 [INFO] Determine soccer balls in image(s) using pre-trained model.\n",
      "2025-03-22 22:09:48 [ERROR] Error processing tracklet 13: [Errno 2] No such file or directory: 'c:\\\\Users\\\\colin\\\\OneDrive\\\\Desktop\\\\Jersey-Number-Recognition\\\\data\\\\SoccerNet\\\\jersey-2023\\\\processed_data\\\\test\\\\13\\\\main_subject_gauss_th=3.5_r=3.json'\n"
     ]
    },
    {
     "name": "stderr",
     "output_type": "stream",
     "text": [
      "\n"
     ]
    },
    {
     "name": "stdout",
     "output_type": "stream",
     "text": [
      "2025-03-22 22:09:48 [INFO] Skipping soccer ball filter for tracklet 19 as cache exists.\n"
     ]
    },
    {
     "name": "stderr",
     "output_type": "stream",
     "text": [
      "Processing Batch Tracklets:  44%|████▍     | 14/32 [01:22<01:48,  6.03s/it]\u001b[ALightning automatically upgraded your loaded checkpoint from v1.1.4 to v2.5.0.post0. To apply the upgrade to your files permanently, run `python -m pytorch_lightning.utilities.upgrade_checkpoint c:\\Users\\colin\\OneDrive\\Desktop\\Jersey-Number-Recognition\\data\\pre_trained_models\\reid\\dukemtmcreid_resnet50_256_128_epoch_120.ckpt`\n"
     ]
    },
    {
     "name": "stdout",
     "output_type": "stream",
     "text": [
      "2025-03-22 22:09:54 [INFO] Saved features for tracklet with shape (575, 2048) to c:\\Users\\colin\\OneDrive\\Desktop\\Jersey-Number-Recognition\\data\\SoccerNet\\jersey-2023\\processed_data\\test\\14\\features.npy\n",
      "2025-03-22 22:09:54 [INFO] Identifying and removing outliers by calling gaussian_outliers_streamlined.py on feature file\n",
      "2025-03-22 22:09:54 [INFO] Skipping outlier removal for tracklet 14 as cache exists.\n",
      "2025-03-22 22:09:54 [INFO] Running model chain on preprocessed image(s).\n",
      "2025-03-22 22:09:54 [INFO] Classifying legibility of image(s) using pre-trained model.\n",
      "2025-03-22 22:09:54 [INFO] Determine soccer balls in image(s) using pre-trained model.\n",
      "2025-03-22 22:09:54 [ERROR] Error processing tracklet 14: [Errno 2] No such file or directory: 'c:\\\\Users\\\\colin\\\\OneDrive\\\\Desktop\\\\Jersey-Number-Recognition\\\\data\\\\SoccerNet\\\\jersey-2023\\\\processed_data\\\\test\\\\14\\\\main_subject_gauss_th=3.5_r=3.json'\n"
     ]
    },
    {
     "name": "stderr",
     "output_type": "stream",
     "text": [
      "\n"
     ]
    },
    {
     "name": "stdout",
     "output_type": "stream",
     "text": [
      "2025-03-22 22:09:54 [INFO] Skipping soccer ball filter for tracklet 20 as cache exists.\n"
     ]
    },
    {
     "name": "stderr",
     "output_type": "stream",
     "text": [
      "Processing Batch Tracklets:  47%|████▋     | 15/32 [01:27<01:40,  5.92s/it]\u001b[A"
     ]
    },
    {
     "name": "stdout",
     "output_type": "stream",
     "text": [
      "using GPU\n"
     ]
    },
    {
     "name": "stderr",
     "output_type": "stream",
     "text": [
      "Lightning automatically upgraded your loaded checkpoint from v1.1.4 to v2.5.0.post0. To apply the upgrade to your files permanently, run `python -m pytorch_lightning.utilities.upgrade_checkpoint c:\\Users\\colin\\OneDrive\\Desktop\\Jersey-Number-Recognition\\data\\pre_trained_models\\reid\\dukemtmcreid_resnet50_256_128_epoch_120.ckpt`\n"
     ]
    },
    {
     "name": "stdout",
     "output_type": "stream",
     "text": [
      "2025-03-22 22:10:01 [INFO] Saved features for tracklet with shape (554, 2048) to c:\\Users\\colin\\OneDrive\\Desktop\\Jersey-Number-Recognition\\data\\SoccerNet\\jersey-2023\\processed_data\\test\\15\\features.npy\n",
      "using GPU\n",
      "2025-03-22 22:10:01 [INFO] Identifying and removing outliers by calling gaussian_outliers_streamlined.py on feature file\n",
      "2025-03-22 22:10:01 [INFO] Skipping outlier removal for tracklet 15 as cache exists.\n",
      "2025-03-22 22:10:01 [INFO] Running model chain on preprocessed image(s).\n",
      "2025-03-22 22:10:01 [INFO] Classifying legibility of image(s) using pre-trained model.\n",
      "2025-03-22 22:10:01 [INFO] Determine soccer balls in image(s) using pre-trained model.\n",
      "2025-03-22 22:10:01 [ERROR] Error processing tracklet 15: [Errno 2] No such file or directory: 'c:\\\\Users\\\\colin\\\\OneDrive\\\\Desktop\\\\Jersey-Number-Recognition\\\\data\\\\SoccerNet\\\\jersey-2023\\\\processed_data\\\\test\\\\15\\\\main_subject_gauss_th=3.5_r=3.json'\n"
     ]
    },
    {
     "name": "stderr",
     "output_type": "stream",
     "text": [
      "\n"
     ]
    },
    {
     "name": "stdout",
     "output_type": "stream",
     "text": [
      "2025-03-22 22:10:01 [INFO] Skipping soccer ball filter for tracklet 21 as cache exists.\n"
     ]
    },
    {
     "name": "stderr",
     "output_type": "stream",
     "text": [
      "Processing Batch Tracklets:  50%|█████     | 16/32 [01:34<01:39,  6.24s/it]\u001b[ALightning automatically upgraded your loaded checkpoint from v1.1.4 to v2.5.0.post0. To apply the upgrade to your files permanently, run `python -m pytorch_lightning.utilities.upgrade_checkpoint c:\\Users\\colin\\OneDrive\\Desktop\\Jersey-Number-Recognition\\data\\pre_trained_models\\reid\\dukemtmcreid_resnet50_256_128_epoch_120.ckpt`\n"
     ]
    },
    {
     "name": "stdout",
     "output_type": "stream",
     "text": [
      "using GPU\n",
      "2025-03-22 22:10:07 [INFO] Saved features for tracklet with shape (457, 2048) to c:\\Users\\colin\\OneDrive\\Desktop\\Jersey-Number-Recognition\\data\\SoccerNet\\jersey-2023\\processed_data\\test\\16\\features.npy\n",
      "2025-03-22 22:10:07 [INFO] Identifying and removing outliers by calling gaussian_outliers_streamlined.py on feature file\n",
      "2025-03-22 22:10:07 [INFO] Skipping outlier removal for tracklet 16 as cache exists.\n",
      "2025-03-22 22:10:07 [INFO] Running model chain on preprocessed image(s).\n",
      "2025-03-22 22:10:07 [INFO] Classifying legibility of image(s) using pre-trained model.\n",
      "2025-03-22 22:10:07 [INFO] Determine soccer balls in image(s) using pre-trained model.\n",
      "2025-03-22 22:10:07 [ERROR] Error processing tracklet 16: [Errno 2] No such file or directory: 'c:\\\\Users\\\\colin\\\\OneDrive\\\\Desktop\\\\Jersey-Number-Recognition\\\\data\\\\SoccerNet\\\\jersey-2023\\\\processed_data\\\\test\\\\16\\\\main_subject_gauss_th=3.5_r=3.json'\n"
     ]
    },
    {
     "name": "stderr",
     "output_type": "stream",
     "text": [
      "\n",
      "Processing Batch Tracklets:  53%|█████▎    | 17/32 [01:41<01:34,  6.33s/it]"
     ]
    },
    {
     "name": "stdout",
     "output_type": "stream",
     "text": [
      "2025-03-22 22:10:07 [INFO] Skipping soccer ball filter for tracklet 22 as cache exists.\n"
     ]
    },
    {
     "name": "stderr",
     "output_type": "stream",
     "text": [
      "\u001b[ALightning automatically upgraded your loaded checkpoint from v1.1.4 to v2.5.0.post0. To apply the upgrade to your files permanently, run `python -m pytorch_lightning.utilities.upgrade_checkpoint c:\\Users\\colin\\OneDrive\\Desktop\\Jersey-Number-Recognition\\data\\pre_trained_models\\reid\\dukemtmcreid_resnet50_256_128_epoch_120.ckpt`\n"
     ]
    },
    {
     "name": "stdout",
     "output_type": "stream",
     "text": [
      "2025-03-22 22:10:14 [INFO] Saved features for tracklet with shape (664, 2048) to c:\\Users\\colin\\OneDrive\\Desktop\\Jersey-Number-Recognition\\data\\SoccerNet\\jersey-2023\\processed_data\\test\\17\\features.npy\n",
      "2025-03-22 22:10:14 [INFO] Identifying and removing outliers by calling gaussian_outliers_streamlined.py on feature file\n",
      "2025-03-22 22:10:14 [INFO] Skipping outlier removal for tracklet 17 as cache exists.\n",
      "2025-03-22 22:10:14 [INFO] Running model chain on preprocessed image(s).\n",
      "2025-03-22 22:10:14 [INFO] Classifying legibility of image(s) using pre-trained model.\n",
      "2025-03-22 22:10:14 [INFO] Determine soccer balls in image(s) using pre-trained model.\n",
      "2025-03-22 22:10:14 [ERROR] Error processing tracklet 17: [Errno 2] No such file or directory: 'c:\\\\Users\\\\colin\\\\OneDrive\\\\Desktop\\\\Jersey-Number-Recognition\\\\data\\\\SoccerNet\\\\jersey-2023\\\\processed_data\\\\test\\\\17\\\\main_subject_gauss_th=3.5_r=3.json'\n"
     ]
    },
    {
     "name": "stderr",
     "output_type": "stream",
     "text": [
      "\n"
     ]
    },
    {
     "name": "stdout",
     "output_type": "stream",
     "text": [
      "2025-03-22 22:10:14 [INFO] Skipping soccer ball filter for tracklet 23 as cache exists.\n"
     ]
    },
    {
     "name": "stderr",
     "output_type": "stream",
     "text": [
      "Processing Batch Tracklets:  56%|█████▋    | 18/32 [01:47<01:28,  6.33s/it]\u001b[A"
     ]
    },
    {
     "name": "stdout",
     "output_type": "stream",
     "text": [
      "using GPU\n"
     ]
    },
    {
     "name": "stderr",
     "output_type": "stream",
     "text": [
      "Lightning automatically upgraded your loaded checkpoint from v1.1.4 to v2.5.0.post0. To apply the upgrade to your files permanently, run `python -m pytorch_lightning.utilities.upgrade_checkpoint c:\\Users\\colin\\OneDrive\\Desktop\\Jersey-Number-Recognition\\data\\pre_trained_models\\reid\\dukemtmcreid_resnet50_256_128_epoch_120.ckpt`\n"
     ]
    },
    {
     "name": "stdout",
     "output_type": "stream",
     "text": [
      "using GPU\n",
      "2025-03-22 22:10:22 [INFO] Saved features for tracklet with shape (601, 2048) to c:\\Users\\colin\\OneDrive\\Desktop\\Jersey-Number-Recognition\\data\\SoccerNet\\jersey-2023\\processed_data\\test\\18\\features.npy\n",
      "2025-03-22 22:10:22 [INFO] Identifying and removing outliers by calling gaussian_outliers_streamlined.py on feature file\n",
      "2025-03-22 22:10:22 [INFO] Skipping outlier removal for tracklet 18 as cache exists.\n",
      "2025-03-22 22:10:22 [INFO] Running model chain on preprocessed image(s).\n",
      "2025-03-22 22:10:22 [INFO] Classifying legibility of image(s) using pre-trained model.\n",
      "2025-03-22 22:10:22 [INFO] Determine soccer balls in image(s) using pre-trained model.\n",
      "2025-03-22 22:10:22 [ERROR] Error processing tracklet 18: [Errno 2] No such file or directory: 'c:\\\\Users\\\\colin\\\\OneDrive\\\\Desktop\\\\Jersey-Number-Recognition\\\\data\\\\SoccerNet\\\\jersey-2023\\\\processed_data\\\\test\\\\18\\\\main_subject_gauss_th=3.5_r=3.json'\n",
      "2025-03-22 22:10:22 [INFO] Skipping soccer ball filter for tracklet 24 as cache exists.\n"
     ]
    },
    {
     "name": "stderr",
     "output_type": "stream",
     "text": []
    },
    {
     "name": "stdout",
     "output_type": "stream",
     "text": [
      "using GPU\n"
     ]
    },
    {
     "name": "stderr",
     "output_type": "stream",
     "text": [
      "Lightning automatically upgraded your loaded checkpoint from v1.1.4 to v2.5.0.post0. To apply the upgrade to your files permanently, run `python -m pytorch_lightning.utilities.upgrade_checkpoint c:\\Users\\colin\\OneDrive\\Desktop\\Jersey-Number-Recognition\\data\\pre_trained_models\\reid\\dukemtmcreid_resnet50_256_128_epoch_120.ckpt`\n"
     ]
    },
    {
     "name": "stdout",
     "output_type": "stream",
     "text": [
      "2025-03-22 22:10:29 [INFO] Saved features for tracklet with shape (724, 2048) to c:\\Users\\colin\\OneDrive\\Desktop\\Jersey-Number-Recognition\\data\\SoccerNet\\jersey-2023\\processed_data\\test\\19\\features.npy\n",
      "2025-03-22 22:10:29 [INFO] Identifying and removing outliers by calling gaussian_outliers_streamlined.py on feature file\n",
      "2025-03-22 22:10:29 [INFO] Skipping outlier removal for tracklet 19 as cache exists.\n",
      "2025-03-22 22:10:29 [INFO] Running model chain on preprocessed image(s).\n",
      "2025-03-22 22:10:29 [INFO] Classifying legibility of image(s) using pre-trained model.\n",
      "2025-03-22 22:10:29 [INFO] Determine soccer balls in image(s) using pre-trained model.\n",
      "2025-03-22 22:10:29 [ERROR] Error processing tracklet 19: [Errno 2] No such file or directory: 'c:\\\\Users\\\\colin\\\\OneDrive\\\\Desktop\\\\Jersey-Number-Recognition\\\\data\\\\SoccerNet\\\\jersey-2023\\\\processed_data\\\\test\\\\19\\\\main_subject_gauss_th=3.5_r=3.json'\n"
     ]
    },
    {
     "name": "stderr",
     "output_type": "stream",
     "text": [
      "\n",
      "Processing Batch Tracklets:  62%|██████▎   | 20/32 [02:02<01:22,  6.88s/it]"
     ]
    },
    {
     "name": "stdout",
     "output_type": "stream",
     "text": [
      "2025-03-22 22:10:29 [INFO] Skipping soccer ball filter for tracklet 25 as cache exists.\n"
     ]
    },
    {
     "name": "stderr",
     "output_type": "stream",
     "text": [
      "\u001b[A"
     ]
    },
    {
     "name": "stdout",
     "output_type": "stream",
     "text": [
      "2025-03-22 22:10:30 [INFO] Saved features for tracklet with shape (132, 2048) to c:\\Users\\colin\\OneDrive\\Desktop\\Jersey-Number-Recognition\\data\\SoccerNet\\jersey-2023\\processed_data\\test\\20\\features.npy\n",
      "2025-03-22 22:10:30 [INFO] Identifying and removing outliers by calling gaussian_outliers_streamlined.py on feature file\n",
      "2025-03-22 22:10:30 [INFO] Skipping outlier removal for tracklet 20 as cache exists.\n",
      "2025-03-22 22:10:30 [INFO] Running model chain on preprocessed image(s).\n",
      "2025-03-22 22:10:30 [INFO] Classifying legibility of image(s) using pre-trained model.\n",
      "2025-03-22 22:10:30 [INFO] Determine soccer balls in image(s) using pre-trained model.\n"
     ]
    },
    {
     "name": "stderr",
     "output_type": "stream",
     "text": [
      "Lightning automatically upgraded your loaded checkpoint from v1.1.4 to v2.5.0.post0. To apply the upgrade to your files permanently, run `python -m pytorch_lightning.utilities.upgrade_checkpoint c:\\Users\\colin\\OneDrive\\Desktop\\Jersey-Number-Recognition\\data\\pre_trained_models\\reid\\dukemtmcreid_resnet50_256_128_epoch_120.ckpt`\n"
     ]
    },
    {
     "name": "stdout",
     "output_type": "stream",
     "text": [
      "2025-03-22 22:10:30 [ERROR] Error processing tracklet 20: [Errno 2] No such file or directory: 'c:\\\\Users\\\\colin\\\\OneDrive\\\\Desktop\\\\Jersey-Number-Recognition\\\\data\\\\SoccerNet\\\\jersey-2023\\\\processed_data\\\\test\\\\20\\\\main_subject_gauss_th=3.5_r=3.json'\n",
      "2025-03-22 22:10:30 [INFO] Skipping soccer ball filter for tracklet 26 as cache exists.\n"
     ]
    },
    {
     "name": "stderr",
     "output_type": "stream",
     "text": []
    },
    {
     "name": "stdout",
     "output_type": "stream",
     "text": [
      "using GPU\n"
     ]
    },
    {
     "name": "stderr",
     "output_type": "stream",
     "text": [
      "Lightning automatically upgraded your loaded checkpoint from v1.1.4 to v2.5.0.post0. To apply the upgrade to your files permanently, run `python -m pytorch_lightning.utilities.upgrade_checkpoint c:\\Users\\colin\\OneDrive\\Desktop\\Jersey-Number-Recognition\\data\\pre_trained_models\\reid\\dukemtmcreid_resnet50_256_128_epoch_120.ckpt`\n"
     ]
    },
    {
     "name": "stdout",
     "output_type": "stream",
     "text": [
      "2025-03-22 22:10:32 [INFO] Saved features for tracklet with shape (145, 2048) to c:\\Users\\colin\\OneDrive\\Desktop\\Jersey-Number-Recognition\\data\\SoccerNet\\jersey-2023\\processed_data\\test\\21\\features.npy\n",
      "using GPU\n",
      "2025-03-22 22:10:32 [INFO] Identifying and removing outliers by calling gaussian_outliers_streamlined.py on feature file\n",
      "2025-03-22 22:10:32 [INFO] Skipping outlier removal for tracklet 21 as cache exists.\n",
      "2025-03-22 22:10:32 [INFO] Running model chain on preprocessed image(s).\n",
      "2025-03-22 22:10:32 [INFO] Classifying legibility of image(s) using pre-trained model.\n",
      "2025-03-22 22:10:32 [INFO] Determine soccer balls in image(s) using pre-trained model.\n",
      "2025-03-22 22:10:32 [ERROR] Error processing tracklet 21: [Errno 2] No such file or directory: 'c:\\\\Users\\\\colin\\\\OneDrive\\\\Desktop\\\\Jersey-Number-Recognition\\\\data\\\\SoccerNet\\\\jersey-2023\\\\processed_data\\\\test\\\\21\\\\main_subject_gauss_th=3.5_r=3.json'\n"
     ]
    },
    {
     "name": "stderr",
     "output_type": "stream",
     "text": [
      "\n"
     ]
    },
    {
     "name": "stdout",
     "output_type": "stream",
     "text": [
      "2025-03-22 22:10:32 [INFO] Skipping soccer ball filter for tracklet 27 as cache exists.\n"
     ]
    },
    {
     "name": "stderr",
     "output_type": "stream",
     "text": [
      "Processing Batch Tracklets:  69%|██████▉   | 22/32 [02:06<00:42,  4.26s/it]\u001b[ALightning automatically upgraded your loaded checkpoint from v1.1.4 to v2.5.0.post0. To apply the upgrade to your files permanently, run `python -m pytorch_lightning.utilities.upgrade_checkpoint c:\\Users\\colin\\OneDrive\\Desktop\\Jersey-Number-Recognition\\data\\pre_trained_models\\reid\\dukemtmcreid_resnet50_256_128_epoch_120.ckpt`\n"
     ]
    },
    {
     "name": "stdout",
     "output_type": "stream",
     "text": [
      "2025-03-22 22:10:34 [INFO] Saved features for tracklet with shape (144, 2048) to c:\\Users\\colin\\OneDrive\\Desktop\\Jersey-Number-Recognition\\data\\SoccerNet\\jersey-2023\\processed_data\\test\\22\\features.npy\n",
      "using GPU\n",
      "2025-03-22 22:10:34 [INFO] Identifying and removing outliers by calling gaussian_outliers_streamlined.py on feature file\n",
      "2025-03-22 22:10:34 [INFO] Skipping outlier removal for tracklet 22 as cache exists.\n",
      "2025-03-22 22:10:34 [INFO] Running model chain on preprocessed image(s).\n",
      "2025-03-22 22:10:34 [INFO] Classifying legibility of image(s) using pre-trained model.\n",
      "2025-03-22 22:10:34 [INFO] Determine soccer balls in image(s) using pre-trained model.\n",
      "2025-03-22 22:10:34 [ERROR] Error processing tracklet 22: [Errno 2] No such file or directory: 'c:\\\\Users\\\\colin\\\\OneDrive\\\\Desktop\\\\Jersey-Number-Recognition\\\\data\\\\SoccerNet\\\\jersey-2023\\\\processed_data\\\\test\\\\22\\\\main_subject_gauss_th=3.5_r=3.json'\n"
     ]
    },
    {
     "name": "stderr",
     "output_type": "stream",
     "text": [
      "\n"
     ]
    },
    {
     "name": "stdout",
     "output_type": "stream",
     "text": [
      "2025-03-22 22:10:34 [INFO] Skipping soccer ball filter for tracklet 28 as cache exists.\n"
     ]
    },
    {
     "name": "stderr",
     "output_type": "stream",
     "text": [
      "Processing Batch Tracklets:  72%|███████▏  | 23/32 [02:08<00:31,  3.52s/it]\u001b[ALightning automatically upgraded your loaded checkpoint from v1.1.4 to v2.5.0.post0. To apply the upgrade to your files permanently, run `python -m pytorch_lightning.utilities.upgrade_checkpoint c:\\Users\\colin\\OneDrive\\Desktop\\Jersey-Number-Recognition\\data\\pre_trained_models\\reid\\dukemtmcreid_resnet50_256_128_epoch_120.ckpt`\n"
     ]
    },
    {
     "name": "stdout",
     "output_type": "stream",
     "text": [
      "2025-03-22 22:10:36 [INFO] Saved features for tracklet with shape (131, 2048) to c:\\Users\\colin\\OneDrive\\Desktop\\Jersey-Number-Recognition\\data\\SoccerNet\\jersey-2023\\processed_data\\test\\23\\features.npy\n",
      "2025-03-22 22:10:36 [INFO] Identifying and removing outliers by calling gaussian_outliers_streamlined.py on feature file\n",
      "2025-03-22 22:10:36 [INFO] Skipping outlier removal for tracklet 23 as cache exists.\n",
      "2025-03-22 22:10:36 [INFO] Running model chain on preprocessed image(s).\n",
      "2025-03-22 22:10:36 [INFO] Classifying legibility of image(s) using pre-trained model.\n",
      "2025-03-22 22:10:36 [INFO] Determine soccer balls in image(s) using pre-trained model.\n",
      "2025-03-22 22:10:36 [ERROR] Error processing tracklet 23: [Errno 2] No such file or directory: 'c:\\\\Users\\\\colin\\\\OneDrive\\\\Desktop\\\\Jersey-Number-Recognition\\\\data\\\\SoccerNet\\\\jersey-2023\\\\processed_data\\\\test\\\\23\\\\main_subject_gauss_th=3.5_r=3.json'\n"
     ]
    },
    {
     "name": "stderr",
     "output_type": "stream",
     "text": [
      "\n"
     ]
    },
    {
     "name": "stdout",
     "output_type": "stream",
     "text": [
      "2025-03-22 22:10:36 [INFO] Skipping soccer ball filter for tracklet 29 as cache exists.\n"
     ]
    },
    {
     "name": "stderr",
     "output_type": "stream",
     "text": [
      "Processing Batch Tracklets:  75%|███████▌  | 24/32 [02:09<00:24,  3.02s/it]\u001b[A"
     ]
    },
    {
     "name": "stdout",
     "output_type": "stream",
     "text": [
      "using GPU\n"
     ]
    },
    {
     "name": "stderr",
     "output_type": "stream",
     "text": [
      "Lightning automatically upgraded your loaded checkpoint from v1.1.4 to v2.5.0.post0. To apply the upgrade to your files permanently, run `python -m pytorch_lightning.utilities.upgrade_checkpoint c:\\Users\\colin\\OneDrive\\Desktop\\Jersey-Number-Recognition\\data\\pre_trained_models\\reid\\dukemtmcreid_resnet50_256_128_epoch_120.ckpt`\n"
     ]
    },
    {
     "name": "stdout",
     "output_type": "stream",
     "text": [
      "using GPU\n",
      "2025-03-22 22:10:38 [INFO] Saved features for tracklet with shape (124, 2048) to c:\\Users\\colin\\OneDrive\\Desktop\\Jersey-Number-Recognition\\data\\SoccerNet\\jersey-2023\\processed_data\\test\\24\\features.npy\n",
      "2025-03-22 22:10:38 [INFO] Identifying and removing outliers by calling gaussian_outliers_streamlined.py on feature file\n",
      "2025-03-22 22:10:38 [INFO] Skipping outlier removal for tracklet 24 as cache exists.\n",
      "2025-03-22 22:10:38 [INFO] Running model chain on preprocessed image(s).\n",
      "2025-03-22 22:10:38 [INFO] Classifying legibility of image(s) using pre-trained model.\n",
      "2025-03-22 22:10:38 [INFO] Determine soccer balls in image(s) using pre-trained model.\n",
      "2025-03-22 22:10:38 [ERROR] Error processing tracklet 24: [Errno 2] No such file or directory: 'c:\\\\Users\\\\colin\\\\OneDrive\\\\Desktop\\\\Jersey-Number-Recognition\\\\data\\\\SoccerNet\\\\jersey-2023\\\\processed_data\\\\test\\\\24\\\\main_subject_gauss_th=3.5_r=3.json'\n"
     ]
    },
    {
     "name": "stderr",
     "output_type": "stream",
     "text": [
      "\n"
     ]
    },
    {
     "name": "stdout",
     "output_type": "stream",
     "text": [
      "2025-03-22 22:10:38 [INFO] Skipping soccer ball filter for tracklet 30 as cache exists.\n"
     ]
    },
    {
     "name": "stderr",
     "output_type": "stream",
     "text": [
      "Processing Batch Tracklets:  78%|███████▊  | 25/32 [02:11<00:18,  2.71s/it]\u001b[ALightning automatically upgraded your loaded checkpoint from v1.1.4 to v2.5.0.post0. To apply the upgrade to your files permanently, run `python -m pytorch_lightning.utilities.upgrade_checkpoint c:\\Users\\colin\\OneDrive\\Desktop\\Jersey-Number-Recognition\\data\\pre_trained_models\\reid\\dukemtmcreid_resnet50_256_128_epoch_120.ckpt`\n"
     ]
    },
    {
     "name": "stdout",
     "output_type": "stream",
     "text": [
      "using GPU\n",
      "2025-03-22 22:10:39 [INFO] Saved features for tracklet with shape (123, 2048) to c:\\Users\\colin\\OneDrive\\Desktop\\Jersey-Number-Recognition\\data\\SoccerNet\\jersey-2023\\processed_data\\test\\25\\features.npy\n",
      "2025-03-22 22:10:39 [INFO] Identifying and removing outliers by calling gaussian_outliers_streamlined.py on feature file\n",
      "2025-03-22 22:10:39 [INFO] Skipping outlier removal for tracklet 25 as cache exists.\n",
      "2025-03-22 22:10:39 [INFO] Running model chain on preprocessed image(s).\n",
      "2025-03-22 22:10:39 [INFO] Classifying legibility of image(s) using pre-trained model.\n",
      "2025-03-22 22:10:39 [INFO] Determine soccer balls in image(s) using pre-trained model.\n",
      "2025-03-22 22:10:39 [ERROR] Error processing tracklet 25: [Errno 2] No such file or directory: 'c:\\\\Users\\\\colin\\\\OneDrive\\\\Desktop\\\\Jersey-Number-Recognition\\\\data\\\\SoccerNet\\\\jersey-2023\\\\processed_data\\\\test\\\\25\\\\main_subject_gauss_th=3.5_r=3.json'\n"
     ]
    },
    {
     "name": "stderr",
     "output_type": "stream",
     "text": [
      "\n"
     ]
    },
    {
     "name": "stdout",
     "output_type": "stream",
     "text": [
      "2025-03-22 22:10:39 [INFO] Skipping soccer ball filter for tracklet 31 as cache exists.\n"
     ]
    },
    {
     "name": "stderr",
     "output_type": "stream",
     "text": [
      "Processing Batch Tracklets:  81%|████████▏ | 26/32 [02:13<00:14,  2.37s/it]\u001b[ALightning automatically upgraded your loaded checkpoint from v1.1.4 to v2.5.0.post0. To apply the upgrade to your files permanently, run `python -m pytorch_lightning.utilities.upgrade_checkpoint c:\\Users\\colin\\OneDrive\\Desktop\\Jersey-Number-Recognition\\data\\pre_trained_models\\reid\\dukemtmcreid_resnet50_256_128_epoch_120.ckpt`\n"
     ]
    },
    {
     "name": "stdout",
     "output_type": "stream",
     "text": [
      "2025-03-22 22:10:41 [INFO] Saved features for tracklet with shape (120, 2048) to c:\\Users\\colin\\OneDrive\\Desktop\\Jersey-Number-Recognition\\data\\SoccerNet\\jersey-2023\\processed_data\\test\\26\\features.npy\n",
      "using GPU\n",
      "2025-03-22 22:10:41 [INFO] Identifying and removing outliers by calling gaussian_outliers_streamlined.py on feature file\n",
      "2025-03-22 22:10:41 [INFO] Skipping outlier removal for tracklet 26 as cache exists.\n",
      "2025-03-22 22:10:41 [INFO] Running model chain on preprocessed image(s).\n",
      "2025-03-22 22:10:41 [INFO] Classifying legibility of image(s) using pre-trained model.\n"
     ]
    },
    {
     "name": "stderr",
     "output_type": "stream",
     "text": [
      "Lightning automatically upgraded your loaded checkpoint from v1.1.4 to v2.5.0.post0. To apply the upgrade to your files permanently, run `python -m pytorch_lightning.utilities.upgrade_checkpoint c:\\Users\\colin\\OneDrive\\Desktop\\Jersey-Number-Recognition\\data\\pre_trained_models\\reid\\dukemtmcreid_resnet50_256_128_epoch_120.ckpt`\n"
     ]
    },
    {
     "name": "stdout",
     "output_type": "stream",
     "text": [
      "2025-03-22 22:10:47 [INFO] Saved features for tracklet with shape (563, 2048) to c:\\Users\\colin\\OneDrive\\Desktop\\Jersey-Number-Recognition\\data\\SoccerNet\\jersey-2023\\processed_data\\test\\27\\features.npy\n",
      "2025-03-22 22:10:47 [INFO] Identifying and removing outliers by calling gaussian_outliers_streamlined.py on feature file\n",
      "2025-03-22 22:10:47 [INFO] Skipping outlier removal for tracklet 27 as cache exists.\n",
      "2025-03-22 22:10:47 [INFO] Running model chain on preprocessed image(s).\n",
      "2025-03-22 22:10:47 [INFO] Classifying legibility of image(s) using pre-trained model.\n",
      "using GPU\n"
     ]
    }
   ],
   "source": [
    "pipeline.run_soccernet(\n",
    "  run_soccer_ball_filter=True,\n",
    "  generate_features=True,\n",
    "  run_filter=True,\n",
    "  run_legible=True,\n",
    "  run_legible_eval=True,\n",
    "  run_pose=False,\n",
    "  run_crops=False,\n",
    "  run_str=False,\n",
    "  run_combine=False,\n",
    "  run_eval=False)"
   ]
  }
 ],
 "metadata": {
  "kernelspec": {
   "display_name": "UBC",
   "language": "python",
   "name": "python3"
  },
  "language_info": {
   "codemirror_mode": {
    "name": "ipython",
    "version": 3
   },
   "file_extension": ".py",
   "mimetype": "text/x-python",
   "name": "python",
   "nbconvert_exporter": "python",
   "pygments_lexer": "ipython3",
   "version": "3.13.1"
  }
 },
 "nbformat": 4,
 "nbformat_minor": 2
}
