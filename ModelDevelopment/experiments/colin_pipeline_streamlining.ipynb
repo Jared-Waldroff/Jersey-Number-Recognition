{
 "cells": [
  {
   "cell_type": "markdown",
   "metadata": {},
   "source": [
    "### Quick Run Block"
   ]
  },
  {
   "cell_type": "code",
   "execution_count": null,
   "metadata": {},
   "outputs": [],
   "source": []
  },
  {
   "cell_type": "markdown",
   "metadata": {},
   "source": [
    "## Code"
   ]
  },
  {
   "cell_type": "code",
   "execution_count": 1,
   "metadata": {},
   "outputs": [
    {
     "name": "stdout",
     "output_type": "stream",
     "text": [
      "c:\\Users\\colin\\OneDrive\\Desktop\\Jersey-Number-Recognition\n",
      "Current working directory:  c:\\Users\\colin\\OneDrive\\Desktop\\Jersey-Number-Recognition\\ModelDevelopment\\experiments\n"
     ]
    }
   ],
   "source": [
    "import sys\n",
    "from pathlib import Path\n",
    "import os\n",
    "\n",
    "sys.path.append(str(Path.cwd().parent.parent))\n",
    "print(str(Path.cwd().parent.parent))\n",
    "print(\"Current working directory: \", os.getcwd())\n",
    "\n",
    "from ModelDevelopment.CentralPipeline import CentralPipeline\n",
    "from ModelDevelopment.ImageBatchPipeline import ImageBatchPipeline\n",
    "from DataProcessing.DataPreProcessing import DataPaths"
   ]
  },
  {
   "cell_type": "code",
   "execution_count": 2,
   "metadata": {},
   "outputs": [
    {
     "name": "stdout",
     "output_type": "stream",
     "text": [
      "2025-03-22 22:12:53 [INFO] DataPreProcessing initialized. Universe of available data paths:\n",
      "2025-03-22 22:12:53 [INFO] ROOT_DATA_DIR: c:\\Users\\colin\\OneDrive\\Desktop\\Jersey-Number-Recognition\\data\\SoccerNet\\jersey-2023\\extracted\n",
      "2025-03-22 22:12:53 [INFO] TEST_DATA_GT: c:\\Users\\colin\\OneDrive\\Desktop\\Jersey-Number-Recognition\\data\\SoccerNet\\jersey-2023\\extracted\\test\\test_gt.json\n",
      "2025-03-22 22:12:53 [INFO] TRAIN_DATA_GT: c:\\Users\\colin\\OneDrive\\Desktop\\Jersey-Number-Recognition\\data\\SoccerNet\\jersey-2023\\extracted\\train\\train_gt.json\n",
      "2025-03-22 22:12:53 [INFO] TEST_DATA_DIR: c:\\Users\\colin\\OneDrive\\Desktop\\Jersey-Number-Recognition\\data\\SoccerNet\\jersey-2023\\extracted\\test\\images\n",
      "2025-03-22 22:12:53 [INFO] TRAIN_DATA_DIR: c:\\Users\\colin\\OneDrive\\Desktop\\Jersey-Number-Recognition\\data\\SoccerNet\\jersey-2023\\extracted\\train\\images\n",
      "2025-03-22 22:12:53 [INFO] CHALLENGE_DATA_DIR: c:\\Users\\colin\\OneDrive\\Desktop\\Jersey-Number-Recognition\\data\\SoccerNet\\jersey-2023\\extracted\\challenge\\images\n",
      "2025-03-22 22:12:53 [INFO] PRE_TRAINED_MODELS_DIR: c:\\Users\\colin\\OneDrive\\Desktop\\Jersey-Number-Recognition\\data\\pre_trained_models\n",
      "2025-03-22 22:12:53 [INFO] REID_PRE_TRAINED: c:\\Users\\colin\\OneDrive\\Desktop\\Jersey-Number-Recognition\\data\\pre_trained_models\\reid\n",
      "2025-03-22 22:12:53 [INFO] STR_PRE_TRAINED: c:\\Users\\colin\\OneDrive\\Desktop\\Jersey-Number-Recognition\\data\\pre_trained_models\\str\n",
      "2025-03-22 22:12:53 [INFO] STR_MODEL: c:\\Users\\colin\\OneDrive\\Desktop\\Jersey-Number-Recognition\\data\\pre_trained_models\\str\\parseq_epoch=24-step=2575-val_accuracy=95.6044-val_NED=96.3255.ckpt\n",
      "2025-03-22 22:12:53 [INFO] REID_MODEL_1: c:\\Users\\colin\\OneDrive\\Desktop\\Jersey-Number-Recognition\\data\\pre_trained_models\\reid\\dukemtmcreid_resnet50_256_128_epoch_120.ckpt\n",
      "2025-03-22 22:12:53 [INFO] REID_MODEL_2: c:\\Users\\colin\\OneDrive\\Desktop\\Jersey-Number-Recognition\\data\\pre_trained_models\\reid\\market1501_resnet50_256_128_epoch_120.ckpt\n",
      "2025-03-22 22:12:53 [INFO] REID_CONFIG_YAML: c:\\Users\\colin\\OneDrive\\Desktop\\Jersey-Number-Recognition\\data\\pre_trained_models\\reid\\configs\\256_resnet50.yml\n",
      "2025-03-22 22:12:53 [INFO] RESNET_MODEL: c:\\Users\\colin\\OneDrive\\Desktop\\Jersey-Number-Recognition\\data\\pre_trained_models\\resnet\\legibility_resnet34_soccer_20240215.pth\n",
      "2025-03-22 22:12:53 [INFO] PROCESSED_DATA_OUTPUT_DIR: c:\\Users\\colin\\OneDrive\\Desktop\\Jersey-Number-Recognition\\data\\SoccerNet\\jersey-2023\\processed_data\n",
      "2025-03-22 22:12:53 [INFO] PROCESSED_DATA_OUTPUT_DIR_TRAIN: c:\\Users\\colin\\OneDrive\\Desktop\\Jersey-Number-Recognition\\data\\SoccerNet\\jersey-2023\\processed_data\\train\n",
      "2025-03-22 22:12:53 [INFO] PROCESSED_DATA_OUTPUT_DIR_TEST: c:\\Users\\colin\\OneDrive\\Desktop\\Jersey-Number-Recognition\\data\\SoccerNet\\jersey-2023\\processed_data\\test\n",
      "2025-03-22 22:12:53 [INFO] PROCESSED_DATA_OUTPUT_DIR_CHALLENGE: c:\\Users\\colin\\OneDrive\\Desktop\\Jersey-Number-Recognition\\data\\SoccerNet\\jersey-2023\\processed_data\\challenge\n",
      "2025-03-22 22:12:53 [INFO] COMMON_PROCESSED_OUTPUT_DATA_TRAIN: c:\\Users\\colin\\OneDrive\\Desktop\\Jersey-Number-Recognition\\data\\SoccerNet\\jersey-2023\\processed_data\\train\\common_data\n",
      "2025-03-22 22:12:53 [INFO] COMMON_PROCESSED_OUTPUT_DATA_TEST: c:\\Users\\colin\\OneDrive\\Desktop\\Jersey-Number-Recognition\\data\\SoccerNet\\jersey-2023\\processed_data\\test\\common_data\n",
      "2025-03-22 22:12:53 [INFO] COMMON_PROCESSED_OUTPUT_DATA_CHALLENGE: c:\\Users\\colin\\OneDrive\\Desktop\\Jersey-Number-Recognition\\data\\SoccerNet\\jersey-2023\\processed_data\\challenge\\common_data\n",
      "2025-03-22 22:12:53 [INFO] STREAMLINED_PIPELINE: c:\\Users\\colin\\OneDrive\\Desktop\\Jersey-Number-Recognition\\StreamlinedPipelineScripts\n",
      "2025-03-22 22:12:53 [INFO] Created directory: c:\\Users\\colin\\OneDrive\\Desktop\\Jersey-Number-Recognition\\data\\SoccerNet\\jersey-2023\\processed_data\\test\n",
      "2025-03-22 22:12:53 [INFO] Created directory: c:\\Users\\colin\\OneDrive\\Desktop\\Jersey-Number-Recognition\\data\\SoccerNet\\jersey-2023\\processed_data\\test\\common_data\n",
      "2025-03-22 22:12:53 [INFO] ['0', '1', '2', '3', '4', '5', '6', '7', '8', '9']\n",
      "2025-03-22 22:12:53 [INFO] Min tracklet: 0\n",
      "2025-03-22 22:12:53 [INFO] Max tracklet: 1210\n",
      "2025-03-22 22:12:54 [INFO] Using device: cuda\n",
      "2025-03-22 22:12:54 [INFO] ['0', '1', '2', '3', '4', '5', '6', '7', '8', '9']\n",
      "2025-03-22 22:12:54 [INFO] Min tracklet: 0\n",
      "2025-03-22 22:12:54 [INFO] Max tracklet: 1210\n"
     ]
    }
   ],
   "source": [
    "# TODO: Add tracklets_override to pass a list of tracklets to process; tracklets_override=[\"8\", \"9\", \"10\"]\n",
    "# NOTE: It is recommended you delete the entire processed_data/{challenge/test/train} before running this to 100% avoid issues with old data.\n",
    "# Furthermore, you should always restart your kernel before every new run because sometimes there are problems with paths\n",
    "pipeline = CentralPipeline(\n",
    "  num_tracklets=1210,\n",
    "  #num_images_per_tracklet=1,\n",
    "  input_data_path=DataPaths.TEST_DATA_DIR.value,\n",
    "  output_processed_data_path=DataPaths.PROCESSED_DATA_OUTPUT_DIR_TEST.value,\n",
    "  common_processed_data_dir=DataPaths.COMMON_PROCESSED_OUTPUT_DATA_TEST.value,\n",
    "  gt_data_path=DataPaths.TEST_DATA_GT.value,\n",
    "  single_image_pipeline=False,\n",
    "  display_transformed_image_sample=False, # NOTE: DO NOT USE. Code is parallelized so we cannot show images anymore. Code breaks, but first one will show if True.\n",
    "  num_image_samples=1,\n",
    "  use_cache=True, # Set to false if you encounter data inconsistencies.\n",
    "  suppress_logging=False,\n",
    "  num_workers=6, # CRITICAL optimisation param. Anything more than 6 and your PC explodes.\n",
    "  tracklet_batch_size=32 # CRITICAL optimisation param. 32 is a nice spot.\n",
    "  )"
   ]
  },
  {
   "cell_type": "code",
   "execution_count": null,
   "metadata": {},
   "outputs": [
    {
     "name": "stdout",
     "output_type": "stream",
     "text": [
      "2025-03-22 22:12:54 [INFO] Running the SoccerNet pipeline.\n"
     ]
    },
    {
     "name": "stderr",
     "output_type": "stream",
     "text": [
      "Batch Processing Tracklets:   0%|          | 0/38 [00:00<?, ?it/s]"
     ]
    },
    {
     "name": "stdout",
     "output_type": "stream",
     "text": [
      "2025-03-22 22:12:54 [INFO] Processing batch with tracklets: ['0', '1', '2', '3', '4', '5', '6', '7', '8', '9', '10', '11', '12', '13', '14', '15', '16', '17', '18', '19', '20', '21', '22', '23', '24', '25', '26', '27', '28', '29', '30', '31']\n",
      "2025-03-22 22:12:54 [INFO] Using double parallelization: multiprocessing + CUDA batch processing.\n"
     ]
    },
    {
     "data": {
      "application/vnd.jupyter.widget-view+json": {
       "model_id": "568aabfb92dc4a839f6658b9d658d80f",
       "version_major": 2,
       "version_minor": 0
      },
      "text/plain": [
       "Processing tracklets (CUDA + CPU):   0%|          | 0/32 [00:00<?, ?it/s]"
      ]
     },
     "metadata": {},
     "output_type": "display_data"
    },
    {
     "name": "stdout",
     "output_type": "stream",
     "text": [
      "2025-03-22 22:13:13 [INFO] DEBUG: Number of images per tracklet in batch: 465\n",
      "2025-03-22 22:13:13 [INFO] Creating placeholder data files for Soccer Ball Filter.\n",
      "2025-03-22 22:13:13 [INFO] Creating placeholder data files for Legibility Classifier.\n",
      "2025-03-22 22:13:13 [INFO] Determine soccer balls in image(s) using pre-trained model.\n",
      "2025-03-22 22:13:13 [INFO] Determine soccer balls in image(s) using pre-trained model.\n",
      "2025-03-22 22:13:13 [INFO] Skipping soccer ball filter for tracklet 0 as cache exists.\n",
      "2025-03-22 22:13:13 [INFO] Determine soccer balls in image(s) using pre-trained model.\n",
      "2025-03-22 22:13:13 [INFO] Determine soccer balls in image(s) using pre-trained model.\n",
      "2025-03-22 22:13:13 [INFO] Determine soccer balls in image(s) using pre-trained model.\n",
      "2025-03-22 22:13:13 [INFO] Determine soccer balls in image(s) using pre-trained model.\n"
     ]
    },
    {
     "name": "stderr",
     "output_type": "stream",
     "text": [
      "\n"
     ]
    },
    {
     "name": "stdout",
     "output_type": "stream",
     "text": [
      "2025-03-22 22:13:13 [INFO] Skipping soccer ball filter for tracklet 3 as cache exists.\n"
     ]
    },
    {
     "name": "stderr",
     "output_type": "stream",
     "text": [
      "Processing Batch Tracklets:   0%|          | 0/32 [00:00<?, ?it/s]"
     ]
    },
    {
     "name": "stdout",
     "output_type": "stream",
     "text": [
      "2025-03-22 22:13:13 [INFO] Skipping soccer ball filter for tracklet 2 as cache exists.\n"
     ]
    },
    {
     "name": "stderr",
     "output_type": "stream",
     "text": [
      "\u001b[A"
     ]
    },
    {
     "name": "stdout",
     "output_type": "stream",
     "text": [
      "2025-03-22 22:13:13 [INFO] Skipping soccer ball filter for tracklet 1 as cache exists.\n",
      "2025-03-22 22:13:13 [INFO] Skipping soccer ball filter for tracklet 4 as cache exists.\n",
      "2025-03-22 22:13:13 [INFO] Skipping soccer ball filter for tracklet 5 as cache exists.\n"
     ]
    },
    {
     "name": "stderr",
     "output_type": "stream",
     "text": [
      "c:\\Users\\colin\\miniconda3\\envs\\UBC\\Lib\\site-packages\\pytorch_lightning\\utilities\\migration\\migration.py:208: You have multiple `ModelCheckpoint` callback states in this checkpoint, but we found state keys that would end up colliding with each other after an upgrade, which means we can't differentiate which of your checkpoint callbacks needs which states. At least one of your `ModelCheckpoint` callbacks will not be able to reload the state.\n",
      "Lightning automatically upgraded your loaded checkpoint from v1.1.4 to v2.5.0.post0. To apply the upgrade to your files permanently, run `python -m pytorch_lightning.utilities.upgrade_checkpoint c:\\Users\\colin\\OneDrive\\Desktop\\Jersey-Number-Recognition\\data\\pre_trained_models\\reid\\dukemtmcreid_resnet50_256_128_epoch_120.ckpt`\n",
      "Lightning automatically upgraded your loaded checkpoint from v1.1.4 to v2.5.0.post0. To apply the upgrade to your files permanently, run `python -m pytorch_lightning.utilities.upgrade_checkpoint c:\\Users\\colin\\OneDrive\\Desktop\\Jersey-Number-Recognition\\data\\pre_trained_models\\reid\\dukemtmcreid_resnet50_256_128_epoch_120.ckpt`\n"
     ]
    },
    {
     "name": "stdout",
     "output_type": "stream",
     "text": [
      "using GPU\n"
     ]
    },
    {
     "name": "stderr",
     "output_type": "stream",
     "text": [
      "Lightning automatically upgraded your loaded checkpoint from v1.1.4 to v2.5.0.post0. To apply the upgrade to your files permanently, run `python -m pytorch_lightning.utilities.upgrade_checkpoint c:\\Users\\colin\\OneDrive\\Desktop\\Jersey-Number-Recognition\\data\\pre_trained_models\\reid\\dukemtmcreid_resnet50_256_128_epoch_120.ckpt`\n"
     ]
    },
    {
     "name": "stdout",
     "output_type": "stream",
     "text": [
      "using GPU\n",
      "2025-03-22 22:13:27 [INFO] Saved features for tracklet with shape (461, 2048) to c:\\Users\\colin\\OneDrive\\Desktop\\Jersey-Number-Recognition\\data\\SoccerNet\\jersey-2023\\processed_data\\test\\3\\features.npy\n",
      "2025-03-22 22:13:29 [INFO] Identifying and removing outliers by calling gaussian_outliers_streamlined.py on feature file\n"
     ]
    },
    {
     "name": "stderr",
     "output_type": "stream",
     "text": [
      "Lightning automatically upgraded your loaded checkpoint from v1.1.4 to v2.5.0.post0. To apply the upgrade to your files permanently, run `python -m pytorch_lightning.utilities.upgrade_checkpoint c:\\Users\\colin\\OneDrive\\Desktop\\Jersey-Number-Recognition\\data\\pre_trained_models\\reid\\dukemtmcreid_resnet50_256_128_epoch_120.ckpt`\n"
     ]
    },
    {
     "name": "stdout",
     "output_type": "stream",
     "text": [
      "using GPU\n",
      "2025-03-22 22:13:32 [INFO] Saved features for tracklet with shape (349, 2048) to c:\\Users\\colin\\OneDrive\\Desktop\\Jersey-Number-Recognition\\data\\SoccerNet\\jersey-2023\\processed_data\\test\\2\\features.npy\n",
      "2025-03-22 22:13:32 [INFO] Identifying and removing outliers by calling gaussian_outliers_streamlined.py on feature file\n"
     ]
    },
    {
     "name": "stderr",
     "output_type": "stream",
     "text": [
      "Lightning automatically upgraded your loaded checkpoint from v1.1.4 to v2.5.0.post0. To apply the upgrade to your files permanently, run `python -m pytorch_lightning.utilities.upgrade_checkpoint c:\\Users\\colin\\OneDrive\\Desktop\\Jersey-Number-Recognition\\data\\pre_trained_models\\reid\\dukemtmcreid_resnet50_256_128_epoch_120.ckpt`\n"
     ]
    },
    {
     "name": "stdout",
     "output_type": "stream",
     "text": [
      "using GPU\n",
      "2025-03-22 22:13:38 [INFO] \n",
      "2025-03-22 22:13:38 [INFO] Done removing outliers\n",
      "2025-03-22 22:13:38 [INFO] Running model chain on preprocessed image(s).\n",
      "2025-03-22 22:13:38 [INFO] Classifying legibility of image(s) using pre-trained model.\n",
      "2025-03-22 22:13:38 [WARNING] No soccer ball list found. Skipping exclusion of soccer balls.\n",
      "2025-03-22 22:13:38 [INFO] Path checked: c:\\Users\\colin\\OneDrive\\Desktop\\Jersey-Number-Recognition\\data\\SoccerNet\\jersey-2023\\processed_data\\test\\common_data\\soccer_ball.json\n",
      "2025-03-22 22:13:38 [INFO] Saved features for tracklet with shape (465, 2048) to c:\\Users\\colin\\OneDrive\\Desktop\\Jersey-Number-Recognition\\data\\SoccerNet\\jersey-2023\\processed_data\\test\\0\\features.npy\n",
      "2025-03-22 22:13:39 [INFO] Identifying and removing outliers by calling gaussian_outliers_streamlined.py on feature file\n"
     ]
    },
    {
     "name": "stderr",
     "output_type": "stream",
     "text": [
      "c:\\Users\\colin\\miniconda3\\envs\\UBC\\Lib\\site-packages\\torchvision\\models\\_utils.py:208: UserWarning: The parameter 'pretrained' is deprecated since 0.13 and may be removed in the future, please use 'weights' instead.\n",
      "  warnings.warn(\n",
      "c:\\Users\\colin\\miniconda3\\envs\\UBC\\Lib\\site-packages\\torchvision\\models\\_utils.py:223: UserWarning: Arguments other than a weight enum or `None` for 'weights' are deprecated since 0.13 and may be removed in the future. The current behavior is equivalent to passing `weights=ResNet34_Weights.IMAGENET1K_V1`. You can also use `weights=ResNet34_Weights.DEFAULT` to get the most up-to-date weights.\n",
      "  warnings.warn(msg)\n"
     ]
    },
    {
     "name": "stdout",
     "output_type": "stream",
     "text": [
      "2025-03-22 22:13:41 [INFO] \n",
      "2025-03-22 22:13:41 [INFO] Done removing outliers\n",
      "2025-03-22 22:13:41 [INFO] Running model chain on preprocessed image(s).\n",
      "2025-03-22 22:13:41 [INFO] Classifying legibility of image(s) using pre-trained model.\n",
      "2025-03-22 22:13:41 [WARNING] No soccer ball list found. Skipping exclusion of soccer balls.\n",
      "2025-03-22 22:13:41 [INFO] Path checked: c:\\Users\\colin\\OneDrive\\Desktop\\Jersey-Number-Recognition\\data\\SoccerNet\\jersey-2023\\processed_data\\test\\common_data\\soccer_ball.json\n",
      "2025-03-22 22:13:44 [INFO] Saved features for tracklet with shape (627, 2048) to c:\\Users\\colin\\OneDrive\\Desktop\\Jersey-Number-Recognition\\data\\SoccerNet\\jersey-2023\\processed_data\\test\\5\\features.npy\n",
      "2025-03-22 22:13:44 [INFO] Identifying and removing outliers by calling gaussian_outliers_streamlined.py on feature file\n",
      "using GPU\n"
     ]
    },
    {
     "name": "stderr",
     "output_type": "stream",
     "text": [
      "Lightning automatically upgraded your loaded checkpoint from v1.1.4 to v2.5.0.post0. To apply the upgrade to your files permanently, run `python -m pytorch_lightning.utilities.upgrade_checkpoint c:\\Users\\colin\\OneDrive\\Desktop\\Jersey-Number-Recognition\\data\\pre_trained_models\\reid\\dukemtmcreid_resnet50_256_128_epoch_120.ckpt`\n"
     ]
    },
    {
     "name": "stdout",
     "output_type": "stream",
     "text": [
      "using GPU\n",
      "2025-03-22 22:13:49 [INFO] \n",
      "2025-03-22 22:13:49 [INFO] Done removing outliers\n",
      "2025-03-22 22:13:49 [INFO] Running model chain on preprocessed image(s).\n",
      "2025-03-22 22:13:49 [INFO] Classifying legibility of image(s) using pre-trained model.\n",
      "2025-03-22 22:13:49 [WARNING] No soccer ball list found. Skipping exclusion of soccer balls.\n",
      "2025-03-22 22:13:49 [INFO] Path checked: c:\\Users\\colin\\OneDrive\\Desktop\\Jersey-Number-Recognition\\data\\SoccerNet\\jersey-2023\\processed_data\\test\\common_data\\soccer_ball.json\n",
      "2025-03-22 22:13:50 [INFO] Saved features for tracklet with shape (354, 2048) to c:\\Users\\colin\\OneDrive\\Desktop\\Jersey-Number-Recognition\\data\\SoccerNet\\jersey-2023\\processed_data\\test\\1\\features.npy\n",
      "2025-03-22 22:13:50 [INFO] Identifying and removing outliers by calling gaussian_outliers_streamlined.py on feature file\n",
      "2025-03-22 22:13:52 [INFO] Saved features for tracklet with shape (311, 2048) to c:\\Users\\colin\\OneDrive\\Desktop\\Jersey-Number-Recognition\\data\\SoccerNet\\jersey-2023\\processed_data\\test\\4\\features.npy\n",
      "2025-03-22 22:13:52 [INFO] Identifying and removing outliers by calling gaussian_outliers_streamlined.py on feature file\n",
      "2025-03-22 22:13:59 [INFO] \n",
      "2025-03-22 22:13:59 [INFO] Done removing outliers\n",
      "2025-03-22 22:13:59 [INFO] Running model chain on preprocessed image(s).\n",
      "2025-03-22 22:13:59 [INFO] Classifying legibility of image(s) using pre-trained model.\n",
      "2025-03-22 22:13:59 [WARNING] No soccer ball list found. Skipping exclusion of soccer balls.\n",
      "2025-03-22 22:13:59 [INFO] Path checked: c:\\Users\\colin\\OneDrive\\Desktop\\Jersey-Number-Recognition\\data\\SoccerNet\\jersey-2023\\processed_data\\test\\common_data\\soccer_ball.json\n",
      "2025-03-22 22:14:00 [INFO] Saving legible_tracklets to: c:\\Users\\colin\\OneDrive\\Desktop\\Jersey-Number-Recognition\\data\\SoccerNet\\jersey-2023\\processed_data\\test\\3\\legible_results.json\n",
      "2025-03-22 22:14:00 [INFO] Saving legible_tracklets to: c:\\Users\\colin\\OneDrive\\Desktop\\Jersey-Number-Recognition\\data\\SoccerNet\\jersey-2023\\processed_data\\test\\2\\legible_results.json\n",
      "2025-03-22 22:14:00 [INFO] Saved legible_tracklets to: c:\\Users\\colin\\OneDrive\\Desktop\\Jersey-Number-Recognition\\data\\SoccerNet\\jersey-2023\\processed_data\\test\\3\\legible_results.json\n",
      "2025-03-22 22:14:00 [INFO] Saving illegible_tracklets to: c:\\Users\\colin\\OneDrive\\Desktop\\Jersey-Number-Recognition\\data\\SoccerNet\\jersey-2023\\processed_data\\test\\3\\illegible_results.json\n",
      "2025-03-22 22:14:00 [INFO] Saved legible_tracklets to: c:\\Users\\colin\\OneDrive\\Desktop\\Jersey-Number-Recognition\\data\\SoccerNet\\jersey-2023\\processed_data\\test\\2\\legible_results.json\n",
      "2025-03-22 22:14:00 [INFO] Saving illegible_tracklets to: c:\\Users\\colin\\OneDrive\\Desktop\\Jersey-Number-Recognition\\data\\SoccerNet\\jersey-2023\\processed_data\\test\\2\\illegible_results.json\n",
      "2025-03-22 22:14:00 [INFO] Saved illegible_tracklets to: c:\\Users\\colin\\OneDrive\\Desktop\\Jersey-Number-Recognition\\data\\SoccerNet\\jersey-2023\\processed_data\\test\\3\\illegible_results.json\n",
      "2025-03-22 22:14:00 [INFO] Legibility classification complete.\n",
      "2025-03-22 22:14:00 [INFO] Determine soccer balls in image(s) using pre-trained model.\n",
      "2025-03-22 22:14:00 [INFO] Saved illegible_tracklets to: c:\\Users\\colin\\OneDrive\\Desktop\\Jersey-Number-Recognition\\data\\SoccerNet\\jersey-2023\\processed_data\\test\\2\\illegible_results.json\n",
      "2025-03-22 22:14:00 [INFO] Processed tracklet: 3\n"
     ]
    },
    {
     "name": "stderr",
     "output_type": "stream",
     "text": [
      "\n"
     ]
    },
    {
     "name": "stdout",
     "output_type": "stream",
     "text": [
      "2025-03-22 22:14:00 [INFO] Legibility classification complete.\n"
     ]
    },
    {
     "name": "stderr",
     "output_type": "stream",
     "text": [
      "Processing Batch Tracklets:   3%|▎         | 1/32 [00:46<24:16, 46.97s/it]"
     ]
    },
    {
     "name": "stdout",
     "output_type": "stream",
     "text": [
      "2025-03-22 22:14:00 [INFO] Determine soccer balls in image(s) using pre-trained model.\n",
      "2025-03-22 22:14:00 [INFO] Skipping soccer ball filter for tracklet 6 as cache exists.\n"
     ]
    },
    {
     "name": "stderr",
     "output_type": "stream",
     "text": [
      "\u001b[A"
     ]
    },
    {
     "name": "stdout",
     "output_type": "stream",
     "text": [
      "2025-03-22 22:14:00 [INFO] Processed tracklet: 2\n",
      "2025-03-22 22:14:00 [INFO] Skipping soccer ball filter for tracklet 7 as cache exists.\n"
     ]
    },
    {
     "name": "stderr",
     "output_type": "stream",
     "text": [
      "Lightning automatically upgraded your loaded checkpoint from v1.1.4 to v2.5.0.post0. To apply the upgrade to your files permanently, run `python -m pytorch_lightning.utilities.upgrade_checkpoint c:\\Users\\colin\\OneDrive\\Desktop\\Jersey-Number-Recognition\\data\\pre_trained_models\\reid\\dukemtmcreid_resnet50_256_128_epoch_120.ckpt`\n",
      "Lightning automatically upgraded your loaded checkpoint from v1.1.4 to v2.5.0.post0. To apply the upgrade to your files permanently, run `python -m pytorch_lightning.utilities.upgrade_checkpoint c:\\Users\\colin\\OneDrive\\Desktop\\Jersey-Number-Recognition\\data\\pre_trained_models\\reid\\dukemtmcreid_resnet50_256_128_epoch_120.ckpt`\n"
     ]
    },
    {
     "name": "stdout",
     "output_type": "stream",
     "text": [
      "using GPU\n",
      "using GPU\n",
      "2025-03-22 22:14:06 [INFO] \n",
      "2025-03-22 22:14:06 [INFO] Done removing outliers\n",
      "2025-03-22 22:14:06 [INFO] Running model chain on preprocessed image(s).\n",
      "2025-03-22 22:14:06 [INFO] Classifying legibility of image(s) using pre-trained model.\n",
      "2025-03-22 22:14:06 [WARNING] No soccer ball list found. Skipping exclusion of soccer balls.\n",
      "2025-03-22 22:14:06 [INFO] Path checked: c:\\Users\\colin\\OneDrive\\Desktop\\Jersey-Number-Recognition\\data\\SoccerNet\\jersey-2023\\processed_data\\test\\common_data\\soccer_ball.json\n",
      "2025-03-22 22:14:07 [INFO] \n",
      "2025-03-22 22:14:07 [INFO] Done removing outliers\n",
      "2025-03-22 22:14:07 [INFO] Running model chain on preprocessed image(s).\n",
      "2025-03-22 22:14:07 [INFO] Classifying legibility of image(s) using pre-trained model.\n",
      "2025-03-22 22:14:07 [WARNING] No soccer ball list found. Skipping exclusion of soccer balls.\n",
      "2025-03-22 22:14:07 [INFO] Path checked: c:\\Users\\colin\\OneDrive\\Desktop\\Jersey-Number-Recognition\\data\\SoccerNet\\jersey-2023\\processed_data\\test\\common_data\\soccer_ball.json\n",
      "2025-03-22 22:14:12 [INFO] Saved features for tracklet with shape (490, 2048) to c:\\Users\\colin\\OneDrive\\Desktop\\Jersey-Number-Recognition\\data\\SoccerNet\\jersey-2023\\processed_data\\test\\6\\features.npy\n",
      "2025-03-22 22:14:12 [INFO] Identifying and removing outliers by calling gaussian_outliers_streamlined.py on feature file\n",
      "2025-03-22 22:14:16 [INFO] Saved features for tracklet with shape (661, 2048) to c:\\Users\\colin\\OneDrive\\Desktop\\Jersey-Number-Recognition\\data\\SoccerNet\\jersey-2023\\processed_data\\test\\7\\features.npy\n",
      "2025-03-22 22:14:16 [INFO] Identifying and removing outliers by calling gaussian_outliers_streamlined.py on feature file\n",
      "2025-03-22 22:14:19 [INFO] Saving legible_tracklets to: c:\\Users\\colin\\OneDrive\\Desktop\\Jersey-Number-Recognition\\data\\SoccerNet\\jersey-2023\\processed_data\\test\\0\\legible_results.json\n",
      "2025-03-22 22:14:19 [INFO] Saved legible_tracklets to: c:\\Users\\colin\\OneDrive\\Desktop\\Jersey-Number-Recognition\\data\\SoccerNet\\jersey-2023\\processed_data\\test\\0\\legible_results.json\n",
      "2025-03-22 22:14:19 [INFO] Saving illegible_tracklets to: c:\\Users\\colin\\OneDrive\\Desktop\\Jersey-Number-Recognition\\data\\SoccerNet\\jersey-2023\\processed_data\\test\\0\\illegible_results.json\n",
      "2025-03-22 22:14:19 [INFO] Saved illegible_tracklets to: c:\\Users\\colin\\OneDrive\\Desktop\\Jersey-Number-Recognition\\data\\SoccerNet\\jersey-2023\\processed_data\\test\\0\\illegible_results.json\n",
      "2025-03-22 22:14:19 [INFO] Legibility classification complete.\n",
      "2025-03-22 22:14:19 [INFO] Determine soccer balls in image(s) using pre-trained model.\n",
      "2025-03-22 22:14:19 [INFO] Processed tracklet: 0\n"
     ]
    },
    {
     "name": "stderr",
     "output_type": "stream",
     "text": [
      "\n"
     ]
    },
    {
     "name": "stdout",
     "output_type": "stream",
     "text": [
      "2025-03-22 22:14:19 [INFO] Skipping soccer ball filter for tracklet 8 as cache exists.\n"
     ]
    },
    {
     "name": "stderr",
     "output_type": "stream",
     "text": [
      "Processing Batch Tracklets:   9%|▉         | 3/32 [01:05<09:16, 19.19s/it]\u001b[ALightning automatically upgraded your loaded checkpoint from v1.1.4 to v2.5.0.post0. To apply the upgrade to your files permanently, run `python -m pytorch_lightning.utilities.upgrade_checkpoint c:\\Users\\colin\\OneDrive\\Desktop\\Jersey-Number-Recognition\\data\\pre_trained_models\\reid\\dukemtmcreid_resnet50_256_128_epoch_120.ckpt`\n"
     ]
    },
    {
     "name": "stdout",
     "output_type": "stream",
     "text": [
      "using GPU\n",
      "2025-03-22 22:14:28 [INFO] Saved features for tracklet with shape (544, 2048) to c:\\Users\\colin\\OneDrive\\Desktop\\Jersey-Number-Recognition\\data\\SoccerNet\\jersey-2023\\processed_data\\test\\8\\features.npy\n",
      "2025-03-22 22:14:28 [INFO] Identifying and removing outliers by calling gaussian_outliers_streamlined.py on feature file\n",
      "2025-03-22 22:14:29 [INFO] Saving legible_tracklets to: c:\\Users\\colin\\OneDrive\\Desktop\\Jersey-Number-Recognition\\data\\SoccerNet\\jersey-2023\\processed_data\\test\\5\\legible_results.json\n",
      "2025-03-22 22:14:29 [INFO] Saved legible_tracklets to: c:\\Users\\colin\\OneDrive\\Desktop\\Jersey-Number-Recognition\\data\\SoccerNet\\jersey-2023\\processed_data\\test\\5\\legible_results.json\n",
      "2025-03-22 22:14:29 [INFO] Saving illegible_tracklets to: c:\\Users\\colin\\OneDrive\\Desktop\\Jersey-Number-Recognition\\data\\SoccerNet\\jersey-2023\\processed_data\\test\\5\\illegible_results.json\n",
      "2025-03-22 22:14:29 [INFO] Saved illegible_tracklets to: c:\\Users\\colin\\OneDrive\\Desktop\\Jersey-Number-Recognition\\data\\SoccerNet\\jersey-2023\\processed_data\\test\\5\\illegible_results.json\n",
      "2025-03-22 22:14:29 [INFO] Legibility classification complete.\n",
      "2025-03-22 22:14:29 [INFO] Determine soccer balls in image(s) using pre-trained model.\n",
      "2025-03-22 22:14:29 [INFO] Processed tracklet: 5\n"
     ]
    },
    {
     "name": "stderr",
     "output_type": "stream",
     "text": [
      "\n"
     ]
    },
    {
     "name": "stdout",
     "output_type": "stream",
     "text": [
      "2025-03-22 22:14:29 [INFO] Skipping soccer ball filter for tracklet 9 as cache exists.\n"
     ]
    },
    {
     "name": "stderr",
     "output_type": "stream",
     "text": [
      "Processing Batch Tracklets:  12%|█▎        | 4/32 [01:16<07:29, 16.06s/it]\u001b[ALightning automatically upgraded your loaded checkpoint from v1.1.4 to v2.5.0.post0. To apply the upgrade to your files permanently, run `python -m pytorch_lightning.utilities.upgrade_checkpoint c:\\Users\\colin\\OneDrive\\Desktop\\Jersey-Number-Recognition\\data\\pre_trained_models\\reid\\dukemtmcreid_resnet50_256_128_epoch_120.ckpt`\n"
     ]
    },
    {
     "name": "stdout",
     "output_type": "stream",
     "text": [
      "using GPU\n",
      "2025-03-22 22:14:35 [INFO] \n",
      "2025-03-22 22:14:35 [INFO] Done removing outliers\n",
      "2025-03-22 22:14:35 [INFO] Running model chain on preprocessed image(s).\n",
      "2025-03-22 22:14:35 [INFO] Classifying legibility of image(s) using pre-trained model.\n",
      "2025-03-22 22:14:35 [WARNING] No soccer ball list found. Skipping exclusion of soccer balls.\n",
      "2025-03-22 22:14:35 [INFO] Path checked: c:\\Users\\colin\\OneDrive\\Desktop\\Jersey-Number-Recognition\\data\\SoccerNet\\jersey-2023\\processed_data\\test\\common_data\\soccer_ball.json\n",
      "2025-03-22 22:14:38 [INFO] \n",
      "2025-03-22 22:14:38 [INFO] Done removing outliers\n",
      "2025-03-22 22:14:38 [INFO] Running model chain on preprocessed image(s).\n",
      "2025-03-22 22:14:38 [INFO] Classifying legibility of image(s) using pre-trained model.\n",
      "2025-03-22 22:14:38 [WARNING] No soccer ball list found. Skipping exclusion of soccer balls.\n",
      "2025-03-22 22:14:38 [INFO] Path checked: c:\\Users\\colin\\OneDrive\\Desktop\\Jersey-Number-Recognition\\data\\SoccerNet\\jersey-2023\\processed_data\\test\\common_data\\soccer_ball.json\n",
      "2025-03-22 22:14:39 [INFO] Saved features for tracklet with shape (595, 2048) to c:\\Users\\colin\\OneDrive\\Desktop\\Jersey-Number-Recognition\\data\\SoccerNet\\jersey-2023\\processed_data\\test\\9\\features.npy\n",
      "2025-03-22 22:14:39 [INFO] Identifying and removing outliers by calling gaussian_outliers_streamlined.py on feature file\n",
      "2025-03-22 22:14:42 [INFO] Saving legible_tracklets to: c:\\Users\\colin\\OneDrive\\Desktop\\Jersey-Number-Recognition\\data\\SoccerNet\\jersey-2023\\processed_data\\test\\1\\legible_results.json\n",
      "2025-03-22 22:14:42 [INFO] Saved legible_tracklets to: c:\\Users\\colin\\OneDrive\\Desktop\\Jersey-Number-Recognition\\data\\SoccerNet\\jersey-2023\\processed_data\\test\\1\\legible_results.json\n",
      "2025-03-22 22:14:42 [INFO] Saving illegible_tracklets to: c:\\Users\\colin\\OneDrive\\Desktop\\Jersey-Number-Recognition\\data\\SoccerNet\\jersey-2023\\processed_data\\test\\1\\illegible_results.json\n",
      "2025-03-22 22:14:42 [INFO] Saved illegible_tracklets to: c:\\Users\\colin\\OneDrive\\Desktop\\Jersey-Number-Recognition\\data\\SoccerNet\\jersey-2023\\processed_data\\test\\1\\illegible_results.json\n",
      "2025-03-22 22:14:42 [INFO] Legibility classification complete.\n",
      "2025-03-22 22:14:42 [INFO] Determine soccer balls in image(s) using pre-trained model.\n",
      "2025-03-22 22:14:42 [INFO] Processed tracklet: 1\n"
     ]
    },
    {
     "name": "stderr",
     "output_type": "stream",
     "text": [
      "\n"
     ]
    },
    {
     "name": "stdout",
     "output_type": "stream",
     "text": [
      "2025-03-22 22:14:42 [INFO] Skipping soccer ball filter for tracklet 10 as cache exists.\n"
     ]
    },
    {
     "name": "stderr",
     "output_type": "stream",
     "text": [
      "Processing Batch Tracklets:  16%|█▌        | 5/32 [01:28<06:43, 14.95s/it]\u001b[A"
     ]
    },
    {
     "name": "stdout",
     "output_type": "stream",
     "text": [
      "2025-03-22 22:14:42 [INFO] Saving legible_tracklets to: c:\\Users\\colin\\OneDrive\\Desktop\\Jersey-Number-Recognition\\data\\SoccerNet\\jersey-2023\\processed_data\\test\\4\\legible_results.json\n",
      "2025-03-22 22:14:42 [INFO] Saved legible_tracklets to: c:\\Users\\colin\\OneDrive\\Desktop\\Jersey-Number-Recognition\\data\\SoccerNet\\jersey-2023\\processed_data\\test\\4\\legible_results.json\n",
      "2025-03-22 22:14:42 [INFO] Saving illegible_tracklets to: c:\\Users\\colin\\OneDrive\\Desktop\\Jersey-Number-Recognition\\data\\SoccerNet\\jersey-2023\\processed_data\\test\\4\\illegible_results.json\n",
      "2025-03-22 22:14:42 [INFO] Saved illegible_tracklets to: c:\\Users\\colin\\OneDrive\\Desktop\\Jersey-Number-Recognition\\data\\SoccerNet\\jersey-2023\\processed_data\\test\\4\\illegible_results.json\n",
      "2025-03-22 22:14:42 [INFO] Legibility classification complete.\n",
      "2025-03-22 22:14:42 [INFO] Determine soccer balls in image(s) using pre-trained model.\n",
      "2025-03-22 22:14:42 [INFO] Processed tracklet: 4\n"
     ]
    },
    {
     "name": "stderr",
     "output_type": "stream",
     "text": [
      "\n"
     ]
    },
    {
     "name": "stdout",
     "output_type": "stream",
     "text": [
      "2025-03-22 22:14:42 [INFO] Skipping soccer ball filter for tracklet 11 as cache exists.\n"
     ]
    },
    {
     "name": "stderr",
     "output_type": "stream",
     "text": [
      "Processing Batch Tracklets:  19%|█▉        | 6/32 [01:28<04:25, 10.23s/it]\u001b[ALightning automatically upgraded your loaded checkpoint from v1.1.4 to v2.5.0.post0. To apply the upgrade to your files permanently, run `python -m pytorch_lightning.utilities.upgrade_checkpoint c:\\Users\\colin\\OneDrive\\Desktop\\Jersey-Number-Recognition\\data\\pre_trained_models\\reid\\dukemtmcreid_resnet50_256_128_epoch_120.ckpt`\n"
     ]
    },
    {
     "name": "stdout",
     "output_type": "stream",
     "text": [
      "2025-03-22 22:14:43 [INFO] \n",
      "2025-03-22 22:14:43 [INFO] Done removing outliers\n",
      "2025-03-22 22:14:43 [INFO] Running model chain on preprocessed image(s).\n",
      "2025-03-22 22:14:43 [INFO] Classifying legibility of image(s) using pre-trained model.\n",
      "2025-03-22 22:14:43 [WARNING] No soccer ball list found. Skipping exclusion of soccer balls.\n",
      "2025-03-22 22:14:43 [INFO] Path checked: c:\\Users\\colin\\OneDrive\\Desktop\\Jersey-Number-Recognition\\data\\SoccerNet\\jersey-2023\\processed_data\\test\\common_data\\soccer_ball.json\n"
     ]
    },
    {
     "name": "stderr",
     "output_type": "stream",
     "text": [
      "Lightning automatically upgraded your loaded checkpoint from v1.1.4 to v2.5.0.post0. To apply the upgrade to your files permanently, run `python -m pytorch_lightning.utilities.upgrade_checkpoint c:\\Users\\colin\\OneDrive\\Desktop\\Jersey-Number-Recognition\\data\\pre_trained_models\\reid\\dukemtmcreid_resnet50_256_128_epoch_120.ckpt`\n"
     ]
    },
    {
     "name": "stdout",
     "output_type": "stream",
     "text": [
      "using GPU\n",
      "using GPU\n",
      "2025-03-22 22:14:53 [INFO] \n",
      "2025-03-22 22:14:53 [INFO] Done removing outliers\n",
      "2025-03-22 22:14:53 [INFO] Running model chain on preprocessed image(s).\n",
      "2025-03-22 22:14:53 [INFO] Classifying legibility of image(s) using pre-trained model.\n",
      "2025-03-22 22:14:53 [WARNING] No soccer ball list found. Skipping exclusion of soccer balls.\n",
      "2025-03-22 22:14:53 [INFO] Path checked: c:\\Users\\colin\\OneDrive\\Desktop\\Jersey-Number-Recognition\\data\\SoccerNet\\jersey-2023\\processed_data\\test\\common_data\\soccer_ball.json\n",
      "2025-03-22 22:14:56 [INFO] Saved features for tracklet with shape (549, 2048) to c:\\Users\\colin\\OneDrive\\Desktop\\Jersey-Number-Recognition\\data\\SoccerNet\\jersey-2023\\processed_data\\test\\10\\features.npy\n",
      "2025-03-22 22:14:56 [INFO] Identifying and removing outliers by calling gaussian_outliers_streamlined.py on feature file\n",
      "2025-03-22 22:15:00 [INFO] Saved features for tracklet with shape (641, 2048) to c:\\Users\\colin\\OneDrive\\Desktop\\Jersey-Number-Recognition\\data\\SoccerNet\\jersey-2023\\processed_data\\test\\11\\features.npy\n",
      "2025-03-22 22:15:00 [INFO] Identifying and removing outliers by calling gaussian_outliers_streamlined.py on feature file\n",
      "2025-03-22 22:15:02 [INFO] Saving legible_tracklets to: c:\\Users\\colin\\OneDrive\\Desktop\\Jersey-Number-Recognition\\data\\SoccerNet\\jersey-2023\\processed_data\\test\\6\\legible_results.json\n",
      "2025-03-22 22:15:02 [INFO] Saved legible_tracklets to: c:\\Users\\colin\\OneDrive\\Desktop\\Jersey-Number-Recognition\\data\\SoccerNet\\jersey-2023\\processed_data\\test\\6\\legible_results.json\n",
      "2025-03-22 22:15:02 [INFO] Saving illegible_tracklets to: c:\\Users\\colin\\OneDrive\\Desktop\\Jersey-Number-Recognition\\data\\SoccerNet\\jersey-2023\\processed_data\\test\\6\\illegible_results.json\n",
      "2025-03-22 22:15:02 [INFO] Saved illegible_tracklets to: c:\\Users\\colin\\OneDrive\\Desktop\\Jersey-Number-Recognition\\data\\SoccerNet\\jersey-2023\\processed_data\\test\\6\\illegible_results.json\n",
      "2025-03-22 22:15:02 [INFO] Legibility classification complete.\n",
      "2025-03-22 22:15:02 [INFO] Determine soccer balls in image(s) using pre-trained model.\n",
      "2025-03-22 22:15:02 [INFO] Processed tracklet: 6\n"
     ]
    },
    {
     "name": "stderr",
     "output_type": "stream",
     "text": [
      "\n"
     ]
    },
    {
     "name": "stdout",
     "output_type": "stream",
     "text": [
      "2025-03-22 22:15:02 [INFO] Skipping soccer ball filter for tracklet 12 as cache exists.\n"
     ]
    },
    {
     "name": "stderr",
     "output_type": "stream",
     "text": [
      "Processing Batch Tracklets:  22%|██▏       | 7/32 [01:48<05:31, 13.26s/it]\u001b[ALightning automatically upgraded your loaded checkpoint from v1.1.4 to v2.5.0.post0. To apply the upgrade to your files permanently, run `python -m pytorch_lightning.utilities.upgrade_checkpoint c:\\Users\\colin\\OneDrive\\Desktop\\Jersey-Number-Recognition\\data\\pre_trained_models\\reid\\dukemtmcreid_resnet50_256_128_epoch_120.ckpt`\n"
     ]
    },
    {
     "name": "stdout",
     "output_type": "stream",
     "text": [
      "using GPU\n",
      "2025-03-22 22:15:04 [INFO] Saving legible_tracklets to: c:\\Users\\colin\\OneDrive\\Desktop\\Jersey-Number-Recognition\\data\\SoccerNet\\jersey-2023\\processed_data\\test\\8\\legible_results.json\n",
      "2025-03-22 22:15:04 [INFO] Saved legible_tracklets to: c:\\Users\\colin\\OneDrive\\Desktop\\Jersey-Number-Recognition\\data\\SoccerNet\\jersey-2023\\processed_data\\test\\8\\legible_results.json\n",
      "2025-03-22 22:15:04 [INFO] Saving illegible_tracklets to: c:\\Users\\colin\\OneDrive\\Desktop\\Jersey-Number-Recognition\\data\\SoccerNet\\jersey-2023\\processed_data\\test\\8\\illegible_results.json\n",
      "2025-03-22 22:15:04 [INFO] Saved illegible_tracklets to: c:\\Users\\colin\\OneDrive\\Desktop\\Jersey-Number-Recognition\\data\\SoccerNet\\jersey-2023\\processed_data\\test\\8\\illegible_results.json\n",
      "2025-03-22 22:15:04 [INFO] Legibility classification complete.\n",
      "2025-03-22 22:15:04 [INFO] Determine soccer balls in image(s) using pre-trained model.\n",
      "2025-03-22 22:15:04 [INFO] Processed tracklet: 8\n"
     ]
    },
    {
     "name": "stderr",
     "output_type": "stream",
     "text": [
      "\n"
     ]
    },
    {
     "name": "stdout",
     "output_type": "stream",
     "text": [
      "2025-03-22 22:15:04 [INFO] Skipping soccer ball filter for tracklet 13 as cache exists.\n"
     ]
    },
    {
     "name": "stderr",
     "output_type": "stream",
     "text": [
      "Processing Batch Tracklets:  25%|██▌       | 8/32 [01:50<03:50,  9.58s/it]\u001b[A"
     ]
    },
    {
     "name": "stdout",
     "output_type": "stream",
     "text": [
      "2025-03-22 22:15:08 [INFO] \n",
      "2025-03-22 22:15:08 [INFO] Done removing outliers\n",
      "2025-03-22 22:15:08 [INFO] Running model chain on preprocessed image(s).\n",
      "2025-03-22 22:15:08 [INFO] Classifying legibility of image(s) using pre-trained model.\n",
      "2025-03-22 22:15:08 [WARNING] No soccer ball list found. Skipping exclusion of soccer balls.\n",
      "2025-03-22 22:15:08 [INFO] Path checked: c:\\Users\\colin\\OneDrive\\Desktop\\Jersey-Number-Recognition\\data\\SoccerNet\\jersey-2023\\processed_data\\test\\common_data\\soccer_ball.json\n",
      "2025-03-22 22:15:09 [INFO] Saved features for tracklet with shape (452, 2048) to c:\\Users\\colin\\OneDrive\\Desktop\\Jersey-Number-Recognition\\data\\SoccerNet\\jersey-2023\\processed_data\\test\\12\\features.npy\n"
     ]
    },
    {
     "name": "stderr",
     "output_type": "stream",
     "text": [
      "Lightning automatically upgraded your loaded checkpoint from v1.1.4 to v2.5.0.post0. To apply the upgrade to your files permanently, run `python -m pytorch_lightning.utilities.upgrade_checkpoint c:\\Users\\colin\\OneDrive\\Desktop\\Jersey-Number-Recognition\\data\\pre_trained_models\\reid\\dukemtmcreid_resnet50_256_128_epoch_120.ckpt`\n"
     ]
    },
    {
     "name": "stdout",
     "output_type": "stream",
     "text": [
      "2025-03-22 22:15:09 [INFO] Identifying and removing outliers by calling gaussian_outliers_streamlined.py on feature file\n",
      "using GPU\n",
      "2025-03-22 22:15:12 [INFO] \n",
      "2025-03-22 22:15:12 [INFO] Done removing outliers\n",
      "2025-03-22 22:15:12 [INFO] Running model chain on preprocessed image(s).\n",
      "2025-03-22 22:15:12 [INFO] Classifying legibility of image(s) using pre-trained model.\n",
      "2025-03-22 22:15:12 [WARNING] No soccer ball list found. Skipping exclusion of soccer balls.\n",
      "2025-03-22 22:15:12 [INFO] Path checked: c:\\Users\\colin\\OneDrive\\Desktop\\Jersey-Number-Recognition\\data\\SoccerNet\\jersey-2023\\processed_data\\test\\common_data\\soccer_ball.json\n",
      "2025-03-22 22:15:16 [INFO] Saved features for tracklet with shape (467, 2048) to c:\\Users\\colin\\OneDrive\\Desktop\\Jersey-Number-Recognition\\data\\SoccerNet\\jersey-2023\\processed_data\\test\\13\\features.npy\n",
      "2025-03-22 22:15:16 [INFO] Identifying and removing outliers by calling gaussian_outliers_streamlined.py on feature file\n",
      "2025-03-22 22:15:19 [INFO] Saving legible_tracklets to: c:\\Users\\colin\\OneDrive\\Desktop\\Jersey-Number-Recognition\\data\\SoccerNet\\jersey-2023\\processed_data\\test\\9\\legible_results.json\n",
      "2025-03-22 22:15:19 [INFO] Saved legible_tracklets to: c:\\Users\\colin\\OneDrive\\Desktop\\Jersey-Number-Recognition\\data\\SoccerNet\\jersey-2023\\processed_data\\test\\9\\legible_results.json\n",
      "2025-03-22 22:15:19 [INFO] Saving illegible_tracklets to: c:\\Users\\colin\\OneDrive\\Desktop\\Jersey-Number-Recognition\\data\\SoccerNet\\jersey-2023\\processed_data\\test\\9\\illegible_results.json\n",
      "2025-03-22 22:15:19 [INFO] Saved illegible_tracklets to: c:\\Users\\colin\\OneDrive\\Desktop\\Jersey-Number-Recognition\\data\\SoccerNet\\jersey-2023\\processed_data\\test\\9\\illegible_results.json\n",
      "2025-03-22 22:15:19 [INFO] Legibility classification complete.\n",
      "2025-03-22 22:15:19 [INFO] Determine soccer balls in image(s) using pre-trained model.\n",
      "2025-03-22 22:15:19 [INFO] Processed tracklet: 9\n"
     ]
    },
    {
     "name": "stderr",
     "output_type": "stream",
     "text": [
      "\n"
     ]
    },
    {
     "name": "stdout",
     "output_type": "stream",
     "text": [
      "2025-03-22 22:15:19 [INFO] Skipping soccer ball filter for tracklet 14 as cache exists.\n"
     ]
    },
    {
     "name": "stderr",
     "output_type": "stream",
     "text": [
      "Processing Batch Tracklets:  28%|██▊       | 9/32 [02:06<04:24, 11.50s/it]\u001b[A"
     ]
    },
    {
     "name": "stdout",
     "output_type": "stream",
     "text": [
      "2025-03-22 22:15:20 [INFO] Saving legible_tracklets to: c:\\Users\\colin\\OneDrive\\Desktop\\Jersey-Number-Recognition\\data\\SoccerNet\\jersey-2023\\processed_data\\test\\7\\legible_results.json\n",
      "2025-03-22 22:15:20 [INFO] Saved legible_tracklets to: c:\\Users\\colin\\OneDrive\\Desktop\\Jersey-Number-Recognition\\data\\SoccerNet\\jersey-2023\\processed_data\\test\\7\\legible_results.json\n",
      "2025-03-22 22:15:20 [INFO] Saving illegible_tracklets to: c:\\Users\\colin\\OneDrive\\Desktop\\Jersey-Number-Recognition\\data\\SoccerNet\\jersey-2023\\processed_data\\test\\7\\illegible_results.json\n",
      "2025-03-22 22:15:20 [INFO] Saved illegible_tracklets to: c:\\Users\\colin\\OneDrive\\Desktop\\Jersey-Number-Recognition\\data\\SoccerNet\\jersey-2023\\processed_data\\test\\7\\illegible_results.json\n",
      "2025-03-22 22:15:20 [INFO] Legibility classification complete.\n",
      "2025-03-22 22:15:20 [INFO] Determine soccer balls in image(s) using pre-trained model.\n",
      "2025-03-22 22:15:20 [INFO] Processed tracklet: 7\n"
     ]
    },
    {
     "name": "stderr",
     "output_type": "stream",
     "text": [
      "\n"
     ]
    },
    {
     "name": "stdout",
     "output_type": "stream",
     "text": [
      "2025-03-22 22:15:20 [INFO] Skipping soccer ball filter for tracklet 15 as cache exists.\n"
     ]
    },
    {
     "name": "stderr",
     "output_type": "stream",
     "text": [
      "Processing Batch Tracklets:  31%|███▏      | 10/32 [02:06<02:57,  8.06s/it]\u001b[ALightning automatically upgraded your loaded checkpoint from v1.1.4 to v2.5.0.post0. To apply the upgrade to your files permanently, run `python -m pytorch_lightning.utilities.upgrade_checkpoint c:\\Users\\colin\\OneDrive\\Desktop\\Jersey-Number-Recognition\\data\\pre_trained_models\\reid\\dukemtmcreid_resnet50_256_128_epoch_120.ckpt`\n",
      "Lightning automatically upgraded your loaded checkpoint from v1.1.4 to v2.5.0.post0. To apply the upgrade to your files permanently, run `python -m pytorch_lightning.utilities.upgrade_checkpoint c:\\Users\\colin\\OneDrive\\Desktop\\Jersey-Number-Recognition\\data\\pre_trained_models\\reid\\dukemtmcreid_resnet50_256_128_epoch_120.ckpt`\n"
     ]
    },
    {
     "name": "stdout",
     "output_type": "stream",
     "text": [
      "using GPU\n",
      "2025-03-22 22:15:21 [INFO] \n",
      "2025-03-22 22:15:21 [INFO] Done removing outliers\n",
      "2025-03-22 22:15:21 [INFO] Running model chain on preprocessed image(s).\n",
      "2025-03-22 22:15:21 [INFO] Classifying legibility of image(s) using pre-trained model.\n",
      "2025-03-22 22:15:21 [WARNING] No soccer ball list found. Skipping exclusion of soccer balls.\n",
      "2025-03-22 22:15:21 [INFO] Path checked: c:\\Users\\colin\\OneDrive\\Desktop\\Jersey-Number-Recognition\\data\\SoccerNet\\jersey-2023\\processed_data\\test\\common_data\\soccer_ball.json\n",
      "using GPU\n",
      "2025-03-22 22:15:28 [INFO] \n",
      "2025-03-22 22:15:28 [INFO] Done removing outliers\n",
      "2025-03-22 22:15:28 [INFO] Running model chain on preprocessed image(s).\n",
      "2025-03-22 22:15:28 [INFO] Classifying legibility of image(s) using pre-trained model.\n",
      "2025-03-22 22:15:28 [WARNING] No soccer ball list found. Skipping exclusion of soccer balls.\n",
      "2025-03-22 22:15:28 [INFO] Path checked: c:\\Users\\colin\\OneDrive\\Desktop\\Jersey-Number-Recognition\\data\\SoccerNet\\jersey-2023\\processed_data\\test\\common_data\\soccer_ball.json\n",
      "2025-03-22 22:15:36 [INFO] Saved features for tracklet with shape (575, 2048) to c:\\Users\\colin\\OneDrive\\Desktop\\Jersey-Number-Recognition\\data\\SoccerNet\\jersey-2023\\processed_data\\test\\14\\features.npy\n",
      "2025-03-22 22:15:38 [INFO] Identifying and removing outliers by calling gaussian_outliers_streamlined.py on feature file\n",
      "2025-03-22 22:15:42 [INFO] Saved features for tracklet with shape (554, 2048) to c:\\Users\\colin\\OneDrive\\Desktop\\Jersey-Number-Recognition\\data\\SoccerNet\\jersey-2023\\processed_data\\test\\15\\features.npy\n",
      "2025-03-22 22:15:42 [INFO] Identifying and removing outliers by calling gaussian_outliers_streamlined.py on feature file\n",
      "2025-03-22 22:15:44 [INFO] Saving legible_tracklets to: c:\\Users\\colin\\OneDrive\\Desktop\\Jersey-Number-Recognition\\data\\SoccerNet\\jersey-2023\\processed_data\\test\\10\\legible_results.json\n",
      "2025-03-22 22:15:44 [INFO] Saved legible_tracklets to: c:\\Users\\colin\\OneDrive\\Desktop\\Jersey-Number-Recognition\\data\\SoccerNet\\jersey-2023\\processed_data\\test\\10\\legible_results.json\n",
      "2025-03-22 22:15:44 [INFO] Saving illegible_tracklets to: c:\\Users\\colin\\OneDrive\\Desktop\\Jersey-Number-Recognition\\data\\SoccerNet\\jersey-2023\\processed_data\\test\\10\\illegible_results.json\n",
      "2025-03-22 22:15:44 [INFO] Saved illegible_tracklets to: c:\\Users\\colin\\OneDrive\\Desktop\\Jersey-Number-Recognition\\data\\SoccerNet\\jersey-2023\\processed_data\\test\\10\\illegible_results.json\n",
      "2025-03-22 22:15:44 [INFO] Legibility classification complete.\n",
      "2025-03-22 22:15:44 [INFO] Determine soccer balls in image(s) using pre-trained model.\n",
      "2025-03-22 22:15:44 [INFO] Processed tracklet: 10\n"
     ]
    },
    {
     "name": "stderr",
     "output_type": "stream",
     "text": [
      "\n"
     ]
    },
    {
     "name": "stdout",
     "output_type": "stream",
     "text": [
      "2025-03-22 22:15:44 [INFO] Skipping soccer ball filter for tracklet 16 as cache exists.\n"
     ]
    },
    {
     "name": "stderr",
     "output_type": "stream",
     "text": [
      "Processing Batch Tracklets:  34%|███▍      | 11/32 [02:30<04:33, 13.04s/it]\u001b[ALightning automatically upgraded your loaded checkpoint from v1.1.4 to v2.5.0.post0. To apply the upgrade to your files permanently, run `python -m pytorch_lightning.utilities.upgrade_checkpoint c:\\Users\\colin\\OneDrive\\Desktop\\Jersey-Number-Recognition\\data\\pre_trained_models\\reid\\dukemtmcreid_resnet50_256_128_epoch_120.ckpt`\n"
     ]
    },
    {
     "name": "stdout",
     "output_type": "stream",
     "text": [
      "using GPU\n",
      "2025-03-22 22:15:47 [INFO] Saving legible_tracklets to: c:\\Users\\colin\\OneDrive\\Desktop\\Jersey-Number-Recognition\\data\\SoccerNet\\jersey-2023\\processed_data\\test\\12\\legible_results.json\n",
      "2025-03-22 22:15:47 [INFO] Saved legible_tracklets to: c:\\Users\\colin\\OneDrive\\Desktop\\Jersey-Number-Recognition\\data\\SoccerNet\\jersey-2023\\processed_data\\test\\12\\legible_results.json\n",
      "2025-03-22 22:15:47 [INFO] Saving illegible_tracklets to: c:\\Users\\colin\\OneDrive\\Desktop\\Jersey-Number-Recognition\\data\\SoccerNet\\jersey-2023\\processed_data\\test\\12\\illegible_results.json\n",
      "2025-03-22 22:15:47 [INFO] Saved illegible_tracklets to: c:\\Users\\colin\\OneDrive\\Desktop\\Jersey-Number-Recognition\\data\\SoccerNet\\jersey-2023\\processed_data\\test\\12\\illegible_results.json\n",
      "2025-03-22 22:15:47 [INFO] Legibility classification complete.\n",
      "2025-03-22 22:15:47 [INFO] Determine soccer balls in image(s) using pre-trained model.\n",
      "2025-03-22 22:15:47 [INFO] Processed tracklet: 12\n"
     ]
    },
    {
     "name": "stderr",
     "output_type": "stream",
     "text": [
      "\n"
     ]
    },
    {
     "name": "stdout",
     "output_type": "stream",
     "text": [
      "2025-03-22 22:15:47 [INFO] Skipping soccer ball filter for tracklet 17 as cache exists.\n"
     ]
    },
    {
     "name": "stderr",
     "output_type": "stream",
     "text": [
      "Processing Batch Tracklets:  38%|███▊      | 12/32 [02:33<03:19,  9.99s/it]\u001b[A"
     ]
    },
    {
     "name": "stdout",
     "output_type": "stream",
     "text": [
      "2025-03-22 22:15:51 [INFO] \n",
      "2025-03-22 22:15:51 [INFO] Done removing outliers\n",
      "2025-03-22 22:15:51 [INFO] Running model chain on preprocessed image(s).\n",
      "2025-03-22 22:15:51 [INFO] Classifying legibility of image(s) using pre-trained model.\n",
      "2025-03-22 22:15:51 [WARNING] No soccer ball list found. Skipping exclusion of soccer balls.\n",
      "2025-03-22 22:15:51 [INFO] Path checked: c:\\Users\\colin\\OneDrive\\Desktop\\Jersey-Number-Recognition\\data\\SoccerNet\\jersey-2023\\processed_data\\test\\common_data\\soccer_ball.json\n",
      "2025-03-22 22:15:53 [INFO] Saved features for tracklet with shape (457, 2048) to c:\\Users\\colin\\OneDrive\\Desktop\\Jersey-Number-Recognition\\data\\SoccerNet\\jersey-2023\\processed_data\\test\\16\\features.npy\n",
      "2025-03-22 22:15:53 [INFO] Identifying and removing outliers by calling gaussian_outliers_streamlined.py on feature file\n"
     ]
    },
    {
     "name": "stderr",
     "output_type": "stream",
     "text": [
      "Lightning automatically upgraded your loaded checkpoint from v1.1.4 to v2.5.0.post0. To apply the upgrade to your files permanently, run `python -m pytorch_lightning.utilities.upgrade_checkpoint c:\\Users\\colin\\OneDrive\\Desktop\\Jersey-Number-Recognition\\data\\pre_trained_models\\reid\\dukemtmcreid_resnet50_256_128_epoch_120.ckpt`\n"
     ]
    },
    {
     "name": "stdout",
     "output_type": "stream",
     "text": [
      "using GPU\n",
      "2025-03-22 22:15:55 [INFO] Saving legible_tracklets to: c:\\Users\\colin\\OneDrive\\Desktop\\Jersey-Number-Recognition\\data\\SoccerNet\\jersey-2023\\processed_data\\test\\11\\legible_results.json\n",
      "2025-03-22 22:15:55 [INFO] Saved legible_tracklets to: c:\\Users\\colin\\OneDrive\\Desktop\\Jersey-Number-Recognition\\data\\SoccerNet\\jersey-2023\\processed_data\\test\\11\\legible_results.json\n",
      "2025-03-22 22:15:55 [INFO] Saving illegible_tracklets to: c:\\Users\\colin\\OneDrive\\Desktop\\Jersey-Number-Recognition\\data\\SoccerNet\\jersey-2023\\processed_data\\test\\11\\illegible_results.json\n",
      "2025-03-22 22:15:55 [INFO] Saved illegible_tracklets to: c:\\Users\\colin\\OneDrive\\Desktop\\Jersey-Number-Recognition\\data\\SoccerNet\\jersey-2023\\processed_data\\test\\11\\illegible_results.json\n",
      "2025-03-22 22:15:55 [INFO] Legibility classification complete.\n",
      "2025-03-22 22:15:55 [INFO] Determine soccer balls in image(s) using pre-trained model.\n",
      "2025-03-22 22:15:55 [INFO] Processed tracklet: 11\n"
     ]
    },
    {
     "name": "stderr",
     "output_type": "stream",
     "text": [
      "\n"
     ]
    },
    {
     "name": "stdout",
     "output_type": "stream",
     "text": [
      "2025-03-22 22:15:55 [INFO] Skipping soccer ball filter for tracklet 18 as cache exists.\n"
     ]
    },
    {
     "name": "stderr",
     "output_type": "stream",
     "text": [
      "Processing Batch Tracklets:  41%|████      | 13/32 [02:41<02:55,  9.24s/it]\u001b[A"
     ]
    },
    {
     "name": "stdout",
     "output_type": "stream",
     "text": [
      "2025-03-22 22:15:56 [INFO] \n",
      "2025-03-22 22:15:56 [INFO] Done removing outliers\n",
      "2025-03-22 22:15:56 [INFO] Running model chain on preprocessed image(s).\n",
      "2025-03-22 22:15:56 [INFO] Classifying legibility of image(s) using pre-trained model.\n",
      "2025-03-22 22:15:56 [WARNING] No soccer ball list found. Skipping exclusion of soccer balls.\n",
      "2025-03-22 22:15:56 [INFO] Path checked: c:\\Users\\colin\\OneDrive\\Desktop\\Jersey-Number-Recognition\\data\\SoccerNet\\jersey-2023\\processed_data\\test\\common_data\\soccer_ball.json\n",
      "2025-03-22 22:16:02 [INFO] Saved features for tracklet with shape (664, 2048) to c:\\Users\\colin\\OneDrive\\Desktop\\Jersey-Number-Recognition\\data\\SoccerNet\\jersey-2023\\processed_data\\test\\17\\features.npy\n",
      "2025-03-22 22:16:02 [INFO] Identifying and removing outliers by calling gaussian_outliers_streamlined.py on feature file\n"
     ]
    },
    {
     "name": "stderr",
     "output_type": "stream",
     "text": [
      "Lightning automatically upgraded your loaded checkpoint from v1.1.4 to v2.5.0.post0. To apply the upgrade to your files permanently, run `python -m pytorch_lightning.utilities.upgrade_checkpoint c:\\Users\\colin\\OneDrive\\Desktop\\Jersey-Number-Recognition\\data\\pre_trained_models\\reid\\dukemtmcreid_resnet50_256_128_epoch_120.ckpt`\n"
     ]
    },
    {
     "name": "stdout",
     "output_type": "stream",
     "text": [
      "using GPU\n",
      "2025-03-22 22:16:05 [INFO] \n",
      "2025-03-22 22:16:05 [INFO] Done removing outliers\n",
      "2025-03-22 22:16:05 [INFO] Running model chain on preprocessed image(s).\n",
      "2025-03-22 22:16:05 [INFO] Classifying legibility of image(s) using pre-trained model.\n",
      "2025-03-22 22:16:05 [WARNING] No soccer ball list found. Skipping exclusion of soccer balls.\n",
      "2025-03-22 22:16:05 [INFO] Path checked: c:\\Users\\colin\\OneDrive\\Desktop\\Jersey-Number-Recognition\\data\\SoccerNet\\jersey-2023\\processed_data\\test\\common_data\\soccer_ball.json\n",
      "2025-03-22 22:16:10 [INFO] Saving legible_tracklets to: c:\\Users\\colin\\OneDrive\\Desktop\\Jersey-Number-Recognition\\data\\SoccerNet\\jersey-2023\\processed_data\\test\\13\\legible_results.json\n",
      "2025-03-22 22:16:10 [INFO] Saved legible_tracklets to: c:\\Users\\colin\\OneDrive\\Desktop\\Jersey-Number-Recognition\\data\\SoccerNet\\jersey-2023\\processed_data\\test\\13\\legible_results.json\n",
      "2025-03-22 22:16:10 [INFO] Saving illegible_tracklets to: c:\\Users\\colin\\OneDrive\\Desktop\\Jersey-Number-Recognition\\data\\SoccerNet\\jersey-2023\\processed_data\\test\\13\\illegible_results.json\n",
      "2025-03-22 22:16:10 [INFO] Saved illegible_tracklets to: c:\\Users\\colin\\OneDrive\\Desktop\\Jersey-Number-Recognition\\data\\SoccerNet\\jersey-2023\\processed_data\\test\\13\\illegible_results.json\n",
      "2025-03-22 22:16:10 [INFO] Legibility classification complete.\n",
      "2025-03-22 22:16:10 [INFO] Determine soccer balls in image(s) using pre-trained model.\n",
      "2025-03-22 22:16:10 [INFO] Processed tracklet: 13\n"
     ]
    },
    {
     "name": "stderr",
     "output_type": "stream",
     "text": [
      "\n"
     ]
    },
    {
     "name": "stdout",
     "output_type": "stream",
     "text": [
      "2025-03-22 22:16:10 [INFO] Skipping soccer ball filter for tracklet 19 as cache exists.\n"
     ]
    },
    {
     "name": "stderr",
     "output_type": "stream",
     "text": [
      "Processing Batch Tracklets:  44%|████▍     | 14/32 [02:56<03:18, 11.04s/it]\u001b[A"
     ]
    },
    {
     "name": "stdout",
     "output_type": "stream",
     "text": [
      "2025-03-22 22:16:11 [INFO] Saved features for tracklet with shape (601, 2048) to c:\\Users\\colin\\OneDrive\\Desktop\\Jersey-Number-Recognition\\data\\SoccerNet\\jersey-2023\\processed_data\\test\\18\\features.npy\n",
      "2025-03-22 22:16:11 [INFO] Identifying and removing outliers by calling gaussian_outliers_streamlined.py on feature file\n"
     ]
    },
    {
     "name": "stderr",
     "output_type": "stream",
     "text": [
      "Lightning automatically upgraded your loaded checkpoint from v1.1.4 to v2.5.0.post0. To apply the upgrade to your files permanently, run `python -m pytorch_lightning.utilities.upgrade_checkpoint c:\\Users\\colin\\OneDrive\\Desktop\\Jersey-Number-Recognition\\data\\pre_trained_models\\reid\\dukemtmcreid_resnet50_256_128_epoch_120.ckpt`\n"
     ]
    },
    {
     "name": "stdout",
     "output_type": "stream",
     "text": [
      "using GPU\n",
      "2025-03-22 22:16:15 [INFO] \n",
      "2025-03-22 22:16:15 [INFO] Done removing outliers\n",
      "2025-03-22 22:16:15 [INFO] Running model chain on preprocessed image(s).\n",
      "2025-03-22 22:16:15 [INFO] Classifying legibility of image(s) using pre-trained model.\n",
      "2025-03-22 22:16:15 [WARNING] No soccer ball list found. Skipping exclusion of soccer balls.\n",
      "2025-03-22 22:16:15 [INFO] Path checked: c:\\Users\\colin\\OneDrive\\Desktop\\Jersey-Number-Recognition\\data\\SoccerNet\\jersey-2023\\processed_data\\test\\common_data\\soccer_ball.json\n",
      "2025-03-22 22:16:20 [INFO] Saving legible_tracklets to: c:\\Users\\colin\\OneDrive\\Desktop\\Jersey-Number-Recognition\\data\\SoccerNet\\jersey-2023\\processed_data\\test\\14\\legible_results.json\n",
      "2025-03-22 22:16:20 [INFO] Saved legible_tracklets to: c:\\Users\\colin\\OneDrive\\Desktop\\Jersey-Number-Recognition\\data\\SoccerNet\\jersey-2023\\processed_data\\test\\14\\legible_results.json\n",
      "2025-03-22 22:16:20 [INFO] Saving illegible_tracklets to: c:\\Users\\colin\\OneDrive\\Desktop\\Jersey-Number-Recognition\\data\\SoccerNet\\jersey-2023\\processed_data\\test\\14\\illegible_results.json\n",
      "2025-03-22 22:16:20 [INFO] Saved illegible_tracklets to: c:\\Users\\colin\\OneDrive\\Desktop\\Jersey-Number-Recognition\\data\\SoccerNet\\jersey-2023\\processed_data\\test\\14\\illegible_results.json\n",
      "2025-03-22 22:16:20 [INFO] Legibility classification complete.\n",
      "2025-03-22 22:16:20 [INFO] Determine soccer balls in image(s) using pre-trained model.\n",
      "2025-03-22 22:16:20 [INFO] Processed tracklet: 14\n"
     ]
    },
    {
     "name": "stderr",
     "output_type": "stream",
     "text": [
      "\n"
     ]
    },
    {
     "name": "stdout",
     "output_type": "stream",
     "text": [
      "2025-03-22 22:16:20 [INFO] Skipping soccer ball filter for tracklet 20 as cache exists.\n"
     ]
    },
    {
     "name": "stderr",
     "output_type": "stream",
     "text": [
      "Processing Batch Tracklets:  47%|████▋     | 15/32 [03:06<03:02, 10.71s/it]\u001b[A"
     ]
    },
    {
     "name": "stdout",
     "output_type": "stream",
     "text": [
      "2025-03-22 22:16:23 [INFO] Saved features for tracklet with shape (724, 2048) to c:\\Users\\colin\\OneDrive\\Desktop\\Jersey-Number-Recognition\\data\\SoccerNet\\jersey-2023\\processed_data\\test\\19\\features.npy\n",
      "2025-03-22 22:16:23 [INFO] Identifying and removing outliers by calling gaussian_outliers_streamlined.py on feature file\n",
      "2025-03-22 22:16:23 [INFO] \n",
      "2025-03-22 22:16:23 [INFO] Done removing outliers\n",
      "2025-03-22 22:16:23 [INFO] Running model chain on preprocessed image(s).\n",
      "2025-03-22 22:16:23 [INFO] Classifying legibility of image(s) using pre-trained model.\n",
      "2025-03-22 22:16:23 [WARNING] No soccer ball list found. Skipping exclusion of soccer balls.\n",
      "2025-03-22 22:16:23 [INFO] Path checked: c:\\Users\\colin\\OneDrive\\Desktop\\Jersey-Number-Recognition\\data\\SoccerNet\\jersey-2023\\processed_data\\test\\common_data\\soccer_ball.json\n"
     ]
    },
    {
     "name": "stderr",
     "output_type": "stream",
     "text": [
      "Lightning automatically upgraded your loaded checkpoint from v1.1.4 to v2.5.0.post0. To apply the upgrade to your files permanently, run `python -m pytorch_lightning.utilities.upgrade_checkpoint c:\\Users\\colin\\OneDrive\\Desktop\\Jersey-Number-Recognition\\data\\pre_trained_models\\reid\\dukemtmcreid_resnet50_256_128_epoch_120.ckpt`\n"
     ]
    },
    {
     "name": "stdout",
     "output_type": "stream",
     "text": [
      "using GPU\n",
      "2025-03-22 22:16:26 [INFO] Saving legible_tracklets to: c:\\Users\\colin\\OneDrive\\Desktop\\Jersey-Number-Recognition\\data\\SoccerNet\\jersey-2023\\processed_data\\test\\15\\legible_results.json\n",
      "2025-03-22 22:16:26 [INFO] Saved legible_tracklets to: c:\\Users\\colin\\OneDrive\\Desktop\\Jersey-Number-Recognition\\data\\SoccerNet\\jersey-2023\\processed_data\\test\\15\\legible_results.json\n",
      "2025-03-22 22:16:26 [INFO] Saving illegible_tracklets to: c:\\Users\\colin\\OneDrive\\Desktop\\Jersey-Number-Recognition\\data\\SoccerNet\\jersey-2023\\processed_data\\test\\15\\illegible_results.json\n",
      "2025-03-22 22:16:26 [INFO] Saved illegible_tracklets to: c:\\Users\\colin\\OneDrive\\Desktop\\Jersey-Number-Recognition\\data\\SoccerNet\\jersey-2023\\processed_data\\test\\15\\illegible_results.json\n",
      "2025-03-22 22:16:26 [INFO] Legibility classification complete.\n",
      "2025-03-22 22:16:26 [INFO] Determine soccer balls in image(s) using pre-trained model.\n",
      "2025-03-22 22:16:26 [INFO] Processed tracklet: 15\n"
     ]
    },
    {
     "name": "stderr",
     "output_type": "stream",
     "text": [
      "\n"
     ]
    },
    {
     "name": "stdout",
     "output_type": "stream",
     "text": [
      "2025-03-22 22:16:26 [INFO] Skipping soccer ball filter for tracklet 21 as cache exists.\n"
     ]
    },
    {
     "name": "stderr",
     "output_type": "stream",
     "text": [
      "Processing Batch Tracklets:  50%|█████     | 16/32 [03:12<02:31,  9.44s/it]\u001b[A"
     ]
    },
    {
     "name": "stdout",
     "output_type": "stream",
     "text": [
      "2025-03-22 22:16:27 [INFO] Saved features for tracklet with shape (132, 2048) to c:\\Users\\colin\\OneDrive\\Desktop\\Jersey-Number-Recognition\\data\\SoccerNet\\jersey-2023\\processed_data\\test\\20\\features.npy\n",
      "2025-03-22 22:16:27 [INFO] Identifying and removing outliers by calling gaussian_outliers_streamlined.py on feature file\n"
     ]
    },
    {
     "name": "stderr",
     "output_type": "stream",
     "text": [
      "Lightning automatically upgraded your loaded checkpoint from v1.1.4 to v2.5.0.post0. To apply the upgrade to your files permanently, run `python -m pytorch_lightning.utilities.upgrade_checkpoint c:\\Users\\colin\\OneDrive\\Desktop\\Jersey-Number-Recognition\\data\\pre_trained_models\\reid\\dukemtmcreid_resnet50_256_128_epoch_120.ckpt`\n"
     ]
    },
    {
     "name": "stdout",
     "output_type": "stream",
     "text": [
      "2025-03-22 22:16:28 [INFO] Saving legible_tracklets to: c:\\Users\\colin\\OneDrive\\Desktop\\Jersey-Number-Recognition\\data\\SoccerNet\\jersey-2023\\processed_data\\test\\16\\legible_results.json\n",
      "2025-03-22 22:16:28 [INFO] Saved legible_tracklets to: c:\\Users\\colin\\OneDrive\\Desktop\\Jersey-Number-Recognition\\data\\SoccerNet\\jersey-2023\\processed_data\\test\\16\\legible_results.json\n",
      "2025-03-22 22:16:28 [INFO] Saving illegible_tracklets to: c:\\Users\\colin\\OneDrive\\Desktop\\Jersey-Number-Recognition\\data\\SoccerNet\\jersey-2023\\processed_data\\test\\16\\illegible_results.json\n",
      "2025-03-22 22:16:28 [INFO] Saved illegible_tracklets to: c:\\Users\\colin\\OneDrive\\Desktop\\Jersey-Number-Recognition\\data\\SoccerNet\\jersey-2023\\processed_data\\test\\16\\illegible_results.json\n",
      "2025-03-22 22:16:28 [INFO] Legibility classification complete.\n",
      "2025-03-22 22:16:28 [INFO] Determine soccer balls in image(s) using pre-trained model.\n",
      "2025-03-22 22:16:28 [INFO] Processed tracklet: 16\n",
      "2025-03-22 22:16:28 [INFO] Skipping soccer ball filter for tracklet 22 as cache exists.\n"
     ]
    },
    {
     "name": "stderr",
     "output_type": "stream",
     "text": []
    },
    {
     "name": "stdout",
     "output_type": "stream",
     "text": [
      "using GPU\n"
     ]
    },
    {
     "name": "stderr",
     "output_type": "stream",
     "text": [
      "Lightning automatically upgraded your loaded checkpoint from v1.1.4 to v2.5.0.post0. To apply the upgrade to your files permanently, run `python -m pytorch_lightning.utilities.upgrade_checkpoint c:\\Users\\colin\\OneDrive\\Desktop\\Jersey-Number-Recognition\\data\\pre_trained_models\\reid\\dukemtmcreid_resnet50_256_128_epoch_120.ckpt`\n"
     ]
    },
    {
     "name": "stdout",
     "output_type": "stream",
     "text": [
      "2025-03-22 22:16:30 [INFO] Saved features for tracklet with shape (145, 2048) to c:\\Users\\colin\\OneDrive\\Desktop\\Jersey-Number-Recognition\\data\\SoccerNet\\jersey-2023\\processed_data\\test\\21\\features.npy\n",
      "2025-03-22 22:16:30 [INFO] Identifying and removing outliers by calling gaussian_outliers_streamlined.py on feature file\n",
      "using GPU\n",
      "2025-03-22 22:16:32 [INFO] Saved features for tracklet with shape (144, 2048) to c:\\Users\\colin\\OneDrive\\Desktop\\Jersey-Number-Recognition\\data\\SoccerNet\\jersey-2023\\processed_data\\test\\22\\features.npy\n",
      "2025-03-22 22:16:32 [INFO] Identifying and removing outliers by calling gaussian_outliers_streamlined.py on feature file\n",
      "2025-03-22 22:16:36 [INFO] Saving legible_tracklets to: c:\\Users\\colin\\OneDrive\\Desktop\\Jersey-Number-Recognition\\data\\SoccerNet\\jersey-2023\\processed_data\\test\\18\\legible_results.json\n",
      "2025-03-22 22:16:36 [INFO] Saved legible_tracklets to: c:\\Users\\colin\\OneDrive\\Desktop\\Jersey-Number-Recognition\\data\\SoccerNet\\jersey-2023\\processed_data\\test\\18\\legible_results.json\n",
      "2025-03-22 22:16:36 [INFO] Saving illegible_tracklets to: c:\\Users\\colin\\OneDrive\\Desktop\\Jersey-Number-Recognition\\data\\SoccerNet\\jersey-2023\\processed_data\\test\\18\\illegible_results.json\n",
      "2025-03-22 22:16:36 [INFO] Saved illegible_tracklets to: c:\\Users\\colin\\OneDrive\\Desktop\\Jersey-Number-Recognition\\data\\SoccerNet\\jersey-2023\\processed_data\\test\\18\\illegible_results.json\n",
      "2025-03-22 22:16:36 [INFO] Legibility classification complete.\n",
      "2025-03-22 22:16:36 [INFO] Determine soccer balls in image(s) using pre-trained model.\n",
      "2025-03-22 22:16:36 [INFO] Processed tracklet: 18\n"
     ]
    },
    {
     "name": "stderr",
     "output_type": "stream",
     "text": [
      "\n"
     ]
    },
    {
     "name": "stdout",
     "output_type": "stream",
     "text": [
      "2025-03-22 22:16:36 [INFO] Skipping soccer ball filter for tracklet 23 as cache exists.\n"
     ]
    },
    {
     "name": "stderr",
     "output_type": "stream",
     "text": [
      "Processing Batch Tracklets:  56%|█████▋    | 18/32 [03:22<01:44,  7.49s/it]\u001b[ALightning automatically upgraded your loaded checkpoint from v1.1.4 to v2.5.0.post0. To apply the upgrade to your files permanently, run `python -m pytorch_lightning.utilities.upgrade_checkpoint c:\\Users\\colin\\OneDrive\\Desktop\\Jersey-Number-Recognition\\data\\pre_trained_models\\reid\\dukemtmcreid_resnet50_256_128_epoch_120.ckpt`\n"
     ]
    },
    {
     "name": "stdout",
     "output_type": "stream",
     "text": [
      "using GPU\n",
      "2025-03-22 22:16:37 [INFO] \n",
      "2025-03-22 22:16:37 [INFO] Done removing outliers\n",
      "2025-03-22 22:16:37 [INFO] Running model chain on preprocessed image(s).\n",
      "2025-03-22 22:16:37 [INFO] Classifying legibility of image(s) using pre-trained model.\n",
      "2025-03-22 22:16:37 [WARNING] No soccer ball list found. Skipping exclusion of soccer balls.\n",
      "2025-03-22 22:16:37 [INFO] Path checked: c:\\Users\\colin\\OneDrive\\Desktop\\Jersey-Number-Recognition\\data\\SoccerNet\\jersey-2023\\processed_data\\test\\common_data\\soccer_ball.json\n",
      "2025-03-22 22:16:39 [INFO] Saved features for tracklet with shape (131, 2048) to c:\\Users\\colin\\OneDrive\\Desktop\\Jersey-Number-Recognition\\data\\SoccerNet\\jersey-2023\\processed_data\\test\\23\\features.npy\n",
      "2025-03-22 22:16:39 [INFO] Identifying and removing outliers by calling gaussian_outliers_streamlined.py on feature file\n",
      "2025-03-22 22:16:41 [INFO] \n",
      "2025-03-22 22:16:41 [INFO] Done removing outliers\n",
      "2025-03-22 22:16:41 [INFO] Running model chain on preprocessed image(s).\n",
      "2025-03-22 22:16:41 [INFO] Classifying legibility of image(s) using pre-trained model.\n",
      "2025-03-22 22:16:41 [WARNING] No soccer ball list found. Skipping exclusion of soccer balls.\n",
      "2025-03-22 22:16:41 [INFO] Path checked: c:\\Users\\colin\\OneDrive\\Desktop\\Jersey-Number-Recognition\\data\\SoccerNet\\jersey-2023\\processed_data\\test\\common_data\\soccer_ball.json\n",
      "2025-03-22 22:16:45 [INFO] \n",
      "2025-03-22 22:16:45 [INFO] Done removing outliers\n",
      "2025-03-22 22:16:45 [INFO] Running model chain on preprocessed image(s).\n",
      "2025-03-22 22:16:45 [INFO] Classifying legibility of image(s) using pre-trained model.\n",
      "2025-03-22 22:16:45 [WARNING] No soccer ball list found. Skipping exclusion of soccer balls.\n",
      "2025-03-22 22:16:45 [INFO] Path checked: c:\\Users\\colin\\OneDrive\\Desktop\\Jersey-Number-Recognition\\data\\SoccerNet\\jersey-2023\\processed_data\\test\\common_data\\soccer_ball.json\n",
      "2025-03-22 22:16:46 [INFO] \n",
      "2025-03-22 22:16:46 [INFO] Done removing outliers\n",
      "2025-03-22 22:16:46 [INFO] Running model chain on preprocessed image(s).\n",
      "2025-03-22 22:16:46 [INFO] Classifying legibility of image(s) using pre-trained model.\n",
      "2025-03-22 22:16:46 [WARNING] No soccer ball list found. Skipping exclusion of soccer balls.\n",
      "2025-03-22 22:16:46 [INFO] Path checked: c:\\Users\\colin\\OneDrive\\Desktop\\Jersey-Number-Recognition\\data\\SoccerNet\\jersey-2023\\processed_data\\test\\common_data\\soccer_ball.json\n"
     ]
    }
   ],
   "source": [
    "pipeline.run_soccernet(\n",
    "  run_soccer_ball_filter=True,\n",
    "  generate_features=True,\n",
    "  run_filter=True,\n",
    "  run_legible=True,\n",
    "  run_legible_eval=True,\n",
    "  run_pose=False,\n",
    "  run_crops=False,\n",
    "  run_str=False,\n",
    "  run_combine=False,\n",
    "  run_eval=False)"
   ]
  }
 ],
 "metadata": {
  "kernelspec": {
   "display_name": "UBC",
   "language": "python",
   "name": "python3"
  },
  "language_info": {
   "codemirror_mode": {
    "name": "ipython",
    "version": 3
   },
   "file_extension": ".py",
   "mimetype": "text/x-python",
   "name": "python",
   "nbconvert_exporter": "python",
   "pygments_lexer": "ipython3",
   "version": "3.13.1"
  }
 },
 "nbformat": 4,
 "nbformat_minor": 2
}
