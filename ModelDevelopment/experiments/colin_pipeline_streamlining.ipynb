{
 "cells": [
  {
   "cell_type": "markdown",
   "metadata": {},
   "source": [
    "### Quick Run Block"
   ]
  },
  {
   "cell_type": "code",
   "execution_count": 1,
   "metadata": {},
   "outputs": [],
   "source": [
    "# import torch\n",
    "# from pytorch_lightning.callbacks import ModelCheckpoint\n",
    "\n",
    "# # Path to the problematic checkpoint\n",
    "# checkpoint_path = r\"c:\\Users\\colin\\OneDrive\\Desktop\\Jersey-Number-Recognition\\data\\pre_trained_models\\reid\\dukemtmcreid_resnet50_256_128_epoch_120.ckpt\"\n",
    "\n",
    "# # Allow loading of ModelCheckpoint objects (since PyTorch 2.6 blocks this by default)\n",
    "# torch.serialization.add_safe_globals([ModelCheckpoint])\n",
    "\n",
    "# # Load the checkpoint safely\n",
    "# checkpoint = torch.load(checkpoint_path, map_location=\"cpu\", weights_only=False)\n",
    "\n",
    "# # Print out keys to inspect conflicting ones\n",
    "# print(\"Checkpoint keys:\", checkpoint.keys())\n",
    "\n",
    "# # Remove ModelCheckpoint states (if they exist)\n",
    "# keys_to_remove = [key for key in checkpoint.keys() if \"ModelCheckpoint\" in key]\n",
    "# for key in keys_to_remove:\n",
    "#     del checkpoint[key]\n",
    "\n",
    "# # Save the cleaned checkpoint\n",
    "# fixed_checkpoint_path = checkpoint_path.replace(\".ckpt\", \"_fixed.ckpt\")\n",
    "# torch.save(checkpoint, fixed_checkpoint_path)\n",
    "\n",
    "# print(f\"Fixed checkpoint saved to: {fixed_checkpoint_path}\")"
   ]
  },
  {
   "cell_type": "markdown",
   "metadata": {},
   "source": [
    "## Code"
   ]
  },
  {
   "cell_type": "code",
   "execution_count": 2,
   "metadata": {},
   "outputs": [
    {
     "name": "stdout",
     "output_type": "stream",
     "text": [
      "c:\\Users\\colin\\OneDrive\\Desktop\\Jersey-Number-Recognition\n",
      "Current working directory:  c:\\Users\\colin\\OneDrive\\Desktop\\Jersey-Number-Recognition\\ModelDevelopment\\experiments\n"
     ]
    }
   ],
   "source": [
    "import sys\n",
    "from pathlib import Path\n",
    "import os\n",
    "\n",
    "sys.path.append(str(Path.cwd().parent.parent))\n",
    "print(str(Path.cwd().parent.parent))\n",
    "print(\"Current working directory: \", os.getcwd())\n",
    "\n",
    "from ModelDevelopment.CentralPipeline import CentralPipeline\n",
    "from ModelDevelopment.ImageBatchPipeline import ImageBatchPipeline\n",
    "from DataProcessing.DataPreProcessing import DataPaths"
   ]
  },
  {
   "cell_type": "markdown",
   "metadata": {},
   "source": [
    "## Multithreaded Studies Research Findings\n",
    "- ThreadPoolExecutor works best for CentralPipeline pre-processing step (i.e. everything before run_pose)\n",
    "- Time taken to process one batch of 32 tracklets: 251 seconds => (251*32)/3600 = 2.35 hours ETA @ 200 images per batch cap, num_threads = 6x3 = 18\n",
    "- Note on the GPU_SEMAPHORE constant inside ImageFeatureTransformPipeline: this is always capped at 1 so we only offload 1 batch of images to the GPU\n",
    "- Since this gate is capped at 1, we can control the amount of data offloaded to the GPU via the image_batch_size param to CentralPipeline and only that\n",
    "- Since caching is implemented, you can try setting the gate to 2 for even faster results, and if the process crashes, keep restarting with use_cache=True"
   ]
  },
  {
   "cell_type": "code",
   "execution_count": 3,
   "metadata": {},
   "outputs": [
    {
     "name": "stdout",
     "output_type": "stream",
     "text": [
      "2025-03-23 16:56:29 [INFO] DataPreProcessing initialized. Universe of available data paths:\n",
      "2025-03-23 16:56:29 [INFO] ROOT_DATA_DIR: c:\\Users\\colin\\OneDrive\\Desktop\\Jersey-Number-Recognition\\data\\SoccerNet\\jersey-2023\\extracted\n",
      "2025-03-23 16:56:29 [INFO] TEST_DATA_GT: c:\\Users\\colin\\OneDrive\\Desktop\\Jersey-Number-Recognition\\data\\SoccerNet\\jersey-2023\\extracted\\test\\test_gt.json\n",
      "2025-03-23 16:56:29 [INFO] TRAIN_DATA_GT: c:\\Users\\colin\\OneDrive\\Desktop\\Jersey-Number-Recognition\\data\\SoccerNet\\jersey-2023\\extracted\\train\\train_gt.json\n",
      "2025-03-23 16:56:29 [INFO] TEST_DATA_DIR: c:\\Users\\colin\\OneDrive\\Desktop\\Jersey-Number-Recognition\\data\\SoccerNet\\jersey-2023\\extracted\\test\\images\n",
      "2025-03-23 16:56:29 [INFO] TRAIN_DATA_DIR: c:\\Users\\colin\\OneDrive\\Desktop\\Jersey-Number-Recognition\\data\\SoccerNet\\jersey-2023\\extracted\\train\\images\n",
      "2025-03-23 16:56:29 [INFO] CHALLENGE_DATA_DIR: c:\\Users\\colin\\OneDrive\\Desktop\\Jersey-Number-Recognition\\data\\SoccerNet\\jersey-2023\\extracted\\challenge\\images\n",
      "2025-03-23 16:56:29 [INFO] PRE_TRAINED_MODELS_DIR: c:\\Users\\colin\\OneDrive\\Desktop\\Jersey-Number-Recognition\\data\\pre_trained_models\n",
      "2025-03-23 16:56:29 [INFO] REID_PRE_TRAINED: c:\\Users\\colin\\OneDrive\\Desktop\\Jersey-Number-Recognition\\data\\pre_trained_models\\reid\n",
      "2025-03-23 16:56:29 [INFO] STR_PRE_TRAINED: c:\\Users\\colin\\OneDrive\\Desktop\\Jersey-Number-Recognition\\data\\pre_trained_models\\str\n",
      "2025-03-23 16:56:29 [INFO] STR_MODEL: c:\\Users\\colin\\OneDrive\\Desktop\\Jersey-Number-Recognition\\data\\pre_trained_models\\str\\parseq_epoch=24-step=2575-val_accuracy=95.6044-val_NED=96.3255.ckpt\n",
      "2025-03-23 16:56:29 [INFO] REID_MODEL_1: c:\\Users\\colin\\OneDrive\\Desktop\\Jersey-Number-Recognition\\data\\pre_trained_models\\reid\\dukemtmcreid_resnet50_256_128_epoch_120.ckpt\n",
      "2025-03-23 16:56:29 [INFO] REID_MODEL_2: c:\\Users\\colin\\OneDrive\\Desktop\\Jersey-Number-Recognition\\data\\pre_trained_models\\reid\\market1501_resnet50_256_128_epoch_120.ckpt\n",
      "2025-03-23 16:56:29 [INFO] REID_CONFIG_YAML: c:\\Users\\colin\\OneDrive\\Desktop\\Jersey-Number-Recognition\\data\\pre_trained_models\\reid\\configs\\256_resnet50.yml\n",
      "2025-03-23 16:56:29 [INFO] RESNET_MODEL: c:\\Users\\colin\\OneDrive\\Desktop\\Jersey-Number-Recognition\\data\\pre_trained_models\\resnet\\legibility_resnet34_soccer_20240215.pth\n",
      "2025-03-23 16:56:29 [INFO] PROCESSED_DATA_OUTPUT_DIR: c:\\Users\\colin\\OneDrive\\Desktop\\Jersey-Number-Recognition\\data\\SoccerNet\\jersey-2023\\processed_data\n",
      "2025-03-23 16:56:29 [INFO] PROCESSED_DATA_OUTPUT_DIR_TRAIN: c:\\Users\\colin\\OneDrive\\Desktop\\Jersey-Number-Recognition\\data\\SoccerNet\\jersey-2023\\processed_data\\train\n",
      "2025-03-23 16:56:29 [INFO] PROCESSED_DATA_OUTPUT_DIR_TEST: c:\\Users\\colin\\OneDrive\\Desktop\\Jersey-Number-Recognition\\data\\SoccerNet\\jersey-2023\\processed_data\\test\n",
      "2025-03-23 16:56:29 [INFO] PROCESSED_DATA_OUTPUT_DIR_CHALLENGE: c:\\Users\\colin\\OneDrive\\Desktop\\Jersey-Number-Recognition\\data\\SoccerNet\\jersey-2023\\processed_data\\challenge\n",
      "2025-03-23 16:56:29 [INFO] COMMON_PROCESSED_OUTPUT_DATA_TRAIN: c:\\Users\\colin\\OneDrive\\Desktop\\Jersey-Number-Recognition\\data\\SoccerNet\\jersey-2023\\processed_data\\train\\common_data\n",
      "2025-03-23 16:56:29 [INFO] COMMON_PROCESSED_OUTPUT_DATA_TEST: c:\\Users\\colin\\OneDrive\\Desktop\\Jersey-Number-Recognition\\data\\SoccerNet\\jersey-2023\\processed_data\\test\\common_data\n",
      "2025-03-23 16:56:29 [INFO] COMMON_PROCESSED_OUTPUT_DATA_CHALLENGE: c:\\Users\\colin\\OneDrive\\Desktop\\Jersey-Number-Recognition\\data\\SoccerNet\\jersey-2023\\processed_data\\challenge\\common_data\n",
      "2025-03-23 16:56:29 [INFO] STREAMLINED_PIPELINE: c:\\Users\\colin\\OneDrive\\Desktop\\Jersey-Number-Recognition\\StreamlinedPipelineScripts\n",
      "2025-03-23 16:56:29 [INFO] Created directory: c:\\Users\\colin\\OneDrive\\Desktop\\Jersey-Number-Recognition\\data\\SoccerNet\\jersey-2023\\processed_data\\test\n",
      "2025-03-23 16:56:29 [INFO] Created directory: c:\\Users\\colin\\OneDrive\\Desktop\\Jersey-Number-Recognition\\data\\SoccerNet\\jersey-2023\\processed_data\\test\\common_data\n",
      "2025-03-23 16:56:29 [INFO] ['0', '1', '2', '3', '4', '5', '6', '7', '8', '9']\n",
      "2025-03-23 16:56:29 [INFO] Min tracklet: 0\n",
      "2025-03-23 16:56:29 [INFO] Max tracklet: 1210\n",
      "2025-03-23 16:56:29 [INFO] Using device: cuda\n"
     ]
    }
   ],
   "source": [
    "# TODO: Add tracklets_override to pass a list of tracklets to process; tracklets_override=[\"8\", \"9\", \"10\"]\n",
    "# NOTE: It is recommended you delete the entire processed_data/{challenge/test/train} before running this to 100% avoid issues with old data.\n",
    "# Furthermore, you should always restart your kernel before every new run because sometimes there are problems with paths\n",
    "pipeline = CentralPipeline(\n",
    "  tracklets_to_process_override=[\"1\"],\n",
    "  #num_tracklets=1210,\n",
    "  #num_images_per_tracklet=50,\n",
    "  input_data_path=DataPaths.TEST_DATA_DIR.value,\n",
    "  output_processed_data_path=DataPaths.PROCESSED_DATA_OUTPUT_DIR_TEST.value,\n",
    "  common_processed_data_dir=DataPaths.COMMON_PROCESSED_OUTPUT_DATA_TEST.value,\n",
    "  gt_data_path=DataPaths.TEST_DATA_GT.value,\n",
    "  single_image_pipeline=False,\n",
    "  display_transformed_image_sample=False, # NOTE: DO NOT USE. Code is parallelized so we cannot show images anymore. Code breaks, but first one will show if True.\n",
    "  num_image_samples=1,\n",
    "  use_cache=True, # Set to false if you encounter data inconsistencies.\n",
    "  suppress_logging=False,\n",
    "  \n",
    "  # --- PARALLELIZATION PARAMS --- These settings are optimal for an NVIDIA RTX 3070 Ti Laptop GPU.\n",
    "  num_workers=3,            # CRITICAL optimisation param. Adjust accordingly.\n",
    "  tracklet_batch_size=32,   # CRITICAL optimisation param. Adjust accordingly. \n",
    "  image_batch_size=50,      # CRITICAL optimisation param. Adjust accordingly. \n",
    "  num_threads_multiplier=2  # CRITICAL optimisation param. Adjust accordingly. Interpretation: num_threads = num_workers * num_threads_multiplier\n",
    "  )"
   ]
  },
  {
   "cell_type": "code",
   "execution_count": 4,
   "metadata": {},
   "outputs": [
    {
     "name": "stdout",
     "output_type": "stream",
     "text": [
      "2025-03-23 16:56:29 [INFO] Running the SoccerNet pipeline.\n",
      "2025-03-23 16:56:29 [INFO] Tracklet override applied. Using provided tracklets: 1\n"
     ]
    },
    {
     "data": {
      "application/vnd.jupyter.widget-view+json": {
       "model_id": "140ade6e7cf6437b9692c2af9173303c",
       "version_major": 2,
       "version_minor": 0
      },
      "text/plain": [
       "  0%|          | 0/1 [00:00<?, ?it/s]"
      ]
     },
     "metadata": {},
     "output_type": "display_data"
    },
    {
     "name": "stdout",
     "output_type": "stream",
     "text": [
      "2025-03-23 16:56:29 [INFO] Tracklet batch size: 32\n",
      "2025-03-23 16:56:29 [INFO] Image batch size: 50\n",
      "2025-03-23 16:56:29 [INFO] Number of workers: 3\n",
      "2025-03-23 16:56:29 [INFO] Number of threads created: 6\n",
      "2025-03-23 16:56:29 [INFO] Using double parallelization: multiprocessing + CUDA batch processing.\n"
     ]
    },
    {
     "data": {
      "application/vnd.jupyter.widget-view+json": {
       "model_id": "a5b0177da4ae410289a9a0d25c83dd6a",
       "version_major": 2,
       "version_minor": 0
      },
      "text/plain": [
       "Processing tracklets (CUDA + CPU):   0%|          | 0/1 [00:00<?, ?it/s]"
      ]
     },
     "metadata": {},
     "output_type": "display_data"
    },
    {
     "name": "stdout",
     "output_type": "stream",
     "text": [
      "2025-03-23 16:56:35 [INFO] Creating placeholder data files for Soccer Ball Filter.\n",
      "2025-03-23 16:56:35 [INFO] Determine soccer balls in image(s) using pre-trained model.\n"
     ]
    },
    {
     "data": {
      "application/vnd.jupyter.widget-view+json": {
       "model_id": "776e3a9501f94de1bb42b4e5c01f4a72",
       "version_major": 2,
       "version_minor": 0
      },
      "text/plain": [
       "Processing Batch Tracklets (0-32):   0%|          | 0/1 [00:00<?, ?it/s]"
      ]
     },
     "metadata": {},
     "output_type": "display_data"
    },
    {
     "name": "stdout",
     "output_type": "stream",
     "text": [
      "2025-03-23 16:56:35 [INFO] Found 0 balls, Ball list: []\n"
     ]
    },
    {
     "name": "stderr",
     "output_type": "stream",
     "text": [
      "c:\\Users\\colin\\miniconda3\\envs\\UBC\\Lib\\site-packages\\pytorch_lightning\\utilities\\migration\\migration.py:208: You have multiple `ModelCheckpoint` callback states in this checkpoint, but we found state keys that would end up colliding with each other after an upgrade, which means we can't differentiate which of your checkpoint callbacks needs which states. At least one of your `ModelCheckpoint` callbacks will not be able to reload the state.\n",
      "Lightning automatically upgraded your loaded checkpoint from v1.1.4 to v2.5.0.post0. To apply the upgrade to your files permanently, run `python -m pytorch_lightning.utilities.upgrade_checkpoint c:\\Users\\colin\\OneDrive\\Desktop\\Jersey-Number-Recognition\\data\\pre_trained_models\\reid\\dukemtmcreid_resnet50_256_128_epoch_120.ckpt`\n"
     ]
    },
    {
     "name": "stdout",
     "output_type": "stream",
     "text": [
      "2025-03-23 16:56:36 [INFO] Saved features for tracklet with shape (354, 2048) to c:\\Users\\colin\\OneDrive\\Desktop\\Jersey-Number-Recognition\\data\\SoccerNet\\jersey-2023\\processed_data\\test\\1\\features.npy\n",
      "2025-03-23 16:56:36 [INFO] Identifying and removing outliers by calling gaussian_outliers.py on feature file\n",
      "2025-03-23 16:56:42 [INFO] \n",
      "2025-03-23 16:56:42 [ERROR] \n",
      "2025-03-23 16:56:42 [INFO] Done removing outliers\n",
      "2025-03-23 16:56:42 [INFO] Running model chain on preprocessed image(s).\n",
      "2025-03-23 16:56:42 [INFO] Classifying legibility of image(s) using pre-trained model.\n"
     ]
    },
    {
     "name": "stderr",
     "output_type": "stream",
     "text": [
      "c:\\Users\\colin\\miniconda3\\envs\\UBC\\Lib\\site-packages\\torchvision\\models\\_utils.py:208: UserWarning: The parameter 'pretrained' is deprecated since 0.13 and may be removed in the future, please use 'weights' instead.\n",
      "  warnings.warn(\n",
      "c:\\Users\\colin\\miniconda3\\envs\\UBC\\Lib\\site-packages\\torchvision\\models\\_utils.py:223: UserWarning: Arguments other than a weight enum or `None` for 'weights' are deprecated since 0.13 and may be removed in the future. The current behavior is equivalent to passing `weights=ResNet34_Weights.IMAGENET1K_V1`. You can also use `weights=ResNet34_Weights.DEFAULT` to get the most up-to-date weights.\n",
      "  warnings.warn(msg)\n"
     ]
    },
    {
     "name": "stdout",
     "output_type": "stream",
     "text": [
      "2025-03-23 16:56:48 [INFO] Saving legible_tracklets to: c:\\Users\\colin\\OneDrive\\Desktop\\Jersey-Number-Recognition\\data\\SoccerNet\\jersey-2023\\processed_data\\test\\1\\legible_results.json\n",
      "2025-03-23 16:56:48 [INFO] Saved legible_tracklets to: c:\\Users\\colin\\OneDrive\\Desktop\\Jersey-Number-Recognition\\data\\SoccerNet\\jersey-2023\\processed_data\\test\\1\\legible_results.json\n",
      "2025-03-23 16:56:48 [INFO] Saving illegible_tracklets to: c:\\Users\\colin\\OneDrive\\Desktop\\Jersey-Number-Recognition\\data\\SoccerNet\\jersey-2023\\processed_data\\test\\1\\illegible_results.json\n",
      "2025-03-23 16:56:48 [INFO] Saved illegible_tracklets to: c:\\Users\\colin\\OneDrive\\Desktop\\Jersey-Number-Recognition\\data\\SoccerNet\\jersey-2023\\processed_data\\test\\1\\illegible_results.json\n",
      "2025-03-23 16:56:48 [INFO] Legibility classification complete.\n",
      "2025-03-23 16:56:48 [INFO] Processed tracklet: 1\n",
      "2025-03-23 16:56:48 [INFO] Evaluating legibility results on 1 tracklets\n"
     ]
    },
    {
     "data": {
      "application/vnd.jupyter.widget-view+json": {
       "model_id": "409b1fca6584416aac20f06c50ec5f65",
       "version_major": 2,
       "version_minor": 0
      },
      "text/plain": [
       "Evaluating legibility:   0%|          | 0/1 [00:00<?, ?it/s]"
      ]
     },
     "metadata": {},
     "output_type": "display_data"
    },
    {
     "name": "stdout",
     "output_type": "stream",
     "text": [
      "2025-03-23 16:56:48 [INFO] Correct 1 out of 1. Accuracy 100.0%.\n",
      "2025-03-23 16:56:48 [INFO] TP=1, TN=0, FP=0, FN=0\n",
      "2025-03-23 16:56:48 [INFO] Precision=1.0, Recall=1.0\n",
      "2025-03-23 16:56:48 [INFO] F1=1.0\n",
      "2025-03-23 16:56:48 [INFO] Generating json for pose\n",
      "2025-03-23 16:56:48 [INFO] Aggregating legible & illegible results (cache not used or only one file is missing).\n",
      "2025-03-23 16:56:48 [INFO] Saved global legible results to: c:\\Users\\colin\\OneDrive\\Desktop\\Jersey-Number-Recognition\\data\\SoccerNet\\jersey-2023\\processed_data\\test\\common_data\\legible_results.json\n",
      "2025-03-23 16:56:48 [INFO] Saved global illegible results to: c:\\Users\\colin\\OneDrive\\Desktop\\Jersey-Number-Recognition\\data\\SoccerNet\\jersey-2023\\processed_data\\test\\common_data\\illegible_results.json\n",
      "2025-03-23 16:56:48 [INFO] Done generating json for pose\n",
      "2025-03-23 16:56:48 [INFO] Detecting pose\n",
      "2025-03-23 16:57:26 [INFO] Current working directory:  c:\\Users\\colin\\OneDrive\\Desktop\\Jersey-Number-Recognition\\pose\\ViTPose\n",
      "apex is not installed\n",
      "apex is not installed\n",
      "apex is not installed\n",
      "Current working directory:  c:\\Users\\colin\\OneDrive\\Desktop\\Jersey-Number-Recognition\n",
      "False \n",
      "loading annotations into memory...\n",
      "Done (t=0.00s)\n",
      "creating index...\n",
      "index created!\n",
      "pose/ViTPose/configs/body/2d_kpt_sview_rgb_img/topdown_heatmap/coco/ViTPose_huge_coco_256x192.py\n",
      "pose/ViTPose/checkpoints/vitpose-h.pth\n",
      "load checkpoint from local path: pose/ViTPose/checkpoints/vitpose-h.pth\n",
      "Total images: 256, Already processed: 0, Remaining: 256\n",
      "Saved combined results to c:\\Users\\colin\\OneDrive\\Desktop\\Jersey-Number-Recognition\\data\\SoccerNet\\jersey-2023\\processed_data\\test\\common_data\\pose_results.json\n",
      "\n",
      "\n",
      "2025-03-23 16:57:26 [ERROR] C:\\Users\\colin\\miniconda3\\envs\\vitpose\\lib\\site-packages\\mmcv\\runner\\checkpoint.py:302: FutureWarning: You are using `torch.load` with `weights_only=False` (the current default value), which uses the default pickle module implicitly. It is possible to construct malicious pickle data which will execute arbitrary code during unpickling (See https://github.com/pytorch/pytorch/blob/main/SECURITY.md#untrusted-models for more details). In a future release, the default value for `weights_only` will be flipped to `True`. This limits the functions that could be executed during unpickling. Arbitrary objects will no longer be allowed to be loaded via this mode unless they are explicitly allowlisted by the user via `torch.serialization.add_safe_globals`. We recommend you start setting `weights_only=True` for any use case where you don't have full control of the loaded file. Please open an issue on GitHub for any issues related to this experimental feature.\n",
      "  checkpoint = torch.load(filename, map_location=map_location)\n",
      "\n",
      "\n",
      "2025-03-23 16:57:26 [INFO] Done detecting pose\n"
     ]
    }
   ],
   "source": [
    "pipeline.run_soccernet(\n",
    "  run_soccer_ball_filter=True,\n",
    "  generate_features=True,\n",
    "  run_filter=True,\n",
    "  run_legible=True,\n",
    "  run_legible_eval=True,\n",
    "  run_pose=True,\n",
    "  run_crops=False,\n",
    "  run_str=False,\n",
    "  run_combine=False,\n",
    "  run_eval=False)"
   ]
  }
 ],
 "metadata": {
  "kernelspec": {
   "display_name": "UBC",
   "language": "python",
   "name": "python3"
  },
  "language_info": {
   "codemirror_mode": {
    "name": "ipython",
    "version": 3
   },
   "file_extension": ".py",
   "mimetype": "text/x-python",
   "name": "python",
   "nbconvert_exporter": "python",
   "pygments_lexer": "ipython3",
   "version": "3.13.1"
  }
 },
 "nbformat": 4,
 "nbformat_minor": 2
}
