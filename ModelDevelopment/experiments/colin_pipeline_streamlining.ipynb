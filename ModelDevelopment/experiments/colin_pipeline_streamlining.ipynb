{
 "cells": [
  {
   "cell_type": "markdown",
   "metadata": {},
   "source": [
    "### Quick Run Block"
   ]
  },
  {
   "cell_type": "code",
   "execution_count": null,
   "metadata": {},
   "outputs": [],
   "source": [
    "# import torch\n",
    "# from pytorch_lightning.callbacks import ModelCheckpoint\n",
    "\n",
    "# # Path to the problematic checkpoint\n",
    "# checkpoint_path = r\"c:\\Users\\colin\\OneDrive\\Desktop\\Jersey-Number-Recognition\\data\\pre_trained_models\\reid\\dukemtmcreid_resnet50_256_128_epoch_120.ckpt\"\n",
    "\n",
    "# # Allow loading of ModelCheckpoint objects (since PyTorch 2.6 blocks this by default)\n",
    "# torch.serialization.add_safe_globals([ModelCheckpoint])\n",
    "\n",
    "# # Load the checkpoint safely\n",
    "# checkpoint = torch.load(checkpoint_path, map_location=\"cpu\", weights_only=False)\n",
    "\n",
    "# # Print out keys to inspect conflicting ones\n",
    "# print(\"Checkpoint keys:\", checkpoint.keys())\n",
    "\n",
    "# # Remove ModelCheckpoint states (if they exist)\n",
    "# keys_to_remove = [key for key in checkpoint.keys() if \"ModelCheckpoint\" in key]\n",
    "# for key in keys_to_remove:\n",
    "#     del checkpoint[key]\n",
    "\n",
    "# # Save the cleaned checkpoint\n",
    "# fixed_checkpoint_path = checkpoint_path.replace(\".ckpt\", \"_fixed.ckpt\")\n",
    "# torch.save(checkpoint, fixed_checkpoint_path)\n",
    "\n",
    "# print(f\"Fixed checkpoint saved to: {fixed_checkpoint_path}\")"
   ]
  },
  {
   "cell_type": "markdown",
   "metadata": {},
   "source": [
    "## Code"
   ]
  },
  {
   "cell_type": "code",
   "execution_count": 1,
   "metadata": {},
   "outputs": [
    {
     "name": "stdout",
     "output_type": "stream",
     "text": [
      "c:\\Users\\colin\\OneDrive\\Desktop\\Jersey-Number-Recognition\n",
      "Current working directory:  c:\\Users\\colin\\OneDrive\\Desktop\\Jersey-Number-Recognition\\ModelDevelopment\\experiments\n"
     ]
    }
   ],
   "source": [
    "import sys\n",
    "from pathlib import Path\n",
    "import os\n",
    "\n",
    "sys.path.append(str(Path.cwd().parent.parent))\n",
    "print(str(Path.cwd().parent.parent))\n",
    "print(\"Current working directory: \", os.getcwd())\n",
    "\n",
    "from ModelDevelopment.CentralPipeline import CentralPipeline\n",
    "from ModelDevelopment.ImageBatchPipeline import ImageBatchPipeline\n",
    "from DataProcessing.DataPreProcessing import DataPaths"
   ]
  },
  {
   "cell_type": "markdown",
   "metadata": {},
   "source": [
    "## Multithreaded Studies Research Findings\n",
    "- ThreadPoolExecutor works best for CentralPipeline pre-processing step (i.e. everything before run_pose)\n",
    "- Time taken to process one batch of 32 tracklets: 251 seconds => (251*32)/3600 = 2.35 hours ETA @ 200 images per batch cap, num_threads = 6x3 = 18\n",
    "- Note on the GPU_SEMAPHORE constant inside ImageFeatureTransformPipeline: this is always capped at 1 so we only offload 1 batch of images to the GPU\n",
    "- Since this gate is capped at 1, we can control the amount of data offloaded to the GPU via the image_batch_size param to CentralPipeline and only that\n",
    "- Since caching is implemented, you can try setting the gate to 2 for even faster results, and if the process crashes, keep restarting with use_cache=True"
   ]
  },
  {
   "cell_type": "code",
   "execution_count": 2,
   "metadata": {},
   "outputs": [
    {
     "name": "stdout",
     "output_type": "stream",
     "text": [
      "2025-03-23 14:36:46 [INFO] DataPreProcessing initialized. Universe of available data paths:\n",
      "2025-03-23 14:36:46 [INFO] ROOT_DATA_DIR: c:\\Users\\colin\\OneDrive\\Desktop\\Jersey-Number-Recognition\\data\\SoccerNet\\jersey-2023\\extracted\n",
      "2025-03-23 14:36:46 [INFO] TEST_DATA_GT: c:\\Users\\colin\\OneDrive\\Desktop\\Jersey-Number-Recognition\\data\\SoccerNet\\jersey-2023\\extracted\\test\\test_gt.json\n",
      "2025-03-23 14:36:46 [INFO] TRAIN_DATA_GT: c:\\Users\\colin\\OneDrive\\Desktop\\Jersey-Number-Recognition\\data\\SoccerNet\\jersey-2023\\extracted\\train\\train_gt.json\n",
      "2025-03-23 14:36:46 [INFO] TEST_DATA_DIR: c:\\Users\\colin\\OneDrive\\Desktop\\Jersey-Number-Recognition\\data\\SoccerNet\\jersey-2023\\extracted\\test\\images\n",
      "2025-03-23 14:36:46 [INFO] TRAIN_DATA_DIR: c:\\Users\\colin\\OneDrive\\Desktop\\Jersey-Number-Recognition\\data\\SoccerNet\\jersey-2023\\extracted\\train\\images\n",
      "2025-03-23 14:36:46 [INFO] CHALLENGE_DATA_DIR: c:\\Users\\colin\\OneDrive\\Desktop\\Jersey-Number-Recognition\\data\\SoccerNet\\jersey-2023\\extracted\\challenge\\images\n",
      "2025-03-23 14:36:46 [INFO] PRE_TRAINED_MODELS_DIR: c:\\Users\\colin\\OneDrive\\Desktop\\Jersey-Number-Recognition\\data\\pre_trained_models\n",
      "2025-03-23 14:36:46 [INFO] REID_PRE_TRAINED: c:\\Users\\colin\\OneDrive\\Desktop\\Jersey-Number-Recognition\\data\\pre_trained_models\\reid\n",
      "2025-03-23 14:36:46 [INFO] STR_PRE_TRAINED: c:\\Users\\colin\\OneDrive\\Desktop\\Jersey-Number-Recognition\\data\\pre_trained_models\\str\n",
      "2025-03-23 14:36:46 [INFO] STR_MODEL: c:\\Users\\colin\\OneDrive\\Desktop\\Jersey-Number-Recognition\\data\\pre_trained_models\\str\\parseq_epoch=24-step=2575-val_accuracy=95.6044-val_NED=96.3255.ckpt\n",
      "2025-03-23 14:36:46 [INFO] REID_MODEL_1: c:\\Users\\colin\\OneDrive\\Desktop\\Jersey-Number-Recognition\\data\\pre_trained_models\\reid\\dukemtmcreid_resnet50_256_128_epoch_120.ckpt\n",
      "2025-03-23 14:36:46 [INFO] REID_MODEL_2: c:\\Users\\colin\\OneDrive\\Desktop\\Jersey-Number-Recognition\\data\\pre_trained_models\\reid\\market1501_resnet50_256_128_epoch_120.ckpt\n",
      "2025-03-23 14:36:46 [INFO] REID_CONFIG_YAML: c:\\Users\\colin\\OneDrive\\Desktop\\Jersey-Number-Recognition\\data\\pre_trained_models\\reid\\configs\\256_resnet50.yml\n",
      "2025-03-23 14:36:46 [INFO] RESNET_MODEL: c:\\Users\\colin\\OneDrive\\Desktop\\Jersey-Number-Recognition\\data\\pre_trained_models\\resnet\\legibility_resnet34_soccer_20240215.pth\n",
      "2025-03-23 14:36:46 [INFO] PROCESSED_DATA_OUTPUT_DIR: c:\\Users\\colin\\OneDrive\\Desktop\\Jersey-Number-Recognition\\data\\SoccerNet\\jersey-2023\\processed_data\n",
      "2025-03-23 14:36:46 [INFO] PROCESSED_DATA_OUTPUT_DIR_TRAIN: c:\\Users\\colin\\OneDrive\\Desktop\\Jersey-Number-Recognition\\data\\SoccerNet\\jersey-2023\\processed_data\\train\n",
      "2025-03-23 14:36:46 [INFO] PROCESSED_DATA_OUTPUT_DIR_TEST: c:\\Users\\colin\\OneDrive\\Desktop\\Jersey-Number-Recognition\\data\\SoccerNet\\jersey-2023\\processed_data\\test\n",
      "2025-03-23 14:36:46 [INFO] PROCESSED_DATA_OUTPUT_DIR_CHALLENGE: c:\\Users\\colin\\OneDrive\\Desktop\\Jersey-Number-Recognition\\data\\SoccerNet\\jersey-2023\\processed_data\\challenge\n",
      "2025-03-23 14:36:46 [INFO] COMMON_PROCESSED_OUTPUT_DATA_TRAIN: c:\\Users\\colin\\OneDrive\\Desktop\\Jersey-Number-Recognition\\data\\SoccerNet\\jersey-2023\\processed_data\\train\\common_data\n",
      "2025-03-23 14:36:46 [INFO] COMMON_PROCESSED_OUTPUT_DATA_TEST: c:\\Users\\colin\\OneDrive\\Desktop\\Jersey-Number-Recognition\\data\\SoccerNet\\jersey-2023\\processed_data\\test\\common_data\n",
      "2025-03-23 14:36:46 [INFO] COMMON_PROCESSED_OUTPUT_DATA_CHALLENGE: c:\\Users\\colin\\OneDrive\\Desktop\\Jersey-Number-Recognition\\data\\SoccerNet\\jersey-2023\\processed_data\\challenge\\common_data\n",
      "2025-03-23 14:36:46 [INFO] STREAMLINED_PIPELINE: c:\\Users\\colin\\OneDrive\\Desktop\\Jersey-Number-Recognition\\StreamlinedPipelineScripts\n",
      "2025-03-23 14:36:46 [INFO] ['0', '1', '2', '3', '4', '5', '6', '7', '8', '9']\n",
      "2025-03-23 14:36:46 [INFO] Min tracklet: 0\n",
      "2025-03-23 14:36:46 [INFO] Max tracklet: 1210\n",
      "2025-03-23 14:36:46 [INFO] Using device: cuda\n",
      "2025-03-23 14:36:46 [INFO] ['0', '1', '2', '3', '4', '5', '6', '7', '8', '9']\n",
      "2025-03-23 14:36:46 [INFO] Min tracklet: 0\n",
      "2025-03-23 14:36:46 [INFO] Max tracklet: 1210\n"
     ]
    }
   ],
   "source": [
    "# TODO: Add tracklets_override to pass a list of tracklets to process; tracklets_override=[\"8\", \"9\", \"10\"]\n",
    "# NOTE: It is recommended you delete the entire processed_data/{challenge/test/train} before running this to 100% avoid issues with old data.\n",
    "# Furthermore, you should always restart your kernel before every new run because sometimes there are problems with paths\n",
    "pipeline = CentralPipeline(\n",
    "  num_tracklets=1210,\n",
    "  #num_images_per_tracklet=1,\n",
    "  input_data_path=DataPaths.TEST_DATA_DIR.value,\n",
    "  output_processed_data_path=DataPaths.PROCESSED_DATA_OUTPUT_DIR_TEST.value,\n",
    "  common_processed_data_dir=DataPaths.COMMON_PROCESSED_OUTPUT_DATA_TEST.value,\n",
    "  gt_data_path=DataPaths.TEST_DATA_GT.value,\n",
    "  single_image_pipeline=False,\n",
    "  display_transformed_image_sample=False, # NOTE: DO NOT USE. Code is parallelized so we cannot show images anymore. Code breaks, but first one will show if True.\n",
    "  num_image_samples=1,\n",
    "  use_cache=True, # Set to false if you encounter data inconsistencies.\n",
    "  suppress_logging=False,\n",
    "  \n",
    "  # --- PARALLELIZATION PARAMS --- These settings are optimal for an NVIDIA RTX 3070 Ti Laptop GPU.\n",
    "  num_workers=3,            # CRITICAL optimisation param. Adjust accordingly.\n",
    "  tracklet_batch_size=32,   # CRITICAL optimisation param. Adjust accordingly. \n",
    "  image_batch_size=50,      # CRITICAL optimisation param. Adjust accordingly. \n",
    "  num_threads_multiplier=2 # CRITICAL optimisation param. Adjust accordingly. Interpretation: num_threads = num_workers * num_threads_multiplier\n",
    "  )"
   ]
  },
  {
   "cell_type": "code",
   "execution_count": null,
   "metadata": {},
   "outputs": [
    {
     "name": "stdout",
     "output_type": "stream",
     "text": [
      "2025-03-23 14:36:46 [INFO] Running the SoccerNet pipeline.\n"
     ]
    },
    {
     "data": {
      "application/vnd.jupyter.widget-view+json": {
       "model_id": "e5b7d142c5554d1086d40e3134d3fc9c",
       "version_major": 2,
       "version_minor": 0
      },
      "text/plain": [
       "  0%|          | 0/38 [00:00<?, ?it/s]"
      ]
     },
     "metadata": {},
     "output_type": "display_data"
    },
    {
     "name": "stdout",
     "output_type": "stream",
     "text": [
      "2025-03-23 14:36:46 [INFO] Tracklet batch size: 32\n",
      "2025-03-23 14:36:46 [INFO] Image batch size: 50\n",
      "2025-03-23 14:36:46 [INFO] Number of workers: 3\n",
      "2025-03-23 14:36:46 [INFO] Number of threads created: 6\n",
      "2025-03-23 14:36:46 [INFO] Skipping preprocessing for tracklet: c:\\Users\\colin\\OneDrive\\Desktop\\Jersey-Number-Recognition\\data\\SoccerNet\\jersey-2023\\processed_data\\test\\0\n",
      "2025-03-23 14:36:46 [INFO] Skipping preprocessing for tracklet: c:\\Users\\colin\\OneDrive\\Desktop\\Jersey-Number-Recognition\\data\\SoccerNet\\jersey-2023\\processed_data\\test\\1\n",
      "2025-03-23 14:36:46 [INFO] Skipping preprocessing for tracklet: c:\\Users\\colin\\OneDrive\\Desktop\\Jersey-Number-Recognition\\data\\SoccerNet\\jersey-2023\\processed_data\\test\\2\n",
      "2025-03-23 14:36:46 [INFO] Skipping preprocessing for tracklet: c:\\Users\\colin\\OneDrive\\Desktop\\Jersey-Number-Recognition\\data\\SoccerNet\\jersey-2023\\processed_data\\test\\3\n",
      "2025-03-23 14:36:46 [INFO] Skipping preprocessing for tracklet: c:\\Users\\colin\\OneDrive\\Desktop\\Jersey-Number-Recognition\\data\\SoccerNet\\jersey-2023\\processed_data\\test\\4\n",
      "2025-03-23 14:36:46 [INFO] Skipping preprocessing for tracklet: c:\\Users\\colin\\OneDrive\\Desktop\\Jersey-Number-Recognition\\data\\SoccerNet\\jersey-2023\\processed_data\\test\\5\n",
      "2025-03-23 14:36:46 [INFO] Skipping preprocessing for tracklet: c:\\Users\\colin\\OneDrive\\Desktop\\Jersey-Number-Recognition\\data\\SoccerNet\\jersey-2023\\processed_data\\test\\6\n",
      "2025-03-23 14:36:46 [INFO] Skipping preprocessing for tracklet: c:\\Users\\colin\\OneDrive\\Desktop\\Jersey-Number-Recognition\\data\\SoccerNet\\jersey-2023\\processed_data\\test\\7\n",
      "2025-03-23 14:36:46 [INFO] Skipping preprocessing for tracklet: c:\\Users\\colin\\OneDrive\\Desktop\\Jersey-Number-Recognition\\data\\SoccerNet\\jersey-2023\\processed_data\\test\\8\n",
      "2025-03-23 14:36:46 [INFO] Skipping preprocessing for tracklet: c:\\Users\\colin\\OneDrive\\Desktop\\Jersey-Number-Recognition\\data\\SoccerNet\\jersey-2023\\processed_data\\test\\9\n",
      "2025-03-23 14:36:46 [INFO] Skipping preprocessing for tracklet: c:\\Users\\colin\\OneDrive\\Desktop\\Jersey-Number-Recognition\\data\\SoccerNet\\jersey-2023\\processed_data\\test\\10\n",
      "2025-03-23 14:36:46 [INFO] Skipping preprocessing for tracklet: c:\\Users\\colin\\OneDrive\\Desktop\\Jersey-Number-Recognition\\data\\SoccerNet\\jersey-2023\\processed_data\\test\\11\n",
      "2025-03-23 14:36:46 [INFO] Skipping preprocessing for tracklet: c:\\Users\\colin\\OneDrive\\Desktop\\Jersey-Number-Recognition\\data\\SoccerNet\\jersey-2023\\processed_data\\test\\12\n",
      "2025-03-23 14:36:46 [INFO] Skipping preprocessing for tracklet: c:\\Users\\colin\\OneDrive\\Desktop\\Jersey-Number-Recognition\\data\\SoccerNet\\jersey-2023\\processed_data\\test\\13\n",
      "2025-03-23 14:36:46 [INFO] Skipping preprocessing for tracklet: c:\\Users\\colin\\OneDrive\\Desktop\\Jersey-Number-Recognition\\data\\SoccerNet\\jersey-2023\\processed_data\\test\\14\n",
      "2025-03-23 14:36:46 [INFO] Skipping preprocessing for tracklet: c:\\Users\\colin\\OneDrive\\Desktop\\Jersey-Number-Recognition\\data\\SoccerNet\\jersey-2023\\processed_data\\test\\15\n",
      "2025-03-23 14:36:46 [INFO] Skipping preprocessing for tracklet: c:\\Users\\colin\\OneDrive\\Desktop\\Jersey-Number-Recognition\\data\\SoccerNet\\jersey-2023\\processed_data\\test\\16\n",
      "2025-03-23 14:36:46 [INFO] Skipping preprocessing for tracklet: c:\\Users\\colin\\OneDrive\\Desktop\\Jersey-Number-Recognition\\data\\SoccerNet\\jersey-2023\\processed_data\\test\\17\n",
      "2025-03-23 14:36:46 [INFO] Skipping preprocessing for tracklet: c:\\Users\\colin\\OneDrive\\Desktop\\Jersey-Number-Recognition\\data\\SoccerNet\\jersey-2023\\processed_data\\test\\18\n",
      "2025-03-23 14:36:46 [INFO] Skipping preprocessing for tracklet: c:\\Users\\colin\\OneDrive\\Desktop\\Jersey-Number-Recognition\\data\\SoccerNet\\jersey-2023\\processed_data\\test\\19\n",
      "2025-03-23 14:36:46 [INFO] Skipping preprocessing for tracklet: c:\\Users\\colin\\OneDrive\\Desktop\\Jersey-Number-Recognition\\data\\SoccerNet\\jersey-2023\\processed_data\\test\\20\n",
      "2025-03-23 14:36:46 [INFO] Skipping preprocessing for tracklet: c:\\Users\\colin\\OneDrive\\Desktop\\Jersey-Number-Recognition\\data\\SoccerNet\\jersey-2023\\processed_data\\test\\21\n",
      "2025-03-23 14:36:46 [INFO] Skipping preprocessing for tracklet: c:\\Users\\colin\\OneDrive\\Desktop\\Jersey-Number-Recognition\\data\\SoccerNet\\jersey-2023\\processed_data\\test\\22\n",
      "2025-03-23 14:36:46 [INFO] Skipping preprocessing for tracklet: c:\\Users\\colin\\OneDrive\\Desktop\\Jersey-Number-Recognition\\data\\SoccerNet\\jersey-2023\\processed_data\\test\\23\n",
      "2025-03-23 14:36:46 [INFO] Skipping preprocessing for tracklet: c:\\Users\\colin\\OneDrive\\Desktop\\Jersey-Number-Recognition\\data\\SoccerNet\\jersey-2023\\processed_data\\test\\24\n",
      "2025-03-23 14:36:46 [INFO] Skipping preprocessing for tracklet: c:\\Users\\colin\\OneDrive\\Desktop\\Jersey-Number-Recognition\\data\\SoccerNet\\jersey-2023\\processed_data\\test\\25\n",
      "2025-03-23 14:36:46 [INFO] Skipping preprocessing for tracklet: c:\\Users\\colin\\OneDrive\\Desktop\\Jersey-Number-Recognition\\data\\SoccerNet\\jersey-2023\\processed_data\\test\\26\n",
      "2025-03-23 14:36:46 [INFO] Skipping preprocessing for tracklet: c:\\Users\\colin\\OneDrive\\Desktop\\Jersey-Number-Recognition\\data\\SoccerNet\\jersey-2023\\processed_data\\test\\27\n",
      "2025-03-23 14:36:46 [INFO] Skipping preprocessing for tracklet: c:\\Users\\colin\\OneDrive\\Desktop\\Jersey-Number-Recognition\\data\\SoccerNet\\jersey-2023\\processed_data\\test\\28\n",
      "2025-03-23 14:36:46 [INFO] Skipping preprocessing for tracklet: c:\\Users\\colin\\OneDrive\\Desktop\\Jersey-Number-Recognition\\data\\SoccerNet\\jersey-2023\\processed_data\\test\\29\n",
      "2025-03-23 14:36:46 [INFO] Skipping preprocessing for tracklet: c:\\Users\\colin\\OneDrive\\Desktop\\Jersey-Number-Recognition\\data\\SoccerNet\\jersey-2023\\processed_data\\test\\30\n",
      "2025-03-23 14:36:46 [INFO] Skipping preprocessing for tracklet: c:\\Users\\colin\\OneDrive\\Desktop\\Jersey-Number-Recognition\\data\\SoccerNet\\jersey-2023\\processed_data\\test\\31\n",
      "2025-03-23 14:36:46 [INFO] All tracklets in 0-32 are cached. Skipping feature generation.\n",
      "2025-03-23 14:36:46 [INFO] Skipping preprocessing for tracklet: c:\\Users\\colin\\OneDrive\\Desktop\\Jersey-Number-Recognition\\data\\SoccerNet\\jersey-2023\\processed_data\\test\\32\n",
      "2025-03-23 14:36:46 [INFO] Skipping preprocessing for tracklet: c:\\Users\\colin\\OneDrive\\Desktop\\Jersey-Number-Recognition\\data\\SoccerNet\\jersey-2023\\processed_data\\test\\33\n",
      "2025-03-23 14:36:46 [INFO] Skipping preprocessing for tracklet: c:\\Users\\colin\\OneDrive\\Desktop\\Jersey-Number-Recognition\\data\\SoccerNet\\jersey-2023\\processed_data\\test\\34\n",
      "2025-03-23 14:36:46 [INFO] Skipping preprocessing for tracklet: c:\\Users\\colin\\OneDrive\\Desktop\\Jersey-Number-Recognition\\data\\SoccerNet\\jersey-2023\\processed_data\\test\\35\n",
      "2025-03-23 14:36:46 [INFO] Skipping preprocessing for tracklet: c:\\Users\\colin\\OneDrive\\Desktop\\Jersey-Number-Recognition\\data\\SoccerNet\\jersey-2023\\processed_data\\test\\36\n",
      "2025-03-23 14:36:46 [INFO] Skipping preprocessing for tracklet: c:\\Users\\colin\\OneDrive\\Desktop\\Jersey-Number-Recognition\\data\\SoccerNet\\jersey-2023\\processed_data\\test\\37\n",
      "2025-03-23 14:36:46 [INFO] Skipping preprocessing for tracklet: c:\\Users\\colin\\OneDrive\\Desktop\\Jersey-Number-Recognition\\data\\SoccerNet\\jersey-2023\\processed_data\\test\\38\n",
      "2025-03-23 14:36:46 [INFO] Skipping preprocessing for tracklet: c:\\Users\\colin\\OneDrive\\Desktop\\Jersey-Number-Recognition\\data\\SoccerNet\\jersey-2023\\processed_data\\test\\39\n",
      "2025-03-23 14:36:46 [INFO] Skipping preprocessing for tracklet: c:\\Users\\colin\\OneDrive\\Desktop\\Jersey-Number-Recognition\\data\\SoccerNet\\jersey-2023\\processed_data\\test\\40\n",
      "2025-03-23 14:36:46 [INFO] Skipping preprocessing for tracklet: c:\\Users\\colin\\OneDrive\\Desktop\\Jersey-Number-Recognition\\data\\SoccerNet\\jersey-2023\\processed_data\\test\\41\n",
      "2025-03-23 14:36:46 [INFO] Skipping preprocessing for tracklet: c:\\Users\\colin\\OneDrive\\Desktop\\Jersey-Number-Recognition\\data\\SoccerNet\\jersey-2023\\processed_data\\test\\42\n",
      "2025-03-23 14:36:46 [INFO] Skipping preprocessing for tracklet: c:\\Users\\colin\\OneDrive\\Desktop\\Jersey-Number-Recognition\\data\\SoccerNet\\jersey-2023\\processed_data\\test\\43\n",
      "2025-03-23 14:36:46 [INFO] Skipping preprocessing for tracklet: c:\\Users\\colin\\OneDrive\\Desktop\\Jersey-Number-Recognition\\data\\SoccerNet\\jersey-2023\\processed_data\\test\\44\n",
      "2025-03-23 14:36:46 [INFO] Skipping preprocessing for tracklet: c:\\Users\\colin\\OneDrive\\Desktop\\Jersey-Number-Recognition\\data\\SoccerNet\\jersey-2023\\processed_data\\test\\45\n",
      "2025-03-23 14:36:46 [INFO] Skipping preprocessing for tracklet: c:\\Users\\colin\\OneDrive\\Desktop\\Jersey-Number-Recognition\\data\\SoccerNet\\jersey-2023\\processed_data\\test\\46\n",
      "2025-03-23 14:36:46 [INFO] Skipping preprocessing for tracklet: c:\\Users\\colin\\OneDrive\\Desktop\\Jersey-Number-Recognition\\data\\SoccerNet\\jersey-2023\\processed_data\\test\\47\n",
      "2025-03-23 14:36:46 [INFO] Skipping preprocessing for tracklet: c:\\Users\\colin\\OneDrive\\Desktop\\Jersey-Number-Recognition\\data\\SoccerNet\\jersey-2023\\processed_data\\test\\48\n",
      "2025-03-23 14:36:46 [INFO] Skipping preprocessing for tracklet: c:\\Users\\colin\\OneDrive\\Desktop\\Jersey-Number-Recognition\\data\\SoccerNet\\jersey-2023\\processed_data\\test\\49\n",
      "2025-03-23 14:36:46 [INFO] Skipping preprocessing for tracklet: c:\\Users\\colin\\OneDrive\\Desktop\\Jersey-Number-Recognition\\data\\SoccerNet\\jersey-2023\\processed_data\\test\\50\n",
      "2025-03-23 14:36:46 [INFO] Skipping preprocessing for tracklet: c:\\Users\\colin\\OneDrive\\Desktop\\Jersey-Number-Recognition\\data\\SoccerNet\\jersey-2023\\processed_data\\test\\51\n",
      "2025-03-23 14:36:46 [INFO] Skipping preprocessing for tracklet: c:\\Users\\colin\\OneDrive\\Desktop\\Jersey-Number-Recognition\\data\\SoccerNet\\jersey-2023\\processed_data\\test\\52\n",
      "2025-03-23 14:36:46 [INFO] Skipping preprocessing for tracklet: c:\\Users\\colin\\OneDrive\\Desktop\\Jersey-Number-Recognition\\data\\SoccerNet\\jersey-2023\\processed_data\\test\\53\n",
      "2025-03-23 14:36:46 [INFO] Skipping preprocessing for tracklet: c:\\Users\\colin\\OneDrive\\Desktop\\Jersey-Number-Recognition\\data\\SoccerNet\\jersey-2023\\processed_data\\test\\54\n",
      "2025-03-23 14:36:46 [INFO] Skipping preprocessing for tracklet: c:\\Users\\colin\\OneDrive\\Desktop\\Jersey-Number-Recognition\\data\\SoccerNet\\jersey-2023\\processed_data\\test\\55\n",
      "2025-03-23 14:36:46 [INFO] Skipping preprocessing for tracklet: c:\\Users\\colin\\OneDrive\\Desktop\\Jersey-Number-Recognition\\data\\SoccerNet\\jersey-2023\\processed_data\\test\\56\n",
      "2025-03-23 14:36:46 [INFO] Skipping preprocessing for tracklet: c:\\Users\\colin\\OneDrive\\Desktop\\Jersey-Number-Recognition\\data\\SoccerNet\\jersey-2023\\processed_data\\test\\57\n",
      "2025-03-23 14:36:46 [INFO] Skipping preprocessing for tracklet: c:\\Users\\colin\\OneDrive\\Desktop\\Jersey-Number-Recognition\\data\\SoccerNet\\jersey-2023\\processed_data\\test\\58\n",
      "2025-03-23 14:36:46 [INFO] Skipping preprocessing for tracklet: c:\\Users\\colin\\OneDrive\\Desktop\\Jersey-Number-Recognition\\data\\SoccerNet\\jersey-2023\\processed_data\\test\\59\n",
      "2025-03-23 14:36:46 [INFO] Skipping preprocessing for tracklet: c:\\Users\\colin\\OneDrive\\Desktop\\Jersey-Number-Recognition\\data\\SoccerNet\\jersey-2023\\processed_data\\test\\60\n",
      "2025-03-23 14:36:46 [INFO] Skipping preprocessing for tracklet: c:\\Users\\colin\\OneDrive\\Desktop\\Jersey-Number-Recognition\\data\\SoccerNet\\jersey-2023\\processed_data\\test\\61\n",
      "2025-03-23 14:36:46 [INFO] Skipping preprocessing for tracklet: c:\\Users\\colin\\OneDrive\\Desktop\\Jersey-Number-Recognition\\data\\SoccerNet\\jersey-2023\\processed_data\\test\\62\n",
      "2025-03-23 14:36:46 [INFO] Skipping preprocessing for tracklet: c:\\Users\\colin\\OneDrive\\Desktop\\Jersey-Number-Recognition\\data\\SoccerNet\\jersey-2023\\processed_data\\test\\63\n",
      "2025-03-23 14:36:46 [INFO] All tracklets in 32-64 are cached. Skipping feature generation.\n",
      "2025-03-23 14:36:46 [INFO] Skipping preprocessing for tracklet: c:\\Users\\colin\\OneDrive\\Desktop\\Jersey-Number-Recognition\\data\\SoccerNet\\jersey-2023\\processed_data\\test\\64\n",
      "2025-03-23 14:36:46 [INFO] Skipping preprocessing for tracklet: c:\\Users\\colin\\OneDrive\\Desktop\\Jersey-Number-Recognition\\data\\SoccerNet\\jersey-2023\\processed_data\\test\\65\n",
      "2025-03-23 14:36:46 [INFO] Skipping preprocessing for tracklet: c:\\Users\\colin\\OneDrive\\Desktop\\Jersey-Number-Recognition\\data\\SoccerNet\\jersey-2023\\processed_data\\test\\66\n",
      "2025-03-23 14:36:46 [INFO] Skipping preprocessing for tracklet: c:\\Users\\colin\\OneDrive\\Desktop\\Jersey-Number-Recognition\\data\\SoccerNet\\jersey-2023\\processed_data\\test\\67\n",
      "2025-03-23 14:36:46 [INFO] Skipping preprocessing for tracklet: c:\\Users\\colin\\OneDrive\\Desktop\\Jersey-Number-Recognition\\data\\SoccerNet\\jersey-2023\\processed_data\\test\\68\n",
      "2025-03-23 14:36:46 [INFO] Skipping preprocessing for tracklet: c:\\Users\\colin\\OneDrive\\Desktop\\Jersey-Number-Recognition\\data\\SoccerNet\\jersey-2023\\processed_data\\test\\69\n",
      "2025-03-23 14:36:46 [INFO] Skipping preprocessing for tracklet: c:\\Users\\colin\\OneDrive\\Desktop\\Jersey-Number-Recognition\\data\\SoccerNet\\jersey-2023\\processed_data\\test\\70\n",
      "2025-03-23 14:36:46 [INFO] Skipping preprocessing for tracklet: c:\\Users\\colin\\OneDrive\\Desktop\\Jersey-Number-Recognition\\data\\SoccerNet\\jersey-2023\\processed_data\\test\\71\n",
      "2025-03-23 14:36:46 [INFO] Skipping preprocessing for tracklet: c:\\Users\\colin\\OneDrive\\Desktop\\Jersey-Number-Recognition\\data\\SoccerNet\\jersey-2023\\processed_data\\test\\72\n",
      "2025-03-23 14:36:46 [INFO] Skipping preprocessing for tracklet: c:\\Users\\colin\\OneDrive\\Desktop\\Jersey-Number-Recognition\\data\\SoccerNet\\jersey-2023\\processed_data\\test\\73\n",
      "2025-03-23 14:36:46 [INFO] Skipping preprocessing for tracklet: c:\\Users\\colin\\OneDrive\\Desktop\\Jersey-Number-Recognition\\data\\SoccerNet\\jersey-2023\\processed_data\\test\\74\n",
      "2025-03-23 14:36:46 [INFO] Skipping preprocessing for tracklet: c:\\Users\\colin\\OneDrive\\Desktop\\Jersey-Number-Recognition\\data\\SoccerNet\\jersey-2023\\processed_data\\test\\75\n",
      "2025-03-23 14:36:46 [INFO] Skipping preprocessing for tracklet: c:\\Users\\colin\\OneDrive\\Desktop\\Jersey-Number-Recognition\\data\\SoccerNet\\jersey-2023\\processed_data\\test\\76\n",
      "2025-03-23 14:36:46 [INFO] Skipping preprocessing for tracklet: c:\\Users\\colin\\OneDrive\\Desktop\\Jersey-Number-Recognition\\data\\SoccerNet\\jersey-2023\\processed_data\\test\\77\n",
      "2025-03-23 14:36:46 [INFO] Skipping preprocessing for tracklet: c:\\Users\\colin\\OneDrive\\Desktop\\Jersey-Number-Recognition\\data\\SoccerNet\\jersey-2023\\processed_data\\test\\78\n",
      "2025-03-23 14:36:46 [INFO] Skipping preprocessing for tracklet: c:\\Users\\colin\\OneDrive\\Desktop\\Jersey-Number-Recognition\\data\\SoccerNet\\jersey-2023\\processed_data\\test\\79\n",
      "2025-03-23 14:36:46 [INFO] Skipping preprocessing for tracklet: c:\\Users\\colin\\OneDrive\\Desktop\\Jersey-Number-Recognition\\data\\SoccerNet\\jersey-2023\\processed_data\\test\\80\n",
      "2025-03-23 14:36:46 [INFO] Skipping preprocessing for tracklet: c:\\Users\\colin\\OneDrive\\Desktop\\Jersey-Number-Recognition\\data\\SoccerNet\\jersey-2023\\processed_data\\test\\81\n",
      "2025-03-23 14:36:46 [INFO] Skipping preprocessing for tracklet: c:\\Users\\colin\\OneDrive\\Desktop\\Jersey-Number-Recognition\\data\\SoccerNet\\jersey-2023\\processed_data\\test\\82\n",
      "2025-03-23 14:36:46 [INFO] Skipping preprocessing for tracklet: c:\\Users\\colin\\OneDrive\\Desktop\\Jersey-Number-Recognition\\data\\SoccerNet\\jersey-2023\\processed_data\\test\\83\n",
      "2025-03-23 14:36:46 [INFO] Skipping preprocessing for tracklet: c:\\Users\\colin\\OneDrive\\Desktop\\Jersey-Number-Recognition\\data\\SoccerNet\\jersey-2023\\processed_data\\test\\84\n",
      "2025-03-23 14:36:46 [INFO] Skipping preprocessing for tracklet: c:\\Users\\colin\\OneDrive\\Desktop\\Jersey-Number-Recognition\\data\\SoccerNet\\jersey-2023\\processed_data\\test\\85\n",
      "2025-03-23 14:36:46 [INFO] Skipping preprocessing for tracklet: c:\\Users\\colin\\OneDrive\\Desktop\\Jersey-Number-Recognition\\data\\SoccerNet\\jersey-2023\\processed_data\\test\\86\n",
      "2025-03-23 14:36:46 [INFO] Skipping preprocessing for tracklet: c:\\Users\\colin\\OneDrive\\Desktop\\Jersey-Number-Recognition\\data\\SoccerNet\\jersey-2023\\processed_data\\test\\87\n",
      "2025-03-23 14:36:46 [INFO] Skipping preprocessing for tracklet: c:\\Users\\colin\\OneDrive\\Desktop\\Jersey-Number-Recognition\\data\\SoccerNet\\jersey-2023\\processed_data\\test\\88\n",
      "2025-03-23 14:36:46 [INFO] Skipping preprocessing for tracklet: c:\\Users\\colin\\OneDrive\\Desktop\\Jersey-Number-Recognition\\data\\SoccerNet\\jersey-2023\\processed_data\\test\\89\n",
      "2025-03-23 14:36:46 [INFO] Skipping preprocessing for tracklet: c:\\Users\\colin\\OneDrive\\Desktop\\Jersey-Number-Recognition\\data\\SoccerNet\\jersey-2023\\processed_data\\test\\90\n",
      "2025-03-23 14:36:46 [INFO] Skipping preprocessing for tracklet: c:\\Users\\colin\\OneDrive\\Desktop\\Jersey-Number-Recognition\\data\\SoccerNet\\jersey-2023\\processed_data\\test\\91\n",
      "2025-03-23 14:36:46 [INFO] Skipping preprocessing for tracklet: c:\\Users\\colin\\OneDrive\\Desktop\\Jersey-Number-Recognition\\data\\SoccerNet\\jersey-2023\\processed_data\\test\\92\n",
      "2025-03-23 14:36:46 [INFO] Skipping preprocessing for tracklet: c:\\Users\\colin\\OneDrive\\Desktop\\Jersey-Number-Recognition\\data\\SoccerNet\\jersey-2023\\processed_data\\test\\93\n",
      "2025-03-23 14:36:46 [INFO] Skipping preprocessing for tracklet: c:\\Users\\colin\\OneDrive\\Desktop\\Jersey-Number-Recognition\\data\\SoccerNet\\jersey-2023\\processed_data\\test\\94\n",
      "2025-03-23 14:36:46 [INFO] Skipping preprocessing for tracklet: c:\\Users\\colin\\OneDrive\\Desktop\\Jersey-Number-Recognition\\data\\SoccerNet\\jersey-2023\\processed_data\\test\\95\n",
      "2025-03-23 14:36:46 [INFO] All tracklets in 64-96 are cached. Skipping feature generation.\n",
      "2025-03-23 14:36:46 [INFO] Skipping preprocessing for tracklet: c:\\Users\\colin\\OneDrive\\Desktop\\Jersey-Number-Recognition\\data\\SoccerNet\\jersey-2023\\processed_data\\test\\96\n",
      "2025-03-23 14:36:46 [INFO] Skipping preprocessing for tracklet: c:\\Users\\colin\\OneDrive\\Desktop\\Jersey-Number-Recognition\\data\\SoccerNet\\jersey-2023\\processed_data\\test\\97\n",
      "2025-03-23 14:36:46 [INFO] Skipping preprocessing for tracklet: c:\\Users\\colin\\OneDrive\\Desktop\\Jersey-Number-Recognition\\data\\SoccerNet\\jersey-2023\\processed_data\\test\\98\n",
      "2025-03-23 14:36:46 [INFO] Skipping preprocessing for tracklet: c:\\Users\\colin\\OneDrive\\Desktop\\Jersey-Number-Recognition\\data\\SoccerNet\\jersey-2023\\processed_data\\test\\99\n",
      "2025-03-23 14:36:46 [INFO] Skipping preprocessing for tracklet: c:\\Users\\colin\\OneDrive\\Desktop\\Jersey-Number-Recognition\\data\\SoccerNet\\jersey-2023\\processed_data\\test\\100\n",
      "2025-03-23 14:36:46 [INFO] Skipping preprocessing for tracklet: c:\\Users\\colin\\OneDrive\\Desktop\\Jersey-Number-Recognition\\data\\SoccerNet\\jersey-2023\\processed_data\\test\\101\n",
      "2025-03-23 14:36:46 [INFO] Skipping preprocessing for tracklet: c:\\Users\\colin\\OneDrive\\Desktop\\Jersey-Number-Recognition\\data\\SoccerNet\\jersey-2023\\processed_data\\test\\102\n",
      "2025-03-23 14:36:46 [INFO] Skipping preprocessing for tracklet: c:\\Users\\colin\\OneDrive\\Desktop\\Jersey-Number-Recognition\\data\\SoccerNet\\jersey-2023\\processed_data\\test\\103\n",
      "2025-03-23 14:36:46 [INFO] Skipping preprocessing for tracklet: c:\\Users\\colin\\OneDrive\\Desktop\\Jersey-Number-Recognition\\data\\SoccerNet\\jersey-2023\\processed_data\\test\\104\n",
      "2025-03-23 14:36:46 [INFO] Skipping preprocessing for tracklet: c:\\Users\\colin\\OneDrive\\Desktop\\Jersey-Number-Recognition\\data\\SoccerNet\\jersey-2023\\processed_data\\test\\105\n",
      "2025-03-23 14:36:46 [INFO] Skipping preprocessing for tracklet: c:\\Users\\colin\\OneDrive\\Desktop\\Jersey-Number-Recognition\\data\\SoccerNet\\jersey-2023\\processed_data\\test\\106\n",
      "2025-03-23 14:36:46 [INFO] Skipping preprocessing for tracklet: c:\\Users\\colin\\OneDrive\\Desktop\\Jersey-Number-Recognition\\data\\SoccerNet\\jersey-2023\\processed_data\\test\\107\n",
      "2025-03-23 14:36:46 [INFO] Skipping preprocessing for tracklet: c:\\Users\\colin\\OneDrive\\Desktop\\Jersey-Number-Recognition\\data\\SoccerNet\\jersey-2023\\processed_data\\test\\108\n",
      "2025-03-23 14:36:46 [INFO] Skipping preprocessing for tracklet: c:\\Users\\colin\\OneDrive\\Desktop\\Jersey-Number-Recognition\\data\\SoccerNet\\jersey-2023\\processed_data\\test\\109\n",
      "2025-03-23 14:36:46 [INFO] Skipping preprocessing for tracklet: c:\\Users\\colin\\OneDrive\\Desktop\\Jersey-Number-Recognition\\data\\SoccerNet\\jersey-2023\\processed_data\\test\\110\n",
      "2025-03-23 14:36:46 [INFO] Skipping preprocessing for tracklet: c:\\Users\\colin\\OneDrive\\Desktop\\Jersey-Number-Recognition\\data\\SoccerNet\\jersey-2023\\processed_data\\test\\111\n",
      "2025-03-23 14:36:46 [INFO] Skipping preprocessing for tracklet: c:\\Users\\colin\\OneDrive\\Desktop\\Jersey-Number-Recognition\\data\\SoccerNet\\jersey-2023\\processed_data\\test\\112\n",
      "2025-03-23 14:36:46 [INFO] Skipping preprocessing for tracklet: c:\\Users\\colin\\OneDrive\\Desktop\\Jersey-Number-Recognition\\data\\SoccerNet\\jersey-2023\\processed_data\\test\\113\n",
      "2025-03-23 14:36:46 [INFO] Skipping preprocessing for tracklet: c:\\Users\\colin\\OneDrive\\Desktop\\Jersey-Number-Recognition\\data\\SoccerNet\\jersey-2023\\processed_data\\test\\114\n",
      "2025-03-23 14:36:46 [INFO] Skipping preprocessing for tracklet: c:\\Users\\colin\\OneDrive\\Desktop\\Jersey-Number-Recognition\\data\\SoccerNet\\jersey-2023\\processed_data\\test\\115\n",
      "2025-03-23 14:36:46 [INFO] Skipping preprocessing for tracklet: c:\\Users\\colin\\OneDrive\\Desktop\\Jersey-Number-Recognition\\data\\SoccerNet\\jersey-2023\\processed_data\\test\\116\n",
      "2025-03-23 14:36:46 [INFO] Skipping preprocessing for tracklet: c:\\Users\\colin\\OneDrive\\Desktop\\Jersey-Number-Recognition\\data\\SoccerNet\\jersey-2023\\processed_data\\test\\117\n",
      "2025-03-23 14:36:46 [INFO] Skipping preprocessing for tracklet: c:\\Users\\colin\\OneDrive\\Desktop\\Jersey-Number-Recognition\\data\\SoccerNet\\jersey-2023\\processed_data\\test\\118\n",
      "2025-03-23 14:36:46 [INFO] Skipping preprocessing for tracklet: c:\\Users\\colin\\OneDrive\\Desktop\\Jersey-Number-Recognition\\data\\SoccerNet\\jersey-2023\\processed_data\\test\\119\n",
      "2025-03-23 14:36:46 [INFO] Skipping preprocessing for tracklet: c:\\Users\\colin\\OneDrive\\Desktop\\Jersey-Number-Recognition\\data\\SoccerNet\\jersey-2023\\processed_data\\test\\120\n",
      "2025-03-23 14:36:46 [INFO] Skipping preprocessing for tracklet: c:\\Users\\colin\\OneDrive\\Desktop\\Jersey-Number-Recognition\\data\\SoccerNet\\jersey-2023\\processed_data\\test\\121\n",
      "2025-03-23 14:36:46 [INFO] Skipping preprocessing for tracklet: c:\\Users\\colin\\OneDrive\\Desktop\\Jersey-Number-Recognition\\data\\SoccerNet\\jersey-2023\\processed_data\\test\\122\n",
      "2025-03-23 14:36:46 [INFO] Skipping preprocessing for tracklet: c:\\Users\\colin\\OneDrive\\Desktop\\Jersey-Number-Recognition\\data\\SoccerNet\\jersey-2023\\processed_data\\test\\123\n",
      "2025-03-23 14:36:46 [INFO] Skipping preprocessing for tracklet: c:\\Users\\colin\\OneDrive\\Desktop\\Jersey-Number-Recognition\\data\\SoccerNet\\jersey-2023\\processed_data\\test\\124\n",
      "2025-03-23 14:36:46 [INFO] Skipping preprocessing for tracklet: c:\\Users\\colin\\OneDrive\\Desktop\\Jersey-Number-Recognition\\data\\SoccerNet\\jersey-2023\\processed_data\\test\\125\n",
      "2025-03-23 14:36:46 [INFO] Skipping preprocessing for tracklet: c:\\Users\\colin\\OneDrive\\Desktop\\Jersey-Number-Recognition\\data\\SoccerNet\\jersey-2023\\processed_data\\test\\126\n",
      "2025-03-23 14:36:46 [INFO] Skipping preprocessing for tracklet: c:\\Users\\colin\\OneDrive\\Desktop\\Jersey-Number-Recognition\\data\\SoccerNet\\jersey-2023\\processed_data\\test\\127\n",
      "2025-03-23 14:36:46 [INFO] All tracklets in 96-128 are cached. Skipping feature generation.\n",
      "2025-03-23 14:36:46 [INFO] Skipping preprocessing for tracklet: c:\\Users\\colin\\OneDrive\\Desktop\\Jersey-Number-Recognition\\data\\SoccerNet\\jersey-2023\\processed_data\\test\\128\n",
      "2025-03-23 14:36:46 [INFO] Skipping preprocessing for tracklet: c:\\Users\\colin\\OneDrive\\Desktop\\Jersey-Number-Recognition\\data\\SoccerNet\\jersey-2023\\processed_data\\test\\129\n",
      "2025-03-23 14:36:46 [INFO] Skipping preprocessing for tracklet: c:\\Users\\colin\\OneDrive\\Desktop\\Jersey-Number-Recognition\\data\\SoccerNet\\jersey-2023\\processed_data\\test\\130\n",
      "2025-03-23 14:36:46 [INFO] Skipping preprocessing for tracklet: c:\\Users\\colin\\OneDrive\\Desktop\\Jersey-Number-Recognition\\data\\SoccerNet\\jersey-2023\\processed_data\\test\\131\n",
      "2025-03-23 14:36:46 [INFO] Skipping preprocessing for tracklet: c:\\Users\\colin\\OneDrive\\Desktop\\Jersey-Number-Recognition\\data\\SoccerNet\\jersey-2023\\processed_data\\test\\132\n",
      "2025-03-23 14:36:46 [INFO] Skipping preprocessing for tracklet: c:\\Users\\colin\\OneDrive\\Desktop\\Jersey-Number-Recognition\\data\\SoccerNet\\jersey-2023\\processed_data\\test\\133\n",
      "2025-03-23 14:36:46 [INFO] Skipping preprocessing for tracklet: c:\\Users\\colin\\OneDrive\\Desktop\\Jersey-Number-Recognition\\data\\SoccerNet\\jersey-2023\\processed_data\\test\\134\n",
      "2025-03-23 14:36:46 [INFO] Skipping preprocessing for tracklet: c:\\Users\\colin\\OneDrive\\Desktop\\Jersey-Number-Recognition\\data\\SoccerNet\\jersey-2023\\processed_data\\test\\135\n",
      "2025-03-23 14:36:46 [INFO] Skipping preprocessing for tracklet: c:\\Users\\colin\\OneDrive\\Desktop\\Jersey-Number-Recognition\\data\\SoccerNet\\jersey-2023\\processed_data\\test\\136\n",
      "2025-03-23 14:36:46 [INFO] Skipping preprocessing for tracklet: c:\\Users\\colin\\OneDrive\\Desktop\\Jersey-Number-Recognition\\data\\SoccerNet\\jersey-2023\\processed_data\\test\\137\n",
      "2025-03-23 14:36:46 [INFO] Skipping preprocessing for tracklet: c:\\Users\\colin\\OneDrive\\Desktop\\Jersey-Number-Recognition\\data\\SoccerNet\\jersey-2023\\processed_data\\test\\138\n",
      "2025-03-23 14:36:46 [INFO] Skipping preprocessing for tracklet: c:\\Users\\colin\\OneDrive\\Desktop\\Jersey-Number-Recognition\\data\\SoccerNet\\jersey-2023\\processed_data\\test\\139\n",
      "2025-03-23 14:36:46 [INFO] Skipping preprocessing for tracklet: c:\\Users\\colin\\OneDrive\\Desktop\\Jersey-Number-Recognition\\data\\SoccerNet\\jersey-2023\\processed_data\\test\\140\n",
      "2025-03-23 14:36:46 [INFO] Skipping preprocessing for tracklet: c:\\Users\\colin\\OneDrive\\Desktop\\Jersey-Number-Recognition\\data\\SoccerNet\\jersey-2023\\processed_data\\test\\141\n",
      "2025-03-23 14:36:46 [INFO] Skipping preprocessing for tracklet: c:\\Users\\colin\\OneDrive\\Desktop\\Jersey-Number-Recognition\\data\\SoccerNet\\jersey-2023\\processed_data\\test\\142\n",
      "2025-03-23 14:36:46 [INFO] Skipping preprocessing for tracklet: c:\\Users\\colin\\OneDrive\\Desktop\\Jersey-Number-Recognition\\data\\SoccerNet\\jersey-2023\\processed_data\\test\\143\n",
      "2025-03-23 14:36:46 [INFO] Skipping preprocessing for tracklet: c:\\Users\\colin\\OneDrive\\Desktop\\Jersey-Number-Recognition\\data\\SoccerNet\\jersey-2023\\processed_data\\test\\144\n",
      "2025-03-23 14:36:46 [INFO] Skipping preprocessing for tracklet: c:\\Users\\colin\\OneDrive\\Desktop\\Jersey-Number-Recognition\\data\\SoccerNet\\jersey-2023\\processed_data\\test\\145\n",
      "2025-03-23 14:36:46 [INFO] Skipping preprocessing for tracklet: c:\\Users\\colin\\OneDrive\\Desktop\\Jersey-Number-Recognition\\data\\SoccerNet\\jersey-2023\\processed_data\\test\\146\n",
      "2025-03-23 14:36:46 [INFO] Skipping preprocessing for tracklet: c:\\Users\\colin\\OneDrive\\Desktop\\Jersey-Number-Recognition\\data\\SoccerNet\\jersey-2023\\processed_data\\test\\147\n",
      "2025-03-23 14:36:46 [INFO] Skipping preprocessing for tracklet: c:\\Users\\colin\\OneDrive\\Desktop\\Jersey-Number-Recognition\\data\\SoccerNet\\jersey-2023\\processed_data\\test\\148\n",
      "2025-03-23 14:36:46 [INFO] Skipping preprocessing for tracklet: c:\\Users\\colin\\OneDrive\\Desktop\\Jersey-Number-Recognition\\data\\SoccerNet\\jersey-2023\\processed_data\\test\\149\n",
      "2025-03-23 14:36:46 [INFO] Skipping preprocessing for tracklet: c:\\Users\\colin\\OneDrive\\Desktop\\Jersey-Number-Recognition\\data\\SoccerNet\\jersey-2023\\processed_data\\test\\150\n",
      "2025-03-23 14:36:46 [INFO] Skipping preprocessing for tracklet: c:\\Users\\colin\\OneDrive\\Desktop\\Jersey-Number-Recognition\\data\\SoccerNet\\jersey-2023\\processed_data\\test\\151\n",
      "2025-03-23 14:36:46 [INFO] Skipping preprocessing for tracklet: c:\\Users\\colin\\OneDrive\\Desktop\\Jersey-Number-Recognition\\data\\SoccerNet\\jersey-2023\\processed_data\\test\\152\n",
      "2025-03-23 14:36:46 [INFO] Skipping preprocessing for tracklet: c:\\Users\\colin\\OneDrive\\Desktop\\Jersey-Number-Recognition\\data\\SoccerNet\\jersey-2023\\processed_data\\test\\153\n",
      "2025-03-23 14:36:46 [INFO] Skipping preprocessing for tracklet: c:\\Users\\colin\\OneDrive\\Desktop\\Jersey-Number-Recognition\\data\\SoccerNet\\jersey-2023\\processed_data\\test\\154\n",
      "2025-03-23 14:36:46 [INFO] Skipping preprocessing for tracklet: c:\\Users\\colin\\OneDrive\\Desktop\\Jersey-Number-Recognition\\data\\SoccerNet\\jersey-2023\\processed_data\\test\\155\n",
      "2025-03-23 14:36:46 [INFO] Skipping preprocessing for tracklet: c:\\Users\\colin\\OneDrive\\Desktop\\Jersey-Number-Recognition\\data\\SoccerNet\\jersey-2023\\processed_data\\test\\156\n",
      "2025-03-23 14:36:46 [INFO] Skipping preprocessing for tracklet: c:\\Users\\colin\\OneDrive\\Desktop\\Jersey-Number-Recognition\\data\\SoccerNet\\jersey-2023\\processed_data\\test\\157\n",
      "2025-03-23 14:36:46 [INFO] Skipping preprocessing for tracklet: c:\\Users\\colin\\OneDrive\\Desktop\\Jersey-Number-Recognition\\data\\SoccerNet\\jersey-2023\\processed_data\\test\\158\n",
      "2025-03-23 14:36:46 [INFO] Skipping preprocessing for tracklet: c:\\Users\\colin\\OneDrive\\Desktop\\Jersey-Number-Recognition\\data\\SoccerNet\\jersey-2023\\processed_data\\test\\159\n",
      "2025-03-23 14:36:46 [INFO] All tracklets in 128-160 are cached. Skipping feature generation.\n",
      "2025-03-23 14:36:46 [INFO] Skipping preprocessing for tracklet: c:\\Users\\colin\\OneDrive\\Desktop\\Jersey-Number-Recognition\\data\\SoccerNet\\jersey-2023\\processed_data\\test\\160\n",
      "2025-03-23 14:36:46 [INFO] Skipping preprocessing for tracklet: c:\\Users\\colin\\OneDrive\\Desktop\\Jersey-Number-Recognition\\data\\SoccerNet\\jersey-2023\\processed_data\\test\\161\n",
      "2025-03-23 14:36:46 [INFO] Skipping preprocessing for tracklet: c:\\Users\\colin\\OneDrive\\Desktop\\Jersey-Number-Recognition\\data\\SoccerNet\\jersey-2023\\processed_data\\test\\162\n",
      "2025-03-23 14:36:46 [INFO] Skipping preprocessing for tracklet: c:\\Users\\colin\\OneDrive\\Desktop\\Jersey-Number-Recognition\\data\\SoccerNet\\jersey-2023\\processed_data\\test\\163\n",
      "2025-03-23 14:36:46 [INFO] Skipping preprocessing for tracklet: c:\\Users\\colin\\OneDrive\\Desktop\\Jersey-Number-Recognition\\data\\SoccerNet\\jersey-2023\\processed_data\\test\\164\n",
      "2025-03-23 14:36:46 [INFO] Skipping preprocessing for tracklet: c:\\Users\\colin\\OneDrive\\Desktop\\Jersey-Number-Recognition\\data\\SoccerNet\\jersey-2023\\processed_data\\test\\165\n",
      "2025-03-23 14:36:46 [INFO] Skipping preprocessing for tracklet: c:\\Users\\colin\\OneDrive\\Desktop\\Jersey-Number-Recognition\\data\\SoccerNet\\jersey-2023\\processed_data\\test\\166\n",
      "2025-03-23 14:36:46 [INFO] Skipping preprocessing for tracklet: c:\\Users\\colin\\OneDrive\\Desktop\\Jersey-Number-Recognition\\data\\SoccerNet\\jersey-2023\\processed_data\\test\\167\n",
      "2025-03-23 14:36:46 [INFO] Skipping preprocessing for tracklet: c:\\Users\\colin\\OneDrive\\Desktop\\Jersey-Number-Recognition\\data\\SoccerNet\\jersey-2023\\processed_data\\test\\168\n",
      "2025-03-23 14:36:46 [INFO] Skipping preprocessing for tracklet: c:\\Users\\colin\\OneDrive\\Desktop\\Jersey-Number-Recognition\\data\\SoccerNet\\jersey-2023\\processed_data\\test\\169\n",
      "2025-03-23 14:36:46 [INFO] Skipping preprocessing for tracklet: c:\\Users\\colin\\OneDrive\\Desktop\\Jersey-Number-Recognition\\data\\SoccerNet\\jersey-2023\\processed_data\\test\\170\n",
      "2025-03-23 14:36:46 [INFO] Skipping preprocessing for tracklet: c:\\Users\\colin\\OneDrive\\Desktop\\Jersey-Number-Recognition\\data\\SoccerNet\\jersey-2023\\processed_data\\test\\171\n",
      "2025-03-23 14:36:46 [INFO] Skipping preprocessing for tracklet: c:\\Users\\colin\\OneDrive\\Desktop\\Jersey-Number-Recognition\\data\\SoccerNet\\jersey-2023\\processed_data\\test\\172\n",
      "2025-03-23 14:36:46 [INFO] Skipping preprocessing for tracklet: c:\\Users\\colin\\OneDrive\\Desktop\\Jersey-Number-Recognition\\data\\SoccerNet\\jersey-2023\\processed_data\\test\\173\n",
      "2025-03-23 14:36:46 [INFO] Skipping preprocessing for tracklet: c:\\Users\\colin\\OneDrive\\Desktop\\Jersey-Number-Recognition\\data\\SoccerNet\\jersey-2023\\processed_data\\test\\174\n",
      "2025-03-23 14:36:46 [INFO] Skipping preprocessing for tracklet: c:\\Users\\colin\\OneDrive\\Desktop\\Jersey-Number-Recognition\\data\\SoccerNet\\jersey-2023\\processed_data\\test\\175\n",
      "2025-03-23 14:36:46 [INFO] Skipping preprocessing for tracklet: c:\\Users\\colin\\OneDrive\\Desktop\\Jersey-Number-Recognition\\data\\SoccerNet\\jersey-2023\\processed_data\\test\\176\n",
      "2025-03-23 14:36:46 [INFO] Skipping first 17 cached tracklets in batch 160-192. Processing the rest.\n",
      "2025-03-23 14:36:46 [INFO] Using double parallelization: multiprocessing + CUDA batch processing.\n"
     ]
    },
    {
     "data": {
      "application/vnd.jupyter.widget-view+json": {
       "model_id": "53e578b90bac45d49ece8553d7153ca3",
       "version_major": 2,
       "version_minor": 0
      },
      "text/plain": [
       "Processing tracklets (CUDA + CPU):   0%|          | 0/15 [00:00<?, ?it/s]"
      ]
     },
     "metadata": {},
     "output_type": "display_data"
    },
    {
     "name": "stdout",
     "output_type": "stream",
     "text": [
      "2025-03-23 14:37:02 [INFO] Creating placeholder data files for Soccer Ball Filter.\n",
      "2025-03-23 14:37:02 [INFO] Creating placeholder data files for Legibility Classifier.\n",
      "2025-03-23 14:37:02 [INFO] Determine soccer balls in image(s) using pre-trained model.\n",
      "2025-03-23 14:37:02 [INFO] Determine soccer balls in image(s) using pre-trained model.\n",
      "2025-03-23 14:37:02 [INFO] Determine soccer balls in image(s) using pre-trained model.\n",
      "2025-03-23 14:37:02 [INFO] Determine soccer balls in image(s) using pre-trained model.\n",
      "2025-03-23 14:37:02 [INFO] Determine soccer balls in image(s) using pre-trained model.\n",
      "2025-03-23 14:37:02 [INFO] Determine soccer balls in image(s) using pre-trained model.\n",
      "2025-03-23 14:37:02 [ERROR] Error reading image c:\\Users\\colin\\OneDrive\\Desktop\\Jersey-Number-Recognition\\data\\SoccerNet\\jersey-2023\\extracted\\test\\images\\177\\soccer_ball.json\n"
     ]
    },
    {
     "data": {
      "application/vnd.jupyter.widget-view+json": {
       "model_id": "c93f9bb3e5664390837b6969729cd041",
       "version_major": 2,
       "version_minor": 0
      },
      "text/plain": [
       "Processing Batch Tracklets (160-192):   0%|          | 0/15 [00:00<?, ?it/s]"
      ]
     },
     "metadata": {},
     "output_type": "display_data"
    },
    {
     "name": "stdout",
     "output_type": "stream",
     "text": [
      "2025-03-23 14:37:02 [INFO] Found 0 balls, Ball list: []\n",
      "2025-03-23 14:37:02 [INFO] Found 1 balls, Ball list: ['178']\n",
      "2025-03-23 14:37:02 [INFO] Found 0 balls, Ball list: []\n",
      "2025-03-23 14:37:02 [INFO] Found 0 balls, Ball list: []\n",
      "2025-03-23 14:37:02 [INFO] Found 0 balls, Ball list: []\n"
     ]
    },
    {
     "name": "stderr",
     "output_type": "stream",
     "text": [
      "c:\\Users\\colin\\miniconda3\\envs\\UBC\\Lib\\site-packages\\pytorch_lightning\\utilities\\migration\\migration.py:208: You have multiple `ModelCheckpoint` callback states in this checkpoint, but we found state keys that would end up colliding with each other after an upgrade, which means we can't differentiate which of your checkpoint callbacks needs which states. At least one of your `ModelCheckpoint` callbacks will not be able to reload the state.\n",
      "Lightning automatically upgraded your loaded checkpoint from v1.1.4 to v2.5.0.post0. To apply the upgrade to your files permanently, run `python -m pytorch_lightning.utilities.upgrade_checkpoint c:\\Users\\colin\\OneDrive\\Desktop\\Jersey-Number-Recognition\\data\\pre_trained_models\\reid\\dukemtmcreid_resnet50_256_128_epoch_120.ckpt`\n"
     ]
    },
    {
     "name": "stdout",
     "output_type": "stream",
     "text": [
      "2025-03-23 14:37:04 [INFO] Saved features for tracklet with shape (1, 2048) to c:\\Users\\colin\\OneDrive\\Desktop\\Jersey-Number-Recognition\\data\\SoccerNet\\jersey-2023\\processed_data\\test\\177\\features.npy\n",
      "2025-03-23 14:37:04 [INFO] Identifying and removing outliers by calling gaussian_outliers_streamlined.py on feature file\n"
     ]
    },
    {
     "name": "stderr",
     "output_type": "stream",
     "text": [
      "Lightning automatically upgraded your loaded checkpoint from v1.1.4 to v2.5.0.post0. To apply the upgrade to your files permanently, run `python -m pytorch_lightning.utilities.upgrade_checkpoint c:\\Users\\colin\\OneDrive\\Desktop\\Jersey-Number-Recognition\\data\\pre_trained_models\\reid\\dukemtmcreid_resnet50_256_128_epoch_120.ckpt`\n"
     ]
    },
    {
     "name": "stdout",
     "output_type": "stream",
     "text": [
      "2025-03-23 14:37:05 [INFO] Saved features for tracklet with shape (420, 2048) to c:\\Users\\colin\\OneDrive\\Desktop\\Jersey-Number-Recognition\\data\\SoccerNet\\jersey-2023\\processed_data\\test\\179\\features.npy\n",
      "2025-03-23 14:37:06 [INFO] Identifying and removing outliers by calling gaussian_outliers_streamlined.py on feature file\n"
     ]
    },
    {
     "name": "stderr",
     "output_type": "stream",
     "text": [
      "Lightning automatically upgraded your loaded checkpoint from v1.1.4 to v2.5.0.post0. To apply the upgrade to your files permanently, run `python -m pytorch_lightning.utilities.upgrade_checkpoint c:\\Users\\colin\\OneDrive\\Desktop\\Jersey-Number-Recognition\\data\\pre_trained_models\\reid\\dukemtmcreid_resnet50_256_128_epoch_120.ckpt`\n"
     ]
    },
    {
     "name": "stdout",
     "output_type": "stream",
     "text": [
      "2025-03-23 14:37:08 [INFO] Saved features for tracklet with shape (378, 2048) to c:\\Users\\colin\\OneDrive\\Desktop\\Jersey-Number-Recognition\\data\\SoccerNet\\jersey-2023\\processed_data\\test\\181\\features.npy\n",
      "2025-03-23 14:37:08 [INFO] Identifying and removing outliers by calling gaussian_outliers_streamlined.py on feature file\n"
     ]
    },
    {
     "name": "stderr",
     "output_type": "stream",
     "text": [
      "Lightning automatically upgraded your loaded checkpoint from v1.1.4 to v2.5.0.post0. To apply the upgrade to your files permanently, run `python -m pytorch_lightning.utilities.upgrade_checkpoint c:\\Users\\colin\\OneDrive\\Desktop\\Jersey-Number-Recognition\\data\\pre_trained_models\\reid\\dukemtmcreid_resnet50_256_128_epoch_120.ckpt`\n"
     ]
    },
    {
     "name": "stdout",
     "output_type": "stream",
     "text": [
      "2025-03-23 14:37:10 [INFO] Saved features for tracklet with shape (313, 2048) to c:\\Users\\colin\\OneDrive\\Desktop\\Jersey-Number-Recognition\\data\\SoccerNet\\jersey-2023\\processed_data\\test\\182\\features.npy\n",
      "2025-03-23 14:37:10 [INFO] Identifying and removing outliers by calling gaussian_outliers_streamlined.py on feature file\n"
     ]
    },
    {
     "name": "stderr",
     "output_type": "stream",
     "text": [
      "Lightning automatically upgraded your loaded checkpoint from v1.1.4 to v2.5.0.post0. To apply the upgrade to your files permanently, run `python -m pytorch_lightning.utilities.upgrade_checkpoint c:\\Users\\colin\\OneDrive\\Desktop\\Jersey-Number-Recognition\\data\\pre_trained_models\\reid\\dukemtmcreid_resnet50_256_128_epoch_120.ckpt`\n"
     ]
    },
    {
     "name": "stdout",
     "output_type": "stream",
     "text": [
      "2025-03-23 14:37:12 [INFO] Saved features for tracklet with shape (579, 2048) to c:\\Users\\colin\\OneDrive\\Desktop\\Jersey-Number-Recognition\\data\\SoccerNet\\jersey-2023\\processed_data\\test\\180\\features.npy\n",
      "2025-03-23 14:37:12 [INFO] Identifying and removing outliers by calling gaussian_outliers_streamlined.py on feature file\n"
     ]
    },
    {
     "name": "stderr",
     "output_type": "stream",
     "text": [
      "Lightning automatically upgraded your loaded checkpoint from v1.1.4 to v2.5.0.post0. To apply the upgrade to your files permanently, run `python -m pytorch_lightning.utilities.upgrade_checkpoint c:\\Users\\colin\\OneDrive\\Desktop\\Jersey-Number-Recognition\\data\\pre_trained_models\\reid\\dukemtmcreid_resnet50_256_128_epoch_120.ckpt`\n"
     ]
    },
    {
     "name": "stdout",
     "output_type": "stream",
     "text": [
      "2025-03-23 14:37:15 [INFO] Saved features for tracklet with shape (749, 2048) to c:\\Users\\colin\\OneDrive\\Desktop\\Jersey-Number-Recognition\\data\\SoccerNet\\jersey-2023\\processed_data\\test\\178\\features.npy\n",
      "2025-03-23 14:37:15 [INFO] Identifying and removing outliers by calling gaussian_outliers_streamlined.py on feature file\n",
      "2025-03-23 14:37:16 [INFO] \n",
      "2025-03-23 14:37:16 [ERROR] \n",
      "2025-03-23 14:37:16 [INFO] Done removing outliers\n",
      "2025-03-23 14:37:16 [INFO] Running model chain on preprocessed image(s).\n",
      "2025-03-23 14:37:16 [INFO] Classifying legibility of image(s) using pre-trained model.\n",
      "2025-03-23 14:37:16 [ERROR] Exception in process_tracklet_worker\n",
      "Traceback (most recent call last):\n",
      "  File \"c:\\Users\\colin\\OneDrive\\Desktop\\Jersey-Number-Recognition\\ModelDevelopment\\CentralPipeline.py\", line 93, in process_tracklet_worker\n",
      "    pipeline.run_model_chain()\n",
      "    ~~~~~~~~~~~~~~~~~~~~~~~~^^\n",
      "  File \"c:\\Users\\colin\\OneDrive\\Desktop\\Jersey-Number-Recognition\\ModelDevelopment\\ImageBatchPipeline.py\", line 214, in run_model_chain\n",
      "    self.pass_through_legibility_classifier()\n",
      "    ~~~~~~~~~~~~~~~~~~~~~~~~~~~~~~~~~~~~~~~^^\n",
      "  File \"c:\\Users\\colin\\OneDrive\\Desktop\\Jersey-Number-Recognition\\ModelDevelopment\\ImageBatchPipeline.py\", line 150, in pass_through_legibility_classifier\n",
      "    with open(path_to_filter_results, 'r') as f:\n",
      "         ~~~~^^^^^^^^^^^^^^^^^^^^^^^^^^^^^\n",
      "FileNotFoundError: [Errno 2] No such file or directory: 'c:\\\\Users\\\\colin\\\\OneDrive\\\\Desktop\\\\Jersey-Number-Recognition\\\\data\\\\SoccerNet\\\\jersey-2023\\\\processed_data\\\\test\\\\177\\\\main_subject_gauss_th=3.5_r=3.json'\n",
      "2025-03-23 14:37:16 [ERROR] Worker crashed for tracklet 177: [Errno 2] No such file or directory: 'c:\\\\Users\\\\colin\\\\OneDrive\\\\Desktop\\\\Jersey-Number-Recognition\\\\data\\\\SoccerNet\\\\jersey-2023\\\\processed_data\\\\test\\\\177\\\\main_subject_gauss_th=3.5_r=3.json'\n",
      "NoneType: None\n",
      "2025-03-23 14:37:16 [INFO] Determine soccer balls in image(s) using pre-trained model.\n",
      "2025-03-23 14:37:16 [INFO] Found 0 balls, Ball list: []\n"
     ]
    },
    {
     "name": "stderr",
     "output_type": "stream",
     "text": [
      "Lightning automatically upgraded your loaded checkpoint from v1.1.4 to v2.5.0.post0. To apply the upgrade to your files permanently, run `python -m pytorch_lightning.utilities.upgrade_checkpoint c:\\Users\\colin\\OneDrive\\Desktop\\Jersey-Number-Recognition\\data\\pre_trained_models\\reid\\dukemtmcreid_resnet50_256_128_epoch_120.ckpt`\n"
     ]
    },
    {
     "name": "stdout",
     "output_type": "stream",
     "text": [
      "2025-03-23 14:37:19 [INFO] 2025-03-23 14:37:17 [INFO] File c:\\Users\\colin\\OneDrive\\Desktop\\Jersey-Number-Recognition\\data\\SoccerNet\\jersey-2023\\processed_data\\test\\179\\main_subject_gauss_th=3.5_r=1.json already exists. Skipping writing to it.\n",
      "2025-03-23 14:37:17 [INFO] File c:\\Users\\colin\\OneDrive\\Desktop\\Jersey-Number-Recognition\\data\\SoccerNet\\jersey-2023\\processed_data\\test\\179\\main_subject_gauss_th=3.5_r=2.json already exists. Skipping writing to it.\n",
      "2025-03-23 14:37:17 [INFO] File c:\\Users\\colin\\OneDrive\\Desktop\\Jersey-Number-Recognition\\data\\SoccerNet\\jersey-2023\\processed_data\\test\\179\\main_subject_gauss_th=3.5_r=3.json already exists. Skipping writing to it.\n",
      "\n",
      "2025-03-23 14:37:19 [ERROR] \n",
      "2025-03-23 14:37:19 [INFO] Saved features for tracklet with shape (298, 2048) to c:\\Users\\colin\\OneDrive\\Desktop\\Jersey-Number-Recognition\\data\\SoccerNet\\jersey-2023\\processed_data\\test\\183\\features.npy\n",
      "2025-03-23 14:37:19 [INFO] Done removing outliers\n",
      "2025-03-23 14:37:19 [INFO] Running model chain on preprocessed image(s).\n",
      "2025-03-23 14:37:19 [INFO] Classifying legibility of image(s) using pre-trained model.\n",
      "2025-03-23 14:37:19 [WARNING] No soccer ball list found. Skipping exclusion of soccer balls.\n",
      "2025-03-23 14:37:19 [INFO] Path checked: c:\\Users\\colin\\OneDrive\\Desktop\\Jersey-Number-Recognition\\data\\SoccerNet\\jersey-2023\\processed_data\\test\\common_data\\soccer_ball.json\n",
      "2025-03-23 14:37:19 [INFO] Identifying and removing outliers by calling gaussian_outliers_streamlined.py on feature file\n"
     ]
    },
    {
     "name": "stderr",
     "output_type": "stream",
     "text": [
      "c:\\Users\\colin\\miniconda3\\envs\\UBC\\Lib\\site-packages\\torchvision\\models\\_utils.py:208: UserWarning: The parameter 'pretrained' is deprecated since 0.13 and may be removed in the future, please use 'weights' instead.\n",
      "  warnings.warn(\n",
      "c:\\Users\\colin\\miniconda3\\envs\\UBC\\Lib\\site-packages\\torchvision\\models\\_utils.py:223: UserWarning: Arguments other than a weight enum or `None` for 'weights' are deprecated since 0.13 and may be removed in the future. The current behavior is equivalent to passing `weights=ResNet34_Weights.IMAGENET1K_V1`. You can also use `weights=ResNet34_Weights.DEFAULT` to get the most up-to-date weights.\n",
      "  warnings.warn(msg)\n"
     ]
    },
    {
     "name": "stdout",
     "output_type": "stream",
     "text": [
      "2025-03-23 14:37:21 [INFO] 2025-03-23 14:37:20 [INFO] File c:\\Users\\colin\\OneDrive\\Desktop\\Jersey-Number-Recognition\\data\\SoccerNet\\jersey-2023\\processed_data\\test\\181\\main_subject_gauss_th=3.5_r=1.json already exists. Skipping writing to it.\n",
      "2025-03-23 14:37:20 [INFO] File c:\\Users\\colin\\OneDrive\\Desktop\\Jersey-Number-Recognition\\data\\SoccerNet\\jersey-2023\\processed_data\\test\\181\\main_subject_gauss_th=3.5_r=2.json already exists. Skipping writing to it.\n",
      "2025-03-23 14:37:20 [INFO] File c:\\Users\\colin\\OneDrive\\Desktop\\Jersey-Number-Recognition\\data\\SoccerNet\\jersey-2023\\processed_data\\test\\181\\main_subject_gauss_th=3.5_r=3.json already exists. Skipping writing to it.\n",
      "\n",
      "2025-03-23 14:37:21 [ERROR] \n",
      "2025-03-23 14:37:21 [INFO] Done removing outliers\n",
      "2025-03-23 14:37:21 [INFO] Running model chain on preprocessed image(s).\n",
      "2025-03-23 14:37:21 [INFO] Classifying legibility of image(s) using pre-trained model.\n",
      "2025-03-23 14:37:21 [WARNING] No soccer ball list found. Skipping exclusion of soccer balls.\n",
      "2025-03-23 14:37:21 [INFO] Path checked: c:\\Users\\colin\\OneDrive\\Desktop\\Jersey-Number-Recognition\\data\\SoccerNet\\jersey-2023\\processed_data\\test\\common_data\\soccer_ball.json\n",
      "2025-03-23 14:37:24 [INFO] 2025-03-23 14:37:23 [INFO] File c:\\Users\\colin\\OneDrive\\Desktop\\Jersey-Number-Recognition\\data\\SoccerNet\\jersey-2023\\processed_data\\test\\182\\main_subject_gauss_th=3.5_r=1.json already exists. Skipping writing to it.\n",
      "2025-03-23 14:37:23 [INFO] File c:\\Users\\colin\\OneDrive\\Desktop\\Jersey-Number-Recognition\\data\\SoccerNet\\jersey-2023\\processed_data\\test\\182\\main_subject_gauss_th=3.5_r=2.json already exists. Skipping writing to it.\n",
      "2025-03-23 14:37:23 [INFO] File c:\\Users\\colin\\OneDrive\\Desktop\\Jersey-Number-Recognition\\data\\SoccerNet\\jersey-2023\\processed_data\\test\\182\\main_subject_gauss_th=3.5_r=3.json already exists. Skipping writing to it.\n",
      "\n",
      "2025-03-23 14:37:24 [ERROR] \n",
      "2025-03-23 14:37:24 [INFO] Done removing outliers\n",
      "2025-03-23 14:37:24 [INFO] Running model chain on preprocessed image(s).\n",
      "2025-03-23 14:37:24 [INFO] Classifying legibility of image(s) using pre-trained model.\n",
      "2025-03-23 14:37:24 [WARNING] No soccer ball list found. Skipping exclusion of soccer balls.\n",
      "2025-03-23 14:37:24 [INFO] Path checked: c:\\Users\\colin\\OneDrive\\Desktop\\Jersey-Number-Recognition\\data\\SoccerNet\\jersey-2023\\processed_data\\test\\common_data\\soccer_ball.json\n",
      "2025-03-23 14:37:28 [INFO] 2025-03-23 14:37:26 [INFO] File c:\\Users\\colin\\OneDrive\\Desktop\\Jersey-Number-Recognition\\data\\SoccerNet\\jersey-2023\\processed_data\\test\\180\\main_subject_gauss_th=3.5_r=1.json already exists. Skipping writing to it.\n",
      "2025-03-23 14:37:26 [INFO] File c:\\Users\\colin\\OneDrive\\Desktop\\Jersey-Number-Recognition\\data\\SoccerNet\\jersey-2023\\processed_data\\test\\180\\main_subject_gauss_th=3.5_r=2.json already exists. Skipping writing to it.\n",
      "2025-03-23 14:37:26 [INFO] File c:\\Users\\colin\\OneDrive\\Desktop\\Jersey-Number-Recognition\\data\\SoccerNet\\jersey-2023\\processed_data\\test\\180\\main_subject_gauss_th=3.5_r=3.json already exists. Skipping writing to it.\n",
      "\n",
      "2025-03-23 14:37:28 [ERROR] \n",
      "2025-03-23 14:37:28 [INFO] Done removing outliers\n",
      "2025-03-23 14:37:28 [INFO] Running model chain on preprocessed image(s).\n",
      "2025-03-23 14:37:28 [INFO] Classifying legibility of image(s) using pre-trained model.\n",
      "2025-03-23 14:37:28 [WARNING] No soccer ball list found. Skipping exclusion of soccer balls.\n",
      "2025-03-23 14:37:28 [INFO] Path checked: c:\\Users\\colin\\OneDrive\\Desktop\\Jersey-Number-Recognition\\data\\SoccerNet\\jersey-2023\\processed_data\\test\\common_data\\soccer_ball.json\n",
      "2025-03-23 14:37:32 [INFO] 2025-03-23 14:37:30 [INFO] File c:\\Users\\colin\\OneDrive\\Desktop\\Jersey-Number-Recognition\\data\\SoccerNet\\jersey-2023\\processed_data\\test\\178\\main_subject_gauss_th=3.5_r=1.json already exists. Skipping writing to it.\n",
      "2025-03-23 14:37:30 [INFO] File c:\\Users\\colin\\OneDrive\\Desktop\\Jersey-Number-Recognition\\data\\SoccerNet\\jersey-2023\\processed_data\\test\\178\\main_subject_gauss_th=3.5_r=2.json already exists. Skipping writing to it.\n",
      "2025-03-23 14:37:30 [INFO] File c:\\Users\\colin\\OneDrive\\Desktop\\Jersey-Number-Recognition\\data\\SoccerNet\\jersey-2023\\processed_data\\test\\178\\main_subject_gauss_th=3.5_r=3.json already exists. Skipping writing to it.\n",
      "\n",
      "2025-03-23 14:37:32 [ERROR] \n",
      "2025-03-23 14:37:32 [INFO] Done removing outliers\n",
      "2025-03-23 14:37:32 [INFO] Running model chain on preprocessed image(s).\n",
      "2025-03-23 14:37:32 [INFO] Classifying legibility of image(s) using pre-trained model.\n",
      "2025-03-23 14:37:32 [WARNING] No soccer ball list found. Skipping exclusion of soccer balls.\n",
      "2025-03-23 14:37:32 [INFO] Path checked: c:\\Users\\colin\\OneDrive\\Desktop\\Jersey-Number-Recognition\\data\\SoccerNet\\jersey-2023\\processed_data\\test\\common_data\\soccer_ball.json\n",
      "2025-03-23 14:37:34 [INFO] Saving legible_tracklets to: c:\\Users\\colin\\OneDrive\\Desktop\\Jersey-Number-Recognition\\data\\SoccerNet\\jersey-2023\\processed_data\\test\\179\\legible_results.json\n",
      "2025-03-23 14:37:34 [INFO] Saved legible_tracklets to: c:\\Users\\colin\\OneDrive\\Desktop\\Jersey-Number-Recognition\\data\\SoccerNet\\jersey-2023\\processed_data\\test\\179\\legible_results.json\n",
      "2025-03-23 14:37:34 [INFO] Saving illegible_tracklets to: c:\\Users\\colin\\OneDrive\\Desktop\\Jersey-Number-Recognition\\data\\SoccerNet\\jersey-2023\\processed_data\\test\\179\\illegible_results.json\n",
      "2025-03-23 14:37:34 [INFO] Saved illegible_tracklets to: c:\\Users\\colin\\OneDrive\\Desktop\\Jersey-Number-Recognition\\data\\SoccerNet\\jersey-2023\\processed_data\\test\\179\\illegible_results.json\n",
      "2025-03-23 14:37:34 [INFO] Legibility classification complete.\n",
      "2025-03-23 14:37:34 [INFO] Determine soccer balls in image(s) using pre-trained model.\n",
      "2025-03-23 14:37:34 [INFO] Processed tracklet: 179\n",
      "2025-03-23 14:37:34 [INFO] Found 0 balls, Ball list: []\n"
     ]
    },
    {
     "name": "stderr",
     "output_type": "stream",
     "text": [
      "Lightning automatically upgraded your loaded checkpoint from v1.1.4 to v2.5.0.post0. To apply the upgrade to your files permanently, run `python -m pytorch_lightning.utilities.upgrade_checkpoint c:\\Users\\colin\\OneDrive\\Desktop\\Jersey-Number-Recognition\\data\\pre_trained_models\\reid\\dukemtmcreid_resnet50_256_128_epoch_120.ckpt`\n"
     ]
    },
    {
     "name": "stdout",
     "output_type": "stream",
     "text": [
      "2025-03-23 14:37:38 [INFO] Saved features for tracklet with shape (142, 2048) to c:\\Users\\colin\\OneDrive\\Desktop\\Jersey-Number-Recognition\\data\\SoccerNet\\jersey-2023\\processed_data\\test\\184\\features.npy\n",
      "2025-03-23 14:37:38 [INFO] Identifying and removing outliers by calling gaussian_outliers_streamlined.py on feature file\n",
      "2025-03-23 14:37:38 [INFO] 2025-03-23 14:37:37 [INFO] File c:\\Users\\colin\\OneDrive\\Desktop\\Jersey-Number-Recognition\\data\\SoccerNet\\jersey-2023\\processed_data\\test\\183\\main_subject_gauss_th=3.5_r=1.json already exists. Skipping writing to it.\n",
      "2025-03-23 14:37:37 [INFO] File c:\\Users\\colin\\OneDrive\\Desktop\\Jersey-Number-Recognition\\data\\SoccerNet\\jersey-2023\\processed_data\\test\\183\\main_subject_gauss_th=3.5_r=2.json already exists. Skipping writing to it.\n",
      "2025-03-23 14:37:37 [INFO] File c:\\Users\\colin\\OneDrive\\Desktop\\Jersey-Number-Recognition\\data\\SoccerNet\\jersey-2023\\processed_data\\test\\183\\main_subject_gauss_th=3.5_r=3.json already exists. Skipping writing to it.\n",
      "\n",
      "2025-03-23 14:37:38 [ERROR] \n",
      "2025-03-23 14:37:38 [INFO] Done removing outliers\n",
      "2025-03-23 14:37:38 [INFO] Running model chain on preprocessed image(s).\n",
      "2025-03-23 14:37:38 [INFO] Classifying legibility of image(s) using pre-trained model.\n",
      "2025-03-23 14:37:38 [WARNING] No soccer ball list found. Skipping exclusion of soccer balls.\n",
      "2025-03-23 14:37:38 [INFO] Path checked: c:\\Users\\colin\\OneDrive\\Desktop\\Jersey-Number-Recognition\\data\\SoccerNet\\jersey-2023\\processed_data\\test\\common_data\\soccer_ball.json\n",
      "2025-03-23 14:37:39 [INFO] Saving legible_tracklets to: c:\\Users\\colin\\OneDrive\\Desktop\\Jersey-Number-Recognition\\data\\SoccerNet\\jersey-2023\\processed_data\\test\\181\\legible_results.json\n",
      "2025-03-23 14:37:39 [INFO] Saved legible_tracklets to: c:\\Users\\colin\\OneDrive\\Desktop\\Jersey-Number-Recognition\\data\\SoccerNet\\jersey-2023\\processed_data\\test\\181\\legible_results.json\n",
      "2025-03-23 14:37:39 [INFO] Saving illegible_tracklets to: c:\\Users\\colin\\OneDrive\\Desktop\\Jersey-Number-Recognition\\data\\SoccerNet\\jersey-2023\\processed_data\\test\\181\\illegible_results.json\n",
      "2025-03-23 14:37:39 [INFO] Saved illegible_tracklets to: c:\\Users\\colin\\OneDrive\\Desktop\\Jersey-Number-Recognition\\data\\SoccerNet\\jersey-2023\\processed_data\\test\\181\\illegible_results.json\n",
      "2025-03-23 14:37:39 [INFO] Legibility classification complete.\n",
      "2025-03-23 14:37:39 [INFO] Determine soccer balls in image(s) using pre-trained model.\n",
      "2025-03-23 14:37:39 [INFO] Processed tracklet: 181\n",
      "2025-03-23 14:37:39 [INFO] Found 0 balls, Ball list: []\n"
     ]
    },
    {
     "name": "stderr",
     "output_type": "stream",
     "text": [
      "Lightning automatically upgraded your loaded checkpoint from v1.1.4 to v2.5.0.post0. To apply the upgrade to your files permanently, run `python -m pytorch_lightning.utilities.upgrade_checkpoint c:\\Users\\colin\\OneDrive\\Desktop\\Jersey-Number-Recognition\\data\\pre_trained_models\\reid\\dukemtmcreid_resnet50_256_128_epoch_120.ckpt`\n"
     ]
    },
    {
     "name": "stdout",
     "output_type": "stream",
     "text": [
      "2025-03-23 14:37:41 [INFO] Saved features for tracklet with shape (11, 2048) to c:\\Users\\colin\\OneDrive\\Desktop\\Jersey-Number-Recognition\\data\\SoccerNet\\jersey-2023\\processed_data\\test\\185\\features.npy\n",
      "2025-03-23 14:37:41 [INFO] Identifying and removing outliers by calling gaussian_outliers_streamlined.py on feature file\n",
      "2025-03-23 14:37:42 [INFO] Saving legible_tracklets to: c:\\Users\\colin\\OneDrive\\Desktop\\Jersey-Number-Recognition\\data\\SoccerNet\\jersey-2023\\processed_data\\test\\182\\legible_results.json\n",
      "2025-03-23 14:37:42 [INFO] Saved legible_tracklets to: c:\\Users\\colin\\OneDrive\\Desktop\\Jersey-Number-Recognition\\data\\SoccerNet\\jersey-2023\\processed_data\\test\\182\\legible_results.json\n",
      "2025-03-23 14:37:42 [INFO] Saving illegible_tracklets to: c:\\Users\\colin\\OneDrive\\Desktop\\Jersey-Number-Recognition\\data\\SoccerNet\\jersey-2023\\processed_data\\test\\182\\illegible_results.json\n",
      "2025-03-23 14:37:42 [INFO] Saved illegible_tracklets to: c:\\Users\\colin\\OneDrive\\Desktop\\Jersey-Number-Recognition\\data\\SoccerNet\\jersey-2023\\processed_data\\test\\182\\illegible_results.json\n",
      "2025-03-23 14:37:42 [INFO] Legibility classification complete.\n",
      "2025-03-23 14:37:42 [INFO] Determine soccer balls in image(s) using pre-trained model.\n",
      "2025-03-23 14:37:42 [INFO] Processed tracklet: 182\n",
      "2025-03-23 14:37:42 [INFO] Found 0 balls, Ball list: []\n"
     ]
    },
    {
     "name": "stderr",
     "output_type": "stream",
     "text": [
      "Lightning automatically upgraded your loaded checkpoint from v1.1.4 to v2.5.0.post0. To apply the upgrade to your files permanently, run `python -m pytorch_lightning.utilities.upgrade_checkpoint c:\\Users\\colin\\OneDrive\\Desktop\\Jersey-Number-Recognition\\data\\pre_trained_models\\reid\\dukemtmcreid_resnet50_256_128_epoch_120.ckpt`\n"
     ]
    },
    {
     "name": "stdout",
     "output_type": "stream",
     "text": [
      "2025-03-23 14:37:45 [INFO] Saved features for tracklet with shape (144, 2048) to c:\\Users\\colin\\OneDrive\\Desktop\\Jersey-Number-Recognition\\data\\SoccerNet\\jersey-2023\\processed_data\\test\\186\\features.npy\n",
      "2025-03-23 14:37:45 [INFO] Identifying and removing outliers by calling gaussian_outliers_streamlined.py on feature file\n",
      "2025-03-23 14:37:47 [INFO] Saving legible_tracklets to: c:\\Users\\colin\\OneDrive\\Desktop\\Jersey-Number-Recognition\\data\\SoccerNet\\jersey-2023\\processed_data\\test\\180\\legible_results.json\n",
      "2025-03-23 14:37:47 [INFO] Saved legible_tracklets to: c:\\Users\\colin\\OneDrive\\Desktop\\Jersey-Number-Recognition\\data\\SoccerNet\\jersey-2023\\processed_data\\test\\180\\legible_results.json\n",
      "2025-03-23 14:37:47 [INFO] Saving illegible_tracklets to: c:\\Users\\colin\\OneDrive\\Desktop\\Jersey-Number-Recognition\\data\\SoccerNet\\jersey-2023\\processed_data\\test\\180\\illegible_results.json\n",
      "2025-03-23 14:37:47 [INFO] Saved illegible_tracklets to: c:\\Users\\colin\\OneDrive\\Desktop\\Jersey-Number-Recognition\\data\\SoccerNet\\jersey-2023\\processed_data\\test\\180\\illegible_results.json\n",
      "2025-03-23 14:37:47 [INFO] Legibility classification complete.\n",
      "2025-03-23 14:37:47 [INFO] Determine soccer balls in image(s) using pre-trained model.\n",
      "2025-03-23 14:37:47 [INFO] Processed tracklet: 180\n",
      "2025-03-23 14:37:47 [INFO] Found 0 balls, Ball list: []\n"
     ]
    },
    {
     "name": "stderr",
     "output_type": "stream",
     "text": [
      "Lightning automatically upgraded your loaded checkpoint from v1.1.4 to v2.5.0.post0. To apply the upgrade to your files permanently, run `python -m pytorch_lightning.utilities.upgrade_checkpoint c:\\Users\\colin\\OneDrive\\Desktop\\Jersey-Number-Recognition\\data\\pre_trained_models\\reid\\dukemtmcreid_resnet50_256_128_epoch_120.ckpt`\n"
     ]
    },
    {
     "name": "stdout",
     "output_type": "stream",
     "text": [
      "2025-03-23 14:37:50 [INFO] Saved features for tracklet with shape (750, 2048) to c:\\Users\\colin\\OneDrive\\Desktop\\Jersey-Number-Recognition\\data\\SoccerNet\\jersey-2023\\processed_data\\test\\187\\features.npy\n",
      "2025-03-23 14:37:50 [INFO] Identifying and removing outliers by calling gaussian_outliers_streamlined.py on feature file\n",
      "2025-03-23 14:37:52 [INFO] Saving legible_tracklets to: c:\\Users\\colin\\OneDrive\\Desktop\\Jersey-Number-Recognition\\data\\SoccerNet\\jersey-2023\\processed_data\\test\\183\\legible_results.json\n",
      "2025-03-23 14:37:52 [INFO] Saved legible_tracklets to: c:\\Users\\colin\\OneDrive\\Desktop\\Jersey-Number-Recognition\\data\\SoccerNet\\jersey-2023\\processed_data\\test\\183\\legible_results.json\n",
      "2025-03-23 14:37:52 [INFO] Saving illegible_tracklets to: c:\\Users\\colin\\OneDrive\\Desktop\\Jersey-Number-Recognition\\data\\SoccerNet\\jersey-2023\\processed_data\\test\\183\\illegible_results.json\n",
      "2025-03-23 14:37:52 [INFO] Saved illegible_tracklets to: c:\\Users\\colin\\OneDrive\\Desktop\\Jersey-Number-Recognition\\data\\SoccerNet\\jersey-2023\\processed_data\\test\\183\\illegible_results.json\n",
      "2025-03-23 14:37:52 [INFO] Legibility classification complete.\n",
      "2025-03-23 14:37:52 [INFO] Determine soccer balls in image(s) using pre-trained model.\n",
      "2025-03-23 14:37:52 [INFO] Processed tracklet: 183\n",
      "2025-03-23 14:37:52 [INFO] Found 0 balls, Ball list: []\n"
     ]
    },
    {
     "name": "stderr",
     "output_type": "stream",
     "text": [
      "Lightning automatically upgraded your loaded checkpoint from v1.1.4 to v2.5.0.post0. To apply the upgrade to your files permanently, run `python -m pytorch_lightning.utilities.upgrade_checkpoint c:\\Users\\colin\\OneDrive\\Desktop\\Jersey-Number-Recognition\\data\\pre_trained_models\\reid\\dukemtmcreid_resnet50_256_128_epoch_120.ckpt`\n"
     ]
    },
    {
     "name": "stdout",
     "output_type": "stream",
     "text": [
      "2025-03-23 14:37:54 [INFO] Saved features for tracklet with shape (237, 2048) to c:\\Users\\colin\\OneDrive\\Desktop\\Jersey-Number-Recognition\\data\\SoccerNet\\jersey-2023\\processed_data\\test\\188\\features.npy\n",
      "2025-03-23 14:37:54 [INFO] Identifying and removing outliers by calling gaussian_outliers_streamlined.py on feature file\n",
      "2025-03-23 14:37:54 [INFO] 2025-03-23 14:37:53 [INFO] File c:\\Users\\colin\\OneDrive\\Desktop\\Jersey-Number-Recognition\\data\\SoccerNet\\jersey-2023\\processed_data\\test\\184\\main_subject_gauss_th=3.5_r=1.json already exists. Skipping writing to it.\n",
      "2025-03-23 14:37:53 [INFO] File c:\\Users\\colin\\OneDrive\\Desktop\\Jersey-Number-Recognition\\data\\SoccerNet\\jersey-2023\\processed_data\\test\\184\\main_subject_gauss_th=3.5_r=2.json already exists. Skipping writing to it.\n",
      "2025-03-23 14:37:53 [INFO] File c:\\Users\\colin\\OneDrive\\Desktop\\Jersey-Number-Recognition\\data\\SoccerNet\\jersey-2023\\processed_data\\test\\184\\main_subject_gauss_th=3.5_r=3.json already exists. Skipping writing to it.\n",
      "\n",
      "2025-03-23 14:37:54 [ERROR] \n",
      "2025-03-23 14:37:54 [INFO] Done removing outliers\n",
      "2025-03-23 14:37:54 [INFO] Running model chain on preprocessed image(s).\n",
      "2025-03-23 14:37:54 [INFO] Classifying legibility of image(s) using pre-trained model.\n",
      "2025-03-23 14:37:54 [WARNING] No soccer ball list found. Skipping exclusion of soccer balls.\n",
      "2025-03-23 14:37:54 [INFO] Path checked: c:\\Users\\colin\\OneDrive\\Desktop\\Jersey-Number-Recognition\\data\\SoccerNet\\jersey-2023\\processed_data\\test\\common_data\\soccer_ball.json\n",
      "2025-03-23 14:37:57 [INFO] 2025-03-23 14:37:55 [INFO] File c:\\Users\\colin\\OneDrive\\Desktop\\Jersey-Number-Recognition\\data\\SoccerNet\\jersey-2023\\processed_data\\test\\185\\main_subject_gauss_th=3.5_r=1.json already exists. Skipping writing to it.\n",
      "2025-03-23 14:37:55 [INFO] File c:\\Users\\colin\\OneDrive\\Desktop\\Jersey-Number-Recognition\\data\\SoccerNet\\jersey-2023\\processed_data\\test\\185\\main_subject_gauss_th=3.5_r=2.json already exists. Skipping writing to it.\n",
      "2025-03-23 14:37:55 [INFO] File c:\\Users\\colin\\OneDrive\\Desktop\\Jersey-Number-Recognition\\data\\SoccerNet\\jersey-2023\\processed_data\\test\\185\\main_subject_gauss_th=3.5_r=3.json already exists. Skipping writing to it.\n",
      "\n",
      "2025-03-23 14:37:57 [ERROR] \n",
      "2025-03-23 14:37:57 [INFO] Done removing outliers\n",
      "2025-03-23 14:37:57 [INFO] Running model chain on preprocessed image(s).\n",
      "2025-03-23 14:37:57 [INFO] Classifying legibility of image(s) using pre-trained model.\n",
      "2025-03-23 14:37:57 [WARNING] No soccer ball list found. Skipping exclusion of soccer balls.\n",
      "2025-03-23 14:37:57 [INFO] Path checked: c:\\Users\\colin\\OneDrive\\Desktop\\Jersey-Number-Recognition\\data\\SoccerNet\\jersey-2023\\processed_data\\test\\common_data\\soccer_ball.json\n",
      "2025-03-23 14:38:01 [INFO] 2025-03-23 14:37:59 [INFO] File c:\\Users\\colin\\OneDrive\\Desktop\\Jersey-Number-Recognition\\data\\SoccerNet\\jersey-2023\\processed_data\\test\\186\\main_subject_gauss_th=3.5_r=1.json already exists. Skipping writing to it.\n",
      "2025-03-23 14:37:59 [INFO] File c:\\Users\\colin\\OneDrive\\Desktop\\Jersey-Number-Recognition\\data\\SoccerNet\\jersey-2023\\processed_data\\test\\186\\main_subject_gauss_th=3.5_r=2.json already exists. Skipping writing to it.\n",
      "2025-03-23 14:37:59 [INFO] File c:\\Users\\colin\\OneDrive\\Desktop\\Jersey-Number-Recognition\\data\\SoccerNet\\jersey-2023\\processed_data\\test\\186\\main_subject_gauss_th=3.5_r=3.json already exists. Skipping writing to it.\n",
      "\n",
      "2025-03-23 14:38:01 [ERROR] \n",
      "2025-03-23 14:38:01 [INFO] Done removing outliers\n",
      "2025-03-23 14:38:01 [INFO] Running model chain on preprocessed image(s).\n",
      "2025-03-23 14:38:01 [INFO] Classifying legibility of image(s) using pre-trained model.\n",
      "2025-03-23 14:38:01 [WARNING] No soccer ball list found. Skipping exclusion of soccer balls.\n",
      "2025-03-23 14:38:01 [INFO] Path checked: c:\\Users\\colin\\OneDrive\\Desktop\\Jersey-Number-Recognition\\data\\SoccerNet\\jersey-2023\\processed_data\\test\\common_data\\soccer_ball.json\n",
      "2025-03-23 14:38:06 [INFO] 2025-03-23 14:38:04 [INFO] File c:\\Users\\colin\\OneDrive\\Desktop\\Jersey-Number-Recognition\\data\\SoccerNet\\jersey-2023\\processed_data\\test\\187\\main_subject_gauss_th=3.5_r=1.json already exists. Skipping writing to it.\n",
      "2025-03-23 14:38:04 [INFO] File c:\\Users\\colin\\OneDrive\\Desktop\\Jersey-Number-Recognition\\data\\SoccerNet\\jersey-2023\\processed_data\\test\\187\\main_subject_gauss_th=3.5_r=2.json already exists. Skipping writing to it.\n",
      "2025-03-23 14:38:04 [INFO] File c:\\Users\\colin\\OneDrive\\Desktop\\Jersey-Number-Recognition\\data\\SoccerNet\\jersey-2023\\processed_data\\test\\187\\main_subject_gauss_th=3.5_r=3.json already exists. Skipping writing to it.\n",
      "\n",
      "2025-03-23 14:38:06 [ERROR] \n",
      "2025-03-23 14:38:06 [INFO] Done removing outliers\n",
      "2025-03-23 14:38:06 [INFO] Running model chain on preprocessed image(s).\n",
      "2025-03-23 14:38:06 [INFO] Classifying legibility of image(s) using pre-trained model.\n",
      "2025-03-23 14:38:06 [WARNING] No soccer ball list found. Skipping exclusion of soccer balls.\n",
      "2025-03-23 14:38:06 [INFO] Path checked: c:\\Users\\colin\\OneDrive\\Desktop\\Jersey-Number-Recognition\\data\\SoccerNet\\jersey-2023\\processed_data\\test\\common_data\\soccer_ball.json\n",
      "2025-03-23 14:38:08 [INFO] Saving legible_tracklets to: c:\\Users\\colin\\OneDrive\\Desktop\\Jersey-Number-Recognition\\data\\SoccerNet\\jersey-2023\\processed_data\\test\\184\\legible_results.json\n",
      "2025-03-23 14:38:08 [INFO] Saved legible_tracklets to: c:\\Users\\colin\\OneDrive\\Desktop\\Jersey-Number-Recognition\\data\\SoccerNet\\jersey-2023\\processed_data\\test\\184\\legible_results.json\n",
      "2025-03-23 14:38:08 [INFO] Saving illegible_tracklets to: c:\\Users\\colin\\OneDrive\\Desktop\\Jersey-Number-Recognition\\data\\SoccerNet\\jersey-2023\\processed_data\\test\\184\\illegible_results.json\n",
      "2025-03-23 14:38:08 [INFO] Saved illegible_tracklets to: c:\\Users\\colin\\OneDrive\\Desktop\\Jersey-Number-Recognition\\data\\SoccerNet\\jersey-2023\\processed_data\\test\\184\\illegible_results.json\n",
      "2025-03-23 14:38:08 [INFO] Legibility classification complete.\n",
      "2025-03-23 14:38:08 [INFO] Determine soccer balls in image(s) using pre-trained model.\n",
      "2025-03-23 14:38:08 [INFO] Processed tracklet: 184\n",
      "2025-03-23 14:38:08 [INFO] Found 0 balls, Ball list: []\n"
     ]
    },
    {
     "name": "stderr",
     "output_type": "stream",
     "text": [
      "Lightning automatically upgraded your loaded checkpoint from v1.1.4 to v2.5.0.post0. To apply the upgrade to your files permanently, run `python -m pytorch_lightning.utilities.upgrade_checkpoint c:\\Users\\colin\\OneDrive\\Desktop\\Jersey-Number-Recognition\\data\\pre_trained_models\\reid\\dukemtmcreid_resnet50_256_128_epoch_120.ckpt`\n"
     ]
    },
    {
     "name": "stdout",
     "output_type": "stream",
     "text": [
      "2025-03-23 14:38:10 [INFO] Saving legible_tracklets to: c:\\Users\\colin\\OneDrive\\Desktop\\Jersey-Number-Recognition\\data\\SoccerNet\\jersey-2023\\processed_data\\test\\185\\legible_results.json\n",
      "2025-03-23 14:38:10 [INFO] Saved legible_tracklets to: c:\\Users\\colin\\OneDrive\\Desktop\\Jersey-Number-Recognition\\data\\SoccerNet\\jersey-2023\\processed_data\\test\\185\\legible_results.json\n",
      "2025-03-23 14:38:10 [INFO] Saving illegible_tracklets to: c:\\Users\\colin\\OneDrive\\Desktop\\Jersey-Number-Recognition\\data\\SoccerNet\\jersey-2023\\processed_data\\test\\185\\illegible_results.json\n",
      "2025-03-23 14:38:10 [INFO] Saved illegible_tracklets to: c:\\Users\\colin\\OneDrive\\Desktop\\Jersey-Number-Recognition\\data\\SoccerNet\\jersey-2023\\processed_data\\test\\185\\illegible_results.json\n",
      "2025-03-23 14:38:10 [INFO] Legibility classification complete.\n",
      "2025-03-23 14:38:10 [INFO] Determine soccer balls in image(s) using pre-trained model.\n",
      "2025-03-23 14:38:10 [INFO] Processed tracklet: 185\n",
      "2025-03-23 14:38:10 [INFO] Found 0 balls, Ball list: []\n",
      "2025-03-23 14:38:11 [INFO] Saved features for tracklet with shape (210, 2048) to c:\\Users\\colin\\OneDrive\\Desktop\\Jersey-Number-Recognition\\data\\SoccerNet\\jersey-2023\\processed_data\\test\\189\\features.npy\n",
      "2025-03-23 14:38:11 [INFO] Identifying and removing outliers by calling gaussian_outliers_streamlined.py on feature file\n"
     ]
    },
    {
     "name": "stderr",
     "output_type": "stream",
     "text": [
      "Lightning automatically upgraded your loaded checkpoint from v1.1.4 to v2.5.0.post0. To apply the upgrade to your files permanently, run `python -m pytorch_lightning.utilities.upgrade_checkpoint c:\\Users\\colin\\OneDrive\\Desktop\\Jersey-Number-Recognition\\data\\pre_trained_models\\reid\\dukemtmcreid_resnet50_256_128_epoch_120.ckpt`\n"
     ]
    },
    {
     "name": "stdout",
     "output_type": "stream",
     "text": [
      "2025-03-23 14:38:12 [INFO] 2025-03-23 14:38:11 [INFO] File c:\\Users\\colin\\OneDrive\\Desktop\\Jersey-Number-Recognition\\data\\SoccerNet\\jersey-2023\\processed_data\\test\\188\\main_subject_gauss_th=3.5_r=1.json already exists. Skipping writing to it.\n",
      "2025-03-23 14:38:11 [INFO] File c:\\Users\\colin\\OneDrive\\Desktop\\Jersey-Number-Recognition\\data\\SoccerNet\\jersey-2023\\processed_data\\test\\188\\main_subject_gauss_th=3.5_r=2.json already exists. Skipping writing to it.\n",
      "2025-03-23 14:38:11 [INFO] File c:\\Users\\colin\\OneDrive\\Desktop\\Jersey-Number-Recognition\\data\\SoccerNet\\jersey-2023\\processed_data\\test\\188\\main_subject_gauss_th=3.5_r=3.json already exists. Skipping writing to it.\n",
      "\n",
      "2025-03-23 14:38:12 [ERROR] \n",
      "2025-03-23 14:38:12 [INFO] Done removing outliers\n",
      "2025-03-23 14:38:12 [INFO] Running model chain on preprocessed image(s).\n",
      "2025-03-23 14:38:12 [INFO] Classifying legibility of image(s) using pre-trained model.\n",
      "2025-03-23 14:38:12 [WARNING] No soccer ball list found. Skipping exclusion of soccer balls.\n",
      "2025-03-23 14:38:12 [INFO] Path checked: c:\\Users\\colin\\OneDrive\\Desktop\\Jersey-Number-Recognition\\data\\SoccerNet\\jersey-2023\\processed_data\\test\\common_data\\soccer_ball.json\n",
      "2025-03-23 14:38:13 [INFO] Saved features for tracklet with shape (425, 2048) to c:\\Users\\colin\\OneDrive\\Desktop\\Jersey-Number-Recognition\\data\\SoccerNet\\jersey-2023\\processed_data\\test\\190\\features.npy\n",
      "2025-03-23 14:38:13 [INFO] Identifying and removing outliers by calling gaussian_outliers_streamlined.py on feature file\n",
      "2025-03-23 14:38:16 [INFO] Saving legible_tracklets to: c:\\Users\\colin\\OneDrive\\Desktop\\Jersey-Number-Recognition\\data\\SoccerNet\\jersey-2023\\processed_data\\test\\186\\legible_results.json\n",
      "2025-03-23 14:38:16 [INFO] Saved legible_tracklets to: c:\\Users\\colin\\OneDrive\\Desktop\\Jersey-Number-Recognition\\data\\SoccerNet\\jersey-2023\\processed_data\\test\\186\\legible_results.json\n",
      "2025-03-23 14:38:16 [INFO] Saving illegible_tracklets to: c:\\Users\\colin\\OneDrive\\Desktop\\Jersey-Number-Recognition\\data\\SoccerNet\\jersey-2023\\processed_data\\test\\186\\illegible_results.json\n",
      "2025-03-23 14:38:16 [INFO] Saved illegible_tracklets to: c:\\Users\\colin\\OneDrive\\Desktop\\Jersey-Number-Recognition\\data\\SoccerNet\\jersey-2023\\processed_data\\test\\186\\illegible_results.json\n",
      "2025-03-23 14:38:16 [INFO] Legibility classification complete.\n",
      "2025-03-23 14:38:16 [INFO] Determine soccer balls in image(s) using pre-trained model.\n",
      "2025-03-23 14:38:16 [INFO] Processed tracklet: 186\n",
      "2025-03-23 14:38:16 [INFO] Found 0 balls, Ball list: []\n"
     ]
    },
    {
     "name": "stderr",
     "output_type": "stream",
     "text": [
      "Lightning automatically upgraded your loaded checkpoint from v1.1.4 to v2.5.0.post0. To apply the upgrade to your files permanently, run `python -m pytorch_lightning.utilities.upgrade_checkpoint c:\\Users\\colin\\OneDrive\\Desktop\\Jersey-Number-Recognition\\data\\pre_trained_models\\reid\\dukemtmcreid_resnet50_256_128_epoch_120.ckpt`\n"
     ]
    },
    {
     "name": "stdout",
     "output_type": "stream",
     "text": [
      "2025-03-23 14:38:19 [INFO] Saved features for tracklet with shape (702, 2048) to c:\\Users\\colin\\OneDrive\\Desktop\\Jersey-Number-Recognition\\data\\SoccerNet\\jersey-2023\\processed_data\\test\\191\\features.npy\n",
      "2025-03-23 14:38:19 [INFO] Identifying and removing outliers by calling gaussian_outliers_streamlined.py on feature file\n",
      "2025-03-23 14:38:20 [INFO] Saving legible_tracklets to: c:\\Users\\colin\\OneDrive\\Desktop\\Jersey-Number-Recognition\\data\\SoccerNet\\jersey-2023\\processed_data\\test\\178\\legible_results.json\n",
      "2025-03-23 14:38:20 [INFO] Saved legible_tracklets to: c:\\Users\\colin\\OneDrive\\Desktop\\Jersey-Number-Recognition\\data\\SoccerNet\\jersey-2023\\processed_data\\test\\178\\legible_results.json\n",
      "2025-03-23 14:38:20 [INFO] Saving illegible_tracklets to: c:\\Users\\colin\\OneDrive\\Desktop\\Jersey-Number-Recognition\\data\\SoccerNet\\jersey-2023\\processed_data\\test\\178\\illegible_results.json\n",
      "2025-03-23 14:38:20 [INFO] Saved illegible_tracklets to: c:\\Users\\colin\\OneDrive\\Desktop\\Jersey-Number-Recognition\\data\\SoccerNet\\jersey-2023\\processed_data\\test\\178\\illegible_results.json\n",
      "2025-03-23 14:38:20 [INFO] Legibility classification complete.\n",
      "2025-03-23 14:38:20 [INFO] Processed tracklet: 178\n",
      "2025-03-23 14:38:25 [INFO] Saving legible_tracklets to: c:\\Users\\colin\\OneDrive\\Desktop\\Jersey-Number-Recognition\\data\\SoccerNet\\jersey-2023\\processed_data\\test\\188\\legible_results.json\n",
      "2025-03-23 14:38:25 [INFO] Saved legible_tracklets to: c:\\Users\\colin\\OneDrive\\Desktop\\Jersey-Number-Recognition\\data\\SoccerNet\\jersey-2023\\processed_data\\test\\188\\legible_results.json\n",
      "2025-03-23 14:38:25 [INFO] Saving illegible_tracklets to: c:\\Users\\colin\\OneDrive\\Desktop\\Jersey-Number-Recognition\\data\\SoccerNet\\jersey-2023\\processed_data\\test\\188\\illegible_results.json\n",
      "2025-03-23 14:38:25 [INFO] Saved illegible_tracklets to: c:\\Users\\colin\\OneDrive\\Desktop\\Jersey-Number-Recognition\\data\\SoccerNet\\jersey-2023\\processed_data\\test\\188\\illegible_results.json\n",
      "2025-03-23 14:38:25 [INFO] Legibility classification complete.\n",
      "2025-03-23 14:38:25 [INFO] Processed tracklet: 188\n",
      "2025-03-23 14:38:26 [INFO] 2025-03-23 14:38:25 [INFO] File c:\\Users\\colin\\OneDrive\\Desktop\\Jersey-Number-Recognition\\data\\SoccerNet\\jersey-2023\\processed_data\\test\\189\\main_subject_gauss_th=3.5_r=1.json already exists. Skipping writing to it.\n",
      "2025-03-23 14:38:25 [INFO] File c:\\Users\\colin\\OneDrive\\Desktop\\Jersey-Number-Recognition\\data\\SoccerNet\\jersey-2023\\processed_data\\test\\189\\main_subject_gauss_th=3.5_r=2.json already exists. Skipping writing to it.\n",
      "2025-03-23 14:38:25 [INFO] File c:\\Users\\colin\\OneDrive\\Desktop\\Jersey-Number-Recognition\\data\\SoccerNet\\jersey-2023\\processed_data\\test\\189\\main_subject_gauss_th=3.5_r=3.json already exists. Skipping writing to it.\n",
      "\n",
      "2025-03-23 14:38:26 [ERROR] \n",
      "2025-03-23 14:38:26 [INFO] Done removing outliers\n",
      "2025-03-23 14:38:26 [INFO] Running model chain on preprocessed image(s).\n",
      "2025-03-23 14:38:26 [INFO] Classifying legibility of image(s) using pre-trained model.\n",
      "2025-03-23 14:38:26 [WARNING] No soccer ball list found. Skipping exclusion of soccer balls.\n",
      "2025-03-23 14:38:26 [INFO] Path checked: c:\\Users\\colin\\OneDrive\\Desktop\\Jersey-Number-Recognition\\data\\SoccerNet\\jersey-2023\\processed_data\\test\\common_data\\soccer_ball.json\n",
      "2025-03-23 14:38:28 [INFO] 2025-03-23 14:38:27 [INFO] File c:\\Users\\colin\\OneDrive\\Desktop\\Jersey-Number-Recognition\\data\\SoccerNet\\jersey-2023\\processed_data\\test\\190\\main_subject_gauss_th=3.5_r=1.json already exists. Skipping writing to it.\n",
      "2025-03-23 14:38:27 [INFO] File c:\\Users\\colin\\OneDrive\\Desktop\\Jersey-Number-Recognition\\data\\SoccerNet\\jersey-2023\\processed_data\\test\\190\\main_subject_gauss_th=3.5_r=2.json already exists. Skipping writing to it.\n",
      "2025-03-23 14:38:27 [INFO] File c:\\Users\\colin\\OneDrive\\Desktop\\Jersey-Number-Recognition\\data\\SoccerNet\\jersey-2023\\processed_data\\test\\190\\main_subject_gauss_th=3.5_r=3.json already exists. Skipping writing to it.\n",
      "\n",
      "2025-03-23 14:38:28 [ERROR] \n",
      "2025-03-23 14:38:28 [INFO] Done removing outliers\n",
      "2025-03-23 14:38:28 [INFO] Running model chain on preprocessed image(s).\n",
      "2025-03-23 14:38:28 [INFO] Classifying legibility of image(s) using pre-trained model.\n",
      "2025-03-23 14:38:28 [WARNING] No soccer ball list found. Skipping exclusion of soccer balls.\n",
      "2025-03-23 14:38:28 [INFO] Path checked: c:\\Users\\colin\\OneDrive\\Desktop\\Jersey-Number-Recognition\\data\\SoccerNet\\jersey-2023\\processed_data\\test\\common_data\\soccer_ball.json\n",
      "2025-03-23 14:38:32 [INFO] 2025-03-23 14:38:31 [INFO] File c:\\Users\\colin\\OneDrive\\Desktop\\Jersey-Number-Recognition\\data\\SoccerNet\\jersey-2023\\processed_data\\test\\191\\main_subject_gauss_th=3.5_r=1.json already exists. Skipping writing to it.\n",
      "2025-03-23 14:38:31 [INFO] File c:\\Users\\colin\\OneDrive\\Desktop\\Jersey-Number-Recognition\\data\\SoccerNet\\jersey-2023\\processed_data\\test\\191\\main_subject_gauss_th=3.5_r=2.json already exists. Skipping writing to it.\n",
      "2025-03-23 14:38:31 [INFO] File c:\\Users\\colin\\OneDrive\\Desktop\\Jersey-Number-Recognition\\data\\SoccerNet\\jersey-2023\\processed_data\\test\\191\\main_subject_gauss_th=3.5_r=3.json already exists. Skipping writing to it.\n",
      "\n",
      "2025-03-23 14:38:32 [ERROR] \n",
      "2025-03-23 14:38:32 [INFO] Done removing outliers\n",
      "2025-03-23 14:38:32 [INFO] Running model chain on preprocessed image(s).\n",
      "2025-03-23 14:38:32 [INFO] Classifying legibility of image(s) using pre-trained model.\n",
      "2025-03-23 14:38:32 [WARNING] No soccer ball list found. Skipping exclusion of soccer balls.\n",
      "2025-03-23 14:38:32 [INFO] Path checked: c:\\Users\\colin\\OneDrive\\Desktop\\Jersey-Number-Recognition\\data\\SoccerNet\\jersey-2023\\processed_data\\test\\common_data\\soccer_ball.json\n",
      "2025-03-23 14:38:37 [INFO] Saving legible_tracklets to: c:\\Users\\colin\\OneDrive\\Desktop\\Jersey-Number-Recognition\\data\\SoccerNet\\jersey-2023\\processed_data\\test\\189\\legible_results.json\n",
      "2025-03-23 14:38:37 [INFO] Saved legible_tracklets to: c:\\Users\\colin\\OneDrive\\Desktop\\Jersey-Number-Recognition\\data\\SoccerNet\\jersey-2023\\processed_data\\test\\189\\legible_results.json\n",
      "2025-03-23 14:38:37 [INFO] Saving illegible_tracklets to: c:\\Users\\colin\\OneDrive\\Desktop\\Jersey-Number-Recognition\\data\\SoccerNet\\jersey-2023\\processed_data\\test\\189\\illegible_results.json\n",
      "2025-03-23 14:38:37 [INFO] Saved illegible_tracklets to: c:\\Users\\colin\\OneDrive\\Desktop\\Jersey-Number-Recognition\\data\\SoccerNet\\jersey-2023\\processed_data\\test\\189\\illegible_results.json\n",
      "2025-03-23 14:38:37 [INFO] Legibility classification complete.\n",
      "2025-03-23 14:38:37 [INFO] Processed tracklet: 189\n",
      "2025-03-23 14:38:39 [INFO] Saving legible_tracklets to: c:\\Users\\colin\\OneDrive\\Desktop\\Jersey-Number-Recognition\\data\\SoccerNet\\jersey-2023\\processed_data\\test\\190\\legible_results.json\n",
      "2025-03-23 14:38:39 [INFO] Saved legible_tracklets to: c:\\Users\\colin\\OneDrive\\Desktop\\Jersey-Number-Recognition\\data\\SoccerNet\\jersey-2023\\processed_data\\test\\190\\legible_results.json\n",
      "2025-03-23 14:38:39 [INFO] Saving illegible_tracklets to: c:\\Users\\colin\\OneDrive\\Desktop\\Jersey-Number-Recognition\\data\\SoccerNet\\jersey-2023\\processed_data\\test\\190\\illegible_results.json\n",
      "2025-03-23 14:38:39 [INFO] Saved illegible_tracklets to: c:\\Users\\colin\\OneDrive\\Desktop\\Jersey-Number-Recognition\\data\\SoccerNet\\jersey-2023\\processed_data\\test\\190\\illegible_results.json\n",
      "2025-03-23 14:38:39 [INFO] Legibility classification complete.\n",
      "2025-03-23 14:38:39 [INFO] Processed tracklet: 190\n",
      "2025-03-23 14:38:42 [INFO] Saving legible_tracklets to: c:\\Users\\colin\\OneDrive\\Desktop\\Jersey-Number-Recognition\\data\\SoccerNet\\jersey-2023\\processed_data\\test\\187\\legible_results.json\n",
      "2025-03-23 14:38:42 [INFO] Saved legible_tracklets to: c:\\Users\\colin\\OneDrive\\Desktop\\Jersey-Number-Recognition\\data\\SoccerNet\\jersey-2023\\processed_data\\test\\187\\legible_results.json\n",
      "2025-03-23 14:38:42 [INFO] Saving illegible_tracklets to: c:\\Users\\colin\\OneDrive\\Desktop\\Jersey-Number-Recognition\\data\\SoccerNet\\jersey-2023\\processed_data\\test\\187\\illegible_results.json\n",
      "2025-03-23 14:38:42 [INFO] Saved illegible_tracklets to: c:\\Users\\colin\\OneDrive\\Desktop\\Jersey-Number-Recognition\\data\\SoccerNet\\jersey-2023\\processed_data\\test\\187\\illegible_results.json\n",
      "2025-03-23 14:38:42 [INFO] Legibility classification complete.\n",
      "2025-03-23 14:38:42 [INFO] Processed tracklet: 187\n",
      "2025-03-23 14:38:54 [INFO] Saving legible_tracklets to: c:\\Users\\colin\\OneDrive\\Desktop\\Jersey-Number-Recognition\\data\\SoccerNet\\jersey-2023\\processed_data\\test\\191\\legible_results.json\n",
      "2025-03-23 14:38:54 [INFO] Saved legible_tracklets to: c:\\Users\\colin\\OneDrive\\Desktop\\Jersey-Number-Recognition\\data\\SoccerNet\\jersey-2023\\processed_data\\test\\191\\legible_results.json\n",
      "2025-03-23 14:38:54 [INFO] Saving illegible_tracklets to: c:\\Users\\colin\\OneDrive\\Desktop\\Jersey-Number-Recognition\\data\\SoccerNet\\jersey-2023\\processed_data\\test\\191\\illegible_results.json\n",
      "2025-03-23 14:38:54 [INFO] Saved illegible_tracklets to: c:\\Users\\colin\\OneDrive\\Desktop\\Jersey-Number-Recognition\\data\\SoccerNet\\jersey-2023\\processed_data\\test\\191\\illegible_results.json\n",
      "2025-03-23 14:38:54 [INFO] Legibility classification complete.\n",
      "2025-03-23 14:38:54 [INFO] Processed tracklet: 191\n",
      "2025-03-23 14:38:54 [INFO] Skipping preprocessing for tracklet: c:\\Users\\colin\\OneDrive\\Desktop\\Jersey-Number-Recognition\\data\\SoccerNet\\jersey-2023\\processed_data\\test\\192\n",
      "2025-03-23 14:38:54 [INFO] Skipping preprocessing for tracklet: c:\\Users\\colin\\OneDrive\\Desktop\\Jersey-Number-Recognition\\data\\SoccerNet\\jersey-2023\\processed_data\\test\\193\n",
      "2025-03-23 14:38:54 [INFO] Skipping preprocessing for tracklet: c:\\Users\\colin\\OneDrive\\Desktop\\Jersey-Number-Recognition\\data\\SoccerNet\\jersey-2023\\processed_data\\test\\194\n",
      "2025-03-23 14:38:54 [INFO] Skipping preprocessing for tracklet: c:\\Users\\colin\\OneDrive\\Desktop\\Jersey-Number-Recognition\\data\\SoccerNet\\jersey-2023\\processed_data\\test\\195\n",
      "2025-03-23 14:38:54 [INFO] Skipping preprocessing for tracklet: c:\\Users\\colin\\OneDrive\\Desktop\\Jersey-Number-Recognition\\data\\SoccerNet\\jersey-2023\\processed_data\\test\\196\n",
      "2025-03-23 14:38:54 [INFO] Skipping preprocessing for tracklet: c:\\Users\\colin\\OneDrive\\Desktop\\Jersey-Number-Recognition\\data\\SoccerNet\\jersey-2023\\processed_data\\test\\197\n",
      "2025-03-23 14:38:54 [INFO] Skipping preprocessing for tracklet: c:\\Users\\colin\\OneDrive\\Desktop\\Jersey-Number-Recognition\\data\\SoccerNet\\jersey-2023\\processed_data\\test\\198\n",
      "2025-03-23 14:38:54 [INFO] Skipping preprocessing for tracklet: c:\\Users\\colin\\OneDrive\\Desktop\\Jersey-Number-Recognition\\data\\SoccerNet\\jersey-2023\\processed_data\\test\\199\n",
      "2025-03-23 14:38:54 [INFO] Skipping preprocessing for tracklet: c:\\Users\\colin\\OneDrive\\Desktop\\Jersey-Number-Recognition\\data\\SoccerNet\\jersey-2023\\processed_data\\test\\200\n",
      "2025-03-23 14:38:54 [INFO] Skipping preprocessing for tracklet: c:\\Users\\colin\\OneDrive\\Desktop\\Jersey-Number-Recognition\\data\\SoccerNet\\jersey-2023\\processed_data\\test\\201\n",
      "2025-03-23 14:38:54 [INFO] Skipping preprocessing for tracklet: c:\\Users\\colin\\OneDrive\\Desktop\\Jersey-Number-Recognition\\data\\SoccerNet\\jersey-2023\\processed_data\\test\\202\n",
      "2025-03-23 14:38:54 [INFO] Skipping preprocessing for tracklet: c:\\Users\\colin\\OneDrive\\Desktop\\Jersey-Number-Recognition\\data\\SoccerNet\\jersey-2023\\processed_data\\test\\203\n",
      "2025-03-23 14:38:54 [INFO] Skipping preprocessing for tracklet: c:\\Users\\colin\\OneDrive\\Desktop\\Jersey-Number-Recognition\\data\\SoccerNet\\jersey-2023\\processed_data\\test\\204\n",
      "2025-03-23 14:38:54 [INFO] Skipping preprocessing for tracklet: c:\\Users\\colin\\OneDrive\\Desktop\\Jersey-Number-Recognition\\data\\SoccerNet\\jersey-2023\\processed_data\\test\\205\n",
      "2025-03-23 14:38:54 [INFO] Skipping preprocessing for tracklet: c:\\Users\\colin\\OneDrive\\Desktop\\Jersey-Number-Recognition\\data\\SoccerNet\\jersey-2023\\processed_data\\test\\206\n",
      "2025-03-23 14:38:54 [INFO] Skipping preprocessing for tracklet: c:\\Users\\colin\\OneDrive\\Desktop\\Jersey-Number-Recognition\\data\\SoccerNet\\jersey-2023\\processed_data\\test\\207\n",
      "2025-03-23 14:38:54 [INFO] Skipping preprocessing for tracklet: c:\\Users\\colin\\OneDrive\\Desktop\\Jersey-Number-Recognition\\data\\SoccerNet\\jersey-2023\\processed_data\\test\\208\n",
      "2025-03-23 14:38:54 [INFO] Skipping preprocessing for tracklet: c:\\Users\\colin\\OneDrive\\Desktop\\Jersey-Number-Recognition\\data\\SoccerNet\\jersey-2023\\processed_data\\test\\209\n",
      "2025-03-23 14:38:54 [INFO] Skipping preprocessing for tracklet: c:\\Users\\colin\\OneDrive\\Desktop\\Jersey-Number-Recognition\\data\\SoccerNet\\jersey-2023\\processed_data\\test\\210\n",
      "2025-03-23 14:38:54 [INFO] Skipping preprocessing for tracklet: c:\\Users\\colin\\OneDrive\\Desktop\\Jersey-Number-Recognition\\data\\SoccerNet\\jersey-2023\\processed_data\\test\\211\n",
      "2025-03-23 14:38:54 [INFO] Skipping preprocessing for tracklet: c:\\Users\\colin\\OneDrive\\Desktop\\Jersey-Number-Recognition\\data\\SoccerNet\\jersey-2023\\processed_data\\test\\212\n",
      "2025-03-23 14:38:54 [INFO] Skipping preprocessing for tracklet: c:\\Users\\colin\\OneDrive\\Desktop\\Jersey-Number-Recognition\\data\\SoccerNet\\jersey-2023\\processed_data\\test\\213\n",
      "2025-03-23 14:38:54 [INFO] Skipping preprocessing for tracklet: c:\\Users\\colin\\OneDrive\\Desktop\\Jersey-Number-Recognition\\data\\SoccerNet\\jersey-2023\\processed_data\\test\\214\n",
      "2025-03-23 14:38:54 [INFO] Skipping preprocessing for tracklet: c:\\Users\\colin\\OneDrive\\Desktop\\Jersey-Number-Recognition\\data\\SoccerNet\\jersey-2023\\processed_data\\test\\215\n",
      "2025-03-23 14:38:55 [INFO] Skipping preprocessing for tracklet: c:\\Users\\colin\\OneDrive\\Desktop\\Jersey-Number-Recognition\\data\\SoccerNet\\jersey-2023\\processed_data\\test\\216\n",
      "2025-03-23 14:38:55 [INFO] Skipping preprocessing for tracklet: c:\\Users\\colin\\OneDrive\\Desktop\\Jersey-Number-Recognition\\data\\SoccerNet\\jersey-2023\\processed_data\\test\\217\n",
      "2025-03-23 14:38:55 [INFO] Skipping preprocessing for tracklet: c:\\Users\\colin\\OneDrive\\Desktop\\Jersey-Number-Recognition\\data\\SoccerNet\\jersey-2023\\processed_data\\test\\218\n",
      "2025-03-23 14:38:55 [INFO] Skipping preprocessing for tracklet: c:\\Users\\colin\\OneDrive\\Desktop\\Jersey-Number-Recognition\\data\\SoccerNet\\jersey-2023\\processed_data\\test\\219\n",
      "2025-03-23 14:38:55 [INFO] Skipping preprocessing for tracklet: c:\\Users\\colin\\OneDrive\\Desktop\\Jersey-Number-Recognition\\data\\SoccerNet\\jersey-2023\\processed_data\\test\\220\n",
      "2025-03-23 14:38:55 [INFO] Skipping preprocessing for tracklet: c:\\Users\\colin\\OneDrive\\Desktop\\Jersey-Number-Recognition\\data\\SoccerNet\\jersey-2023\\processed_data\\test\\221\n",
      "2025-03-23 14:38:55 [INFO] Skipping preprocessing for tracklet: c:\\Users\\colin\\OneDrive\\Desktop\\Jersey-Number-Recognition\\data\\SoccerNet\\jersey-2023\\processed_data\\test\\222\n",
      "2025-03-23 14:38:55 [INFO] Skipping preprocessing for tracklet: c:\\Users\\colin\\OneDrive\\Desktop\\Jersey-Number-Recognition\\data\\SoccerNet\\jersey-2023\\processed_data\\test\\223\n",
      "2025-03-23 14:38:55 [INFO] All tracklets in 192-224 are cached. Skipping feature generation.\n",
      "2025-03-23 14:38:55 [INFO] Skipping preprocessing for tracklet: c:\\Users\\colin\\OneDrive\\Desktop\\Jersey-Number-Recognition\\data\\SoccerNet\\jersey-2023\\processed_data\\test\\224\n",
      "2025-03-23 14:38:55 [INFO] Skipping preprocessing for tracklet: c:\\Users\\colin\\OneDrive\\Desktop\\Jersey-Number-Recognition\\data\\SoccerNet\\jersey-2023\\processed_data\\test\\225\n",
      "2025-03-23 14:38:55 [INFO] Skipping preprocessing for tracklet: c:\\Users\\colin\\OneDrive\\Desktop\\Jersey-Number-Recognition\\data\\SoccerNet\\jersey-2023\\processed_data\\test\\226\n",
      "2025-03-23 14:38:55 [INFO] Skipping preprocessing for tracklet: c:\\Users\\colin\\OneDrive\\Desktop\\Jersey-Number-Recognition\\data\\SoccerNet\\jersey-2023\\processed_data\\test\\227\n",
      "2025-03-23 14:38:55 [INFO] Skipping preprocessing for tracklet: c:\\Users\\colin\\OneDrive\\Desktop\\Jersey-Number-Recognition\\data\\SoccerNet\\jersey-2023\\processed_data\\test\\228\n",
      "2025-03-23 14:38:55 [INFO] Skipping preprocessing for tracklet: c:\\Users\\colin\\OneDrive\\Desktop\\Jersey-Number-Recognition\\data\\SoccerNet\\jersey-2023\\processed_data\\test\\229\n",
      "2025-03-23 14:38:55 [INFO] Skipping preprocessing for tracklet: c:\\Users\\colin\\OneDrive\\Desktop\\Jersey-Number-Recognition\\data\\SoccerNet\\jersey-2023\\processed_data\\test\\230\n",
      "2025-03-23 14:38:55 [INFO] Skipping preprocessing for tracklet: c:\\Users\\colin\\OneDrive\\Desktop\\Jersey-Number-Recognition\\data\\SoccerNet\\jersey-2023\\processed_data\\test\\231\n",
      "2025-03-23 14:38:55 [INFO] Skipping preprocessing for tracklet: c:\\Users\\colin\\OneDrive\\Desktop\\Jersey-Number-Recognition\\data\\SoccerNet\\jersey-2023\\processed_data\\test\\232\n",
      "2025-03-23 14:38:55 [INFO] Skipping preprocessing for tracklet: c:\\Users\\colin\\OneDrive\\Desktop\\Jersey-Number-Recognition\\data\\SoccerNet\\jersey-2023\\processed_data\\test\\233\n",
      "2025-03-23 14:38:55 [INFO] Skipping preprocessing for tracklet: c:\\Users\\colin\\OneDrive\\Desktop\\Jersey-Number-Recognition\\data\\SoccerNet\\jersey-2023\\processed_data\\test\\234\n",
      "2025-03-23 14:38:55 [INFO] Skipping preprocessing for tracklet: c:\\Users\\colin\\OneDrive\\Desktop\\Jersey-Number-Recognition\\data\\SoccerNet\\jersey-2023\\processed_data\\test\\235\n",
      "2025-03-23 14:38:55 [INFO] Skipping preprocessing for tracklet: c:\\Users\\colin\\OneDrive\\Desktop\\Jersey-Number-Recognition\\data\\SoccerNet\\jersey-2023\\processed_data\\test\\236\n",
      "2025-03-23 14:38:55 [INFO] Skipping preprocessing for tracklet: c:\\Users\\colin\\OneDrive\\Desktop\\Jersey-Number-Recognition\\data\\SoccerNet\\jersey-2023\\processed_data\\test\\237\n",
      "2025-03-23 14:38:55 [INFO] Skipping preprocessing for tracklet: c:\\Users\\colin\\OneDrive\\Desktop\\Jersey-Number-Recognition\\data\\SoccerNet\\jersey-2023\\processed_data\\test\\238\n",
      "2025-03-23 14:38:55 [INFO] Skipping preprocessing for tracklet: c:\\Users\\colin\\OneDrive\\Desktop\\Jersey-Number-Recognition\\data\\SoccerNet\\jersey-2023\\processed_data\\test\\239\n",
      "2025-03-23 14:38:55 [INFO] Skipping preprocessing for tracklet: c:\\Users\\colin\\OneDrive\\Desktop\\Jersey-Number-Recognition\\data\\SoccerNet\\jersey-2023\\processed_data\\test\\240\n",
      "2025-03-23 14:38:55 [INFO] Skipping preprocessing for tracklet: c:\\Users\\colin\\OneDrive\\Desktop\\Jersey-Number-Recognition\\data\\SoccerNet\\jersey-2023\\processed_data\\test\\241\n",
      "2025-03-23 14:38:55 [INFO] Skipping preprocessing for tracklet: c:\\Users\\colin\\OneDrive\\Desktop\\Jersey-Number-Recognition\\data\\SoccerNet\\jersey-2023\\processed_data\\test\\242\n",
      "2025-03-23 14:38:55 [INFO] Skipping preprocessing for tracklet: c:\\Users\\colin\\OneDrive\\Desktop\\Jersey-Number-Recognition\\data\\SoccerNet\\jersey-2023\\processed_data\\test\\243\n",
      "2025-03-23 14:38:55 [INFO] Skipping preprocessing for tracklet: c:\\Users\\colin\\OneDrive\\Desktop\\Jersey-Number-Recognition\\data\\SoccerNet\\jersey-2023\\processed_data\\test\\244\n",
      "2025-03-23 14:38:55 [INFO] Skipping preprocessing for tracklet: c:\\Users\\colin\\OneDrive\\Desktop\\Jersey-Number-Recognition\\data\\SoccerNet\\jersey-2023\\processed_data\\test\\245\n",
      "2025-03-23 14:38:55 [INFO] Skipping preprocessing for tracklet: c:\\Users\\colin\\OneDrive\\Desktop\\Jersey-Number-Recognition\\data\\SoccerNet\\jersey-2023\\processed_data\\test\\246\n",
      "2025-03-23 14:38:55 [INFO] Skipping preprocessing for tracklet: c:\\Users\\colin\\OneDrive\\Desktop\\Jersey-Number-Recognition\\data\\SoccerNet\\jersey-2023\\processed_data\\test\\247\n",
      "2025-03-23 14:38:55 [INFO] Skipping preprocessing for tracklet: c:\\Users\\colin\\OneDrive\\Desktop\\Jersey-Number-Recognition\\data\\SoccerNet\\jersey-2023\\processed_data\\test\\248\n",
      "2025-03-23 14:38:55 [INFO] Skipping preprocessing for tracklet: c:\\Users\\colin\\OneDrive\\Desktop\\Jersey-Number-Recognition\\data\\SoccerNet\\jersey-2023\\processed_data\\test\\249\n",
      "2025-03-23 14:38:55 [INFO] Skipping preprocessing for tracklet: c:\\Users\\colin\\OneDrive\\Desktop\\Jersey-Number-Recognition\\data\\SoccerNet\\jersey-2023\\processed_data\\test\\250\n",
      "2025-03-23 14:38:55 [INFO] Skipping preprocessing for tracklet: c:\\Users\\colin\\OneDrive\\Desktop\\Jersey-Number-Recognition\\data\\SoccerNet\\jersey-2023\\processed_data\\test\\251\n",
      "2025-03-23 14:38:55 [INFO] Skipping preprocessing for tracklet: c:\\Users\\colin\\OneDrive\\Desktop\\Jersey-Number-Recognition\\data\\SoccerNet\\jersey-2023\\processed_data\\test\\252\n",
      "2025-03-23 14:38:55 [INFO] Skipping preprocessing for tracklet: c:\\Users\\colin\\OneDrive\\Desktop\\Jersey-Number-Recognition\\data\\SoccerNet\\jersey-2023\\processed_data\\test\\253\n",
      "2025-03-23 14:38:55 [INFO] Skipping preprocessing for tracklet: c:\\Users\\colin\\OneDrive\\Desktop\\Jersey-Number-Recognition\\data\\SoccerNet\\jersey-2023\\processed_data\\test\\254\n",
      "2025-03-23 14:38:55 [INFO] Skipping preprocessing for tracklet: c:\\Users\\colin\\OneDrive\\Desktop\\Jersey-Number-Recognition\\data\\SoccerNet\\jersey-2023\\processed_data\\test\\255\n",
      "2025-03-23 14:38:55 [INFO] All tracklets in 224-256 are cached. Skipping feature generation.\n",
      "2025-03-23 14:38:55 [INFO] Skipping preprocessing for tracklet: c:\\Users\\colin\\OneDrive\\Desktop\\Jersey-Number-Recognition\\data\\SoccerNet\\jersey-2023\\processed_data\\test\\256\n",
      "2025-03-23 14:38:55 [INFO] Skipping preprocessing for tracklet: c:\\Users\\colin\\OneDrive\\Desktop\\Jersey-Number-Recognition\\data\\SoccerNet\\jersey-2023\\processed_data\\test\\257\n",
      "2025-03-23 14:38:55 [INFO] Skipping preprocessing for tracklet: c:\\Users\\colin\\OneDrive\\Desktop\\Jersey-Number-Recognition\\data\\SoccerNet\\jersey-2023\\processed_data\\test\\258\n",
      "2025-03-23 14:38:55 [INFO] Skipping preprocessing for tracklet: c:\\Users\\colin\\OneDrive\\Desktop\\Jersey-Number-Recognition\\data\\SoccerNet\\jersey-2023\\processed_data\\test\\259\n",
      "2025-03-23 14:38:55 [INFO] Skipping preprocessing for tracklet: c:\\Users\\colin\\OneDrive\\Desktop\\Jersey-Number-Recognition\\data\\SoccerNet\\jersey-2023\\processed_data\\test\\260\n",
      "2025-03-23 14:38:55 [INFO] Skipping preprocessing for tracklet: c:\\Users\\colin\\OneDrive\\Desktop\\Jersey-Number-Recognition\\data\\SoccerNet\\jersey-2023\\processed_data\\test\\261\n",
      "2025-03-23 14:38:55 [INFO] Skipping first 6 cached tracklets in batch 256-288. Processing the rest.\n",
      "2025-03-23 14:38:55 [INFO] Using double parallelization: multiprocessing + CUDA batch processing.\n"
     ]
    },
    {
     "data": {
      "application/vnd.jupyter.widget-view+json": {
       "model_id": "33a8dc0f12a84f3d9b84197ab011aac6",
       "version_major": 2,
       "version_minor": 0
      },
      "text/plain": [
       "Processing tracklets (CUDA + CPU):   0%|          | 0/26 [00:00<?, ?it/s]"
      ]
     },
     "metadata": {},
     "output_type": "display_data"
    },
    {
     "name": "stdout",
     "output_type": "stream",
     "text": [
      "2025-03-23 14:39:16 [INFO] Creating placeholder data files for Soccer Ball Filter.\n",
      "2025-03-23 14:39:16 [INFO] Creating placeholder data files for Legibility Classifier.\n",
      "2025-03-23 14:39:16 [INFO] Determine soccer balls in image(s) using pre-trained model.\n",
      "2025-03-23 14:39:16 [INFO] Determine soccer balls in image(s) using pre-trained model.\n",
      "2025-03-23 14:39:16 [INFO] Determine soccer balls in image(s) using pre-trained model.\n",
      "2025-03-23 14:39:16 [INFO] Determine soccer balls in image(s) using pre-trained model.\n",
      "2025-03-23 14:39:16 [INFO] Determine soccer balls in image(s) using pre-trained model.\n",
      "2025-03-23 14:39:16 [INFO] Determine soccer balls in image(s) using pre-trained model.\n"
     ]
    },
    {
     "data": {
      "application/vnd.jupyter.widget-view+json": {
       "model_id": "58155d82cc914f20857e414a5e22b60e",
       "version_major": 2,
       "version_minor": 0
      },
      "text/plain": [
       "Processing Batch Tracklets (256-288):   0%|          | 0/26 [00:00<?, ?it/s]"
      ]
     },
     "metadata": {},
     "output_type": "display_data"
    },
    {
     "name": "stdout",
     "output_type": "stream",
     "text": [
      "2025-03-23 14:39:16 [INFO] Found 0 balls, Ball list: []\n",
      "2025-03-23 14:39:16 [INFO] Found 0 balls, Ball list: []\n",
      "2025-03-23 14:39:16 [INFO] Found 0 balls, Ball list: []\n",
      "2025-03-23 14:39:16 [INFO] Found 0 balls, Ball list: []\n",
      "2025-03-23 14:39:16 [INFO] Found 0 balls, Ball list: []\n",
      "2025-03-23 14:39:16 [INFO] Found 0 balls, Ball list: []\n"
     ]
    },
    {
     "name": "stderr",
     "output_type": "stream",
     "text": [
      "Lightning automatically upgraded your loaded checkpoint from v1.1.4 to v2.5.0.post0. To apply the upgrade to your files permanently, run `python -m pytorch_lightning.utilities.upgrade_checkpoint c:\\Users\\colin\\OneDrive\\Desktop\\Jersey-Number-Recognition\\data\\pre_trained_models\\reid\\dukemtmcreid_resnet50_256_128_epoch_120.ckpt`\n"
     ]
    },
    {
     "name": "stdout",
     "output_type": "stream",
     "text": [
      "2025-03-23 14:39:17 [INFO] Saved features for tracklet with shape (48, 2048) to c:\\Users\\colin\\OneDrive\\Desktop\\Jersey-Number-Recognition\\data\\SoccerNet\\jersey-2023\\processed_data\\test\\265\\features.npy\n",
      "2025-03-23 14:39:17 [INFO] Identifying and removing outliers by calling gaussian_outliers_streamlined.py on feature file\n"
     ]
    },
    {
     "name": "stderr",
     "output_type": "stream",
     "text": [
      "Lightning automatically upgraded your loaded checkpoint from v1.1.4 to v2.5.0.post0. To apply the upgrade to your files permanently, run `python -m pytorch_lightning.utilities.upgrade_checkpoint c:\\Users\\colin\\OneDrive\\Desktop\\Jersey-Number-Recognition\\data\\pre_trained_models\\reid\\dukemtmcreid_resnet50_256_128_epoch_120.ckpt`\n"
     ]
    },
    {
     "name": "stdout",
     "output_type": "stream",
     "text": [
      "2025-03-23 14:39:19 [INFO] Saved features for tracklet with shape (554, 2048) to c:\\Users\\colin\\OneDrive\\Desktop\\Jersey-Number-Recognition\\data\\SoccerNet\\jersey-2023\\processed_data\\test\\267\\features.npy\n",
      "2025-03-23 14:39:19 [INFO] Identifying and removing outliers by calling gaussian_outliers_streamlined.py on feature file\n"
     ]
    },
    {
     "name": "stderr",
     "output_type": "stream",
     "text": [
      "Lightning automatically upgraded your loaded checkpoint from v1.1.4 to v2.5.0.post0. To apply the upgrade to your files permanently, run `python -m pytorch_lightning.utilities.upgrade_checkpoint c:\\Users\\colin\\OneDrive\\Desktop\\Jersey-Number-Recognition\\data\\pre_trained_models\\reid\\dukemtmcreid_resnet50_256_128_epoch_120.ckpt`\n"
     ]
    },
    {
     "name": "stdout",
     "output_type": "stream",
     "text": [
      "2025-03-23 14:39:21 [INFO] Saved features for tracklet with shape (635, 2048) to c:\\Users\\colin\\OneDrive\\Desktop\\Jersey-Number-Recognition\\data\\SoccerNet\\jersey-2023\\processed_data\\test\\263\\features.npy\n",
      "2025-03-23 14:39:22 [INFO] Identifying and removing outliers by calling gaussian_outliers_streamlined.py on feature file\n"
     ]
    },
    {
     "name": "stderr",
     "output_type": "stream",
     "text": [
      "Lightning automatically upgraded your loaded checkpoint from v1.1.4 to v2.5.0.post0. To apply the upgrade to your files permanently, run `python -m pytorch_lightning.utilities.upgrade_checkpoint c:\\Users\\colin\\OneDrive\\Desktop\\Jersey-Number-Recognition\\data\\pre_trained_models\\reid\\dukemtmcreid_resnet50_256_128_epoch_120.ckpt`\n"
     ]
    },
    {
     "name": "stdout",
     "output_type": "stream",
     "text": [
      "2025-03-23 14:39:24 [INFO] Saved features for tracklet with shape (605, 2048) to c:\\Users\\colin\\OneDrive\\Desktop\\Jersey-Number-Recognition\\data\\SoccerNet\\jersey-2023\\processed_data\\test\\262\\features.npy\n",
      "2025-03-23 14:39:24 [INFO] Identifying and removing outliers by calling gaussian_outliers_streamlined.py on feature file\n"
     ]
    },
    {
     "name": "stderr",
     "output_type": "stream",
     "text": [
      "Lightning automatically upgraded your loaded checkpoint from v1.1.4 to v2.5.0.post0. To apply the upgrade to your files permanently, run `python -m pytorch_lightning.utilities.upgrade_checkpoint c:\\Users\\colin\\OneDrive\\Desktop\\Jersey-Number-Recognition\\data\\pre_trained_models\\reid\\dukemtmcreid_resnet50_256_128_epoch_120.ckpt`\n"
     ]
    },
    {
     "name": "stdout",
     "output_type": "stream",
     "text": [
      "2025-03-23 14:39:26 [INFO] Saved features for tracklet with shape (750, 2048) to c:\\Users\\colin\\OneDrive\\Desktop\\Jersey-Number-Recognition\\data\\SoccerNet\\jersey-2023\\processed_data\\test\\266\\features.npy\n",
      "2025-03-23 14:39:26 [INFO] Identifying and removing outliers by calling gaussian_outliers_streamlined.py on feature file\n"
     ]
    },
    {
     "name": "stderr",
     "output_type": "stream",
     "text": [
      "Lightning automatically upgraded your loaded checkpoint from v1.1.4 to v2.5.0.post0. To apply the upgrade to your files permanently, run `python -m pytorch_lightning.utilities.upgrade_checkpoint c:\\Users\\colin\\OneDrive\\Desktop\\Jersey-Number-Recognition\\data\\pre_trained_models\\reid\\dukemtmcreid_resnet50_256_128_epoch_120.ckpt`\n"
     ]
    },
    {
     "name": "stdout",
     "output_type": "stream",
     "text": [
      "2025-03-23 14:39:28 [INFO] Saved features for tracklet with shape (685, 2048) to c:\\Users\\colin\\OneDrive\\Desktop\\Jersey-Number-Recognition\\data\\SoccerNet\\jersey-2023\\processed_data\\test\\264\\features.npy\n",
      "2025-03-23 14:39:28 [INFO] Identifying and removing outliers by calling gaussian_outliers_streamlined.py on feature file\n",
      "2025-03-23 14:39:30 [INFO] \n",
      "2025-03-23 14:39:30 [ERROR] \n",
      "2025-03-23 14:39:30 [INFO] Done removing outliers\n",
      "2025-03-23 14:39:30 [INFO] Running model chain on preprocessed image(s).\n",
      "2025-03-23 14:39:30 [INFO] Classifying legibility of image(s) using pre-trained model.\n",
      "2025-03-23 14:39:30 [WARNING] No soccer ball list found. Skipping exclusion of soccer balls.\n",
      "2025-03-23 14:39:30 [INFO] Path checked: c:\\Users\\colin\\OneDrive\\Desktop\\Jersey-Number-Recognition\\data\\SoccerNet\\jersey-2023\\processed_data\\test\\common_data\\soccer_ball.json\n",
      "2025-03-23 14:39:33 [INFO] \n",
      "2025-03-23 14:39:33 [ERROR] \n",
      "2025-03-23 14:39:33 [INFO] Done removing outliers\n",
      "2025-03-23 14:39:33 [INFO] Running model chain on preprocessed image(s).\n",
      "2025-03-23 14:39:33 [INFO] Classifying legibility of image(s) using pre-trained model.\n",
      "2025-03-23 14:39:33 [WARNING] No soccer ball list found. Skipping exclusion of soccer balls.\n",
      "2025-03-23 14:39:33 [INFO] Path checked: c:\\Users\\colin\\OneDrive\\Desktop\\Jersey-Number-Recognition\\data\\SoccerNet\\jersey-2023\\processed_data\\test\\common_data\\soccer_ball.json\n",
      "2025-03-23 14:39:37 [INFO] \n",
      "2025-03-23 14:39:37 [ERROR] \n",
      "2025-03-23 14:39:37 [INFO] Done removing outliers\n",
      "2025-03-23 14:39:37 [INFO] Running model chain on preprocessed image(s).\n",
      "2025-03-23 14:39:37 [INFO] Classifying legibility of image(s) using pre-trained model.\n",
      "2025-03-23 14:39:37 [WARNING] No soccer ball list found. Skipping exclusion of soccer balls.\n",
      "2025-03-23 14:39:37 [INFO] Path checked: c:\\Users\\colin\\OneDrive\\Desktop\\Jersey-Number-Recognition\\data\\SoccerNet\\jersey-2023\\processed_data\\test\\common_data\\soccer_ball.json\n",
      "2025-03-23 14:39:40 [INFO] \n",
      "2025-03-23 14:39:40 [ERROR] \n",
      "2025-03-23 14:39:40 [INFO] Done removing outliers\n",
      "2025-03-23 14:39:40 [INFO] Running model chain on preprocessed image(s).\n",
      "2025-03-23 14:39:40 [INFO] Classifying legibility of image(s) using pre-trained model.\n",
      "2025-03-23 14:39:40 [WARNING] No soccer ball list found. Skipping exclusion of soccer balls.\n",
      "2025-03-23 14:39:40 [INFO] Path checked: c:\\Users\\colin\\OneDrive\\Desktop\\Jersey-Number-Recognition\\data\\SoccerNet\\jersey-2023\\processed_data\\test\\common_data\\soccer_ball.json\n",
      "2025-03-23 14:39:44 [INFO] \n",
      "2025-03-23 14:39:44 [ERROR] \n",
      "2025-03-23 14:39:44 [INFO] Done removing outliers\n",
      "2025-03-23 14:39:44 [INFO] Running model chain on preprocessed image(s).\n",
      "2025-03-23 14:39:44 [INFO] Classifying legibility of image(s) using pre-trained model.\n",
      "2025-03-23 14:39:44 [WARNING] No soccer ball list found. Skipping exclusion of soccer balls.\n",
      "2025-03-23 14:39:44 [INFO] Path checked: c:\\Users\\colin\\OneDrive\\Desktop\\Jersey-Number-Recognition\\data\\SoccerNet\\jersey-2023\\processed_data\\test\\common_data\\soccer_ball.json\n",
      "2025-03-23 14:39:45 [INFO] Saving legible_tracklets to: c:\\Users\\colin\\OneDrive\\Desktop\\Jersey-Number-Recognition\\data\\SoccerNet\\jersey-2023\\processed_data\\test\\265\\legible_results.json\n",
      "2025-03-23 14:39:45 [INFO] Saved legible_tracklets to: c:\\Users\\colin\\OneDrive\\Desktop\\Jersey-Number-Recognition\\data\\SoccerNet\\jersey-2023\\processed_data\\test\\265\\legible_results.json\n",
      "2025-03-23 14:39:45 [INFO] Saving illegible_tracklets to: c:\\Users\\colin\\OneDrive\\Desktop\\Jersey-Number-Recognition\\data\\SoccerNet\\jersey-2023\\processed_data\\test\\265\\illegible_results.json\n",
      "2025-03-23 14:39:45 [INFO] Saved illegible_tracklets to: c:\\Users\\colin\\OneDrive\\Desktop\\Jersey-Number-Recognition\\data\\SoccerNet\\jersey-2023\\processed_data\\test\\265\\illegible_results.json\n",
      "2025-03-23 14:39:45 [INFO] Legibility classification complete.\n",
      "2025-03-23 14:39:45 [INFO] Determine soccer balls in image(s) using pre-trained model.\n",
      "2025-03-23 14:39:45 [INFO] Processed tracklet: 265\n",
      "2025-03-23 14:39:45 [INFO] Found 0 balls, Ball list: []\n"
     ]
    },
    {
     "name": "stderr",
     "output_type": "stream",
     "text": [
      "Lightning automatically upgraded your loaded checkpoint from v1.1.4 to v2.5.0.post0. To apply the upgrade to your files permanently, run `python -m pytorch_lightning.utilities.upgrade_checkpoint c:\\Users\\colin\\OneDrive\\Desktop\\Jersey-Number-Recognition\\data\\pre_trained_models\\reid\\dukemtmcreid_resnet50_256_128_epoch_120.ckpt`\n"
     ]
    },
    {
     "name": "stdout",
     "output_type": "stream",
     "text": [
      "2025-03-23 14:39:48 [INFO] \n",
      "2025-03-23 14:39:48 [ERROR] \n",
      "2025-03-23 14:39:48 [INFO] Done removing outliers\n",
      "2025-03-23 14:39:48 [INFO] Running model chain on preprocessed image(s).\n",
      "2025-03-23 14:39:48 [INFO] Classifying legibility of image(s) using pre-trained model.\n",
      "2025-03-23 14:39:48 [WARNING] No soccer ball list found. Skipping exclusion of soccer balls.\n",
      "2025-03-23 14:39:48 [INFO] Path checked: c:\\Users\\colin\\OneDrive\\Desktop\\Jersey-Number-Recognition\\data\\SoccerNet\\jersey-2023\\processed_data\\test\\common_data\\soccer_ball.json\n",
      "2025-03-23 14:39:49 [INFO] Saved features for tracklet with shape (659, 2048) to c:\\Users\\colin\\OneDrive\\Desktop\\Jersey-Number-Recognition\\data\\SoccerNet\\jersey-2023\\processed_data\\test\\268\\features.npy\n",
      "2025-03-23 14:39:49 [INFO] Identifying and removing outliers by calling gaussian_outliers_streamlined.py on feature file\n",
      "2025-03-23 14:39:52 [INFO] Saving legible_tracklets to: c:\\Users\\colin\\OneDrive\\Desktop\\Jersey-Number-Recognition\\data\\SoccerNet\\jersey-2023\\processed_data\\test\\267\\legible_results.json\n",
      "2025-03-23 14:39:52 [INFO] Saved legible_tracklets to: c:\\Users\\colin\\OneDrive\\Desktop\\Jersey-Number-Recognition\\data\\SoccerNet\\jersey-2023\\processed_data\\test\\267\\legible_results.json\n",
      "2025-03-23 14:39:52 [INFO] Saving illegible_tracklets to: c:\\Users\\colin\\OneDrive\\Desktop\\Jersey-Number-Recognition\\data\\SoccerNet\\jersey-2023\\processed_data\\test\\267\\illegible_results.json\n",
      "2025-03-23 14:39:52 [INFO] Saved illegible_tracklets to: c:\\Users\\colin\\OneDrive\\Desktop\\Jersey-Number-Recognition\\data\\SoccerNet\\jersey-2023\\processed_data\\test\\267\\illegible_results.json\n",
      "2025-03-23 14:39:52 [INFO] Legibility classification complete.\n",
      "2025-03-23 14:39:52 [INFO] Determine soccer balls in image(s) using pre-trained model.\n",
      "2025-03-23 14:39:52 [INFO] Processed tracklet: 267\n",
      "2025-03-23 14:39:52 [INFO] Found 0 balls, Ball list: []\n"
     ]
    },
    {
     "name": "stderr",
     "output_type": "stream",
     "text": [
      "Lightning automatically upgraded your loaded checkpoint from v1.1.4 to v2.5.0.post0. To apply the upgrade to your files permanently, run `python -m pytorch_lightning.utilities.upgrade_checkpoint c:\\Users\\colin\\OneDrive\\Desktop\\Jersey-Number-Recognition\\data\\pre_trained_models\\reid\\dukemtmcreid_resnet50_256_128_epoch_120.ckpt`\n"
     ]
    },
    {
     "name": "stdout",
     "output_type": "stream",
     "text": [
      "2025-03-23 14:39:54 [INFO] Saving legible_tracklets to: c:\\Users\\colin\\OneDrive\\Desktop\\Jersey-Number-Recognition\\data\\SoccerNet\\jersey-2023\\processed_data\\test\\263\\legible_results.json\n",
      "2025-03-23 14:39:54 [INFO] Saved legible_tracklets to: c:\\Users\\colin\\OneDrive\\Desktop\\Jersey-Number-Recognition\\data\\SoccerNet\\jersey-2023\\processed_data\\test\\263\\legible_results.json\n",
      "2025-03-23 14:39:54 [INFO] Saving illegible_tracklets to: c:\\Users\\colin\\OneDrive\\Desktop\\Jersey-Number-Recognition\\data\\SoccerNet\\jersey-2023\\processed_data\\test\\263\\illegible_results.json\n",
      "2025-03-23 14:39:54 [INFO] Saved illegible_tracklets to: c:\\Users\\colin\\OneDrive\\Desktop\\Jersey-Number-Recognition\\data\\SoccerNet\\jersey-2023\\processed_data\\test\\263\\illegible_results.json\n",
      "2025-03-23 14:39:54 [INFO] Legibility classification complete.\n",
      "2025-03-23 14:39:54 [INFO] Determine soccer balls in image(s) using pre-trained model.\n",
      "2025-03-23 14:39:54 [INFO] Processed tracklet: 263\n",
      "2025-03-23 14:39:54 [INFO] Found 0 balls, Ball list: []\n",
      "2025-03-23 14:39:55 [INFO] Saved features for tracklet with shape (697, 2048) to c:\\Users\\colin\\OneDrive\\Desktop\\Jersey-Number-Recognition\\data\\SoccerNet\\jersey-2023\\processed_data\\test\\269\\features.npy\n",
      "2025-03-23 14:39:55 [INFO] Identifying and removing outliers by calling gaussian_outliers_streamlined.py on feature file\n"
     ]
    },
    {
     "name": "stderr",
     "output_type": "stream",
     "text": [
      "Lightning automatically upgraded your loaded checkpoint from v1.1.4 to v2.5.0.post0. To apply the upgrade to your files permanently, run `python -m pytorch_lightning.utilities.upgrade_checkpoint c:\\Users\\colin\\OneDrive\\Desktop\\Jersey-Number-Recognition\\data\\pre_trained_models\\reid\\dukemtmcreid_resnet50_256_128_epoch_120.ckpt`\n"
     ]
    },
    {
     "name": "stdout",
     "output_type": "stream",
     "text": [
      "2025-03-23 14:39:57 [INFO] Saved features for tracklet with shape (561, 2048) to c:\\Users\\colin\\OneDrive\\Desktop\\Jersey-Number-Recognition\\data\\SoccerNet\\jersey-2023\\processed_data\\test\\270\\features.npy\n",
      "2025-03-23 14:39:57 [INFO] Identifying and removing outliers by calling gaussian_outliers_streamlined.py on feature file\n",
      "2025-03-23 14:40:05 [INFO] \n",
      "2025-03-23 14:40:05 [ERROR] \n",
      "2025-03-23 14:40:05 [INFO] Done removing outliers\n",
      "2025-03-23 14:40:05 [INFO] Running model chain on preprocessed image(s).\n",
      "2025-03-23 14:40:05 [INFO] Classifying legibility of image(s) using pre-trained model.\n",
      "2025-03-23 14:40:05 [WARNING] No soccer ball list found. Skipping exclusion of soccer balls.\n",
      "2025-03-23 14:40:05 [INFO] Path checked: c:\\Users\\colin\\OneDrive\\Desktop\\Jersey-Number-Recognition\\data\\SoccerNet\\jersey-2023\\processed_data\\test\\common_data\\soccer_ball.json\n",
      "2025-03-23 14:40:07 [INFO] \n",
      "2025-03-23 14:40:07 [ERROR] \n",
      "2025-03-23 14:40:07 [INFO] Done removing outliers\n",
      "2025-03-23 14:40:07 [INFO] Running model chain on preprocessed image(s).\n",
      "2025-03-23 14:40:07 [INFO] Classifying legibility of image(s) using pre-trained model.\n",
      "2025-03-23 14:40:07 [WARNING] No soccer ball list found. Skipping exclusion of soccer balls.\n",
      "2025-03-23 14:40:07 [INFO] Path checked: c:\\Users\\colin\\OneDrive\\Desktop\\Jersey-Number-Recognition\\data\\SoccerNet\\jersey-2023\\processed_data\\test\\common_data\\soccer_ball.json\n",
      "2025-03-23 14:40:10 [INFO] \n",
      "2025-03-23 14:40:10 [ERROR] \n",
      "2025-03-23 14:40:10 [INFO] Done removing outliers\n",
      "2025-03-23 14:40:10 [INFO] Running model chain on preprocessed image(s).\n",
      "2025-03-23 14:40:10 [INFO] Classifying legibility of image(s) using pre-trained model.\n",
      "2025-03-23 14:40:10 [WARNING] No soccer ball list found. Skipping exclusion of soccer balls.\n",
      "2025-03-23 14:40:10 [INFO] Path checked: c:\\Users\\colin\\OneDrive\\Desktop\\Jersey-Number-Recognition\\data\\SoccerNet\\jersey-2023\\processed_data\\test\\common_data\\soccer_ball.json\n",
      "2025-03-23 14:40:20 [INFO] Saving legible_tracklets to: c:\\Users\\colin\\OneDrive\\Desktop\\Jersey-Number-Recognition\\data\\SoccerNet\\jersey-2023\\processed_data\\test\\262\\legible_results.json\n",
      "2025-03-23 14:40:20 [INFO] Saved legible_tracklets to: c:\\Users\\colin\\OneDrive\\Desktop\\Jersey-Number-Recognition\\data\\SoccerNet\\jersey-2023\\processed_data\\test\\262\\legible_results.json\n",
      "2025-03-23 14:40:20 [INFO] Saving illegible_tracklets to: c:\\Users\\colin\\OneDrive\\Desktop\\Jersey-Number-Recognition\\data\\SoccerNet\\jersey-2023\\processed_data\\test\\262\\illegible_results.json\n",
      "2025-03-23 14:40:20 [INFO] Saved illegible_tracklets to: c:\\Users\\colin\\OneDrive\\Desktop\\Jersey-Number-Recognition\\data\\SoccerNet\\jersey-2023\\processed_data\\test\\262\\illegible_results.json\n",
      "2025-03-23 14:40:20 [INFO] Legibility classification complete.\n",
      "2025-03-23 14:40:20 [INFO] Determine soccer balls in image(s) using pre-trained model.\n",
      "2025-03-23 14:40:20 [INFO] Processed tracklet: 262\n",
      "2025-03-23 14:40:20 [INFO] Found 1 balls, Ball list: ['271']\n"
     ]
    },
    {
     "name": "stderr",
     "output_type": "stream",
     "text": [
      "Lightning automatically upgraded your loaded checkpoint from v1.1.4 to v2.5.0.post0. To apply the upgrade to your files permanently, run `python -m pytorch_lightning.utilities.upgrade_checkpoint c:\\Users\\colin\\OneDrive\\Desktop\\Jersey-Number-Recognition\\data\\pre_trained_models\\reid\\dukemtmcreid_resnet50_256_128_epoch_120.ckpt`\n"
     ]
    },
    {
     "name": "stdout",
     "output_type": "stream",
     "text": [
      "2025-03-23 14:40:25 [INFO] Saving legible_tracklets to: c:\\Users\\colin\\OneDrive\\Desktop\\Jersey-Number-Recognition\\data\\SoccerNet\\jersey-2023\\processed_data\\test\\266\\legible_results.json\n",
      "2025-03-23 14:40:25 [INFO] Saved legible_tracklets to: c:\\Users\\colin\\OneDrive\\Desktop\\Jersey-Number-Recognition\\data\\SoccerNet\\jersey-2023\\processed_data\\test\\266\\legible_results.json\n",
      "2025-03-23 14:40:25 [INFO] Saving illegible_tracklets to: c:\\Users\\colin\\OneDrive\\Desktop\\Jersey-Number-Recognition\\data\\SoccerNet\\jersey-2023\\processed_data\\test\\266\\illegible_results.json\n",
      "2025-03-23 14:40:25 [INFO] Saved illegible_tracklets to: c:\\Users\\colin\\OneDrive\\Desktop\\Jersey-Number-Recognition\\data\\SoccerNet\\jersey-2023\\processed_data\\test\\266\\illegible_results.json\n",
      "2025-03-23 14:40:25 [INFO] Legibility classification complete.\n",
      "2025-03-23 14:40:25 [INFO] Determine soccer balls in image(s) using pre-trained model.\n",
      "2025-03-23 14:40:25 [INFO] Processed tracklet: 266\n",
      "2025-03-23 14:40:25 [INFO] Found 0 balls, Ball list: []\n",
      "2025-03-23 14:40:25 [INFO] Saved features for tracklet with shape (739, 2048) to c:\\Users\\colin\\OneDrive\\Desktop\\Jersey-Number-Recognition\\data\\SoccerNet\\jersey-2023\\processed_data\\test\\271\\features.npy\n",
      "2025-03-23 14:40:25 [INFO] Identifying and removing outliers by calling gaussian_outliers_streamlined.py on feature file\n",
      "2025-03-23 14:40:26 [INFO] Saving legible_tracklets to: c:\\Users\\colin\\OneDrive\\Desktop\\Jersey-Number-Recognition\\data\\SoccerNet\\jersey-2023\\processed_data\\test\\270\\legible_results.json\n",
      "2025-03-23 14:40:26 [INFO] Saved legible_tracklets to: c:\\Users\\colin\\OneDrive\\Desktop\\Jersey-Number-Recognition\\data\\SoccerNet\\jersey-2023\\processed_data\\test\\270\\legible_results.json\n",
      "2025-03-23 14:40:26 [INFO] Saving illegible_tracklets to: c:\\Users\\colin\\OneDrive\\Desktop\\Jersey-Number-Recognition\\data\\SoccerNet\\jersey-2023\\processed_data\\test\\270\\illegible_results.json\n",
      "2025-03-23 14:40:26 [INFO] Saved illegible_tracklets to: c:\\Users\\colin\\OneDrive\\Desktop\\Jersey-Number-Recognition\\data\\SoccerNet\\jersey-2023\\processed_data\\test\\270\\illegible_results.json\n",
      "2025-03-23 14:40:26 [INFO] Legibility classification complete.\n",
      "2025-03-23 14:40:26 [INFO] Determine soccer balls in image(s) using pre-trained model.\n",
      "2025-03-23 14:40:26 [INFO] Processed tracklet: 270\n"
     ]
    },
    {
     "name": "stderr",
     "output_type": "stream",
     "text": [
      "Lightning automatically upgraded your loaded checkpoint from v1.1.4 to v2.5.0.post0. To apply the upgrade to your files permanently, run `python -m pytorch_lightning.utilities.upgrade_checkpoint c:\\Users\\colin\\OneDrive\\Desktop\\Jersey-Number-Recognition\\data\\pre_trained_models\\reid\\dukemtmcreid_resnet50_256_128_epoch_120.ckpt`\n"
     ]
    },
    {
     "name": "stdout",
     "output_type": "stream",
     "text": [
      "2025-03-23 14:40:26 [INFO] Found 0 balls, Ball list: []\n",
      "2025-03-23 14:40:29 [INFO] Saving legible_tracklets to: c:\\Users\\colin\\OneDrive\\Desktop\\Jersey-Number-Recognition\\data\\SoccerNet\\jersey-2023\\processed_data\\test\\264\\legible_results.json\n",
      "2025-03-23 14:40:29 [INFO] Saved legible_tracklets to: c:\\Users\\colin\\OneDrive\\Desktop\\Jersey-Number-Recognition\\data\\SoccerNet\\jersey-2023\\processed_data\\test\\264\\legible_results.json\n",
      "2025-03-23 14:40:29 [INFO] Saving illegible_tracklets to: c:\\Users\\colin\\OneDrive\\Desktop\\Jersey-Number-Recognition\\data\\SoccerNet\\jersey-2023\\processed_data\\test\\264\\illegible_results.json\n",
      "2025-03-23 14:40:29 [INFO] Saved illegible_tracklets to: c:\\Users\\colin\\OneDrive\\Desktop\\Jersey-Number-Recognition\\data\\SoccerNet\\jersey-2023\\processed_data\\test\\264\\illegible_results.json\n",
      "2025-03-23 14:40:29 [INFO] Legibility classification complete.\n",
      "2025-03-23 14:40:29 [INFO] Determine soccer balls in image(s) using pre-trained model.\n",
      "2025-03-23 14:40:29 [INFO] Processed tracklet: 264\n",
      "2025-03-23 14:40:29 [INFO] Saved features for tracklet with shape (570, 2048) to c:\\Users\\colin\\OneDrive\\Desktop\\Jersey-Number-Recognition\\data\\SoccerNet\\jersey-2023\\processed_data\\test\\272\\features.npy\n",
      "2025-03-23 14:40:29 [INFO] Found 0 balls, Ball list: []\n",
      "2025-03-23 14:40:29 [INFO] Identifying and removing outliers by calling gaussian_outliers_streamlined.py on feature file\n"
     ]
    },
    {
     "name": "stderr",
     "output_type": "stream",
     "text": [
      "Lightning automatically upgraded your loaded checkpoint from v1.1.4 to v2.5.0.post0. To apply the upgrade to your files permanently, run `python -m pytorch_lightning.utilities.upgrade_checkpoint c:\\Users\\colin\\OneDrive\\Desktop\\Jersey-Number-Recognition\\data\\pre_trained_models\\reid\\dukemtmcreid_resnet50_256_128_epoch_120.ckpt`\n"
     ]
    },
    {
     "name": "stdout",
     "output_type": "stream",
     "text": [
      "2025-03-23 14:40:31 [INFO] Saved features for tracklet with shape (545, 2048) to c:\\Users\\colin\\OneDrive\\Desktop\\Jersey-Number-Recognition\\data\\SoccerNet\\jersey-2023\\processed_data\\test\\273\\features.npy\n",
      "2025-03-23 14:40:31 [INFO] Identifying and removing outliers by calling gaussian_outliers_streamlined.py on feature file\n"
     ]
    },
    {
     "name": "stderr",
     "output_type": "stream",
     "text": [
      "Lightning automatically upgraded your loaded checkpoint from v1.1.4 to v2.5.0.post0. To apply the upgrade to your files permanently, run `python -m pytorch_lightning.utilities.upgrade_checkpoint c:\\Users\\colin\\OneDrive\\Desktop\\Jersey-Number-Recognition\\data\\pre_trained_models\\reid\\dukemtmcreid_resnet50_256_128_epoch_120.ckpt`\n"
     ]
    },
    {
     "name": "stdout",
     "output_type": "stream",
     "text": [
      "2025-03-23 14:40:33 [INFO] Saved features for tracklet with shape (431, 2048) to c:\\Users\\colin\\OneDrive\\Desktop\\Jersey-Number-Recognition\\data\\SoccerNet\\jersey-2023\\processed_data\\test\\274\\features.npy\n",
      "2025-03-23 14:40:33 [INFO] Identifying and removing outliers by calling gaussian_outliers_streamlined.py on feature file\n",
      "2025-03-23 14:40:39 [INFO] \n",
      "2025-03-23 14:40:39 [ERROR] \n",
      "2025-03-23 14:40:39 [INFO] Done removing outliers\n",
      "2025-03-23 14:40:39 [INFO] Running model chain on preprocessed image(s).\n",
      "2025-03-23 14:40:39 [INFO] Classifying legibility of image(s) using pre-trained model.\n",
      "2025-03-23 14:40:39 [WARNING] No soccer ball list found. Skipping exclusion of soccer balls.\n",
      "2025-03-23 14:40:39 [INFO] Path checked: c:\\Users\\colin\\OneDrive\\Desktop\\Jersey-Number-Recognition\\data\\SoccerNet\\jersey-2023\\processed_data\\test\\common_data\\soccer_ball.json\n",
      "2025-03-23 14:40:42 [INFO] \n",
      "2025-03-23 14:40:42 [ERROR] \n",
      "2025-03-23 14:40:42 [INFO] Done removing outliers\n",
      "2025-03-23 14:40:42 [INFO] Running model chain on preprocessed image(s).\n",
      "2025-03-23 14:40:42 [INFO] Classifying legibility of image(s) using pre-trained model.\n",
      "2025-03-23 14:40:42 [WARNING] No soccer ball list found. Skipping exclusion of soccer balls.\n",
      "2025-03-23 14:40:42 [INFO] Path checked: c:\\Users\\colin\\OneDrive\\Desktop\\Jersey-Number-Recognition\\data\\SoccerNet\\jersey-2023\\processed_data\\test\\common_data\\soccer_ball.json\n",
      "2025-03-23 14:40:43 [INFO] Saving legible_tracklets to: c:\\Users\\colin\\OneDrive\\Desktop\\Jersey-Number-Recognition\\data\\SoccerNet\\jersey-2023\\processed_data\\test\\268\\legible_results.json\n",
      "2025-03-23 14:40:43 [INFO] Saved legible_tracklets to: c:\\Users\\colin\\OneDrive\\Desktop\\Jersey-Number-Recognition\\data\\SoccerNet\\jersey-2023\\processed_data\\test\\268\\legible_results.json\n",
      "2025-03-23 14:40:43 [INFO] Saving illegible_tracklets to: c:\\Users\\colin\\OneDrive\\Desktop\\Jersey-Number-Recognition\\data\\SoccerNet\\jersey-2023\\processed_data\\test\\268\\illegible_results.json\n",
      "2025-03-23 14:40:43 [INFO] Saved illegible_tracklets to: c:\\Users\\colin\\OneDrive\\Desktop\\Jersey-Number-Recognition\\data\\SoccerNet\\jersey-2023\\processed_data\\test\\268\\illegible_results.json\n",
      "2025-03-23 14:40:43 [INFO] Legibility classification complete.\n",
      "2025-03-23 14:40:43 [INFO] Determine soccer balls in image(s) using pre-trained model.\n",
      "2025-03-23 14:40:43 [INFO] Processed tracklet: 268\n",
      "2025-03-23 14:40:43 [INFO] Found 0 balls, Ball list: []\n"
     ]
    },
    {
     "name": "stderr",
     "output_type": "stream",
     "text": [
      "Lightning automatically upgraded your loaded checkpoint from v1.1.4 to v2.5.0.post0. To apply the upgrade to your files permanently, run `python -m pytorch_lightning.utilities.upgrade_checkpoint c:\\Users\\colin\\OneDrive\\Desktop\\Jersey-Number-Recognition\\data\\pre_trained_models\\reid\\dukemtmcreid_resnet50_256_128_epoch_120.ckpt`\n"
     ]
    },
    {
     "name": "stdout",
     "output_type": "stream",
     "text": [
      "2025-03-23 14:40:45 [INFO] \n",
      "2025-03-23 14:40:45 [ERROR] \n",
      "2025-03-23 14:40:45 [INFO] Done removing outliers\n",
      "2025-03-23 14:40:45 [INFO] Running model chain on preprocessed image(s).\n",
      "2025-03-23 14:40:45 [INFO] Classifying legibility of image(s) using pre-trained model.\n",
      "2025-03-23 14:40:45 [WARNING] No soccer ball list found. Skipping exclusion of soccer balls.\n",
      "2025-03-23 14:40:45 [INFO] Path checked: c:\\Users\\colin\\OneDrive\\Desktop\\Jersey-Number-Recognition\\data\\SoccerNet\\jersey-2023\\processed_data\\test\\common_data\\soccer_ball.json\n",
      "2025-03-23 14:40:46 [INFO] Saving legible_tracklets to: c:\\Users\\colin\\OneDrive\\Desktop\\Jersey-Number-Recognition\\data\\SoccerNet\\jersey-2023\\processed_data\\test\\269\\legible_results.json\n",
      "2025-03-23 14:40:46 [INFO] Saved legible_tracklets to: c:\\Users\\colin\\OneDrive\\Desktop\\Jersey-Number-Recognition\\data\\SoccerNet\\jersey-2023\\processed_data\\test\\269\\legible_results.json\n",
      "2025-03-23 14:40:46 [INFO] Saving illegible_tracklets to: c:\\Users\\colin\\OneDrive\\Desktop\\Jersey-Number-Recognition\\data\\SoccerNet\\jersey-2023\\processed_data\\test\\269\\illegible_results.json\n",
      "2025-03-23 14:40:46 [INFO] Saved illegible_tracklets to: c:\\Users\\colin\\OneDrive\\Desktop\\Jersey-Number-Recognition\\data\\SoccerNet\\jersey-2023\\processed_data\\test\\269\\illegible_results.json\n",
      "2025-03-23 14:40:46 [INFO] Legibility classification complete.\n",
      "2025-03-23 14:40:46 [INFO] Determine soccer balls in image(s) using pre-trained model.\n",
      "2025-03-23 14:40:46 [INFO] Processed tracklet: 269\n",
      "2025-03-23 14:40:46 [INFO] Found 0 balls, Ball list: []\n",
      "2025-03-23 14:40:47 [INFO] Saved features for tracklet with shape (421, 2048) to c:\\Users\\colin\\OneDrive\\Desktop\\Jersey-Number-Recognition\\data\\SoccerNet\\jersey-2023\\processed_data\\test\\275\\features.npy\n",
      "2025-03-23 14:40:47 [INFO] Identifying and removing outliers by calling gaussian_outliers_streamlined.py on feature file\n"
     ]
    },
    {
     "name": "stderr",
     "output_type": "stream",
     "text": [
      "Lightning automatically upgraded your loaded checkpoint from v1.1.4 to v2.5.0.post0. To apply the upgrade to your files permanently, run `python -m pytorch_lightning.utilities.upgrade_checkpoint c:\\Users\\colin\\OneDrive\\Desktop\\Jersey-Number-Recognition\\data\\pre_trained_models\\reid\\dukemtmcreid_resnet50_256_128_epoch_120.ckpt`\n"
     ]
    },
    {
     "name": "stdout",
     "output_type": "stream",
     "text": [
      "2025-03-23 14:40:49 [INFO] \n",
      "2025-03-23 14:40:49 [ERROR] \n",
      "2025-03-23 14:40:49 [INFO] Done removing outliers\n",
      "2025-03-23 14:40:49 [INFO] Running model chain on preprocessed image(s).\n",
      "2025-03-23 14:40:49 [INFO] Classifying legibility of image(s) using pre-trained model.\n",
      "2025-03-23 14:40:49 [WARNING] No soccer ball list found. Skipping exclusion of soccer balls.\n",
      "2025-03-23 14:40:49 [INFO] Path checked: c:\\Users\\colin\\OneDrive\\Desktop\\Jersey-Number-Recognition\\data\\SoccerNet\\jersey-2023\\processed_data\\test\\common_data\\soccer_ball.json\n",
      "2025-03-23 14:40:50 [INFO] Saved features for tracklet with shape (421, 2048) to c:\\Users\\colin\\OneDrive\\Desktop\\Jersey-Number-Recognition\\data\\SoccerNet\\jersey-2023\\processed_data\\test\\276\\features.npy\n",
      "2025-03-23 14:40:50 [INFO] Identifying and removing outliers by calling gaussian_outliers_streamlined.py on feature file\n",
      "2025-03-23 14:41:01 [INFO] Saving legible_tracklets to: c:\\Users\\colin\\OneDrive\\Desktop\\Jersey-Number-Recognition\\data\\SoccerNet\\jersey-2023\\processed_data\\test\\272\\legible_results.json\n",
      "2025-03-23 14:41:02 [INFO] Saved legible_tracklets to: c:\\Users\\colin\\OneDrive\\Desktop\\Jersey-Number-Recognition\\data\\SoccerNet\\jersey-2023\\processed_data\\test\\272\\legible_results.json\n",
      "2025-03-23 14:41:02 [INFO] Saving illegible_tracklets to: c:\\Users\\colin\\OneDrive\\Desktop\\Jersey-Number-Recognition\\data\\SoccerNet\\jersey-2023\\processed_data\\test\\272\\illegible_results.json\n",
      "2025-03-23 14:41:02 [INFO] Saved illegible_tracklets to: c:\\Users\\colin\\OneDrive\\Desktop\\Jersey-Number-Recognition\\data\\SoccerNet\\jersey-2023\\processed_data\\test\\272\\illegible_results.json\n",
      "2025-03-23 14:41:02 [INFO] Legibility classification complete.\n",
      "2025-03-23 14:41:02 [INFO] Determine soccer balls in image(s) using pre-trained model.\n",
      "2025-03-23 14:41:02 [INFO] Processed tracklet: 272\n",
      "2025-03-23 14:41:02 [INFO] Found 0 balls, Ball list: []\n"
     ]
    },
    {
     "name": "stderr",
     "output_type": "stream",
     "text": [
      "Lightning automatically upgraded your loaded checkpoint from v1.1.4 to v2.5.0.post0. To apply the upgrade to your files permanently, run `python -m pytorch_lightning.utilities.upgrade_checkpoint c:\\Users\\colin\\OneDrive\\Desktop\\Jersey-Number-Recognition\\data\\pre_trained_models\\reid\\dukemtmcreid_resnet50_256_128_epoch_120.ckpt`\n"
     ]
    },
    {
     "name": "stdout",
     "output_type": "stream",
     "text": [
      "2025-03-23 14:41:05 [INFO] Saving legible_tracklets to: c:\\Users\\colin\\OneDrive\\Desktop\\Jersey-Number-Recognition\\data\\SoccerNet\\jersey-2023\\processed_data\\test\\273\\legible_results.json\n",
      "2025-03-23 14:41:05 [INFO] Saved legible_tracklets to: c:\\Users\\colin\\OneDrive\\Desktop\\Jersey-Number-Recognition\\data\\SoccerNet\\jersey-2023\\processed_data\\test\\273\\legible_results.json\n",
      "2025-03-23 14:41:05 [INFO] Saving illegible_tracklets to: c:\\Users\\colin\\OneDrive\\Desktop\\Jersey-Number-Recognition\\data\\SoccerNet\\jersey-2023\\processed_data\\test\\273\\illegible_results.json\n",
      "2025-03-23 14:41:05 [INFO] Saved illegible_tracklets to: c:\\Users\\colin\\OneDrive\\Desktop\\Jersey-Number-Recognition\\data\\SoccerNet\\jersey-2023\\processed_data\\test\\273\\illegible_results.json\n",
      "2025-03-23 14:41:05 [INFO] Legibility classification complete.\n",
      "2025-03-23 14:41:05 [INFO] Determine soccer balls in image(s) using pre-trained model.\n",
      "2025-03-23 14:41:05 [INFO] Processed tracklet: 273\n",
      "2025-03-23 14:41:05 [INFO] Found 0 balls, Ball list: []\n",
      "2025-03-23 14:41:05 [INFO] Saved features for tracklet with shape (238, 2048) to c:\\Users\\colin\\OneDrive\\Desktop\\Jersey-Number-Recognition\\data\\SoccerNet\\jersey-2023\\processed_data\\test\\277\\features.npy\n",
      "2025-03-23 14:41:05 [INFO] Identifying and removing outliers by calling gaussian_outliers_streamlined.py on feature file\n"
     ]
    },
    {
     "name": "stderr",
     "output_type": "stream",
     "text": [
      "Lightning automatically upgraded your loaded checkpoint from v1.1.4 to v2.5.0.post0. To apply the upgrade to your files permanently, run `python -m pytorch_lightning.utilities.upgrade_checkpoint c:\\Users\\colin\\OneDrive\\Desktop\\Jersey-Number-Recognition\\data\\pre_trained_models\\reid\\dukemtmcreid_resnet50_256_128_epoch_120.ckpt`\n"
     ]
    },
    {
     "name": "stdout",
     "output_type": "stream",
     "text": [
      "2025-03-23 14:41:07 [INFO] Saving legible_tracklets to: c:\\Users\\colin\\OneDrive\\Desktop\\Jersey-Number-Recognition\\data\\SoccerNet\\jersey-2023\\processed_data\\test\\274\\legible_results.json\n",
      "2025-03-23 14:41:07 [INFO] Saved legible_tracklets to: c:\\Users\\colin\\OneDrive\\Desktop\\Jersey-Number-Recognition\\data\\SoccerNet\\jersey-2023\\processed_data\\test\\274\\legible_results.json\n",
      "2025-03-23 14:41:07 [INFO] Saving illegible_tracklets to: c:\\Users\\colin\\OneDrive\\Desktop\\Jersey-Number-Recognition\\data\\SoccerNet\\jersey-2023\\processed_data\\test\\274\\illegible_results.json\n",
      "2025-03-23 14:41:07 [INFO] Saved illegible_tracklets to: c:\\Users\\colin\\OneDrive\\Desktop\\Jersey-Number-Recognition\\data\\SoccerNet\\jersey-2023\\processed_data\\test\\274\\illegible_results.json\n",
      "2025-03-23 14:41:07 [INFO] Legibility classification complete.\n",
      "2025-03-23 14:41:07 [INFO] Determine soccer balls in image(s) using pre-trained model.\n",
      "2025-03-23 14:41:07 [INFO] Processed tracklet: 274\n",
      "2025-03-23 14:41:07 [INFO] Found 0 balls, Ball list: []\n",
      "2025-03-23 14:41:07 [INFO] Saved features for tracklet with shape (413, 2048) to c:\\Users\\colin\\OneDrive\\Desktop\\Jersey-Number-Recognition\\data\\SoccerNet\\jersey-2023\\processed_data\\test\\278\\features.npy\n",
      "2025-03-23 14:41:07 [INFO] Identifying and removing outliers by calling gaussian_outliers_streamlined.py on feature file\n"
     ]
    },
    {
     "name": "stderr",
     "output_type": "stream",
     "text": [
      "Lightning automatically upgraded your loaded checkpoint from v1.1.4 to v2.5.0.post0. To apply the upgrade to your files permanently, run `python -m pytorch_lightning.utilities.upgrade_checkpoint c:\\Users\\colin\\OneDrive\\Desktop\\Jersey-Number-Recognition\\data\\pre_trained_models\\reid\\dukemtmcreid_resnet50_256_128_epoch_120.ckpt`\n"
     ]
    },
    {
     "name": "stdout",
     "output_type": "stream",
     "text": [
      "2025-03-23 14:41:08 [INFO] \n",
      "2025-03-23 14:41:08 [ERROR] \n",
      "2025-03-23 14:41:08 [INFO] Done removing outliers\n",
      "2025-03-23 14:41:08 [INFO] Running model chain on preprocessed image(s).\n",
      "2025-03-23 14:41:08 [INFO] Classifying legibility of image(s) using pre-trained model.\n",
      "2025-03-23 14:41:08 [WARNING] No soccer ball list found. Skipping exclusion of soccer balls.\n",
      "2025-03-23 14:41:08 [INFO] Path checked: c:\\Users\\colin\\OneDrive\\Desktop\\Jersey-Number-Recognition\\data\\SoccerNet\\jersey-2023\\processed_data\\test\\common_data\\soccer_ball.json\n",
      "2025-03-23 14:41:09 [INFO] Saved features for tracklet with shape (134, 2048) to c:\\Users\\colin\\OneDrive\\Desktop\\Jersey-Number-Recognition\\data\\SoccerNet\\jersey-2023\\processed_data\\test\\279\\features.npy\n",
      "2025-03-23 14:41:09 [INFO] Identifying and removing outliers by calling gaussian_outliers_streamlined.py on feature file\n",
      "2025-03-23 14:41:10 [INFO] \n",
      "2025-03-23 14:41:10 [ERROR] \n",
      "2025-03-23 14:41:10 [INFO] Done removing outliers\n",
      "2025-03-23 14:41:10 [INFO] Running model chain on preprocessed image(s).\n",
      "2025-03-23 14:41:10 [INFO] Classifying legibility of image(s) using pre-trained model.\n",
      "2025-03-23 14:41:10 [WARNING] No soccer ball list found. Skipping exclusion of soccer balls.\n",
      "2025-03-23 14:41:10 [INFO] Path checked: c:\\Users\\colin\\OneDrive\\Desktop\\Jersey-Number-Recognition\\data\\SoccerNet\\jersey-2023\\processed_data\\test\\common_data\\soccer_ball.json\n",
      "2025-03-23 14:41:22 [INFO] Saving legible_tracklets to: c:\\Users\\colin\\OneDrive\\Desktop\\Jersey-Number-Recognition\\data\\SoccerNet\\jersey-2023\\processed_data\\test\\275\\legible_results.json\n",
      "2025-03-23 14:41:22 [INFO] Saved legible_tracklets to: c:\\Users\\colin\\OneDrive\\Desktop\\Jersey-Number-Recognition\\data\\SoccerNet\\jersey-2023\\processed_data\\test\\275\\legible_results.json\n",
      "2025-03-23 14:41:22 [INFO] Saving illegible_tracklets to: c:\\Users\\colin\\OneDrive\\Desktop\\Jersey-Number-Recognition\\data\\SoccerNet\\jersey-2023\\processed_data\\test\\275\\illegible_results.json\n",
      "2025-03-23 14:41:22 [INFO] Saved illegible_tracklets to: c:\\Users\\colin\\OneDrive\\Desktop\\Jersey-Number-Recognition\\data\\SoccerNet\\jersey-2023\\processed_data\\test\\275\\illegible_results.json\n",
      "2025-03-23 14:41:22 [INFO] Legibility classification complete.\n",
      "2025-03-23 14:41:22 [INFO] Determine soccer balls in image(s) using pre-trained model.\n",
      "2025-03-23 14:41:22 [INFO] Processed tracklet: 275\n",
      "2025-03-23 14:41:22 [INFO] Found 0 balls, Ball list: []\n"
     ]
    },
    {
     "name": "stderr",
     "output_type": "stream",
     "text": [
      "Lightning automatically upgraded your loaded checkpoint from v1.1.4 to v2.5.0.post0. To apply the upgrade to your files permanently, run `python -m pytorch_lightning.utilities.upgrade_checkpoint c:\\Users\\colin\\OneDrive\\Desktop\\Jersey-Number-Recognition\\data\\pre_trained_models\\reid\\dukemtmcreid_resnet50_256_128_epoch_120.ckpt`\n"
     ]
    },
    {
     "name": "stdout",
     "output_type": "stream",
     "text": [
      "2025-03-23 14:41:23 [INFO] \n",
      "2025-03-23 14:41:23 [ERROR] \n",
      "2025-03-23 14:41:23 [INFO] Done removing outliers\n",
      "2025-03-23 14:41:23 [INFO] Running model chain on preprocessed image(s).\n",
      "2025-03-23 14:41:23 [INFO] Classifying legibility of image(s) using pre-trained model.\n",
      "2025-03-23 14:41:23 [WARNING] No soccer ball list found. Skipping exclusion of soccer balls.\n",
      "2025-03-23 14:41:23 [INFO] Path checked: c:\\Users\\colin\\OneDrive\\Desktop\\Jersey-Number-Recognition\\data\\SoccerNet\\jersey-2023\\processed_data\\test\\common_data\\soccer_ball.json\n",
      "2025-03-23 14:41:24 [INFO] \n",
      "2025-03-23 14:41:24 [ERROR] \n",
      "2025-03-23 14:41:24 [INFO] Done removing outliers\n",
      "2025-03-23 14:41:24 [INFO] Running model chain on preprocessed image(s).\n",
      "2025-03-23 14:41:24 [INFO] Classifying legibility of image(s) using pre-trained model.\n",
      "2025-03-23 14:41:24 [WARNING] No soccer ball list found. Skipping exclusion of soccer balls.\n",
      "2025-03-23 14:41:24 [INFO] Path checked: c:\\Users\\colin\\OneDrive\\Desktop\\Jersey-Number-Recognition\\data\\SoccerNet\\jersey-2023\\processed_data\\test\\common_data\\soccer_ball.json\n",
      "2025-03-23 14:41:25 [INFO] Saving legible_tracklets to: c:\\Users\\colin\\OneDrive\\Desktop\\Jersey-Number-Recognition\\data\\SoccerNet\\jersey-2023\\processed_data\\test\\276\\legible_results.json\n",
      "2025-03-23 14:41:25 [INFO] Saved legible_tracklets to: c:\\Users\\colin\\OneDrive\\Desktop\\Jersey-Number-Recognition\\data\\SoccerNet\\jersey-2023\\processed_data\\test\\276\\legible_results.json\n",
      "2025-03-23 14:41:25 [INFO] Saving illegible_tracklets to: c:\\Users\\colin\\OneDrive\\Desktop\\Jersey-Number-Recognition\\data\\SoccerNet\\jersey-2023\\processed_data\\test\\276\\illegible_results.json\n",
      "2025-03-23 14:41:25 [INFO] Saved illegible_tracklets to: c:\\Users\\colin\\OneDrive\\Desktop\\Jersey-Number-Recognition\\data\\SoccerNet\\jersey-2023\\processed_data\\test\\276\\illegible_results.json\n",
      "2025-03-23 14:41:25 [INFO] Legibility classification complete.\n",
      "2025-03-23 14:41:25 [INFO] Determine soccer balls in image(s) using pre-trained model.\n",
      "2025-03-23 14:41:25 [INFO] Processed tracklet: 276\n",
      "2025-03-23 14:41:25 [INFO] Found 0 balls, Ball list: []\n",
      "2025-03-23 14:41:26 [INFO] Saved features for tracklet with shape (348, 2048) to c:\\Users\\colin\\OneDrive\\Desktop\\Jersey-Number-Recognition\\data\\SoccerNet\\jersey-2023\\processed_data\\test\\280\\features.npy\n",
      "2025-03-23 14:41:26 [INFO] Identifying and removing outliers by calling gaussian_outliers_streamlined.py on feature file\n"
     ]
    },
    {
     "name": "stderr",
     "output_type": "stream",
     "text": [
      "Lightning automatically upgraded your loaded checkpoint from v1.1.4 to v2.5.0.post0. To apply the upgrade to your files permanently, run `python -m pytorch_lightning.utilities.upgrade_checkpoint c:\\Users\\colin\\OneDrive\\Desktop\\Jersey-Number-Recognition\\data\\pre_trained_models\\reid\\dukemtmcreid_resnet50_256_128_epoch_120.ckpt`\n"
     ]
    },
    {
     "name": "stdout",
     "output_type": "stream",
     "text": [
      "2025-03-23 14:41:27 [INFO] \n",
      "2025-03-23 14:41:27 [ERROR] \n",
      "2025-03-23 14:41:27 [INFO] Done removing outliers\n",
      "2025-03-23 14:41:27 [INFO] Running model chain on preprocessed image(s).\n",
      "2025-03-23 14:41:27 [INFO] Classifying legibility of image(s) using pre-trained model.\n",
      "2025-03-23 14:41:27 [WARNING] No soccer ball list found. Skipping exclusion of soccer balls.\n",
      "2025-03-23 14:41:27 [INFO] Path checked: c:\\Users\\colin\\OneDrive\\Desktop\\Jersey-Number-Recognition\\data\\SoccerNet\\jersey-2023\\processed_data\\test\\common_data\\soccer_ball.json\n",
      "2025-03-23 14:41:30 [INFO] Saved features for tracklet with shape (142, 2048) to c:\\Users\\colin\\OneDrive\\Desktop\\Jersey-Number-Recognition\\data\\SoccerNet\\jersey-2023\\processed_data\\test\\281\\features.npy\n",
      "2025-03-23 14:41:30 [INFO] Identifying and removing outliers by calling gaussian_outliers_streamlined.py on feature file\n",
      "2025-03-23 14:41:30 [INFO] Saving legible_tracklets to: c:\\Users\\colin\\OneDrive\\Desktop\\Jersey-Number-Recognition\\data\\SoccerNet\\jersey-2023\\processed_data\\test\\271\\legible_results.json\n",
      "2025-03-23 14:41:30 [INFO] Saved legible_tracklets to: c:\\Users\\colin\\OneDrive\\Desktop\\Jersey-Number-Recognition\\data\\SoccerNet\\jersey-2023\\processed_data\\test\\271\\legible_results.json\n",
      "2025-03-23 14:41:30 [INFO] Saving illegible_tracklets to: c:\\Users\\colin\\OneDrive\\Desktop\\Jersey-Number-Recognition\\data\\SoccerNet\\jersey-2023\\processed_data\\test\\271\\illegible_results.json\n",
      "2025-03-23 14:41:30 [INFO] Saved illegible_tracklets to: c:\\Users\\colin\\OneDrive\\Desktop\\Jersey-Number-Recognition\\data\\SoccerNet\\jersey-2023\\processed_data\\test\\271\\illegible_results.json\n",
      "2025-03-23 14:41:30 [INFO] Legibility classification complete.\n",
      "2025-03-23 14:41:30 [INFO] Determine soccer balls in image(s) using pre-trained model.\n",
      "2025-03-23 14:41:30 [INFO] Processed tracklet: 271\n",
      "2025-03-23 14:41:30 [INFO] Found 0 balls, Ball list: []\n"
     ]
    },
    {
     "name": "stderr",
     "output_type": "stream",
     "text": [
      "Lightning automatically upgraded your loaded checkpoint from v1.1.4 to v2.5.0.post0. To apply the upgrade to your files permanently, run `python -m pytorch_lightning.utilities.upgrade_checkpoint c:\\Users\\colin\\OneDrive\\Desktop\\Jersey-Number-Recognition\\data\\pre_trained_models\\reid\\dukemtmcreid_resnet50_256_128_epoch_120.ckpt`\n"
     ]
    },
    {
     "name": "stdout",
     "output_type": "stream",
     "text": [
      "2025-03-23 14:41:33 [INFO] Saved features for tracklet with shape (125, 2048) to c:\\Users\\colin\\OneDrive\\Desktop\\Jersey-Number-Recognition\\data\\SoccerNet\\jersey-2023\\processed_data\\test\\282\\features.npy\n",
      "2025-03-23 14:41:33 [INFO] Identifying and removing outliers by calling gaussian_outliers_streamlined.py on feature file\n",
      "2025-03-23 14:41:39 [INFO] Saving legible_tracklets to: c:\\Users\\colin\\OneDrive\\Desktop\\Jersey-Number-Recognition\\data\\SoccerNet\\jersey-2023\\processed_data\\test\\277\\legible_results.json\n",
      "2025-03-23 14:41:39 [INFO] Saved legible_tracklets to: c:\\Users\\colin\\OneDrive\\Desktop\\Jersey-Number-Recognition\\data\\SoccerNet\\jersey-2023\\processed_data\\test\\277\\legible_results.json\n",
      "2025-03-23 14:41:39 [INFO] Saving illegible_tracklets to: c:\\Users\\colin\\OneDrive\\Desktop\\Jersey-Number-Recognition\\data\\SoccerNet\\jersey-2023\\processed_data\\test\\277\\illegible_results.json\n",
      "2025-03-23 14:41:39 [INFO] Saved illegible_tracklets to: c:\\Users\\colin\\OneDrive\\Desktop\\Jersey-Number-Recognition\\data\\SoccerNet\\jersey-2023\\processed_data\\test\\277\\illegible_results.json\n",
      "2025-03-23 14:41:39 [INFO] Legibility classification complete.\n",
      "2025-03-23 14:41:39 [INFO] Determine soccer balls in image(s) using pre-trained model.\n",
      "2025-03-23 14:41:39 [INFO] Processed tracklet: 277\n",
      "2025-03-23 14:41:39 [INFO] Found 0 balls, Ball list: []\n"
     ]
    },
    {
     "name": "stderr",
     "output_type": "stream",
     "text": [
      "Lightning automatically upgraded your loaded checkpoint from v1.1.4 to v2.5.0.post0. To apply the upgrade to your files permanently, run `python -m pytorch_lightning.utilities.upgrade_checkpoint c:\\Users\\colin\\OneDrive\\Desktop\\Jersey-Number-Recognition\\data\\pre_trained_models\\reid\\dukemtmcreid_resnet50_256_128_epoch_120.ckpt`\n"
     ]
    },
    {
     "name": "stdout",
     "output_type": "stream",
     "text": [
      "2025-03-23 14:41:42 [INFO] Saved features for tracklet with shape (84, 2048) to c:\\Users\\colin\\OneDrive\\Desktop\\Jersey-Number-Recognition\\data\\SoccerNet\\jersey-2023\\processed_data\\test\\283\\features.npy\n",
      "2025-03-23 14:41:42 [INFO] Identifying and removing outliers by calling gaussian_outliers_streamlined.py on feature file\n",
      "2025-03-23 14:41:43 [INFO] Saving legible_tracklets to: c:\\Users\\colin\\OneDrive\\Desktop\\Jersey-Number-Recognition\\data\\SoccerNet\\jersey-2023\\processed_data\\test\\278\\legible_results.json\n",
      "2025-03-23 14:41:43 [INFO] Saved legible_tracklets to: c:\\Users\\colin\\OneDrive\\Desktop\\Jersey-Number-Recognition\\data\\SoccerNet\\jersey-2023\\processed_data\\test\\278\\legible_results.json\n",
      "2025-03-23 14:41:43 [INFO] Saving illegible_tracklets to: c:\\Users\\colin\\OneDrive\\Desktop\\Jersey-Number-Recognition\\data\\SoccerNet\\jersey-2023\\processed_data\\test\\278\\illegible_results.json\n",
      "2025-03-23 14:41:43 [INFO] Saved illegible_tracklets to: c:\\Users\\colin\\OneDrive\\Desktop\\Jersey-Number-Recognition\\data\\SoccerNet\\jersey-2023\\processed_data\\test\\278\\illegible_results.json\n",
      "2025-03-23 14:41:43 [INFO] Legibility classification complete.\n",
      "2025-03-23 14:41:43 [INFO] Determine soccer balls in image(s) using pre-trained model.\n",
      "2025-03-23 14:41:43 [INFO] Processed tracklet: 278\n",
      "2025-03-23 14:41:43 [INFO] Found 0 balls, Ball list: []\n"
     ]
    },
    {
     "name": "stderr",
     "output_type": "stream",
     "text": [
      "Lightning automatically upgraded your loaded checkpoint from v1.1.4 to v2.5.0.post0. To apply the upgrade to your files permanently, run `python -m pytorch_lightning.utilities.upgrade_checkpoint c:\\Users\\colin\\OneDrive\\Desktop\\Jersey-Number-Recognition\\data\\pre_trained_models\\reid\\dukemtmcreid_resnet50_256_128_epoch_120.ckpt`\n"
     ]
    },
    {
     "name": "stdout",
     "output_type": "stream",
     "text": [
      "2025-03-23 14:41:43 [INFO] Saving legible_tracklets to: c:\\Users\\colin\\OneDrive\\Desktop\\Jersey-Number-Recognition\\data\\SoccerNet\\jersey-2023\\processed_data\\test\\279\\legible_results.json\n",
      "2025-03-23 14:41:43 [INFO] Saved legible_tracklets to: c:\\Users\\colin\\OneDrive\\Desktop\\Jersey-Number-Recognition\\data\\SoccerNet\\jersey-2023\\processed_data\\test\\279\\legible_results.json\n",
      "2025-03-23 14:41:43 [INFO] Saving illegible_tracklets to: c:\\Users\\colin\\OneDrive\\Desktop\\Jersey-Number-Recognition\\data\\SoccerNet\\jersey-2023\\processed_data\\test\\279\\illegible_results.json\n",
      "2025-03-23 14:41:43 [INFO] Saved illegible_tracklets to: c:\\Users\\colin\\OneDrive\\Desktop\\Jersey-Number-Recognition\\data\\SoccerNet\\jersey-2023\\processed_data\\test\\279\\illegible_results.json\n",
      "2025-03-23 14:41:43 [INFO] Legibility classification complete.\n",
      "2025-03-23 14:41:43 [INFO] Determine soccer balls in image(s) using pre-trained model.\n",
      "2025-03-23 14:41:43 [INFO] Processed tracklet: 279\n",
      "2025-03-23 14:41:43 [INFO] Found 0 balls, Ball list: []\n",
      "2025-03-23 14:41:44 [INFO] Saved features for tracklet with shape (74, 2048) to c:\\Users\\colin\\OneDrive\\Desktop\\Jersey-Number-Recognition\\data\\SoccerNet\\jersey-2023\\processed_data\\test\\284\\features.npy\n",
      "2025-03-23 14:41:44 [INFO] Identifying and removing outliers by calling gaussian_outliers_streamlined.py on feature file\n"
     ]
    },
    {
     "name": "stderr",
     "output_type": "stream",
     "text": [
      "Lightning automatically upgraded your loaded checkpoint from v1.1.4 to v2.5.0.post0. To apply the upgrade to your files permanently, run `python -m pytorch_lightning.utilities.upgrade_checkpoint c:\\Users\\colin\\OneDrive\\Desktop\\Jersey-Number-Recognition\\data\\pre_trained_models\\reid\\dukemtmcreid_resnet50_256_128_epoch_120.ckpt`\n"
     ]
    },
    {
     "name": "stdout",
     "output_type": "stream",
     "text": [
      "2025-03-23 14:41:46 [INFO] Saved features for tracklet with shape (43, 2048) to c:\\Users\\colin\\OneDrive\\Desktop\\Jersey-Number-Recognition\\data\\SoccerNet\\jersey-2023\\processed_data\\test\\285\\features.npy\n",
      "2025-03-23 14:41:46 [INFO] Identifying and removing outliers by calling gaussian_outliers_streamlined.py on feature file\n",
      "2025-03-23 14:41:47 [INFO] \n",
      "2025-03-23 14:41:47 [ERROR] \n",
      "2025-03-23 14:41:47 [INFO] Done removing outliers\n",
      "2025-03-23 14:41:47 [INFO] Running model chain on preprocessed image(s).\n",
      "2025-03-23 14:41:47 [INFO] Classifying legibility of image(s) using pre-trained model.\n",
      "2025-03-23 14:41:47 [WARNING] No soccer ball list found. Skipping exclusion of soccer balls.\n",
      "2025-03-23 14:41:47 [INFO] Path checked: c:\\Users\\colin\\OneDrive\\Desktop\\Jersey-Number-Recognition\\data\\SoccerNet\\jersey-2023\\processed_data\\test\\common_data\\soccer_ball.json\n",
      "2025-03-23 14:41:49 [INFO] \n",
      "2025-03-23 14:41:49 [ERROR] \n",
      "2025-03-23 14:41:49 [INFO] Done removing outliers\n",
      "2025-03-23 14:41:49 [INFO] Running model chain on preprocessed image(s).\n",
      "2025-03-23 14:41:49 [INFO] Classifying legibility of image(s) using pre-trained model.\n",
      "2025-03-23 14:41:49 [WARNING] No soccer ball list found. Skipping exclusion of soccer balls.\n",
      "2025-03-23 14:41:49 [INFO] Path checked: c:\\Users\\colin\\OneDrive\\Desktop\\Jersey-Number-Recognition\\data\\SoccerNet\\jersey-2023\\processed_data\\test\\common_data\\soccer_ball.json\n",
      "2025-03-23 14:41:51 [INFO] \n",
      "2025-03-23 14:41:51 [ERROR] \n",
      "2025-03-23 14:41:51 [INFO] Done removing outliers\n",
      "2025-03-23 14:41:51 [INFO] Running model chain on preprocessed image(s).\n",
      "2025-03-23 14:41:51 [INFO] Classifying legibility of image(s) using pre-trained model.\n",
      "2025-03-23 14:41:51 [WARNING] No soccer ball list found. Skipping exclusion of soccer balls.\n",
      "2025-03-23 14:41:51 [INFO] Path checked: c:\\Users\\colin\\OneDrive\\Desktop\\Jersey-Number-Recognition\\data\\SoccerNet\\jersey-2023\\processed_data\\test\\common_data\\soccer_ball.json\n",
      "2025-03-23 14:42:00 [INFO] \n",
      "2025-03-23 14:42:00 [ERROR] \n",
      "2025-03-23 14:42:00 [INFO] Done removing outliers\n",
      "2025-03-23 14:42:00 [INFO] Running model chain on preprocessed image(s).\n",
      "2025-03-23 14:42:00 [INFO] Classifying legibility of image(s) using pre-trained model.\n",
      "2025-03-23 14:42:00 [WARNING] No soccer ball list found. Skipping exclusion of soccer balls.\n",
      "2025-03-23 14:42:00 [INFO] Path checked: c:\\Users\\colin\\OneDrive\\Desktop\\Jersey-Number-Recognition\\data\\SoccerNet\\jersey-2023\\processed_data\\test\\common_data\\soccer_ball.json\n",
      "2025-03-23 14:42:03 [INFO] Saving legible_tracklets to: c:\\Users\\colin\\OneDrive\\Desktop\\Jersey-Number-Recognition\\data\\SoccerNet\\jersey-2023\\processed_data\\test\\280\\legible_results.json\n",
      "2025-03-23 14:42:03 [INFO] Saved legible_tracklets to: c:\\Users\\colin\\OneDrive\\Desktop\\Jersey-Number-Recognition\\data\\SoccerNet\\jersey-2023\\processed_data\\test\\280\\legible_results.json\n",
      "2025-03-23 14:42:03 [INFO] Saving illegible_tracklets to: c:\\Users\\colin\\OneDrive\\Desktop\\Jersey-Number-Recognition\\data\\SoccerNet\\jersey-2023\\processed_data\\test\\280\\illegible_results.json\n",
      "2025-03-23 14:42:03 [INFO] Saved illegible_tracklets to: c:\\Users\\colin\\OneDrive\\Desktop\\Jersey-Number-Recognition\\data\\SoccerNet\\jersey-2023\\processed_data\\test\\280\\illegible_results.json\n",
      "2025-03-23 14:42:03 [INFO] Legibility classification complete.\n",
      "2025-03-23 14:42:03 [INFO] Determine soccer balls in image(s) using pre-trained model.\n",
      "2025-03-23 14:42:03 [INFO] Processed tracklet: 280\n",
      "2025-03-23 14:42:03 [INFO] Found 0 balls, Ball list: []\n"
     ]
    },
    {
     "name": "stderr",
     "output_type": "stream",
     "text": [
      "Lightning automatically upgraded your loaded checkpoint from v1.1.4 to v2.5.0.post0. To apply the upgrade to your files permanently, run `python -m pytorch_lightning.utilities.upgrade_checkpoint c:\\Users\\colin\\OneDrive\\Desktop\\Jersey-Number-Recognition\\data\\pre_trained_models\\reid\\dukemtmcreid_resnet50_256_128_epoch_120.ckpt`\n"
     ]
    },
    {
     "name": "stdout",
     "output_type": "stream",
     "text": [
      "2025-03-23 14:42:04 [INFO] \n",
      "2025-03-23 14:42:04 [ERROR] \n",
      "2025-03-23 14:42:04 [INFO] Done removing outliers\n",
      "2025-03-23 14:42:04 [INFO] Running model chain on preprocessed image(s).\n",
      "2025-03-23 14:42:04 [INFO] Classifying legibility of image(s) using pre-trained model.\n",
      "2025-03-23 14:42:04 [WARNING] No soccer ball list found. Skipping exclusion of soccer balls.\n",
      "2025-03-23 14:42:04 [INFO] Path checked: c:\\Users\\colin\\OneDrive\\Desktop\\Jersey-Number-Recognition\\data\\SoccerNet\\jersey-2023\\processed_data\\test\\common_data\\soccer_ball.json\n",
      "2025-03-23 14:42:04 [INFO] Saving legible_tracklets to: c:\\Users\\colin\\OneDrive\\Desktop\\Jersey-Number-Recognition\\data\\SoccerNet\\jersey-2023\\processed_data\\test\\281\\legible_results.json\n",
      "2025-03-23 14:42:04 [INFO] Saved legible_tracklets to: c:\\Users\\colin\\OneDrive\\Desktop\\Jersey-Number-Recognition\\data\\SoccerNet\\jersey-2023\\processed_data\\test\\281\\legible_results.json\n",
      "2025-03-23 14:42:04 [INFO] Saving illegible_tracklets to: c:\\Users\\colin\\OneDrive\\Desktop\\Jersey-Number-Recognition\\data\\SoccerNet\\jersey-2023\\processed_data\\test\\281\\illegible_results.json\n",
      "2025-03-23 14:42:04 [INFO] Saved illegible_tracklets to: c:\\Users\\colin\\OneDrive\\Desktop\\Jersey-Number-Recognition\\data\\SoccerNet\\jersey-2023\\processed_data\\test\\281\\illegible_results.json\n",
      "2025-03-23 14:42:04 [INFO] Legibility classification complete.\n",
      "2025-03-23 14:42:04 [INFO] Determine soccer balls in image(s) using pre-trained model.\n",
      "2025-03-23 14:42:04 [INFO] Processed tracklet: 281\n",
      "2025-03-23 14:42:04 [INFO] Found 0 balls, Ball list: []\n",
      "2025-03-23 14:42:06 [INFO] \n",
      "2025-03-23 14:42:06 [ERROR] \n",
      "2025-03-23 14:42:06 [INFO] Done removing outliers\n",
      "2025-03-23 14:42:06 [INFO] Running model chain on preprocessed image(s).\n",
      "2025-03-23 14:42:06 [INFO] Classifying legibility of image(s) using pre-trained model.\n",
      "2025-03-23 14:42:06 [WARNING] No soccer ball list found. Skipping exclusion of soccer balls.\n",
      "2025-03-23 14:42:06 [INFO] Path checked: c:\\Users\\colin\\OneDrive\\Desktop\\Jersey-Number-Recognition\\data\\SoccerNet\\jersey-2023\\processed_data\\test\\common_data\\soccer_ball.json\n",
      "2025-03-23 14:42:08 [INFO] Saving legible_tracklets to: c:\\Users\\colin\\OneDrive\\Desktop\\Jersey-Number-Recognition\\data\\SoccerNet\\jersey-2023\\processed_data\\test\\282\\legible_results.json\n",
      "2025-03-23 14:42:08 [INFO] Saved legible_tracklets to: c:\\Users\\colin\\OneDrive\\Desktop\\Jersey-Number-Recognition\\data\\SoccerNet\\jersey-2023\\processed_data\\test\\282\\legible_results.json\n",
      "2025-03-23 14:42:08 [INFO] Saving illegible_tracklets to: c:\\Users\\colin\\OneDrive\\Desktop\\Jersey-Number-Recognition\\data\\SoccerNet\\jersey-2023\\processed_data\\test\\282\\illegible_results.json\n",
      "2025-03-23 14:42:08 [INFO] Saved illegible_tracklets to: c:\\Users\\colin\\OneDrive\\Desktop\\Jersey-Number-Recognition\\data\\SoccerNet\\jersey-2023\\processed_data\\test\\282\\illegible_results.json\n",
      "2025-03-23 14:42:08 [INFO] Legibility classification complete.\n",
      "2025-03-23 14:42:08 [INFO] Processed tracklet: 282\n",
      "2025-03-23 14:42:08 [INFO] Saved features for tracklet with shape (722, 2048) to c:\\Users\\colin\\OneDrive\\Desktop\\Jersey-Number-Recognition\\data\\SoccerNet\\jersey-2023\\processed_data\\test\\286\\features.npy\n",
      "2025-03-23 14:42:08 [INFO] Identifying and removing outliers by calling gaussian_outliers_streamlined.py on feature file\n"
     ]
    },
    {
     "name": "stderr",
     "output_type": "stream",
     "text": [
      "Lightning automatically upgraded your loaded checkpoint from v1.1.4 to v2.5.0.post0. To apply the upgrade to your files permanently, run `python -m pytorch_lightning.utilities.upgrade_checkpoint c:\\Users\\colin\\OneDrive\\Desktop\\Jersey-Number-Recognition\\data\\pre_trained_models\\reid\\dukemtmcreid_resnet50_256_128_epoch_120.ckpt`\n"
     ]
    },
    {
     "name": "stdout",
     "output_type": "stream",
     "text": [
      "2025-03-23 14:42:11 [INFO] Saved features for tracklet with shape (750, 2048) to c:\\Users\\colin\\OneDrive\\Desktop\\Jersey-Number-Recognition\\data\\SoccerNet\\jersey-2023\\processed_data\\test\\287\\features.npy\n",
      "2025-03-23 14:42:11 [INFO] Identifying and removing outliers by calling gaussian_outliers_streamlined.py on feature file\n",
      "2025-03-23 14:42:17 [INFO] Saving legible_tracklets to: c:\\Users\\colin\\OneDrive\\Desktop\\Jersey-Number-Recognition\\data\\SoccerNet\\jersey-2023\\processed_data\\test\\283\\legible_results.json\n",
      "2025-03-23 14:42:17 [INFO] Saved legible_tracklets to: c:\\Users\\colin\\OneDrive\\Desktop\\Jersey-Number-Recognition\\data\\SoccerNet\\jersey-2023\\processed_data\\test\\283\\legible_results.json\n",
      "2025-03-23 14:42:17 [INFO] Saving illegible_tracklets to: c:\\Users\\colin\\OneDrive\\Desktop\\Jersey-Number-Recognition\\data\\SoccerNet\\jersey-2023\\processed_data\\test\\283\\illegible_results.json\n",
      "2025-03-23 14:42:17 [INFO] Saved illegible_tracklets to: c:\\Users\\colin\\OneDrive\\Desktop\\Jersey-Number-Recognition\\data\\SoccerNet\\jersey-2023\\processed_data\\test\\283\\illegible_results.json\n",
      "2025-03-23 14:42:17 [INFO] Legibility classification complete.\n",
      "2025-03-23 14:42:17 [INFO] Processed tracklet: 283\n",
      "2025-03-23 14:42:20 [INFO] Saving legible_tracklets to: c:\\Users\\colin\\OneDrive\\Desktop\\Jersey-Number-Recognition\\data\\SoccerNet\\jersey-2023\\processed_data\\test\\284\\legible_results.json\n",
      "2025-03-23 14:42:20 [INFO] Saved legible_tracklets to: c:\\Users\\colin\\OneDrive\\Desktop\\Jersey-Number-Recognition\\data\\SoccerNet\\jersey-2023\\processed_data\\test\\284\\legible_results.json\n",
      "2025-03-23 14:42:20 [INFO] Saving illegible_tracklets to: c:\\Users\\colin\\OneDrive\\Desktop\\Jersey-Number-Recognition\\data\\SoccerNet\\jersey-2023\\processed_data\\test\\284\\illegible_results.json\n",
      "2025-03-23 14:42:20 [INFO] Saved illegible_tracklets to: c:\\Users\\colin\\OneDrive\\Desktop\\Jersey-Number-Recognition\\data\\SoccerNet\\jersey-2023\\processed_data\\test\\284\\illegible_results.json\n",
      "2025-03-23 14:42:20 [INFO] Legibility classification complete.\n",
      "2025-03-23 14:42:20 [INFO] Processed tracklet: 284\n",
      "2025-03-23 14:42:22 [INFO] Saving legible_tracklets to: c:\\Users\\colin\\OneDrive\\Desktop\\Jersey-Number-Recognition\\data\\SoccerNet\\jersey-2023\\processed_data\\test\\285\\legible_results.json\n",
      "2025-03-23 14:42:22 [INFO] Saved legible_tracklets to: c:\\Users\\colin\\OneDrive\\Desktop\\Jersey-Number-Recognition\\data\\SoccerNet\\jersey-2023\\processed_data\\test\\285\\legible_results.json\n",
      "2025-03-23 14:42:22 [INFO] Saving illegible_tracklets to: c:\\Users\\colin\\OneDrive\\Desktop\\Jersey-Number-Recognition\\data\\SoccerNet\\jersey-2023\\processed_data\\test\\285\\illegible_results.json\n",
      "2025-03-23 14:42:22 [INFO] Saved illegible_tracklets to: c:\\Users\\colin\\OneDrive\\Desktop\\Jersey-Number-Recognition\\data\\SoccerNet\\jersey-2023\\processed_data\\test\\285\\illegible_results.json\n",
      "2025-03-23 14:42:22 [INFO] Legibility classification complete.\n",
      "2025-03-23 14:42:22 [INFO] Processed tracklet: 285\n",
      "2025-03-23 14:42:25 [INFO] \n",
      "2025-03-23 14:42:25 [ERROR] \n",
      "2025-03-23 14:42:25 [INFO] Done removing outliers\n",
      "2025-03-23 14:42:25 [INFO] Running model chain on preprocessed image(s).\n",
      "2025-03-23 14:42:25 [INFO] Classifying legibility of image(s) using pre-trained model.\n",
      "2025-03-23 14:42:25 [WARNING] No soccer ball list found. Skipping exclusion of soccer balls.\n",
      "2025-03-23 14:42:25 [INFO] Path checked: c:\\Users\\colin\\OneDrive\\Desktop\\Jersey-Number-Recognition\\data\\SoccerNet\\jersey-2023\\processed_data\\test\\common_data\\soccer_ball.json\n",
      "2025-03-23 14:42:27 [INFO] \n",
      "2025-03-23 14:42:27 [ERROR] \n",
      "2025-03-23 14:42:27 [INFO] Done removing outliers\n",
      "2025-03-23 14:42:27 [INFO] Running model chain on preprocessed image(s).\n",
      "2025-03-23 14:42:27 [INFO] Classifying legibility of image(s) using pre-trained model.\n",
      "2025-03-23 14:42:27 [WARNING] No soccer ball list found. Skipping exclusion of soccer balls.\n",
      "2025-03-23 14:42:27 [INFO] Path checked: c:\\Users\\colin\\OneDrive\\Desktop\\Jersey-Number-Recognition\\data\\SoccerNet\\jersey-2023\\processed_data\\test\\common_data\\soccer_ball.json\n",
      "2025-03-23 14:42:48 [INFO] Saving legible_tracklets to: c:\\Users\\colin\\OneDrive\\Desktop\\Jersey-Number-Recognition\\data\\SoccerNet\\jersey-2023\\processed_data\\test\\286\\legible_results.json\n",
      "2025-03-23 14:42:48 [INFO] Saved legible_tracklets to: c:\\Users\\colin\\OneDrive\\Desktop\\Jersey-Number-Recognition\\data\\SoccerNet\\jersey-2023\\processed_data\\test\\286\\legible_results.json\n",
      "2025-03-23 14:42:48 [INFO] Saving illegible_tracklets to: c:\\Users\\colin\\OneDrive\\Desktop\\Jersey-Number-Recognition\\data\\SoccerNet\\jersey-2023\\processed_data\\test\\286\\illegible_results.json\n",
      "2025-03-23 14:42:48 [INFO] Saved illegible_tracklets to: c:\\Users\\colin\\OneDrive\\Desktop\\Jersey-Number-Recognition\\data\\SoccerNet\\jersey-2023\\processed_data\\test\\286\\illegible_results.json\n",
      "2025-03-23 14:42:48 [INFO] Legibility classification complete.\n",
      "2025-03-23 14:42:48 [INFO] Processed tracklet: 286\n",
      "2025-03-23 14:42:50 [INFO] Saving legible_tracklets to: c:\\Users\\colin\\OneDrive\\Desktop\\Jersey-Number-Recognition\\data\\SoccerNet\\jersey-2023\\processed_data\\test\\287\\legible_results.json\n",
      "2025-03-23 14:42:50 [INFO] Saved legible_tracklets to: c:\\Users\\colin\\OneDrive\\Desktop\\Jersey-Number-Recognition\\data\\SoccerNet\\jersey-2023\\processed_data\\test\\287\\legible_results.json\n",
      "2025-03-23 14:42:50 [INFO] Saving illegible_tracklets to: c:\\Users\\colin\\OneDrive\\Desktop\\Jersey-Number-Recognition\\data\\SoccerNet\\jersey-2023\\processed_data\\test\\287\\illegible_results.json\n",
      "2025-03-23 14:42:50 [INFO] Saved illegible_tracklets to: c:\\Users\\colin\\OneDrive\\Desktop\\Jersey-Number-Recognition\\data\\SoccerNet\\jersey-2023\\processed_data\\test\\287\\illegible_results.json\n",
      "2025-03-23 14:42:50 [INFO] Legibility classification complete.\n",
      "2025-03-23 14:42:50 [INFO] Processed tracklet: 287\n",
      "2025-03-23 14:42:50 [INFO] Using double parallelization: multiprocessing + CUDA batch processing.\n"
     ]
    },
    {
     "data": {
      "application/vnd.jupyter.widget-view+json": {
       "model_id": "57efe4d8430a499f88927fa9b94b3e0d",
       "version_major": 2,
       "version_minor": 0
      },
      "text/plain": [
       "Processing tracklets (CUDA + CPU):   0%|          | 0/32 [00:00<?, ?it/s]"
      ]
     },
     "metadata": {},
     "output_type": "display_data"
    },
    {
     "name": "stdout",
     "output_type": "stream",
     "text": [
      "2025-03-23 14:43:22 [INFO] Creating placeholder data files for Soccer Ball Filter.\n",
      "2025-03-23 14:43:22 [INFO] Creating placeholder data files for Legibility Classifier.\n",
      "2025-03-23 14:43:23 [INFO] Determine soccer balls in image(s) using pre-trained model.\n",
      "2025-03-23 14:43:23 [INFO] Determine soccer balls in image(s) using pre-trained model.\n",
      "2025-03-23 14:43:23 [INFO] Determine soccer balls in image(s) using pre-trained model.\n",
      "2025-03-23 14:43:23 [INFO] Determine soccer balls in image(s) using pre-trained model.\n",
      "2025-03-23 14:43:23 [INFO] Determine soccer balls in image(s) using pre-trained model.\n",
      "2025-03-23 14:43:23 [INFO] Determine soccer balls in image(s) using pre-trained model.\n"
     ]
    },
    {
     "data": {
      "application/vnd.jupyter.widget-view+json": {
       "model_id": "9efc2be14e9c4f3294f9b00bbe9337c6",
       "version_major": 2,
       "version_minor": 0
      },
      "text/plain": [
       "Processing Batch Tracklets (288-320):   0%|          | 0/32 [00:00<?, ?it/s]"
      ]
     },
     "metadata": {},
     "output_type": "display_data"
    },
    {
     "name": "stdout",
     "output_type": "stream",
     "text": [
      "2025-03-23 14:43:23 [INFO] Found 0 balls, Ball list: []\n",
      "2025-03-23 14:43:23 [INFO] Found 0 balls, Ball list: []\n",
      "2025-03-23 14:43:23 [INFO] Found 0 balls, Ball list: []\n",
      "2025-03-23 14:43:23 [INFO] Found 0 balls, Ball list: []\n",
      "2025-03-23 14:43:23 [INFO] Found 0 balls, Ball list: []\n",
      "2025-03-23 14:43:23 [INFO] Found 0 balls, Ball list: []\n"
     ]
    },
    {
     "name": "stderr",
     "output_type": "stream",
     "text": [
      "Lightning automatically upgraded your loaded checkpoint from v1.1.4 to v2.5.0.post0. To apply the upgrade to your files permanently, run `python -m pytorch_lightning.utilities.upgrade_checkpoint c:\\Users\\colin\\OneDrive\\Desktop\\Jersey-Number-Recognition\\data\\pre_trained_models\\reid\\dukemtmcreid_resnet50_256_128_epoch_120.ckpt`\n"
     ]
    },
    {
     "name": "stdout",
     "output_type": "stream",
     "text": [
      "2025-03-23 14:43:26 [INFO] Saved features for tracklet with shape (750, 2048) to c:\\Users\\colin\\OneDrive\\Desktop\\Jersey-Number-Recognition\\data\\SoccerNet\\jersey-2023\\processed_data\\test\\288\\features.npy\n",
      "2025-03-23 14:43:26 [INFO] Identifying and removing outliers by calling gaussian_outliers_streamlined.py on feature file\n"
     ]
    },
    {
     "name": "stderr",
     "output_type": "stream",
     "text": [
      "Lightning automatically upgraded your loaded checkpoint from v1.1.4 to v2.5.0.post0. To apply the upgrade to your files permanently, run `python -m pytorch_lightning.utilities.upgrade_checkpoint c:\\Users\\colin\\OneDrive\\Desktop\\Jersey-Number-Recognition\\data\\pre_trained_models\\reid\\dukemtmcreid_resnet50_256_128_epoch_120.ckpt`\n"
     ]
    },
    {
     "name": "stdout",
     "output_type": "stream",
     "text": [
      "2025-03-23 14:43:28 [INFO] Saved features for tracklet with shape (750, 2048) to c:\\Users\\colin\\OneDrive\\Desktop\\Jersey-Number-Recognition\\data\\SoccerNet\\jersey-2023\\processed_data\\test\\289\\features.npy\n",
      "2025-03-23 14:43:28 [INFO] Identifying and removing outliers by calling gaussian_outliers_streamlined.py on feature file\n"
     ]
    },
    {
     "name": "stderr",
     "output_type": "stream",
     "text": [
      "Lightning automatically upgraded your loaded checkpoint from v1.1.4 to v2.5.0.post0. To apply the upgrade to your files permanently, run `python -m pytorch_lightning.utilities.upgrade_checkpoint c:\\Users\\colin\\OneDrive\\Desktop\\Jersey-Number-Recognition\\data\\pre_trained_models\\reid\\dukemtmcreid_resnet50_256_128_epoch_120.ckpt`\n"
     ]
    },
    {
     "name": "stdout",
     "output_type": "stream",
     "text": [
      "2025-03-23 14:43:31 [INFO] Saved features for tracklet with shape (750, 2048) to c:\\Users\\colin\\OneDrive\\Desktop\\Jersey-Number-Recognition\\data\\SoccerNet\\jersey-2023\\processed_data\\test\\292\\features.npy\n",
      "2025-03-23 14:43:31 [INFO] Identifying and removing outliers by calling gaussian_outliers_streamlined.py on feature file\n"
     ]
    },
    {
     "name": "stderr",
     "output_type": "stream",
     "text": [
      "Lightning automatically upgraded your loaded checkpoint from v1.1.4 to v2.5.0.post0. To apply the upgrade to your files permanently, run `python -m pytorch_lightning.utilities.upgrade_checkpoint c:\\Users\\colin\\OneDrive\\Desktop\\Jersey-Number-Recognition\\data\\pre_trained_models\\reid\\dukemtmcreid_resnet50_256_128_epoch_120.ckpt`\n"
     ]
    },
    {
     "name": "stdout",
     "output_type": "stream",
     "text": [
      "2025-03-23 14:43:34 [INFO] Saved features for tracklet with shape (750, 2048) to c:\\Users\\colin\\OneDrive\\Desktop\\Jersey-Number-Recognition\\data\\SoccerNet\\jersey-2023\\processed_data\\test\\291\\features.npy\n",
      "2025-03-23 14:43:34 [INFO] Identifying and removing outliers by calling gaussian_outliers_streamlined.py on feature file\n"
     ]
    },
    {
     "name": "stderr",
     "output_type": "stream",
     "text": [
      "Lightning automatically upgraded your loaded checkpoint from v1.1.4 to v2.5.0.post0. To apply the upgrade to your files permanently, run `python -m pytorch_lightning.utilities.upgrade_checkpoint c:\\Users\\colin\\OneDrive\\Desktop\\Jersey-Number-Recognition\\data\\pre_trained_models\\reid\\dukemtmcreid_resnet50_256_128_epoch_120.ckpt`\n"
     ]
    },
    {
     "name": "stdout",
     "output_type": "stream",
     "text": [
      "2025-03-23 14:43:38 [INFO] Saved features for tracklet with shape (750, 2048) to c:\\Users\\colin\\OneDrive\\Desktop\\Jersey-Number-Recognition\\data\\SoccerNet\\jersey-2023\\processed_data\\test\\293\\features.npy\n",
      "2025-03-23 14:43:38 [INFO] Identifying and removing outliers by calling gaussian_outliers_streamlined.py on feature file\n"
     ]
    },
    {
     "name": "stderr",
     "output_type": "stream",
     "text": [
      "Lightning automatically upgraded your loaded checkpoint from v1.1.4 to v2.5.0.post0. To apply the upgrade to your files permanently, run `python -m pytorch_lightning.utilities.upgrade_checkpoint c:\\Users\\colin\\OneDrive\\Desktop\\Jersey-Number-Recognition\\data\\pre_trained_models\\reid\\dukemtmcreid_resnet50_256_128_epoch_120.ckpt`\n"
     ]
    },
    {
     "name": "stdout",
     "output_type": "stream",
     "text": [
      "2025-03-23 14:43:40 [INFO] \n",
      "2025-03-23 14:43:40 [ERROR] \n",
      "2025-03-23 14:43:40 [INFO] Done removing outliers\n",
      "2025-03-23 14:43:40 [INFO] Running model chain on preprocessed image(s).\n",
      "2025-03-23 14:43:40 [INFO] Classifying legibility of image(s) using pre-trained model.\n",
      "2025-03-23 14:43:40 [WARNING] No soccer ball list found. Skipping exclusion of soccer balls.\n",
      "2025-03-23 14:43:40 [INFO] Path checked: c:\\Users\\colin\\OneDrive\\Desktop\\Jersey-Number-Recognition\\data\\SoccerNet\\jersey-2023\\processed_data\\test\\common_data\\soccer_ball.json\n",
      "2025-03-23 14:43:40 [INFO] \n",
      "2025-03-23 14:43:40 [ERROR] \n",
      "2025-03-23 14:43:40 [INFO] Done removing outliers\n",
      "2025-03-23 14:43:40 [INFO] Running model chain on preprocessed image(s).\n",
      "2025-03-23 14:43:40 [INFO] Classifying legibility of image(s) using pre-trained model.\n",
      "2025-03-23 14:43:40 [WARNING] No soccer ball list found. Skipping exclusion of soccer balls.\n",
      "2025-03-23 14:43:40 [INFO] Path checked: c:\\Users\\colin\\OneDrive\\Desktop\\Jersey-Number-Recognition\\data\\SoccerNet\\jersey-2023\\processed_data\\test\\common_data\\soccer_ball.json\n",
      "2025-03-23 14:43:41 [INFO] Saved features for tracklet with shape (750, 2048) to c:\\Users\\colin\\OneDrive\\Desktop\\Jersey-Number-Recognition\\data\\SoccerNet\\jersey-2023\\processed_data\\test\\290\\features.npy\n",
      "2025-03-23 14:43:42 [INFO] Identifying and removing outliers by calling gaussian_outliers_streamlined.py on feature file\n",
      "2025-03-23 14:43:44 [INFO] \n",
      "2025-03-23 14:43:44 [ERROR] \n",
      "2025-03-23 14:43:44 [INFO] Done removing outliers\n",
      "2025-03-23 14:43:44 [INFO] Running model chain on preprocessed image(s).\n",
      "2025-03-23 14:43:44 [INFO] Classifying legibility of image(s) using pre-trained model.\n",
      "2025-03-23 14:43:44 [WARNING] No soccer ball list found. Skipping exclusion of soccer balls.\n",
      "2025-03-23 14:43:44 [INFO] Path checked: c:\\Users\\colin\\OneDrive\\Desktop\\Jersey-Number-Recognition\\data\\SoccerNet\\jersey-2023\\processed_data\\test\\common_data\\soccer_ball.json\n",
      "2025-03-23 14:43:48 [INFO] \n",
      "2025-03-23 14:43:48 [ERROR] \n",
      "2025-03-23 14:43:48 [INFO] Done removing outliers\n",
      "2025-03-23 14:43:48 [INFO] Running model chain on preprocessed image(s).\n",
      "2025-03-23 14:43:48 [INFO] Classifying legibility of image(s) using pre-trained model.\n",
      "2025-03-23 14:43:48 [WARNING] No soccer ball list found. Skipping exclusion of soccer balls.\n",
      "2025-03-23 14:43:48 [INFO] Path checked: c:\\Users\\colin\\OneDrive\\Desktop\\Jersey-Number-Recognition\\data\\SoccerNet\\jersey-2023\\processed_data\\test\\common_data\\soccer_ball.json\n",
      "2025-03-23 14:43:51 [INFO] \n",
      "2025-03-23 14:43:51 [ERROR] \n",
      "2025-03-23 14:43:51 [INFO] Done removing outliers\n",
      "2025-03-23 14:43:51 [INFO] Running model chain on preprocessed image(s).\n",
      "2025-03-23 14:43:51 [INFO] Classifying legibility of image(s) using pre-trained model.\n",
      "2025-03-23 14:43:51 [WARNING] No soccer ball list found. Skipping exclusion of soccer balls.\n",
      "2025-03-23 14:43:51 [INFO] Path checked: c:\\Users\\colin\\OneDrive\\Desktop\\Jersey-Number-Recognition\\data\\SoccerNet\\jersey-2023\\processed_data\\test\\common_data\\soccer_ball.json\n",
      "2025-03-23 14:43:55 [INFO] \n",
      "2025-03-23 14:43:55 [ERROR] \n",
      "2025-03-23 14:43:55 [INFO] Done removing outliers\n",
      "2025-03-23 14:43:55 [INFO] Running model chain on preprocessed image(s).\n",
      "2025-03-23 14:43:55 [INFO] Classifying legibility of image(s) using pre-trained model.\n",
      "2025-03-23 14:43:55 [WARNING] No soccer ball list found. Skipping exclusion of soccer balls.\n",
      "2025-03-23 14:43:55 [INFO] Path checked: c:\\Users\\colin\\OneDrive\\Desktop\\Jersey-Number-Recognition\\data\\SoccerNet\\jersey-2023\\processed_data\\test\\common_data\\soccer_ball.json\n"
     ]
    }
   ],
   "source": [
    "pipeline.run_soccernet(\n",
    "  run_soccer_ball_filter=True,\n",
    "  generate_features=True,\n",
    "  run_filter=True,\n",
    "  run_legible=True,\n",
    "  run_legible_eval=True,\n",
    "  run_pose=False,\n",
    "  run_crops=False,\n",
    "  run_str=False,\n",
    "  run_combine=False,\n",
    "  run_eval=False)"
   ]
  }
 ],
 "metadata": {
  "kernelspec": {
   "display_name": "UBC",
   "language": "python",
   "name": "python3"
  },
  "language_info": {
   "codemirror_mode": {
    "name": "ipython",
    "version": 3
   },
   "file_extension": ".py",
   "mimetype": "text/x-python",
   "name": "python",
   "nbconvert_exporter": "python",
   "pygments_lexer": "ipython3",
   "version": "3.13.1"
  }
 },
 "nbformat": 4,
 "nbformat_minor": 2
}
