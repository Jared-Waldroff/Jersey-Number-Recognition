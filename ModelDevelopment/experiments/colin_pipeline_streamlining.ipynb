{
 "cells": [
  {
   "cell_type": "markdown",
   "metadata": {},
   "source": [
    "### Quick Run Block"
   ]
  },
  {
   "cell_type": "code",
   "execution_count": 1,
   "metadata": {},
   "outputs": [],
   "source": [
    "# import torch\n",
    "# from pytorch_lightning.callbacks import ModelCheckpoint\n",
    "\n",
    "# # Path to the problematic checkpoint\n",
    "# checkpoint_path = r\"c:\\Users\\colin\\OneDrive\\Desktop\\Jersey-Number-Recognition\\data\\pre_trained_models\\reid\\dukemtmcreid_resnet50_256_128_epoch_120.ckpt\"\n",
    "\n",
    "# # Allow loading of ModelCheckpoint objects (since PyTorch 2.6 blocks this by default)\n",
    "# torch.serialization.add_safe_globals([ModelCheckpoint])\n",
    "\n",
    "# # Load the checkpoint safely\n",
    "# checkpoint = torch.load(checkpoint_path, map_location=\"cpu\", weights_only=False)\n",
    "\n",
    "# # Print out keys to inspect conflicting ones\n",
    "# print(\"Checkpoint keys:\", checkpoint.keys())\n",
    "\n",
    "# # Remove ModelCheckpoint states (if they exist)\n",
    "# keys_to_remove = [key for key in checkpoint.keys() if \"ModelCheckpoint\" in key]\n",
    "# for key in keys_to_remove:\n",
    "#     del checkpoint[key]\n",
    "\n",
    "# # Save the cleaned checkpoint\n",
    "# fixed_checkpoint_path = checkpoint_path.replace(\".ckpt\", \"_fixed.ckpt\")\n",
    "# torch.save(checkpoint, fixed_checkpoint_path)\n",
    "\n",
    "# print(f\"Fixed checkpoint saved to: {fixed_checkpoint_path}\")"
   ]
  },
  {
   "cell_type": "markdown",
   "metadata": {},
   "source": [
    "## Code"
   ]
  },
  {
   "cell_type": "code",
   "execution_count": 2,
   "metadata": {},
   "outputs": [
    {
     "name": "stdout",
     "output_type": "stream",
     "text": [
      "c:\\Users\\colin\\OneDrive\\Desktop\\Jersey-Number-Recognition\n",
      "Current working directory:  c:\\Users\\colin\\OneDrive\\Desktop\\Jersey-Number-Recognition\\ModelDevelopment\\experiments\n"
     ]
    }
   ],
   "source": [
    "import sys\n",
    "from pathlib import Path\n",
    "import os\n",
    "\n",
    "sys.path.append(str(Path.cwd().parent.parent))\n",
    "print(str(Path.cwd().parent.parent))\n",
    "print(\"Current working directory: \", os.getcwd())\n",
    "\n",
    "from ModelDevelopment.CentralPipeline import CentralPipeline\n",
    "from ModelDevelopment.ImageBatchPipeline import ImageBatchPipeline\n",
    "from DataProcessing.DataPreProcessing import DataPaths"
   ]
  },
  {
   "cell_type": "markdown",
   "metadata": {},
   "source": [
    "## Multithreaded Studies Research Findings\n",
    "- ThreadPoolExecutor works best for CentralPipeline pre-processing step (i.e. everything before run_pose)\n",
    "- Time taken to process one batch of 32 tracklets: 251 seconds => (251*32)/3600 = 2.35 hours ETA @ 200 images per batch cap, num_threads = 6x3 = 18\n",
    "- Note on the GPU_SEMAPHORE constant inside ImageFeatureTransformPipeline: this is always capped at 1 so we only offload 1 batch of images to the GPU\n",
    "- Since this gate is capped at 1, we can control the amount of data offloaded to the GPU via the image_batch_size param to CentralPipeline and only that\n",
    "- Since caching is implemented, you can try setting the gate to 2 for even faster results, and if the process crashes, keep restarting with use_cache=True"
   ]
  },
  {
   "cell_type": "code",
   "execution_count": 3,
   "metadata": {},
   "outputs": [
    {
     "name": "stdout",
     "output_type": "stream",
     "text": [
      "2025-03-29 12:53:57 [INFO] DataPreProcessing initialized. Universe of available data paths:\n",
      "2025-03-29 12:53:57 [INFO] ROOT_DATA_DIR: c:\\Users\\colin\\OneDrive\\Desktop\\Jersey-Number-Recognition\\data\\SoccerNet\\jersey-2023\\extracted\n",
      "2025-03-29 12:53:57 [INFO] TEST_DATA_GT: c:\\Users\\colin\\OneDrive\\Desktop\\Jersey-Number-Recognition\\data\\SoccerNet\\jersey-2023\\extracted\\test\\test_gt.json\n",
      "2025-03-29 12:53:57 [INFO] TRAIN_DATA_GT: c:\\Users\\colin\\OneDrive\\Desktop\\Jersey-Number-Recognition\\data\\SoccerNet\\jersey-2023\\extracted\\train\\train_gt.json\n",
      "2025-03-29 12:53:57 [INFO] TEST_DATA_DIR: c:\\Users\\colin\\OneDrive\\Desktop\\Jersey-Number-Recognition\\data\\SoccerNet\\jersey-2023\\extracted\\test\\images\n",
      "2025-03-29 12:53:57 [INFO] TRAIN_DATA_DIR: c:\\Users\\colin\\OneDrive\\Desktop\\Jersey-Number-Recognition\\data\\SoccerNet\\jersey-2023\\extracted\\train\\images\n",
      "2025-03-29 12:53:57 [INFO] CHALLENGE_DATA_DIR: c:\\Users\\colin\\OneDrive\\Desktop\\Jersey-Number-Recognition\\data\\SoccerNet\\jersey-2023\\extracted\\challenge\\images\n",
      "2025-03-29 12:53:57 [INFO] PRE_TRAINED_MODELS_DIR: c:\\Users\\colin\\OneDrive\\Desktop\\Jersey-Number-Recognition\\data\\pre_trained_models\n",
      "2025-03-29 12:53:57 [INFO] REID_PRE_TRAINED: c:\\Users\\colin\\OneDrive\\Desktop\\Jersey-Number-Recognition\\data\\pre_trained_models\\reid\n",
      "2025-03-29 12:53:57 [INFO] STR_PRE_TRAINED: c:\\Users\\colin\\OneDrive\\Desktop\\Jersey-Number-Recognition\\data\\pre_trained_models\\str\n",
      "2025-03-29 12:53:57 [INFO] STR_MODEL: c:\\Users\\colin\\OneDrive\\Desktop\\Jersey-Number-Recognition\\data\\pre_trained_models\\str\\parseq_epoch=24-step=2575-val_accuracy=95.6044-val_NED=96.3255.ckpt\n",
      "2025-03-29 12:53:57 [INFO] REID_MODEL_1: c:\\Users\\colin\\OneDrive\\Desktop\\Jersey-Number-Recognition\\data\\pre_trained_models\\reid\\dukemtmcreid_resnet50_256_128_epoch_120.ckpt\n",
      "2025-03-29 12:53:57 [INFO] REID_MODEL_2: c:\\Users\\colin\\OneDrive\\Desktop\\Jersey-Number-Recognition\\data\\pre_trained_models\\reid\\market1501_resnet50_256_128_epoch_120.ckpt\n",
      "2025-03-29 12:53:57 [INFO] REID_CONFIG_YAML: c:\\Users\\colin\\OneDrive\\Desktop\\Jersey-Number-Recognition\\data\\pre_trained_models\\reid\\configs\\256_resnet50.yml\n",
      "2025-03-29 12:53:57 [INFO] RESNET_MODEL: c:\\Users\\colin\\OneDrive\\Desktop\\Jersey-Number-Recognition\\data\\pre_trained_models\\resnet\\legibility_resnet34_soccer_20240215.pth\n",
      "2025-03-29 12:53:57 [INFO] PROCESSED_DATA_OUTPUT_DIR: c:\\Users\\colin\\OneDrive\\Desktop\\Jersey-Number-Recognition\\data\\SoccerNet\\jersey-2023\\processed_data\n",
      "2025-03-29 12:53:57 [INFO] PROCESSED_DATA_OUTPUT_DIR_TRAIN: c:\\Users\\colin\\OneDrive\\Desktop\\Jersey-Number-Recognition\\data\\SoccerNet\\jersey-2023\\processed_data\\train\n",
      "2025-03-29 12:53:57 [INFO] PROCESSED_DATA_OUTPUT_DIR_TEST: c:\\Users\\colin\\OneDrive\\Desktop\\Jersey-Number-Recognition\\data\\SoccerNet\\jersey-2023\\processed_data\\test\n",
      "2025-03-29 12:53:57 [INFO] PROCESSED_DATA_OUTPUT_DIR_CHALLENGE: c:\\Users\\colin\\OneDrive\\Desktop\\Jersey-Number-Recognition\\data\\SoccerNet\\jersey-2023\\processed_data\\challenge\n",
      "2025-03-29 12:53:57 [INFO] COMMON_PROCESSED_OUTPUT_DATA_TRAIN: c:\\Users\\colin\\OneDrive\\Desktop\\Jersey-Number-Recognition\\data\\SoccerNet\\jersey-2023\\processed_data\\train\\common_data\n",
      "2025-03-29 12:53:57 [INFO] COMMON_PROCESSED_OUTPUT_DATA_TEST: c:\\Users\\colin\\OneDrive\\Desktop\\Jersey-Number-Recognition\\data\\SoccerNet\\jersey-2023\\processed_data\\test\\common_data\n",
      "2025-03-29 12:53:57 [INFO] COMMON_PROCESSED_OUTPUT_DATA_CHALLENGE: c:\\Users\\colin\\OneDrive\\Desktop\\Jersey-Number-Recognition\\data\\SoccerNet\\jersey-2023\\processed_data\\challenge\\common_data\n",
      "2025-03-29 12:53:57 [INFO] STREAMLINED_PIPELINE: c:\\Users\\colin\\OneDrive\\Desktop\\Jersey-Number-Recognition\\StreamlinedPipelineScripts\n",
      "2025-03-29 12:53:57 [INFO] ['0', '1', '2', '3', '4', '5', '6', '7', '8', '9']\n",
      "2025-03-29 12:53:57 [INFO] Min tracklet: 0\n",
      "2025-03-29 12:53:57 [INFO] Max tracklet: 1210\n",
      "2025-03-29 12:53:57 [INFO] Using device: cuda\n",
      "2025-03-29 12:53:57 [INFO] ['0', '1', '2', '3', '4', '5', '6', '7', '8', '9']\n",
      "2025-03-29 12:53:57 [INFO] Min tracklet: 0\n",
      "2025-03-29 12:53:57 [INFO] Max tracklet: 1210\n"
     ]
    }
   ],
   "source": [
    "pipeline = CentralPipeline(\n",
    "  #tracklets_to_process_override=[\"1210\"],\n",
    "  num_tracklets=1210,\n",
    "  #num_images_per_tracklet=50,\n",
    "  input_data_path=DataPaths.TEST_DATA_DIR.value,\n",
    "  output_processed_data_path=DataPaths.PROCESSED_DATA_OUTPUT_DIR_TEST.value,\n",
    "  common_processed_data_dir=DataPaths.COMMON_PROCESSED_OUTPUT_DATA_TEST.value,\n",
    "  gt_data_path=DataPaths.TEST_DATA_GT.value,\n",
    "  display_transformed_image_sample=False, # NOTE: DO NOT USE. Code is parallelized so we cannot show images anymore. Code breaks, but first one will show if True.\n",
    "  num_image_samples=1,\n",
    "  use_cache=False, # Set to false to rebuild the cache\n",
    "  suppress_logging=False,\n",
    "  \n",
    "  # --- PARALLELIZATION PARAMS --- These settings are optimal for an NVIDIA RTX 3070 Ti Laptop GPU.\n",
    "  num_workers=2,            # CRITICAL optimisation param. Adjust accordingly. 6\n",
    "  tracklet_batch_size=32,   # CRITICAL optimisation param. Adjust accordingly. 32\n",
    "  image_batch_size=100,     # CRITICAL optimisation param. Adjust accordingly. 200\n",
    "  num_threads_multiplier=10  # CRITICAL optimisation param. Adjust accordingly. 3. Interpretation: num_threads = num_workers * num_threads_multiplier\n",
    "  )"
   ]
  },
  {
   "cell_type": "markdown",
   "metadata": {},
   "source": [
    "### To Do\n",
    "- Investigate why last tracklet is not generated (1210 is skipped, probably something to do with batching)"
   ]
  },
  {
   "cell_type": "code",
   "execution_count": null,
   "metadata": {},
   "outputs": [
    {
     "name": "stdout",
     "output_type": "stream",
     "text": [
      "2025-03-29 12:53:57 [INFO] Running the SoccerNet pipeline.\n",
      "2025-03-29 12:53:57 [INFO] Generating json for pose\n",
      "2025-03-29 12:53:57 [INFO] Aggregating legible & illegible results (cache not used or only one file is missing).\n",
      "2025-03-29 12:53:57 [INFO] Saved global legible results to: c:\\Users\\colin\\OneDrive\\Desktop\\Jersey-Number-Recognition\\data\\SoccerNet\\jersey-2023\\processed_data\\test\\common_data\\legible_results.json\n",
      "2025-03-29 12:53:57 [INFO] Saved global illegible results to: c:\\Users\\colin\\OneDrive\\Desktop\\Jersey-Number-Recognition\\data\\SoccerNet\\jersey-2023\\processed_data\\test\\common_data\\illegible_results.json\n",
      "2025-03-29 12:53:57 [INFO] Legible  tracklets list: 0, 1, 2, 5, 6, 7, 8, 9, 10, 11, 12, 13, 14, 15, 16, 17, 18, 26, 27, 28, 30, 31, 32, 33, 35, 36, 37, 39, 42, 43, 44, 45, 46, 48, 52, 54, 55, 56, 58, 59, 60, 61, 62, 63, 64, 65, 66, 69, 70, 72, 73, 77, 80, 83, 84, 86, 87, 89, 91, 92, 93, 94, 95, 96, 97, 98, 99, 100, 101, 102, 103, 105, 106, 107, 111, 112, 113, 114, 115, 116, 120, 123, 125, 126, 127, 131, 132, 133, 134, 135, 136, 137, 138, 139, 140, 141, 142, 143, 144, 145, 146, 148, 149, 150, 152, 153, 154, 156, 157, 159, 160, 161, 162, 163, 164, 166, 167, 168, 169, 170, 171, 172, 173, 179, 180, 181, 185, 186, 187, 188, 190, 191, 192, 193, 197, 198, 199, 201, 202, 203, 204, 205, 206, 207, 208, 209, 210, 212, 213, 215, 219, 220, 221, 222, 223, 227, 228, 229, 232, 236, 237, 238, 239, 244, 245, 246, 247, 248, 249, 250, 251, 252, 253, 254, 256, 260, 261, 263, 264, 266, 267, 268, 269, 272, 273, 275, 276, 278, 280, 281, 288, 289, 290, 295, 296, 298, 299, 300, 301, 305, 308, 309, 310, 311, 313, 314, 315, 316, 317, 318, 321, 322, 323, 325, 328, 329, 330, 331, 332, 333, 338, 339, 340, 341, 343, 344, 345, 346, 347, 348, 349, 350, 353, 355, 357, 358, 359, 360, 361, 362, 363, 364, 365, 366, 367, 368, 369, 371, 374, 377, 380, 381, 382, 383, 384, 385, 386, 387, 388, 389, 390, 391, 393, 394, 397, 398, 399, 403, 404, 405, 406, 407, 408, 410, 411, 412, 413, 418, 420, 422, 423, 424, 426, 427, 428, 429, 430, 434, 435, 436, 437, 440, 442, 443, 445, 446, 448, 449, 452, 455, 456, 457, 458, 459, 460, 461, 464, 470, 471, 473, 474, 475, 476, 478, 479, 480, 481, 483, 484, 485, 486, 488, 489, 490, 491, 492, 493, 494, 495, 496, 497, 498, 500, 501, 502, 503, 506, 508, 509, 510, 512, 514, 515, 516, 517, 518, 519, 521, 522, 523, 524, 525, 532, 536, 537, 538, 540, 541, 543, 544, 545, 546, 547, 548, 549, 550, 552, 553, 555, 556, 557, 558, 559, 560, 561, 563, 564, 565, 568, 569, 570, 571, 572, 573, 574, 578, 579, 580, 581, 582, 583, 584, 585, 586, 588, 589, 590, 591, 593, 595, 596, 597, 598, 599, 600, 601, 602, 603, 604, 605, 606, 608, 609, 610, 611, 612, 613, 614, 615, 616, 617, 618, 625, 626, 627, 628, 631, 634, 635, 636, 637, 638, 639, 640, 641, 642, 643, 644, 645, 648, 649, 650, 651, 652, 654, 655, 656, 657, 658, 659, 660, 661, 662, 663, 664, 665, 667, 668, 670, 671, 672, 673, 674, 675, 676, 677, 678, 679, 680, 683, 684, 685, 686, 688, 689, 691, 692, 693, 694, 695, 696, 697, 698, 699, 700, 701, 702, 703, 704, 705, 706, 707, 710, 712, 713, 714, 716, 718, 719, 720, 721, 722, 723, 724, 725, 726, 727, 728, 729, 730, 731, 732, 733, 734, 735, 741, 742, 744, 745, 746, 748, 749, 750, 754, 755, 759, 761, 762, 764, 765, 768, 769, 770, 775, 777, 780, 781, 785, 787, 789, 790, 793, 794, 797, 798, 799, 801, 802, 803, 804, 805, 806, 808, 809, 810, 811, 812, 813, 814, 815, 816, 817, 818, 819, 820, 821, 824, 825, 826, 827, 828, 829, 830, 833, 834, 835, 836, 837, 838, 839, 844, 845, 846, 854, 855, 857, 858, 859, 860, 861, 863, 864, 867, 869, 870, 872, 873, 874, 876, 877, 878, 879, 880, 881, 882, 883, 884, 885, 886, 887, 888, 889, 890, 891, 893, 894, 895, 897, 899, 903, 905, 906, 908, 909, 910, 911, 913, 914, 915, 916, 917, 918, 921, 922, 923, 924, 925, 926, 927, 930, 931, 932, 933, 934, 935, 936, 940, 941, 943, 945, 946, 947, 948, 949, 952, 954, 955, 956, 957, 962, 963, 964, 965, 967, 969, 970, 971, 972, 973, 974, 975, 977, 978, 979, 980, 981, 982, 985, 986, 987, 988, 991, 994, 996, 997, 999, 1000, 1001, 1002, 1006, 1007, 1008, 1009, 1012, 1013, 1014, 1015, 1016, 1019, 1021, 1022, 1023, 1024, 1025, 1026, 1027, 1029, 1030, 1031, 1032, 1033, 1035, 1036, 1041, 1042, 1043, 1046, 1047, 1048, 1049, 1050, 1051, 1052, 1054, 1055, 1056, 1057, 1058, 1060, 1061, 1062, 1065, 1066, 1068, 1071, 1072, 1073, 1074, 1075, 1076, 1078, 1079, 1080, 1083, 1084, 1085, 1087, 1088, 1089, 1092, 1093, 1094, 1095, 1096, 1097, 1098, 1099, 1102, 1104, 1105, 1107, 1108, 1109, 1110, 1111, 1112, 1113, 1114, 1115, 1116, 1117, 1118, 1119, 1120, 1121, 1122, 1124, 1125, 1127, 1128, 1129, 1135, 1136, 1139, 1140, 1142, 1143, 1144, 1145, 1146, 1147, 1148, 1149, 1150, 1151, 1154, 1155, 1156, 1161, 1162, 1164, 1166, 1168, 1169, 1170, 1172, 1173, 1174, 1175, 1176, 1177, 1178, 1179, 1180, 1181, 1182, 1183, 1184, 1185, 1187, 1191, 1192, 1193, 1195, 1196, 1197, 1198, 1200, 1201, 1202, 1203, 1204, 1205, 1207, 1208, 1209\n"
     ]
    },
    {
     "data": {
      "application/vnd.jupyter.widget-view+json": {
       "model_id": "99f69b86e755422981ff88c4a2cae3ad",
       "version_major": 2,
       "version_minor": 0
      },
      "text/plain": [
       "Generating pose JSON:   0%|          | 0/1210 [00:00<?, ?it/s]"
      ]
     },
     "metadata": {},
     "output_type": "display_data"
    },
    {
     "name": "stdout",
     "output_type": "stream",
     "text": [
      "2025-03-29 12:54:10 [INFO] Completed generating JSON for pose\n",
      "2025-03-29 12:54:10 [INFO] Detecting pose\n",
      "2025-03-29 12:54:10 [INFO] Legible tracklets list: 0, 1, 2, 5, 6, 7, 8, 9, 10, 11, 12, 13, 14, 15, 16, 17, 18, 26, 27, 28, 30, 31, 32, 33, 35, 36, 37, 39, 42, 43, 44, 45, 46, 48, 52, 54, 55, 56, 58, 59, 60, 61, 62, 63, 64, 65, 66, 69, 70, 72, 73, 77, 80, 83, 84, 86, 87, 89, 91, 92, 93, 94, 95, 96, 97, 98, 99, 100, 101, 102, 103, 105, 106, 107, 111, 112, 113, 114, 115, 116, 120, 123, 125, 126, 127, 131, 132, 133, 134, 135, 136, 137, 138, 139, 140, 141, 142, 143, 144, 145, 146, 148, 149, 150, 152, 153, 154, 156, 157, 159, 160, 161, 162, 163, 164, 166, 167, 168, 169, 170, 171, 172, 173, 179, 180, 181, 185, 186, 187, 188, 190, 191, 192, 193, 197, 198, 199, 201, 202, 203, 204, 205, 206, 207, 208, 209, 210, 212, 213, 215, 219, 220, 221, 222, 223, 227, 228, 229, 232, 236, 237, 238, 239, 244, 245, 246, 247, 248, 249, 250, 251, 252, 253, 254, 256, 260, 261, 263, 264, 266, 267, 268, 269, 272, 273, 275, 276, 278, 280, 281, 288, 289, 290, 295, 296, 298, 299, 300, 301, 305, 308, 309, 310, 311, 313, 314, 315, 316, 317, 318, 321, 322, 323, 325, 328, 329, 330, 331, 332, 333, 338, 339, 340, 341, 343, 344, 345, 346, 347, 348, 349, 350, 353, 355, 357, 358, 359, 360, 361, 362, 363, 364, 365, 366, 367, 368, 369, 371, 374, 377, 380, 381, 382, 383, 384, 385, 386, 387, 388, 389, 390, 391, 393, 394, 397, 398, 399, 403, 404, 405, 406, 407, 408, 410, 411, 412, 413, 418, 420, 422, 423, 424, 426, 427, 428, 429, 430, 434, 435, 436, 437, 440, 442, 443, 445, 446, 448, 449, 452, 455, 456, 457, 458, 459, 460, 461, 464, 470, 471, 473, 474, 475, 476, 478, 479, 480, 481, 483, 484, 485, 486, 488, 489, 490, 491, 492, 493, 494, 495, 496, 497, 498, 500, 501, 502, 503, 506, 508, 509, 510, 512, 514, 515, 516, 517, 518, 519, 521, 522, 523, 524, 525, 532, 536, 537, 538, 540, 541, 543, 544, 545, 546, 547, 548, 549, 550, 552, 553, 555, 556, 557, 558, 559, 560, 561, 563, 564, 565, 568, 569, 570, 571, 572, 573, 574, 578, 579, 580, 581, 582, 583, 584, 585, 586, 588, 589, 590, 591, 593, 595, 596, 597, 598, 599, 600, 601, 602, 603, 604, 605, 606, 608, 609, 610, 611, 612, 613, 614, 615, 616, 617, 618, 625, 626, 627, 628, 631, 634, 635, 636, 637, 638, 639, 640, 641, 642, 643, 644, 645, 648, 649, 650, 651, 652, 654, 655, 656, 657, 658, 659, 660, 661, 662, 663, 664, 665, 667, 668, 670, 671, 672, 673, 674, 675, 676, 677, 678, 679, 680, 683, 684, 685, 686, 688, 689, 691, 692, 693, 694, 695, 696, 697, 698, 699, 700, 701, 702, 703, 704, 705, 706, 707, 710, 712, 713, 714, 716, 718, 719, 720, 721, 722, 723, 724, 725, 726, 727, 728, 729, 730, 731, 732, 733, 734, 735, 741, 742, 744, 745, 746, 748, 749, 750, 754, 755, 759, 761, 762, 764, 765, 768, 769, 770, 775, 777, 780, 781, 785, 787, 789, 790, 793, 794, 797, 798, 799, 801, 802, 803, 804, 805, 806, 808, 809, 810, 811, 812, 813, 814, 815, 816, 817, 818, 819, 820, 821, 824, 825, 826, 827, 828, 829, 830, 833, 834, 835, 836, 837, 838, 839, 844, 845, 846, 854, 855, 857, 858, 859, 860, 861, 863, 864, 867, 869, 870, 872, 873, 874, 876, 877, 878, 879, 880, 881, 882, 883, 884, 885, 886, 887, 888, 889, 890, 891, 893, 894, 895, 897, 899, 903, 905, 906, 908, 909, 910, 911, 913, 914, 915, 916, 917, 918, 921, 922, 923, 924, 925, 926, 927, 930, 931, 932, 933, 934, 935, 936, 940, 941, 943, 945, 946, 947, 948, 949, 952, 954, 955, 956, 957, 962, 963, 964, 965, 967, 969, 970, 971, 972, 973, 974, 975, 977, 978, 979, 980, 981, 982, 985, 986, 987, 988, 991, 994, 996, 997, 999, 1000, 1001, 1002, 1006, 1007, 1008, 1009, 1012, 1013, 1014, 1015, 1016, 1019, 1021, 1022, 1023, 1024, 1025, 1026, 1027, 1029, 1030, 1031, 1032, 1033, 1035, 1036, 1041, 1042, 1043, 1046, 1047, 1048, 1049, 1050, 1051, 1052, 1054, 1055, 1056, 1057, 1058, 1060, 1061, 1062, 1065, 1066, 1068, 1071, 1072, 1073, 1074, 1075, 1076, 1078, 1079, 1080, 1083, 1084, 1085, 1087, 1088, 1089, 1092, 1093, 1094, 1095, 1096, 1097, 1098, 1099, 1102, 1104, 1105, 1107, 1108, 1109, 1110, 1111, 1112, 1113, 1114, 1115, 1116, 1117, 1118, 1119, 1120, 1121, 1122, 1124, 1125, 1127, 1128, 1129, 1135, 1136, 1139, 1140, 1142, 1143, 1144, 1145, 1146, 1147, 1148, 1149, 1150, 1151, 1154, 1155, 1156, 1161, 1162, 1164, 1166, 1168, 1169, 1170, 1172, 1173, 1174, 1175, 1176, 1177, 1178, 1179, 1180, 1181, 1182, 1183, 1184, 1185, 1187, 1191, 1192, 1193, 1195, 1196, 1197, 1198, 1200, 1201, 1202, 1203, 1204, 1205, 1207, 1208, 1209\n",
      "2025-03-29 12:54:10 [INFO] Running pose estimation with multiprocessing using 2 workers\n",
      "2025-03-29 12:54:10 [INFO] Worker called for tracklet: 0\n",
      "2025-03-29 12:54:10 [INFO] Worker called for tracklet: 1\n",
      "2025-03-29 12:54:10 [INFO] Using conda run for pose estimation\n"
     ]
    },
    {
     "data": {
      "application/vnd.jupyter.widget-view+json": {
       "model_id": "df49352b2c4c41d6b523e4b554fac3ea",
       "version_major": 2,
       "version_minor": 0
      },
      "text/plain": [
       "Running pose estimation:   0%|          | 0/836 [00:00<?, ?it/s]"
      ]
     },
     "metadata": {},
     "output_type": "display_data"
    },
    {
     "name": "stdout",
     "output_type": "stream",
     "text": [
      "2025-03-29 12:54:10 [INFO] Using conda run for pose estimation\n",
      "2025-03-29 12:54:10 [INFO] [0] Running command: conda run -n vitpose python -u c:\\Users\\colin\\OneDrive\\Desktop\\Jersey-Number-Recognition\\StreamlinedPipelineScripts\\pose.py c:\\Users\\colin\\OneDrive\\Desktop\\Jersey-Number-Recognition\\pose\\ViTPose\\configs\\body\\2d_kpt_sview_rgb_img\\topdown_heatmap\\coco\\ViTPose_huge_coco_256x192.py c:\\Users\\colin\\OneDrive\\Desktop\\Jersey-Number-Recognition\\pose\\ViTPose\\checkpoints\\vitpose-h.pth --img-root / --json-file c:\\Users\\colin\\OneDrive\\Desktop\\Jersey-Number-Recognition\\data\\SoccerNet\\jersey-2023\\processed_data\\test\\0\\pose_input.json --out-json c:\\Users\\colin\\OneDrive\\Desktop\\Jersey-Number-Recognition\\data\\SoccerNet\\jersey-2023\\processed_data\\test\\0\\pose_results.json --image-batch-size 100\n",
      "2025-03-29 12:54:10 [INFO] [1] Running command: conda run -n vitpose python -u c:\\Users\\colin\\OneDrive\\Desktop\\Jersey-Number-Recognition\\StreamlinedPipelineScripts\\pose.py c:\\Users\\colin\\OneDrive\\Desktop\\Jersey-Number-Recognition\\pose\\ViTPose\\configs\\body\\2d_kpt_sview_rgb_img\\topdown_heatmap\\coco\\ViTPose_huge_coco_256x192.py c:\\Users\\colin\\OneDrive\\Desktop\\Jersey-Number-Recognition\\pose\\ViTPose\\checkpoints\\vitpose-h.pth --img-root / --json-file c:\\Users\\colin\\OneDrive\\Desktop\\Jersey-Number-Recognition\\data\\SoccerNet\\jersey-2023\\processed_data\\test\\1\\pose_input.json --out-json c:\\Users\\colin\\OneDrive\\Desktop\\Jersey-Number-Recognition\\data\\SoccerNet\\jersey-2023\\processed_data\\test\\1\\pose_results.json --image-batch-size 100\n",
      "2025-03-29 12:55:20 [INFO] [0] (prextcoco) Current working directory: c:\\Users\\colin\\OneDrive\\Desktop\\Jersey-Number-Recognition\\pose\\ViTPose\n",
      "2025-03-29 12:55:20 [INFO] [0] Current working directory:  c:\\Users\\colin\\OneDrive\\Desktop\\Jersey-Number-Recognition\\pose\\ViTPose\n",
      "2025-03-29 12:55:20 [INFO] [0] loading annotations into memory...\n",
      "2025-03-29 12:55:20 [INFO] [0] Done (t=0.00s)\n",
      "2025-03-29 12:55:20 [INFO] [0] creating index...\n",
      "2025-03-29 12:55:20 [INFO] [0] index created!\n",
      "2025-03-29 12:55:20 [INFO] [0] load checkpoint from local path: c:\\Users\\colin\\OneDrive\\Desktop\\Jersey-Number-Recognition\\pose\\ViTPose\\checkpoints\\vitpose-h.pth\n",
      "2025-03-29 12:55:20 [INFO] [0] 2025-03-29 12:55:19 [INFO] Wrote pose results to file: c:\\Users\\colin\\OneDrive\\Desktop\\Jersey-Number-Recognition\\data\\SoccerNet\\jersey-2023\\processed_data\\test\\0\\pose_results.json\n",
      "2025-03-29 12:55:20 [INFO] [0] \n",
      "2025-03-29 12:55:20 [INFO] [0] C:\\Users\\colin\\miniconda3\\envs\\vitpose\\lib\\site-packages\\mmcv\\runner\\checkpoint.py:302: FutureWarning: You are using `torch.load` with `weights_only=False` (the current default value), which uses the default pickle module implicitly. It is possible to construct malicious pickle data which will execute arbitrary code during unpickling (See https://github.com/pytorch/pytorch/blob/main/SECURITY.md#untrusted-models for more details). In a future release, the default value for `weights_only` will be flipped to `True`. This limits the functions that could be executed during unpickling. Arbitrary objects will no longer be allowed to be loaded via this mode unless they are explicitly allowlisted by the user via `torch.serialization.add_safe_globals`. We recommend you start setting `weights_only=True` for any use case where you don't have full control of the loaded file. Please open an issue on GitHub for any issues related to this experimental feature.\n",
      "2025-03-29 12:55:20 [INFO] [0] checkpoint = torch.load(filename, map_location=map_location)\n",
      "2025-03-29 12:55:20 [INFO] [0] \n",
      "2025-03-29 12:55:20 [INFO] [0] Processing batches:   0%|          | 0/2 [00:00<?, ?it/s]\n",
      "2025-03-29 12:55:20 [INFO] [0] Processing batches:  50%|█████     | 1/2 [00:28<00:28, 28.71s/it]\n",
      "2025-03-29 12:55:20 [INFO] [0] Processing batches: 100%|██████████| 2/2 [00:51<00:00, 24.99s/it]\n",
      "2025-03-29 12:55:20 [INFO] [0] Processing batches: 100%|██████████| 2/2 [00:51<00:00, 25.54s/it]\n",
      "2025-03-29 12:55:20 [INFO] [0] \n",
      "2025-03-29 12:55:20 [INFO] Worker called for tracklet: 2\n",
      "2025-03-29 12:55:20 [INFO] Using conda run for pose estimation\n",
      "2025-03-29 12:55:20 [INFO] [2] Running command: conda run -n vitpose python -u c:\\Users\\colin\\OneDrive\\Desktop\\Jersey-Number-Recognition\\StreamlinedPipelineScripts\\pose.py c:\\Users\\colin\\OneDrive\\Desktop\\Jersey-Number-Recognition\\pose\\ViTPose\\configs\\body\\2d_kpt_sview_rgb_img\\topdown_heatmap\\coco\\ViTPose_huge_coco_256x192.py c:\\Users\\colin\\OneDrive\\Desktop\\Jersey-Number-Recognition\\pose\\ViTPose\\checkpoints\\vitpose-h.pth --img-root / --json-file c:\\Users\\colin\\OneDrive\\Desktop\\Jersey-Number-Recognition\\data\\SoccerNet\\jersey-2023\\processed_data\\test\\2\\pose_input.json --out-json c:\\Users\\colin\\OneDrive\\Desktop\\Jersey-Number-Recognition\\data\\SoccerNet\\jersey-2023\\processed_data\\test\\2\\pose_results.json --image-batch-size 100\n",
      "2025-03-29 12:55:43 [INFO] [1] (prextcoco) Current working directory: c:\\Users\\colin\\OneDrive\\Desktop\\Jersey-Number-Recognition\\pose\\ViTPose\n",
      "2025-03-29 12:55:43 [INFO] [1] Current working directory:  c:\\Users\\colin\\OneDrive\\Desktop\\Jersey-Number-Recognition\\pose\\ViTPose\n",
      "2025-03-29 12:55:43 [INFO] [1] loading annotations into memory...\n",
      "2025-03-29 12:55:43 [INFO] [1] Done (t=0.00s)\n",
      "2025-03-29 12:55:43 [INFO] [1] creating index...\n",
      "2025-03-29 12:55:43 [INFO] [1] index created!\n",
      "2025-03-29 12:55:43 [INFO] [1] load checkpoint from local path: c:\\Users\\colin\\OneDrive\\Desktop\\Jersey-Number-Recognition\\pose\\ViTPose\\checkpoints\\vitpose-h.pth\n",
      "2025-03-29 12:55:43 [INFO] [1] 2025-03-29 12:55:42 [INFO] Wrote pose results to file: c:\\Users\\colin\\OneDrive\\Desktop\\Jersey-Number-Recognition\\data\\SoccerNet\\jersey-2023\\processed_data\\test\\1\\pose_results.json\n",
      "2025-03-29 12:55:43 [INFO] [1] \n",
      "2025-03-29 12:55:43 [INFO] [1] C:\\Users\\colin\\miniconda3\\envs\\vitpose\\lib\\site-packages\\mmcv\\runner\\checkpoint.py:302: FutureWarning: You are using `torch.load` with `weights_only=False` (the current default value), which uses the default pickle module implicitly. It is possible to construct malicious pickle data which will execute arbitrary code during unpickling (See https://github.com/pytorch/pytorch/blob/main/SECURITY.md#untrusted-models for more details). In a future release, the default value for `weights_only` will be flipped to `True`. This limits the functions that could be executed during unpickling. Arbitrary objects will no longer be allowed to be loaded via this mode unless they are explicitly allowlisted by the user via `torch.serialization.add_safe_globals`. We recommend you start setting `weights_only=True` for any use case where you don't have full control of the loaded file. Please open an issue on GitHub for any issues related to this experimental feature.\n",
      "2025-03-29 12:55:43 [INFO] [1] checkpoint = torch.load(filename, map_location=map_location)\n",
      "2025-03-29 12:55:43 [INFO] [1] \n",
      "2025-03-29 12:55:43 [INFO] [1] Processing batches:   0%|          | 0/3 [00:00<?, ?it/s]\n",
      "2025-03-29 12:55:43 [INFO] [1] Processing batches:  33%|███▎      | 1/3 [00:28<00:56, 28.44s/it]\n",
      "2025-03-29 12:55:43 [INFO] [1] Processing batches:  67%|██████▋   | 2/3 [00:58<00:29, 29.27s/it]\n",
      "2025-03-29 12:55:43 [INFO] [1] Processing batches: 100%|██████████| 3/3 [01:13<00:00, 22.97s/it]\n",
      "2025-03-29 12:55:43 [INFO] [1] Processing batches: 100%|██████████| 3/3 [01:13<00:00, 24.58s/it]\n",
      "2025-03-29 12:55:43 [INFO] [1] \n",
      "2025-03-29 12:55:43 [INFO] Worker called for tracklet: 5\n",
      "2025-03-29 12:55:43 [INFO] Using conda run for pose estimation\n",
      "2025-03-29 12:55:43 [INFO] [5] Running command: conda run -n vitpose python -u c:\\Users\\colin\\OneDrive\\Desktop\\Jersey-Number-Recognition\\StreamlinedPipelineScripts\\pose.py c:\\Users\\colin\\OneDrive\\Desktop\\Jersey-Number-Recognition\\pose\\ViTPose\\configs\\body\\2d_kpt_sview_rgb_img\\topdown_heatmap\\coco\\ViTPose_huge_coco_256x192.py c:\\Users\\colin\\OneDrive\\Desktop\\Jersey-Number-Recognition\\pose\\ViTPose\\checkpoints\\vitpose-h.pth --img-root / --json-file c:\\Users\\colin\\OneDrive\\Desktop\\Jersey-Number-Recognition\\data\\SoccerNet\\jersey-2023\\processed_data\\test\\5\\pose_input.json --out-json c:\\Users\\colin\\OneDrive\\Desktop\\Jersey-Number-Recognition\\data\\SoccerNet\\jersey-2023\\processed_data\\test\\5\\pose_results.json --image-batch-size 100\n"
     ]
    }
   ],
   "source": [
    "pipeline.run_soccernet(\n",
    "  run_soccer_ball_filter=False,\n",
    "  generate_features=False,\n",
    "  run_filter=False,\n",
    "  run_legible=False,\n",
    "  run_legible_eval=False,\n",
    "  run_pose=True,\n",
    "  run_crops=False,\n",
    "  run_str=False,\n",
    "  run_combine=False,\n",
    "  run_eval=False)"
   ]
  },
  {
   "cell_type": "code",
   "execution_count": null,
   "metadata": {},
   "outputs": [],
   "source": []
  }
 ],
 "metadata": {
  "kernelspec": {
   "display_name": "UBC",
   "language": "python",
   "name": "python3"
  },
  "language_info": {
   "codemirror_mode": {
    "name": "ipython",
    "version": 3
   },
   "file_extension": ".py",
   "mimetype": "text/x-python",
   "name": "python",
   "nbconvert_exporter": "python",
   "pygments_lexer": "ipython3",
   "version": "3.13.1"
  }
 },
 "nbformat": 4,
 "nbformat_minor": 2
}
