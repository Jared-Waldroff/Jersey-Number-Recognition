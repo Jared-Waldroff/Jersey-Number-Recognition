{
 "cells": [
  {
   "cell_type": "code",
   "execution_count": 1,
   "metadata": {},
   "outputs": [
    {
     "name": "stdout",
     "output_type": "stream",
     "text": [
      "c:\\Users\\colin\\OneDrive\\Desktop\\Jersey-Number-Recognition\n",
      "Current working directory:  c:\\Users\\colin\\OneDrive\\Desktop\\Jersey-Number-Recognition\\ModelDevelopment\\experiments\n"
     ]
    }
   ],
   "source": [
    "import sys\n",
    "from pathlib import Path\n",
    "import os\n",
    "import json\n",
    "\n",
    "sys.path.append(str(Path.cwd().parent.parent))\n",
    "print(str(Path.cwd().parent.parent))\n",
    "print(\"Current working directory: \", os.getcwd())\n",
    "\n",
    "from ModelDevelopment.CentralPipeline import CentralPipeline\n",
    "from ModelDevelopment.ImageBatchPipeline import ImageBatchPipeline\n",
    "from DataProcessing.DataPreProcessing import DataPaths"
   ]
  },
  {
   "cell_type": "code",
   "execution_count": 2,
   "metadata": {},
   "outputs": [],
   "source": [
    "# gt_test = DataPaths.CHALLENGE_DATA_GT.value\n",
    "# #Schema of gt_test: {\"0\": 4, \"1\": 93, \"2\": 25, \"3\": -1, \"4\": -1,\n",
    "\n",
    "# # load the json and compile a list of all tracklets with -1 as not_legible and all other tracklets as legible\n",
    "# with open(gt_test, 'r') as f:\n",
    "#     data = json.load(f)\n",
    "#     legible = []\n",
    "#     illegible = []\n",
    "    \n",
    "#     for key, value in data.items():\n",
    "#         if value == -1:\n",
    "#             illegible.append(key)\n",
    "#         else:\n",
    "#             legible.append(key)\n",
    "    \n",
    "# print(\"Legible tracklets: \", legible)\n",
    "# print(\"Illegible tracklets: \", illegible)"
   ]
  },
  {
   "cell_type": "code",
   "execution_count": 3,
   "metadata": {},
   "outputs": [],
   "source": [
    "# # Delete soccer_ball.json files\n",
    "# import os\n",
    "# root_path = r\"C:\\Users\\colin\\OneDrive\\Desktop\\Jersey-Number-Recognition\\data\\SoccerNet\\jersey-2023\\extracted\\test\\images\"\n",
    "\n",
    "# for tracklet in range(1, 1210):\n",
    "#   path = os.path.join(root_path, str(tracklet))\n",
    "  \n",
    "#   # If there is a .soccer_ball.json file in there, delete it\n",
    "#   if os.path.exists(os.path.join(path, \"soccer_ball.json\")):\n",
    "#     os.remove(os.path.join(path, \"soccer_ball.json\"))"
   ]
  },
  {
   "cell_type": "code",
   "execution_count": 4,
   "metadata": {},
   "outputs": [
    {
     "name": "stdout",
     "output_type": "stream",
     "text": [
      "2025-03-31 09:17:12 [INFO] DataPreProcessing initialized. Universe of available data paths:\n",
      "2025-03-31 09:17:12 [INFO] ROOT_DATA_DIR: c:\\Users\\colin\\OneDrive\\Desktop\\Jersey-Number-Recognition\\data\\SoccerNet\\jersey-2023\\extracted\n",
      "2025-03-31 09:17:12 [INFO] TEST_DATA_GT: c:\\Users\\colin\\OneDrive\\Desktop\\Jersey-Number-Recognition\\data\\SoccerNet\\jersey-2023\\extracted\\test\\test_gt.json\n",
      "2025-03-31 09:17:12 [INFO] TRAIN_DATA_GT: c:\\Users\\colin\\OneDrive\\Desktop\\Jersey-Number-Recognition\\data\\SoccerNet\\jersey-2023\\extracted\\train\\train_gt.json\n",
      "2025-03-31 09:17:12 [INFO] TEST_DATA_DIR: c:\\Users\\colin\\OneDrive\\Desktop\\Jersey-Number-Recognition\\data\\SoccerNet\\jersey-2023\\extracted\\test\\images\n",
      "2025-03-31 09:17:12 [INFO] TRAIN_DATA_DIR: c:\\Users\\colin\\OneDrive\\Desktop\\Jersey-Number-Recognition\\data\\SoccerNet\\jersey-2023\\extracted\\train\\images\n",
      "2025-03-31 09:17:12 [INFO] CHALLENGE_DATA_DIR: c:\\Users\\colin\\OneDrive\\Desktop\\Jersey-Number-Recognition\\data\\SoccerNet\\jersey-2023\\extracted\\challenge\\images\n",
      "2025-03-31 09:17:12 [INFO] PRE_TRAINED_MODELS_DIR: c:\\Users\\colin\\OneDrive\\Desktop\\Jersey-Number-Recognition\\data\\pre_trained_models\n",
      "2025-03-31 09:17:12 [INFO] REID_PRE_TRAINED: c:\\Users\\colin\\OneDrive\\Desktop\\Jersey-Number-Recognition\\data\\pre_trained_models\\reid\n",
      "2025-03-31 09:17:12 [INFO] STR_PRE_TRAINED: c:\\Users\\colin\\OneDrive\\Desktop\\Jersey-Number-Recognition\\data\\pre_trained_models\\str\n",
      "2025-03-31 09:17:12 [INFO] STR_MODEL: c:\\Users\\colin\\OneDrive\\Desktop\\Jersey-Number-Recognition\\data\\pre_trained_models\\str\\parseq_epoch=24-step=2575-val_accuracy=95.6044-val_NED=96.3255.ckpt\n",
      "2025-03-31 09:17:12 [INFO] REID_MODEL_1: c:\\Users\\colin\\OneDrive\\Desktop\\Jersey-Number-Recognition\\data\\pre_trained_models\\reid\\dukemtmcreid_resnet50_256_128_epoch_120.ckpt\n",
      "2025-03-31 09:17:12 [INFO] REID_MODEL_2: c:\\Users\\colin\\OneDrive\\Desktop\\Jersey-Number-Recognition\\data\\pre_trained_models\\reid\\market1501_resnet50_256_128_epoch_120.ckpt\n",
      "2025-03-31 09:17:12 [INFO] REID_CONFIG_YAML: c:\\Users\\colin\\OneDrive\\Desktop\\Jersey-Number-Recognition\\data\\pre_trained_models\\reid\\configs\\256_resnet50.yml\n",
      "2025-03-31 09:17:12 [INFO] RESNET_MODEL: c:\\Users\\colin\\OneDrive\\Desktop\\Jersey-Number-Recognition\\data\\pre_trained_models\\resnet\\best_resnet50_jersey.pth\n",
      "2025-03-31 09:17:12 [INFO] VIT_MODEL: c:\\Users\\colin\\OneDrive\\Desktop\\Jersey-Number-Recognition\\data\\pre_trained_models\\ViT\\vit_base_patch16_224_in21k_ft_svhn.pth\n",
      "2025-03-31 09:17:12 [INFO] PROCESSED_DATA_OUTPUT_DIR: c:\\Users\\colin\\OneDrive\\Desktop\\Jersey-Number-Recognition\\data\\SoccerNet\\jersey-2023\\processed_data\n",
      "2025-03-31 09:17:12 [INFO] PROCESSED_DATA_OUTPUT_DIR_TRAIN: c:\\Users\\colin\\OneDrive\\Desktop\\Jersey-Number-Recognition\\data\\SoccerNet\\jersey-2023\\processed_data\\train\n",
      "2025-03-31 09:17:12 [INFO] PROCESSED_DATA_OUTPUT_DIR_TEST: c:\\Users\\colin\\OneDrive\\Desktop\\Jersey-Number-Recognition\\data\\SoccerNet\\jersey-2023\\processed_data\\test\n",
      "2025-03-31 09:17:12 [INFO] PROCESSED_DATA_OUTPUT_DIR_CHALLENGE: c:\\Users\\colin\\OneDrive\\Desktop\\Jersey-Number-Recognition\\data\\SoccerNet\\jersey-2023\\processed_data\\challenge\n",
      "2025-03-31 09:17:12 [INFO] COMMON_PROCESSED_OUTPUT_DATA_TRAIN: c:\\Users\\colin\\OneDrive\\Desktop\\Jersey-Number-Recognition\\data\\SoccerNet\\jersey-2023\\processed_data\\train\\common_data\n",
      "2025-03-31 09:17:12 [INFO] COMMON_PROCESSED_OUTPUT_DATA_TEST: c:\\Users\\colin\\OneDrive\\Desktop\\Jersey-Number-Recognition\\data\\SoccerNet\\jersey-2023\\processed_data\\test\\common_data\n",
      "2025-03-31 09:17:12 [INFO] COMMON_PROCESSED_OUTPUT_DATA_CHALLENGE: c:\\Users\\colin\\OneDrive\\Desktop\\Jersey-Number-Recognition\\data\\SoccerNet\\jersey-2023\\processed_data\\challenge\\common_data\n",
      "2025-03-31 09:17:12 [INFO] STREAMLINED_PIPELINE: c:\\Users\\colin\\OneDrive\\Desktop\\Jersey-Number-Recognition\\StreamlinedPipelineScripts\n",
      "2025-03-31 09:17:12 [INFO] ENHANCED_STR_ROOT: c:\\Users\\colin\\OneDrive\\Desktop\\Jersey-Number-Recognition\\data\\pre_trained_models\\clip4str\n",
      "2025-03-31 09:17:12 [INFO] ENHANCED_STR_MAIN: c:\\Users\\colin\\OneDrive\\Desktop\\Jersey-Number-Recognition\\data\\pre_trained_models\\clip4str\\clip4str_huge_3e942729b1.pt\n",
      "2025-03-31 09:17:12 [INFO] ENHANCED_STR_OPEN_CLIP: c:\\Users\\colin\\OneDrive\\Desktop\\Jersey-Number-Recognition\\data\\pre_trained_models\\clip4str\\appleDFN5B-CLIP-ViT-H-14.bin\n",
      "2025-03-31 09:17:12 [INFO] ENHANCED_STR_VIT_L: c:\\Users\\colin\\OneDrive\\Desktop\\Jersey-Number-Recognition\\data\\pre_trained_models\\clip4str\\ViT-L-14.pt\n",
      "2025-03-31 09:17:12 [INFO] Created directory: c:\\Users\\colin\\OneDrive\\Desktop\\Jersey-Number-Recognition\\data\\SoccerNet\\jersey-2023\\processed_data\\test\n",
      "2025-03-31 09:17:12 [INFO] Created directory: c:\\Users\\colin\\OneDrive\\Desktop\\Jersey-Number-Recognition\\data\\SoccerNet\\jersey-2023\\processed_data\\test\\common_data\n",
      "2025-03-31 09:17:12 [INFO] ['0', '1', '2', '3', '4', '5', '6', '7', '8', '9']\n",
      "2025-03-31 09:17:12 [INFO] Min tracklet: 0\n",
      "2025-03-31 09:17:12 [INFO] Max tracklet: 1210\n",
      "2025-03-31 09:17:13 [INFO] Using device: cuda\n"
     ]
    }
   ],
   "source": [
    "tracklets_to_process_override_batch1 = [i for i in range(0, 605)] # COLIN\n",
    "tracklets_to_process_override_batch2 = [i for i in range(605, 1210)] # JARED Second half of the tracklets (605 items)\n",
    "\n",
    "pipeline = CentralPipeline(\n",
    "  #tracklets_to_process_override=[109, 88, 34, 151, 19, 68, 67, 128, 57, 178, 189, 196, 214, 242, 258, 271, 304, 327, 320, 352, 375, 378, 414, 416, 439, 425, 451, 453, 454, 466, 499, 511, 513, 526, 528, 567, 576, 594, 619, 623, 646, 687, 682, 709, 711, 717, 739, 758, 767, 795, 788, 840, 843, 832, 841, 852, 847, 851, 856, 850, 868, 866, 871, 901, 902, 904, 900, 907, 928, 939, 944, 961, 984, 983, 1005, 1039, 1064, 1063, 1077, 1091, 1101, 1137, 1152, 1153, 1160, 1167, 1157, 1165, 1206],\n",
    "  #tracklets_to_process_override=[327, 711, 907, 1064], # These ones are now passing\n",
    "  #tracklets_to_process_override=[327]\n",
    "  #tracklets_to_process_override=[0],\n",
    "  #tracklets_to_process_override=illegible,\n",
    "  #tracklets_to_process_override=[168, 167, 162, 97, 39, 87, 89, 134, 61],\n",
    "  #tracklets_to_process_override=[168, 167, 162, 97, 39, 87, 89, 134, 61, 172, 164, 199, 215, 260, 267, 269, 281, 276, 288, 295, 317, 325, 340, 345, 374, 394, 388, 386, 391, 406, 408, 434, 437, 459, 471, 514, 532, 558, 683, 748, 770, 790, 802, 827, 861, 869, 879, 897, 895, 909, 964, 981, 999, 1023, 1031, 1025, 1033, 1030, 1055, 1088, 1087, 1169, 1175, 1174, 1173, 1183, 1170, 1179, 1184, 1185],\n",
    "  #num_tracklets=1210,\n",
    "  tracklets_to_process_override=tracklets_to_process_override_batch1,\n",
    "  #tracklets_to_process_override=[0, 1, 2, 3, 4, 5, 6, 7, 8, 9, 10],\n",
    "  #num_images_per_tracklet=50,\n",
    "  input_data_path=DataPaths.TEST_DATA_DIR.value,\n",
    "  output_processed_data_path=DataPaths.PROCESSED_DATA_OUTPUT_DIR_TEST.value,\n",
    "  common_processed_data_dir=DataPaths.COMMON_PROCESSED_OUTPUT_DATA_TEST.value,\n",
    "  gt_data_path=DataPaths.TEST_DATA_GT.value,\n",
    "  display_transformed_image_sample=False, # NOTE: DO NOT USE. Code is parallelized so we cannot show images anymore. Code breaks, but first one will show if True.\n",
    "  use_cache=True, # Set to false to rebuild the cache\n",
    "  suppress_logging=False,\n",
    "  use_image_enhancement=True,\n",
    "  \n",
    "  # --- PARALLELIZATION PARAMS --- These settings are optimal for an NVIDIA RTX 3070 Ti Laptop GPU.\n",
    "  num_workers=2,            # CRITICAL optimisation param. Adjust accordingly. Pre-processing: 4 | STR: 2 | Crops: 4\n",
    "  tracklet_batch_size=32,   # CRITICAL optimisation param. Adjust accordingly. Always 32\n",
    "  image_batch_size=100,     # CRITICAL optimisation param. Adjust accordingly. Pre-processing: 200 | STR: 100 | Crops: 200\n",
    "  num_threads_multiplier=5  # CRITICAL optimisation param. Adjust accordingly. Pre-processing: 4\n",
    "  )                         #                              Interpretation: num_threads = num_workers * num_threads_multiplier"
   ]
  },
  {
   "cell_type": "code",
   "execution_count": null,
   "metadata": {},
   "outputs": [
    {
     "name": "stdout",
     "output_type": "stream",
     "text": [
      "2025-03-31 09:17:13 [INFO] Running the SoccerNet pipeline.\n",
      "2025-03-31 09:17:13 [INFO] Tracklet override applied. Using provided tracklets: 0, 1, 2, 3, 4, 5, 6, 7, 8, 9, 10, 11, 12, 13, 14, 15, 16, 17, 18, 19, 20, 21, 22, 23, 24, 25, 26, 27, 28, 29, 30, 31, 32, 33, 34, 35, 36, 37, 38, 39, 40, 41, 42, 43, 44, 45, 46, 47, 48, 49, 50, 51, 52, 53, 54, 55, 56, 57, 58, 59, 60, 61, 62, 63, 64, 65, 66, 67, 68, 69, 70, 71, 72, 73, 74, 75, 76, 77, 78, 79, 80, 81, 82, 83, 84, 85, 86, 87, 88, 89, 90, 91, 92, 93, 94, 95, 96, 97, 98, 99, 100, 101, 102, 103, 104, 105, 106, 107, 108, 109, 110, 111, 112, 113, 114, 115, 116, 117, 118, 119, 120, 121, 122, 123, 124, 125, 126, 127, 128, 129, 130, 131, 132, 133, 134, 135, 136, 137, 138, 139, 140, 141, 142, 143, 144, 145, 146, 147, 148, 149, 150, 151, 152, 153, 154, 155, 156, 157, 158, 159, 160, 161, 162, 163, 164, 165, 166, 167, 168, 169, 170, 171, 172, 173, 174, 175, 176, 177, 178, 179, 180, 181, 182, 183, 184, 185, 186, 187, 188, 189, 190, 191, 192, 193, 194, 195, 196, 197, 198, 199, 200, 201, 202, 203, 204, 205, 206, 207, 208, 209, 210, 211, 212, 213, 214, 215, 216, 217, 218, 219, 220, 221, 222, 223, 224, 225, 226, 227, 228, 229, 230, 231, 232, 233, 234, 235, 236, 237, 238, 239, 240, 241, 242, 243, 244, 245, 246, 247, 248, 249, 250, 251, 252, 253, 254, 255, 256, 257, 258, 259, 260, 261, 262, 263, 264, 265, 266, 267, 268, 269, 270, 271, 272, 273, 274, 275, 276, 277, 278, 279, 280, 281, 282, 283, 284, 285, 286, 287, 288, 289, 290, 291, 292, 293, 294, 295, 296, 297, 298, 299, 300, 301, 302, 303, 304, 305, 306, 307, 308, 309, 310, 311, 312, 313, 314, 315, 316, 317, 318, 319, 320, 321, 322, 323, 324, 325, 326, 327, 328, 329, 330, 331, 332, 333, 334, 335, 336, 337, 338, 339, 340, 341, 342, 343, 344, 345, 346, 347, 348, 349, 350, 351, 352, 353, 354, 355, 356, 357, 358, 359, 360, 361, 362, 363, 364, 365, 366, 367, 368, 369, 370, 371, 372, 373, 374, 375, 376, 377, 378, 379, 380, 381, 382, 383, 384, 385, 386, 387, 388, 389, 390, 391, 392, 393, 394, 395, 396, 397, 398, 399, 400, 401, 402, 403, 404, 405, 406, 407, 408, 409, 410, 411, 412, 413, 414, 415, 416, 417, 418, 419, 420, 421, 422, 423, 424, 425, 426, 427, 428, 429, 430, 431, 432, 433, 434, 435, 436, 437, 438, 439, 440, 441, 442, 443, 444, 445, 446, 447, 448, 449, 450, 451, 452, 453, 454, 455, 456, 457, 458, 459, 460, 461, 462, 463, 464, 465, 466, 467, 468, 469, 470, 471, 472, 473, 474, 475, 476, 477, 478, 479, 480, 481, 482, 483, 484, 485, 486, 487, 488, 489, 490, 491, 492, 493, 494, 495, 496, 497, 498, 499, 500, 501, 502, 503, 504, 505, 506, 507, 508, 509, 510, 511, 512, 513, 514, 515, 516, 517, 518, 519, 520, 521, 522, 523, 524, 525, 526, 527, 528, 529, 530, 531, 532, 533, 534, 535, 536, 537, 538, 539, 540, 541, 542, 543, 544, 545, 546, 547, 548, 549, 550, 551, 552, 553, 554, 555, 556, 557, 558, 559, 560, 561, 562, 563, 564, 565, 566, 567, 568, 569, 570, 571, 572, 573, 574, 575, 576, 577, 578, 579, 580, 581, 582, 583, 584, 585, 586, 587, 588, 589, 590, 591, 592, 593, 594, 595, 596, 597, 598, 599, 600, 601, 602, 603, 604\n"
     ]
    },
    {
     "data": {
      "application/vnd.jupyter.widget-view+json": {
       "model_id": "f9c58467bf214275b4ce6b8bafd584e8",
       "version_major": 2,
       "version_minor": 0
      },
      "text/plain": [
       "  0%|          | 0/19 [00:00<?, ?it/s]"
      ]
     },
     "metadata": {},
     "output_type": "display_data"
    },
    {
     "name": "stdout",
     "output_type": "stream",
     "text": [
      "2025-03-31 09:17:13 [INFO] Tracklet batch size: 32\n",
      "2025-03-31 09:17:13 [INFO] Image batch size: 100\n",
      "2025-03-31 09:17:13 [INFO] Number of workers: 2\n",
      "2025-03-31 09:17:13 [INFO] Number of threads created: 10\n",
      "2025-03-31 09:17:13 [INFO] Using double parallelization: multiprocessing + CUDA batch processing.\n"
     ]
    },
    {
     "data": {
      "application/vnd.jupyter.widget-view+json": {
       "model_id": "db151b503fcc47548ba7499d6ebda31f",
       "version_major": 2,
       "version_minor": 0
      },
      "text/plain": [
       "Processing tracklets (CUDA + CPU):   0%|          | 0/32 [00:00<?, ?it/s]"
      ]
     },
     "metadata": {},
     "output_type": "display_data"
    },
    {
     "name": "stdout",
     "output_type": "stream",
     "text": [
      "2025-03-31 09:17:48 [INFO] Creating placeholder data files for Soccer Ball Filter.\n"
     ]
    },
    {
     "data": {
      "application/vnd.jupyter.widget-view+json": {
       "model_id": "d2a9591c4b50426ea72c43d2d9b4d923",
       "version_major": 2,
       "version_minor": 0
      },
      "text/plain": [
       "Processing Batch Tracklets (0-32):   0%|          | 0/32 [00:00<?, ?it/s]"
      ]
     },
     "metadata": {},
     "output_type": "display_data"
    },
    {
     "name": "stderr",
     "output_type": "stream",
     "text": [
      "c:\\Users\\colin\\miniconda3\\envs\\UBC\\Lib\\site-packages\\pytorch_lightning\\utilities\\migration\\migration.py:208: You have multiple `ModelCheckpoint` callback states in this checkpoint, but we found state keys that would end up colliding with each other after an upgrade, which means we can't differentiate which of your checkpoint callbacks needs which states. At least one of your `ModelCheckpoint` callbacks will not be able to reload the state.\n",
      "Lightning automatically upgraded your loaded checkpoint from v1.1.4 to v2.5.0.post0. To apply the upgrade to your files permanently, run `python -m pytorch_lightning.utilities.upgrade_checkpoint c:\\Users\\colin\\OneDrive\\Desktop\\Jersey-Number-Recognition\\data\\pre_trained_models\\reid\\dukemtmcreid_resnet50_256_128_epoch_120.ckpt`\n"
     ]
    },
    {
     "name": "stdout",
     "output_type": "stream",
     "text": [
      "2025-03-31 09:17:51 [INFO] Saved features for tracklet with shape (354, 2048) to c:\\Users\\colin\\OneDrive\\Desktop\\Jersey-Number-Recognition\\data\\SoccerNet\\jersey-2023\\processed_data\\test\\1\\features.npy\n",
      "2025-03-31 09:17:51 [INFO] Identifying and removing outliers by calling gaussian_outliers.py on feature file\n"
     ]
    },
    {
     "name": "stderr",
     "output_type": "stream",
     "text": [
      "Lightning automatically upgraded your loaded checkpoint from v1.1.4 to v2.5.0.post0. To apply the upgrade to your files permanently, run `python -m pytorch_lightning.utilities.upgrade_checkpoint c:\\Users\\colin\\OneDrive\\Desktop\\Jersey-Number-Recognition\\data\\pre_trained_models\\reid\\dukemtmcreid_resnet50_256_128_epoch_120.ckpt`\n"
     ]
    },
    {
     "name": "stdout",
     "output_type": "stream",
     "text": [
      "2025-03-31 09:17:53 [INFO] Saved features for tracklet with shape (461, 2048) to c:\\Users\\colin\\OneDrive\\Desktop\\Jersey-Number-Recognition\\data\\SoccerNet\\jersey-2023\\processed_data\\test\\3\\features.npy\n",
      "2025-03-31 09:17:53 [INFO] Identifying and removing outliers by calling gaussian_outliers.py on feature file\n"
     ]
    },
    {
     "name": "stderr",
     "output_type": "stream",
     "text": [
      "Lightning automatically upgraded your loaded checkpoint from v1.1.4 to v2.5.0.post0. To apply the upgrade to your files permanently, run `python -m pytorch_lightning.utilities.upgrade_checkpoint c:\\Users\\colin\\OneDrive\\Desktop\\Jersey-Number-Recognition\\data\\pre_trained_models\\reid\\dukemtmcreid_resnet50_256_128_epoch_120.ckpt`\n"
     ]
    },
    {
     "name": "stdout",
     "output_type": "stream",
     "text": [
      "2025-03-31 09:17:55 [INFO] Saved features for tracklet with shape (311, 2048) to c:\\Users\\colin\\OneDrive\\Desktop\\Jersey-Number-Recognition\\data\\SoccerNet\\jersey-2023\\processed_data\\test\\4\\features.npy\n",
      "2025-03-31 09:17:55 [INFO] Identifying and removing outliers by calling gaussian_outliers.py on feature file\n"
     ]
    },
    {
     "name": "stderr",
     "output_type": "stream",
     "text": [
      "Lightning automatically upgraded your loaded checkpoint from v1.1.4 to v2.5.0.post0. To apply the upgrade to your files permanently, run `python -m pytorch_lightning.utilities.upgrade_checkpoint c:\\Users\\colin\\OneDrive\\Desktop\\Jersey-Number-Recognition\\data\\pre_trained_models\\reid\\dukemtmcreid_resnet50_256_128_epoch_120.ckpt`\n"
     ]
    },
    {
     "name": "stdout",
     "output_type": "stream",
     "text": [
      "2025-03-31 09:17:57 [INFO] Saved features for tracklet with shape (490, 2048) to c:\\Users\\colin\\OneDrive\\Desktop\\Jersey-Number-Recognition\\data\\SoccerNet\\jersey-2023\\processed_data\\test\\6\\features.npy\n",
      "2025-03-31 09:17:57 [INFO] Identifying and removing outliers by calling gaussian_outliers.py on feature file\n"
     ]
    },
    {
     "name": "stderr",
     "output_type": "stream",
     "text": [
      "Lightning automatically upgraded your loaded checkpoint from v1.1.4 to v2.5.0.post0. To apply the upgrade to your files permanently, run `python -m pytorch_lightning.utilities.upgrade_checkpoint c:\\Users\\colin\\OneDrive\\Desktop\\Jersey-Number-Recognition\\data\\pre_trained_models\\reid\\dukemtmcreid_resnet50_256_128_epoch_120.ckpt`\n"
     ]
    },
    {
     "name": "stdout",
     "output_type": "stream",
     "text": [
      "2025-03-31 09:18:00 [INFO] Saved features for tracklet with shape (544, 2048) to c:\\Users\\colin\\OneDrive\\Desktop\\Jersey-Number-Recognition\\data\\SoccerNet\\jersey-2023\\processed_data\\test\\8\\features.npy\n",
      "2025-03-31 09:18:00 [INFO] Identifying and removing outliers by calling gaussian_outliers.py on feature file\n"
     ]
    },
    {
     "name": "stderr",
     "output_type": "stream",
     "text": [
      "Lightning automatically upgraded your loaded checkpoint from v1.1.4 to v2.5.0.post0. To apply the upgrade to your files permanently, run `python -m pytorch_lightning.utilities.upgrade_checkpoint c:\\Users\\colin\\OneDrive\\Desktop\\Jersey-Number-Recognition\\data\\pre_trained_models\\reid\\dukemtmcreid_resnet50_256_128_epoch_120.ckpt`\n"
     ]
    },
    {
     "name": "stdout",
     "output_type": "stream",
     "text": [
      "2025-03-31 09:18:02 [INFO] Saved features for tracklet with shape (465, 2048) to c:\\Users\\colin\\OneDrive\\Desktop\\Jersey-Number-Recognition\\data\\SoccerNet\\jersey-2023\\processed_data\\test\\0\\features.npy\n",
      "2025-03-31 09:18:02 [INFO] Identifying and removing outliers by calling gaussian_outliers.py on feature file\n"
     ]
    },
    {
     "name": "stderr",
     "output_type": "stream",
     "text": [
      "Lightning automatically upgraded your loaded checkpoint from v1.1.4 to v2.5.0.post0. To apply the upgrade to your files permanently, run `python -m pytorch_lightning.utilities.upgrade_checkpoint c:\\Users\\colin\\OneDrive\\Desktop\\Jersey-Number-Recognition\\data\\pre_trained_models\\reid\\dukemtmcreid_resnet50_256_128_epoch_120.ckpt`\n"
     ]
    },
    {
     "name": "stdout",
     "output_type": "stream",
     "text": [
      "2025-03-31 09:18:03 [INFO] 2025-03-31 09:18:02 [INFO] Threshold for scores: 0.97, rounds: 1\n",
      "2025-03-31 09:18:02 [INFO] Round 1: Excluded 4 outliers\n",
      "2025-03-31 09:18:02 [INFO] Round 1: Average score: 0.9969872832298279\n",
      "2025-03-31 09:18:02 [INFO] Excluded images: ['1_196.jpg', '1_197.jpg', '1_594.jpg', '1_595.jpg']\n",
      "\n",
      "2025-03-31 09:18:03 [ERROR] \n",
      "2025-03-31 09:18:03 [INFO] Done removing outliers\n",
      "2025-03-31 09:18:03 [INFO] Running model chain on preprocessed image(s).\n",
      "2025-03-31 09:18:03 [INFO] Classifying legibility of image(s) using pre-trained model.\n"
     ]
    },
    {
     "name": "stderr",
     "output_type": "stream",
     "text": [
      "c:\\Users\\colin\\miniconda3\\envs\\UBC\\Lib\\site-packages\\torchvision\\models\\_utils.py:208: UserWarning: The parameter 'pretrained' is deprecated since 0.13 and may be removed in the future, please use 'weights' instead.\n",
      "  warnings.warn(\n",
      "c:\\Users\\colin\\miniconda3\\envs\\UBC\\Lib\\site-packages\\torchvision\\models\\_utils.py:223: UserWarning: Arguments other than a weight enum or `None` for 'weights' are deprecated since 0.13 and may be removed in the future. The current behavior is equivalent to passing `weights=ResNet50_Weights.IMAGENET1K_V1`. You can also use `weights=ResNet50_Weights.DEFAULT` to get the most up-to-date weights.\n",
      "  warnings.warn(msg)\n"
     ]
    },
    {
     "name": "stdout",
     "output_type": "stream",
     "text": [
      "2025-03-31 09:18:05 [INFO] 2025-03-31 09:18:04 [INFO] Threshold for scores: 0.97, rounds: 1\n",
      "2025-03-31 09:18:04 [INFO] Round 1: Excluded 6 outliers\n",
      "2025-03-31 09:18:04 [INFO] Round 1: Average score: 0.9956437349319458\n",
      "2025-03-31 09:18:04 [INFO] Excluded images: ['3_205.jpg', '3_206.jpg', '3_267.jpg', '3_379.jpg', '3_380.jpg', '3_611.jpg']\n",
      "\n",
      "2025-03-31 09:18:05 [ERROR] \n",
      "2025-03-31 09:18:05 [INFO] Done removing outliers\n",
      "2025-03-31 09:18:05 [INFO] Running model chain on preprocessed image(s).\n",
      "2025-03-31 09:18:05 [INFO] Classifying legibility of image(s) using pre-trained model.\n",
      "2025-03-31 09:18:06 [INFO] Saved features for tracklet with shape (627, 2048) to c:\\Users\\colin\\OneDrive\\Desktop\\Jersey-Number-Recognition\\data\\SoccerNet\\jersey-2023\\processed_data\\test\\5\\features.npy\n",
      "2025-03-31 09:18:06 [INFO] Identifying and removing outliers by calling gaussian_outliers.py on feature file\n"
     ]
    },
    {
     "name": "stderr",
     "output_type": "stream",
     "text": [
      "Lightning automatically upgraded your loaded checkpoint from v1.1.4 to v2.5.0.post0. To apply the upgrade to your files permanently, run `python -m pytorch_lightning.utilities.upgrade_checkpoint c:\\Users\\colin\\OneDrive\\Desktop\\Jersey-Number-Recognition\\data\\pre_trained_models\\reid\\dukemtmcreid_resnet50_256_128_epoch_120.ckpt`\n"
     ]
    },
    {
     "name": "stdout",
     "output_type": "stream",
     "text": [
      "2025-03-31 09:18:09 [INFO] 2025-03-31 09:18:08 [INFO] Threshold for scores: 0.97, rounds: 1\n",
      "2025-03-31 09:18:08 [INFO] Round 1: Excluded 5 outliers\n",
      "2025-03-31 09:18:08 [INFO] Round 1: Average score: 0.9941612482070923\n",
      "2025-03-31 09:18:08 [INFO] Excluded images: ['4_199.jpg', '4_200.jpg', '4_387.jpg', '4_388.jpg', '4_389.jpg']\n",
      "\n",
      "2025-03-31 09:18:09 [ERROR] \n",
      "2025-03-31 09:18:09 [INFO] Done removing outliers\n",
      "2025-03-31 09:18:09 [INFO] Running model chain on preprocessed image(s).\n",
      "2025-03-31 09:18:09 [INFO] Classifying legibility of image(s) using pre-trained model.\n",
      "2025-03-31 09:18:11 [INFO] Saved features for tracklet with shape (595, 2048) to c:\\Users\\colin\\OneDrive\\Desktop\\Jersey-Number-Recognition\\data\\SoccerNet\\jersey-2023\\processed_data\\test\\9\\features.npy\n",
      "2025-03-31 09:18:11 [INFO] Identifying and removing outliers by calling gaussian_outliers.py on feature file\n"
     ]
    },
    {
     "name": "stderr",
     "output_type": "stream",
     "text": [
      "Lightning automatically upgraded your loaded checkpoint from v1.1.4 to v2.5.0.post0. To apply the upgrade to your files permanently, run `python -m pytorch_lightning.utilities.upgrade_checkpoint c:\\Users\\colin\\OneDrive\\Desktop\\Jersey-Number-Recognition\\data\\pre_trained_models\\reid\\dukemtmcreid_resnet50_256_128_epoch_120.ckpt`\n"
     ]
    },
    {
     "name": "stdout",
     "output_type": "stream",
     "text": [
      "2025-03-31 09:18:13 [INFO] 2025-03-31 09:18:12 [INFO] Threshold for scores: 0.97, rounds: 1\n",
      "2025-03-31 09:18:12 [INFO] Round 1: Excluded 2 outliers\n",
      "2025-03-31 09:18:12 [INFO] Round 1: Average score: 0.9982720613479614\n",
      "2025-03-31 09:18:12 [INFO] Excluded images: ['6_489.jpg', '6_490.jpg']\n",
      "\n",
      "2025-03-31 09:18:13 [ERROR] \n",
      "2025-03-31 09:18:13 [INFO] Done removing outliers\n",
      "2025-03-31 09:18:13 [INFO] Running model chain on preprocessed image(s).\n",
      "2025-03-31 09:18:13 [INFO] Classifying legibility of image(s) using pre-trained model.\n",
      "2025-03-31 09:18:17 [INFO] Saved features for tracklet with shape (661, 2048) to c:\\Users\\colin\\OneDrive\\Desktop\\Jersey-Number-Recognition\\data\\SoccerNet\\jersey-2023\\processed_data\\test\\7\\features.npy\n",
      "2025-03-31 09:18:17 [INFO] Identifying and removing outliers by calling gaussian_outliers.py on feature file\n"
     ]
    },
    {
     "name": "stderr",
     "output_type": "stream",
     "text": [
      "Lightning automatically upgraded your loaded checkpoint from v1.1.4 to v2.5.0.post0. To apply the upgrade to your files permanently, run `python -m pytorch_lightning.utilities.upgrade_checkpoint c:\\Users\\colin\\OneDrive\\Desktop\\Jersey-Number-Recognition\\data\\pre_trained_models\\reid\\dukemtmcreid_resnet50_256_128_epoch_120.ckpt`\n"
     ]
    },
    {
     "name": "stdout",
     "output_type": "stream",
     "text": [
      "2025-03-31 09:18:18 [INFO] 2025-03-31 09:18:16 [INFO] Threshold for scores: 0.97, rounds: 1\n",
      "2025-03-31 09:18:16 [INFO] Round 1: Excluded 7 outliers\n",
      "2025-03-31 09:18:16 [INFO] Round 1: Average score: 0.9966508150100708\n",
      "2025-03-31 09:18:16 [INFO] Excluded images: ['8_402.jpg', '8_403.jpg', '8_611.jpg', '8_612.jpg', '8_613.jpg', '8_616.jpg', '8_621.jpg']\n",
      "\n",
      "2025-03-31 09:18:18 [ERROR] \n",
      "2025-03-31 09:18:18 [INFO] Done removing outliers\n",
      "2025-03-31 09:18:18 [INFO] Running model chain on preprocessed image(s).\n",
      "2025-03-31 09:18:18 [INFO] Classifying legibility of image(s) using pre-trained model.\n",
      "2025-03-31 09:18:22 [INFO] Median vs. average vs. max of raw outputs (thresh=0.5): 0.47921140491962433, 0.47122254473822456, 0.49301019310951233\n",
      "2025-03-31 09:18:22 [INFO] Median vs. average vs. max of kept outputs (thresh=0.5): 0.0, 0.0, 0.0\n",
      "2025-03-31 09:18:22 [INFO] Tracklet 1 is illegible.\n",
      "2025-03-31 09:18:22 [INFO] Saving legible_tracklets to: c:\\Users\\colin\\OneDrive\\Desktop\\Jersey-Number-Recognition\\data\\SoccerNet\\jersey-2023\\processed_data\\test\\1\\legible_results.json\n",
      "2025-03-31 09:18:22 [INFO] Saved legible_tracklets to: c:\\Users\\colin\\OneDrive\\Desktop\\Jersey-Number-Recognition\\data\\SoccerNet\\jersey-2023\\processed_data\\test\\1\\legible_results.json\n",
      "2025-03-31 09:18:22 [INFO] Saving illegible_tracklets to: c:\\Users\\colin\\OneDrive\\Desktop\\Jersey-Number-Recognition\\data\\SoccerNet\\jersey-2023\\processed_data\\test\\1\\illegible_results.json\n",
      "2025-03-31 09:18:22 [INFO] Saved illegible_tracklets to: c:\\Users\\colin\\OneDrive\\Desktop\\Jersey-Number-Recognition\\data\\SoccerNet\\jersey-2023\\processed_data\\test\\1\\illegible_results.json\n",
      "2025-03-31 09:18:22 [INFO] Legibility classification complete.\n",
      "2025-03-31 09:18:22 [INFO] Processed tracklet: 1\n",
      "2025-03-31 09:18:23 [INFO] Saved features for tracklet with shape (349, 2048) to c:\\Users\\colin\\OneDrive\\Desktop\\Jersey-Number-Recognition\\data\\SoccerNet\\jersey-2023\\processed_data\\test\\2\\features.npy\n",
      "2025-03-31 09:18:23 [INFO] Identifying and removing outliers by calling gaussian_outliers.py on feature file\n"
     ]
    },
    {
     "name": "stderr",
     "output_type": "stream",
     "text": [
      "Lightning automatically upgraded your loaded checkpoint from v1.1.4 to v2.5.0.post0. To apply the upgrade to your files permanently, run `python -m pytorch_lightning.utilities.upgrade_checkpoint c:\\Users\\colin\\OneDrive\\Desktop\\Jersey-Number-Recognition\\data\\pre_trained_models\\reid\\dukemtmcreid_resnet50_256_128_epoch_120.ckpt`\n"
     ]
    },
    {
     "name": "stdout",
     "output_type": "stream",
     "text": [
      "2025-03-31 09:18:24 [INFO] 2025-03-31 09:18:22 [INFO] Threshold for scores: 0.97, rounds: 1\n",
      "2025-03-31 09:18:22 [INFO] Round 1: Excluded 7 outliers\n",
      "2025-03-31 09:18:22 [INFO] Round 1: Average score: 0.9971559047698975\n",
      "2025-03-31 09:18:22 [INFO] Excluded images: ['0_176.jpg', '0_281.jpg', '0_282.jpg', '0_350.jpg', '0_526.jpg', '0_649.jpg', '0_650.jpg']\n",
      "\n",
      "2025-03-31 09:18:24 [ERROR] \n",
      "2025-03-31 09:18:24 [INFO] Done removing outliers\n",
      "2025-03-31 09:18:24 [INFO] Running model chain on preprocessed image(s).\n",
      "2025-03-31 09:18:24 [INFO] Classifying legibility of image(s) using pre-trained model.\n",
      "2025-03-31 09:18:29 [INFO] Saved features for tracklet with shape (549, 2048) to c:\\Users\\colin\\OneDrive\\Desktop\\Jersey-Number-Recognition\\data\\SoccerNet\\jersey-2023\\processed_data\\test\\10\\features.npy\n",
      "2025-03-31 09:18:30 [INFO] Identifying and removing outliers by calling gaussian_outliers.py on feature file\n",
      "2025-03-31 09:18:30 [INFO] 2025-03-31 09:18:29 [INFO] Threshold for scores: 0.97, rounds: 1\n",
      "2025-03-31 09:18:29 [INFO] Round 1: Excluded 15 outliers\n",
      "2025-03-31 09:18:29 [INFO] Round 1: Average score: 0.9951328635215759\n",
      "2025-03-31 09:18:29 [INFO] Excluded images: ['5_100.jpg', '5_101.jpg', '5_178.jpg', '5_179.jpg', '5_180.jpg', '5_181.jpg', '5_308.jpg', '5_309.jpg', '5_310.jpg', '5_311.jpg', '5_312.jpg', '5_313.jpg', '5_612.jpg', '5_736.jpg', '5_98.jpg']\n",
      "\n",
      "2025-03-31 09:18:30 [ERROR] \n",
      "2025-03-31 09:18:30 [INFO] Done removing outliers\n",
      "2025-03-31 09:18:30 [INFO] Running model chain on preprocessed image(s).\n",
      "2025-03-31 09:18:30 [INFO] Classifying legibility of image(s) using pre-trained model.\n",
      "2025-03-31 09:18:33 [INFO] Median vs. average vs. max of raw outputs (thresh=0.5): 0.5870419144630432, 0.5870181707235483, 0.6075795888900757\n",
      "2025-03-31 09:18:33 [INFO] Median vs. average vs. max of kept outputs (thresh=0.5): 0.5870419144630432, 0.5870181707235483, 0.6075795888900757\n",
      "2025-03-31 09:18:33 [INFO] Tracklet 3 is legible.\n",
      "2025-03-31 09:18:33 [INFO] Saving legible_tracklets to: c:\\Users\\colin\\OneDrive\\Desktop\\Jersey-Number-Recognition\\data\\SoccerNet\\jersey-2023\\processed_data\\test\\3\\legible_results.json\n",
      "2025-03-31 09:18:33 [INFO] Saved legible_tracklets to: c:\\Users\\colin\\OneDrive\\Desktop\\Jersey-Number-Recognition\\data\\SoccerNet\\jersey-2023\\processed_data\\test\\3\\legible_results.json\n",
      "2025-03-31 09:18:33 [INFO] Saving illegible_tracklets to: c:\\Users\\colin\\OneDrive\\Desktop\\Jersey-Number-Recognition\\data\\SoccerNet\\jersey-2023\\processed_data\\test\\3\\illegible_results.json\n",
      "2025-03-31 09:18:33 [INFO] Saved illegible_tracklets to: c:\\Users\\colin\\OneDrive\\Desktop\\Jersey-Number-Recognition\\data\\SoccerNet\\jersey-2023\\processed_data\\test\\3\\illegible_results.json\n",
      "2025-03-31 09:18:33 [INFO] Legibility classification complete.\n",
      "2025-03-31 09:18:33 [INFO] Processed tracklet: 3\n"
     ]
    },
    {
     "name": "stderr",
     "output_type": "stream",
     "text": [
      "Lightning automatically upgraded your loaded checkpoint from v1.1.4 to v2.5.0.post0. To apply the upgrade to your files permanently, run `python -m pytorch_lightning.utilities.upgrade_checkpoint c:\\Users\\colin\\OneDrive\\Desktop\\Jersey-Number-Recognition\\data\\pre_trained_models\\reid\\dukemtmcreid_resnet50_256_128_epoch_120.ckpt`\n"
     ]
    },
    {
     "name": "stdout",
     "output_type": "stream",
     "text": [
      "2025-03-31 09:18:36 [INFO] Median vs. average vs. max of raw outputs (thresh=0.5): 0.5137666165828705, 0.5125175140846788, 0.5334370732307434\n",
      "2025-03-31 09:18:36 [INFO] Median vs. average vs. max of kept outputs (thresh=0.5): 0.514610230922699, 0.5148228122128381, 0.5334370732307434\n",
      "2025-03-31 09:18:36 [INFO] Tracklet 4 is legible.\n",
      "2025-03-31 09:18:36 [INFO] Saving legible_tracklets to: c:\\Users\\colin\\OneDrive\\Desktop\\Jersey-Number-Recognition\\data\\SoccerNet\\jersey-2023\\processed_data\\test\\4\\legible_results.json\n",
      "2025-03-31 09:18:36 [INFO] Saved legible_tracklets to: c:\\Users\\colin\\OneDrive\\Desktop\\Jersey-Number-Recognition\\data\\SoccerNet\\jersey-2023\\processed_data\\test\\4\\legible_results.json\n",
      "2025-03-31 09:18:36 [INFO] Saving illegible_tracklets to: c:\\Users\\colin\\OneDrive\\Desktop\\Jersey-Number-Recognition\\data\\SoccerNet\\jersey-2023\\processed_data\\test\\4\\illegible_results.json\n",
      "2025-03-31 09:18:36 [INFO] Saved illegible_tracklets to: c:\\Users\\colin\\OneDrive\\Desktop\\Jersey-Number-Recognition\\data\\SoccerNet\\jersey-2023\\processed_data\\test\\4\\illegible_results.json\n",
      "2025-03-31 09:18:36 [INFO] Legibility classification complete.\n",
      "2025-03-31 09:18:36 [INFO] Processed tracklet: 4\n",
      "2025-03-31 09:18:36 [INFO] 2025-03-31 09:18:34 [INFO] Threshold for scores: 0.97, rounds: 1\n",
      "2025-03-31 09:18:34 [INFO] Round 1: Excluded 18 outliers\n",
      "2025-03-31 09:18:34 [INFO] Round 1: Average score: 0.9915174245834351\n",
      "2025-03-31 09:18:34 [INFO] Excluded images: ['9_537.jpg', '9_538.jpg', '9_539.jpg', '9_540.jpg', '9_541.jpg', '9_542.jpg', '9_543.jpg', '9_544.jpg', '9_545.jpg', '9_546.jpg', '9_547.jpg', '9_599.jpg', '9_600.jpg', '9_601.jpg', '9_602.jpg', '9_603.jpg', '9_626.jpg', '9_627.jpg']\n",
      "\n",
      "2025-03-31 09:18:36 [ERROR] \n",
      "2025-03-31 09:18:36 [INFO] Done removing outliers\n",
      "2025-03-31 09:18:36 [INFO] Running model chain on preprocessed image(s).\n",
      "2025-03-31 09:18:36 [INFO] Classifying legibility of image(s) using pre-trained model.\n",
      "2025-03-31 09:18:41 [INFO] 2025-03-31 09:18:39 [INFO] Threshold for scores: 0.97, rounds: 1\n",
      "2025-03-31 09:18:39 [INFO] Round 1: Excluded 37 outliers\n",
      "2025-03-31 09:18:39 [INFO] Round 1: Average score: 0.9911014437675476\n",
      "2025-03-31 09:18:39 [INFO] Excluded images: ['7_596.jpg', '7_601.jpg', '7_602.jpg', '7_603.jpg', '7_604.jpg', '7_605.jpg', '7_606.jpg', '7_607.jpg', '7_608.jpg', '7_609.jpg', '7_610.jpg', '7_611.jpg', '7_612.jpg', '7_613.jpg', '7_614.jpg', '7_615.jpg', '7_616.jpg', '7_617.jpg', '7_618.jpg', '7_619.jpg', '7_620.jpg', '7_621.jpg', '7_622.jpg', '7_623.jpg', '7_624.jpg', '7_628.jpg', '7_629.jpg', '7_631.jpg', '7_632.jpg', '7_633.jpg', '7_634.jpg', '7_635.jpg', '7_639.jpg', '7_641.jpg', '7_642.jpg', '7_733.jpg', '7_734.jpg']\n",
      "\n",
      "2025-03-31 09:18:41 [ERROR] \n",
      "2025-03-31 09:18:41 [INFO] Done removing outliers\n",
      "2025-03-31 09:18:41 [INFO] Running model chain on preprocessed image(s).\n",
      "2025-03-31 09:18:41 [INFO] Classifying legibility of image(s) using pre-trained model.\n",
      "2025-03-31 09:18:41 [INFO] Median vs. average vs. max of raw outputs (thresh=0.5): 0.48361925780773163, 0.48319340839249186, 0.5348352789878845\n",
      "2025-03-31 09:18:41 [INFO] Median vs. average vs. max of kept outputs (thresh=0.5): 0.5047826766967773, 0.506697063750409, 0.5348352789878845\n",
      "2025-03-31 09:18:41 [INFO] Tracklet 6 is legible.\n",
      "2025-03-31 09:18:41 [INFO] Saving legible_tracklets to: c:\\Users\\colin\\OneDrive\\Desktop\\Jersey-Number-Recognition\\data\\SoccerNet\\jersey-2023\\processed_data\\test\\6\\legible_results.json\n",
      "2025-03-31 09:18:41 [INFO] Saved legible_tracklets to: c:\\Users\\colin\\OneDrive\\Desktop\\Jersey-Number-Recognition\\data\\SoccerNet\\jersey-2023\\processed_data\\test\\6\\legible_results.json\n",
      "2025-03-31 09:18:41 [INFO] Saving illegible_tracklets to: c:\\Users\\colin\\OneDrive\\Desktop\\Jersey-Number-Recognition\\data\\SoccerNet\\jersey-2023\\processed_data\\test\\6\\illegible_results.json\n",
      "2025-03-31 09:18:41 [INFO] Saved illegible_tracklets to: c:\\Users\\colin\\OneDrive\\Desktop\\Jersey-Number-Recognition\\data\\SoccerNet\\jersey-2023\\processed_data\\test\\6\\illegible_results.json\n",
      "2025-03-31 09:18:41 [INFO] Legibility classification complete.\n",
      "2025-03-31 09:18:41 [INFO] Processed tracklet: 6\n",
      "2025-03-31 09:18:42 [INFO] Saved features for tracklet with shape (641, 2048) to c:\\Users\\colin\\OneDrive\\Desktop\\Jersey-Number-Recognition\\data\\SoccerNet\\jersey-2023\\processed_data\\test\\11\\features.npy\n",
      "2025-03-31 09:18:42 [INFO] Identifying and removing outliers by calling gaussian_outliers.py on feature file\n"
     ]
    },
    {
     "name": "stderr",
     "output_type": "stream",
     "text": [
      "Lightning automatically upgraded your loaded checkpoint from v1.1.4 to v2.5.0.post0. To apply the upgrade to your files permanently, run `python -m pytorch_lightning.utilities.upgrade_checkpoint c:\\Users\\colin\\OneDrive\\Desktop\\Jersey-Number-Recognition\\data\\pre_trained_models\\reid\\dukemtmcreid_resnet50_256_128_epoch_120.ckpt`\n"
     ]
    }
   ],
   "source": [
    "pipeline.run_soccernet(\n",
    "  run_soccer_ball_filter=False,\n",
    "  generate_features=True,\n",
    "  run_filter=True,\n",
    "  run_legible=True,\n",
    "  run_legible_eval=True,\n",
    "  run_pose=True,\n",
    "  run_crops=True,\n",
    "  run_str=True,\n",
    "  run_combine=False,\n",
    "  run_eval=False,\n",
    "  use_clip4str=True,\n",
    "  pyscript=False,\n",
    "  )"
   ]
  },
  {
   "cell_type": "markdown",
   "metadata": {},
   "source": [
    "## Benchmark (current pipeline metrics)\n",
    "### Results\n",
    "- 2025-03-29 14:44:05 [INFO] Correct 1051 out of 1210. Accuracy 86.85950413223141%.\n",
    "- 2025-03-29 14:44:05 [INFO] TP=766, TN=285, FP=70, FN=89\n",
    "- 2025-03-29 14:44:05 [INFO] Precision=0.916267942583732, Recall=0.895906432748538\n",
    "- 2025-03-29 14:44:05 [INFO] F1=0.9059727971614429\n",
    "- 2025-03-29 14:44:05 [INFO] Saved failed legibility cases to:  c:\\Users\\colin\\OneDrive\\Desktop\\Jersey-Number-Recognition\\data\\SoccerNet\\jersey-2023\\processed_data\\test\\common_data\\failed_legibility_cases.json\n",
    "\n",
    "### Analysis\n",
    "legible_but_marked_illegible: 89 cases\n",
    "109, 88, 34, 151, 19, 68, 67, 128, 57, 178, 189, 196, 214, 242, 258, 271, 304, 327, 320, 352, 375, 378, 414, 416, 439, 425, 451, 453, 454, 466, 499, 511, 513, 526, 528, 567, 576, 594, 619, 623, 646, 687, 682, 709, 711, 717, 739, 758, 767, 795, 788, 840, 843, 832, 841, 852, 847, 851, 856, 850, 868, 866, 871, 901, 902, 904, 900, 907, 928, 939, 944, 961, 984, 983, 1005, 1039, 1064, 1063, 1077, 1091, 1101, 1137, 1152, 1153, 1160, 1167, 1157, 1165, 1206\n",
    "\n",
    "illegible_but_marked_legible: 70 cases\n",
    "168, 167, 162, 97, 39, 87, 89, 134, 61, 172, 164, 199, 215, 260, 267, 269, 281, 276, 288, 295, 317, 325, 340, 345, 374, 394, 388, 386, 391, 406, 408, 434, 437, 459, 471, 514, 532, 558, 683, 748, 770, 790, 802, 827, 861, 869, 879, 897, 895, 909, 964, 981, 999, 1023, 1031, 1025, 1033, 1030, 1055, 1088, 1087, 1169, 1175, 1174, 1173, 1183, 1170, 1179, 1184, 1185\n",
    "\n",
    "- Total misclassifications: 159\n",
    "- False negatives (legible marked as illegible): 89\n",
    "- False positives (illegible marked as legible): 70\n",
    "- Percentage of false negatives: 7.36%\n",
    "- Percentage of false positives: 5.79%\n",
    "- Combined percentage of errors as a percentage of total cases: 13.14%"
   ]
  },
  {
   "cell_type": "code",
   "execution_count": null,
   "metadata": {},
   "outputs": [],
   "source": [
    "import json\n",
    "failed_cases = f\"{DataPaths.COMMON_PROCESSED_OUTPUT_DATA_CHALLENGE.value}/failed_legibility_cases.json\"\n",
    "\n",
    "# Load this JSON file\n",
    "with open(failed_cases, 'r') as f:\n",
    "    failed_cases_dict = json.load(f)\n",
    "    # Print the every key and its associated value (value will be a list so need to make that printable with \",\".join):\n",
    "    for key, value in failed_cases_dict.items():\n",
    "        print(f\"{key}: {len(value)} cases\")\n",
    "        if len(value) > 0:\n",
    "            print(f\"{', '.join(value)}\")\n",
    "        print()\n",
    "    \n",
    "    # Summary statistics\n",
    "    legible_but_marked_illegible = len(failed_cases_dict.get(\"legible_but_marked_illegible\", []))\n",
    "    illegible_but_marked_legible = len(failed_cases_dict.get(\"illegible_but_marked_legible\", []))\n",
    "    total_errors = legible_but_marked_illegible + illegible_but_marked_legible\n",
    "    \n",
    "    print(f\"Total misclassifications: {total_errors}\")\n",
    "    print(f\"False negatives (legible marked as illegible): {legible_but_marked_illegible}\")\n",
    "    print(f\"False positives (illegible marked as legible): {illegible_but_marked_legible}\")\n",
    "    print(f\"Percentage of false negatives: {legible_but_marked_illegible / 1210 * 100:.2f}%\")\n",
    "    print(f\"Percentage of false positives: {illegible_but_marked_legible / 1210 * 100:.2f}%\")\n",
    "    print(f\"Combined percentage of errors as a percentage of total cases: {total_errors / 1210 * 100:.2f}%\")"
   ]
  },
  {
   "cell_type": "code",
   "execution_count": null,
   "metadata": {},
   "outputs": [],
   "source": [
    "# import timm\n",
    "# import torch\n",
    "# from torch import nn\n",
    "\n",
    "# model = timm.create_model(\"timm/vit_base_patch16_224.orig_in21k_ft_in1k\", pretrained=False)\n",
    "# model.head = nn.Linear(model.head.in_features, 10)\n",
    "# model.load_state_dict(\n",
    "#     torch.hub.load_state_dict_from_url(\n",
    "#         \"https://huggingface.co/edadaltocg/vit_base_patch16_224_in21k_ft_svhn/resolve/main/pytorch_model.bin\",\n",
    "#         map_location=\"cpu\",\n",
    "#         file_name=\"vit_base_patch16_224_in21k_ft_svhn.pth\",\n",
    "#     )\n",
    "# )"
   ]
  }
 ],
 "metadata": {
  "kernelspec": {
   "display_name": "UBC",
   "language": "python",
   "name": "python3"
  },
  "language_info": {
   "codemirror_mode": {
    "name": "ipython",
    "version": 3
   },
   "file_extension": ".py",
   "mimetype": "text/x-python",
   "name": "python",
   "nbconvert_exporter": "python",
   "pygments_lexer": "ipython3",
   "version": "3.13.1"
  }
 },
 "nbformat": 4,
 "nbformat_minor": 2
}
