{
 "cells": [
  {
   "cell_type": "code",
   "execution_count": 1,
   "metadata": {},
   "outputs": [
    {
     "name": "stdout",
     "output_type": "stream",
     "text": [
      "c:\\Users\\colin\\OneDrive\\Desktop\\Jersey-Number-Recognition\n",
      "Current working directory:  c:\\Users\\colin\\OneDrive\\Desktop\\Jersey-Number-Recognition\\ModelDevelopment\\experiments\n"
     ]
    }
   ],
   "source": [
    "import sys\n",
    "from pathlib import Path\n",
    "import os\n",
    "import json\n",
    "\n",
    "sys.path.append(str(Path.cwd().parent.parent))\n",
    "print(str(Path.cwd().parent.parent))\n",
    "print(\"Current working directory: \", os.getcwd())\n",
    "\n",
    "from DataProcessing.DataAugmentation import ImageEnhancement\n",
    "from ModelDevelopment.CentralPipeline import CentralPipeline\n",
    "from ModelDevelopment.ImageBatchPipeline import ImageBatchPipeline\n",
    "from DataProcessing.DataPreProcessing import DataPaths"
   ]
  },
  {
   "cell_type": "code",
   "execution_count": 2,
   "metadata": {},
   "outputs": [
    {
     "name": "stdout",
     "output_type": "stream",
     "text": [
      "2025-04-04 22:15:25 [INFO] DataPreProcessing initialized. Universe of available data paths:\n",
      "2025-04-04 22:15:25 [INFO] ROOT_DATA_DIR: c:\\Users\\colin\\OneDrive\\Desktop\\Jersey-Number-Recognition\\data\\SoccerNet\\jersey-2023\\extracted\n",
      "2025-04-04 22:15:25 [INFO] TEST_DATA_GT: c:\\Users\\colin\\OneDrive\\Desktop\\Jersey-Number-Recognition\\data\\SoccerNet\\jersey-2023\\extracted\\test\\test_gt.json\n",
      "2025-04-04 22:15:25 [INFO] TRAIN_DATA_GT: c:\\Users\\colin\\OneDrive\\Desktop\\Jersey-Number-Recognition\\data\\SoccerNet\\jersey-2023\\extracted\\train\\train_gt.json\n",
      "2025-04-04 22:15:25 [INFO] TEST_DATA_DIR: c:\\Users\\colin\\OneDrive\\Desktop\\Jersey-Number-Recognition\\data\\SoccerNet\\jersey-2023\\extracted\\test\\images\n",
      "2025-04-04 22:15:25 [INFO] TRAIN_DATA_DIR: c:\\Users\\colin\\OneDrive\\Desktop\\Jersey-Number-Recognition\\data\\SoccerNet\\jersey-2023\\extracted\\train\\images\n",
      "2025-04-04 22:15:25 [INFO] CHALLENGE_DATA_DIR: c:\\Users\\colin\\OneDrive\\Desktop\\Jersey-Number-Recognition\\data\\SoccerNet\\jersey-2023\\extracted\\challenge\\images\n",
      "2025-04-04 22:15:25 [INFO] PRE_TRAINED_MODELS_DIR: c:\\Users\\colin\\OneDrive\\Desktop\\Jersey-Number-Recognition\\data\\pre_trained_models\n",
      "2025-04-04 22:15:25 [INFO] REID_PRE_TRAINED: c:\\Users\\colin\\OneDrive\\Desktop\\Jersey-Number-Recognition\\data\\pre_trained_models\\reid\n",
      "2025-04-04 22:15:25 [INFO] STR_PRE_TRAINED: c:\\Users\\colin\\OneDrive\\Desktop\\Jersey-Number-Recognition\\data\\pre_trained_models\\str\n",
      "2025-04-04 22:15:25 [INFO] STR_MODEL: c:\\Users\\colin\\OneDrive\\Desktop\\Jersey-Number-Recognition\\data\\pre_trained_models\\str\\parseq_epoch=24-step=2575-val_accuracy=95.6044-val_NED=96.3255.ckpt\n",
      "2025-04-04 22:15:25 [INFO] REID_MODEL_1: c:\\Users\\colin\\OneDrive\\Desktop\\Jersey-Number-Recognition\\data\\pre_trained_models\\reid\\dukemtmcreid_resnet50_256_128_epoch_120.ckpt\n",
      "2025-04-04 22:15:25 [INFO] REID_MODEL_2: c:\\Users\\colin\\OneDrive\\Desktop\\Jersey-Number-Recognition\\data\\pre_trained_models\\reid\\market1501_resnet50_256_128_epoch_120.ckpt\n",
      "2025-04-04 22:15:25 [INFO] REID_CONFIG_YAML: c:\\Users\\colin\\OneDrive\\Desktop\\Jersey-Number-Recognition\\data\\pre_trained_models\\reid\\configs\\256_resnet50.yml\n",
      "2025-04-04 22:15:25 [INFO] RESNET_MODEL: c:\\Users\\colin\\OneDrive\\Desktop\\Jersey-Number-Recognition\\data\\pre_trained_models\\resnet\\legibility_resnet34_soccer_20240215.pth\n",
      "2025-04-04 22:15:25 [INFO] VIT_MODEL: c:\\Users\\colin\\OneDrive\\Desktop\\Jersey-Number-Recognition\\data\\pre_trained_models\\ViT\\vit_base_patch16_224_in21k_ft_svhn.pth\n",
      "2025-04-04 22:15:25 [INFO] PROCESSED_DATA_OUTPUT_DIR: c:\\Users\\colin\\OneDrive\\Desktop\\Jersey-Number-Recognition\\data\\SoccerNet\\jersey-2023\\processed_data\n",
      "2025-04-04 22:15:25 [INFO] PROCESSED_DATA_OUTPUT_DIR_TRAIN: c:\\Users\\colin\\OneDrive\\Desktop\\Jersey-Number-Recognition\\data\\SoccerNet\\jersey-2023\\processed_data\\train\n",
      "2025-04-04 22:15:25 [INFO] PROCESSED_DATA_OUTPUT_DIR_TEST: c:\\Users\\colin\\OneDrive\\Desktop\\Jersey-Number-Recognition\\data\\SoccerNet\\jersey-2023\\processed_data\\test\n",
      "2025-04-04 22:15:25 [INFO] PROCESSED_DATA_OUTPUT_DIR_CHALLENGE: c:\\Users\\colin\\OneDrive\\Desktop\\Jersey-Number-Recognition\\data\\SoccerNet\\jersey-2023\\processed_data\\challenge\n",
      "2025-04-04 22:15:25 [INFO] COMMON_PROCESSED_OUTPUT_DATA_TRAIN: c:\\Users\\colin\\OneDrive\\Desktop\\Jersey-Number-Recognition\\data\\SoccerNet\\jersey-2023\\processed_data\\train\\common_data\n",
      "2025-04-04 22:15:25 [INFO] COMMON_PROCESSED_OUTPUT_DATA_TEST: c:\\Users\\colin\\OneDrive\\Desktop\\Jersey-Number-Recognition\\data\\SoccerNet\\jersey-2023\\processed_data\\test\\common_data\n",
      "2025-04-04 22:15:25 [INFO] COMMON_PROCESSED_OUTPUT_DATA_CHALLENGE: c:\\Users\\colin\\OneDrive\\Desktop\\Jersey-Number-Recognition\\data\\SoccerNet\\jersey-2023\\processed_data\\challenge\\common_data\n",
      "2025-04-04 22:15:25 [INFO] STREAMLINED_PIPELINE: c:\\Users\\colin\\OneDrive\\Desktop\\Jersey-Number-Recognition\\StreamlinedPipelineScripts\n",
      "2025-04-04 22:15:25 [INFO] ENHANCED_STR_ROOT: c:\\Users\\colin\\OneDrive\\Desktop\\Jersey-Number-Recognition\\data\\pre_trained_models\\clip4str\n",
      "2025-04-04 22:15:25 [INFO] ENHANCED_STR_MAIN: c:\\Users\\colin\\OneDrive\\Desktop\\Jersey-Number-Recognition\\data\\pre_trained_models\\clip4str\\clip4str_huge_3e942729b1.pt\n",
      "2025-04-04 22:15:25 [INFO] ENHANCED_STR_OPEN_CLIP: c:\\Users\\colin\\OneDrive\\Desktop\\Jersey-Number-Recognition\\data\\pre_trained_models\\clip4str\\appleDFN5B-CLIP-ViT-H-14.bin\n",
      "2025-04-04 22:15:25 [INFO] ENHANCED_STR_VIT_L: c:\\Users\\colin\\OneDrive\\Desktop\\Jersey-Number-Recognition\\data\\pre_trained_models\\clip4str\\ViT-L-14.pt\n",
      "2025-04-04 22:15:25 [INFO] ['0', '1', '2', '3', '4', '5', '6', '7', '8', '9']\n",
      "2025-04-04 22:15:25 [INFO] Min tracklet: 0\n",
      "2025-04-04 22:15:25 [INFO] Max tracklet: 1210\n",
      "2025-04-04 22:15:26 [INFO] Using device: cuda\n"
     ]
    }
   ],
   "source": [
    "pipeline = CentralPipeline(\n",
    "  #num_tracklets=1211, #1426,\n",
    "  #num_images_per_tracklet=50,\n",
    "  #tracklets_to_process_override=tracklets_to_process_override_batch1,\n",
    "  #tracklets_to_process_override=[109, 88, 34, 151, 19, 68, 67, 128, 57, 178, 189, 196, 214, 242, 258, 271, 304, 327, 320, 352, 375, 378, 414, 416, 439, 425, 451, 453, 454, 466, 499, 511, 513, 526, 528, 567, 576, 594, 619, 623, 646, 687, 682, 709, 711, 717, 739, 758, 767, 795, 788, 840, 843, 832, 841, 852, 847, 851, 856, 850, 868, 866, 871, 901, 902, 904, 900, 907, 928, 939, 944, 961, 984, 983, 1005, 1039, 1064, 1063, 1077, 1091, 1101, 1137, 1152, 1153, 1160, 1167, 1157, 1165, 1206],\n",
    "  tracklets_to_process_override=['11', '12', '18', '19', '26', '34', '46', '52', '54', '57', '67', '68', '88', '102', '109', '128', '136', '138', '145', '148', '150', '151', '166', '178', '189', '196', '214', '219', '232', '242', '253', '258', '271', '304', '318', '320', '327', '349', '352', '361', '375', '378', '385', '397', '413', '414', '416', '425', '439', '451', '452', '453', '454', '461', '464', '466', '489', '494', '496', '498', '499', '506', '510', '511', '512', '513', '526', '528', '546', '567', '576', '594', '608', '619', '623', '646', '661', '675', '682', '687', '701', '702', '709', '711', '717', '725', '735', '739', '758', '767', '777', '788', '795', '832', '840', '841', '843', '847', '850', '851', '852', '855', '856', '863', '866', '868', '871', '882', '883', '886', '890', '891', '900', '901', '902', '904', '906', '907', '911', '914', '915', '928', '939', '940', '944', '957', '961', '963', '978', '980', '983', '984', '986', '1005', '1009', '1013', '1015', '1029', '1039', '1049', '1050', '1051', '1054', '1061', '1062', '1063', '1064', '1074', '1077', '1091', '1101', '1104', '1109', '1110', '1114', '1128', '1137', '1148', '1152', '1153', '1154', '1157', '1160', '1165', '1167', '1181'],\n",
    "  input_data_path=DataPaths.TEST_DATA_DIR.value, #DataPaths.CHALLENGE_DATA_DIR.value,\n",
    "  output_processed_data_path=DataPaths.PROCESSED_DATA_OUTPUT_DIR_TEST.value, #DataPaths.PROCESSED_DATA_OUTPUT_DIR_CHALLENGE.value,\n",
    "  common_processed_data_dir=DataPaths.COMMON_PROCESSED_OUTPUT_DATA_TEST.value, #DataPaths.COMMON_PROCESSED_OUTPUT_DATA_CHALLENGE.value,\n",
    "  gt_data_path=DataPaths.TEST_DATA_GT.value, #\"\",\n",
    "  use_cache=True, # Set to false to rebuild the cache\n",
    "  suppress_logging=False,\n",
    "  use_image_enhancement=True,\n",
    "  # --- PARALLELIZATION PARAMS --- These settings are optimal for an NVIDIA RTX 3070 Ti Laptop GPU.\n",
    "  num_workers=1,                   # CRITICAL optimisation param. Adjust accordingly. STR: 1 | Everything else: 6\n",
    "  tracklet_batch_size=32,          # CRITICAL optimisation param. Adjust accordingly. Always 32\n",
    "  image_batch_size=1000,           # CRITICAL optimisation param. Adjust accordingly.\n",
    "  num_threads_multiplier=2         # CRITICAL optimisation param. Adjust accordingly. Always 6\n",
    "  )                                # -> Interpretation: num_threads = num_workers * num_threads_multiplier"
   ]
  },
  {
   "cell_type": "code",
   "execution_count": 3,
   "metadata": {},
   "outputs": [],
   "source": [
    "#pipeline.aggregate_legibility_results_data()\n",
    "#pipeline.aggregate_pose()\n",
    "#pipeline.aggregate_str_results()"
   ]
  },
  {
   "cell_type": "code",
   "execution_count": 4,
   "metadata": {},
   "outputs": [
    {
     "name": "stdout",
     "output_type": "stream",
     "text": [
      "2025-04-04 22:15:26 [INFO] Running the SoccerNet pipeline.\n",
      "2025-04-04 22:15:26 [INFO] Reading legible & illegible results from cache (both global files exist).\n",
      "2025-04-04 22:15:26 [INFO] Legible tracklets list: 11, 12, 18, 26, 46, 52, 54, 102, 136, 138, 145, 148, 150, 166, 219, 232, 253, 318, 327, 349, 361, 385, 397, 413, 452, 461, 464, 489, 494, 496, 498, 506, 510, 512, 546, 608, 661, 675, 701, 702, 711, 725, 735, 777, 855, 863, 882, 883, 886, 890, 891, 906, 907, 911, 914, 915, 940, 957, 963, 978, 980, 986, 1009, 1013, 1015, 1029, 1049, 1050, 1051, 1054, 1061, 1062, 1064, 1074, 1104, 1109, 1110, 1114, 1128, 1148, 1154, 1181\n",
      "2025-04-04 22:15:26 [INFO] Results dict: {'18': '8', '26': '9', '12': '33', '46': '36', '11': -1, '52': '36', '54': '3', '136': '3', '102': '59', '138': '1', '145': '-1', '148': '-1', '150': '-1', '166': '34', '219': '1', '232': '10', '253': '27', '318': '-1', '327': '-1', '349': '34', '361': '59', '397': '36', '385': -1, '413': '-1', '452': -1, '461': '2', '464': '5', '489': '-1', '494': '10', '496': '5', '498': '-1', '506': '-1', '510': '11', '512': '-1', '546': '26', '608': '23', '661': '5', '675': '3', '701': '6', '702': '1', '725': '5', '711': -1, '777': '1', '735': '33', '863': '-1', '855': '4', '882': '19', '883': '1', '886': '3', '890': '7', '891': '9', '906': '-1', '907': '-1', '911': '14', '914': '7', '915': '1', '957': '-1', '940': -1, '963': '-1', '978': '5', '980': '-1', '986': '3', '1009': '1', '1013': '1', '1015': '1', '1029': '52', '1049': '7', '1050': '1', '1051': '-1', '1054': '55', '1061': '7', '1062': '-1', '1064': '1', '1074': '1', '1104': '-1', '1110': '-1', '1109': '1', '1114': '7', '1128': '5', '1148': '-1', '1154': '1', '1181': '14'}\n",
      "2025-04-04 22:15:26 [INFO] Analysis results: {'18': {'label': '8', 'unique': array([ 1.,  8.,  9., 11., 21.]), 'weights': [np.float64(2.7300000000000004), np.float64(3.12), np.float64(0.39), np.float64(0.5709355241060257), np.float64(0.9809637224674225)]}, '26': {'label': '9', 'unique': array([ 1.,  2.,  3.,  7.,  9., 33.]), 'weights': [np.float64(0.39), np.float64(0.39), np.float64(0.78), np.float64(0.39), np.float64(4.68), np.float64(2.9946990144252776)]}, '12': {'label': '33', 'unique': array([ 3., 14., 30., 33., 35., 36., 38.]), 'weights': [np.float64(7.582088249939881), np.float64(2.4340434777736664), np.float64(1.1475750583410265), np.float64(19.295993555188176), np.float64(2.4301156693696973), np.float64(10.96638452589512), np.float64(3.042829601764679)]}, '46': {'label': '36', 'unique': array([ 1.,  3.,  6., 13., 32., 36., 38., 39., 68.]), 'weights': [np.float64(1.56), np.float64(6.4208996838410055), np.float64(6.24), np.float64(0.5434833687543869), np.float64(0.554410252571106), np.float64(124.77222734868526), np.float64(4.824392364025115), np.float64(0.5583577311038971), np.float64(0.3304161697626114)]}, '52': {'label': '36', 'unique': array([ 1.,  5., 35., 36.]), 'weights': [np.float64(0.78), np.float64(1.56), np.float64(0.18033548653125764), np.float64(2.876936698257923)]}, '54': {'label': '3', 'unique': array([3]), 'weights': [np.float64(3.9000000000000004)]}, '136': {'label': '3', 'unique': array([ 1.,  3., 23., 33., 83.]), 'weights': [np.float64(2.3400000000000003), np.float64(8.97), np.float64(0.5304916667938232), np.float64(5.178535108566283), np.float64(0.22357724696397782)]}, '102': {'label': '59', 'unique': array([ 9., 59., 69.]), 'weights': [np.float64(10.782355609899222), np.float64(44.50397165656091), np.float64(11.123113458156586)]}, '138': {'label': '1', 'unique': array([1, 9]), 'weights': [np.float64(1.9500000000000002), np.float64(1.9500000000000002)]}, '145': {'label': '-1', 'unique': array([1]), 'weights': [np.float64(0.39)]}, '148': {'label': '-1', 'unique': array([9]), 'weights': [np.float64(0.39)]}, '150': {'label': '-1', 'unique': array([ 4., 44., 64.]), 'weights': [np.float64(0.39), np.float64(0.6021873593330384), np.float64(0.3950023651123047)]}, '166': {'label': '34', 'unique': array([ 5., 14., 24., 34.]), 'weights': [np.float64(0.39), np.float64(0.666860379576683), np.float64(0.3924782258272171), np.float64(2.4503353801369667)]}, '219': {'label': '1', 'unique': array([ 1.,  9., 10.]), 'weights': [np.float64(6.24), np.float64(4.68), np.float64(0.2199236387014389)]}, '232': {'label': '10', 'unique': array([ 8., 10., 50.]), 'weights': [np.float64(0.39), np.float64(1.8281035959720613), np.float64(1.2145147246122359)]}, '253': {'label': '27', 'unique': array([ 1.,  2.,  3.,  7.,  8., 27., 28., 33., 34., 37., 49.]), 'weights': [np.float64(0.78), np.float64(3.12), np.float64(3.5100000000000002), np.float64(1.56), np.float64(0.78), np.float64(23.784432190060617), np.float64(0.5979318124055862), np.float64(18.143398396372795), np.float64(9.067814311385154), np.float64(1.2194464367628097), np.float64(0.5896440708637237)]}, '318': {'label': '-1', 'unique': array([5, 6]), 'weights': [np.float64(0.39), np.float64(0.39)]}, '327': {'label': '-1', 'unique': array([23.]), 'weights': [np.float64(0.49265648305416104)]}, '349': {'label': '34', 'unique': array([ 1.,  2.,  3., 34.]), 'weights': [np.float64(2.3400000000000003), np.float64(0.39), np.float64(0.39), np.float64(5.4872736692428585)]}, '361': {'label': '59', 'unique': array([ 1.,  6.,  9., 58., 59., 69.]), 'weights': [np.float64(1.17), np.float64(0.39), np.float64(15.600000000000001), np.float64(0.6084975802898407), np.float64(31.964408440589906), np.float64(3.105029348731041)]}, '397': {'label': '36', 'unique': array([ 1.,  2., 36., 38.]), 'weights': [np.float64(0.78), np.float64(0.39), np.float64(3.023826948404312), np.float64(1.823488387465477)]}, '413': {'label': '-1', 'unique': array([7]), 'weights': [np.float64(0.39)]}, '461': {'label': '2', 'unique': array([ 2.,  7., 11.]), 'weights': [np.float64(12.870000000000001), np.float64(2.3400000000000003), np.float64(0.5299787163734436)]}, '464': {'label': '5', 'unique': array([ 3.,  5., 15.]), 'weights': [np.float64(0.39), np.float64(23.400000000000006), np.float64(6.563244441151619)]}, '489': {'label': '-1', 'unique': array([33., 93.]), 'weights': [np.float64(0.28526162564754487), np.float64(0.36283206939697266)]}, '494': {'label': '10', 'unique': array([ 1., 10., 25., 50., 60.]), 'weights': [np.float64(0.39), np.float64(9.715793257951736), np.float64(1.828915452361107), np.float64(4.067303685545921), np.float64(0.9306005936861037)]}, '496': {'label': '5', 'unique': array([ 1.,  5., 15., 55.]), 'weights': [np.float64(0.78), np.float64(11.310000000000002), np.float64(6.056479021906853), np.float64(3.024994430541992)]}, '498': {'label': '-1', 'unique': array([ 1., 31., 32.]), 'weights': [np.float64(0.0), np.float64(0.8107616977548594), np.float64(0.2342675620317459)]}, '506': {'label': '-1', 'unique': array([1]), 'weights': [np.float64(0.39)]}, '510': {'label': '11', 'unique': array([ 1.,  2., 11., 17., 77.]), 'weights': [np.float64(4.68), np.float64(3.12), np.float64(40.64848180830479), np.float64(2.0790356838703157), np.float64(0.44489279270172116)]}, '512': {'label': '-1', 'unique': array([ 3., 15.]), 'weights': [np.float64(0.39), np.float64(0.48227105498313905)]}, '546': {'label': '26', 'unique': array([ 1.,  2.,  3., 26.]), 'weights': [np.float64(0.78), np.float64(0.39), np.float64(0.39), np.float64(1.7610575437545775)]}, '608': {'label': '23', 'unique': array([23.]), 'weights': [np.float64(3.0485464465618133)]}, '661': {'label': '5', 'unique': array([ 1.,  4.,  5.,  6.,  7., 15., 55.]), 'weights': [np.float64(2.7300000000000004), np.float64(0.39), np.float64(7.174323211456756), np.float64(0.39), np.float64(3.5100000000000002), np.float64(0.25160739009531335), np.float64(1.003170147538328)]}, '675': {'label': '3', 'unique': array([ 1.,  3., 13., 19., 33., 35., 53., 83., 93.]), 'weights': [np.float64(0.39), np.float64(17.772627801341194), np.float64(0.6732243978652276), np.float64(0.5940447986125946), np.float64(2.5302678209543226), np.float64(0.5962597787380218), np.float64(0.2437332934141159), np.float64(0.4402507150173187), np.float64(10.15188772201538)]}, '701': {'label': '6', 'unique': array([ 3.,  4.,  6.,  7.,  9., 14., 18., 35., 36., 38., 61., 66.]), 'weights': [np.float64(1.9626486227447453), np.float64(1.56), np.float64(25.740000000000006), np.float64(0.78), np.float64(0.39), np.float64(1.7970870387554168), np.float64(0.576505988240242), np.float64(0.6092520624399185), np.float64(17.01793263554573), np.float64(7.302011903524398), np.float64(0.5817117732763291), np.float64(1.9170479553937911)]}, '702': {'label': '1', 'unique': array([1, 9]), 'weights': [np.float64(1.56), np.float64(0.39)]}, '725': {'label': '5', 'unique': array([ 2.,  3.,  5.,  7., 15., 19., 20., 23., 55., 75., 80.]), 'weights': [np.float64(0.39), np.float64(0.78), np.float64(16.770000000000003), np.float64(0.39), np.float64(7.216903764605522), np.float64(0.5875725626945495), np.float64(1.590378829490047), np.float64(0.4856200671195984), np.float64(0.5908432942628861), np.float64(0.44605045795440673), np.float64(0.3123168516159058)]}, '777': {'label': '1', 'unique': array([1, 2, 4, 7]), 'weights': [np.float64(1.17), np.float64(0.78), np.float64(0.39), np.float64(1.17)]}, '735': {'label': '33', 'unique': array([ 1.,  2.,  3.,  7., 33., 35., 73.]), 'weights': [np.float64(0.78), np.float64(0.08428923740788336), np.float64(7.02), np.float64(2.7300000000000004), np.float64(8.086126975417137), np.float64(0.5973148757219314), np.float64(2.507805679142475)]}, '863': {'label': '-1', 'unique': array([ 3., 16.]), 'weights': [np.float64(0.39), np.float64(0.4333709227875319)]}, '855': {'label': '4', 'unique': array([ 3.,  4.,  5.,  6.,  9., 14.]), 'weights': [np.float64(0.78), np.float64(21.534648718422552), np.float64(1.17), np.float64(0.78), np.float64(0.39), np.float64(0.5262608802318572)]}, '882': {'label': '19', 'unique': array([ 1.,  2.,  3.,  6.,  7.,  9., 12., 13., 18., 19., 25., 29., 33.,\n",
      "       39., 59., 76.]), 'weights': [np.float64(5.459999999999999), np.float64(0.39), np.float64(2.3400000000000003), np.float64(5.849999999999999), np.float64(5.069999999999999), np.float64(2.8741260400165056), np.float64(0.550775750875473), np.float64(1.208678568303585), np.float64(0.7250592005252838), np.float64(7.680926157534122), np.float64(0.13836934849619864), np.float64(0.5726863473653793), np.float64(0.21202604562044144), np.float64(0.8491556072235107), np.float64(0.0), np.float64(0.20726995377828417)]}, '883': {'label': '1', 'unique': array([ 1.,  6.,  7., 10.]), 'weights': [np.float64(4.68), np.float64(0.39), np.float64(0.39), np.float64(0.3214367741346359)]}, '886': {'label': '3', 'unique': array([ 1.,  2.,  3.,  8.,  9., 22., 23.]), 'weights': [np.float64(1.17), np.float64(1.17), np.float64(3.5100000000000002), np.float64(1.17), np.float64(0.39), np.float64(0.6257400479912758), np.float64(0.17522345274686812)]}, '890': {'label': '7', 'unique': array([ 1.,  2.,  3.,  4.,  6.,  7.,  9., 15., 17., 34., 57.]), 'weights': [np.float64(3.5100000000000002), np.float64(1.9500000000000002), np.float64(3.5100000000000002), np.float64(3.12), np.float64(0.39), np.float64(12.870000000000001), np.float64(0.78), np.float64(0.25897944301366804), np.float64(11.360869941115379), np.float64(5.983849270939827), np.float64(0.5427118343114853)]}, '891': {'label': '9', 'unique': array([ 1.,  4.,  9., 10., 18., 30., 33.]), 'weights': [np.float64(0.39), np.float64(0.39), np.float64(2.7300000000000004), np.float64(0.33226330757141115), np.float64(0.6064322167634963), np.float64(1.2020385909080504), np.float64(0.6073170816898346)]}, '906': {'label': '-1', 'unique': array([ 1.,  3., 11., 12., 14., 20., 50., 52.]), 'weights': [np.float64(0.78), np.float64(0.39), np.float64(0.531346971988678), np.float64(0.5237852436304092), np.float64(0.9903213590383529), np.float64(0.30226707011461257), np.float64(0.18321883291006089), np.float64(0.5404899460077286)]}, '907': {'label': '-1', 'unique': array([2]), 'weights': [np.float64(0.39)]}, '911': {'label': '14', 'unique': array([ 1.,  2.,  4.,  6.,  7., 10., 12., 13., 14., 15., 17., 21., 24.,\n",
      "       34., 37., 54., 67., 74., 75.]), 'weights': [np.float64(8.19), np.float64(2.1582255088529654), np.float64(1.56), np.float64(0.39), np.float64(15.600000000000001), np.float64(0.5782660466432571), np.float64(3.256460471749305), np.float64(2.9054187357425687), np.float64(90.44977829933165), np.float64(0.6024458342790604), np.float64(2.7786289757490157), np.float64(0.5025677192211151), np.float64(1.4412984389066696), np.float64(2.248237877488136), np.float64(0.563629943728447), np.float64(0.21850468069314957), np.float64(0.405623762011528), np.float64(0.3796964597702026), np.float64(0.539798691868782)]}, '914': {'label': '7', 'unique': array([ 1.,  2.,  4.,  7.,  9., 11., 17.]), 'weights': [np.float64(0.39), np.float64(0.39), np.float64(0.78), np.float64(4.68), np.float64(0.39), np.float64(1.9604619657993316), np.float64(1.1767818182706833)]}, '915': {'label': '1', 'unique': array([ 1.,  2.,  3.,  4.,  5.,  7., 73.]), 'weights': [np.float64(5.069999999999999), np.float64(0.39), np.float64(0.39), np.float64(0.39), np.float64(0.39), np.float64(2.3400000000000003), np.float64(0.2000178137421608)]}, '957': {'label': '-1', 'unique': array([ 3., 24.]), 'weights': [np.float64(0.39), np.float64(0.6088966912031174)]}, '963': {'label': '-1', 'unique': array([1, 2, 3]), 'weights': [np.float64(0.39), np.float64(0.39), np.float64(0.39)]}, '978': {'label': '5', 'unique': array([ 1.,  2.,  3.,  5.,  7., 15., 17., 57., 67.]), 'weights': [np.float64(0.78), np.float64(0.39), np.float64(0.39), np.float64(3.9000000000000004), np.float64(2.3400000000000003), np.float64(1.7205148631334302), np.float64(0.22296572774648665), np.float64(0.24341439008712767), np.float64(0.5604029881954193)]}, '980': {'label': '-1', 'unique': array([5]), 'weights': [np.float64(0.39)]}, '986': {'label': '3', 'unique': array([1, 3, 5, 7, 9]), 'weights': [np.float64(0.78), np.float64(1.17), np.float64(0.39), np.float64(0.78), np.float64(0.39)]}, '1009': {'label': '1', 'unique': array([ 1.,  2.,  3.,  8.,  9., 25.]), 'weights': [np.float64(1.17), np.float64(0.78), np.float64(0.39), np.float64(0.39), np.float64(0.39), np.float64(0.37266546130180356)]}, '1013': {'label': '1', 'unique': array([1, 3]), 'weights': [np.float64(1.9500000000000002), np.float64(0.39)]}, '1015': {'label': '1', 'unique': array([ 1.,  2.,  7., 17.]), 'weights': [np.float64(3.12), np.float64(0.39), np.float64(0.78), np.float64(1.1282164883613586)]}, '1029': {'label': '52', 'unique': array([ 1.,  2.,  5.,  7.,  9., 13., 18., 21., 32., 37., 52., 62.]), 'weights': [np.float64(2.3400000000000003), np.float64(3.5100000000000002), np.float64(1.17), np.float64(7.409999999999999), np.float64(6.63), np.float64(0.5275225317478179), np.float64(0.5286996126174927), np.float64(0.0), np.float64(0.5637120419740677), np.float64(0.53140889108181), np.float64(9.183160237669945), np.float64(5.328899208903313)]}, '1049': {'label': '7', 'unique': array([ 1.,  2.,  6.,  7.,  9., 10., 13., 91.]), 'weights': [np.float64(3.12), np.float64(5.069999999999999), np.float64(0.78), np.float64(11.310000000000002), np.float64(7.409999999999999), np.float64(0.598549330830574), np.float64(0.6034820246696472), np.float64(1.1532215851545333)]}, '1050': {'label': '1', 'unique': array([ 1.,  3.,  4.,  7.,  8.,  9., 17., 21., 67.]), 'weights': [np.float64(4.29), np.float64(2.3400000000000003), np.float64(0.39), np.float64(0.18946001172065735), np.float64(1.56), np.float64(0.78), np.float64(0.736047785282135), np.float64(0.49807264029979703), np.float64(1.160216879248619)]}, '1051': {'label': '-1', 'unique': array([1, 2, 3]), 'weights': [np.float64(0.78), np.float64(0.39), np.float64(0.39)]}, '1054': {'label': '55', 'unique': array([ 1.,  2.,  3.,  8.,  9., 13., 35., 50., 55.]), 'weights': [np.float64(0.78), np.float64(0.78), np.float64(0.78), np.float64(0.78), np.float64(0.39), np.float64(0.1746860510110855), np.float64(0.0), np.float64(0.4932796734571457), np.float64(1.1062556076049805)]}, '1061': {'label': '7', 'unique': array([ 1.,  2.,  3.,  5.,  7.,  8.,  9., 12., 13., 16., 17., 18., 31.,\n",
      "       36.]), 'weights': [np.float64(1.9500000000000002), np.float64(0.78), np.float64(3.12), np.float64(0.39), np.float64(4.68), np.float64(1.17), np.float64(0.39), np.float64(1.0424997752904892), np.float64(0.5779540514945983), np.float64(0.571203670501709), np.float64(1.1760635495185852), np.float64(0.3938171398639679), np.float64(0.40246992409229276), np.float64(0.30210632771253587)]}, '1062': {'label': '-1', 'unique': array([3.]), 'weights': [np.float64(0.22761013320593237)]}, '1064': {'label': '1', 'unique': array([ 1.,  3.,  9., 19., 32.]), 'weights': [np.float64(1.17), np.float64(0.39), np.float64(0.39), np.float64(0.6408437073230744), np.float64(0.4483861130475998)]}, '1074': {'label': '1', 'unique': array([ 1.,  2., 12., 19., 50., 57.]), 'weights': [np.float64(4.29), np.float64(0.39), np.float64(0.6045400667190551), np.float64(0.5478228318691254), np.float64(0.4773037838935852), np.float64(0.8363487535715104)]}, '1104': {'label': '-1', 'unique': array([ 7., 12., 16., 17.]), 'weights': [np.float64(0.39), np.float64(0.5840770971775054), np.float64(0.46718326628208157), np.float64(0.9535563611984252)]}, '1110': {'label': '-1', 'unique': array([1, 9]), 'weights': [np.float64(0.39), np.float64(0.39)]}, '1109': {'label': '1', 'unique': array([1, 6]), 'weights': [np.float64(1.17), np.float64(0.39)]}, '1114': {'label': '7', 'unique': array([ 1.,  3.,  4.,  5.,  7.,  8.,  9., 11., 37.]), 'weights': [np.float64(0.39), np.float64(0.78), np.float64(0.39), np.float64(0.78), np.float64(1.17), np.float64(0.39), np.float64(0.39), np.float64(0.2915124901336536), np.float64(0.33778559625148774)]}, '1128': {'label': '5', 'unique': array([ 1.,  3.,  5., 13., 15., 35., 75.]), 'weights': [np.float64(0.39), np.float64(1.17), np.float64(1.56), np.float64(0.5957995849847794), np.float64(0.7339240567324864), np.float64(0.3851598107814789), np.float64(0.47857459783554074)]}, '1148': {'label': '-1', 'unique': array([ 1.,  5., 10.]), 'weights': [np.float64(0.78), np.float64(0.78), np.float64(0.27718089312314986)]}, '1154': {'label': '1', 'unique': array([ 1.,  3.,  7., 37.]), 'weights': [np.float64(1.17), np.float64(0.39), np.float64(0.39), np.float64(0.5957288306951523)]}, '1181': {'label': '14', 'unique': array([ 1.,  4.,  5.,  9., 14., 24., 54.]), 'weights': [np.float64(0.78), np.float64(0.0), np.float64(0.39), np.float64(0.39), np.float64(2.104575255513191), np.float64(0.2587717431783676), np.float64(0.5864558738470077)]}}\n",
      "2025-04-04 22:15:26 [INFO] Aggregating ball tracks (cache not used or file missing).\n",
      "2025-04-04 22:15:27 [INFO] Saved global ball tracks to: c:\\Users\\colin\\OneDrive\\Desktop\\Jersey-Number-Recognition\\data\\SoccerNet\\jersey-2023\\processed_data\\test\\common_data\\soccer_ball.json\n",
      "2025-04-04 22:15:27 [INFO] consolidated_results results_dict: {'18': '8', '26': '9', '12': '33', '46': '36', '11': -1, '52': '36', '54': '3', '136': '3', '102': '59', '138': '1', '145': '-1', '148': '-1', '150': '-1', '166': '34', '219': '1', '232': '10', '253': '27', '318': '-1', '327': '-1', '349': '34', '361': '59', '397': '36', '385': -1, '413': '-1', '452': -1, '461': '2', '464': '5', '489': '-1', '494': '10', '496': '5', '498': '-1', '506': '-1', '510': '11', '512': '-1', '546': '26', '608': '23', '661': '5', '675': '3', '701': '6', '702': '1', '725': '5', '711': -1, '777': '1', '735': '33', '863': '-1', '855': '4', '882': '19', '883': '1', '886': '3', '890': '7', '891': '9', '906': '-1', '907': '-1', '911': '14', '914': '7', '915': '1', '957': '-1', '940': -1, '963': '-1', '978': '5', '980': '-1', '986': '3', '1009': '1', '1013': '1', '1015': '1', '1029': '52', '1049': '7', '1050': '1', '1051': '-1', '1054': '55', '1061': '7', '1062': '-1', '1064': '1', '1074': '1', '1104': '-1', '1110': '-1', '1109': '1', '1114': '7', '1128': '5', '1148': '-1', '1154': '1', '1181': '14', '19': -1, '34': -1, '57': -1, '67': -1, '68': -1, '88': -1, '109': -1, '128': -1, '151': -1, '178': -1, '189': -1, '196': -1, '214': -1, '242': -1, '258': -1, '271': -1, '304': -1, '320': -1, '352': -1, '375': -1, '378': -1, '414': -1, '416': -1, '425': -1, '439': -1, '451': -1, '453': -1, '454': -1, '466': -1, '499': -1, '511': -1, '513': -1, '526': -1, '528': -1, '567': -1, '576': -1, '594': -1, '619': -1, '623': -1, '646': -1, '682': -1, '687': -1, '709': -1, '717': -1, '739': -1, '758': -1, '767': -1, '788': -1, '795': -1, '832': -1, '840': -1, '841': -1, '843': -1, '847': -1, '850': -1, '851': -1, '852': -1, '856': -1, '866': -1, '868': -1, '871': -1, '900': -1, '901': -1, '902': -1, '904': -1, '928': -1, '939': -1, '944': -1, '961': -1, '983': -1, '984': -1, '1005': -1, '1039': -1, '1063': -1, '1077': -1, '1091': -1, '1101': -1, '1137': -1, '1152': -1, '1153': -1, '1157': -1, '1160': -1, '1165': -1, '1167': -1}\n",
      "Evaluating on 166 tracklets (out of 1211 in GT).\n",
      "Total evaluated tracklets: 166, correct: 4, accuracy: 2.4096385542168677%\n",
      "Mistakes (illegible predicted): 110\n",
      "Mistakes (legible but GT illegible): 0\n",
      "Correct in full results but not picked: 34\n"
     ]
    }
   ],
   "source": [
    "pipeline.run_soccernet(\n",
    "  run_soccer_ball_filter=False,\n",
    "  generate_features=False,\n",
    "  run_filter=False,\n",
    "  run_legible=False,\n",
    "  run_legible_eval=False,\n",
    "  run_pose=False,\n",
    "  run_crops=False,\n",
    "  run_str=False,\n",
    "  run_combine=True,\n",
    "  run_eval=True,\n",
    "  use_clip4str=True,\n",
    "  pyscript=False,\n",
    "  )\n",
    "#pipeline.aggregate_str_results()"
   ]
  },
  {
   "cell_type": "code",
   "execution_count": 5,
   "metadata": {},
   "outputs": [],
   "source": [
    "# import json\n",
    "\n",
    "# with open(\"C:/Users/colin/OneDrive/Desktop/Jersey-Number-Recognition/data/SoccerNet/jersey-2023/processed_data/challenge/common_data/final_results.json\", \"r\") as f:\n",
    "#     data = json.load(f)\n",
    "    \n",
    "# # Create the expected keys range (as strings to match JSON format)\n",
    "# missing_keys = []\n",
    "# for i in range(1426):\n",
    "#   if str(i) not  in data:\n",
    "#     missing_keys.append(i)\n",
    "    \n",
    "# if missing_keys:\n",
    "#   print(\"Missing keys: \", missing_keys)\n",
    "# else:\n",
    "#   print(\"All keys are present.\")"
   ]
  },
  {
   "cell_type": "markdown",
   "metadata": {},
   "source": [
    "## Benchmark (current pipeline metrics)\n",
    "### Results\n",
    "- 2025-03-29 14:44:05 [INFO] Correct 1051 out of 1210. Accuracy 86.85950413223141%.\n",
    "- 2025-03-29 14:44:05 [INFO] TP=766, TN=285, FP=70, FN=89\n",
    "- 2025-03-29 14:44:05 [INFO] Precision=0.916267942583732, Recall=0.895906432748538\n",
    "- 2025-03-29 14:44:05 [INFO] F1=0.9059727971614429\n",
    "- 2025-03-29 14:44:05 [INFO] Saved failed legibility cases to:  c:\\Users\\colin\\OneDrive\\Desktop\\Jersey-Number-Recognition\\data\\SoccerNet\\jersey-2023\\processed_data\\test\\common_data\\failed_legibility_cases.json\n",
    "\n",
    "### Analysis\n",
    "legible_but_marked_illegible: 89 cases\n",
    "109, 88, 34, 151, 19, 68, 67, 128, 57, 178, 189, 196, 214, 242, 258, 271, 304, 327, 320, 352, 375, 378, 414, 416, 439, 425, 451, 453, 454, 466, 499, 511, 513, 526, 528, 567, 576, 594, 619, 623, 646, 687, 682, 709, 711, 717, 739, 758, 767, 795, 788, 840, 843, 832, 841, 852, 847, 851, 856, 850, 868, 866, 871, 901, 902, 904, 900, 907, 928, 939, 944, 961, 984, 983, 1005, 1039, 1064, 1063, 1077, 1091, 1101, 1137, 1152, 1153, 1160, 1167, 1157, 1165, 1206\n",
    "\n",
    "illegible_but_marked_legible: 70 cases\n",
    "168, 167, 162, 97, 39, 87, 89, 134, 61, 172, 164, 199, 215, 260, 267, 269, 281, 276, 288, 295, 317, 325, 340, 345, 374, 394, 388, 386, 391, 406, 408, 434, 437, 459, 471, 514, 532, 558, 683, 748, 770, 790, 802, 827, 861, 869, 879, 897, 895, 909, 964, 981, 999, 1023, 1031, 1025, 1033, 1030, 1055, 1088, 1087, 1169, 1175, 1174, 1173, 1183, 1170, 1179, 1184, 1185\n",
    "\n",
    "- Total misclassifications: 159\n",
    "- False negatives (legible marked as illegible): 89\n",
    "- False positives (illegible marked as legible): 70\n",
    "- Percentage of false negatives: 7.36%\n",
    "- Percentage of false positives: 5.79%\n",
    "- Combined percentage of errors as a percentage of total cases: 13.14%"
   ]
  },
  {
   "cell_type": "code",
   "execution_count": 6,
   "metadata": {},
   "outputs": [],
   "source": [
    "# import json\n",
    "# failed_cases = f\"{DataPaths.COMMON_PROCESSED_OUTPUT_DATA_CHALLENGE.value}/failed_legibility_cases.json\"\n",
    "\n",
    "# # Load this JSON file\n",
    "# with open(failed_cases, 'r') as f:\n",
    "#     failed_cases_dict = json.load(f)\n",
    "#     # Print the every key and its associated value (value will be a list so need to make that printable with \",\".join):\n",
    "#     for key, value in failed_cases_dict.items():\n",
    "#         print(f\"{key}: {len(value)} cases\")\n",
    "#         if len(value) > 0:\n",
    "#             print(f\"{', '.join(value)}\")\n",
    "#         print()\n",
    "    \n",
    "#     # Summary statistics\n",
    "#     legible_but_marked_illegible = len(failed_cases_dict.get(\"legible_but_marked_illegible\", []))\n",
    "#     illegible_but_marked_legible = len(failed_cases_dict.get(\"illegible_but_marked_legible\", []))\n",
    "#     total_errors = legible_but_marked_illegible + illegible_but_marked_legible\n",
    "    \n",
    "#     print(f\"Total misclassifications: {total_errors}\")\n",
    "#     print(f\"False negatives (legible marked as illegible): {legible_but_marked_illegible}\")\n",
    "#     print(f\"False positives (illegible marked as legible): {illegible_but_marked_legible}\")\n",
    "#     print(f\"Percentage of false negatives: {legible_but_marked_illegible / 1210 * 100:.2f}%\")\n",
    "#     print(f\"Percentage of false positives: {illegible_but_marked_legible / 1210 * 100:.2f}%\")\n",
    "#     print(f\"Combined percentage of errors as a percentage of total cases: {total_errors / 1210 * 100:.2f}%\")"
   ]
  },
  {
   "cell_type": "code",
   "execution_count": 7,
   "metadata": {},
   "outputs": [],
   "source": [
    "# import timm\n",
    "# import torch\n",
    "# from torch import nn\n",
    "\n",
    "# model = timm.create_model(\"timm/vit_base_patch16_224.orig_in21k_ft_in1k\", pretrained=False)\n",
    "# model.head = nn.Linear(model.head.in_features, 10)\n",
    "# model.load_state_dict(\n",
    "#     torch.hub.load_state_dict_from_url(\n",
    "#         \"https://huggingface.co/edadaltocg/vit_base_patch16_224_in21k_ft_svhn/resolve/main/pytorch_model.bin\",\n",
    "#         map_location=\"cpu\",\n",
    "#         file_name=\"vit_base_patch16_224_in21k_ft_svhn.pth\",\n",
    "#     )\n",
    "# )"
   ]
  },
  {
   "cell_type": "code",
   "execution_count": 8,
   "metadata": {},
   "outputs": [
    {
     "name": "stdout",
     "output_type": "stream",
     "text": [
      "Key 1210 not found in predictions\n",
      "Wrong predictions:  ['11', '12', '18', '19', '26', '34', '46', '52', '54', '57', '67', '68', '88', '102', '109', '128', '136', '138', '145', '148', '150', '151', '166', '178', '189', '196', '214', '219', '232', '242', '253', '258', '271', '304', '318', '320', '327', '349', '352', '361', '375', '378', '385', '397', '413', '414', '416', '425', '439', '451', '452', '453', '454', '461', '464', '466', '489', '494', '496', '498', '499', '506', '510', '511', '512', '513', '526', '528', '546', '567', '576', '594', '608', '619', '623', '646', '661', '675', '682', '687', '701', '702', '709', '711', '717', '725', '735', '739', '758', '767', '777', '788', '795', '832', '840', '841', '843', '847', '850', '851', '852', '855', '856', '863', '866', '868', '871', '882', '883', '886', '890', '891', '900', '901', '902', '904', '906', '907', '911', '914', '915', '928', '939', '940', '944', '957', '961', '963', '978', '980', '983', '984', '986', '1005', '1009', '1013', '1015', '1029', '1039', '1049', '1050', '1051', '1054', '1061', '1062', '1063', '1064', '1074', '1077', '1091', '1101', '1104', '1109', '1110', '1114', '1128', '1137', '1148', '1152', '1153', '1154', '1157', '1160', '1165', '1167', '1181']\n"
     ]
    }
   ],
   "source": [
    "pct_83_test = r\"C:\\Users\\colin\\OneDrive\\Desktop\\test_run_83pct\\final_results.json\"\n",
    "gt = DataPaths.TEST_DATA_GT.value\n",
    "with open(pct_83_test, \"r\") as f:\n",
    "    data = json.load(f)\n",
    "    \n",
    "gt_dict = {}\n",
    "with open(gt, \"r\") as f:\n",
    "    gt_data = json.load(f)\n",
    "        \n",
    "# Now retrieve the keys for which the values are not -1 from the ground truth, and the value does not align with our predicted one\n",
    "wrong_predictions = []\n",
    "for key, value in gt_data.items():\n",
    "    # Check if they ley exists first before accessing\n",
    "    if key not in data:\n",
    "        print(f\"Key {key} not found in predictions\")\n",
    "        continue\n",
    "    \n",
    "    if value != -1 and value != data[key]:\n",
    "        wrong_predictions.append(key)\n",
    "        \n",
    "# Print the keys that are wrong\n",
    "print(\"Wrong predictions: \", wrong_predictions)"
   ]
  }
 ],
 "metadata": {
  "kernelspec": {
   "display_name": "UBC",
   "language": "python",
   "name": "python3"
  },
  "language_info": {
   "codemirror_mode": {
    "name": "ipython",
    "version": 3
   },
   "file_extension": ".py",
   "mimetype": "text/x-python",
   "name": "python",
   "nbconvert_exporter": "python",
   "pygments_lexer": "ipython3",
   "version": "3.13.1"
  }
 },
 "nbformat": 4,
 "nbformat_minor": 2
}
