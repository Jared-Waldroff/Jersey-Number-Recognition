{
 "cells": [
  {
   "cell_type": "code",
   "execution_count": 1,
   "metadata": {},
   "outputs": [
    {
     "name": "stdout",
     "output_type": "stream",
     "text": [
      "c:\\Users\\colin\\OneDrive\\Desktop\\Jersey-Number-Recognition\n",
      "Current working directory:  c:\\Users\\colin\\OneDrive\\Desktop\\Jersey-Number-Recognition\\ModelDevelopment\\experiments\n"
     ]
    }
   ],
   "source": [
    "import sys\n",
    "from pathlib import Path\n",
    "import os\n",
    "\n",
    "sys.path.append(str(Path.cwd().parent.parent))\n",
    "print(str(Path.cwd().parent.parent))\n",
    "print(\"Current working directory: \", os.getcwd())\n",
    "\n",
    "from ModelDevelopment.CentralPipeline import CentralPipeline\n",
    "from ModelDevelopment.ImageBatchPipeline import ImageBatchPipeline\n",
    "from DataProcessing.DataPreProcessing import DataPaths"
   ]
  },
  {
   "cell_type": "code",
   "execution_count": 2,
   "metadata": {},
   "outputs": [],
   "source": [
    "# # Delete soccer_ball.json files\n",
    "# import os\n",
    "# root_path = r\"C:\\Users\\colin\\OneDrive\\Desktop\\Jersey-Number-Recognition\\data\\SoccerNet\\jersey-2023\\extracted\\test\\images\"\n",
    "\n",
    "# for tracklet in range(1, 1210):\n",
    "#   path = os.path.join(root_path, str(tracklet))\n",
    "  \n",
    "#   # If there is a .soccer_ball.json file in there, delete it\n",
    "#   if os.path.exists(os.path.join(path, \"soccer_ball.json\")):\n",
    "#     os.remove(os.path.join(path, \"soccer_ball.json\"))"
   ]
  },
  {
   "cell_type": "code",
   "execution_count": 3,
   "metadata": {},
   "outputs": [
    {
     "name": "stdout",
     "output_type": "stream",
     "text": [
      "2025-03-29 21:47:42 [INFO] DataPreProcessing initialized. Universe of available data paths:\n",
      "2025-03-29 21:47:42 [INFO] ROOT_DATA_DIR: c:\\Users\\colin\\OneDrive\\Desktop\\Jersey-Number-Recognition\\data\\SoccerNet\\jersey-2023\\extracted\n",
      "2025-03-29 21:47:42 [INFO] TEST_DATA_GT: c:\\Users\\colin\\OneDrive\\Desktop\\Jersey-Number-Recognition\\data\\SoccerNet\\jersey-2023\\extracted\\test\\test_gt.json\n",
      "2025-03-29 21:47:42 [INFO] TRAIN_DATA_GT: c:\\Users\\colin\\OneDrive\\Desktop\\Jersey-Number-Recognition\\data\\SoccerNet\\jersey-2023\\extracted\\train\\train_gt.json\n",
      "2025-03-29 21:47:42 [INFO] TEST_DATA_DIR: c:\\Users\\colin\\OneDrive\\Desktop\\Jersey-Number-Recognition\\data\\SoccerNet\\jersey-2023\\extracted\\test\\images\n",
      "2025-03-29 21:47:42 [INFO] TRAIN_DATA_DIR: c:\\Users\\colin\\OneDrive\\Desktop\\Jersey-Number-Recognition\\data\\SoccerNet\\jersey-2023\\extracted\\train\\images\n",
      "2025-03-29 21:47:42 [INFO] CHALLENGE_DATA_DIR: c:\\Users\\colin\\OneDrive\\Desktop\\Jersey-Number-Recognition\\data\\SoccerNet\\jersey-2023\\extracted\\challenge\\images\n",
      "2025-03-29 21:47:42 [INFO] PRE_TRAINED_MODELS_DIR: c:\\Users\\colin\\OneDrive\\Desktop\\Jersey-Number-Recognition\\data\\pre_trained_models\n",
      "2025-03-29 21:47:42 [INFO] REID_PRE_TRAINED: c:\\Users\\colin\\OneDrive\\Desktop\\Jersey-Number-Recognition\\data\\pre_trained_models\\reid\n",
      "2025-03-29 21:47:42 [INFO] STR_PRE_TRAINED: c:\\Users\\colin\\OneDrive\\Desktop\\Jersey-Number-Recognition\\data\\pre_trained_models\\str\n",
      "2025-03-29 21:47:42 [INFO] STR_MODEL: c:\\Users\\colin\\OneDrive\\Desktop\\Jersey-Number-Recognition\\data\\pre_trained_models\\str\\parseq_epoch=24-step=2575-val_accuracy=95.6044-val_NED=96.3255.ckpt\n",
      "2025-03-29 21:47:42 [INFO] REID_MODEL_1: c:\\Users\\colin\\OneDrive\\Desktop\\Jersey-Number-Recognition\\data\\pre_trained_models\\reid\\dukemtmcreid_resnet50_256_128_epoch_120.ckpt\n",
      "2025-03-29 21:47:42 [INFO] REID_MODEL_2: c:\\Users\\colin\\OneDrive\\Desktop\\Jersey-Number-Recognition\\data\\pre_trained_models\\reid\\market1501_resnet50_256_128_epoch_120.ckpt\n",
      "2025-03-29 21:47:42 [INFO] REID_CONFIG_YAML: c:\\Users\\colin\\OneDrive\\Desktop\\Jersey-Number-Recognition\\data\\pre_trained_models\\reid\\configs\\256_resnet50.yml\n",
      "2025-03-29 21:47:42 [INFO] RESNET_MODEL: c:\\Users\\colin\\OneDrive\\Desktop\\Jersey-Number-Recognition\\data\\pre_trained_models\\resnet\\legibility_resnet34_soccer_20240215.pth\n",
      "2025-03-29 21:47:42 [INFO] VIT_MODEL: c:\\Users\\colin\\OneDrive\\Desktop\\Jersey-Number-Recognition\\data\\pre_trained_models\\ViT\\vit_base_patch16_224_in21k_ft_svhn.pth\n",
      "2025-03-29 21:47:42 [INFO] PROCESSED_DATA_OUTPUT_DIR: c:\\Users\\colin\\OneDrive\\Desktop\\Jersey-Number-Recognition\\data\\SoccerNet\\jersey-2023\\processed_data\n",
      "2025-03-29 21:47:42 [INFO] PROCESSED_DATA_OUTPUT_DIR_TRAIN: c:\\Users\\colin\\OneDrive\\Desktop\\Jersey-Number-Recognition\\data\\SoccerNet\\jersey-2023\\processed_data\\train\n",
      "2025-03-29 21:47:42 [INFO] PROCESSED_DATA_OUTPUT_DIR_TEST: c:\\Users\\colin\\OneDrive\\Desktop\\Jersey-Number-Recognition\\data\\SoccerNet\\jersey-2023\\processed_data\\test\n",
      "2025-03-29 21:47:42 [INFO] PROCESSED_DATA_OUTPUT_DIR_CHALLENGE: c:\\Users\\colin\\OneDrive\\Desktop\\Jersey-Number-Recognition\\data\\SoccerNet\\jersey-2023\\processed_data\\challenge\n",
      "2025-03-29 21:47:42 [INFO] COMMON_PROCESSED_OUTPUT_DATA_TRAIN: c:\\Users\\colin\\OneDrive\\Desktop\\Jersey-Number-Recognition\\data\\SoccerNet\\jersey-2023\\processed_data\\train\\common_data\n",
      "2025-03-29 21:47:42 [INFO] COMMON_PROCESSED_OUTPUT_DATA_TEST: c:\\Users\\colin\\OneDrive\\Desktop\\Jersey-Number-Recognition\\data\\SoccerNet\\jersey-2023\\processed_data\\test\\common_data\n",
      "2025-03-29 21:47:42 [INFO] COMMON_PROCESSED_OUTPUT_DATA_CHALLENGE: c:\\Users\\colin\\OneDrive\\Desktop\\Jersey-Number-Recognition\\data\\SoccerNet\\jersey-2023\\processed_data\\challenge\\common_data\n",
      "2025-03-29 21:47:42 [INFO] STREAMLINED_PIPELINE: c:\\Users\\colin\\OneDrive\\Desktop\\Jersey-Number-Recognition\\StreamlinedPipelineScripts\n",
      "2025-03-29 21:47:42 [INFO] Created directory: c:\\Users\\colin\\OneDrive\\Desktop\\Jersey-Number-Recognition\\data\\SoccerNet\\jersey-2023\\processed_data\\test\n",
      "2025-03-29 21:47:42 [INFO] Created directory: c:\\Users\\colin\\OneDrive\\Desktop\\Jersey-Number-Recognition\\data\\SoccerNet\\jersey-2023\\processed_data\\test\\common_data\n",
      "2025-03-29 21:47:42 [INFO] ['0', '1', '2', '3', '4', '5', '6', '7', '8', '9']\n",
      "2025-03-29 21:47:42 [INFO] Min tracklet: 0\n",
      "2025-03-29 21:47:42 [INFO] Max tracklet: 1210\n",
      "2025-03-29 21:47:42 [INFO] Using device: cuda\n"
     ]
    }
   ],
   "source": [
    "pipeline = CentralPipeline(\n",
    "  #tracklets_to_process_override=[109, 88, 34, 151, 19, 68, 67, 128, 57, 178, 189, 196, 214, 242, 258, 271, 304, 327, 320, 352, 375, 378, 414, 416, 439, 425, 451, 453, 454, 466, 499, 511, 513, 526, 528, 567, 576, 594, 619, 623, 646, 687, 682, 709, 711, 717, 739, 758, 767, 795, 788, 840, 843, 832, 841, 852, 847, 851, 856, 850, 868, 866, 871, 901, 902, 904, 900, 907, 928, 939, 944, 961, 984, 983, 1005, 1039, 1064, 1063, 1077, 1091, 1101, 1137, 1152, 1153, 1160, 1167, 1157, 1165, 1206],\n",
    "  tracklets_to_process_override=[327, 711, 907, 1064], # These ones are now passing \n",
    "  #num_tracklets=1,\n",
    "  #num_images_per_tracklet=50,\n",
    "  input_data_path=DataPaths.TEST_DATA_DIR.value,\n",
    "  output_processed_data_path=DataPaths.PROCESSED_DATA_OUTPUT_DIR_TEST.value,\n",
    "  common_processed_data_dir=DataPaths.COMMON_PROCESSED_OUTPUT_DATA_TEST.value,\n",
    "  gt_data_path=DataPaths.TEST_DATA_GT.value,\n",
    "  display_transformed_image_sample=False, # NOTE: DO NOT USE. Code is parallelized so we cannot show images anymore. Code breaks, but first one will show if True.\n",
    "  num_image_samples=1,\n",
    "  use_cache=True, # Set to false to rebuild the cache\n",
    "  suppress_logging=False,\n",
    "  \n",
    "  # --- PARALLELIZATION PARAMS --- These settings are optimal for an NVIDIA RTX 3070 Ti Laptop GPU.\n",
    "  num_workers=2,            # CRITICAL optimisation param. Adjust accordingly. 62\n",
    "  tracklet_batch_size=32,   # CRITICAL optimisation param. Adjust accordingly. 32\n",
    "  image_batch_size=100,     # CRITICAL optimisation param. Adjust accordingly. 200\n",
    "  num_threads_multiplier=4  # CRITICAL optimisation param. Adjust accordingly. 3. Interpretation: num_threads = num_workers * num_threads_multiplier\n",
    "  )"
   ]
  },
  {
   "cell_type": "code",
   "execution_count": null,
   "metadata": {},
   "outputs": [
    {
     "name": "stdout",
     "output_type": "stream",
     "text": [
      "2025-03-29 21:47:42 [INFO] Running the SoccerNet pipeline.\n",
      "2025-03-29 21:47:42 [INFO] Tracklet override applied. Using provided tracklets: 327, 711, 907, 1064\n"
     ]
    },
    {
     "data": {
      "application/vnd.jupyter.widget-view+json": {
       "model_id": "a3e9364b284144a98cd740f2f1719b52",
       "version_major": 2,
       "version_minor": 0
      },
      "text/plain": [
       "  0%|          | 0/1 [00:00<?, ?it/s]"
      ]
     },
     "metadata": {},
     "output_type": "display_data"
    },
    {
     "name": "stdout",
     "output_type": "stream",
     "text": [
      "2025-03-29 21:47:42 [INFO] Tracklet batch size: 32\n",
      "2025-03-29 21:47:42 [INFO] Image batch size: 100\n",
      "2025-03-29 21:47:42 [INFO] Number of workers: 2\n",
      "2025-03-29 21:47:42 [INFO] Number of threads created: 8\n",
      "2025-03-29 21:47:42 [INFO] Using double parallelization: multiprocessing + CUDA batch processing.\n"
     ]
    },
    {
     "data": {
      "application/vnd.jupyter.widget-view+json": {
       "model_id": "2bb91b39d38c419c9ff05f84648149de",
       "version_major": 2,
       "version_minor": 0
      },
      "text/plain": [
       "Processing tracklets (CUDA + CPU):   0%|          | 0/4 [00:00<?, ?it/s]"
      ]
     },
     "metadata": {},
     "output_type": "display_data"
    },
    {
     "name": "stdout",
     "output_type": "stream",
     "text": [
      "2025-03-29 21:47:51 [INFO] Creating placeholder data files for Soccer Ball Filter.\n",
      "2025-03-29 21:47:51 [INFO] Determine soccer balls in image(s) using pre-trained model.\n",
      "2025-03-29 21:47:51 [INFO] Determine soccer balls in image(s) using pre-trained model.\n",
      "2025-03-29 21:47:51 [INFO] Determine soccer balls in image(s) using pre-trained model.\n",
      "2025-03-29 21:47:51 [INFO] Determine soccer balls in image(s) using pre-trained model.\n"
     ]
    },
    {
     "data": {
      "application/vnd.jupyter.widget-view+json": {
       "model_id": "dc2d909247de4f629f89c6b890241047",
       "version_major": 2,
       "version_minor": 0
      },
      "text/plain": [
       "Processing Batch Tracklets (0-32):   0%|          | 0/4 [00:00<?, ?it/s]"
      ]
     },
     "metadata": {},
     "output_type": "display_data"
    },
    {
     "name": "stdout",
     "output_type": "stream",
     "text": [
      "2025-03-29 21:47:51 [INFO] Found 0 balls, Ball list: []\n",
      "2025-03-29 21:47:51 [INFO] Found 0 balls, Ball list: []\n",
      "2025-03-29 21:47:51 [INFO] Found 0 balls, Ball list: []\n",
      "2025-03-29 21:47:51 [INFO] Found 0 balls, Ball list: []\n"
     ]
    },
    {
     "name": "stderr",
     "output_type": "stream",
     "text": [
      "c:\\Users\\colin\\miniconda3\\envs\\UBC\\Lib\\site-packages\\pytorch_lightning\\utilities\\migration\\migration.py:208: You have multiple `ModelCheckpoint` callback states in this checkpoint, but we found state keys that would end up colliding with each other after an upgrade, which means we can't differentiate which of your checkpoint callbacks needs which states. At least one of your `ModelCheckpoint` callbacks will not be able to reload the state.\n",
      "Lightning automatically upgraded your loaded checkpoint from v1.1.4 to v2.5.0.post0. To apply the upgrade to your files permanently, run `python -m pytorch_lightning.utilities.upgrade_checkpoint c:\\Users\\colin\\OneDrive\\Desktop\\Jersey-Number-Recognition\\data\\pre_trained_models\\reid\\dukemtmcreid_resnet50_256_128_epoch_120.ckpt`\n"
     ]
    },
    {
     "name": "stdout",
     "output_type": "stream",
     "text": [
      "2025-03-29 21:47:53 [INFO] Saved features for tracklet with shape (341, 2048) to c:\\Users\\colin\\OneDrive\\Desktop\\Jersey-Number-Recognition\\data\\SoccerNet\\jersey-2023\\processed_data\\test\\711\\features.npy\n",
      "2025-03-29 21:47:53 [INFO] Identifying and removing outliers by calling gaussian_outliers.py on feature file\n"
     ]
    },
    {
     "name": "stderr",
     "output_type": "stream",
     "text": [
      "Lightning automatically upgraded your loaded checkpoint from v1.1.4 to v2.5.0.post0. To apply the upgrade to your files permanently, run `python -m pytorch_lightning.utilities.upgrade_checkpoint c:\\Users\\colin\\OneDrive\\Desktop\\Jersey-Number-Recognition\\data\\pre_trained_models\\reid\\dukemtmcreid_resnet50_256_128_epoch_120.ckpt`\n"
     ]
    },
    {
     "name": "stdout",
     "output_type": "stream",
     "text": [
      "2025-03-29 21:47:54 [INFO] Saved features for tracklet with shape (750, 2048) to c:\\Users\\colin\\OneDrive\\Desktop\\Jersey-Number-Recognition\\data\\SoccerNet\\jersey-2023\\processed_data\\test\\907\\features.npy\n",
      "2025-03-29 21:47:54 [INFO] Identifying and removing outliers by calling gaussian_outliers.py on feature file\n"
     ]
    },
    {
     "name": "stderr",
     "output_type": "stream",
     "text": [
      "Lightning automatically upgraded your loaded checkpoint from v1.1.4 to v2.5.0.post0. To apply the upgrade to your files permanently, run `python -m pytorch_lightning.utilities.upgrade_checkpoint c:\\Users\\colin\\OneDrive\\Desktop\\Jersey-Number-Recognition\\data\\pre_trained_models\\reid\\dukemtmcreid_resnet50_256_128_epoch_120.ckpt`\n"
     ]
    },
    {
     "name": "stdout",
     "output_type": "stream",
     "text": [
      "2025-03-29 21:47:56 [INFO] Saved features for tracklet with shape (543, 2048) to c:\\Users\\colin\\OneDrive\\Desktop\\Jersey-Number-Recognition\\data\\SoccerNet\\jersey-2023\\processed_data\\test\\1064\\features.npy\n",
      "2025-03-29 21:47:56 [INFO] Identifying and removing outliers by calling gaussian_outliers.py on feature file\n"
     ]
    },
    {
     "name": "stderr",
     "output_type": "stream",
     "text": [
      "Lightning automatically upgraded your loaded checkpoint from v1.1.4 to v2.5.0.post0. To apply the upgrade to your files permanently, run `python -m pytorch_lightning.utilities.upgrade_checkpoint c:\\Users\\colin\\OneDrive\\Desktop\\Jersey-Number-Recognition\\data\\pre_trained_models\\reid\\dukemtmcreid_resnet50_256_128_epoch_120.ckpt`\n"
     ]
    },
    {
     "name": "stdout",
     "output_type": "stream",
     "text": [
      "2025-03-29 21:47:57 [INFO] Saved features for tracklet with shape (634, 2048) to c:\\Users\\colin\\OneDrive\\Desktop\\Jersey-Number-Recognition\\data\\SoccerNet\\jersey-2023\\processed_data\\test\\327\\features.npy\n",
      "2025-03-29 21:47:58 [INFO] Identifying and removing outliers by calling gaussian_outliers.py on feature file\n",
      "2025-03-29 21:48:00 [INFO] 2025-03-29 21:47:59 [INFO] Threshold for scores: 0.999, rounds: 3\n",
      "2025-03-29 21:47:59 [INFO] Round 1: Excluded 1 outliers\n",
      "2025-03-29 21:47:59 [INFO] Round 1: Average score: 0.9984806776046753\n",
      "2025-03-29 21:47:59 [INFO] Excluded images: ['711_750.jpg']\n",
      "2025-03-29 21:47:59 [INFO] Round 2: Excluded 1 outliers\n",
      "2025-03-29 21:47:59 [INFO] Round 2: Average score: 0.999954104423523\n",
      "2025-03-29 21:47:59 [INFO] Excluded images: ['711_750.jpg']\n",
      "2025-03-29 21:47:59 [INFO] Round 3: Excluded 1 outliers\n",
      "2025-03-29 21:47:59 [INFO] Round 3: Average score: 0.999954104423523\n",
      "2025-03-29 21:47:59 [INFO] Excluded images: ['711_750.jpg']\n",
      "\n",
      "2025-03-29 21:48:00 [ERROR] \n",
      "2025-03-29 21:48:00 [INFO] Done removing outliers\n",
      "2025-03-29 21:48:00 [INFO] Running model chain on preprocessed image(s).\n",
      "2025-03-29 21:48:00 [INFO] Classifying legibility of image(s) using pre-trained model.\n",
      "2025-03-29 21:48:02 [INFO] 2025-03-29 21:48:01 [INFO] Threshold for scores: 0.999, rounds: 3\n",
      "2025-03-29 21:48:01 [INFO] Round 1: Excluded 6 outliers\n",
      "2025-03-29 21:48:01 [INFO] Round 1: Average score: 0.9959344863891602\n",
      "2025-03-29 21:48:01 [INFO] Excluded images: ['907_94.jpg', '907_95.jpg', '907_96.jpg', '907_97.jpg', '907_98.jpg', '907_99.jpg']\n",
      "2025-03-29 21:48:01 [INFO] Round 2: Excluded 6 outliers\n",
      "2025-03-29 21:48:01 [INFO] Round 2: Average score: 0.9999541640281677\n",
      "2025-03-29 21:48:01 [INFO] Excluded images: ['907_94.jpg', '907_95.jpg', '907_96.jpg', '907_97.jpg', '907_98.jpg', '907_99.jpg']\n",
      "2025-03-29 21:48:01 [INFO] Round 3: Excluded 6 outliers\n",
      "2025-03-29 21:48:01 [INFO] Round 3: Average score: 0.9999541640281677\n",
      "2025-03-29 21:48:01 [INFO] Excluded images: ['907_94.jpg', '907_95.jpg', '907_96.jpg', '907_97.jpg', '907_98.jpg', '907_99.jpg']\n",
      "\n",
      "2025-03-29 21:48:02 [ERROR] \n",
      "2025-03-29 21:48:02 [INFO] Done removing outliers\n",
      "2025-03-29 21:48:02 [INFO] Running model chain on preprocessed image(s).\n",
      "2025-03-29 21:48:02 [INFO] Classifying legibility of image(s) using pre-trained model.\n",
      "2025-03-29 21:48:04 [INFO] 2025-03-29 21:48:03 [INFO] Threshold for scores: 0.999, rounds: 3\n",
      "2025-03-29 21:48:03 [INFO] Round 1: Excluded 3 outliers\n",
      "2025-03-29 21:48:03 [INFO] Round 1: Average score: 0.9971781373023987\n",
      "2025-03-29 21:48:03 [INFO] Excluded images: ['1064_748.jpg', '1064_749.jpg', '1064_750.jpg']\n",
      "2025-03-29 21:48:03 [INFO] Round 2: Excluded 3 outliers\n",
      "2025-03-29 21:48:03 [INFO] Round 2: Average score: 0.999954104423523\n",
      "2025-03-29 21:48:03 [INFO] Excluded images: ['1064_748.jpg', '1064_749.jpg', '1064_750.jpg']\n",
      "2025-03-29 21:48:03 [INFO] Round 3: Excluded 3 outliers\n",
      "2025-03-29 21:48:03 [INFO] Round 3: Average score: 0.999954104423523\n",
      "2025-03-29 21:48:03 [INFO] Excluded images: ['1064_748.jpg', '1064_749.jpg', '1064_750.jpg']\n",
      "\n",
      "2025-03-29 21:48:04 [ERROR] \n",
      "2025-03-29 21:48:04 [INFO] Done removing outliers\n",
      "2025-03-29 21:48:04 [INFO] Running model chain on preprocessed image(s).\n",
      "2025-03-29 21:48:04 [INFO] Classifying legibility of image(s) using pre-trained model.\n",
      "2025-03-29 21:48:06 [INFO] 2025-03-29 21:48:05 [INFO] Threshold for scores: 0.999, rounds: 3\n",
      "2025-03-29 21:48:05 [INFO] Round 1: Excluded 4 outliers\n",
      "2025-03-29 21:48:05 [INFO] Round 1: Average score: 0.9967840313911438\n",
      "2025-03-29 21:48:05 [INFO] Excluded images: ['327_747.jpg', '327_748.jpg', '327_749.jpg', '327_750.jpg']\n",
      "2025-03-29 21:48:05 [INFO] Round 2: Excluded 4 outliers\n",
      "2025-03-29 21:48:05 [INFO] Round 2: Average score: 0.999954104423523\n",
      "2025-03-29 21:48:05 [INFO] Excluded images: ['327_747.jpg', '327_748.jpg', '327_749.jpg', '327_750.jpg']\n",
      "2025-03-29 21:48:05 [INFO] Round 3: Excluded 4 outliers\n",
      "2025-03-29 21:48:05 [INFO] Round 3: Average score: 0.999954104423523\n",
      "2025-03-29 21:48:05 [INFO] Excluded images: ['327_747.jpg', '327_748.jpg', '327_749.jpg', '327_750.jpg']\n",
      "\n",
      "2025-03-29 21:48:06 [ERROR] \n",
      "2025-03-29 21:48:06 [INFO] Done removing outliers\n",
      "2025-03-29 21:48:06 [INFO] Running model chain on preprocessed image(s).\n",
      "2025-03-29 21:48:06 [INFO] Classifying legibility of image(s) using pre-trained model.\n",
      "2025-03-29 21:48:09 [INFO] Tracklet 711 is legible.\n",
      "2025-03-29 21:48:09 [INFO] Saving legible_tracklets to: c:\\Users\\colin\\OneDrive\\Desktop\\Jersey-Number-Recognition\\data\\SoccerNet\\jersey-2023\\processed_data\\test\\711\\legible_results.json\n",
      "2025-03-29 21:48:09 [INFO] Saved legible_tracklets to: c:\\Users\\colin\\OneDrive\\Desktop\\Jersey-Number-Recognition\\data\\SoccerNet\\jersey-2023\\processed_data\\test\\711\\legible_results.json\n",
      "2025-03-29 21:48:09 [INFO] Saving illegible_tracklets to: c:\\Users\\colin\\OneDrive\\Desktop\\Jersey-Number-Recognition\\data\\SoccerNet\\jersey-2023\\processed_data\\test\\711\\illegible_results.json\n",
      "2025-03-29 21:48:09 [INFO] Saved illegible_tracklets to: c:\\Users\\colin\\OneDrive\\Desktop\\Jersey-Number-Recognition\\data\\SoccerNet\\jersey-2023\\processed_data\\test\\711\\illegible_results.json\n",
      "2025-03-29 21:48:09 [INFO] Legibility classification complete.\n",
      "2025-03-29 21:48:09 [INFO] Processed tracklet: 711\n",
      "2025-03-29 21:48:29 [INFO] Tracklet 907 is legible.\n",
      "2025-03-29 21:48:29 [INFO] Saving legible_tracklets to: c:\\Users\\colin\\OneDrive\\Desktop\\Jersey-Number-Recognition\\data\\SoccerNet\\jersey-2023\\processed_data\\test\\907\\legible_results.json\n",
      "2025-03-29 21:48:29 [INFO] Saved legible_tracklets to: c:\\Users\\colin\\OneDrive\\Desktop\\Jersey-Number-Recognition\\data\\SoccerNet\\jersey-2023\\processed_data\\test\\907\\legible_results.json\n",
      "2025-03-29 21:48:29 [INFO] Saving illegible_tracklets to: c:\\Users\\colin\\OneDrive\\Desktop\\Jersey-Number-Recognition\\data\\SoccerNet\\jersey-2023\\processed_data\\test\\907\\illegible_results.json\n",
      "2025-03-29 21:48:29 [INFO] Saved illegible_tracklets to: c:\\Users\\colin\\OneDrive\\Desktop\\Jersey-Number-Recognition\\data\\SoccerNet\\jersey-2023\\processed_data\\test\\907\\illegible_results.json\n",
      "2025-03-29 21:48:29 [INFO] Legibility classification complete.\n",
      "2025-03-29 21:48:29 [INFO] Processed tracklet: 907\n",
      "2025-03-29 21:48:31 [INFO] Tracklet 1064 is legible.\n",
      "2025-03-29 21:48:31 [INFO] Saving legible_tracklets to: c:\\Users\\colin\\OneDrive\\Desktop\\Jersey-Number-Recognition\\data\\SoccerNet\\jersey-2023\\processed_data\\test\\1064\\legible_results.json\n",
      "2025-03-29 21:48:31 [INFO] Saved legible_tracklets to: c:\\Users\\colin\\OneDrive\\Desktop\\Jersey-Number-Recognition\\data\\SoccerNet\\jersey-2023\\processed_data\\test\\1064\\legible_results.json\n",
      "2025-03-29 21:48:31 [INFO] Saving illegible_tracklets to: c:\\Users\\colin\\OneDrive\\Desktop\\Jersey-Number-Recognition\\data\\SoccerNet\\jersey-2023\\processed_data\\test\\1064\\illegible_results.json\n",
      "2025-03-29 21:48:31 [INFO] Saved illegible_tracklets to: c:\\Users\\colin\\OneDrive\\Desktop\\Jersey-Number-Recognition\\data\\SoccerNet\\jersey-2023\\processed_data\\test\\1064\\illegible_results.json\n",
      "2025-03-29 21:48:31 [INFO] Legibility classification complete.\n",
      "2025-03-29 21:48:31 [INFO] Processed tracklet: 1064\n",
      "2025-03-29 21:48:32 [INFO] Tracklet 327 is legible.\n",
      "2025-03-29 21:48:32 [INFO] Saving legible_tracklets to: c:\\Users\\colin\\OneDrive\\Desktop\\Jersey-Number-Recognition\\data\\SoccerNet\\jersey-2023\\processed_data\\test\\327\\legible_results.json\n",
      "2025-03-29 21:48:32 [INFO] Saved legible_tracklets to: c:\\Users\\colin\\OneDrive\\Desktop\\Jersey-Number-Recognition\\data\\SoccerNet\\jersey-2023\\processed_data\\test\\327\\legible_results.json\n",
      "2025-03-29 21:48:32 [INFO] Saving illegible_tracklets to: c:\\Users\\colin\\OneDrive\\Desktop\\Jersey-Number-Recognition\\data\\SoccerNet\\jersey-2023\\processed_data\\test\\327\\illegible_results.json\n",
      "2025-03-29 21:48:32 [INFO] Saved illegible_tracklets to: c:\\Users\\colin\\OneDrive\\Desktop\\Jersey-Number-Recognition\\data\\SoccerNet\\jersey-2023\\processed_data\\test\\327\\illegible_results.json\n",
      "2025-03-29 21:48:32 [INFO] Legibility classification complete.\n",
      "2025-03-29 21:48:32 [INFO] Processed tracklet: 327\n",
      "2025-03-29 21:48:32 [INFO] Evaluating legibility results on 4 tracklets\n"
     ]
    },
    {
     "data": {
      "application/vnd.jupyter.widget-view+json": {
       "model_id": "8a1d7334500f4d399a13c7e2b824a3a9",
       "version_major": 2,
       "version_minor": 0
      },
      "text/plain": [
       "Evaluating legibility:   0%|          | 0/4 [00:00<?, ?it/s]"
      ]
     },
     "metadata": {},
     "output_type": "display_data"
    },
    {
     "name": "stdout",
     "output_type": "stream",
     "text": [
      "2025-03-29 21:48:32 [INFO] Correct 4 out of 4. Accuracy 100.0%.\n",
      "2025-03-29 21:48:32 [INFO] TP=4, TN=0, FP=0, FN=0\n",
      "2025-03-29 21:48:32 [INFO] Precision=1.0, Recall=1.0\n",
      "2025-03-29 21:48:32 [INFO] F1=1.0\n",
      "2025-03-29 21:48:32 [INFO] Saved failed legibility cases to: c:\\Users\\colin\\OneDrive\\Desktop\\Jersey-Number-Recognition\\data\\SoccerNet\\jersey-2023\\processed_data\\test\\common_data\\failed_legibility_cases.json\n"
     ]
    }
   ],
   "source": [
    "pipeline.run_soccernet(\n",
    "  run_soccer_ball_filter=True,\n",
    "  generate_features=True,\n",
    "  run_filter=True,\n",
    "  run_legible=True,\n",
    "  run_legible_eval=True,\n",
    "  run_pose=True, ##\n",
    "  run_crops=False,\n",
    "  run_str=False,\n",
    "  run_combine=False,\n",
    "  run_eval=False)"
   ]
  },
  {
   "cell_type": "markdown",
   "metadata": {},
   "source": [
    "## Benchmark (current pipeline metrics)\n",
    "### Results\n",
    "- 2025-03-29 14:44:05 [INFO] Correct 1051 out of 1210. Accuracy 86.85950413223141%.\n",
    "- 2025-03-29 14:44:05 [INFO] TP=766, TN=285, FP=70, FN=89\n",
    "- 2025-03-29 14:44:05 [INFO] Precision=0.916267942583732, Recall=0.895906432748538\n",
    "- 2025-03-29 14:44:05 [INFO] F1=0.9059727971614429\n",
    "- 2025-03-29 14:44:05 [INFO] Saved failed legibility cases to:  c:\\Users\\colin\\OneDrive\\Desktop\\Jersey-Number-Recognition\\data\\SoccerNet\\jersey-2023\\processed_data\\test\\common_data\\failed_legibility_cases.json\n",
    "\n",
    "### Analysis\n",
    "legible_but_marked_illegible: 89 cases\n",
    "109, 88, 34, 151, 19, 68, 67, 128, 57, 178, 189, 196, 214, 242, 258, 271, 304, 327, 320, 352, 375, 378, 414, 416, 439, 425, 451, 453, 454, 466, 499, 511, 513, 526, 528, 567, 576, 594, 619, 623, 646, 687, 682, 709, 711, 717, 739, 758, 767, 795, 788, 840, 843, 832, 841, 852, 847, 851, 856, 850, 868, 866, 871, 901, 902, 904, 900, 907, 928, 939, 944, 961, 984, 983, 1005, 1039, 1064, 1063, 1077, 1091, 1101, 1137, 1152, 1153, 1160, 1167, 1157, 1165, 1206\n",
    "\n",
    "illegible_but_marked_legible: 70 cases\n",
    "168, 167, 162, 97, 39, 87, 89, 134, 61, 172, 164, 199, 215, 260, 267, 269, 281, 276, 288, 295, 317, 325, 340, 345, 374, 394, 388, 386, 391, 406, 408, 434, 437, 459, 471, 514, 532, 558, 683, 748, 770, 790, 802, 827, 861, 869, 879, 897, 895, 909, 964, 981, 999, 1023, 1031, 1025, 1033, 1030, 1055, 1088, 1087, 1169, 1175, 1174, 1173, 1183, 1170, 1179, 1184, 1185\n",
    "\n",
    "- Total misclassifications: 159\n",
    "- False negatives (legible marked as illegible): 89\n",
    "- False positives (illegible marked as legible): 70\n",
    "- Percentage of false negatives: 7.36%\n",
    "- Percentage of false positives: 5.79%\n",
    "- Combined percentage of errors as a percentage of total cases: 13.14%"
   ]
  },
  {
   "cell_type": "code",
   "execution_count": 5,
   "metadata": {},
   "outputs": [
    {
     "name": "stdout",
     "output_type": "stream",
     "text": [
      "legible_but_marked_illegible: 0 cases\n",
      "\n",
      "illegible_but_marked_legible: 0 cases\n",
      "\n",
      "Total misclassifications: 0\n",
      "False negatives (legible marked as illegible): 0\n",
      "False positives (illegible marked as legible): 0\n",
      "Percentage of false negatives: 0.00%\n",
      "Percentage of false positives: 0.00%\n",
      "Combined percentage of errors as a percentage of total cases: 0.00%\n"
     ]
    }
   ],
   "source": [
    "import json\n",
    "failed_cases = f\"{DataPaths.COMMON_PROCESSED_OUTPUT_DATA_TEST.value}/failed_legibility_cases.json\"\n",
    "\n",
    "# Load this JSON file\n",
    "with open(failed_cases, 'r') as f:\n",
    "    failed_cases_dict = json.load(f)\n",
    "    # Print the every key and its associated value (value will be a list so need to make that printable with \",\".join):\n",
    "    for key, value in failed_cases_dict.items():\n",
    "        print(f\"{key}: {len(value)} cases\")\n",
    "        if len(value) > 0:\n",
    "            print(f\"{', '.join(value)}\")\n",
    "        print()\n",
    "    \n",
    "    # Summary statistics\n",
    "    legible_but_marked_illegible = len(failed_cases_dict.get(\"legible_but_marked_illegible\", []))\n",
    "    illegible_but_marked_legible = len(failed_cases_dict.get(\"illegible_but_marked_legible\", []))\n",
    "    total_errors = legible_but_marked_illegible + illegible_but_marked_legible\n",
    "    \n",
    "    print(f\"Total misclassifications: {total_errors}\")\n",
    "    print(f\"False negatives (legible marked as illegible): {legible_but_marked_illegible}\")\n",
    "    print(f\"False positives (illegible marked as legible): {illegible_but_marked_legible}\")\n",
    "    print(f\"Percentage of false negatives: {legible_but_marked_illegible / 1210 * 100:.2f}%\")\n",
    "    print(f\"Percentage of false positives: {illegible_but_marked_legible / 1210 * 100:.2f}%\")\n",
    "    print(f\"Combined percentage of errors as a percentage of total cases: {total_errors / 1210 * 100:.2f}%\")"
   ]
  },
  {
   "cell_type": "code",
   "execution_count": 6,
   "metadata": {},
   "outputs": [],
   "source": [
    "# import timm\n",
    "# import torch\n",
    "# from torch import nn\n",
    "\n",
    "# model = timm.create_model(\"timm/vit_base_patch16_224.orig_in21k_ft_in1k\", pretrained=False)\n",
    "# model.head = nn.Linear(model.head.in_features, 10)\n",
    "# model.load_state_dict(\n",
    "#     torch.hub.load_state_dict_from_url(\n",
    "#         \"https://huggingface.co/edadaltocg/vit_base_patch16_224_in21k_ft_svhn/resolve/main/pytorch_model.bin\",\n",
    "#         map_location=\"cpu\",\n",
    "#         file_name=\"vit_base_patch16_224_in21k_ft_svhn.pth\",\n",
    "#     )\n",
    "# )"
   ]
  }
 ],
 "metadata": {
  "kernelspec": {
   "display_name": "UBC",
   "language": "python",
   "name": "python3"
  },
  "language_info": {
   "codemirror_mode": {
    "name": "ipython",
    "version": 3
   },
   "file_extension": ".py",
   "mimetype": "text/x-python",
   "name": "python",
   "nbconvert_exporter": "python",
   "pygments_lexer": "ipython3",
   "version": "3.13.1"
  }
 },
 "nbformat": 4,
 "nbformat_minor": 2
}
