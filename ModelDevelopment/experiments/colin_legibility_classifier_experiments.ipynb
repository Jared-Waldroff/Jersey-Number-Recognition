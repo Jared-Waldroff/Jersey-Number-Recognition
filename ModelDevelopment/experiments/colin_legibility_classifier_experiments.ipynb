{
 "cells": [
  {
   "cell_type": "code",
   "execution_count": 1,
   "metadata": {},
   "outputs": [
    {
     "name": "stdout",
     "output_type": "stream",
     "text": [
      "c:\\Users\\colin\\OneDrive\\Desktop\\Jersey-Number-Recognition\n",
      "Current working directory:  c:\\Users\\colin\\OneDrive\\Desktop\\Jersey-Number-Recognition\\ModelDevelopment\\experiments\n"
     ]
    }
   ],
   "source": [
    "import sys\n",
    "from pathlib import Path\n",
    "import os\n",
    "import json\n",
    "\n",
    "sys.path.append(str(Path.cwd().parent.parent))\n",
    "print(str(Path.cwd().parent.parent))\n",
    "print(\"Current working directory: \", os.getcwd())\n",
    "\n",
    "from ModelDevelopment.CentralPipeline import CentralPipeline\n",
    "from ModelDevelopment.ImageBatchPipeline import ImageBatchPipeline\n",
    "from DataProcessing.DataPreProcessing import DataPaths"
   ]
  },
  {
   "cell_type": "code",
   "execution_count": 2,
   "metadata": {},
   "outputs": [
    {
     "name": "stdout",
     "output_type": "stream",
     "text": [
      "Legible tracklets:  ['0', '1', '2', '5', '6', '7', '8', '9', '10', '11', '12', '13', '14', '15', '16', '17', '18', '19', '26', '27', '28', '30', '31', '32', '33', '34', '35', '36', '37', '42', '43', '44', '45', '46', '48', '52', '54', '55', '56', '57', '58', '59', '60', '62', '63', '64', '65', '66', '67', '68', '69', '70', '72', '73', '77', '80', '83', '84', '86', '88', '91', '92', '93', '94', '95', '96', '98', '99', '100', '101', '102', '103', '105', '106', '107', '109', '111', '112', '113', '114', '115', '116', '120', '123', '125', '126', '127', '128', '131', '132', '133', '135', '136', '137', '138', '139', '140', '141', '142', '143', '144', '145', '146', '148', '149', '150', '151', '152', '153', '154', '156', '157', '159', '160', '161', '163', '166', '169', '170', '171', '173', '178', '179', '180', '181', '185', '186', '187', '188', '189', '190', '191', '192', '193', '196', '197', '198', '201', '202', '203', '204', '205', '206', '207', '208', '209', '210', '212', '213', '214', '219', '220', '221', '222', '223', '227', '228', '229', '232', '236', '237', '238', '239', '242', '244', '245', '246', '247', '248', '249', '250', '251', '252', '253', '254', '256', '258', '261', '263', '264', '266', '268', '271', '272', '273', '275', '278', '280', '289', '290', '296', '298', '299', '300', '301', '304', '305', '308', '309', '310', '311', '313', '314', '315', '316', '318', '320', '321', '322', '323', '327', '328', '329', '330', '331', '332', '333', '338', '339', '341', '343', '344', '346', '347', '348', '349', '350', '352', '353', '355', '357', '358', '359', '360', '361', '362', '363', '364', '365', '366', '367', '368', '369', '371', '375', '377', '378', '380', '381', '382', '383', '384', '385', '387', '389', '390', '393', '397', '398', '399', '403', '404', '405', '407', '410', '411', '412', '413', '414', '416', '418', '420', '422', '423', '424', '425', '426', '427', '428', '429', '430', '435', '436', '439', '440', '442', '443', '445', '446', '448', '449', '451', '452', '453', '454', '455', '456', '457', '458', '460', '461', '464', '466', '470', '473', '474', '475', '476', '478', '479', '480', '481', '483', '484', '485', '486', '488', '489', '490', '491', '492', '493', '494', '495', '496', '497', '498', '499', '500', '501', '502', '503', '506', '508', '509', '510', '511', '512', '513', '515', '516', '517', '518', '519', '521', '522', '523', '524', '525', '526', '528', '536', '537', '538', '540', '541', '543', '544', '545', '546', '547', '548', '549', '550', '552', '553', '555', '556', '557', '559', '560', '561', '563', '564', '565', '567', '568', '569', '570', '571', '572', '573', '574', '576', '578', '579', '580', '581', '582', '583', '584', '585', '586', '588', '589', '590', '591', '593', '594', '595', '596', '597', '598', '599', '600', '601', '602', '603', '604', '605', '606', '608', '609', '610', '611', '612', '613', '614', '615', '616', '617', '618', '619', '623', '625', '626', '627', '628', '631', '634', '635', '636', '637', '638', '639', '640', '641', '642', '643', '644', '645', '646', '648', '649', '650', '651', '652', '654', '655', '656', '657', '658', '659', '660', '661', '662', '663', '664', '665', '667', '668', '670', '671', '672', '673', '674', '675', '676', '677', '678', '679', '680', '682', '684', '685', '686', '687', '688', '689', '691', '692', '693', '694', '695', '696', '697', '698', '699', '700', '701', '702', '703', '704', '705', '706', '707', '709', '710', '711', '712', '713', '714', '716', '717', '718', '719', '720', '721', '722', '723', '724', '725', '726', '727', '728', '729', '730', '731', '732', '733', '734', '735', '739', '741', '742', '744', '745', '746', '749', '750', '754', '755', '758', '759', '761', '762', '764', '765', '767', '768', '769', '775', '777', '780', '781', '785', '787', '788', '789', '793', '794', '795', '797', '798', '799', '801', '803', '804', '805', '806', '808', '809', '810', '811', '812', '813', '814', '815', '816', '817', '818', '819', '820', '821', '824', '825', '826', '828', '829', '830', '832', '833', '834', '835', '836', '837', '838', '839', '840', '841', '843', '844', '845', '846', '847', '850', '851', '852', '854', '855', '856', '857', '858', '859', '860', '863', '864', '866', '867', '868', '870', '871', '872', '873', '874', '876', '877', '878', '880', '881', '882', '883', '884', '885', '886', '887', '888', '889', '890', '891', '893', '894', '899', '900', '901', '902', '903', '904', '905', '906', '907', '908', '910', '911', '913', '914', '915', '916', '917', '918', '921', '922', '923', '924', '925', '926', '927', '928', '930', '931', '932', '933', '934', '935', '936', '939', '940', '941', '943', '944', '945', '946', '947', '948', '949', '952', '954', '955', '956', '957', '961', '962', '963', '965', '967', '969', '970', '971', '972', '973', '974', '975', '977', '978', '979', '980', '982', '983', '984', '985', '986', '987', '988', '991', '994', '996', '997', '1000', '1001', '1002', '1005', '1006', '1007', '1008', '1009', '1012', '1013', '1014', '1015', '1016', '1019', '1021', '1022', '1024', '1026', '1027', '1029', '1032', '1035', '1036', '1039', '1041', '1042', '1043', '1046', '1047', '1048', '1049', '1050', '1051', '1052', '1054', '1056', '1057', '1058', '1060', '1061', '1062', '1063', '1064', '1065', '1066', '1068', '1071', '1072', '1073', '1074', '1075', '1076', '1077', '1078', '1079', '1080', '1083', '1084', '1085', '1089', '1091', '1092', '1093', '1094', '1095', '1096', '1097', '1098', '1099', '1101', '1102', '1104', '1105', '1107', '1108', '1109', '1110', '1111', '1112', '1113', '1114', '1115', '1116', '1117', '1118', '1119', '1120', '1121', '1122', '1124', '1125', '1127', '1128', '1129', '1135', '1136', '1137', '1139', '1140', '1142', '1143', '1144', '1145', '1146', '1147', '1148', '1149', '1150', '1151', '1152', '1153', '1154', '1155', '1156', '1157', '1160', '1161', '1162', '1164', '1165', '1166', '1167', '1168', '1172', '1176', '1177', '1178', '1180', '1181', '1182', '1187', '1191', '1192', '1193', '1195', '1196', '1197', '1198', '1200', '1201', '1202', '1203', '1204', '1205', '1206', '1207', '1208', '1209', '1210']\n",
      "Illegible tracklets:  ['3', '4', '20', '21', '22', '23', '24', '25', '29', '38', '39', '40', '41', '47', '49', '50', '51', '53', '61', '71', '74', '75', '76', '78', '79', '81', '82', '85', '87', '89', '90', '97', '104', '108', '110', '117', '118', '119', '121', '122', '124', '129', '130', '134', '147', '155', '158', '162', '164', '165', '167', '168', '172', '174', '175', '176', '177', '182', '183', '184', '194', '195', '199', '200', '211', '215', '216', '217', '218', '224', '225', '226', '230', '231', '233', '234', '235', '240', '241', '243', '255', '257', '259', '260', '262', '265', '267', '269', '270', '274', '276', '277', '279', '281', '282', '283', '284', '285', '286', '287', '288', '291', '292', '293', '294', '295', '297', '302', '303', '306', '307', '312', '317', '319', '324', '325', '326', '334', '335', '336', '337', '340', '342', '345', '351', '354', '356', '370', '372', '373', '374', '376', '379', '386', '388', '391', '392', '394', '395', '396', '400', '401', '402', '406', '408', '409', '415', '417', '419', '421', '431', '432', '433', '434', '437', '438', '441', '444', '447', '450', '459', '462', '463', '465', '467', '468', '469', '471', '472', '477', '482', '487', '504', '505', '507', '514', '520', '527', '529', '530', '531', '532', '533', '534', '535', '539', '542', '551', '554', '558', '562', '566', '575', '577', '587', '592', '607', '620', '621', '622', '624', '629', '630', '632', '633', '647', '653', '666', '669', '681', '683', '690', '708', '715', '736', '737', '738', '740', '743', '747', '748', '751', '752', '753', '756', '757', '760', '763', '766', '770', '771', '772', '773', '774', '776', '778', '779', '782', '783', '784', '786', '790', '791', '792', '796', '800', '802', '807', '822', '823', '827', '831', '842', '848', '849', '853', '861', '862', '865', '869', '875', '879', '892', '895', '896', '897', '898', '909', '912', '919', '920', '929', '937', '938', '942', '950', '951', '953', '958', '959', '960', '964', '966', '968', '976', '981', '989', '990', '992', '993', '995', '998', '999', '1003', '1004', '1010', '1011', '1017', '1018', '1020', '1023', '1025', '1028', '1030', '1031', '1033', '1034', '1037', '1038', '1040', '1044', '1045', '1053', '1055', '1059', '1067', '1069', '1070', '1081', '1082', '1086', '1087', '1088', '1090', '1100', '1103', '1106', '1123', '1126', '1130', '1131', '1132', '1133', '1134', '1138', '1141', '1158', '1159', '1163', '1169', '1170', '1171', '1173', '1174', '1175', '1179', '1183', '1184', '1185', '1186', '1188', '1189', '1190', '1194', '1199']\n"
     ]
    }
   ],
   "source": [
    "gt_test = DataPaths.TEST_DATA_GT.value\n",
    "#Schema of gt_test: {\"0\": 4, \"1\": 93, \"2\": 25, \"3\": -1, \"4\": -1,\n",
    "\n",
    "# load the json and compile a list of all tracklets with -1 as not_legible and all other tracklets as legible\n",
    "with open(gt_test, 'r') as f:\n",
    "    data = json.load(f)\n",
    "    legible = []\n",
    "    illegible = []\n",
    "    \n",
    "    for key, value in data.items():\n",
    "        if value == -1:\n",
    "            illegible.append(key)\n",
    "        else:\n",
    "            legible.append(key)\n",
    "    \n",
    "print(\"Legible tracklets: \", legible)\n",
    "print(\"Illegible tracklets: \", illegible)"
   ]
  },
  {
   "cell_type": "code",
   "execution_count": 3,
   "metadata": {},
   "outputs": [],
   "source": [
    "# # Delete soccer_ball.json files\n",
    "# import os\n",
    "# root_path = r\"C:\\Users\\colin\\OneDrive\\Desktop\\Jersey-Number-Recognition\\data\\SoccerNet\\jersey-2023\\extracted\\test\\images\"\n",
    "\n",
    "# for tracklet in range(1, 1210):\n",
    "#   path = os.path.join(root_path, str(tracklet))\n",
    "  \n",
    "#   # If there is a .soccer_ball.json file in there, delete it\n",
    "#   if os.path.exists(os.path.join(path, \"soccer_ball.json\")):\n",
    "#     os.remove(os.path.join(path, \"soccer_ball.json\"))"
   ]
  },
  {
   "cell_type": "code",
   "execution_count": 4,
   "metadata": {},
   "outputs": [
    {
     "name": "stdout",
     "output_type": "stream",
     "text": [
      "2025-03-30 15:07:25 [INFO] DataPreProcessing initialized. Universe of available data paths:\n",
      "2025-03-30 15:07:25 [INFO] ROOT_DATA_DIR: c:\\Users\\colin\\OneDrive\\Desktop\\Jersey-Number-Recognition\\data\\SoccerNet\\jersey-2023\\extracted\n",
      "2025-03-30 15:07:25 [INFO] TEST_DATA_GT: c:\\Users\\colin\\OneDrive\\Desktop\\Jersey-Number-Recognition\\data\\SoccerNet\\jersey-2023\\extracted\\test\\test_gt.json\n",
      "2025-03-30 15:07:25 [INFO] TRAIN_DATA_GT: c:\\Users\\colin\\OneDrive\\Desktop\\Jersey-Number-Recognition\\data\\SoccerNet\\jersey-2023\\extracted\\train\\train_gt.json\n",
      "2025-03-30 15:07:25 [INFO] TEST_DATA_DIR: c:\\Users\\colin\\OneDrive\\Desktop\\Jersey-Number-Recognition\\data\\SoccerNet\\jersey-2023\\extracted\\test\\images\n",
      "2025-03-30 15:07:25 [INFO] TRAIN_DATA_DIR: c:\\Users\\colin\\OneDrive\\Desktop\\Jersey-Number-Recognition\\data\\SoccerNet\\jersey-2023\\extracted\\train\\images\n",
      "2025-03-30 15:07:25 [INFO] CHALLENGE_DATA_DIR: c:\\Users\\colin\\OneDrive\\Desktop\\Jersey-Number-Recognition\\data\\SoccerNet\\jersey-2023\\extracted\\challenge\\images\n",
      "2025-03-30 15:07:25 [INFO] PRE_TRAINED_MODELS_DIR: c:\\Users\\colin\\OneDrive\\Desktop\\Jersey-Number-Recognition\\data\\pre_trained_models\n",
      "2025-03-30 15:07:25 [INFO] REID_PRE_TRAINED: c:\\Users\\colin\\OneDrive\\Desktop\\Jersey-Number-Recognition\\data\\pre_trained_models\\reid\n",
      "2025-03-30 15:07:25 [INFO] STR_PRE_TRAINED: c:\\Users\\colin\\OneDrive\\Desktop\\Jersey-Number-Recognition\\data\\pre_trained_models\\str\n",
      "2025-03-30 15:07:25 [INFO] STR_MODEL: c:\\Users\\colin\\OneDrive\\Desktop\\Jersey-Number-Recognition\\data\\pre_trained_models\\str\\parseq_epoch=24-step=2575-val_accuracy=95.6044-val_NED=96.3255.ckpt\n",
      "2025-03-30 15:07:25 [INFO] REID_MODEL_1: c:\\Users\\colin\\OneDrive\\Desktop\\Jersey-Number-Recognition\\data\\pre_trained_models\\reid\\dukemtmcreid_resnet50_256_128_epoch_120.ckpt\n",
      "2025-03-30 15:07:25 [INFO] REID_MODEL_2: c:\\Users\\colin\\OneDrive\\Desktop\\Jersey-Number-Recognition\\data\\pre_trained_models\\reid\\market1501_resnet50_256_128_epoch_120.ckpt\n",
      "2025-03-30 15:07:25 [INFO] REID_CONFIG_YAML: c:\\Users\\colin\\OneDrive\\Desktop\\Jersey-Number-Recognition\\data\\pre_trained_models\\reid\\configs\\256_resnet50.yml\n",
      "2025-03-30 15:07:25 [INFO] RESNET_MODEL: c:\\Users\\colin\\OneDrive\\Desktop\\Jersey-Number-Recognition\\data\\pre_trained_models\\resnet\\legibility_resnet34_soccer_20240215.pth\n",
      "2025-03-30 15:07:25 [INFO] VIT_MODEL: c:\\Users\\colin\\OneDrive\\Desktop\\Jersey-Number-Recognition\\data\\pre_trained_models\\ViT\\vit_base_patch16_224_in21k_ft_svhn.pth\n",
      "2025-03-30 15:07:25 [INFO] PROCESSED_DATA_OUTPUT_DIR: c:\\Users\\colin\\OneDrive\\Desktop\\Jersey-Number-Recognition\\data\\SoccerNet\\jersey-2023\\processed_data\n",
      "2025-03-30 15:07:25 [INFO] PROCESSED_DATA_OUTPUT_DIR_TRAIN: c:\\Users\\colin\\OneDrive\\Desktop\\Jersey-Number-Recognition\\data\\SoccerNet\\jersey-2023\\processed_data\\train\n",
      "2025-03-30 15:07:25 [INFO] PROCESSED_DATA_OUTPUT_DIR_TEST: c:\\Users\\colin\\OneDrive\\Desktop\\Jersey-Number-Recognition\\data\\SoccerNet\\jersey-2023\\processed_data\\test\n",
      "2025-03-30 15:07:25 [INFO] PROCESSED_DATA_OUTPUT_DIR_CHALLENGE: c:\\Users\\colin\\OneDrive\\Desktop\\Jersey-Number-Recognition\\data\\SoccerNet\\jersey-2023\\processed_data\\challenge\n",
      "2025-03-30 15:07:25 [INFO] COMMON_PROCESSED_OUTPUT_DATA_TRAIN: c:\\Users\\colin\\OneDrive\\Desktop\\Jersey-Number-Recognition\\data\\SoccerNet\\jersey-2023\\processed_data\\train\\common_data\n",
      "2025-03-30 15:07:25 [INFO] COMMON_PROCESSED_OUTPUT_DATA_TEST: c:\\Users\\colin\\OneDrive\\Desktop\\Jersey-Number-Recognition\\data\\SoccerNet\\jersey-2023\\processed_data\\test\\common_data\n",
      "2025-03-30 15:07:25 [INFO] COMMON_PROCESSED_OUTPUT_DATA_CHALLENGE: c:\\Users\\colin\\OneDrive\\Desktop\\Jersey-Number-Recognition\\data\\SoccerNet\\jersey-2023\\processed_data\\challenge\\common_data\n",
      "2025-03-30 15:07:25 [INFO] STREAMLINED_PIPELINE: c:\\Users\\colin\\OneDrive\\Desktop\\Jersey-Number-Recognition\\StreamlinedPipelineScripts\n",
      "2025-03-30 15:07:25 [INFO] ['0', '1', '2', '3', '4', '5', '6', '7', '8', '9']\n",
      "2025-03-30 15:07:25 [INFO] Min tracklet: 0\n",
      "2025-03-30 15:07:25 [INFO] Max tracklet: 1210\n",
      "2025-03-30 15:07:25 [INFO] Using device: cuda\n"
     ]
    }
   ],
   "source": [
    "pipeline = CentralPipeline(\n",
    "  #tracklets_to_process_override=[109, 88, 34, 151, 19, 68, 67, 128, 57, 178, 189, 196, 214, 242, 258, 271, 304, 327, 320, 352, 375, 378, 414, 416, 439, 425, 451, 453, 454, 466, 499, 511, 513, 526, 528, 567, 576, 594, 619, 623, 646, 687, 682, 709, 711, 717, 739, 758, 767, 795, 788, 840, 843, 832, 841, 852, 847, 851, 856, 850, 868, 866, 871, 901, 902, 904, 900, 907, 928, 939, 944, 961, 984, 983, 1005, 1039, 1064, 1063, 1077, 1091, 1101, 1137, 1152, 1153, 1160, 1167, 1157, 1165, 1206],\n",
    "  tracklets_to_process_override=[327, 711, 907, 1064], # These ones are now passing \n",
    "  #tracklets_to_process_override=illegible,\n",
    "  #tracklets_to_process_override=[168, 167, 162, 97, 39, 87, 89, 134, 61, 172, 164, 199, 215, 260, 267, 269, 281, 276, 288, 295, 317, 325, 340, 345, 374, 394, 388, 386, 391, 406, 408, 434, 437, 459, 471, 514, 532, 558, 683, 748, 770, 790, 802, 827, 861, 869, 879, 897, 895, 909, 964, 981, 999, 1023, 1031, 1025, 1033, 1030, 1055, 1088, 1087, 1169, 1175, 1174, 1173, 1183, 1170, 1179, 1184, 1185],\n",
    "  #num_tracklets=1,\n",
    "  #num_images_per_tracklet=50,\n",
    "  input_data_path=DataPaths.TEST_DATA_DIR.value,\n",
    "  output_processed_data_path=DataPaths.PROCESSED_DATA_OUTPUT_DIR_TEST.value,\n",
    "  common_processed_data_dir=DataPaths.COMMON_PROCESSED_OUTPUT_DATA_TEST.value,\n",
    "  gt_data_path=DataPaths.TEST_DATA_GT.value,\n",
    "  display_transformed_image_sample=False, # NOTE: DO NOT USE. Code is parallelized so we cannot show images anymore. Code breaks, but first one will show if True.\n",
    "  use_cache=False, # Set to false to rebuild the cache\n",
    "  suppress_logging=False,\n",
    "  \n",
    "  # --- PARALLELIZATION PARAMS --- These settings are optimal for an NVIDIA RTX 3070 Ti Laptop GPU.\n",
    "  num_workers=2,            # CRITICAL optimisation param. Adjust accordingly. Pre-processing: 4 | STR: 2 | Crops: 4+\n",
    "  tracklet_batch_size=32,   # CRITICAL optimisation param. Adjust accordingly. Always 32\n",
    "  image_batch_size=100,     # CRITICAL optimisation param. Adjust accordingly. Pre-processing: 200 | STR: 100 | Crops: 200\n",
    "  num_threads_multiplier=2  # CRITICAL optimisation param. Adjust accordingly. Pre-processing: 4\n",
    "  )                         #                              Interpretation: num_threads = num_workers * num_threads_multiplier"
   ]
  },
  {
   "cell_type": "code",
   "execution_count": 5,
   "metadata": {},
   "outputs": [
    {
     "name": "stdout",
     "output_type": "stream",
     "text": [
      "2025-03-30 15:07:25 [INFO] Running the SoccerNet pipeline.\n",
      "2025-03-30 15:07:25 [INFO] Using PARSEQ2 model for scene text recognition\n",
      "2025-03-30 15:07:25 [INFO] Predicting numbers\n",
      "2025-03-30 15:07:25 [INFO] Aggregating legible & illegible results (cache not used or only one file is missing).\n",
      "2025-03-30 15:07:25 [INFO] Saved global legible results to: c:\\Users\\colin\\OneDrive\\Desktop\\Jersey-Number-Recognition\\data\\SoccerNet\\jersey-2023\\processed_data\\test\\common_data\\legible_results.json\n",
      "2025-03-30 15:07:25 [INFO] Saved global illegible results to: c:\\Users\\colin\\OneDrive\\Desktop\\Jersey-Number-Recognition\\data\\SoccerNet\\jersey-2023\\processed_data\\test\\common_data\\illegible_results.json\n",
      "2025-03-30 15:07:25 [INFO] Legible tracklets list: 327, 711, 1064\n",
      "Current working directory:  c:\\Users\\colin\\OneDrive\\Desktop\\Jersey-Number-Recognition\n"
     ]
    },
    {
     "data": {
      "application/vnd.jupyter.widget-view+json": {
       "model_id": "398c5cc1d3b3487cbb7f3a99e97ec9a7",
       "version_major": 2,
       "version_minor": 0
      },
      "text/plain": [
       "Dispatching STR on tracklets:   0%|          | 0/3 [00:00<?, ?it/s]"
      ]
     },
     "metadata": {},
     "output_type": "display_data"
    },
    {
     "data": {
      "application/vnd.jupyter.widget-view+json": {
       "model_id": "c7e2a5c0e8c24da5a2c3c6c2fd306a82",
       "version_major": 2,
       "version_minor": 0
      },
      "text/plain": [
       "Aggregating STR results:   0%|          | 0/3 [00:00<?, ?it/s]"
      ]
     },
     "metadata": {},
     "output_type": "display_data"
    },
    {
     "name": "stdout",
     "output_type": "stream",
     "text": [
      "2025-03-30 15:07:37 [INFO] Tracklet 711 stdout: Additional keyword arguments: {'charset_test': '0123456789'}\n",
      "STR Inference:   0%|          | 0/2 [00:00<?, ?it/s]\n",
      "Results saved to c:\\Users\\colin\\OneDrive\\Desktop\\Jersey-Number-Recognition\\data\\SoccerNet\\jersey-2023\\processed_data\\test\\711\\str_results.json\n",
      "\n",
      "\n",
      "2025-03-30 15:07:37 [ERROR] Tracklet 711 stderr: C:\\Users\\colin\\miniconda3\\envs\\parseq2\\lib\\site-packages\\timm\\models\\helpers.py:7: FutureWarning: Importing from timm.models.helpers is deprecated, please import via timm.models\n",
      "  warnings.warn(f\"Importing from {__name__} is deprecated, please import via timm.models\", FutureWarning)\n",
      "C:\\Users\\colin\\miniconda3\\envs\\parseq2\\lib\\site-packages\\lightning_fabric\\utilities\\cloud_io.py:51: FutureWarning: You are using `torch.load` with `weights_only=False` (the current default value), which uses the default pickle module implicitly. It is possible to construct malicious pickle data which will execute arbitrary code during unpickling (See https://github.com/pytorch/pytorch/blob/main/SECURITY.md#untrusted-models for more details). In a future release, the default value for `weights_only` will be flipped to `True`. This limits the functions that could be executed during unpickling. Arbitrary objects will no longer be allowed to be loaded via this mode unless they are explicitly allowlisted by the user via `torch.serialization.add_safe_globals`. We recommend you start setting `weights_only=True` for any use case where you don't have full control of the loaded file. Please open an issue on GitHub for any issues related to this experimental feature.\n",
      "  return torch.load(f, map_location=map_location)  # type: ignore[arg-type]\n",
      "C:\\Users\\colin\\miniconda3\\envs\\parseq2\\lib\\site-packages\\torch\\nn\\functional.py:5849: UserWarning: Support for mismatched key_padding_mask and attn_mask is deprecated. Use same type for both instead.\n",
      "  warnings.warn(\n",
      "\n",
      "\n",
      "2025-03-30 15:07:37 [INFO] Tracklet 327 stdout: Additional keyword arguments: {'charset_test': '0123456789'}\n",
      "STR Inference:   0%|          | 0/4 [00:00<?, ?it/s]\n",
      "Results saved to c:\\Users\\colin\\OneDrive\\Desktop\\Jersey-Number-Recognition\\data\\SoccerNet\\jersey-2023\\processed_data\\test\\327\\str_results.json\n",
      "\n",
      "\n",
      "2025-03-30 15:07:37 [ERROR] Tracklet 327 stderr: C:\\Users\\colin\\miniconda3\\envs\\parseq2\\lib\\site-packages\\timm\\models\\helpers.py:7: FutureWarning: Importing from timm.models.helpers is deprecated, please import via timm.models\n",
      "  warnings.warn(f\"Importing from {__name__} is deprecated, please import via timm.models\", FutureWarning)\n",
      "C:\\Users\\colin\\miniconda3\\envs\\parseq2\\lib\\site-packages\\lightning_fabric\\utilities\\cloud_io.py:51: FutureWarning: You are using `torch.load` with `weights_only=False` (the current default value), which uses the default pickle module implicitly. It is possible to construct malicious pickle data which will execute arbitrary code during unpickling (See https://github.com/pytorch/pytorch/blob/main/SECURITY.md#untrusted-models for more details). In a future release, the default value for `weights_only` will be flipped to `True`. This limits the functions that could be executed during unpickling. Arbitrary objects will no longer be allowed to be loaded via this mode unless they are explicitly allowlisted by the user via `torch.serialization.add_safe_globals`. We recommend you start setting `weights_only=True` for any use case where you don't have full control of the loaded file. Please open an issue on GitHub for any issues related to this experimental feature.\n",
      "  return torch.load(f, map_location=map_location)  # type: ignore[arg-type]\n",
      "C:\\Users\\colin\\miniconda3\\envs\\parseq2\\lib\\site-packages\\torch\\nn\\functional.py:5849: UserWarning: Support for mismatched key_padding_mask and attn_mask is deprecated. Use same type for both instead.\n",
      "  warnings.warn(\n",
      "\n",
      "\n",
      "2025-03-30 15:07:38 [INFO] Tracklet 1064 stdout: Additional keyword arguments: {'charset_test': '0123456789'}\n",
      "STR Inference:   0%|          | 0/15 [00:00<?, ?it/s]\n",
      "Results saved to c:\\Users\\colin\\OneDrive\\Desktop\\Jersey-Number-Recognition\\data\\SoccerNet\\jersey-2023\\processed_data\\test\\1064\\str_results.json\n",
      "\n",
      "\n",
      "2025-03-30 15:07:38 [ERROR] Tracklet 1064 stderr: C:\\Users\\colin\\miniconda3\\envs\\parseq2\\lib\\site-packages\\timm\\models\\helpers.py:7: FutureWarning: Importing from timm.models.helpers is deprecated, please import via timm.models\n",
      "  warnings.warn(f\"Importing from {__name__} is deprecated, please import via timm.models\", FutureWarning)\n",
      "C:\\Users\\colin\\miniconda3\\envs\\parseq2\\lib\\site-packages\\lightning_fabric\\utilities\\cloud_io.py:51: FutureWarning: You are using `torch.load` with `weights_only=False` (the current default value), which uses the default pickle module implicitly. It is possible to construct malicious pickle data which will execute arbitrary code during unpickling (See https://github.com/pytorch/pytorch/blob/main/SECURITY.md#untrusted-models for more details). In a future release, the default value for `weights_only` will be flipped to `True`. This limits the functions that could be executed during unpickling. Arbitrary objects will no longer be allowed to be loaded via this mode unless they are explicitly allowlisted by the user via `torch.serialization.add_safe_globals`. We recommend you start setting `weights_only=True` for any use case where you don't have full control of the loaded file. Please open an issue on GitHub for any issues related to this experimental feature.\n",
      "  return torch.load(f, map_location=map_location)  # type: ignore[arg-type]\n",
      "C:\\Users\\colin\\miniconda3\\envs\\parseq2\\lib\\site-packages\\torch\\nn\\functional.py:5849: UserWarning: Support for mismatched key_padding_mask and attn_mask is deprecated. Use same type for both instead.\n",
      "  warnings.warn(\n",
      "\n",
      "\n",
      "2025-03-30 15:07:38 [INFO] Done predicting numbers\n",
      "2025-03-30 15:07:38 [INFO] Aggregating STR results (cache not used or global file missing).\n"
     ]
    },
    {
     "name": "stderr",
     "output_type": "stream",
     "text": [
      "Dispatching STR file loads: 100%|██████████| 4/4 [00:00<00:00, 702.33it/s]\n",
      "Merging STR results:   0%|          | 0/4 [00:00<?, ?it/s]"
     ]
    },
    {
     "name": "stdout",
     "output_type": "stream",
     "text": [
      "2025-03-30 15:07:38 [INFO] Raw loaded data for tracklet 907: {}\n",
      "2025-03-30 15:07:38 [INFO] Raw loaded data for tracklet 1064: {'1064_226.jpg': {'label': '29', 'confidence': [0.8989174962043762, 0.9955570101737976, 1.0], 'raw': [[2.820311628681793e-08, 1.0250173687609276e-07, 0.10106583684682846, 0.8989174962043762, 1.4647814168711193e-05, 3.141818751828396e-07, 6.092017912351366e-08, 5.270389902278794e-09, 9.849470217204725e-08, 7.929074854473583e-07, 7.184305559349013e-07], [1.3559057379097794e-06, 0.0013297226978465915, 3.7749330658698454e-05, 3.614215984271141e-07, 7.329044251491723e-07, 1.4522301171382423e-05, 0.0009881602600216866, 3.053697582799941e-05, 0.00045780595974065363, 0.001582057448104024, 0.9955570101737976], [1.0, 8.926825945110295e-10, 5.080534881685139e-10, 2.395583557912584e-11, 1.4357225130989804e-10, 3.4238770672823104e-12, 7.897747560103863e-12, 2.9892878537080003e-12, 3.933409153944467e-12, 1.774560316400442e-12, 2.6873598832355405e-12]], 'logits': [[-1.0336933135986328, 0.2567543089389801, 14.058156967163086, 16.243576049804688, 5.218920707702637, 1.3768460750579834, -0.2635616064071655, -2.7110209465026855, 0.21687626838684082, 2.3025808334350586, 2.2039427757263184], [4.548755168914795, 11.43701171875, 7.875253677368164, 3.226576328277588, 3.933546304702759, 6.919971942901611, 11.140130996704102, 7.663224220275879, 10.370731353759766, 11.610767364501953, 18.055343627929688], [23.034564971923828, 2.197775363922119, 1.6341309547424316, -1.4202433824539185, 0.37038224935531616, -3.3656818866729736, -2.529879331588745, -3.501420259475708, -3.226950168609619, -4.022903919219971, -3.6078972816467285]]}, '1064_227.jpg': {'label': '29', 'confidence': [0.5426226854324341, 0.9788122773170471, 1.0], 'raw': [[6.350083481265756e-08, 1.958720332595476e-07, 0.45734480023384094, 0.5426226854324341, 1.8524908227846026e-05, 1.0017961216135518e-07, 1.3824720213051478e-07, 1.026185536545654e-08, 6.401294854185835e-07, 4.2625109131222416e-07, 1.2428995432856027e-05], [1.790399210221949e-06, 0.014931639656424522, 0.0004253737279213965, 2.490901124474476e-06, 7.332550353567058e-07, 1.8601045667310245e-05, 0.0006588053074665368, 0.00011715606524376199, 0.0006863256567157805, 0.004344712011516094, 0.9788122773170471], [1.0, 9.867723305134746e-10, 8.708550547353866e-10, 1.12211365199677e-10, 1.0850743914492256e-10, 2.022120968933616e-12, 1.4378045629093172e-11, 4.89085768412556e-12, 4.3499106226752016e-12, 1.3384154895490497e-12, 6.210279252655271e-12]], 'logits': [[-0.8522595167160034, 0.2741491198539734, 14.93763542175293, 15.108612060546875, 4.823559284210205, -0.39634841680526733, -0.07426929473876953, -2.674879550933838, 1.458357572555542, 1.051715612411499, 4.424475193023682], [3.4946255683898926, 12.52342414855957, 8.965154647827148, 3.8248307704925537, 2.6019253730773926, 5.835404396057129, 9.40261459350586, 7.675693511962891, 9.443538665771484, 11.288901329040527, 16.706281661987305], [22.950077056884766, 2.2134945392608643, 2.088531732559204, 0.039440035820007324, 0.005874276161193848, -3.976797103881836, -2.015241861343384, -3.0935771465301514, -3.2107882499694824, -4.389458656311035, -2.854738235473633]]}, '1064_228.jpg': {'label': '9', 'confidence': [0.9235299229621887, 0.9999994039535522], 'raw': [[4.977066581091094e-08, 2.6198874820693163e-06, 0.03217790275812149, 0.03537046164274216, 0.00025207779253832996, 0.007584248203784227, 3.2169989481189987e-06, 4.360153980087489e-05, 0.00020793474686797708, 0.0008279972244054079, 0.9235299229621887], [0.9999994039535522, 2.4285685640279553e-07, 3.1491737217947957e-07, 4.4154253586725645e-09, 1.3442888580073031e-08, 3.609385235137097e-09, 5.941400260667251e-09, 9.320412885926999e-09, 1.0964104069088876e-09, 1.0463462984944272e-08, 7.344000074738233e-09], [0.9999938011169434, 1.7506019958091201e-06, 2.173595703425235e-06, 2.182641765102744e-06, 9.07072461586722e-09, 4.086351701459989e-09, 1.475427335861923e-08, 1.5550602583402906e-08, 1.841150010228887e-09, 5.444663830900254e-09, 1.8525922129697392e-08]], 'logits': [[-3.4410347938537598, 0.5224259495735168, 9.938329696655273, 10.032926559448242, 5.08903169631958, 8.493123054504395, 0.7277427315711975, 3.3343870639801025, 4.896518707275391, 6.278304100036621, 13.295252799987793], [19.012012481689453, 3.781219005584717, 4.04105806350708, -0.22614848613739014, 0.8871968984603882, -0.4277151823043823, 0.07069122791290283, 0.5209547281265259, -1.619211196899414, 0.6366362571716309, 0.2826318144798279], [15.299299240112305, 2.0437543392181396, 2.2601771354675293, 2.264331102371216, -3.2189083099365234, -4.016307830810547, -2.7324273586273193, -2.6798605918884277, -4.813570022583008, -3.7293238639831543, -2.5047903060913086]]}, '1064_229.jpg': {'label': '9', 'confidence': [0.9986773133277893, 0.9999996423721313], 'raw': [[2.167577090039785e-10, 7.906219678943671e-08, 5.375396540330257e-06, 1.1400993571442086e-05, 3.4033882911899127e-06, 0.00012433742813300341, 6.721555223521136e-07, 7.714669436609256e-07, 1.2774651168001583e-06, 0.0011753772851079702, 0.9986773133277893], [0.9999996423721313, 1.909777722630679e-07, 4.801347586180782e-08, 1.3202107851384426e-08, 1.715359587706189e-08, 5.29137900162624e-10, 2.1463783639319445e-08, 6.018710418942419e-09, 3.35351496572045e-10, 7.013124303512086e-09, 6.530782137303959e-09], [0.9997658133506775, 5.426906682259869e-06, 0.00018448260379955173, 4.303121750126593e-05, 2.022551228719749e-07, 7.689219927442537e-09, 3.8483244679810014e-07, 4.1564195640830803e-08, 2.315811009623303e-08, 1.6457995855034824e-08, 6.267570711315784e-07]], 'logits': [[-3.8325023651123047, 2.066706657409668, 6.286060333251953, 7.037928581237793, 5.8289995193481445, 9.427227020263672, 4.206963062286377, 4.344766139984131, 4.849105358123779, 11.673572540283203, 18.418415069580078], [19.333126068115234, 3.8620173931121826, 2.48134183883667, 1.1902375221252441, 1.4520676136016846, -2.026646137237549, 1.6762268543243408, 0.4047335386276245, -2.482714891433716, 0.5576431155204773, 0.4863876700401306], [13.901827812194824, 1.7779204845428467, 5.304106712341309, 3.848477840423584, -1.511673927307129, -4.781383514404297, -0.8683958649635315, -3.0939645767211914, -3.678858518600464, -4.020392417907715, -0.3806447982788086]]}, '1064_230.jpg': {'label': '4', 'confidence': [0.5100551247596741, 0.9999868869781494], 'raw': [[5.524252610911162e-09, 6.691190037599881e-07, 2.2993686798145063e-05, 5.611895539914258e-05, 0.0010110513539984822, 0.5100551247596741, 1.2224707461427897e-05, 6.335151851999399e-07, 0.00031654382473789155, 0.00013981288066133857, 0.488384872674942], [0.9999868869781494, 1.2601626622199547e-05, 1.2336174393112742e-07, 2.982658342531863e-09, 6.806594843311586e-09, 4.2596067117983694e-08, 2.2018870993179007e-07, 6.83674556967162e-08, 2.454511482952171e-09, 1.0069668654466568e-08, 2.99857272345605e-09], [0.9999988079071045, 1.0148138471777202e-06, 1.2792537518180325e-07, 3.686341898401224e-08, 3.1156577318114387e-09, 8.753587299459298e-10, 1.4842242102020009e-08, 1.2071278421288412e-09, 1.578528863177553e-09, 5.163397140406367e-11, 1.8220523700929192e-10]], 'logits': [[-2.4237139225006104, 2.3730998039245605, 5.910113334655762, 6.802367210388184, 9.693639755249023, 15.917167663574219, 5.278352737426758, 2.318422794342041, 8.532355308532715, 7.715198516845703, 15.87375259399414], [18.78592300415039, 7.504251480102539, 2.877791166305542, -0.8445141315460205, -0.019438624382019043, 1.814432978630066, 3.457155466079712, 2.287567377090454, -1.0394024848937988, 0.3721984624862671, -0.8391925096511841], [17.76413345336914, 3.963329792022705, 1.892316222190857, 0.6480880975723267, -1.822690486907959, -3.092252016067505, -0.2616533935070038, -2.770888090133667, -2.5026378631591797, -5.922706604003906, -4.661753177642822]]}, '1064_231.jpg': {'label': '9', 'confidence': [0.9978609681129456, 0.9999996423721313], 'raw': [[1.6220604026617735e-10, 4.206587078670054e-08, 6.3568325003871e-07, 1.9846704617521027e-06, 3.7380671074060956e-06, 0.0020412085577845573, 1.7359919866066775e-06, 7.831559400983679e-07, 3.8067917103035143e-06, 8.515058289049193e-05, 0.9978609681129456], [0.9999996423721313, 2.505247209683148e-07, 1.1794593746117243e-07, 1.1769215824131152e-08, 5.148019965872663e-08, 1.5700385436190345e-09, 2.5381512003264106e-08, 3.6784972845538277e-09, 5.628983945626942e-09, 3.691176253539652e-09, 1.3731397352501062e-08], [0.9998760223388672, 1.7802554793888703e-05, 4.833419734495692e-05, 4.947064371663146e-05, 1.6290839539578883e-06, 1.9042458720974764e-09, 4.237742359691765e-06, 8.150719565946929e-08, 8.111157256962542e-08, 7.968562698579262e-08, 2.0981206034775823e-06]], 'logits': [[-3.496753692626953, 2.0613701343536377, 4.776834011077881, 5.915342807769775, 6.548458576202393, 12.851186752319336, 5.781468391418457, 4.9854655265808105, 6.566676139831543, 9.674310684204102, 19.043258666992188], [18.775827407836914, 3.5761194229125977, 2.8227884769439697, 0.518048882484436, 1.9937598705291748, -1.4963383674621582, 1.2865837812423706, -0.6449332237243652, -0.21950912475585938, -0.6414922475814819, 0.6722472310066223], [13.488061904907227, 2.5520167350769043, 3.550814390182495, 3.5740551948547363, 0.16069358587265015, -6.590994358062744, 1.1167060136795044, -2.8343887329101562, -2.8392534255981445, -2.8569912910461426, 0.4137168526649475]]}, '1064_232.jpg': {'label': '4', 'confidence': [0.7567229866981506, 0.999990701675415], 'raw': [[1.2753419653677156e-08, 6.037446382833878e-06, 9.519128070678562e-06, 0.0001199374019051902, 0.0003550464170984924, 0.7567229866981506, 0.00011378686031093821, 3.422762893023901e-05, 0.00022936463938094676, 4.245227682986297e-05, 0.24236656725406647], [0.999990701675415, 8.270349098893348e-06, 1.3732460502069443e-07, 5.3990936166314896e-09, 1.804904314894884e-08, 1.8934292356220794e-08, 6.864358397251635e-07, 1.8480139374332794e-07, 1.269673144399519e-09, 9.999389760650956e-09, 1.9987309585189905e-08], [1.0, 8.078975710645864e-09, 1.710081143357911e-08, 1.160942986189184e-08, 9.870020356572695e-10, 8.268208895323426e-10, 2.4157058575724477e-09, 1.6110304756900007e-10, 2.5451013518917875e-10, 3.757647405039366e-12, 2.6877406550385174e-11]], 'logits': [[-2.505443811416626, 3.654493808746338, 4.10981559753418, 6.643482685089111, 7.728760719299316, 15.393264770507812, 6.59083890914917, 5.389545917510986, 7.291825294494629, 5.604893207550049, 14.254718780517578], [18.572582244873047, 6.869757652282715, 2.7716734409332275, -0.4644433259963989, 0.7424189448356628, 0.7903006672859192, 4.380837917327881, 3.0686073303222656, -1.9119157791137695, 0.15185022354125977, 0.8444231748580933], [18.9116153717041, 0.2776139974594116, 1.0274758338928223, 0.640167236328125, -1.8247337341308594, -2.001816749572754, -0.9296596646308899, -3.637361764907837, -3.180065631866455, -7.395611763000488, -5.428119659423828]]}, '1064_235.jpg': {'label': '9', 'confidence': [0.9997954964637756, 0.9999996423721313], 'raw': [[2.4123517072816014e-10, 5.2650474202664554e-08, 1.6517088852197048e-06, 5.2083501032029744e-06, 2.4330689484486356e-05, 0.00015453327796421945, 6.760468295397004e-06, 7.064564329084533e-07, 8.36056460684631e-06, 2.8607528292923234e-06, 0.9997954964637756], [0.9999996423721313, 1.8730874273842346e-07, 9.88191217743406e-08, 2.1573615782699562e-08, 2.4496051409528263e-08, 7.54956819282171e-10, 6.207743297181878e-08, 1.6155210502688533e-08, 2.5330465502904076e-10, 6.28340712793829e-09, 2.669880316830131e-09], [0.9999284744262695, 2.151857643184485e-06, 4.9395781388739124e-05, 1.981965579034295e-05, 3.2529687388205275e-08, 2.311098645790821e-09, 8.392985506588957e-08, 5.870935293472712e-09, 1.7742509683671415e-08, 1.648105207863182e-09, 5.027267135915281e-08]], 'logits': [[-2.4900717735290527, 2.895585536956787, 6.341475963592529, 7.489929676055908, 9.031404495239258, 10.880075454711914, 7.750758171081543, 5.492171764373779, 7.963191509246826, 6.890750408172607, 19.654972076416016], [18.895553588867188, 3.4050469398498535, 2.7655792236328125, 1.2437586784362793, 1.37079918384552, -2.108806848526001, 2.300670862197876, 0.9545303583145142, -3.2008748054504395, 0.01020139455795288, -0.8456775546073914], [15.668981552124023, 2.6198740005493164, 5.7534074783325195, 4.840216636657715, -1.5720603466033936, -4.216489791870117, -0.624231219291687, -3.2841989994049072, -2.1782495975494385, -4.554586887359619, -1.1367517709732056]]}, '1064_236.jpg': {'label': '9', 'confidence': [0.9927166104316711, 0.9999992847442627], 'raw': [[2.682000177500754e-09, 4.4808132315665716e-07, 1.824451464926824e-05, 0.00011875155178131536, 0.0008029812015593052, 0.005904203746467829, 1.168029848486185e-05, 1.14943650260102e-05, 0.0001024662415147759, 0.00031311254133470356, 0.9927166104316711], [0.9999992847442627, 4.207281278922892e-07, 1.5670806874368282e-07, 1.3645208518653362e-08, 3.3980274594114235e-08, 1.1827669954556086e-09, 2.6219332482924074e-08, 1.0816258999568618e-08, 4.923120799915637e-10, 4.285645616164402e-09, 2.5141784210092055e-09], [0.999713122844696, 4.423876089276746e-05, 0.00015374485519714653, 8.795796748017892e-05, 2.2428262980156433e-07, 5.3488253826117216e-08, 1.1674899269564776e-07, 1.4269948778178332e-08, 3.7351910009419953e-07, 4.635301475985898e-09, 1.188780842653614e-07]], 'logits': [[-3.237004280090332, 1.881408929824829, 5.5880537033081055, 7.4612226486206055, 9.372520446777344, 11.367609024047852, 5.142092704772949, 5.126046180725098, 7.313722133636475, 8.43075180053711, 16.492389678955078], [18.414417266845703, 3.7331395149230957, 2.7455368041992188, 0.3045414686203003, 1.216933012008667, -2.1409921646118164, 0.9576484560966492, 0.0722031444311142, -3.0174899101257324, -0.8535762429237366, -1.3869025707244873], [14.459505081176758, 4.433882713317871, 5.6795759201049805, 5.121140480041504, -0.8505673408508301, -2.2840118408203125, -1.503447413444519, -3.6053175926208496, -0.3405044674873352, -4.72977352142334, -1.4853755235671997]]}, '1064_237.jpg': {'label': '9', 'confidence': [0.8142346143722534, 0.9999996423721313], 'raw': [[3.8767307586340394e-08, 7.986704986251425e-06, 0.0012063417816534638, 0.010116560384631157, 0.0023436059709638357, 0.17128464579582214, 5.735480590374209e-05, 0.00017048224981408566, 0.00015942516620270908, 0.0004189393948763609, 0.8142346143722534], [0.9999996423721313, 1.1459382420753172e-07, 2.0700690583908e-07, 2.4418614685828288e-08, 7.880016639205678e-09, 2.2449391234857785e-09, 1.7835418475442566e-08, 1.601512700233343e-08, 1.952715100728142e-09, 2.773764329333517e-09, 2.756554984273407e-09], [0.9999979734420776, 5.444988460112654e-07, 6.347473231471668e-07, 7.755771207484941e-07, 1.6276540115711668e-09, 7.528231371622951e-10, 1.4682608018290466e-08, 1.7374701677397297e-09, 2.032843449129018e-09, 1.723323705959956e-10, 7.4246928605248286e-09]], 'logits': [[-3.3621997833251953, 1.9657560586929321, 6.983325958251953, 9.109907150268555, 7.647424221038818, 11.93906021118164, 3.937235116958618, 5.026609897613525, 4.959553241729736, 5.925704479217529, 13.497982025146484], [18.896408081054688, 2.914536476135254, 3.505894660949707, 1.3684875965118408, 0.2374720573425293, -1.018178939819336, 1.0543285608291626, 0.9466768503189087, -1.1576368808746338, -0.8066529631614685, -0.8128764629364014], [16.7945556640625, 2.371157646179199, 2.524519205093384, 2.7248992919921875, -3.44156813621521, -4.21263313293457, -1.2420451641082764, -3.376277208328247, -3.219271659851074, -5.687038421630859, -1.9238959550857544]]}, '1064_239.jpg': {'label': '8', 'confidence': [0.6175891160964966, 0.9999997615814209], 'raw': [[1.7576702475707862e-06, 6.394936008291552e-06, 0.3389509320259094, 0.03532889485359192, 0.003084697527810931, 7.160804671002552e-05, 9.380433766636997e-06, 0.0001783722691470757, 0.0003036429116036743, 0.6175891160964966, 0.004475195426493883], [0.9999997615814209, 4.2335155825412585e-08, 1.2395871884507415e-08, 1.885141216462216e-07, 6.997825874321961e-09, 1.6434997460179623e-11, 3.850189944643034e-09, 3.435366713322452e-10, 9.00038987783347e-10, 1.6319415152565853e-08, 5.253206758482065e-10], [0.9999963045120239, 1.9340393464517547e-06, 2.555912317347975e-07, 1.4677433455290156e-06, 8.295446107808857e-09, 1.1581353931422456e-10, 8.459479339251175e-09, 5.943135428232438e-10, 7.703222060229109e-09, 1.0846162190603081e-08, 1.9940156192888026e-09]], 'logits': [[-1.6876760721206665, -0.39615947008132935, 10.481945037841797, 8.22079086303711, 5.782543182373047, 2.0195417404174805, -0.013040006160736084, 2.932206869125366, 3.464186668395996, 11.081912994384766, 6.154639720916748], [19.021900177001953, 2.0442521572113037, 0.815997838973999, 3.5378074645996094, 0.2442336082458496, -5.809706687927246, -0.35324370861053467, -2.769826889038086, -1.8066835403442383, 1.090990662574768, -2.3451108932495117], [16.226627349853516, 3.0707309246063232, 1.046944499015808, 2.794846296310425, -2.380927085876465, -6.652407646179199, -2.361346483230591, -5.016982555389404, -2.4549965858459473, -2.1128227710723877, -3.806483507156372]]}, '1064_240.jpg': {'label': '9', 'confidence': [0.3948652744293213, 0.9999980926513672], 'raw': [[1.582180630066432e-06, 6.583553840755485e-06, 0.21660038828849792, 0.2800441384315491, 0.01136087253689766, 0.09197644144296646, 0.00020028208382427692, 0.001856012735515833, 0.0009338110685348511, 0.0021545386407524347, 0.3948652744293213], [0.9999980926513672, 7.986322430042492e-07, 2.754574666141707e-07, 5.068491759629978e-07, 1.9209025481359276e-07, 4.429810296358028e-09, 6.3562062280198e-08, 8.759514003031654e-09, 1.2721581121866166e-08, 8.671079854138952e-09, 1.1875720851151073e-08], [0.999998927116394, 1.797389472812938e-07, 1.9217916147340475e-08, 9.201006037073967e-07, 2.040692725913118e-09, 2.2845858538289576e-10, 1.4112565560608914e-09, 4.576212464524332e-10, 2.755995653913601e-09, 3.1652158671846564e-10, 4.382825657955891e-09]], 'logits': [[-1.4936261177062988, -0.06785452365875244, 10.333379745483398, 10.590272903442383, 7.385500907897949, 9.476858139038086, 3.347297191619873, 5.573756217956543, 4.886844635009766, 5.722902297973633, 10.933870315551758], [17.95950698852539, 3.9191434383392334, 2.8546760082244873, 3.464456558227539, 2.494208335876465, -1.275400161743164, 1.3882596492767334, -0.593616247177124, -0.22045695781707764, -0.6037633419036865, -0.2892605662345886], [16.37462043762207, 0.842861533164978, -1.3928014039993286, 2.4758386611938477, -3.6353559494018555, -5.82504415512085, -4.00416374206543, -5.130358695983887, -3.3348662853240967, -5.4990081787109375, -2.8709497451782227]]}, '1064_241.jpg': {'label': '10', 'confidence': [0.6361762285232544, 0.6942210793495178, 1.0], 'raw': [[1.1927529612876242e-06, 5.609683285001665e-06, 0.6361762285232544, 0.3584267199039459, 0.0030481102876365185, 5.624591267405776e-06, 0.0022929180413484573, 1.8252880181535147e-05, 2.2820344383944757e-05, 7.041350613690156e-07, 1.8023330312644248e-06], [1.802069709810894e-05, 0.6942210793495178, 2.3769292965880595e-05, 0.00024236241006292403, 7.225223816931248e-05, 0.0003076252469327301, 0.2603420913219452, 0.007268979679793119, 0.006483366247266531, 3.3967003219004255e-06, 0.031017078086733818], [1.0, 1.6544920100614036e-08, 7.777091193261754e-10, 4.173318912670254e-10, 8.017900232637487e-11, 7.34351728731708e-12, 2.9728740302825685e-11, 2.404101917541368e-11, 4.0654292432495964e-11, 2.99718773020749e-13, 2.1296753423272197e-12]], 'logits': [[2.94943904876709, 4.497669696807861, 16.13640594482422, 15.562654495239258, 10.795452117919922, 4.500323295593262, 10.51075553894043, 5.677497863769531, 5.900827407836914, 2.422389507293701, 3.362257480621338], [4.6615800857543945, 15.22060489654541, 4.938453674316406, 7.260493278503418, 6.050222396850586, 7.498941421508789, 14.239810943603516, 10.661430358886719, 10.547054290771484, 2.992863655090332, 12.11235237121582], [21.09378433227539, 3.176598072052002, 0.11911576986312866, -0.5033543109893799, -2.1529743671417236, -4.543417930603027, -3.145122528076172, -3.357475757598877, -2.8321330547332764, -7.742147922515869, -5.7812676429748535]]}, '1064_242.jpg': {'label': '14', 'confidence': [0.9639260768890381, 0.6256582140922546, 1.0], 'raw': [[3.716307901413529e-07, 9.537162526385146e-08, 0.9639260768890381, 0.035251013934612274, 2.5486358936177567e-05, 0.0007805965142324567, 1.3333631613932084e-05, 1.353647121504764e-06, 8.339286949876623e-08, 1.6044263020376093e-06, 2.569625756621008e-08], [1.2505060453804617e-07, 0.004096370656043291, 0.0004899753257632256, 0.0012983084889128804, 0.00014109417679719627, 0.6256582140922546, 0.09520239382982254, 0.0003072688414249569, 0.12875428795814514, 0.0034862097818404436, 0.14056576788425446], [1.0, 1.3554431355089491e-08, 1.2115810577029151e-09, 2.672291055105802e-09, 2.178124069995846e-10, 4.418346591372746e-11, 1.3400727194579076e-09, 9.720164256821207e-11, 6.164433546951287e-11, 1.778729420698344e-11, 1.9660819847167055e-11]], 'logits': [[2.5547516345977783, 1.1946312189102173, 17.323375701904297, 14.01485538482666, 6.782749176025391, 10.20466423034668, 6.134895324707031, 3.8474080562591553, 1.06041419506073, 4.017372131347656, -0.11680479347705841], [1.0685420036315918, 11.465435981750488, 9.341934204101562, 10.316396713256836, 8.097006797790527, 16.494138717651367, 14.611339569091797, 8.8753023147583, 14.913240432739258, 11.304149627685547, 15.001009941101074], [21.701623916625977, 3.585070848464966, 1.1702839136123657, 1.9612945318222046, -0.5457639694213867, -2.141045570373535, 1.2710826396942139, -1.352609395980835, -1.8080148696899414, -3.050912857055664, -2.9507699012756348]]}, '1064_243.jpg': {'label': '4', 'confidence': [0.994881272315979, 0.999994158744812], 'raw': [[1.1193181848057066e-07, 3.9263909457076807e-07, 2.5380149963893928e-05, 0.0010238912655040622, 0.002343227853998542, 0.994881272315979, 0.0015639212215319276, 2.06885852094274e-06, 5.041295025876025e-06, 1.7054873751476407e-05, 0.0001375791907776147], [0.999994158744812, 3.4364750263193855e-06, 2.9214550067990785e-07, 1.201632571223854e-08, 1.525754278475233e-08, 1.2432580831500673e-07, 2.0074087387911277e-06, 1.4979823603766818e-08, 1.7319150558137153e-09, 8.178273058767616e-10, 3.6969831640476514e-09], [0.9999994039535522, 2.566503951584309e-07, 7.858000117266783e-08, 1.5998551816664985e-07, 4.540466225222417e-09, 5.6671396464480495e-09, 3.0900295655555965e-08, 1.7140493191458717e-10, 1.1178027392588774e-09, 3.1802459971030927e-12, 9.452815613597565e-11]], 'logits': [[0.15806448459625244, 1.4130653142929077, 5.581896781921387, 9.279294967651367, 10.107213973999023, 16.158308029174805, 9.702880859375, 3.0749268531799316, 3.9655921459198, 5.184365272521973, 7.272128582000732], [18.941192626953125, 6.360134124755859, 3.8951847553253174, 0.7041983604431152, 0.943006157875061, 3.0408384799957275, 5.822532653808594, 0.9246367812156677, -1.2328393459320068, -1.9831711053848267, -0.4745502471923828], [17.627849578857422, 2.452298641204834, 1.2687007188796997, 1.979668140411377, -1.5823860168457031, -1.3607308864593506, 0.3353506326675415, -4.859143257141113, -2.984051465988159, -8.846212387084961, -5.454273223876953]]}}\n",
      "2025-03-30 15:07:38 [INFO] Raw loaded data for tracklet 711: {'711_394.jpg': {'label': '10', 'confidence': [0.8739717602729797, 0.7891455888748169, 1.0], 'raw': [[5.170417693989293e-07, 6.359554845403181e-06, 0.8739717602729797, 0.04038826748728752, 0.07061616331338882, 9.82247570391337e-07, 0.014999416656792164, 8.904729838832282e-06, 1.5404984878841788e-06, 7.362364726759552e-07, 5.412262908066623e-06], [0.00021874054800719023, 0.7891455888748169, 0.00041656591929495335, 0.006680779624730349, 0.0015949395019561052, 0.06621633470058441, 0.05491355061531067, 0.07959870994091034, 0.0008765871170908213, 0.0002768322010524571, 6.129726534709334e-05], [1.0, 1.0220317925302425e-09, 8.782424787412424e-11, 1.4601960265925307e-11, 1.37568016873868e-12, 5.026868244578653e-12, 1.399383248168462e-10, 3.7004437708487714e-11, 4.132054128112156e-13, 1.9859951899160733e-13, 7.849412309371417e-14]], 'logits': [[-0.9184609651565552, 1.5911295413970947, 13.421974182128906, 10.347465515136719, 10.906185150146484, -0.2767409384250641, 9.356937408447266, 1.9277534484863281, 0.17327725887298584, -0.5650326013565063, 1.429837942123413], [3.3907594680786133, 11.581579208374023, 4.034917831420898, 6.809863090515137, 5.377464294433594, 9.103555679321289, 8.916388511657715, 9.287626266479492, 4.778909206390381, 3.62628436088562, 2.1186084747314453], [22.966472625732422, 2.2649996280670166, -0.18921148777008057, -1.9833931922912598, -4.345599174499512, -3.049750328063965, 0.2766536474227905, -1.0535106658935547, -5.548358917236328, -6.281014442443848, -7.209279537200928]]}, '711_400.jpg': {'label': '10', 'confidence': [0.9879218935966492, 0.888383686542511, 1.0], 'raw': [[5.0463423661994966e-08, 2.2378021213853572e-08, 0.9879218935966492, 0.011893236078321934, 0.00013932834553997964, 3.6647051615545934e-08, 4.2407486034790054e-05, 5.997939922508522e-08, 1.1136032753711333e-06, 5.9383605588436694e-08, 1.8203563740826212e-06], [3.78481563529931e-05, 0.888383686542511, 9.426863107364625e-05, 1.1049475688196253e-05, 6.175099406391382e-05, 0.0002368706336710602, 0.006273652892559767, 0.10453347116708755, 0.000317102501867339, 1.7820786524680443e-05, 3.247528729843907e-05], [1.0, 5.636987543411465e-10, 3.816270216505657e-11, 5.345118792021708e-11, 3.35382763227976e-11, 1.8335636342570183e-09, 1.702794155677978e-11, 1.2937441395965976e-10, 6.35424221920311e-12, 7.513828020064631e-14, 6.670152033786889e-14]], 'logits': [[1.7148346900939941, 0.9016645550727844, 18.50469970703125, 14.085065841674805, 9.638174057006836, 1.3949191570281982, 8.448665618896484, 1.8875861167907715, 4.808941841125488, 1.877603530883789, 5.300373077392578], [4.071290016174316, 14.134866714477539, 4.983856201171875, 2.840090751647949, 4.560817718505859, 5.905221939086914, 9.181821823120117, 11.994970321655273, 6.196932792663574, 3.3180737495422363, 3.918187141418457], [21.86672592163086, 0.5702247619628906, -2.1224365234375, -1.785526990890503, -2.25160813331604, 1.7497215270996094, -2.9294395446777344, -0.9015855193138123, -3.9151716232299805, -8.352720260620117, -8.471822738647461]]}}\n",
      "2025-03-30 15:07:38 [INFO] Raw loaded data for tracklet 327: {'327_171.jpg': {'label': '36', 'confidence': [0.9850032925605774, 0.7817327976226807, 1.0], 'raw': [[8.461912557322648e-07, 5.87335364343744e-07, 0.0010436475276947021, 0.013475717045366764, 0.9850032925605774, 3.661185928649502e-06, 0.0001807900844141841, 2.1673831724910997e-05, 0.00025772786466404796, 4.1122621041722596e-06, 7.970938895596191e-06], [0.1927310973405838, 0.0036277028266340494, 0.014775392599403858, 0.0005241984617896378, 0.005951511673629284, 0.000167990117915906, 0.00012796319788321853, 0.7817327976226807, 8.066571353992913e-06, 0.0003107595257461071, 4.258524495526217e-05], [1.0, 1.8536022716730827e-10, 4.0074746299190167e-10, 1.6606467312385575e-09, 6.835259441784203e-11, 9.290740919654095e-13, 6.854918976201274e-12, 9.12147874593261e-12, 2.312812701771305e-12, 1.2355361959232036e-13, 8.871426271546412e-13]], 'logits': [[1.742493748664856, 1.3773436546325684, 8.859980583190918, 11.418148040771484, 15.709903717041016, 3.2072904109954834, 7.106840133666992, 4.9856085777282715, 7.461407661437988, 3.323476791381836, 3.9853062629699707], [10.778661727905273, 6.805965423583984, 8.210329055786133, 4.871480941772461, 7.301011085510254, 3.733515739440918, 3.461352825164795, 12.178878784179688, 0.6973388195037842, 4.348629951477051, 2.3611178398132324], [23.135948181152344, 0.727228045463562, 1.4982589483261108, 2.9198901653289795, -0.2703930735588074, -4.568639755249023, -2.5701065063476562, -2.2844409942626953, -3.656609535217285, -6.586153030395508, -4.614821434020996]]}, '327_172.jpg': {'label': '14', 'confidence': [0.9036466479301453, 0.4539441466331482, 1.0], 'raw': [[1.6840199634771125e-07, 7.069969569784007e-07, 0.9036466479301453, 0.09310657531023026, 0.0007375984569080174, 0.002335862023755908, 5.9829832025570795e-05, 2.6734884158940986e-05, 3.141567503917031e-05, 3.9496564568253234e-05, 1.510744186816737e-05], [0.1927679181098938, 0.1285037100315094, 0.18948237597942352, 0.00012062996393069625, 3.369535261299461e-05, 0.4539441466331482, 0.030505487695336342, 0.0015089729567989707, 0.001545262522995472, 2.1169957108213566e-05, 0.0015666612889617682], [1.0, 1.779389413592014e-09, 1.4113120672121227e-09, 8.161070708112561e-10, 4.502801603800677e-11, 7.772960226859471e-12, 1.7765051582574465e-11, 2.029687876103914e-11, 3.557641594514882e-12, 1.4009353030940142e-13, 3.2580320819680653e-12]], 'logits': [[0.902911365032196, 2.3375837802886963, 16.39850616455078, 14.125812530517578, 9.287712097167969, 10.440448760986328, 6.775816917419434, 5.970281600952148, 6.131619453430176, 6.360526084899902, 5.399499893188477], [11.782657623291016, 11.377128601074219, 11.765466690063477, 4.4061431884765625, 3.1307754516601562, 12.639144897460938, 9.939077377319336, 6.932600021362305, 6.956364631652832, 2.6659984588623047, 6.970117568969727], [23.255569458007812, 3.1085734367370605, 2.876824378967285, 2.3290939331054688, -0.5681670904159546, -2.3248000144958496, -1.498218297958374, -1.3649847507476807, -3.106354236602783, -6.3408966064453125, -3.194329023361206]]}, '327_173.jpg': {'label': '9', 'confidence': [0.34649568796157837, 0.9999969005584717], 'raw': [[3.1351805773738306e-06, 0.0001702380832284689, 0.3178504407405853, 0.0002019722160184756, 0.0002883924753405154, 0.012372364290058613, 0.005228761117905378, 0.04722987487912178, 0.2540229558944702, 0.01613616570830345, 0.34649568796157837], [0.9999969005584717, 3.2336366473373346e-08, 2.5040255877684103e-06, 3.608419660849904e-07, 1.407067742320578e-07, 8.71436078853094e-09, 1.5397352726154168e-08, 3.278130833450632e-08, 5.633974176078027e-09, 6.724129697488479e-09, 2.7094819721185104e-09], [0.9999998807907104, 1.574595209774543e-08, 3.607957310691745e-08, 1.3173365687180194e-07, 2.604050031163041e-10, 4.094877215088388e-11, 3.5880107218666524e-10, 3.1583183984773555e-11, 2.5859597796440426e-10, 5.291920113920101e-12, 6.435464661169732e-11]], 'logits': [[-1.4979102611541748, 2.49660062789917, 10.028738975524902, 2.6675326824188232, 3.0237250328063965, 6.782623291015625, 5.921332359313965, 8.122184753417969, 9.804582595825195, 7.048221111297607, 10.115028381347656], [19.113862991333008, 1.8667927980422974, 6.2162556648254395, 4.279040336608887, 3.337278127670288, 0.5555723905563354, 1.1247949600219727, 1.8804593086242676, 0.119415283203125, 0.29630279541015625, -0.6126413345336914], [18.693424224853516, 0.7267418503761292, 1.5558857917785645, 2.850940465927124, -3.3753585815429688, -5.225275039672852, -3.054828643798828, -5.484971523284912, -3.3823294639587402, -7.271414756774902, -4.773187637329102]]}, '327_174.jpg': {'label': '11', 'confidence': [0.5667358636856079, 0.7196284532546997, 0.9999995231628418], 'raw': [[2.961189966299571e-05, 0.0010855746222659945, 0.5667358636856079, 0.012818250805139542, 0.4159604012966156, 9.493550351180602e-06, 0.0010641873814165592, 9.300171223003417e-05, 0.0008520780829712749, 0.000979915028437972, 0.00037159628118388355], [0.014334398321807384, 0.05998421832919121, 0.7196284532546997, 4.756452835863456e-05, 3.776929224841297e-05, 0.19426290690898895, 0.00037968053948134184, 0.00029917433857917786, 0.01098595466464758, 1.8327724319533445e-05, 2.1547177311731502e-05], [0.9999995231628418, 1.0592587074143012e-07, 3.5916505680688715e-07, 8.32819502250004e-09, 1.308036612357455e-08, 1.8692444814227827e-10, 1.9516080418391368e-10, 1.8402748769297261e-10, 1.3755662164882665e-09, 1.4343033705177533e-11, 3.9332891110799295e-11]], 'logits': [[0.7394789457321167, 4.341167449951172, 10.59895133972168, 6.809927940368652, 10.289648056030273, -0.39808475971221924, 4.321269512176514, 1.8839211463928223, 4.098980903625488, 4.238768577575684, 3.269110679626465], [10.379545211791992, 11.810964584350586, 14.295618057250977, 4.671215534210205, 4.440624713897705, 12.986095428466797, 6.748457908630371, 6.5101542472839355, 10.113500595092773, 3.7175426483154297, 3.8793725967407227], [20.588945388793945, 4.528419494628906, 5.749462127685547, 1.9853262901306152, 2.436793327331543, -1.8113701343536377, -1.768251895904541, -1.8269906044006348, 0.1845461130142212, -4.378810882568359, -3.3700149059295654]]}}\n"
     ]
    },
    {
     "name": "stderr",
     "output_type": "stream",
     "text": [
      "Merging STR results: 100%|██████████| 4/4 [00:00<00:00, 626.97it/s]"
     ]
    },
    {
     "name": "stdout",
     "output_type": "stream",
     "text": [
      "2025-03-30 15:07:38 [INFO] Saved global STR results to: c:\\Users\\colin\\OneDrive\\Desktop\\Jersey-Number-Recognition\\data\\SoccerNet\\jersey-2023\\processed_data\\test\\common_data\\str_results.json\n"
     ]
    },
    {
     "name": "stderr",
     "output_type": "stream",
     "text": [
      "\n"
     ]
    }
   ],
   "source": [
    "pipeline.run_soccernet(\n",
    "  run_soccer_ball_filter=False,\n",
    "  generate_features=False,\n",
    "  run_filter=False,\n",
    "  run_legible=False,\n",
    "  run_legible_eval=False,\n",
    "  run_pose=False,\n",
    "  run_crops=False,\n",
    "  run_str=True,\n",
    "  run_combine=False,\n",
    "  run_eval=False,\n",
    "  use_clip4str=False,\n",
    "  pyscript=False\n",
    "  )"
   ]
  },
  {
   "cell_type": "markdown",
   "metadata": {},
   "source": [
    "## Benchmark (current pipeline metrics)\n",
    "### Results\n",
    "- 2025-03-29 14:44:05 [INFO] Correct 1051 out of 1210. Accuracy 86.85950413223141%.\n",
    "- 2025-03-29 14:44:05 [INFO] TP=766, TN=285, FP=70, FN=89\n",
    "- 2025-03-29 14:44:05 [INFO] Precision=0.916267942583732, Recall=0.895906432748538\n",
    "- 2025-03-29 14:44:05 [INFO] F1=0.9059727971614429\n",
    "- 2025-03-29 14:44:05 [INFO] Saved failed legibility cases to:  c:\\Users\\colin\\OneDrive\\Desktop\\Jersey-Number-Recognition\\data\\SoccerNet\\jersey-2023\\processed_data\\test\\common_data\\failed_legibility_cases.json\n",
    "\n",
    "### Analysis\n",
    "legible_but_marked_illegible: 89 cases\n",
    "109, 88, 34, 151, 19, 68, 67, 128, 57, 178, 189, 196, 214, 242, 258, 271, 304, 327, 320, 352, 375, 378, 414, 416, 439, 425, 451, 453, 454, 466, 499, 511, 513, 526, 528, 567, 576, 594, 619, 623, 646, 687, 682, 709, 711, 717, 739, 758, 767, 795, 788, 840, 843, 832, 841, 852, 847, 851, 856, 850, 868, 866, 871, 901, 902, 904, 900, 907, 928, 939, 944, 961, 984, 983, 1005, 1039, 1064, 1063, 1077, 1091, 1101, 1137, 1152, 1153, 1160, 1167, 1157, 1165, 1206\n",
    "\n",
    "illegible_but_marked_legible: 70 cases\n",
    "168, 167, 162, 97, 39, 87, 89, 134, 61, 172, 164, 199, 215, 260, 267, 269, 281, 276, 288, 295, 317, 325, 340, 345, 374, 394, 388, 386, 391, 406, 408, 434, 437, 459, 471, 514, 532, 558, 683, 748, 770, 790, 802, 827, 861, 869, 879, 897, 895, 909, 964, 981, 999, 1023, 1031, 1025, 1033, 1030, 1055, 1088, 1087, 1169, 1175, 1174, 1173, 1183, 1170, 1179, 1184, 1185\n",
    "\n",
    "- Total misclassifications: 159\n",
    "- False negatives (legible marked as illegible): 89\n",
    "- False positives (illegible marked as legible): 70\n",
    "- Percentage of false negatives: 7.36%\n",
    "- Percentage of false positives: 5.79%\n",
    "- Combined percentage of errors as a percentage of total cases: 13.14%"
   ]
  },
  {
   "cell_type": "code",
   "execution_count": 6,
   "metadata": {},
   "outputs": [
    {
     "name": "stdout",
     "output_type": "stream",
     "text": [
      "legible_but_marked_illegible: 1 cases\n",
      "907\n",
      "\n",
      "illegible_but_marked_legible: 0 cases\n",
      "\n",
      "Total misclassifications: 1\n",
      "False negatives (legible marked as illegible): 1\n",
      "False positives (illegible marked as legible): 0\n",
      "Percentage of false negatives: 0.08%\n",
      "Percentage of false positives: 0.00%\n",
      "Combined percentage of errors as a percentage of total cases: 0.08%\n"
     ]
    }
   ],
   "source": [
    "import json\n",
    "failed_cases = f\"{DataPaths.COMMON_PROCESSED_OUTPUT_DATA_TEST.value}/failed_legibility_cases.json\"\n",
    "\n",
    "# Load this JSON file\n",
    "with open(failed_cases, 'r') as f:\n",
    "    failed_cases_dict = json.load(f)\n",
    "    # Print the every key and its associated value (value will be a list so need to make that printable with \",\".join):\n",
    "    for key, value in failed_cases_dict.items():\n",
    "        print(f\"{key}: {len(value)} cases\")\n",
    "        if len(value) > 0:\n",
    "            print(f\"{', '.join(value)}\")\n",
    "        print()\n",
    "    \n",
    "    # Summary statistics\n",
    "    legible_but_marked_illegible = len(failed_cases_dict.get(\"legible_but_marked_illegible\", []))\n",
    "    illegible_but_marked_legible = len(failed_cases_dict.get(\"illegible_but_marked_legible\", []))\n",
    "    total_errors = legible_but_marked_illegible + illegible_but_marked_legible\n",
    "    \n",
    "    print(f\"Total misclassifications: {total_errors}\")\n",
    "    print(f\"False negatives (legible marked as illegible): {legible_but_marked_illegible}\")\n",
    "    print(f\"False positives (illegible marked as legible): {illegible_but_marked_legible}\")\n",
    "    print(f\"Percentage of false negatives: {legible_but_marked_illegible / 1210 * 100:.2f}%\")\n",
    "    print(f\"Percentage of false positives: {illegible_but_marked_legible / 1210 * 100:.2f}%\")\n",
    "    print(f\"Combined percentage of errors as a percentage of total cases: {total_errors / 1210 * 100:.2f}%\")"
   ]
  },
  {
   "cell_type": "code",
   "execution_count": 7,
   "metadata": {},
   "outputs": [],
   "source": [
    "# import timm\n",
    "# import torch\n",
    "# from torch import nn\n",
    "\n",
    "# model = timm.create_model(\"timm/vit_base_patch16_224.orig_in21k_ft_in1k\", pretrained=False)\n",
    "# model.head = nn.Linear(model.head.in_features, 10)\n",
    "# model.load_state_dict(\n",
    "#     torch.hub.load_state_dict_from_url(\n",
    "#         \"https://huggingface.co/edadaltocg/vit_base_patch16_224_in21k_ft_svhn/resolve/main/pytorch_model.bin\",\n",
    "#         map_location=\"cpu\",\n",
    "#         file_name=\"vit_base_patch16_224_in21k_ft_svhn.pth\",\n",
    "#     )\n",
    "# )"
   ]
  }
 ],
 "metadata": {
  "kernelspec": {
   "display_name": "UBC",
   "language": "python",
   "name": "python3"
  },
  "language_info": {
   "codemirror_mode": {
    "name": "ipython",
    "version": 3
   },
   "file_extension": ".py",
   "mimetype": "text/x-python",
   "name": "python",
   "nbconvert_exporter": "python",
   "pygments_lexer": "ipython3",
   "version": "3.13.1"
  }
 },
 "nbformat": 4,
 "nbformat_minor": 2
}
