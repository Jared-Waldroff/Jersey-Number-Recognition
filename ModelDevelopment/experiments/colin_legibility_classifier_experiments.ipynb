{
 "cells": [
  {
   "cell_type": "code",
   "execution_count": 1,
   "metadata": {},
   "outputs": [
    {
     "name": "stdout",
     "output_type": "stream",
     "text": [
      "c:\\Users\\colin\\OneDrive\\Desktop\\Jersey-Number-Recognition\n",
      "Current working directory:  c:\\Users\\colin\\OneDrive\\Desktop\\Jersey-Number-Recognition\\ModelDevelopment\\experiments\n"
     ]
    }
   ],
   "source": [
    "import sys\n",
    "from pathlib import Path\n",
    "import os\n",
    "import json\n",
    "\n",
    "sys.path.append(str(Path.cwd().parent.parent))\n",
    "print(str(Path.cwd().parent.parent))\n",
    "print(\"Current working directory: \", os.getcwd())\n",
    "\n",
    "from ModelDevelopment.CentralPipeline import CentralPipeline\n",
    "from ModelDevelopment.ImageBatchPipeline import ImageBatchPipeline\n",
    "from DataProcessing.DataPreProcessing import DataPaths"
   ]
  },
  {
   "cell_type": "code",
   "execution_count": 2,
   "metadata": {},
   "outputs": [],
   "source": [
    "# gt_test = DataPaths.CHALLENGE_DATA_GT.value\n",
    "# #Schema of gt_test: {\"0\": 4, \"1\": 93, \"2\": 25, \"3\": -1, \"4\": -1,\n",
    "\n",
    "# # load the json and compile a list of all tracklets with -1 as not_legible and all other tracklets as legible\n",
    "# with open(gt_test, 'r') as f:\n",
    "#     data = json.load(f)\n",
    "#     legible = []\n",
    "#     illegible = []\n",
    "    \n",
    "#     for key, value in data.items():\n",
    "#         if value == -1:\n",
    "#             illegible.append(key)\n",
    "#         else:\n",
    "#             legible.append(key)\n",
    "    \n",
    "# print(\"Legible tracklets: \", legible)\n",
    "# print(\"Illegible tracklets: \", illegible)"
   ]
  },
  {
   "cell_type": "code",
   "execution_count": 3,
   "metadata": {},
   "outputs": [],
   "source": [
    "# # Delete soccer_ball.json files\n",
    "# import os\n",
    "# root_path = r\"C:\\Users\\colin\\OneDrive\\Desktop\\Jersey-Number-Recognition\\data\\SoccerNet\\jersey-2023\\extracted\\test\\images\"\n",
    "\n",
    "# for tracklet in range(1, 1210):\n",
    "#   path = os.path.join(root_path, str(tracklet))\n",
    "  \n",
    "#   # If there is a .soccer_ball.json file in there, delete it\n",
    "#   if os.path.exists(os.path.join(path, \"soccer_ball.json\")):\n",
    "#     os.remove(os.path.join(path, \"soccer_ball.json\"))"
   ]
  },
  {
   "cell_type": "code",
   "execution_count": 4,
   "metadata": {},
   "outputs": [
    {
     "name": "stdout",
     "output_type": "stream",
     "text": [
      "2025-03-31 10:15:23 [INFO] DataPreProcessing initialized. Universe of available data paths:\n",
      "2025-03-31 10:15:23 [INFO] ROOT_DATA_DIR: c:\\Users\\colin\\OneDrive\\Desktop\\Jersey-Number-Recognition\\data\\SoccerNet\\jersey-2023\\extracted\n",
      "2025-03-31 10:15:23 [INFO] TEST_DATA_GT: c:\\Users\\colin\\OneDrive\\Desktop\\Jersey-Number-Recognition\\data\\SoccerNet\\jersey-2023\\extracted\\test\\test_gt.json\n",
      "2025-03-31 10:15:23 [INFO] TRAIN_DATA_GT: c:\\Users\\colin\\OneDrive\\Desktop\\Jersey-Number-Recognition\\data\\SoccerNet\\jersey-2023\\extracted\\train\\train_gt.json\n",
      "2025-03-31 10:15:23 [INFO] TEST_DATA_DIR: c:\\Users\\colin\\OneDrive\\Desktop\\Jersey-Number-Recognition\\data\\SoccerNet\\jersey-2023\\extracted\\test\\images\n",
      "2025-03-31 10:15:23 [INFO] TRAIN_DATA_DIR: c:\\Users\\colin\\OneDrive\\Desktop\\Jersey-Number-Recognition\\data\\SoccerNet\\jersey-2023\\extracted\\train\\images\n",
      "2025-03-31 10:15:23 [INFO] CHALLENGE_DATA_DIR: c:\\Users\\colin\\OneDrive\\Desktop\\Jersey-Number-Recognition\\data\\SoccerNet\\jersey-2023\\extracted\\challenge\\images\n",
      "2025-03-31 10:15:23 [INFO] PRE_TRAINED_MODELS_DIR: c:\\Users\\colin\\OneDrive\\Desktop\\Jersey-Number-Recognition\\data\\pre_trained_models\n",
      "2025-03-31 10:15:23 [INFO] REID_PRE_TRAINED: c:\\Users\\colin\\OneDrive\\Desktop\\Jersey-Number-Recognition\\data\\pre_trained_models\\reid\n",
      "2025-03-31 10:15:23 [INFO] STR_PRE_TRAINED: c:\\Users\\colin\\OneDrive\\Desktop\\Jersey-Number-Recognition\\data\\pre_trained_models\\str\n",
      "2025-03-31 10:15:23 [INFO] STR_MODEL: c:\\Users\\colin\\OneDrive\\Desktop\\Jersey-Number-Recognition\\data\\pre_trained_models\\str\\parseq_epoch=24-step=2575-val_accuracy=95.6044-val_NED=96.3255.ckpt\n",
      "2025-03-31 10:15:23 [INFO] REID_MODEL_1: c:\\Users\\colin\\OneDrive\\Desktop\\Jersey-Number-Recognition\\data\\pre_trained_models\\reid\\dukemtmcreid_resnet50_256_128_epoch_120.ckpt\n",
      "2025-03-31 10:15:23 [INFO] REID_MODEL_2: c:\\Users\\colin\\OneDrive\\Desktop\\Jersey-Number-Recognition\\data\\pre_trained_models\\reid\\market1501_resnet50_256_128_epoch_120.ckpt\n",
      "2025-03-31 10:15:23 [INFO] REID_CONFIG_YAML: c:\\Users\\colin\\OneDrive\\Desktop\\Jersey-Number-Recognition\\data\\pre_trained_models\\reid\\configs\\256_resnet50.yml\n",
      "2025-03-31 10:15:23 [INFO] RESNET_MODEL: c:\\Users\\colin\\OneDrive\\Desktop\\Jersey-Number-Recognition\\data\\pre_trained_models\\resnet\\best_resnet50_jersey.pth\n",
      "2025-03-31 10:15:23 [INFO] VIT_MODEL: c:\\Users\\colin\\OneDrive\\Desktop\\Jersey-Number-Recognition\\data\\pre_trained_models\\ViT\\vit_base_patch16_224_in21k_ft_svhn.pth\n",
      "2025-03-31 10:15:23 [INFO] PROCESSED_DATA_OUTPUT_DIR: c:\\Users\\colin\\OneDrive\\Desktop\\Jersey-Number-Recognition\\data\\SoccerNet\\jersey-2023\\processed_data\n",
      "2025-03-31 10:15:23 [INFO] PROCESSED_DATA_OUTPUT_DIR_TRAIN: c:\\Users\\colin\\OneDrive\\Desktop\\Jersey-Number-Recognition\\data\\SoccerNet\\jersey-2023\\processed_data\\train\n",
      "2025-03-31 10:15:23 [INFO] PROCESSED_DATA_OUTPUT_DIR_TEST: c:\\Users\\colin\\OneDrive\\Desktop\\Jersey-Number-Recognition\\data\\SoccerNet\\jersey-2023\\processed_data\\test\n",
      "2025-03-31 10:15:23 [INFO] PROCESSED_DATA_OUTPUT_DIR_CHALLENGE: c:\\Users\\colin\\OneDrive\\Desktop\\Jersey-Number-Recognition\\data\\SoccerNet\\jersey-2023\\processed_data\\challenge\n",
      "2025-03-31 10:15:23 [INFO] COMMON_PROCESSED_OUTPUT_DATA_TRAIN: c:\\Users\\colin\\OneDrive\\Desktop\\Jersey-Number-Recognition\\data\\SoccerNet\\jersey-2023\\processed_data\\train\\common_data\n",
      "2025-03-31 10:15:23 [INFO] COMMON_PROCESSED_OUTPUT_DATA_TEST: c:\\Users\\colin\\OneDrive\\Desktop\\Jersey-Number-Recognition\\data\\SoccerNet\\jersey-2023\\processed_data\\test\\common_data\n",
      "2025-03-31 10:15:23 [INFO] COMMON_PROCESSED_OUTPUT_DATA_CHALLENGE: c:\\Users\\colin\\OneDrive\\Desktop\\Jersey-Number-Recognition\\data\\SoccerNet\\jersey-2023\\processed_data\\challenge\\common_data\n",
      "2025-03-31 10:15:23 [INFO] STREAMLINED_PIPELINE: c:\\Users\\colin\\OneDrive\\Desktop\\Jersey-Number-Recognition\\StreamlinedPipelineScripts\n",
      "2025-03-31 10:15:23 [INFO] ENHANCED_STR_ROOT: c:\\Users\\colin\\OneDrive\\Desktop\\Jersey-Number-Recognition\\data\\pre_trained_models\\clip4str\n",
      "2025-03-31 10:15:23 [INFO] ENHANCED_STR_MAIN: c:\\Users\\colin\\OneDrive\\Desktop\\Jersey-Number-Recognition\\data\\pre_trained_models\\clip4str\\clip4str_huge_3e942729b1.pt\n",
      "2025-03-31 10:15:23 [INFO] ENHANCED_STR_OPEN_CLIP: c:\\Users\\colin\\OneDrive\\Desktop\\Jersey-Number-Recognition\\data\\pre_trained_models\\clip4str\\appleDFN5B-CLIP-ViT-H-14.bin\n",
      "2025-03-31 10:15:23 [INFO] ENHANCED_STR_VIT_L: c:\\Users\\colin\\OneDrive\\Desktop\\Jersey-Number-Recognition\\data\\pre_trained_models\\clip4str\\ViT-L-14.pt\n",
      "2025-03-31 10:15:23 [INFO] ['0', '1', '2', '3', '4', '5', '6', '7', '8', '9']\n",
      "2025-03-31 10:15:23 [INFO] Min tracklet: 0\n",
      "2025-03-31 10:15:23 [INFO] Max tracklet: 1425\n",
      "2025-03-31 10:15:23 [INFO] Using device: cuda\n"
     ]
    }
   ],
   "source": [
    "tracklets_to_process_override_batch1 = [i for i in range(0, 712)] # COLIN\n",
    "tracklets_to_process_override_batch2 = [i for i in range(712, 1425)] # JARED Second half of the tracklets (605 items)\n",
    "\n",
    "pipeline = CentralPipeline(\n",
    "  #tracklets_to_process_override=[109, 88, 34, 151, 19, 68, 67, 128, 57, 178, 189, 196, 214, 242, 258, 271, 304, 327, 320, 352, 375, 378, 414, 416, 439, 425, 451, 453, 454, 466, 499, 511, 513, 526, 528, 567, 576, 594, 619, 623, 646, 687, 682, 709, 711, 717, 739, 758, 767, 795, 788, 840, 843, 832, 841, 852, 847, 851, 856, 850, 868, 866, 871, 901, 902, 904, 900, 907, 928, 939, 944, 961, 984, 983, 1005, 1039, 1064, 1063, 1077, 1091, 1101, 1137, 1152, 1153, 1160, 1167, 1157, 1165, 1206],\n",
    "  #tracklets_to_process_override=[327, 711, 907, 1064], # These ones are now passing\n",
    "  #tracklets_to_process_override=[327]\n",
    "  #tracklets_to_process_override=[0],\n",
    "  #tracklets_to_process_override=illegible,\n",
    "  #tracklets_to_process_override=[168, 167, 162, 97, 39, 87, 89, 134, 61],\n",
    "  #tracklets_to_process_override=[168, 167, 162, 97, 39, 87, 89, 134, 61, 172, 164, 199, 215, 260, 267, 269, 281, 276, 288, 295, 317, 325, 340, 345, 374, 394, 388, 386, 391, 406, 408, 434, 437, 459, 471, 514, 532, 558, 683, 748, 770, 790, 802, 827, 861, 869, 879, 897, 895, 909, 964, 981, 999, 1023, 1031, 1025, 1033, 1030, 1055, 1088, 1087, 1169, 1175, 1174, 1173, 1183, 1170, 1179, 1184, 1185],\n",
    "  #num_tracklets=1210,\n",
    "  tracklets_to_process_override=tracklets_to_process_override_batch1,\n",
    "  #tracklets_to_process_override=[0, 1, 2, 3, 4, 5, 6, 7, 8, 9, 10],\n",
    "  #num_images_per_tracklet=50,\n",
    "  input_data_path=DataPaths.CHALLENGE_DATA_DIR.value,\n",
    "  output_processed_data_path=DataPaths.PROCESSED_DATA_OUTPUT_DIR_CHALLENGE.value,\n",
    "  common_processed_data_dir=DataPaths.COMMON_PROCESSED_OUTPUT_DATA_CHALLENGE.value,\n",
    "  gt_data_path=\"\",#DataPaths.TEST_DATA_GT.value,\n",
    "  display_transformed_image_sample=False, # NOTE: DO NOT USE. Code is parallelized so we cannot show images anymore. Code breaks, but first one will show if True.\n",
    "  use_cache=True, # Set to false to rebuild the cache\n",
    "  suppress_logging=False,\n",
    "  use_image_enhancement=True,\n",
    "  \n",
    "  # --- PARALLELIZATION PARAMS --- These settings are optimal for an NVIDIA RTX 3070 Ti Laptop GPU.\n",
    "  num_workers=2,            # CRITICAL optimisation param. Adjust accordingly. Pre-processing: 4 | STR: 2 | Crops: 4\n",
    "  tracklet_batch_size=32,   # CRITICAL optimisation param. Adjust accordingly. Always 32\n",
    "  image_batch_size=100,     # CRITICAL optimisation param. Adjust accordingly. Pre-processing: 200 | STR: 100 | Crops: 200\n",
    "  num_threads_multiplier=5  # CRITICAL optimisation param. Adjust accordingly. Pre-processing: 4\n",
    "  )                         #                              Interpretation: num_threads = num_workers * num_threads_multiplier"
   ]
  },
  {
   "cell_type": "code",
   "execution_count": null,
   "metadata": {},
   "outputs": [
    {
     "name": "stdout",
     "output_type": "stream",
     "text": [
      "2025-03-31 10:15:23 [INFO] Running the SoccerNet pipeline.\n",
      "2025-03-31 10:15:23 [INFO] Tracklet override applied. Using provided tracklets: 0, 1, 2, 3, 4, 5, 6, 7, 8, 9, 10, 11, 12, 13, 14, 15, 16, 17, 18, 19, 20, 21, 22, 23, 24, 25, 26, 27, 28, 29, 30, 31, 32, 33, 34, 35, 36, 37, 38, 39, 40, 41, 42, 43, 44, 45, 46, 47, 48, 49, 50, 51, 52, 53, 54, 55, 56, 57, 58, 59, 60, 61, 62, 63, 64, 65, 66, 67, 68, 69, 70, 71, 72, 73, 74, 75, 76, 77, 78, 79, 80, 81, 82, 83, 84, 85, 86, 87, 88, 89, 90, 91, 92, 93, 94, 95, 96, 97, 98, 99, 100, 101, 102, 103, 104, 105, 106, 107, 108, 109, 110, 111, 112, 113, 114, 115, 116, 117, 118, 119, 120, 121, 122, 123, 124, 125, 126, 127, 128, 129, 130, 131, 132, 133, 134, 135, 136, 137, 138, 139, 140, 141, 142, 143, 144, 145, 146, 147, 148, 149, 150, 151, 152, 153, 154, 155, 156, 157, 158, 159, 160, 161, 162, 163, 164, 165, 166, 167, 168, 169, 170, 171, 172, 173, 174, 175, 176, 177, 178, 179, 180, 181, 182, 183, 184, 185, 186, 187, 188, 189, 190, 191, 192, 193, 194, 195, 196, 197, 198, 199, 200, 201, 202, 203, 204, 205, 206, 207, 208, 209, 210, 211, 212, 213, 214, 215, 216, 217, 218, 219, 220, 221, 222, 223, 224, 225, 226, 227, 228, 229, 230, 231, 232, 233, 234, 235, 236, 237, 238, 239, 240, 241, 242, 243, 244, 245, 246, 247, 248, 249, 250, 251, 252, 253, 254, 255, 256, 257, 258, 259, 260, 261, 262, 263, 264, 265, 266, 267, 268, 269, 270, 271, 272, 273, 274, 275, 276, 277, 278, 279, 280, 281, 282, 283, 284, 285, 286, 287, 288, 289, 290, 291, 292, 293, 294, 295, 296, 297, 298, 299, 300, 301, 302, 303, 304, 305, 306, 307, 308, 309, 310, 311, 312, 313, 314, 315, 316, 317, 318, 319, 320, 321, 322, 323, 324, 325, 326, 327, 328, 329, 330, 331, 332, 333, 334, 335, 336, 337, 338, 339, 340, 341, 342, 343, 344, 345, 346, 347, 348, 349, 350, 351, 352, 353, 354, 355, 356, 357, 358, 359, 360, 361, 362, 363, 364, 365, 366, 367, 368, 369, 370, 371, 372, 373, 374, 375, 376, 377, 378, 379, 380, 381, 382, 383, 384, 385, 386, 387, 388, 389, 390, 391, 392, 393, 394, 395, 396, 397, 398, 399, 400, 401, 402, 403, 404, 405, 406, 407, 408, 409, 410, 411, 412, 413, 414, 415, 416, 417, 418, 419, 420, 421, 422, 423, 424, 425, 426, 427, 428, 429, 430, 431, 432, 433, 434, 435, 436, 437, 438, 439, 440, 441, 442, 443, 444, 445, 446, 447, 448, 449, 450, 451, 452, 453, 454, 455, 456, 457, 458, 459, 460, 461, 462, 463, 464, 465, 466, 467, 468, 469, 470, 471, 472, 473, 474, 475, 476, 477, 478, 479, 480, 481, 482, 483, 484, 485, 486, 487, 488, 489, 490, 491, 492, 493, 494, 495, 496, 497, 498, 499, 500, 501, 502, 503, 504, 505, 506, 507, 508, 509, 510, 511, 512, 513, 514, 515, 516, 517, 518, 519, 520, 521, 522, 523, 524, 525, 526, 527, 528, 529, 530, 531, 532, 533, 534, 535, 536, 537, 538, 539, 540, 541, 542, 543, 544, 545, 546, 547, 548, 549, 550, 551, 552, 553, 554, 555, 556, 557, 558, 559, 560, 561, 562, 563, 564, 565, 566, 567, 568, 569, 570, 571, 572, 573, 574, 575, 576, 577, 578, 579, 580, 581, 582, 583, 584, 585, 586, 587, 588, 589, 590, 591, 592, 593, 594, 595, 596, 597, 598, 599, 600, 601, 602, 603, 604, 605, 606, 607, 608, 609, 610, 611, 612, 613, 614, 615, 616, 617, 618, 619, 620, 621, 622, 623, 624, 625, 626, 627, 628, 629, 630, 631, 632, 633, 634, 635, 636, 637, 638, 639, 640, 641, 642, 643, 644, 645, 646, 647, 648, 649, 650, 651, 652, 653, 654, 655, 656, 657, 658, 659, 660, 661, 662, 663, 664, 665, 666, 667, 668, 669, 670, 671, 672, 673, 674, 675, 676, 677, 678, 679, 680, 681, 682, 683, 684, 685, 686, 687, 688, 689, 690, 691, 692, 693, 694, 695, 696, 697, 698, 699, 700, 701, 702, 703, 704, 705, 706, 707, 708, 709, 710, 711\n"
     ]
    },
    {
     "data": {
      "application/vnd.jupyter.widget-view+json": {
       "model_id": "535ed31867214d39beeef5780766f91a",
       "version_major": 2,
       "version_minor": 0
      },
      "text/plain": [
       "  0%|          | 0/23 [00:00<?, ?it/s]"
      ]
     },
     "metadata": {},
     "output_type": "display_data"
    },
    {
     "name": "stdout",
     "output_type": "stream",
     "text": [
      "2025-03-31 10:15:23 [INFO] Tracklet batch size: 32\n",
      "2025-03-31 10:15:23 [INFO] Image batch size: 100\n",
      "2025-03-31 10:15:23 [INFO] Number of workers: 2\n",
      "2025-03-31 10:15:23 [INFO] Number of threads created: 10\n",
      "2025-03-31 10:15:23 [INFO] All tracklets in 0-32 are cached. Skipping feature generation.\n",
      "2025-03-31 10:15:23 [INFO] Skipping first 18 cached tracklets in batch 32-64. Processing the rest.\n",
      "2025-03-31 10:15:23 [INFO] Using double parallelization: multiprocessing + CUDA batch processing.\n"
     ]
    },
    {
     "data": {
      "application/vnd.jupyter.widget-view+json": {
       "model_id": "207ca8c55ad8421086244a78d495b47d",
       "version_major": 2,
       "version_minor": 0
      },
      "text/plain": [
       "Processing tracklets (CUDA + CPU):   0%|          | 0/14 [00:00<?, ?it/s]"
      ]
     },
     "metadata": {},
     "output_type": "display_data"
    },
    {
     "name": "stdout",
     "output_type": "stream",
     "text": [
      "2025-03-31 10:15:48 [INFO] Creating placeholder data files for Soccer Ball Filter.\n"
     ]
    },
    {
     "data": {
      "application/vnd.jupyter.widget-view+json": {
       "model_id": "95c3e16b08694194827e2cafb8cae974",
       "version_major": 2,
       "version_minor": 0
      },
      "text/plain": [
       "Processing Batch Tracklets (32-64):   0%|          | 0/14 [00:00<?, ?it/s]"
      ]
     },
     "metadata": {},
     "output_type": "display_data"
    },
    {
     "name": "stderr",
     "output_type": "stream",
     "text": [
      "c:\\Users\\colin\\miniconda3\\envs\\UBC\\Lib\\site-packages\\pytorch_lightning\\utilities\\migration\\migration.py:208: You have multiple `ModelCheckpoint` callback states in this checkpoint, but we found state keys that would end up colliding with each other after an upgrade, which means we can't differentiate which of your checkpoint callbacks needs which states. At least one of your `ModelCheckpoint` callbacks will not be able to reload the state.\n",
      "Lightning automatically upgraded your loaded checkpoint from v1.1.4 to v2.5.0.post0. To apply the upgrade to your files permanently, run `python -m pytorch_lightning.utilities.upgrade_checkpoint c:\\Users\\colin\\OneDrive\\Desktop\\Jersey-Number-Recognition\\data\\pre_trained_models\\reid\\dukemtmcreid_resnet50_256_128_epoch_120.ckpt`\n"
     ]
    },
    {
     "name": "stdout",
     "output_type": "stream",
     "text": [
      "2025-03-31 10:15:51 [INFO] Saved features for tracklet with shape (716, 2048) to c:\\Users\\colin\\OneDrive\\Desktop\\Jersey-Number-Recognition\\data\\SoccerNet\\jersey-2023\\processed_data\\challenge\\50\\features.npy\n",
      "2025-03-31 10:15:51 [INFO] Identifying and removing outliers by calling gaussian_outliers.py on feature file\n"
     ]
    },
    {
     "name": "stderr",
     "output_type": "stream",
     "text": [
      "Lightning automatically upgraded your loaded checkpoint from v1.1.4 to v2.5.0.post0. To apply the upgrade to your files permanently, run `python -m pytorch_lightning.utilities.upgrade_checkpoint c:\\Users\\colin\\OneDrive\\Desktop\\Jersey-Number-Recognition\\data\\pre_trained_models\\reid\\dukemtmcreid_resnet50_256_128_epoch_120.ckpt`\n"
     ]
    },
    {
     "name": "stdout",
     "output_type": "stream",
     "text": [
      "2025-03-31 10:15:53 [INFO] Saved features for tracklet with shape (733, 2048) to c:\\Users\\colin\\OneDrive\\Desktop\\Jersey-Number-Recognition\\data\\SoccerNet\\jersey-2023\\processed_data\\challenge\\52\\features.npy\n",
      "2025-03-31 10:15:53 [INFO] Identifying and removing outliers by calling gaussian_outliers.py on feature file\n"
     ]
    },
    {
     "name": "stderr",
     "output_type": "stream",
     "text": [
      "Lightning automatically upgraded your loaded checkpoint from v1.1.4 to v2.5.0.post0. To apply the upgrade to your files permanently, run `python -m pytorch_lightning.utilities.upgrade_checkpoint c:\\Users\\colin\\OneDrive\\Desktop\\Jersey-Number-Recognition\\data\\pre_trained_models\\reid\\dukemtmcreid_resnet50_256_128_epoch_120.ckpt`\n"
     ]
    },
    {
     "name": "stdout",
     "output_type": "stream",
     "text": [
      "2025-03-31 10:15:55 [INFO] Saved features for tracklet with shape (715, 2048) to c:\\Users\\colin\\OneDrive\\Desktop\\Jersey-Number-Recognition\\data\\SoccerNet\\jersey-2023\\processed_data\\challenge\\54\\features.npy\n",
      "2025-03-31 10:15:55 [INFO] Identifying and removing outliers by calling gaussian_outliers.py on feature file\n"
     ]
    },
    {
     "name": "stderr",
     "output_type": "stream",
     "text": [
      "Lightning automatically upgraded your loaded checkpoint from v1.1.4 to v2.5.0.post0. To apply the upgrade to your files permanently, run `python -m pytorch_lightning.utilities.upgrade_checkpoint c:\\Users\\colin\\OneDrive\\Desktop\\Jersey-Number-Recognition\\data\\pre_trained_models\\reid\\dukemtmcreid_resnet50_256_128_epoch_120.ckpt`\n"
     ]
    },
    {
     "name": "stdout",
     "output_type": "stream",
     "text": [
      "2025-03-31 10:15:57 [INFO] Saved features for tracklet with shape (750, 2048) to c:\\Users\\colin\\OneDrive\\Desktop\\Jersey-Number-Recognition\\data\\SoccerNet\\jersey-2023\\processed_data\\challenge\\57\\features.npy\n",
      "2025-03-31 10:15:57 [INFO] Identifying and removing outliers by calling gaussian_outliers.py on feature file\n"
     ]
    },
    {
     "name": "stderr",
     "output_type": "stream",
     "text": [
      "Lightning automatically upgraded your loaded checkpoint from v1.1.4 to v2.5.0.post0. To apply the upgrade to your files permanently, run `python -m pytorch_lightning.utilities.upgrade_checkpoint c:\\Users\\colin\\OneDrive\\Desktop\\Jersey-Number-Recognition\\data\\pre_trained_models\\reid\\dukemtmcreid_resnet50_256_128_epoch_120.ckpt`\n"
     ]
    },
    {
     "name": "stdout",
     "output_type": "stream",
     "text": [
      "2025-03-31 10:15:59 [INFO] Saved features for tracklet with shape (750, 2048) to c:\\Users\\colin\\OneDrive\\Desktop\\Jersey-Number-Recognition\\data\\SoccerNet\\jersey-2023\\processed_data\\challenge\\58\\features.npy\n",
      "2025-03-31 10:15:59 [INFO] Identifying and removing outliers by calling gaussian_outliers.py on feature file\n"
     ]
    },
    {
     "name": "stderr",
     "output_type": "stream",
     "text": [
      "Lightning automatically upgraded your loaded checkpoint from v1.1.4 to v2.5.0.post0. To apply the upgrade to your files permanently, run `python -m pytorch_lightning.utilities.upgrade_checkpoint c:\\Users\\colin\\OneDrive\\Desktop\\Jersey-Number-Recognition\\data\\pre_trained_models\\reid\\dukemtmcreid_resnet50_256_128_epoch_120.ckpt`\n"
     ]
    },
    {
     "name": "stdout",
     "output_type": "stream",
     "text": [
      "2025-03-31 10:16:02 [INFO] Saved features for tracklet with shape (532, 2048) to c:\\Users\\colin\\OneDrive\\Desktop\\Jersey-Number-Recognition\\data\\SoccerNet\\jersey-2023\\processed_data\\challenge\\51\\features.npy\n",
      "2025-03-31 10:16:02 [INFO] Identifying and removing outliers by calling gaussian_outliers.py on feature file\n"
     ]
    },
    {
     "name": "stderr",
     "output_type": "stream",
     "text": [
      "Lightning automatically upgraded your loaded checkpoint from v1.1.4 to v2.5.0.post0. To apply the upgrade to your files permanently, run `python -m pytorch_lightning.utilities.upgrade_checkpoint c:\\Users\\colin\\OneDrive\\Desktop\\Jersey-Number-Recognition\\data\\pre_trained_models\\reid\\dukemtmcreid_resnet50_256_128_epoch_120.ckpt`\n"
     ]
    },
    {
     "name": "stdout",
     "output_type": "stream",
     "text": [
      "2025-03-31 10:16:03 [INFO] 2025-03-31 10:16:02 [INFO] Threshold for scores: 0.97, rounds: 1\n",
      "2025-03-31 10:16:02 [INFO] Round 1: Excluded 3 outliers\n",
      "2025-03-31 10:16:02 [INFO] Round 1: Average score: 0.9981070756912231\n",
      "2025-03-31 10:16:02 [INFO] Excluded images: ['50_714.jpg', '50_715.jpg', '50_716.jpg']\n",
      "\n",
      "2025-03-31 10:16:03 [ERROR] \n",
      "2025-03-31 10:16:03 [INFO] Done removing outliers\n",
      "2025-03-31 10:16:03 [INFO] Running model chain on preprocessed image(s).\n",
      "2025-03-31 10:16:03 [INFO] Classifying legibility of image(s) using pre-trained model.\n"
     ]
    },
    {
     "name": "stderr",
     "output_type": "stream",
     "text": [
      "c:\\Users\\colin\\miniconda3\\envs\\UBC\\Lib\\site-packages\\torchvision\\models\\_utils.py:208: UserWarning: The parameter 'pretrained' is deprecated since 0.13 and may be removed in the future, please use 'weights' instead.\n",
      "  warnings.warn(\n",
      "c:\\Users\\colin\\miniconda3\\envs\\UBC\\Lib\\site-packages\\torchvision\\models\\_utils.py:223: UserWarning: Arguments other than a weight enum or `None` for 'weights' are deprecated since 0.13 and may be removed in the future. The current behavior is equivalent to passing `weights=ResNet50_Weights.IMAGENET1K_V1`. You can also use `weights=ResNet50_Weights.DEFAULT` to get the most up-to-date weights.\n",
      "  warnings.warn(msg)\n"
     ]
    },
    {
     "name": "stdout",
     "output_type": "stream",
     "text": [
      "2025-03-31 10:16:06 [INFO] 2025-03-31 10:16:05 [INFO] Threshold for scores: 0.97, rounds: 1\n",
      "2025-03-31 10:16:05 [INFO] Round 1: Excluded 7 outliers\n",
      "2025-03-31 10:16:05 [INFO] Round 1: Average score: 0.9972158670425415\n",
      "2025-03-31 10:16:05 [INFO] Excluded images: ['52_565.jpg', '52_566.jpg', '52_584.jpg', '52_746.jpg', '52_747.jpg', '52_748.jpg', '52_749.jpg']\n",
      "\n",
      "2025-03-31 10:16:06 [ERROR] \n",
      "2025-03-31 10:16:06 [INFO] Done removing outliers\n",
      "2025-03-31 10:16:06 [INFO] Running model chain on preprocessed image(s).\n",
      "2025-03-31 10:16:06 [INFO] Classifying legibility of image(s) using pre-trained model.\n",
      "2025-03-31 10:16:07 [INFO] Saved features for tracklet with shape (436, 2048) to c:\\Users\\colin\\OneDrive\\Desktop\\Jersey-Number-Recognition\\data\\SoccerNet\\jersey-2023\\processed_data\\challenge\\55\\features.npy\n",
      "2025-03-31 10:16:07 [INFO] Identifying and removing outliers by calling gaussian_outliers.py on feature file\n"
     ]
    },
    {
     "name": "stderr",
     "output_type": "stream",
     "text": [
      "Lightning automatically upgraded your loaded checkpoint from v1.1.4 to v2.5.0.post0. To apply the upgrade to your files permanently, run `python -m pytorch_lightning.utilities.upgrade_checkpoint c:\\Users\\colin\\OneDrive\\Desktop\\Jersey-Number-Recognition\\data\\pre_trained_models\\reid\\dukemtmcreid_resnet50_256_128_epoch_120.ckpt`\n"
     ]
    },
    {
     "name": "stdout",
     "output_type": "stream",
     "text": [
      "2025-03-31 10:16:09 [INFO] 2025-03-31 10:16:08 [INFO] Threshold for scores: 0.97, rounds: 1\n",
      "2025-03-31 10:16:08 [INFO] Round 1: Excluded 10 outliers\n",
      "2025-03-31 10:16:08 [INFO] Round 1: Average score: 0.9964770078659058\n",
      "2025-03-31 10:16:08 [INFO] Excluded images: ['54_107.jpg', '54_109.jpg', '54_273.jpg', '54_274.jpg', '54_275.jpg', '54_645.jpg', '54_712.jpg', '54_713.jpg', '54_714.jpg', '54_715.jpg']\n",
      "\n",
      "2025-03-31 10:16:09 [ERROR] \n",
      "2025-03-31 10:16:09 [INFO] Done removing outliers\n",
      "2025-03-31 10:16:09 [INFO] Running model chain on preprocessed image(s).\n",
      "2025-03-31 10:16:09 [INFO] Classifying legibility of image(s) using pre-trained model.\n",
      "2025-03-31 10:16:11 [INFO] 2025-03-31 10:16:10 [INFO] Threshold for scores: 0.97, rounds: 1\n",
      "2025-03-31 10:16:10 [INFO] Round 1: Excluded 1 outliers\n",
      "2025-03-31 10:16:10 [INFO] Round 1: Average score: 0.9986622929573059\n",
      "2025-03-31 10:16:10 [INFO] Excluded images: ['57_717.jpg']\n",
      "\n",
      "2025-03-31 10:16:11 [ERROR] \n",
      "2025-03-31 10:16:11 [INFO] Done removing outliers\n",
      "2025-03-31 10:16:11 [INFO] Running model chain on preprocessed image(s).\n",
      "2025-03-31 10:16:11 [INFO] Classifying legibility of image(s) using pre-trained model.\n",
      "2025-03-31 10:16:12 [INFO] Saved features for tracklet with shape (650, 2048) to c:\\Users\\colin\\OneDrive\\Desktop\\Jersey-Number-Recognition\\data\\SoccerNet\\jersey-2023\\processed_data\\challenge\\59\\features.npy\n",
      "2025-03-31 10:16:12 [INFO] Identifying and removing outliers by calling gaussian_outliers.py on feature file\n"
     ]
    },
    {
     "name": "stderr",
     "output_type": "stream",
     "text": [
      "Lightning automatically upgraded your loaded checkpoint from v1.1.4 to v2.5.0.post0. To apply the upgrade to your files permanently, run `python -m pytorch_lightning.utilities.upgrade_checkpoint c:\\Users\\colin\\OneDrive\\Desktop\\Jersey-Number-Recognition\\data\\pre_trained_models\\reid\\dukemtmcreid_resnet50_256_128_epoch_120.ckpt`\n"
     ]
    },
    {
     "name": "stdout",
     "output_type": "stream",
     "text": [
      "2025-03-31 10:16:14 [INFO] 2025-03-31 10:16:13 [INFO] Threshold for scores: 0.97, rounds: 1\n",
      "2025-03-31 10:16:13 [INFO] Round 1: Excluded 55 outliers\n",
      "2025-03-31 10:16:13 [INFO] Round 1: Average score: 0.986057460308075\n",
      "2025-03-31 10:16:13 [INFO] Excluded images: ['58_304.jpg', '58_305.jpg', '58_306.jpg', '58_307.jpg', '58_308.jpg', '58_309.jpg', '58_310.jpg', '58_311.jpg', '58_312.jpg', '58_316.jpg', '58_317.jpg', '58_318.jpg', '58_472.jpg', '58_473.jpg', '58_474.jpg', '58_499.jpg', '58_501.jpg', '58_502.jpg', '58_524.jpg', '58_525.jpg', '58_526.jpg', '58_527.jpg', '58_528.jpg', '58_529.jpg', '58_530.jpg', '58_531.jpg', '58_532.jpg', '58_533.jpg', '58_534.jpg', '58_535.jpg', '58_536.jpg', '58_537.jpg', '58_538.jpg', '58_539.jpg', '58_540.jpg', '58_541.jpg', '58_542.jpg', '58_543.jpg', '58_544.jpg', '58_545.jpg', '58_547.jpg', '58_568.jpg', '58_569.jpg', '58_570.jpg', '58_640.jpg', '58_641.jpg', '58_666.jpg', '58_667.jpg', '58_668.jpg', '58_669.jpg', '58_670.jpg', '58_694.jpg', '58_695.jpg', '58_696.jpg', '58_697.jpg']\n",
      "\n",
      "2025-03-31 10:16:14 [ERROR] \n",
      "2025-03-31 10:16:14 [INFO] Done removing outliers\n",
      "2025-03-31 10:16:14 [INFO] Running model chain on preprocessed image(s).\n",
      "2025-03-31 10:16:14 [INFO] Classifying legibility of image(s) using pre-trained model.\n",
      "2025-03-31 10:16:17 [INFO] 2025-03-31 10:16:15 [INFO] Threshold for scores: 0.97, rounds: 1\n",
      "2025-03-31 10:16:15 [INFO] Round 1: Excluded 3 outliers\n",
      "2025-03-31 10:16:15 [INFO] Round 1: Average score: 0.9975160360336304\n",
      "2025-03-31 10:16:15 [INFO] Excluded images: ['51_530.jpg', '51_531.jpg', '51_532.jpg']\n",
      "\n",
      "2025-03-31 10:16:17 [ERROR] \n",
      "2025-03-31 10:16:17 [INFO] Done removing outliers\n",
      "2025-03-31 10:16:17 [INFO] Running model chain on preprocessed image(s).\n",
      "2025-03-31 10:16:17 [INFO] Classifying legibility of image(s) using pre-trained model.\n",
      "2025-03-31 10:16:17 [INFO] Saved features for tracklet with shape (750, 2048) to c:\\Users\\colin\\OneDrive\\Desktop\\Jersey-Number-Recognition\\data\\SoccerNet\\jersey-2023\\processed_data\\challenge\\56\\features.npy\n",
      "2025-03-31 10:16:17 [INFO] Identifying and removing outliers by calling gaussian_outliers.py on feature file\n"
     ]
    },
    {
     "name": "stderr",
     "output_type": "stream",
     "text": [
      "Lightning automatically upgraded your loaded checkpoint from v1.1.4 to v2.5.0.post0. To apply the upgrade to your files permanently, run `python -m pytorch_lightning.utilities.upgrade_checkpoint c:\\Users\\colin\\OneDrive\\Desktop\\Jersey-Number-Recognition\\data\\pre_trained_models\\reid\\dukemtmcreid_resnet50_256_128_epoch_120.ckpt`\n"
     ]
    },
    {
     "name": "stdout",
     "output_type": "stream",
     "text": [
      "2025-03-31 10:16:22 [INFO] Saved features for tracklet with shape (601, 2048) to c:\\Users\\colin\\OneDrive\\Desktop\\Jersey-Number-Recognition\\data\\SoccerNet\\jersey-2023\\processed_data\\challenge\\53\\features.npy\n",
      "2025-03-31 10:16:22 [INFO] Identifying and removing outliers by calling gaussian_outliers.py on feature file\n",
      "2025-03-31 10:16:22 [INFO] 2025-03-31 10:16:21 [INFO] Threshold for scores: 0.97, rounds: 1\n",
      "2025-03-31 10:16:21 [INFO] Round 1: Excluded 36 outliers\n",
      "2025-03-31 10:16:21 [INFO] Round 1: Average score: 0.9808850884437561\n",
      "2025-03-31 10:16:21 [INFO] Excluded images: ['55_301.jpg', '55_304.jpg', '55_305.jpg', '55_306.jpg', '55_307.jpg', '55_308.jpg', '55_489.jpg', '55_490.jpg', '55_491.jpg', '55_492.jpg', '55_493.jpg', '55_494.jpg', '55_495.jpg', '55_496.jpg', '55_497.jpg', '55_498.jpg', '55_513.jpg', '55_514.jpg', '55_515.jpg', '55_516.jpg', '55_517.jpg', '55_80.jpg', '55_81.jpg', '55_82.jpg', '55_83.jpg', '55_84.jpg', '55_85.jpg', '55_86.jpg', '55_87.jpg', '55_88.jpg', '55_89.jpg', '55_90.jpg', '55_91.jpg', '55_92.jpg', '55_93.jpg', '55_94.jpg']\n",
      "\n",
      "2025-03-31 10:16:22 [ERROR] \n",
      "2025-03-31 10:16:22 [INFO] Done removing outliers\n",
      "2025-03-31 10:16:22 [INFO] Running model chain on preprocessed image(s).\n",
      "2025-03-31 10:16:22 [INFO] Classifying legibility of image(s) using pre-trained model.\n",
      "2025-03-31 10:16:29 [INFO] 2025-03-31 10:16:27 [INFO] Threshold for scores: 0.97, rounds: 1\n",
      "2025-03-31 10:16:27 [INFO] Round 1: Excluded 11 outliers\n",
      "2025-03-31 10:16:27 [INFO] Round 1: Average score: 0.9956238865852356\n",
      "2025-03-31 10:16:27 [INFO] Excluded images: ['59_23.jpg', '59_24.jpg', '59_25.jpg', '59_26.jpg', '59_27.jpg', '59_35.jpg', '59_647.jpg', '59_648.jpg', '59_649.jpg', '59_65.jpg', '59_650.jpg']\n",
      "\n",
      "2025-03-31 10:16:29 [ERROR] \n",
      "2025-03-31 10:16:29 [INFO] Done removing outliers\n",
      "2025-03-31 10:16:29 [INFO] Running model chain on preprocessed image(s).\n",
      "2025-03-31 10:16:29 [INFO] Classifying legibility of image(s) using pre-trained model.\n",
      "2025-03-31 10:16:35 [INFO] 2025-03-31 10:16:33 [INFO] Threshold for scores: 0.97, rounds: 1\n",
      "2025-03-31 10:16:33 [INFO] Round 1: Excluded 81 outliers\n",
      "2025-03-31 10:16:33 [INFO] Round 1: Average score: 0.983519434928894\n",
      "2025-03-31 10:16:33 [INFO] Excluded images: ['56_1.jpg', '56_11.jpg', '56_289.jpg', '56_298.jpg', '56_299.jpg', '56_301.jpg', '56_385.jpg', '56_386.jpg', '56_387.jpg', '56_389.jpg', '56_463.jpg', '56_464.jpg', '56_5.jpg', '56_525.jpg', '56_527.jpg', '56_529.jpg', '56_560.jpg', '56_561.jpg', '56_562.jpg', '56_563.jpg', '56_564.jpg', '56_565.jpg', '56_569.jpg', '56_572.jpg', '56_586.jpg', '56_587.jpg', '56_591.jpg', '56_6.jpg', '56_606.jpg', '56_618.jpg', '56_619.jpg', '56_620.jpg', '56_646.jpg', '56_647.jpg', '56_648.jpg', '56_649.jpg', '56_650.jpg', '56_683.jpg', '56_696.jpg', '56_698.jpg', '56_701.jpg', '56_702.jpg', '56_703.jpg', '56_704.jpg', '56_705.jpg', '56_706.jpg', '56_707.jpg', '56_708.jpg', '56_709.jpg', '56_710.jpg', '56_711.jpg', '56_712.jpg', '56_713.jpg', '56_714.jpg', '56_715.jpg', '56_716.jpg', '56_717.jpg', '56_718.jpg', '56_719.jpg', '56_720.jpg', '56_721.jpg', '56_722.jpg', '56_723.jpg', '56_724.jpg', '56_725.jpg', '56_726.jpg', '56_727.jpg', '56_728.jpg', '56_729.jpg', '56_730.jpg', '56_731.jpg', '56_732.jpg', '56_733.jpg', '56_734.jpg', '56_735.jpg', '56_736.jpg', '56_738.jpg', '56_739.jpg', '56_740.jpg', '56_8.jpg', '56_9.jpg']\n",
      "\n",
      "2025-03-31 10:16:35 [ERROR] \n",
      "2025-03-31 10:16:35 [INFO] Done removing outliers\n",
      "2025-03-31 10:16:35 [INFO] Running model chain on preprocessed image(s).\n",
      "2025-03-31 10:16:35 [INFO] Classifying legibility of image(s) using pre-trained model.\n",
      "2025-03-31 10:16:39 [INFO] Median vs. average vs. max of raw outputs (thresh=0.5): 0.4334860146045685, 0.43572497971355917, 0.4728914797306061\n",
      "2025-03-31 10:16:39 [INFO] Median vs. average vs. max of kept outputs (thresh=0.5): 0.0, 0.0, 0.0\n",
      "2025-03-31 10:16:39 [INFO] Tracklet 55 is illegible.\n",
      "2025-03-31 10:16:39 [INFO] Saving legible_tracklets to: c:\\Users\\colin\\OneDrive\\Desktop\\Jersey-Number-Recognition\\data\\SoccerNet\\jersey-2023\\processed_data\\challenge\\55\\legible_results.json\n",
      "2025-03-31 10:16:39 [INFO] Saved legible_tracklets to: c:\\Users\\colin\\OneDrive\\Desktop\\Jersey-Number-Recognition\\data\\SoccerNet\\jersey-2023\\processed_data\\challenge\\55\\legible_results.json\n",
      "2025-03-31 10:16:39 [INFO] Saving illegible_tracklets to: c:\\Users\\colin\\OneDrive\\Desktop\\Jersey-Number-Recognition\\data\\SoccerNet\\jersey-2023\\processed_data\\challenge\\55\\illegible_results.json\n",
      "2025-03-31 10:16:39 [INFO] Saved illegible_tracklets to: c:\\Users\\colin\\OneDrive\\Desktop\\Jersey-Number-Recognition\\data\\SoccerNet\\jersey-2023\\processed_data\\challenge\\55\\illegible_results.json\n",
      "2025-03-31 10:16:39 [INFO] Legibility classification complete.\n",
      "2025-03-31 10:16:39 [INFO] Processed tracklet: 55\n",
      "2025-03-31 10:16:39 [INFO] 2025-03-31 10:16:38 [INFO] Threshold for scores: 0.97, rounds: 1\n",
      "2025-03-31 10:16:38 [INFO] Round 1: Excluded 12 outliers\n",
      "2025-03-31 10:16:38 [INFO] Round 1: Average score: 0.9947798252105713\n",
      "2025-03-31 10:16:38 [INFO] Excluded images: ['53_538.jpg', '53_577.jpg', '53_578.jpg', '53_579.jpg', '53_580.jpg', '53_581.jpg', '53_582.jpg', '53_583.jpg', '53_618.jpg', '53_619.jpg', '53_620.jpg', '53_621.jpg']\n",
      "\n",
      "2025-03-31 10:16:39 [ERROR] \n",
      "2025-03-31 10:16:39 [INFO] Done removing outliers\n",
      "2025-03-31 10:16:39 [INFO] Running model chain on preprocessed image(s).\n",
      "2025-03-31 10:16:39 [INFO] Classifying legibility of image(s) using pre-trained model.\n"
     ]
    },
    {
     "name": "stderr",
     "output_type": "stream",
     "text": [
      "Lightning automatically upgraded your loaded checkpoint from v1.1.4 to v2.5.0.post0. To apply the upgrade to your files permanently, run `python -m pytorch_lightning.utilities.upgrade_checkpoint c:\\Users\\colin\\OneDrive\\Desktop\\Jersey-Number-Recognition\\data\\pre_trained_models\\reid\\dukemtmcreid_resnet50_256_128_epoch_120.ckpt`\n"
     ]
    },
    {
     "name": "stdout",
     "output_type": "stream",
     "text": [
      "2025-03-31 10:16:44 [INFO] Saved features for tracklet with shape (750, 2048) to c:\\Users\\colin\\OneDrive\\Desktop\\Jersey-Number-Recognition\\data\\SoccerNet\\jersey-2023\\processed_data\\challenge\\60\\features.npy\n",
      "2025-03-31 10:16:45 [INFO] Identifying and removing outliers by calling gaussian_outliers.py on feature file\n",
      "2025-03-31 10:16:45 [INFO] Median vs. average vs. max of raw outputs (thresh=0.5): 0.441020667552948, 0.4392718994600743, 0.4639602303504944\n",
      "2025-03-31 10:16:45 [INFO] Median vs. average vs. max of kept outputs (thresh=0.5): 0.0, 0.0, 0.0\n",
      "2025-03-31 10:16:45 [INFO] Tracklet 50 is illegible.\n",
      "2025-03-31 10:16:45 [INFO] Saving legible_tracklets to: c:\\Users\\colin\\OneDrive\\Desktop\\Jersey-Number-Recognition\\data\\SoccerNet\\jersey-2023\\processed_data\\challenge\\50\\legible_results.json\n",
      "2025-03-31 10:16:45 [INFO] Saved legible_tracklets to: c:\\Users\\colin\\OneDrive\\Desktop\\Jersey-Number-Recognition\\data\\SoccerNet\\jersey-2023\\processed_data\\challenge\\50\\legible_results.json\n",
      "2025-03-31 10:16:45 [INFO] Saving illegible_tracklets to: c:\\Users\\colin\\OneDrive\\Desktop\\Jersey-Number-Recognition\\data\\SoccerNet\\jersey-2023\\processed_data\\challenge\\50\\illegible_results.json\n",
      "2025-03-31 10:16:45 [INFO] Saved illegible_tracklets to: c:\\Users\\colin\\OneDrive\\Desktop\\Jersey-Number-Recognition\\data\\SoccerNet\\jersey-2023\\processed_data\\challenge\\50\\illegible_results.json\n",
      "2025-03-31 10:16:45 [INFO] Legibility classification complete.\n",
      "2025-03-31 10:16:45 [INFO] Processed tracklet: 50\n"
     ]
    },
    {
     "name": "stderr",
     "output_type": "stream",
     "text": [
      "Lightning automatically upgraded your loaded checkpoint from v1.1.4 to v2.5.0.post0. To apply the upgrade to your files permanently, run `python -m pytorch_lightning.utilities.upgrade_checkpoint c:\\Users\\colin\\OneDrive\\Desktop\\Jersey-Number-Recognition\\data\\pre_trained_models\\reid\\dukemtmcreid_resnet50_256_128_epoch_120.ckpt`\n"
     ]
    },
    {
     "name": "stdout",
     "output_type": "stream",
     "text": [
      "2025-03-31 10:16:52 [INFO] Saved features for tracklet with shape (750, 2048) to c:\\Users\\colin\\OneDrive\\Desktop\\Jersey-Number-Recognition\\data\\SoccerNet\\jersey-2023\\processed_data\\challenge\\61\\features.npy\n",
      "2025-03-31 10:16:52 [INFO] Identifying and removing outliers by calling gaussian_outliers.py on feature file\n",
      "2025-03-31 10:16:55 [INFO] Median vs. average vs. max of raw outputs (thresh=0.5): 0.5936472713947296, 0.5926325026458288, 0.606975793838501\n",
      "2025-03-31 10:16:55 [INFO] Median vs. average vs. max of kept outputs (thresh=0.5): 0.5936472713947296, 0.5926325026458288, 0.606975793838501\n",
      "2025-03-31 10:16:55 [INFO] Tracklet 52 is legible.\n",
      "2025-03-31 10:16:55 [INFO] Saving legible_tracklets to: c:\\Users\\colin\\OneDrive\\Desktop\\Jersey-Number-Recognition\\data\\SoccerNet\\jersey-2023\\processed_data\\challenge\\52\\legible_results.json\n",
      "2025-03-31 10:16:55 [INFO] Saved legible_tracklets to: c:\\Users\\colin\\OneDrive\\Desktop\\Jersey-Number-Recognition\\data\\SoccerNet\\jersey-2023\\processed_data\\challenge\\52\\legible_results.json\n",
      "2025-03-31 10:16:55 [INFO] Saving illegible_tracklets to: c:\\Users\\colin\\OneDrive\\Desktop\\Jersey-Number-Recognition\\data\\SoccerNet\\jersey-2023\\processed_data\\challenge\\52\\illegible_results.json\n",
      "2025-03-31 10:16:55 [INFO] Saved illegible_tracklets to: c:\\Users\\colin\\OneDrive\\Desktop\\Jersey-Number-Recognition\\data\\SoccerNet\\jersey-2023\\processed_data\\challenge\\52\\illegible_results.json\n",
      "2025-03-31 10:16:55 [INFO] Legibility classification complete.\n",
      "2025-03-31 10:16:55 [INFO] Processed tracklet: 52\n"
     ]
    },
    {
     "name": "stderr",
     "output_type": "stream",
     "text": [
      "Lightning automatically upgraded your loaded checkpoint from v1.1.4 to v2.5.0.post0. To apply the upgrade to your files permanently, run `python -m pytorch_lightning.utilities.upgrade_checkpoint c:\\Users\\colin\\OneDrive\\Desktop\\Jersey-Number-Recognition\\data\\pre_trained_models\\reid\\dukemtmcreid_resnet50_256_128_epoch_120.ckpt`\n"
     ]
    },
    {
     "name": "stdout",
     "output_type": "stream",
     "text": [
      "2025-03-31 10:16:59 [INFO] Median vs. average vs. max of raw outputs (thresh=0.5): 0.4617415964603424, 0.46030562435481565, 0.5002191066741943\n",
      "2025-03-31 10:16:59 [INFO] Median vs. average vs. max of kept outputs (thresh=0.5): 0.5002191066741943, 0.5002191066741943, 0.5002191066741943\n",
      "2025-03-31 10:16:59 [INFO] Tracklet 54 is legible.\n",
      "2025-03-31 10:16:59 [INFO] Saving legible_tracklets to: c:\\Users\\colin\\OneDrive\\Desktop\\Jersey-Number-Recognition\\data\\SoccerNet\\jersey-2023\\processed_data\\challenge\\54\\legible_results.json\n",
      "2025-03-31 10:16:59 [INFO] Saved legible_tracklets to: c:\\Users\\colin\\OneDrive\\Desktop\\Jersey-Number-Recognition\\data\\SoccerNet\\jersey-2023\\processed_data\\challenge\\54\\legible_results.json\n",
      "2025-03-31 10:16:59 [INFO] Saving illegible_tracklets to: c:\\Users\\colin\\OneDrive\\Desktop\\Jersey-Number-Recognition\\data\\SoccerNet\\jersey-2023\\processed_data\\challenge\\54\\illegible_results.json\n",
      "2025-03-31 10:16:59 [INFO] Saved illegible_tracklets to: c:\\Users\\colin\\OneDrive\\Desktop\\Jersey-Number-Recognition\\data\\SoccerNet\\jersey-2023\\processed_data\\challenge\\54\\illegible_results.json\n",
      "2025-03-31 10:16:59 [INFO] Legibility classification complete.\n",
      "2025-03-31 10:16:59 [INFO] Processed tracklet: 54\n",
      "2025-03-31 10:16:59 [INFO] 2025-03-31 10:16:57 [INFO] Threshold for scores: 0.97, rounds: 1\n",
      "2025-03-31 10:16:57 [INFO] Round 1: Excluded 24 outliers\n",
      "2025-03-31 10:16:57 [INFO] Round 1: Average score: 0.9932874441146851\n",
      "2025-03-31 10:16:57 [INFO] Excluded images: ['60_117.jpg', '60_407.jpg', '60_408.jpg', '60_409.jpg', '60_410.jpg', '60_411.jpg', '60_412.jpg', '60_413.jpg', '60_414.jpg', '60_415.jpg', '60_699.jpg', '60_700.jpg', '60_701.jpg', '60_702.jpg', '60_703.jpg', '60_704.jpg', '60_705.jpg', '60_707.jpg', '60_708.jpg', '60_709.jpg', '60_713.jpg', '60_717.jpg', '60_718.jpg', '60_725.jpg']\n",
      "\n",
      "2025-03-31 10:16:59 [ERROR] \n",
      "2025-03-31 10:16:59 [INFO] Done removing outliers\n",
      "2025-03-31 10:16:59 [INFO] Running model chain on preprocessed image(s).\n",
      "2025-03-31 10:16:59 [INFO] Classifying legibility of image(s) using pre-trained model.\n",
      "2025-03-31 10:17:03 [INFO] Median vs. average vs. max of raw outputs (thresh=0.5): 0.41872283816337585, 0.4185512680634956, 0.47018423676490784\n",
      "2025-03-31 10:17:03 [INFO] Median vs. average vs. max of kept outputs (thresh=0.5): 0.0, 0.0, 0.0\n",
      "2025-03-31 10:17:03 [INFO] Tracklet 57 is illegible.\n",
      "2025-03-31 10:17:03 [INFO] Saving legible_tracklets to: c:\\Users\\colin\\OneDrive\\Desktop\\Jersey-Number-Recognition\\data\\SoccerNet\\jersey-2023\\processed_data\\challenge\\57\\legible_results.json\n",
      "2025-03-31 10:17:03 [INFO] Saved legible_tracklets to: c:\\Users\\colin\\OneDrive\\Desktop\\Jersey-Number-Recognition\\data\\SoccerNet\\jersey-2023\\processed_data\\challenge\\57\\legible_results.json\n",
      "2025-03-31 10:17:03 [INFO] Saving illegible_tracklets to: c:\\Users\\colin\\OneDrive\\Desktop\\Jersey-Number-Recognition\\data\\SoccerNet\\jersey-2023\\processed_data\\challenge\\57\\illegible_results.json\n",
      "2025-03-31 10:17:03 [INFO] Saved illegible_tracklets to: c:\\Users\\colin\\OneDrive\\Desktop\\Jersey-Number-Recognition\\data\\SoccerNet\\jersey-2023\\processed_data\\challenge\\57\\illegible_results.json\n",
      "2025-03-31 10:17:03 [INFO] Legibility classification complete.\n",
      "2025-03-31 10:17:03 [INFO] Saved features for tracklet with shape (750, 2048) to c:\\Users\\colin\\OneDrive\\Desktop\\Jersey-Number-Recognition\\data\\SoccerNet\\jersey-2023\\processed_data\\challenge\\62\\features.npy\n",
      "2025-03-31 10:17:03 [INFO] Processed tracklet: 57\n",
      "2025-03-31 10:17:03 [INFO] Identifying and removing outliers by calling gaussian_outliers.py on feature file\n"
     ]
    },
    {
     "name": "stderr",
     "output_type": "stream",
     "text": [
      "Lightning automatically upgraded your loaded checkpoint from v1.1.4 to v2.5.0.post0. To apply the upgrade to your files permanently, run `python -m pytorch_lightning.utilities.upgrade_checkpoint c:\\Users\\colin\\OneDrive\\Desktop\\Jersey-Number-Recognition\\data\\pre_trained_models\\reid\\dukemtmcreid_resnet50_256_128_epoch_120.ckpt`\n"
     ]
    },
    {
     "name": "stdout",
     "output_type": "stream",
     "text": [
      "2025-03-31 10:17:05 [INFO] Median vs. average vs. max of raw outputs (thresh=0.5): 0.5296118855476379, 0.5258753817451023, 0.5595659613609314\n",
      "2025-03-31 10:17:05 [INFO] Median vs. average vs. max of kept outputs (thresh=0.5): 0.5307410359382629, 0.5286960556707012, 0.5595659613609314\n",
      "2025-03-31 10:17:05 [INFO] Tracklet 51 is legible.\n",
      "2025-03-31 10:17:05 [INFO] Saving legible_tracklets to: c:\\Users\\colin\\OneDrive\\Desktop\\Jersey-Number-Recognition\\data\\SoccerNet\\jersey-2023\\processed_data\\challenge\\51\\legible_results.json\n",
      "2025-03-31 10:17:05 [INFO] Saved legible_tracklets to: c:\\Users\\colin\\OneDrive\\Desktop\\Jersey-Number-Recognition\\data\\SoccerNet\\jersey-2023\\processed_data\\challenge\\51\\legible_results.json\n",
      "2025-03-31 10:17:05 [INFO] Saving illegible_tracklets to: c:\\Users\\colin\\OneDrive\\Desktop\\Jersey-Number-Recognition\\data\\SoccerNet\\jersey-2023\\processed_data\\challenge\\51\\illegible_results.json\n",
      "2025-03-31 10:17:05 [INFO] Saved illegible_tracklets to: c:\\Users\\colin\\OneDrive\\Desktop\\Jersey-Number-Recognition\\data\\SoccerNet\\jersey-2023\\processed_data\\challenge\\51\\illegible_results.json\n",
      "2025-03-31 10:17:05 [INFO] Legibility classification complete.\n",
      "2025-03-31 10:17:05 [INFO] Processed tracklet: 51\n",
      "2025-03-31 10:17:05 [INFO] Median vs. average vs. max of raw outputs (thresh=0.5): 0.4908033013343811, 0.49082319925157286, 0.5224838256835938\n",
      "2025-03-31 10:17:05 [INFO] Median vs. average vs. max of kept outputs (thresh=0.5): 0.5036202669143677, 0.5050369630109018, 0.5224838256835938\n",
      "2025-03-31 10:17:05 [INFO] Tracklet 58 is legible.\n",
      "2025-03-31 10:17:05 [INFO] Saving legible_tracklets to: c:\\Users\\colin\\OneDrive\\Desktop\\Jersey-Number-Recognition\\data\\SoccerNet\\jersey-2023\\processed_data\\challenge\\58\\legible_results.json\n",
      "2025-03-31 10:17:05 [INFO] Saved legible_tracklets to: c:\\Users\\colin\\OneDrive\\Desktop\\Jersey-Number-Recognition\\data\\SoccerNet\\jersey-2023\\processed_data\\challenge\\58\\legible_results.json\n",
      "2025-03-31 10:17:05 [INFO] Saving illegible_tracklets to: c:\\Users\\colin\\OneDrive\\Desktop\\Jersey-Number-Recognition\\data\\SoccerNet\\jersey-2023\\processed_data\\challenge\\58\\illegible_results.json\n",
      "2025-03-31 10:17:05 [INFO] Saved illegible_tracklets to: c:\\Users\\colin\\OneDrive\\Desktop\\Jersey-Number-Recognition\\data\\SoccerNet\\jersey-2023\\processed_data\\challenge\\58\\illegible_results.json\n",
      "2025-03-31 10:17:05 [INFO] Legibility classification complete.\n",
      "2025-03-31 10:17:05 [INFO] Processed tracklet: 58\n",
      "2025-03-31 10:17:07 [INFO] 2025-03-31 10:17:06 [INFO] Threshold for scores: 0.97, rounds: 1\n",
      "2025-03-31 10:17:06 [INFO] Round 1: Excluded 12 outliers\n",
      "2025-03-31 10:17:06 [INFO] Round 1: Average score: 0.9958834648132324\n",
      "2025-03-31 10:17:06 [INFO] Excluded images: ['61_203.jpg', '61_204.jpg', '61_205.jpg', '61_532.jpg', '61_534.jpg', '61_535.jpg', '61_536.jpg', '61_537.jpg', '61_538.jpg', '61_539.jpg', '61_540.jpg', '61_541.jpg']\n",
      "\n",
      "2025-03-31 10:17:07 [ERROR] \n",
      "2025-03-31 10:17:07 [INFO] Done removing outliers\n",
      "2025-03-31 10:17:07 [INFO] Running model chain on preprocessed image(s).\n",
      "2025-03-31 10:17:07 [INFO] Classifying legibility of image(s) using pre-trained model.\n",
      "2025-03-31 10:17:07 [INFO] Saved features for tracklet with shape (750, 2048) to c:\\Users\\colin\\OneDrive\\Desktop\\Jersey-Number-Recognition\\data\\SoccerNet\\jersey-2023\\processed_data\\challenge\\63\\features.npy\n",
      "2025-03-31 10:17:07 [INFO] Identifying and removing outliers by calling gaussian_outliers.py on feature file\n",
      "2025-03-31 10:17:12 [INFO] Median vs. average vs. max of raw outputs (thresh=0.5): 0.4712226688861847, 0.47236967380617706, 0.5335828065872192\n",
      "2025-03-31 10:17:12 [INFO] Median vs. average vs. max of kept outputs (thresh=0.5): 0.5079981684684753, 0.5104691023411958, 0.5335828065872192\n",
      "2025-03-31 10:17:12 [INFO] Tracklet 59 is legible.\n",
      "2025-03-31 10:17:12 [INFO] Saving legible_tracklets to: c:\\Users\\colin\\OneDrive\\Desktop\\Jersey-Number-Recognition\\data\\SoccerNet\\jersey-2023\\processed_data\\challenge\\59\\legible_results.json\n",
      "2025-03-31 10:17:12 [INFO] Saved legible_tracklets to: c:\\Users\\colin\\OneDrive\\Desktop\\Jersey-Number-Recognition\\data\\SoccerNet\\jersey-2023\\processed_data\\challenge\\59\\legible_results.json\n",
      "2025-03-31 10:17:12 [INFO] Saving illegible_tracklets to: c:\\Users\\colin\\OneDrive\\Desktop\\Jersey-Number-Recognition\\data\\SoccerNet\\jersey-2023\\processed_data\\challenge\\59\\illegible_results.json\n",
      "2025-03-31 10:17:12 [INFO] Saved illegible_tracklets to: c:\\Users\\colin\\OneDrive\\Desktop\\Jersey-Number-Recognition\\data\\SoccerNet\\jersey-2023\\processed_data\\challenge\\59\\illegible_results.json\n",
      "2025-03-31 10:17:12 [INFO] Legibility classification complete.\n",
      "2025-03-31 10:17:12 [INFO] Processed tracklet: 59\n",
      "2025-03-31 10:17:14 [INFO] Median vs. average vs. max of raw outputs (thresh=0.5): 0.5072818398475647, 0.5080928991817395, 0.5470463037490845\n",
      "2025-03-31 10:17:14 [INFO] Median vs. average vs. max of kept outputs (thresh=0.5): 0.5094993710517883, 0.5113325756441585, 0.5470463037490845\n",
      "2025-03-31 10:17:14 [INFO] Tracklet 56 is legible.\n",
      "2025-03-31 10:17:14 [INFO] Saving legible_tracklets to: c:\\Users\\colin\\OneDrive\\Desktop\\Jersey-Number-Recognition\\data\\SoccerNet\\jersey-2023\\processed_data\\challenge\\56\\legible_results.json\n",
      "2025-03-31 10:17:14 [INFO] Saved legible_tracklets to: c:\\Users\\colin\\OneDrive\\Desktop\\Jersey-Number-Recognition\\data\\SoccerNet\\jersey-2023\\processed_data\\challenge\\56\\legible_results.json\n",
      "2025-03-31 10:17:14 [INFO] Saving illegible_tracklets to: c:\\Users\\colin\\OneDrive\\Desktop\\Jersey-Number-Recognition\\data\\SoccerNet\\jersey-2023\\processed_data\\challenge\\56\\illegible_results.json\n",
      "2025-03-31 10:17:14 [INFO] Saved illegible_tracklets to: c:\\Users\\colin\\OneDrive\\Desktop\\Jersey-Number-Recognition\\data\\SoccerNet\\jersey-2023\\processed_data\\challenge\\56\\illegible_results.json\n",
      "2025-03-31 10:17:14 [INFO] Legibility classification complete.\n",
      "2025-03-31 10:17:14 [INFO] Processed tracklet: 56\n",
      "2025-03-31 10:17:18 [INFO] 2025-03-31 10:17:17 [INFO] Threshold for scores: 0.97, rounds: 1\n",
      "2025-03-31 10:17:17 [INFO] Round 1: Excluded 25 outliers\n",
      "2025-03-31 10:17:17 [INFO] Round 1: Average score: 0.9947558641433716\n",
      "2025-03-31 10:17:17 [INFO] Excluded images: ['62_219.jpg', '62_220.jpg', '62_24.jpg', '62_25.jpg', '62_26.jpg', '62_27.jpg', '62_28.jpg', '62_30.jpg', '62_31.jpg', '62_32.jpg', '62_360.jpg', '62_501.jpg', '62_527.jpg', '62_529.jpg', '62_534.jpg', '62_535.jpg', '62_544.jpg', '62_553.jpg', '62_554.jpg', '62_555.jpg', '62_556.jpg', '62_558.jpg', '62_566.jpg', '62_583.jpg', '62_584.jpg']\n",
      "\n",
      "2025-03-31 10:17:18 [ERROR] \n",
      "2025-03-31 10:17:18 [INFO] Done removing outliers\n",
      "2025-03-31 10:17:18 [INFO] Running model chain on preprocessed image(s).\n",
      "2025-03-31 10:17:18 [INFO] Classifying legibility of image(s) using pre-trained model.\n",
      "2025-03-31 10:17:18 [INFO] Median vs. average vs. max of raw outputs (thresh=0.5): 0.590479850769043, 0.5900820639420851, 0.6360957622528076\n",
      "2025-03-31 10:17:18 [INFO] Median vs. average vs. max of kept outputs (thresh=0.5): 0.590479850769043, 0.5900820639420851, 0.6360957622528076\n",
      "2025-03-31 10:17:18 [INFO] Tracklet 53 is legible.\n",
      "2025-03-31 10:17:18 [INFO] Saving legible_tracklets to: c:\\Users\\colin\\OneDrive\\Desktop\\Jersey-Number-Recognition\\data\\SoccerNet\\jersey-2023\\processed_data\\challenge\\53\\legible_results.json\n",
      "2025-03-31 10:17:18 [INFO] Saved legible_tracklets to: c:\\Users\\colin\\OneDrive\\Desktop\\Jersey-Number-Recognition\\data\\SoccerNet\\jersey-2023\\processed_data\\challenge\\53\\legible_results.json\n",
      "2025-03-31 10:17:18 [INFO] Saving illegible_tracklets to: c:\\Users\\colin\\OneDrive\\Desktop\\Jersey-Number-Recognition\\data\\SoccerNet\\jersey-2023\\processed_data\\challenge\\53\\illegible_results.json\n",
      "2025-03-31 10:17:18 [INFO] Saved illegible_tracklets to: c:\\Users\\colin\\OneDrive\\Desktop\\Jersey-Number-Recognition\\data\\SoccerNet\\jersey-2023\\processed_data\\challenge\\53\\illegible_results.json\n",
      "2025-03-31 10:17:18 [INFO] Legibility classification complete.\n",
      "2025-03-31 10:17:18 [INFO] Processed tracklet: 53\n",
      "2025-03-31 10:17:20 [INFO] 2025-03-31 10:17:19 [INFO] Threshold for scores: 0.97, rounds: 1\n",
      "2025-03-31 10:17:19 [INFO] Round 1: Excluded 46 outliers\n",
      "2025-03-31 10:17:19 [INFO] Round 1: Average score: 0.9893913865089417\n",
      "2025-03-31 10:17:19 [INFO] Excluded images: ['63_242.jpg', '63_501.jpg', '63_537.jpg', '63_548.jpg', '63_566.jpg', '63_567.jpg', '63_568.jpg', '63_569.jpg', '63_570.jpg', '63_571.jpg', '63_574.jpg', '63_575.jpg', '63_576.jpg', '63_579.jpg', '63_580.jpg', '63_581.jpg', '63_582.jpg', '63_583.jpg', '63_596.jpg', '63_60.jpg', '63_61.jpg', '63_62.jpg', '63_63.jpg', '63_64.jpg', '63_65.jpg', '63_651.jpg', '63_652.jpg', '63_655.jpg', '63_66.jpg', '63_673.jpg', '63_68.jpg', '63_70.jpg', '63_709.jpg', '63_710.jpg', '63_711.jpg', '63_713.jpg', '63_714.jpg', '63_720.jpg', '63_726.jpg', '63_727.jpg', '63_729.jpg', '63_730.jpg', '63_731.jpg', '63_747.jpg', '63_748.jpg', '63_749.jpg']\n",
      "\n",
      "2025-03-31 10:17:20 [ERROR] \n",
      "2025-03-31 10:17:20 [INFO] Done removing outliers\n",
      "2025-03-31 10:17:20 [INFO] Running model chain on preprocessed image(s).\n",
      "2025-03-31 10:17:20 [INFO] Classifying legibility of image(s) using pre-trained model.\n",
      "2025-03-31 10:17:29 [INFO] Median vs. average vs. max of raw outputs (thresh=0.5): 0.5334864258766174, 0.5335639839986795, 0.5749128460884094\n",
      "2025-03-31 10:17:29 [INFO] Median vs. average vs. max of kept outputs (thresh=0.5): 0.5334864258766174, 0.5335639839986795, 0.5749128460884094\n",
      "2025-03-31 10:17:29 [INFO] Tracklet 60 is legible.\n",
      "2025-03-31 10:17:29 [INFO] Saving legible_tracklets to: c:\\Users\\colin\\OneDrive\\Desktop\\Jersey-Number-Recognition\\data\\SoccerNet\\jersey-2023\\processed_data\\challenge\\60\\legible_results.json\n",
      "2025-03-31 10:17:29 [INFO] Saved legible_tracklets to: c:\\Users\\colin\\OneDrive\\Desktop\\Jersey-Number-Recognition\\data\\SoccerNet\\jersey-2023\\processed_data\\challenge\\60\\legible_results.json\n",
      "2025-03-31 10:17:29 [INFO] Saving illegible_tracklets to: c:\\Users\\colin\\OneDrive\\Desktop\\Jersey-Number-Recognition\\data\\SoccerNet\\jersey-2023\\processed_data\\challenge\\60\\illegible_results.json\n",
      "2025-03-31 10:17:29 [INFO] Saved illegible_tracklets to: c:\\Users\\colin\\OneDrive\\Desktop\\Jersey-Number-Recognition\\data\\SoccerNet\\jersey-2023\\processed_data\\challenge\\60\\illegible_results.json\n",
      "2025-03-31 10:17:29 [INFO] Legibility classification complete.\n",
      "2025-03-31 10:17:29 [INFO] Processed tracklet: 60\n",
      "2025-03-31 10:17:34 [INFO] Median vs. average vs. max of raw outputs (thresh=0.5): 0.44944921135902405, 0.4496474404564395, 0.5046306252479553\n",
      "2025-03-31 10:17:34 [INFO] Median vs. average vs. max of kept outputs (thresh=0.5): 0.5046306252479553, 0.5046306252479553, 0.5046306252479553\n",
      "2025-03-31 10:17:34 [INFO] Tracklet 61 is legible.\n",
      "2025-03-31 10:17:34 [INFO] Saving legible_tracklets to: c:\\Users\\colin\\OneDrive\\Desktop\\Jersey-Number-Recognition\\data\\SoccerNet\\jersey-2023\\processed_data\\challenge\\61\\legible_results.json\n",
      "2025-03-31 10:17:34 [INFO] Saved legible_tracklets to: c:\\Users\\colin\\OneDrive\\Desktop\\Jersey-Number-Recognition\\data\\SoccerNet\\jersey-2023\\processed_data\\challenge\\61\\legible_results.json\n",
      "2025-03-31 10:17:34 [INFO] Saving illegible_tracklets to: c:\\Users\\colin\\OneDrive\\Desktop\\Jersey-Number-Recognition\\data\\SoccerNet\\jersey-2023\\processed_data\\challenge\\61\\illegible_results.json\n",
      "2025-03-31 10:17:34 [INFO] Saved illegible_tracklets to: c:\\Users\\colin\\OneDrive\\Desktop\\Jersey-Number-Recognition\\data\\SoccerNet\\jersey-2023\\processed_data\\challenge\\61\\illegible_results.json\n",
      "2025-03-31 10:17:34 [INFO] Legibility classification complete.\n",
      "2025-03-31 10:17:34 [INFO] Processed tracklet: 61\n",
      "2025-03-31 10:17:41 [INFO] Median vs. average vs. max of raw outputs (thresh=0.5): 0.47091254591941833, 0.4696422717077979, 0.48969507217407227\n",
      "2025-03-31 10:17:41 [INFO] Median vs. average vs. max of kept outputs (thresh=0.5): 0.0, 0.0, 0.0\n",
      "2025-03-31 10:17:41 [INFO] Tracklet 62 is illegible.\n",
      "2025-03-31 10:17:41 [INFO] Saving legible_tracklets to: c:\\Users\\colin\\OneDrive\\Desktop\\Jersey-Number-Recognition\\data\\SoccerNet\\jersey-2023\\processed_data\\challenge\\62\\legible_results.json\n",
      "2025-03-31 10:17:41 [INFO] Saved legible_tracklets to: c:\\Users\\colin\\OneDrive\\Desktop\\Jersey-Number-Recognition\\data\\SoccerNet\\jersey-2023\\processed_data\\challenge\\62\\legible_results.json\n",
      "2025-03-31 10:17:41 [INFO] Saving illegible_tracklets to: c:\\Users\\colin\\OneDrive\\Desktop\\Jersey-Number-Recognition\\data\\SoccerNet\\jersey-2023\\processed_data\\challenge\\62\\illegible_results.json\n",
      "2025-03-31 10:17:41 [INFO] Saved illegible_tracklets to: c:\\Users\\colin\\OneDrive\\Desktop\\Jersey-Number-Recognition\\data\\SoccerNet\\jersey-2023\\processed_data\\challenge\\62\\illegible_results.json\n",
      "2025-03-31 10:17:41 [INFO] Legibility classification complete.\n",
      "2025-03-31 10:17:41 [INFO] Processed tracklet: 62\n",
      "2025-03-31 10:17:42 [INFO] Median vs. average vs. max of raw outputs (thresh=0.5): 0.5210177600383759, 0.5210817392746155, 0.5524214506149292\n",
      "2025-03-31 10:17:42 [INFO] Median vs. average vs. max of kept outputs (thresh=0.5): 0.521084725856781, 0.5212385459178166, 0.5524214506149292\n",
      "2025-03-31 10:17:42 [INFO] Tracklet 63 is legible.\n",
      "2025-03-31 10:17:42 [INFO] Saving legible_tracklets to: c:\\Users\\colin\\OneDrive\\Desktop\\Jersey-Number-Recognition\\data\\SoccerNet\\jersey-2023\\processed_data\\challenge\\63\\legible_results.json\n",
      "2025-03-31 10:17:42 [INFO] Saved legible_tracklets to: c:\\Users\\colin\\OneDrive\\Desktop\\Jersey-Number-Recognition\\data\\SoccerNet\\jersey-2023\\processed_data\\challenge\\63\\legible_results.json\n",
      "2025-03-31 10:17:42 [INFO] Saving illegible_tracklets to: c:\\Users\\colin\\OneDrive\\Desktop\\Jersey-Number-Recognition\\data\\SoccerNet\\jersey-2023\\processed_data\\challenge\\63\\illegible_results.json\n",
      "2025-03-31 10:17:42 [INFO] Saved illegible_tracklets to: c:\\Users\\colin\\OneDrive\\Desktop\\Jersey-Number-Recognition\\data\\SoccerNet\\jersey-2023\\processed_data\\challenge\\63\\illegible_results.json\n",
      "2025-03-31 10:17:42 [INFO] Legibility classification complete.\n",
      "2025-03-31 10:17:42 [INFO] Processed tracklet: 63\n",
      "2025-03-31 10:17:42 [INFO] Using double parallelization: multiprocessing + CUDA batch processing.\n"
     ]
    },
    {
     "data": {
      "application/vnd.jupyter.widget-view+json": {
       "model_id": "4111ed74630f4f9ca91e352a380e7167",
       "version_major": 2,
       "version_minor": 0
      },
      "text/plain": [
       "Processing tracklets (CUDA + CPU):   0%|          | 0/32 [00:00<?, ?it/s]"
      ]
     },
     "metadata": {},
     "output_type": "display_data"
    },
    {
     "name": "stdout",
     "output_type": "stream",
     "text": [
      "2025-03-31 10:18:22 [INFO] Creating placeholder data files for Soccer Ball Filter.\n"
     ]
    },
    {
     "data": {
      "application/vnd.jupyter.widget-view+json": {
       "model_id": "cda3f88b77934122a17cff9bdb4d1753",
       "version_major": 2,
       "version_minor": 0
      },
      "text/plain": [
       "Processing Batch Tracklets (64-96):   0%|          | 0/32 [00:00<?, ?it/s]"
      ]
     },
     "metadata": {},
     "output_type": "display_data"
    },
    {
     "name": "stderr",
     "output_type": "stream",
     "text": [
      "Lightning automatically upgraded your loaded checkpoint from v1.1.4 to v2.5.0.post0. To apply the upgrade to your files permanently, run `python -m pytorch_lightning.utilities.upgrade_checkpoint c:\\Users\\colin\\OneDrive\\Desktop\\Jersey-Number-Recognition\\data\\pre_trained_models\\reid\\dukemtmcreid_resnet50_256_128_epoch_120.ckpt`\n"
     ]
    },
    {
     "name": "stdout",
     "output_type": "stream",
     "text": [
      "2025-03-31 10:18:25 [INFO] Saved features for tracklet with shape (750, 2048) to c:\\Users\\colin\\OneDrive\\Desktop\\Jersey-Number-Recognition\\data\\SoccerNet\\jersey-2023\\processed_data\\challenge\\64\\features.npy\n",
      "2025-03-31 10:18:25 [INFO] Identifying and removing outliers by calling gaussian_outliers.py on feature file\n"
     ]
    },
    {
     "name": "stderr",
     "output_type": "stream",
     "text": [
      "Lightning automatically upgraded your loaded checkpoint from v1.1.4 to v2.5.0.post0. To apply the upgrade to your files permanently, run `python -m pytorch_lightning.utilities.upgrade_checkpoint c:\\Users\\colin\\OneDrive\\Desktop\\Jersey-Number-Recognition\\data\\pre_trained_models\\reid\\dukemtmcreid_resnet50_256_128_epoch_120.ckpt`\n"
     ]
    },
    {
     "name": "stdout",
     "output_type": "stream",
     "text": [
      "2025-03-31 10:18:27 [INFO] Saved features for tracklet with shape (750, 2048) to c:\\Users\\colin\\OneDrive\\Desktop\\Jersey-Number-Recognition\\data\\SoccerNet\\jersey-2023\\processed_data\\challenge\\66\\features.npy\n",
      "2025-03-31 10:18:27 [INFO] Identifying and removing outliers by calling gaussian_outliers.py on feature file\n"
     ]
    },
    {
     "name": "stderr",
     "output_type": "stream",
     "text": [
      "Lightning automatically upgraded your loaded checkpoint from v1.1.4 to v2.5.0.post0. To apply the upgrade to your files permanently, run `python -m pytorch_lightning.utilities.upgrade_checkpoint c:\\Users\\colin\\OneDrive\\Desktop\\Jersey-Number-Recognition\\data\\pre_trained_models\\reid\\dukemtmcreid_resnet50_256_128_epoch_120.ckpt`\n"
     ]
    },
    {
     "name": "stdout",
     "output_type": "stream",
     "text": [
      "2025-03-31 10:18:30 [INFO] Saved features for tracklet with shape (750, 2048) to c:\\Users\\colin\\OneDrive\\Desktop\\Jersey-Number-Recognition\\data\\SoccerNet\\jersey-2023\\processed_data\\challenge\\68\\features.npy\n",
      "2025-03-31 10:18:30 [INFO] Identifying and removing outliers by calling gaussian_outliers.py on feature file\n"
     ]
    },
    {
     "name": "stderr",
     "output_type": "stream",
     "text": [
      "Lightning automatically upgraded your loaded checkpoint from v1.1.4 to v2.5.0.post0. To apply the upgrade to your files permanently, run `python -m pytorch_lightning.utilities.upgrade_checkpoint c:\\Users\\colin\\OneDrive\\Desktop\\Jersey-Number-Recognition\\data\\pre_trained_models\\reid\\dukemtmcreid_resnet50_256_128_epoch_120.ckpt`\n"
     ]
    },
    {
     "name": "stdout",
     "output_type": "stream",
     "text": [
      "2025-03-31 10:18:32 [INFO] Saved features for tracklet with shape (251, 2048) to c:\\Users\\colin\\OneDrive\\Desktop\\Jersey-Number-Recognition\\data\\SoccerNet\\jersey-2023\\processed_data\\challenge\\71\\features.npy\n",
      "2025-03-31 10:18:32 [INFO] Identifying and removing outliers by calling gaussian_outliers.py on feature file\n"
     ]
    },
    {
     "name": "stderr",
     "output_type": "stream",
     "text": [
      "Lightning automatically upgraded your loaded checkpoint from v1.1.4 to v2.5.0.post0. To apply the upgrade to your files permanently, run `python -m pytorch_lightning.utilities.upgrade_checkpoint c:\\Users\\colin\\OneDrive\\Desktop\\Jersey-Number-Recognition\\data\\pre_trained_models\\reid\\dukemtmcreid_resnet50_256_128_epoch_120.ckpt`\n"
     ]
    },
    {
     "name": "stdout",
     "output_type": "stream",
     "text": [
      "2025-03-31 10:18:34 [INFO] Saved features for tracklet with shape (580, 2048) to c:\\Users\\colin\\OneDrive\\Desktop\\Jersey-Number-Recognition\\data\\SoccerNet\\jersey-2023\\processed_data\\challenge\\72\\features.npy\n",
      "2025-03-31 10:18:34 [INFO] Identifying and removing outliers by calling gaussian_outliers.py on feature file\n"
     ]
    },
    {
     "name": "stderr",
     "output_type": "stream",
     "text": [
      "Lightning automatically upgraded your loaded checkpoint from v1.1.4 to v2.5.0.post0. To apply the upgrade to your files permanently, run `python -m pytorch_lightning.utilities.upgrade_checkpoint c:\\Users\\colin\\OneDrive\\Desktop\\Jersey-Number-Recognition\\data\\pre_trained_models\\reid\\dukemtmcreid_resnet50_256_128_epoch_120.ckpt`\n"
     ]
    },
    {
     "name": "stdout",
     "output_type": "stream",
     "text": [
      "2025-03-31 10:18:35 [INFO] 2025-03-31 10:18:34 [INFO] Threshold for scores: 0.97, rounds: 1\n",
      "2025-03-31 10:18:34 [INFO] Round 1: Excluded 62 outliers\n",
      "2025-03-31 10:18:34 [INFO] Round 1: Average score: 0.9907081723213196\n",
      "2025-03-31 10:18:34 [INFO] Excluded images: ['64_181.jpg', '64_182.jpg', '64_183.jpg', '64_184.jpg', '64_316.jpg', '64_317.jpg', '64_318.jpg', '64_319.jpg', '64_320.jpg', '64_321.jpg', '64_322.jpg', '64_365.jpg', '64_366.jpg', '64_367.jpg', '64_368.jpg', '64_369.jpg', '64_370.jpg', '64_371.jpg', '64_388.jpg', '64_389.jpg', '64_390.jpg', '64_391.jpg', '64_392.jpg', '64_393.jpg', '64_394.jpg', '64_395.jpg', '64_396.jpg', '64_397.jpg', '64_398.jpg', '64_399.jpg', '64_400.jpg', '64_401.jpg', '64_402.jpg', '64_403.jpg', '64_481.jpg', '64_483.jpg', '64_495.jpg', '64_497.jpg', '64_498.jpg', '64_499.jpg', '64_500.jpg', '64_501.jpg', '64_502.jpg', '64_503.jpg', '64_504.jpg', '64_505.jpg', '64_506.jpg', '64_512.jpg', '64_513.jpg', '64_514.jpg', '64_516.jpg', '64_518.jpg', '64_519.jpg', '64_520.jpg', '64_521.jpg', '64_522.jpg', '64_523.jpg', '64_525.jpg', '64_526.jpg', '64_527.jpg', '64_576.jpg', '64_637.jpg']\n",
      "\n",
      "2025-03-31 10:18:35 [ERROR] \n",
      "2025-03-31 10:18:35 [INFO] Done removing outliers\n",
      "2025-03-31 10:18:35 [INFO] Running model chain on preprocessed image(s).\n",
      "2025-03-31 10:18:35 [INFO] Classifying legibility of image(s) using pre-trained model.\n",
      "2025-03-31 10:18:37 [INFO] Saved features for tracklet with shape (750, 2048) to c:\\Users\\colin\\OneDrive\\Desktop\\Jersey-Number-Recognition\\data\\SoccerNet\\jersey-2023\\processed_data\\challenge\\65\\features.npy\n",
      "2025-03-31 10:18:38 [INFO] Identifying and removing outliers by calling gaussian_outliers.py on feature file\n",
      "2025-03-31 10:18:38 [INFO] 2025-03-31 10:18:37 [INFO] Threshold for scores: 0.97, rounds: 1\n",
      "2025-03-31 10:18:37 [INFO] Round 1: Excluded 46 outliers\n",
      "2025-03-31 10:18:37 [INFO] Round 1: Average score: 0.9827441573143005\n",
      "2025-03-31 10:18:37 [INFO] Excluded images: ['66_290.jpg', '66_291.jpg', '66_292.jpg', '66_293.jpg', '66_294.jpg', '66_295.jpg', '66_296.jpg', '66_297.jpg', '66_298.jpg', '66_299.jpg', '66_300.jpg', '66_301.jpg', '66_302.jpg', '66_303.jpg', '66_331.jpg', '66_332.jpg', '66_333.jpg', '66_334.jpg', '66_335.jpg', '66_336.jpg', '66_337.jpg', '66_338.jpg', '66_339.jpg', '66_340.jpg', '66_341.jpg', '66_399.jpg', '66_400.jpg', '66_523.jpg', '66_524.jpg', '66_537.jpg', '66_550.jpg', '66_596.jpg', '66_597.jpg', '66_660.jpg', '66_661.jpg', '66_662.jpg', '66_663.jpg', '66_664.jpg', '66_665.jpg', '66_666.jpg', '66_668.jpg', '66_670.jpg', '66_672.jpg', '66_673.jpg', '66_674.jpg', '66_675.jpg']\n",
      "\n",
      "2025-03-31 10:18:38 [ERROR] \n",
      "2025-03-31 10:18:38 [INFO] Done removing outliers\n",
      "2025-03-31 10:18:38 [INFO] Running model chain on preprocessed image(s).\n",
      "2025-03-31 10:18:38 [INFO] Classifying legibility of image(s) using pre-trained model.\n"
     ]
    },
    {
     "name": "stderr",
     "output_type": "stream",
     "text": [
      "Lightning automatically upgraded your loaded checkpoint from v1.1.4 to v2.5.0.post0. To apply the upgrade to your files permanently, run `python -m pytorch_lightning.utilities.upgrade_checkpoint c:\\Users\\colin\\OneDrive\\Desktop\\Jersey-Number-Recognition\\data\\pre_trained_models\\reid\\dukemtmcreid_resnet50_256_128_epoch_120.ckpt`\n"
     ]
    },
    {
     "name": "stdout",
     "output_type": "stream",
     "text": [
      "2025-03-31 10:18:41 [INFO] 2025-03-31 10:18:40 [INFO] Threshold for scores: 0.97, rounds: 1\n",
      "2025-03-31 10:18:40 [INFO] Round 1: Excluded 82 outliers\n",
      "2025-03-31 10:18:40 [INFO] Round 1: Average score: 0.9871559143066406\n",
      "2025-03-31 10:18:40 [INFO] Excluded images: ['68_10.jpg', '68_102.jpg', '68_105.jpg', '68_107.jpg', '68_108.jpg', '68_109.jpg', '68_11.jpg', '68_110.jpg', '68_111.jpg', '68_112.jpg', '68_113.jpg', '68_114.jpg', '68_115.jpg', '68_116.jpg', '68_117.jpg', '68_118.jpg', '68_119.jpg', '68_12.jpg', '68_120.jpg', '68_121.jpg', '68_122.jpg', '68_123.jpg', '68_124.jpg', '68_125.jpg', '68_126.jpg', '68_127.jpg', '68_128.jpg', '68_129.jpg', '68_13.jpg', '68_134.jpg', '68_136.jpg', '68_137.jpg', '68_138.jpg', '68_139.jpg', '68_14.jpg', '68_140.jpg', '68_141.jpg', '68_142.jpg', '68_143.jpg', '68_144.jpg', '68_145.jpg', '68_148.jpg', '68_149.jpg', '68_15.jpg', '68_150.jpg', '68_151.jpg', '68_152.jpg', '68_153.jpg', '68_154.jpg', '68_155.jpg', '68_5.jpg', '68_501.jpg', '68_502.jpg', '68_503.jpg', '68_504.jpg', '68_522.jpg', '68_523.jpg', '68_525.jpg', '68_527.jpg', '68_531.jpg', '68_532.jpg', '68_533.jpg', '68_534.jpg', '68_535.jpg', '68_536.jpg', '68_537.jpg', '68_538.jpg', '68_539.jpg', '68_540.jpg', '68_542.jpg', '68_548.jpg', '68_549.jpg', '68_584.jpg', '68_585.jpg', '68_6.jpg', '68_625.jpg', '68_626.jpg', '68_627.jpg', '68_628.jpg', '68_7.jpg', '68_8.jpg', '68_9.jpg']\n",
      "\n",
      "2025-03-31 10:18:41 [ERROR] \n",
      "2025-03-31 10:18:41 [INFO] Done removing outliers\n",
      "2025-03-31 10:18:41 [INFO] Running model chain on preprocessed image(s).\n",
      "2025-03-31 10:18:41 [INFO] Classifying legibility of image(s) using pre-trained model.\n",
      "2025-03-31 10:18:41 [INFO] Saved features for tracklet with shape (750, 2048) to c:\\Users\\colin\\OneDrive\\Desktop\\Jersey-Number-Recognition\\data\\SoccerNet\\jersey-2023\\processed_data\\challenge\\69\\features.npy\n",
      "2025-03-31 10:18:41 [INFO] Identifying and removing outliers by calling gaussian_outliers.py on feature file\n"
     ]
    },
    {
     "name": "stderr",
     "output_type": "stream",
     "text": [
      "Lightning automatically upgraded your loaded checkpoint from v1.1.4 to v2.5.0.post0. To apply the upgrade to your files permanently, run `python -m pytorch_lightning.utilities.upgrade_checkpoint c:\\Users\\colin\\OneDrive\\Desktop\\Jersey-Number-Recognition\\data\\pre_trained_models\\reid\\dukemtmcreid_resnet50_256_128_epoch_120.ckpt`\n",
      "Lightning automatically upgraded your loaded checkpoint from v1.1.4 to v2.5.0.post0. To apply the upgrade to your files permanently, run `python -m pytorch_lightning.utilities.upgrade_checkpoint c:\\Users\\colin\\OneDrive\\Desktop\\Jersey-Number-Recognition\\data\\pre_trained_models\\reid\\dukemtmcreid_resnet50_256_128_epoch_120.ckpt`\n"
     ]
    },
    {
     "name": "stdout",
     "output_type": "stream",
     "text": [
      "2025-03-31 10:18:44 [INFO] 2025-03-31 10:18:43 [INFO] Threshold for scores: 0.97, rounds: 1\n",
      "2025-03-31 10:18:43 [INFO] Round 1: Excluded 2 outliers\n",
      "2025-03-31 10:18:43 [INFO] Round 1: Average score: 0.9964966773986816\n",
      "2025-03-31 10:18:43 [INFO] Excluded images: ['71_500.jpg', '71_501.jpg']\n",
      "\n",
      "2025-03-31 10:18:44 [ERROR] \n",
      "2025-03-31 10:18:44 [INFO] Done removing outliers\n",
      "2025-03-31 10:18:44 [INFO] Running model chain on preprocessed image(s).\n",
      "2025-03-31 10:18:44 [INFO] Classifying legibility of image(s) using pre-trained model.\n",
      "2025-03-31 10:18:46 [INFO] Saved features for tracklet with shape (750, 2048) to c:\\Users\\colin\\OneDrive\\Desktop\\Jersey-Number-Recognition\\data\\SoccerNet\\jersey-2023\\processed_data\\challenge\\67\\features.npy\n",
      "2025-03-31 10:18:46 [INFO] Identifying and removing outliers by calling gaussian_outliers.py on feature file\n",
      "2025-03-31 10:18:48 [INFO] 2025-03-31 10:18:46 [INFO] Threshold for scores: 0.97, rounds: 1\n",
      "2025-03-31 10:18:46 [INFO] Round 1: Excluded 52 outliers\n",
      "2025-03-31 10:18:46 [INFO] Round 1: Average score: 0.9833163619041443\n",
      "2025-03-31 10:18:46 [INFO] Excluded images: ['72_188.jpg', '72_189.jpg', '72_190.jpg', '72_191.jpg', '72_192.jpg', '72_193.jpg', '72_194.jpg', '72_195.jpg', '72_196.jpg', '72_197.jpg', '72_198.jpg', '72_199.jpg', '72_206.jpg', '72_207.jpg', '72_311.jpg', '72_313.jpg', '72_315.jpg', '72_321.jpg', '72_324.jpg', '72_325.jpg', '72_326.jpg', '72_330.jpg', '72_331.jpg', '72_334.jpg', '72_336.jpg', '72_337.jpg', '72_340.jpg', '72_341.jpg', '72_342.jpg', '72_343.jpg', '72_345.jpg', '72_346.jpg', '72_347.jpg', '72_348.jpg', '72_349.jpg', '72_375.jpg', '72_376.jpg', '72_377.jpg', '72_52.jpg', '72_55.jpg', '72_568.jpg', '72_570.jpg', '72_571.jpg', '72_572.jpg', '72_573.jpg', '72_574.jpg', '72_575.jpg', '72_576.jpg', '72_577.jpg', '72_578.jpg', '72_579.jpg', '72_580.jpg']\n",
      "\n",
      "2025-03-31 10:18:48 [ERROR] \n",
      "2025-03-31 10:18:48 [INFO] Done removing outliers\n",
      "2025-03-31 10:18:48 [INFO] Running model chain on preprocessed image(s).\n",
      "2025-03-31 10:18:48 [INFO] Classifying legibility of image(s) using pre-trained model.\n",
      "2025-03-31 10:18:50 [INFO] Saved features for tracklet with shape (586, 2048) to c:\\Users\\colin\\OneDrive\\Desktop\\Jersey-Number-Recognition\\data\\SoccerNet\\jersey-2023\\processed_data\\challenge\\73\\features.npy\n",
      "2025-03-31 10:18:50 [INFO] Identifying and removing outliers by calling gaussian_outliers.py on feature file\n"
     ]
    },
    {
     "name": "stderr",
     "output_type": "stream",
     "text": [
      "Lightning automatically upgraded your loaded checkpoint from v1.1.4 to v2.5.0.post0. To apply the upgrade to your files permanently, run `python -m pytorch_lightning.utilities.upgrade_checkpoint c:\\Users\\colin\\OneDrive\\Desktop\\Jersey-Number-Recognition\\data\\pre_trained_models\\reid\\dukemtmcreid_resnet50_256_128_epoch_120.ckpt`\n"
     ]
    },
    {
     "name": "stdout",
     "output_type": "stream",
     "text": [
      "2025-03-31 10:18:53 [INFO] 2025-03-31 10:18:51 [INFO] Threshold for scores: 0.97, rounds: 1\n",
      "2025-03-31 10:18:51 [INFO] Round 1: Excluded 19 outliers\n",
      "2025-03-31 10:18:51 [INFO] Round 1: Average score: 0.9960711002349854\n",
      "2025-03-31 10:18:51 [INFO] Excluded images: ['65_109.jpg', '65_115.jpg', '65_116.jpg', '65_517.jpg', '65_518.jpg', '65_524.jpg', '65_525.jpg', '65_535.jpg', '65_537.jpg', '65_543.jpg', '65_570.jpg', '65_575.jpg', '65_578.jpg', '65_605.jpg', '65_609.jpg', '65_610.jpg', '65_611.jpg', '65_620.jpg', '65_621.jpg']\n",
      "\n",
      "2025-03-31 10:18:53 [ERROR] \n",
      "2025-03-31 10:18:53 [INFO] Done removing outliers\n",
      "2025-03-31 10:18:53 [INFO] Running model chain on preprocessed image(s).\n",
      "2025-03-31 10:18:53 [INFO] Classifying legibility of image(s) using pre-trained model.\n",
      "2025-03-31 10:18:55 [INFO] Saved features for tracklet with shape (750, 2048) to c:\\Users\\colin\\OneDrive\\Desktop\\Jersey-Number-Recognition\\data\\SoccerNet\\jersey-2023\\processed_data\\challenge\\70\\features.npy\n",
      "2025-03-31 10:18:55 [INFO] Identifying and removing outliers by calling gaussian_outliers.py on feature file\n",
      "2025-03-31 10:18:58 [INFO] 2025-03-31 10:18:57 [INFO] Threshold for scores: 0.97, rounds: 1\n",
      "2025-03-31 10:18:57 [INFO] Round 1: Excluded 64 outliers\n",
      "2025-03-31 10:18:57 [INFO] Round 1: Average score: 0.9864210486412048\n",
      "2025-03-31 10:18:57 [INFO] Excluded images: ['69_100.jpg', '69_101.jpg', '69_104.jpg', '69_105.jpg', '69_126.jpg', '69_127.jpg', '69_128.jpg', '69_130.jpg', '69_495.jpg', '69_496.jpg', '69_498.jpg', '69_499.jpg', '69_500.jpg', '69_501.jpg', '69_502.jpg', '69_503.jpg', '69_504.jpg', '69_505.jpg', '69_506.jpg', '69_525.jpg', '69_526.jpg', '69_527.jpg', '69_528.jpg', '69_529.jpg', '69_530.jpg', '69_531.jpg', '69_533.jpg', '69_535.jpg', '69_537.jpg', '69_540.jpg', '69_549.jpg', '69_642.jpg', '69_643.jpg', '69_644.jpg', '69_645.jpg', '69_646.jpg', '69_647.jpg', '69_648.jpg', '69_649.jpg', '69_656.jpg', '69_657.jpg', '69_673.jpg', '69_675.jpg', '69_676.jpg', '69_677.jpg', '69_684.jpg', '69_686.jpg', '69_687.jpg', '69_689.jpg', '69_69.jpg', '69_723.jpg', '69_735.jpg', '69_736.jpg', '69_737.jpg', '69_738.jpg', '69_739.jpg', '69_74.jpg', '69_740.jpg', '69_741.jpg', '69_749.jpg', '69_75.jpg', '69_750.jpg', '69_93.jpg', '69_97.jpg']\n",
      "\n",
      "2025-03-31 10:18:58 [ERROR] \n",
      "2025-03-31 10:18:58 [INFO] Done removing outliers\n",
      "2025-03-31 10:18:58 [INFO] Running model chain on preprocessed image(s).\n",
      "2025-03-31 10:18:58 [INFO] Classifying legibility of image(s) using pre-trained model.\n",
      "2025-03-31 10:18:59 [INFO] Median vs. average vs. max of raw outputs (thresh=0.5): 0.5329082012176514, 0.5335006877839805, 0.5725144147872925\n",
      "2025-03-31 10:18:59 [INFO] Median vs. average vs. max of kept outputs (thresh=0.5): 0.5329700708389282, 0.5337909416631166, 0.5725144147872925\n",
      "2025-03-31 10:18:59 [INFO] Tracklet 71 is legible.\n",
      "2025-03-31 10:18:59 [INFO] Saving legible_tracklets to: c:\\Users\\colin\\OneDrive\\Desktop\\Jersey-Number-Recognition\\data\\SoccerNet\\jersey-2023\\processed_data\\challenge\\71\\legible_results.json\n",
      "2025-03-31 10:18:59 [INFO] Saved legible_tracklets to: c:\\Users\\colin\\OneDrive\\Desktop\\Jersey-Number-Recognition\\data\\SoccerNet\\jersey-2023\\processed_data\\challenge\\71\\legible_results.json\n",
      "2025-03-31 10:18:59 [INFO] Saving illegible_tracklets to: c:\\Users\\colin\\OneDrive\\Desktop\\Jersey-Number-Recognition\\data\\SoccerNet\\jersey-2023\\processed_data\\challenge\\71\\illegible_results.json\n",
      "2025-03-31 10:18:59 [INFO] Saved illegible_tracklets to: c:\\Users\\colin\\OneDrive\\Desktop\\Jersey-Number-Recognition\\data\\SoccerNet\\jersey-2023\\processed_data\\challenge\\71\\illegible_results.json\n",
      "2025-03-31 10:18:59 [INFO] Legibility classification complete.\n",
      "2025-03-31 10:18:59 [INFO] Processed tracklet: 71\n"
     ]
    },
    {
     "name": "stderr",
     "output_type": "stream",
     "text": [
      "Lightning automatically upgraded your loaded checkpoint from v1.1.4 to v2.5.0.post0. To apply the upgrade to your files permanently, run `python -m pytorch_lightning.utilities.upgrade_checkpoint c:\\Users\\colin\\OneDrive\\Desktop\\Jersey-Number-Recognition\\data\\pre_trained_models\\reid\\dukemtmcreid_resnet50_256_128_epoch_120.ckpt`\n"
     ]
    },
    {
     "name": "stdout",
     "output_type": "stream",
     "text": [
      "2025-03-31 10:19:02 [INFO] Saved features for tracklet with shape (589, 2048) to c:\\Users\\colin\\OneDrive\\Desktop\\Jersey-Number-Recognition\\data\\SoccerNet\\jersey-2023\\processed_data\\challenge\\74\\features.npy\n",
      "2025-03-31 10:19:02 [INFO] Identifying and removing outliers by calling gaussian_outliers.py on feature file\n",
      "2025-03-31 10:19:03 [INFO] 2025-03-31 10:19:02 [INFO] Threshold for scores: 0.97, rounds: 1\n",
      "2025-03-31 10:19:02 [INFO] Round 1: Excluded 93 outliers\n",
      "2025-03-31 10:19:02 [INFO] Round 1: Average score: 0.9830573797225952\n",
      "2025-03-31 10:19:02 [INFO] Excluded images: ['67_216.jpg', '67_217.jpg', '67_218.jpg', '67_219.jpg', '67_220.jpg', '67_221.jpg', '67_222.jpg', '67_223.jpg', '67_224.jpg', '67_500.jpg', '67_501.jpg', '67_502.jpg', '67_503.jpg', '67_504.jpg', '67_525.jpg', '67_526.jpg', '67_527.jpg', '67_528.jpg', '67_529.jpg', '67_531.jpg', '67_533.jpg', '67_541.jpg', '67_554.jpg', '67_556.jpg', '67_557.jpg', '67_558.jpg', '67_559.jpg', '67_560.jpg', '67_561.jpg', '67_562.jpg', '67_563.jpg', '67_564.jpg', '67_565.jpg', '67_566.jpg', '67_569.jpg', '67_570.jpg', '67_571.jpg', '67_572.jpg', '67_573.jpg', '67_574.jpg', '67_575.jpg', '67_576.jpg', '67_577.jpg', '67_578.jpg', '67_657.jpg', '67_659.jpg', '67_660.jpg', '67_661.jpg', '67_662.jpg', '67_663.jpg', '67_664.jpg', '67_665.jpg', '67_666.jpg', '67_692.jpg', '67_693.jpg', '67_694.jpg', '67_695.jpg', '67_696.jpg', '67_697.jpg', '67_698.jpg', '67_699.jpg', '67_700.jpg', '67_701.jpg', '67_702.jpg', '67_703.jpg', '67_704.jpg', '67_705.jpg', '67_706.jpg', '67_707.jpg', '67_708.jpg', '67_709.jpg', '67_710.jpg', '67_711.jpg', '67_713.jpg', '67_714.jpg', '67_715.jpg', '67_716.jpg', '67_717.jpg', '67_718.jpg', '67_719.jpg', '67_720.jpg', '67_721.jpg', '67_722.jpg', '67_723.jpg', '67_724.jpg', '67_728.jpg', '67_731.jpg', '67_735.jpg', '67_736.jpg', '67_742.jpg', '67_743.jpg', '67_744.jpg', '67_745.jpg']\n",
      "\n",
      "2025-03-31 10:19:03 [ERROR] \n",
      "2025-03-31 10:19:03 [INFO] Done removing outliers\n",
      "2025-03-31 10:19:03 [INFO] Running model chain on preprocessed image(s).\n",
      "2025-03-31 10:19:03 [INFO] Classifying legibility of image(s) using pre-trained model.\n",
      "2025-03-31 10:19:07 [INFO] 2025-03-31 10:19:06 [INFO] Threshold for scores: 0.97, rounds: 1\n",
      "2025-03-31 10:19:06 [INFO] Round 1: Excluded 28 outliers\n",
      "2025-03-31 10:19:06 [INFO] Round 1: Average score: 0.9920994639396667\n",
      "2025-03-31 10:19:06 [INFO] Excluded images: ['73_173.jpg', '73_181.jpg', '73_193.jpg', '73_197.jpg', '73_198.jpg', '73_200.jpg', '73_206.jpg', '73_209.jpg', '73_362.jpg', '73_363.jpg', '73_375.jpg', '73_570.jpg', '73_571.jpg', '73_572.jpg', '73_573.jpg', '73_574.jpg', '73_575.jpg', '73_576.jpg', '73_577.jpg', '73_578.jpg', '73_579.jpg', '73_580.jpg', '73_581.jpg', '73_582.jpg', '73_583.jpg', '73_584.jpg', '73_585.jpg', '73_586.jpg']\n",
      "\n",
      "2025-03-31 10:19:07 [ERROR] \n",
      "2025-03-31 10:19:07 [INFO] Done removing outliers\n",
      "2025-03-31 10:19:07 [INFO] Running model chain on preprocessed image(s).\n",
      "2025-03-31 10:19:07 [INFO] Classifying legibility of image(s) using pre-trained model.\n",
      "2025-03-31 10:19:10 [INFO] 2025-03-31 10:19:09 [INFO] Threshold for scores: 0.97, rounds: 1\n",
      "2025-03-31 10:19:09 [INFO] Round 1: Excluded 52 outliers\n",
      "2025-03-31 10:19:09 [INFO] Round 1: Average score: 0.9911571741104126\n",
      "2025-03-31 10:19:09 [INFO] Excluded images: ['70_1.jpg', '70_10.jpg', '70_11.jpg', '70_12.jpg', '70_13.jpg', '70_14.jpg', '70_15.jpg', '70_16.jpg', '70_17.jpg', '70_18.jpg', '70_19.jpg', '70_2.jpg', '70_20.jpg', '70_21.jpg', '70_22.jpg', '70_23.jpg', '70_24.jpg', '70_25.jpg', '70_27.jpg', '70_294.jpg', '70_295.jpg', '70_3.jpg', '70_43.jpg', '70_45.jpg', '70_47.jpg', '70_48.jpg', '70_49.jpg', '70_503.jpg', '70_504.jpg', '70_51.jpg', '70_518.jpg', '70_520.jpg', '70_521.jpg', '70_522.jpg', '70_523.jpg', '70_524.jpg', '70_526.jpg', '70_527.jpg', '70_536.jpg', '70_537.jpg', '70_690.jpg', '70_7.jpg', '70_8.jpg', '70_80.jpg', '70_81.jpg', '70_82.jpg', '70_83.jpg', '70_84.jpg', '70_85.jpg', '70_86.jpg', '70_87.jpg', '70_9.jpg']\n",
      "\n",
      "2025-03-31 10:19:10 [ERROR] \n",
      "2025-03-31 10:19:10 [INFO] Done removing outliers\n",
      "2025-03-31 10:19:10 [INFO] Running model chain on preprocessed image(s).\n",
      "2025-03-31 10:19:10 [INFO] Classifying legibility of image(s) using pre-trained model.\n",
      "2025-03-31 10:19:15 [INFO] Median vs. average vs. max of raw outputs (thresh=0.5): 0.5008203089237213, 0.5001341414659523, 0.5273316502571106\n",
      "2025-03-31 10:19:15 [INFO] Median vs. average vs. max of kept outputs (thresh=0.5): 0.5065235495567322, 0.5073887975558355, 0.5273316502571106\n",
      "2025-03-31 10:19:15 [INFO] Tracklet 64 is legible.\n",
      "2025-03-31 10:19:15 [INFO] Saving legible_tracklets to: c:\\Users\\colin\\OneDrive\\Desktop\\Jersey-Number-Recognition\\data\\SoccerNet\\jersey-2023\\processed_data\\challenge\\64\\legible_results.json\n",
      "2025-03-31 10:19:15 [INFO] Saved legible_tracklets to: c:\\Users\\colin\\OneDrive\\Desktop\\Jersey-Number-Recognition\\data\\SoccerNet\\jersey-2023\\processed_data\\challenge\\64\\legible_results.json\n",
      "2025-03-31 10:19:15 [INFO] Saving illegible_tracklets to: c:\\Users\\colin\\OneDrive\\Desktop\\Jersey-Number-Recognition\\data\\SoccerNet\\jersey-2023\\processed_data\\challenge\\64\\illegible_results.json\n",
      "2025-03-31 10:19:15 [INFO] Saved illegible_tracklets to: c:\\Users\\colin\\OneDrive\\Desktop\\Jersey-Number-Recognition\\data\\SoccerNet\\jersey-2023\\processed_data\\challenge\\64\\illegible_results.json\n",
      "2025-03-31 10:19:15 [INFO] Legibility classification complete.\n",
      "2025-03-31 10:19:15 [INFO] Processed tracklet: 64\n"
     ]
    },
    {
     "name": "stderr",
     "output_type": "stream",
     "text": [
      "Lightning automatically upgraded your loaded checkpoint from v1.1.4 to v2.5.0.post0. To apply the upgrade to your files permanently, run `python -m pytorch_lightning.utilities.upgrade_checkpoint c:\\Users\\colin\\OneDrive\\Desktop\\Jersey-Number-Recognition\\data\\pre_trained_models\\reid\\dukemtmcreid_resnet50_256_128_epoch_120.ckpt`\n"
     ]
    },
    {
     "name": "stdout",
     "output_type": "stream",
     "text": [
      "2025-03-31 10:19:18 [INFO] 2025-03-31 10:19:16 [INFO] Threshold for scores: 0.97, rounds: 1\n",
      "2025-03-31 10:19:16 [INFO] Round 1: Excluded 31 outliers\n",
      "2025-03-31 10:19:16 [INFO] Round 1: Average score: 0.9882418513298035\n",
      "2025-03-31 10:19:16 [INFO] Excluded images: ['74_194.jpg', '74_195.jpg', '74_197.jpg', '74_275.jpg', '74_276.jpg', '74_277.jpg', '74_278.jpg', '74_279.jpg', '74_280.jpg', '74_382.jpg', '74_384.jpg', '74_385.jpg', '74_466.jpg', '74_467.jpg', '74_468.jpg', '74_469.jpg', '74_470.jpg', '74_471.jpg', '74_472.jpg', '74_473.jpg', '74_569.jpg', '74_570.jpg', '74_571.jpg', '74_572.jpg', '74_573.jpg', '74_574.jpg', '74_579.jpg', '74_580.jpg', '74_586.jpg', '74_587.jpg', '74_589.jpg']\n",
      "\n",
      "2025-03-31 10:19:18 [ERROR] \n",
      "2025-03-31 10:19:18 [INFO] Done removing outliers\n",
      "2025-03-31 10:19:18 [INFO] Running model chain on preprocessed image(s).\n",
      "2025-03-31 10:19:18 [INFO] Classifying legibility of image(s) using pre-trained model.\n",
      "2025-03-31 10:19:21 [INFO] Saved features for tracklet with shape (314, 2048) to c:\\Users\\colin\\OneDrive\\Desktop\\Jersey-Number-Recognition\\data\\SoccerNet\\jersey-2023\\processed_data\\challenge\\75\\features.npy\n",
      "2025-03-31 10:19:21 [INFO] Identifying and removing outliers by calling gaussian_outliers.py on feature file\n",
      "2025-03-31 10:19:21 [INFO] Median vs. average vs. max of raw outputs (thresh=0.5): 0.5523541271686554, 0.5510395573113452, 0.5864153504371643\n",
      "2025-03-31 10:19:21 [INFO] Median vs. average vs. max of kept outputs (thresh=0.5): 0.5523541271686554, 0.5510395573113452, 0.5864153504371643\n",
      "2025-03-31 10:19:21 [INFO] Tracklet 66 is legible.\n",
      "2025-03-31 10:19:21 [INFO] Saving legible_tracklets to: c:\\Users\\colin\\OneDrive\\Desktop\\Jersey-Number-Recognition\\data\\SoccerNet\\jersey-2023\\processed_data\\challenge\\66\\legible_results.json\n",
      "2025-03-31 10:19:21 [INFO] Saved legible_tracklets to: c:\\Users\\colin\\OneDrive\\Desktop\\Jersey-Number-Recognition\\data\\SoccerNet\\jersey-2023\\processed_data\\challenge\\66\\legible_results.json\n",
      "2025-03-31 10:19:21 [INFO] Saving illegible_tracklets to: c:\\Users\\colin\\OneDrive\\Desktop\\Jersey-Number-Recognition\\data\\SoccerNet\\jersey-2023\\processed_data\\challenge\\66\\illegible_results.json\n",
      "2025-03-31 10:19:21 [INFO] Saved illegible_tracklets to: c:\\Users\\colin\\OneDrive\\Desktop\\Jersey-Number-Recognition\\data\\SoccerNet\\jersey-2023\\processed_data\\challenge\\66\\illegible_results.json\n",
      "2025-03-31 10:19:21 [INFO] Legibility classification complete.\n",
      "2025-03-31 10:19:21 [INFO] Processed tracklet: 66\n"
     ]
    },
    {
     "name": "stderr",
     "output_type": "stream",
     "text": [
      "Lightning automatically upgraded your loaded checkpoint from v1.1.4 to v2.5.0.post0. To apply the upgrade to your files permanently, run `python -m pytorch_lightning.utilities.upgrade_checkpoint c:\\Users\\colin\\OneDrive\\Desktop\\Jersey-Number-Recognition\\data\\pre_trained_models\\reid\\dukemtmcreid_resnet50_256_128_epoch_120.ckpt`\n"
     ]
    },
    {
     "name": "stdout",
     "output_type": "stream",
     "text": [
      "2025-03-31 10:19:26 [INFO] Saved features for tracklet with shape (703, 2048) to c:\\Users\\colin\\OneDrive\\Desktop\\Jersey-Number-Recognition\\data\\SoccerNet\\jersey-2023\\processed_data\\challenge\\76\\features.npy\n",
      "2025-03-31 10:19:26 [INFO] Median vs. average vs. max of raw outputs (thresh=0.5): 0.5274321734905243, 0.5286195732340842, 0.5769268274307251\n",
      "2025-03-31 10:19:26 [INFO] Identifying and removing outliers by calling gaussian_outliers.py on feature file\n",
      "2025-03-31 10:19:26 [INFO] Median vs. average vs. max of kept outputs (thresh=0.5): 0.528902143239975, 0.5315418412064433, 0.5769268274307251\n",
      "2025-03-31 10:19:26 [INFO] Tracklet 68 is legible.\n",
      "2025-03-31 10:19:26 [INFO] Saving legible_tracklets to: c:\\Users\\colin\\OneDrive\\Desktop\\Jersey-Number-Recognition\\data\\SoccerNet\\jersey-2023\\processed_data\\challenge\\68\\legible_results.json\n",
      "2025-03-31 10:19:26 [INFO] Saved legible_tracklets to: c:\\Users\\colin\\OneDrive\\Desktop\\Jersey-Number-Recognition\\data\\SoccerNet\\jersey-2023\\processed_data\\challenge\\68\\legible_results.json\n",
      "2025-03-31 10:19:26 [INFO] Saving illegible_tracklets to: c:\\Users\\colin\\OneDrive\\Desktop\\Jersey-Number-Recognition\\data\\SoccerNet\\jersey-2023\\processed_data\\challenge\\68\\illegible_results.json\n",
      "2025-03-31 10:19:26 [INFO] Saved illegible_tracklets to: c:\\Users\\colin\\OneDrive\\Desktop\\Jersey-Number-Recognition\\data\\SoccerNet\\jersey-2023\\processed_data\\challenge\\68\\illegible_results.json\n",
      "2025-03-31 10:19:26 [INFO] Legibility classification complete.\n",
      "2025-03-31 10:19:26 [INFO] Processed tracklet: 68\n"
     ]
    },
    {
     "name": "stderr",
     "output_type": "stream",
     "text": [
      "Lightning automatically upgraded your loaded checkpoint from v1.1.4 to v2.5.0.post0. To apply the upgrade to your files permanently, run `python -m pytorch_lightning.utilities.upgrade_checkpoint c:\\Users\\colin\\OneDrive\\Desktop\\Jersey-Number-Recognition\\data\\pre_trained_models\\reid\\dukemtmcreid_resnet50_256_128_epoch_120.ckpt`\n"
     ]
    },
    {
     "name": "stdout",
     "output_type": "stream",
     "text": [
      "2025-03-31 10:19:30 [INFO] Median vs. average vs. max of raw outputs (thresh=0.5): 0.46410737931728363, 0.46368815727306134, 0.4937503933906555\n",
      "2025-03-31 10:19:30 [INFO] Median vs. average vs. max of kept outputs (thresh=0.5): 0.0, 0.0, 0.0\n",
      "2025-03-31 10:19:30 [INFO] Tracklet 72 is illegible.\n",
      "2025-03-31 10:19:30 [INFO] Saving legible_tracklets to: c:\\Users\\colin\\OneDrive\\Desktop\\Jersey-Number-Recognition\\data\\SoccerNet\\jersey-2023\\processed_data\\challenge\\72\\legible_results.json\n",
      "2025-03-31 10:19:30 [INFO] Saved legible_tracklets to: c:\\Users\\colin\\OneDrive\\Desktop\\Jersey-Number-Recognition\\data\\SoccerNet\\jersey-2023\\processed_data\\challenge\\72\\legible_results.json\n",
      "2025-03-31 10:19:30 [INFO] Saving illegible_tracklets to: c:\\Users\\colin\\OneDrive\\Desktop\\Jersey-Number-Recognition\\data\\SoccerNet\\jersey-2023\\processed_data\\challenge\\72\\illegible_results.json\n",
      "2025-03-31 10:19:30 [INFO] Saved illegible_tracklets to: c:\\Users\\colin\\OneDrive\\Desktop\\Jersey-Number-Recognition\\data\\SoccerNet\\jersey-2023\\processed_data\\challenge\\72\\illegible_results.json\n",
      "2025-03-31 10:19:31 [INFO] Legibility classification complete.\n",
      "2025-03-31 10:19:31 [INFO] Processed tracklet: 72\n",
      "2025-03-31 10:19:32 [INFO] Saved features for tracklet with shape (493, 2048) to c:\\Users\\colin\\OneDrive\\Desktop\\Jersey-Number-Recognition\\data\\SoccerNet\\jersey-2023\\processed_data\\challenge\\77\\features.npy\n",
      "2025-03-31 10:19:32 [INFO] Identifying and removing outliers by calling gaussian_outliers.py on feature file\n"
     ]
    },
    {
     "name": "stderr",
     "output_type": "stream",
     "text": [
      "Lightning automatically upgraded your loaded checkpoint from v1.1.4 to v2.5.0.post0. To apply the upgrade to your files permanently, run `python -m pytorch_lightning.utilities.upgrade_checkpoint c:\\Users\\colin\\OneDrive\\Desktop\\Jersey-Number-Recognition\\data\\pre_trained_models\\reid\\dukemtmcreid_resnet50_256_128_epoch_120.ckpt`\n"
     ]
    },
    {
     "name": "stdout",
     "output_type": "stream",
     "text": [
      "2025-03-31 10:19:36 [INFO] 2025-03-31 10:19:35 [INFO] Threshold for scores: 0.97, rounds: 1\n",
      "2025-03-31 10:19:35 [INFO] Round 1: Excluded 4 outliers\n",
      "2025-03-31 10:19:35 [INFO] Round 1: Average score: 0.9965587258338928\n",
      "2025-03-31 10:19:35 [INFO] Excluded images: ['75_175.jpg', '75_578.jpg', '75_579.jpg', '75_580.jpg']\n",
      "\n",
      "2025-03-31 10:19:36 [ERROR] \n",
      "2025-03-31 10:19:36 [INFO] Done removing outliers\n",
      "2025-03-31 10:19:36 [INFO] Running model chain on preprocessed image(s).\n",
      "2025-03-31 10:19:36 [INFO] Classifying legibility of image(s) using pre-trained model.\n",
      "2025-03-31 10:19:37 [INFO] Median vs. average vs. max of raw outputs (thresh=0.5): 0.5254024267196655, 0.5235085730350458, 0.5971003770828247\n",
      "2025-03-31 10:19:37 [INFO] Median vs. average vs. max of kept outputs (thresh=0.5): 0.526646614074707, 0.5282304512367476, 0.5971003770828247\n",
      "2025-03-31 10:19:37 [INFO] Tracklet 65 is legible.\n",
      "2025-03-31 10:19:37 [INFO] Saving legible_tracklets to: c:\\Users\\colin\\OneDrive\\Desktop\\Jersey-Number-Recognition\\data\\SoccerNet\\jersey-2023\\processed_data\\challenge\\65\\legible_results.json\n",
      "2025-03-31 10:19:37 [INFO] Saved legible_tracklets to: c:\\Users\\colin\\OneDrive\\Desktop\\Jersey-Number-Recognition\\data\\SoccerNet\\jersey-2023\\processed_data\\challenge\\65\\legible_results.json\n",
      "2025-03-31 10:19:37 [INFO] Saving illegible_tracklets to: c:\\Users\\colin\\OneDrive\\Desktop\\Jersey-Number-Recognition\\data\\SoccerNet\\jersey-2023\\processed_data\\challenge\\65\\illegible_results.json\n",
      "2025-03-31 10:19:37 [INFO] Saved illegible_tracklets to: c:\\Users\\colin\\OneDrive\\Desktop\\Jersey-Number-Recognition\\data\\SoccerNet\\jersey-2023\\processed_data\\challenge\\65\\illegible_results.json\n",
      "2025-03-31 10:19:37 [INFO] Legibility classification complete.\n",
      "2025-03-31 10:19:37 [INFO] Processed tracklet: 65\n",
      "2025-03-31 10:19:37 [INFO] Saved features for tracklet with shape (524, 2048) to c:\\Users\\colin\\OneDrive\\Desktop\\Jersey-Number-Recognition\\data\\SoccerNet\\jersey-2023\\processed_data\\challenge\\78\\features.npy\n",
      "2025-03-31 10:19:37 [INFO] Identifying and removing outliers by calling gaussian_outliers.py on feature file\n"
     ]
    },
    {
     "name": "stderr",
     "output_type": "stream",
     "text": [
      "Lightning automatically upgraded your loaded checkpoint from v1.1.4 to v2.5.0.post0. To apply the upgrade to your files permanently, run `python -m pytorch_lightning.utilities.upgrade_checkpoint c:\\Users\\colin\\OneDrive\\Desktop\\Jersey-Number-Recognition\\data\\pre_trained_models\\reid\\dukemtmcreid_resnet50_256_128_epoch_120.ckpt`\n"
     ]
    },
    {
     "name": "stdout",
     "output_type": "stream",
     "text": [
      "2025-03-31 10:19:42 [INFO] 2025-03-31 10:19:41 [INFO] Threshold for scores: 0.97, rounds: 1\n",
      "2025-03-31 10:19:41 [INFO] Round 1: Excluded 21 outliers\n",
      "2025-03-31 10:19:41 [INFO] Round 1: Average score: 0.9949303269386292\n",
      "2025-03-31 10:19:41 [INFO] Excluded images: ['76_161.jpg', '76_162.jpg', '76_174.jpg', '76_185.jpg', '76_187.jpg', '76_246.jpg', '76_247.jpg', '76_248.jpg', '76_271.jpg', '76_272.jpg', '76_353.jpg', '76_405.jpg', '76_436.jpg', '76_443.jpg', '76_485.jpg', '76_495.jpg', '76_496.jpg', '76_546.jpg', '76_547.jpg', '76_564.jpg', '76_586.jpg']\n",
      "\n",
      "2025-03-31 10:19:42 [ERROR] \n",
      "2025-03-31 10:19:42 [INFO] Done removing outliers\n",
      "2025-03-31 10:19:42 [INFO] Running model chain on preprocessed image(s).\n",
      "2025-03-31 10:19:42 [INFO] Classifying legibility of image(s) using pre-trained model.\n",
      "2025-03-31 10:19:43 [INFO] Median vs. average vs. max of raw outputs (thresh=0.5): 0.5112314224243164, 0.5124539659078893, 0.5531376004219055\n",
      "2025-03-31 10:19:43 [INFO] Median vs. average vs. max of kept outputs (thresh=0.5): 0.5139245390892029, 0.5164280154392229, 0.5531376004219055\n",
      "2025-03-31 10:19:43 [INFO] Tracklet 69 is legible.\n",
      "2025-03-31 10:19:43 [INFO] Saving legible_tracklets to: c:\\Users\\colin\\OneDrive\\Desktop\\Jersey-Number-Recognition\\data\\SoccerNet\\jersey-2023\\processed_data\\challenge\\69\\legible_results.json\n",
      "2025-03-31 10:19:43 [INFO] Saved legible_tracklets to: c:\\Users\\colin\\OneDrive\\Desktop\\Jersey-Number-Recognition\\data\\SoccerNet\\jersey-2023\\processed_data\\challenge\\69\\legible_results.json\n",
      "2025-03-31 10:19:43 [INFO] Saving illegible_tracklets to: c:\\Users\\colin\\OneDrive\\Desktop\\Jersey-Number-Recognition\\data\\SoccerNet\\jersey-2023\\processed_data\\challenge\\69\\illegible_results.json\n",
      "2025-03-31 10:19:43 [INFO] Saved illegible_tracklets to: c:\\Users\\colin\\OneDrive\\Desktop\\Jersey-Number-Recognition\\data\\SoccerNet\\jersey-2023\\processed_data\\challenge\\69\\illegible_results.json\n",
      "2025-03-31 10:19:43 [INFO] Legibility classification complete.\n",
      "2025-03-31 10:19:43 [INFO] Processed tracklet: 69\n",
      "2025-03-31 10:19:45 [INFO] Saved features for tracklet with shape (487, 2048) to c:\\Users\\colin\\OneDrive\\Desktop\\Jersey-Number-Recognition\\data\\SoccerNet\\jersey-2023\\processed_data\\challenge\\79\\features.npy\n",
      "2025-03-31 10:19:45 [INFO] Identifying and removing outliers by calling gaussian_outliers.py on feature file\n"
     ]
    },
    {
     "name": "stderr",
     "output_type": "stream",
     "text": [
      "Lightning automatically upgraded your loaded checkpoint from v1.1.4 to v2.5.0.post0. To apply the upgrade to your files permanently, run `python -m pytorch_lightning.utilities.upgrade_checkpoint c:\\Users\\colin\\OneDrive\\Desktop\\Jersey-Number-Recognition\\data\\pre_trained_models\\reid\\dukemtmcreid_resnet50_256_128_epoch_120.ckpt`\n"
     ]
    },
    {
     "name": "stdout",
     "output_type": "stream",
     "text": [
      "2025-03-31 10:19:49 [INFO] 2025-03-31 10:19:47 [INFO] Threshold for scores: 0.97, rounds: 1\n",
      "2025-03-31 10:19:47 [INFO] Round 1: Excluded 7 outliers\n",
      "2025-03-31 10:19:47 [INFO] Round 1: Average score: 0.9965685606002808\n",
      "2025-03-31 10:19:47 [INFO] Excluded images: ['77_172.jpg', '77_173.jpg', '77_174.jpg', '77_570.jpg', '77_571.jpg', '77_573.jpg', '77_579.jpg']\n",
      "\n",
      "2025-03-31 10:19:49 [ERROR] \n",
      "2025-03-31 10:19:49 [INFO] Done removing outliers\n",
      "2025-03-31 10:19:49 [INFO] Running model chain on preprocessed image(s).\n",
      "2025-03-31 10:19:49 [INFO] Classifying legibility of image(s) using pre-trained model.\n",
      "2025-03-31 10:19:50 [INFO] Median vs. average vs. max of raw outputs (thresh=0.5): 0.46236729621887207, 0.4631303603699944, 0.5022352337837219\n",
      "2025-03-31 10:19:50 [INFO] Median vs. average vs. max of kept outputs (thresh=0.5): 0.5010455250740051, 0.5012234896421432, 0.5022352337837219\n",
      "2025-03-31 10:19:50 [INFO] Tracklet 67 is legible.\n",
      "2025-03-31 10:19:50 [INFO] Saving legible_tracklets to: c:\\Users\\colin\\OneDrive\\Desktop\\Jersey-Number-Recognition\\data\\SoccerNet\\jersey-2023\\processed_data\\challenge\\67\\legible_results.json\n",
      "2025-03-31 10:19:50 [INFO] Saved legible_tracklets to: c:\\Users\\colin\\OneDrive\\Desktop\\Jersey-Number-Recognition\\data\\SoccerNet\\jersey-2023\\processed_data\\challenge\\67\\legible_results.json\n",
      "2025-03-31 10:19:50 [INFO] Saving illegible_tracklets to: c:\\Users\\colin\\OneDrive\\Desktop\\Jersey-Number-Recognition\\data\\SoccerNet\\jersey-2023\\processed_data\\challenge\\67\\illegible_results.json\n",
      "2025-03-31 10:19:50 [INFO] Saved illegible_tracklets to: c:\\Users\\colin\\OneDrive\\Desktop\\Jersey-Number-Recognition\\data\\SoccerNet\\jersey-2023\\processed_data\\challenge\\67\\illegible_results.json\n",
      "2025-03-31 10:19:50 [INFO] Legibility classification complete.\n",
      "2025-03-31 10:19:50 [INFO] Processed tracklet: 67\n",
      "2025-03-31 10:19:53 [INFO] Saved features for tracklet with shape (373, 2048) to c:\\Users\\colin\\OneDrive\\Desktop\\Jersey-Number-Recognition\\data\\SoccerNet\\jersey-2023\\processed_data\\challenge\\80\\features.npy\n",
      "2025-03-31 10:19:54 [INFO] Identifying and removing outliers by calling gaussian_outliers.py on feature file\n"
     ]
    },
    {
     "name": "stderr",
     "output_type": "stream",
     "text": [
      "Lightning automatically upgraded your loaded checkpoint from v1.1.4 to v2.5.0.post0. To apply the upgrade to your files permanently, run `python -m pytorch_lightning.utilities.upgrade_checkpoint c:\\Users\\colin\\OneDrive\\Desktop\\Jersey-Number-Recognition\\data\\pre_trained_models\\reid\\dukemtmcreid_resnet50_256_128_epoch_120.ckpt`\n"
     ]
    },
    {
     "name": "stdout",
     "output_type": "stream",
     "text": [
      "2025-03-31 10:19:54 [INFO] Median vs. average vs. max of raw outputs (thresh=0.5): 0.38740573823451996, 0.3886790183709941, 0.4184151291847229\n",
      "2025-03-31 10:19:54 [INFO] Median vs. average vs. max of kept outputs (thresh=0.5): 0.0, 0.0, 0.0\n",
      "2025-03-31 10:19:54 [INFO] Tracklet 73 is illegible.\n",
      "2025-03-31 10:19:54 [INFO] Saving legible_tracklets to: c:\\Users\\colin\\OneDrive\\Desktop\\Jersey-Number-Recognition\\data\\SoccerNet\\jersey-2023\\processed_data\\challenge\\73\\legible_results.json\n",
      "2025-03-31 10:19:54 [INFO] Saved legible_tracklets to: c:\\Users\\colin\\OneDrive\\Desktop\\Jersey-Number-Recognition\\data\\SoccerNet\\jersey-2023\\processed_data\\challenge\\73\\legible_results.json\n",
      "2025-03-31 10:19:54 [INFO] Saving illegible_tracklets to: c:\\Users\\colin\\OneDrive\\Desktop\\Jersey-Number-Recognition\\data\\SoccerNet\\jersey-2023\\processed_data\\challenge\\73\\illegible_results.json\n",
      "2025-03-31 10:19:54 [INFO] Saved illegible_tracklets to: c:\\Users\\colin\\OneDrive\\Desktop\\Jersey-Number-Recognition\\data\\SoccerNet\\jersey-2023\\processed_data\\challenge\\73\\illegible_results.json\n",
      "2025-03-31 10:19:54 [INFO] Legibility classification complete.\n",
      "2025-03-31 10:19:54 [INFO] Processed tracklet: 73\n",
      "2025-03-31 10:19:56 [INFO] 2025-03-31 10:19:54 [INFO] Threshold for scores: 0.97, rounds: 1\n",
      "2025-03-31 10:19:54 [INFO] Round 1: Excluded 21 outliers\n",
      "2025-03-31 10:19:54 [INFO] Round 1: Average score: 0.9928475618362427\n",
      "2025-03-31 10:19:54 [INFO] Excluded images: ['78_103.jpg', '78_105.jpg', '78_106.jpg', '78_107.jpg', '78_108.jpg', '78_109.jpg', '78_110.jpg', '78_111.jpg', '78_195.jpg', '78_196.jpg', '78_205.jpg', '78_206.jpg', '78_207.jpg', '78_208.jpg', '78_209.jpg', '78_570.jpg', '78_571.jpg', '78_572.jpg', '78_573.jpg', '78_585.jpg', '78_599.jpg']\n",
      "\n",
      "2025-03-31 10:19:56 [ERROR] \n",
      "2025-03-31 10:19:56 [INFO] Done removing outliers\n",
      "2025-03-31 10:19:56 [INFO] Running model chain on preprocessed image(s).\n",
      "2025-03-31 10:19:56 [INFO] Classifying legibility of image(s) using pre-trained model.\n",
      "2025-03-31 10:19:56 [INFO] Median vs. average vs. max of raw outputs (thresh=0.5): 0.48627424240112305, 0.48030628859996793, 0.542151927947998\n",
      "2025-03-31 10:19:56 [INFO] Median vs. average vs. max of kept outputs (thresh=0.5): 0.5096274018287659, 0.5110494747626043, 0.542151927947998\n",
      "2025-03-31 10:19:56 [INFO] Tracklet 75 is legible.\n",
      "2025-03-31 10:19:56 [INFO] Saving legible_tracklets to: c:\\Users\\colin\\OneDrive\\Desktop\\Jersey-Number-Recognition\\data\\SoccerNet\\jersey-2023\\processed_data\\challenge\\75\\legible_results.json\n",
      "2025-03-31 10:19:56 [INFO] Saved legible_tracklets to: c:\\Users\\colin\\OneDrive\\Desktop\\Jersey-Number-Recognition\\data\\SoccerNet\\jersey-2023\\processed_data\\challenge\\75\\legible_results.json\n",
      "2025-03-31 10:19:56 [INFO] Saving illegible_tracklets to: c:\\Users\\colin\\OneDrive\\Desktop\\Jersey-Number-Recognition\\data\\SoccerNet\\jersey-2023\\processed_data\\challenge\\75\\illegible_results.json\n",
      "2025-03-31 10:19:56 [INFO] Saved illegible_tracklets to: c:\\Users\\colin\\OneDrive\\Desktop\\Jersey-Number-Recognition\\data\\SoccerNet\\jersey-2023\\processed_data\\challenge\\75\\illegible_results.json\n",
      "2025-03-31 10:19:56 [INFO] Legibility classification complete.\n",
      "2025-03-31 10:19:56 [INFO] Processed tracklet: 75\n",
      "2025-03-31 10:20:00 [INFO] Saved features for tracklet with shape (435, 2048) to c:\\Users\\colin\\OneDrive\\Desktop\\Jersey-Number-Recognition\\data\\SoccerNet\\jersey-2023\\processed_data\\challenge\\81\\features.npy\n",
      "2025-03-31 10:20:00 [INFO] Identifying and removing outliers by calling gaussian_outliers.py on feature file\n"
     ]
    },
    {
     "name": "stderr",
     "output_type": "stream",
     "text": [
      "Lightning automatically upgraded your loaded checkpoint from v1.1.4 to v2.5.0.post0. To apply the upgrade to your files permanently, run `python -m pytorch_lightning.utilities.upgrade_checkpoint c:\\Users\\colin\\OneDrive\\Desktop\\Jersey-Number-Recognition\\data\\pre_trained_models\\reid\\dukemtmcreid_resnet50_256_128_epoch_120.ckpt`\n"
     ]
    },
    {
     "name": "stdout",
     "output_type": "stream",
     "text": [
      "2025-03-31 10:20:01 [INFO] Median vs. average vs. max of raw outputs (thresh=0.5): 0.5367279648780823, 0.53488815825614, 0.5613462328910828\n",
      "2025-03-31 10:20:01 [INFO] Median vs. average vs. max of kept outputs (thresh=0.5): 0.5368131995201111, 0.5349392997825163, 0.5613462328910828\n",
      "2025-03-31 10:20:01 [INFO] Tracklet 70 is legible.\n",
      "2025-03-31 10:20:01 [INFO] Saving legible_tracklets to: c:\\Users\\colin\\OneDrive\\Desktop\\Jersey-Number-Recognition\\data\\SoccerNet\\jersey-2023\\processed_data\\challenge\\70\\legible_results.json\n",
      "2025-03-31 10:20:01 [INFO] Saved legible_tracklets to: c:\\Users\\colin\\OneDrive\\Desktop\\Jersey-Number-Recognition\\data\\SoccerNet\\jersey-2023\\processed_data\\challenge\\70\\legible_results.json\n",
      "2025-03-31 10:20:01 [INFO] Saving illegible_tracklets to: c:\\Users\\colin\\OneDrive\\Desktop\\Jersey-Number-Recognition\\data\\SoccerNet\\jersey-2023\\processed_data\\challenge\\70\\illegible_results.json\n",
      "2025-03-31 10:20:01 [INFO] Saved illegible_tracklets to: c:\\Users\\colin\\OneDrive\\Desktop\\Jersey-Number-Recognition\\data\\SoccerNet\\jersey-2023\\processed_data\\challenge\\70\\illegible_results.json\n",
      "2025-03-31 10:20:01 [INFO] Legibility classification complete.\n",
      "2025-03-31 10:20:01 [INFO] Processed tracklet: 70\n",
      "2025-03-31 10:20:02 [INFO] 2025-03-31 10:20:01 [INFO] Threshold for scores: 0.97, rounds: 1\n",
      "2025-03-31 10:20:01 [INFO] Round 1: Excluded 4 outliers\n",
      "2025-03-31 10:20:01 [INFO] Round 1: Average score: 0.9968615770339966\n",
      "2025-03-31 10:20:01 [INFO] Excluded images: ['79_479.jpg', '79_480.jpg', '79_481.jpg', '79_620.jpg']\n",
      "\n",
      "2025-03-31 10:20:02 [ERROR] \n",
      "2025-03-31 10:20:02 [INFO] Done removing outliers\n",
      "2025-03-31 10:20:02 [INFO] Running model chain on preprocessed image(s).\n",
      "2025-03-31 10:20:02 [INFO] Classifying legibility of image(s) using pre-trained model.\n",
      "2025-03-31 10:20:04 [INFO] Median vs. average vs. max of raw outputs (thresh=0.5): 0.6202552616596222, 0.617937095917254, 0.6615436673164368\n",
      "2025-03-31 10:20:04 [INFO] Median vs. average vs. max of kept outputs (thresh=0.5): 0.6202552616596222, 0.617937095917254, 0.6615436673164368\n",
      "2025-03-31 10:20:04 [INFO] Tracklet 74 is legible.\n",
      "2025-03-31 10:20:04 [INFO] Saving legible_tracklets to: c:\\Users\\colin\\OneDrive\\Desktop\\Jersey-Number-Recognition\\data\\SoccerNet\\jersey-2023\\processed_data\\challenge\\74\\legible_results.json\n",
      "2025-03-31 10:20:04 [INFO] Saved legible_tracklets to: c:\\Users\\colin\\OneDrive\\Desktop\\Jersey-Number-Recognition\\data\\SoccerNet\\jersey-2023\\processed_data\\challenge\\74\\legible_results.json\n",
      "2025-03-31 10:20:04 [INFO] Saving illegible_tracklets to: c:\\Users\\colin\\OneDrive\\Desktop\\Jersey-Number-Recognition\\data\\SoccerNet\\jersey-2023\\processed_data\\challenge\\74\\illegible_results.json\n",
      "2025-03-31 10:20:04 [INFO] Saved illegible_tracklets to: c:\\Users\\colin\\OneDrive\\Desktop\\Jersey-Number-Recognition\\data\\SoccerNet\\jersey-2023\\processed_data\\challenge\\74\\illegible_results.json\n",
      "2025-03-31 10:20:04 [INFO] Legibility classification complete.\n",
      "2025-03-31 10:20:04 [INFO] Processed tracklet: 74\n",
      "2025-03-31 10:20:06 [INFO] Saved features for tracklet with shape (376, 2048) to c:\\Users\\colin\\OneDrive\\Desktop\\Jersey-Number-Recognition\\data\\SoccerNet\\jersey-2023\\processed_data\\challenge\\82\\features.npy\n",
      "2025-03-31 10:20:06 [INFO] Identifying and removing outliers by calling gaussian_outliers.py on feature file\n"
     ]
    },
    {
     "name": "stderr",
     "output_type": "stream",
     "text": [
      "Lightning automatically upgraded your loaded checkpoint from v1.1.4 to v2.5.0.post0. To apply the upgrade to your files permanently, run `python -m pytorch_lightning.utilities.upgrade_checkpoint c:\\Users\\colin\\OneDrive\\Desktop\\Jersey-Number-Recognition\\data\\pre_trained_models\\reid\\dukemtmcreid_resnet50_256_128_epoch_120.ckpt`\n"
     ]
    },
    {
     "name": "stdout",
     "output_type": "stream",
     "text": [
      "2025-03-31 10:20:09 [INFO] Median vs. average vs. max of raw outputs (thresh=0.5): 0.5564728379249573, 0.5549146519521627, 0.5804013013839722\n",
      "2025-03-31 10:20:09 [INFO] Median vs. average vs. max of kept outputs (thresh=0.5): 0.5564728379249573, 0.5549146519521627, 0.5804013013839722\n",
      "2025-03-31 10:20:09 [INFO] Tracklet 77 is legible.\n",
      "2025-03-31 10:20:09 [INFO] Saving legible_tracklets to: c:\\Users\\colin\\OneDrive\\Desktop\\Jersey-Number-Recognition\\data\\SoccerNet\\jersey-2023\\processed_data\\challenge\\77\\legible_results.json\n",
      "2025-03-31 10:20:09 [INFO] Saved legible_tracklets to: c:\\Users\\colin\\OneDrive\\Desktop\\Jersey-Number-Recognition\\data\\SoccerNet\\jersey-2023\\processed_data\\challenge\\77\\legible_results.json\n",
      "2025-03-31 10:20:09 [INFO] Saving illegible_tracklets to: c:\\Users\\colin\\OneDrive\\Desktop\\Jersey-Number-Recognition\\data\\SoccerNet\\jersey-2023\\processed_data\\challenge\\77\\illegible_results.json\n",
      "2025-03-31 10:20:09 [INFO] Saved illegible_tracklets to: c:\\Users\\colin\\OneDrive\\Desktop\\Jersey-Number-Recognition\\data\\SoccerNet\\jersey-2023\\processed_data\\challenge\\77\\illegible_results.json\n",
      "2025-03-31 10:20:09 [INFO] Legibility classification complete.\n",
      "2025-03-31 10:20:09 [INFO] Processed tracklet: 77\n",
      "2025-03-31 10:20:11 [INFO] Saved features for tracklet with shape (419, 2048) to c:\\Users\\colin\\OneDrive\\Desktop\\Jersey-Number-Recognition\\data\\SoccerNet\\jersey-2023\\processed_data\\challenge\\84\\features.npy\n",
      "2025-03-31 10:20:11 [INFO] Identifying and removing outliers by calling gaussian_outliers.py on feature file\n"
     ]
    },
    {
     "name": "stderr",
     "output_type": "stream",
     "text": [
      "Lightning automatically upgraded your loaded checkpoint from v1.1.4 to v2.5.0.post0. To apply the upgrade to your files permanently, run `python -m pytorch_lightning.utilities.upgrade_checkpoint c:\\Users\\colin\\OneDrive\\Desktop\\Jersey-Number-Recognition\\data\\pre_trained_models\\reid\\dukemtmcreid_resnet50_256_128_epoch_120.ckpt`\n"
     ]
    },
    {
     "name": "stdout",
     "output_type": "stream",
     "text": [
      "2025-03-31 10:20:12 [INFO] 2025-03-31 10:20:10 [INFO] Threshold for scores: 0.97, rounds: 1\n",
      "2025-03-31 10:20:10 [INFO] Round 1: Excluded 23 outliers\n",
      "2025-03-31 10:20:10 [INFO] Round 1: Average score: 0.9809175729751587\n",
      "2025-03-31 10:20:10 [INFO] Excluded images: ['80_205.jpg', '80_206.jpg', '80_207.jpg', '80_326.jpg', '80_570.jpg', '80_571.jpg', '80_572.jpg', '80_573.jpg', '80_579.jpg', '80_580.jpg', '80_581.jpg', '80_583.jpg', '80_587.jpg', '80_588.jpg', '80_589.jpg', '80_591.jpg', '80_592.jpg', '80_593.jpg', '80_595.jpg', '80_596.jpg', '80_597.jpg', '80_598.jpg', '80_605.jpg']\n",
      "\n",
      "2025-03-31 10:20:12 [ERROR] \n",
      "2025-03-31 10:20:12 [INFO] Done removing outliers\n",
      "2025-03-31 10:20:12 [INFO] Running model chain on preprocessed image(s).\n",
      "2025-03-31 10:20:12 [INFO] Classifying legibility of image(s) using pre-trained model.\n",
      "2025-03-31 10:20:15 [INFO] Median vs. average vs. max of raw outputs (thresh=0.5): 0.5579037070274353, 0.5568955048889099, 0.6014201641082764\n",
      "2025-03-31 10:20:15 [INFO] Median vs. average vs. max of kept outputs (thresh=0.5): 0.5579037070274353, 0.5568955048889099, 0.6014201641082764\n",
      "2025-03-31 10:20:15 [INFO] Tracklet 78 is legible.\n",
      "2025-03-31 10:20:15 [INFO] Saving legible_tracklets to: c:\\Users\\colin\\OneDrive\\Desktop\\Jersey-Number-Recognition\\data\\SoccerNet\\jersey-2023\\processed_data\\challenge\\78\\legible_results.json\n",
      "2025-03-31 10:20:15 [INFO] Saved legible_tracklets to: c:\\Users\\colin\\OneDrive\\Desktop\\Jersey-Number-Recognition\\data\\SoccerNet\\jersey-2023\\processed_data\\challenge\\78\\legible_results.json\n",
      "2025-03-31 10:20:15 [INFO] Saving illegible_tracklets to: c:\\Users\\colin\\OneDrive\\Desktop\\Jersey-Number-Recognition\\data\\SoccerNet\\jersey-2023\\processed_data\\challenge\\78\\illegible_results.json\n",
      "2025-03-31 10:20:15 [INFO] Saved illegible_tracklets to: c:\\Users\\colin\\OneDrive\\Desktop\\Jersey-Number-Recognition\\data\\SoccerNet\\jersey-2023\\processed_data\\challenge\\78\\illegible_results.json\n",
      "2025-03-31 10:20:15 [INFO] Legibility classification complete.\n",
      "2025-03-31 10:20:15 [INFO] Processed tracklet: 78\n",
      "2025-03-31 10:20:15 [INFO] Saved features for tracklet with shape (416, 2048) to c:\\Users\\colin\\OneDrive\\Desktop\\Jersey-Number-Recognition\\data\\SoccerNet\\jersey-2023\\processed_data\\challenge\\85\\features.npy\n",
      "2025-03-31 10:20:15 [INFO] Identifying and removing outliers by calling gaussian_outliers.py on feature file\n"
     ]
    },
    {
     "name": "stderr",
     "output_type": "stream",
     "text": [
      "Lightning automatically upgraded your loaded checkpoint from v1.1.4 to v2.5.0.post0. To apply the upgrade to your files permanently, run `python -m pytorch_lightning.utilities.upgrade_checkpoint c:\\Users\\colin\\OneDrive\\Desktop\\Jersey-Number-Recognition\\data\\pre_trained_models\\reid\\dukemtmcreid_resnet50_256_128_epoch_120.ckpt`\n"
     ]
    },
    {
     "name": "stdout",
     "output_type": "stream",
     "text": [
      "2025-03-31 10:20:18 [INFO] 2025-03-31 10:20:16 [INFO] Threshold for scores: 0.97, rounds: 1\n",
      "2025-03-31 10:20:17 [INFO] Round 1: Excluded 41 outliers\n",
      "2025-03-31 10:20:17 [INFO] Round 1: Average score: 0.9878318905830383\n",
      "2025-03-31 10:20:17 [INFO] Excluded images: ['81_163.jpg', '81_164.jpg', '81_176.jpg', '81_187.jpg', '81_188.jpg', '81_189.jpg', '81_200.jpg', '81_201.jpg', '81_202.jpg', '81_204.jpg', '81_205.jpg', '81_206.jpg', '81_207.jpg', '81_208.jpg', '81_209.jpg', '81_210.jpg', '81_211.jpg', '81_453.jpg', '81_609.jpg', '81_610.jpg', '81_676.jpg', '81_677.jpg', '81_680.jpg', '81_681.jpg', '81_682.jpg', '81_683.jpg', '81_684.jpg', '81_687.jpg', '81_688.jpg', '81_692.jpg', '81_696.jpg', '81_697.jpg', '81_698.jpg', '81_699.jpg', '81_704.jpg', '81_705.jpg', '81_706.jpg', '81_713.jpg', '81_716.jpg', '81_743.jpg', '81_750.jpg']\n",
      "\n",
      "2025-03-31 10:20:18 [ERROR] \n",
      "2025-03-31 10:20:18 [INFO] Done removing outliers\n",
      "2025-03-31 10:20:18 [INFO] Running model chain on preprocessed image(s).\n",
      "2025-03-31 10:20:18 [INFO] Classifying legibility of image(s) using pre-trained model.\n",
      "2025-03-31 10:20:20 [INFO] Saved features for tracklet with shape (343, 2048) to c:\\Users\\colin\\OneDrive\\Desktop\\Jersey-Number-Recognition\\data\\SoccerNet\\jersey-2023\\processed_data\\challenge\\86\\features.npy\n",
      "2025-03-31 10:20:20 [INFO] Identifying and removing outliers by calling gaussian_outliers.py on feature file\n"
     ]
    },
    {
     "name": "stderr",
     "output_type": "stream",
     "text": [
      "Lightning automatically upgraded your loaded checkpoint from v1.1.4 to v2.5.0.post0. To apply the upgrade to your files permanently, run `python -m pytorch_lightning.utilities.upgrade_checkpoint c:\\Users\\colin\\OneDrive\\Desktop\\Jersey-Number-Recognition\\data\\pre_trained_models\\reid\\dukemtmcreid_resnet50_256_128_epoch_120.ckpt`\n"
     ]
    },
    {
     "name": "stdout",
     "output_type": "stream",
     "text": [
      "2025-03-31 10:20:21 [INFO] Median vs. average vs. max of raw outputs (thresh=0.5): 0.5163969993591309, 0.5169421158592153, 0.5396838784217834\n",
      "2025-03-31 10:20:21 [INFO] Median vs. average vs. max of kept outputs (thresh=0.5): 0.5164221227169037, 0.5169818239340643, 0.5396838784217834\n",
      "2025-03-31 10:20:21 [INFO] Tracklet 79 is legible.\n",
      "2025-03-31 10:20:21 [INFO] Saving legible_tracklets to: c:\\Users\\colin\\OneDrive\\Desktop\\Jersey-Number-Recognition\\data\\SoccerNet\\jersey-2023\\processed_data\\challenge\\79\\legible_results.json\n",
      "2025-03-31 10:20:21 [INFO] Saved legible_tracklets to: c:\\Users\\colin\\OneDrive\\Desktop\\Jersey-Number-Recognition\\data\\SoccerNet\\jersey-2023\\processed_data\\challenge\\79\\legible_results.json\n",
      "2025-03-31 10:20:21 [INFO] Saving illegible_tracklets to: c:\\Users\\colin\\OneDrive\\Desktop\\Jersey-Number-Recognition\\data\\SoccerNet\\jersey-2023\\processed_data\\challenge\\79\\illegible_results.json\n",
      "2025-03-31 10:20:21 [INFO] Saved illegible_tracklets to: c:\\Users\\colin\\OneDrive\\Desktop\\Jersey-Number-Recognition\\data\\SoccerNet\\jersey-2023\\processed_data\\challenge\\79\\illegible_results.json\n",
      "2025-03-31 10:20:21 [INFO] Legibility classification complete.\n",
      "2025-03-31 10:20:21 [INFO] Processed tracklet: 79\n",
      "2025-03-31 10:20:23 [INFO] 2025-03-31 10:20:22 [INFO] Threshold for scores: 0.97, rounds: 1\n",
      "2025-03-31 10:20:22 [INFO] Round 1: Excluded 7 outliers\n",
      "2025-03-31 10:20:22 [INFO] Round 1: Average score: 0.9946610331535339\n",
      "2025-03-31 10:20:22 [INFO] Excluded images: ['82_168.jpg', '82_253.jpg', '82_254.jpg', '82_255.jpg', '82_273.jpg', '82_442.jpg', '82_601.jpg']\n",
      "\n",
      "2025-03-31 10:20:23 [ERROR] \n",
      "2025-03-31 10:20:23 [INFO] Done removing outliers\n",
      "2025-03-31 10:20:23 [INFO] Running model chain on preprocessed image(s).\n",
      "2025-03-31 10:20:23 [INFO] Classifying legibility of image(s) using pre-trained model.\n",
      "2025-03-31 10:20:24 [INFO] Saved features for tracklet with shape (161, 2048) to c:\\Users\\colin\\OneDrive\\Desktop\\Jersey-Number-Recognition\\data\\SoccerNet\\jersey-2023\\processed_data\\challenge\\87\\features.npy\n",
      "2025-03-31 10:20:24 [INFO] Identifying and removing outliers by calling gaussian_outliers.py on feature file\n"
     ]
    },
    {
     "name": "stderr",
     "output_type": "stream",
     "text": [
      "Lightning automatically upgraded your loaded checkpoint from v1.1.4 to v2.5.0.post0. To apply the upgrade to your files permanently, run `python -m pytorch_lightning.utilities.upgrade_checkpoint c:\\Users\\colin\\OneDrive\\Desktop\\Jersey-Number-Recognition\\data\\pre_trained_models\\reid\\dukemtmcreid_resnet50_256_128_epoch_120.ckpt`\n"
     ]
    },
    {
     "name": "stdout",
     "output_type": "stream",
     "text": [
      "2025-03-31 10:20:29 [INFO] 2025-03-31 10:20:27 [INFO] Threshold for scores: 0.97, rounds: 1\n",
      "2025-03-31 10:20:27 [INFO] Round 1: Excluded 22 outliers\n",
      "2025-03-31 10:20:27 [INFO] Round 1: Average score: 0.9911590814590454\n",
      "2025-03-31 10:20:27 [INFO] Excluded images: ['84_181.jpg', '84_182.jpg', '84_185.jpg', '84_186.jpg', '84_187.jpg', '84_206.jpg', '84_207.jpg', '84_256.jpg', '84_257.jpg', '84_302.jpg', '84_303.jpg', '84_328.jpg', '84_329.jpg', '84_579.jpg', '84_580.jpg', '84_581.jpg', '84_582.jpg', '84_583.jpg', '84_587.jpg', '84_589.jpg', '84_598.jpg', '84_599.jpg']\n",
      "\n",
      "2025-03-31 10:20:29 [ERROR] \n",
      "2025-03-31 10:20:29 [INFO] Done removing outliers\n",
      "2025-03-31 10:20:29 [INFO] Running model chain on preprocessed image(s).\n",
      "2025-03-31 10:20:29 [INFO] Classifying legibility of image(s) using pre-trained model.\n",
      "2025-03-31 10:20:30 [INFO] Median vs. average vs. max of raw outputs (thresh=0.5): 0.5719288289546967, 0.5719242644309998, 0.623291552066803\n",
      "2025-03-31 10:20:30 [INFO] Median vs. average vs. max of kept outputs (thresh=0.5): 0.5719288289546967, 0.5719242644309998, 0.623291552066803\n",
      "2025-03-31 10:20:30 [INFO] Tracklet 80 is legible.\n",
      "2025-03-31 10:20:30 [INFO] Saving legible_tracklets to: c:\\Users\\colin\\OneDrive\\Desktop\\Jersey-Number-Recognition\\data\\SoccerNet\\jersey-2023\\processed_data\\challenge\\80\\legible_results.json\n",
      "2025-03-31 10:20:30 [INFO] Saved legible_tracklets to: c:\\Users\\colin\\OneDrive\\Desktop\\Jersey-Number-Recognition\\data\\SoccerNet\\jersey-2023\\processed_data\\challenge\\80\\legible_results.json\n",
      "2025-03-31 10:20:30 [INFO] Saving illegible_tracklets to: c:\\Users\\colin\\OneDrive\\Desktop\\Jersey-Number-Recognition\\data\\SoccerNet\\jersey-2023\\processed_data\\challenge\\80\\illegible_results.json\n",
      "2025-03-31 10:20:30 [INFO] Saved illegible_tracklets to: c:\\Users\\colin\\OneDrive\\Desktop\\Jersey-Number-Recognition\\data\\SoccerNet\\jersey-2023\\processed_data\\challenge\\80\\illegible_results.json\n",
      "2025-03-31 10:20:30 [INFO] Legibility classification complete.\n",
      "2025-03-31 10:20:30 [INFO] Processed tracklet: 80\n",
      "2025-03-31 10:20:31 [INFO] Saved features for tracklet with shape (282, 2048) to c:\\Users\\colin\\OneDrive\\Desktop\\Jersey-Number-Recognition\\data\\SoccerNet\\jersey-2023\\processed_data\\challenge\\88\\features.npy\n",
      "2025-03-31 10:20:31 [INFO] Identifying and removing outliers by calling gaussian_outliers.py on feature file\n"
     ]
    },
    {
     "name": "stderr",
     "output_type": "stream",
     "text": [
      "Lightning automatically upgraded your loaded checkpoint from v1.1.4 to v2.5.0.post0. To apply the upgrade to your files permanently, run `python -m pytorch_lightning.utilities.upgrade_checkpoint c:\\Users\\colin\\OneDrive\\Desktop\\Jersey-Number-Recognition\\data\\pre_trained_models\\reid\\dukemtmcreid_resnet50_256_128_epoch_120.ckpt`\n"
     ]
    },
    {
     "name": "stdout",
     "output_type": "stream",
     "text": [
      "2025-03-31 10:20:33 [INFO] 2025-03-31 10:20:32 [INFO] Threshold for scores: 0.97, rounds: 1\n",
      "2025-03-31 10:20:32 [INFO] Round 1: Excluded 47 outliers\n",
      "2025-03-31 10:20:32 [INFO] Round 1: Average score: 0.9812021851539612\n",
      "2025-03-31 10:20:32 [INFO] Excluded images: ['85_188.jpg', '85_189.jpg', '85_190.jpg', '85_191.jpg', '85_192.jpg', '85_193.jpg', '85_194.jpg', '85_195.jpg', '85_196.jpg', '85_197.jpg', '85_198.jpg', '85_199.jpg', '85_200.jpg', '85_201.jpg', '85_202.jpg', '85_203.jpg', '85_204.jpg', '85_205.jpg', '85_206.jpg', '85_207.jpg', '85_208.jpg', '85_209.jpg', '85_210.jpg', '85_211.jpg', '85_212.jpg', '85_213.jpg', '85_214.jpg', '85_215.jpg', '85_216.jpg', '85_217.jpg', '85_218.jpg', '85_246.jpg', '85_247.jpg', '85_248.jpg', '85_249.jpg', '85_250.jpg', '85_251.jpg', '85_252.jpg', '85_253.jpg', '85_254.jpg', '85_256.jpg', '85_259.jpg', '85_260.jpg', '85_583.jpg', '85_584.jpg', '85_586.jpg', '85_603.jpg']\n",
      "\n",
      "2025-03-31 10:20:33 [ERROR] \n",
      "2025-03-31 10:20:33 [INFO] Done removing outliers\n",
      "2025-03-31 10:20:33 [INFO] Running model chain on preprocessed image(s).\n",
      "2025-03-31 10:20:33 [INFO] Classifying legibility of image(s) using pre-trained model.\n",
      "2025-03-31 10:20:35 [INFO] Median vs. average vs. max of raw outputs (thresh=0.5): 0.4686552435159683, 0.46672149688617226, 0.5186446309089661\n",
      "2025-03-31 10:20:35 [INFO] Median vs. average vs. max of kept outputs (thresh=0.5): 0.5046336054801941, 0.5063548621378446, 0.5186446309089661\n",
      "2025-03-31 10:20:35 [INFO] Tracklet 76 is legible.\n",
      "2025-03-31 10:20:35 [INFO] Saving legible_tracklets to: c:\\Users\\colin\\OneDrive\\Desktop\\Jersey-Number-Recognition\\data\\SoccerNet\\jersey-2023\\processed_data\\challenge\\76\\legible_results.json\n",
      "2025-03-31 10:20:35 [INFO] Saved legible_tracklets to: c:\\Users\\colin\\OneDrive\\Desktop\\Jersey-Number-Recognition\\data\\SoccerNet\\jersey-2023\\processed_data\\challenge\\76\\legible_results.json\n",
      "2025-03-31 10:20:35 [INFO] Saving illegible_tracklets to: c:\\Users\\colin\\OneDrive\\Desktop\\Jersey-Number-Recognition\\data\\SoccerNet\\jersey-2023\\processed_data\\challenge\\76\\illegible_results.json\n",
      "2025-03-31 10:20:35 [INFO] Saved illegible_tracklets to: c:\\Users\\colin\\OneDrive\\Desktop\\Jersey-Number-Recognition\\data\\SoccerNet\\jersey-2023\\processed_data\\challenge\\76\\illegible_results.json\n",
      "2025-03-31 10:20:35 [INFO] Legibility classification complete.\n",
      "2025-03-31 10:20:35 [INFO] Processed tracklet: 76\n",
      "2025-03-31 10:20:37 [INFO] Saved features for tracklet with shape (336, 2048) to c:\\Users\\colin\\OneDrive\\Desktop\\Jersey-Number-Recognition\\data\\SoccerNet\\jersey-2023\\processed_data\\challenge\\83\\features.npy\n",
      "2025-03-31 10:20:37 [INFO] Identifying and removing outliers by calling gaussian_outliers.py on feature file\n"
     ]
    },
    {
     "name": "stderr",
     "output_type": "stream",
     "text": [
      "Lightning automatically upgraded your loaded checkpoint from v1.1.4 to v2.5.0.post0. To apply the upgrade to your files permanently, run `python -m pytorch_lightning.utilities.upgrade_checkpoint c:\\Users\\colin\\OneDrive\\Desktop\\Jersey-Number-Recognition\\data\\pre_trained_models\\reid\\dukemtmcreid_resnet50_256_128_epoch_120.ckpt`\n"
     ]
    },
    {
     "name": "stdout",
     "output_type": "stream",
     "text": [
      "2025-03-31 10:20:38 [INFO] Median vs. average vs. max of raw outputs (thresh=0.5): 0.4760735481977463, 0.47479524951295804, 0.5095895528793335\n",
      "2025-03-31 10:20:38 [INFO] Median vs. average vs. max of kept outputs (thresh=0.5): 0.5018932223320007, 0.504112442334493, 0.5095895528793335\n",
      "2025-03-31 10:20:38 [INFO] Tracklet 81 is legible.\n",
      "2025-03-31 10:20:38 [INFO] Saving legible_tracklets to: c:\\Users\\colin\\OneDrive\\Desktop\\Jersey-Number-Recognition\\data\\SoccerNet\\jersey-2023\\processed_data\\challenge\\81\\legible_results.json\n",
      "2025-03-31 10:20:38 [INFO] Saved legible_tracklets to: c:\\Users\\colin\\OneDrive\\Desktop\\Jersey-Number-Recognition\\data\\SoccerNet\\jersey-2023\\processed_data\\challenge\\81\\legible_results.json\n",
      "2025-03-31 10:20:38 [INFO] Saving illegible_tracklets to: c:\\Users\\colin\\OneDrive\\Desktop\\Jersey-Number-Recognition\\data\\SoccerNet\\jersey-2023\\processed_data\\challenge\\81\\illegible_results.json\n",
      "2025-03-31 10:20:38 [INFO] Saved illegible_tracklets to: c:\\Users\\colin\\OneDrive\\Desktop\\Jersey-Number-Recognition\\data\\SoccerNet\\jersey-2023\\processed_data\\challenge\\81\\illegible_results.json\n",
      "2025-03-31 10:20:38 [INFO] Legibility classification complete.\n",
      "2025-03-31 10:20:38 [INFO] Processed tracklet: 81\n",
      "2025-03-31 10:20:39 [INFO] 2025-03-31 10:20:38 [INFO] Threshold for scores: 0.97, rounds: 1\n",
      "2025-03-31 10:20:38 [INFO] Round 1: Excluded 10 outliers\n",
      "2025-03-31 10:20:38 [INFO] Round 1: Average score: 0.9921266436576843\n",
      "2025-03-31 10:20:38 [INFO] Excluded images: ['86_195.jpg', '86_196.jpg', '86_197.jpg', '86_212.jpg', '86_213.jpg', '86_218.jpg', '86_307.jpg', '86_362.jpg', '86_577.jpg', '86_579.jpg']\n",
      "\n",
      "2025-03-31 10:20:39 [ERROR] \n",
      "2025-03-31 10:20:39 [INFO] Done removing outliers\n",
      "2025-03-31 10:20:39 [INFO] Running model chain on preprocessed image(s).\n",
      "2025-03-31 10:20:39 [INFO] Classifying legibility of image(s) using pre-trained model.\n",
      "2025-03-31 10:20:42 [INFO] Saved features for tracklet with shape (530, 2048) to c:\\Users\\colin\\OneDrive\\Desktop\\Jersey-Number-Recognition\\data\\SoccerNet\\jersey-2023\\processed_data\\challenge\\89\\features.npy\n",
      "2025-03-31 10:20:42 [INFO] Identifying and removing outliers by calling gaussian_outliers.py on feature file\n"
     ]
    },
    {
     "name": "stderr",
     "output_type": "stream",
     "text": [
      "Lightning automatically upgraded your loaded checkpoint from v1.1.4 to v2.5.0.post0. To apply the upgrade to your files permanently, run `python -m pytorch_lightning.utilities.upgrade_checkpoint c:\\Users\\colin\\OneDrive\\Desktop\\Jersey-Number-Recognition\\data\\pre_trained_models\\reid\\dukemtmcreid_resnet50_256_128_epoch_120.ckpt`\n"
     ]
    },
    {
     "name": "stdout",
     "output_type": "stream",
     "text": [
      "2025-03-31 10:20:43 [INFO] Median vs. average vs. max of raw outputs (thresh=0.5): 0.46024399995803833, 0.4596625290265897, 0.5053156614303589\n",
      "2025-03-31 10:20:43 [INFO] Median vs. average vs. max of kept outputs (thresh=0.5): 0.5053156614303589, 0.5053156614303589, 0.5053156614303589\n",
      "2025-03-31 10:20:43 [INFO] Tracklet 82 is legible.\n",
      "2025-03-31 10:20:43 [INFO] Saving legible_tracklets to: c:\\Users\\colin\\OneDrive\\Desktop\\Jersey-Number-Recognition\\data\\SoccerNet\\jersey-2023\\processed_data\\challenge\\82\\legible_results.json\n",
      "2025-03-31 10:20:43 [INFO] Saved legible_tracklets to: c:\\Users\\colin\\OneDrive\\Desktop\\Jersey-Number-Recognition\\data\\SoccerNet\\jersey-2023\\processed_data\\challenge\\82\\legible_results.json\n",
      "2025-03-31 10:20:43 [INFO] Saving illegible_tracklets to: c:\\Users\\colin\\OneDrive\\Desktop\\Jersey-Number-Recognition\\data\\SoccerNet\\jersey-2023\\processed_data\\challenge\\82\\illegible_results.json\n",
      "2025-03-31 10:20:43 [INFO] Saved illegible_tracklets to: c:\\Users\\colin\\OneDrive\\Desktop\\Jersey-Number-Recognition\\data\\SoccerNet\\jersey-2023\\processed_data\\challenge\\82\\illegible_results.json\n",
      "2025-03-31 10:20:43 [INFO] Legibility classification complete.\n",
      "2025-03-31 10:20:43 [INFO] Processed tracklet: 82\n",
      "2025-03-31 10:20:45 [INFO] 2025-03-31 10:20:43 [INFO] Threshold for scores: 0.97, rounds: 1\n",
      "2025-03-31 10:20:43 [INFO] Round 1: Excluded 4 outliers\n",
      "2025-03-31 10:20:43 [INFO] Round 1: Average score: 0.992635190486908\n",
      "2025-03-31 10:20:43 [INFO] Excluded images: ['87_207.jpg', '87_208.jpg', '87_209.jpg', '87_609.jpg']\n",
      "\n",
      "2025-03-31 10:20:45 [ERROR] \n",
      "2025-03-31 10:20:45 [INFO] Done removing outliers\n",
      "2025-03-31 10:20:45 [INFO] Running model chain on preprocessed image(s).\n",
      "2025-03-31 10:20:45 [INFO] Classifying legibility of image(s) using pre-trained model.\n",
      "2025-03-31 10:20:48 [INFO] Saved features for tracklet with shape (226, 2048) to c:\\Users\\colin\\OneDrive\\Desktop\\Jersey-Number-Recognition\\data\\SoccerNet\\jersey-2023\\processed_data\\challenge\\91\\features.npy\n",
      "2025-03-31 10:20:48 [INFO] Identifying and removing outliers by calling gaussian_outliers.py on feature file\n"
     ]
    },
    {
     "name": "stderr",
     "output_type": "stream",
     "text": [
      "Lightning automatically upgraded your loaded checkpoint from v1.1.4 to v2.5.0.post0. To apply the upgrade to your files permanently, run `python -m pytorch_lightning.utilities.upgrade_checkpoint c:\\Users\\colin\\OneDrive\\Desktop\\Jersey-Number-Recognition\\data\\pre_trained_models\\reid\\dukemtmcreid_resnet50_256_128_epoch_120.ckpt`\n"
     ]
    },
    {
     "name": "stdout",
     "output_type": "stream",
     "text": [
      "2025-03-31 10:20:50 [INFO] Median vs. average vs. max of raw outputs (thresh=0.5): 0.46334370970726013, 0.4618978982308049, 0.521320104598999\n",
      "2025-03-31 10:20:50 [INFO] Median vs. average vs. max of kept outputs (thresh=0.5): 0.5049749612808228, 0.507506081036159, 0.521320104598999\n",
      "2025-03-31 10:20:50 [INFO] Tracklet 84 is legible.\n",
      "2025-03-31 10:20:50 [INFO] Saving legible_tracklets to: c:\\Users\\colin\\OneDrive\\Desktop\\Jersey-Number-Recognition\\data\\SoccerNet\\jersey-2023\\processed_data\\challenge\\84\\legible_results.json\n",
      "2025-03-31 10:20:50 [INFO] Saved legible_tracklets to: c:\\Users\\colin\\OneDrive\\Desktop\\Jersey-Number-Recognition\\data\\SoccerNet\\jersey-2023\\processed_data\\challenge\\84\\legible_results.json\n",
      "2025-03-31 10:20:50 [INFO] Saving illegible_tracklets to: c:\\Users\\colin\\OneDrive\\Desktop\\Jersey-Number-Recognition\\data\\SoccerNet\\jersey-2023\\processed_data\\challenge\\84\\illegible_results.json\n",
      "2025-03-31 10:20:50 [INFO] Saved illegible_tracklets to: c:\\Users\\colin\\OneDrive\\Desktop\\Jersey-Number-Recognition\\data\\SoccerNet\\jersey-2023\\processed_data\\challenge\\84\\illegible_results.json\n",
      "2025-03-31 10:20:50 [INFO] Legibility classification complete.\n",
      "2025-03-31 10:20:50 [INFO] Processed tracklet: 84\n",
      "2025-03-31 10:20:52 [INFO] 2025-03-31 10:20:50 [INFO] Threshold for scores: 0.97, rounds: 1\n",
      "2025-03-31 10:20:50 [INFO] Round 1: Excluded 27 outliers\n",
      "2025-03-31 10:20:50 [INFO] Round 1: Average score: 0.9836947321891785\n",
      "2025-03-31 10:20:50 [INFO] Excluded images: ['88_198.jpg', '88_199.jpg', '88_200.jpg', '88_201.jpg', '88_202.jpg', '88_203.jpg', '88_204.jpg', '88_205.jpg', '88_206.jpg', '88_209.jpg', '88_210.jpg', '88_211.jpg', '88_212.jpg', '88_213.jpg', '88_214.jpg', '88_215.jpg', '88_256.jpg', '88_257.jpg', '88_260.jpg', '88_261.jpg', '88_263.jpg', '88_264.jpg', '88_266.jpg', '88_312.jpg', '88_584.jpg', '88_585.jpg', '88_589.jpg']\n",
      "\n",
      "2025-03-31 10:20:52 [ERROR] \n",
      "2025-03-31 10:20:52 [INFO] Done removing outliers\n",
      "2025-03-31 10:20:52 [INFO] Running model chain on preprocessed image(s).\n",
      "2025-03-31 10:20:52 [INFO] Classifying legibility of image(s) using pre-trained model.\n",
      "2025-03-31 10:20:52 [INFO] Median vs. average vs. max of raw outputs (thresh=0.5): 0.4791615307331085, 0.48026799347988636, 0.5240429639816284\n",
      "2025-03-31 10:20:52 [INFO] Median vs. average vs. max of kept outputs (thresh=0.5): 0.5078472197055817, 0.510068379342556, 0.5240429639816284\n",
      "2025-03-31 10:20:52 [INFO] Tracklet 85 is legible.\n",
      "2025-03-31 10:20:52 [INFO] Saving legible_tracklets to: c:\\Users\\colin\\OneDrive\\Desktop\\Jersey-Number-Recognition\\data\\SoccerNet\\jersey-2023\\processed_data\\challenge\\85\\legible_results.json\n",
      "2025-03-31 10:20:52 [INFO] Saved legible_tracklets to: c:\\Users\\colin\\OneDrive\\Desktop\\Jersey-Number-Recognition\\data\\SoccerNet\\jersey-2023\\processed_data\\challenge\\85\\legible_results.json\n",
      "2025-03-31 10:20:52 [INFO] Saving illegible_tracklets to: c:\\Users\\colin\\OneDrive\\Desktop\\Jersey-Number-Recognition\\data\\SoccerNet\\jersey-2023\\processed_data\\challenge\\85\\illegible_results.json\n",
      "2025-03-31 10:20:52 [INFO] Saved illegible_tracklets to: c:\\Users\\colin\\OneDrive\\Desktop\\Jersey-Number-Recognition\\data\\SoccerNet\\jersey-2023\\processed_data\\challenge\\85\\illegible_results.json\n",
      "2025-03-31 10:20:52 [INFO] Legibility classification complete.\n",
      "2025-03-31 10:20:52 [INFO] Processed tracklet: 85\n",
      "2025-03-31 10:20:53 [INFO] Saved features for tracklet with shape (156, 2048) to c:\\Users\\colin\\OneDrive\\Desktop\\Jersey-Number-Recognition\\data\\SoccerNet\\jersey-2023\\processed_data\\challenge\\92\\features.npy\n",
      "2025-03-31 10:20:53 [INFO] Identifying and removing outliers by calling gaussian_outliers.py on feature file\n"
     ]
    },
    {
     "name": "stderr",
     "output_type": "stream",
     "text": [
      "Lightning automatically upgraded your loaded checkpoint from v1.1.4 to v2.5.0.post0. To apply the upgrade to your files permanently, run `python -m pytorch_lightning.utilities.upgrade_checkpoint c:\\Users\\colin\\OneDrive\\Desktop\\Jersey-Number-Recognition\\data\\pre_trained_models\\reid\\dukemtmcreid_resnet50_256_128_epoch_120.ckpt`\n"
     ]
    },
    {
     "name": "stdout",
     "output_type": "stream",
     "text": [
      "2025-03-31 10:20:57 [INFO] 2025-03-31 10:20:56 [INFO] Threshold for scores: 0.97, rounds: 1\n",
      "2025-03-31 10:20:56 [INFO] Round 1: Excluded 3 outliers\n",
      "2025-03-31 10:20:56 [INFO] Round 1: Average score: 0.9950174689292908\n",
      "2025-03-31 10:20:56 [INFO] Excluded images: ['83_176.jpg', '83_587.jpg', '83_610.jpg']\n",
      "\n",
      "2025-03-31 10:20:57 [ERROR] \n",
      "2025-03-31 10:20:57 [INFO] Done removing outliers\n",
      "2025-03-31 10:20:57 [INFO] Running model chain on preprocessed image(s).\n",
      "2025-03-31 10:20:57 [INFO] Classifying legibility of image(s) using pre-trained model.\n",
      "2025-03-31 10:20:58 [INFO] Median vs. average vs. max of raw outputs (thresh=0.5): 0.47200414538383484, 0.4736539957759617, 0.5200740098953247\n",
      "2025-03-31 10:20:58 [INFO] Median vs. average vs. max of kept outputs (thresh=0.5): 0.5033028423786163, 0.5057102143764496, 0.5200740098953247\n",
      "2025-03-31 10:20:58 [INFO] Saved features for tracklet with shape (269, 2048) to c:\\Users\\colin\\OneDrive\\Desktop\\Jersey-Number-Recognition\\data\\SoccerNet\\jersey-2023\\processed_data\\challenge\\90\\features.npy\n",
      "2025-03-31 10:20:58 [INFO] Identifying and removing outliers by calling gaussian_outliers.py on feature file\n",
      "2025-03-31 10:20:58 [INFO] Tracklet 86 is legible.\n",
      "2025-03-31 10:20:58 [INFO] Saving legible_tracklets to: c:\\Users\\colin\\OneDrive\\Desktop\\Jersey-Number-Recognition\\data\\SoccerNet\\jersey-2023\\processed_data\\challenge\\86\\legible_results.json\n",
      "2025-03-31 10:20:58 [INFO] Saved legible_tracklets to: c:\\Users\\colin\\OneDrive\\Desktop\\Jersey-Number-Recognition\\data\\SoccerNet\\jersey-2023\\processed_data\\challenge\\86\\legible_results.json\n",
      "2025-03-31 10:20:58 [INFO] Saving illegible_tracklets to: c:\\Users\\colin\\OneDrive\\Desktop\\Jersey-Number-Recognition\\data\\SoccerNet\\jersey-2023\\processed_data\\challenge\\86\\illegible_results.json\n",
      "2025-03-31 10:20:58 [INFO] Saved illegible_tracklets to: c:\\Users\\colin\\OneDrive\\Desktop\\Jersey-Number-Recognition\\data\\SoccerNet\\jersey-2023\\processed_data\\challenge\\86\\illegible_results.json\n",
      "2025-03-31 10:20:58 [INFO] Legibility classification complete.\n",
      "2025-03-31 10:20:58 [INFO] Processed tracklet: 86\n"
     ]
    },
    {
     "name": "stderr",
     "output_type": "stream",
     "text": [
      "Lightning automatically upgraded your loaded checkpoint from v1.1.4 to v2.5.0.post0. To apply the upgrade to your files permanently, run `python -m pytorch_lightning.utilities.upgrade_checkpoint c:\\Users\\colin\\OneDrive\\Desktop\\Jersey-Number-Recognition\\data\\pre_trained_models\\reid\\dukemtmcreid_resnet50_256_128_epoch_120.ckpt`\n",
      "Lightning automatically upgraded your loaded checkpoint from v1.1.4 to v2.5.0.post0. To apply the upgrade to your files permanently, run `python -m pytorch_lightning.utilities.upgrade_checkpoint c:\\Users\\colin\\OneDrive\\Desktop\\Jersey-Number-Recognition\\data\\pre_trained_models\\reid\\dukemtmcreid_resnet50_256_128_epoch_120.ckpt`\n"
     ]
    },
    {
     "name": "stdout",
     "output_type": "stream",
     "text": [
      "2025-03-31 10:21:02 [INFO] Median vs. average vs. max of raw outputs (thresh=0.5): 0.4477126896381378, 0.44843429896482234, 0.48248669505119324\n",
      "2025-03-31 10:21:02 [INFO] Median vs. average vs. max of kept outputs (thresh=0.5): 0.0, 0.0, 0.0\n",
      "2025-03-31 10:21:02 [INFO] Tracklet 87 is illegible.\n",
      "2025-03-31 10:21:02 [INFO] Saving legible_tracklets to: c:\\Users\\colin\\OneDrive\\Desktop\\Jersey-Number-Recognition\\data\\SoccerNet\\jersey-2023\\processed_data\\challenge\\87\\legible_results.json\n",
      "2025-03-31 10:21:02 [INFO] Saved legible_tracklets to: c:\\Users\\colin\\OneDrive\\Desktop\\Jersey-Number-Recognition\\data\\SoccerNet\\jersey-2023\\processed_data\\challenge\\87\\legible_results.json\n",
      "2025-03-31 10:21:02 [INFO] Saving illegible_tracklets to: c:\\Users\\colin\\OneDrive\\Desktop\\Jersey-Number-Recognition\\data\\SoccerNet\\jersey-2023\\processed_data\\challenge\\87\\illegible_results.json\n",
      "2025-03-31 10:21:02 [INFO] Saved illegible_tracklets to: c:\\Users\\colin\\OneDrive\\Desktop\\Jersey-Number-Recognition\\data\\SoccerNet\\jersey-2023\\processed_data\\challenge\\87\\illegible_results.json\n",
      "2025-03-31 10:21:02 [INFO] Legibility classification complete.\n",
      "2025-03-31 10:21:02 [INFO] Processed tracklet: 87\n",
      "2025-03-31 10:21:02 [INFO] 2025-03-31 10:21:00 [INFO] Threshold for scores: 0.97, rounds: 1\n",
      "2025-03-31 10:21:00 [INFO] Round 1: Excluded 7 outliers\n",
      "2025-03-31 10:21:00 [INFO] Round 1: Average score: 0.9972147345542908\n",
      "2025-03-31 10:21:00 [INFO] Excluded images: ['89_199.jpg', '89_354.jpg', '89_356.jpg', '89_357.jpg', '89_358.jpg', '89_369.jpg', '89_632.jpg']\n",
      "\n",
      "2025-03-31 10:21:02 [ERROR] \n",
      "2025-03-31 10:21:02 [INFO] Done removing outliers\n",
      "2025-03-31 10:21:02 [INFO] Running model chain on preprocessed image(s).\n",
      "2025-03-31 10:21:02 [INFO] Classifying legibility of image(s) using pre-trained model.\n",
      "2025-03-31 10:21:03 [INFO] Saved features for tracklet with shape (141, 2048) to c:\\Users\\colin\\OneDrive\\Desktop\\Jersey-Number-Recognition\\data\\SoccerNet\\jersey-2023\\processed_data\\challenge\\93\\features.npy\n",
      "2025-03-31 10:21:03 [INFO] Identifying and removing outliers by calling gaussian_outliers.py on feature file\n",
      "2025-03-31 10:21:06 [INFO] Saved features for tracklet with shape (140, 2048) to c:\\Users\\colin\\OneDrive\\Desktop\\Jersey-Number-Recognition\\data\\SoccerNet\\jersey-2023\\processed_data\\challenge\\94\\features.npy\n",
      "2025-03-31 10:21:06 [INFO] Identifying and removing outliers by calling gaussian_outliers.py on feature file\n"
     ]
    },
    {
     "name": "stderr",
     "output_type": "stream",
     "text": [
      "Lightning automatically upgraded your loaded checkpoint from v1.1.4 to v2.5.0.post0. To apply the upgrade to your files permanently, run `python -m pytorch_lightning.utilities.upgrade_checkpoint c:\\Users\\colin\\OneDrive\\Desktop\\Jersey-Number-Recognition\\data\\pre_trained_models\\reid\\dukemtmcreid_resnet50_256_128_epoch_120.ckpt`\n"
     ]
    },
    {
     "name": "stdout",
     "output_type": "stream",
     "text": [
      "2025-03-31 10:21:08 [INFO] 2025-03-31 10:21:07 [INFO] Threshold for scores: 0.97, rounds: 1\n",
      "2025-03-31 10:21:07 [INFO] Round 1: Excluded 9 outliers\n",
      "2025-03-31 10:21:07 [INFO] Round 1: Average score: 0.9914602041244507\n",
      "2025-03-31 10:21:07 [INFO] Excluded images: ['91_215.jpg', '91_216.jpg', '91_217.jpg', '91_218.jpg', '91_219.jpg', '91_272.jpg', '91_589.jpg', '91_599.jpg', '91_604.jpg']\n",
      "\n",
      "2025-03-31 10:21:08 [ERROR] \n",
      "2025-03-31 10:21:08 [INFO] Done removing outliers\n",
      "2025-03-31 10:21:08 [INFO] Running model chain on preprocessed image(s).\n",
      "2025-03-31 10:21:08 [INFO] Classifying legibility of image(s) using pre-trained model.\n",
      "2025-03-31 10:21:09 [INFO] Median vs. average vs. max of raw outputs (thresh=0.5): 0.46315184235572815, 0.46524600982666015, 0.5048914551734924\n",
      "2025-03-31 10:21:09 [INFO] Median vs. average vs. max of kept outputs (thresh=0.5): 0.5012081265449524, 0.5021095077196757, 0.5048914551734924\n",
      "2025-03-31 10:21:09 [INFO] Tracklet 88 is legible.\n",
      "2025-03-31 10:21:09 [INFO] Saving legible_tracklets to: c:\\Users\\colin\\OneDrive\\Desktop\\Jersey-Number-Recognition\\data\\SoccerNet\\jersey-2023\\processed_data\\challenge\\88\\legible_results.json\n",
      "2025-03-31 10:21:09 [INFO] Saved legible_tracklets to: c:\\Users\\colin\\OneDrive\\Desktop\\Jersey-Number-Recognition\\data\\SoccerNet\\jersey-2023\\processed_data\\challenge\\88\\legible_results.json\n",
      "2025-03-31 10:21:09 [INFO] Saving illegible_tracklets to: c:\\Users\\colin\\OneDrive\\Desktop\\Jersey-Number-Recognition\\data\\SoccerNet\\jersey-2023\\processed_data\\challenge\\88\\illegible_results.json\n",
      "2025-03-31 10:21:09 [INFO] Saved illegible_tracklets to: c:\\Users\\colin\\OneDrive\\Desktop\\Jersey-Number-Recognition\\data\\SoccerNet\\jersey-2023\\processed_data\\challenge\\88\\illegible_results.json\n",
      "2025-03-31 10:21:09 [INFO] Legibility classification complete.\n",
      "2025-03-31 10:21:09 [INFO] Processed tracklet: 88\n",
      "2025-03-31 10:21:10 [INFO] Saved features for tracklet with shape (137, 2048) to c:\\Users\\colin\\OneDrive\\Desktop\\Jersey-Number-Recognition\\data\\SoccerNet\\jersey-2023\\processed_data\\challenge\\95\\features.npy\n",
      "2025-03-31 10:21:10 [INFO] Identifying and removing outliers by calling gaussian_outliers.py on feature file\n",
      "2025-03-31 10:21:13 [INFO] 2025-03-31 10:21:11 [INFO] Threshold for scores: 0.97, rounds: 1\n",
      "2025-03-31 10:21:11 [INFO] Round 1: Excluded 2 outliers\n",
      "2025-03-31 10:21:11 [INFO] Round 1: Average score: 0.9943972826004028\n",
      "2025-03-31 10:21:11 [INFO] Excluded images: ['92_255.jpg', '92_606.jpg']\n",
      "\n",
      "2025-03-31 10:21:13 [ERROR] \n",
      "2025-03-31 10:21:13 [INFO] Done removing outliers\n",
      "2025-03-31 10:21:13 [INFO] Running model chain on preprocessed image(s).\n",
      "2025-03-31 10:21:13 [INFO] Classifying legibility of image(s) using pre-trained model.\n",
      "2025-03-31 10:21:15 [INFO] Median vs. average vs. max of raw outputs (thresh=0.5): 0.4777674674987793, 0.4778390768411997, 0.5250352025032043\n",
      "2025-03-31 10:21:15 [INFO] Median vs. average vs. max of kept outputs (thresh=0.5): 0.5032895803451538, 0.5061960379282634, 0.5250352025032043\n",
      "2025-03-31 10:21:15 [INFO] Tracklet 83 is legible.\n",
      "2025-03-31 10:21:15 [INFO] Saving legible_tracklets to: c:\\Users\\colin\\OneDrive\\Desktop\\Jersey-Number-Recognition\\data\\SoccerNet\\jersey-2023\\processed_data\\challenge\\83\\legible_results.json\n",
      "2025-03-31 10:21:15 [INFO] Saved legible_tracklets to: c:\\Users\\colin\\OneDrive\\Desktop\\Jersey-Number-Recognition\\data\\SoccerNet\\jersey-2023\\processed_data\\challenge\\83\\legible_results.json\n",
      "2025-03-31 10:21:15 [INFO] Saving illegible_tracklets to: c:\\Users\\colin\\OneDrive\\Desktop\\Jersey-Number-Recognition\\data\\SoccerNet\\jersey-2023\\processed_data\\challenge\\83\\illegible_results.json\n",
      "2025-03-31 10:21:15 [INFO] Saved illegible_tracklets to: c:\\Users\\colin\\OneDrive\\Desktop\\Jersey-Number-Recognition\\data\\SoccerNet\\jersey-2023\\processed_data\\challenge\\83\\illegible_results.json\n",
      "2025-03-31 10:21:15 [INFO] Legibility classification complete.\n",
      "2025-03-31 10:21:15 [INFO] Processed tracklet: 83\n",
      "2025-03-31 10:21:18 [INFO] 2025-03-31 10:21:17 [INFO] Threshold for scores: 0.97, rounds: 1\n",
      "2025-03-31 10:21:17 [INFO] Round 1: Excluded 5 outliers\n",
      "2025-03-31 10:21:17 [INFO] Round 1: Average score: 0.9942207336425781\n",
      "2025-03-31 10:21:17 [INFO] Excluded images: ['90_205.jpg', '90_206.jpg', '90_207.jpg', '90_304.jpg', '90_582.jpg']\n",
      "\n",
      "2025-03-31 10:21:18 [ERROR] \n",
      "2025-03-31 10:21:18 [INFO] Done removing outliers\n",
      "2025-03-31 10:21:18 [INFO] Running model chain on preprocessed image(s).\n",
      "2025-03-31 10:21:18 [INFO] Classifying legibility of image(s) using pre-trained model.\n",
      "2025-03-31 10:21:22 [INFO] Median vs. average vs. max of raw outputs (thresh=0.5): 0.5684635639190674, 0.5681261856742844, 0.5996714234352112\n",
      "2025-03-31 10:21:22 [INFO] Median vs. average vs. max of kept outputs (thresh=0.5): 0.5684635639190674, 0.5681261856742844, 0.5996714234352112\n",
      "2025-03-31 10:21:22 [INFO] Tracklet 89 is legible.\n",
      "2025-03-31 10:21:22 [INFO] Saving legible_tracklets to: c:\\Users\\colin\\OneDrive\\Desktop\\Jersey-Number-Recognition\\data\\SoccerNet\\jersey-2023\\processed_data\\challenge\\89\\legible_results.json\n",
      "2025-03-31 10:21:22 [INFO] Saved legible_tracklets to: c:\\Users\\colin\\OneDrive\\Desktop\\Jersey-Number-Recognition\\data\\SoccerNet\\jersey-2023\\processed_data\\challenge\\89\\legible_results.json\n",
      "2025-03-31 10:21:22 [INFO] Saving illegible_tracklets to: c:\\Users\\colin\\OneDrive\\Desktop\\Jersey-Number-Recognition\\data\\SoccerNet\\jersey-2023\\processed_data\\challenge\\89\\illegible_results.json\n",
      "2025-03-31 10:21:22 [INFO] Saved illegible_tracklets to: c:\\Users\\colin\\OneDrive\\Desktop\\Jersey-Number-Recognition\\data\\SoccerNet\\jersey-2023\\processed_data\\challenge\\89\\illegible_results.json\n",
      "2025-03-31 10:21:22 [INFO] Legibility classification complete.\n",
      "2025-03-31 10:21:22 [INFO] Processed tracklet: 89\n",
      "2025-03-31 10:21:24 [INFO] 2025-03-31 10:21:22 [INFO] Threshold for scores: 0.97, rounds: 1\n",
      "2025-03-31 10:21:22 [INFO] Round 1: Excluded 12 outliers\n",
      "2025-03-31 10:21:22 [INFO] Round 1: Average score: 0.9776506423950195\n",
      "2025-03-31 10:21:22 [INFO] Excluded images: ['93_610.jpg', '93_611.jpg', '93_612.jpg', '93_650.jpg', '93_651.jpg', '93_652.jpg', '93_653.jpg', '93_654.jpg', '93_655.jpg', '93_656.jpg', '93_657.jpg', '93_659.jpg']\n",
      "\n",
      "2025-03-31 10:21:24 [ERROR] \n",
      "2025-03-31 10:21:24 [INFO] Done removing outliers\n",
      "2025-03-31 10:21:24 [INFO] Running model chain on preprocessed image(s).\n",
      "2025-03-31 10:21:24 [INFO] Classifying legibility of image(s) using pre-trained model.\n",
      "2025-03-31 10:21:25 [INFO] Median vs. average vs. max of raw outputs (thresh=0.5): 0.43276447057724, 0.4368655371226473, 0.4839780032634735\n",
      "2025-03-31 10:21:25 [INFO] Median vs. average vs. max of kept outputs (thresh=0.5): 0.0, 0.0, 0.0\n",
      "2025-03-31 10:21:25 [INFO] Tracklet 91 is illegible.\n",
      "2025-03-31 10:21:25 [INFO] Saving legible_tracklets to: c:\\Users\\colin\\OneDrive\\Desktop\\Jersey-Number-Recognition\\data\\SoccerNet\\jersey-2023\\processed_data\\challenge\\91\\legible_results.json\n",
      "2025-03-31 10:21:25 [INFO] Saved legible_tracklets to: c:\\Users\\colin\\OneDrive\\Desktop\\Jersey-Number-Recognition\\data\\SoccerNet\\jersey-2023\\processed_data\\challenge\\91\\legible_results.json\n",
      "2025-03-31 10:21:25 [INFO] Saving illegible_tracklets to: c:\\Users\\colin\\OneDrive\\Desktop\\Jersey-Number-Recognition\\data\\SoccerNet\\jersey-2023\\processed_data\\challenge\\91\\illegible_results.json\n",
      "2025-03-31 10:21:25 [INFO] Saved illegible_tracklets to: c:\\Users\\colin\\OneDrive\\Desktop\\Jersey-Number-Recognition\\data\\SoccerNet\\jersey-2023\\processed_data\\challenge\\91\\illegible_results.json\n",
      "2025-03-31 10:21:25 [INFO] Legibility classification complete.\n",
      "2025-03-31 10:21:25 [INFO] Processed tracklet: 91\n",
      "2025-03-31 10:21:26 [INFO] 2025-03-31 10:21:24 [INFO] Threshold for scores: 0.97, rounds: 1\n",
      "2025-03-31 10:21:24 [INFO] Round 1: Excluded 6 outliers\n",
      "2025-03-31 10:21:24 [INFO] Round 1: Average score: 0.9906954169273376\n",
      "2025-03-31 10:21:24 [INFO] Excluded images: ['94_611.jpg', '94_612.jpg', '94_613.jpg', '94_615.jpg', '94_616.jpg', '94_632.jpg']\n",
      "\n",
      "2025-03-31 10:21:26 [ERROR] \n",
      "2025-03-31 10:21:26 [INFO] Done removing outliers\n",
      "2025-03-31 10:21:26 [INFO] Running model chain on preprocessed image(s).\n",
      "2025-03-31 10:21:26 [INFO] Classifying legibility of image(s) using pre-trained model.\n",
      "2025-03-31 10:21:29 [INFO] Median vs. average vs. max of raw outputs (thresh=0.5): 0.46824711561203003, 0.4675021479269127, 0.48936063051223755\n",
      "2025-03-31 10:21:29 [INFO] Median vs. average vs. max of kept outputs (thresh=0.5): 0.0, 0.0, 0.0\n",
      "2025-03-31 10:21:29 [INFO] Tracklet 92 is illegible.\n",
      "2025-03-31 10:21:29 [INFO] Saving legible_tracklets to: c:\\Users\\colin\\OneDrive\\Desktop\\Jersey-Number-Recognition\\data\\SoccerNet\\jersey-2023\\processed_data\\challenge\\92\\legible_results.json\n",
      "2025-03-31 10:21:29 [INFO] Saved legible_tracklets to: c:\\Users\\colin\\OneDrive\\Desktop\\Jersey-Number-Recognition\\data\\SoccerNet\\jersey-2023\\processed_data\\challenge\\92\\legible_results.json\n",
      "2025-03-31 10:21:29 [INFO] Saving illegible_tracklets to: c:\\Users\\colin\\OneDrive\\Desktop\\Jersey-Number-Recognition\\data\\SoccerNet\\jersey-2023\\processed_data\\challenge\\92\\illegible_results.json\n",
      "2025-03-31 10:21:29 [INFO] Saved illegible_tracklets to: c:\\Users\\colin\\OneDrive\\Desktop\\Jersey-Number-Recognition\\data\\SoccerNet\\jersey-2023\\processed_data\\challenge\\92\\illegible_results.json\n",
      "2025-03-31 10:21:29 [INFO] Legibility classification complete.\n",
      "2025-03-31 10:21:29 [INFO] Processed tracklet: 92\n",
      "2025-03-31 10:21:30 [INFO] 2025-03-31 10:21:29 [INFO] Threshold for scores: 0.97, rounds: 1\n",
      "2025-03-31 10:21:29 [INFO] Round 1: Excluded 5 outliers\n",
      "2025-03-31 10:21:29 [INFO] Round 1: Average score: 0.9909043312072754\n",
      "2025-03-31 10:21:29 [INFO] Excluded images: ['95_614.jpg', '95_615.jpg', '95_623.jpg', '95_624.jpg', '95_750.jpg']\n",
      "\n",
      "2025-03-31 10:21:30 [ERROR] \n",
      "2025-03-31 10:21:30 [INFO] Done removing outliers\n",
      "2025-03-31 10:21:30 [INFO] Running model chain on preprocessed image(s).\n",
      "2025-03-31 10:21:30 [INFO] Classifying legibility of image(s) using pre-trained model.\n",
      "2025-03-31 10:21:34 [INFO] Median vs. average vs. max of raw outputs (thresh=0.5): 0.4849216341972351, 0.48477116464213893, 0.500579833984375\n",
      "2025-03-31 10:21:34 [INFO] Median vs. average vs. max of kept outputs (thresh=0.5): 0.5003039240837097, 0.5003039240837097, 0.500579833984375\n",
      "2025-03-31 10:21:34 [INFO] Tracklet 90 is legible.\n",
      "2025-03-31 10:21:34 [INFO] Saving legible_tracklets to: c:\\Users\\colin\\OneDrive\\Desktop\\Jersey-Number-Recognition\\data\\SoccerNet\\jersey-2023\\processed_data\\challenge\\90\\legible_results.json\n",
      "2025-03-31 10:21:34 [INFO] Saved legible_tracklets to: c:\\Users\\colin\\OneDrive\\Desktop\\Jersey-Number-Recognition\\data\\SoccerNet\\jersey-2023\\processed_data\\challenge\\90\\legible_results.json\n",
      "2025-03-31 10:21:34 [INFO] Saving illegible_tracklets to: c:\\Users\\colin\\OneDrive\\Desktop\\Jersey-Number-Recognition\\data\\SoccerNet\\jersey-2023\\processed_data\\challenge\\90\\illegible_results.json\n",
      "2025-03-31 10:21:34 [INFO] Saved illegible_tracklets to: c:\\Users\\colin\\OneDrive\\Desktop\\Jersey-Number-Recognition\\data\\SoccerNet\\jersey-2023\\processed_data\\challenge\\90\\illegible_results.json\n",
      "2025-03-31 10:21:34 [INFO] Legibility classification complete.\n",
      "2025-03-31 10:21:34 [INFO] Processed tracklet: 90\n",
      "2025-03-31 10:21:37 [INFO] Median vs. average vs. max of raw outputs (thresh=0.5): 0.48096704483032227, 0.4799684473248415, 0.49508458375930786\n",
      "2025-03-31 10:21:37 [INFO] Median vs. average vs. max of kept outputs (thresh=0.5): 0.0, 0.0, 0.0\n",
      "2025-03-31 10:21:37 [INFO] Tracklet 93 is illegible.\n",
      "2025-03-31 10:21:37 [INFO] Saving legible_tracklets to: c:\\Users\\colin\\OneDrive\\Desktop\\Jersey-Number-Recognition\\data\\SoccerNet\\jersey-2023\\processed_data\\challenge\\93\\legible_results.json\n",
      "2025-03-31 10:21:37 [INFO] Saved legible_tracklets to: c:\\Users\\colin\\OneDrive\\Desktop\\Jersey-Number-Recognition\\data\\SoccerNet\\jersey-2023\\processed_data\\challenge\\93\\legible_results.json\n",
      "2025-03-31 10:21:37 [INFO] Saving illegible_tracklets to: c:\\Users\\colin\\OneDrive\\Desktop\\Jersey-Number-Recognition\\data\\SoccerNet\\jersey-2023\\processed_data\\challenge\\93\\illegible_results.json\n",
      "2025-03-31 10:21:37 [INFO] Saved illegible_tracklets to: c:\\Users\\colin\\OneDrive\\Desktop\\Jersey-Number-Recognition\\data\\SoccerNet\\jersey-2023\\processed_data\\challenge\\93\\illegible_results.json\n",
      "2025-03-31 10:21:37 [INFO] Legibility classification complete.\n",
      "2025-03-31 10:21:37 [INFO] Processed tracklet: 93\n",
      "2025-03-31 10:21:39 [INFO] Median vs. average vs. max of raw outputs (thresh=0.5): 0.5285890698432922, 0.5262632859286978, 0.5397504568099976\n",
      "2025-03-31 10:21:39 [INFO] Median vs. average vs. max of kept outputs (thresh=0.5): 0.5285890698432922, 0.5262632859286978, 0.5397504568099976\n",
      "2025-03-31 10:21:39 [INFO] Tracklet 94 is legible.\n",
      "2025-03-31 10:21:39 [INFO] Saving legible_tracklets to: c:\\Users\\colin\\OneDrive\\Desktop\\Jersey-Number-Recognition\\data\\SoccerNet\\jersey-2023\\processed_data\\challenge\\94\\legible_results.json\n",
      "2025-03-31 10:21:39 [INFO] Saved legible_tracklets to: c:\\Users\\colin\\OneDrive\\Desktop\\Jersey-Number-Recognition\\data\\SoccerNet\\jersey-2023\\processed_data\\challenge\\94\\legible_results.json\n",
      "2025-03-31 10:21:39 [INFO] Saving illegible_tracklets to: c:\\Users\\colin\\OneDrive\\Desktop\\Jersey-Number-Recognition\\data\\SoccerNet\\jersey-2023\\processed_data\\challenge\\94\\illegible_results.json\n",
      "2025-03-31 10:21:39 [INFO] Saved illegible_tracklets to: c:\\Users\\colin\\OneDrive\\Desktop\\Jersey-Number-Recognition\\data\\SoccerNet\\jersey-2023\\processed_data\\challenge\\94\\illegible_results.json\n",
      "2025-03-31 10:21:39 [INFO] Legibility classification complete.\n",
      "2025-03-31 10:21:39 [INFO] Processed tracklet: 94\n",
      "2025-03-31 10:21:41 [INFO] Median vs. average vs. max of raw outputs (thresh=0.5): 0.4608073979616165, 0.46072905533241504, 0.48449766635894775\n",
      "2025-03-31 10:21:41 [INFO] Median vs. average vs. max of kept outputs (thresh=0.5): 0.0, 0.0, 0.0\n",
      "2025-03-31 10:21:41 [INFO] Tracklet 95 is illegible.\n",
      "2025-03-31 10:21:41 [INFO] Saving legible_tracklets to: c:\\Users\\colin\\OneDrive\\Desktop\\Jersey-Number-Recognition\\data\\SoccerNet\\jersey-2023\\processed_data\\challenge\\95\\legible_results.json\n",
      "2025-03-31 10:21:41 [INFO] Saved legible_tracklets to: c:\\Users\\colin\\OneDrive\\Desktop\\Jersey-Number-Recognition\\data\\SoccerNet\\jersey-2023\\processed_data\\challenge\\95\\legible_results.json\n",
      "2025-03-31 10:21:41 [INFO] Saving illegible_tracklets to: c:\\Users\\colin\\OneDrive\\Desktop\\Jersey-Number-Recognition\\data\\SoccerNet\\jersey-2023\\processed_data\\challenge\\95\\illegible_results.json\n",
      "2025-03-31 10:21:41 [INFO] Saved illegible_tracklets to: c:\\Users\\colin\\OneDrive\\Desktop\\Jersey-Number-Recognition\\data\\SoccerNet\\jersey-2023\\processed_data\\challenge\\95\\illegible_results.json\n",
      "2025-03-31 10:21:41 [INFO] Legibility classification complete.\n",
      "2025-03-31 10:21:41 [INFO] Processed tracklet: 95\n",
      "2025-03-31 10:21:41 [INFO] Using double parallelization: multiprocessing + CUDA batch processing.\n"
     ]
    },
    {
     "data": {
      "application/vnd.jupyter.widget-view+json": {
       "model_id": "1d70299120cc46edb95052eacd511332",
       "version_major": 2,
       "version_minor": 0
      },
      "text/plain": [
       "Processing tracklets (CUDA + CPU):   0%|          | 0/32 [00:00<?, ?it/s]"
      ]
     },
     "metadata": {},
     "output_type": "display_data"
    },
    {
     "name": "stdout",
     "output_type": "stream",
     "text": [
      "2025-03-31 10:22:26 [INFO] Creating placeholder data files for Soccer Ball Filter.\n"
     ]
    },
    {
     "data": {
      "application/vnd.jupyter.widget-view+json": {
       "model_id": "d454e26bac0a42468e2934d0ba4dba93",
       "version_major": 2,
       "version_minor": 0
      },
      "text/plain": [
       "Processing Batch Tracklets (96-128):   0%|          | 0/32 [00:00<?, ?it/s]"
      ]
     },
     "metadata": {},
     "output_type": "display_data"
    },
    {
     "name": "stderr",
     "output_type": "stream",
     "text": [
      "Lightning automatically upgraded your loaded checkpoint from v1.1.4 to v2.5.0.post0. To apply the upgrade to your files permanently, run `python -m pytorch_lightning.utilities.upgrade_checkpoint c:\\Users\\colin\\OneDrive\\Desktop\\Jersey-Number-Recognition\\data\\pre_trained_models\\reid\\dukemtmcreid_resnet50_256_128_epoch_120.ckpt`\n"
     ]
    },
    {
     "name": "stdout",
     "output_type": "stream",
     "text": [
      "2025-03-31 10:22:29 [INFO] Saved features for tracklet with shape (416, 2048) to c:\\Users\\colin\\OneDrive\\Desktop\\Jersey-Number-Recognition\\data\\SoccerNet\\jersey-2023\\processed_data\\challenge\\96\\features.npy\n",
      "2025-03-31 10:22:29 [INFO] Identifying and removing outliers by calling gaussian_outliers.py on feature file\n"
     ]
    },
    {
     "name": "stderr",
     "output_type": "stream",
     "text": [
      "Lightning automatically upgraded your loaded checkpoint from v1.1.4 to v2.5.0.post0. To apply the upgrade to your files permanently, run `python -m pytorch_lightning.utilities.upgrade_checkpoint c:\\Users\\colin\\OneDrive\\Desktop\\Jersey-Number-Recognition\\data\\pre_trained_models\\reid\\dukemtmcreid_resnet50_256_128_epoch_120.ckpt`\n"
     ]
    },
    {
     "name": "stdout",
     "output_type": "stream",
     "text": [
      "2025-03-31 10:22:31 [INFO] Saved features for tracklet with shape (622, 2048) to c:\\Users\\colin\\OneDrive\\Desktop\\Jersey-Number-Recognition\\data\\SoccerNet\\jersey-2023\\processed_data\\challenge\\98\\features.npy\n",
      "2025-03-31 10:22:31 [INFO] Identifying and removing outliers by calling gaussian_outliers.py on feature file\n"
     ]
    },
    {
     "name": "stderr",
     "output_type": "stream",
     "text": [
      "Lightning automatically upgraded your loaded checkpoint from v1.1.4 to v2.5.0.post0. To apply the upgrade to your files permanently, run `python -m pytorch_lightning.utilities.upgrade_checkpoint c:\\Users\\colin\\OneDrive\\Desktop\\Jersey-Number-Recognition\\data\\pre_trained_models\\reid\\dukemtmcreid_resnet50_256_128_epoch_120.ckpt`\n"
     ]
    },
    {
     "name": "stdout",
     "output_type": "stream",
     "text": [
      "2025-03-31 10:22:33 [INFO] Saved features for tracklet with shape (750, 2048) to c:\\Users\\colin\\OneDrive\\Desktop\\Jersey-Number-Recognition\\data\\SoccerNet\\jersey-2023\\processed_data\\challenge\\100\\features.npy\n",
      "2025-03-31 10:22:33 [INFO] Identifying and removing outliers by calling gaussian_outliers.py on feature file\n"
     ]
    },
    {
     "name": "stderr",
     "output_type": "stream",
     "text": [
      "Lightning automatically upgraded your loaded checkpoint from v1.1.4 to v2.5.0.post0. To apply the upgrade to your files permanently, run `python -m pytorch_lightning.utilities.upgrade_checkpoint c:\\Users\\colin\\OneDrive\\Desktop\\Jersey-Number-Recognition\\data\\pre_trained_models\\reid\\dukemtmcreid_resnet50_256_128_epoch_120.ckpt`\n"
     ]
    },
    {
     "name": "stdout",
     "output_type": "stream",
     "text": [
      "2025-03-31 10:22:36 [INFO] Saved features for tracklet with shape (553, 2048) to c:\\Users\\colin\\OneDrive\\Desktop\\Jersey-Number-Recognition\\data\\SoccerNet\\jersey-2023\\processed_data\\challenge\\103\\features.npy\n",
      "2025-03-31 10:22:36 [INFO] Identifying and removing outliers by calling gaussian_outliers.py on feature file\n"
     ]
    },
    {
     "name": "stderr",
     "output_type": "stream",
     "text": [
      "Lightning automatically upgraded your loaded checkpoint from v1.1.4 to v2.5.0.post0. To apply the upgrade to your files permanently, run `python -m pytorch_lightning.utilities.upgrade_checkpoint c:\\Users\\colin\\OneDrive\\Desktop\\Jersey-Number-Recognition\\data\\pre_trained_models\\reid\\dukemtmcreid_resnet50_256_128_epoch_120.ckpt`\n"
     ]
    },
    {
     "name": "stdout",
     "output_type": "stream",
     "text": [
      "2025-03-31 10:22:38 [INFO] Saved features for tracklet with shape (624, 2048) to c:\\Users\\colin\\OneDrive\\Desktop\\Jersey-Number-Recognition\\data\\SoccerNet\\jersey-2023\\processed_data\\challenge\\104\\features.npy\n",
      "2025-03-31 10:22:38 [INFO] Identifying and removing outliers by calling gaussian_outliers.py on feature file\n"
     ]
    },
    {
     "name": "stderr",
     "output_type": "stream",
     "text": [
      "Lightning automatically upgraded your loaded checkpoint from v1.1.4 to v2.5.0.post0. To apply the upgrade to your files permanently, run `python -m pytorch_lightning.utilities.upgrade_checkpoint c:\\Users\\colin\\OneDrive\\Desktop\\Jersey-Number-Recognition\\data\\pre_trained_models\\reid\\dukemtmcreid_resnet50_256_128_epoch_120.ckpt`\n"
     ]
    },
    {
     "name": "stdout",
     "output_type": "stream",
     "text": [
      "2025-03-31 10:22:39 [INFO] 2025-03-31 10:22:38 [INFO] Threshold for scores: 0.97, rounds: 1\n",
      "2025-03-31 10:22:38 [INFO] Round 1: Excluded 23 outliers\n",
      "2025-03-31 10:22:38 [INFO] Round 1: Average score: 0.9900973439216614\n",
      "2025-03-31 10:22:38 [INFO] Excluded images: ['96_172.jpg', '96_507.jpg', '96_508.jpg', '96_510.jpg', '96_534.jpg', '96_535.jpg', '96_547.jpg', '96_560.jpg', '96_582.jpg', '96_583.jpg', '96_584.jpg', '96_585.jpg', '96_586.jpg', '96_587.jpg', '96_588.jpg', '96_589.jpg', '96_590.jpg', '96_591.jpg', '96_592.jpg', '96_596.jpg', '96_597.jpg', '96_598.jpg', '96_750.jpg']\n",
      "\n",
      "2025-03-31 10:22:39 [ERROR] \n",
      "2025-03-31 10:22:39 [INFO] Done removing outliers\n",
      "2025-03-31 10:22:39 [INFO] Running model chain on preprocessed image(s).\n",
      "2025-03-31 10:22:39 [INFO] Classifying legibility of image(s) using pre-trained model.\n",
      "2025-03-31 10:22:42 [INFO] 2025-03-31 10:22:40 [INFO] Threshold for scores: 0.97, rounds: 1\n",
      "2025-03-31 10:22:40 [INFO] Round 1: Excluded 16 outliers\n",
      "2025-03-31 10:22:40 [INFO] Round 1: Average score: 0.9958544969558716\n",
      "2025-03-31 10:22:40 [INFO] Excluded images: ['98_283.jpg', '98_412.jpg', '98_413.jpg', '98_416.jpg', '98_417.jpg', '98_418.jpg', '98_419.jpg', '98_420.jpg', '98_643.jpg', '98_644.jpg', '98_645.jpg', '98_646.jpg', '98_647.jpg', '98_648.jpg', '98_649.jpg', '98_650.jpg']\n",
      "\n",
      "2025-03-31 10:22:42 [ERROR] \n",
      "2025-03-31 10:22:42 [INFO] Done removing outliers\n",
      "2025-03-31 10:22:42 [INFO] Running model chain on preprocessed image(s).\n",
      "2025-03-31 10:22:42 [INFO] Classifying legibility of image(s) using pre-trained model.\n",
      "2025-03-31 10:22:42 [INFO] Saved features for tracklet with shape (578, 2048) to c:\\Users\\colin\\OneDrive\\Desktop\\Jersey-Number-Recognition\\data\\SoccerNet\\jersey-2023\\processed_data\\challenge\\97\\features.npy\n",
      "2025-03-31 10:22:42 [INFO] Identifying and removing outliers by calling gaussian_outliers.py on feature file\n"
     ]
    },
    {
     "name": "stderr",
     "output_type": "stream",
     "text": [
      "Lightning automatically upgraded your loaded checkpoint from v1.1.4 to v2.5.0.post0. To apply the upgrade to your files permanently, run `python -m pytorch_lightning.utilities.upgrade_checkpoint c:\\Users\\colin\\OneDrive\\Desktop\\Jersey-Number-Recognition\\data\\pre_trained_models\\reid\\dukemtmcreid_resnet50_256_128_epoch_120.ckpt`\n"
     ]
    },
    {
     "name": "stdout",
     "output_type": "stream",
     "text": [
      "2025-03-31 10:22:46 [INFO] 2025-03-31 10:22:44 [INFO] Threshold for scores: 0.97, rounds: 1\n",
      "2025-03-31 10:22:44 [INFO] Round 1: Excluded 11 outliers\n",
      "2025-03-31 10:22:44 [INFO] Round 1: Average score: 0.9954562187194824\n",
      "2025-03-31 10:22:44 [INFO] Excluded images: ['100_217.jpg', '100_218.jpg', '100_219.jpg', '100_220.jpg', '100_221.jpg', '100_222.jpg', '100_223.jpg', '100_288.jpg', '100_293.jpg', '100_389.jpg', '100_390.jpg']\n",
      "\n",
      "2025-03-31 10:22:46 [ERROR] \n",
      "2025-03-31 10:22:46 [INFO] Done removing outliers\n",
      "2025-03-31 10:22:46 [INFO] Running model chain on preprocessed image(s).\n",
      "2025-03-31 10:22:46 [INFO] Classifying legibility of image(s) using pre-trained model.\n",
      "2025-03-31 10:22:48 [INFO] Saved features for tracklet with shape (378, 2048) to c:\\Users\\colin\\OneDrive\\Desktop\\Jersey-Number-Recognition\\data\\SoccerNet\\jersey-2023\\processed_data\\challenge\\101\\features.npy\n",
      "2025-03-31 10:22:48 [INFO] Identifying and removing outliers by calling gaussian_outliers.py on feature file\n"
     ]
    },
    {
     "name": "stderr",
     "output_type": "stream",
     "text": [
      "Lightning automatically upgraded your loaded checkpoint from v1.1.4 to v2.5.0.post0. To apply the upgrade to your files permanently, run `python -m pytorch_lightning.utilities.upgrade_checkpoint c:\\Users\\colin\\OneDrive\\Desktop\\Jersey-Number-Recognition\\data\\pre_trained_models\\reid\\dukemtmcreid_resnet50_256_128_epoch_120.ckpt`\n"
     ]
    },
    {
     "name": "stdout",
     "output_type": "stream",
     "text": [
      "2025-03-31 10:22:49 [INFO] 2025-03-31 10:22:48 [INFO] Threshold for scores: 0.97, rounds: 1\n",
      "2025-03-31 10:22:48 [INFO] Round 1: Excluded 11 outliers\n",
      "2025-03-31 10:22:48 [INFO] Round 1: Average score: 0.9956412315368652\n",
      "2025-03-31 10:22:48 [INFO] Excluded images: ['103_302.jpg', '103_303.jpg', '103_357.jpg', '103_358.jpg', '103_359.jpg', '103_434.jpg', '103_435.jpg', '103_436.jpg', '103_437.jpg', '103_445.jpg', '103_447.jpg']\n",
      "\n",
      "2025-03-31 10:22:49 [ERROR] \n",
      "2025-03-31 10:22:49 [INFO] Done removing outliers\n",
      "2025-03-31 10:22:49 [INFO] Running model chain on preprocessed image(s).\n",
      "2025-03-31 10:22:49 [INFO] Classifying legibility of image(s) using pre-trained model.\n",
      "2025-03-31 10:22:54 [INFO] 2025-03-31 10:22:52 [INFO] Threshold for scores: 0.97, rounds: 1\n",
      "2025-03-31 10:22:52 [INFO] Round 1: Excluded 11 outliers\n",
      "2025-03-31 10:22:52 [INFO] Round 1: Average score: 0.9965878129005432\n",
      "2025-03-31 10:22:52 [INFO] Excluded images: ['104_158.jpg', '104_159.jpg', '104_160.jpg', '104_168.jpg', '104_182.jpg', '104_306.jpg', '104_307.jpg', '104_434.jpg', '104_435.jpg', '104_437.jpg', '104_585.jpg']\n",
      "\n",
      "2025-03-31 10:22:54 [ERROR] \n",
      "2025-03-31 10:22:54 [INFO] Done removing outliers\n",
      "2025-03-31 10:22:54 [INFO] Running model chain on preprocessed image(s).\n",
      "2025-03-31 10:22:54 [INFO] Classifying legibility of image(s) using pre-trained model.\n",
      "2025-03-31 10:22:54 [INFO] Saved features for tracklet with shape (606, 2048) to c:\\Users\\colin\\OneDrive\\Desktop\\Jersey-Number-Recognition\\data\\SoccerNet\\jersey-2023\\processed_data\\challenge\\105\\features.npy\n",
      "2025-03-31 10:22:54 [INFO] Identifying and removing outliers by calling gaussian_outliers.py on feature file\n"
     ]
    },
    {
     "name": "stderr",
     "output_type": "stream",
     "text": [
      "Lightning automatically upgraded your loaded checkpoint from v1.1.4 to v2.5.0.post0. To apply the upgrade to your files permanently, run `python -m pytorch_lightning.utilities.upgrade_checkpoint c:\\Users\\colin\\OneDrive\\Desktop\\Jersey-Number-Recognition\\data\\pre_trained_models\\reid\\dukemtmcreid_resnet50_256_128_epoch_120.ckpt`\n"
     ]
    },
    {
     "name": "stdout",
     "output_type": "stream",
     "text": [
      "2025-03-31 10:22:56 [INFO] Median vs. average vs. max of raw outputs (thresh=0.5): 0.466007798910141, 0.46696491171688825, 0.5039564371109009\n",
      "2025-03-31 10:22:56 [INFO] Median vs. average vs. max of kept outputs (thresh=0.5): 0.5039564371109009, 0.5039564371109009, 0.5039564371109009\n",
      "2025-03-31 10:22:56 [INFO] Tracklet 96 is legible.\n",
      "2025-03-31 10:22:56 [INFO] Saving legible_tracklets to: c:\\Users\\colin\\OneDrive\\Desktop\\Jersey-Number-Recognition\\data\\SoccerNet\\jersey-2023\\processed_data\\challenge\\96\\legible_results.json\n",
      "2025-03-31 10:22:56 [INFO] Saved legible_tracklets to: c:\\Users\\colin\\OneDrive\\Desktop\\Jersey-Number-Recognition\\data\\SoccerNet\\jersey-2023\\processed_data\\challenge\\96\\legible_results.json\n",
      "2025-03-31 10:22:56 [INFO] Saving illegible_tracklets to: c:\\Users\\colin\\OneDrive\\Desktop\\Jersey-Number-Recognition\\data\\SoccerNet\\jersey-2023\\processed_data\\challenge\\96\\illegible_results.json\n",
      "2025-03-31 10:22:56 [INFO] Saved illegible_tracklets to: c:\\Users\\colin\\OneDrive\\Desktop\\Jersey-Number-Recognition\\data\\SoccerNet\\jersey-2023\\processed_data\\challenge\\96\\illegible_results.json\n",
      "2025-03-31 10:22:56 [INFO] Legibility classification complete.\n",
      "2025-03-31 10:22:56 [INFO] Processed tracklet: 96\n",
      "2025-03-31 10:22:58 [INFO] 2025-03-31 10:22:57 [INFO] Threshold for scores: 0.97, rounds: 1\n",
      "2025-03-31 10:22:57 [INFO] Round 1: Excluded 1 outliers\n",
      "2025-03-31 10:22:57 [INFO] Round 1: Average score: 0.9987038969993591\n",
      "2025-03-31 10:22:57 [INFO] Excluded images: ['97_578.jpg']\n",
      "\n",
      "2025-03-31 10:22:58 [ERROR] \n",
      "2025-03-31 10:22:58 [INFO] Done removing outliers\n",
      "2025-03-31 10:22:58 [INFO] Running model chain on preprocessed image(s).\n",
      "2025-03-31 10:22:58 [INFO] Classifying legibility of image(s) using pre-trained model.\n",
      "2025-03-31 10:22:59 [INFO] Saved features for tracklet with shape (578, 2048) to c:\\Users\\colin\\OneDrive\\Desktop\\Jersey-Number-Recognition\\data\\SoccerNet\\jersey-2023\\processed_data\\challenge\\102\\features.npy\n",
      "2025-03-31 10:22:59 [INFO] Identifying and removing outliers by calling gaussian_outliers.py on feature file\n"
     ]
    },
    {
     "name": "stderr",
     "output_type": "stream",
     "text": [
      "Lightning automatically upgraded your loaded checkpoint from v1.1.4 to v2.5.0.post0. To apply the upgrade to your files permanently, run `python -m pytorch_lightning.utilities.upgrade_checkpoint c:\\Users\\colin\\OneDrive\\Desktop\\Jersey-Number-Recognition\\data\\pre_trained_models\\reid\\dukemtmcreid_resnet50_256_128_epoch_120.ckpt`\n"
     ]
    },
    {
     "name": "stdout",
     "output_type": "stream",
     "text": [
      "2025-03-31 10:23:03 [INFO] Saved features for tracklet with shape (584, 2048) to c:\\Users\\colin\\OneDrive\\Desktop\\Jersey-Number-Recognition\\data\\SoccerNet\\jersey-2023\\processed_data\\challenge\\99\\features.npy\n",
      "2025-03-31 10:23:03 [INFO] Identifying and removing outliers by calling gaussian_outliers.py on feature file\n",
      "2025-03-31 10:23:03 [INFO] 2025-03-31 10:23:02 [INFO] Threshold for scores: 0.97, rounds: 1\n",
      "2025-03-31 10:23:02 [INFO] Round 1: Excluded 8 outliers\n",
      "2025-03-31 10:23:02 [INFO] Round 1: Average score: 0.9956125617027283\n",
      "2025-03-31 10:23:02 [INFO] Excluded images: ['101_297.jpg', '101_298.jpg', '101_299.jpg', '101_300.jpg', '101_301.jpg', '101_302.jpg', '101_303.jpg', '101_639.jpg']\n",
      "\n",
      "2025-03-31 10:23:03 [ERROR] \n",
      "2025-03-31 10:23:03 [INFO] Done removing outliers\n",
      "2025-03-31 10:23:03 [INFO] Running model chain on preprocessed image(s).\n",
      "2025-03-31 10:23:03 [INFO] Classifying legibility of image(s) using pre-trained model.\n"
     ]
    },
    {
     "name": "stderr",
     "output_type": "stream",
     "text": [
      "Lightning automatically upgraded your loaded checkpoint from v1.1.4 to v2.5.0.post0. To apply the upgrade to your files permanently, run `python -m pytorch_lightning.utilities.upgrade_checkpoint c:\\Users\\colin\\OneDrive\\Desktop\\Jersey-Number-Recognition\\data\\pre_trained_models\\reid\\dukemtmcreid_resnet50_256_128_epoch_120.ckpt`\n"
     ]
    },
    {
     "name": "stdout",
     "output_type": "stream",
     "text": [
      "2025-03-31 10:23:07 [INFO] Saved features for tracklet with shape (547, 2048) to c:\\Users\\colin\\OneDrive\\Desktop\\Jersey-Number-Recognition\\data\\SoccerNet\\jersey-2023\\processed_data\\challenge\\106\\features.npy\n",
      "2025-03-31 10:23:07 [INFO] Identifying and removing outliers by calling gaussian_outliers.py on feature file\n",
      "2025-03-31 10:23:11 [INFO] 2025-03-31 10:23:09 [INFO] Threshold for scores: 0.97, rounds: 1\n",
      "2025-03-31 10:23:09 [INFO] Round 1: Excluded 16 outliers\n",
      "2025-03-31 10:23:09 [INFO] Round 1: Average score: 0.9940771460533142\n",
      "2025-03-31 10:23:09 [INFO] Excluded images: ['105_155.jpg', '105_156.jpg', '105_157.jpg', '105_158.jpg', '105_159.jpg', '105_160.jpg', '105_161.jpg', '105_162.jpg', '105_164.jpg', '105_296.jpg', '105_297.jpg', '105_605.jpg', '105_655.jpg', '105_656.jpg', '105_657.jpg', '105_658.jpg']\n",
      "\n",
      "2025-03-31 10:23:11 [ERROR] \n",
      "2025-03-31 10:23:11 [INFO] Done removing outliers\n",
      "2025-03-31 10:23:11 [INFO] Running model chain on preprocessed image(s).\n",
      "2025-03-31 10:23:11 [INFO] Classifying legibility of image(s) using pre-trained model.\n",
      "2025-03-31 10:23:16 [INFO] 2025-03-31 10:23:14 [INFO] Threshold for scores: 0.97, rounds: 1\n",
      "2025-03-31 10:23:14 [INFO] Round 1: Excluded 14 outliers\n",
      "2025-03-31 10:23:14 [INFO] Round 1: Average score: 0.9955688118934631\n",
      "2025-03-31 10:23:14 [INFO] Excluded images: ['102_280.jpg', '102_46.jpg', '102_49.jpg', '102_50.jpg', '102_51.jpg', '102_52.jpg', '102_53.jpg', '102_54.jpg', '102_55.jpg', '102_56.jpg', '102_588.jpg', '102_589.jpg', '102_713.jpg', '102_731.jpg']\n",
      "\n",
      "2025-03-31 10:23:16 [ERROR] \n",
      "2025-03-31 10:23:16 [INFO] Done removing outliers\n",
      "2025-03-31 10:23:16 [INFO] Running model chain on preprocessed image(s).\n",
      "2025-03-31 10:23:16 [INFO] Classifying legibility of image(s) using pre-trained model.\n",
      "2025-03-31 10:23:19 [INFO] Median vs. average vs. max of raw outputs (thresh=0.5): 0.535151332616806, 0.5361230666572984, 0.603615939617157\n",
      "2025-03-31 10:23:19 [INFO] Median vs. average vs. max of kept outputs (thresh=0.5): 0.5370484590530396, 0.5391619155372398, 0.603615939617157\n",
      "2025-03-31 10:23:19 [INFO] Tracklet 101 is legible.\n",
      "2025-03-31 10:23:19 [INFO] Saving legible_tracklets to: c:\\Users\\colin\\OneDrive\\Desktop\\Jersey-Number-Recognition\\data\\SoccerNet\\jersey-2023\\processed_data\\challenge\\101\\legible_results.json\n",
      "2025-03-31 10:23:19 [INFO] Saved legible_tracklets to: c:\\Users\\colin\\OneDrive\\Desktop\\Jersey-Number-Recognition\\data\\SoccerNet\\jersey-2023\\processed_data\\challenge\\101\\legible_results.json\n",
      "2025-03-31 10:23:19 [INFO] Saving illegible_tracklets to: c:\\Users\\colin\\OneDrive\\Desktop\\Jersey-Number-Recognition\\data\\SoccerNet\\jersey-2023\\processed_data\\challenge\\101\\illegible_results.json\n",
      "2025-03-31 10:23:19 [INFO] Saved illegible_tracklets to: c:\\Users\\colin\\OneDrive\\Desktop\\Jersey-Number-Recognition\\data\\SoccerNet\\jersey-2023\\processed_data\\challenge\\101\\illegible_results.json\n",
      "2025-03-31 10:23:19 [INFO] Legibility classification complete.\n",
      "2025-03-31 10:23:19 [INFO] Processed tracklet: 101\n"
     ]
    },
    {
     "name": "stderr",
     "output_type": "stream",
     "text": [
      "Lightning automatically upgraded your loaded checkpoint from v1.1.4 to v2.5.0.post0. To apply the upgrade to your files permanently, run `python -m pytorch_lightning.utilities.upgrade_checkpoint c:\\Users\\colin\\OneDrive\\Desktop\\Jersey-Number-Recognition\\data\\pre_trained_models\\reid\\dukemtmcreid_resnet50_256_128_epoch_120.ckpt`\n"
     ]
    },
    {
     "name": "stdout",
     "output_type": "stream",
     "text": [
      "2025-03-31 10:23:20 [INFO] 2025-03-31 10:23:18 [INFO] Threshold for scores: 0.97, rounds: 1\n",
      "2025-03-31 10:23:18 [INFO] Round 1: Excluded 7 outliers\n",
      "2025-03-31 10:23:18 [INFO] Round 1: Average score: 0.9965168237686157\n",
      "2025-03-31 10:23:18 [INFO] Excluded images: ['99_249.jpg', '99_250.jpg', '99_251.jpg', '99_252.jpg', '99_253.jpg', '99_581.jpg', '99_584.jpg']\n",
      "\n",
      "2025-03-31 10:23:20 [ERROR] \n",
      "2025-03-31 10:23:20 [INFO] Done removing outliers\n",
      "2025-03-31 10:23:20 [INFO] Running model chain on preprocessed image(s).\n",
      "2025-03-31 10:23:20 [INFO] Classifying legibility of image(s) using pre-trained model.\n",
      "2025-03-31 10:23:24 [INFO] 2025-03-31 10:23:23 [INFO] Threshold for scores: 0.97, rounds: 1\n",
      "2025-03-31 10:23:23 [INFO] Round 1: Excluded 23 outliers\n",
      "2025-03-31 10:23:23 [INFO] Round 1: Average score: 0.9912558197975159\n",
      "2025-03-31 10:23:23 [INFO] Excluded images: ['106_137.jpg', '106_138.jpg', '106_139.jpg', '106_140.jpg', '106_141.jpg', '106_142.jpg', '106_143.jpg', '106_145.jpg', '106_146.jpg', '106_147.jpg', '106_151.jpg', '106_153.jpg', '106_155.jpg', '106_156.jpg', '106_202.jpg', '106_203.jpg', '106_204.jpg', '106_205.jpg', '106_206.jpg', '106_207.jpg', '106_208.jpg', '106_294.jpg', '106_432.jpg']\n",
      "\n",
      "2025-03-31 10:23:24 [ERROR] \n",
      "2025-03-31 10:23:24 [INFO] Done removing outliers\n",
      "2025-03-31 10:23:24 [INFO] Running model chain on preprocessed image(s).\n",
      "2025-03-31 10:23:24 [INFO] Classifying legibility of image(s) using pre-trained model.\n",
      "2025-03-31 10:23:26 [INFO] Saved features for tracklet with shape (686, 2048) to c:\\Users\\colin\\OneDrive\\Desktop\\Jersey-Number-Recognition\\data\\SoccerNet\\jersey-2023\\processed_data\\challenge\\107\\features.npy\n",
      "2025-03-31 10:23:26 [INFO] Identifying and removing outliers by calling gaussian_outliers.py on feature file\n",
      "2025-03-31 10:23:28 [INFO] Median vs. average vs. max of raw outputs (thresh=0.5): 0.6046092212200165, 0.602891195922008, 0.648859441280365\n",
      "2025-03-31 10:23:28 [INFO] Median vs. average vs. max of kept outputs (thresh=0.5): 0.6046092212200165, 0.602891195922008, 0.648859441280365\n",
      "2025-03-31 10:23:28 [INFO] Tracklet 98 is legible.\n",
      "2025-03-31 10:23:28 [INFO] Saving legible_tracklets to: c:\\Users\\colin\\OneDrive\\Desktop\\Jersey-Number-Recognition\\data\\SoccerNet\\jersey-2023\\processed_data\\challenge\\98\\legible_results.json\n",
      "2025-03-31 10:23:28 [INFO] Saved legible_tracklets to: c:\\Users\\colin\\OneDrive\\Desktop\\Jersey-Number-Recognition\\data\\SoccerNet\\jersey-2023\\processed_data\\challenge\\98\\legible_results.json\n",
      "2025-03-31 10:23:28 [INFO] Saving illegible_tracklets to: c:\\Users\\colin\\OneDrive\\Desktop\\Jersey-Number-Recognition\\data\\SoccerNet\\jersey-2023\\processed_data\\challenge\\98\\illegible_results.json\n",
      "2025-03-31 10:23:28 [INFO] Saved illegible_tracklets to: c:\\Users\\colin\\OneDrive\\Desktop\\Jersey-Number-Recognition\\data\\SoccerNet\\jersey-2023\\processed_data\\challenge\\98\\illegible_results.json\n",
      "2025-03-31 10:23:28 [INFO] Legibility classification complete.\n",
      "2025-03-31 10:23:28 [INFO] Processed tracklet: 98\n"
     ]
    },
    {
     "name": "stderr",
     "output_type": "stream",
     "text": [
      "Lightning automatically upgraded your loaded checkpoint from v1.1.4 to v2.5.0.post0. To apply the upgrade to your files permanently, run `python -m pytorch_lightning.utilities.upgrade_checkpoint c:\\Users\\colin\\OneDrive\\Desktop\\Jersey-Number-Recognition\\data\\pre_trained_models\\reid\\dukemtmcreid_resnet50_256_128_epoch_120.ckpt`\n"
     ]
    },
    {
     "name": "stdout",
     "output_type": "stream",
     "text": [
      "2025-03-31 10:23:36 [INFO] Median vs. average vs. max of raw outputs (thresh=0.5): 0.49202418327331543, 0.49292450118935965, 0.52999347448349\n",
      "2025-03-31 10:23:36 [INFO] Median vs. average vs. max of kept outputs (thresh=0.5): 0.5072200894355774, 0.5089269718491888, 0.52999347448349\n",
      "2025-03-31 10:23:36 [INFO] Tracklet 100 is legible.\n",
      "2025-03-31 10:23:36 [INFO] Saving legible_tracklets to: c:\\Users\\colin\\OneDrive\\Desktop\\Jersey-Number-Recognition\\data\\SoccerNet\\jersey-2023\\processed_data\\challenge\\100\\legible_results.json\n",
      "2025-03-31 10:23:36 [INFO] Saved legible_tracklets to: c:\\Users\\colin\\OneDrive\\Desktop\\Jersey-Number-Recognition\\data\\SoccerNet\\jersey-2023\\processed_data\\challenge\\100\\legible_results.json\n",
      "2025-03-31 10:23:36 [INFO] Saving illegible_tracklets to: c:\\Users\\colin\\OneDrive\\Desktop\\Jersey-Number-Recognition\\data\\SoccerNet\\jersey-2023\\processed_data\\challenge\\100\\illegible_results.json\n",
      "2025-03-31 10:23:36 [INFO] Saved illegible_tracklets to: c:\\Users\\colin\\OneDrive\\Desktop\\Jersey-Number-Recognition\\data\\SoccerNet\\jersey-2023\\processed_data\\challenge\\100\\illegible_results.json\n",
      "2025-03-31 10:23:36 [INFO] Legibility classification complete.\n",
      "2025-03-31 10:23:36 [INFO] Processed tracklet: 100\n",
      "2025-03-31 10:23:36 [INFO] Saved features for tracklet with shape (618, 2048) to c:\\Users\\colin\\OneDrive\\Desktop\\Jersey-Number-Recognition\\data\\SoccerNet\\jersey-2023\\processed_data\\challenge\\108\\features.npy\n",
      "2025-03-31 10:23:36 [INFO] Identifying and removing outliers by calling gaussian_outliers.py on feature file\n"
     ]
    },
    {
     "name": "stderr",
     "output_type": "stream",
     "text": [
      "Lightning automatically upgraded your loaded checkpoint from v1.1.4 to v2.5.0.post0. To apply the upgrade to your files permanently, run `python -m pytorch_lightning.utilities.upgrade_checkpoint c:\\Users\\colin\\OneDrive\\Desktop\\Jersey-Number-Recognition\\data\\pre_trained_models\\reid\\dukemtmcreid_resnet50_256_128_epoch_120.ckpt`\n"
     ]
    },
    {
     "name": "stdout",
     "output_type": "stream",
     "text": [
      "2025-03-31 10:23:37 [INFO] Median vs. average vs. max of raw outputs (thresh=0.5): 0.5263054668903351, 0.5271216563303093, 0.5601808428764343\n",
      "2025-03-31 10:23:37 [INFO] Median vs. average vs. max of kept outputs (thresh=0.5): 0.5263579189777374, 0.5272290324723279, 0.5601808428764343\n",
      "2025-03-31 10:23:37 [INFO] Tracklet 103 is legible.\n",
      "2025-03-31 10:23:37 [INFO] Saving legible_tracklets to: c:\\Users\\colin\\OneDrive\\Desktop\\Jersey-Number-Recognition\\data\\SoccerNet\\jersey-2023\\processed_data\\challenge\\103\\legible_results.json\n",
      "2025-03-31 10:23:37 [INFO] Saved legible_tracklets to: c:\\Users\\colin\\OneDrive\\Desktop\\Jersey-Number-Recognition\\data\\SoccerNet\\jersey-2023\\processed_data\\challenge\\103\\legible_results.json\n",
      "2025-03-31 10:23:37 [INFO] Saving illegible_tracklets to: c:\\Users\\colin\\OneDrive\\Desktop\\Jersey-Number-Recognition\\data\\SoccerNet\\jersey-2023\\processed_data\\challenge\\103\\illegible_results.json\n",
      "2025-03-31 10:23:37 [INFO] Saved illegible_tracklets to: c:\\Users\\colin\\OneDrive\\Desktop\\Jersey-Number-Recognition\\data\\SoccerNet\\jersey-2023\\processed_data\\challenge\\103\\illegible_results.json\n",
      "2025-03-31 10:23:37 [INFO] Legibility classification complete.\n",
      "2025-03-31 10:23:37 [INFO] Processed tracklet: 103\n",
      "2025-03-31 10:23:42 [INFO] 2025-03-31 10:23:41 [INFO] Threshold for scores: 0.97, rounds: 1\n",
      "2025-03-31 10:23:41 [INFO] Round 1: Excluded 18 outliers\n",
      "2025-03-31 10:23:41 [INFO] Round 1: Average score: 0.9946886301040649\n",
      "2025-03-31 10:23:41 [INFO] Excluded images: ['107_307.jpg', '107_338.jpg', '107_339.jpg', '107_340.jpg', '107_341.jpg', '107_342.jpg', '107_343.jpg', '107_344.jpg', '107_345.jpg', '107_346.jpg', '107_347.jpg', '107_382.jpg', '107_383.jpg', '107_384.jpg', '107_385.jpg', '107_386.jpg', '107_387.jpg', '107_388.jpg']\n",
      "\n",
      "2025-03-31 10:23:42 [ERROR] \n",
      "2025-03-31 10:23:42 [INFO] Done removing outliers\n",
      "2025-03-31 10:23:42 [INFO] Running model chain on preprocessed image(s).\n",
      "2025-03-31 10:23:42 [INFO] Classifying legibility of image(s) using pre-trained model.\n",
      "2025-03-31 10:23:43 [INFO] Saved features for tracklet with shape (750, 2048) to c:\\Users\\colin\\OneDrive\\Desktop\\Jersey-Number-Recognition\\data\\SoccerNet\\jersey-2023\\processed_data\\challenge\\109\\features.npy\n",
      "2025-03-31 10:23:43 [INFO] Identifying and removing outliers by calling gaussian_outliers.py on feature file\n",
      "2025-03-31 10:23:43 [INFO] Median vs. average vs. max of raw outputs (thresh=0.5): 0.5817045569419861, 0.58105924185882, 0.6164629459381104\n",
      "2025-03-31 10:23:43 [INFO] Median vs. average vs. max of kept outputs (thresh=0.5): 0.5817045569419861, 0.58105924185882, 0.6164629459381104\n"
     ]
    },
    {
     "name": "stderr",
     "output_type": "stream",
     "text": [
      "Lightning automatically upgraded your loaded checkpoint from v1.1.4 to v2.5.0.post0. To apply the upgrade to your files permanently, run `python -m pytorch_lightning.utilities.upgrade_checkpoint c:\\Users\\colin\\OneDrive\\Desktop\\Jersey-Number-Recognition\\data\\pre_trained_models\\reid\\dukemtmcreid_resnet50_256_128_epoch_120.ckpt`\n"
     ]
    },
    {
     "name": "stdout",
     "output_type": "stream",
     "text": [
      "2025-03-31 10:23:43 [INFO] Tracklet 104 is legible.\n",
      "2025-03-31 10:23:43 [INFO] Saving legible_tracklets to: c:\\Users\\colin\\OneDrive\\Desktop\\Jersey-Number-Recognition\\data\\SoccerNet\\jersey-2023\\processed_data\\challenge\\104\\legible_results.json\n",
      "2025-03-31 10:23:43 [INFO] Saved legible_tracklets to: c:\\Users\\colin\\OneDrive\\Desktop\\Jersey-Number-Recognition\\data\\SoccerNet\\jersey-2023\\processed_data\\challenge\\104\\legible_results.json\n",
      "2025-03-31 10:23:43 [INFO] Saving illegible_tracklets to: c:\\Users\\colin\\OneDrive\\Desktop\\Jersey-Number-Recognition\\data\\SoccerNet\\jersey-2023\\processed_data\\challenge\\104\\illegible_results.json\n",
      "2025-03-31 10:23:43 [INFO] Saved illegible_tracklets to: c:\\Users\\colin\\OneDrive\\Desktop\\Jersey-Number-Recognition\\data\\SoccerNet\\jersey-2023\\processed_data\\challenge\\104\\illegible_results.json\n",
      "2025-03-31 10:23:43 [INFO] Legibility classification complete.\n",
      "2025-03-31 10:23:43 [INFO] Processed tracklet: 104\n",
      "2025-03-31 10:23:46 [INFO] Median vs. average vs. max of raw outputs (thresh=0.5): 0.47766730189323425, 0.47772107013796605, 0.5146949291229248\n",
      "2025-03-31 10:23:46 [INFO] Median vs. average vs. max of kept outputs (thresh=0.5): 0.5085192024707794, 0.5086770568575177, 0.5146949291229248\n",
      "2025-03-31 10:23:46 [INFO] Tracklet 97 is legible.\n",
      "2025-03-31 10:23:46 [INFO] Saving legible_tracklets to: c:\\Users\\colin\\OneDrive\\Desktop\\Jersey-Number-Recognition\\data\\SoccerNet\\jersey-2023\\processed_data\\challenge\\97\\legible_results.json\n",
      "2025-03-31 10:23:46 [INFO] Saved legible_tracklets to: c:\\Users\\colin\\OneDrive\\Desktop\\Jersey-Number-Recognition\\data\\SoccerNet\\jersey-2023\\processed_data\\challenge\\97\\legible_results.json\n",
      "2025-03-31 10:23:46 [INFO] Saving illegible_tracklets to: c:\\Users\\colin\\OneDrive\\Desktop\\Jersey-Number-Recognition\\data\\SoccerNet\\jersey-2023\\processed_data\\challenge\\97\\illegible_results.json\n",
      "2025-03-31 10:23:46 [INFO] Saved illegible_tracklets to: c:\\Users\\colin\\OneDrive\\Desktop\\Jersey-Number-Recognition\\data\\SoccerNet\\jersey-2023\\processed_data\\challenge\\97\\illegible_results.json\n",
      "2025-03-31 10:23:46 [INFO] Legibility classification complete.\n",
      "2025-03-31 10:23:46 [INFO] Processed tracklet: 97\n",
      "2025-03-31 10:23:47 [INFO] Saved features for tracklet with shape (618, 2048) to c:\\Users\\colin\\OneDrive\\Desktop\\Jersey-Number-Recognition\\data\\SoccerNet\\jersey-2023\\processed_data\\challenge\\110\\features.npy\n",
      "2025-03-31 10:23:47 [INFO] Identifying and removing outliers by calling gaussian_outliers.py on feature file\n"
     ]
    },
    {
     "name": "stderr",
     "output_type": "stream",
     "text": [
      "Lightning automatically upgraded your loaded checkpoint from v1.1.4 to v2.5.0.post0. To apply the upgrade to your files permanently, run `python -m pytorch_lightning.utilities.upgrade_checkpoint c:\\Users\\colin\\OneDrive\\Desktop\\Jersey-Number-Recognition\\data\\pre_trained_models\\reid\\dukemtmcreid_resnet50_256_128_epoch_120.ckpt`\n"
     ]
    },
    {
     "name": "stdout",
     "output_type": "stream",
     "text": [
      "2025-03-31 10:23:51 [INFO] 2025-03-31 10:23:50 [INFO] Threshold for scores: 0.97, rounds: 1\n",
      "2025-03-31 10:23:50 [INFO] Round 1: Excluded 41 outliers\n",
      "2025-03-31 10:23:50 [INFO] Round 1: Average score: 0.9881247878074646\n",
      "2025-03-31 10:23:50 [INFO] Excluded images: ['108_173.jpg', '108_174.jpg', '108_175.jpg', '108_176.jpg', '108_177.jpg', '108_178.jpg', '108_200.jpg', '108_208.jpg', '108_209.jpg', '108_210.jpg', '108_211.jpg', '108_212.jpg', '108_213.jpg', '108_305.jpg', '108_421.jpg', '108_571.jpg', '108_572.jpg', '108_573.jpg', '108_575.jpg', '108_576.jpg', '108_577.jpg', '108_578.jpg', '108_579.jpg', '108_580.jpg', '108_581.jpg', '108_582.jpg', '108_583.jpg', '108_584.jpg', '108_585.jpg', '108_586.jpg', '108_587.jpg', '108_588.jpg', '108_599.jpg', '108_711.jpg', '108_712.jpg', '108_713.jpg', '108_714.jpg', '108_715.jpg', '108_716.jpg', '108_718.jpg', '108_729.jpg']\n",
      "\n",
      "2025-03-31 10:23:51 [ERROR] \n",
      "2025-03-31 10:23:51 [INFO] Done removing outliers\n",
      "2025-03-31 10:23:51 [INFO] Running model chain on preprocessed image(s).\n",
      "2025-03-31 10:23:51 [INFO] Classifying legibility of image(s) using pre-trained model.\n",
      "2025-03-31 10:23:52 [INFO] Saved features for tracklet with shape (583, 2048) to c:\\Users\\colin\\OneDrive\\Desktop\\Jersey-Number-Recognition\\data\\SoccerNet\\jersey-2023\\processed_data\\challenge\\111\\features.npy\n",
      "2025-03-31 10:23:52 [INFO] Identifying and removing outliers by calling gaussian_outliers.py on feature file\n"
     ]
    },
    {
     "name": "stderr",
     "output_type": "stream",
     "text": [
      "Lightning automatically upgraded your loaded checkpoint from v1.1.4 to v2.5.0.post0. To apply the upgrade to your files permanently, run `python -m pytorch_lightning.utilities.upgrade_checkpoint c:\\Users\\colin\\OneDrive\\Desktop\\Jersey-Number-Recognition\\data\\pre_trained_models\\reid\\dukemtmcreid_resnet50_256_128_epoch_120.ckpt`\n"
     ]
    },
    {
     "name": "stdout",
     "output_type": "stream",
     "text": [
      "2025-03-31 10:23:55 [INFO] Median vs. average vs. max of raw outputs (thresh=0.5): 0.5490998327732086, 0.54823864718615, 0.5652661323547363\n",
      "2025-03-31 10:23:55 [INFO] Median vs. average vs. max of kept outputs (thresh=0.5): 0.5490998327732086, 0.54823864718615, 0.5652661323547363\n",
      "2025-03-31 10:23:55 [INFO] Tracklet 105 is legible.\n",
      "2025-03-31 10:23:55 [INFO] Saving legible_tracklets to: c:\\Users\\colin\\OneDrive\\Desktop\\Jersey-Number-Recognition\\data\\SoccerNet\\jersey-2023\\processed_data\\challenge\\105\\legible_results.json\n",
      "2025-03-31 10:23:55 [INFO] Saved legible_tracklets to: c:\\Users\\colin\\OneDrive\\Desktop\\Jersey-Number-Recognition\\data\\SoccerNet\\jersey-2023\\processed_data\\challenge\\105\\legible_results.json\n",
      "2025-03-31 10:23:55 [INFO] Saving illegible_tracklets to: c:\\Users\\colin\\OneDrive\\Desktop\\Jersey-Number-Recognition\\data\\SoccerNet\\jersey-2023\\processed_data\\challenge\\105\\illegible_results.json\n",
      "2025-03-31 10:23:55 [INFO] Saved illegible_tracklets to: c:\\Users\\colin\\OneDrive\\Desktop\\Jersey-Number-Recognition\\data\\SoccerNet\\jersey-2023\\processed_data\\challenge\\105\\illegible_results.json\n",
      "2025-03-31 10:23:55 [INFO] Legibility classification complete.\n",
      "2025-03-31 10:23:55 [INFO] Processed tracklet: 105\n",
      "2025-03-31 10:23:57 [INFO] Saved features for tracklet with shape (750, 2048) to c:\\Users\\colin\\OneDrive\\Desktop\\Jersey-Number-Recognition\\data\\SoccerNet\\jersey-2023\\processed_data\\challenge\\112\\features.npy\n",
      "2025-03-31 10:23:57 [INFO] Identifying and removing outliers by calling gaussian_outliers.py on feature file\n"
     ]
    },
    {
     "name": "stderr",
     "output_type": "stream",
     "text": [
      "Lightning automatically upgraded your loaded checkpoint from v1.1.4 to v2.5.0.post0. To apply the upgrade to your files permanently, run `python -m pytorch_lightning.utilities.upgrade_checkpoint c:\\Users\\colin\\OneDrive\\Desktop\\Jersey-Number-Recognition\\data\\pre_trained_models\\reid\\dukemtmcreid_resnet50_256_128_epoch_120.ckpt`\n"
     ]
    },
    {
     "name": "stdout",
     "output_type": "stream",
     "text": [
      "2025-03-31 10:23:58 [INFO] 2025-03-31 10:23:57 [INFO] Threshold for scores: 0.97, rounds: 1\n",
      "2025-03-31 10:23:57 [INFO] Round 1: Excluded 44 outliers\n",
      "2025-03-31 10:23:57 [INFO] Round 1: Average score: 0.9891157150268555\n",
      "2025-03-31 10:23:57 [INFO] Excluded images: ['109_126.jpg', '109_127.jpg', '109_128.jpg', '109_129.jpg', '109_131.jpg', '109_132.jpg', '109_133.jpg', '109_134.jpg', '109_135.jpg', '109_136.jpg', '109_137.jpg', '109_138.jpg', '109_139.jpg', '109_174.jpg', '109_177.jpg', '109_178.jpg', '109_179.jpg', '109_181.jpg', '109_182.jpg', '109_199.jpg', '109_200.jpg', '109_201.jpg', '109_203.jpg', '109_204.jpg', '109_214.jpg', '109_215.jpg', '109_216.jpg', '109_219.jpg', '109_220.jpg', '109_221.jpg', '109_222.jpg', '109_223.jpg', '109_224.jpg', '109_225.jpg', '109_227.jpg', '109_239.jpg', '109_432.jpg', '109_497.jpg', '109_498.jpg', '109_499.jpg', '109_500.jpg', '109_501.jpg', '109_502.jpg', '109_503.jpg']\n",
      "\n",
      "2025-03-31 10:23:58 [ERROR] \n",
      "2025-03-31 10:23:58 [INFO] Done removing outliers\n",
      "2025-03-31 10:23:58 [INFO] Running model chain on preprocessed image(s).\n",
      "2025-03-31 10:23:58 [INFO] Classifying legibility of image(s) using pre-trained model.\n",
      "2025-03-31 10:24:00 [INFO] Median vs. average vs. max of raw outputs (thresh=0.5): 0.5140340924263, 0.5146769596963909, 0.5609825253486633\n",
      "2025-03-31 10:24:00 [INFO] Median vs. average vs. max of kept outputs (thresh=0.5): 0.5179756283760071, 0.5199819010678337, 0.5609825253486633\n",
      "2025-03-31 10:24:00 [INFO] Tracklet 102 is legible.\n",
      "2025-03-31 10:24:00 [INFO] Saving legible_tracklets to: c:\\Users\\colin\\OneDrive\\Desktop\\Jersey-Number-Recognition\\data\\SoccerNet\\jersey-2023\\processed_data\\challenge\\102\\legible_results.json\n",
      "2025-03-31 10:24:00 [INFO] Saved legible_tracklets to: c:\\Users\\colin\\OneDrive\\Desktop\\Jersey-Number-Recognition\\data\\SoccerNet\\jersey-2023\\processed_data\\challenge\\102\\legible_results.json\n",
      "2025-03-31 10:24:00 [INFO] Saving illegible_tracklets to: c:\\Users\\colin\\OneDrive\\Desktop\\Jersey-Number-Recognition\\data\\SoccerNet\\jersey-2023\\processed_data\\challenge\\102\\illegible_results.json\n",
      "2025-03-31 10:24:00 [INFO] Saved illegible_tracklets to: c:\\Users\\colin\\OneDrive\\Desktop\\Jersey-Number-Recognition\\data\\SoccerNet\\jersey-2023\\processed_data\\challenge\\102\\illegible_results.json\n",
      "2025-03-31 10:24:00 [INFO] Legibility classification complete.\n",
      "2025-03-31 10:24:00 [INFO] Processed tracklet: 102\n",
      "2025-03-31 10:24:02 [INFO] 2025-03-31 10:24:01 [INFO] Threshold for scores: 0.97, rounds: 1\n",
      "2025-03-31 10:24:01 [INFO] Round 1: Excluded 35 outliers\n",
      "2025-03-31 10:24:01 [INFO] Round 1: Average score: 0.9921630024909973\n",
      "2025-03-31 10:24:01 [INFO] Excluded images: ['110_11.jpg', '110_12.jpg', '110_125.jpg', '110_126.jpg', '110_127.jpg', '110_128.jpg', '110_129.jpg', '110_130.jpg', '110_131.jpg', '110_132.jpg', '110_133.jpg', '110_134.jpg', '110_135.jpg', '110_136.jpg', '110_137.jpg', '110_138.jpg', '110_139.jpg', '110_14.jpg', '110_140.jpg', '110_141.jpg', '110_142.jpg', '110_143.jpg', '110_15.jpg', '110_16.jpg', '110_17.jpg', '110_291.jpg', '110_292.jpg', '110_293.jpg', '110_3.jpg', '110_4.jpg', '110_5.jpg', '110_6.jpg', '110_7.jpg', '110_741.jpg', '110_744.jpg']\n",
      "\n",
      "2025-03-31 10:24:02 [ERROR] \n",
      "2025-03-31 10:24:02 [INFO] Done removing outliers\n",
      "2025-03-31 10:24:03 [INFO] Running model chain on preprocessed image(s).\n",
      "2025-03-31 10:24:03 [INFO] Classifying legibility of image(s) using pre-trained model.\n",
      "2025-03-31 10:24:03 [INFO] Saved features for tracklet with shape (658, 2048) to c:\\Users\\colin\\OneDrive\\Desktop\\Jersey-Number-Recognition\\data\\SoccerNet\\jersey-2023\\processed_data\\challenge\\113\\features.npy\n",
      "2025-03-31 10:24:03 [INFO] Identifying and removing outliers by calling gaussian_outliers.py on feature file\n"
     ]
    },
    {
     "name": "stderr",
     "output_type": "stream",
     "text": [
      "Lightning automatically upgraded your loaded checkpoint from v1.1.4 to v2.5.0.post0. To apply the upgrade to your files permanently, run `python -m pytorch_lightning.utilities.upgrade_checkpoint c:\\Users\\colin\\OneDrive\\Desktop\\Jersey-Number-Recognition\\data\\pre_trained_models\\reid\\dukemtmcreid_resnet50_256_128_epoch_120.ckpt`\n"
     ]
    },
    {
     "name": "stdout",
     "output_type": "stream",
     "text": [
      "2025-03-31 10:24:06 [INFO] Median vs. average vs. max of raw outputs (thresh=0.5): 0.5654971599578857, 0.5655879617976977, 0.5864173173904419\n",
      "2025-03-31 10:24:06 [INFO] Median vs. average vs. max of kept outputs (thresh=0.5): 0.5654971599578857, 0.5655879617976977, 0.5864173173904419\n",
      "2025-03-31 10:24:06 [INFO] Tracklet 99 is legible.\n",
      "2025-03-31 10:24:06 [INFO] Saving legible_tracklets to: c:\\Users\\colin\\OneDrive\\Desktop\\Jersey-Number-Recognition\\data\\SoccerNet\\jersey-2023\\processed_data\\challenge\\99\\legible_results.json\n",
      "2025-03-31 10:24:06 [INFO] Saved legible_tracklets to: c:\\Users\\colin\\OneDrive\\Desktop\\Jersey-Number-Recognition\\data\\SoccerNet\\jersey-2023\\processed_data\\challenge\\99\\legible_results.json\n",
      "2025-03-31 10:24:06 [INFO] Saving illegible_tracklets to: c:\\Users\\colin\\OneDrive\\Desktop\\Jersey-Number-Recognition\\data\\SoccerNet\\jersey-2023\\processed_data\\challenge\\99\\illegible_results.json\n",
      "2025-03-31 10:24:06 [INFO] Saved illegible_tracklets to: c:\\Users\\colin\\OneDrive\\Desktop\\Jersey-Number-Recognition\\data\\SoccerNet\\jersey-2023\\processed_data\\challenge\\99\\illegible_results.json\n",
      "2025-03-31 10:24:06 [INFO] Legibility classification complete.\n",
      "2025-03-31 10:24:06 [INFO] Processed tracklet: 99\n",
      "2025-03-31 10:24:08 [INFO] Median vs. average vs. max of raw outputs (thresh=0.5): 0.4857826828956604, 0.48567429730910383, 0.5183731913566589\n",
      "2025-03-31 10:24:08 [INFO] Median vs. average vs. max of kept outputs (thresh=0.5): 0.5031939744949341, 0.5048690111406388, 0.5183731913566589\n",
      "2025-03-31 10:24:08 [INFO] Tracklet 106 is legible.\n",
      "2025-03-31 10:24:08 [INFO] Saving legible_tracklets to: c:\\Users\\colin\\OneDrive\\Desktop\\Jersey-Number-Recognition\\data\\SoccerNet\\jersey-2023\\processed_data\\challenge\\106\\legible_results.json\n",
      "2025-03-31 10:24:08 [INFO] Saved features for tracklet with shape (593, 2048) to c:\\Users\\colin\\OneDrive\\Desktop\\Jersey-Number-Recognition\\data\\SoccerNet\\jersey-2023\\processed_data\\challenge\\114\\features.npy\n",
      "2025-03-31 10:24:08 [INFO] Saved legible_tracklets to: c:\\Users\\colin\\OneDrive\\Desktop\\Jersey-Number-Recognition\\data\\SoccerNet\\jersey-2023\\processed_data\\challenge\\106\\legible_results.json\n",
      "2025-03-31 10:24:08 [INFO] Saving illegible_tracklets to: c:\\Users\\colin\\OneDrive\\Desktop\\Jersey-Number-Recognition\\data\\SoccerNet\\jersey-2023\\processed_data\\challenge\\106\\illegible_results.json\n",
      "2025-03-31 10:24:08 [INFO] Saved illegible_tracklets to: c:\\Users\\colin\\OneDrive\\Desktop\\Jersey-Number-Recognition\\data\\SoccerNet\\jersey-2023\\processed_data\\challenge\\106\\illegible_results.json\n",
      "2025-03-31 10:24:08 [INFO] Legibility classification complete.\n",
      "2025-03-31 10:24:08 [INFO] Processed tracklet: 106\n",
      "2025-03-31 10:24:08 [INFO] Identifying and removing outliers by calling gaussian_outliers.py on feature file\n",
      "2025-03-31 10:24:08 [INFO] 2025-03-31 10:24:07 [INFO] Threshold for scores: 0.97, rounds: 1\n",
      "2025-03-31 10:24:07 [INFO] Round 1: Excluded 19 outliers\n",
      "2025-03-31 10:24:07 [INFO] Round 1: Average score: 0.9936509728431702\n",
      "2025-03-31 10:24:07 [INFO] Excluded images: ['111_10.jpg', '111_11.jpg', '111_12.jpg', '111_13.jpg', '111_14.jpg', '111_17.jpg', '111_19.jpg', '111_20.jpg', '111_21.jpg', '111_264.jpg', '111_30.jpg', '111_31.jpg', '111_33.jpg', '111_37.jpg', '111_38.jpg', '111_39.jpg', '111_40.jpg', '111_8.jpg', '111_9.jpg']\n",
      "\n",
      "2025-03-31 10:24:08 [ERROR] \n",
      "2025-03-31 10:24:08 [INFO] Done removing outliers\n",
      "2025-03-31 10:24:08 [INFO] Running model chain on preprocessed image(s).\n",
      "2025-03-31 10:24:08 [INFO] Classifying legibility of image(s) using pre-trained model.\n"
     ]
    },
    {
     "name": "stderr",
     "output_type": "stream",
     "text": [
      "Lightning automatically upgraded your loaded checkpoint from v1.1.4 to v2.5.0.post0. To apply the upgrade to your files permanently, run `python -m pytorch_lightning.utilities.upgrade_checkpoint c:\\Users\\colin\\OneDrive\\Desktop\\Jersey-Number-Recognition\\data\\pre_trained_models\\reid\\dukemtmcreid_resnet50_256_128_epoch_120.ckpt`\n"
     ]
    },
    {
     "name": "stdout",
     "output_type": "stream",
     "text": [
      "2025-03-31 10:24:12 [INFO] Saved features for tracklet with shape (491, 2048) to c:\\Users\\colin\\OneDrive\\Desktop\\Jersey-Number-Recognition\\data\\SoccerNet\\jersey-2023\\processed_data\\challenge\\115\\features.npy\n",
      "2025-03-31 10:24:12 [INFO] Identifying and removing outliers by calling gaussian_outliers.py on feature file\n"
     ]
    },
    {
     "name": "stderr",
     "output_type": "stream",
     "text": [
      "Lightning automatically upgraded your loaded checkpoint from v1.1.4 to v2.5.0.post0. To apply the upgrade to your files permanently, run `python -m pytorch_lightning.utilities.upgrade_checkpoint c:\\Users\\colin\\OneDrive\\Desktop\\Jersey-Number-Recognition\\data\\pre_trained_models\\reid\\dukemtmcreid_resnet50_256_128_epoch_120.ckpt`\n"
     ]
    },
    {
     "name": "stdout",
     "output_type": "stream",
     "text": [
      "2025-03-31 10:24:13 [INFO] 2025-03-31 10:24:12 [INFO] Threshold for scores: 0.97, rounds: 1\n",
      "2025-03-31 10:24:12 [INFO] Round 1: Excluded 35 outliers\n",
      "2025-03-31 10:24:12 [INFO] Round 1: Average score: 0.990524411201477\n",
      "2025-03-31 10:24:12 [INFO] Excluded images: ['112_131.jpg', '112_132.jpg', '112_133.jpg', '112_134.jpg', '112_135.jpg', '112_136.jpg', '112_137.jpg', '112_138.jpg', '112_139.jpg', '112_140.jpg', '112_141.jpg', '112_143.jpg', '112_144.jpg', '112_145.jpg', '112_146.jpg', '112_147.jpg', '112_151.jpg', '112_206.jpg', '112_207.jpg', '112_208.jpg', '112_220.jpg', '112_229.jpg', '112_231.jpg', '112_258.jpg', '112_267.jpg', '112_268.jpg', '112_269.jpg', '112_270.jpg', '112_271.jpg', '112_272.jpg', '112_273.jpg', '112_274.jpg', '112_276.jpg', '112_277.jpg', '112_278.jpg']\n",
      "\n",
      "2025-03-31 10:24:13 [ERROR] \n",
      "2025-03-31 10:24:13 [INFO] Done removing outliers\n",
      "2025-03-31 10:24:13 [INFO] Running model chain on preprocessed image(s).\n",
      "2025-03-31 10:24:13 [INFO] Classifying legibility of image(s) using pre-trained model.\n",
      "2025-03-31 10:24:15 [INFO] Saved features for tracklet with shape (426, 2048) to c:\\Users\\colin\\OneDrive\\Desktop\\Jersey-Number-Recognition\\data\\SoccerNet\\jersey-2023\\processed_data\\challenge\\116\\features.npy\n",
      "2025-03-31 10:24:15 [INFO] Identifying and removing outliers by calling gaussian_outliers.py on feature file\n",
      "2025-03-31 10:24:19 [INFO] 2025-03-31 10:24:17 [INFO] Threshold for scores: 0.97, rounds: 1\n",
      "2025-03-31 10:24:17 [INFO] Round 1: Excluded 21 outliers\n",
      "2025-03-31 10:24:17 [INFO] Round 1: Average score: 0.9948198199272156\n",
      "2025-03-31 10:24:17 [INFO] Excluded images: ['113_148.jpg', '113_149.jpg', '113_152.jpg', '113_429.jpg', '113_453.jpg', '113_454.jpg', '113_455.jpg', '113_456.jpg', '113_457.jpg', '113_459.jpg', '113_460.jpg', '113_462.jpg', '113_534.jpg', '113_535.jpg', '113_593.jpg', '113_594.jpg', '113_722.jpg', '113_723.jpg', '113_724.jpg', '113_725.jpg', '113_726.jpg']\n",
      "\n",
      "2025-03-31 10:24:19 [ERROR] \n",
      "2025-03-31 10:24:19 [INFO] Done removing outliers\n",
      "2025-03-31 10:24:19 [INFO] Running model chain on preprocessed image(s).\n",
      "2025-03-31 10:24:19 [INFO] Classifying legibility of image(s) using pre-trained model.\n",
      "2025-03-31 10:24:25 [INFO] 2025-03-31 10:24:23 [INFO] Threshold for scores: 0.97, rounds: 1\n",
      "2025-03-31 10:24:23 [INFO] Round 1: Excluded 67 outliers\n",
      "2025-03-31 10:24:23 [INFO] Round 1: Average score: 0.9838653206825256\n",
      "2025-03-31 10:24:23 [INFO] Excluded images: ['114_222.jpg', '114_223.jpg', '114_224.jpg', '114_225.jpg', '114_226.jpg', '114_227.jpg', '114_228.jpg', '114_229.jpg', '114_230.jpg', '114_231.jpg', '114_232.jpg', '114_263.jpg', '114_264.jpg', '114_265.jpg', '114_266.jpg', '114_267.jpg', '114_268.jpg', '114_269.jpg', '114_270.jpg', '114_271.jpg', '114_272.jpg', '114_424.jpg', '114_425.jpg', '114_429.jpg', '114_430.jpg', '114_431.jpg', '114_432.jpg', '114_435.jpg', '114_436.jpg', '114_437.jpg', '114_438.jpg', '114_439.jpg', '114_440.jpg', '114_441.jpg', '114_442.jpg', '114_443.jpg', '114_444.jpg', '114_445.jpg', '114_451.jpg', '114_453.jpg', '114_566.jpg', '114_567.jpg', '114_568.jpg', '114_569.jpg', '114_570.jpg', '114_571.jpg', '114_572.jpg', '114_573.jpg', '114_574.jpg', '114_575.jpg', '114_576.jpg', '114_577.jpg', '114_578.jpg', '114_579.jpg', '114_580.jpg', '114_581.jpg', '114_582.jpg', '114_583.jpg', '114_584.jpg', '114_585.jpg', '114_586.jpg', '114_587.jpg', '114_588.jpg', '114_589.jpg', '114_590.jpg', '114_591.jpg', '114_593.jpg']\n",
      "\n",
      "2025-03-31 10:24:25 [ERROR] \n",
      "2025-03-31 10:24:25 [INFO] Done removing outliers\n",
      "2025-03-31 10:24:25 [INFO] Running model chain on preprocessed image(s).\n",
      "2025-03-31 10:24:25 [INFO] Classifying legibility of image(s) using pre-trained model.\n",
      "2025-03-31 10:24:25 [INFO] Median vs. average vs. max of raw outputs (thresh=0.5): 0.5436210334300995, 0.5454722997135745, 0.5781431794166565\n",
      "2025-03-31 10:24:25 [INFO] Median vs. average vs. max of kept outputs (thresh=0.5): 0.5436210334300995, 0.5454722997135745, 0.5781431794166565\n",
      "2025-03-31 10:24:25 [INFO] Tracklet 107 is legible.\n",
      "2025-03-31 10:24:25 [INFO] Saving legible_tracklets to: c:\\Users\\colin\\OneDrive\\Desktop\\Jersey-Number-Recognition\\data\\SoccerNet\\jersey-2023\\processed_data\\challenge\\107\\legible_results.json\n",
      "2025-03-31 10:24:25 [INFO] Saved legible_tracklets to: c:\\Users\\colin\\OneDrive\\Desktop\\Jersey-Number-Recognition\\data\\SoccerNet\\jersey-2023\\processed_data\\challenge\\107\\legible_results.json\n",
      "2025-03-31 10:24:25 [INFO] Saving illegible_tracklets to: c:\\Users\\colin\\OneDrive\\Desktop\\Jersey-Number-Recognition\\data\\SoccerNet\\jersey-2023\\processed_data\\challenge\\107\\illegible_results.json\n",
      "2025-03-31 10:24:25 [INFO] Saved illegible_tracklets to: c:\\Users\\colin\\OneDrive\\Desktop\\Jersey-Number-Recognition\\data\\SoccerNet\\jersey-2023\\processed_data\\challenge\\107\\illegible_results.json\n",
      "2025-03-31 10:24:25 [INFO] Legibility classification complete.\n",
      "2025-03-31 10:24:25 [INFO] Processed tracklet: 107\n"
     ]
    },
    {
     "name": "stderr",
     "output_type": "stream",
     "text": [
      "Lightning automatically upgraded your loaded checkpoint from v1.1.4 to v2.5.0.post0. To apply the upgrade to your files permanently, run `python -m pytorch_lightning.utilities.upgrade_checkpoint c:\\Users\\colin\\OneDrive\\Desktop\\Jersey-Number-Recognition\\data\\pre_trained_models\\reid\\dukemtmcreid_resnet50_256_128_epoch_120.ckpt`\n"
     ]
    },
    {
     "name": "stdout",
     "output_type": "stream",
     "text": [
      "2025-03-31 10:24:29 [INFO] Saved features for tracklet with shape (355, 2048) to c:\\Users\\colin\\OneDrive\\Desktop\\Jersey-Number-Recognition\\data\\SoccerNet\\jersey-2023\\processed_data\\challenge\\117\\features.npy\n",
      "2025-03-31 10:24:29 [INFO] Identifying and removing outliers by calling gaussian_outliers.py on feature file\n",
      "2025-03-31 10:24:29 [INFO] 2025-03-31 10:24:28 [INFO] Threshold for scores: 0.97, rounds: 1\n",
      "2025-03-31 10:24:28 [INFO] Round 1: Excluded 35 outliers\n",
      "2025-03-31 10:24:28 [INFO] Round 1: Average score: 0.9888723492622375\n",
      "2025-03-31 10:24:28 [INFO] Excluded images: ['115_105.jpg', '115_106.jpg', '115_165.jpg', '115_170.jpg', '115_180.jpg', '115_192.jpg', '115_452.jpg', '115_453.jpg', '115_534.jpg', '115_535.jpg', '115_536.jpg', '115_537.jpg', '115_538.jpg', '115_573.jpg', '115_578.jpg', '115_579.jpg', '115_580.jpg', '115_581.jpg', '115_582.jpg', '115_583.jpg', '115_584.jpg', '115_585.jpg', '115_586.jpg', '115_587.jpg', '115_588.jpg', '115_589.jpg', '115_707.jpg', '115_709.jpg', '115_716.jpg', '115_717.jpg', '115_745.jpg', '115_746.jpg', '115_747.jpg', '115_748.jpg', '115_749.jpg']\n",
      "\n",
      "2025-03-31 10:24:29 [ERROR] \n",
      "2025-03-31 10:24:29 [INFO] Done removing outliers\n",
      "2025-03-31 10:24:29 [INFO] Running model chain on preprocessed image(s).\n",
      "2025-03-31 10:24:29 [INFO] Classifying legibility of image(s) using pre-trained model.\n",
      "2025-03-31 10:24:33 [INFO] 2025-03-31 10:24:31 [INFO] Threshold for scores: 0.97, rounds: 1\n",
      "2025-03-31 10:24:31 [INFO] Round 1: Excluded 23 outliers\n",
      "2025-03-31 10:24:31 [INFO] Round 1: Average score: 0.993438720703125\n",
      "2025-03-31 10:24:31 [INFO] Excluded images: ['116_191.jpg', '116_523.jpg', '116_525.jpg', '116_537.jpg', '116_542.jpg', '116_543.jpg', '116_545.jpg', '116_555.jpg', '116_557.jpg', '116_559.jpg', '116_561.jpg', '116_562.jpg', '116_563.jpg', '116_564.jpg', '116_565.jpg', '116_566.jpg', '116_571.jpg', '116_572.jpg', '116_573.jpg', '116_575.jpg', '116_588.jpg', '116_589.jpg', '116_590.jpg']\n",
      "\n",
      "2025-03-31 10:24:33 [ERROR] \n",
      "2025-03-31 10:24:33 [INFO] Done removing outliers\n",
      "2025-03-31 10:24:33 [INFO] Running model chain on preprocessed image(s).\n",
      "2025-03-31 10:24:33 [INFO] Classifying legibility of image(s) using pre-trained model.\n",
      "2025-03-31 10:24:36 [INFO] Median vs. average vs. max of raw outputs (thresh=0.5): 0.48191434144973755, 0.48293284506277157, 0.5579100847244263\n",
      "2025-03-31 10:24:36 [INFO] Median vs. average vs. max of kept outputs (thresh=0.5): 0.5090811252593994, 0.5158774116066065, 0.5579100847244263\n",
      "2025-03-31 10:24:36 [INFO] Tracklet 108 is legible.\n",
      "2025-03-31 10:24:36 [INFO] Saving legible_tracklets to: c:\\Users\\colin\\OneDrive\\Desktop\\Jersey-Number-Recognition\\data\\SoccerNet\\jersey-2023\\processed_data\\challenge\\108\\legible_results.json\n",
      "2025-03-31 10:24:36 [INFO] Saved legible_tracklets to: c:\\Users\\colin\\OneDrive\\Desktop\\Jersey-Number-Recognition\\data\\SoccerNet\\jersey-2023\\processed_data\\challenge\\108\\legible_results.json\n",
      "2025-03-31 10:24:36 [INFO] Saving illegible_tracklets to: c:\\Users\\colin\\OneDrive\\Desktop\\Jersey-Number-Recognition\\data\\SoccerNet\\jersey-2023\\processed_data\\challenge\\108\\illegible_results.json\n",
      "2025-03-31 10:24:36 [INFO] Saved illegible_tracklets to: c:\\Users\\colin\\OneDrive\\Desktop\\Jersey-Number-Recognition\\data\\SoccerNet\\jersey-2023\\processed_data\\challenge\\108\\illegible_results.json\n",
      "2025-03-31 10:24:36 [INFO] Legibility classification complete.\n",
      "2025-03-31 10:24:36 [INFO] Processed tracklet: 108\n"
     ]
    },
    {
     "name": "stderr",
     "output_type": "stream",
     "text": [
      "Lightning automatically upgraded your loaded checkpoint from v1.1.4 to v2.5.0.post0. To apply the upgrade to your files permanently, run `python -m pytorch_lightning.utilities.upgrade_checkpoint c:\\Users\\colin\\OneDrive\\Desktop\\Jersey-Number-Recognition\\data\\pre_trained_models\\reid\\dukemtmcreid_resnet50_256_128_epoch_120.ckpt`\n"
     ]
    },
    {
     "name": "stdout",
     "output_type": "stream",
     "text": [
      "2025-03-31 10:24:43 [INFO] Saved features for tracklet with shape (350, 2048) to c:\\Users\\colin\\OneDrive\\Desktop\\Jersey-Number-Recognition\\data\\SoccerNet\\jersey-2023\\processed_data\\challenge\\118\\features.npy\n",
      "2025-03-31 10:24:43 [INFO] Identifying and removing outliers by calling gaussian_outliers.py on feature file\n"
     ]
    }
   ],
   "source": [
    "pipeline.run_soccernet(\n",
    "  run_soccer_ball_filter=False,\n",
    "  generate_features=True,\n",
    "  run_filter=True,\n",
    "  run_legible=True,\n",
    "  run_legible_eval=False,\n",
    "  run_pose=True,\n",
    "  run_crops=True,\n",
    "  run_str=True,\n",
    "  run_combine=False,\n",
    "  run_eval=False,\n",
    "  use_clip4str=True,\n",
    "  pyscript=False,\n",
    "  )"
   ]
  },
  {
   "cell_type": "markdown",
   "metadata": {},
   "source": [
    "## Benchmark (current pipeline metrics)\n",
    "### Results\n",
    "- 2025-03-29 14:44:05 [INFO] Correct 1051 out of 1210. Accuracy 86.85950413223141%.\n",
    "- 2025-03-29 14:44:05 [INFO] TP=766, TN=285, FP=70, FN=89\n",
    "- 2025-03-29 14:44:05 [INFO] Precision=0.916267942583732, Recall=0.895906432748538\n",
    "- 2025-03-29 14:44:05 [INFO] F1=0.9059727971614429\n",
    "- 2025-03-29 14:44:05 [INFO] Saved failed legibility cases to:  c:\\Users\\colin\\OneDrive\\Desktop\\Jersey-Number-Recognition\\data\\SoccerNet\\jersey-2023\\processed_data\\test\\common_data\\failed_legibility_cases.json\n",
    "\n",
    "### Analysis\n",
    "legible_but_marked_illegible: 89 cases\n",
    "109, 88, 34, 151, 19, 68, 67, 128, 57, 178, 189, 196, 214, 242, 258, 271, 304, 327, 320, 352, 375, 378, 414, 416, 439, 425, 451, 453, 454, 466, 499, 511, 513, 526, 528, 567, 576, 594, 619, 623, 646, 687, 682, 709, 711, 717, 739, 758, 767, 795, 788, 840, 843, 832, 841, 852, 847, 851, 856, 850, 868, 866, 871, 901, 902, 904, 900, 907, 928, 939, 944, 961, 984, 983, 1005, 1039, 1064, 1063, 1077, 1091, 1101, 1137, 1152, 1153, 1160, 1167, 1157, 1165, 1206\n",
    "\n",
    "illegible_but_marked_legible: 70 cases\n",
    "168, 167, 162, 97, 39, 87, 89, 134, 61, 172, 164, 199, 215, 260, 267, 269, 281, 276, 288, 295, 317, 325, 340, 345, 374, 394, 388, 386, 391, 406, 408, 434, 437, 459, 471, 514, 532, 558, 683, 748, 770, 790, 802, 827, 861, 869, 879, 897, 895, 909, 964, 981, 999, 1023, 1031, 1025, 1033, 1030, 1055, 1088, 1087, 1169, 1175, 1174, 1173, 1183, 1170, 1179, 1184, 1185\n",
    "\n",
    "- Total misclassifications: 159\n",
    "- False negatives (legible marked as illegible): 89\n",
    "- False positives (illegible marked as legible): 70\n",
    "- Percentage of false negatives: 7.36%\n",
    "- Percentage of false positives: 5.79%\n",
    "- Combined percentage of errors as a percentage of total cases: 13.14%"
   ]
  },
  {
   "cell_type": "code",
   "execution_count": null,
   "metadata": {},
   "outputs": [],
   "source": [
    "import json\n",
    "failed_cases = f\"{DataPaths.COMMON_PROCESSED_OUTPUT_DATA_CHALLENGE.value}/failed_legibility_cases.json\"\n",
    "\n",
    "# Load this JSON file\n",
    "with open(failed_cases, 'r') as f:\n",
    "    failed_cases_dict = json.load(f)\n",
    "    # Print the every key and its associated value (value will be a list so need to make that printable with \",\".join):\n",
    "    for key, value in failed_cases_dict.items():\n",
    "        print(f\"{key}: {len(value)} cases\")\n",
    "        if len(value) > 0:\n",
    "            print(f\"{', '.join(value)}\")\n",
    "        print()\n",
    "    \n",
    "    # Summary statistics\n",
    "    legible_but_marked_illegible = len(failed_cases_dict.get(\"legible_but_marked_illegible\", []))\n",
    "    illegible_but_marked_legible = len(failed_cases_dict.get(\"illegible_but_marked_legible\", []))\n",
    "    total_errors = legible_but_marked_illegible + illegible_but_marked_legible\n",
    "    \n",
    "    print(f\"Total misclassifications: {total_errors}\")\n",
    "    print(f\"False negatives (legible marked as illegible): {legible_but_marked_illegible}\")\n",
    "    print(f\"False positives (illegible marked as legible): {illegible_but_marked_legible}\")\n",
    "    print(f\"Percentage of false negatives: {legible_but_marked_illegible / 1210 * 100:.2f}%\")\n",
    "    print(f\"Percentage of false positives: {illegible_but_marked_legible / 1210 * 100:.2f}%\")\n",
    "    print(f\"Combined percentage of errors as a percentage of total cases: {total_errors / 1210 * 100:.2f}%\")"
   ]
  },
  {
   "cell_type": "code",
   "execution_count": null,
   "metadata": {},
   "outputs": [],
   "source": [
    "# import timm\n",
    "# import torch\n",
    "# from torch import nn\n",
    "\n",
    "# model = timm.create_model(\"timm/vit_base_patch16_224.orig_in21k_ft_in1k\", pretrained=False)\n",
    "# model.head = nn.Linear(model.head.in_features, 10)\n",
    "# model.load_state_dict(\n",
    "#     torch.hub.load_state_dict_from_url(\n",
    "#         \"https://huggingface.co/edadaltocg/vit_base_patch16_224_in21k_ft_svhn/resolve/main/pytorch_model.bin\",\n",
    "#         map_location=\"cpu\",\n",
    "#         file_name=\"vit_base_patch16_224_in21k_ft_svhn.pth\",\n",
    "#     )\n",
    "# )"
   ]
  }
 ],
 "metadata": {
  "kernelspec": {
   "display_name": "UBC",
   "language": "python",
   "name": "python3"
  },
  "language_info": {
   "codemirror_mode": {
    "name": "ipython",
    "version": 3
   },
   "file_extension": ".py",
   "mimetype": "text/x-python",
   "name": "python",
   "nbconvert_exporter": "python",
   "pygments_lexer": "ipython3",
   "version": "3.13.1"
  }
 },
 "nbformat": 4,
 "nbformat_minor": 2
}
