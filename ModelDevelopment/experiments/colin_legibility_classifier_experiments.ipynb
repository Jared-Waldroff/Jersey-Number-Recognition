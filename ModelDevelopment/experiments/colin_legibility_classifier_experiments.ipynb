{
 "cells": [
  {
   "cell_type": "code",
   "execution_count": null,
   "metadata": {},
   "outputs": [
    {
     "name": "stdout",
     "output_type": "stream",
     "text": [
      "c:\\Users\\colin\\OneDrive\\Desktop\\Jersey-Number-Recognition\n",
      "Current working directory:  c:\\Users\\colin\\OneDrive\\Desktop\\Jersey-Number-Recognition\\ModelDevelopment\\experiments\n"
     ]
    }
   ],
   "source": [
    "import sys\n",
    "from pathlib import Path\n",
    "import os\n",
    "import json\n",
    "\n",
    "sys.path.append(str(Path.cwd().parent.parent))\n",
    "print(str(Path.cwd().parent.parent))\n",
    "print(\"Current working directory: \", os.getcwd())\n",
    "\n",
    "from DataProcessing.DataAugmentation import ImageEnhancement\n",
    "from ModelDevelopment.CentralPipeline import CentralPipeline\n",
    "from ModelDevelopment.ImageBatchPipeline import ImageBatchPipeline\n",
    "from DataProcessing.DataPreProcessing import DataPaths"
   ]
  },
  {
   "cell_type": "code",
   "execution_count": null,
   "metadata": {},
   "outputs": [
    {
     "name": "stdout",
     "output_type": "stream",
     "text": [
      "2025-04-04 21:10:12 [INFO] DataPreProcessing initialized. Universe of available data paths:\n",
      "2025-04-04 21:10:12 [INFO] ROOT_DATA_DIR: c:\\Users\\colin\\OneDrive\\Desktop\\Jersey-Number-Recognition\\data\\SoccerNet\\jersey-2023\\extracted\n",
      "2025-04-04 21:10:12 [INFO] TEST_DATA_GT: c:\\Users\\colin\\OneDrive\\Desktop\\Jersey-Number-Recognition\\data\\SoccerNet\\jersey-2023\\extracted\\test\\test_gt.json\n",
      "2025-04-04 21:10:12 [INFO] TRAIN_DATA_GT: c:\\Users\\colin\\OneDrive\\Desktop\\Jersey-Number-Recognition\\data\\SoccerNet\\jersey-2023\\extracted\\train\\train_gt.json\n",
      "2025-04-04 21:10:12 [INFO] TEST_DATA_DIR: c:\\Users\\colin\\OneDrive\\Desktop\\Jersey-Number-Recognition\\data\\SoccerNet\\jersey-2023\\extracted\\test\\images\n",
      "2025-04-04 21:10:12 [INFO] TRAIN_DATA_DIR: c:\\Users\\colin\\OneDrive\\Desktop\\Jersey-Number-Recognition\\data\\SoccerNet\\jersey-2023\\extracted\\train\\images\n",
      "2025-04-04 21:10:12 [INFO] CHALLENGE_DATA_DIR: c:\\Users\\colin\\OneDrive\\Desktop\\Jersey-Number-Recognition\\data\\SoccerNet\\jersey-2023\\extracted\\challenge\\images\n",
      "2025-04-04 21:10:12 [INFO] PRE_TRAINED_MODELS_DIR: c:\\Users\\colin\\OneDrive\\Desktop\\Jersey-Number-Recognition\\data\\pre_trained_models\n",
      "2025-04-04 21:10:12 [INFO] REID_PRE_TRAINED: c:\\Users\\colin\\OneDrive\\Desktop\\Jersey-Number-Recognition\\data\\pre_trained_models\\reid\n",
      "2025-04-04 21:10:12 [INFO] STR_PRE_TRAINED: c:\\Users\\colin\\OneDrive\\Desktop\\Jersey-Number-Recognition\\data\\pre_trained_models\\str\n",
      "2025-04-04 21:10:12 [INFO] STR_MODEL: c:\\Users\\colin\\OneDrive\\Desktop\\Jersey-Number-Recognition\\data\\pre_trained_models\\str\\parseq_epoch=24-step=2575-val_accuracy=95.6044-val_NED=96.3255.ckpt\n",
      "2025-04-04 21:10:12 [INFO] REID_MODEL_1: c:\\Users\\colin\\OneDrive\\Desktop\\Jersey-Number-Recognition\\data\\pre_trained_models\\reid\\dukemtmcreid_resnet50_256_128_epoch_120.ckpt\n",
      "2025-04-04 21:10:12 [INFO] REID_MODEL_2: c:\\Users\\colin\\OneDrive\\Desktop\\Jersey-Number-Recognition\\data\\pre_trained_models\\reid\\market1501_resnet50_256_128_epoch_120.ckpt\n",
      "2025-04-04 21:10:12 [INFO] REID_CONFIG_YAML: c:\\Users\\colin\\OneDrive\\Desktop\\Jersey-Number-Recognition\\data\\pre_trained_models\\reid\\configs\\256_resnet50.yml\n",
      "2025-04-04 21:10:12 [INFO] RESNET_MODEL: c:\\Users\\colin\\OneDrive\\Desktop\\Jersey-Number-Recognition\\data\\pre_trained_models\\resnet\\legibility_resnet34_soccer_20240215.pth\n",
      "2025-04-04 21:10:12 [INFO] VIT_MODEL: c:\\Users\\colin\\OneDrive\\Desktop\\Jersey-Number-Recognition\\data\\pre_trained_models\\ViT\\vit_base_patch16_224_in21k_ft_svhn.pth\n",
      "2025-04-04 21:10:12 [INFO] PROCESSED_DATA_OUTPUT_DIR: c:\\Users\\colin\\OneDrive\\Desktop\\Jersey-Number-Recognition\\data\\SoccerNet\\jersey-2023\\processed_data\n",
      "2025-04-04 21:10:12 [INFO] PROCESSED_DATA_OUTPUT_DIR_TRAIN: c:\\Users\\colin\\OneDrive\\Desktop\\Jersey-Number-Recognition\\data\\SoccerNet\\jersey-2023\\processed_data\\train\n",
      "2025-04-04 21:10:12 [INFO] PROCESSED_DATA_OUTPUT_DIR_TEST: c:\\Users\\colin\\OneDrive\\Desktop\\Jersey-Number-Recognition\\data\\SoccerNet\\jersey-2023\\processed_data\\test\n",
      "2025-04-04 21:10:12 [INFO] PROCESSED_DATA_OUTPUT_DIR_CHALLENGE: c:\\Users\\colin\\OneDrive\\Desktop\\Jersey-Number-Recognition\\data\\SoccerNet\\jersey-2023\\processed_data\\challenge\n",
      "2025-04-04 21:10:12 [INFO] COMMON_PROCESSED_OUTPUT_DATA_TRAIN: c:\\Users\\colin\\OneDrive\\Desktop\\Jersey-Number-Recognition\\data\\SoccerNet\\jersey-2023\\processed_data\\train\\common_data\n",
      "2025-04-04 21:10:12 [INFO] COMMON_PROCESSED_OUTPUT_DATA_TEST: c:\\Users\\colin\\OneDrive\\Desktop\\Jersey-Number-Recognition\\data\\SoccerNet\\jersey-2023\\processed_data\\test\\common_data\n",
      "2025-04-04 21:10:12 [INFO] COMMON_PROCESSED_OUTPUT_DATA_CHALLENGE: c:\\Users\\colin\\OneDrive\\Desktop\\Jersey-Number-Recognition\\data\\SoccerNet\\jersey-2023\\processed_data\\challenge\\common_data\n",
      "2025-04-04 21:10:12 [INFO] STREAMLINED_PIPELINE: c:\\Users\\colin\\OneDrive\\Desktop\\Jersey-Number-Recognition\\StreamlinedPipelineScripts\n",
      "2025-04-04 21:10:12 [INFO] ENHANCED_STR_ROOT: c:\\Users\\colin\\OneDrive\\Desktop\\Jersey-Number-Recognition\\data\\pre_trained_models\\clip4str\n",
      "2025-04-04 21:10:12 [INFO] ENHANCED_STR_MAIN: c:\\Users\\colin\\OneDrive\\Desktop\\Jersey-Number-Recognition\\data\\pre_trained_models\\clip4str\\clip4str_huge_3e942729b1.pt\n",
      "2025-04-04 21:10:12 [INFO] ENHANCED_STR_OPEN_CLIP: c:\\Users\\colin\\OneDrive\\Desktop\\Jersey-Number-Recognition\\data\\pre_trained_models\\clip4str\\appleDFN5B-CLIP-ViT-H-14.bin\n",
      "2025-04-04 21:10:12 [INFO] ENHANCED_STR_VIT_L: c:\\Users\\colin\\OneDrive\\Desktop\\Jersey-Number-Recognition\\data\\pre_trained_models\\clip4str\\ViT-L-14.pt\n",
      "2025-04-04 21:10:12 [INFO] ['0', '1', '2', '3', '4', '5', '6', '7', '8', '9']\n",
      "2025-04-04 21:10:12 [INFO] Min tracklet: 0\n",
      "2025-04-04 21:10:12 [INFO] Max tracklet: 1210\n",
      "2025-04-04 21:10:12 [INFO] Using device: cuda\n"
     ]
    }
   ],
   "source": [
    "pipeline = CentralPipeline(\n",
    "  #num_tracklets=1211, #1426,\n",
    "  #num_images_per_tracklet=50,\n",
    "  #tracklets_to_process_override=tracklets_to_process_override_batch1,\n",
    "  #tracklets_to_process_override=[109, 88, 34, 151, 19, 68, 67, 128, 57, 178, 189, 196, 214, 242, 258, 271, 304, 327, 320, 352, 375, 378, 414, 416, 439, 425, 451, 453, 454, 466, 499, 511, 513, 526, 528, 567, 576, 594, 619, 623, 646, 687, 682, 709, 711, 717, 739, 758, 767, 795, 788, 840, 843, 832, 841, 852, 847, 851, 856, 850, 868, 866, 871, 901, 902, 904, 900, 907, 928, 939, 944, 961, 984, 983, 1005, 1039, 1064, 1063, 1077, 1091, 1101, 1137, 1152, 1153, 1160, 1167, 1157, 1165, 1206],\n",
    "  tracklets_to_process_override=[327, 711, 907, 1064],\n",
    "  input_data_path=DataPaths.TEST_DATA_DIR.value, #DataPaths.CHALLENGE_DATA_DIR.value,\n",
    "  output_processed_data_path=DataPaths.PROCESSED_DATA_OUTPUT_DIR_TEST.value, #DataPaths.PROCESSED_DATA_OUTPUT_DIR_CHALLENGE.value,\n",
    "  common_processed_data_dir=DataPaths.COMMON_PROCESSED_OUTPUT_DATA_TEST.value, #DataPaths.COMMON_PROCESSED_OUTPUT_DATA_CHALLENGE.value,\n",
    "  gt_data_path=DataPaths.TEST_DATA_GT.value, #\"\",\n",
    "  use_cache=False, # Set to false to rebuild the cache\n",
    "  suppress_logging=False,\n",
    "  use_image_enhancement=True,\n",
    "  \n",
    "  # --- PARALLELIZATION PARAMS --- These settings are optimal for an NVIDIA RTX 3070 Ti Laptop GPU.\n",
    "  num_workers=2,                   # CRITICAL optimisation param. Adjust accordingly. STR: 1 | Everything else: 6\n",
    "  tracklet_batch_size=32,          # CRITICAL optimisation param. Adjust accordingly. Always 32\n",
    "  image_batch_size=1000,           # CRITICAL optimisation param. Adjust accordingly.\n",
    "  num_threads_multiplier=2         # CRITICAL optimisation param. Adjust accordingly. Always 6\n",
    "  )                                # -> Interpretation: num_threads = num_workers * num_threads_multiplier"
   ]
  },
  {
   "cell_type": "code",
   "execution_count": null,
   "metadata": {},
   "outputs": [],
   "source": [
    "#pipeline.aggregate_legibility_results_data()\n",
    "#pipeline.aggregate_pose()\n",
    "#pipeline.aggregate_str_results()"
   ]
  },
  {
   "cell_type": "code",
   "execution_count": null,
   "metadata": {},
   "outputs": [
    {
     "name": "stdout",
     "output_type": "stream",
     "text": [
      "2025-04-04 21:10:12 [INFO] Running the SoccerNet pipeline.\n",
      "2025-04-04 21:10:12 [INFO] Tracklet override applied. Using provided tracklets: 327, 711, 907, 1064\n"
     ]
    },
    {
     "data": {
      "application/vnd.jupyter.widget-view+json": {
       "model_id": "1dd814f323aa4ad6a955bd3baa36d9f4",
       "version_major": 2,
       "version_minor": 0
      },
      "text/plain": [
       "  0%|          | 0/1 [00:00<?, ?it/s]"
      ]
     },
     "metadata": {},
     "output_type": "display_data"
    },
    {
     "name": "stdout",
     "output_type": "stream",
     "text": [
      "2025-04-04 21:10:12 [INFO] Tracklet batch size: 32\n",
      "2025-04-04 21:10:12 [INFO] Image batch size: 1000\n",
      "2025-04-04 21:10:12 [INFO] Number of workers: 2\n",
      "2025-04-04 21:10:12 [INFO] Number of threads created: 4\n",
      "2025-04-04 21:10:12 [INFO] Using double parallelization: multiprocessing + CUDA batch processing.\n"
     ]
    },
    {
     "data": {
      "application/vnd.jupyter.widget-view+json": {
       "model_id": "23145fefe0d64e22b534bb8f7e68550e",
       "version_major": 2,
       "version_minor": 0
      },
      "text/plain": [
       "Processing tracklets (CUDA + CPU):   0%|          | 0/4 [00:00<?, ?it/s]"
      ]
     },
     "metadata": {},
     "output_type": "display_data"
    },
    {
     "name": "stdout",
     "output_type": "stream",
     "text": [
      "2025-04-04 21:10:20 [INFO] Creating placeholder data files for Soccer Ball Filter.\n",
      "2025-04-04 21:10:20 [INFO] Removed cached tracklet feature file (use_cache: False): c:\\Users\\colin\\OneDrive\\Desktop\\Jersey-Number-Recognition\\data\\SoccerNet\\jersey-2023\\processed_data\\test\\327\\features.npy\n",
      "2025-04-04 21:10:20 [INFO] Removed cached tracklet feature file (use_cache: False): c:\\Users\\colin\\OneDrive\\Desktop\\Jersey-Number-Recognition\\data\\SoccerNet\\jersey-2023\\processed_data\\test\\711\\features.npy\n",
      "2025-04-04 21:10:20 [INFO] Running model chain on preprocessed image(s).\n"
     ]
    },
    {
     "data": {
      "application/vnd.jupyter.widget-view+json": {
       "model_id": "38f640aa085e481d8c0b0c83645d8c9d",
       "version_major": 2,
       "version_minor": 0
      },
      "text/plain": [
       "Processing Batch Tracklets (0-32):   0%|          | 0/4 [00:00<?, ?it/s]"
      ]
     },
     "metadata": {},
     "output_type": "display_data"
    },
    {
     "name": "stdout",
     "output_type": "stream",
     "text": [
      "2025-04-04 21:10:20 [INFO] Classifying legibility of image(s) using pre-trained model.\n",
      "2025-04-04 21:10:20 [INFO] Running model chain on preprocessed image(s).\n",
      "2025-04-04 21:10:20 [INFO] Using all images in tracklet 327 for legibility classification.\n",
      "2025-04-04 21:10:20 [INFO] Classifying legibility of image(s) using pre-trained model.\n",
      "2025-04-04 21:10:20 [INFO] Using all images in tracklet 711 for legibility classification.\n"
     ]
    },
    {
     "name": "stderr",
     "output_type": "stream",
     "text": [
      "c:\\Users\\colin\\miniconda3\\envs\\UBC\\Lib\\site-packages\\torchvision\\models\\_utils.py:208: UserWarning: The parameter 'pretrained' is deprecated since 0.13 and may be removed in the future, please use 'weights' instead.\n",
      "  warnings.warn(\n",
      "c:\\Users\\colin\\miniconda3\\envs\\UBC\\Lib\\site-packages\\torchvision\\models\\_utils.py:223: UserWarning: Arguments other than a weight enum or `None` for 'weights' are deprecated since 0.13 and may be removed in the future. The current behavior is equivalent to passing `weights=ResNet34_Weights.IMAGENET1K_V1`. You can also use `weights=ResNet34_Weights.DEFAULT` to get the most up-to-date weights.\n",
      "  warnings.warn(msg)\n"
     ]
    },
    {
     "name": "stdout",
     "output_type": "stream",
     "text": [
      "2025-04-04 21:10:26 [INFO] Median vs. average vs. max of raw outputs (thresh=0.5): 0.002069826703518629, 0.013950548794103821, 0.7264435291290283\n",
      "2025-04-04 21:10:26 [INFO] Median vs. average vs. max of kept outputs (thresh=0.5): 0.6806122660636902, 0.6687119901180267, 0.7264435291290283\n",
      "2025-04-04 21:10:26 [INFO] Tracklet 711 is legible.\n",
      "2025-04-04 21:10:26 [INFO] Saving legible_tracklets to: c:\\Users\\colin\\OneDrive\\Desktop\\Jersey-Number-Recognition\\data\\SoccerNet\\jersey-2023\\processed_data\\test\\711\\legible_results.json\n",
      "2025-04-04 21:10:26 [INFO] Saved legible_tracklets to: c:\\Users\\colin\\OneDrive\\Desktop\\Jersey-Number-Recognition\\data\\SoccerNet\\jersey-2023\\processed_data\\test\\711\\legible_results.json\n",
      "2025-04-04 21:10:26 [INFO] Saving illegible_tracklets to: c:\\Users\\colin\\OneDrive\\Desktop\\Jersey-Number-Recognition\\data\\SoccerNet\\jersey-2023\\processed_data\\test\\711\\illegible_results.json\n",
      "2025-04-04 21:10:26 [INFO] Saved illegible_tracklets to: c:\\Users\\colin\\OneDrive\\Desktop\\Jersey-Number-Recognition\\data\\SoccerNet\\jersey-2023\\processed_data\\test\\711\\illegible_results.json\n",
      "2025-04-04 21:10:26 [INFO] Legibility classification complete.\n",
      "2025-04-04 21:10:26 [INFO] Processed tracklet: 711\n",
      "2025-04-04 21:10:26 [INFO] Removed cached tracklet feature file (use_cache: False): c:\\Users\\colin\\OneDrive\\Desktop\\Jersey-Number-Recognition\\data\\SoccerNet\\jersey-2023\\processed_data\\test\\907\\features.npy\n",
      "2025-04-04 21:10:26 [INFO] Running model chain on preprocessed image(s).\n",
      "2025-04-04 21:10:26 [INFO] Classifying legibility of image(s) using pre-trained model.\n",
      "2025-04-04 21:10:26 [INFO] Using all images in tracklet 907 for legibility classification.\n",
      "2025-04-04 21:10:36 [INFO] Median vs. average vs. max of raw outputs (thresh=0.5): 0.000423783203586936, 0.006504053392983978, 0.9384846091270447\n",
      "2025-04-04 21:10:36 [INFO] Median vs. average vs. max of kept outputs (thresh=0.5): 0.8029764592647552, 0.8063777089118958, 0.9384846091270447\n",
      "2025-04-04 21:10:36 [INFO] Tracklet 327 is legible.\n",
      "2025-04-04 21:10:36 [INFO] Saving legible_tracklets to: c:\\Users\\colin\\OneDrive\\Desktop\\Jersey-Number-Recognition\\data\\SoccerNet\\jersey-2023\\processed_data\\test\\327\\legible_results.json\n",
      "2025-04-04 21:10:36 [INFO] Saved legible_tracklets to: c:\\Users\\colin\\OneDrive\\Desktop\\Jersey-Number-Recognition\\data\\SoccerNet\\jersey-2023\\processed_data\\test\\327\\legible_results.json\n",
      "2025-04-04 21:10:36 [INFO] Saving illegible_tracklets to: c:\\Users\\colin\\OneDrive\\Desktop\\Jersey-Number-Recognition\\data\\SoccerNet\\jersey-2023\\processed_data\\test\\327\\illegible_results.json\n",
      "2025-04-04 21:10:36 [INFO] Saved illegible_tracklets to: c:\\Users\\colin\\OneDrive\\Desktop\\Jersey-Number-Recognition\\data\\SoccerNet\\jersey-2023\\processed_data\\test\\327\\illegible_results.json\n",
      "2025-04-04 21:10:36 [INFO] Legibility classification complete.\n",
      "2025-04-04 21:10:36 [INFO] Processed tracklet: 327\n",
      "2025-04-04 21:10:36 [INFO] Removed cached tracklet feature file (use_cache: False): c:\\Users\\colin\\OneDrive\\Desktop\\Jersey-Number-Recognition\\data\\SoccerNet\\jersey-2023\\processed_data\\test\\1064\\features.npy\n",
      "2025-04-04 21:10:36 [INFO] Running model chain on preprocessed image(s).\n",
      "2025-04-04 21:10:36 [INFO] Classifying legibility of image(s) using pre-trained model.\n",
      "2025-04-04 21:10:36 [INFO] Using all images in tracklet 1064 for legibility classification.\n",
      "2025-04-04 21:10:42 [INFO] Median vs. average vs. max of raw outputs (thresh=0.5): 0.0004163305275142193, 0.0021880246960984855, 0.6079249978065491\n",
      "2025-04-04 21:10:42 [INFO] Median vs. average vs. max of kept outputs (thresh=0.5): 0.6079249978065491, 0.6079249978065491, 0.6079249978065491\n",
      "2025-04-04 21:10:42 [INFO] Tracklet 907 is legible.\n",
      "2025-04-04 21:10:42 [INFO] Saving legible_tracklets to: c:\\Users\\colin\\OneDrive\\Desktop\\Jersey-Number-Recognition\\data\\SoccerNet\\jersey-2023\\processed_data\\test\\907\\legible_results.json\n",
      "2025-04-04 21:10:42 [INFO] Saved legible_tracklets to: c:\\Users\\colin\\OneDrive\\Desktop\\Jersey-Number-Recognition\\data\\SoccerNet\\jersey-2023\\processed_data\\test\\907\\legible_results.json\n",
      "2025-04-04 21:10:42 [INFO] Saving illegible_tracklets to: c:\\Users\\colin\\OneDrive\\Desktop\\Jersey-Number-Recognition\\data\\SoccerNet\\jersey-2023\\processed_data\\test\\907\\illegible_results.json\n",
      "2025-04-04 21:10:42 [INFO] Saved illegible_tracklets to: c:\\Users\\colin\\OneDrive\\Desktop\\Jersey-Number-Recognition\\data\\SoccerNet\\jersey-2023\\processed_data\\test\\907\\illegible_results.json\n",
      "2025-04-04 21:10:42 [INFO] Legibility classification complete.\n",
      "2025-04-04 21:10:42 [INFO] Processed tracklet: 907\n",
      "2025-04-04 21:10:52 [INFO] Median vs. average vs. max of raw outputs (thresh=0.5): 0.0023609292693436146, 0.03693706693614852, 0.9557955861091614\n",
      "2025-04-04 21:10:52 [INFO] Median vs. average vs. max of kept outputs (thresh=0.5): 0.7944431900978088, 0.7769886161151686, 0.9557955861091614\n",
      "2025-04-04 21:10:52 [INFO] Tracklet 1064 is legible.\n",
      "2025-04-04 21:10:52 [INFO] Saving legible_tracklets to: c:\\Users\\colin\\OneDrive\\Desktop\\Jersey-Number-Recognition\\data\\SoccerNet\\jersey-2023\\processed_data\\test\\1064\\legible_results.json\n",
      "2025-04-04 21:10:52 [INFO] Saved legible_tracklets to: c:\\Users\\colin\\OneDrive\\Desktop\\Jersey-Number-Recognition\\data\\SoccerNet\\jersey-2023\\processed_data\\test\\1064\\legible_results.json\n",
      "2025-04-04 21:10:52 [INFO] Saving illegible_tracklets to: c:\\Users\\colin\\OneDrive\\Desktop\\Jersey-Number-Recognition\\data\\SoccerNet\\jersey-2023\\processed_data\\test\\1064\\illegible_results.json\n",
      "2025-04-04 21:10:52 [INFO] Saved illegible_tracklets to: c:\\Users\\colin\\OneDrive\\Desktop\\Jersey-Number-Recognition\\data\\SoccerNet\\jersey-2023\\processed_data\\test\\1064\\illegible_results.json\n",
      "2025-04-04 21:10:52 [INFO] Legibility classification complete.\n",
      "2025-04-04 21:10:52 [INFO] Processed tracklet: 1064\n",
      "2025-04-04 21:10:52 [INFO] Aggregating legible & illegible results (cache not used or only one file is missing).\n",
      "2025-04-04 21:10:52 [INFO] Saved global legible results to: c:\\Users\\colin\\OneDrive\\Desktop\\Jersey-Number-Recognition\\data\\SoccerNet\\jersey-2023\\processed_data\\test\\common_data\\legible_results.json\n",
      "2025-04-04 21:10:52 [INFO] Saved global illegible results to: c:\\Users\\colin\\OneDrive\\Desktop\\Jersey-Number-Recognition\\data\\SoccerNet\\jersey-2023\\processed_data\\test\\common_data\\illegible_results.json\n",
      "2025-04-04 21:10:52 [INFO] Legible tracklets list: 327, 711, 907, 1064\n",
      "Skipped 0 out of 1 for c:\\Users\\colin\\OneDrive\\Desktop\\Jersey-Number-Recognition\\data\\SoccerNet\\jersey-2023\\processed_data\\test\\907\\pose_results.json\n",
      "2025-04-04 21:10:52 [INFO] Done generating crops for tracklet 907.\n",
      "2025-04-04 21:10:52 [INFO] Skipped dictionary for 907: {}\n"
     ]
    },
    {
     "data": {
      "application/vnd.jupyter.widget-view+json": {
       "model_id": "6fe466e64707428084d5704bd78b2796",
       "version_major": 2,
       "version_minor": 0
      },
      "text/plain": [
       "Generating crops for tracklets:   0%|          | 0/4 [00:00<?, ?it/s]"
      ]
     },
     "metadata": {},
     "output_type": "display_data"
    },
    {
     "name": "stdout",
     "output_type": "stream",
     "text": [
      "2025-04-04 21:10:52 [INFO] Total saved images for 907: 1\n",
      "Skipped 0 out of 4 for c:\\Users\\colin\\OneDrive\\Desktop\\Jersey-Number-Recognition\\data\\SoccerNet\\jersey-2023\\processed_data\\test\\711\\pose_results.json\n",
      "2025-04-04 21:10:52 [INFO] Done generating crops for tracklet 711.\n",
      "Skipped 0 out of 4 for c:\\Users\\colin\\OneDrive\\Desktop\\Jersey-Number-Recognition\\data\\SoccerNet\\jersey-2023\\processed_data\\test\\327\\pose_results.json\n",
      "2025-04-04 21:10:52 [INFO] Done generating crops for tracklet 327.\n",
      "2025-04-04 21:10:52 [INFO] Skipped dictionary for 711: {}\n",
      "2025-04-04 21:10:52 [INFO] Skipped dictionary for 327: {}\n",
      "2025-04-04 21:10:52 [INFO] Total saved images for 711: 4\n",
      "2025-04-04 21:10:52 [INFO] Total saved images for 327: 4\n",
      "Skipped 0 out of 19 for c:\\Users\\colin\\OneDrive\\Desktop\\Jersey-Number-Recognition\\data\\SoccerNet\\jersey-2023\\processed_data\\test\\1064\\pose_results.json\n",
      "2025-04-04 21:10:52 [INFO] Done generating crops for tracklet 1064.\n",
      "2025-04-04 21:10:52 [INFO] Skipped dictionary for 1064: {}\n",
      "2025-04-04 21:10:52 [INFO] Total saved images for 1064: 19\n",
      "2025-04-04 21:10:52 [INFO] Done generating crops (parallel) for all tracklets.\n",
      "2025-04-04 21:10:52 [INFO] Aggregated skipped: {}\n",
      "2025-04-04 21:10:52 [INFO] Total saved across all tracklets: 28\n"
     ]
    }
   ],
   "source": [
    "pipeline.run_soccernet(\n",
    "  run_soccer_ball_filter=False,\n",
    "  generate_features=False,\n",
    "  run_filter=False,\n",
    "  run_legible=True,\n",
    "  run_legible_eval=False,\n",
    "  run_pose=False,\n",
    "  run_crops=True,\n",
    "  run_str=False,\n",
    "  run_combine=False,\n",
    "  run_eval=False,\n",
    "  use_clip4str=True,\n",
    "  pyscript=False,\n",
    "  )\n",
    "#pipeline.aggregate_str_results()"
   ]
  },
  {
   "cell_type": "code",
   "execution_count": null,
   "metadata": {},
   "outputs": [],
   "source": [
    "# import json\n",
    "\n",
    "# with open(\"C:/Users/colin/OneDrive/Desktop/Jersey-Number-Recognition/data/SoccerNet/jersey-2023/processed_data/challenge/common_data/final_results.json\", \"r\") as f:\n",
    "#     data = json.load(f)\n",
    "    \n",
    "# # Create the expected keys range (as strings to match JSON format)\n",
    "# missing_keys = []\n",
    "# for i in range(1426):\n",
    "#   if str(i) not  in data:\n",
    "#     missing_keys.append(i)\n",
    "    \n",
    "# if missing_keys:\n",
    "#   print(\"Missing keys: \", missing_keys)\n",
    "# else:\n",
    "#   print(\"All keys are present.\")"
   ]
  },
  {
   "cell_type": "markdown",
   "metadata": {},
   "source": [
    "## Benchmark (current pipeline metrics)\n",
    "### Results\n",
    "- 2025-03-29 14:44:05 [INFO] Correct 1051 out of 1210. Accuracy 86.85950413223141%.\n",
    "- 2025-03-29 14:44:05 [INFO] TP=766, TN=285, FP=70, FN=89\n",
    "- 2025-03-29 14:44:05 [INFO] Precision=0.916267942583732, Recall=0.895906432748538\n",
    "- 2025-03-29 14:44:05 [INFO] F1=0.9059727971614429\n",
    "- 2025-03-29 14:44:05 [INFO] Saved failed legibility cases to:  c:\\Users\\colin\\OneDrive\\Desktop\\Jersey-Number-Recognition\\data\\SoccerNet\\jersey-2023\\processed_data\\test\\common_data\\failed_legibility_cases.json\n",
    "\n",
    "### Analysis\n",
    "legible_but_marked_illegible: 89 cases\n",
    "109, 88, 34, 151, 19, 68, 67, 128, 57, 178, 189, 196, 214, 242, 258, 271, 304, 327, 320, 352, 375, 378, 414, 416, 439, 425, 451, 453, 454, 466, 499, 511, 513, 526, 528, 567, 576, 594, 619, 623, 646, 687, 682, 709, 711, 717, 739, 758, 767, 795, 788, 840, 843, 832, 841, 852, 847, 851, 856, 850, 868, 866, 871, 901, 902, 904, 900, 907, 928, 939, 944, 961, 984, 983, 1005, 1039, 1064, 1063, 1077, 1091, 1101, 1137, 1152, 1153, 1160, 1167, 1157, 1165, 1206\n",
    "\n",
    "illegible_but_marked_legible: 70 cases\n",
    "168, 167, 162, 97, 39, 87, 89, 134, 61, 172, 164, 199, 215, 260, 267, 269, 281, 276, 288, 295, 317, 325, 340, 345, 374, 394, 388, 386, 391, 406, 408, 434, 437, 459, 471, 514, 532, 558, 683, 748, 770, 790, 802, 827, 861, 869, 879, 897, 895, 909, 964, 981, 999, 1023, 1031, 1025, 1033, 1030, 1055, 1088, 1087, 1169, 1175, 1174, 1173, 1183, 1170, 1179, 1184, 1185\n",
    "\n",
    "- Total misclassifications: 159\n",
    "- False negatives (legible marked as illegible): 89\n",
    "- False positives (illegible marked as legible): 70\n",
    "- Percentage of false negatives: 7.36%\n",
    "- Percentage of false positives: 5.79%\n",
    "- Combined percentage of errors as a percentage of total cases: 13.14%"
   ]
  },
  {
   "cell_type": "code",
   "execution_count": null,
   "metadata": {},
   "outputs": [],
   "source": [
    "# import json\n",
    "# failed_cases = f\"{DataPaths.COMMON_PROCESSED_OUTPUT_DATA_CHALLENGE.value}/failed_legibility_cases.json\"\n",
    "\n",
    "# # Load this JSON file\n",
    "# with open(failed_cases, 'r') as f:\n",
    "#     failed_cases_dict = json.load(f)\n",
    "#     # Print the every key and its associated value (value will be a list so need to make that printable with \",\".join):\n",
    "#     for key, value in failed_cases_dict.items():\n",
    "#         print(f\"{key}: {len(value)} cases\")\n",
    "#         if len(value) > 0:\n",
    "#             print(f\"{', '.join(value)}\")\n",
    "#         print()\n",
    "    \n",
    "#     # Summary statistics\n",
    "#     legible_but_marked_illegible = len(failed_cases_dict.get(\"legible_but_marked_illegible\", []))\n",
    "#     illegible_but_marked_legible = len(failed_cases_dict.get(\"illegible_but_marked_legible\", []))\n",
    "#     total_errors = legible_but_marked_illegible + illegible_but_marked_legible\n",
    "    \n",
    "#     print(f\"Total misclassifications: {total_errors}\")\n",
    "#     print(f\"False negatives (legible marked as illegible): {legible_but_marked_illegible}\")\n",
    "#     print(f\"False positives (illegible marked as legible): {illegible_but_marked_legible}\")\n",
    "#     print(f\"Percentage of false negatives: {legible_but_marked_illegible / 1210 * 100:.2f}%\")\n",
    "#     print(f\"Percentage of false positives: {illegible_but_marked_legible / 1210 * 100:.2f}%\")\n",
    "#     print(f\"Combined percentage of errors as a percentage of total cases: {total_errors / 1210 * 100:.2f}%\")"
   ]
  },
  {
   "cell_type": "code",
   "execution_count": null,
   "metadata": {},
   "outputs": [],
   "source": [
    "# import timm\n",
    "# import torch\n",
    "# from torch import nn\n",
    "\n",
    "# model = timm.create_model(\"timm/vit_base_patch16_224.orig_in21k_ft_in1k\", pretrained=False)\n",
    "# model.head = nn.Linear(model.head.in_features, 10)\n",
    "# model.load_state_dict(\n",
    "#     torch.hub.load_state_dict_from_url(\n",
    "#         \"https://huggingface.co/edadaltocg/vit_base_patch16_224_in21k_ft_svhn/resolve/main/pytorch_model.bin\",\n",
    "#         map_location=\"cpu\",\n",
    "#         file_name=\"vit_base_patch16_224_in21k_ft_svhn.pth\",\n",
    "#     )\n",
    "# )"
   ]
  }
 ],
 "metadata": {
  "kernelspec": {
   "display_name": "UBC",
   "language": "python",
   "name": "python3"
  },
  "language_info": {
   "codemirror_mode": {
    "name": "ipython",
    "version": 3
   },
   "file_extension": ".py",
   "mimetype": "text/x-python",
   "name": "python",
   "nbconvert_exporter": "python",
   "pygments_lexer": "ipython3",
   "version": "3.13.1"
  }
 },
 "nbformat": 4,
 "nbformat_minor": 2
}
