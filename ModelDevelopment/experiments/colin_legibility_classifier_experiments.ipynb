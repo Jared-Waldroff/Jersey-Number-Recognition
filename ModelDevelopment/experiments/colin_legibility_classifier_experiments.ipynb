{
 "cells": [
  {
   "cell_type": "code",
   "execution_count": 1,
   "metadata": {},
   "outputs": [
    {
     "name": "stdout",
     "output_type": "stream",
     "text": [
      "c:\\Users\\colin\\OneDrive\\Desktop\\Jersey-Number-Recognition\n",
      "Current working directory:  c:\\Users\\colin\\OneDrive\\Desktop\\Jersey-Number-Recognition\\ModelDevelopment\\experiments\n"
     ]
    }
   ],
   "source": [
    "import sys\n",
    "from pathlib import Path\n",
    "import os\n",
    "import json\n",
    "\n",
    "sys.path.append(str(Path.cwd().parent.parent))\n",
    "print(str(Path.cwd().parent.parent))\n",
    "print(\"Current working directory: \", os.getcwd())\n",
    "\n",
    "from ModelDevelopment.CentralPipeline import CentralPipeline\n",
    "from ModelDevelopment.ImageBatchPipeline import ImageBatchPipeline\n",
    "from DataProcessing.DataPreProcessing import DataPaths"
   ]
  },
  {
   "cell_type": "code",
   "execution_count": 2,
   "metadata": {},
   "outputs": [
    {
     "name": "stdout",
     "output_type": "stream",
     "text": [
      "Legible tracklets:  ['0', '1', '2', '5', '6', '7', '8', '9', '10', '11', '12', '13', '14', '15', '16', '17', '18', '19', '26', '27', '28', '30', '31', '32', '33', '34', '35', '36', '37', '42', '43', '44', '45', '46', '48', '52', '54', '55', '56', '57', '58', '59', '60', '62', '63', '64', '65', '66', '67', '68', '69', '70', '72', '73', '77', '80', '83', '84', '86', '88', '91', '92', '93', '94', '95', '96', '98', '99', '100', '101', '102', '103', '105', '106', '107', '109', '111', '112', '113', '114', '115', '116', '120', '123', '125', '126', '127', '128', '131', '132', '133', '135', '136', '137', '138', '139', '140', '141', '142', '143', '144', '145', '146', '148', '149', '150', '151', '152', '153', '154', '156', '157', '159', '160', '161', '163', '166', '169', '170', '171', '173', '178', '179', '180', '181', '185', '186', '187', '188', '189', '190', '191', '192', '193', '196', '197', '198', '201', '202', '203', '204', '205', '206', '207', '208', '209', '210', '212', '213', '214', '219', '220', '221', '222', '223', '227', '228', '229', '232', '236', '237', '238', '239', '242', '244', '245', '246', '247', '248', '249', '250', '251', '252', '253', '254', '256', '258', '261', '263', '264', '266', '268', '271', '272', '273', '275', '278', '280', '289', '290', '296', '298', '299', '300', '301', '304', '305', '308', '309', '310', '311', '313', '314', '315', '316', '318', '320', '321', '322', '323', '327', '328', '329', '330', '331', '332', '333', '338', '339', '341', '343', '344', '346', '347', '348', '349', '350', '352', '353', '355', '357', '358', '359', '360', '361', '362', '363', '364', '365', '366', '367', '368', '369', '371', '375', '377', '378', '380', '381', '382', '383', '384', '385', '387', '389', '390', '393', '397', '398', '399', '403', '404', '405', '407', '410', '411', '412', '413', '414', '416', '418', '420', '422', '423', '424', '425', '426', '427', '428', '429', '430', '435', '436', '439', '440', '442', '443', '445', '446', '448', '449', '451', '452', '453', '454', '455', '456', '457', '458', '460', '461', '464', '466', '470', '473', '474', '475', '476', '478', '479', '480', '481', '483', '484', '485', '486', '488', '489', '490', '491', '492', '493', '494', '495', '496', '497', '498', '499', '500', '501', '502', '503', '506', '508', '509', '510', '511', '512', '513', '515', '516', '517', '518', '519', '521', '522', '523', '524', '525', '526', '528', '536', '537', '538', '540', '541', '543', '544', '545', '546', '547', '548', '549', '550', '552', '553', '555', '556', '557', '559', '560', '561', '563', '564', '565', '567', '568', '569', '570', '571', '572', '573', '574', '576', '578', '579', '580', '581', '582', '583', '584', '585', '586', '588', '589', '590', '591', '593', '594', '595', '596', '597', '598', '599', '600', '601', '602', '603', '604', '605', '606', '608', '609', '610', '611', '612', '613', '614', '615', '616', '617', '618', '619', '623', '625', '626', '627', '628', '631', '634', '635', '636', '637', '638', '639', '640', '641', '642', '643', '644', '645', '646', '648', '649', '650', '651', '652', '654', '655', '656', '657', '658', '659', '660', '661', '662', '663', '664', '665', '667', '668', '670', '671', '672', '673', '674', '675', '676', '677', '678', '679', '680', '682', '684', '685', '686', '687', '688', '689', '691', '692', '693', '694', '695', '696', '697', '698', '699', '700', '701', '702', '703', '704', '705', '706', '707', '709', '710', '711', '712', '713', '714', '716', '717', '718', '719', '720', '721', '722', '723', '724', '725', '726', '727', '728', '729', '730', '731', '732', '733', '734', '735', '739', '741', '742', '744', '745', '746', '749', '750', '754', '755', '758', '759', '761', '762', '764', '765', '767', '768', '769', '775', '777', '780', '781', '785', '787', '788', '789', '793', '794', '795', '797', '798', '799', '801', '803', '804', '805', '806', '808', '809', '810', '811', '812', '813', '814', '815', '816', '817', '818', '819', '820', '821', '824', '825', '826', '828', '829', '830', '832', '833', '834', '835', '836', '837', '838', '839', '840', '841', '843', '844', '845', '846', '847', '850', '851', '852', '854', '855', '856', '857', '858', '859', '860', '863', '864', '866', '867', '868', '870', '871', '872', '873', '874', '876', '877', '878', '880', '881', '882', '883', '884', '885', '886', '887', '888', '889', '890', '891', '893', '894', '899', '900', '901', '902', '903', '904', '905', '906', '907', '908', '910', '911', '913', '914', '915', '916', '917', '918', '921', '922', '923', '924', '925', '926', '927', '928', '930', '931', '932', '933', '934', '935', '936', '939', '940', '941', '943', '944', '945', '946', '947', '948', '949', '952', '954', '955', '956', '957', '961', '962', '963', '965', '967', '969', '970', '971', '972', '973', '974', '975', '977', '978', '979', '980', '982', '983', '984', '985', '986', '987', '988', '991', '994', '996', '997', '1000', '1001', '1002', '1005', '1006', '1007', '1008', '1009', '1012', '1013', '1014', '1015', '1016', '1019', '1021', '1022', '1024', '1026', '1027', '1029', '1032', '1035', '1036', '1039', '1041', '1042', '1043', '1046', '1047', '1048', '1049', '1050', '1051', '1052', '1054', '1056', '1057', '1058', '1060', '1061', '1062', '1063', '1064', '1065', '1066', '1068', '1071', '1072', '1073', '1074', '1075', '1076', '1077', '1078', '1079', '1080', '1083', '1084', '1085', '1089', '1091', '1092', '1093', '1094', '1095', '1096', '1097', '1098', '1099', '1101', '1102', '1104', '1105', '1107', '1108', '1109', '1110', '1111', '1112', '1113', '1114', '1115', '1116', '1117', '1118', '1119', '1120', '1121', '1122', '1124', '1125', '1127', '1128', '1129', '1135', '1136', '1137', '1139', '1140', '1142', '1143', '1144', '1145', '1146', '1147', '1148', '1149', '1150', '1151', '1152', '1153', '1154', '1155', '1156', '1157', '1160', '1161', '1162', '1164', '1165', '1166', '1167', '1168', '1172', '1176', '1177', '1178', '1180', '1181', '1182', '1187', '1191', '1192', '1193', '1195', '1196', '1197', '1198', '1200', '1201', '1202', '1203', '1204', '1205', '1206', '1207', '1208', '1209', '1210']\n",
      "Illegible tracklets:  ['3', '4', '20', '21', '22', '23', '24', '25', '29', '38', '39', '40', '41', '47', '49', '50', '51', '53', '61', '71', '74', '75', '76', '78', '79', '81', '82', '85', '87', '89', '90', '97', '104', '108', '110', '117', '118', '119', '121', '122', '124', '129', '130', '134', '147', '155', '158', '162', '164', '165', '167', '168', '172', '174', '175', '176', '177', '182', '183', '184', '194', '195', '199', '200', '211', '215', '216', '217', '218', '224', '225', '226', '230', '231', '233', '234', '235', '240', '241', '243', '255', '257', '259', '260', '262', '265', '267', '269', '270', '274', '276', '277', '279', '281', '282', '283', '284', '285', '286', '287', '288', '291', '292', '293', '294', '295', '297', '302', '303', '306', '307', '312', '317', '319', '324', '325', '326', '334', '335', '336', '337', '340', '342', '345', '351', '354', '356', '370', '372', '373', '374', '376', '379', '386', '388', '391', '392', '394', '395', '396', '400', '401', '402', '406', '408', '409', '415', '417', '419', '421', '431', '432', '433', '434', '437', '438', '441', '444', '447', '450', '459', '462', '463', '465', '467', '468', '469', '471', '472', '477', '482', '487', '504', '505', '507', '514', '520', '527', '529', '530', '531', '532', '533', '534', '535', '539', '542', '551', '554', '558', '562', '566', '575', '577', '587', '592', '607', '620', '621', '622', '624', '629', '630', '632', '633', '647', '653', '666', '669', '681', '683', '690', '708', '715', '736', '737', '738', '740', '743', '747', '748', '751', '752', '753', '756', '757', '760', '763', '766', '770', '771', '772', '773', '774', '776', '778', '779', '782', '783', '784', '786', '790', '791', '792', '796', '800', '802', '807', '822', '823', '827', '831', '842', '848', '849', '853', '861', '862', '865', '869', '875', '879', '892', '895', '896', '897', '898', '909', '912', '919', '920', '929', '937', '938', '942', '950', '951', '953', '958', '959', '960', '964', '966', '968', '976', '981', '989', '990', '992', '993', '995', '998', '999', '1003', '1004', '1010', '1011', '1017', '1018', '1020', '1023', '1025', '1028', '1030', '1031', '1033', '1034', '1037', '1038', '1040', '1044', '1045', '1053', '1055', '1059', '1067', '1069', '1070', '1081', '1082', '1086', '1087', '1088', '1090', '1100', '1103', '1106', '1123', '1126', '1130', '1131', '1132', '1133', '1134', '1138', '1141', '1158', '1159', '1163', '1169', '1170', '1171', '1173', '1174', '1175', '1179', '1183', '1184', '1185', '1186', '1188', '1189', '1190', '1194', '1199']\n"
     ]
    }
   ],
   "source": [
    "gt_test = DataPaths.TEST_DATA_GT.value\n",
    "#Schema of gt_test: {\"0\": 4, \"1\": 93, \"2\": 25, \"3\": -1, \"4\": -1,\n",
    "\n",
    "# load the json and compile a list of all tracklets with -1 as not_legible and all other tracklets as legible\n",
    "with open(gt_test, 'r') as f:\n",
    "    data = json.load(f)\n",
    "    legible = []\n",
    "    illegible = []\n",
    "    \n",
    "    for key, value in data.items():\n",
    "        if value == -1:\n",
    "            illegible.append(key)\n",
    "        else:\n",
    "            legible.append(key)\n",
    "    \n",
    "print(\"Legible tracklets: \", legible)\n",
    "print(\"Illegible tracklets: \", illegible)"
   ]
  },
  {
   "cell_type": "code",
   "execution_count": 3,
   "metadata": {},
   "outputs": [],
   "source": [
    "# # Delete soccer_ball.json files\n",
    "# import os\n",
    "# root_path = r\"C:\\Users\\colin\\OneDrive\\Desktop\\Jersey-Number-Recognition\\data\\SoccerNet\\jersey-2023\\extracted\\test\\images\"\n",
    "\n",
    "# for tracklet in range(1, 1210):\n",
    "#   path = os.path.join(root_path, str(tracklet))\n",
    "  \n",
    "#   # If there is a .soccer_ball.json file in there, delete it\n",
    "#   if os.path.exists(os.path.join(path, \"soccer_ball.json\")):\n",
    "#     os.remove(os.path.join(path, \"soccer_ball.json\"))"
   ]
  },
  {
   "cell_type": "code",
   "execution_count": 4,
   "metadata": {},
   "outputs": [
    {
     "name": "stdout",
     "output_type": "stream",
     "text": [
      "2025-03-30 17:08:26 [INFO] DataPreProcessing initialized. Universe of available data paths:\n",
      "2025-03-30 17:08:26 [INFO] ROOT_DATA_DIR: c:\\Users\\colin\\OneDrive\\Desktop\\Jersey-Number-Recognition\\data\\SoccerNet\\jersey-2023\\extracted\n",
      "2025-03-30 17:08:26 [INFO] TEST_DATA_GT: c:\\Users\\colin\\OneDrive\\Desktop\\Jersey-Number-Recognition\\data\\SoccerNet\\jersey-2023\\extracted\\test\\test_gt.json\n",
      "2025-03-30 17:08:26 [INFO] TRAIN_DATA_GT: c:\\Users\\colin\\OneDrive\\Desktop\\Jersey-Number-Recognition\\data\\SoccerNet\\jersey-2023\\extracted\\train\\train_gt.json\n",
      "2025-03-30 17:08:26 [INFO] TEST_DATA_DIR: c:\\Users\\colin\\OneDrive\\Desktop\\Jersey-Number-Recognition\\data\\SoccerNet\\jersey-2023\\extracted\\test\\images\n",
      "2025-03-30 17:08:26 [INFO] TRAIN_DATA_DIR: c:\\Users\\colin\\OneDrive\\Desktop\\Jersey-Number-Recognition\\data\\SoccerNet\\jersey-2023\\extracted\\train\\images\n",
      "2025-03-30 17:08:26 [INFO] CHALLENGE_DATA_DIR: c:\\Users\\colin\\OneDrive\\Desktop\\Jersey-Number-Recognition\\data\\SoccerNet\\jersey-2023\\extracted\\challenge\\images\n",
      "2025-03-30 17:08:26 [INFO] PRE_TRAINED_MODELS_DIR: c:\\Users\\colin\\OneDrive\\Desktop\\Jersey-Number-Recognition\\data\\pre_trained_models\n",
      "2025-03-30 17:08:26 [INFO] REID_PRE_TRAINED: c:\\Users\\colin\\OneDrive\\Desktop\\Jersey-Number-Recognition\\data\\pre_trained_models\\reid\n",
      "2025-03-30 17:08:26 [INFO] STR_PRE_TRAINED: c:\\Users\\colin\\OneDrive\\Desktop\\Jersey-Number-Recognition\\data\\pre_trained_models\\str\n",
      "2025-03-30 17:08:26 [INFO] STR_MODEL: c:\\Users\\colin\\OneDrive\\Desktop\\Jersey-Number-Recognition\\data\\pre_trained_models\\str\\parseq_epoch=24-step=2575-val_accuracy=95.6044-val_NED=96.3255.ckpt\n",
      "2025-03-30 17:08:26 [INFO] REID_MODEL_1: c:\\Users\\colin\\OneDrive\\Desktop\\Jersey-Number-Recognition\\data\\pre_trained_models\\reid\\dukemtmcreid_resnet50_256_128_epoch_120.ckpt\n",
      "2025-03-30 17:08:26 [INFO] REID_MODEL_2: c:\\Users\\colin\\OneDrive\\Desktop\\Jersey-Number-Recognition\\data\\pre_trained_models\\reid\\market1501_resnet50_256_128_epoch_120.ckpt\n",
      "2025-03-30 17:08:26 [INFO] REID_CONFIG_YAML: c:\\Users\\colin\\OneDrive\\Desktop\\Jersey-Number-Recognition\\data\\pre_trained_models\\reid\\configs\\256_resnet50.yml\n",
      "2025-03-30 17:08:26 [INFO] RESNET_MODEL: c:\\Users\\colin\\OneDrive\\Desktop\\Jersey-Number-Recognition\\data\\pre_trained_models\\resnet\\legibility_resnet34_soccer_20240215.pth\n",
      "2025-03-30 17:08:26 [INFO] VIT_MODEL: c:\\Users\\colin\\OneDrive\\Desktop\\Jersey-Number-Recognition\\data\\pre_trained_models\\ViT\\vit_base_patch16_224_in21k_ft_svhn.pth\n",
      "2025-03-30 17:08:26 [INFO] PROCESSED_DATA_OUTPUT_DIR: c:\\Users\\colin\\OneDrive\\Desktop\\Jersey-Number-Recognition\\data\\SoccerNet\\jersey-2023\\processed_data\n",
      "2025-03-30 17:08:26 [INFO] PROCESSED_DATA_OUTPUT_DIR_TRAIN: c:\\Users\\colin\\OneDrive\\Desktop\\Jersey-Number-Recognition\\data\\SoccerNet\\jersey-2023\\processed_data\\train\n",
      "2025-03-30 17:08:26 [INFO] PROCESSED_DATA_OUTPUT_DIR_TEST: c:\\Users\\colin\\OneDrive\\Desktop\\Jersey-Number-Recognition\\data\\SoccerNet\\jersey-2023\\processed_data\\test\n",
      "2025-03-30 17:08:26 [INFO] PROCESSED_DATA_OUTPUT_DIR_CHALLENGE: c:\\Users\\colin\\OneDrive\\Desktop\\Jersey-Number-Recognition\\data\\SoccerNet\\jersey-2023\\processed_data\\challenge\n",
      "2025-03-30 17:08:26 [INFO] COMMON_PROCESSED_OUTPUT_DATA_TRAIN: c:\\Users\\colin\\OneDrive\\Desktop\\Jersey-Number-Recognition\\data\\SoccerNet\\jersey-2023\\processed_data\\train\\common_data\n",
      "2025-03-30 17:08:26 [INFO] COMMON_PROCESSED_OUTPUT_DATA_TEST: c:\\Users\\colin\\OneDrive\\Desktop\\Jersey-Number-Recognition\\data\\SoccerNet\\jersey-2023\\processed_data\\test\\common_data\n",
      "2025-03-30 17:08:26 [INFO] COMMON_PROCESSED_OUTPUT_DATA_CHALLENGE: c:\\Users\\colin\\OneDrive\\Desktop\\Jersey-Number-Recognition\\data\\SoccerNet\\jersey-2023\\processed_data\\challenge\\common_data\n",
      "2025-03-30 17:08:26 [INFO] STREAMLINED_PIPELINE: c:\\Users\\colin\\OneDrive\\Desktop\\Jersey-Number-Recognition\\StreamlinedPipelineScripts\n",
      "2025-03-30 17:08:26 [INFO] ['0', '1', '2', '3', '4', '5', '6', '7', '8', '9']\n",
      "2025-03-30 17:08:26 [INFO] Min tracklet: 0\n",
      "2025-03-30 17:08:26 [INFO] Max tracklet: 1210\n",
      "2025-03-30 17:08:26 [INFO] Using device: cuda\n"
     ]
    }
   ],
   "source": [
    "pipeline = CentralPipeline(\n",
    "  #tracklets_to_process_override=[109, 88, 34, 151, 19, 68, 67, 128, 57, 178, 189, 196, 214, 242, 258, 271, 304, 327, 320, 352, 375, 378, 414, 416, 439, 425, 451, 453, 454, 466, 499, 511, 513, 526, 528, 567, 576, 594, 619, 623, 646, 687, 682, 709, 711, 717, 739, 758, 767, 795, 788, 840, 843, 832, 841, 852, 847, 851, 856, 850, 868, 866, 871, 901, 902, 904, 900, 907, 928, 939, 944, 961, 984, 983, 1005, 1039, 1064, 1063, 1077, 1091, 1101, 1137, 1152, 1153, 1160, 1167, 1157, 1165, 1206],\n",
    "  tracklets_to_process_override=[327, 711, 907, 1064], # These ones are now passing \n",
    "  #tracklets_to_process_override=illegible,\n",
    "  #tracklets_to_process_override=[168, 167, 162, 97, 39, 87, 89, 134, 61, 172, 164, 199, 215, 260, 267, 269, 281, 276, 288, 295, 317, 325, 340, 345, 374, 394, 388, 386, 391, 406, 408, 434, 437, 459, 471, 514, 532, 558, 683, 748, 770, 790, 802, 827, 861, 869, 879, 897, 895, 909, 964, 981, 999, 1023, 1031, 1025, 1033, 1030, 1055, 1088, 1087, 1169, 1175, 1174, 1173, 1183, 1170, 1179, 1184, 1185],\n",
    "  #num_tracklets=1,\n",
    "  #num_images_per_tracklet=50,\n",
    "  input_data_path=DataPaths.TEST_DATA_DIR.value,\n",
    "  output_processed_data_path=DataPaths.PROCESSED_DATA_OUTPUT_DIR_TEST.value,\n",
    "  common_processed_data_dir=DataPaths.COMMON_PROCESSED_OUTPUT_DATA_TEST.value,\n",
    "  gt_data_path=DataPaths.TEST_DATA_GT.value,\n",
    "  display_transformed_image_sample=False, # NOTE: DO NOT USE. Code is parallelized so we cannot show images anymore. Code breaks, but first one will show if True.\n",
    "  use_cache=False, # Set to false to rebuild the cache\n",
    "  suppress_logging=False,\n",
    "  use_image_enhancement=True,\n",
    "  \n",
    "  # --- PARALLELIZATION PARAMS --- These settings are optimal for an NVIDIA RTX 3070 Ti Laptop GPU.\n",
    "  num_workers=2,            # CRITICAL optimisation param. Adjust accordingly. Pre-processing: 4 | STR: 2 | Crops: 4\n",
    "  tracklet_batch_size=32,   # CRITICAL optimisation param. Adjust accordingly. Always 32\n",
    "  image_batch_size=200,     # CRITICAL optimisation param. Adjust accordingly. Pre-processing: 200 | STR: 100 | Crops: 200\n",
    "  num_threads_multiplier=4  # CRITICAL optimisation param. Adjust accordingly. Pre-processing: 4\n",
    "  )                         #                              Interpretation: num_threads = num_workers * num_threads_multiplier"
   ]
  },
  {
   "cell_type": "code",
   "execution_count": 5,
   "metadata": {},
   "outputs": [
    {
     "name": "stdout",
     "output_type": "stream",
     "text": [
      "2025-03-30 17:08:26 [INFO] Running the SoccerNet pipeline.\n",
      "2025-03-30 17:08:26 [INFO] Tracklet override applied. Using provided tracklets: 327, 711, 907, 1064\n"
     ]
    },
    {
     "data": {
      "application/vnd.jupyter.widget-view+json": {
       "model_id": "3a8e126a00784f49a9cc7c9858afb798",
       "version_major": 2,
       "version_minor": 0
      },
      "text/plain": [
       "  0%|          | 0/1 [00:00<?, ?it/s]"
      ]
     },
     "metadata": {},
     "output_type": "display_data"
    },
    {
     "name": "stdout",
     "output_type": "stream",
     "text": [
      "2025-03-30 17:08:26 [INFO] Tracklet batch size: 32\n",
      "2025-03-30 17:08:26 [INFO] Image batch size: 200\n",
      "2025-03-30 17:08:26 [INFO] Number of workers: 2\n",
      "2025-03-30 17:08:26 [INFO] Number of threads created: 8\n",
      "2025-03-30 17:08:26 [INFO] Using double parallelization: multiprocessing + CUDA batch processing.\n"
     ]
    },
    {
     "data": {
      "application/vnd.jupyter.widget-view+json": {
       "model_id": "48bfdc59b08a4e0d83d72adb2939fd17",
       "version_major": 2,
       "version_minor": 0
      },
      "text/plain": [
       "Processing tracklets (CUDA + CPU):   0%|          | 0/4 [00:00<?, ?it/s]"
      ]
     },
     "metadata": {},
     "output_type": "display_data"
    },
    {
     "name": "stdout",
     "output_type": "stream",
     "text": [
      "2025-03-30 17:08:36 [INFO] Creating placeholder data files for Soccer Ball Filter.\n",
      "2025-03-30 17:08:36 [INFO] Removed cached tracklet feature file (use_cache: False): c:\\Users\\colin\\OneDrive\\Desktop\\Jersey-Number-Recognition\\data\\SoccerNet\\jersey-2023\\processed_data\\test\\327\\features.npy\n",
      "2025-03-30 17:08:36 [INFO] Removed cached tracklet feature file (use_cache: False): c:\\Users\\colin\\OneDrive\\Desktop\\Jersey-Number-Recognition\\data\\SoccerNet\\jersey-2023\\processed_data\\test\\711\\features.npy\n",
      "2025-03-30 17:08:36 [INFO] Removed cached tracklet feature file (use_cache: False): c:\\Users\\colin\\OneDrive\\Desktop\\Jersey-Number-Recognition\\data\\SoccerNet\\jersey-2023\\processed_data\\test\\1064\\features.npy\n",
      "2025-03-30 17:08:36 [INFO] Removed cached tracklet feature file (use_cache: False): c:\\Users\\colin\\OneDrive\\Desktop\\Jersey-Number-Recognition\\data\\SoccerNet\\jersey-2023\\processed_data\\test\\907\\features.npy\n"
     ]
    },
    {
     "data": {
      "application/vnd.jupyter.widget-view+json": {
       "model_id": "b6899ea4b9db43639f3c267102e9e171",
       "version_major": 2,
       "version_minor": 0
      },
      "text/plain": [
       "Processing Batch Tracklets (0-32):   0%|          | 0/4 [00:00<?, ?it/s]"
      ]
     },
     "metadata": {},
     "output_type": "display_data"
    },
    {
     "name": "stderr",
     "output_type": "stream",
     "text": [
      "c:\\Users\\colin\\miniconda3\\envs\\UBC\\Lib\\site-packages\\pytorch_lightning\\utilities\\migration\\migration.py:208: You have multiple `ModelCheckpoint` callback states in this checkpoint, but we found state keys that would end up colliding with each other after an upgrade, which means we can't differentiate which of your checkpoint callbacks needs which states. At least one of your `ModelCheckpoint` callbacks will not be able to reload the state.\n",
      "Lightning automatically upgraded your loaded checkpoint from v1.1.4 to v2.5.0.post0. To apply the upgrade to your files permanently, run `python -m pytorch_lightning.utilities.upgrade_checkpoint c:\\Users\\colin\\OneDrive\\Desktop\\Jersey-Number-Recognition\\data\\pre_trained_models\\reid\\dukemtmcreid_resnet50_256_128_epoch_120.ckpt`\n"
     ]
    },
    {
     "name": "stdout",
     "output_type": "stream",
     "text": [
      "2025-03-30 17:08:39 [INFO] Saved features for tracklet with shape (634, 2048) to c:\\Users\\colin\\OneDrive\\Desktop\\Jersey-Number-Recognition\\data\\SoccerNet\\jersey-2023\\processed_data\\test\\327\\features.npy\n",
      "2025-03-30 17:08:39 [INFO] Identifying and removing outliers by calling gaussian_outliers.py on feature file\n"
     ]
    },
    {
     "name": "stderr",
     "output_type": "stream",
     "text": [
      "Lightning automatically upgraded your loaded checkpoint from v1.1.4 to v2.5.0.post0. To apply the upgrade to your files permanently, run `python -m pytorch_lightning.utilities.upgrade_checkpoint c:\\Users\\colin\\OneDrive\\Desktop\\Jersey-Number-Recognition\\data\\pre_trained_models\\reid\\dukemtmcreid_resnet50_256_128_epoch_120.ckpt`\n"
     ]
    },
    {
     "name": "stdout",
     "output_type": "stream",
     "text": [
      "2025-03-30 17:08:42 [INFO] Saved features for tracklet with shape (543, 2048) to c:\\Users\\colin\\OneDrive\\Desktop\\Jersey-Number-Recognition\\data\\SoccerNet\\jersey-2023\\processed_data\\test\\1064\\features.npy\n",
      "2025-03-30 17:08:42 [INFO] Identifying and removing outliers by calling gaussian_outliers.py on feature file\n"
     ]
    },
    {
     "name": "stderr",
     "output_type": "stream",
     "text": [
      "Lightning automatically upgraded your loaded checkpoint from v1.1.4 to v2.5.0.post0. To apply the upgrade to your files permanently, run `python -m pytorch_lightning.utilities.upgrade_checkpoint c:\\Users\\colin\\OneDrive\\Desktop\\Jersey-Number-Recognition\\data\\pre_trained_models\\reid\\dukemtmcreid_resnet50_256_128_epoch_120.ckpt`\n"
     ]
    },
    {
     "name": "stdout",
     "output_type": "stream",
     "text": [
      "2025-03-30 17:08:44 [INFO] Saved features for tracklet with shape (341, 2048) to c:\\Users\\colin\\OneDrive\\Desktop\\Jersey-Number-Recognition\\data\\SoccerNet\\jersey-2023\\processed_data\\test\\711\\features.npy\n",
      "2025-03-30 17:08:44 [INFO] Identifying and removing outliers by calling gaussian_outliers.py on feature file\n"
     ]
    },
    {
     "name": "stderr",
     "output_type": "stream",
     "text": [
      "Lightning automatically upgraded your loaded checkpoint from v1.1.4 to v2.5.0.post0. To apply the upgrade to your files permanently, run `python -m pytorch_lightning.utilities.upgrade_checkpoint c:\\Users\\colin\\OneDrive\\Desktop\\Jersey-Number-Recognition\\data\\pre_trained_models\\reid\\dukemtmcreid_resnet50_256_128_epoch_120.ckpt`\n"
     ]
    },
    {
     "name": "stdout",
     "output_type": "stream",
     "text": [
      "2025-03-30 17:08:48 [INFO] Saved features for tracklet with shape (750, 2048) to c:\\Users\\colin\\OneDrive\\Desktop\\Jersey-Number-Recognition\\data\\SoccerNet\\jersey-2023\\processed_data\\test\\907\\features.npy\n",
      "2025-03-30 17:08:48 [INFO] Identifying and removing outliers by calling gaussian_outliers.py on feature file\n",
      "2025-03-30 17:08:49 [INFO] 2025-03-30 17:08:48 [INFO] Threshold for scores: 0.98, rounds: 1\n",
      "2025-03-30 17:08:48 [INFO] Round 1: Excluded 19 outliers\n",
      "2025-03-30 17:08:48 [INFO] Round 1: Average score: 0.9968168139457703\n",
      "2025-03-30 17:08:48 [INFO] Excluded images: ['327_117.jpg', '327_118.jpg', '327_119.jpg', '327_120.jpg', '327_133.jpg', '327_134.jpg', '327_135.jpg', '327_136.jpg', '327_137.jpg', '327_138.jpg', '327_139.jpg', '327_140.jpg', '327_142.jpg', '327_143.jpg', '327_144.jpg', '327_147.jpg', '327_149.jpg', '327_247.jpg', '327_248.jpg']\n",
      "\n",
      "2025-03-30 17:08:49 [ERROR] \n",
      "2025-03-30 17:08:49 [INFO] Done removing outliers\n",
      "2025-03-30 17:08:49 [INFO] Running model chain on preprocessed image(s).\n",
      "2025-03-30 17:08:49 [INFO] Classifying legibility of image(s) using pre-trained model.\n"
     ]
    },
    {
     "name": "stderr",
     "output_type": "stream",
     "text": [
      "c:\\Users\\colin\\miniconda3\\envs\\UBC\\Lib\\site-packages\\torchvision\\models\\_utils.py:208: UserWarning: The parameter 'pretrained' is deprecated since 0.13 and may be removed in the future, please use 'weights' instead.\n",
      "  warnings.warn(\n",
      "c:\\Users\\colin\\miniconda3\\envs\\UBC\\Lib\\site-packages\\torchvision\\models\\_utils.py:223: UserWarning: Arguments other than a weight enum or `None` for 'weights' are deprecated since 0.13 and may be removed in the future. The current behavior is equivalent to passing `weights=ResNet34_Weights.IMAGENET1K_V1`. You can also use `weights=ResNet34_Weights.DEFAULT` to get the most up-to-date weights.\n",
      "  warnings.warn(msg)\n"
     ]
    },
    {
     "name": "stdout",
     "output_type": "stream",
     "text": [
      "2025-03-30 17:08:52 [INFO] 2025-03-30 17:08:51 [INFO] Threshold for scores: 0.98, rounds: 1\n",
      "2025-03-30 17:08:51 [INFO] Round 1: Excluded 63 outliers\n",
      "2025-03-30 17:08:51 [INFO] Round 1: Average score: 0.9917810559272766\n",
      "2025-03-30 17:08:51 [INFO] Excluded images: ['1064_208.jpg', '1064_209.jpg', '1064_210.jpg', '1064_212.jpg', '1064_213.jpg', '1064_214.jpg', '1064_221.jpg', '1064_225.jpg', '1064_226.jpg', '1064_227.jpg', '1064_228.jpg', '1064_229.jpg', '1064_230.jpg', '1064_231.jpg', '1064_235.jpg', '1064_236.jpg', '1064_239.jpg', '1064_241.jpg', '1064_242.jpg', '1064_243.jpg', '1064_244.jpg', '1064_245.jpg', '1064_249.jpg', '1064_250.jpg', '1064_251.jpg', '1064_252.jpg', '1064_258.jpg', '1064_259.jpg', '1064_265.jpg', '1064_266.jpg', '1064_279.jpg', '1064_280.jpg', '1064_281.jpg', '1064_282.jpg', '1064_283.jpg', '1064_296.jpg', '1064_297.jpg', '1064_301.jpg', '1064_303.jpg', '1064_304.jpg', '1064_306.jpg', '1064_307.jpg', '1064_311.jpg', '1064_676.jpg', '1064_677.jpg', '1064_678.jpg', '1064_679.jpg', '1064_706.jpg', '1064_708.jpg', '1064_709.jpg', '1064_710.jpg', '1064_711.jpg', '1064_712.jpg', '1064_713.jpg', '1064_714.jpg', '1064_715.jpg', '1064_718.jpg', '1064_719.jpg', '1064_720.jpg', '1064_721.jpg', '1064_722.jpg', '1064_723.jpg', '1064_724.jpg']\n",
      "\n",
      "2025-03-30 17:08:52 [ERROR] \n",
      "2025-03-30 17:08:52 [INFO] Done removing outliers\n",
      "2025-03-30 17:08:52 [INFO] Running model chain on preprocessed image(s).\n",
      "2025-03-30 17:08:52 [INFO] Classifying legibility of image(s) using pre-trained model.\n",
      "2025-03-30 17:08:55 [INFO] 2025-03-30 17:08:54 [INFO] Threshold for scores: 0.98, rounds: 1\n",
      "2025-03-30 17:08:54 [INFO] Round 1: Excluded 4 outliers\n",
      "2025-03-30 17:08:54 [INFO] Round 1: Average score: 0.9976464509963989\n",
      "2025-03-30 17:08:54 [INFO] Excluded images: ['711_343.jpg', '711_413.jpg', '711_481.jpg', '711_482.jpg']\n",
      "\n",
      "2025-03-30 17:08:55 [ERROR] \n",
      "2025-03-30 17:08:55 [INFO] Done removing outliers\n",
      "2025-03-30 17:08:55 [INFO] Running model chain on preprocessed image(s).\n",
      "2025-03-30 17:08:55 [INFO] Classifying legibility of image(s) using pre-trained model.\n",
      "2025-03-30 17:08:59 [INFO] 2025-03-30 17:08:58 [INFO] Threshold for scores: 0.98, rounds: 1\n",
      "2025-03-30 17:08:58 [INFO] Round 1: Excluded 87 outliers\n",
      "2025-03-30 17:08:58 [INFO] Round 1: Average score: 0.9835696816444397\n",
      "2025-03-30 17:08:58 [INFO] Excluded images: ['907_330.jpg', '907_331.jpg', '907_332.jpg', '907_333.jpg', '907_334.jpg', '907_335.jpg', '907_336.jpg', '907_337.jpg', '907_338.jpg', '907_339.jpg', '907_340.jpg', '907_341.jpg', '907_605.jpg', '907_606.jpg', '907_607.jpg', '907_608.jpg', '907_609.jpg', '907_610.jpg', '907_611.jpg', '907_627.jpg', '907_637.jpg', '907_638.jpg', '907_639.jpg', '907_640.jpg', '907_641.jpg', '907_642.jpg', '907_643.jpg', '907_644.jpg', '907_645.jpg', '907_646.jpg', '907_647.jpg', '907_648.jpg', '907_649.jpg', '907_650.jpg', '907_651.jpg', '907_652.jpg', '907_680.jpg', '907_684.jpg', '907_685.jpg', '907_686.jpg', '907_687.jpg', '907_688.jpg', '907_689.jpg', '907_690.jpg', '907_691.jpg', '907_692.jpg', '907_695.jpg', '907_696.jpg', '907_697.jpg', '907_698.jpg', '907_699.jpg', '907_701.jpg', '907_702.jpg', '907_703.jpg', '907_704.jpg', '907_705.jpg', '907_706.jpg', '907_707.jpg', '907_708.jpg', '907_710.jpg', '907_711.jpg', '907_712.jpg', '907_713.jpg', '907_714.jpg', '907_715.jpg', '907_716.jpg', '907_717.jpg', '907_718.jpg', '907_723.jpg', '907_724.jpg', '907_728.jpg', '907_729.jpg', '907_730.jpg', '907_734.jpg', '907_735.jpg', '907_736.jpg', '907_737.jpg', '907_738.jpg', '907_740.jpg', '907_742.jpg', '907_743.jpg', '907_744.jpg', '907_745.jpg', '907_746.jpg', '907_747.jpg', '907_748.jpg', '907_750.jpg']\n",
      "\n",
      "2025-03-30 17:08:59 [ERROR] \n",
      "2025-03-30 17:08:59 [INFO] Done removing outliers\n",
      "2025-03-30 17:08:59 [INFO] Running model chain on preprocessed image(s).\n",
      "2025-03-30 17:08:59 [INFO] Classifying legibility of image(s) using pre-trained model.\n",
      "2025-03-30 17:09:03 [INFO] Median vs. average vs. max of raw outputs (thresh=0.5): 0.0023606964386999607, 0.015835772045102205, 0.8395035266876221\n",
      "2025-03-30 17:09:03 [INFO] Median vs. average vs. max of kept outputs (thresh=0.5): 0.6612240374088287, 0.6574308375517527, 0.8395035266876221\n",
      "2025-03-30 17:09:03 [INFO] Tracklet 1064 is legible.\n",
      "2025-03-30 17:09:03 [INFO] Saving legible_tracklets to: c:\\Users\\colin\\OneDrive\\Desktop\\Jersey-Number-Recognition\\data\\SoccerNet\\jersey-2023\\processed_data\\test\\1064\\legible_results.json\n",
      "2025-03-30 17:09:03 [INFO] Saved legible_tracklets to: c:\\Users\\colin\\OneDrive\\Desktop\\Jersey-Number-Recognition\\data\\SoccerNet\\jersey-2023\\processed_data\\test\\1064\\legible_results.json\n",
      "2025-03-30 17:09:03 [INFO] Saving illegible_tracklets to: c:\\Users\\colin\\OneDrive\\Desktop\\Jersey-Number-Recognition\\data\\SoccerNet\\jersey-2023\\processed_data\\test\\1064\\illegible_results.json\n",
      "2025-03-30 17:09:03 [INFO] Saved illegible_tracklets to: c:\\Users\\colin\\OneDrive\\Desktop\\Jersey-Number-Recognition\\data\\SoccerNet\\jersey-2023\\processed_data\\test\\1064\\illegible_results.json\n",
      "2025-03-30 17:09:03 [INFO] Legibility classification complete.\n",
      "2025-03-30 17:09:03 [INFO] Processed tracklet: 1064\n",
      "2025-03-30 17:09:06 [INFO] Median vs. average vs. max of raw outputs (thresh=0.5): 0.0021542112808674574, 0.014103829865437139, 0.7264417409896851\n",
      "2025-03-30 17:09:06 [INFO] Median vs. average vs. max of kept outputs (thresh=0.5): 0.6805843114852905, 0.6686818450689316, 0.7264417409896851\n",
      "2025-03-30 17:09:06 [INFO] Tracklet 711 is legible.\n",
      "2025-03-30 17:09:06 [INFO] Saving legible_tracklets to: c:\\Users\\colin\\OneDrive\\Desktop\\Jersey-Number-Recognition\\data\\SoccerNet\\jersey-2023\\processed_data\\test\\711\\legible_results.json\n",
      "2025-03-30 17:09:06 [INFO] Saved legible_tracklets to: c:\\Users\\colin\\OneDrive\\Desktop\\Jersey-Number-Recognition\\data\\SoccerNet\\jersey-2023\\processed_data\\test\\711\\legible_results.json\n",
      "2025-03-30 17:09:06 [INFO] Saving illegible_tracklets to: c:\\Users\\colin\\OneDrive\\Desktop\\Jersey-Number-Recognition\\data\\SoccerNet\\jersey-2023\\processed_data\\test\\711\\illegible_results.json\n",
      "2025-03-30 17:09:06 [INFO] Saved illegible_tracklets to: c:\\Users\\colin\\OneDrive\\Desktop\\Jersey-Number-Recognition\\data\\SoccerNet\\jersey-2023\\processed_data\\test\\711\\illegible_results.json\n",
      "2025-03-30 17:09:06 [INFO] Legibility classification complete.\n",
      "2025-03-30 17:09:06 [INFO] Processed tracklet: 711\n",
      "2025-03-30 17:09:16 [INFO] Median vs. average vs. max of raw outputs (thresh=0.5): 0.0004180593532510102, 0.006613947582886388, 0.938482940196991\n",
      "2025-03-30 17:09:16 [INFO] Median vs. average vs. max of kept outputs (thresh=0.5): 0.8029797971248627, 0.8063800781965256, 0.938482940196991\n",
      "2025-03-30 17:09:16 [INFO] Tracklet 327 is legible.\n",
      "2025-03-30 17:09:16 [INFO] Saving legible_tracklets to: c:\\Users\\colin\\OneDrive\\Desktop\\Jersey-Number-Recognition\\data\\SoccerNet\\jersey-2023\\processed_data\\test\\327\\legible_results.json\n",
      "2025-03-30 17:09:16 [INFO] Saved legible_tracklets to: c:\\Users\\colin\\OneDrive\\Desktop\\Jersey-Number-Recognition\\data\\SoccerNet\\jersey-2023\\processed_data\\test\\327\\legible_results.json\n",
      "2025-03-30 17:09:16 [INFO] Saving illegible_tracklets to: c:\\Users\\colin\\OneDrive\\Desktop\\Jersey-Number-Recognition\\data\\SoccerNet\\jersey-2023\\processed_data\\test\\327\\illegible_results.json\n",
      "2025-03-30 17:09:16 [INFO] Saved illegible_tracklets to: c:\\Users\\colin\\OneDrive\\Desktop\\Jersey-Number-Recognition\\data\\SoccerNet\\jersey-2023\\processed_data\\test\\327\\illegible_results.json\n",
      "2025-03-30 17:09:16 [INFO] Legibility classification complete.\n",
      "2025-03-30 17:09:16 [INFO] Processed tracklet: 327\n",
      "2025-03-30 17:09:23 [INFO] Median vs. average vs. max of raw outputs (thresh=0.5): 0.0003859732241835445, 0.0005773784882732461, 0.01720358245074749\n",
      "2025-03-30 17:09:23 [INFO] Median vs. average vs. max of kept outputs (thresh=0.5): 0.0, 0.0, 0.0\n",
      "2025-03-30 17:09:23 [INFO] Tracklet 907 is illegible.\n",
      "2025-03-30 17:09:23 [INFO] Saving legible_tracklets to: c:\\Users\\colin\\OneDrive\\Desktop\\Jersey-Number-Recognition\\data\\SoccerNet\\jersey-2023\\processed_data\\test\\907\\legible_results.json\n",
      "2025-03-30 17:09:23 [INFO] Saved legible_tracklets to: c:\\Users\\colin\\OneDrive\\Desktop\\Jersey-Number-Recognition\\data\\SoccerNet\\jersey-2023\\processed_data\\test\\907\\legible_results.json\n",
      "2025-03-30 17:09:23 [INFO] Saving illegible_tracklets to: c:\\Users\\colin\\OneDrive\\Desktop\\Jersey-Number-Recognition\\data\\SoccerNet\\jersey-2023\\processed_data\\test\\907\\illegible_results.json\n",
      "2025-03-30 17:09:23 [INFO] Saved illegible_tracklets to: c:\\Users\\colin\\OneDrive\\Desktop\\Jersey-Number-Recognition\\data\\SoccerNet\\jersey-2023\\processed_data\\test\\907\\illegible_results.json\n",
      "2025-03-30 17:09:23 [INFO] Legibility classification complete.\n",
      "2025-03-30 17:09:23 [INFO] Processed tracklet: 907\n",
      "2025-03-30 17:09:23 [INFO] Evaluating legibility results on 4 tracklets\n"
     ]
    },
    {
     "data": {
      "application/vnd.jupyter.widget-view+json": {
       "model_id": "2d711cdc0a2143bfb676fefe02a9d89a",
       "version_major": 2,
       "version_minor": 0
      },
      "text/plain": [
       "Evaluating legibility:   0%|          | 0/4 [00:00<?, ?it/s]"
      ]
     },
     "metadata": {},
     "output_type": "display_data"
    },
    {
     "name": "stdout",
     "output_type": "stream",
     "text": [
      "2025-03-30 17:09:23 [INFO] Correct 3 out of 4. Accuracy 75.0%.\n",
      "2025-03-30 17:09:23 [INFO] TP=3, TN=0, FP=0, FN=1\n",
      "2025-03-30 17:09:23 [INFO] Precision=1.0, Recall=0.75\n",
      "2025-03-30 17:09:23 [INFO] F1=0.8571428571428571\n",
      "2025-03-30 17:09:23 [INFO] Saved failed legibility cases to: c:\\Users\\colin\\OneDrive\\Desktop\\Jersey-Number-Recognition\\data\\SoccerNet\\jersey-2023\\processed_data\\test\\common_data\\failed_legibility_cases.json\n"
     ]
    }
   ],
   "source": [
    "pipeline.run_soccernet(\n",
    "  run_soccer_ball_filter=False,\n",
    "  generate_features=True,\n",
    "  run_filter=True,\n",
    "  run_legible=True,\n",
    "  run_legible_eval=True,\n",
    "  run_pose=False,\n",
    "  run_crops=False,\n",
    "  run_str=False,\n",
    "  run_combine=False,\n",
    "  run_eval=False,\n",
    "  use_clip4str=False,\n",
    "  pyscript=False,\n",
    "  )"
   ]
  },
  {
   "cell_type": "markdown",
   "metadata": {},
   "source": [
    "## Benchmark (current pipeline metrics)\n",
    "### Results\n",
    "- 2025-03-29 14:44:05 [INFO] Correct 1051 out of 1210. Accuracy 86.85950413223141%.\n",
    "- 2025-03-29 14:44:05 [INFO] TP=766, TN=285, FP=70, FN=89\n",
    "- 2025-03-29 14:44:05 [INFO] Precision=0.916267942583732, Recall=0.895906432748538\n",
    "- 2025-03-29 14:44:05 [INFO] F1=0.9059727971614429\n",
    "- 2025-03-29 14:44:05 [INFO] Saved failed legibility cases to:  c:\\Users\\colin\\OneDrive\\Desktop\\Jersey-Number-Recognition\\data\\SoccerNet\\jersey-2023\\processed_data\\test\\common_data\\failed_legibility_cases.json\n",
    "\n",
    "### Analysis\n",
    "legible_but_marked_illegible: 89 cases\n",
    "109, 88, 34, 151, 19, 68, 67, 128, 57, 178, 189, 196, 214, 242, 258, 271, 304, 327, 320, 352, 375, 378, 414, 416, 439, 425, 451, 453, 454, 466, 499, 511, 513, 526, 528, 567, 576, 594, 619, 623, 646, 687, 682, 709, 711, 717, 739, 758, 767, 795, 788, 840, 843, 832, 841, 852, 847, 851, 856, 850, 868, 866, 871, 901, 902, 904, 900, 907, 928, 939, 944, 961, 984, 983, 1005, 1039, 1064, 1063, 1077, 1091, 1101, 1137, 1152, 1153, 1160, 1167, 1157, 1165, 1206\n",
    "\n",
    "illegible_but_marked_legible: 70 cases\n",
    "168, 167, 162, 97, 39, 87, 89, 134, 61, 172, 164, 199, 215, 260, 267, 269, 281, 276, 288, 295, 317, 325, 340, 345, 374, 394, 388, 386, 391, 406, 408, 434, 437, 459, 471, 514, 532, 558, 683, 748, 770, 790, 802, 827, 861, 869, 879, 897, 895, 909, 964, 981, 999, 1023, 1031, 1025, 1033, 1030, 1055, 1088, 1087, 1169, 1175, 1174, 1173, 1183, 1170, 1179, 1184, 1185\n",
    "\n",
    "- Total misclassifications: 159\n",
    "- False negatives (legible marked as illegible): 89\n",
    "- False positives (illegible marked as legible): 70\n",
    "- Percentage of false negatives: 7.36%\n",
    "- Percentage of false positives: 5.79%\n",
    "- Combined percentage of errors as a percentage of total cases: 13.14%"
   ]
  },
  {
   "cell_type": "code",
   "execution_count": 6,
   "metadata": {},
   "outputs": [
    {
     "name": "stdout",
     "output_type": "stream",
     "text": [
      "legible_but_marked_illegible: 1 cases\n",
      "907\n",
      "\n",
      "illegible_but_marked_legible: 0 cases\n",
      "\n",
      "Total misclassifications: 1\n",
      "False negatives (legible marked as illegible): 1\n",
      "False positives (illegible marked as legible): 0\n",
      "Percentage of false negatives: 0.08%\n",
      "Percentage of false positives: 0.00%\n",
      "Combined percentage of errors as a percentage of total cases: 0.08%\n"
     ]
    }
   ],
   "source": [
    "import json\n",
    "failed_cases = f\"{DataPaths.COMMON_PROCESSED_OUTPUT_DATA_TEST.value}/failed_legibility_cases.json\"\n",
    "\n",
    "# Load this JSON file\n",
    "with open(failed_cases, 'r') as f:\n",
    "    failed_cases_dict = json.load(f)\n",
    "    # Print the every key and its associated value (value will be a list so need to make that printable with \",\".join):\n",
    "    for key, value in failed_cases_dict.items():\n",
    "        print(f\"{key}: {len(value)} cases\")\n",
    "        if len(value) > 0:\n",
    "            print(f\"{', '.join(value)}\")\n",
    "        print()\n",
    "    \n",
    "    # Summary statistics\n",
    "    legible_but_marked_illegible = len(failed_cases_dict.get(\"legible_but_marked_illegible\", []))\n",
    "    illegible_but_marked_legible = len(failed_cases_dict.get(\"illegible_but_marked_legible\", []))\n",
    "    total_errors = legible_but_marked_illegible + illegible_but_marked_legible\n",
    "    \n",
    "    print(f\"Total misclassifications: {total_errors}\")\n",
    "    print(f\"False negatives (legible marked as illegible): {legible_but_marked_illegible}\")\n",
    "    print(f\"False positives (illegible marked as legible): {illegible_but_marked_legible}\")\n",
    "    print(f\"Percentage of false negatives: {legible_but_marked_illegible / 1210 * 100:.2f}%\")\n",
    "    print(f\"Percentage of false positives: {illegible_but_marked_legible / 1210 * 100:.2f}%\")\n",
    "    print(f\"Combined percentage of errors as a percentage of total cases: {total_errors / 1210 * 100:.2f}%\")"
   ]
  },
  {
   "cell_type": "code",
   "execution_count": 7,
   "metadata": {},
   "outputs": [],
   "source": [
    "# import timm\n",
    "# import torch\n",
    "# from torch import nn\n",
    "\n",
    "# model = timm.create_model(\"timm/vit_base_patch16_224.orig_in21k_ft_in1k\", pretrained=False)\n",
    "# model.head = nn.Linear(model.head.in_features, 10)\n",
    "# model.load_state_dict(\n",
    "#     torch.hub.load_state_dict_from_url(\n",
    "#         \"https://huggingface.co/edadaltocg/vit_base_patch16_224_in21k_ft_svhn/resolve/main/pytorch_model.bin\",\n",
    "#         map_location=\"cpu\",\n",
    "#         file_name=\"vit_base_patch16_224_in21k_ft_svhn.pth\",\n",
    "#     )\n",
    "# )"
   ]
  }
 ],
 "metadata": {
  "kernelspec": {
   "display_name": "UBC",
   "language": "python",
   "name": "python3"
  },
  "language_info": {
   "codemirror_mode": {
    "name": "ipython",
    "version": 3
   },
   "file_extension": ".py",
   "mimetype": "text/x-python",
   "name": "python",
   "nbconvert_exporter": "python",
   "pygments_lexer": "ipython3",
   "version": "3.13.1"
  }
 },
 "nbformat": 4,
 "nbformat_minor": 2
}
