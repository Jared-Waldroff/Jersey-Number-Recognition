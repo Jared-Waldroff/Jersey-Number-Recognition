{
 "cells": [
  {
   "cell_type": "code",
   "execution_count": 1,
   "id": "502c6975",
   "metadata": {},
   "outputs": [
    {
     "name": "stdout",
     "output_type": "stream",
     "text": [
      "c:\\Users\\colin\\OneDrive\\Desktop\\Jersey-Number-Recognition\n",
      "Current working directory:  c:\\Users\\colin\\OneDrive\\Desktop\\Jersey-Number-Recognition\\ModelDevelopment\\experiments\n"
     ]
    }
   ],
   "source": [
    "import sys\n",
    "from pathlib import Path\n",
    "import os\n",
    "import json\n",
    "\n",
    "sys.path.append(str(Path.cwd().parent.parent))\n",
    "print(str(Path.cwd().parent.parent))\n",
    "print(\"Current working directory: \", os.getcwd())\n",
    "\n",
    "from DataProcessing.DataAugmentation import ImageEnhancement\n",
    "from ModelDevelopment.CentralPipeline import CentralPipeline\n",
    "from ModelDevelopment.ImageBatchPipeline import ImageBatchPipeline\n",
    "from DataProcessing.DataPreProcessing import DataPaths"
   ]
  },
  {
   "cell_type": "code",
   "execution_count": 2,
   "id": "c16911a8",
   "metadata": {},
   "outputs": [
    {
     "name": "stdout",
     "output_type": "stream",
     "text": [
      "2025-04-05 15:01:00 [INFO] DataPreProcessing initialized. Universe of available data paths:\n",
      "2025-04-05 15:01:01 [INFO] ROOT_DATA_DIR: c:\\Users\\colin\\OneDrive\\Desktop\\Jersey-Number-Recognition\\data\\SoccerNet\\jersey-2023\\extracted\n",
      "2025-04-05 15:01:01 [INFO] TEST_DATA_GT: c:\\Users\\colin\\OneDrive\\Desktop\\Jersey-Number-Recognition\\data\\SoccerNet\\jersey-2023\\extracted\\test\\test_gt.json\n",
      "2025-04-05 15:01:01 [INFO] TRAIN_DATA_GT: c:\\Users\\colin\\OneDrive\\Desktop\\Jersey-Number-Recognition\\data\\SoccerNet\\jersey-2023\\extracted\\train\\train_gt.json\n",
      "2025-04-05 15:01:01 [INFO] TEST_DATA_DIR: c:\\Users\\colin\\OneDrive\\Desktop\\Jersey-Number-Recognition\\data\\SoccerNet\\jersey-2023\\extracted\\test\\images\n",
      "2025-04-05 15:01:01 [INFO] TRAIN_DATA_DIR: c:\\Users\\colin\\OneDrive\\Desktop\\Jersey-Number-Recognition\\data\\SoccerNet\\jersey-2023\\extracted\\train\\images\n",
      "2025-04-05 15:01:01 [INFO] CHALLENGE_DATA_DIR: c:\\Users\\colin\\OneDrive\\Desktop\\Jersey-Number-Recognition\\data\\SoccerNet\\jersey-2023\\extracted\\challenge\\images\n",
      "2025-04-05 15:01:01 [INFO] PRE_TRAINED_MODELS_DIR: c:\\Users\\colin\\OneDrive\\Desktop\\Jersey-Number-Recognition\\data\\pre_trained_models\n",
      "2025-04-05 15:01:01 [INFO] REID_PRE_TRAINED: c:\\Users\\colin\\OneDrive\\Desktop\\Jersey-Number-Recognition\\data\\pre_trained_models\\reid\n",
      "2025-04-05 15:01:01 [INFO] STR_PRE_TRAINED: c:\\Users\\colin\\OneDrive\\Desktop\\Jersey-Number-Recognition\\data\\pre_trained_models\\str\n",
      "2025-04-05 15:01:01 [INFO] STR_MODEL: c:\\Users\\colin\\OneDrive\\Desktop\\Jersey-Number-Recognition\\data\\pre_trained_models\\str\\parseq_epoch=24-step=2575-val_accuracy=95.6044-val_NED=96.3255.ckpt\n",
      "2025-04-05 15:01:01 [INFO] REID_MODEL_1: c:\\Users\\colin\\OneDrive\\Desktop\\Jersey-Number-Recognition\\data\\pre_trained_models\\reid\\dukemtmcreid_resnet50_256_128_epoch_120.ckpt\n",
      "2025-04-05 15:01:01 [INFO] REID_MODEL_2: c:\\Users\\colin\\OneDrive\\Desktop\\Jersey-Number-Recognition\\data\\pre_trained_models\\reid\\market1501_resnet50_256_128_epoch_120.ckpt\n",
      "2025-04-05 15:01:01 [INFO] REID_CONFIG_YAML: c:\\Users\\colin\\OneDrive\\Desktop\\Jersey-Number-Recognition\\data\\pre_trained_models\\reid\\configs\\256_resnet50.yml\n",
      "2025-04-05 15:01:01 [INFO] RESNET_MODEL: c:\\Users\\colin\\OneDrive\\Desktop\\Jersey-Number-Recognition\\data\\pre_trained_models\\resnet\\legibility_resnet34_soccer_20240215.pth\n",
      "2025-04-05 15:01:01 [INFO] VIT_MODEL: c:\\Users\\colin\\OneDrive\\Desktop\\Jersey-Number-Recognition\\data\\pre_trained_models\\ViT\\vit_base_patch16_224_in21k_ft_svhn.pth\n",
      "2025-04-05 15:01:01 [INFO] PROCESSED_DATA_OUTPUT_DIR: c:\\Users\\colin\\OneDrive\\Desktop\\Jersey-Number-Recognition\\data\\SoccerNet\\jersey-2023\\processed_data\n",
      "2025-04-05 15:01:01 [INFO] PROCESSED_DATA_OUTPUT_DIR_TRAIN: c:\\Users\\colin\\OneDrive\\Desktop\\Jersey-Number-Recognition\\data\\SoccerNet\\jersey-2023\\processed_data\\train\n",
      "2025-04-05 15:01:01 [INFO] PROCESSED_DATA_OUTPUT_DIR_TEST: c:\\Users\\colin\\OneDrive\\Desktop\\Jersey-Number-Recognition\\data\\SoccerNet\\jersey-2023\\processed_data\\test\n",
      "2025-04-05 15:01:01 [INFO] PROCESSED_DATA_OUTPUT_DIR_CHALLENGE: c:\\Users\\colin\\OneDrive\\Desktop\\Jersey-Number-Recognition\\data\\SoccerNet\\jersey-2023\\processed_data\\challenge\n",
      "2025-04-05 15:01:01 [INFO] COMMON_PROCESSED_OUTPUT_DATA_TRAIN: c:\\Users\\colin\\OneDrive\\Desktop\\Jersey-Number-Recognition\\data\\SoccerNet\\jersey-2023\\processed_data\\train\\common_data\n",
      "2025-04-05 15:01:01 [INFO] COMMON_PROCESSED_OUTPUT_DATA_TEST: c:\\Users\\colin\\OneDrive\\Desktop\\Jersey-Number-Recognition\\data\\SoccerNet\\jersey-2023\\processed_data\\test\\common_data\n",
      "2025-04-05 15:01:01 [INFO] COMMON_PROCESSED_OUTPUT_DATA_CHALLENGE: c:\\Users\\colin\\OneDrive\\Desktop\\Jersey-Number-Recognition\\data\\SoccerNet\\jersey-2023\\processed_data\\challenge\\common_data\n",
      "2025-04-05 15:01:01 [INFO] STREAMLINED_PIPELINE: c:\\Users\\colin\\OneDrive\\Desktop\\Jersey-Number-Recognition\\StreamlinedPipelineScripts\n",
      "2025-04-05 15:01:01 [INFO] ENHANCED_STR_ROOT: c:\\Users\\colin\\OneDrive\\Desktop\\Jersey-Number-Recognition\\data\\pre_trained_models\\clip4str\n",
      "2025-04-05 15:01:01 [INFO] ENHANCED_STR_MAIN: c:\\Users\\colin\\OneDrive\\Desktop\\Jersey-Number-Recognition\\data\\pre_trained_models\\clip4str\\clip4str_huge_3e942729b1.pt\n",
      "2025-04-05 15:01:01 [INFO] ENHANCED_STR_OPEN_CLIP: c:\\Users\\colin\\OneDrive\\Desktop\\Jersey-Number-Recognition\\data\\pre_trained_models\\clip4str\\appleDFN5B-CLIP-ViT-H-14.bin\n",
      "2025-04-05 15:01:01 [INFO] ENHANCED_STR_VIT_L: c:\\Users\\colin\\OneDrive\\Desktop\\Jersey-Number-Recognition\\data\\pre_trained_models\\clip4str\\ViT-L-14.pt\n",
      "2025-04-05 15:01:01 [INFO] ['0', '1', '2', '3', '4', '5', '6', '7', '8', '9']\n",
      "2025-04-05 15:01:01 [INFO] Min tracklet: 0\n",
      "2025-04-05 15:01:01 [INFO] Max tracklet: 1425\n",
      "2025-04-05 15:01:01 [INFO] Using device: cuda\n",
      "2025-04-05 15:01:01 [INFO] ['0', '1', '2', '3', '4', '5', '6', '7', '8', '9']\n",
      "2025-04-05 15:01:01 [INFO] Min tracklet: 0\n",
      "2025-04-05 15:01:01 [INFO] Max tracklet: 1425\n"
     ]
    }
   ],
   "source": [
    "pipeline = CentralPipeline(\n",
    "  num_tracklets=1426,\n",
    "  input_data_path=DataPaths.CHALLENGE_DATA_DIR.value,\n",
    "  output_processed_data_path=DataPaths.PROCESSED_DATA_OUTPUT_DIR_CHALLENGE.value,\n",
    "  common_processed_data_dir=DataPaths.COMMON_PROCESSED_OUTPUT_DATA_CHALLENGE.value,\n",
    "  gt_data_path=\"\",\n",
    "  use_cache=True, # Set to false to rebuild the cache\n",
    "  suppress_logging=False,\n",
    "  use_image_enhancement=True,\n",
    "  # --- PARALLELIZATION PARAMS --- These settings are optimal for an NVIDIA RTX 3070 Ti Laptop GPU.\n",
    "  num_workers=7,                   # CRITICAL optimisation param. Adjust accordingly. STR: 1 | Everything else: 6\n",
    "  tracklet_batch_size=32,          # CRITICAL optimisation param. Adjust accordingly. Always 32\n",
    "  image_batch_size=1000,           # CRITICAL optimisation param. Adjust accordingly.\n",
    "  num_threads_multiplier=6         # CRITICAL optimisation param. Adjust accordingly. Always 6\n",
    "  )                                # -> Interpretation: num_threads = num_workers * num_threads_multiplier"
   ]
  },
  {
   "cell_type": "code",
   "execution_count": 3,
   "id": "96258be7",
   "metadata": {},
   "outputs": [],
   "source": [
    "#pipeline.aggregate_legibility_results_data()\n",
    "#pipeline.aggregate_pose()\n",
    "#pipeline.aggregate_str_results()"
   ]
  },
  {
   "cell_type": "code",
   "execution_count": null,
   "id": "15eec575",
   "metadata": {},
   "outputs": [
    {
     "name": "stdout",
     "output_type": "stream",
     "text": [
      "2025-04-05 15:01:01 [INFO] Running the SoccerNet pipeline.\n",
      "2025-04-05 15:01:01 [INFO] No tracklets provided. Retrieving from input folder.\n",
      "2025-04-05 15:01:01 [INFO] ['0', '1', '2', '3', '4', '5', '6', '7', '8', '9']\n",
      "2025-04-05 15:01:01 [INFO] Min tracklet: 0\n",
      "2025-04-05 15:01:01 [INFO] Max tracklet: 1425\n"
     ]
    },
    {
     "data": {
      "application/vnd.jupyter.widget-view+json": {
       "model_id": "1f24689e789442399722156642176e44",
       "version_major": 2,
       "version_minor": 0
      },
      "text/plain": [
       "  0%|          | 0/45 [00:00<?, ?it/s]"
      ]
     },
     "metadata": {},
     "output_type": "display_data"
    },
    {
     "name": "stdout",
     "output_type": "stream",
     "text": [
      "2025-04-05 15:01:01 [INFO] Tracklet batch size: 32\n",
      "2025-04-05 15:01:01 [INFO] Image batch size: 1000\n",
      "2025-04-05 15:01:01 [INFO] Number of workers: 7\n",
      "2025-04-05 15:01:01 [INFO] Number of threads created: 42\n",
      "2025-04-05 15:01:01 [INFO] All tracklets in 0-32 are cached. Skipping feature generation.\n",
      "2025-04-05 15:01:01 [INFO] All tracklets in 32-64 are cached. Skipping feature generation.\n",
      "2025-04-05 15:01:01 [INFO] Skipping first 1 cached tracklets in batch 64-96. Processing the rest.\n",
      "2025-04-05 15:01:01 [INFO] Using double parallelization: multiprocessing + CUDA batch processing.\n"
     ]
    },
    {
     "data": {
      "application/vnd.jupyter.widget-view+json": {
       "model_id": "1b52b1f9c695484eb6087e8e3cff8f99",
       "version_major": 2,
       "version_minor": 0
      },
      "text/plain": [
       "Processing tracklets (CUDA + CPU):   0%|          | 0/31 [00:00<?, ?it/s]"
      ]
     },
     "metadata": {},
     "output_type": "display_data"
    },
    {
     "name": "stdout",
     "output_type": "stream",
     "text": [
      "2025-04-05 15:01:35 [INFO] Creating placeholder data files for Soccer Ball Filter.\n"
     ]
    },
    {
     "data": {
      "application/vnd.jupyter.widget-view+json": {
       "model_id": "f5c3de007d214429a471b585a8d91776",
       "version_major": 2,
       "version_minor": 0
      },
      "text/plain": [
       "Processing Batch Tracklets (64-96):   0%|          | 0/31 [00:00<?, ?it/s]"
      ]
     },
     "metadata": {},
     "output_type": "display_data"
    },
    {
     "name": "stderr",
     "output_type": "stream",
     "text": [
      "c:\\Users\\colin\\miniconda3\\envs\\UBC\\Lib\\site-packages\\pytorch_lightning\\utilities\\migration\\migration.py:208: You have multiple `ModelCheckpoint` callback states in this checkpoint, but we found state keys that would end up colliding with each other after an upgrade, which means we can't differentiate which of your checkpoint callbacks needs which states. At least one of your `ModelCheckpoint` callbacks will not be able to reload the state.\n",
      "Lightning automatically upgraded your loaded checkpoint from v1.1.4 to v2.5.0.post0. To apply the upgrade to your files permanently, run `python -m pytorch_lightning.utilities.upgrade_checkpoint c:\\Users\\colin\\OneDrive\\Desktop\\Jersey-Number-Recognition\\data\\pre_trained_models\\reid\\dukemtmcreid_resnet50_256_128_epoch_120.ckpt`\n",
      "Lightning automatically upgraded your loaded checkpoint from v1.1.4 to v2.5.0.post0. To apply the upgrade to your files permanently, run `python -m pytorch_lightning.utilities.upgrade_checkpoint c:\\Users\\colin\\OneDrive\\Desktop\\Jersey-Number-Recognition\\data\\pre_trained_models\\reid\\dukemtmcreid_resnet50_256_128_epoch_120.ckpt`\n",
      "Lightning automatically upgraded your loaded checkpoint from v1.1.4 to v2.5.0.post0. To apply the upgrade to your files permanently, run `python -m pytorch_lightning.utilities.upgrade_checkpoint c:\\Users\\colin\\OneDrive\\Desktop\\Jersey-Number-Recognition\\data\\pre_trained_models\\reid\\dukemtmcreid_resnet50_256_128_epoch_120.ckpt`\n",
      "Lightning automatically upgraded your loaded checkpoint from v1.1.4 to v2.5.0.post0. To apply the upgrade to your files permanently, run `python -m pytorch_lightning.utilities.upgrade_checkpoint c:\\Users\\colin\\OneDrive\\Desktop\\Jersey-Number-Recognition\\data\\pre_trained_models\\reid\\dukemtmcreid_resnet50_256_128_epoch_120.ckpt`\n",
      "Lightning automatically upgraded your loaded checkpoint from v1.1.4 to v2.5.0.post0. To apply the upgrade to your files permanently, run `python -m pytorch_lightning.utilities.upgrade_checkpoint c:\\Users\\colin\\OneDrive\\Desktop\\Jersey-Number-Recognition\\data\\pre_trained_models\\reid\\dukemtmcreid_resnet50_256_128_epoch_120.ckpt`\n",
      "Lightning automatically upgraded your loaded checkpoint from v1.1.4 to v2.5.0.post0. To apply the upgrade to your files permanently, run `python -m pytorch_lightning.utilities.upgrade_checkpoint c:\\Users\\colin\\OneDrive\\Desktop\\Jersey-Number-Recognition\\data\\pre_trained_models\\reid\\dukemtmcreid_resnet50_256_128_epoch_120.ckpt`\n",
      "Lightning automatically upgraded your loaded checkpoint from v1.1.4 to v2.5.0.post0. To apply the upgrade to your files permanently, run `python -m pytorch_lightning.utilities.upgrade_checkpoint c:\\Users\\colin\\OneDrive\\Desktop\\Jersey-Number-Recognition\\data\\pre_trained_models\\reid\\dukemtmcreid_resnet50_256_128_epoch_120.ckpt`\n"
     ]
    },
    {
     "name": "stdout",
     "output_type": "stream",
     "text": [
      "2025-04-05 15:02:20 [INFO] Saved features for tracklet with shape (750, 2048) to c:\\Users\\colin\\OneDrive\\Desktop\\Jersey-Number-Recognition\\data\\SoccerNet\\jersey-2023\\processed_data\\challenge\\67\\features.npy\n",
      "2025-04-05 15:02:20 [INFO] Identifying and removing outliers by calling gaussian_outliers.py on feature file\n",
      "2025-04-05 15:02:21 [INFO] Saved features for tracklet with shape (750, 2048) to c:\\Users\\colin\\OneDrive\\Desktop\\Jersey-Number-Recognition\\data\\SoccerNet\\jersey-2023\\processed_data\\challenge\\70\\features.npy\n",
      "2025-04-05 15:02:21 [INFO] Identifying and removing outliers by calling gaussian_outliers.py on feature file\n",
      "2025-04-05 15:02:21 [INFO] Saved features for tracklet with shape (750, 2048) to c:\\Users\\colin\\OneDrive\\Desktop\\Jersey-Number-Recognition\\data\\SoccerNet\\jersey-2023\\processed_data\\challenge\\65\\features.npy\n",
      "2025-04-05 15:02:21 [INFO] Identifying and removing outliers by calling gaussian_outliers.py on feature file\n",
      "2025-04-05 15:02:21 [INFO] Saved features for tracklet with shape (750, 2048) to c:\\Users\\colin\\OneDrive\\Desktop\\Jersey-Number-Recognition\\data\\SoccerNet\\jersey-2023\\processed_data\\challenge\\69\\features.npy\n",
      "2025-04-05 15:02:21 [INFO] Identifying and removing outliers by calling gaussian_outliers.py on feature file\n",
      "2025-04-05 15:02:21 [INFO] Saved features for tracklet with shape (750, 2048) to c:\\Users\\colin\\OneDrive\\Desktop\\Jersey-Number-Recognition\\data\\SoccerNet\\jersey-2023\\processed_data\\challenge\\66\\features.npy\n",
      "2025-04-05 15:02:21 [INFO] Identifying and removing outliers by calling gaussian_outliers.py on feature file\n",
      "2025-04-05 15:02:21 [INFO] Saved features for tracklet with shape (750, 2048) to c:\\Users\\colin\\OneDrive\\Desktop\\Jersey-Number-Recognition\\data\\SoccerNet\\jersey-2023\\processed_data\\challenge\\68\\features.npy\n",
      "2025-04-05 15:02:21 [INFO] Identifying and removing outliers by calling gaussian_outliers.py on feature file\n",
      "2025-04-05 15:02:27 [INFO] Saved features for tracklet with shape (251, 2048) to c:\\Users\\colin\\OneDrive\\Desktop\\Jersey-Number-Recognition\\data\\SoccerNet\\jersey-2023\\processed_data\\challenge\\71\\features.npy\n",
      "2025-04-05 15:02:27 [INFO] Identifying and removing outliers by calling gaussian_outliers.py on feature file\n",
      "2025-04-05 15:02:35 [INFO] 2025-04-05 15:02:34 [INFO] Threshold for standard deviation: 3.5, rounds: 3\n",
      "2025-04-05 15:02:34 [INFO] Round 1: Excluded 0 outliers\n",
      "2025-04-05 15:02:34 [INFO] Excluded images: []\n",
      "2025-04-05 15:02:34 [INFO] Round 2: Excluded 0 outliers\n",
      "2025-04-05 15:02:34 [INFO] Excluded images: []\n",
      "2025-04-05 15:02:34 [INFO] Round 3: Excluded 0 outliers\n",
      "2025-04-05 15:02:34 [INFO] Excluded images: []\n",
      "\n",
      "2025-04-05 15:02:35 [ERROR] \n",
      "2025-04-05 15:02:35 [INFO] Done removing outliers\n",
      "2025-04-05 15:02:35 [INFO] Running model chain on preprocessed image(s).\n",
      "2025-04-05 15:02:35 [INFO] Classifying legibility of image(s) using pre-trained model.\n"
     ]
    },
    {
     "name": "stderr",
     "output_type": "stream",
     "text": [
      "c:\\Users\\colin\\miniconda3\\envs\\UBC\\Lib\\site-packages\\torchvision\\models\\_utils.py:208: UserWarning: The parameter 'pretrained' is deprecated since 0.13 and may be removed in the future, please use 'weights' instead.\n",
      "  warnings.warn(\n",
      "c:\\Users\\colin\\miniconda3\\envs\\UBC\\Lib\\site-packages\\torchvision\\models\\_utils.py:223: UserWarning: Arguments other than a weight enum or `None` for 'weights' are deprecated since 0.13 and may be removed in the future. The current behavior is equivalent to passing `weights=ResNet34_Weights.IMAGENET1K_V1`. You can also use `weights=ResNet34_Weights.DEFAULT` to get the most up-to-date weights.\n",
      "  warnings.warn(msg)\n"
     ]
    },
    {
     "name": "stdout",
     "output_type": "stream",
     "text": [
      "2025-04-05 15:02:36 [INFO] 2025-04-05 15:02:34 [INFO] Threshold for standard deviation: 3.5, rounds: 3\n",
      "2025-04-05 15:02:34 [INFO] Round 1: Excluded 1 outliers\n",
      "2025-04-05 15:02:34 [INFO] Excluded images: ['70_19.jpg']\n",
      "2025-04-05 15:02:34 [INFO] Round 2: Excluded 1 outliers\n",
      "2025-04-05 15:02:34 [INFO] Excluded images: ['70_19.jpg']\n",
      "2025-04-05 15:02:34 [INFO] Round 3: Excluded 1 outliers\n",
      "2025-04-05 15:02:34 [INFO] Excluded images: ['70_19.jpg']\n",
      "\n",
      "2025-04-05 15:02:36 [ERROR] \n",
      "2025-04-05 15:02:36 [INFO] Done removing outliers\n",
      "2025-04-05 15:02:36 [INFO] Running model chain on preprocessed image(s).\n",
      "2025-04-05 15:02:36 [INFO] Classifying legibility of image(s) using pre-trained model.\n",
      "2025-04-05 15:02:36 [INFO] 2025-04-05 15:02:34 [INFO] Threshold for standard deviation: 3.5, rounds: 3\n",
      "2025-04-05 15:02:34 [INFO] Round 1: Excluded 12 outliers\n",
      "2025-04-05 15:02:34 [INFO] Excluded images: ['65_109.jpg', '65_115.jpg', '65_116.jpg', '65_517.jpg', '65_518.jpg', '65_537.jpg', '65_570.jpg', '65_578.jpg', '65_605.jpg', '65_610.jpg', '65_611.jpg', '65_621.jpg']\n",
      "2025-04-05 15:02:34 [INFO] Round 2: Excluded 12 outliers\n",
      "2025-04-05 15:02:34 [INFO] Excluded images: ['65_109.jpg', '65_115.jpg', '65_116.jpg', '65_517.jpg', '65_518.jpg', '65_537.jpg', '65_570.jpg', '65_578.jpg', '65_605.jpg', '65_610.jpg', '65_611.jpg', '65_621.jpg']\n",
      "2025-04-05 15:02:34 [INFO] Round 3: Excluded 12 outliers\n",
      "2025-04-05 15:02:34 [INFO] Excluded images: ['65_109.jpg', '65_115.jpg', '65_116.jpg', '65_517.jpg', '65_518.jpg', '65_537.jpg', '65_570.jpg', '65_578.jpg', '65_605.jpg', '65_610.jpg', '65_611.jpg', '65_621.jpg']\n",
      "\n",
      "2025-04-05 15:02:36 [ERROR] \n",
      "2025-04-05 15:02:36 [INFO] Done removing outliers\n",
      "2025-04-05 15:02:36 [INFO] Running model chain on preprocessed image(s).\n",
      "2025-04-05 15:02:36 [INFO] Classifying legibility of image(s) using pre-trained model.\n",
      "2025-04-05 15:02:36 [INFO] 2025-04-05 15:02:35 [INFO] Threshold for standard deviation: 3.5, rounds: 3\n",
      "2025-04-05 15:02:35 [INFO] Round 1: Excluded 11 outliers\n",
      "2025-04-05 15:02:35 [INFO] Excluded images: ['66_294.jpg', '66_300.jpg', '66_334.jpg', '66_335.jpg', '66_336.jpg', '66_337.jpg', '66_338.jpg', '66_524.jpg', '66_663.jpg', '66_674.jpg', '66_675.jpg']\n",
      "2025-04-05 15:02:35 [INFO] Round 2: Excluded 11 outliers\n",
      "2025-04-05 15:02:35 [INFO] Excluded images: ['66_294.jpg', '66_300.jpg', '66_334.jpg', '66_335.jpg', '66_336.jpg', '66_337.jpg', '66_338.jpg', '66_524.jpg', '66_663.jpg', '66_674.jpg', '66_675.jpg']\n",
      "2025-04-05 15:02:35 [INFO] Round 3: Excluded 11 outliers\n",
      "2025-04-05 15:02:35 [INFO] Excluded images: ['66_294.jpg', '66_300.jpg', '66_334.jpg', '66_335.jpg', '66_336.jpg', '66_337.jpg', '66_338.jpg', '66_524.jpg', '66_663.jpg', '66_674.jpg', '66_675.jpg']\n",
      "\n",
      "2025-04-05 15:02:36 [ERROR] \n",
      "2025-04-05 15:02:36 [INFO] Done removing outliers\n",
      "2025-04-05 15:02:36 [INFO] Running model chain on preprocessed image(s).\n",
      "2025-04-05 15:02:36 [INFO] Classifying legibility of image(s) using pre-trained model.\n",
      "2025-04-05 15:02:36 [INFO] 2025-04-05 15:02:35 [INFO] Threshold for standard deviation: 3.5, rounds: 3\n",
      "2025-04-05 15:02:35 [INFO] Round 1: Excluded 1 outliers\n",
      "2025-04-05 15:02:35 [INFO] Excluded images: ['69_505.jpg']\n",
      "2025-04-05 15:02:35 [INFO] Round 2: Excluded 1 outliers\n",
      "2025-04-05 15:02:35 [INFO] Excluded images: ['69_505.jpg']\n",
      "2025-04-05 15:02:35 [INFO] Round 3: Excluded 1 outliers\n",
      "2025-04-05 15:02:35 [INFO] Excluded images: ['69_505.jpg']\n",
      "\n",
      "2025-04-05 15:02:36 [ERROR] \n",
      "2025-04-05 15:02:36 [INFO] Done removing outliers\n",
      "2025-04-05 15:02:36 [INFO] Running model chain on preprocessed image(s).\n",
      "2025-04-05 15:02:36 [INFO] Classifying legibility of image(s) using pre-trained model.\n",
      "2025-04-05 15:02:36 [INFO] 2025-04-05 15:02:35 [INFO] Threshold for standard deviation: 3.5, rounds: 3\n",
      "2025-04-05 15:02:35 [INFO] Round 1: Excluded 0 outliers\n",
      "2025-04-05 15:02:35 [INFO] Excluded images: []\n",
      "2025-04-05 15:02:35 [INFO] Round 2: Excluded 0 outliers\n",
      "2025-04-05 15:02:35 [INFO] Excluded images: []\n",
      "2025-04-05 15:02:35 [INFO] Round 3: Excluded 0 outliers\n",
      "2025-04-05 15:02:35 [INFO] Excluded images: []\n",
      "\n",
      "2025-04-05 15:02:36 [ERROR] \n",
      "2025-04-05 15:02:36 [INFO] Done removing outliers\n",
      "2025-04-05 15:02:36 [INFO] Running model chain on preprocessed image(s).\n",
      "2025-04-05 15:02:36 [INFO] Classifying legibility of image(s) using pre-trained model.\n",
      "2025-04-05 15:02:41 [INFO] 2025-04-05 15:02:40 [INFO] Threshold for standard deviation: 3.5, rounds: 3\n",
      "2025-04-05 15:02:40 [INFO] Round 1: Excluded 2 outliers\n",
      "2025-04-05 15:02:40 [INFO] Excluded images: ['71_500.jpg', '71_501.jpg']\n",
      "2025-04-05 15:02:40 [INFO] Round 2: Excluded 2 outliers\n",
      "2025-04-05 15:02:40 [INFO] Excluded images: ['71_500.jpg', '71_501.jpg']\n",
      "2025-04-05 15:02:40 [INFO] Round 3: Excluded 2 outliers\n",
      "2025-04-05 15:02:40 [INFO] Excluded images: ['71_500.jpg', '71_501.jpg']\n",
      "\n",
      "2025-04-05 15:02:41 [ERROR] \n",
      "2025-04-05 15:02:41 [INFO] Done removing outliers\n",
      "2025-04-05 15:02:41 [INFO] Running model chain on preprocessed image(s).\n",
      "2025-04-05 15:02:41 [INFO] Classifying legibility of image(s) using pre-trained model.\n",
      "2025-04-05 15:02:54 [INFO] Median vs. average vs. max of raw outputs (thresh=0.5): 0.0011845710687339306, 0.0019293482228131763, 0.031566422432661057\n",
      "2025-04-05 15:02:54 [INFO] Median vs. average vs. max of kept outputs (thresh=0.5): 0.0, 0.0, 0.0\n",
      "2025-04-05 15:02:54 [INFO] Tracklet 71 is illegible.\n",
      "2025-04-05 15:02:54 [INFO] Saving legible_tracklets to: c:\\Users\\colin\\OneDrive\\Desktop\\Jersey-Number-Recognition\\data\\SoccerNet\\jersey-2023\\processed_data\\challenge\\71\\legible_results.json\n",
      "2025-04-05 15:02:54 [INFO] Saved legible_tracklets to: c:\\Users\\colin\\OneDrive\\Desktop\\Jersey-Number-Recognition\\data\\SoccerNet\\jersey-2023\\processed_data\\challenge\\71\\legible_results.json\n",
      "2025-04-05 15:02:54 [INFO] Saving illegible_tracklets to: c:\\Users\\colin\\OneDrive\\Desktop\\Jersey-Number-Recognition\\data\\SoccerNet\\jersey-2023\\processed_data\\challenge\\71\\illegible_results.json\n",
      "2025-04-05 15:02:54 [INFO] Saved illegible_tracklets to: c:\\Users\\colin\\OneDrive\\Desktop\\Jersey-Number-Recognition\\data\\SoccerNet\\jersey-2023\\processed_data\\challenge\\71\\illegible_results.json\n",
      "2025-04-05 15:02:54 [INFO] Legibility classification complete.\n",
      "2025-04-05 15:02:54 [INFO] Processed tracklet: 71\n"
     ]
    },
    {
     "name": "stderr",
     "output_type": "stream",
     "text": [
      "Lightning automatically upgraded your loaded checkpoint from v1.1.4 to v2.5.0.post0. To apply the upgrade to your files permanently, run `python -m pytorch_lightning.utilities.upgrade_checkpoint c:\\Users\\colin\\OneDrive\\Desktop\\Jersey-Number-Recognition\\data\\pre_trained_models\\reid\\dukemtmcreid_resnet50_256_128_epoch_120.ckpt`\n"
     ]
    },
    {
     "name": "stdout",
     "output_type": "stream",
     "text": [
      "2025-04-05 15:03:08 [INFO] Saved features for tracklet with shape (580, 2048) to c:\\Users\\colin\\OneDrive\\Desktop\\Jersey-Number-Recognition\\data\\SoccerNet\\jersey-2023\\processed_data\\challenge\\72\\features.npy\n",
      "2025-04-05 15:03:08 [INFO] Identifying and removing outliers by calling gaussian_outliers.py on feature file\n",
      "2025-04-05 15:03:19 [INFO] Median vs. average vs. max of raw outputs (thresh=0.5): 0.005561253987252712, 0.04968586178946619, 0.9931747317314148\n",
      "2025-04-05 15:03:19 [INFO] Median vs. average vs. max of kept outputs (thresh=0.5): 0.9379581212997437, 0.8706518941455417, 0.9931747317314148\n",
      "2025-04-05 15:03:19 [INFO] Tracklet 67 is legible.\n",
      "2025-04-05 15:03:19 [INFO] Saving legible_tracklets to: c:\\Users\\colin\\OneDrive\\Desktop\\Jersey-Number-Recognition\\data\\SoccerNet\\jersey-2023\\processed_data\\challenge\\67\\legible_results.json\n",
      "2025-04-05 15:03:19 [INFO] Saved legible_tracklets to: c:\\Users\\colin\\OneDrive\\Desktop\\Jersey-Number-Recognition\\data\\SoccerNet\\jersey-2023\\processed_data\\challenge\\67\\legible_results.json\n",
      "2025-04-05 15:03:19 [INFO] Saving illegible_tracklets to: c:\\Users\\colin\\OneDrive\\Desktop\\Jersey-Number-Recognition\\data\\SoccerNet\\jersey-2023\\processed_data\\challenge\\67\\illegible_results.json\n",
      "2025-04-05 15:03:19 [INFO] Saved illegible_tracklets to: c:\\Users\\colin\\OneDrive\\Desktop\\Jersey-Number-Recognition\\data\\SoccerNet\\jersey-2023\\processed_data\\challenge\\67\\illegible_results.json\n",
      "2025-04-05 15:03:19 [INFO] Legibility classification complete.\n",
      "2025-04-05 15:03:19 [INFO] Processed tracklet: 67\n"
     ]
    },
    {
     "name": "stderr",
     "output_type": "stream",
     "text": [
      "Lightning automatically upgraded your loaded checkpoint from v1.1.4 to v2.5.0.post0. To apply the upgrade to your files permanently, run `python -m pytorch_lightning.utilities.upgrade_checkpoint c:\\Users\\colin\\OneDrive\\Desktop\\Jersey-Number-Recognition\\data\\pre_trained_models\\reid\\dukemtmcreid_resnet50_256_128_epoch_120.ckpt`\n"
     ]
    },
    {
     "name": "stdout",
     "output_type": "stream",
     "text": [
      "2025-04-05 15:03:22 [INFO] 2025-04-05 15:03:21 [INFO] Threshold for standard deviation: 3.5, rounds: 3\n",
      "2025-04-05 15:03:21 [INFO] Round 1: Excluded 0 outliers\n",
      "2025-04-05 15:03:21 [INFO] Excluded images: []\n",
      "2025-04-05 15:03:21 [INFO] Round 2: Excluded 0 outliers\n",
      "2025-04-05 15:03:21 [INFO] Excluded images: []\n",
      "2025-04-05 15:03:21 [INFO] Round 3: Excluded 0 outliers\n",
      "2025-04-05 15:03:21 [INFO] Excluded images: []\n",
      "\n",
      "2025-04-05 15:03:22 [ERROR] \n",
      "2025-04-05 15:03:22 [INFO] Done removing outliers\n",
      "2025-04-05 15:03:22 [INFO] Running model chain on preprocessed image(s).\n",
      "2025-04-05 15:03:22 [INFO] Classifying legibility of image(s) using pre-trained model.\n",
      "2025-04-05 15:03:25 [INFO] Median vs. average vs. max of raw outputs (thresh=0.5): 0.0013405163772404194, 0.01873170284173409, 0.8052257299423218\n",
      "2025-04-05 15:03:25 [INFO] Median vs. average vs. max of kept outputs (thresh=0.5): 0.5956195592880249, 0.6398271918296814, 0.8052257299423218\n",
      "2025-04-05 15:03:25 [INFO] Tracklet 70 is legible.\n",
      "2025-04-05 15:03:25 [INFO] Saving legible_tracklets to: c:\\Users\\colin\\OneDrive\\Desktop\\Jersey-Number-Recognition\\data\\SoccerNet\\jersey-2023\\processed_data\\challenge\\70\\legible_results.json\n",
      "2025-04-05 15:03:25 [INFO] Saved legible_tracklets to: c:\\Users\\colin\\OneDrive\\Desktop\\Jersey-Number-Recognition\\data\\SoccerNet\\jersey-2023\\processed_data\\challenge\\70\\legible_results.json\n",
      "2025-04-05 15:03:25 [INFO] Saving illegible_tracklets to: c:\\Users\\colin\\OneDrive\\Desktop\\Jersey-Number-Recognition\\data\\SoccerNet\\jersey-2023\\processed_data\\challenge\\70\\illegible_results.json\n",
      "2025-04-05 15:03:25 [INFO] Saved illegible_tracklets to: c:\\Users\\colin\\OneDrive\\Desktop\\Jersey-Number-Recognition\\data\\SoccerNet\\jersey-2023\\processed_data\\challenge\\70\\illegible_results.json\n",
      "2025-04-05 15:03:25 [INFO] Legibility classification complete.\n",
      "2025-04-05 15:03:25 [INFO] Processed tracklet: 70\n"
     ]
    },
    {
     "name": "stderr",
     "output_type": "stream",
     "text": [
      "Lightning automatically upgraded your loaded checkpoint from v1.1.4 to v2.5.0.post0. To apply the upgrade to your files permanently, run `python -m pytorch_lightning.utilities.upgrade_checkpoint c:\\Users\\colin\\OneDrive\\Desktop\\Jersey-Number-Recognition\\data\\pre_trained_models\\reid\\dukemtmcreid_resnet50_256_128_epoch_120.ckpt`\n"
     ]
    },
    {
     "name": "stdout",
     "output_type": "stream",
     "text": [
      "2025-04-05 15:03:27 [INFO] Median vs. average vs. max of raw outputs (thresh=0.5): 0.0009152147104032338, 0.009228809130322852, 0.6362740397453308\n",
      "2025-04-05 15:03:27 [INFO] Median vs. average vs. max of kept outputs (thresh=0.5): 0.5910404920578003, 0.5946941574414571, 0.6362740397453308\n",
      "2025-04-05 15:03:27 [INFO] Median vs. average vs. max of raw outputs (thresh=0.5): 0.00033493939554318786, 0.0006053559472534375, 0.0036443660501390696\n",
      "2025-04-05 15:03:27 [INFO] Median vs. average vs. max of kept outputs (thresh=0.5): 0.0, 0.0, 0.0\n",
      "2025-04-05 15:03:27 [INFO] Tracklet 66 is legible.\n",
      "2025-04-05 15:03:27 [INFO] Saving legible_tracklets to: c:\\Users\\colin\\OneDrive\\Desktop\\Jersey-Number-Recognition\\data\\SoccerNet\\jersey-2023\\processed_data\\challenge\\66\\legible_results.json\n",
      "2025-04-05 15:03:27 [INFO] Saved legible_tracklets to: c:\\Users\\colin\\OneDrive\\Desktop\\Jersey-Number-Recognition\\data\\SoccerNet\\jersey-2023\\processed_data\\challenge\\66\\legible_results.json\n",
      "2025-04-05 15:03:27 [INFO] Saving illegible_tracklets to: c:\\Users\\colin\\OneDrive\\Desktop\\Jersey-Number-Recognition\\data\\SoccerNet\\jersey-2023\\processed_data\\challenge\\66\\illegible_results.json\n",
      "2025-04-05 15:03:27 [INFO] Saved illegible_tracklets to: c:\\Users\\colin\\OneDrive\\Desktop\\Jersey-Number-Recognition\\data\\SoccerNet\\jersey-2023\\processed_data\\challenge\\66\\illegible_results.json\n",
      "2025-04-05 15:03:27 [INFO] Legibility classification complete.\n",
      "2025-04-05 15:03:27 [INFO] Processed tracklet: 66\n",
      "2025-04-05 15:03:27 [INFO] Tracklet 65 is illegible.\n",
      "2025-04-05 15:03:27 [INFO] Saving legible_tracklets to: c:\\Users\\colin\\OneDrive\\Desktop\\Jersey-Number-Recognition\\data\\SoccerNet\\jersey-2023\\processed_data\\challenge\\65\\legible_results.json\n",
      "2025-04-05 15:03:27 [INFO] Saved legible_tracklets to: c:\\Users\\colin\\OneDrive\\Desktop\\Jersey-Number-Recognition\\data\\SoccerNet\\jersey-2023\\processed_data\\challenge\\65\\legible_results.json\n",
      "2025-04-05 15:03:27 [INFO] Saving illegible_tracklets to: c:\\Users\\colin\\OneDrive\\Desktop\\Jersey-Number-Recognition\\data\\SoccerNet\\jersey-2023\\processed_data\\challenge\\65\\illegible_results.json\n",
      "2025-04-05 15:03:27 [INFO] Saved illegible_tracklets to: c:\\Users\\colin\\OneDrive\\Desktop\\Jersey-Number-Recognition\\data\\SoccerNet\\jersey-2023\\processed_data\\challenge\\65\\illegible_results.json\n",
      "2025-04-05 15:03:27 [INFO] Legibility classification complete.\n",
      "2025-04-05 15:03:27 [INFO] Processed tracklet: 65\n",
      "2025-04-05 15:03:28 [INFO] Median vs. average vs. max of raw outputs (thresh=0.5): 0.00326419435441494, 0.14813200503488483, 0.9979686141014099\n",
      "2025-04-05 15:03:28 [INFO] Median vs. average vs. max of kept outputs (thresh=0.5): 0.9648957848548889, 0.9207742008669623, 0.9979686141014099\n",
      "2025-04-05 15:03:28 [INFO] Tracklet 69 is legible.\n",
      "2025-04-05 15:03:28 [INFO] Saving legible_tracklets to: c:\\Users\\colin\\OneDrive\\Desktop\\Jersey-Number-Recognition\\data\\SoccerNet\\jersey-2023\\processed_data\\challenge\\69\\legible_results.json\n",
      "2025-04-05 15:03:28 [INFO] Saved legible_tracklets to: c:\\Users\\colin\\OneDrive\\Desktop\\Jersey-Number-Recognition\\data\\SoccerNet\\jersey-2023\\processed_data\\challenge\\69\\legible_results.json\n"
     ]
    },
    {
     "name": "stderr",
     "output_type": "stream",
     "text": [
      "Lightning automatically upgraded your loaded checkpoint from v1.1.4 to v2.5.0.post0. To apply the upgrade to your files permanently, run `python -m pytorch_lightning.utilities.upgrade_checkpoint c:\\Users\\colin\\OneDrive\\Desktop\\Jersey-Number-Recognition\\data\\pre_trained_models\\reid\\dukemtmcreid_resnet50_256_128_epoch_120.ckpt`\n"
     ]
    },
    {
     "name": "stdout",
     "output_type": "stream",
     "text": [
      "2025-04-05 15:03:28 [INFO] Saving illegible_tracklets to: c:\\Users\\colin\\OneDrive\\Desktop\\Jersey-Number-Recognition\\data\\SoccerNet\\jersey-2023\\processed_data\\challenge\\69\\illegible_results.json\n",
      "2025-04-05 15:03:28 [INFO] Median vs. average vs. max of raw outputs (thresh=0.5): 0.002108329674229026, 0.013012046464912904, 0.7479621171951294\n",
      "2025-04-05 15:03:28 [INFO] Median vs. average vs. max of kept outputs (thresh=0.5): 0.742277204990387, 0.7049823005994161, 0.7479621171951294\n",
      "2025-04-05 15:03:28 [INFO] Saved illegible_tracklets to: c:\\Users\\colin\\OneDrive\\Desktop\\Jersey-Number-Recognition\\data\\SoccerNet\\jersey-2023\\processed_data\\challenge\\69\\illegible_results.json\n",
      "2025-04-05 15:03:28 [INFO] Legibility classification complete.\n",
      "2025-04-05 15:03:28 [INFO] Processed tracklet: 69\n",
      "2025-04-05 15:03:28 [INFO] Tracklet 68 is legible.\n",
      "2025-04-05 15:03:28 [INFO] Saving legible_tracklets to: c:\\Users\\colin\\OneDrive\\Desktop\\Jersey-Number-Recognition\\data\\SoccerNet\\jersey-2023\\processed_data\\challenge\\68\\legible_results.json\n",
      "2025-04-05 15:03:28 [INFO] Saved legible_tracklets to: c:\\Users\\colin\\OneDrive\\Desktop\\Jersey-Number-Recognition\\data\\SoccerNet\\jersey-2023\\processed_data\\challenge\\68\\legible_results.json\n",
      "2025-04-05 15:03:28 [INFO] Saving illegible_tracklets to: c:\\Users\\colin\\OneDrive\\Desktop\\Jersey-Number-Recognition\\data\\SoccerNet\\jersey-2023\\processed_data\\challenge\\68\\illegible_results.json\n",
      "2025-04-05 15:03:28 [INFO] Saved illegible_tracklets to: c:\\Users\\colin\\OneDrive\\Desktop\\Jersey-Number-Recognition\\data\\SoccerNet\\jersey-2023\\processed_data\\challenge\\68\\illegible_results.json\n",
      "2025-04-05 15:03:28 [INFO] Legibility classification complete.\n",
      "2025-04-05 15:03:28 [INFO] Processed tracklet: 68\n"
     ]
    },
    {
     "name": "stderr",
     "output_type": "stream",
     "text": [
      "Lightning automatically upgraded your loaded checkpoint from v1.1.4 to v2.5.0.post0. To apply the upgrade to your files permanently, run `python -m pytorch_lightning.utilities.upgrade_checkpoint c:\\Users\\colin\\OneDrive\\Desktop\\Jersey-Number-Recognition\\data\\pre_trained_models\\reid\\dukemtmcreid_resnet50_256_128_epoch_120.ckpt`\n",
      "Lightning automatically upgraded your loaded checkpoint from v1.1.4 to v2.5.0.post0. To apply the upgrade to your files permanently, run `python -m pytorch_lightning.utilities.upgrade_checkpoint c:\\Users\\colin\\OneDrive\\Desktop\\Jersey-Number-Recognition\\data\\pre_trained_models\\reid\\dukemtmcreid_resnet50_256_128_epoch_120.ckpt`\n",
      "Lightning automatically upgraded your loaded checkpoint from v1.1.4 to v2.5.0.post0. To apply the upgrade to your files permanently, run `python -m pytorch_lightning.utilities.upgrade_checkpoint c:\\Users\\colin\\OneDrive\\Desktop\\Jersey-Number-Recognition\\data\\pre_trained_models\\reid\\dukemtmcreid_resnet50_256_128_epoch_120.ckpt`\n"
     ]
    },
    {
     "name": "stdout",
     "output_type": "stream",
     "text": [
      "2025-04-05 15:03:47 [INFO] Saved features for tracklet with shape (314, 2048) to c:\\Users\\colin\\OneDrive\\Desktop\\Jersey-Number-Recognition\\data\\SoccerNet\\jersey-2023\\processed_data\\challenge\\75\\features.npy\n",
      "2025-04-05 15:03:47 [INFO] Identifying and removing outliers by calling gaussian_outliers.py on feature file\n",
      "2025-04-05 15:03:56 [INFO] Median vs. average vs. max of raw outputs (thresh=0.5): 0.9516438841819763, 0.5571172012023704, 0.9996953010559082\n",
      "2025-04-05 15:03:56 [INFO] Median vs. average vs. max of kept outputs (thresh=0.5): 0.9978708922863007, 0.9794812012463808, 0.9996953010559082\n",
      "2025-04-05 15:03:56 [INFO] Tracklet 72 is legible.\n",
      "2025-04-05 15:03:56 [INFO] Saving legible_tracklets to: c:\\Users\\colin\\OneDrive\\Desktop\\Jersey-Number-Recognition\\data\\SoccerNet\\jersey-2023\\processed_data\\challenge\\72\\legible_results.json\n",
      "2025-04-05 15:03:56 [INFO] Saved legible_tracklets to: c:\\Users\\colin\\OneDrive\\Desktop\\Jersey-Number-Recognition\\data\\SoccerNet\\jersey-2023\\processed_data\\challenge\\72\\legible_results.json\n",
      "2025-04-05 15:03:56 [INFO] Saving illegible_tracklets to: c:\\Users\\colin\\OneDrive\\Desktop\\Jersey-Number-Recognition\\data\\SoccerNet\\jersey-2023\\processed_data\\challenge\\72\\illegible_results.json\n",
      "2025-04-05 15:03:56 [INFO] Saved illegible_tracklets to: c:\\Users\\colin\\OneDrive\\Desktop\\Jersey-Number-Recognition\\data\\SoccerNet\\jersey-2023\\processed_data\\challenge\\72\\illegible_results.json\n",
      "2025-04-05 15:03:56 [INFO] Legibility classification complete.\n",
      "2025-04-05 15:03:56 [INFO] Processed tracklet: 72\n"
     ]
    },
    {
     "name": "stderr",
     "output_type": "stream",
     "text": [
      "Lightning automatically upgraded your loaded checkpoint from v1.1.4 to v2.5.0.post0. To apply the upgrade to your files permanently, run `python -m pytorch_lightning.utilities.upgrade_checkpoint c:\\Users\\colin\\OneDrive\\Desktop\\Jersey-Number-Recognition\\data\\pre_trained_models\\reid\\dukemtmcreid_resnet50_256_128_epoch_120.ckpt`\n"
     ]
    },
    {
     "name": "stdout",
     "output_type": "stream",
     "text": [
      "2025-04-05 15:03:56 [INFO] Saved features for tracklet with shape (586, 2048) to c:\\Users\\colin\\OneDrive\\Desktop\\Jersey-Number-Recognition\\data\\SoccerNet\\jersey-2023\\processed_data\\challenge\\73\\features.npy\n",
      "2025-04-05 15:03:56 [INFO] Identifying and removing outliers by calling gaussian_outliers.py on feature file\n",
      "2025-04-05 15:03:58 [INFO] 2025-04-05 15:03:57 [INFO] Threshold for standard deviation: 3.5, rounds: 3\n",
      "2025-04-05 15:03:57 [INFO] Round 1: Excluded 3 outliers\n",
      "2025-04-05 15:03:57 [INFO] Excluded images: ['75_175.jpg', '75_579.jpg', '75_580.jpg']\n",
      "2025-04-05 15:03:57 [INFO] Round 2: Excluded 3 outliers\n",
      "2025-04-05 15:03:57 [INFO] Excluded images: ['75_175.jpg', '75_579.jpg', '75_580.jpg']\n",
      "2025-04-05 15:03:57 [INFO] Round 3: Excluded 3 outliers\n",
      "2025-04-05 15:03:57 [INFO] Excluded images: ['75_175.jpg', '75_579.jpg', '75_580.jpg']\n",
      "\n",
      "2025-04-05 15:03:58 [ERROR] \n",
      "2025-04-05 15:03:58 [INFO] Done removing outliers\n",
      "2025-04-05 15:03:58 [INFO] Running model chain on preprocessed image(s).\n",
      "2025-04-05 15:03:58 [INFO] Classifying legibility of image(s) using pre-trained model.\n",
      "2025-04-05 15:03:58 [INFO] Saved features for tracklet with shape (493, 2048) to c:\\Users\\colin\\OneDrive\\Desktop\\Jersey-Number-Recognition\\data\\SoccerNet\\jersey-2023\\processed_data\\challenge\\77\\features.npy\n",
      "2025-04-05 15:03:58 [INFO] Identifying and removing outliers by calling gaussian_outliers.py on feature file\n",
      "2025-04-05 15:04:01 [INFO] Saved features for tracklet with shape (589, 2048) to c:\\Users\\colin\\OneDrive\\Desktop\\Jersey-Number-Recognition\\data\\SoccerNet\\jersey-2023\\processed_data\\challenge\\74\\features.npy\n",
      "2025-04-05 15:04:01 [INFO] Identifying and removing outliers by calling gaussian_outliers.py on feature file\n",
      "2025-04-05 15:04:01 [INFO] Saved features for tracklet with shape (524, 2048) to c:\\Users\\colin\\OneDrive\\Desktop\\Jersey-Number-Recognition\\data\\SoccerNet\\jersey-2023\\processed_data\\challenge\\78\\features.npy\n",
      "2025-04-05 15:04:01 [INFO] Identifying and removing outliers by calling gaussian_outliers.py on feature file\n",
      "2025-04-05 15:04:06 [INFO] Saved features for tracklet with shape (703, 2048) to c:\\Users\\colin\\OneDrive\\Desktop\\Jersey-Number-Recognition\\data\\SoccerNet\\jersey-2023\\processed_data\\challenge\\76\\features.npy\n",
      "2025-04-05 15:04:06 [INFO] Identifying and removing outliers by calling gaussian_outliers.py on feature file\n",
      "2025-04-05 15:04:12 [INFO] Median vs. average vs. max of raw outputs (thresh=0.5): 0.0004058408667333424, 0.0035227171260578307, 0.44829100370407104\n",
      "2025-04-05 15:04:12 [INFO] Median vs. average vs. max of kept outputs (thresh=0.5): 0.0, 0.0, 0.0\n",
      "2025-04-05 15:04:12 [INFO] Tracklet 75 is illegible.\n",
      "2025-04-05 15:04:12 [INFO] Saving legible_tracklets to: c:\\Users\\colin\\OneDrive\\Desktop\\Jersey-Number-Recognition\\data\\SoccerNet\\jersey-2023\\processed_data\\challenge\\75\\legible_results.json\n",
      "2025-04-05 15:04:12 [INFO] Saved legible_tracklets to: c:\\Users\\colin\\OneDrive\\Desktop\\Jersey-Number-Recognition\\data\\SoccerNet\\jersey-2023\\processed_data\\challenge\\75\\legible_results.json\n",
      "2025-04-05 15:04:12 [INFO] Saving illegible_tracklets to: c:\\Users\\colin\\OneDrive\\Desktop\\Jersey-Number-Recognition\\data\\SoccerNet\\jersey-2023\\processed_data\\challenge\\75\\illegible_results.json\n",
      "2025-04-05 15:04:12 [INFO] Saved illegible_tracklets to: c:\\Users\\colin\\OneDrive\\Desktop\\Jersey-Number-Recognition\\data\\SoccerNet\\jersey-2023\\processed_data\\challenge\\75\\illegible_results.json\n",
      "2025-04-05 15:04:12 [INFO] Legibility classification complete.\n",
      "2025-04-05 15:04:12 [INFO] Processed tracklet: 75\n",
      "2025-04-05 15:04:12 [INFO] 2025-04-05 15:04:11 [INFO] Threshold for standard deviation: 3.5, rounds: 3\n",
      "2025-04-05 15:04:11 [INFO] Round 1: Excluded 3 outliers\n",
      "2025-04-05 15:04:11 [INFO] Excluded images: ['73_578.jpg', '73_579.jpg', '73_586.jpg']\n",
      "2025-04-05 15:04:11 [INFO] Round 2: Excluded 3 outliers\n",
      "2025-04-05 15:04:11 [INFO] Excluded images: ['73_578.jpg', '73_579.jpg', '73_586.jpg']\n",
      "2025-04-05 15:04:11 [INFO] Round 3: Excluded 3 outliers\n",
      "2025-04-05 15:04:11 [INFO] Excluded images: ['73_578.jpg', '73_579.jpg', '73_586.jpg']\n",
      "\n",
      "2025-04-05 15:04:12 [ERROR] \n",
      "2025-04-05 15:04:12 [INFO] Done removing outliers\n",
      "2025-04-05 15:04:12 [INFO] Running model chain on preprocessed image(s).\n",
      "2025-04-05 15:04:12 [INFO] Classifying legibility of image(s) using pre-trained model.\n"
     ]
    },
    {
     "name": "stderr",
     "output_type": "stream",
     "text": [
      "Lightning automatically upgraded your loaded checkpoint from v1.1.4 to v2.5.0.post0. To apply the upgrade to your files permanently, run `python -m pytorch_lightning.utilities.upgrade_checkpoint c:\\Users\\colin\\OneDrive\\Desktop\\Jersey-Number-Recognition\\data\\pre_trained_models\\reid\\dukemtmcreid_resnet50_256_128_epoch_120.ckpt`\n"
     ]
    },
    {
     "name": "stdout",
     "output_type": "stream",
     "text": [
      "2025-04-05 15:04:13 [INFO] Saved features for tracklet with shape (487, 2048) to c:\\Users\\colin\\OneDrive\\Desktop\\Jersey-Number-Recognition\\data\\SoccerNet\\jersey-2023\\processed_data\\challenge\\79\\features.npy\n",
      "2025-04-05 15:04:13 [INFO] Identifying and removing outliers by calling gaussian_outliers.py on feature file\n",
      "2025-04-05 15:04:14 [INFO] 2025-04-05 15:04:13 [INFO] Threshold for standard deviation: 3.5, rounds: 3\n",
      "2025-04-05 15:04:13 [INFO] Round 1: Excluded 4 outliers\n",
      "2025-04-05 15:04:13 [INFO] Excluded images: ['77_172.jpg', '77_173.jpg', '77_174.jpg', '77_579.jpg']\n",
      "2025-04-05 15:04:13 [INFO] Round 2: Excluded 4 outliers\n",
      "2025-04-05 15:04:13 [INFO] Excluded images: ['77_172.jpg', '77_173.jpg', '77_174.jpg', '77_579.jpg']\n",
      "2025-04-05 15:04:13 [INFO] Round 3: Excluded 4 outliers\n",
      "2025-04-05 15:04:13 [INFO] Excluded images: ['77_172.jpg', '77_173.jpg', '77_174.jpg', '77_579.jpg']\n",
      "\n",
      "2025-04-05 15:04:14 [ERROR] \n",
      "2025-04-05 15:04:14 [INFO] Done removing outliers\n",
      "2025-04-05 15:04:14 [INFO] Running model chain on preprocessed image(s).\n",
      "2025-04-05 15:04:14 [INFO] Classifying legibility of image(s) using pre-trained model.\n",
      "2025-04-05 15:04:17 [INFO] 2025-04-05 15:04:16 [INFO] Threshold for standard deviation: 3.5, rounds: 3\n",
      "2025-04-05 15:04:16 [INFO] Round 1: Excluded 3 outliers\n",
      "2025-04-05 15:04:16 [INFO] Excluded images: ['74_278.jpg', '74_574.jpg', '74_589.jpg']\n",
      "2025-04-05 15:04:16 [INFO] Round 2: Excluded 3 outliers\n",
      "2025-04-05 15:04:16 [INFO] Excluded images: ['74_278.jpg', '74_574.jpg', '74_589.jpg']\n",
      "2025-04-05 15:04:16 [INFO] Round 3: Excluded 3 outliers\n",
      "2025-04-05 15:04:16 [INFO] Excluded images: ['74_278.jpg', '74_574.jpg', '74_589.jpg']\n",
      "\n",
      "2025-04-05 15:04:17 [ERROR] \n",
      "2025-04-05 15:04:17 [INFO] Done removing outliers\n",
      "2025-04-05 15:04:17 [INFO] Running model chain on preprocessed image(s).\n",
      "2025-04-05 15:04:17 [INFO] Classifying legibility of image(s) using pre-trained model.\n",
      "2025-04-05 15:04:18 [INFO] 2025-04-05 15:04:16 [INFO] Threshold for standard deviation: 3.5, rounds: 3\n",
      "2025-04-05 15:04:16 [INFO] Round 1: Excluded 3 outliers\n",
      "2025-04-05 15:04:16 [INFO] Excluded images: ['78_206.jpg', '78_207.jpg', '78_208.jpg']\n",
      "2025-04-05 15:04:16 [INFO] Round 2: Excluded 3 outliers\n",
      "2025-04-05 15:04:16 [INFO] Excluded images: ['78_206.jpg', '78_207.jpg', '78_208.jpg']\n",
      "2025-04-05 15:04:16 [INFO] Round 3: Excluded 3 outliers\n",
      "2025-04-05 15:04:16 [INFO] Excluded images: ['78_206.jpg', '78_207.jpg', '78_208.jpg']\n",
      "\n",
      "2025-04-05 15:04:18 [ERROR] \n",
      "2025-04-05 15:04:18 [INFO] Done removing outliers\n",
      "2025-04-05 15:04:18 [INFO] Running model chain on preprocessed image(s).\n",
      "2025-04-05 15:04:18 [INFO] Classifying legibility of image(s) using pre-trained model.\n",
      "2025-04-05 15:04:23 [INFO] 2025-04-05 15:04:22 [INFO] Threshold for standard deviation: 3.5, rounds: 3\n",
      "2025-04-05 15:04:22 [INFO] Round 1: Excluded 8 outliers\n",
      "2025-04-05 15:04:22 [INFO] Excluded images: ['76_246.jpg', '76_248.jpg', '76_271.jpg', '76_274.jpg', '76_485.jpg', '76_546.jpg', '76_547.jpg', '76_586.jpg']\n",
      "2025-04-05 15:04:22 [INFO] Round 2: Excluded 8 outliers\n",
      "2025-04-05 15:04:22 [INFO] Excluded images: ['76_246.jpg', '76_248.jpg', '76_271.jpg', '76_274.jpg', '76_485.jpg', '76_546.jpg', '76_547.jpg', '76_586.jpg']\n",
      "2025-04-05 15:04:22 [INFO] Round 3: Excluded 8 outliers\n",
      "2025-04-05 15:04:22 [INFO] Excluded images: ['76_246.jpg', '76_248.jpg', '76_271.jpg', '76_274.jpg', '76_485.jpg', '76_546.jpg', '76_547.jpg', '76_586.jpg']\n",
      "\n",
      "2025-04-05 15:04:23 [ERROR] \n",
      "2025-04-05 15:04:23 [INFO] Done removing outliers\n",
      "2025-04-05 15:04:23 [INFO] Running model chain on preprocessed image(s).\n",
      "2025-04-05 15:04:23 [INFO] Classifying legibility of image(s) using pre-trained model.\n",
      "2025-04-05 15:04:25 [INFO] Saved features for tracklet with shape (373, 2048) to c:\\Users\\colin\\OneDrive\\Desktop\\Jersey-Number-Recognition\\data\\SoccerNet\\jersey-2023\\processed_data\\challenge\\80\\features.npy\n",
      "2025-04-05 15:04:25 [INFO] Identifying and removing outliers by calling gaussian_outliers.py on feature file\n",
      "2025-04-05 15:04:31 [INFO] Median vs. average vs. max of raw outputs (thresh=0.5): 0.35209953784942627, 0.47754708779536537, 0.9987834095954895\n",
      "2025-04-05 15:04:31 [INFO] Median vs. average vs. max of kept outputs (thresh=0.5): 0.9735344648361206, 0.9395237629612286, 0.9987834095954895\n",
      "2025-04-05 15:04:31 [INFO] Tracklet 77 is legible.\n",
      "2025-04-05 15:04:31 [INFO] Saving legible_tracklets to: c:\\Users\\colin\\OneDrive\\Desktop\\Jersey-Number-Recognition\\data\\SoccerNet\\jersey-2023\\processed_data\\challenge\\77\\legible_results.json\n",
      "2025-04-05 15:04:31 [INFO] Saved legible_tracklets to: c:\\Users\\colin\\OneDrive\\Desktop\\Jersey-Number-Recognition\\data\\SoccerNet\\jersey-2023\\processed_data\\challenge\\77\\legible_results.json\n",
      "2025-04-05 15:04:31 [INFO] Saving illegible_tracklets to: c:\\Users\\colin\\OneDrive\\Desktop\\Jersey-Number-Recognition\\data\\SoccerNet\\jersey-2023\\processed_data\\challenge\\77\\illegible_results.json\n",
      "2025-04-05 15:04:31 [INFO] Saved illegible_tracklets to: c:\\Users\\colin\\OneDrive\\Desktop\\Jersey-Number-Recognition\\data\\SoccerNet\\jersey-2023\\processed_data\\challenge\\77\\illegible_results.json\n",
      "2025-04-05 15:04:31 [INFO] Legibility classification complete.\n",
      "2025-04-05 15:04:31 [INFO] Processed tracklet: 77\n"
     ]
    },
    {
     "name": "stderr",
     "output_type": "stream",
     "text": [
      "Lightning automatically upgraded your loaded checkpoint from v1.1.4 to v2.5.0.post0. To apply the upgrade to your files permanently, run `python -m pytorch_lightning.utilities.upgrade_checkpoint c:\\Users\\colin\\OneDrive\\Desktop\\Jersey-Number-Recognition\\data\\pre_trained_models\\reid\\dukemtmcreid_resnet50_256_128_epoch_120.ckpt`\n"
     ]
    },
    {
     "name": "stdout",
     "output_type": "stream",
     "text": [
      "2025-04-05 15:04:32 [INFO] 2025-04-05 15:04:30 [INFO] Threshold for standard deviation: 3.5, rounds: 3\n",
      "2025-04-05 15:04:30 [INFO] Round 1: Excluded 5 outliers\n",
      "2025-04-05 15:04:30 [INFO] Excluded images: ['79_122.jpg', '79_479.jpg', '79_480.jpg', '79_481.jpg', '79_620.jpg']\n",
      "2025-04-05 15:04:30 [INFO] Round 2: Excluded 5 outliers\n",
      "2025-04-05 15:04:30 [INFO] Excluded images: ['79_122.jpg', '79_479.jpg', '79_480.jpg', '79_481.jpg', '79_620.jpg']\n",
      "2025-04-05 15:04:30 [INFO] Round 3: Excluded 5 outliers\n",
      "2025-04-05 15:04:30 [INFO] Excluded images: ['79_122.jpg', '79_479.jpg', '79_480.jpg', '79_481.jpg', '79_620.jpg']\n",
      "\n",
      "2025-04-05 15:04:32 [ERROR] \n",
      "2025-04-05 15:04:32 [INFO] Done removing outliers\n",
      "2025-04-05 15:04:32 [INFO] Running model chain on preprocessed image(s).\n",
      "2025-04-05 15:04:32 [INFO] Classifying legibility of image(s) using pre-trained model.\n",
      "2025-04-05 15:04:35 [INFO] Median vs. average vs. max of raw outputs (thresh=0.5): 0.0007780300220474601, 0.12103354150760962, 0.9964600205421448\n",
      "2025-04-05 15:04:35 [INFO] Median vs. average vs. max of kept outputs (thresh=0.5): 0.9664218127727509, 0.8974799891312917, 0.9964600205421448\n",
      "2025-04-05 15:04:35 [INFO] Tracklet 78 is legible.\n",
      "2025-04-05 15:04:35 [INFO] Saving legible_tracklets to: c:\\Users\\colin\\OneDrive\\Desktop\\Jersey-Number-Recognition\\data\\SoccerNet\\jersey-2023\\processed_data\\challenge\\78\\legible_results.json\n",
      "2025-04-05 15:04:35 [INFO] Saved legible_tracklets to: c:\\Users\\colin\\OneDrive\\Desktop\\Jersey-Number-Recognition\\data\\SoccerNet\\jersey-2023\\processed_data\\challenge\\78\\legible_results.json\n",
      "2025-04-05 15:04:35 [INFO] Saving illegible_tracklets to: c:\\Users\\colin\\OneDrive\\Desktop\\Jersey-Number-Recognition\\data\\SoccerNet\\jersey-2023\\processed_data\\challenge\\78\\illegible_results.json\n",
      "2025-04-05 15:04:35 [INFO] Saved illegible_tracklets to: c:\\Users\\colin\\OneDrive\\Desktop\\Jersey-Number-Recognition\\data\\SoccerNet\\jersey-2023\\processed_data\\challenge\\78\\illegible_results.json\n",
      "2025-04-05 15:04:35 [INFO] Legibility classification complete.\n",
      "2025-04-05 15:04:35 [INFO] Processed tracklet: 78\n"
     ]
    },
    {
     "name": "stderr",
     "output_type": "stream",
     "text": [
      "Lightning automatically upgraded your loaded checkpoint from v1.1.4 to v2.5.0.post0. To apply the upgrade to your files permanently, run `python -m pytorch_lightning.utilities.upgrade_checkpoint c:\\Users\\colin\\OneDrive\\Desktop\\Jersey-Number-Recognition\\data\\pre_trained_models\\reid\\dukemtmcreid_resnet50_256_128_epoch_120.ckpt`\n"
     ]
    },
    {
     "name": "stdout",
     "output_type": "stream",
     "text": [
      "2025-04-05 15:04:42 [INFO] 2025-04-05 15:04:41 [INFO] Threshold for standard deviation: 3.5, rounds: 3\n",
      "2025-04-05 15:04:41 [INFO] Round 1: Excluded 4 outliers\n",
      "2025-04-05 15:04:41 [INFO] Excluded images: ['80_570.jpg', '80_579.jpg', '80_595.jpg', '80_597.jpg']\n",
      "2025-04-05 15:04:41 [INFO] Round 2: Excluded 4 outliers\n",
      "2025-04-05 15:04:41 [INFO] Excluded images: ['80_570.jpg', '80_579.jpg', '80_595.jpg', '80_597.jpg']\n",
      "2025-04-05 15:04:41 [INFO] Round 3: Excluded 4 outliers\n",
      "2025-04-05 15:04:41 [INFO] Excluded images: ['80_570.jpg', '80_579.jpg', '80_595.jpg', '80_597.jpg']\n",
      "\n",
      "2025-04-05 15:04:42 [ERROR] \n",
      "2025-04-05 15:04:42 [INFO] Done removing outliers\n",
      "2025-04-05 15:04:42 [INFO] Running model chain on preprocessed image(s).\n",
      "2025-04-05 15:04:42 [INFO] Classifying legibility of image(s) using pre-trained model.\n",
      "2025-04-05 15:04:48 [INFO] Saved features for tracklet with shape (435, 2048) to c:\\Users\\colin\\OneDrive\\Desktop\\Jersey-Number-Recognition\\data\\SoccerNet\\jersey-2023\\processed_data\\challenge\\81\\features.npy\n",
      "2025-04-05 15:04:48 [INFO] Identifying and removing outliers by calling gaussian_outliers.py on feature file\n",
      "2025-04-05 15:04:49 [INFO] Median vs. average vs. max of raw outputs (thresh=0.5): 0.0008614948310423642, 0.001509324287371594, 0.05249082297086716\n",
      "2025-04-05 15:04:49 [INFO] Median vs. average vs. max of kept outputs (thresh=0.5): 0.0, 0.0, 0.0\n",
      "2025-04-05 15:04:49 [INFO] Tracklet 79 is illegible.\n",
      "2025-04-05 15:04:49 [INFO] Saving legible_tracklets to: c:\\Users\\colin\\OneDrive\\Desktop\\Jersey-Number-Recognition\\data\\SoccerNet\\jersey-2023\\processed_data\\challenge\\79\\legible_results.json\n",
      "2025-04-05 15:04:49 [INFO] Saved legible_tracklets to: c:\\Users\\colin\\OneDrive\\Desktop\\Jersey-Number-Recognition\\data\\SoccerNet\\jersey-2023\\processed_data\\challenge\\79\\legible_results.json\n",
      "2025-04-05 15:04:49 [INFO] Saving illegible_tracklets to: c:\\Users\\colin\\OneDrive\\Desktop\\Jersey-Number-Recognition\\data\\SoccerNet\\jersey-2023\\processed_data\\challenge\\79\\illegible_results.json\n",
      "2025-04-05 15:04:49 [INFO] Saved illegible_tracklets to: c:\\Users\\colin\\OneDrive\\Desktop\\Jersey-Number-Recognition\\data\\SoccerNet\\jersey-2023\\processed_data\\challenge\\79\\illegible_results.json\n",
      "2025-04-05 15:04:49 [INFO] Legibility classification complete.\n",
      "2025-04-05 15:04:49 [INFO] Processed tracklet: 79\n"
     ]
    },
    {
     "name": "stderr",
     "output_type": "stream",
     "text": [
      "Lightning automatically upgraded your loaded checkpoint from v1.1.4 to v2.5.0.post0. To apply the upgrade to your files permanently, run `python -m pytorch_lightning.utilities.upgrade_checkpoint c:\\Users\\colin\\OneDrive\\Desktop\\Jersey-Number-Recognition\\data\\pre_trained_models\\reid\\dukemtmcreid_resnet50_256_128_epoch_120.ckpt`\n"
     ]
    },
    {
     "name": "stdout",
     "output_type": "stream",
     "text": [
      "2025-04-05 15:04:51 [INFO] Saved features for tracklet with shape (376, 2048) to c:\\Users\\colin\\OneDrive\\Desktop\\Jersey-Number-Recognition\\data\\SoccerNet\\jersey-2023\\processed_data\\challenge\\82\\features.npy\n",
      "2025-04-05 15:04:51 [INFO] Identifying and removing outliers by calling gaussian_outliers.py on feature file\n",
      "2025-04-05 15:04:58 [INFO] Median vs. average vs. max of raw outputs (thresh=0.5): 0.13164298236370087, 0.4227316766858449, 0.9970921277999878\n",
      "2025-04-05 15:04:58 [INFO] Median vs. average vs. max of kept outputs (thresh=0.5): 0.9544662237167358, 0.9071597317777255, 0.9970921277999878\n",
      "2025-04-05 15:04:58 [INFO] Tracklet 73 is legible.\n",
      "2025-04-05 15:04:58 [INFO] Saving legible_tracklets to: c:\\Users\\colin\\OneDrive\\Desktop\\Jersey-Number-Recognition\\data\\SoccerNet\\jersey-2023\\processed_data\\challenge\\73\\legible_results.json\n",
      "2025-04-05 15:04:58 [INFO] Saved legible_tracklets to: c:\\Users\\colin\\OneDrive\\Desktop\\Jersey-Number-Recognition\\data\\SoccerNet\\jersey-2023\\processed_data\\challenge\\73\\legible_results.json\n",
      "2025-04-05 15:04:58 [INFO] Saving illegible_tracklets to: c:\\Users\\colin\\OneDrive\\Desktop\\Jersey-Number-Recognition\\data\\SoccerNet\\jersey-2023\\processed_data\\challenge\\73\\illegible_results.json\n",
      "2025-04-05 15:04:58 [INFO] Saved illegible_tracklets to: c:\\Users\\colin\\OneDrive\\Desktop\\Jersey-Number-Recognition\\data\\SoccerNet\\jersey-2023\\processed_data\\challenge\\73\\illegible_results.json\n",
      "2025-04-05 15:04:58 [INFO] Legibility classification complete.\n",
      "2025-04-05 15:04:58 [INFO] Processed tracklet: 73\n"
     ]
    },
    {
     "name": "stderr",
     "output_type": "stream",
     "text": [
      "Lightning automatically upgraded your loaded checkpoint from v1.1.4 to v2.5.0.post0. To apply the upgrade to your files permanently, run `python -m pytorch_lightning.utilities.upgrade_checkpoint c:\\Users\\colin\\OneDrive\\Desktop\\Jersey-Number-Recognition\\data\\pre_trained_models\\reid\\dukemtmcreid_resnet50_256_128_epoch_120.ckpt`\n"
     ]
    },
    {
     "name": "stdout",
     "output_type": "stream",
     "text": [
      "2025-04-05 15:04:58 [INFO] Median vs. average vs. max of raw outputs (thresh=0.5): 0.0002620368613861501, 0.0003471234207988659, 0.0037870907690376043\n",
      "2025-04-05 15:04:58 [INFO] Median vs. average vs. max of kept outputs (thresh=0.5): 0.0, 0.0, 0.0\n",
      "2025-04-05 15:04:58 [INFO] Tracklet 80 is illegible.\n",
      "2025-04-05 15:04:58 [INFO] Saving legible_tracklets to: c:\\Users\\colin\\OneDrive\\Desktop\\Jersey-Number-Recognition\\data\\SoccerNet\\jersey-2023\\processed_data\\challenge\\80\\legible_results.json\n",
      "2025-04-05 15:04:58 [INFO] Saved legible_tracklets to: c:\\Users\\colin\\OneDrive\\Desktop\\Jersey-Number-Recognition\\data\\SoccerNet\\jersey-2023\\processed_data\\challenge\\80\\legible_results.json\n",
      "2025-04-05 15:04:58 [INFO] Saving illegible_tracklets to: c:\\Users\\colin\\OneDrive\\Desktop\\Jersey-Number-Recognition\\data\\SoccerNet\\jersey-2023\\processed_data\\challenge\\80\\illegible_results.json\n",
      "2025-04-05 15:04:58 [INFO] Saved illegible_tracklets to: c:\\Users\\colin\\OneDrive\\Desktop\\Jersey-Number-Recognition\\data\\SoccerNet\\jersey-2023\\processed_data\\challenge\\80\\illegible_results.json\n",
      "2025-04-05 15:04:58 [INFO] Legibility classification complete.\n",
      "2025-04-05 15:04:58 [INFO] Processed tracklet: 80\n"
     ]
    },
    {
     "name": "stderr",
     "output_type": "stream",
     "text": [
      "Lightning automatically upgraded your loaded checkpoint from v1.1.4 to v2.5.0.post0. To apply the upgrade to your files permanently, run `python -m pytorch_lightning.utilities.upgrade_checkpoint c:\\Users\\colin\\OneDrive\\Desktop\\Jersey-Number-Recognition\\data\\pre_trained_models\\reid\\dukemtmcreid_resnet50_256_128_epoch_120.ckpt`\n"
     ]
    },
    {
     "name": "stdout",
     "output_type": "stream",
     "text": [
      "2025-04-05 15:05:04 [INFO] 2025-04-05 15:05:02 [INFO] Threshold for standard deviation: 3.5, rounds: 3\n",
      "2025-04-05 15:05:02 [INFO] Round 1: Excluded 0 outliers\n",
      "2025-04-05 15:05:02 [INFO] Excluded images: []\n",
      "2025-04-05 15:05:02 [INFO] Round 2: Excluded 0 outliers\n",
      "2025-04-05 15:05:02 [INFO] Excluded images: []\n",
      "2025-04-05 15:05:02 [INFO] Round 3: Excluded 0 outliers\n",
      "2025-04-05 15:05:02 [INFO] Excluded images: []\n",
      "\n",
      "2025-04-05 15:05:04 [ERROR] \n",
      "2025-04-05 15:05:04 [INFO] Done removing outliers\n",
      "2025-04-05 15:05:04 [INFO] Running model chain on preprocessed image(s).\n",
      "2025-04-05 15:05:04 [INFO] Classifying legibility of image(s) using pre-trained model.\n",
      "2025-04-05 15:05:04 [INFO] Median vs. average vs. max of raw outputs (thresh=0.5): 0.00576716149225831, 0.2986540973378747, 0.9975908994674683\n",
      "2025-04-05 15:05:04 [INFO] Median vs. average vs. max of kept outputs (thresh=0.5): 0.9552643001079559, 0.9253213938032643, 0.9975908994674683\n",
      "2025-04-05 15:05:04 [INFO] Tracklet 74 is legible.\n",
      "2025-04-05 15:05:04 [INFO] Saving legible_tracklets to: c:\\Users\\colin\\OneDrive\\Desktop\\Jersey-Number-Recognition\\data\\SoccerNet\\jersey-2023\\processed_data\\challenge\\74\\legible_results.json\n",
      "2025-04-05 15:05:04 [INFO] Saved legible_tracklets to: c:\\Users\\colin\\OneDrive\\Desktop\\Jersey-Number-Recognition\\data\\SoccerNet\\jersey-2023\\processed_data\\challenge\\74\\legible_results.json\n",
      "2025-04-05 15:05:04 [INFO] Saving illegible_tracklets to: c:\\Users\\colin\\OneDrive\\Desktop\\Jersey-Number-Recognition\\data\\SoccerNet\\jersey-2023\\processed_data\\challenge\\74\\illegible_results.json\n",
      "2025-04-05 15:05:04 [INFO] Saved illegible_tracklets to: c:\\Users\\colin\\OneDrive\\Desktop\\Jersey-Number-Recognition\\data\\SoccerNet\\jersey-2023\\processed_data\\challenge\\74\\illegible_results.json\n",
      "2025-04-05 15:05:04 [INFO] Legibility classification complete.\n",
      "2025-04-05 15:05:04 [INFO] Processed tracklet: 74\n"
     ]
    },
    {
     "name": "stderr",
     "output_type": "stream",
     "text": [
      "Lightning automatically upgraded your loaded checkpoint from v1.1.4 to v2.5.0.post0. To apply the upgrade to your files permanently, run `python -m pytorch_lightning.utilities.upgrade_checkpoint c:\\Users\\colin\\OneDrive\\Desktop\\Jersey-Number-Recognition\\data\\pre_trained_models\\reid\\dukemtmcreid_resnet50_256_128_epoch_120.ckpt`\n"
     ]
    },
    {
     "name": "stdout",
     "output_type": "stream",
     "text": [
      "2025-04-05 15:05:05 [INFO] 2025-04-05 15:05:04 [INFO] Threshold for standard deviation: 3.5, rounds: 3\n",
      "2025-04-05 15:05:04 [INFO] Round 1: Excluded 2 outliers\n",
      "2025-04-05 15:05:04 [INFO] Excluded images: ['82_253.jpg', '82_254.jpg']\n",
      "2025-04-05 15:05:04 [INFO] Round 2: Excluded 2 outliers\n",
      "2025-04-05 15:05:04 [INFO] Excluded images: ['82_253.jpg', '82_254.jpg']\n",
      "2025-04-05 15:05:04 [INFO] Round 3: Excluded 2 outliers\n",
      "2025-04-05 15:05:04 [INFO] Excluded images: ['82_253.jpg', '82_254.jpg']\n",
      "\n",
      "2025-04-05 15:05:05 [ERROR] \n",
      "2025-04-05 15:05:05 [INFO] Done removing outliers\n",
      "2025-04-05 15:05:05 [INFO] Running model chain on preprocessed image(s).\n",
      "2025-04-05 15:05:05 [INFO] Classifying legibility of image(s) using pre-trained model.\n",
      "2025-04-05 15:05:05 [INFO] Saved features for tracklet with shape (336, 2048) to c:\\Users\\colin\\OneDrive\\Desktop\\Jersey-Number-Recognition\\data\\SoccerNet\\jersey-2023\\processed_data\\challenge\\83\\features.npy\n",
      "2025-04-05 15:05:06 [INFO] Identifying and removing outliers by calling gaussian_outliers.py on feature file\n",
      "2025-04-05 15:05:11 [INFO] Median vs. average vs. max of raw outputs (thresh=0.5): 0.0013397479197010398, 0.0014555216933455713, 0.007921065203845501\n",
      "2025-04-05 15:05:11 [INFO] Median vs. average vs. max of kept outputs (thresh=0.5): 0.0, 0.0, 0.0\n",
      "2025-04-05 15:05:11 [INFO] Tracklet 76 is illegible.\n",
      "2025-04-05 15:05:11 [INFO] Saving legible_tracklets to: c:\\Users\\colin\\OneDrive\\Desktop\\Jersey-Number-Recognition\\data\\SoccerNet\\jersey-2023\\processed_data\\challenge\\76\\legible_results.json\n",
      "2025-04-05 15:05:11 [INFO] Saved legible_tracklets to: c:\\Users\\colin\\OneDrive\\Desktop\\Jersey-Number-Recognition\\data\\SoccerNet\\jersey-2023\\processed_data\\challenge\\76\\legible_results.json\n",
      "2025-04-05 15:05:11 [INFO] Saving illegible_tracklets to: c:\\Users\\colin\\OneDrive\\Desktop\\Jersey-Number-Recognition\\data\\SoccerNet\\jersey-2023\\processed_data\\challenge\\76\\illegible_results.json\n",
      "2025-04-05 15:05:11 [INFO] Saved illegible_tracklets to: c:\\Users\\colin\\OneDrive\\Desktop\\Jersey-Number-Recognition\\data\\SoccerNet\\jersey-2023\\processed_data\\challenge\\76\\illegible_results.json\n",
      "2025-04-05 15:05:11 [INFO] Legibility classification complete.\n",
      "2025-04-05 15:05:11 [INFO] Processed tracklet: 76\n"
     ]
    },
    {
     "name": "stderr",
     "output_type": "stream",
     "text": [
      "Lightning automatically upgraded your loaded checkpoint from v1.1.4 to v2.5.0.post0. To apply the upgrade to your files permanently, run `python -m pytorch_lightning.utilities.upgrade_checkpoint c:\\Users\\colin\\OneDrive\\Desktop\\Jersey-Number-Recognition\\data\\pre_trained_models\\reid\\dukemtmcreid_resnet50_256_128_epoch_120.ckpt`\n"
     ]
    },
    {
     "name": "stdout",
     "output_type": "stream",
     "text": [
      "2025-04-05 15:05:23 [INFO] 2025-04-05 15:05:22 [INFO] Threshold for standard deviation: 3.5, rounds: 3\n",
      "2025-04-05 15:05:22 [INFO] Round 1: Excluded 2 outliers\n",
      "2025-04-05 15:05:22 [INFO] Excluded images: ['83_176.jpg', '83_610.jpg']\n",
      "2025-04-05 15:05:22 [INFO] Round 2: Excluded 2 outliers\n",
      "2025-04-05 15:05:22 [INFO] Excluded images: ['83_176.jpg', '83_610.jpg']\n",
      "2025-04-05 15:05:22 [INFO] Round 3: Excluded 2 outliers\n",
      "2025-04-05 15:05:22 [INFO] Excluded images: ['83_176.jpg', '83_610.jpg']\n",
      "\n",
      "2025-04-05 15:05:23 [ERROR] \n",
      "2025-04-05 15:05:23 [INFO] Done removing outliers\n",
      "2025-04-05 15:05:23 [INFO] Running model chain on preprocessed image(s).\n",
      "2025-04-05 15:05:23 [INFO] Classifying legibility of image(s) using pre-trained model.\n",
      "2025-04-05 15:05:24 [INFO] Saved features for tracklet with shape (161, 2048) to c:\\Users\\colin\\OneDrive\\Desktop\\Jersey-Number-Recognition\\data\\SoccerNet\\jersey-2023\\processed_data\\challenge\\87\\features.npy\n",
      "2025-04-05 15:05:24 [INFO] Identifying and removing outliers by calling gaussian_outliers.py on feature file\n",
      "2025-04-05 15:05:24 [INFO] Median vs. average vs. max of raw outputs (thresh=0.5): 0.0010077010374516249, 0.0069383665089175674, 0.24996709823608398\n",
      "2025-04-05 15:05:24 [INFO] Median vs. average vs. max of kept outputs (thresh=0.5): 0.0, 0.0, 0.0\n",
      "2025-04-05 15:05:24 [INFO] Tracklet 81 is illegible.\n",
      "2025-04-05 15:05:24 [INFO] Saving legible_tracklets to: c:\\Users\\colin\\OneDrive\\Desktop\\Jersey-Number-Recognition\\data\\SoccerNet\\jersey-2023\\processed_data\\challenge\\81\\legible_results.json\n",
      "2025-04-05 15:05:24 [INFO] Saved legible_tracklets to: c:\\Users\\colin\\OneDrive\\Desktop\\Jersey-Number-Recognition\\data\\SoccerNet\\jersey-2023\\processed_data\\challenge\\81\\legible_results.json\n",
      "2025-04-05 15:05:24 [INFO] Saving illegible_tracklets to: c:\\Users\\colin\\OneDrive\\Desktop\\Jersey-Number-Recognition\\data\\SoccerNet\\jersey-2023\\processed_data\\challenge\\81\\illegible_results.json\n",
      "2025-04-05 15:05:24 [INFO] Saved illegible_tracklets to: c:\\Users\\colin\\OneDrive\\Desktop\\Jersey-Number-Recognition\\data\\SoccerNet\\jersey-2023\\processed_data\\challenge\\81\\illegible_results.json\n",
      "2025-04-05 15:05:24 [INFO] Legibility classification complete.\n",
      "2025-04-05 15:05:24 [INFO] Processed tracklet: 81\n"
     ]
    },
    {
     "name": "stderr",
     "output_type": "stream",
     "text": [
      "Lightning automatically upgraded your loaded checkpoint from v1.1.4 to v2.5.0.post0. To apply the upgrade to your files permanently, run `python -m pytorch_lightning.utilities.upgrade_checkpoint c:\\Users\\colin\\OneDrive\\Desktop\\Jersey-Number-Recognition\\data\\pre_trained_models\\reid\\dukemtmcreid_resnet50_256_128_epoch_120.ckpt`\n"
     ]
    },
    {
     "name": "stdout",
     "output_type": "stream",
     "text": [
      "2025-04-05 15:05:25 [INFO] Median vs. average vs. max of raw outputs (thresh=0.5): 0.0006081301253288984, 0.0033803410080246277, 0.3217865526676178\n",
      "2025-04-05 15:05:25 [INFO] Median vs. average vs. max of kept outputs (thresh=0.5): 0.0, 0.0, 0.0\n",
      "2025-04-05 15:05:25 [INFO] Tracklet 82 is illegible.\n",
      "2025-04-05 15:05:25 [INFO] Saving legible_tracklets to: c:\\Users\\colin\\OneDrive\\Desktop\\Jersey-Number-Recognition\\data\\SoccerNet\\jersey-2023\\processed_data\\challenge\\82\\legible_results.json\n",
      "2025-04-05 15:05:25 [INFO] Saved legible_tracklets to: c:\\Users\\colin\\OneDrive\\Desktop\\Jersey-Number-Recognition\\data\\SoccerNet\\jersey-2023\\processed_data\\challenge\\82\\legible_results.json\n",
      "2025-04-05 15:05:25 [INFO] Saving illegible_tracklets to: c:\\Users\\colin\\OneDrive\\Desktop\\Jersey-Number-Recognition\\data\\SoccerNet\\jersey-2023\\processed_data\\challenge\\82\\illegible_results.json\n",
      "2025-04-05 15:05:25 [INFO] Saved illegible_tracklets to: c:\\Users\\colin\\OneDrive\\Desktop\\Jersey-Number-Recognition\\data\\SoccerNet\\jersey-2023\\processed_data\\challenge\\82\\illegible_results.json\n",
      "2025-04-05 15:05:25 [INFO] Legibility classification complete.\n",
      "2025-04-05 15:05:25 [INFO] Processed tracklet: 82\n"
     ]
    },
    {
     "name": "stderr",
     "output_type": "stream",
     "text": [
      "Lightning automatically upgraded your loaded checkpoint from v1.1.4 to v2.5.0.post0. To apply the upgrade to your files permanently, run `python -m pytorch_lightning.utilities.upgrade_checkpoint c:\\Users\\colin\\OneDrive\\Desktop\\Jersey-Number-Recognition\\data\\pre_trained_models\\reid\\dukemtmcreid_resnet50_256_128_epoch_120.ckpt`\n"
     ]
    },
    {
     "name": "stdout",
     "output_type": "stream",
     "text": [
      "2025-04-05 15:05:26 [INFO] Saved features for tracklet with shape (419, 2048) to c:\\Users\\colin\\OneDrive\\Desktop\\Jersey-Number-Recognition\\data\\SoccerNet\\jersey-2023\\processed_data\\challenge\\84\\features.npy\n",
      "2025-04-05 15:05:26 [INFO] Identifying and removing outliers by calling gaussian_outliers.py on feature file\n",
      "2025-04-05 15:05:26 [INFO] Saved features for tracklet with shape (416, 2048) to c:\\Users\\colin\\OneDrive\\Desktop\\Jersey-Number-Recognition\\data\\SoccerNet\\jersey-2023\\processed_data\\challenge\\85\\features.npy\n",
      "2025-04-05 15:05:26 [INFO] Identifying and removing outliers by calling gaussian_outliers.py on feature file\n",
      "2025-04-05 15:05:28 [INFO] Saved features for tracklet with shape (343, 2048) to c:\\Users\\colin\\OneDrive\\Desktop\\Jersey-Number-Recognition\\data\\SoccerNet\\jersey-2023\\processed_data\\challenge\\86\\features.npy\n",
      "2025-04-05 15:05:28 [INFO] Identifying and removing outliers by calling gaussian_outliers.py on feature file\n",
      "2025-04-05 15:05:36 [INFO] Saved features for tracklet with shape (282, 2048) to c:\\Users\\colin\\OneDrive\\Desktop\\Jersey-Number-Recognition\\data\\SoccerNet\\jersey-2023\\processed_data\\challenge\\88\\features.npy\n",
      "2025-04-05 15:05:36 [INFO] Identifying and removing outliers by calling gaussian_outliers.py on feature file\n",
      "2025-04-05 15:05:38 [INFO] Median vs. average vs. max of raw outputs (thresh=0.5): 0.0025682434206828475, 0.18651834340758405, 0.9994468092918396\n",
      "2025-04-05 15:05:38 [INFO] Median vs. average vs. max of kept outputs (thresh=0.5): 0.9957385063171387, 0.9692356343996726, 0.9994468092918396\n",
      "2025-04-05 15:05:38 [INFO] Tracklet 83 is legible.\n",
      "2025-04-05 15:05:38 [INFO] Saving legible_tracklets to: c:\\Users\\colin\\OneDrive\\Desktop\\Jersey-Number-Recognition\\data\\SoccerNet\\jersey-2023\\processed_data\\challenge\\83\\legible_results.json\n",
      "2025-04-05 15:05:38 [INFO] Saved legible_tracklets to: c:\\Users\\colin\\OneDrive\\Desktop\\Jersey-Number-Recognition\\data\\SoccerNet\\jersey-2023\\processed_data\\challenge\\83\\legible_results.json\n",
      "2025-04-05 15:05:38 [INFO] Saving illegible_tracklets to: c:\\Users\\colin\\OneDrive\\Desktop\\Jersey-Number-Recognition\\data\\SoccerNet\\jersey-2023\\processed_data\\challenge\\83\\illegible_results.json\n",
      "2025-04-05 15:05:38 [INFO] Saved illegible_tracklets to: c:\\Users\\colin\\OneDrive\\Desktop\\Jersey-Number-Recognition\\data\\SoccerNet\\jersey-2023\\processed_data\\challenge\\83\\illegible_results.json\n",
      "2025-04-05 15:05:38 [INFO] Legibility classification complete.\n",
      "2025-04-05 15:05:38 [INFO] Processed tracklet: 83\n"
     ]
    },
    {
     "name": "stderr",
     "output_type": "stream",
     "text": [
      "Lightning automatically upgraded your loaded checkpoint from v1.1.4 to v2.5.0.post0. To apply the upgrade to your files permanently, run `python -m pytorch_lightning.utilities.upgrade_checkpoint c:\\Users\\colin\\OneDrive\\Desktop\\Jersey-Number-Recognition\\data\\pre_trained_models\\reid\\dukemtmcreid_resnet50_256_128_epoch_120.ckpt`\n"
     ]
    },
    {
     "name": "stdout",
     "output_type": "stream",
     "text": [
      "2025-04-05 15:05:40 [INFO] 2025-04-05 15:05:39 [INFO] Threshold for standard deviation: 3.5, rounds: 3\n",
      "2025-04-05 15:05:39 [INFO] Round 1: Excluded 1 outliers\n",
      "2025-04-05 15:05:39 [INFO] Excluded images: ['87_208.jpg']\n",
      "2025-04-05 15:05:39 [INFO] Round 2: Excluded 1 outliers\n",
      "2025-04-05 15:05:39 [INFO] Excluded images: ['87_208.jpg']\n",
      "2025-04-05 15:05:39 [INFO] Round 3: Excluded 1 outliers\n",
      "2025-04-05 15:05:39 [INFO] Excluded images: ['87_208.jpg']\n",
      "\n",
      "2025-04-05 15:05:40 [ERROR] \n",
      "2025-04-05 15:05:40 [INFO] Done removing outliers\n",
      "2025-04-05 15:05:40 [INFO] Running model chain on preprocessed image(s).\n",
      "2025-04-05 15:05:40 [INFO] Classifying legibility of image(s) using pre-trained model.\n",
      "2025-04-05 15:05:42 [INFO] 2025-04-05 15:05:41 [INFO] Threshold for standard deviation: 3.5, rounds: 3\n",
      "2025-04-05 15:05:41 [INFO] Round 1: Excluded 1 outliers\n",
      "2025-04-05 15:05:41 [INFO] Excluded images: ['84_587.jpg']\n",
      "2025-04-05 15:05:41 [INFO] Round 2: Excluded 1 outliers\n",
      "2025-04-05 15:05:41 [INFO] Excluded images: ['84_587.jpg']\n",
      "2025-04-05 15:05:41 [INFO] Round 3: Excluded 1 outliers\n",
      "2025-04-05 15:05:41 [INFO] Excluded images: ['84_587.jpg']\n",
      "\n",
      "2025-04-05 15:05:42 [ERROR] \n",
      "2025-04-05 15:05:42 [INFO] Done removing outliers\n",
      "2025-04-05 15:05:42 [INFO] Running model chain on preprocessed image(s).\n",
      "2025-04-05 15:05:42 [INFO] Classifying legibility of image(s) using pre-trained model.\n",
      "2025-04-05 15:05:43 [INFO] 2025-04-05 15:05:41 [INFO] Threshold for standard deviation: 3.5, rounds: 3\n",
      "2025-04-05 15:05:41 [INFO] Round 1: Excluded 2 outliers\n",
      "2025-04-05 15:05:41 [INFO] Excluded images: ['85_250.jpg', '85_603.jpg']\n",
      "2025-04-05 15:05:41 [INFO] Round 2: Excluded 2 outliers\n",
      "2025-04-05 15:05:41 [INFO] Excluded images: ['85_250.jpg', '85_603.jpg']\n",
      "2025-04-05 15:05:41 [INFO] Round 3: Excluded 2 outliers\n",
      "2025-04-05 15:05:41 [INFO] Excluded images: ['85_250.jpg', '85_603.jpg']\n",
      "\n",
      "2025-04-05 15:05:43 [ERROR] \n",
      "2025-04-05 15:05:43 [INFO] Done removing outliers\n",
      "2025-04-05 15:05:43 [INFO] Running model chain on preprocessed image(s).\n",
      "2025-04-05 15:05:43 [INFO] Classifying legibility of image(s) using pre-trained model.\n",
      "2025-04-05 15:05:44 [INFO] 2025-04-05 15:05:42 [INFO] Threshold for standard deviation: 3.5, rounds: 3\n",
      "2025-04-05 15:05:42 [INFO] Round 1: Excluded 3 outliers\n",
      "2025-04-05 15:05:42 [INFO] Excluded images: ['86_195.jpg', '86_196.jpg', '86_362.jpg']\n",
      "2025-04-05 15:05:42 [INFO] Round 2: Excluded 3 outliers\n",
      "2025-04-05 15:05:42 [INFO] Excluded images: ['86_195.jpg', '86_196.jpg', '86_362.jpg']\n",
      "2025-04-05 15:05:42 [INFO] Round 3: Excluded 3 outliers\n",
      "2025-04-05 15:05:42 [INFO] Excluded images: ['86_195.jpg', '86_196.jpg', '86_362.jpg']\n",
      "\n",
      "2025-04-05 15:05:44 [ERROR] \n",
      "2025-04-05 15:05:44 [INFO] Done removing outliers\n",
      "2025-04-05 15:05:44 [INFO] Running model chain on preprocessed image(s).\n",
      "2025-04-05 15:05:44 [INFO] Classifying legibility of image(s) using pre-trained model.\n",
      "2025-04-05 15:05:45 [INFO] Saved features for tracklet with shape (530, 2048) to c:\\Users\\colin\\OneDrive\\Desktop\\Jersey-Number-Recognition\\data\\SoccerNet\\jersey-2023\\processed_data\\challenge\\89\\features.npy\n",
      "2025-04-05 15:05:45 [INFO] Identifying and removing outliers by calling gaussian_outliers.py on feature file\n",
      "2025-04-05 15:05:49 [INFO] Saved features for tracklet with shape (269, 2048) to c:\\Users\\colin\\OneDrive\\Desktop\\Jersey-Number-Recognition\\data\\SoccerNet\\jersey-2023\\processed_data\\challenge\\90\\features.npy\n",
      "2025-04-05 15:05:49 [INFO] Identifying and removing outliers by calling gaussian_outliers.py on feature file\n",
      "2025-04-05 15:05:55 [INFO] 2025-04-05 15:05:54 [INFO] Threshold for standard deviation: 3.5, rounds: 3\n",
      "2025-04-05 15:05:54 [INFO] Round 1: Excluded 1 outliers\n",
      "2025-04-05 15:05:54 [INFO] Excluded images: ['88_312.jpg']\n",
      "2025-04-05 15:05:54 [INFO] Round 2: Excluded 1 outliers\n",
      "2025-04-05 15:05:54 [INFO] Excluded images: ['88_312.jpg']\n",
      "2025-04-05 15:05:54 [INFO] Round 3: Excluded 1 outliers\n",
      "2025-04-05 15:05:54 [INFO] Excluded images: ['88_312.jpg']\n",
      "\n",
      "2025-04-05 15:05:55 [ERROR] \n",
      "2025-04-05 15:05:55 [INFO] Done removing outliers\n",
      "2025-04-05 15:05:55 [INFO] Running model chain on preprocessed image(s).\n",
      "2025-04-05 15:05:55 [INFO] Classifying legibility of image(s) using pre-trained model.\n",
      "2025-04-05 15:05:58 [INFO] Median vs. average vs. max of raw outputs (thresh=0.5): 0.00040728993189986795, 0.00045935487801216366, 0.0017933548660948873\n",
      "2025-04-05 15:05:58 [INFO] Median vs. average vs. max of kept outputs (thresh=0.5): 0.0, 0.0, 0.0\n",
      "2025-04-05 15:05:58 [INFO] Tracklet 87 is illegible.\n",
      "2025-04-05 15:05:58 [INFO] Saving legible_tracklets to: c:\\Users\\colin\\OneDrive\\Desktop\\Jersey-Number-Recognition\\data\\SoccerNet\\jersey-2023\\processed_data\\challenge\\87\\legible_results.json\n",
      "2025-04-05 15:05:58 [INFO] Saved legible_tracklets to: c:\\Users\\colin\\OneDrive\\Desktop\\Jersey-Number-Recognition\\data\\SoccerNet\\jersey-2023\\processed_data\\challenge\\87\\legible_results.json\n",
      "2025-04-05 15:05:58 [INFO] Saving illegible_tracklets to: c:\\Users\\colin\\OneDrive\\Desktop\\Jersey-Number-Recognition\\data\\SoccerNet\\jersey-2023\\processed_data\\challenge\\87\\illegible_results.json\n",
      "2025-04-05 15:05:58 [INFO] Saved illegible_tracklets to: c:\\Users\\colin\\OneDrive\\Desktop\\Jersey-Number-Recognition\\data\\SoccerNet\\jersey-2023\\processed_data\\challenge\\87\\illegible_results.json\n",
      "2025-04-05 15:05:58 [INFO] Legibility classification complete.\n",
      "2025-04-05 15:05:58 [INFO] Processed tracklet: 87\n"
     ]
    },
    {
     "name": "stderr",
     "output_type": "stream",
     "text": [
      "Lightning automatically upgraded your loaded checkpoint from v1.1.4 to v2.5.0.post0. To apply the upgrade to your files permanently, run `python -m pytorch_lightning.utilities.upgrade_checkpoint c:\\Users\\colin\\OneDrive\\Desktop\\Jersey-Number-Recognition\\data\\pre_trained_models\\reid\\dukemtmcreid_resnet50_256_128_epoch_120.ckpt`\n"
     ]
    },
    {
     "name": "stdout",
     "output_type": "stream",
     "text": [
      "2025-04-05 15:06:07 [INFO] Median vs. average vs. max of raw outputs (thresh=0.5): 0.005466636968776584, 0.23085669759554361, 0.9992150068283081\n",
      "2025-04-05 15:06:07 [INFO] Median vs. average vs. max of kept outputs (thresh=0.5): 0.9867743253707886, 0.9290050923169314, 0.9992150068283081\n",
      "2025-04-05 15:06:07 [INFO] Tracklet 84 is legible.\n",
      "2025-04-05 15:06:07 [INFO] Saving legible_tracklets to: c:\\Users\\colin\\OneDrive\\Desktop\\Jersey-Number-Recognition\\data\\SoccerNet\\jersey-2023\\processed_data\\challenge\\84\\legible_results.json\n",
      "2025-04-05 15:06:07 [INFO] Saved legible_tracklets to: c:\\Users\\colin\\OneDrive\\Desktop\\Jersey-Number-Recognition\\data\\SoccerNet\\jersey-2023\\processed_data\\challenge\\84\\legible_results.json\n",
      "2025-04-05 15:06:07 [INFO] Saving illegible_tracklets to: c:\\Users\\colin\\OneDrive\\Desktop\\Jersey-Number-Recognition\\data\\SoccerNet\\jersey-2023\\processed_data\\challenge\\84\\illegible_results.json\n",
      "2025-04-05 15:06:07 [INFO] Saved illegible_tracklets to: c:\\Users\\colin\\OneDrive\\Desktop\\Jersey-Number-Recognition\\data\\SoccerNet\\jersey-2023\\processed_data\\challenge\\84\\illegible_results.json\n",
      "2025-04-05 15:06:07 [INFO] Legibility classification complete.\n",
      "2025-04-05 15:06:07 [INFO] Processed tracklet: 84\n"
     ]
    },
    {
     "name": "stderr",
     "output_type": "stream",
     "text": [
      "Lightning automatically upgraded your loaded checkpoint from v1.1.4 to v2.5.0.post0. To apply the upgrade to your files permanently, run `python -m pytorch_lightning.utilities.upgrade_checkpoint c:\\Users\\colin\\OneDrive\\Desktop\\Jersey-Number-Recognition\\data\\pre_trained_models\\reid\\dukemtmcreid_resnet50_256_128_epoch_120.ckpt`\n"
     ]
    },
    {
     "name": "stdout",
     "output_type": "stream",
     "text": [
      "2025-04-05 15:06:08 [INFO] Median vs. average vs. max of raw outputs (thresh=0.5): 0.001043109514284879, 0.026768808571946197, 0.929268479347229\n",
      "2025-04-05 15:06:08 [INFO] Median vs. average vs. max of kept outputs (thresh=0.5): 0.7140217125415802, 0.7004529014229774, 0.929268479347229\n",
      "2025-04-05 15:06:08 [INFO] Tracklet 86 is legible.\n",
      "2025-04-05 15:06:08 [INFO] Saving legible_tracklets to: c:\\Users\\colin\\OneDrive\\Desktop\\Jersey-Number-Recognition\\data\\SoccerNet\\jersey-2023\\processed_data\\challenge\\86\\legible_results.json\n",
      "2025-04-05 15:06:08 [INFO] Saved legible_tracklets to: c:\\Users\\colin\\OneDrive\\Desktop\\Jersey-Number-Recognition\\data\\SoccerNet\\jersey-2023\\processed_data\\challenge\\86\\legible_results.json\n",
      "2025-04-05 15:06:08 [INFO] Saving illegible_tracklets to: c:\\Users\\colin\\OneDrive\\Desktop\\Jersey-Number-Recognition\\data\\SoccerNet\\jersey-2023\\processed_data\\challenge\\86\\illegible_results.json\n",
      "2025-04-05 15:06:08 [INFO] Saved illegible_tracklets to: c:\\Users\\colin\\OneDrive\\Desktop\\Jersey-Number-Recognition\\data\\SoccerNet\\jersey-2023\\processed_data\\challenge\\86\\illegible_results.json\n",
      "2025-04-05 15:06:08 [INFO] Legibility classification complete.\n",
      "2025-04-05 15:06:08 [INFO] Processed tracklet: 86\n",
      "2025-04-05 15:06:08 [INFO] Median vs. average vs. max of raw outputs (thresh=0.5): 0.002088412642478943, 0.27496743346657443, 0.9978963136672974\n",
      "2025-04-05 15:06:08 [INFO] Median vs. average vs. max of kept outputs (thresh=0.5): 0.9832057058811188, 0.9584224333888606, 0.9978963136672974\n",
      "2025-04-05 15:06:08 [INFO] Tracklet 85 is legible.\n",
      "2025-04-05 15:06:08 [INFO] Saving legible_tracklets to: c:\\Users\\colin\\OneDrive\\Desktop\\Jersey-Number-Recognition\\data\\SoccerNet\\jersey-2023\\processed_data\\challenge\\85\\legible_results.json\n",
      "2025-04-05 15:06:08 [INFO] Saved legible_tracklets to: c:\\Users\\colin\\OneDrive\\Desktop\\Jersey-Number-Recognition\\data\\SoccerNet\\jersey-2023\\processed_data\\challenge\\85\\legible_results.json\n",
      "2025-04-05 15:06:08 [INFO] Saving illegible_tracklets to: c:\\Users\\colin\\OneDrive\\Desktop\\Jersey-Number-Recognition\\data\\SoccerNet\\jersey-2023\\processed_data\\challenge\\85\\illegible_results.json\n",
      "2025-04-05 15:06:08 [INFO] Saved illegible_tracklets to: c:\\Users\\colin\\OneDrive\\Desktop\\Jersey-Number-Recognition\\data\\SoccerNet\\jersey-2023\\processed_data\\challenge\\85\\illegible_results.json\n",
      "2025-04-05 15:06:08 [INFO] Legibility classification complete.\n",
      "2025-04-05 15:06:08 [INFO] Processed tracklet: 85\n"
     ]
    },
    {
     "name": "stderr",
     "output_type": "stream",
     "text": [
      "Lightning automatically upgraded your loaded checkpoint from v1.1.4 to v2.5.0.post0. To apply the upgrade to your files permanently, run `python -m pytorch_lightning.utilities.upgrade_checkpoint c:\\Users\\colin\\OneDrive\\Desktop\\Jersey-Number-Recognition\\data\\pre_trained_models\\reid\\dukemtmcreid_resnet50_256_128_epoch_120.ckpt`\n",
      "Lightning automatically upgraded your loaded checkpoint from v1.1.4 to v2.5.0.post0. To apply the upgrade to your files permanently, run `python -m pytorch_lightning.utilities.upgrade_checkpoint c:\\Users\\colin\\OneDrive\\Desktop\\Jersey-Number-Recognition\\data\\pre_trained_models\\reid\\dukemtmcreid_resnet50_256_128_epoch_120.ckpt`\n"
     ]
    },
    {
     "name": "stdout",
     "output_type": "stream",
     "text": [
      "2025-04-05 15:06:10 [INFO] 2025-04-05 15:06:08 [INFO] Threshold for standard deviation: 3.5, rounds: 3\n",
      "2025-04-05 15:06:08 [INFO] Round 1: Excluded 9 outliers\n",
      "2025-04-05 15:06:08 [INFO] Excluded images: ['89_199.jpg', '89_351.jpg', '89_354.jpg', '89_355.jpg', '89_356.jpg', '89_357.jpg', '89_358.jpg', '89_369.jpg', '89_632.jpg']\n",
      "2025-04-05 15:06:08 [INFO] Round 2: Excluded 9 outliers\n",
      "2025-04-05 15:06:08 [INFO] Excluded images: ['89_199.jpg', '89_351.jpg', '89_354.jpg', '89_355.jpg', '89_356.jpg', '89_357.jpg', '89_358.jpg', '89_369.jpg', '89_632.jpg']\n",
      "2025-04-05 15:06:09 [INFO] Round 3: Excluded 9 outliers\n",
      "2025-04-05 15:06:09 [INFO] Excluded images: ['89_199.jpg', '89_351.jpg', '89_354.jpg', '89_355.jpg', '89_356.jpg', '89_357.jpg', '89_358.jpg', '89_369.jpg', '89_632.jpg']\n",
      "\n",
      "2025-04-05 15:06:10 [ERROR] \n",
      "2025-04-05 15:06:10 [INFO] Done removing outliers\n",
      "2025-04-05 15:06:10 [INFO] Running model chain on preprocessed image(s).\n",
      "2025-04-05 15:06:10 [INFO] Classifying legibility of image(s) using pre-trained model.\n",
      "2025-04-05 15:06:11 [INFO] 2025-04-05 15:06:10 [INFO] Threshold for standard deviation: 3.5, rounds: 3\n",
      "2025-04-05 15:06:10 [INFO] Round 1: Excluded 5 outliers\n",
      "2025-04-05 15:06:10 [INFO] Excluded images: ['90_205.jpg', '90_206.jpg', '90_207.jpg', '90_304.jpg', '90_582.jpg']\n",
      "2025-04-05 15:06:10 [INFO] Round 2: Excluded 5 outliers\n",
      "2025-04-05 15:06:10 [INFO] Excluded images: ['90_205.jpg', '90_206.jpg', '90_207.jpg', '90_304.jpg', '90_582.jpg']\n",
      "2025-04-05 15:06:10 [INFO] Round 3: Excluded 5 outliers\n",
      "2025-04-05 15:06:10 [INFO] Excluded images: ['90_205.jpg', '90_206.jpg', '90_207.jpg', '90_304.jpg', '90_582.jpg']\n",
      "\n",
      "2025-04-05 15:06:11 [ERROR] \n",
      "2025-04-05 15:06:11 [INFO] Done removing outliers\n",
      "2025-04-05 15:06:11 [INFO] Running model chain on preprocessed image(s).\n",
      "2025-04-05 15:06:11 [INFO] Classifying legibility of image(s) using pre-trained model.\n",
      "2025-04-05 15:06:13 [INFO] Saved features for tracklet with shape (226, 2048) to c:\\Users\\colin\\OneDrive\\Desktop\\Jersey-Number-Recognition\\data\\SoccerNet\\jersey-2023\\processed_data\\challenge\\91\\features.npy\n",
      "2025-04-05 15:06:13 [INFO] Identifying and removing outliers by calling gaussian_outliers.py on feature file\n",
      "2025-04-05 15:06:15 [INFO] Median vs. average vs. max of raw outputs (thresh=0.5): 0.0030174299608916044, 0.04903406715037109, 0.9647483229637146\n",
      "2025-04-05 15:06:15 [INFO] Median vs. average vs. max of kept outputs (thresh=0.5): 0.870695173740387, 0.8406093468268713, 0.9647483229637146\n",
      "2025-04-05 15:06:16 [INFO] Tracklet 88 is legible.\n",
      "2025-04-05 15:06:16 [INFO] Saving legible_tracklets to: c:\\Users\\colin\\OneDrive\\Desktop\\Jersey-Number-Recognition\\data\\SoccerNet\\jersey-2023\\processed_data\\challenge\\88\\legible_results.json\n",
      "2025-04-05 15:06:16 [INFO] Saved legible_tracklets to: c:\\Users\\colin\\OneDrive\\Desktop\\Jersey-Number-Recognition\\data\\SoccerNet\\jersey-2023\\processed_data\\challenge\\88\\legible_results.json\n",
      "2025-04-05 15:06:16 [INFO] Saving illegible_tracklets to: c:\\Users\\colin\\OneDrive\\Desktop\\Jersey-Number-Recognition\\data\\SoccerNet\\jersey-2023\\processed_data\\challenge\\88\\illegible_results.json\n",
      "2025-04-05 15:06:16 [INFO] Saved illegible_tracklets to: c:\\Users\\colin\\OneDrive\\Desktop\\Jersey-Number-Recognition\\data\\SoccerNet\\jersey-2023\\processed_data\\challenge\\88\\illegible_results.json\n",
      "2025-04-05 15:06:16 [INFO] Legibility classification complete.\n",
      "2025-04-05 15:06:16 [INFO] Processed tracklet: 88\n"
     ]
    },
    {
     "name": "stderr",
     "output_type": "stream",
     "text": [
      "Lightning automatically upgraded your loaded checkpoint from v1.1.4 to v2.5.0.post0. To apply the upgrade to your files permanently, run `python -m pytorch_lightning.utilities.upgrade_checkpoint c:\\Users\\colin\\OneDrive\\Desktop\\Jersey-Number-Recognition\\data\\pre_trained_models\\reid\\dukemtmcreid_resnet50_256_128_epoch_120.ckpt`\n"
     ]
    },
    {
     "name": "stdout",
     "output_type": "stream",
     "text": [
      "2025-04-05 15:06:18 [INFO] Saved features for tracklet with shape (156, 2048) to c:\\Users\\colin\\OneDrive\\Desktop\\Jersey-Number-Recognition\\data\\SoccerNet\\jersey-2023\\processed_data\\challenge\\92\\features.npy\n",
      "2025-04-05 15:06:18 [INFO] Identifying and removing outliers by calling gaussian_outliers.py on feature file\n",
      "2025-04-05 15:06:18 [INFO] Saved features for tracklet with shape (141, 2048) to c:\\Users\\colin\\OneDrive\\Desktop\\Jersey-Number-Recognition\\data\\SoccerNet\\jersey-2023\\processed_data\\challenge\\93\\features.npy\n",
      "2025-04-05 15:06:18 [INFO] Identifying and removing outliers by calling gaussian_outliers.py on feature file\n",
      "2025-04-05 15:06:18 [INFO] Saved features for tracklet with shape (140, 2048) to c:\\Users\\colin\\OneDrive\\Desktop\\Jersey-Number-Recognition\\data\\SoccerNet\\jersey-2023\\processed_data\\challenge\\94\\features.npy\n",
      "2025-04-05 15:06:18 [INFO] Identifying and removing outliers by calling gaussian_outliers.py on feature file\n",
      "2025-04-05 15:06:22 [INFO] Saved features for tracklet with shape (137, 2048) to c:\\Users\\colin\\OneDrive\\Desktop\\Jersey-Number-Recognition\\data\\SoccerNet\\jersey-2023\\processed_data\\challenge\\95\\features.npy\n",
      "2025-04-05 15:06:22 [INFO] Identifying and removing outliers by calling gaussian_outliers.py on feature file\n",
      "2025-04-05 15:06:26 [INFO] Median vs. average vs. max of raw outputs (thresh=0.5): 0.014103731140494347, 0.2568929711295423, 0.9995455145835876\n",
      "2025-04-05 15:06:26 [INFO] Median vs. average vs. max of kept outputs (thresh=0.5): 0.964686244726181, 0.8715343097252632, 0.9995455145835876\n",
      "2025-04-05 15:06:26 [INFO] Tracklet 89 is legible.\n",
      "2025-04-05 15:06:26 [INFO] Saving legible_tracklets to: c:\\Users\\colin\\OneDrive\\Desktop\\Jersey-Number-Recognition\\data\\SoccerNet\\jersey-2023\\processed_data\\challenge\\89\\legible_results.json\n",
      "2025-04-05 15:06:26 [INFO] Saved legible_tracklets to: c:\\Users\\colin\\OneDrive\\Desktop\\Jersey-Number-Recognition\\data\\SoccerNet\\jersey-2023\\processed_data\\challenge\\89\\legible_results.json\n",
      "2025-04-05 15:06:26 [INFO] Saving illegible_tracklets to: c:\\Users\\colin\\OneDrive\\Desktop\\Jersey-Number-Recognition\\data\\SoccerNet\\jersey-2023\\processed_data\\challenge\\89\\illegible_results.json\n",
      "2025-04-05 15:06:26 [INFO] Saved illegible_tracklets to: c:\\Users\\colin\\OneDrive\\Desktop\\Jersey-Number-Recognition\\data\\SoccerNet\\jersey-2023\\processed_data\\challenge\\89\\illegible_results.json\n",
      "2025-04-05 15:06:26 [INFO] Legibility classification complete.\n",
      "2025-04-05 15:06:26 [INFO] Processed tracklet: 89\n",
      "2025-04-05 15:06:26 [INFO] Median vs. average vs. max of raw outputs (thresh=0.5): 0.050923263654112816, 0.4300700344833648, 0.9984360337257385\n",
      "2025-04-05 15:06:26 [INFO] Median vs. average vs. max of kept outputs (thresh=0.5): 0.9833029508590698, 0.9449947969666843, 0.9984360337257385\n",
      "2025-04-05 15:06:26 [INFO] Tracklet 90 is legible.\n",
      "2025-04-05 15:06:26 [INFO] Saving legible_tracklets to: c:\\Users\\colin\\OneDrive\\Desktop\\Jersey-Number-Recognition\\data\\SoccerNet\\jersey-2023\\processed_data\\challenge\\90\\legible_results.json\n",
      "2025-04-05 15:06:26 [INFO] Saved legible_tracklets to: c:\\Users\\colin\\OneDrive\\Desktop\\Jersey-Number-Recognition\\data\\SoccerNet\\jersey-2023\\processed_data\\challenge\\90\\legible_results.json\n",
      "2025-04-05 15:06:26 [INFO] Saving illegible_tracklets to: c:\\Users\\colin\\OneDrive\\Desktop\\Jersey-Number-Recognition\\data\\SoccerNet\\jersey-2023\\processed_data\\challenge\\90\\illegible_results.json\n",
      "2025-04-05 15:06:26 [INFO] Saved illegible_tracklets to: c:\\Users\\colin\\OneDrive\\Desktop\\Jersey-Number-Recognition\\data\\SoccerNet\\jersey-2023\\processed_data\\challenge\\90\\illegible_results.json\n",
      "2025-04-05 15:06:26 [INFO] Legibility classification complete.\n",
      "2025-04-05 15:06:26 [INFO] Processed tracklet: 90\n",
      "2025-04-05 15:06:30 [INFO] 2025-04-05 15:06:29 [INFO] Threshold for standard deviation: 3.5, rounds: 3\n",
      "2025-04-05 15:06:29 [INFO] Round 1: Excluded 1 outliers\n",
      "2025-04-05 15:06:29 [INFO] Excluded images: ['91_216.jpg']\n",
      "2025-04-05 15:06:29 [INFO] Round 2: Excluded 1 outliers\n",
      "2025-04-05 15:06:29 [INFO] Excluded images: ['91_216.jpg']\n",
      "2025-04-05 15:06:29 [INFO] Round 3: Excluded 1 outliers\n",
      "2025-04-05 15:06:29 [INFO] Excluded images: ['91_216.jpg']\n",
      "\n",
      "2025-04-05 15:06:30 [ERROR] \n",
      "2025-04-05 15:06:30 [INFO] Done removing outliers\n",
      "2025-04-05 15:06:30 [INFO] Running model chain on preprocessed image(s).\n",
      "2025-04-05 15:06:30 [INFO] Classifying legibility of image(s) using pre-trained model.\n",
      "2025-04-05 15:06:32 [INFO] 2025-04-05 15:06:31 [INFO] Threshold for standard deviation: 3.5, rounds: 3\n",
      "2025-04-05 15:06:31 [INFO] Round 1: Excluded 1 outliers\n",
      "2025-04-05 15:06:31 [INFO] Excluded images: ['92_255.jpg']\n",
      "2025-04-05 15:06:31 [INFO] Round 2: Excluded 1 outliers\n",
      "2025-04-05 15:06:31 [INFO] Excluded images: ['92_255.jpg']\n",
      "2025-04-05 15:06:31 [INFO] Round 3: Excluded 1 outliers\n",
      "2025-04-05 15:06:31 [INFO] Excluded images: ['92_255.jpg']\n",
      "\n",
      "2025-04-05 15:06:32 [ERROR] \n",
      "2025-04-05 15:06:32 [INFO] Done removing outliers\n",
      "2025-04-05 15:06:32 [INFO] Running model chain on preprocessed image(s).\n",
      "2025-04-05 15:06:32 [INFO] Classifying legibility of image(s) using pre-trained model.\n",
      "2025-04-05 15:06:33 [INFO] 2025-04-05 15:06:31 [INFO] Threshold for standard deviation: 3.5, rounds: 3\n",
      "2025-04-05 15:06:31 [INFO] Round 1: Excluded 1 outliers\n",
      "2025-04-05 15:06:31 [INFO] Excluded images: ['94_611.jpg']\n",
      "2025-04-05 15:06:31 [INFO] Round 2: Excluded 1 outliers\n",
      "2025-04-05 15:06:31 [INFO] Excluded images: ['94_611.jpg']\n",
      "2025-04-05 15:06:31 [INFO] Round 3: Excluded 1 outliers\n",
      "2025-04-05 15:06:31 [INFO] Excluded images: ['94_611.jpg']\n",
      "\n",
      "2025-04-05 15:06:33 [ERROR] \n",
      "2025-04-05 15:06:33 [INFO] Done removing outliers\n",
      "2025-04-05 15:06:33 [INFO] Running model chain on preprocessed image(s).\n",
      "2025-04-05 15:06:33 [INFO] Classifying legibility of image(s) using pre-trained model.\n",
      "2025-04-05 15:06:33 [INFO] 2025-04-05 15:06:31 [INFO] Threshold for standard deviation: 3.5, rounds: 3\n",
      "2025-04-05 15:06:31 [INFO] Round 1: Excluded 0 outliers\n",
      "2025-04-05 15:06:31 [INFO] Excluded images: []\n",
      "2025-04-05 15:06:31 [INFO] Round 2: Excluded 0 outliers\n",
      "2025-04-05 15:06:31 [INFO] Excluded images: []\n",
      "2025-04-05 15:06:31 [INFO] Round 3: Excluded 0 outliers\n",
      "2025-04-05 15:06:31 [INFO] Excluded images: []\n",
      "\n",
      "2025-04-05 15:06:33 [ERROR] \n",
      "2025-04-05 15:06:33 [INFO] Done removing outliers\n",
      "2025-04-05 15:06:33 [INFO] Running model chain on preprocessed image(s).\n",
      "2025-04-05 15:06:33 [INFO] Classifying legibility of image(s) using pre-trained model.\n",
      "2025-04-05 15:06:35 [INFO] 2025-04-05 15:06:34 [INFO] Threshold for standard deviation: 3.5, rounds: 3\n",
      "2025-04-05 15:06:34 [INFO] Round 1: Excluded 2 outliers\n",
      "2025-04-05 15:06:34 [INFO] Excluded images: ['95_614.jpg', '95_750.jpg']\n",
      "2025-04-05 15:06:34 [INFO] Round 2: Excluded 2 outliers\n",
      "2025-04-05 15:06:34 [INFO] Excluded images: ['95_614.jpg', '95_750.jpg']\n",
      "2025-04-05 15:06:34 [INFO] Round 3: Excluded 2 outliers\n",
      "2025-04-05 15:06:34 [INFO] Excluded images: ['95_614.jpg', '95_750.jpg']\n",
      "\n",
      "2025-04-05 15:06:35 [ERROR] \n",
      "2025-04-05 15:06:35 [INFO] Done removing outliers\n",
      "2025-04-05 15:06:35 [INFO] Running model chain on preprocessed image(s).\n",
      "2025-04-05 15:06:35 [INFO] Classifying legibility of image(s) using pre-trained model.\n",
      "2025-04-05 15:06:44 [INFO] Median vs. average vs. max of raw outputs (thresh=0.5): 0.0010812495602294803, 0.0020014404346390315, 0.020297640934586525\n",
      "2025-04-05 15:06:44 [INFO] Median vs. average vs. max of kept outputs (thresh=0.5): 0.0, 0.0, 0.0\n",
      "2025-04-05 15:06:44 [INFO] Tracklet 91 is illegible.\n",
      "2025-04-05 15:06:44 [INFO] Saving legible_tracklets to: c:\\Users\\colin\\OneDrive\\Desktop\\Jersey-Number-Recognition\\data\\SoccerNet\\jersey-2023\\processed_data\\challenge\\91\\legible_results.json\n",
      "2025-04-05 15:06:44 [INFO] Saved legible_tracklets to: c:\\Users\\colin\\OneDrive\\Desktop\\Jersey-Number-Recognition\\data\\SoccerNet\\jersey-2023\\processed_data\\challenge\\91\\legible_results.json\n",
      "2025-04-05 15:06:44 [INFO] Saving illegible_tracklets to: c:\\Users\\colin\\OneDrive\\Desktop\\Jersey-Number-Recognition\\data\\SoccerNet\\jersey-2023\\processed_data\\challenge\\91\\illegible_results.json\n",
      "2025-04-05 15:06:44 [INFO] Saved illegible_tracklets to: c:\\Users\\colin\\OneDrive\\Desktop\\Jersey-Number-Recognition\\data\\SoccerNet\\jersey-2023\\processed_data\\challenge\\91\\illegible_results.json\n",
      "2025-04-05 15:06:44 [INFO] Legibility classification complete.\n",
      "2025-04-05 15:06:44 [INFO] Processed tracklet: 91\n",
      "2025-04-05 15:06:50 [INFO] Median vs. average vs. max of raw outputs (thresh=0.5): 0.003084043972194195, 0.16846516552163407, 0.9794241189956665\n",
      "2025-04-05 15:06:50 [INFO] Median vs. average vs. max of kept outputs (thresh=0.5): 0.9180561602115631, 0.8565514500324543, 0.9794241189956665\n",
      "2025-04-05 15:06:50 [INFO] Tracklet 92 is legible.\n",
      "2025-04-05 15:06:50 [INFO] Saving legible_tracklets to: c:\\Users\\colin\\OneDrive\\Desktop\\Jersey-Number-Recognition\\data\\SoccerNet\\jersey-2023\\processed_data\\challenge\\92\\legible_results.json\n",
      "2025-04-05 15:06:50 [INFO] Saved legible_tracklets to: c:\\Users\\colin\\OneDrive\\Desktop\\Jersey-Number-Recognition\\data\\SoccerNet\\jersey-2023\\processed_data\\challenge\\92\\legible_results.json\n",
      "2025-04-05 15:06:50 [INFO] Saving illegible_tracklets to: c:\\Users\\colin\\OneDrive\\Desktop\\Jersey-Number-Recognition\\data\\SoccerNet\\jersey-2023\\processed_data\\challenge\\92\\illegible_results.json\n",
      "2025-04-05 15:06:50 [INFO] Saved illegible_tracklets to: c:\\Users\\colin\\OneDrive\\Desktop\\Jersey-Number-Recognition\\data\\SoccerNet\\jersey-2023\\processed_data\\challenge\\92\\illegible_results.json\n",
      "2025-04-05 15:06:50 [INFO] Legibility classification complete.\n",
      "2025-04-05 15:06:50 [INFO] Processed tracklet: 92\n",
      "2025-04-05 15:06:51 [INFO] Median vs. average vs. max of raw outputs (thresh=0.5): 0.001994427992030978, 0.0029994283375462598, 0.025075195357203484\n",
      "2025-04-05 15:06:51 [INFO] Median vs. average vs. max of kept outputs (thresh=0.5): 0.0, 0.0, 0.0\n",
      "2025-04-05 15:06:51 [INFO] Tracklet 94 is illegible.\n",
      "2025-04-05 15:06:51 [INFO] Saving legible_tracklets to: c:\\Users\\colin\\OneDrive\\Desktop\\Jersey-Number-Recognition\\data\\SoccerNet\\jersey-2023\\processed_data\\challenge\\94\\legible_results.json\n",
      "2025-04-05 15:06:51 [INFO] Saved legible_tracklets to: c:\\Users\\colin\\OneDrive\\Desktop\\Jersey-Number-Recognition\\data\\SoccerNet\\jersey-2023\\processed_data\\challenge\\94\\legible_results.json\n",
      "2025-04-05 15:06:51 [INFO] Saving illegible_tracklets to: c:\\Users\\colin\\OneDrive\\Desktop\\Jersey-Number-Recognition\\data\\SoccerNet\\jersey-2023\\processed_data\\challenge\\94\\illegible_results.json\n",
      "2025-04-05 15:06:51 [INFO] Saved illegible_tracklets to: c:\\Users\\colin\\OneDrive\\Desktop\\Jersey-Number-Recognition\\data\\SoccerNet\\jersey-2023\\processed_data\\challenge\\94\\illegible_results.json\n",
      "2025-04-05 15:06:51 [INFO] Legibility classification complete.\n",
      "2025-04-05 15:06:51 [INFO] Processed tracklet: 94\n",
      "2025-04-05 15:06:51 [INFO] Median vs. average vs. max of raw outputs (thresh=0.5): 0.005711829289793968, 0.007344373441978311, 0.08120550215244293\n",
      "2025-04-05 15:06:51 [INFO] Median vs. average vs. max of kept outputs (thresh=0.5): 0.0, 0.0, 0.0\n",
      "2025-04-05 15:06:51 [INFO] Tracklet 93 is illegible.\n",
      "2025-04-05 15:06:51 [INFO] Saving legible_tracklets to: c:\\Users\\colin\\OneDrive\\Desktop\\Jersey-Number-Recognition\\data\\SoccerNet\\jersey-2023\\processed_data\\challenge\\93\\legible_results.json\n",
      "2025-04-05 15:06:51 [INFO] Saved legible_tracklets to: c:\\Users\\colin\\OneDrive\\Desktop\\Jersey-Number-Recognition\\data\\SoccerNet\\jersey-2023\\processed_data\\challenge\\93\\legible_results.json\n",
      "2025-04-05 15:06:51 [INFO] Saving illegible_tracklets to: c:\\Users\\colin\\OneDrive\\Desktop\\Jersey-Number-Recognition\\data\\SoccerNet\\jersey-2023\\processed_data\\challenge\\93\\illegible_results.json\n",
      "2025-04-05 15:06:51 [INFO] Saved illegible_tracklets to: c:\\Users\\colin\\OneDrive\\Desktop\\Jersey-Number-Recognition\\data\\SoccerNet\\jersey-2023\\processed_data\\challenge\\93\\illegible_results.json\n",
      "2025-04-05 15:06:51 [INFO] Legibility classification complete.\n",
      "2025-04-05 15:06:51 [INFO] Processed tracklet: 93\n",
      "2025-04-05 15:06:51 [INFO] Median vs. average vs. max of raw outputs (thresh=0.5): 0.0031427759677171707, 0.012145482125278148, 0.18683075904846191\n",
      "2025-04-05 15:06:51 [INFO] Median vs. average vs. max of kept outputs (thresh=0.5): 0.0, 0.0, 0.0\n",
      "2025-04-05 15:06:51 [INFO] Tracklet 95 is illegible.\n",
      "2025-04-05 15:06:51 [INFO] Saving legible_tracklets to: c:\\Users\\colin\\OneDrive\\Desktop\\Jersey-Number-Recognition\\data\\SoccerNet\\jersey-2023\\processed_data\\challenge\\95\\legible_results.json\n",
      "2025-04-05 15:06:52 [INFO] Saved legible_tracklets to: c:\\Users\\colin\\OneDrive\\Desktop\\Jersey-Number-Recognition\\data\\SoccerNet\\jersey-2023\\processed_data\\challenge\\95\\legible_results.json\n",
      "2025-04-05 15:06:52 [INFO] Saving illegible_tracklets to: c:\\Users\\colin\\OneDrive\\Desktop\\Jersey-Number-Recognition\\data\\SoccerNet\\jersey-2023\\processed_data\\challenge\\95\\illegible_results.json\n",
      "2025-04-05 15:06:52 [INFO] Saved illegible_tracklets to: c:\\Users\\colin\\OneDrive\\Desktop\\Jersey-Number-Recognition\\data\\SoccerNet\\jersey-2023\\processed_data\\challenge\\95\\illegible_results.json\n",
      "2025-04-05 15:06:52 [INFO] Legibility classification complete.\n",
      "2025-04-05 15:06:52 [INFO] Processed tracklet: 95\n",
      "2025-04-05 15:06:52 [INFO] Using double parallelization: multiprocessing + CUDA batch processing.\n"
     ]
    },
    {
     "data": {
      "application/vnd.jupyter.widget-view+json": {
       "model_id": "c4e3a556671c4f409bfca3c8082460a0",
       "version_major": 2,
       "version_minor": 0
      },
      "text/plain": [
       "Processing tracklets (CUDA + CPU):   0%|          | 0/32 [00:00<?, ?it/s]"
      ]
     },
     "metadata": {},
     "output_type": "display_data"
    },
    {
     "name": "stdout",
     "output_type": "stream",
     "text": [
      "2025-04-05 15:07:44 [INFO] Creating placeholder data files for Soccer Ball Filter.\n"
     ]
    },
    {
     "data": {
      "application/vnd.jupyter.widget-view+json": {
       "model_id": "c2166e8031ae44e3b30efa577624e5ff",
       "version_major": 2,
       "version_minor": 0
      },
      "text/plain": [
       "Processing Batch Tracklets (96-128):   0%|          | 0/32 [00:00<?, ?it/s]"
      ]
     },
     "metadata": {},
     "output_type": "display_data"
    },
    {
     "name": "stderr",
     "output_type": "stream",
     "text": [
      "Lightning automatically upgraded your loaded checkpoint from v1.1.4 to v2.5.0.post0. To apply the upgrade to your files permanently, run `python -m pytorch_lightning.utilities.upgrade_checkpoint c:\\Users\\colin\\OneDrive\\Desktop\\Jersey-Number-Recognition\\data\\pre_trained_models\\reid\\dukemtmcreid_resnet50_256_128_epoch_120.ckpt`\n",
      "Lightning automatically upgraded your loaded checkpoint from v1.1.4 to v2.5.0.post0. To apply the upgrade to your files permanently, run `python -m pytorch_lightning.utilities.upgrade_checkpoint c:\\Users\\colin\\OneDrive\\Desktop\\Jersey-Number-Recognition\\data\\pre_trained_models\\reid\\dukemtmcreid_resnet50_256_128_epoch_120.ckpt`\n",
      "Lightning automatically upgraded your loaded checkpoint from v1.1.4 to v2.5.0.post0. To apply the upgrade to your files permanently, run `python -m pytorch_lightning.utilities.upgrade_checkpoint c:\\Users\\colin\\OneDrive\\Desktop\\Jersey-Number-Recognition\\data\\pre_trained_models\\reid\\dukemtmcreid_resnet50_256_128_epoch_120.ckpt`\n",
      "Lightning automatically upgraded your loaded checkpoint from v1.1.4 to v2.5.0.post0. To apply the upgrade to your files permanently, run `python -m pytorch_lightning.utilities.upgrade_checkpoint c:\\Users\\colin\\OneDrive\\Desktop\\Jersey-Number-Recognition\\data\\pre_trained_models\\reid\\dukemtmcreid_resnet50_256_128_epoch_120.ckpt`\n",
      "Lightning automatically upgraded your loaded checkpoint from v1.1.4 to v2.5.0.post0. To apply the upgrade to your files permanently, run `python -m pytorch_lightning.utilities.upgrade_checkpoint c:\\Users\\colin\\OneDrive\\Desktop\\Jersey-Number-Recognition\\data\\pre_trained_models\\reid\\dukemtmcreid_resnet50_256_128_epoch_120.ckpt`\n",
      "Lightning automatically upgraded your loaded checkpoint from v1.1.4 to v2.5.0.post0. To apply the upgrade to your files permanently, run `python -m pytorch_lightning.utilities.upgrade_checkpoint c:\\Users\\colin\\OneDrive\\Desktop\\Jersey-Number-Recognition\\data\\pre_trained_models\\reid\\dukemtmcreid_resnet50_256_128_epoch_120.ckpt`\n",
      "Lightning automatically upgraded your loaded checkpoint from v1.1.4 to v2.5.0.post0. To apply the upgrade to your files permanently, run `python -m pytorch_lightning.utilities.upgrade_checkpoint c:\\Users\\colin\\OneDrive\\Desktop\\Jersey-Number-Recognition\\data\\pre_trained_models\\reid\\dukemtmcreid_resnet50_256_128_epoch_120.ckpt`\n"
     ]
    },
    {
     "name": "stdout",
     "output_type": "stream",
     "text": [
      "2025-04-05 15:08:14 [INFO] Saved features for tracklet with shape (416, 2048) to c:\\Users\\colin\\OneDrive\\Desktop\\Jersey-Number-Recognition\\data\\SoccerNet\\jersey-2023\\processed_data\\challenge\\96\\features.npy\n",
      "2025-04-05 15:08:14 [INFO] Identifying and removing outliers by calling gaussian_outliers.py on feature file\n",
      "2025-04-05 15:08:14 [INFO] Saved features for tracklet with shape (378, 2048) to c:\\Users\\colin\\OneDrive\\Desktop\\Jersey-Number-Recognition\\data\\SoccerNet\\jersey-2023\\processed_data\\challenge\\101\\features.npy\n",
      "2025-04-05 15:08:14 [INFO] Identifying and removing outliers by calling gaussian_outliers.py on feature file\n"
     ]
    }
   ],
   "source": [
    "pipeline.run_soccernet(\n",
    "  run_soccer_ball_filter=False,\n",
    "  generate_features=True,\n",
    "  run_filter=True,\n",
    "  run_legible=True,\n",
    "  run_legible_eval=False,\n",
    "  run_pose=False,\n",
    "  run_crops=False,\n",
    "  run_str=False,\n",
    "  run_combine=False,\n",
    "  run_eval=False,\n",
    "  use_clip4str=True,\n",
    "  pyscript=False,\n",
    "  )\n",
    "#pipeline.aggregate_str_results()"
   ]
  }
 ],
 "metadata": {
  "kernelspec": {
   "display_name": "UBC",
   "language": "python",
   "name": "python3"
  },
  "language_info": {
   "codemirror_mode": {
    "name": "ipython",
    "version": 3
   },
   "file_extension": ".py",
   "mimetype": "text/x-python",
   "name": "python",
   "nbconvert_exporter": "python",
   "pygments_lexer": "ipython3",
   "version": "3.13.1"
  }
 },
 "nbformat": 4,
 "nbformat_minor": 5
}
